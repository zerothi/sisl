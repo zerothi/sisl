{
 "cells": [
  {
   "cell_type": "markdown",
   "metadata": {
    "tags": [
     "notebook-header"
    ]
   },
   "source": [
    "[![GitHub issues by-label](https://img.shields.io/github/issues-raw/pfebrer/sisl/AtomicmatrixPlot?style=for-the-badge)](https://github.com/pfebrer/sisl/labels/AtomicMatrixPlot)"
   ]
  },
  {
   "cell_type": "markdown",
   "metadata": {},
   "source": [
    "AtomicMatrixPlot\n",
    "=========\n",
    "\n",
    "`AtomicMatrixPlot` allows you to visualize sparse matrices. This can help you:\n",
    "\n",
    "- **Understand sparse matrices better**, if you are new to them.\n",
    "- Easily **introspect matrices** to debug or understand how to implement new functionality."
   ]
  },
  {
   "cell_type": "code",
   "execution_count": 1,
   "metadata": {
    "execution": {
     "iopub.execute_input": "2025-10-08T13:16:14.678425Z",
     "iopub.status.busy": "2025-10-08T13:16:14.678247Z",
     "iopub.status.idle": "2025-10-08T13:16:15.591084Z",
     "shell.execute_reply": "2025-10-08T13:16:15.590492Z"
    }
   },
   "outputs": [],
   "source": [
    "import sisl\n",
    "\n",
    "import numpy as np"
   ]
  },
  {
   "cell_type": "markdown",
   "metadata": {},
   "source": [
    "Let's create a toy **Hamiltonian** that we will play with. We will use a chain with two atoms: \n",
    "\n",
    "  - C: With one s orbital and a set of p orbitals.\n",
    "  - H: With one s orbital."
   ]
  },
  {
   "cell_type": "code",
   "execution_count": 2,
   "metadata": {
    "execution": {
     "iopub.execute_input": "2025-10-08T13:16:15.593164Z",
     "iopub.status.busy": "2025-10-08T13:16:15.592865Z",
     "iopub.status.idle": "2025-10-08T13:16:15.616529Z",
     "shell.execute_reply": "2025-10-08T13:16:15.616048Z"
    }
   },
   "outputs": [],
   "source": [
    "# Create a C atom with s and p orbitals\n",
    "C = sisl.Atom(\n",
    "    \"C\",\n",
    "    orbitals=[\n",
    "        sisl.AtomicOrbital(\"2s\", R=0.8),\n",
    "        sisl.AtomicOrbital(\"2py\", R=0.8),\n",
    "        sisl.AtomicOrbital(\"2pz\", R=0.8),\n",
    "        sisl.AtomicOrbital(\"2px\", R=0.8),\n",
    "    ],\n",
    ")\n",
    "\n",
    "# Create a H atom with one s orbital\n",
    "H = sisl.Atom(\"H\", orbitals=[sisl.AtomicOrbital(\"1s\", R=0.4)])\n",
    "\n",
    "# Create a chain along X\n",
    "geom = sisl.Geometry(\n",
    "    [[0, 0, 0], [1, 0, 0]],\n",
    "    atoms=[C, H],\n",
    "    lattice=sisl.Lattice([2, 10, 10], nsc=[3, 1, 1]),\n",
    ")\n",
    "\n",
    "# Random Hamiltonian with non-zero elements only for orbitals that overlap\n",
    "H = sisl.Hamiltonian(geom)\n",
    "for i in range(geom.no):\n",
    "    for j in range(geom.no * 3):\n",
    "        dist = geom.rij(*geom.o2a([i, j]))\n",
    "        if dist < 1.2:\n",
    "            H[i, j] = (np.random.random() - 0.5) * (1 if j < geom.no else 0.2)\n",
    "# Symmetrize it to make it more realistic\n",
    "H = H + H.transpose()"
   ]
  },
  {
   "cell_type": "markdown",
   "metadata": {},
   "source": [
    "## Matrix as an image\n",
    "\n",
    "The default mode of `AtomicMatrixPlot` is simply to plot an image where the values of the matrix are encoded as colors:"
   ]
  },
  {
   "cell_type": "code",
   "execution_count": 3,
   "metadata": {
    "execution": {
     "iopub.execute_input": "2025-10-08T13:16:15.618188Z",
     "iopub.status.busy": "2025-10-08T13:16:15.618012Z",
     "iopub.status.idle": "2025-10-08T13:16:16.424348Z",
     "shell.execute_reply": "2025-10-08T13:16:16.423760Z"
    }
   },
   "outputs": [
    {
     "data": {
      "text/html": [
       "        <script type=\"text/javascript\">\n",
       "        window.PlotlyConfig = {MathJaxConfig: 'local'};\n",
       "        if (window.MathJax && window.MathJax.Hub && window.MathJax.Hub.Config) {window.MathJax.Hub.Config({SVG: {font: \"STIX-Web\"}});}\n",
       "        </script>\n",
       "        <script type=\"module\">import \"https://cdn.plot.ly/plotly-3.1.1.min\"</script>\n",
       "        "
      ]
     },
     "metadata": {},
     "output_type": "display_data"
    },
    {
     "data": {
      "text/html": [
       "<div>            <script src=\"https://cdnjs.cloudflare.com/ajax/libs/mathjax/2.7.5/MathJax.js?config=TeX-AMS-MML_SVG\"></script><script type=\"text/javascript\">if (window.MathJax && window.MathJax.Hub && window.MathJax.Hub.Config) {window.MathJax.Hub.Config({SVG: {font: \"STIX-Web\"}});}</script>                <script type=\"text/javascript\">window.PlotlyConfig = {MathJaxConfig: 'local'};</script>\n",
       "        <script charset=\"utf-8\" src=\"https://cdn.plot.ly/plotly-3.1.1.min.js\" integrity=\"sha256-HUEFyfiTnZJxCxur99FjbKYTvKSzwDaD3/x5TqHpFu4=\" crossorigin=\"anonymous\"></script>                <div id=\"e07275d4-f9df-44eb-84a9-5d8413862871\" class=\"plotly-graph-div\" style=\"height:525px; width:100%;\"></div>            <script type=\"text/javascript\">                window.PLOTLYENV=window.PLOTLYENV || {};                                if (document.getElementById(\"e07275d4-f9df-44eb-84a9-5d8413862871\")) {                    Plotly.newPlot(                        \"e07275d4-f9df-44eb-84a9-5d8413862871\",                        [{\"coloraxis\":\"coloraxis\",\"meta\":{},\"opacity\":1,\"z\":{\"dtype\":\"f8\",\"bdata\":\"umRqejV65z+EQ4+thvDTv60qyBY3K+I\\u002fAPiGu93tQL+AiWD+94uCvwAAAAAAAPh\\u002fAAAAAAAA+H8AAAAAAAD4fwAAAAAAAPh\\u002fXzKd1rKxsr8AAAAAAAD4fwAAAAAAAPh\\u002fAAAAAAAA+H8AAAAAAAD4fwAAAAAAAPh\\u002fhEOPrYbw078QHTs3bBXvv\\u002fhk+Rx8rMO\\u002fmIdGSAPP0L9gPmzhQkaYvwAAAAAAAPh\\u002fAAAAAAAA+H8AAAAAAAD4fwAAAAAAAPh\\u002fqLrNwoZJsL8AAAAAAAD4fwAAAAAAAPh\\u002fAAAAAAAA+H8AAAAAAAD4fwAAAAAAAPh\\u002frSrIFjcr4j\\u002f4ZPkcfKzDv8QUY\\u002fLMA9O\\u002f9l6GEbFj0j+k4gsHdETCPwAAAAAAAPh\\u002fAAAAAAAA+H8AAAAAAAD4fwAAAAAAAPh\\u002fVrF+gvoowD8AAAAAAAD4fwAAAAAAAPh\\u002fAAAAAAAA+H8AAAAAAAD4fwAAAAAAAPh\\u002fAPiGu93tQL+Yh0ZIA8\\u002fQv\\u002fZehhGxY9I\\u002f7LRAXY6B5r\\u002fIsZRDF2LUvwAAAAAAAPh\\u002fAAAAAAAA+H8AAAAAAAD4fwAAAAAAAPh\\u002fD2\\u002fHfRqyt78AAAAAAAD4fwAAAAAAAPh\\u002fAAAAAAAA+H8AAAAAAAD4fwAAAAAAAPh\\u002fgIlg\\u002fveLgr9gPmzhQkaYv6TiCwd0RMI\\u002fyLGUQxdi1L9w2qtQqOTnvwAAAAAAAPh\\u002fAAAAAAAA+H8AAAAAAAD4fwAAAAAAAPh\\u002fAAAAAAAA+H9fMp3WsrGyv6i6zcKGSbC\\u002fVrF+gvoowD8Pb8d9GrK3vwAAAAAAAPh\\u002f\",\"shape\":\"5, 15\"},\"zsmooth\":false,\"type\":\"heatmap\"}],                        {\"template\":{\"layout\":{\"hovermode\":\"closest\",\"paper_bgcolor\":\"white\",\"plot_bgcolor\":\"white\",\"scene\":{\"xaxis\":{\"color\":\"black\",\"gridcolor\":\"#ccc\",\"gridwidth\":1,\"linewidth\":1,\"mirror\":true,\"showgrid\":false,\"showline\":true,\"ticklen\":5,\"ticks\":\"outside\",\"ticksuffix\":\" \",\"visible\":true,\"zeroline\":false,\"zerolinecolor\":\"#ccc\",\"zerolinewidth\":1},\"yaxis\":{\"color\":\"black\",\"gridcolor\":\"#ccc\",\"gridwidth\":1,\"linewidth\":1,\"mirror\":true,\"showgrid\":false,\"showline\":true,\"ticklen\":5,\"ticks\":\"outside\",\"ticksuffix\":\" \",\"visible\":true,\"zeroline\":false,\"zerolinecolor\":\"#ccc\",\"zerolinewidth\":1},\"zaxis\":{\"color\":\"black\",\"gridcolor\":\"#ccc\",\"gridwidth\":1,\"linewidth\":1,\"mirror\":true,\"showgrid\":false,\"showline\":true,\"ticklen\":5,\"ticks\":\"outside\",\"ticksuffix\":\" \",\"visible\":true,\"zeroline\":false,\"zerolinecolor\":\"#ccc\",\"zerolinewidth\":1}},\"xaxis\":{\"color\":\"black\",\"gridcolor\":\"#ccc\",\"gridwidth\":1,\"linewidth\":1,\"mirror\":true,\"showgrid\":false,\"showline\":true,\"ticklen\":5,\"ticks\":\"outside\",\"ticksuffix\":\" \",\"visible\":true,\"zeroline\":false,\"zerolinecolor\":\"#ccc\",\"zerolinewidth\":1},\"yaxis\":{\"color\":\"black\",\"gridcolor\":\"#ccc\",\"gridwidth\":1,\"linewidth\":1,\"mirror\":true,\"showgrid\":false,\"showline\":true,\"ticklen\":5,\"ticks\":\"outside\",\"ticksuffix\":\" \",\"visible\":true,\"zeroline\":false,\"zerolinecolor\":\"#ccc\",\"zerolinewidth\":1}}},\"coloraxis\":{\"colorscale\":[[0.0,\"rgb(103,0,31)\"],[0.1,\"rgb(178,24,43)\"],[0.2,\"rgb(214,96,77)\"],[0.3,\"rgb(244,165,130)\"],[0.4,\"rgb(253,219,199)\"],[0.5,\"rgb(247,247,247)\"],[0.6,\"rgb(209,229,240)\"],[0.7,\"rgb(146,197,222)\"],[0.8,\"rgb(67,147,195)\"],[0.9,\"rgb(33,102,172)\"],[1.0,\"rgb(5,48,97)\"]],\"cmid\":0,\"showscale\":true},\"xaxis\":{\"scaleanchor\":\"y\",\"scaleratio\":1,\"range\":[-0.5,14.5],\"constrain\":\"domain\"},\"scene\":{\"aspectmode\":\"data\",\"xaxis\":{\"range\":[-0.5,14.5]},\"yaxis\":{\"range\":[4.5,-0.5]}},\"yaxis\":{\"range\":[4.5,-0.5],\"constrain\":\"domain\"}},                        {\"responsive\": true}                    ).then(function(){\n",
       "                            \n",
       "var gd = document.getElementById('e07275d4-f9df-44eb-84a9-5d8413862871');\n",
       "var x = new MutationObserver(function (mutations, observer) {{\n",
       "        var display = window.getComputedStyle(gd).display;\n",
       "        if (!display || display === 'none') {{\n",
       "            console.log([gd, 'removed!']);\n",
       "            Plotly.purge(gd);\n",
       "            observer.disconnect();\n",
       "        }}\n",
       "}});\n",
       "\n",
       "// Listen for the removal of the full notebook cells\n",
       "var notebookContainer = gd.closest('#notebook-container');\n",
       "if (notebookContainer) {{\n",
       "    x.observe(notebookContainer, {childList: true});\n",
       "}}\n",
       "\n",
       "// Listen for the clearing of the current output cell\n",
       "var outputEl = gd.closest('.output');\n",
       "if (outputEl) {{\n",
       "    x.observe(outputEl, {childList: true});\n",
       "}}\n",
       "\n",
       "                        })                };            </script>        </div>"
      ]
     },
     "metadata": {},
     "output_type": "display_data"
    }
   ],
   "source": [
    "plot = H.plot()\n",
    "plot.get()"
   ]
  },
  {
   "cell_type": "markdown",
   "metadata": {},
   "source": [
    "## Changing the colorscale\n",
    "\n",
    "The most obvious thing to tweak here is the colorscale, you can do so by using the `colorscale` input, which, as usual, accepts any colorscale that the plotting backend can understand."
   ]
  },
  {
   "cell_type": "code",
   "execution_count": 4,
   "metadata": {
    "execution": {
     "iopub.execute_input": "2025-10-08T13:16:16.426093Z",
     "iopub.status.busy": "2025-10-08T13:16:16.425910Z",
     "iopub.status.idle": "2025-10-08T13:16:16.512258Z",
     "shell.execute_reply": "2025-10-08T13:16:16.511779Z"
    }
   },
   "outputs": [
    {
     "name": "stderr",
     "output_type": "stream",
     "text": [
      "INFO\tTask(Task-2) nodify.node.140241929927424:node.py:get()- No need to evaluate\n"
     ]
    },
    {
     "name": "stderr",
     "output_type": "stream",
     "text": [
      "INFO\tTask(Task-2) nodify.node.140241931120528:node.py:get()- No need to evaluate\n"
     ]
    },
    {
     "name": "stderr",
     "output_type": "stream",
     "text": [
      "INFO\tTask(Task-2) nodify.node.140241929921088:node.py:get()- No need to evaluate\n"
     ]
    },
    {
     "name": "stderr",
     "output_type": "stream",
     "text": [
      "INFO\tTask(Task-2) nodify.node.140241929922576:node.py:get()- No need to evaluate\n"
     ]
    },
    {
     "name": "stderr",
     "output_type": "stream",
     "text": [
      "INFO\tTask(Task-2) nodify.node.140241929922528:node.py:get()- No need to evaluate\n"
     ]
    },
    {
     "name": "stderr",
     "output_type": "stream",
     "text": [
      "INFO\tTask(Task-2) nodify.node.140241930011184:node.py:get()- No need to evaluate\n"
     ]
    },
    {
     "name": "stderr",
     "output_type": "stream",
     "text": [
      "INFO\tTask(Task-2) nodify.node.140241929924352:node.py:get()- Evaluated because inputs changed.\n"
     ]
    },
    {
     "name": "stderr",
     "output_type": "stream",
     "text": [
      "INFO\tTask(Task-2) nodify.node.140241929924736:node.py:get()- No need to evaluate\n"
     ]
    },
    {
     "name": "stderr",
     "output_type": "stream",
     "text": [
      "INFO\tTask(Task-2) nodify.node.140241931120528:node.py:get()- No need to evaluate\n"
     ]
    },
    {
     "name": "stderr",
     "output_type": "stream",
     "text": [
      "INFO\tTask(Task-2) nodify.node.140241929925120:node.py:get()- No need to evaluate\n"
     ]
    },
    {
     "name": "stderr",
     "output_type": "stream",
     "text": [
      "INFO\tTask(Task-2) nodify.node.140241929924736:node.py:get()- No need to evaluate\n"
     ]
    },
    {
     "name": "stderr",
     "output_type": "stream",
     "text": [
      "INFO\tTask(Task-2) nodify.node.140241930012480:node.py:get()- No need to evaluate\n"
     ]
    },
    {
     "name": "stderr",
     "output_type": "stream",
     "text": [
      "INFO\tTask(Task-2) nodify.node.140241929923968:node.py:get()- No need to evaluate\n"
     ]
    },
    {
     "name": "stderr",
     "output_type": "stream",
     "text": [
      "INFO\tTask(Task-2) nodify.node.140241929925504:node.py:get()- No need to evaluate\n"
     ]
    },
    {
     "name": "stderr",
     "output_type": "stream",
     "text": [
      "INFO\tTask(Task-2) nodify.node.140241929925888:node.py:get()- No need to evaluate\n"
     ]
    },
    {
     "name": "stderr",
     "output_type": "stream",
     "text": [
      "INFO\tTask(Task-2) nodify.node.140241930012384:node.py:get()- Evaluated because inputs changed.\n"
     ]
    },
    {
     "name": "stderr",
     "output_type": "stream",
     "text": [
      "INFO\tTask(Task-2) nodify.node.140241931120528:node.py:get()- No need to evaluate\n"
     ]
    },
    {
     "name": "stderr",
     "output_type": "stream",
     "text": [
      "INFO\tTask(Task-2) nodify.node.140241929921088:node.py:get()- No need to evaluate\n"
     ]
    },
    {
     "name": "stderr",
     "output_type": "stream",
     "text": [
      "INFO\tTask(Task-2) nodify.node.140241929922576:node.py:get()- No need to evaluate\n"
     ]
    },
    {
     "name": "stderr",
     "output_type": "stream",
     "text": [
      "INFO\tTask(Task-2) nodify.node.140241929922528:node.py:get()- No need to evaluate\n"
     ]
    },
    {
     "name": "stderr",
     "output_type": "stream",
     "text": [
      "INFO\tTask(Task-2) nodify.node.140241930011184:node.py:get()- No need to evaluate\n"
     ]
    },
    {
     "name": "stderr",
     "output_type": "stream",
     "text": [
      "INFO\tTask(Task-2) nodify.node.140241929927040:node.py:get()- No need to evaluate\n"
     ]
    },
    {
     "name": "stderr",
     "output_type": "stream",
     "text": [
      "INFO\tTask(Task-2) nodify.node.140241930013152:node.py:get()- No need to evaluate\n"
     ]
    },
    {
     "name": "stderr",
     "output_type": "stream",
     "text": [
      "INFO\tTask(Task-2) nodify.node.140241930012528:node.py:get()- No need to evaluate\n"
     ]
    },
    {
     "name": "stderr",
     "output_type": "stream",
     "text": [
      "INFO\tTask(Task-2) nodify.node.140241929922192:node.py:get()- No need to evaluate\n"
     ]
    },
    {
     "name": "stderr",
     "output_type": "stream",
     "text": [
      "INFO\tTask(Task-2) nodify.node.140241931120528:node.py:get()- No need to evaluate\n"
     ]
    },
    {
     "name": "stderr",
     "output_type": "stream",
     "text": [
      "INFO\tTask(Task-2) nodify.node.140241929922768:node.py:get()- No need to evaluate\n"
     ]
    },
    {
     "name": "stderr",
     "output_type": "stream",
     "text": [
      "INFO\tTask(Task-2) nodify.node.140241929928672:node.py:get()- No need to evaluate\n"
     ]
    },
    {
     "name": "stderr",
     "output_type": "stream",
     "text": [
      "INFO\tTask(Task-2) nodify.node.140241931120528:node.py:get()- No need to evaluate\n"
     ]
    },
    {
     "name": "stderr",
     "output_type": "stream",
     "text": [
      "INFO\tTask(Task-2) nodify.node.140241930011280:node.py:get()- No need to evaluate\n"
     ]
    },
    {
     "name": "stderr",
     "output_type": "stream",
     "text": [
      "INFO\tTask(Task-2) nodify.node.140241930013200:node.py:get()- No need to evaluate\n"
     ]
    },
    {
     "name": "stderr",
     "output_type": "stream",
     "text": [
      "INFO\tTask(Task-2) nodify.node.140241929923152:node.py:get()- No need to evaluate\n"
     ]
    },
    {
     "name": "stderr",
     "output_type": "stream",
     "text": [
      "INFO\tTask(Task-2) nodify.node.140241931120528:node.py:get()- No need to evaluate\n"
     ]
    },
    {
     "name": "stderr",
     "output_type": "stream",
     "text": [
      "INFO\tTask(Task-2) nodify.node.140241929922768:node.py:get()- No need to evaluate\n"
     ]
    },
    {
     "name": "stderr",
     "output_type": "stream",
     "text": [
      "INFO\tTask(Task-2) nodify.node.140241929928672:node.py:get()- No need to evaluate\n"
     ]
    },
    {
     "name": "stderr",
     "output_type": "stream",
     "text": [
      "INFO\tTask(Task-2) nodify.node.140241931120528:node.py:get()- No need to evaluate\n"
     ]
    },
    {
     "name": "stderr",
     "output_type": "stream",
     "text": [
      "INFO\tTask(Task-2) nodify.node.140241930011280:node.py:get()- No need to evaluate\n"
     ]
    },
    {
     "name": "stderr",
     "output_type": "stream",
     "text": [
      "INFO\tTask(Task-2) nodify.node.140241930013872:node.py:get()- No need to evaluate\n"
     ]
    },
    {
     "name": "stderr",
     "output_type": "stream",
     "text": [
      "INFO\tTask(Task-2) nodify.node.140241929923536:node.py:get()- No need to evaluate\n"
     ]
    },
    {
     "name": "stderr",
     "output_type": "stream",
     "text": [
      "INFO\tTask(Task-2) nodify.node.140241931120528:node.py:get()- No need to evaluate\n"
     ]
    },
    {
     "name": "stderr",
     "output_type": "stream",
     "text": [
      "INFO\tTask(Task-2) nodify.node.140241929922768:node.py:get()- No need to evaluate\n"
     ]
    },
    {
     "name": "stderr",
     "output_type": "stream",
     "text": [
      "INFO\tTask(Task-2) nodify.node.140241929928672:node.py:get()- No need to evaluate\n"
     ]
    },
    {
     "name": "stderr",
     "output_type": "stream",
     "text": [
      "INFO\tTask(Task-2) nodify.node.140241931120528:node.py:get()- No need to evaluate\n"
     ]
    },
    {
     "name": "stderr",
     "output_type": "stream",
     "text": [
      "INFO\tTask(Task-2) nodify.node.140241930011280:node.py:get()- No need to evaluate\n"
     ]
    },
    {
     "name": "stderr",
     "output_type": "stream",
     "text": [
      "INFO\tTask(Task-2) nodify.node.140241930014208:node.py:get()- No need to evaluate\n"
     ]
    },
    {
     "name": "stderr",
     "output_type": "stream",
     "text": [
      "INFO\tTask(Task-2) nodify.node.140241931120528:node.py:get()- No need to evaluate\n"
     ]
    },
    {
     "name": "stderr",
     "output_type": "stream",
     "text": [
      "INFO\tTask(Task-2) nodify.node.140241929921088:node.py:get()- No need to evaluate\n"
     ]
    },
    {
     "name": "stderr",
     "output_type": "stream",
     "text": [
      "INFO\tTask(Task-2) nodify.node.140241929922576:node.py:get()- No need to evaluate\n"
     ]
    },
    {
     "name": "stderr",
     "output_type": "stream",
     "text": [
      "INFO\tTask(Task-2) nodify.node.140241929922528:node.py:get()- No need to evaluate\n"
     ]
    },
    {
     "name": "stderr",
     "output_type": "stream",
     "text": [
      "INFO\tTask(Task-2) nodify.node.140241930011184:node.py:get()- No need to evaluate\n"
     ]
    },
    {
     "name": "stderr",
     "output_type": "stream",
     "text": [
      "INFO\tTask(Task-2) nodify.node.140241931120528:node.py:get()- No need to evaluate\n"
     ]
    },
    {
     "name": "stderr",
     "output_type": "stream",
     "text": [
      "INFO\tTask(Task-2) nodify.node.140241929922768:node.py:get()- No need to evaluate\n"
     ]
    },
    {
     "name": "stderr",
     "output_type": "stream",
     "text": [
      "INFO\tTask(Task-2) nodify.node.140241929928672:node.py:get()- No need to evaluate\n"
     ]
    },
    {
     "name": "stderr",
     "output_type": "stream",
     "text": [
      "INFO\tTask(Task-2) nodify.node.140241931120528:node.py:get()- No need to evaluate\n"
     ]
    },
    {
     "name": "stderr",
     "output_type": "stream",
     "text": [
      "INFO\tTask(Task-2) nodify.node.140241930011280:node.py:get()- No need to evaluate\n"
     ]
    },
    {
     "name": "stderr",
     "output_type": "stream",
     "text": [
      "INFO\tTask(Task-2) nodify.node.140241929926656:node.py:get()- No need to evaluate\n"
     ]
    },
    {
     "name": "stderr",
     "output_type": "stream",
     "text": [
      "INFO\tTask(Task-2) nodify.node.140241929926272:node.py:get()- No need to evaluate\n"
     ]
    },
    {
     "name": "stderr",
     "output_type": "stream",
     "text": [
      "INFO\tTask(Task-2) nodify.node.140241930010992:node.py:get()- No need to evaluate\n"
     ]
    },
    {
     "name": "stderr",
     "output_type": "stream",
     "text": [
      "INFO\tTask(Task-2) nodify.node.140241930011424:node.py:get()- Evaluated because inputs changed.\n"
     ]
    },
    {
     "name": "stderr",
     "output_type": "stream",
     "text": [
      "INFO\tTask(Task-2) nodify.node.140241930014688:node.py:get()- Evaluated because inputs changed.\n"
     ]
    },
    {
     "name": "stderr",
     "output_type": "stream",
     "text": [
      "INFO\tTask(Task-2) nodify.node.140241930015168:node.py:get()- Evaluated because inputs changed.\n"
     ]
    },
    {
     "data": {
      "text/html": [
       "<div>            <script src=\"https://cdnjs.cloudflare.com/ajax/libs/mathjax/2.7.5/MathJax.js?config=TeX-AMS-MML_SVG\"></script><script type=\"text/javascript\">if (window.MathJax && window.MathJax.Hub && window.MathJax.Hub.Config) {window.MathJax.Hub.Config({SVG: {font: \"STIX-Web\"}});}</script>                <script type=\"text/javascript\">window.PlotlyConfig = {MathJaxConfig: 'local'};</script>\n",
       "        <script charset=\"utf-8\" src=\"https://cdn.plot.ly/plotly-3.1.1.min.js\" integrity=\"sha256-HUEFyfiTnZJxCxur99FjbKYTvKSzwDaD3/x5TqHpFu4=\" crossorigin=\"anonymous\"></script>                <div id=\"d3c3e154-d292-4d05-ad78-445497b6320a\" class=\"plotly-graph-div\" style=\"height:525px; width:100%;\"></div>            <script type=\"text/javascript\">                window.PLOTLYENV=window.PLOTLYENV || {};                                if (document.getElementById(\"d3c3e154-d292-4d05-ad78-445497b6320a\")) {                    Plotly.newPlot(                        \"d3c3e154-d292-4d05-ad78-445497b6320a\",                        [{\"coloraxis\":\"coloraxis\",\"meta\":{},\"opacity\":1,\"z\":{\"dtype\":\"f8\",\"bdata\":\"umRqejV65z+EQ4+thvDTv60qyBY3K+I\\u002fAPiGu93tQL+AiWD+94uCvwAAAAAAAPh\\u002fAAAAAAAA+H8AAAAAAAD4fwAAAAAAAPh\\u002fXzKd1rKxsr8AAAAAAAD4fwAAAAAAAPh\\u002fAAAAAAAA+H8AAAAAAAD4fwAAAAAAAPh\\u002fhEOPrYbw078QHTs3bBXvv\\u002fhk+Rx8rMO\\u002fmIdGSAPP0L9gPmzhQkaYvwAAAAAAAPh\\u002fAAAAAAAA+H8AAAAAAAD4fwAAAAAAAPh\\u002fqLrNwoZJsL8AAAAAAAD4fwAAAAAAAPh\\u002fAAAAAAAA+H8AAAAAAAD4fwAAAAAAAPh\\u002frSrIFjcr4j\\u002f4ZPkcfKzDv8QUY\\u002fLMA9O\\u002f9l6GEbFj0j+k4gsHdETCPwAAAAAAAPh\\u002fAAAAAAAA+H8AAAAAAAD4fwAAAAAAAPh\\u002fVrF+gvoowD8AAAAAAAD4fwAAAAAAAPh\\u002fAAAAAAAA+H8AAAAAAAD4fwAAAAAAAPh\\u002fAPiGu93tQL+Yh0ZIA8\\u002fQv\\u002fZehhGxY9I\\u002f7LRAXY6B5r\\u002fIsZRDF2LUvwAAAAAAAPh\\u002fAAAAAAAA+H8AAAAAAAD4fwAAAAAAAPh\\u002fD2\\u002fHfRqyt78AAAAAAAD4fwAAAAAAAPh\\u002fAAAAAAAA+H8AAAAAAAD4fwAAAAAAAPh\\u002fgIlg\\u002fveLgr9gPmzhQkaYv6TiCwd0RMI\\u002fyLGUQxdi1L9w2qtQqOTnvwAAAAAAAPh\\u002fAAAAAAAA+H8AAAAAAAD4fwAAAAAAAPh\\u002fAAAAAAAA+H9fMp3WsrGyv6i6zcKGSbC\\u002fVrF+gvoowD8Pb8d9GrK3vwAAAAAAAPh\\u002f\",\"shape\":\"5, 15\"},\"zsmooth\":false,\"type\":\"heatmap\"}],                        {\"template\":{\"layout\":{\"hovermode\":\"closest\",\"paper_bgcolor\":\"white\",\"plot_bgcolor\":\"white\",\"scene\":{\"xaxis\":{\"color\":\"black\",\"gridcolor\":\"#ccc\",\"gridwidth\":1,\"linewidth\":1,\"mirror\":true,\"showgrid\":false,\"showline\":true,\"ticklen\":5,\"ticks\":\"outside\",\"ticksuffix\":\" \",\"visible\":true,\"zeroline\":false,\"zerolinecolor\":\"#ccc\",\"zerolinewidth\":1},\"yaxis\":{\"color\":\"black\",\"gridcolor\":\"#ccc\",\"gridwidth\":1,\"linewidth\":1,\"mirror\":true,\"showgrid\":false,\"showline\":true,\"ticklen\":5,\"ticks\":\"outside\",\"ticksuffix\":\" \",\"visible\":true,\"zeroline\":false,\"zerolinecolor\":\"#ccc\",\"zerolinewidth\":1},\"zaxis\":{\"color\":\"black\",\"gridcolor\":\"#ccc\",\"gridwidth\":1,\"linewidth\":1,\"mirror\":true,\"showgrid\":false,\"showline\":true,\"ticklen\":5,\"ticks\":\"outside\",\"ticksuffix\":\" \",\"visible\":true,\"zeroline\":false,\"zerolinecolor\":\"#ccc\",\"zerolinewidth\":1}},\"xaxis\":{\"color\":\"black\",\"gridcolor\":\"#ccc\",\"gridwidth\":1,\"linewidth\":1,\"mirror\":true,\"showgrid\":false,\"showline\":true,\"ticklen\":5,\"ticks\":\"outside\",\"ticksuffix\":\" \",\"visible\":true,\"zeroline\":false,\"zerolinecolor\":\"#ccc\",\"zerolinewidth\":1},\"yaxis\":{\"color\":\"black\",\"gridcolor\":\"#ccc\",\"gridwidth\":1,\"linewidth\":1,\"mirror\":true,\"showgrid\":false,\"showline\":true,\"ticklen\":5,\"ticks\":\"outside\",\"ticksuffix\":\" \",\"visible\":true,\"zeroline\":false,\"zerolinecolor\":\"#ccc\",\"zerolinewidth\":1}}},\"coloraxis\":{\"colorscale\":[[0.0,\"rgb(0, 147, 146)\"],[0.16666666666666666,\"rgb(57, 177, 133)\"],[0.3333333333333333,\"rgb(156, 203, 134)\"],[0.5,\"rgb(233, 226, 156)\"],[0.6666666666666666,\"rgb(238, 180, 121)\"],[0.8333333333333334,\"rgb(232, 132, 113)\"],[1.0,\"rgb(207, 89, 126)\"]],\"cmid\":0,\"showscale\":true},\"xaxis\":{\"scaleanchor\":\"y\",\"scaleratio\":1,\"range\":[-0.5,14.5],\"constrain\":\"domain\"},\"scene\":{\"aspectmode\":\"data\",\"xaxis\":{\"range\":[-0.5,14.5]},\"yaxis\":{\"range\":[4.5,-0.5]}},\"yaxis\":{\"range\":[4.5,-0.5],\"constrain\":\"domain\"}},                        {\"responsive\": true}                    ).then(function(){\n",
       "                            \n",
       "var gd = document.getElementById('d3c3e154-d292-4d05-ad78-445497b6320a');\n",
       "var x = new MutationObserver(function (mutations, observer) {{\n",
       "        var display = window.getComputedStyle(gd).display;\n",
       "        if (!display || display === 'none') {{\n",
       "            console.log([gd, 'removed!']);\n",
       "            Plotly.purge(gd);\n",
       "            observer.disconnect();\n",
       "        }}\n",
       "}});\n",
       "\n",
       "// Listen for the removal of the full notebook cells\n",
       "var notebookContainer = gd.closest('#notebook-container');\n",
       "if (notebookContainer) {{\n",
       "    x.observe(notebookContainer, {childList: true});\n",
       "}}\n",
       "\n",
       "// Listen for the clearing of the current output cell\n",
       "var outputEl = gd.closest('.output');\n",
       "if (outputEl) {{\n",
       "    x.observe(outputEl, {childList: true});\n",
       "}}\n",
       "\n",
       "                        })                };            </script>        </div>"
      ]
     },
     "metadata": {},
     "output_type": "display_data"
    }
   ],
   "source": [
    "plot.update_inputs(colorscale=\"temps\")"
   ]
  },
  {
   "cell_type": "markdown",
   "metadata": {},
   "source": [
    "Note how the `temps` colorscale makes it more clear that there are elements of the matrix that are not set (because the matrix is sparse). Those elements are not displayed.\n",
    "\n",
    "The range of colors **by default is set from min to max**. **Unless there are negative and positive values**. In that case, the colorscale is just **centered at 0** by default.\n",
    "\n",
    "However, you can set the `crange` and `cmid` to customize the colorscale as you wish. For example, to center the scale at `0.5`:"
   ]
  },
  {
   "cell_type": "code",
   "execution_count": 5,
   "metadata": {
    "execution": {
     "iopub.execute_input": "2025-10-08T13:16:16.514064Z",
     "iopub.status.busy": "2025-10-08T13:16:16.513870Z",
     "iopub.status.idle": "2025-10-08T13:16:16.601618Z",
     "shell.execute_reply": "2025-10-08T13:16:16.601093Z"
    }
   },
   "outputs": [
    {
     "name": "stderr",
     "output_type": "stream",
     "text": [
      "INFO\tTask(Task-2) nodify.node.140241929927424:node.py:get()- No need to evaluate\n"
     ]
    },
    {
     "name": "stderr",
     "output_type": "stream",
     "text": [
      "INFO\tTask(Task-2) nodify.node.140241931120528:node.py:get()- No need to evaluate\n"
     ]
    },
    {
     "name": "stderr",
     "output_type": "stream",
     "text": [
      "INFO\tTask(Task-2) nodify.node.140241929921088:node.py:get()- No need to evaluate\n"
     ]
    },
    {
     "name": "stderr",
     "output_type": "stream",
     "text": [
      "INFO\tTask(Task-2) nodify.node.140241929922576:node.py:get()- No need to evaluate\n"
     ]
    },
    {
     "name": "stderr",
     "output_type": "stream",
     "text": [
      "INFO\tTask(Task-2) nodify.node.140241929922528:node.py:get()- No need to evaluate\n"
     ]
    },
    {
     "name": "stderr",
     "output_type": "stream",
     "text": [
      "INFO\tTask(Task-2) nodify.node.140241930011184:node.py:get()- No need to evaluate\n"
     ]
    },
    {
     "name": "stderr",
     "output_type": "stream",
     "text": [
      "INFO\tTask(Task-2) nodify.node.140241929924352:node.py:get()- No need to evaluate\n"
     ]
    },
    {
     "name": "stderr",
     "output_type": "stream",
     "text": [
      "INFO\tTask(Task-2) nodify.node.140241929924736:node.py:get()- No need to evaluate\n"
     ]
    },
    {
     "name": "stderr",
     "output_type": "stream",
     "text": [
      "INFO\tTask(Task-2) nodify.node.140241931120528:node.py:get()- No need to evaluate\n"
     ]
    },
    {
     "name": "stderr",
     "output_type": "stream",
     "text": [
      "INFO\tTask(Task-2) nodify.node.140241929925120:node.py:get()- Evaluated because inputs changed.\n"
     ]
    },
    {
     "name": "stderr",
     "output_type": "stream",
     "text": [
      "INFO\tTask(Task-2) nodify.node.140241929924736:node.py:get()- No need to evaluate\n"
     ]
    },
    {
     "name": "stderr",
     "output_type": "stream",
     "text": [
      "INFO\tTask(Task-2) nodify.node.140241930012480:node.py:get()- Evaluated because inputs changed.\n"
     ]
    },
    {
     "name": "stderr",
     "output_type": "stream",
     "text": [
      "INFO\tTask(Task-2) nodify.node.140241929923968:node.py:get()- No need to evaluate\n"
     ]
    },
    {
     "name": "stderr",
     "output_type": "stream",
     "text": [
      "INFO\tTask(Task-2) nodify.node.140241929925504:node.py:get()- No need to evaluate\n"
     ]
    },
    {
     "name": "stderr",
     "output_type": "stream",
     "text": [
      "INFO\tTask(Task-2) nodify.node.140241929925888:node.py:get()- No need to evaluate\n"
     ]
    },
    {
     "name": "stderr",
     "output_type": "stream",
     "text": [
      "INFO\tTask(Task-2) nodify.node.140241930012384:node.py:get()- Evaluated because inputs changed.\n"
     ]
    },
    {
     "name": "stderr",
     "output_type": "stream",
     "text": [
      "INFO\tTask(Task-2) nodify.node.140241931120528:node.py:get()- No need to evaluate\n"
     ]
    },
    {
     "name": "stderr",
     "output_type": "stream",
     "text": [
      "INFO\tTask(Task-2) nodify.node.140241929921088:node.py:get()- No need to evaluate\n"
     ]
    },
    {
     "name": "stderr",
     "output_type": "stream",
     "text": [
      "INFO\tTask(Task-2) nodify.node.140241929922576:node.py:get()- No need to evaluate\n"
     ]
    },
    {
     "name": "stderr",
     "output_type": "stream",
     "text": [
      "INFO\tTask(Task-2) nodify.node.140241929922528:node.py:get()- No need to evaluate\n"
     ]
    },
    {
     "name": "stderr",
     "output_type": "stream",
     "text": [
      "INFO\tTask(Task-2) nodify.node.140241930011184:node.py:get()- No need to evaluate\n"
     ]
    },
    {
     "name": "stderr",
     "output_type": "stream",
     "text": [
      "INFO\tTask(Task-2) nodify.node.140241929927040:node.py:get()- No need to evaluate\n"
     ]
    },
    {
     "name": "stderr",
     "output_type": "stream",
     "text": [
      "INFO\tTask(Task-2) nodify.node.140241930013152:node.py:get()- No need to evaluate\n"
     ]
    },
    {
     "name": "stderr",
     "output_type": "stream",
     "text": [
      "INFO\tTask(Task-2) nodify.node.140241930012528:node.py:get()- No need to evaluate\n"
     ]
    },
    {
     "name": "stderr",
     "output_type": "stream",
     "text": [
      "INFO\tTask(Task-2) nodify.node.140241929922192:node.py:get()- No need to evaluate\n"
     ]
    },
    {
     "name": "stderr",
     "output_type": "stream",
     "text": [
      "INFO\tTask(Task-2) nodify.node.140241931120528:node.py:get()- No need to evaluate\n"
     ]
    },
    {
     "name": "stderr",
     "output_type": "stream",
     "text": [
      "INFO\tTask(Task-2) nodify.node.140241929922768:node.py:get()- No need to evaluate\n"
     ]
    },
    {
     "name": "stderr",
     "output_type": "stream",
     "text": [
      "INFO\tTask(Task-2) nodify.node.140241929928672:node.py:get()- No need to evaluate\n"
     ]
    },
    {
     "name": "stderr",
     "output_type": "stream",
     "text": [
      "INFO\tTask(Task-2) nodify.node.140241931120528:node.py:get()- No need to evaluate\n"
     ]
    },
    {
     "name": "stderr",
     "output_type": "stream",
     "text": [
      "INFO\tTask(Task-2) nodify.node.140241930011280:node.py:get()- No need to evaluate\n"
     ]
    },
    {
     "name": "stderr",
     "output_type": "stream",
     "text": [
      "INFO\tTask(Task-2) nodify.node.140241930013200:node.py:get()- No need to evaluate\n"
     ]
    },
    {
     "name": "stderr",
     "output_type": "stream",
     "text": [
      "INFO\tTask(Task-2) nodify.node.140241929923152:node.py:get()- No need to evaluate\n"
     ]
    },
    {
     "name": "stderr",
     "output_type": "stream",
     "text": [
      "INFO\tTask(Task-2) nodify.node.140241931120528:node.py:get()- No need to evaluate\n"
     ]
    },
    {
     "name": "stderr",
     "output_type": "stream",
     "text": [
      "INFO\tTask(Task-2) nodify.node.140241929922768:node.py:get()- No need to evaluate\n"
     ]
    },
    {
     "name": "stderr",
     "output_type": "stream",
     "text": [
      "INFO\tTask(Task-2) nodify.node.140241929928672:node.py:get()- No need to evaluate\n"
     ]
    },
    {
     "name": "stderr",
     "output_type": "stream",
     "text": [
      "INFO\tTask(Task-2) nodify.node.140241931120528:node.py:get()- No need to evaluate\n"
     ]
    },
    {
     "name": "stderr",
     "output_type": "stream",
     "text": [
      "INFO\tTask(Task-2) nodify.node.140241930011280:node.py:get()- No need to evaluate\n"
     ]
    },
    {
     "name": "stderr",
     "output_type": "stream",
     "text": [
      "INFO\tTask(Task-2) nodify.node.140241930013872:node.py:get()- No need to evaluate\n"
     ]
    },
    {
     "name": "stderr",
     "output_type": "stream",
     "text": [
      "INFO\tTask(Task-2) nodify.node.140241929923536:node.py:get()- No need to evaluate\n"
     ]
    },
    {
     "name": "stderr",
     "output_type": "stream",
     "text": [
      "INFO\tTask(Task-2) nodify.node.140241931120528:node.py:get()- No need to evaluate\n"
     ]
    },
    {
     "name": "stderr",
     "output_type": "stream",
     "text": [
      "INFO\tTask(Task-2) nodify.node.140241929922768:node.py:get()- No need to evaluate\n"
     ]
    },
    {
     "name": "stderr",
     "output_type": "stream",
     "text": [
      "INFO\tTask(Task-2) nodify.node.140241929928672:node.py:get()- No need to evaluate\n"
     ]
    },
    {
     "name": "stderr",
     "output_type": "stream",
     "text": [
      "INFO\tTask(Task-2) nodify.node.140241931120528:node.py:get()- No need to evaluate\n"
     ]
    },
    {
     "name": "stderr",
     "output_type": "stream",
     "text": [
      "INFO\tTask(Task-2) nodify.node.140241930011280:node.py:get()- No need to evaluate\n"
     ]
    },
    {
     "name": "stderr",
     "output_type": "stream",
     "text": [
      "INFO\tTask(Task-2) nodify.node.140241930014208:node.py:get()- No need to evaluate\n"
     ]
    },
    {
     "name": "stderr",
     "output_type": "stream",
     "text": [
      "INFO\tTask(Task-2) nodify.node.140241931120528:node.py:get()- No need to evaluate\n"
     ]
    },
    {
     "name": "stderr",
     "output_type": "stream",
     "text": [
      "INFO\tTask(Task-2) nodify.node.140241929921088:node.py:get()- No need to evaluate\n"
     ]
    },
    {
     "name": "stderr",
     "output_type": "stream",
     "text": [
      "INFO\tTask(Task-2) nodify.node.140241929922576:node.py:get()- No need to evaluate\n"
     ]
    },
    {
     "name": "stderr",
     "output_type": "stream",
     "text": [
      "INFO\tTask(Task-2) nodify.node.140241929922528:node.py:get()- No need to evaluate\n"
     ]
    },
    {
     "name": "stderr",
     "output_type": "stream",
     "text": [
      "INFO\tTask(Task-2) nodify.node.140241930011184:node.py:get()- No need to evaluate\n"
     ]
    },
    {
     "name": "stderr",
     "output_type": "stream",
     "text": [
      "INFO\tTask(Task-2) nodify.node.140241931120528:node.py:get()- No need to evaluate\n"
     ]
    },
    {
     "name": "stderr",
     "output_type": "stream",
     "text": [
      "INFO\tTask(Task-2) nodify.node.140241929922768:node.py:get()- No need to evaluate\n"
     ]
    },
    {
     "name": "stderr",
     "output_type": "stream",
     "text": [
      "INFO\tTask(Task-2) nodify.node.140241929928672:node.py:get()- No need to evaluate\n"
     ]
    },
    {
     "name": "stderr",
     "output_type": "stream",
     "text": [
      "INFO\tTask(Task-2) nodify.node.140241931120528:node.py:get()- No need to evaluate\n"
     ]
    },
    {
     "name": "stderr",
     "output_type": "stream",
     "text": [
      "INFO\tTask(Task-2) nodify.node.140241930011280:node.py:get()- No need to evaluate\n"
     ]
    },
    {
     "name": "stderr",
     "output_type": "stream",
     "text": [
      "INFO\tTask(Task-2) nodify.node.140241929926656:node.py:get()- No need to evaluate\n"
     ]
    },
    {
     "name": "stderr",
     "output_type": "stream",
     "text": [
      "INFO\tTask(Task-2) nodify.node.140241929926272:node.py:get()- No need to evaluate\n"
     ]
    },
    {
     "name": "stderr",
     "output_type": "stream",
     "text": [
      "INFO\tTask(Task-2) nodify.node.140241930010992:node.py:get()- No need to evaluate\n"
     ]
    },
    {
     "name": "stderr",
     "output_type": "stream",
     "text": [
      "INFO\tTask(Task-2) nodify.node.140241930011424:node.py:get()- Evaluated because inputs changed.\n"
     ]
    },
    {
     "name": "stderr",
     "output_type": "stream",
     "text": [
      "INFO\tTask(Task-2) nodify.node.140241930014688:node.py:get()- Evaluated because inputs changed.\n"
     ]
    },
    {
     "name": "stderr",
     "output_type": "stream",
     "text": [
      "INFO\tTask(Task-2) nodify.node.140241930015168:node.py:get()- Evaluated because inputs changed.\n"
     ]
    },
    {
     "data": {
      "text/html": [
       "<div>            <script src=\"https://cdnjs.cloudflare.com/ajax/libs/mathjax/2.7.5/MathJax.js?config=TeX-AMS-MML_SVG\"></script><script type=\"text/javascript\">if (window.MathJax && window.MathJax.Hub && window.MathJax.Hub.Config) {window.MathJax.Hub.Config({SVG: {font: \"STIX-Web\"}});}</script>                <script type=\"text/javascript\">window.PlotlyConfig = {MathJaxConfig: 'local'};</script>\n",
       "        <script charset=\"utf-8\" src=\"https://cdn.plot.ly/plotly-3.1.1.min.js\" integrity=\"sha256-HUEFyfiTnZJxCxur99FjbKYTvKSzwDaD3/x5TqHpFu4=\" crossorigin=\"anonymous\"></script>                <div id=\"597fd726-cf21-4059-b57c-a3e061075ca2\" class=\"plotly-graph-div\" style=\"height:525px; width:100%;\"></div>            <script type=\"text/javascript\">                window.PLOTLYENV=window.PLOTLYENV || {};                                if (document.getElementById(\"597fd726-cf21-4059-b57c-a3e061075ca2\")) {                    Plotly.newPlot(                        \"597fd726-cf21-4059-b57c-a3e061075ca2\",                        [{\"coloraxis\":\"coloraxis\",\"meta\":{},\"opacity\":1,\"z\":{\"dtype\":\"f8\",\"bdata\":\"umRqejV65z+EQ4+thvDTv60qyBY3K+I\\u002fAPiGu93tQL+AiWD+94uCvwAAAAAAAPh\\u002fAAAAAAAA+H8AAAAAAAD4fwAAAAAAAPh\\u002fXzKd1rKxsr8AAAAAAAD4fwAAAAAAAPh\\u002fAAAAAAAA+H8AAAAAAAD4fwAAAAAAAPh\\u002fhEOPrYbw078QHTs3bBXvv\\u002fhk+Rx8rMO\\u002fmIdGSAPP0L9gPmzhQkaYvwAAAAAAAPh\\u002fAAAAAAAA+H8AAAAAAAD4fwAAAAAAAPh\\u002fqLrNwoZJsL8AAAAAAAD4fwAAAAAAAPh\\u002fAAAAAAAA+H8AAAAAAAD4fwAAAAAAAPh\\u002frSrIFjcr4j\\u002f4ZPkcfKzDv8QUY\\u002fLMA9O\\u002f9l6GEbFj0j+k4gsHdETCPwAAAAAAAPh\\u002fAAAAAAAA+H8AAAAAAAD4fwAAAAAAAPh\\u002fVrF+gvoowD8AAAAAAAD4fwAAAAAAAPh\\u002fAAAAAAAA+H8AAAAAAAD4fwAAAAAAAPh\\u002fAPiGu93tQL+Yh0ZIA8\\u002fQv\\u002fZehhGxY9I\\u002f7LRAXY6B5r\\u002fIsZRDF2LUvwAAAAAAAPh\\u002fAAAAAAAA+H8AAAAAAAD4fwAAAAAAAPh\\u002fD2\\u002fHfRqyt78AAAAAAAD4fwAAAAAAAPh\\u002fAAAAAAAA+H8AAAAAAAD4fwAAAAAAAPh\\u002fgIlg\\u002fveLgr9gPmzhQkaYv6TiCwd0RMI\\u002fyLGUQxdi1L9w2qtQqOTnvwAAAAAAAPh\\u002fAAAAAAAA+H8AAAAAAAD4fwAAAAAAAPh\\u002fAAAAAAAA+H9fMp3WsrGyv6i6zcKGSbC\\u002fVrF+gvoowD8Pb8d9GrK3vwAAAAAAAPh\\u002f\",\"shape\":\"5, 15\"},\"zsmooth\":false,\"type\":\"heatmap\"}],                        {\"template\":{\"layout\":{\"hovermode\":\"closest\",\"paper_bgcolor\":\"white\",\"plot_bgcolor\":\"white\",\"scene\":{\"xaxis\":{\"color\":\"black\",\"gridcolor\":\"#ccc\",\"gridwidth\":1,\"linewidth\":1,\"mirror\":true,\"showgrid\":false,\"showline\":true,\"ticklen\":5,\"ticks\":\"outside\",\"ticksuffix\":\" \",\"visible\":true,\"zeroline\":false,\"zerolinecolor\":\"#ccc\",\"zerolinewidth\":1},\"yaxis\":{\"color\":\"black\",\"gridcolor\":\"#ccc\",\"gridwidth\":1,\"linewidth\":1,\"mirror\":true,\"showgrid\":false,\"showline\":true,\"ticklen\":5,\"ticks\":\"outside\",\"ticksuffix\":\" \",\"visible\":true,\"zeroline\":false,\"zerolinecolor\":\"#ccc\",\"zerolinewidth\":1},\"zaxis\":{\"color\":\"black\",\"gridcolor\":\"#ccc\",\"gridwidth\":1,\"linewidth\":1,\"mirror\":true,\"showgrid\":false,\"showline\":true,\"ticklen\":5,\"ticks\":\"outside\",\"ticksuffix\":\" \",\"visible\":true,\"zeroline\":false,\"zerolinecolor\":\"#ccc\",\"zerolinewidth\":1}},\"xaxis\":{\"color\":\"black\",\"gridcolor\":\"#ccc\",\"gridwidth\":1,\"linewidth\":1,\"mirror\":true,\"showgrid\":false,\"showline\":true,\"ticklen\":5,\"ticks\":\"outside\",\"ticksuffix\":\" \",\"visible\":true,\"zeroline\":false,\"zerolinecolor\":\"#ccc\",\"zerolinewidth\":1},\"yaxis\":{\"color\":\"black\",\"gridcolor\":\"#ccc\",\"gridwidth\":1,\"linewidth\":1,\"mirror\":true,\"showgrid\":false,\"showline\":true,\"ticklen\":5,\"ticks\":\"outside\",\"ticksuffix\":\" \",\"visible\":true,\"zeroline\":false,\"zerolinecolor\":\"#ccc\",\"zerolinewidth\":1}}},\"coloraxis\":{\"colorscale\":[[0.0,\"rgb(0, 147, 146)\"],[0.16666666666666666,\"rgb(57, 177, 133)\"],[0.3333333333333333,\"rgb(156, 203, 134)\"],[0.5,\"rgb(233, 226, 156)\"],[0.6666666666666666,\"rgb(238, 180, 121)\"],[0.8333333333333334,\"rgb(232, 132, 113)\"],[1.0,\"rgb(207, 89, 126)\"]],\"cmid\":0.5,\"showscale\":true},\"xaxis\":{\"scaleanchor\":\"y\",\"scaleratio\":1,\"range\":[-0.5,14.5],\"constrain\":\"domain\"},\"scene\":{\"aspectmode\":\"data\",\"xaxis\":{\"range\":[-0.5,14.5]},\"yaxis\":{\"range\":[4.5,-0.5]}},\"yaxis\":{\"range\":[4.5,-0.5],\"constrain\":\"domain\"}},                        {\"responsive\": true}                    ).then(function(){\n",
       "                            \n",
       "var gd = document.getElementById('597fd726-cf21-4059-b57c-a3e061075ca2');\n",
       "var x = new MutationObserver(function (mutations, observer) {{\n",
       "        var display = window.getComputedStyle(gd).display;\n",
       "        if (!display || display === 'none') {{\n",
       "            console.log([gd, 'removed!']);\n",
       "            Plotly.purge(gd);\n",
       "            observer.disconnect();\n",
       "        }}\n",
       "}});\n",
       "\n",
       "// Listen for the removal of the full notebook cells\n",
       "var notebookContainer = gd.closest('#notebook-container');\n",
       "if (notebookContainer) {{\n",
       "    x.observe(notebookContainer, {childList: true});\n",
       "}}\n",
       "\n",
       "// Listen for the clearing of the current output cell\n",
       "var outputEl = gd.closest('.output');\n",
       "if (outputEl) {{\n",
       "    x.observe(outputEl, {childList: true});\n",
       "}}\n",
       "\n",
       "                        })                };            </script>        </div>"
      ]
     },
     "metadata": {},
     "output_type": "display_data"
    }
   ],
   "source": [
    "plot.update_inputs(cmid=0.5)"
   ]
  },
  {
   "cell_type": "markdown",
   "metadata": {},
   "source": [
    "And to set the range of the scale from `-4` to `1`:"
   ]
  },
  {
   "cell_type": "code",
   "execution_count": 6,
   "metadata": {
    "execution": {
     "iopub.execute_input": "2025-10-08T13:16:16.603345Z",
     "iopub.status.busy": "2025-10-08T13:16:16.603173Z",
     "iopub.status.idle": "2025-10-08T13:16:16.693033Z",
     "shell.execute_reply": "2025-10-08T13:16:16.692454Z"
    }
   },
   "outputs": [
    {
     "name": "stderr",
     "output_type": "stream",
     "text": [
      "INFO\tTask(Task-2) nodify.node.140241929927424:node.py:get()- No need to evaluate\n"
     ]
    },
    {
     "name": "stderr",
     "output_type": "stream",
     "text": [
      "INFO\tTask(Task-2) nodify.node.140241931120528:node.py:get()- No need to evaluate\n"
     ]
    },
    {
     "name": "stderr",
     "output_type": "stream",
     "text": [
      "INFO\tTask(Task-2) nodify.node.140241929921088:node.py:get()- No need to evaluate\n"
     ]
    },
    {
     "name": "stderr",
     "output_type": "stream",
     "text": [
      "INFO\tTask(Task-2) nodify.node.140241929922576:node.py:get()- No need to evaluate\n"
     ]
    },
    {
     "name": "stderr",
     "output_type": "stream",
     "text": [
      "INFO\tTask(Task-2) nodify.node.140241929922528:node.py:get()- No need to evaluate\n"
     ]
    },
    {
     "name": "stderr",
     "output_type": "stream",
     "text": [
      "INFO\tTask(Task-2) nodify.node.140241930011184:node.py:get()- No need to evaluate\n"
     ]
    },
    {
     "name": "stderr",
     "output_type": "stream",
     "text": [
      "INFO\tTask(Task-2) nodify.node.140241929924352:node.py:get()- No need to evaluate\n"
     ]
    },
    {
     "name": "stderr",
     "output_type": "stream",
     "text": [
      "INFO\tTask(Task-2) nodify.node.140241929924736:node.py:get()- Evaluated because inputs changed.\n"
     ]
    },
    {
     "name": "stderr",
     "output_type": "stream",
     "text": [
      "INFO\tTask(Task-2) nodify.node.140241931120528:node.py:get()- No need to evaluate\n"
     ]
    },
    {
     "name": "stderr",
     "output_type": "stream",
     "text": [
      "INFO\tTask(Task-2) nodify.node.140241929925120:node.py:get()- No need to evaluate\n"
     ]
    },
    {
     "name": "stderr",
     "output_type": "stream",
     "text": [
      "INFO\tTask(Task-2) nodify.node.140241929924736:node.py:get()- No need to evaluate\n"
     ]
    },
    {
     "name": "stderr",
     "output_type": "stream",
     "text": [
      "INFO\tTask(Task-2) nodify.node.140241930012480:node.py:get()- Evaluated because inputs changed.\n"
     ]
    },
    {
     "name": "stderr",
     "output_type": "stream",
     "text": [
      "INFO\tTask(Task-2) nodify.node.140241929923968:node.py:get()- No need to evaluate\n"
     ]
    },
    {
     "name": "stderr",
     "output_type": "stream",
     "text": [
      "INFO\tTask(Task-2) nodify.node.140241929925504:node.py:get()- No need to evaluate\n"
     ]
    },
    {
     "name": "stderr",
     "output_type": "stream",
     "text": [
      "INFO\tTask(Task-2) nodify.node.140241929925888:node.py:get()- No need to evaluate\n"
     ]
    },
    {
     "name": "stderr",
     "output_type": "stream",
     "text": [
      "INFO\tTask(Task-2) nodify.node.140241930012384:node.py:get()- Evaluated because inputs changed.\n"
     ]
    },
    {
     "name": "stderr",
     "output_type": "stream",
     "text": [
      "INFO\tTask(Task-2) nodify.node.140241931120528:node.py:get()- No need to evaluate\n"
     ]
    },
    {
     "name": "stderr",
     "output_type": "stream",
     "text": [
      "INFO\tTask(Task-2) nodify.node.140241929921088:node.py:get()- No need to evaluate\n"
     ]
    },
    {
     "name": "stderr",
     "output_type": "stream",
     "text": [
      "INFO\tTask(Task-2) nodify.node.140241929922576:node.py:get()- No need to evaluate\n"
     ]
    },
    {
     "name": "stderr",
     "output_type": "stream",
     "text": [
      "INFO\tTask(Task-2) nodify.node.140241929922528:node.py:get()- No need to evaluate\n"
     ]
    },
    {
     "name": "stderr",
     "output_type": "stream",
     "text": [
      "INFO\tTask(Task-2) nodify.node.140241930011184:node.py:get()- No need to evaluate\n"
     ]
    },
    {
     "name": "stderr",
     "output_type": "stream",
     "text": [
      "INFO\tTask(Task-2) nodify.node.140241929927040:node.py:get()- No need to evaluate\n"
     ]
    },
    {
     "name": "stderr",
     "output_type": "stream",
     "text": [
      "INFO\tTask(Task-2) nodify.node.140241930013152:node.py:get()- No need to evaluate\n"
     ]
    },
    {
     "name": "stderr",
     "output_type": "stream",
     "text": [
      "INFO\tTask(Task-2) nodify.node.140241930012528:node.py:get()- No need to evaluate\n"
     ]
    },
    {
     "name": "stderr",
     "output_type": "stream",
     "text": [
      "INFO\tTask(Task-2) nodify.node.140241929922192:node.py:get()- No need to evaluate\n"
     ]
    },
    {
     "name": "stderr",
     "output_type": "stream",
     "text": [
      "INFO\tTask(Task-2) nodify.node.140241931120528:node.py:get()- No need to evaluate\n"
     ]
    },
    {
     "name": "stderr",
     "output_type": "stream",
     "text": [
      "INFO\tTask(Task-2) nodify.node.140241929922768:node.py:get()- No need to evaluate\n"
     ]
    },
    {
     "name": "stderr",
     "output_type": "stream",
     "text": [
      "INFO\tTask(Task-2) nodify.node.140241929928672:node.py:get()- No need to evaluate\n"
     ]
    },
    {
     "name": "stderr",
     "output_type": "stream",
     "text": [
      "INFO\tTask(Task-2) nodify.node.140241931120528:node.py:get()- No need to evaluate\n"
     ]
    },
    {
     "name": "stderr",
     "output_type": "stream",
     "text": [
      "INFO\tTask(Task-2) nodify.node.140241930011280:node.py:get()- No need to evaluate\n"
     ]
    },
    {
     "name": "stderr",
     "output_type": "stream",
     "text": [
      "INFO\tTask(Task-2) nodify.node.140241930013200:node.py:get()- No need to evaluate\n"
     ]
    },
    {
     "name": "stderr",
     "output_type": "stream",
     "text": [
      "INFO\tTask(Task-2) nodify.node.140241929923152:node.py:get()- No need to evaluate\n"
     ]
    },
    {
     "name": "stderr",
     "output_type": "stream",
     "text": [
      "INFO\tTask(Task-2) nodify.node.140241931120528:node.py:get()- No need to evaluate\n"
     ]
    },
    {
     "name": "stderr",
     "output_type": "stream",
     "text": [
      "INFO\tTask(Task-2) nodify.node.140241929922768:node.py:get()- No need to evaluate\n"
     ]
    },
    {
     "name": "stderr",
     "output_type": "stream",
     "text": [
      "INFO\tTask(Task-2) nodify.node.140241929928672:node.py:get()- No need to evaluate\n"
     ]
    },
    {
     "name": "stderr",
     "output_type": "stream",
     "text": [
      "INFO\tTask(Task-2) nodify.node.140241931120528:node.py:get()- No need to evaluate\n"
     ]
    },
    {
     "name": "stderr",
     "output_type": "stream",
     "text": [
      "INFO\tTask(Task-2) nodify.node.140241930011280:node.py:get()- No need to evaluate\n"
     ]
    },
    {
     "name": "stderr",
     "output_type": "stream",
     "text": [
      "INFO\tTask(Task-2) nodify.node.140241930013872:node.py:get()- No need to evaluate\n"
     ]
    },
    {
     "name": "stderr",
     "output_type": "stream",
     "text": [
      "INFO\tTask(Task-2) nodify.node.140241929923536:node.py:get()- No need to evaluate\n"
     ]
    },
    {
     "name": "stderr",
     "output_type": "stream",
     "text": [
      "INFO\tTask(Task-2) nodify.node.140241931120528:node.py:get()- No need to evaluate\n"
     ]
    },
    {
     "name": "stderr",
     "output_type": "stream",
     "text": [
      "INFO\tTask(Task-2) nodify.node.140241929922768:node.py:get()- No need to evaluate\n"
     ]
    },
    {
     "name": "stderr",
     "output_type": "stream",
     "text": [
      "INFO\tTask(Task-2) nodify.node.140241929928672:node.py:get()- No need to evaluate\n"
     ]
    },
    {
     "name": "stderr",
     "output_type": "stream",
     "text": [
      "INFO\tTask(Task-2) nodify.node.140241931120528:node.py:get()- No need to evaluate\n"
     ]
    },
    {
     "name": "stderr",
     "output_type": "stream",
     "text": [
      "INFO\tTask(Task-2) nodify.node.140241930011280:node.py:get()- No need to evaluate\n"
     ]
    },
    {
     "name": "stderr",
     "output_type": "stream",
     "text": [
      "INFO\tTask(Task-2) nodify.node.140241930014208:node.py:get()- No need to evaluate\n"
     ]
    },
    {
     "name": "stderr",
     "output_type": "stream",
     "text": [
      "INFO\tTask(Task-2) nodify.node.140241931120528:node.py:get()- No need to evaluate\n"
     ]
    },
    {
     "name": "stderr",
     "output_type": "stream",
     "text": [
      "INFO\tTask(Task-2) nodify.node.140241929921088:node.py:get()- No need to evaluate\n"
     ]
    },
    {
     "name": "stderr",
     "output_type": "stream",
     "text": [
      "INFO\tTask(Task-2) nodify.node.140241929922576:node.py:get()- No need to evaluate\n"
     ]
    },
    {
     "name": "stderr",
     "output_type": "stream",
     "text": [
      "INFO\tTask(Task-2) nodify.node.140241929922528:node.py:get()- No need to evaluate\n"
     ]
    },
    {
     "name": "stderr",
     "output_type": "stream",
     "text": [
      "INFO\tTask(Task-2) nodify.node.140241930011184:node.py:get()- No need to evaluate\n"
     ]
    },
    {
     "name": "stderr",
     "output_type": "stream",
     "text": [
      "INFO\tTask(Task-2) nodify.node.140241931120528:node.py:get()- No need to evaluate\n"
     ]
    },
    {
     "name": "stderr",
     "output_type": "stream",
     "text": [
      "INFO\tTask(Task-2) nodify.node.140241929922768:node.py:get()- No need to evaluate\n"
     ]
    },
    {
     "name": "stderr",
     "output_type": "stream",
     "text": [
      "INFO\tTask(Task-2) nodify.node.140241929928672:node.py:get()- No need to evaluate\n"
     ]
    },
    {
     "name": "stderr",
     "output_type": "stream",
     "text": [
      "INFO\tTask(Task-2) nodify.node.140241931120528:node.py:get()- No need to evaluate\n"
     ]
    },
    {
     "name": "stderr",
     "output_type": "stream",
     "text": [
      "INFO\tTask(Task-2) nodify.node.140241930011280:node.py:get()- No need to evaluate\n"
     ]
    },
    {
     "name": "stderr",
     "output_type": "stream",
     "text": [
      "INFO\tTask(Task-2) nodify.node.140241929926656:node.py:get()- No need to evaluate\n"
     ]
    },
    {
     "name": "stderr",
     "output_type": "stream",
     "text": [
      "INFO\tTask(Task-2) nodify.node.140241929926272:node.py:get()- No need to evaluate\n"
     ]
    },
    {
     "name": "stderr",
     "output_type": "stream",
     "text": [
      "INFO\tTask(Task-2) nodify.node.140241930010992:node.py:get()- No need to evaluate\n"
     ]
    },
    {
     "name": "stderr",
     "output_type": "stream",
     "text": [
      "INFO\tTask(Task-2) nodify.node.140241930011424:node.py:get()- Evaluated because inputs changed.\n"
     ]
    },
    {
     "name": "stderr",
     "output_type": "stream",
     "text": [
      "INFO\tTask(Task-2) nodify.node.140241930014688:node.py:get()- Evaluated because inputs changed.\n"
     ]
    },
    {
     "name": "stderr",
     "output_type": "stream",
     "text": [
      "INFO\tTask(Task-2) nodify.node.140241930015168:node.py:get()- Evaluated because inputs changed.\n"
     ]
    },
    {
     "data": {
      "text/html": [
       "<div>            <script src=\"https://cdnjs.cloudflare.com/ajax/libs/mathjax/2.7.5/MathJax.js?config=TeX-AMS-MML_SVG\"></script><script type=\"text/javascript\">if (window.MathJax && window.MathJax.Hub && window.MathJax.Hub.Config) {window.MathJax.Hub.Config({SVG: {font: \"STIX-Web\"}});}</script>                <script type=\"text/javascript\">window.PlotlyConfig = {MathJaxConfig: 'local'};</script>\n",
       "        <script charset=\"utf-8\" src=\"https://cdn.plot.ly/plotly-3.1.1.min.js\" integrity=\"sha256-HUEFyfiTnZJxCxur99FjbKYTvKSzwDaD3/x5TqHpFu4=\" crossorigin=\"anonymous\"></script>                <div id=\"c46b02e9-f8ee-49be-a815-dc3f3a2f2bb9\" class=\"plotly-graph-div\" style=\"height:525px; width:100%;\"></div>            <script type=\"text/javascript\">                window.PLOTLYENV=window.PLOTLYENV || {};                                if (document.getElementById(\"c46b02e9-f8ee-49be-a815-dc3f3a2f2bb9\")) {                    Plotly.newPlot(                        \"c46b02e9-f8ee-49be-a815-dc3f3a2f2bb9\",                        [{\"coloraxis\":\"coloraxis\",\"meta\":{},\"opacity\":1,\"z\":{\"dtype\":\"f8\",\"bdata\":\"umRqejV65z+EQ4+thvDTv60qyBY3K+I\\u002fAPiGu93tQL+AiWD+94uCvwAAAAAAAPh\\u002fAAAAAAAA+H8AAAAAAAD4fwAAAAAAAPh\\u002fXzKd1rKxsr8AAAAAAAD4fwAAAAAAAPh\\u002fAAAAAAAA+H8AAAAAAAD4fwAAAAAAAPh\\u002fhEOPrYbw078QHTs3bBXvv\\u002fhk+Rx8rMO\\u002fmIdGSAPP0L9gPmzhQkaYvwAAAAAAAPh\\u002fAAAAAAAA+H8AAAAAAAD4fwAAAAAAAPh\\u002fqLrNwoZJsL8AAAAAAAD4fwAAAAAAAPh\\u002fAAAAAAAA+H8AAAAAAAD4fwAAAAAAAPh\\u002frSrIFjcr4j\\u002f4ZPkcfKzDv8QUY\\u002fLMA9O\\u002f9l6GEbFj0j+k4gsHdETCPwAAAAAAAPh\\u002fAAAAAAAA+H8AAAAAAAD4fwAAAAAAAPh\\u002fVrF+gvoowD8AAAAAAAD4fwAAAAAAAPh\\u002fAAAAAAAA+H8AAAAAAAD4fwAAAAAAAPh\\u002fAPiGu93tQL+Yh0ZIA8\\u002fQv\\u002fZehhGxY9I\\u002f7LRAXY6B5r\\u002fIsZRDF2LUvwAAAAAAAPh\\u002fAAAAAAAA+H8AAAAAAAD4fwAAAAAAAPh\\u002fD2\\u002fHfRqyt78AAAAAAAD4fwAAAAAAAPh\\u002fAAAAAAAA+H8AAAAAAAD4fwAAAAAAAPh\\u002fgIlg\\u002fveLgr9gPmzhQkaYv6TiCwd0RMI\\u002fyLGUQxdi1L9w2qtQqOTnvwAAAAAAAPh\\u002fAAAAAAAA+H8AAAAAAAD4fwAAAAAAAPh\\u002fAAAAAAAA+H9fMp3WsrGyv6i6zcKGSbC\\u002fVrF+gvoowD8Pb8d9GrK3vwAAAAAAAPh\\u002f\",\"shape\":\"5, 15\"},\"zsmooth\":false,\"type\":\"heatmap\"}],                        {\"template\":{\"layout\":{\"hovermode\":\"closest\",\"paper_bgcolor\":\"white\",\"plot_bgcolor\":\"white\",\"scene\":{\"xaxis\":{\"color\":\"black\",\"gridcolor\":\"#ccc\",\"gridwidth\":1,\"linewidth\":1,\"mirror\":true,\"showgrid\":false,\"showline\":true,\"ticklen\":5,\"ticks\":\"outside\",\"ticksuffix\":\" \",\"visible\":true,\"zeroline\":false,\"zerolinecolor\":\"#ccc\",\"zerolinewidth\":1},\"yaxis\":{\"color\":\"black\",\"gridcolor\":\"#ccc\",\"gridwidth\":1,\"linewidth\":1,\"mirror\":true,\"showgrid\":false,\"showline\":true,\"ticklen\":5,\"ticks\":\"outside\",\"ticksuffix\":\" \",\"visible\":true,\"zeroline\":false,\"zerolinecolor\":\"#ccc\",\"zerolinewidth\":1},\"zaxis\":{\"color\":\"black\",\"gridcolor\":\"#ccc\",\"gridwidth\":1,\"linewidth\":1,\"mirror\":true,\"showgrid\":false,\"showline\":true,\"ticklen\":5,\"ticks\":\"outside\",\"ticksuffix\":\" \",\"visible\":true,\"zeroline\":false,\"zerolinecolor\":\"#ccc\",\"zerolinewidth\":1}},\"xaxis\":{\"color\":\"black\",\"gridcolor\":\"#ccc\",\"gridwidth\":1,\"linewidth\":1,\"mirror\":true,\"showgrid\":false,\"showline\":true,\"ticklen\":5,\"ticks\":\"outside\",\"ticksuffix\":\" \",\"visible\":true,\"zeroline\":false,\"zerolinecolor\":\"#ccc\",\"zerolinewidth\":1},\"yaxis\":{\"color\":\"black\",\"gridcolor\":\"#ccc\",\"gridwidth\":1,\"linewidth\":1,\"mirror\":true,\"showgrid\":false,\"showline\":true,\"ticklen\":5,\"ticks\":\"outside\",\"ticksuffix\":\" \",\"visible\":true,\"zeroline\":false,\"zerolinecolor\":\"#ccc\",\"zerolinewidth\":1}}},\"coloraxis\":{\"colorscale\":[[0.0,\"rgb(0, 147, 146)\"],[0.16666666666666666,\"rgb(57, 177, 133)\"],[0.3333333333333333,\"rgb(156, 203, 134)\"],[0.5,\"rgb(233, 226, 156)\"],[0.6666666666666666,\"rgb(238, 180, 121)\"],[0.8333333333333334,\"rgb(232, 132, 113)\"],[1.0,\"rgb(207, 89, 126)\"]],\"cmin\":-4,\"cmax\":1,\"cmid\":0.5,\"showscale\":true},\"xaxis\":{\"scaleanchor\":\"y\",\"scaleratio\":1,\"range\":[-0.5,14.5],\"constrain\":\"domain\"},\"scene\":{\"aspectmode\":\"data\",\"xaxis\":{\"range\":[-0.5,14.5]},\"yaxis\":{\"range\":[4.5,-0.5]}},\"yaxis\":{\"range\":[4.5,-0.5],\"constrain\":\"domain\"}},                        {\"responsive\": true}                    ).then(function(){\n",
       "                            \n",
       "var gd = document.getElementById('c46b02e9-f8ee-49be-a815-dc3f3a2f2bb9');\n",
       "var x = new MutationObserver(function (mutations, observer) {{\n",
       "        var display = window.getComputedStyle(gd).display;\n",
       "        if (!display || display === 'none') {{\n",
       "            console.log([gd, 'removed!']);\n",
       "            Plotly.purge(gd);\n",
       "            observer.disconnect();\n",
       "        }}\n",
       "}});\n",
       "\n",
       "// Listen for the removal of the full notebook cells\n",
       "var notebookContainer = gd.closest('#notebook-container');\n",
       "if (notebookContainer) {{\n",
       "    x.observe(notebookContainer, {childList: true});\n",
       "}}\n",
       "\n",
       "// Listen for the clearing of the current output cell\n",
       "var outputEl = gd.closest('.output');\n",
       "if (outputEl) {{\n",
       "    x.observe(outputEl, {childList: true});\n",
       "}}\n",
       "\n",
       "                        })                };            </script>        </div>"
      ]
     },
     "metadata": {},
     "output_type": "display_data"
    }
   ],
   "source": [
    "plot.update_inputs(crange=(-4, 1))"
   ]
  },
  {
   "cell_type": "markdown",
   "metadata": {},
   "source": [
    "Notice how **`crange` takes precedence over `cmid`**. Now, to go back to the default range, just set both to `None`."
   ]
  },
  {
   "cell_type": "code",
   "execution_count": 7,
   "metadata": {
    "execution": {
     "iopub.execute_input": "2025-10-08T13:16:16.694877Z",
     "iopub.status.busy": "2025-10-08T13:16:16.694690Z",
     "iopub.status.idle": "2025-10-08T13:16:16.786666Z",
     "shell.execute_reply": "2025-10-08T13:16:16.786080Z"
    }
   },
   "outputs": [
    {
     "name": "stderr",
     "output_type": "stream",
     "text": [
      "INFO\tTask(Task-2) nodify.node.140241929927424:node.py:get()- No need to evaluate\n"
     ]
    },
    {
     "name": "stderr",
     "output_type": "stream",
     "text": [
      "INFO\tTask(Task-2) nodify.node.140241931120528:node.py:get()- No need to evaluate\n"
     ]
    },
    {
     "name": "stderr",
     "output_type": "stream",
     "text": [
      "INFO\tTask(Task-2) nodify.node.140241929921088:node.py:get()- No need to evaluate\n"
     ]
    },
    {
     "name": "stderr",
     "output_type": "stream",
     "text": [
      "INFO\tTask(Task-2) nodify.node.140241929922576:node.py:get()- No need to evaluate\n"
     ]
    },
    {
     "name": "stderr",
     "output_type": "stream",
     "text": [
      "INFO\tTask(Task-2) nodify.node.140241929922528:node.py:get()- No need to evaluate\n"
     ]
    },
    {
     "name": "stderr",
     "output_type": "stream",
     "text": [
      "INFO\tTask(Task-2) nodify.node.140241930011184:node.py:get()- No need to evaluate\n"
     ]
    },
    {
     "name": "stderr",
     "output_type": "stream",
     "text": [
      "INFO\tTask(Task-2) nodify.node.140241929924352:node.py:get()- No need to evaluate\n"
     ]
    },
    {
     "name": "stderr",
     "output_type": "stream",
     "text": [
      "INFO\tTask(Task-2) nodify.node.140241929924736:node.py:get()- Evaluated because inputs changed.\n"
     ]
    },
    {
     "name": "stderr",
     "output_type": "stream",
     "text": [
      "INFO\tTask(Task-2) nodify.node.140241931120528:node.py:get()- No need to evaluate\n"
     ]
    },
    {
     "name": "stderr",
     "output_type": "stream",
     "text": [
      "INFO\tTask(Task-2) nodify.node.140241929925120:node.py:get()- Evaluated because inputs changed.\n"
     ]
    },
    {
     "name": "stderr",
     "output_type": "stream",
     "text": [
      "INFO\tTask(Task-2) nodify.node.140241929924736:node.py:get()- No need to evaluate\n"
     ]
    },
    {
     "name": "stderr",
     "output_type": "stream",
     "text": [
      "INFO\tTask(Task-2) nodify.node.140241930012480:node.py:get()- Evaluated because inputs changed.\n"
     ]
    },
    {
     "name": "stderr",
     "output_type": "stream",
     "text": [
      "INFO\tTask(Task-2) nodify.node.140241929923968:node.py:get()- No need to evaluate\n"
     ]
    },
    {
     "name": "stderr",
     "output_type": "stream",
     "text": [
      "INFO\tTask(Task-2) nodify.node.140241929925504:node.py:get()- No need to evaluate\n"
     ]
    },
    {
     "name": "stderr",
     "output_type": "stream",
     "text": [
      "INFO\tTask(Task-2) nodify.node.140241929925888:node.py:get()- No need to evaluate\n"
     ]
    },
    {
     "name": "stderr",
     "output_type": "stream",
     "text": [
      "INFO\tTask(Task-2) nodify.node.140241930012384:node.py:get()- Evaluated because inputs changed.\n"
     ]
    },
    {
     "name": "stderr",
     "output_type": "stream",
     "text": [
      "INFO\tTask(Task-2) nodify.node.140241931120528:node.py:get()- No need to evaluate\n"
     ]
    },
    {
     "name": "stderr",
     "output_type": "stream",
     "text": [
      "INFO\tTask(Task-2) nodify.node.140241929921088:node.py:get()- No need to evaluate\n"
     ]
    },
    {
     "name": "stderr",
     "output_type": "stream",
     "text": [
      "INFO\tTask(Task-2) nodify.node.140241929922576:node.py:get()- No need to evaluate\n"
     ]
    },
    {
     "name": "stderr",
     "output_type": "stream",
     "text": [
      "INFO\tTask(Task-2) nodify.node.140241929922528:node.py:get()- No need to evaluate\n"
     ]
    },
    {
     "name": "stderr",
     "output_type": "stream",
     "text": [
      "INFO\tTask(Task-2) nodify.node.140241930011184:node.py:get()- No need to evaluate\n"
     ]
    },
    {
     "name": "stderr",
     "output_type": "stream",
     "text": [
      "INFO\tTask(Task-2) nodify.node.140241929927040:node.py:get()- No need to evaluate\n"
     ]
    },
    {
     "name": "stderr",
     "output_type": "stream",
     "text": [
      "INFO\tTask(Task-2) nodify.node.140241930013152:node.py:get()- No need to evaluate\n"
     ]
    },
    {
     "name": "stderr",
     "output_type": "stream",
     "text": [
      "INFO\tTask(Task-2) nodify.node.140241930012528:node.py:get()- No need to evaluate\n"
     ]
    },
    {
     "name": "stderr",
     "output_type": "stream",
     "text": [
      "INFO\tTask(Task-2) nodify.node.140241929922192:node.py:get()- No need to evaluate\n"
     ]
    },
    {
     "name": "stderr",
     "output_type": "stream",
     "text": [
      "INFO\tTask(Task-2) nodify.node.140241931120528:node.py:get()- No need to evaluate\n"
     ]
    },
    {
     "name": "stderr",
     "output_type": "stream",
     "text": [
      "INFO\tTask(Task-2) nodify.node.140241929922768:node.py:get()- No need to evaluate\n"
     ]
    },
    {
     "name": "stderr",
     "output_type": "stream",
     "text": [
      "INFO\tTask(Task-2) nodify.node.140241929928672:node.py:get()- No need to evaluate\n"
     ]
    },
    {
     "name": "stderr",
     "output_type": "stream",
     "text": [
      "INFO\tTask(Task-2) nodify.node.140241931120528:node.py:get()- No need to evaluate\n"
     ]
    },
    {
     "name": "stderr",
     "output_type": "stream",
     "text": [
      "INFO\tTask(Task-2) nodify.node.140241930011280:node.py:get()- No need to evaluate\n"
     ]
    },
    {
     "name": "stderr",
     "output_type": "stream",
     "text": [
      "INFO\tTask(Task-2) nodify.node.140241930013200:node.py:get()- No need to evaluate\n"
     ]
    },
    {
     "name": "stderr",
     "output_type": "stream",
     "text": [
      "INFO\tTask(Task-2) nodify.node.140241929923152:node.py:get()- No need to evaluate\n"
     ]
    },
    {
     "name": "stderr",
     "output_type": "stream",
     "text": [
      "INFO\tTask(Task-2) nodify.node.140241931120528:node.py:get()- No need to evaluate\n"
     ]
    },
    {
     "name": "stderr",
     "output_type": "stream",
     "text": [
      "INFO\tTask(Task-2) nodify.node.140241929922768:node.py:get()- No need to evaluate\n"
     ]
    },
    {
     "name": "stderr",
     "output_type": "stream",
     "text": [
      "INFO\tTask(Task-2) nodify.node.140241929928672:node.py:get()- No need to evaluate\n"
     ]
    },
    {
     "name": "stderr",
     "output_type": "stream",
     "text": [
      "INFO\tTask(Task-2) nodify.node.140241931120528:node.py:get()- No need to evaluate\n"
     ]
    },
    {
     "name": "stderr",
     "output_type": "stream",
     "text": [
      "INFO\tTask(Task-2) nodify.node.140241930011280:node.py:get()- No need to evaluate\n"
     ]
    },
    {
     "name": "stderr",
     "output_type": "stream",
     "text": [
      "INFO\tTask(Task-2) nodify.node.140241930013872:node.py:get()- No need to evaluate\n"
     ]
    },
    {
     "name": "stderr",
     "output_type": "stream",
     "text": [
      "INFO\tTask(Task-2) nodify.node.140241929923536:node.py:get()- No need to evaluate\n"
     ]
    },
    {
     "name": "stderr",
     "output_type": "stream",
     "text": [
      "INFO\tTask(Task-2) nodify.node.140241931120528:node.py:get()- No need to evaluate\n"
     ]
    },
    {
     "name": "stderr",
     "output_type": "stream",
     "text": [
      "INFO\tTask(Task-2) nodify.node.140241929922768:node.py:get()- No need to evaluate\n"
     ]
    },
    {
     "name": "stderr",
     "output_type": "stream",
     "text": [
      "INFO\tTask(Task-2) nodify.node.140241929928672:node.py:get()- No need to evaluate\n"
     ]
    },
    {
     "name": "stderr",
     "output_type": "stream",
     "text": [
      "INFO\tTask(Task-2) nodify.node.140241931120528:node.py:get()- No need to evaluate\n"
     ]
    },
    {
     "name": "stderr",
     "output_type": "stream",
     "text": [
      "INFO\tTask(Task-2) nodify.node.140241930011280:node.py:get()- No need to evaluate\n"
     ]
    },
    {
     "name": "stderr",
     "output_type": "stream",
     "text": [
      "INFO\tTask(Task-2) nodify.node.140241930014208:node.py:get()- No need to evaluate\n"
     ]
    },
    {
     "name": "stderr",
     "output_type": "stream",
     "text": [
      "INFO\tTask(Task-2) nodify.node.140241931120528:node.py:get()- No need to evaluate\n"
     ]
    },
    {
     "name": "stderr",
     "output_type": "stream",
     "text": [
      "INFO\tTask(Task-2) nodify.node.140241929921088:node.py:get()- No need to evaluate\n"
     ]
    },
    {
     "name": "stderr",
     "output_type": "stream",
     "text": [
      "INFO\tTask(Task-2) nodify.node.140241929922576:node.py:get()- No need to evaluate\n"
     ]
    },
    {
     "name": "stderr",
     "output_type": "stream",
     "text": [
      "INFO\tTask(Task-2) nodify.node.140241929922528:node.py:get()- No need to evaluate\n"
     ]
    },
    {
     "name": "stderr",
     "output_type": "stream",
     "text": [
      "INFO\tTask(Task-2) nodify.node.140241930011184:node.py:get()- No need to evaluate\n"
     ]
    },
    {
     "name": "stderr",
     "output_type": "stream",
     "text": [
      "INFO\tTask(Task-2) nodify.node.140241931120528:node.py:get()- No need to evaluate\n"
     ]
    },
    {
     "name": "stderr",
     "output_type": "stream",
     "text": [
      "INFO\tTask(Task-2) nodify.node.140241929922768:node.py:get()- No need to evaluate\n"
     ]
    },
    {
     "name": "stderr",
     "output_type": "stream",
     "text": [
      "INFO\tTask(Task-2) nodify.node.140241929928672:node.py:get()- No need to evaluate\n"
     ]
    },
    {
     "name": "stderr",
     "output_type": "stream",
     "text": [
      "INFO\tTask(Task-2) nodify.node.140241931120528:node.py:get()- No need to evaluate\n"
     ]
    },
    {
     "name": "stderr",
     "output_type": "stream",
     "text": [
      "INFO\tTask(Task-2) nodify.node.140241930011280:node.py:get()- No need to evaluate\n"
     ]
    },
    {
     "name": "stderr",
     "output_type": "stream",
     "text": [
      "INFO\tTask(Task-2) nodify.node.140241929926656:node.py:get()- No need to evaluate\n"
     ]
    },
    {
     "name": "stderr",
     "output_type": "stream",
     "text": [
      "INFO\tTask(Task-2) nodify.node.140241929926272:node.py:get()- No need to evaluate\n"
     ]
    },
    {
     "name": "stderr",
     "output_type": "stream",
     "text": [
      "INFO\tTask(Task-2) nodify.node.140241930010992:node.py:get()- No need to evaluate\n"
     ]
    },
    {
     "name": "stderr",
     "output_type": "stream",
     "text": [
      "INFO\tTask(Task-2) nodify.node.140241930011424:node.py:get()- Evaluated because inputs changed.\n"
     ]
    },
    {
     "name": "stderr",
     "output_type": "stream",
     "text": [
      "INFO\tTask(Task-2) nodify.node.140241930014688:node.py:get()- Evaluated because inputs changed.\n"
     ]
    },
    {
     "name": "stderr",
     "output_type": "stream",
     "text": [
      "INFO\tTask(Task-2) nodify.node.140241930015168:node.py:get()- Evaluated because inputs changed.\n"
     ]
    },
    {
     "data": {
      "text/html": [
       "<div>            <script src=\"https://cdnjs.cloudflare.com/ajax/libs/mathjax/2.7.5/MathJax.js?config=TeX-AMS-MML_SVG\"></script><script type=\"text/javascript\">if (window.MathJax && window.MathJax.Hub && window.MathJax.Hub.Config) {window.MathJax.Hub.Config({SVG: {font: \"STIX-Web\"}});}</script>                <script type=\"text/javascript\">window.PlotlyConfig = {MathJaxConfig: 'local'};</script>\n",
       "        <script charset=\"utf-8\" src=\"https://cdn.plot.ly/plotly-3.1.1.min.js\" integrity=\"sha256-HUEFyfiTnZJxCxur99FjbKYTvKSzwDaD3/x5TqHpFu4=\" crossorigin=\"anonymous\"></script>                <div id=\"0d99e029-b5e4-479d-aaa0-29751e74b0e1\" class=\"plotly-graph-div\" style=\"height:525px; width:100%;\"></div>            <script type=\"text/javascript\">                window.PLOTLYENV=window.PLOTLYENV || {};                                if (document.getElementById(\"0d99e029-b5e4-479d-aaa0-29751e74b0e1\")) {                    Plotly.newPlot(                        \"0d99e029-b5e4-479d-aaa0-29751e74b0e1\",                        [{\"coloraxis\":\"coloraxis\",\"meta\":{},\"opacity\":1,\"z\":{\"dtype\":\"f8\",\"bdata\":\"umRqejV65z+EQ4+thvDTv60qyBY3K+I\\u002fAPiGu93tQL+AiWD+94uCvwAAAAAAAPh\\u002fAAAAAAAA+H8AAAAAAAD4fwAAAAAAAPh\\u002fXzKd1rKxsr8AAAAAAAD4fwAAAAAAAPh\\u002fAAAAAAAA+H8AAAAAAAD4fwAAAAAAAPh\\u002fhEOPrYbw078QHTs3bBXvv\\u002fhk+Rx8rMO\\u002fmIdGSAPP0L9gPmzhQkaYvwAAAAAAAPh\\u002fAAAAAAAA+H8AAAAAAAD4fwAAAAAAAPh\\u002fqLrNwoZJsL8AAAAAAAD4fwAAAAAAAPh\\u002fAAAAAAAA+H8AAAAAAAD4fwAAAAAAAPh\\u002frSrIFjcr4j\\u002f4ZPkcfKzDv8QUY\\u002fLMA9O\\u002f9l6GEbFj0j+k4gsHdETCPwAAAAAAAPh\\u002fAAAAAAAA+H8AAAAAAAD4fwAAAAAAAPh\\u002fVrF+gvoowD8AAAAAAAD4fwAAAAAAAPh\\u002fAAAAAAAA+H8AAAAAAAD4fwAAAAAAAPh\\u002fAPiGu93tQL+Yh0ZIA8\\u002fQv\\u002fZehhGxY9I\\u002f7LRAXY6B5r\\u002fIsZRDF2LUvwAAAAAAAPh\\u002fAAAAAAAA+H8AAAAAAAD4fwAAAAAAAPh\\u002fD2\\u002fHfRqyt78AAAAAAAD4fwAAAAAAAPh\\u002fAAAAAAAA+H8AAAAAAAD4fwAAAAAAAPh\\u002fgIlg\\u002fveLgr9gPmzhQkaYv6TiCwd0RMI\\u002fyLGUQxdi1L9w2qtQqOTnvwAAAAAAAPh\\u002fAAAAAAAA+H8AAAAAAAD4fwAAAAAAAPh\\u002fAAAAAAAA+H9fMp3WsrGyv6i6zcKGSbC\\u002fVrF+gvoowD8Pb8d9GrK3vwAAAAAAAPh\\u002f\",\"shape\":\"5, 15\"},\"zsmooth\":false,\"type\":\"heatmap\"}],                        {\"template\":{\"layout\":{\"hovermode\":\"closest\",\"paper_bgcolor\":\"white\",\"plot_bgcolor\":\"white\",\"scene\":{\"xaxis\":{\"color\":\"black\",\"gridcolor\":\"#ccc\",\"gridwidth\":1,\"linewidth\":1,\"mirror\":true,\"showgrid\":false,\"showline\":true,\"ticklen\":5,\"ticks\":\"outside\",\"ticksuffix\":\" \",\"visible\":true,\"zeroline\":false,\"zerolinecolor\":\"#ccc\",\"zerolinewidth\":1},\"yaxis\":{\"color\":\"black\",\"gridcolor\":\"#ccc\",\"gridwidth\":1,\"linewidth\":1,\"mirror\":true,\"showgrid\":false,\"showline\":true,\"ticklen\":5,\"ticks\":\"outside\",\"ticksuffix\":\" \",\"visible\":true,\"zeroline\":false,\"zerolinecolor\":\"#ccc\",\"zerolinewidth\":1},\"zaxis\":{\"color\":\"black\",\"gridcolor\":\"#ccc\",\"gridwidth\":1,\"linewidth\":1,\"mirror\":true,\"showgrid\":false,\"showline\":true,\"ticklen\":5,\"ticks\":\"outside\",\"ticksuffix\":\" \",\"visible\":true,\"zeroline\":false,\"zerolinecolor\":\"#ccc\",\"zerolinewidth\":1}},\"xaxis\":{\"color\":\"black\",\"gridcolor\":\"#ccc\",\"gridwidth\":1,\"linewidth\":1,\"mirror\":true,\"showgrid\":false,\"showline\":true,\"ticklen\":5,\"ticks\":\"outside\",\"ticksuffix\":\" \",\"visible\":true,\"zeroline\":false,\"zerolinecolor\":\"#ccc\",\"zerolinewidth\":1},\"yaxis\":{\"color\":\"black\",\"gridcolor\":\"#ccc\",\"gridwidth\":1,\"linewidth\":1,\"mirror\":true,\"showgrid\":false,\"showline\":true,\"ticklen\":5,\"ticks\":\"outside\",\"ticksuffix\":\" \",\"visible\":true,\"zeroline\":false,\"zerolinecolor\":\"#ccc\",\"zerolinewidth\":1}}},\"coloraxis\":{\"colorscale\":[[0.0,\"rgb(0, 147, 146)\"],[0.16666666666666666,\"rgb(57, 177, 133)\"],[0.3333333333333333,\"rgb(156, 203, 134)\"],[0.5,\"rgb(233, 226, 156)\"],[0.6666666666666666,\"rgb(238, 180, 121)\"],[0.8333333333333334,\"rgb(232, 132, 113)\"],[1.0,\"rgb(207, 89, 126)\"]],\"cmid\":0,\"showscale\":true},\"xaxis\":{\"scaleanchor\":\"y\",\"scaleratio\":1,\"range\":[-0.5,14.5],\"constrain\":\"domain\"},\"scene\":{\"aspectmode\":\"data\",\"xaxis\":{\"range\":[-0.5,14.5]},\"yaxis\":{\"range\":[4.5,-0.5]}},\"yaxis\":{\"range\":[4.5,-0.5],\"constrain\":\"domain\"}},                        {\"responsive\": true}                    ).then(function(){\n",
       "                            \n",
       "var gd = document.getElementById('0d99e029-b5e4-479d-aaa0-29751e74b0e1');\n",
       "var x = new MutationObserver(function (mutations, observer) {{\n",
       "        var display = window.getComputedStyle(gd).display;\n",
       "        if (!display || display === 'none') {{\n",
       "            console.log([gd, 'removed!']);\n",
       "            Plotly.purge(gd);\n",
       "            observer.disconnect();\n",
       "        }}\n",
       "}});\n",
       "\n",
       "// Listen for the removal of the full notebook cells\n",
       "var notebookContainer = gd.closest('#notebook-container');\n",
       "if (notebookContainer) {{\n",
       "    x.observe(notebookContainer, {childList: true});\n",
       "}}\n",
       "\n",
       "// Listen for the clearing of the current output cell\n",
       "var outputEl = gd.closest('.output');\n",
       "if (outputEl) {{\n",
       "    x.observe(outputEl, {childList: true});\n",
       "}}\n",
       "\n",
       "                        })                };            </script>        </div>"
      ]
     },
     "metadata": {},
     "output_type": "display_data"
    }
   ],
   "source": [
    "plot.update_inputs(crange=None, cmid=None)"
   ]
  },
  {
   "cell_type": "markdown",
   "metadata": {},
   "source": [
    "## Show values as text\n",
    "\n",
    "Colors are nice to give you a quick impression of the relative magnitude of the matrix elements. However, you might want to know the exact value. Although `plotly` shows them when you pass the mouse over the matrix elements, sometimes it might be more convenient to directly display them on top.\n",
    "\n",
    "To do this, you need to pass a formatting string to the `text` input. For example, to show two decimals:"
   ]
  },
  {
   "cell_type": "code",
   "execution_count": 8,
   "metadata": {
    "execution": {
     "iopub.execute_input": "2025-10-08T13:16:16.788339Z",
     "iopub.status.busy": "2025-10-08T13:16:16.788163Z",
     "iopub.status.idle": "2025-10-08T13:16:16.880730Z",
     "shell.execute_reply": "2025-10-08T13:16:16.880185Z"
    }
   },
   "outputs": [
    {
     "name": "stderr",
     "output_type": "stream",
     "text": [
      "INFO\tTask(Task-2) nodify.node.140241929927424:node.py:get()- No need to evaluate\n"
     ]
    },
    {
     "name": "stderr",
     "output_type": "stream",
     "text": [
      "INFO\tTask(Task-2) nodify.node.140241931120528:node.py:get()- No need to evaluate\n"
     ]
    },
    {
     "name": "stderr",
     "output_type": "stream",
     "text": [
      "INFO\tTask(Task-2) nodify.node.140241929921088:node.py:get()- No need to evaluate\n"
     ]
    },
    {
     "name": "stderr",
     "output_type": "stream",
     "text": [
      "INFO\tTask(Task-2) nodify.node.140241929922576:node.py:get()- No need to evaluate\n"
     ]
    },
    {
     "name": "stderr",
     "output_type": "stream",
     "text": [
      "INFO\tTask(Task-2) nodify.node.140241929922528:node.py:get()- No need to evaluate\n"
     ]
    },
    {
     "name": "stderr",
     "output_type": "stream",
     "text": [
      "INFO\tTask(Task-2) nodify.node.140241930011184:node.py:get()- No need to evaluate\n"
     ]
    },
    {
     "name": "stderr",
     "output_type": "stream",
     "text": [
      "INFO\tTask(Task-2) nodify.node.140241929924352:node.py:get()- No need to evaluate\n"
     ]
    },
    {
     "name": "stderr",
     "output_type": "stream",
     "text": [
      "INFO\tTask(Task-2) nodify.node.140241929924736:node.py:get()- No need to evaluate\n"
     ]
    },
    {
     "name": "stderr",
     "output_type": "stream",
     "text": [
      "INFO\tTask(Task-2) nodify.node.140241931120528:node.py:get()- No need to evaluate\n"
     ]
    },
    {
     "name": "stderr",
     "output_type": "stream",
     "text": [
      "INFO\tTask(Task-2) nodify.node.140241929925120:node.py:get()- No need to evaluate\n"
     ]
    },
    {
     "name": "stderr",
     "output_type": "stream",
     "text": [
      "INFO\tTask(Task-2) nodify.node.140241929924736:node.py:get()- No need to evaluate\n"
     ]
    },
    {
     "name": "stderr",
     "output_type": "stream",
     "text": [
      "INFO\tTask(Task-2) nodify.node.140241930012480:node.py:get()- No need to evaluate\n"
     ]
    },
    {
     "name": "stderr",
     "output_type": "stream",
     "text": [
      "INFO\tTask(Task-2) nodify.node.140241929923968:node.py:get()- No need to evaluate\n"
     ]
    },
    {
     "name": "stderr",
     "output_type": "stream",
     "text": [
      "INFO\tTask(Task-2) nodify.node.140241929925504:node.py:get()- Evaluated because inputs changed.\n"
     ]
    },
    {
     "name": "stderr",
     "output_type": "stream",
     "text": [
      "INFO\tTask(Task-2) nodify.node.140241929925888:node.py:get()- No need to evaluate\n"
     ]
    },
    {
     "name": "stderr",
     "output_type": "stream",
     "text": [
      "INFO\tTask(Task-2) nodify.node.140241930012384:node.py:get()- Evaluated because inputs changed.\n"
     ]
    },
    {
     "name": "stderr",
     "output_type": "stream",
     "text": [
      "INFO\tTask(Task-2) nodify.node.140241931120528:node.py:get()- No need to evaluate\n"
     ]
    },
    {
     "name": "stderr",
     "output_type": "stream",
     "text": [
      "INFO\tTask(Task-2) nodify.node.140241929921088:node.py:get()- No need to evaluate\n"
     ]
    },
    {
     "name": "stderr",
     "output_type": "stream",
     "text": [
      "INFO\tTask(Task-2) nodify.node.140241929922576:node.py:get()- No need to evaluate\n"
     ]
    },
    {
     "name": "stderr",
     "output_type": "stream",
     "text": [
      "INFO\tTask(Task-2) nodify.node.140241929922528:node.py:get()- No need to evaluate\n"
     ]
    },
    {
     "name": "stderr",
     "output_type": "stream",
     "text": [
      "INFO\tTask(Task-2) nodify.node.140241930011184:node.py:get()- No need to evaluate\n"
     ]
    },
    {
     "name": "stderr",
     "output_type": "stream",
     "text": [
      "INFO\tTask(Task-2) nodify.node.140241929927040:node.py:get()- No need to evaluate\n"
     ]
    },
    {
     "name": "stderr",
     "output_type": "stream",
     "text": [
      "INFO\tTask(Task-2) nodify.node.140241930013152:node.py:get()- No need to evaluate\n"
     ]
    },
    {
     "name": "stderr",
     "output_type": "stream",
     "text": [
      "INFO\tTask(Task-2) nodify.node.140241930012528:node.py:get()- No need to evaluate\n"
     ]
    },
    {
     "name": "stderr",
     "output_type": "stream",
     "text": [
      "INFO\tTask(Task-2) nodify.node.140241929922192:node.py:get()- No need to evaluate\n"
     ]
    },
    {
     "name": "stderr",
     "output_type": "stream",
     "text": [
      "INFO\tTask(Task-2) nodify.node.140241931120528:node.py:get()- No need to evaluate\n"
     ]
    },
    {
     "name": "stderr",
     "output_type": "stream",
     "text": [
      "INFO\tTask(Task-2) nodify.node.140241929922768:node.py:get()- No need to evaluate\n"
     ]
    },
    {
     "name": "stderr",
     "output_type": "stream",
     "text": [
      "INFO\tTask(Task-2) nodify.node.140241929928672:node.py:get()- No need to evaluate\n"
     ]
    },
    {
     "name": "stderr",
     "output_type": "stream",
     "text": [
      "INFO\tTask(Task-2) nodify.node.140241931120528:node.py:get()- No need to evaluate\n"
     ]
    },
    {
     "name": "stderr",
     "output_type": "stream",
     "text": [
      "INFO\tTask(Task-2) nodify.node.140241930011280:node.py:get()- No need to evaluate\n"
     ]
    },
    {
     "name": "stderr",
     "output_type": "stream",
     "text": [
      "INFO\tTask(Task-2) nodify.node.140241930013200:node.py:get()- No need to evaluate\n"
     ]
    },
    {
     "name": "stderr",
     "output_type": "stream",
     "text": [
      "INFO\tTask(Task-2) nodify.node.140241929923152:node.py:get()- No need to evaluate\n"
     ]
    },
    {
     "name": "stderr",
     "output_type": "stream",
     "text": [
      "INFO\tTask(Task-2) nodify.node.140241931120528:node.py:get()- No need to evaluate\n"
     ]
    },
    {
     "name": "stderr",
     "output_type": "stream",
     "text": [
      "INFO\tTask(Task-2) nodify.node.140241929922768:node.py:get()- No need to evaluate\n"
     ]
    },
    {
     "name": "stderr",
     "output_type": "stream",
     "text": [
      "INFO\tTask(Task-2) nodify.node.140241929928672:node.py:get()- No need to evaluate\n"
     ]
    },
    {
     "name": "stderr",
     "output_type": "stream",
     "text": [
      "INFO\tTask(Task-2) nodify.node.140241931120528:node.py:get()- No need to evaluate\n"
     ]
    },
    {
     "name": "stderr",
     "output_type": "stream",
     "text": [
      "INFO\tTask(Task-2) nodify.node.140241930011280:node.py:get()- No need to evaluate\n"
     ]
    },
    {
     "name": "stderr",
     "output_type": "stream",
     "text": [
      "INFO\tTask(Task-2) nodify.node.140241930013872:node.py:get()- No need to evaluate\n"
     ]
    },
    {
     "name": "stderr",
     "output_type": "stream",
     "text": [
      "INFO\tTask(Task-2) nodify.node.140241929923536:node.py:get()- No need to evaluate\n"
     ]
    },
    {
     "name": "stderr",
     "output_type": "stream",
     "text": [
      "INFO\tTask(Task-2) nodify.node.140241931120528:node.py:get()- No need to evaluate\n"
     ]
    },
    {
     "name": "stderr",
     "output_type": "stream",
     "text": [
      "INFO\tTask(Task-2) nodify.node.140241929922768:node.py:get()- No need to evaluate\n"
     ]
    },
    {
     "name": "stderr",
     "output_type": "stream",
     "text": [
      "INFO\tTask(Task-2) nodify.node.140241929928672:node.py:get()- No need to evaluate\n"
     ]
    },
    {
     "name": "stderr",
     "output_type": "stream",
     "text": [
      "INFO\tTask(Task-2) nodify.node.140241931120528:node.py:get()- No need to evaluate\n"
     ]
    },
    {
     "name": "stderr",
     "output_type": "stream",
     "text": [
      "INFO\tTask(Task-2) nodify.node.140241930011280:node.py:get()- No need to evaluate\n"
     ]
    },
    {
     "name": "stderr",
     "output_type": "stream",
     "text": [
      "INFO\tTask(Task-2) nodify.node.140241930014208:node.py:get()- No need to evaluate\n"
     ]
    },
    {
     "name": "stderr",
     "output_type": "stream",
     "text": [
      "INFO\tTask(Task-2) nodify.node.140241931120528:node.py:get()- No need to evaluate\n"
     ]
    },
    {
     "name": "stderr",
     "output_type": "stream",
     "text": [
      "INFO\tTask(Task-2) nodify.node.140241929921088:node.py:get()- No need to evaluate\n"
     ]
    },
    {
     "name": "stderr",
     "output_type": "stream",
     "text": [
      "INFO\tTask(Task-2) nodify.node.140241929922576:node.py:get()- No need to evaluate\n"
     ]
    },
    {
     "name": "stderr",
     "output_type": "stream",
     "text": [
      "INFO\tTask(Task-2) nodify.node.140241929922528:node.py:get()- No need to evaluate\n"
     ]
    },
    {
     "name": "stderr",
     "output_type": "stream",
     "text": [
      "INFO\tTask(Task-2) nodify.node.140241930011184:node.py:get()- No need to evaluate\n"
     ]
    },
    {
     "name": "stderr",
     "output_type": "stream",
     "text": [
      "INFO\tTask(Task-2) nodify.node.140241931120528:node.py:get()- No need to evaluate\n"
     ]
    },
    {
     "name": "stderr",
     "output_type": "stream",
     "text": [
      "INFO\tTask(Task-2) nodify.node.140241929922768:node.py:get()- No need to evaluate\n"
     ]
    },
    {
     "name": "stderr",
     "output_type": "stream",
     "text": [
      "INFO\tTask(Task-2) nodify.node.140241929928672:node.py:get()- No need to evaluate\n"
     ]
    },
    {
     "name": "stderr",
     "output_type": "stream",
     "text": [
      "INFO\tTask(Task-2) nodify.node.140241931120528:node.py:get()- No need to evaluate\n"
     ]
    },
    {
     "name": "stderr",
     "output_type": "stream",
     "text": [
      "INFO\tTask(Task-2) nodify.node.140241930011280:node.py:get()- No need to evaluate\n"
     ]
    },
    {
     "name": "stderr",
     "output_type": "stream",
     "text": [
      "INFO\tTask(Task-2) nodify.node.140241929926656:node.py:get()- No need to evaluate\n"
     ]
    },
    {
     "name": "stderr",
     "output_type": "stream",
     "text": [
      "INFO\tTask(Task-2) nodify.node.140241929926272:node.py:get()- No need to evaluate\n"
     ]
    },
    {
     "name": "stderr",
     "output_type": "stream",
     "text": [
      "INFO\tTask(Task-2) nodify.node.140241930010992:node.py:get()- No need to evaluate\n"
     ]
    },
    {
     "name": "stderr",
     "output_type": "stream",
     "text": [
      "INFO\tTask(Task-2) nodify.node.140241930011424:node.py:get()- Evaluated because inputs changed.\n"
     ]
    },
    {
     "name": "stderr",
     "output_type": "stream",
     "text": [
      "INFO\tTask(Task-2) nodify.node.140241930014688:node.py:get()- Evaluated because inputs changed.\n"
     ]
    },
    {
     "name": "stderr",
     "output_type": "stream",
     "text": [
      "INFO\tTask(Task-2) nodify.node.140241930015168:node.py:get()- Evaluated because inputs changed.\n"
     ]
    },
    {
     "data": {
      "text/html": [
       "<div>            <script src=\"https://cdnjs.cloudflare.com/ajax/libs/mathjax/2.7.5/MathJax.js?config=TeX-AMS-MML_SVG\"></script><script type=\"text/javascript\">if (window.MathJax && window.MathJax.Hub && window.MathJax.Hub.Config) {window.MathJax.Hub.Config({SVG: {font: \"STIX-Web\"}});}</script>                <script type=\"text/javascript\">window.PlotlyConfig = {MathJaxConfig: 'local'};</script>\n",
       "        <script charset=\"utf-8\" src=\"https://cdn.plot.ly/plotly-3.1.1.min.js\" integrity=\"sha256-HUEFyfiTnZJxCxur99FjbKYTvKSzwDaD3/x5TqHpFu4=\" crossorigin=\"anonymous\"></script>                <div id=\"d3829142-3d16-4034-9187-2c4d5e2fdd61\" class=\"plotly-graph-div\" style=\"height:525px; width:100%;\"></div>            <script type=\"text/javascript\">                window.PLOTLYENV=window.PLOTLYENV || {};                                if (document.getElementById(\"d3829142-3d16-4034-9187-2c4d5e2fdd61\")) {                    Plotly.newPlot(                        \"d3829142-3d16-4034-9187-2c4d5e2fdd61\",                        [{\"coloraxis\":\"coloraxis\",\"meta\":{},\"opacity\":1,\"texttemplate\":\"%{z:.2f}\",\"z\":{\"dtype\":\"f8\",\"bdata\":\"umRqejV65z+EQ4+thvDTv60qyBY3K+I\\u002fAPiGu93tQL+AiWD+94uCvwAAAAAAAPh\\u002fAAAAAAAA+H8AAAAAAAD4fwAAAAAAAPh\\u002fXzKd1rKxsr8AAAAAAAD4fwAAAAAAAPh\\u002fAAAAAAAA+H8AAAAAAAD4fwAAAAAAAPh\\u002fhEOPrYbw078QHTs3bBXvv\\u002fhk+Rx8rMO\\u002fmIdGSAPP0L9gPmzhQkaYvwAAAAAAAPh\\u002fAAAAAAAA+H8AAAAAAAD4fwAAAAAAAPh\\u002fqLrNwoZJsL8AAAAAAAD4fwAAAAAAAPh\\u002fAAAAAAAA+H8AAAAAAAD4fwAAAAAAAPh\\u002frSrIFjcr4j\\u002f4ZPkcfKzDv8QUY\\u002fLMA9O\\u002f9l6GEbFj0j+k4gsHdETCPwAAAAAAAPh\\u002fAAAAAAAA+H8AAAAAAAD4fwAAAAAAAPh\\u002fVrF+gvoowD8AAAAAAAD4fwAAAAAAAPh\\u002fAAAAAAAA+H8AAAAAAAD4fwAAAAAAAPh\\u002fAPiGu93tQL+Yh0ZIA8\\u002fQv\\u002fZehhGxY9I\\u002f7LRAXY6B5r\\u002fIsZRDF2LUvwAAAAAAAPh\\u002fAAAAAAAA+H8AAAAAAAD4fwAAAAAAAPh\\u002fD2\\u002fHfRqyt78AAAAAAAD4fwAAAAAAAPh\\u002fAAAAAAAA+H8AAAAAAAD4fwAAAAAAAPh\\u002fgIlg\\u002fveLgr9gPmzhQkaYv6TiCwd0RMI\\u002fyLGUQxdi1L9w2qtQqOTnvwAAAAAAAPh\\u002fAAAAAAAA+H8AAAAAAAD4fwAAAAAAAPh\\u002fAAAAAAAA+H9fMp3WsrGyv6i6zcKGSbC\\u002fVrF+gvoowD8Pb8d9GrK3vwAAAAAAAPh\\u002f\",\"shape\":\"5, 15\"},\"zsmooth\":false,\"type\":\"heatmap\"}],                        {\"template\":{\"layout\":{\"hovermode\":\"closest\",\"paper_bgcolor\":\"white\",\"plot_bgcolor\":\"white\",\"scene\":{\"xaxis\":{\"color\":\"black\",\"gridcolor\":\"#ccc\",\"gridwidth\":1,\"linewidth\":1,\"mirror\":true,\"showgrid\":false,\"showline\":true,\"ticklen\":5,\"ticks\":\"outside\",\"ticksuffix\":\" \",\"visible\":true,\"zeroline\":false,\"zerolinecolor\":\"#ccc\",\"zerolinewidth\":1},\"yaxis\":{\"color\":\"black\",\"gridcolor\":\"#ccc\",\"gridwidth\":1,\"linewidth\":1,\"mirror\":true,\"showgrid\":false,\"showline\":true,\"ticklen\":5,\"ticks\":\"outside\",\"ticksuffix\":\" \",\"visible\":true,\"zeroline\":false,\"zerolinecolor\":\"#ccc\",\"zerolinewidth\":1},\"zaxis\":{\"color\":\"black\",\"gridcolor\":\"#ccc\",\"gridwidth\":1,\"linewidth\":1,\"mirror\":true,\"showgrid\":false,\"showline\":true,\"ticklen\":5,\"ticks\":\"outside\",\"ticksuffix\":\" \",\"visible\":true,\"zeroline\":false,\"zerolinecolor\":\"#ccc\",\"zerolinewidth\":1}},\"xaxis\":{\"color\":\"black\",\"gridcolor\":\"#ccc\",\"gridwidth\":1,\"linewidth\":1,\"mirror\":true,\"showgrid\":false,\"showline\":true,\"ticklen\":5,\"ticks\":\"outside\",\"ticksuffix\":\" \",\"visible\":true,\"zeroline\":false,\"zerolinecolor\":\"#ccc\",\"zerolinewidth\":1},\"yaxis\":{\"color\":\"black\",\"gridcolor\":\"#ccc\",\"gridwidth\":1,\"linewidth\":1,\"mirror\":true,\"showgrid\":false,\"showline\":true,\"ticklen\":5,\"ticks\":\"outside\",\"ticksuffix\":\" \",\"visible\":true,\"zeroline\":false,\"zerolinecolor\":\"#ccc\",\"zerolinewidth\":1}}},\"coloraxis\":{\"colorscale\":[[0.0,\"rgb(0, 147, 146)\"],[0.16666666666666666,\"rgb(57, 177, 133)\"],[0.3333333333333333,\"rgb(156, 203, 134)\"],[0.5,\"rgb(233, 226, 156)\"],[0.6666666666666666,\"rgb(238, 180, 121)\"],[0.8333333333333334,\"rgb(232, 132, 113)\"],[1.0,\"rgb(207, 89, 126)\"]],\"cmid\":0,\"showscale\":true},\"xaxis\":{\"scaleanchor\":\"y\",\"scaleratio\":1,\"range\":[-0.5,14.5],\"constrain\":\"domain\"},\"scene\":{\"aspectmode\":\"data\",\"xaxis\":{\"range\":[-0.5,14.5]},\"yaxis\":{\"range\":[4.5,-0.5]}},\"yaxis\":{\"range\":[4.5,-0.5],\"constrain\":\"domain\"}},                        {\"responsive\": true}                    ).then(function(){\n",
       "                            \n",
       "var gd = document.getElementById('d3829142-3d16-4034-9187-2c4d5e2fdd61');\n",
       "var x = new MutationObserver(function (mutations, observer) {{\n",
       "        var display = window.getComputedStyle(gd).display;\n",
       "        if (!display || display === 'none') {{\n",
       "            console.log([gd, 'removed!']);\n",
       "            Plotly.purge(gd);\n",
       "            observer.disconnect();\n",
       "        }}\n",
       "}});\n",
       "\n",
       "// Listen for the removal of the full notebook cells\n",
       "var notebookContainer = gd.closest('#notebook-container');\n",
       "if (notebookContainer) {{\n",
       "    x.observe(notebookContainer, {childList: true});\n",
       "}}\n",
       "\n",
       "// Listen for the clearing of the current output cell\n",
       "var outputEl = gd.closest('.output');\n",
       "if (outputEl) {{\n",
       "    x.observe(outputEl, {childList: true});\n",
       "}}\n",
       "\n",
       "                        })                };            </script>        </div>"
      ]
     },
     "metadata": {},
     "output_type": "display_data"
    }
   ],
   "source": [
    "plot.update_inputs(text=\".2f\")"
   ]
  },
  {
   "cell_type": "markdown",
   "metadata": {},
   "source": [
    "You can tweak the style of text with the `textfont` input, which is a dictionary with three (optional) keys:\n",
    "\n",
    "- `color`: Text color.\n",
    "- `family`: Font family for the text. Note that different backends might support different fonts.\n",
    "- `size`: The size of the font.\n",
    "\n",
    "The default value will be used for any key that you don't include in the dictionary."
   ]
  },
  {
   "cell_type": "code",
   "execution_count": 9,
   "metadata": {
    "execution": {
     "iopub.execute_input": "2025-10-08T13:16:16.882605Z",
     "iopub.status.busy": "2025-10-08T13:16:16.882415Z",
     "iopub.status.idle": "2025-10-08T13:16:16.979182Z",
     "shell.execute_reply": "2025-10-08T13:16:16.978675Z"
    }
   },
   "outputs": [
    {
     "name": "stderr",
     "output_type": "stream",
     "text": [
      "INFO\tTask(Task-2) nodify.node.140241929927424:node.py:get()- No need to evaluate\n"
     ]
    },
    {
     "name": "stderr",
     "output_type": "stream",
     "text": [
      "INFO\tTask(Task-2) nodify.node.140241931120528:node.py:get()- No need to evaluate\n"
     ]
    },
    {
     "name": "stderr",
     "output_type": "stream",
     "text": [
      "INFO\tTask(Task-2) nodify.node.140241929921088:node.py:get()- No need to evaluate\n"
     ]
    },
    {
     "name": "stderr",
     "output_type": "stream",
     "text": [
      "INFO\tTask(Task-2) nodify.node.140241929922576:node.py:get()- No need to evaluate\n"
     ]
    },
    {
     "name": "stderr",
     "output_type": "stream",
     "text": [
      "INFO\tTask(Task-2) nodify.node.140241929922528:node.py:get()- No need to evaluate\n"
     ]
    },
    {
     "name": "stderr",
     "output_type": "stream",
     "text": [
      "INFO\tTask(Task-2) nodify.node.140241930011184:node.py:get()- No need to evaluate\n"
     ]
    },
    {
     "name": "stderr",
     "output_type": "stream",
     "text": [
      "INFO\tTask(Task-2) nodify.node.140241929924352:node.py:get()- No need to evaluate\n"
     ]
    },
    {
     "name": "stderr",
     "output_type": "stream",
     "text": [
      "INFO\tTask(Task-2) nodify.node.140241929924736:node.py:get()- No need to evaluate\n"
     ]
    },
    {
     "name": "stderr",
     "output_type": "stream",
     "text": [
      "INFO\tTask(Task-2) nodify.node.140241931120528:node.py:get()- No need to evaluate\n"
     ]
    },
    {
     "name": "stderr",
     "output_type": "stream",
     "text": [
      "INFO\tTask(Task-2) nodify.node.140241929925120:node.py:get()- No need to evaluate\n"
     ]
    },
    {
     "name": "stderr",
     "output_type": "stream",
     "text": [
      "INFO\tTask(Task-2) nodify.node.140241929924736:node.py:get()- No need to evaluate\n"
     ]
    },
    {
     "name": "stderr",
     "output_type": "stream",
     "text": [
      "INFO\tTask(Task-2) nodify.node.140241930012480:node.py:get()- No need to evaluate\n"
     ]
    },
    {
     "name": "stderr",
     "output_type": "stream",
     "text": [
      "INFO\tTask(Task-2) nodify.node.140241929923968:node.py:get()- No need to evaluate\n"
     ]
    },
    {
     "name": "stderr",
     "output_type": "stream",
     "text": [
      "INFO\tTask(Task-2) nodify.node.140241929925504:node.py:get()- No need to evaluate\n"
     ]
    },
    {
     "name": "stderr",
     "output_type": "stream",
     "text": [
      "INFO\tTask(Task-2) nodify.node.140241929925888:node.py:get()- Evaluated because inputs changed.\n"
     ]
    },
    {
     "name": "stderr",
     "output_type": "stream",
     "text": [
      "INFO\tTask(Task-2) nodify.node.140241930012384:node.py:get()- Evaluated because inputs changed.\n"
     ]
    },
    {
     "name": "stderr",
     "output_type": "stream",
     "text": [
      "INFO\tTask(Task-2) nodify.node.140241931120528:node.py:get()- No need to evaluate\n"
     ]
    },
    {
     "name": "stderr",
     "output_type": "stream",
     "text": [
      "INFO\tTask(Task-2) nodify.node.140241929921088:node.py:get()- No need to evaluate\n"
     ]
    },
    {
     "name": "stderr",
     "output_type": "stream",
     "text": [
      "INFO\tTask(Task-2) nodify.node.140241929922576:node.py:get()- No need to evaluate\n"
     ]
    },
    {
     "name": "stderr",
     "output_type": "stream",
     "text": [
      "INFO\tTask(Task-2) nodify.node.140241929922528:node.py:get()- No need to evaluate\n"
     ]
    },
    {
     "name": "stderr",
     "output_type": "stream",
     "text": [
      "INFO\tTask(Task-2) nodify.node.140241930011184:node.py:get()- No need to evaluate\n"
     ]
    },
    {
     "name": "stderr",
     "output_type": "stream",
     "text": [
      "INFO\tTask(Task-2) nodify.node.140241929927040:node.py:get()- No need to evaluate\n"
     ]
    },
    {
     "name": "stderr",
     "output_type": "stream",
     "text": [
      "INFO\tTask(Task-2) nodify.node.140241930013152:node.py:get()- No need to evaluate\n"
     ]
    },
    {
     "name": "stderr",
     "output_type": "stream",
     "text": [
      "INFO\tTask(Task-2) nodify.node.140241930012528:node.py:get()- No need to evaluate\n"
     ]
    },
    {
     "name": "stderr",
     "output_type": "stream",
     "text": [
      "INFO\tTask(Task-2) nodify.node.140241929922192:node.py:get()- No need to evaluate\n"
     ]
    },
    {
     "name": "stderr",
     "output_type": "stream",
     "text": [
      "INFO\tTask(Task-2) nodify.node.140241931120528:node.py:get()- No need to evaluate\n"
     ]
    },
    {
     "name": "stderr",
     "output_type": "stream",
     "text": [
      "INFO\tTask(Task-2) nodify.node.140241929922768:node.py:get()- No need to evaluate\n"
     ]
    },
    {
     "name": "stderr",
     "output_type": "stream",
     "text": [
      "INFO\tTask(Task-2) nodify.node.140241929928672:node.py:get()- No need to evaluate\n"
     ]
    },
    {
     "name": "stderr",
     "output_type": "stream",
     "text": [
      "INFO\tTask(Task-2) nodify.node.140241931120528:node.py:get()- No need to evaluate\n"
     ]
    },
    {
     "name": "stderr",
     "output_type": "stream",
     "text": [
      "INFO\tTask(Task-2) nodify.node.140241930011280:node.py:get()- No need to evaluate\n"
     ]
    },
    {
     "name": "stderr",
     "output_type": "stream",
     "text": [
      "INFO\tTask(Task-2) nodify.node.140241930013200:node.py:get()- No need to evaluate\n"
     ]
    },
    {
     "name": "stderr",
     "output_type": "stream",
     "text": [
      "INFO\tTask(Task-2) nodify.node.140241929923152:node.py:get()- No need to evaluate\n"
     ]
    },
    {
     "name": "stderr",
     "output_type": "stream",
     "text": [
      "INFO\tTask(Task-2) nodify.node.140241931120528:node.py:get()- No need to evaluate\n"
     ]
    },
    {
     "name": "stderr",
     "output_type": "stream",
     "text": [
      "INFO\tTask(Task-2) nodify.node.140241929922768:node.py:get()- No need to evaluate\n"
     ]
    },
    {
     "name": "stderr",
     "output_type": "stream",
     "text": [
      "INFO\tTask(Task-2) nodify.node.140241929928672:node.py:get()- No need to evaluate\n"
     ]
    },
    {
     "name": "stderr",
     "output_type": "stream",
     "text": [
      "INFO\tTask(Task-2) nodify.node.140241931120528:node.py:get()- No need to evaluate\n"
     ]
    },
    {
     "name": "stderr",
     "output_type": "stream",
     "text": [
      "INFO\tTask(Task-2) nodify.node.140241930011280:node.py:get()- No need to evaluate\n"
     ]
    },
    {
     "name": "stderr",
     "output_type": "stream",
     "text": [
      "INFO\tTask(Task-2) nodify.node.140241930013872:node.py:get()- No need to evaluate\n"
     ]
    },
    {
     "name": "stderr",
     "output_type": "stream",
     "text": [
      "INFO\tTask(Task-2) nodify.node.140241929923536:node.py:get()- No need to evaluate\n"
     ]
    },
    {
     "name": "stderr",
     "output_type": "stream",
     "text": [
      "INFO\tTask(Task-2) nodify.node.140241931120528:node.py:get()- No need to evaluate\n"
     ]
    },
    {
     "name": "stderr",
     "output_type": "stream",
     "text": [
      "INFO\tTask(Task-2) nodify.node.140241929922768:node.py:get()- No need to evaluate\n"
     ]
    },
    {
     "name": "stderr",
     "output_type": "stream",
     "text": [
      "INFO\tTask(Task-2) nodify.node.140241929928672:node.py:get()- No need to evaluate\n"
     ]
    },
    {
     "name": "stderr",
     "output_type": "stream",
     "text": [
      "INFO\tTask(Task-2) nodify.node.140241931120528:node.py:get()- No need to evaluate\n"
     ]
    },
    {
     "name": "stderr",
     "output_type": "stream",
     "text": [
      "INFO\tTask(Task-2) nodify.node.140241930011280:node.py:get()- No need to evaluate\n"
     ]
    },
    {
     "name": "stderr",
     "output_type": "stream",
     "text": [
      "INFO\tTask(Task-2) nodify.node.140241930014208:node.py:get()- No need to evaluate\n"
     ]
    },
    {
     "name": "stderr",
     "output_type": "stream",
     "text": [
      "INFO\tTask(Task-2) nodify.node.140241931120528:node.py:get()- No need to evaluate\n"
     ]
    },
    {
     "name": "stderr",
     "output_type": "stream",
     "text": [
      "INFO\tTask(Task-2) nodify.node.140241929921088:node.py:get()- No need to evaluate\n"
     ]
    },
    {
     "name": "stderr",
     "output_type": "stream",
     "text": [
      "INFO\tTask(Task-2) nodify.node.140241929922576:node.py:get()- No need to evaluate\n"
     ]
    },
    {
     "name": "stderr",
     "output_type": "stream",
     "text": [
      "INFO\tTask(Task-2) nodify.node.140241929922528:node.py:get()- No need to evaluate\n"
     ]
    },
    {
     "name": "stderr",
     "output_type": "stream",
     "text": [
      "INFO\tTask(Task-2) nodify.node.140241930011184:node.py:get()- No need to evaluate\n"
     ]
    },
    {
     "name": "stderr",
     "output_type": "stream",
     "text": [
      "INFO\tTask(Task-2) nodify.node.140241931120528:node.py:get()- No need to evaluate\n"
     ]
    },
    {
     "name": "stderr",
     "output_type": "stream",
     "text": [
      "INFO\tTask(Task-2) nodify.node.140241929922768:node.py:get()- No need to evaluate\n"
     ]
    },
    {
     "name": "stderr",
     "output_type": "stream",
     "text": [
      "INFO\tTask(Task-2) nodify.node.140241929928672:node.py:get()- No need to evaluate\n"
     ]
    },
    {
     "name": "stderr",
     "output_type": "stream",
     "text": [
      "INFO\tTask(Task-2) nodify.node.140241931120528:node.py:get()- No need to evaluate\n"
     ]
    },
    {
     "name": "stderr",
     "output_type": "stream",
     "text": [
      "INFO\tTask(Task-2) nodify.node.140241930011280:node.py:get()- No need to evaluate\n"
     ]
    },
    {
     "name": "stderr",
     "output_type": "stream",
     "text": [
      "INFO\tTask(Task-2) nodify.node.140241929926656:node.py:get()- No need to evaluate\n"
     ]
    },
    {
     "name": "stderr",
     "output_type": "stream",
     "text": [
      "INFO\tTask(Task-2) nodify.node.140241929926272:node.py:get()- No need to evaluate\n"
     ]
    },
    {
     "name": "stderr",
     "output_type": "stream",
     "text": [
      "INFO\tTask(Task-2) nodify.node.140241930010992:node.py:get()- No need to evaluate\n"
     ]
    },
    {
     "name": "stderr",
     "output_type": "stream",
     "text": [
      "INFO\tTask(Task-2) nodify.node.140241930011424:node.py:get()- Evaluated because inputs changed.\n"
     ]
    },
    {
     "name": "stderr",
     "output_type": "stream",
     "text": [
      "INFO\tTask(Task-2) nodify.node.140241930014688:node.py:get()- Evaluated because inputs changed.\n"
     ]
    },
    {
     "name": "stderr",
     "output_type": "stream",
     "text": [
      "INFO\tTask(Task-2) nodify.node.140241930015168:node.py:get()- Evaluated because inputs changed.\n"
     ]
    },
    {
     "data": {
      "text/html": [
       "<div>            <script src=\"https://cdnjs.cloudflare.com/ajax/libs/mathjax/2.7.5/MathJax.js?config=TeX-AMS-MML_SVG\"></script><script type=\"text/javascript\">if (window.MathJax && window.MathJax.Hub && window.MathJax.Hub.Config) {window.MathJax.Hub.Config({SVG: {font: \"STIX-Web\"}});}</script>                <script type=\"text/javascript\">window.PlotlyConfig = {MathJaxConfig: 'local'};</script>\n",
       "        <script charset=\"utf-8\" src=\"https://cdn.plot.ly/plotly-3.1.1.min.js\" integrity=\"sha256-HUEFyfiTnZJxCxur99FjbKYTvKSzwDaD3/x5TqHpFu4=\" crossorigin=\"anonymous\"></script>                <div id=\"dab8e25d-3f45-4e38-a6c8-f30d324c68de\" class=\"plotly-graph-div\" style=\"height:525px; width:100%;\"></div>            <script type=\"text/javascript\">                window.PLOTLYENV=window.PLOTLYENV || {};                                if (document.getElementById(\"dab8e25d-3f45-4e38-a6c8-f30d324c68de\")) {                    Plotly.newPlot(                        \"dab8e25d-3f45-4e38-a6c8-f30d324c68de\",                        [{\"coloraxis\":\"coloraxis\",\"meta\":{},\"opacity\":1,\"text\":[[\"0.73\",\"-0.31\",\"0.57\",\"-0.00\",\"-0.01\",\"\",\"\",\"\",\"\",\"-0.07\",\"\",\"\",\"\",\"\",\"\"],[\"-0.31\",\"-0.97\",\"-0.15\",\"-0.26\",\"-0.02\",\"\",\"\",\"\",\"\",\"-0.06\",\"\",\"\",\"\",\"\",\"\"],[\"0.57\",\"-0.15\",\"-0.30\",\"0.29\",\"0.14\",\"\",\"\",\"\",\"\",\"0.13\",\"\",\"\",\"\",\"\",\"\"],[\"-0.00\",\"-0.26\",\"0.29\",\"-0.70\",\"-0.32\",\"\",\"\",\"\",\"\",\"-0.09\",\"\",\"\",\"\",\"\",\"\"],[\"-0.01\",\"-0.02\",\"0.14\",\"-0.32\",\"-0.75\",\"\",\"\",\"\",\"\",\"\",\"-0.07\",\"-0.06\",\"0.13\",\"-0.09\",\"\"]],\"textfont\":{\"color\":\"blue\",\"family\":\"times\",\"size\":15},\"texttemplate\":\"%{text}\",\"z\":{\"dtype\":\"f8\",\"bdata\":\"umRqejV65z+EQ4+thvDTv60qyBY3K+I\\u002fAPiGu93tQL+AiWD+94uCvwAAAAAAAPh\\u002fAAAAAAAA+H8AAAAAAAD4fwAAAAAAAPh\\u002fXzKd1rKxsr8AAAAAAAD4fwAAAAAAAPh\\u002fAAAAAAAA+H8AAAAAAAD4fwAAAAAAAPh\\u002fhEOPrYbw078QHTs3bBXvv\\u002fhk+Rx8rMO\\u002fmIdGSAPP0L9gPmzhQkaYvwAAAAAAAPh\\u002fAAAAAAAA+H8AAAAAAAD4fwAAAAAAAPh\\u002fqLrNwoZJsL8AAAAAAAD4fwAAAAAAAPh\\u002fAAAAAAAA+H8AAAAAAAD4fwAAAAAAAPh\\u002frSrIFjcr4j\\u002f4ZPkcfKzDv8QUY\\u002fLMA9O\\u002f9l6GEbFj0j+k4gsHdETCPwAAAAAAAPh\\u002fAAAAAAAA+H8AAAAAAAD4fwAAAAAAAPh\\u002fVrF+gvoowD8AAAAAAAD4fwAAAAAAAPh\\u002fAAAAAAAA+H8AAAAAAAD4fwAAAAAAAPh\\u002fAPiGu93tQL+Yh0ZIA8\\u002fQv\\u002fZehhGxY9I\\u002f7LRAXY6B5r\\u002fIsZRDF2LUvwAAAAAAAPh\\u002fAAAAAAAA+H8AAAAAAAD4fwAAAAAAAPh\\u002fD2\\u002fHfRqyt78AAAAAAAD4fwAAAAAAAPh\\u002fAAAAAAAA+H8AAAAAAAD4fwAAAAAAAPh\\u002fgIlg\\u002fveLgr9gPmzhQkaYv6TiCwd0RMI\\u002fyLGUQxdi1L9w2qtQqOTnvwAAAAAAAPh\\u002fAAAAAAAA+H8AAAAAAAD4fwAAAAAAAPh\\u002fAAAAAAAA+H9fMp3WsrGyv6i6zcKGSbC\\u002fVrF+gvoowD8Pb8d9GrK3vwAAAAAAAPh\\u002f\",\"shape\":\"5, 15\"},\"zsmooth\":false,\"type\":\"heatmap\"}],                        {\"template\":{\"layout\":{\"hovermode\":\"closest\",\"paper_bgcolor\":\"white\",\"plot_bgcolor\":\"white\",\"scene\":{\"xaxis\":{\"color\":\"black\",\"gridcolor\":\"#ccc\",\"gridwidth\":1,\"linewidth\":1,\"mirror\":true,\"showgrid\":false,\"showline\":true,\"ticklen\":5,\"ticks\":\"outside\",\"ticksuffix\":\" \",\"visible\":true,\"zeroline\":false,\"zerolinecolor\":\"#ccc\",\"zerolinewidth\":1},\"yaxis\":{\"color\":\"black\",\"gridcolor\":\"#ccc\",\"gridwidth\":1,\"linewidth\":1,\"mirror\":true,\"showgrid\":false,\"showline\":true,\"ticklen\":5,\"ticks\":\"outside\",\"ticksuffix\":\" \",\"visible\":true,\"zeroline\":false,\"zerolinecolor\":\"#ccc\",\"zerolinewidth\":1},\"zaxis\":{\"color\":\"black\",\"gridcolor\":\"#ccc\",\"gridwidth\":1,\"linewidth\":1,\"mirror\":true,\"showgrid\":false,\"showline\":true,\"ticklen\":5,\"ticks\":\"outside\",\"ticksuffix\":\" \",\"visible\":true,\"zeroline\":false,\"zerolinecolor\":\"#ccc\",\"zerolinewidth\":1}},\"xaxis\":{\"color\":\"black\",\"gridcolor\":\"#ccc\",\"gridwidth\":1,\"linewidth\":1,\"mirror\":true,\"showgrid\":false,\"showline\":true,\"ticklen\":5,\"ticks\":\"outside\",\"ticksuffix\":\" \",\"visible\":true,\"zeroline\":false,\"zerolinecolor\":\"#ccc\",\"zerolinewidth\":1},\"yaxis\":{\"color\":\"black\",\"gridcolor\":\"#ccc\",\"gridwidth\":1,\"linewidth\":1,\"mirror\":true,\"showgrid\":false,\"showline\":true,\"ticklen\":5,\"ticks\":\"outside\",\"ticksuffix\":\" \",\"visible\":true,\"zeroline\":false,\"zerolinecolor\":\"#ccc\",\"zerolinewidth\":1}}},\"coloraxis\":{\"colorscale\":[[0.0,\"rgb(0, 147, 146)\"],[0.16666666666666666,\"rgb(57, 177, 133)\"],[0.3333333333333333,\"rgb(156, 203, 134)\"],[0.5,\"rgb(233, 226, 156)\"],[0.6666666666666666,\"rgb(238, 180, 121)\"],[0.8333333333333334,\"rgb(232, 132, 113)\"],[1.0,\"rgb(207, 89, 126)\"]],\"cmid\":0,\"showscale\":true},\"xaxis\":{\"scaleanchor\":\"y\",\"scaleratio\":1,\"range\":[-0.5,14.5],\"constrain\":\"domain\"},\"scene\":{\"aspectmode\":\"data\",\"xaxis\":{\"range\":[-0.5,14.5]},\"yaxis\":{\"range\":[4.5,-0.5]}},\"yaxis\":{\"range\":[4.5,-0.5],\"constrain\":\"domain\"}},                        {\"responsive\": true}                    ).then(function(){\n",
       "                            \n",
       "var gd = document.getElementById('dab8e25d-3f45-4e38-a6c8-f30d324c68de');\n",
       "var x = new MutationObserver(function (mutations, observer) {{\n",
       "        var display = window.getComputedStyle(gd).display;\n",
       "        if (!display || display === 'none') {{\n",
       "            console.log([gd, 'removed!']);\n",
       "            Plotly.purge(gd);\n",
       "            observer.disconnect();\n",
       "        }}\n",
       "}});\n",
       "\n",
       "// Listen for the removal of the full notebook cells\n",
       "var notebookContainer = gd.closest('#notebook-container');\n",
       "if (notebookContainer) {{\n",
       "    x.observe(notebookContainer, {childList: true});\n",
       "}}\n",
       "\n",
       "// Listen for the clearing of the current output cell\n",
       "var outputEl = gd.closest('.output');\n",
       "if (outputEl) {{\n",
       "    x.observe(outputEl, {childList: true});\n",
       "}}\n",
       "\n",
       "                        })                };            </script>        </div>"
      ]
     },
     "metadata": {},
     "output_type": "display_data"
    }
   ],
   "source": [
    "plot.update_inputs(textfont={\"color\": \"blue\", \"family\": \"times\", \"size\": 15})"
   ]
  },
  {
   "cell_type": "markdown",
   "metadata": {},
   "source": [
    "If you want the text to go away, set the `text` input to `None`:"
   ]
  },
  {
   "cell_type": "code",
   "execution_count": 10,
   "metadata": {
    "execution": {
     "iopub.execute_input": "2025-10-08T13:16:16.981018Z",
     "iopub.status.busy": "2025-10-08T13:16:16.980827Z",
     "iopub.status.idle": "2025-10-08T13:16:17.078282Z",
     "shell.execute_reply": "2025-10-08T13:16:17.077673Z"
    }
   },
   "outputs": [
    {
     "name": "stderr",
     "output_type": "stream",
     "text": [
      "INFO\tTask(Task-2) nodify.node.140241929927424:node.py:get()- No need to evaluate\n"
     ]
    },
    {
     "name": "stderr",
     "output_type": "stream",
     "text": [
      "INFO\tTask(Task-2) nodify.node.140241931120528:node.py:get()- No need to evaluate\n"
     ]
    },
    {
     "name": "stderr",
     "output_type": "stream",
     "text": [
      "INFO\tTask(Task-2) nodify.node.140241929921088:node.py:get()- No need to evaluate\n"
     ]
    },
    {
     "name": "stderr",
     "output_type": "stream",
     "text": [
      "INFO\tTask(Task-2) nodify.node.140241929922576:node.py:get()- No need to evaluate\n"
     ]
    },
    {
     "name": "stderr",
     "output_type": "stream",
     "text": [
      "INFO\tTask(Task-2) nodify.node.140241929922528:node.py:get()- No need to evaluate\n"
     ]
    },
    {
     "name": "stderr",
     "output_type": "stream",
     "text": [
      "INFO\tTask(Task-2) nodify.node.140241930011184:node.py:get()- No need to evaluate\n"
     ]
    },
    {
     "name": "stderr",
     "output_type": "stream",
     "text": [
      "INFO\tTask(Task-2) nodify.node.140241929924352:node.py:get()- No need to evaluate\n"
     ]
    },
    {
     "name": "stderr",
     "output_type": "stream",
     "text": [
      "INFO\tTask(Task-2) nodify.node.140241929924736:node.py:get()- No need to evaluate\n"
     ]
    },
    {
     "name": "stderr",
     "output_type": "stream",
     "text": [
      "INFO\tTask(Task-2) nodify.node.140241931120528:node.py:get()- No need to evaluate\n"
     ]
    },
    {
     "name": "stderr",
     "output_type": "stream",
     "text": [
      "INFO\tTask(Task-2) nodify.node.140241929925120:node.py:get()- No need to evaluate\n"
     ]
    },
    {
     "name": "stderr",
     "output_type": "stream",
     "text": [
      "INFO\tTask(Task-2) nodify.node.140241929924736:node.py:get()- No need to evaluate\n"
     ]
    },
    {
     "name": "stderr",
     "output_type": "stream",
     "text": [
      "INFO\tTask(Task-2) nodify.node.140241930012480:node.py:get()- No need to evaluate\n"
     ]
    },
    {
     "name": "stderr",
     "output_type": "stream",
     "text": [
      "INFO\tTask(Task-2) nodify.node.140241929923968:node.py:get()- No need to evaluate\n"
     ]
    },
    {
     "name": "stderr",
     "output_type": "stream",
     "text": [
      "INFO\tTask(Task-2) nodify.node.140241929925504:node.py:get()- Evaluated because inputs changed.\n"
     ]
    },
    {
     "name": "stderr",
     "output_type": "stream",
     "text": [
      "INFO\tTask(Task-2) nodify.node.140241929925888:node.py:get()- No need to evaluate\n"
     ]
    },
    {
     "name": "stderr",
     "output_type": "stream",
     "text": [
      "INFO\tTask(Task-2) nodify.node.140241930012384:node.py:get()- Evaluated because inputs changed.\n"
     ]
    },
    {
     "name": "stderr",
     "output_type": "stream",
     "text": [
      "INFO\tTask(Task-2) nodify.node.140241931120528:node.py:get()- No need to evaluate\n"
     ]
    },
    {
     "name": "stderr",
     "output_type": "stream",
     "text": [
      "INFO\tTask(Task-2) nodify.node.140241929921088:node.py:get()- No need to evaluate\n"
     ]
    },
    {
     "name": "stderr",
     "output_type": "stream",
     "text": [
      "INFO\tTask(Task-2) nodify.node.140241929922576:node.py:get()- No need to evaluate\n"
     ]
    },
    {
     "name": "stderr",
     "output_type": "stream",
     "text": [
      "INFO\tTask(Task-2) nodify.node.140241929922528:node.py:get()- No need to evaluate\n"
     ]
    },
    {
     "name": "stderr",
     "output_type": "stream",
     "text": [
      "INFO\tTask(Task-2) nodify.node.140241930011184:node.py:get()- No need to evaluate\n"
     ]
    },
    {
     "name": "stderr",
     "output_type": "stream",
     "text": [
      "INFO\tTask(Task-2) nodify.node.140241929927040:node.py:get()- No need to evaluate\n"
     ]
    },
    {
     "name": "stderr",
     "output_type": "stream",
     "text": [
      "INFO\tTask(Task-2) nodify.node.140241930013152:node.py:get()- No need to evaluate\n"
     ]
    },
    {
     "name": "stderr",
     "output_type": "stream",
     "text": [
      "INFO\tTask(Task-2) nodify.node.140241930012528:node.py:get()- No need to evaluate\n"
     ]
    },
    {
     "name": "stderr",
     "output_type": "stream",
     "text": [
      "INFO\tTask(Task-2) nodify.node.140241929922192:node.py:get()- No need to evaluate\n"
     ]
    },
    {
     "name": "stderr",
     "output_type": "stream",
     "text": [
      "INFO\tTask(Task-2) nodify.node.140241931120528:node.py:get()- No need to evaluate\n"
     ]
    },
    {
     "name": "stderr",
     "output_type": "stream",
     "text": [
      "INFO\tTask(Task-2) nodify.node.140241929922768:node.py:get()- No need to evaluate\n"
     ]
    },
    {
     "name": "stderr",
     "output_type": "stream",
     "text": [
      "INFO\tTask(Task-2) nodify.node.140241929928672:node.py:get()- No need to evaluate\n"
     ]
    },
    {
     "name": "stderr",
     "output_type": "stream",
     "text": [
      "INFO\tTask(Task-2) nodify.node.140241931120528:node.py:get()- No need to evaluate\n"
     ]
    },
    {
     "name": "stderr",
     "output_type": "stream",
     "text": [
      "INFO\tTask(Task-2) nodify.node.140241930011280:node.py:get()- No need to evaluate\n"
     ]
    },
    {
     "name": "stderr",
     "output_type": "stream",
     "text": [
      "INFO\tTask(Task-2) nodify.node.140241930013200:node.py:get()- No need to evaluate\n"
     ]
    },
    {
     "name": "stderr",
     "output_type": "stream",
     "text": [
      "INFO\tTask(Task-2) nodify.node.140241929923152:node.py:get()- No need to evaluate\n"
     ]
    },
    {
     "name": "stderr",
     "output_type": "stream",
     "text": [
      "INFO\tTask(Task-2) nodify.node.140241931120528:node.py:get()- No need to evaluate\n"
     ]
    },
    {
     "name": "stderr",
     "output_type": "stream",
     "text": [
      "INFO\tTask(Task-2) nodify.node.140241929922768:node.py:get()- No need to evaluate\n"
     ]
    },
    {
     "name": "stderr",
     "output_type": "stream",
     "text": [
      "INFO\tTask(Task-2) nodify.node.140241929928672:node.py:get()- No need to evaluate\n"
     ]
    },
    {
     "name": "stderr",
     "output_type": "stream",
     "text": [
      "INFO\tTask(Task-2) nodify.node.140241931120528:node.py:get()- No need to evaluate\n"
     ]
    },
    {
     "name": "stderr",
     "output_type": "stream",
     "text": [
      "INFO\tTask(Task-2) nodify.node.140241930011280:node.py:get()- No need to evaluate\n"
     ]
    },
    {
     "name": "stderr",
     "output_type": "stream",
     "text": [
      "INFO\tTask(Task-2) nodify.node.140241930013872:node.py:get()- No need to evaluate\n"
     ]
    },
    {
     "name": "stderr",
     "output_type": "stream",
     "text": [
      "INFO\tTask(Task-2) nodify.node.140241929923536:node.py:get()- No need to evaluate\n"
     ]
    },
    {
     "name": "stderr",
     "output_type": "stream",
     "text": [
      "INFO\tTask(Task-2) nodify.node.140241931120528:node.py:get()- No need to evaluate\n"
     ]
    },
    {
     "name": "stderr",
     "output_type": "stream",
     "text": [
      "INFO\tTask(Task-2) nodify.node.140241929922768:node.py:get()- No need to evaluate\n"
     ]
    },
    {
     "name": "stderr",
     "output_type": "stream",
     "text": [
      "INFO\tTask(Task-2) nodify.node.140241929928672:node.py:get()- No need to evaluate\n"
     ]
    },
    {
     "name": "stderr",
     "output_type": "stream",
     "text": [
      "INFO\tTask(Task-2) nodify.node.140241931120528:node.py:get()- No need to evaluate\n"
     ]
    },
    {
     "name": "stderr",
     "output_type": "stream",
     "text": [
      "INFO\tTask(Task-2) nodify.node.140241930011280:node.py:get()- No need to evaluate\n"
     ]
    },
    {
     "name": "stderr",
     "output_type": "stream",
     "text": [
      "INFO\tTask(Task-2) nodify.node.140241930014208:node.py:get()- No need to evaluate\n"
     ]
    },
    {
     "name": "stderr",
     "output_type": "stream",
     "text": [
      "INFO\tTask(Task-2) nodify.node.140241931120528:node.py:get()- No need to evaluate\n"
     ]
    },
    {
     "name": "stderr",
     "output_type": "stream",
     "text": [
      "INFO\tTask(Task-2) nodify.node.140241929921088:node.py:get()- No need to evaluate\n"
     ]
    },
    {
     "name": "stderr",
     "output_type": "stream",
     "text": [
      "INFO\tTask(Task-2) nodify.node.140241929922576:node.py:get()- No need to evaluate\n"
     ]
    },
    {
     "name": "stderr",
     "output_type": "stream",
     "text": [
      "INFO\tTask(Task-2) nodify.node.140241929922528:node.py:get()- No need to evaluate\n"
     ]
    },
    {
     "name": "stderr",
     "output_type": "stream",
     "text": [
      "INFO\tTask(Task-2) nodify.node.140241930011184:node.py:get()- No need to evaluate\n"
     ]
    },
    {
     "name": "stderr",
     "output_type": "stream",
     "text": [
      "INFO\tTask(Task-2) nodify.node.140241931120528:node.py:get()- No need to evaluate\n"
     ]
    },
    {
     "name": "stderr",
     "output_type": "stream",
     "text": [
      "INFO\tTask(Task-2) nodify.node.140241929922768:node.py:get()- No need to evaluate\n"
     ]
    },
    {
     "name": "stderr",
     "output_type": "stream",
     "text": [
      "INFO\tTask(Task-2) nodify.node.140241929928672:node.py:get()- No need to evaluate\n"
     ]
    },
    {
     "name": "stderr",
     "output_type": "stream",
     "text": [
      "INFO\tTask(Task-2) nodify.node.140241931120528:node.py:get()- No need to evaluate\n"
     ]
    },
    {
     "name": "stderr",
     "output_type": "stream",
     "text": [
      "INFO\tTask(Task-2) nodify.node.140241930011280:node.py:get()- No need to evaluate\n"
     ]
    },
    {
     "name": "stderr",
     "output_type": "stream",
     "text": [
      "INFO\tTask(Task-2) nodify.node.140241929926656:node.py:get()- No need to evaluate\n"
     ]
    },
    {
     "name": "stderr",
     "output_type": "stream",
     "text": [
      "INFO\tTask(Task-2) nodify.node.140241929926272:node.py:get()- No need to evaluate\n"
     ]
    },
    {
     "name": "stderr",
     "output_type": "stream",
     "text": [
      "INFO\tTask(Task-2) nodify.node.140241930010992:node.py:get()- No need to evaluate\n"
     ]
    },
    {
     "name": "stderr",
     "output_type": "stream",
     "text": [
      "INFO\tTask(Task-2) nodify.node.140241930011424:node.py:get()- Evaluated because inputs changed.\n"
     ]
    },
    {
     "name": "stderr",
     "output_type": "stream",
     "text": [
      "INFO\tTask(Task-2) nodify.node.140241930014688:node.py:get()- Evaluated because inputs changed.\n"
     ]
    },
    {
     "name": "stderr",
     "output_type": "stream",
     "text": [
      "INFO\tTask(Task-2) nodify.node.140241930015168:node.py:get()- Evaluated because inputs changed.\n"
     ]
    },
    {
     "data": {
      "text/html": [
       "<div>            <script src=\"https://cdnjs.cloudflare.com/ajax/libs/mathjax/2.7.5/MathJax.js?config=TeX-AMS-MML_SVG\"></script><script type=\"text/javascript\">if (window.MathJax && window.MathJax.Hub && window.MathJax.Hub.Config) {window.MathJax.Hub.Config({SVG: {font: \"STIX-Web\"}});}</script>                <script type=\"text/javascript\">window.PlotlyConfig = {MathJaxConfig: 'local'};</script>\n",
       "        <script charset=\"utf-8\" src=\"https://cdn.plot.ly/plotly-3.1.1.min.js\" integrity=\"sha256-HUEFyfiTnZJxCxur99FjbKYTvKSzwDaD3/x5TqHpFu4=\" crossorigin=\"anonymous\"></script>                <div id=\"de8d44cd-1e19-4866-8908-52a1e9c7927a\" class=\"plotly-graph-div\" style=\"height:525px; width:100%;\"></div>            <script type=\"text/javascript\">                window.PLOTLYENV=window.PLOTLYENV || {};                                if (document.getElementById(\"de8d44cd-1e19-4866-8908-52a1e9c7927a\")) {                    Plotly.newPlot(                        \"de8d44cd-1e19-4866-8908-52a1e9c7927a\",                        [{\"coloraxis\":\"coloraxis\",\"meta\":{},\"opacity\":1,\"textfont\":{\"color\":\"blue\",\"family\":\"times\",\"size\":15},\"z\":{\"dtype\":\"f8\",\"bdata\":\"umRqejV65z+EQ4+thvDTv60qyBY3K+I\\u002fAPiGu93tQL+AiWD+94uCvwAAAAAAAPh\\u002fAAAAAAAA+H8AAAAAAAD4fwAAAAAAAPh\\u002fXzKd1rKxsr8AAAAAAAD4fwAAAAAAAPh\\u002fAAAAAAAA+H8AAAAAAAD4fwAAAAAAAPh\\u002fhEOPrYbw078QHTs3bBXvv\\u002fhk+Rx8rMO\\u002fmIdGSAPP0L9gPmzhQkaYvwAAAAAAAPh\\u002fAAAAAAAA+H8AAAAAAAD4fwAAAAAAAPh\\u002fqLrNwoZJsL8AAAAAAAD4fwAAAAAAAPh\\u002fAAAAAAAA+H8AAAAAAAD4fwAAAAAAAPh\\u002frSrIFjcr4j\\u002f4ZPkcfKzDv8QUY\\u002fLMA9O\\u002f9l6GEbFj0j+k4gsHdETCPwAAAAAAAPh\\u002fAAAAAAAA+H8AAAAAAAD4fwAAAAAAAPh\\u002fVrF+gvoowD8AAAAAAAD4fwAAAAAAAPh\\u002fAAAAAAAA+H8AAAAAAAD4fwAAAAAAAPh\\u002fAPiGu93tQL+Yh0ZIA8\\u002fQv\\u002fZehhGxY9I\\u002f7LRAXY6B5r\\u002fIsZRDF2LUvwAAAAAAAPh\\u002fAAAAAAAA+H8AAAAAAAD4fwAAAAAAAPh\\u002fD2\\u002fHfRqyt78AAAAAAAD4fwAAAAAAAPh\\u002fAAAAAAAA+H8AAAAAAAD4fwAAAAAAAPh\\u002fgIlg\\u002fveLgr9gPmzhQkaYv6TiCwd0RMI\\u002fyLGUQxdi1L9w2qtQqOTnvwAAAAAAAPh\\u002fAAAAAAAA+H8AAAAAAAD4fwAAAAAAAPh\\u002fAAAAAAAA+H9fMp3WsrGyv6i6zcKGSbC\\u002fVrF+gvoowD8Pb8d9GrK3vwAAAAAAAPh\\u002f\",\"shape\":\"5, 15\"},\"zsmooth\":false,\"type\":\"heatmap\"}],                        {\"template\":{\"layout\":{\"hovermode\":\"closest\",\"paper_bgcolor\":\"white\",\"plot_bgcolor\":\"white\",\"scene\":{\"xaxis\":{\"color\":\"black\",\"gridcolor\":\"#ccc\",\"gridwidth\":1,\"linewidth\":1,\"mirror\":true,\"showgrid\":false,\"showline\":true,\"ticklen\":5,\"ticks\":\"outside\",\"ticksuffix\":\" \",\"visible\":true,\"zeroline\":false,\"zerolinecolor\":\"#ccc\",\"zerolinewidth\":1},\"yaxis\":{\"color\":\"black\",\"gridcolor\":\"#ccc\",\"gridwidth\":1,\"linewidth\":1,\"mirror\":true,\"showgrid\":false,\"showline\":true,\"ticklen\":5,\"ticks\":\"outside\",\"ticksuffix\":\" \",\"visible\":true,\"zeroline\":false,\"zerolinecolor\":\"#ccc\",\"zerolinewidth\":1},\"zaxis\":{\"color\":\"black\",\"gridcolor\":\"#ccc\",\"gridwidth\":1,\"linewidth\":1,\"mirror\":true,\"showgrid\":false,\"showline\":true,\"ticklen\":5,\"ticks\":\"outside\",\"ticksuffix\":\" \",\"visible\":true,\"zeroline\":false,\"zerolinecolor\":\"#ccc\",\"zerolinewidth\":1}},\"xaxis\":{\"color\":\"black\",\"gridcolor\":\"#ccc\",\"gridwidth\":1,\"linewidth\":1,\"mirror\":true,\"showgrid\":false,\"showline\":true,\"ticklen\":5,\"ticks\":\"outside\",\"ticksuffix\":\" \",\"visible\":true,\"zeroline\":false,\"zerolinecolor\":\"#ccc\",\"zerolinewidth\":1},\"yaxis\":{\"color\":\"black\",\"gridcolor\":\"#ccc\",\"gridwidth\":1,\"linewidth\":1,\"mirror\":true,\"showgrid\":false,\"showline\":true,\"ticklen\":5,\"ticks\":\"outside\",\"ticksuffix\":\" \",\"visible\":true,\"zeroline\":false,\"zerolinecolor\":\"#ccc\",\"zerolinewidth\":1}}},\"coloraxis\":{\"colorscale\":[[0.0,\"rgb(0, 147, 146)\"],[0.16666666666666666,\"rgb(57, 177, 133)\"],[0.3333333333333333,\"rgb(156, 203, 134)\"],[0.5,\"rgb(233, 226, 156)\"],[0.6666666666666666,\"rgb(238, 180, 121)\"],[0.8333333333333334,\"rgb(232, 132, 113)\"],[1.0,\"rgb(207, 89, 126)\"]],\"cmid\":0,\"showscale\":true},\"xaxis\":{\"scaleanchor\":\"y\",\"scaleratio\":1,\"range\":[-0.5,14.5],\"constrain\":\"domain\"},\"scene\":{\"aspectmode\":\"data\",\"xaxis\":{\"range\":[-0.5,14.5]},\"yaxis\":{\"range\":[4.5,-0.5]}},\"yaxis\":{\"range\":[4.5,-0.5],\"constrain\":\"domain\"}},                        {\"responsive\": true}                    ).then(function(){\n",
       "                            \n",
       "var gd = document.getElementById('de8d44cd-1e19-4866-8908-52a1e9c7927a');\n",
       "var x = new MutationObserver(function (mutations, observer) {{\n",
       "        var display = window.getComputedStyle(gd).display;\n",
       "        if (!display || display === 'none') {{\n",
       "            console.log([gd, 'removed!']);\n",
       "            Plotly.purge(gd);\n",
       "            observer.disconnect();\n",
       "        }}\n",
       "}});\n",
       "\n",
       "// Listen for the removal of the full notebook cells\n",
       "var notebookContainer = gd.closest('#notebook-container');\n",
       "if (notebookContainer) {{\n",
       "    x.observe(notebookContainer, {childList: true});\n",
       "}}\n",
       "\n",
       "// Listen for the clearing of the current output cell\n",
       "var outputEl = gd.closest('.output');\n",
       "if (outputEl) {{\n",
       "    x.observe(outputEl, {childList: true});\n",
       "}}\n",
       "\n",
       "                        })                };            </script>        </div>"
      ]
     },
     "metadata": {},
     "output_type": "display_data"
    }
   ],
   "source": [
    "plot.update_inputs(text=None)"
   ]
  },
  {
   "cell_type": "code",
   "execution_count": 11,
   "metadata": {
    "execution": {
     "iopub.execute_input": "2025-10-08T13:16:17.080286Z",
     "iopub.status.busy": "2025-10-08T13:16:17.080109Z",
     "iopub.status.idle": "2025-10-08T13:16:17.082883Z",
     "shell.execute_reply": "2025-10-08T13:16:17.082449Z"
    }
   },
   "outputs": [],
   "source": [
    "plot = plot.update_inputs(textfont={}, text=\".2f\")"
   ]
  },
  {
   "cell_type": "markdown",
   "metadata": {},
   "source": [
    "## Separators\n",
    "\n",
    "Sparse atomic matrices may be hard to interpret because it's hard to know by eye to which atoms/orbitals an element belongs.\n",
    "\n",
    "Separators come to the rescue by providing a guide for your eye to quickly pinpoint what each element is. There are three types of separators:\n",
    "\n",
    "- `sc_lines`: Draw lines separating the **different cells of the auxiliary supercell**.\n",
    "- `atom_lines`: Draw lines separating the blocks corresponding to **each atom-atom interaction**.\n",
    "- `orbital_lines`: Within each atom, draw lines that **isolate the interactions between two sets of orbitals**. E.g. a set of 3 `p` orbitals from one atom and an `s` orbital from another atom.\n",
    "\n",
    "They all can be activated (deactivated) by setting the corresponding input to `True` (`False`)."
   ]
  },
  {
   "cell_type": "code",
   "execution_count": 12,
   "metadata": {
    "execution": {
     "iopub.execute_input": "2025-10-08T13:16:17.084574Z",
     "iopub.status.busy": "2025-10-08T13:16:17.084403Z",
     "iopub.status.idle": "2025-10-08T13:16:17.187420Z",
     "shell.execute_reply": "2025-10-08T13:16:17.186743Z"
    }
   },
   "outputs": [
    {
     "name": "stderr",
     "output_type": "stream",
     "text": [
      "INFO\tTask(Task-2) nodify.node.140241929927424:node.py:get()- No need to evaluate\n"
     ]
    },
    {
     "name": "stderr",
     "output_type": "stream",
     "text": [
      "INFO\tTask(Task-2) nodify.node.140241931120528:node.py:get()- No need to evaluate\n"
     ]
    },
    {
     "name": "stderr",
     "output_type": "stream",
     "text": [
      "INFO\tTask(Task-2) nodify.node.140241929921088:node.py:get()- No need to evaluate\n"
     ]
    },
    {
     "name": "stderr",
     "output_type": "stream",
     "text": [
      "INFO\tTask(Task-2) nodify.node.140241929922576:node.py:get()- No need to evaluate\n"
     ]
    },
    {
     "name": "stderr",
     "output_type": "stream",
     "text": [
      "INFO\tTask(Task-2) nodify.node.140241929922528:node.py:get()- No need to evaluate\n"
     ]
    },
    {
     "name": "stderr",
     "output_type": "stream",
     "text": [
      "INFO\tTask(Task-2) nodify.node.140241930011184:node.py:get()- No need to evaluate\n"
     ]
    },
    {
     "name": "stderr",
     "output_type": "stream",
     "text": [
      "INFO\tTask(Task-2) nodify.node.140241929924352:node.py:get()- No need to evaluate\n"
     ]
    },
    {
     "name": "stderr",
     "output_type": "stream",
     "text": [
      "INFO\tTask(Task-2) nodify.node.140241929924736:node.py:get()- No need to evaluate\n"
     ]
    },
    {
     "name": "stderr",
     "output_type": "stream",
     "text": [
      "INFO\tTask(Task-2) nodify.node.140241931120528:node.py:get()- No need to evaluate\n"
     ]
    },
    {
     "name": "stderr",
     "output_type": "stream",
     "text": [
      "INFO\tTask(Task-2) nodify.node.140241929925120:node.py:get()- No need to evaluate\n"
     ]
    },
    {
     "name": "stderr",
     "output_type": "stream",
     "text": [
      "INFO\tTask(Task-2) nodify.node.140241929924736:node.py:get()- No need to evaluate\n"
     ]
    },
    {
     "name": "stderr",
     "output_type": "stream",
     "text": [
      "INFO\tTask(Task-2) nodify.node.140241930012480:node.py:get()- No need to evaluate\n"
     ]
    },
    {
     "name": "stderr",
     "output_type": "stream",
     "text": [
      "INFO\tTask(Task-2) nodify.node.140241929923968:node.py:get()- No need to evaluate\n"
     ]
    },
    {
     "name": "stderr",
     "output_type": "stream",
     "text": [
      "INFO\tTask(Task-2) nodify.node.140241929925504:node.py:get()- Evaluated because inputs changed.\n"
     ]
    },
    {
     "name": "stderr",
     "output_type": "stream",
     "text": [
      "INFO\tTask(Task-2) nodify.node.140241929925888:node.py:get()- Evaluated because inputs changed.\n"
     ]
    },
    {
     "name": "stderr",
     "output_type": "stream",
     "text": [
      "INFO\tTask(Task-2) nodify.node.140241930012384:node.py:get()- Evaluated because inputs changed.\n"
     ]
    },
    {
     "name": "stderr",
     "output_type": "stream",
     "text": [
      "INFO\tTask(Task-2) nodify.node.140241931120528:node.py:get()- No need to evaluate\n"
     ]
    },
    {
     "name": "stderr",
     "output_type": "stream",
     "text": [
      "INFO\tTask(Task-2) nodify.node.140241929921088:node.py:get()- No need to evaluate\n"
     ]
    },
    {
     "name": "stderr",
     "output_type": "stream",
     "text": [
      "INFO\tTask(Task-2) nodify.node.140241929922576:node.py:get()- No need to evaluate\n"
     ]
    },
    {
     "name": "stderr",
     "output_type": "stream",
     "text": [
      "INFO\tTask(Task-2) nodify.node.140241929922528:node.py:get()- No need to evaluate\n"
     ]
    },
    {
     "name": "stderr",
     "output_type": "stream",
     "text": [
      "INFO\tTask(Task-2) nodify.node.140241930011184:node.py:get()- No need to evaluate\n"
     ]
    },
    {
     "name": "stderr",
     "output_type": "stream",
     "text": [
      "INFO\tTask(Task-2) nodify.node.140241929927040:node.py:get()- No need to evaluate\n"
     ]
    },
    {
     "name": "stderr",
     "output_type": "stream",
     "text": [
      "INFO\tTask(Task-2) nodify.node.140241930013152:node.py:get()- No need to evaluate\n"
     ]
    },
    {
     "name": "stderr",
     "output_type": "stream",
     "text": [
      "INFO\tTask(Task-2) nodify.node.140241930012528:node.py:get()- No need to evaluate\n"
     ]
    },
    {
     "name": "stderr",
     "output_type": "stream",
     "text": [
      "INFO\tTask(Task-2) nodify.node.140241929922192:node.py:get()- Evaluated because inputs changed.\n"
     ]
    },
    {
     "name": "stderr",
     "output_type": "stream",
     "text": [
      "INFO\tTask(Task-2) nodify.node.140241931120528:node.py:get()- No need to evaluate\n"
     ]
    },
    {
     "name": "stderr",
     "output_type": "stream",
     "text": [
      "INFO\tTask(Task-2) nodify.node.140241929922768:node.py:get()- No need to evaluate\n"
     ]
    },
    {
     "name": "stderr",
     "output_type": "stream",
     "text": [
      "INFO\tTask(Task-2) nodify.node.140241929928672:node.py:get()- No need to evaluate\n"
     ]
    },
    {
     "name": "stderr",
     "output_type": "stream",
     "text": [
      "INFO\tTask(Task-2) nodify.node.140241931120528:node.py:get()- No need to evaluate\n"
     ]
    },
    {
     "name": "stderr",
     "output_type": "stream",
     "text": [
      "INFO\tTask(Task-2) nodify.node.140241930011280:node.py:get()- No need to evaluate\n"
     ]
    },
    {
     "name": "stderr",
     "output_type": "stream",
     "text": [
      "INFO\tTask(Task-2) nodify.node.140241930013200:node.py:get()- Evaluated because inputs changed.\n"
     ]
    },
    {
     "name": "stderr",
     "output_type": "stream",
     "text": [
      "INFO\tTask(Task-2) nodify.node.140241929923152:node.py:get()- Evaluated because inputs changed.\n"
     ]
    },
    {
     "name": "stderr",
     "output_type": "stream",
     "text": [
      "INFO\tTask(Task-2) nodify.node.140241931120528:node.py:get()- No need to evaluate\n"
     ]
    },
    {
     "name": "stderr",
     "output_type": "stream",
     "text": [
      "INFO\tTask(Task-2) nodify.node.140241929922768:node.py:get()- No need to evaluate\n"
     ]
    },
    {
     "name": "stderr",
     "output_type": "stream",
     "text": [
      "INFO\tTask(Task-2) nodify.node.140241929928672:node.py:get()- No need to evaluate\n"
     ]
    },
    {
     "name": "stderr",
     "output_type": "stream",
     "text": [
      "INFO\tTask(Task-2) nodify.node.140241931120528:node.py:get()- No need to evaluate\n"
     ]
    },
    {
     "name": "stderr",
     "output_type": "stream",
     "text": [
      "INFO\tTask(Task-2) nodify.node.140241930011280:node.py:get()- No need to evaluate\n"
     ]
    },
    {
     "name": "stderr",
     "output_type": "stream",
     "text": [
      "INFO\tTask(Task-2) nodify.node.140241930013872:node.py:get()- Evaluated because inputs changed.\n"
     ]
    },
    {
     "name": "stderr",
     "output_type": "stream",
     "text": [
      "INFO\tTask(Task-2) nodify.node.140241929923536:node.py:get()- Evaluated because inputs changed.\n"
     ]
    },
    {
     "name": "stderr",
     "output_type": "stream",
     "text": [
      "INFO\tTask(Task-2) nodify.node.140241931120528:node.py:get()- No need to evaluate\n"
     ]
    },
    {
     "name": "stderr",
     "output_type": "stream",
     "text": [
      "INFO\tTask(Task-2) nodify.node.140241929922768:node.py:get()- No need to evaluate\n"
     ]
    },
    {
     "name": "stderr",
     "output_type": "stream",
     "text": [
      "INFO\tTask(Task-2) nodify.node.140241929928672:node.py:get()- No need to evaluate\n"
     ]
    },
    {
     "name": "stderr",
     "output_type": "stream",
     "text": [
      "INFO\tTask(Task-2) nodify.node.140241931120528:node.py:get()- No need to evaluate\n"
     ]
    },
    {
     "name": "stderr",
     "output_type": "stream",
     "text": [
      "INFO\tTask(Task-2) nodify.node.140241930011280:node.py:get()- No need to evaluate\n"
     ]
    },
    {
     "name": "stderr",
     "output_type": "stream",
     "text": [
      "INFO\tTask(Task-2) nodify.node.140241930014208:node.py:get()- Evaluated because inputs changed.\n"
     ]
    },
    {
     "name": "stderr",
     "output_type": "stream",
     "text": [
      "INFO\tTask(Task-2) nodify.node.140241931120528:node.py:get()- No need to evaluate\n"
     ]
    },
    {
     "name": "stderr",
     "output_type": "stream",
     "text": [
      "INFO\tTask(Task-2) nodify.node.140241929921088:node.py:get()- No need to evaluate\n"
     ]
    },
    {
     "name": "stderr",
     "output_type": "stream",
     "text": [
      "INFO\tTask(Task-2) nodify.node.140241929922576:node.py:get()- No need to evaluate\n"
     ]
    },
    {
     "name": "stderr",
     "output_type": "stream",
     "text": [
      "INFO\tTask(Task-2) nodify.node.140241929922528:node.py:get()- No need to evaluate\n"
     ]
    },
    {
     "name": "stderr",
     "output_type": "stream",
     "text": [
      "INFO\tTask(Task-2) nodify.node.140241930011184:node.py:get()- No need to evaluate\n"
     ]
    },
    {
     "name": "stderr",
     "output_type": "stream",
     "text": [
      "INFO\tTask(Task-2) nodify.node.140241931120528:node.py:get()- No need to evaluate\n"
     ]
    },
    {
     "name": "stderr",
     "output_type": "stream",
     "text": [
      "INFO\tTask(Task-2) nodify.node.140241929922768:node.py:get()- No need to evaluate\n"
     ]
    },
    {
     "name": "stderr",
     "output_type": "stream",
     "text": [
      "INFO\tTask(Task-2) nodify.node.140241929928672:node.py:get()- No need to evaluate\n"
     ]
    },
    {
     "name": "stderr",
     "output_type": "stream",
     "text": [
      "INFO\tTask(Task-2) nodify.node.140241931120528:node.py:get()- No need to evaluate\n"
     ]
    },
    {
     "name": "stderr",
     "output_type": "stream",
     "text": [
      "INFO\tTask(Task-2) nodify.node.140241930011280:node.py:get()- No need to evaluate\n"
     ]
    },
    {
     "name": "stderr",
     "output_type": "stream",
     "text": [
      "INFO\tTask(Task-2) nodify.node.140241929926656:node.py:get()- No need to evaluate\n"
     ]
    },
    {
     "name": "stderr",
     "output_type": "stream",
     "text": [
      "INFO\tTask(Task-2) nodify.node.140241929926272:node.py:get()- No need to evaluate\n"
     ]
    },
    {
     "name": "stderr",
     "output_type": "stream",
     "text": [
      "INFO\tTask(Task-2) nodify.node.140241930010992:node.py:get()- No need to evaluate\n"
     ]
    },
    {
     "name": "stderr",
     "output_type": "stream",
     "text": [
      "INFO\tTask(Task-2) nodify.node.140241930011424:node.py:get()- Evaluated because inputs changed.\n"
     ]
    },
    {
     "name": "stderr",
     "output_type": "stream",
     "text": [
      "INFO\tTask(Task-2) nodify.node.140241930014688:node.py:get()- Evaluated because inputs changed.\n"
     ]
    },
    {
     "name": "stderr",
     "output_type": "stream",
     "text": [
      "INFO\tTask(Task-2) nodify.node.140241930015168:node.py:get()- Evaluated because inputs changed.\n"
     ]
    },
    {
     "data": {
      "text/html": [
       "<div>            <script src=\"https://cdnjs.cloudflare.com/ajax/libs/mathjax/2.7.5/MathJax.js?config=TeX-AMS-MML_SVG\"></script><script type=\"text/javascript\">if (window.MathJax && window.MathJax.Hub && window.MathJax.Hub.Config) {window.MathJax.Hub.Config({SVG: {font: \"STIX-Web\"}});}</script>                <script type=\"text/javascript\">window.PlotlyConfig = {MathJaxConfig: 'local'};</script>\n",
       "        <script charset=\"utf-8\" src=\"https://cdn.plot.ly/plotly-3.1.1.min.js\" integrity=\"sha256-HUEFyfiTnZJxCxur99FjbKYTvKSzwDaD3/x5TqHpFu4=\" crossorigin=\"anonymous\"></script>                <div id=\"a75bcb6d-eebe-479e-a183-565253bbdd9b\" class=\"plotly-graph-div\" style=\"height:525px; width:100%;\"></div>            <script type=\"text/javascript\">                window.PLOTLYENV=window.PLOTLYENV || {};                                if (document.getElementById(\"a75bcb6d-eebe-479e-a183-565253bbdd9b\")) {                    Plotly.newPlot(                        \"a75bcb6d-eebe-479e-a183-565253bbdd9b\",                        [{\"coloraxis\":\"coloraxis\",\"meta\":{},\"opacity\":1,\"texttemplate\":\"%{z:.2f}\",\"z\":{\"dtype\":\"f8\",\"bdata\":\"umRqejV65z+EQ4+thvDTv60qyBY3K+I\\u002fAPiGu93tQL+AiWD+94uCvwAAAAAAAPh\\u002fAAAAAAAA+H8AAAAAAAD4fwAAAAAAAPh\\u002fXzKd1rKxsr8AAAAAAAD4fwAAAAAAAPh\\u002fAAAAAAAA+H8AAAAAAAD4fwAAAAAAAPh\\u002fhEOPrYbw078QHTs3bBXvv\\u002fhk+Rx8rMO\\u002fmIdGSAPP0L9gPmzhQkaYvwAAAAAAAPh\\u002fAAAAAAAA+H8AAAAAAAD4fwAAAAAAAPh\\u002fqLrNwoZJsL8AAAAAAAD4fwAAAAAAAPh\\u002fAAAAAAAA+H8AAAAAAAD4fwAAAAAAAPh\\u002frSrIFjcr4j\\u002f4ZPkcfKzDv8QUY\\u002fLMA9O\\u002f9l6GEbFj0j+k4gsHdETCPwAAAAAAAPh\\u002fAAAAAAAA+H8AAAAAAAD4fwAAAAAAAPh\\u002fVrF+gvoowD8AAAAAAAD4fwAAAAAAAPh\\u002fAAAAAAAA+H8AAAAAAAD4fwAAAAAAAPh\\u002fAPiGu93tQL+Yh0ZIA8\\u002fQv\\u002fZehhGxY9I\\u002f7LRAXY6B5r\\u002fIsZRDF2LUvwAAAAAAAPh\\u002fAAAAAAAA+H8AAAAAAAD4fwAAAAAAAPh\\u002fD2\\u002fHfRqyt78AAAAAAAD4fwAAAAAAAPh\\u002fAAAAAAAA+H8AAAAAAAD4fwAAAAAAAPh\\u002fgIlg\\u002fveLgr9gPmzhQkaYv6TiCwd0RMI\\u002fyLGUQxdi1L9w2qtQqOTnvwAAAAAAAPh\\u002fAAAAAAAA+H8AAAAAAAD4fwAAAAAAAPh\\u002fAAAAAAAA+H9fMp3WsrGyv6i6zcKGSbC\\u002fVrF+gvoowD8Pb8d9GrK3vwAAAAAAAPh\\u002f\",\"shape\":\"5, 15\"},\"zsmooth\":false,\"type\":\"heatmap\"},{\"line\":{\"color\":\"black\",\"dash\":\"dot\"},\"meta\":{},\"mode\":\"lines\",\"name\":\"orbitals separators\",\"opacity\":1,\"showlegend\":false,\"x\":{\"dtype\":\"f8\",\"bdata\":\"AAAAAAAA4L8AAAAAAAASQAAAAAAAAPh\\u002fAAAAAAAA4D8AAAAAAADgPwAAAAAAAPh\\u002f\"},\"y\":{\"dtype\":\"f8\",\"bdata\":\"AAAAAAAA4D8AAAAAAADgPwAAAAAAAPh\\u002fAAAAAAAA4L8AAAAAAAASQAAAAAAAAPh\\u002f\"},\"type\":\"scatter\"},{\"line\":{\"color\":\"orange\"},\"meta\":{},\"mode\":\"lines\",\"name\":\"atoms separators\",\"opacity\":1,\"showlegend\":false,\"x\":{\"dtype\":\"f8\",\"bdata\":\"AAAAAAAA4L8AAAAAAAASQAAAAAAAAPh\\u002fAAAAAAAADEAAAAAAAAAMQAAAAAAAAPh\\u002f\"},\"y\":{\"dtype\":\"f8\",\"bdata\":\"AAAAAAAADEAAAAAAAAAMQAAAAAAAAPh\\u002fAAAAAAAA4L8AAAAAAAASQAAAAAAAAPh\\u002f\"},\"type\":\"scatter\"}],                        {\"template\":{\"layout\":{\"hovermode\":\"closest\",\"paper_bgcolor\":\"white\",\"plot_bgcolor\":\"white\",\"scene\":{\"xaxis\":{\"color\":\"black\",\"gridcolor\":\"#ccc\",\"gridwidth\":1,\"linewidth\":1,\"mirror\":true,\"showgrid\":false,\"showline\":true,\"ticklen\":5,\"ticks\":\"outside\",\"ticksuffix\":\" \",\"visible\":true,\"zeroline\":false,\"zerolinecolor\":\"#ccc\",\"zerolinewidth\":1},\"yaxis\":{\"color\":\"black\",\"gridcolor\":\"#ccc\",\"gridwidth\":1,\"linewidth\":1,\"mirror\":true,\"showgrid\":false,\"showline\":true,\"ticklen\":5,\"ticks\":\"outside\",\"ticksuffix\":\" \",\"visible\":true,\"zeroline\":false,\"zerolinecolor\":\"#ccc\",\"zerolinewidth\":1},\"zaxis\":{\"color\":\"black\",\"gridcolor\":\"#ccc\",\"gridwidth\":1,\"linewidth\":1,\"mirror\":true,\"showgrid\":false,\"showline\":true,\"ticklen\":5,\"ticks\":\"outside\",\"ticksuffix\":\" \",\"visible\":true,\"zeroline\":false,\"zerolinecolor\":\"#ccc\",\"zerolinewidth\":1}},\"xaxis\":{\"color\":\"black\",\"gridcolor\":\"#ccc\",\"gridwidth\":1,\"linewidth\":1,\"mirror\":true,\"showgrid\":false,\"showline\":true,\"ticklen\":5,\"ticks\":\"outside\",\"ticksuffix\":\" \",\"visible\":true,\"zeroline\":false,\"zerolinecolor\":\"#ccc\",\"zerolinewidth\":1},\"yaxis\":{\"color\":\"black\",\"gridcolor\":\"#ccc\",\"gridwidth\":1,\"linewidth\":1,\"mirror\":true,\"showgrid\":false,\"showline\":true,\"ticklen\":5,\"ticks\":\"outside\",\"ticksuffix\":\" \",\"visible\":true,\"zeroline\":false,\"zerolinecolor\":\"#ccc\",\"zerolinewidth\":1}}},\"coloraxis\":{\"colorscale\":[[0.0,\"rgb(0, 147, 146)\"],[0.16666666666666666,\"rgb(57, 177, 133)\"],[0.3333333333333333,\"rgb(156, 203, 134)\"],[0.5,\"rgb(233, 226, 156)\"],[0.6666666666666666,\"rgb(238, 180, 121)\"],[0.8333333333333334,\"rgb(232, 132, 113)\"],[1.0,\"rgb(207, 89, 126)\"]],\"cmid\":0,\"showscale\":true},\"xaxis\":{\"scaleanchor\":\"y\",\"scaleratio\":1,\"range\":[-0.5,14.5],\"constrain\":\"domain\"},\"scene\":{\"aspectmode\":\"data\",\"xaxis\":{\"range\":[-0.5,14.5]},\"yaxis\":{\"range\":[4.5,-0.5]}},\"yaxis\":{\"range\":[4.5,-0.5],\"constrain\":\"domain\"}},                        {\"responsive\": true}                    ).then(function(){\n",
       "                            \n",
       "var gd = document.getElementById('a75bcb6d-eebe-479e-a183-565253bbdd9b');\n",
       "var x = new MutationObserver(function (mutations, observer) {{\n",
       "        var display = window.getComputedStyle(gd).display;\n",
       "        if (!display || display === 'none') {{\n",
       "            console.log([gd, 'removed!']);\n",
       "            Plotly.purge(gd);\n",
       "            observer.disconnect();\n",
       "        }}\n",
       "}});\n",
       "\n",
       "// Listen for the removal of the full notebook cells\n",
       "var notebookContainer = gd.closest('#notebook-container');\n",
       "if (notebookContainer) {{\n",
       "    x.observe(notebookContainer, {childList: true});\n",
       "}}\n",
       "\n",
       "// Listen for the clearing of the current output cell\n",
       "var outputEl = gd.closest('.output');\n",
       "if (outputEl) {{\n",
       "    x.observe(outputEl, {childList: true});\n",
       "}}\n",
       "\n",
       "                        })                };            </script>        </div>"
      ]
     },
     "metadata": {},
     "output_type": "display_data"
    }
   ],
   "source": [
    "plot.update_inputs(\n",
    "    sc_lines=True,\n",
    "    atom_lines=True,\n",
    "    orbital_lines=True,\n",
    ")"
   ]
  },
  {
   "cell_type": "markdown",
   "metadata": {},
   "source": [
    "Sometimes, the **default styles for the lines might not suit your visualization**. For example, they might not play well with your chosen colorscale. In that case, you can **pass a dictionary of line styles** to the inputs."
   ]
  },
  {
   "cell_type": "code",
   "execution_count": 13,
   "metadata": {
    "execution": {
     "iopub.execute_input": "2025-10-08T13:16:17.189548Z",
     "iopub.status.busy": "2025-10-08T13:16:17.189328Z",
     "iopub.status.idle": "2025-10-08T13:16:17.290281Z",
     "shell.execute_reply": "2025-10-08T13:16:17.289692Z"
    }
   },
   "outputs": [
    {
     "name": "stderr",
     "output_type": "stream",
     "text": [
      "INFO\tTask(Task-2) nodify.node.140241929927424:node.py:get()- No need to evaluate\n"
     ]
    },
    {
     "name": "stderr",
     "output_type": "stream",
     "text": [
      "INFO\tTask(Task-2) nodify.node.140241931120528:node.py:get()- No need to evaluate\n"
     ]
    },
    {
     "name": "stderr",
     "output_type": "stream",
     "text": [
      "INFO\tTask(Task-2) nodify.node.140241929921088:node.py:get()- No need to evaluate\n"
     ]
    },
    {
     "name": "stderr",
     "output_type": "stream",
     "text": [
      "INFO\tTask(Task-2) nodify.node.140241929922576:node.py:get()- No need to evaluate\n"
     ]
    },
    {
     "name": "stderr",
     "output_type": "stream",
     "text": [
      "INFO\tTask(Task-2) nodify.node.140241929922528:node.py:get()- No need to evaluate\n"
     ]
    },
    {
     "name": "stderr",
     "output_type": "stream",
     "text": [
      "INFO\tTask(Task-2) nodify.node.140241930011184:node.py:get()- No need to evaluate\n"
     ]
    },
    {
     "name": "stderr",
     "output_type": "stream",
     "text": [
      "INFO\tTask(Task-2) nodify.node.140241929924352:node.py:get()- No need to evaluate\n"
     ]
    },
    {
     "name": "stderr",
     "output_type": "stream",
     "text": [
      "INFO\tTask(Task-2) nodify.node.140241929924736:node.py:get()- No need to evaluate\n"
     ]
    },
    {
     "name": "stderr",
     "output_type": "stream",
     "text": [
      "INFO\tTask(Task-2) nodify.node.140241931120528:node.py:get()- No need to evaluate\n"
     ]
    },
    {
     "name": "stderr",
     "output_type": "stream",
     "text": [
      "INFO\tTask(Task-2) nodify.node.140241929925120:node.py:get()- No need to evaluate\n"
     ]
    },
    {
     "name": "stderr",
     "output_type": "stream",
     "text": [
      "INFO\tTask(Task-2) nodify.node.140241929924736:node.py:get()- No need to evaluate\n"
     ]
    },
    {
     "name": "stderr",
     "output_type": "stream",
     "text": [
      "INFO\tTask(Task-2) nodify.node.140241930012480:node.py:get()- No need to evaluate\n"
     ]
    },
    {
     "name": "stderr",
     "output_type": "stream",
     "text": [
      "INFO\tTask(Task-2) nodify.node.140241929923968:node.py:get()- No need to evaluate\n"
     ]
    },
    {
     "name": "stderr",
     "output_type": "stream",
     "text": [
      "INFO\tTask(Task-2) nodify.node.140241929925504:node.py:get()- No need to evaluate\n"
     ]
    },
    {
     "name": "stderr",
     "output_type": "stream",
     "text": [
      "INFO\tTask(Task-2) nodify.node.140241929925888:node.py:get()- No need to evaluate\n"
     ]
    },
    {
     "name": "stderr",
     "output_type": "stream",
     "text": [
      "INFO\tTask(Task-2) nodify.node.140241930012384:node.py:get()- No need to evaluate\n"
     ]
    },
    {
     "name": "stderr",
     "output_type": "stream",
     "text": [
      "INFO\tTask(Task-2) nodify.node.140241931120528:node.py:get()- No need to evaluate\n"
     ]
    },
    {
     "name": "stderr",
     "output_type": "stream",
     "text": [
      "INFO\tTask(Task-2) nodify.node.140241929921088:node.py:get()- No need to evaluate\n"
     ]
    },
    {
     "name": "stderr",
     "output_type": "stream",
     "text": [
      "INFO\tTask(Task-2) nodify.node.140241929922576:node.py:get()- No need to evaluate\n"
     ]
    },
    {
     "name": "stderr",
     "output_type": "stream",
     "text": [
      "INFO\tTask(Task-2) nodify.node.140241929922528:node.py:get()- No need to evaluate\n"
     ]
    },
    {
     "name": "stderr",
     "output_type": "stream",
     "text": [
      "INFO\tTask(Task-2) nodify.node.140241930011184:node.py:get()- No need to evaluate\n"
     ]
    },
    {
     "name": "stderr",
     "output_type": "stream",
     "text": [
      "INFO\tTask(Task-2) nodify.node.140241929927040:node.py:get()- No need to evaluate\n"
     ]
    },
    {
     "name": "stderr",
     "output_type": "stream",
     "text": [
      "INFO\tTask(Task-2) nodify.node.140241930013152:node.py:get()- No need to evaluate\n"
     ]
    },
    {
     "name": "stderr",
     "output_type": "stream",
     "text": [
      "INFO\tTask(Task-2) nodify.node.140241930012528:node.py:get()- No need to evaluate\n"
     ]
    },
    {
     "name": "stderr",
     "output_type": "stream",
     "text": [
      "INFO\tTask(Task-2) nodify.node.140241929922192:node.py:get()- Evaluated because inputs changed.\n"
     ]
    },
    {
     "name": "stderr",
     "output_type": "stream",
     "text": [
      "INFO\tTask(Task-2) nodify.node.140241931120528:node.py:get()- No need to evaluate\n"
     ]
    },
    {
     "name": "stderr",
     "output_type": "stream",
     "text": [
      "INFO\tTask(Task-2) nodify.node.140241929922768:node.py:get()- No need to evaluate\n"
     ]
    },
    {
     "name": "stderr",
     "output_type": "stream",
     "text": [
      "INFO\tTask(Task-2) nodify.node.140241929928672:node.py:get()- No need to evaluate\n"
     ]
    },
    {
     "name": "stderr",
     "output_type": "stream",
     "text": [
      "INFO\tTask(Task-2) nodify.node.140241931120528:node.py:get()- No need to evaluate\n"
     ]
    },
    {
     "name": "stderr",
     "output_type": "stream",
     "text": [
      "INFO\tTask(Task-2) nodify.node.140241930011280:node.py:get()- No need to evaluate\n"
     ]
    },
    {
     "name": "stderr",
     "output_type": "stream",
     "text": [
      "INFO\tTask(Task-2) nodify.node.140241930013200:node.py:get()- Evaluated because inputs changed.\n"
     ]
    },
    {
     "name": "stderr",
     "output_type": "stream",
     "text": [
      "INFO\tTask(Task-2) nodify.node.140241929923152:node.py:get()- Evaluated because inputs changed.\n"
     ]
    },
    {
     "name": "stderr",
     "output_type": "stream",
     "text": [
      "INFO\tTask(Task-2) nodify.node.140241931120528:node.py:get()- No need to evaluate\n"
     ]
    },
    {
     "name": "stderr",
     "output_type": "stream",
     "text": [
      "INFO\tTask(Task-2) nodify.node.140241929922768:node.py:get()- No need to evaluate\n"
     ]
    },
    {
     "name": "stderr",
     "output_type": "stream",
     "text": [
      "INFO\tTask(Task-2) nodify.node.140241929928672:node.py:get()- No need to evaluate\n"
     ]
    },
    {
     "name": "stderr",
     "output_type": "stream",
     "text": [
      "INFO\tTask(Task-2) nodify.node.140241931120528:node.py:get()- No need to evaluate\n"
     ]
    },
    {
     "name": "stderr",
     "output_type": "stream",
     "text": [
      "INFO\tTask(Task-2) nodify.node.140241930011280:node.py:get()- No need to evaluate\n"
     ]
    },
    {
     "name": "stderr",
     "output_type": "stream",
     "text": [
      "INFO\tTask(Task-2) nodify.node.140241930013872:node.py:get()- Evaluated because inputs changed.\n"
     ]
    },
    {
     "name": "stderr",
     "output_type": "stream",
     "text": [
      "INFO\tTask(Task-2) nodify.node.140241929923536:node.py:get()- Evaluated because inputs changed.\n"
     ]
    },
    {
     "name": "stderr",
     "output_type": "stream",
     "text": [
      "INFO\tTask(Task-2) nodify.node.140241931120528:node.py:get()- No need to evaluate\n"
     ]
    },
    {
     "name": "stderr",
     "output_type": "stream",
     "text": [
      "INFO\tTask(Task-2) nodify.node.140241929922768:node.py:get()- No need to evaluate\n"
     ]
    },
    {
     "name": "stderr",
     "output_type": "stream",
     "text": [
      "INFO\tTask(Task-2) nodify.node.140241929928672:node.py:get()- No need to evaluate\n"
     ]
    },
    {
     "name": "stderr",
     "output_type": "stream",
     "text": [
      "INFO\tTask(Task-2) nodify.node.140241931120528:node.py:get()- No need to evaluate\n"
     ]
    },
    {
     "name": "stderr",
     "output_type": "stream",
     "text": [
      "INFO\tTask(Task-2) nodify.node.140241930011280:node.py:get()- No need to evaluate\n"
     ]
    },
    {
     "name": "stderr",
     "output_type": "stream",
     "text": [
      "INFO\tTask(Task-2) nodify.node.140241930014208:node.py:get()- Evaluated because inputs changed.\n"
     ]
    },
    {
     "name": "stderr",
     "output_type": "stream",
     "text": [
      "INFO\tTask(Task-2) nodify.node.140241931120528:node.py:get()- No need to evaluate\n"
     ]
    },
    {
     "name": "stderr",
     "output_type": "stream",
     "text": [
      "INFO\tTask(Task-2) nodify.node.140241929921088:node.py:get()- No need to evaluate\n"
     ]
    },
    {
     "name": "stderr",
     "output_type": "stream",
     "text": [
      "INFO\tTask(Task-2) nodify.node.140241929922576:node.py:get()- No need to evaluate\n"
     ]
    },
    {
     "name": "stderr",
     "output_type": "stream",
     "text": [
      "INFO\tTask(Task-2) nodify.node.140241929922528:node.py:get()- No need to evaluate\n"
     ]
    },
    {
     "name": "stderr",
     "output_type": "stream",
     "text": [
      "INFO\tTask(Task-2) nodify.node.140241930011184:node.py:get()- No need to evaluate\n"
     ]
    },
    {
     "name": "stderr",
     "output_type": "stream",
     "text": [
      "INFO\tTask(Task-2) nodify.node.140241931120528:node.py:get()- No need to evaluate\n"
     ]
    },
    {
     "name": "stderr",
     "output_type": "stream",
     "text": [
      "INFO\tTask(Task-2) nodify.node.140241929922768:node.py:get()- No need to evaluate\n"
     ]
    },
    {
     "name": "stderr",
     "output_type": "stream",
     "text": [
      "INFO\tTask(Task-2) nodify.node.140241929928672:node.py:get()- No need to evaluate\n"
     ]
    },
    {
     "name": "stderr",
     "output_type": "stream",
     "text": [
      "INFO\tTask(Task-2) nodify.node.140241931120528:node.py:get()- No need to evaluate\n"
     ]
    },
    {
     "name": "stderr",
     "output_type": "stream",
     "text": [
      "INFO\tTask(Task-2) nodify.node.140241930011280:node.py:get()- No need to evaluate\n"
     ]
    },
    {
     "name": "stderr",
     "output_type": "stream",
     "text": [
      "INFO\tTask(Task-2) nodify.node.140241929926656:node.py:get()- No need to evaluate\n"
     ]
    },
    {
     "name": "stderr",
     "output_type": "stream",
     "text": [
      "INFO\tTask(Task-2) nodify.node.140241929926272:node.py:get()- No need to evaluate\n"
     ]
    },
    {
     "name": "stderr",
     "output_type": "stream",
     "text": [
      "INFO\tTask(Task-2) nodify.node.140241930010992:node.py:get()- No need to evaluate\n"
     ]
    },
    {
     "name": "stderr",
     "output_type": "stream",
     "text": [
      "INFO\tTask(Task-2) nodify.node.140241930011424:node.py:get()- Evaluated because inputs changed.\n"
     ]
    },
    {
     "name": "stderr",
     "output_type": "stream",
     "text": [
      "INFO\tTask(Task-2) nodify.node.140241930014688:node.py:get()- Evaluated because inputs changed.\n"
     ]
    },
    {
     "name": "stderr",
     "output_type": "stream",
     "text": [
      "INFO\tTask(Task-2) nodify.node.140241930015168:node.py:get()- Evaluated because inputs changed.\n"
     ]
    },
    {
     "data": {
      "text/html": [
       "<div>            <script src=\"https://cdnjs.cloudflare.com/ajax/libs/mathjax/2.7.5/MathJax.js?config=TeX-AMS-MML_SVG\"></script><script type=\"text/javascript\">if (window.MathJax && window.MathJax.Hub && window.MathJax.Hub.Config) {window.MathJax.Hub.Config({SVG: {font: \"STIX-Web\"}});}</script>                <script type=\"text/javascript\">window.PlotlyConfig = {MathJaxConfig: 'local'};</script>\n",
       "        <script charset=\"utf-8\" src=\"https://cdn.plot.ly/plotly-3.1.1.min.js\" integrity=\"sha256-HUEFyfiTnZJxCxur99FjbKYTvKSzwDaD3/x5TqHpFu4=\" crossorigin=\"anonymous\"></script>                <div id=\"44fc1ba9-ca1d-479c-8e26-0facfde8915d\" class=\"plotly-graph-div\" style=\"height:525px; width:100%;\"></div>            <script type=\"text/javascript\">                window.PLOTLYENV=window.PLOTLYENV || {};                                if (document.getElementById(\"44fc1ba9-ca1d-479c-8e26-0facfde8915d\")) {                    Plotly.newPlot(                        \"44fc1ba9-ca1d-479c-8e26-0facfde8915d\",                        [{\"coloraxis\":\"coloraxis\",\"meta\":{},\"opacity\":1,\"texttemplate\":\"%{z:.2f}\",\"z\":{\"dtype\":\"f8\",\"bdata\":\"umRqejV65z+EQ4+thvDTv60qyBY3K+I\\u002fAPiGu93tQL+AiWD+94uCvwAAAAAAAPh\\u002fAAAAAAAA+H8AAAAAAAD4fwAAAAAAAPh\\u002fXzKd1rKxsr8AAAAAAAD4fwAAAAAAAPh\\u002fAAAAAAAA+H8AAAAAAAD4fwAAAAAAAPh\\u002fhEOPrYbw078QHTs3bBXvv\\u002fhk+Rx8rMO\\u002fmIdGSAPP0L9gPmzhQkaYvwAAAAAAAPh\\u002fAAAAAAAA+H8AAAAAAAD4fwAAAAAAAPh\\u002fqLrNwoZJsL8AAAAAAAD4fwAAAAAAAPh\\u002fAAAAAAAA+H8AAAAAAAD4fwAAAAAAAPh\\u002frSrIFjcr4j\\u002f4ZPkcfKzDv8QUY\\u002fLMA9O\\u002f9l6GEbFj0j+k4gsHdETCPwAAAAAAAPh\\u002fAAAAAAAA+H8AAAAAAAD4fwAAAAAAAPh\\u002fVrF+gvoowD8AAAAAAAD4fwAAAAAAAPh\\u002fAAAAAAAA+H8AAAAAAAD4fwAAAAAAAPh\\u002fAPiGu93tQL+Yh0ZIA8\\u002fQv\\u002fZehhGxY9I\\u002f7LRAXY6B5r\\u002fIsZRDF2LUvwAAAAAAAPh\\u002fAAAAAAAA+H8AAAAAAAD4fwAAAAAAAPh\\u002fD2\\u002fHfRqyt78AAAAAAAD4fwAAAAAAAPh\\u002fAAAAAAAA+H8AAAAAAAD4fwAAAAAAAPh\\u002fgIlg\\u002fveLgr9gPmzhQkaYv6TiCwd0RMI\\u002fyLGUQxdi1L9w2qtQqOTnvwAAAAAAAPh\\u002fAAAAAAAA+H8AAAAAAAD4fwAAAAAAAPh\\u002fAAAAAAAA+H9fMp3WsrGyv6i6zcKGSbC\\u002fVrF+gvoowD8Pb8d9GrK3vwAAAAAAAPh\\u002f\",\"shape\":\"5, 15\"},\"zsmooth\":false,\"type\":\"heatmap\"},{\"line\":{\"color\":\"pink\",\"dash\":\"dash\",\"width\":5},\"meta\":{},\"mode\":\"lines\",\"name\":\"orbitals separators\",\"opacity\":0.8,\"showlegend\":false,\"x\":{\"dtype\":\"f8\",\"bdata\":\"AAAAAAAA4L8AAAAAAAASQAAAAAAAAPh\\u002fAAAAAAAA4D8AAAAAAADgPwAAAAAAAPh\\u002f\"},\"y\":{\"dtype\":\"f8\",\"bdata\":\"AAAAAAAA4D8AAAAAAADgPwAAAAAAAPh\\u002fAAAAAAAA4L8AAAAAAAASQAAAAAAAAPh\\u002f\"},\"type\":\"scatter\"},{\"line\":{\"color\":\"gray\"},\"meta\":{},\"mode\":\"lines\",\"name\":\"atoms separators\",\"opacity\":1,\"showlegend\":false,\"x\":{\"dtype\":\"f8\",\"bdata\":\"AAAAAAAA4L8AAAAAAAASQAAAAAAAAPh\\u002fAAAAAAAADEAAAAAAAAAMQAAAAAAAAPh\\u002f\"},\"y\":{\"dtype\":\"f8\",\"bdata\":\"AAAAAAAADEAAAAAAAAAMQAAAAAAAAPh\\u002fAAAAAAAA4L8AAAAAAAASQAAAAAAAAPh\\u002f\"},\"type\":\"scatter\"}],                        {\"template\":{\"layout\":{\"hovermode\":\"closest\",\"paper_bgcolor\":\"white\",\"plot_bgcolor\":\"white\",\"scene\":{\"xaxis\":{\"color\":\"black\",\"gridcolor\":\"#ccc\",\"gridwidth\":1,\"linewidth\":1,\"mirror\":true,\"showgrid\":false,\"showline\":true,\"ticklen\":5,\"ticks\":\"outside\",\"ticksuffix\":\" \",\"visible\":true,\"zeroline\":false,\"zerolinecolor\":\"#ccc\",\"zerolinewidth\":1},\"yaxis\":{\"color\":\"black\",\"gridcolor\":\"#ccc\",\"gridwidth\":1,\"linewidth\":1,\"mirror\":true,\"showgrid\":false,\"showline\":true,\"ticklen\":5,\"ticks\":\"outside\",\"ticksuffix\":\" \",\"visible\":true,\"zeroline\":false,\"zerolinecolor\":\"#ccc\",\"zerolinewidth\":1},\"zaxis\":{\"color\":\"black\",\"gridcolor\":\"#ccc\",\"gridwidth\":1,\"linewidth\":1,\"mirror\":true,\"showgrid\":false,\"showline\":true,\"ticklen\":5,\"ticks\":\"outside\",\"ticksuffix\":\" \",\"visible\":true,\"zeroline\":false,\"zerolinecolor\":\"#ccc\",\"zerolinewidth\":1}},\"xaxis\":{\"color\":\"black\",\"gridcolor\":\"#ccc\",\"gridwidth\":1,\"linewidth\":1,\"mirror\":true,\"showgrid\":false,\"showline\":true,\"ticklen\":5,\"ticks\":\"outside\",\"ticksuffix\":\" \",\"visible\":true,\"zeroline\":false,\"zerolinecolor\":\"#ccc\",\"zerolinewidth\":1},\"yaxis\":{\"color\":\"black\",\"gridcolor\":\"#ccc\",\"gridwidth\":1,\"linewidth\":1,\"mirror\":true,\"showgrid\":false,\"showline\":true,\"ticklen\":5,\"ticks\":\"outside\",\"ticksuffix\":\" \",\"visible\":true,\"zeroline\":false,\"zerolinecolor\":\"#ccc\",\"zerolinewidth\":1}}},\"coloraxis\":{\"colorscale\":[[0.0,\"rgb(0, 147, 146)\"],[0.16666666666666666,\"rgb(57, 177, 133)\"],[0.3333333333333333,\"rgb(156, 203, 134)\"],[0.5,\"rgb(233, 226, 156)\"],[0.6666666666666666,\"rgb(238, 180, 121)\"],[0.8333333333333334,\"rgb(232, 132, 113)\"],[1.0,\"rgb(207, 89, 126)\"]],\"cmid\":0,\"showscale\":true},\"xaxis\":{\"scaleanchor\":\"y\",\"scaleratio\":1,\"range\":[-0.5,14.5],\"constrain\":\"domain\"},\"scene\":{\"aspectmode\":\"data\",\"xaxis\":{\"range\":[-0.5,14.5]},\"yaxis\":{\"range\":[4.5,-0.5]}},\"yaxis\":{\"range\":[4.5,-0.5],\"constrain\":\"domain\"}},                        {\"responsive\": true}                    ).then(function(){\n",
       "                            \n",
       "var gd = document.getElementById('44fc1ba9-ca1d-479c-8e26-0facfde8915d');\n",
       "var x = new MutationObserver(function (mutations, observer) {{\n",
       "        var display = window.getComputedStyle(gd).display;\n",
       "        if (!display || display === 'none') {{\n",
       "            console.log([gd, 'removed!']);\n",
       "            Plotly.purge(gd);\n",
       "            observer.disconnect();\n",
       "        }}\n",
       "}});\n",
       "\n",
       "// Listen for the removal of the full notebook cells\n",
       "var notebookContainer = gd.closest('#notebook-container');\n",
       "if (notebookContainer) {{\n",
       "    x.observe(notebookContainer, {childList: true});\n",
       "}}\n",
       "\n",
       "// Listen for the clearing of the current output cell\n",
       "var outputEl = gd.closest('.output');\n",
       "if (outputEl) {{\n",
       "    x.observe(outputEl, {childList: true});\n",
       "}}\n",
       "\n",
       "                        })                };            </script>        </div>"
      ]
     },
     "metadata": {},
     "output_type": "display_data"
    }
   ],
   "source": [
    "plot.update_inputs(\n",
    "    orbital_lines={\"color\": \"pink\", \"width\": 5, \"dash\": \"dash\", \"opacity\": 0.8},\n",
    "    sc_lines={\"width\": 4},\n",
    "    atom_lines={\"color\": \"gray\"},\n",
    ")"
   ]
  },
  {
   "cell_type": "markdown",
   "metadata": {},
   "source": [
    "## Labels\n",
    "\n",
    "You might want to have a clearer idea of the orbitals that correspond to a given matrix element. You can turn on labels with `set_labels`:"
   ]
  },
  {
   "cell_type": "code",
   "execution_count": 14,
   "metadata": {
    "execution": {
     "iopub.execute_input": "2025-10-08T13:16:17.292041Z",
     "iopub.status.busy": "2025-10-08T13:16:17.291842Z",
     "iopub.status.idle": "2025-10-08T13:16:17.400805Z",
     "shell.execute_reply": "2025-10-08T13:16:17.400286Z"
    }
   },
   "outputs": [
    {
     "name": "stderr",
     "output_type": "stream",
     "text": [
      "INFO\tTask(Task-2) nodify.node.140241929927424:node.py:get()- No need to evaluate\n"
     ]
    },
    {
     "name": "stderr",
     "output_type": "stream",
     "text": [
      "INFO\tTask(Task-2) nodify.node.140241931120528:node.py:get()- No need to evaluate\n"
     ]
    },
    {
     "name": "stderr",
     "output_type": "stream",
     "text": [
      "INFO\tTask(Task-2) nodify.node.140241929921088:node.py:get()- No need to evaluate\n"
     ]
    },
    {
     "name": "stderr",
     "output_type": "stream",
     "text": [
      "INFO\tTask(Task-2) nodify.node.140241929922576:node.py:get()- No need to evaluate\n"
     ]
    },
    {
     "name": "stderr",
     "output_type": "stream",
     "text": [
      "INFO\tTask(Task-2) nodify.node.140241929922528:node.py:get()- No need to evaluate\n"
     ]
    },
    {
     "name": "stderr",
     "output_type": "stream",
     "text": [
      "INFO\tTask(Task-2) nodify.node.140241930011184:node.py:get()- No need to evaluate\n"
     ]
    },
    {
     "name": "stderr",
     "output_type": "stream",
     "text": [
      "INFO\tTask(Task-2) nodify.node.140241929924352:node.py:get()- No need to evaluate\n"
     ]
    },
    {
     "name": "stderr",
     "output_type": "stream",
     "text": [
      "INFO\tTask(Task-2) nodify.node.140241929924736:node.py:get()- No need to evaluate\n"
     ]
    },
    {
     "name": "stderr",
     "output_type": "stream",
     "text": [
      "INFO\tTask(Task-2) nodify.node.140241931120528:node.py:get()- No need to evaluate\n"
     ]
    },
    {
     "name": "stderr",
     "output_type": "stream",
     "text": [
      "INFO\tTask(Task-2) nodify.node.140241929925120:node.py:get()- No need to evaluate\n"
     ]
    },
    {
     "name": "stderr",
     "output_type": "stream",
     "text": [
      "INFO\tTask(Task-2) nodify.node.140241929924736:node.py:get()- No need to evaluate\n"
     ]
    },
    {
     "name": "stderr",
     "output_type": "stream",
     "text": [
      "INFO\tTask(Task-2) nodify.node.140241930012480:node.py:get()- No need to evaluate\n"
     ]
    },
    {
     "name": "stderr",
     "output_type": "stream",
     "text": [
      "INFO\tTask(Task-2) nodify.node.140241929923968:node.py:get()- No need to evaluate\n"
     ]
    },
    {
     "name": "stderr",
     "output_type": "stream",
     "text": [
      "INFO\tTask(Task-2) nodify.node.140241929925504:node.py:get()- No need to evaluate\n"
     ]
    },
    {
     "name": "stderr",
     "output_type": "stream",
     "text": [
      "INFO\tTask(Task-2) nodify.node.140241929925888:node.py:get()- No need to evaluate\n"
     ]
    },
    {
     "name": "stderr",
     "output_type": "stream",
     "text": [
      "INFO\tTask(Task-2) nodify.node.140241930012384:node.py:get()- No need to evaluate\n"
     ]
    },
    {
     "name": "stderr",
     "output_type": "stream",
     "text": [
      "INFO\tTask(Task-2) nodify.node.140241931120528:node.py:get()- No need to evaluate\n"
     ]
    },
    {
     "name": "stderr",
     "output_type": "stream",
     "text": [
      "INFO\tTask(Task-2) nodify.node.140241929921088:node.py:get()- No need to evaluate\n"
     ]
    },
    {
     "name": "stderr",
     "output_type": "stream",
     "text": [
      "INFO\tTask(Task-2) nodify.node.140241929922576:node.py:get()- No need to evaluate\n"
     ]
    },
    {
     "name": "stderr",
     "output_type": "stream",
     "text": [
      "INFO\tTask(Task-2) nodify.node.140241929922528:node.py:get()- No need to evaluate\n"
     ]
    },
    {
     "name": "stderr",
     "output_type": "stream",
     "text": [
      "INFO\tTask(Task-2) nodify.node.140241930011184:node.py:get()- No need to evaluate\n"
     ]
    },
    {
     "name": "stderr",
     "output_type": "stream",
     "text": [
      "INFO\tTask(Task-2) nodify.node.140241929927040:node.py:get()- No need to evaluate\n"
     ]
    },
    {
     "name": "stderr",
     "output_type": "stream",
     "text": [
      "INFO\tTask(Task-2) nodify.node.140241930013152:node.py:get()- No need to evaluate\n"
     ]
    },
    {
     "name": "stderr",
     "output_type": "stream",
     "text": [
      "INFO\tTask(Task-2) nodify.node.140241930012528:node.py:get()- No need to evaluate\n"
     ]
    },
    {
     "name": "stderr",
     "output_type": "stream",
     "text": [
      "INFO\tTask(Task-2) nodify.node.140241929922192:node.py:get()- No need to evaluate\n"
     ]
    },
    {
     "name": "stderr",
     "output_type": "stream",
     "text": [
      "INFO\tTask(Task-2) nodify.node.140241931120528:node.py:get()- No need to evaluate\n"
     ]
    },
    {
     "name": "stderr",
     "output_type": "stream",
     "text": [
      "INFO\tTask(Task-2) nodify.node.140241929922768:node.py:get()- No need to evaluate\n"
     ]
    },
    {
     "name": "stderr",
     "output_type": "stream",
     "text": [
      "INFO\tTask(Task-2) nodify.node.140241929928672:node.py:get()- No need to evaluate\n"
     ]
    },
    {
     "name": "stderr",
     "output_type": "stream",
     "text": [
      "INFO\tTask(Task-2) nodify.node.140241931120528:node.py:get()- No need to evaluate\n"
     ]
    },
    {
     "name": "stderr",
     "output_type": "stream",
     "text": [
      "INFO\tTask(Task-2) nodify.node.140241930011280:node.py:get()- No need to evaluate\n"
     ]
    },
    {
     "name": "stderr",
     "output_type": "stream",
     "text": [
      "INFO\tTask(Task-2) nodify.node.140241930013200:node.py:get()- No need to evaluate\n"
     ]
    },
    {
     "name": "stderr",
     "output_type": "stream",
     "text": [
      "INFO\tTask(Task-2) nodify.node.140241929923152:node.py:get()- No need to evaluate\n"
     ]
    },
    {
     "name": "stderr",
     "output_type": "stream",
     "text": [
      "INFO\tTask(Task-2) nodify.node.140241931120528:node.py:get()- No need to evaluate\n"
     ]
    },
    {
     "name": "stderr",
     "output_type": "stream",
     "text": [
      "INFO\tTask(Task-2) nodify.node.140241929922768:node.py:get()- No need to evaluate\n"
     ]
    },
    {
     "name": "stderr",
     "output_type": "stream",
     "text": [
      "INFO\tTask(Task-2) nodify.node.140241929928672:node.py:get()- No need to evaluate\n"
     ]
    },
    {
     "name": "stderr",
     "output_type": "stream",
     "text": [
      "INFO\tTask(Task-2) nodify.node.140241931120528:node.py:get()- No need to evaluate\n"
     ]
    },
    {
     "name": "stderr",
     "output_type": "stream",
     "text": [
      "INFO\tTask(Task-2) nodify.node.140241930011280:node.py:get()- No need to evaluate\n"
     ]
    },
    {
     "name": "stderr",
     "output_type": "stream",
     "text": [
      "INFO\tTask(Task-2) nodify.node.140241930013872:node.py:get()- No need to evaluate\n"
     ]
    },
    {
     "name": "stderr",
     "output_type": "stream",
     "text": [
      "INFO\tTask(Task-2) nodify.node.140241929923536:node.py:get()- No need to evaluate\n"
     ]
    },
    {
     "name": "stderr",
     "output_type": "stream",
     "text": [
      "INFO\tTask(Task-2) nodify.node.140241931120528:node.py:get()- No need to evaluate\n"
     ]
    },
    {
     "name": "stderr",
     "output_type": "stream",
     "text": [
      "INFO\tTask(Task-2) nodify.node.140241929922768:node.py:get()- No need to evaluate\n"
     ]
    },
    {
     "name": "stderr",
     "output_type": "stream",
     "text": [
      "INFO\tTask(Task-2) nodify.node.140241929928672:node.py:get()- No need to evaluate\n"
     ]
    },
    {
     "name": "stderr",
     "output_type": "stream",
     "text": [
      "INFO\tTask(Task-2) nodify.node.140241931120528:node.py:get()- No need to evaluate\n"
     ]
    },
    {
     "name": "stderr",
     "output_type": "stream",
     "text": [
      "INFO\tTask(Task-2) nodify.node.140241930011280:node.py:get()- No need to evaluate\n"
     ]
    },
    {
     "name": "stderr",
     "output_type": "stream",
     "text": [
      "INFO\tTask(Task-2) nodify.node.140241930014208:node.py:get()- No need to evaluate\n"
     ]
    },
    {
     "name": "stderr",
     "output_type": "stream",
     "text": [
      "INFO\tTask(Task-2) nodify.node.140241931120528:node.py:get()- No need to evaluate\n"
     ]
    },
    {
     "name": "stderr",
     "output_type": "stream",
     "text": [
      "INFO\tTask(Task-2) nodify.node.140241929921088:node.py:get()- No need to evaluate\n"
     ]
    },
    {
     "name": "stderr",
     "output_type": "stream",
     "text": [
      "INFO\tTask(Task-2) nodify.node.140241929922576:node.py:get()- No need to evaluate\n"
     ]
    },
    {
     "name": "stderr",
     "output_type": "stream",
     "text": [
      "INFO\tTask(Task-2) nodify.node.140241929922528:node.py:get()- No need to evaluate\n"
     ]
    },
    {
     "name": "stderr",
     "output_type": "stream",
     "text": [
      "INFO\tTask(Task-2) nodify.node.140241930011184:node.py:get()- No need to evaluate\n"
     ]
    },
    {
     "name": "stderr",
     "output_type": "stream",
     "text": [
      "INFO\tTask(Task-2) nodify.node.140241931120528:node.py:get()- No need to evaluate\n"
     ]
    },
    {
     "name": "stderr",
     "output_type": "stream",
     "text": [
      "INFO\tTask(Task-2) nodify.node.140241929922768:node.py:get()- No need to evaluate\n"
     ]
    },
    {
     "name": "stderr",
     "output_type": "stream",
     "text": [
      "INFO\tTask(Task-2) nodify.node.140241929928672:node.py:get()- No need to evaluate\n"
     ]
    },
    {
     "name": "stderr",
     "output_type": "stream",
     "text": [
      "INFO\tTask(Task-2) nodify.node.140241931120528:node.py:get()- No need to evaluate\n"
     ]
    },
    {
     "name": "stderr",
     "output_type": "stream",
     "text": [
      "INFO\tTask(Task-2) nodify.node.140241930011280:node.py:get()- No need to evaluate\n"
     ]
    },
    {
     "name": "stderr",
     "output_type": "stream",
     "text": [
      "INFO\tTask(Task-2) nodify.node.140241929926656:node.py:get()- No need to evaluate\n"
     ]
    },
    {
     "name": "stderr",
     "output_type": "stream",
     "text": [
      "INFO\tTask(Task-2) nodify.node.140241929926272:node.py:get()- Evaluated because inputs changed.\n"
     ]
    },
    {
     "name": "stderr",
     "output_type": "stream",
     "text": [
      "INFO\tTask(Task-2) nodify.node.140241930010992:node.py:get()- Evaluated because inputs changed.\n"
     ]
    },
    {
     "name": "stderr",
     "output_type": "stream",
     "text": [
      "INFO\tTask(Task-2) nodify.node.140241930011424:node.py:get()- Evaluated because inputs changed.\n"
     ]
    },
    {
     "name": "stderr",
     "output_type": "stream",
     "text": [
      "INFO\tTask(Task-2) nodify.node.140241930014688:node.py:get()- Evaluated because inputs changed.\n"
     ]
    },
    {
     "name": "stderr",
     "output_type": "stream",
     "text": [
      "INFO\tTask(Task-2) nodify.node.140241930015168:node.py:get()- Evaluated because inputs changed.\n"
     ]
    },
    {
     "data": {
      "text/html": [
       "<div>            <script src=\"https://cdnjs.cloudflare.com/ajax/libs/mathjax/2.7.5/MathJax.js?config=TeX-AMS-MML_SVG\"></script><script type=\"text/javascript\">if (window.MathJax && window.MathJax.Hub && window.MathJax.Hub.Config) {window.MathJax.Hub.Config({SVG: {font: \"STIX-Web\"}});}</script>                <script type=\"text/javascript\">window.PlotlyConfig = {MathJaxConfig: 'local'};</script>\n",
       "        <script charset=\"utf-8\" src=\"https://cdn.plot.ly/plotly-3.1.1.min.js\" integrity=\"sha256-HUEFyfiTnZJxCxur99FjbKYTvKSzwDaD3/x5TqHpFu4=\" crossorigin=\"anonymous\"></script>                <div id=\"88ff9eab-8646-4ed7-91ca-e596528bee71\" class=\"plotly-graph-div\" style=\"height:525px; width:100%;\"></div>            <script type=\"text/javascript\">                window.PLOTLYENV=window.PLOTLYENV || {};                                if (document.getElementById(\"88ff9eab-8646-4ed7-91ca-e596528bee71\")) {                    Plotly.newPlot(                        \"88ff9eab-8646-4ed7-91ca-e596528bee71\",                        [{\"coloraxis\":\"coloraxis\",\"meta\":{},\"opacity\":1,\"texttemplate\":\"%{z:.2f}\",\"z\":{\"dtype\":\"f8\",\"bdata\":\"umRqejV65z+EQ4+thvDTv60qyBY3K+I\\u002fAPiGu93tQL+AiWD+94uCvwAAAAAAAPh\\u002fAAAAAAAA+H8AAAAAAAD4fwAAAAAAAPh\\u002fXzKd1rKxsr8AAAAAAAD4fwAAAAAAAPh\\u002fAAAAAAAA+H8AAAAAAAD4fwAAAAAAAPh\\u002fhEOPrYbw078QHTs3bBXvv\\u002fhk+Rx8rMO\\u002fmIdGSAPP0L9gPmzhQkaYvwAAAAAAAPh\\u002fAAAAAAAA+H8AAAAAAAD4fwAAAAAAAPh\\u002fqLrNwoZJsL8AAAAAAAD4fwAAAAAAAPh\\u002fAAAAAAAA+H8AAAAAAAD4fwAAAAAAAPh\\u002frSrIFjcr4j\\u002f4ZPkcfKzDv8QUY\\u002fLMA9O\\u002f9l6GEbFj0j+k4gsHdETCPwAAAAAAAPh\\u002fAAAAAAAA+H8AAAAAAAD4fwAAAAAAAPh\\u002fVrF+gvoowD8AAAAAAAD4fwAAAAAAAPh\\u002fAAAAAAAA+H8AAAAAAAD4fwAAAAAAAPh\\u002fAPiGu93tQL+Yh0ZIA8\\u002fQv\\u002fZehhGxY9I\\u002f7LRAXY6B5r\\u002fIsZRDF2LUvwAAAAAAAPh\\u002fAAAAAAAA+H8AAAAAAAD4fwAAAAAAAPh\\u002fD2\\u002fHfRqyt78AAAAAAAD4fwAAAAAAAPh\\u002fAAAAAAAA+H8AAAAAAAD4fwAAAAAAAPh\\u002fgIlg\\u002fveLgr9gPmzhQkaYv6TiCwd0RMI\\u002fyLGUQxdi1L9w2qtQqOTnvwAAAAAAAPh\\u002fAAAAAAAA+H8AAAAAAAD4fwAAAAAAAPh\\u002fAAAAAAAA+H9fMp3WsrGyv6i6zcKGSbC\\u002fVrF+gvoowD8Pb8d9GrK3vwAAAAAAAPh\\u002f\",\"shape\":\"5, 15\"},\"zsmooth\":false,\"type\":\"heatmap\"},{\"line\":{\"color\":\"pink\",\"dash\":\"dash\",\"width\":5},\"meta\":{},\"mode\":\"lines\",\"name\":\"orbitals separators\",\"opacity\":0.8,\"showlegend\":false,\"x\":{\"dtype\":\"f8\",\"bdata\":\"AAAAAAAA4L8AAAAAAAASQAAAAAAAAPh\\u002fAAAAAAAA4D8AAAAAAADgPwAAAAAAAPh\\u002f\"},\"y\":{\"dtype\":\"f8\",\"bdata\":\"AAAAAAAA4D8AAAAAAADgPwAAAAAAAPh\\u002fAAAAAAAA4L8AAAAAAAASQAAAAAAAAPh\\u002f\"},\"type\":\"scatter\"},{\"line\":{\"color\":\"gray\"},\"meta\":{},\"mode\":\"lines\",\"name\":\"atoms separators\",\"opacity\":1,\"showlegend\":false,\"x\":{\"dtype\":\"f8\",\"bdata\":\"AAAAAAAA4L8AAAAAAAASQAAAAAAAAPh\\u002fAAAAAAAADEAAAAAAAAAMQAAAAAAAAPh\\u002f\"},\"y\":{\"dtype\":\"f8\",\"bdata\":\"AAAAAAAADEAAAAAAAAAMQAAAAAAAAPh\\u002fAAAAAAAA4L8AAAAAAAASQAAAAAAAAPh\\u002f\"},\"type\":\"scatter\"}],                        {\"template\":{\"layout\":{\"hovermode\":\"closest\",\"paper_bgcolor\":\"white\",\"plot_bgcolor\":\"white\",\"scene\":{\"xaxis\":{\"color\":\"black\",\"gridcolor\":\"#ccc\",\"gridwidth\":1,\"linewidth\":1,\"mirror\":true,\"showgrid\":false,\"showline\":true,\"ticklen\":5,\"ticks\":\"outside\",\"ticksuffix\":\" \",\"visible\":true,\"zeroline\":false,\"zerolinecolor\":\"#ccc\",\"zerolinewidth\":1},\"yaxis\":{\"color\":\"black\",\"gridcolor\":\"#ccc\",\"gridwidth\":1,\"linewidth\":1,\"mirror\":true,\"showgrid\":false,\"showline\":true,\"ticklen\":5,\"ticks\":\"outside\",\"ticksuffix\":\" \",\"visible\":true,\"zeroline\":false,\"zerolinecolor\":\"#ccc\",\"zerolinewidth\":1},\"zaxis\":{\"color\":\"black\",\"gridcolor\":\"#ccc\",\"gridwidth\":1,\"linewidth\":1,\"mirror\":true,\"showgrid\":false,\"showline\":true,\"ticklen\":5,\"ticks\":\"outside\",\"ticksuffix\":\" \",\"visible\":true,\"zeroline\":false,\"zerolinecolor\":\"#ccc\",\"zerolinewidth\":1}},\"xaxis\":{\"color\":\"black\",\"gridcolor\":\"#ccc\",\"gridwidth\":1,\"linewidth\":1,\"mirror\":true,\"showgrid\":false,\"showline\":true,\"ticklen\":5,\"ticks\":\"outside\",\"ticksuffix\":\" \",\"visible\":true,\"zeroline\":false,\"zerolinecolor\":\"#ccc\",\"zerolinewidth\":1},\"yaxis\":{\"color\":\"black\",\"gridcolor\":\"#ccc\",\"gridwidth\":1,\"linewidth\":1,\"mirror\":true,\"showgrid\":false,\"showline\":true,\"ticklen\":5,\"ticks\":\"outside\",\"ticksuffix\":\" \",\"visible\":true,\"zeroline\":false,\"zerolinecolor\":\"#ccc\",\"zerolinewidth\":1}}},\"coloraxis\":{\"colorscale\":[[0.0,\"rgb(0, 147, 146)\"],[0.16666666666666666,\"rgb(57, 177, 133)\"],[0.3333333333333333,\"rgb(156, 203, 134)\"],[0.5,\"rgb(233, 226, 156)\"],[0.6666666666666666,\"rgb(238, 180, 121)\"],[0.8333333333333334,\"rgb(232, 132, 113)\"],[1.0,\"rgb(207, 89, 126)\"]],\"cmid\":0,\"showscale\":true},\"xaxis\":{\"scaleanchor\":\"y\",\"scaleratio\":1,\"range\":[-0.5,14.5],\"constrain\":\"domain\",\"ticktext\":[\"0: (0, 0)\",\"0: (1, -1)\",\"0: (1, 0)\",\"0: (1, 1)\",\"1: (0, 0)\",\"0: (0, 0)\",\"0: (1, -1)\",\"0: (1, 0)\",\"0: (1, 1)\",\"1: (0, 0)\",\"0: (0, 0)\",\"0: (1, -1)\",\"0: (1, 0)\",\"0: (1, 1)\",\"1: (0, 0)\"],\"tickvals\":{\"dtype\":\"i1\",\"bdata\":\"AAECAwQFBgcICQoLDA0O\"}},\"scene\":{\"aspectmode\":\"data\",\"xaxis\":{\"range\":[-0.5,14.5],\"ticktext\":[\"0: (0, 0)\",\"0: (1, -1)\",\"0: (1, 0)\",\"0: (1, 1)\",\"1: (0, 0)\",\"0: (0, 0)\",\"0: (1, -1)\",\"0: (1, 0)\",\"0: (1, 1)\",\"1: (0, 0)\",\"0: (0, 0)\",\"0: (1, -1)\",\"0: (1, 0)\",\"0: (1, 1)\",\"1: (0, 0)\"],\"tickvals\":{\"dtype\":\"i1\",\"bdata\":\"AAECAwQFBgcICQoLDA0O\"}},\"yaxis\":{\"range\":[4.5,-0.5],\"ticktext\":[\"0: (0, 0)\",\"0: (1, -1)\",\"0: (1, 0)\",\"0: (1, 1)\",\"1: (0, 0)\"],\"tickvals\":{\"dtype\":\"i1\",\"bdata\":\"AAECAwQ=\"}}},\"yaxis\":{\"range\":[4.5,-0.5],\"constrain\":\"domain\",\"ticktext\":[\"0: (0, 0)\",\"0: (1, -1)\",\"0: (1, 0)\",\"0: (1, 1)\",\"1: (0, 0)\"],\"tickvals\":{\"dtype\":\"i1\",\"bdata\":\"AAECAwQ=\"}}},                        {\"responsive\": true}                    ).then(function(){\n",
       "                            \n",
       "var gd = document.getElementById('88ff9eab-8646-4ed7-91ca-e596528bee71');\n",
       "var x = new MutationObserver(function (mutations, observer) {{\n",
       "        var display = window.getComputedStyle(gd).display;\n",
       "        if (!display || display === 'none') {{\n",
       "            console.log([gd, 'removed!']);\n",
       "            Plotly.purge(gd);\n",
       "            observer.disconnect();\n",
       "        }}\n",
       "}});\n",
       "\n",
       "// Listen for the removal of the full notebook cells\n",
       "var notebookContainer = gd.closest('#notebook-container');\n",
       "if (notebookContainer) {{\n",
       "    x.observe(notebookContainer, {childList: true});\n",
       "}}\n",
       "\n",
       "// Listen for the clearing of the current output cell\n",
       "var outputEl = gd.closest('.output');\n",
       "if (outputEl) {{\n",
       "    x.observe(outputEl, {childList: true});\n",
       "}}\n",
       "\n",
       "                        })                };            </script>        </div>"
      ]
     },
     "metadata": {},
     "output_type": "display_data"
    }
   ],
   "source": [
    "plot.update_inputs(set_labels=True)"
   ]
  },
  {
   "cell_type": "markdown",
   "metadata": {},
   "source": [
    "Labels have the format: `Atom index: (l, m)`. where l and m are the quantum numbers of the orbital."
   ]
  },
  {
   "cell_type": "code",
   "execution_count": 15,
   "metadata": {
    "execution": {
     "iopub.execute_input": "2025-10-08T13:16:17.402600Z",
     "iopub.status.busy": "2025-10-08T13:16:17.402417Z",
     "iopub.status.idle": "2025-10-08T13:16:17.405343Z",
     "shell.execute_reply": "2025-10-08T13:16:17.404771Z"
    }
   },
   "outputs": [],
   "source": [
    "plot = plot.update_inputs(set_labels=False)"
   ]
  },
  {
   "cell_type": "markdown",
   "metadata": {},
   "source": [
    "## Showing only one cell\n",
    "\n",
    "If you only want to visualize a given cell in the supercell, you can pass the index to the `isc` input."
   ]
  },
  {
   "cell_type": "code",
   "execution_count": 16,
   "metadata": {
    "execution": {
     "iopub.execute_input": "2025-10-08T13:16:17.407010Z",
     "iopub.status.busy": "2025-10-08T13:16:17.406839Z",
     "iopub.status.idle": "2025-10-08T13:16:17.510466Z",
     "shell.execute_reply": "2025-10-08T13:16:17.509862Z"
    }
   },
   "outputs": [
    {
     "name": "stderr",
     "output_type": "stream",
     "text": [
      "INFO\tTask(Task-2) nodify.node.140241929927424:node.py:get()- No need to evaluate\n"
     ]
    },
    {
     "name": "stderr",
     "output_type": "stream",
     "text": [
      "INFO\tTask(Task-2) nodify.node.140241931120528:node.py:get()- No need to evaluate\n"
     ]
    },
    {
     "name": "stderr",
     "output_type": "stream",
     "text": [
      "INFO\tTask(Task-2) nodify.node.140241929921088:node.py:get()- No need to evaluate\n"
     ]
    },
    {
     "name": "stderr",
     "output_type": "stream",
     "text": [
      "INFO\tTask(Task-2) nodify.node.140241929922576:node.py:get()- Evaluated because inputs changed.\n"
     ]
    },
    {
     "name": "stderr",
     "output_type": "stream",
     "text": [
      "INFO\tTask(Task-2) nodify.node.140241929922528:node.py:get()- No need to evaluate\n"
     ]
    },
    {
     "name": "stderr",
     "output_type": "stream",
     "text": [
      "INFO\tTask(Task-2) nodify.node.140241930011184:node.py:get()- Evaluated because inputs changed.\n"
     ]
    },
    {
     "name": "stderr",
     "output_type": "stream",
     "text": [
      "INFO\tTask(Task-2) nodify.node.140241929924352:node.py:get()- No need to evaluate\n"
     ]
    },
    {
     "name": "stderr",
     "output_type": "stream",
     "text": [
      "INFO\tTask(Task-2) nodify.node.140241929924736:node.py:get()- No need to evaluate\n"
     ]
    },
    {
     "name": "stderr",
     "output_type": "stream",
     "text": [
      "INFO\tTask(Task-2) nodify.node.140241931120528:node.py:get()- No need to evaluate\n"
     ]
    },
    {
     "name": "stderr",
     "output_type": "stream",
     "text": [
      "INFO\tTask(Task-2) nodify.node.140241929925120:node.py:get()- No need to evaluate\n"
     ]
    },
    {
     "name": "stderr",
     "output_type": "stream",
     "text": [
      "INFO\tTask(Task-2) nodify.node.140241929924736:node.py:get()- No need to evaluate\n"
     ]
    },
    {
     "name": "stderr",
     "output_type": "stream",
     "text": [
      "INFO\tTask(Task-2) nodify.node.140241930012480:node.py:get()- No need to evaluate\n"
     ]
    },
    {
     "name": "stderr",
     "output_type": "stream",
     "text": [
      "INFO\tTask(Task-2) nodify.node.140241929923968:node.py:get()- No need to evaluate\n"
     ]
    },
    {
     "name": "stderr",
     "output_type": "stream",
     "text": [
      "INFO\tTask(Task-2) nodify.node.140241929925504:node.py:get()- No need to evaluate\n"
     ]
    },
    {
     "name": "stderr",
     "output_type": "stream",
     "text": [
      "INFO\tTask(Task-2) nodify.node.140241929925888:node.py:get()- No need to evaluate\n"
     ]
    },
    {
     "name": "stderr",
     "output_type": "stream",
     "text": [
      "INFO\tTask(Task-2) nodify.node.140241930012384:node.py:get()- Evaluated because inputs changed.\n"
     ]
    },
    {
     "name": "stderr",
     "output_type": "stream",
     "text": [
      "INFO\tTask(Task-2) nodify.node.140241931120528:node.py:get()- No need to evaluate\n"
     ]
    },
    {
     "name": "stderr",
     "output_type": "stream",
     "text": [
      "INFO\tTask(Task-2) nodify.node.140241929921088:node.py:get()- No need to evaluate\n"
     ]
    },
    {
     "name": "stderr",
     "output_type": "stream",
     "text": [
      "INFO\tTask(Task-2) nodify.node.140241929922576:node.py:get()- No need to evaluate\n"
     ]
    },
    {
     "name": "stderr",
     "output_type": "stream",
     "text": [
      "INFO\tTask(Task-2) nodify.node.140241929922528:node.py:get()- No need to evaluate\n"
     ]
    },
    {
     "name": "stderr",
     "output_type": "stream",
     "text": [
      "INFO\tTask(Task-2) nodify.node.140241930011184:node.py:get()- No need to evaluate\n"
     ]
    },
    {
     "name": "stderr",
     "output_type": "stream",
     "text": [
      "INFO\tTask(Task-2) nodify.node.140241929927040:node.py:get()- No need to evaluate\n"
     ]
    },
    {
     "name": "stderr",
     "output_type": "stream",
     "text": [
      "INFO\tTask(Task-2) nodify.node.140241930013152:node.py:get()- No need to evaluate\n"
     ]
    },
    {
     "name": "stderr",
     "output_type": "stream",
     "text": [
      "INFO\tTask(Task-2) nodify.node.140241930012528:node.py:get()- Evaluated because inputs changed.\n"
     ]
    },
    {
     "name": "stderr",
     "output_type": "stream",
     "text": [
      "INFO\tTask(Task-2) nodify.node.140241929922192:node.py:get()- No need to evaluate\n"
     ]
    },
    {
     "name": "stderr",
     "output_type": "stream",
     "text": [
      "INFO\tTask(Task-2) nodify.node.140241931120528:node.py:get()- No need to evaluate\n"
     ]
    },
    {
     "name": "stderr",
     "output_type": "stream",
     "text": [
      "INFO\tTask(Task-2) nodify.node.140241929922768:node.py:get()- No need to evaluate\n"
     ]
    },
    {
     "name": "stderr",
     "output_type": "stream",
     "text": [
      "INFO\tTask(Task-2) nodify.node.140241929928672:node.py:get()- No need to evaluate\n"
     ]
    },
    {
     "name": "stderr",
     "output_type": "stream",
     "text": [
      "INFO\tTask(Task-2) nodify.node.140241931120528:node.py:get()- No need to evaluate\n"
     ]
    },
    {
     "name": "stderr",
     "output_type": "stream",
     "text": [
      "INFO\tTask(Task-2) nodify.node.140241930011280:node.py:get()- No need to evaluate\n"
     ]
    },
    {
     "name": "stderr",
     "output_type": "stream",
     "text": [
      "INFO\tTask(Task-2) nodify.node.140241930013200:node.py:get()- No need to evaluate\n"
     ]
    },
    {
     "name": "stderr",
     "output_type": "stream",
     "text": [
      "INFO\tTask(Task-2) nodify.node.140241929923152:node.py:get()- No need to evaluate\n"
     ]
    },
    {
     "name": "stderr",
     "output_type": "stream",
     "text": [
      "INFO\tTask(Task-2) nodify.node.140241931120528:node.py:get()- No need to evaluate\n"
     ]
    },
    {
     "name": "stderr",
     "output_type": "stream",
     "text": [
      "INFO\tTask(Task-2) nodify.node.140241929922768:node.py:get()- No need to evaluate\n"
     ]
    },
    {
     "name": "stderr",
     "output_type": "stream",
     "text": [
      "INFO\tTask(Task-2) nodify.node.140241929928672:node.py:get()- No need to evaluate\n"
     ]
    },
    {
     "name": "stderr",
     "output_type": "stream",
     "text": [
      "INFO\tTask(Task-2) nodify.node.140241931120528:node.py:get()- No need to evaluate\n"
     ]
    },
    {
     "name": "stderr",
     "output_type": "stream",
     "text": [
      "INFO\tTask(Task-2) nodify.node.140241930011280:node.py:get()- No need to evaluate\n"
     ]
    },
    {
     "name": "stderr",
     "output_type": "stream",
     "text": [
      "INFO\tTask(Task-2) nodify.node.140241930013872:node.py:get()- No need to evaluate\n"
     ]
    },
    {
     "name": "stderr",
     "output_type": "stream",
     "text": [
      "INFO\tTask(Task-2) nodify.node.140241929923536:node.py:get()- No need to evaluate\n"
     ]
    },
    {
     "name": "stderr",
     "output_type": "stream",
     "text": [
      "INFO\tTask(Task-2) nodify.node.140241931120528:node.py:get()- No need to evaluate\n"
     ]
    },
    {
     "name": "stderr",
     "output_type": "stream",
     "text": [
      "INFO\tTask(Task-2) nodify.node.140241929922768:node.py:get()- No need to evaluate\n"
     ]
    },
    {
     "name": "stderr",
     "output_type": "stream",
     "text": [
      "INFO\tTask(Task-2) nodify.node.140241929928672:node.py:get()- No need to evaluate\n"
     ]
    },
    {
     "name": "stderr",
     "output_type": "stream",
     "text": [
      "INFO\tTask(Task-2) nodify.node.140241931120528:node.py:get()- No need to evaluate\n"
     ]
    },
    {
     "name": "stderr",
     "output_type": "stream",
     "text": [
      "INFO\tTask(Task-2) nodify.node.140241930011280:node.py:get()- No need to evaluate\n"
     ]
    },
    {
     "name": "stderr",
     "output_type": "stream",
     "text": [
      "INFO\tTask(Task-2) nodify.node.140241930014208:node.py:get()- No need to evaluate\n"
     ]
    },
    {
     "name": "stderr",
     "output_type": "stream",
     "text": [
      "INFO\tTask(Task-2) nodify.node.140241931120528:node.py:get()- No need to evaluate\n"
     ]
    },
    {
     "name": "stderr",
     "output_type": "stream",
     "text": [
      "INFO\tTask(Task-2) nodify.node.140241929921088:node.py:get()- No need to evaluate\n"
     ]
    },
    {
     "name": "stderr",
     "output_type": "stream",
     "text": [
      "INFO\tTask(Task-2) nodify.node.140241929922576:node.py:get()- No need to evaluate\n"
     ]
    },
    {
     "name": "stderr",
     "output_type": "stream",
     "text": [
      "INFO\tTask(Task-2) nodify.node.140241929922528:node.py:get()- No need to evaluate\n"
     ]
    },
    {
     "name": "stderr",
     "output_type": "stream",
     "text": [
      "INFO\tTask(Task-2) nodify.node.140241930011184:node.py:get()- No need to evaluate\n"
     ]
    },
    {
     "name": "stderr",
     "output_type": "stream",
     "text": [
      "INFO\tTask(Task-2) nodify.node.140241931120528:node.py:get()- No need to evaluate\n"
     ]
    },
    {
     "name": "stderr",
     "output_type": "stream",
     "text": [
      "INFO\tTask(Task-2) nodify.node.140241929922768:node.py:get()- No need to evaluate\n"
     ]
    },
    {
     "name": "stderr",
     "output_type": "stream",
     "text": [
      "INFO\tTask(Task-2) nodify.node.140241929928672:node.py:get()- No need to evaluate\n"
     ]
    },
    {
     "name": "stderr",
     "output_type": "stream",
     "text": [
      "INFO\tTask(Task-2) nodify.node.140241931120528:node.py:get()- No need to evaluate\n"
     ]
    },
    {
     "name": "stderr",
     "output_type": "stream",
     "text": [
      "INFO\tTask(Task-2) nodify.node.140241930011280:node.py:get()- No need to evaluate\n"
     ]
    },
    {
     "name": "stderr",
     "output_type": "stream",
     "text": [
      "INFO\tTask(Task-2) nodify.node.140241929926656:node.py:get()- No need to evaluate\n"
     ]
    },
    {
     "name": "stderr",
     "output_type": "stream",
     "text": [
      "INFO\tTask(Task-2) nodify.node.140241929926272:node.py:get()- Evaluated because inputs changed.\n"
     ]
    },
    {
     "name": "stderr",
     "output_type": "stream",
     "text": [
      "INFO\tTask(Task-2) nodify.node.140241930010992:node.py:get()- Evaluated because inputs changed.\n"
     ]
    },
    {
     "name": "stderr",
     "output_type": "stream",
     "text": [
      "INFO\tTask(Task-2) nodify.node.140241930011424:node.py:get()- Evaluated because inputs changed.\n"
     ]
    },
    {
     "name": "stderr",
     "output_type": "stream",
     "text": [
      "INFO\tTask(Task-2) nodify.node.140241930014688:node.py:get()- Evaluated because inputs changed.\n"
     ]
    },
    {
     "name": "stderr",
     "output_type": "stream",
     "text": [
      "INFO\tTask(Task-2) nodify.node.140241930015168:node.py:get()- Evaluated because inputs changed.\n"
     ]
    },
    {
     "data": {
      "text/html": [
       "<div>            <script src=\"https://cdnjs.cloudflare.com/ajax/libs/mathjax/2.7.5/MathJax.js?config=TeX-AMS-MML_SVG\"></script><script type=\"text/javascript\">if (window.MathJax && window.MathJax.Hub && window.MathJax.Hub.Config) {window.MathJax.Hub.Config({SVG: {font: \"STIX-Web\"}});}</script>                <script type=\"text/javascript\">window.PlotlyConfig = {MathJaxConfig: 'local'};</script>\n",
       "        <script charset=\"utf-8\" src=\"https://cdn.plot.ly/plotly-3.1.1.min.js\" integrity=\"sha256-HUEFyfiTnZJxCxur99FjbKYTvKSzwDaD3/x5TqHpFu4=\" crossorigin=\"anonymous\"></script>                <div id=\"1dbbe7be-e8fe-4bd4-800e-27d5e1f8d472\" class=\"plotly-graph-div\" style=\"height:525px; width:100%;\"></div>            <script type=\"text/javascript\">                window.PLOTLYENV=window.PLOTLYENV || {};                                if (document.getElementById(\"1dbbe7be-e8fe-4bd4-800e-27d5e1f8d472\")) {                    Plotly.newPlot(                        \"1dbbe7be-e8fe-4bd4-800e-27d5e1f8d472\",                        [{\"coloraxis\":\"coloraxis\",\"meta\":{},\"opacity\":1,\"texttemplate\":\"%{z:.2f}\",\"z\":{\"dtype\":\"f8\",\"bdata\":\"AAAAAAAA+H8AAAAAAAD4fwAAAAAAAPh\\u002fAAAAAAAA+H9fMp3WsrGyvwAAAAAAAPh\\u002fAAAAAAAA+H8AAAAAAAD4fwAAAAAAAPh\\u002fqLrNwoZJsL8AAAAAAAD4fwAAAAAAAPh\\u002fAAAAAAAA+H8AAAAAAAD4f1axfoL6KMA\\u002fAAAAAAAA+H8AAAAAAAD4fwAAAAAAAPh\\u002fAAAAAAAA+H8Pb8d9GrK3vwAAAAAAAPh\\u002fAAAAAAAA+H8AAAAAAAD4fwAAAAAAAPh\\u002fAAAAAAAA+H8=\",\"shape\":\"5, 5\"},\"zsmooth\":false,\"type\":\"heatmap\"},{\"line\":{\"color\":\"pink\",\"dash\":\"dash\",\"width\":5},\"meta\":{},\"mode\":\"lines\",\"name\":\"orbitals separators\",\"opacity\":0.8,\"showlegend\":false,\"x\":{\"dtype\":\"f8\",\"bdata\":\"AAAAAAAA4L8AAAAAAAASQAAAAAAAAPh\\u002fAAAAAAAA4D8AAAAAAADgPwAAAAAAAPh\\u002f\"},\"y\":{\"dtype\":\"f8\",\"bdata\":\"AAAAAAAA4D8AAAAAAADgPwAAAAAAAPh\\u002fAAAAAAAA4L8AAAAAAAASQAAAAAAAAPh\\u002f\"},\"type\":\"scatter\"},{\"line\":{\"color\":\"gray\"},\"meta\":{},\"mode\":\"lines\",\"name\":\"atoms separators\",\"opacity\":1,\"showlegend\":false,\"x\":{\"dtype\":\"f8\",\"bdata\":\"AAAAAAAA4L8AAAAAAAASQAAAAAAAAPh\\u002fAAAAAAAADEAAAAAAAAAMQAAAAAAAAPh\\u002f\"},\"y\":{\"dtype\":\"f8\",\"bdata\":\"AAAAAAAADEAAAAAAAAAMQAAAAAAAAPh\\u002fAAAAAAAA4L8AAAAAAAASQAAAAAAAAPh\\u002f\"},\"type\":\"scatter\"}],                        {\"template\":{\"layout\":{\"hovermode\":\"closest\",\"paper_bgcolor\":\"white\",\"plot_bgcolor\":\"white\",\"scene\":{\"xaxis\":{\"color\":\"black\",\"gridcolor\":\"#ccc\",\"gridwidth\":1,\"linewidth\":1,\"mirror\":true,\"showgrid\":false,\"showline\":true,\"ticklen\":5,\"ticks\":\"outside\",\"ticksuffix\":\" \",\"visible\":true,\"zeroline\":false,\"zerolinecolor\":\"#ccc\",\"zerolinewidth\":1},\"yaxis\":{\"color\":\"black\",\"gridcolor\":\"#ccc\",\"gridwidth\":1,\"linewidth\":1,\"mirror\":true,\"showgrid\":false,\"showline\":true,\"ticklen\":5,\"ticks\":\"outside\",\"ticksuffix\":\" \",\"visible\":true,\"zeroline\":false,\"zerolinecolor\":\"#ccc\",\"zerolinewidth\":1},\"zaxis\":{\"color\":\"black\",\"gridcolor\":\"#ccc\",\"gridwidth\":1,\"linewidth\":1,\"mirror\":true,\"showgrid\":false,\"showline\":true,\"ticklen\":5,\"ticks\":\"outside\",\"ticksuffix\":\" \",\"visible\":true,\"zeroline\":false,\"zerolinecolor\":\"#ccc\",\"zerolinewidth\":1}},\"xaxis\":{\"color\":\"black\",\"gridcolor\":\"#ccc\",\"gridwidth\":1,\"linewidth\":1,\"mirror\":true,\"showgrid\":false,\"showline\":true,\"ticklen\":5,\"ticks\":\"outside\",\"ticksuffix\":\" \",\"visible\":true,\"zeroline\":false,\"zerolinecolor\":\"#ccc\",\"zerolinewidth\":1},\"yaxis\":{\"color\":\"black\",\"gridcolor\":\"#ccc\",\"gridwidth\":1,\"linewidth\":1,\"mirror\":true,\"showgrid\":false,\"showline\":true,\"ticklen\":5,\"ticks\":\"outside\",\"ticksuffix\":\" \",\"visible\":true,\"zeroline\":false,\"zerolinecolor\":\"#ccc\",\"zerolinewidth\":1}}},\"coloraxis\":{\"colorscale\":[[0.0,\"rgb(0, 147, 146)\"],[0.16666666666666666,\"rgb(57, 177, 133)\"],[0.3333333333333333,\"rgb(156, 203, 134)\"],[0.5,\"rgb(233, 226, 156)\"],[0.6666666666666666,\"rgb(238, 180, 121)\"],[0.8333333333333334,\"rgb(232, 132, 113)\"],[1.0,\"rgb(207, 89, 126)\"]],\"cmid\":0,\"showscale\":true},\"xaxis\":{\"scaleanchor\":\"y\",\"scaleratio\":1,\"range\":[-0.5,4.5],\"constrain\":\"domain\"},\"scene\":{\"aspectmode\":\"data\",\"xaxis\":{\"range\":[-0.5,4.5]},\"yaxis\":{\"range\":[4.5,-0.5]}},\"yaxis\":{\"range\":[4.5,-0.5],\"constrain\":\"domain\"}},                        {\"responsive\": true}                    ).then(function(){\n",
       "                            \n",
       "var gd = document.getElementById('1dbbe7be-e8fe-4bd4-800e-27d5e1f8d472');\n",
       "var x = new MutationObserver(function (mutations, observer) {{\n",
       "        var display = window.getComputedStyle(gd).display;\n",
       "        if (!display || display === 'none') {{\n",
       "            console.log([gd, 'removed!']);\n",
       "            Plotly.purge(gd);\n",
       "            observer.disconnect();\n",
       "        }}\n",
       "}});\n",
       "\n",
       "// Listen for the removal of the full notebook cells\n",
       "var notebookContainer = gd.closest('#notebook-container');\n",
       "if (notebookContainer) {{\n",
       "    x.observe(notebookContainer, {childList: true});\n",
       "}}\n",
       "\n",
       "// Listen for the clearing of the current output cell\n",
       "var outputEl = gd.closest('.output');\n",
       "if (outputEl) {{\n",
       "    x.observe(outputEl, {childList: true});\n",
       "}}\n",
       "\n",
       "                        })                };            </script>        </div>"
      ]
     },
     "metadata": {},
     "output_type": "display_data"
    }
   ],
   "source": [
    "plot.update_inputs(isc=1)"
   ]
  },
  {
   "cell_type": "markdown",
   "metadata": {},
   "source": [
    "To go back to visualizing the whole supercell, just set `isc` to `None`."
   ]
  },
  {
   "cell_type": "code",
   "execution_count": 17,
   "metadata": {
    "execution": {
     "iopub.execute_input": "2025-10-08T13:16:17.512419Z",
     "iopub.status.busy": "2025-10-08T13:16:17.512205Z",
     "iopub.status.idle": "2025-10-08T13:16:17.621275Z",
     "shell.execute_reply": "2025-10-08T13:16:17.620672Z"
    }
   },
   "outputs": [
    {
     "name": "stderr",
     "output_type": "stream",
     "text": [
      "INFO\tTask(Task-2) nodify.node.140241929927424:node.py:get()- No need to evaluate\n"
     ]
    },
    {
     "name": "stderr",
     "output_type": "stream",
     "text": [
      "INFO\tTask(Task-2) nodify.node.140241931120528:node.py:get()- No need to evaluate\n"
     ]
    },
    {
     "name": "stderr",
     "output_type": "stream",
     "text": [
      "INFO\tTask(Task-2) nodify.node.140241929921088:node.py:get()- No need to evaluate\n"
     ]
    },
    {
     "name": "stderr",
     "output_type": "stream",
     "text": [
      "INFO\tTask(Task-2) nodify.node.140241929922576:node.py:get()- Evaluated because inputs changed.\n"
     ]
    },
    {
     "name": "stderr",
     "output_type": "stream",
     "text": [
      "INFO\tTask(Task-2) nodify.node.140241929922528:node.py:get()- No need to evaluate\n"
     ]
    },
    {
     "name": "stderr",
     "output_type": "stream",
     "text": [
      "INFO\tTask(Task-2) nodify.node.140241930011184:node.py:get()- Evaluated because inputs changed.\n"
     ]
    },
    {
     "name": "stderr",
     "output_type": "stream",
     "text": [
      "INFO\tTask(Task-2) nodify.node.140241929924352:node.py:get()- No need to evaluate\n"
     ]
    },
    {
     "name": "stderr",
     "output_type": "stream",
     "text": [
      "INFO\tTask(Task-2) nodify.node.140241929924736:node.py:get()- No need to evaluate\n"
     ]
    },
    {
     "name": "stderr",
     "output_type": "stream",
     "text": [
      "INFO\tTask(Task-2) nodify.node.140241931120528:node.py:get()- No need to evaluate\n"
     ]
    },
    {
     "name": "stderr",
     "output_type": "stream",
     "text": [
      "INFO\tTask(Task-2) nodify.node.140241929925120:node.py:get()- No need to evaluate\n"
     ]
    },
    {
     "name": "stderr",
     "output_type": "stream",
     "text": [
      "INFO\tTask(Task-2) nodify.node.140241929924736:node.py:get()- No need to evaluate\n"
     ]
    },
    {
     "name": "stderr",
     "output_type": "stream",
     "text": [
      "INFO\tTask(Task-2) nodify.node.140241930012480:node.py:get()- No need to evaluate\n"
     ]
    },
    {
     "name": "stderr",
     "output_type": "stream",
     "text": [
      "INFO\tTask(Task-2) nodify.node.140241929923968:node.py:get()- No need to evaluate\n"
     ]
    },
    {
     "name": "stderr",
     "output_type": "stream",
     "text": [
      "INFO\tTask(Task-2) nodify.node.140241929925504:node.py:get()- No need to evaluate\n"
     ]
    },
    {
     "name": "stderr",
     "output_type": "stream",
     "text": [
      "INFO\tTask(Task-2) nodify.node.140241929925888:node.py:get()- No need to evaluate\n"
     ]
    },
    {
     "name": "stderr",
     "output_type": "stream",
     "text": [
      "INFO\tTask(Task-2) nodify.node.140241930012384:node.py:get()- Evaluated because inputs changed.\n"
     ]
    },
    {
     "name": "stderr",
     "output_type": "stream",
     "text": [
      "INFO\tTask(Task-2) nodify.node.140241931120528:node.py:get()- No need to evaluate\n"
     ]
    },
    {
     "name": "stderr",
     "output_type": "stream",
     "text": [
      "INFO\tTask(Task-2) nodify.node.140241929921088:node.py:get()- No need to evaluate\n"
     ]
    },
    {
     "name": "stderr",
     "output_type": "stream",
     "text": [
      "INFO\tTask(Task-2) nodify.node.140241929922576:node.py:get()- No need to evaluate\n"
     ]
    },
    {
     "name": "stderr",
     "output_type": "stream",
     "text": [
      "INFO\tTask(Task-2) nodify.node.140241929922528:node.py:get()- No need to evaluate\n"
     ]
    },
    {
     "name": "stderr",
     "output_type": "stream",
     "text": [
      "INFO\tTask(Task-2) nodify.node.140241930011184:node.py:get()- No need to evaluate\n"
     ]
    },
    {
     "name": "stderr",
     "output_type": "stream",
     "text": [
      "INFO\tTask(Task-2) nodify.node.140241929927040:node.py:get()- No need to evaluate\n"
     ]
    },
    {
     "name": "stderr",
     "output_type": "stream",
     "text": [
      "INFO\tTask(Task-2) nodify.node.140241930013152:node.py:get()- No need to evaluate\n"
     ]
    },
    {
     "name": "stderr",
     "output_type": "stream",
     "text": [
      "INFO\tTask(Task-2) nodify.node.140241930012528:node.py:get()- Evaluated because inputs changed.\n"
     ]
    },
    {
     "name": "stderr",
     "output_type": "stream",
     "text": [
      "INFO\tTask(Task-2) nodify.node.140241929922192:node.py:get()- No need to evaluate\n"
     ]
    },
    {
     "name": "stderr",
     "output_type": "stream",
     "text": [
      "INFO\tTask(Task-2) nodify.node.140241931120528:node.py:get()- No need to evaluate\n"
     ]
    },
    {
     "name": "stderr",
     "output_type": "stream",
     "text": [
      "INFO\tTask(Task-2) nodify.node.140241929922768:node.py:get()- No need to evaluate\n"
     ]
    },
    {
     "name": "stderr",
     "output_type": "stream",
     "text": [
      "INFO\tTask(Task-2) nodify.node.140241929928672:node.py:get()- No need to evaluate\n"
     ]
    },
    {
     "name": "stderr",
     "output_type": "stream",
     "text": [
      "INFO\tTask(Task-2) nodify.node.140241931120528:node.py:get()- No need to evaluate\n"
     ]
    },
    {
     "name": "stderr",
     "output_type": "stream",
     "text": [
      "INFO\tTask(Task-2) nodify.node.140241930011280:node.py:get()- No need to evaluate\n"
     ]
    },
    {
     "name": "stderr",
     "output_type": "stream",
     "text": [
      "INFO\tTask(Task-2) nodify.node.140241930013200:node.py:get()- No need to evaluate\n"
     ]
    },
    {
     "name": "stderr",
     "output_type": "stream",
     "text": [
      "INFO\tTask(Task-2) nodify.node.140241929923152:node.py:get()- No need to evaluate\n"
     ]
    },
    {
     "name": "stderr",
     "output_type": "stream",
     "text": [
      "INFO\tTask(Task-2) nodify.node.140241931120528:node.py:get()- No need to evaluate\n"
     ]
    },
    {
     "name": "stderr",
     "output_type": "stream",
     "text": [
      "INFO\tTask(Task-2) nodify.node.140241929922768:node.py:get()- No need to evaluate\n"
     ]
    },
    {
     "name": "stderr",
     "output_type": "stream",
     "text": [
      "INFO\tTask(Task-2) nodify.node.140241929928672:node.py:get()- No need to evaluate\n"
     ]
    },
    {
     "name": "stderr",
     "output_type": "stream",
     "text": [
      "INFO\tTask(Task-2) nodify.node.140241931120528:node.py:get()- No need to evaluate\n"
     ]
    },
    {
     "name": "stderr",
     "output_type": "stream",
     "text": [
      "INFO\tTask(Task-2) nodify.node.140241930011280:node.py:get()- No need to evaluate\n"
     ]
    },
    {
     "name": "stderr",
     "output_type": "stream",
     "text": [
      "INFO\tTask(Task-2) nodify.node.140241930013872:node.py:get()- No need to evaluate\n"
     ]
    },
    {
     "name": "stderr",
     "output_type": "stream",
     "text": [
      "INFO\tTask(Task-2) nodify.node.140241929923536:node.py:get()- No need to evaluate\n"
     ]
    },
    {
     "name": "stderr",
     "output_type": "stream",
     "text": [
      "INFO\tTask(Task-2) nodify.node.140241931120528:node.py:get()- No need to evaluate\n"
     ]
    },
    {
     "name": "stderr",
     "output_type": "stream",
     "text": [
      "INFO\tTask(Task-2) nodify.node.140241929922768:node.py:get()- No need to evaluate\n"
     ]
    },
    {
     "name": "stderr",
     "output_type": "stream",
     "text": [
      "INFO\tTask(Task-2) nodify.node.140241929928672:node.py:get()- No need to evaluate\n"
     ]
    },
    {
     "name": "stderr",
     "output_type": "stream",
     "text": [
      "INFO\tTask(Task-2) nodify.node.140241931120528:node.py:get()- No need to evaluate\n"
     ]
    },
    {
     "name": "stderr",
     "output_type": "stream",
     "text": [
      "INFO\tTask(Task-2) nodify.node.140241930011280:node.py:get()- No need to evaluate\n"
     ]
    },
    {
     "name": "stderr",
     "output_type": "stream",
     "text": [
      "INFO\tTask(Task-2) nodify.node.140241930014208:node.py:get()- No need to evaluate\n"
     ]
    },
    {
     "name": "stderr",
     "output_type": "stream",
     "text": [
      "INFO\tTask(Task-2) nodify.node.140241931120528:node.py:get()- No need to evaluate\n"
     ]
    },
    {
     "name": "stderr",
     "output_type": "stream",
     "text": [
      "INFO\tTask(Task-2) nodify.node.140241929921088:node.py:get()- No need to evaluate\n"
     ]
    },
    {
     "name": "stderr",
     "output_type": "stream",
     "text": [
      "INFO\tTask(Task-2) nodify.node.140241929922576:node.py:get()- No need to evaluate\n"
     ]
    },
    {
     "name": "stderr",
     "output_type": "stream",
     "text": [
      "INFO\tTask(Task-2) nodify.node.140241929922528:node.py:get()- No need to evaluate\n"
     ]
    },
    {
     "name": "stderr",
     "output_type": "stream",
     "text": [
      "INFO\tTask(Task-2) nodify.node.140241930011184:node.py:get()- No need to evaluate\n"
     ]
    },
    {
     "name": "stderr",
     "output_type": "stream",
     "text": [
      "INFO\tTask(Task-2) nodify.node.140241931120528:node.py:get()- No need to evaluate\n"
     ]
    },
    {
     "name": "stderr",
     "output_type": "stream",
     "text": [
      "INFO\tTask(Task-2) nodify.node.140241929922768:node.py:get()- No need to evaluate\n"
     ]
    },
    {
     "name": "stderr",
     "output_type": "stream",
     "text": [
      "INFO\tTask(Task-2) nodify.node.140241929928672:node.py:get()- No need to evaluate\n"
     ]
    },
    {
     "name": "stderr",
     "output_type": "stream",
     "text": [
      "INFO\tTask(Task-2) nodify.node.140241931120528:node.py:get()- No need to evaluate\n"
     ]
    },
    {
     "name": "stderr",
     "output_type": "stream",
     "text": [
      "INFO\tTask(Task-2) nodify.node.140241930011280:node.py:get()- No need to evaluate\n"
     ]
    },
    {
     "name": "stderr",
     "output_type": "stream",
     "text": [
      "INFO\tTask(Task-2) nodify.node.140241929926656:node.py:get()- No need to evaluate\n"
     ]
    },
    {
     "name": "stderr",
     "output_type": "stream",
     "text": [
      "INFO\tTask(Task-2) nodify.node.140241929926272:node.py:get()- No need to evaluate\n"
     ]
    },
    {
     "name": "stderr",
     "output_type": "stream",
     "text": [
      "INFO\tTask(Task-2) nodify.node.140241930010992:node.py:get()- Evaluated because inputs changed.\n"
     ]
    },
    {
     "name": "stderr",
     "output_type": "stream",
     "text": [
      "INFO\tTask(Task-2) nodify.node.140241930011424:node.py:get()- Evaluated because inputs changed.\n"
     ]
    },
    {
     "name": "stderr",
     "output_type": "stream",
     "text": [
      "INFO\tTask(Task-2) nodify.node.140241930014688:node.py:get()- Evaluated because inputs changed.\n"
     ]
    },
    {
     "name": "stderr",
     "output_type": "stream",
     "text": [
      "INFO\tTask(Task-2) nodify.node.140241930015168:node.py:get()- Evaluated because inputs changed.\n"
     ]
    },
    {
     "data": {
      "text/html": [
       "<div>            <script src=\"https://cdnjs.cloudflare.com/ajax/libs/mathjax/2.7.5/MathJax.js?config=TeX-AMS-MML_SVG\"></script><script type=\"text/javascript\">if (window.MathJax && window.MathJax.Hub && window.MathJax.Hub.Config) {window.MathJax.Hub.Config({SVG: {font: \"STIX-Web\"}});}</script>                <script type=\"text/javascript\">window.PlotlyConfig = {MathJaxConfig: 'local'};</script>\n",
       "        <script charset=\"utf-8\" src=\"https://cdn.plot.ly/plotly-3.1.1.min.js\" integrity=\"sha256-HUEFyfiTnZJxCxur99FjbKYTvKSzwDaD3/x5TqHpFu4=\" crossorigin=\"anonymous\"></script>                <div id=\"524c9af4-396b-4fb2-9abc-4d57738868ce\" class=\"plotly-graph-div\" style=\"height:525px; width:100%;\"></div>            <script type=\"text/javascript\">                window.PLOTLYENV=window.PLOTLYENV || {};                                if (document.getElementById(\"524c9af4-396b-4fb2-9abc-4d57738868ce\")) {                    Plotly.newPlot(                        \"524c9af4-396b-4fb2-9abc-4d57738868ce\",                        [{\"coloraxis\":\"coloraxis\",\"meta\":{},\"opacity\":1,\"texttemplate\":\"%{z:.2f}\",\"z\":{\"dtype\":\"f8\",\"bdata\":\"umRqejV65z+EQ4+thvDTv60qyBY3K+I\\u002fAPiGu93tQL+AiWD+94uCvwAAAAAAAPh\\u002fAAAAAAAA+H8AAAAAAAD4fwAAAAAAAPh\\u002fXzKd1rKxsr8AAAAAAAD4fwAAAAAAAPh\\u002fAAAAAAAA+H8AAAAAAAD4fwAAAAAAAPh\\u002fhEOPrYbw078QHTs3bBXvv\\u002fhk+Rx8rMO\\u002fmIdGSAPP0L9gPmzhQkaYvwAAAAAAAPh\\u002fAAAAAAAA+H8AAAAAAAD4fwAAAAAAAPh\\u002fqLrNwoZJsL8AAAAAAAD4fwAAAAAAAPh\\u002fAAAAAAAA+H8AAAAAAAD4fwAAAAAAAPh\\u002frSrIFjcr4j\\u002f4ZPkcfKzDv8QUY\\u002fLMA9O\\u002f9l6GEbFj0j+k4gsHdETCPwAAAAAAAPh\\u002fAAAAAAAA+H8AAAAAAAD4fwAAAAAAAPh\\u002fVrF+gvoowD8AAAAAAAD4fwAAAAAAAPh\\u002fAAAAAAAA+H8AAAAAAAD4fwAAAAAAAPh\\u002fAPiGu93tQL+Yh0ZIA8\\u002fQv\\u002fZehhGxY9I\\u002f7LRAXY6B5r\\u002fIsZRDF2LUvwAAAAAAAPh\\u002fAAAAAAAA+H8AAAAAAAD4fwAAAAAAAPh\\u002fD2\\u002fHfRqyt78AAAAAAAD4fwAAAAAAAPh\\u002fAAAAAAAA+H8AAAAAAAD4fwAAAAAAAPh\\u002fgIlg\\u002fveLgr9gPmzhQkaYv6TiCwd0RMI\\u002fyLGUQxdi1L9w2qtQqOTnvwAAAAAAAPh\\u002fAAAAAAAA+H8AAAAAAAD4fwAAAAAAAPh\\u002fAAAAAAAA+H9fMp3WsrGyv6i6zcKGSbC\\u002fVrF+gvoowD8Pb8d9GrK3vwAAAAAAAPh\\u002f\",\"shape\":\"5, 15\"},\"zsmooth\":false,\"type\":\"heatmap\"},{\"line\":{\"color\":\"pink\",\"dash\":\"dash\",\"width\":5},\"meta\":{},\"mode\":\"lines\",\"name\":\"orbitals separators\",\"opacity\":0.8,\"showlegend\":false,\"x\":{\"dtype\":\"f8\",\"bdata\":\"AAAAAAAA4L8AAAAAAAASQAAAAAAAAPh\\u002fAAAAAAAA4D8AAAAAAADgPwAAAAAAAPh\\u002f\"},\"y\":{\"dtype\":\"f8\",\"bdata\":\"AAAAAAAA4D8AAAAAAADgPwAAAAAAAPh\\u002fAAAAAAAA4L8AAAAAAAASQAAAAAAAAPh\\u002f\"},\"type\":\"scatter\"},{\"line\":{\"color\":\"gray\"},\"meta\":{},\"mode\":\"lines\",\"name\":\"atoms separators\",\"opacity\":1,\"showlegend\":false,\"x\":{\"dtype\":\"f8\",\"bdata\":\"AAAAAAAA4L8AAAAAAAASQAAAAAAAAPh\\u002fAAAAAAAADEAAAAAAAAAMQAAAAAAAAPh\\u002f\"},\"y\":{\"dtype\":\"f8\",\"bdata\":\"AAAAAAAADEAAAAAAAAAMQAAAAAAAAPh\\u002fAAAAAAAA4L8AAAAAAAASQAAAAAAAAPh\\u002f\"},\"type\":\"scatter\"}],                        {\"template\":{\"layout\":{\"hovermode\":\"closest\",\"paper_bgcolor\":\"white\",\"plot_bgcolor\":\"white\",\"scene\":{\"xaxis\":{\"color\":\"black\",\"gridcolor\":\"#ccc\",\"gridwidth\":1,\"linewidth\":1,\"mirror\":true,\"showgrid\":false,\"showline\":true,\"ticklen\":5,\"ticks\":\"outside\",\"ticksuffix\":\" \",\"visible\":true,\"zeroline\":false,\"zerolinecolor\":\"#ccc\",\"zerolinewidth\":1},\"yaxis\":{\"color\":\"black\",\"gridcolor\":\"#ccc\",\"gridwidth\":1,\"linewidth\":1,\"mirror\":true,\"showgrid\":false,\"showline\":true,\"ticklen\":5,\"ticks\":\"outside\",\"ticksuffix\":\" \",\"visible\":true,\"zeroline\":false,\"zerolinecolor\":\"#ccc\",\"zerolinewidth\":1},\"zaxis\":{\"color\":\"black\",\"gridcolor\":\"#ccc\",\"gridwidth\":1,\"linewidth\":1,\"mirror\":true,\"showgrid\":false,\"showline\":true,\"ticklen\":5,\"ticks\":\"outside\",\"ticksuffix\":\" \",\"visible\":true,\"zeroline\":false,\"zerolinecolor\":\"#ccc\",\"zerolinewidth\":1}},\"xaxis\":{\"color\":\"black\",\"gridcolor\":\"#ccc\",\"gridwidth\":1,\"linewidth\":1,\"mirror\":true,\"showgrid\":false,\"showline\":true,\"ticklen\":5,\"ticks\":\"outside\",\"ticksuffix\":\" \",\"visible\":true,\"zeroline\":false,\"zerolinecolor\":\"#ccc\",\"zerolinewidth\":1},\"yaxis\":{\"color\":\"black\",\"gridcolor\":\"#ccc\",\"gridwidth\":1,\"linewidth\":1,\"mirror\":true,\"showgrid\":false,\"showline\":true,\"ticklen\":5,\"ticks\":\"outside\",\"ticksuffix\":\" \",\"visible\":true,\"zeroline\":false,\"zerolinecolor\":\"#ccc\",\"zerolinewidth\":1}}},\"coloraxis\":{\"colorscale\":[[0.0,\"rgb(0, 147, 146)\"],[0.16666666666666666,\"rgb(57, 177, 133)\"],[0.3333333333333333,\"rgb(156, 203, 134)\"],[0.5,\"rgb(233, 226, 156)\"],[0.6666666666666666,\"rgb(238, 180, 121)\"],[0.8333333333333334,\"rgb(232, 132, 113)\"],[1.0,\"rgb(207, 89, 126)\"]],\"cmid\":0,\"showscale\":true},\"xaxis\":{\"scaleanchor\":\"y\",\"scaleratio\":1,\"range\":[-0.5,14.5],\"constrain\":\"domain\"},\"scene\":{\"aspectmode\":\"data\",\"xaxis\":{\"range\":[-0.5,14.5]},\"yaxis\":{\"range\":[4.5,-0.5]}},\"yaxis\":{\"range\":[4.5,-0.5],\"constrain\":\"domain\"}},                        {\"responsive\": true}                    ).then(function(){\n",
       "                            \n",
       "var gd = document.getElementById('524c9af4-396b-4fb2-9abc-4d57738868ce');\n",
       "var x = new MutationObserver(function (mutations, observer) {{\n",
       "        var display = window.getComputedStyle(gd).display;\n",
       "        if (!display || display === 'none') {{\n",
       "            console.log([gd, 'removed!']);\n",
       "            Plotly.purge(gd);\n",
       "            observer.disconnect();\n",
       "        }}\n",
       "}});\n",
       "\n",
       "// Listen for the removal of the full notebook cells\n",
       "var notebookContainer = gd.closest('#notebook-container');\n",
       "if (notebookContainer) {{\n",
       "    x.observe(notebookContainer, {childList: true});\n",
       "}}\n",
       "\n",
       "// Listen for the clearing of the current output cell\n",
       "var outputEl = gd.closest('.output');\n",
       "if (outputEl) {{\n",
       "    x.observe(outputEl, {childList: true});\n",
       "}}\n",
       "\n",
       "                        })                };            </script>        </div>"
      ]
     },
     "metadata": {},
     "output_type": "display_data"
    }
   ],
   "source": [
    "plot.update_inputs(isc=None)"
   ]
  },
  {
   "cell_type": "markdown",
   "metadata": {},
   "source": [
    "## Arrows\n",
    "\n",
    "One can ask for an arrow to be drawn on each matrix element. You are free to represent whatever you like as arrows.\n",
    "\n",
    "The arrow specification works the same as for atom arrows in `GeometryPlot`. It is a dictionary with the key `data` containing the arrow data and the styling keys (`color`, `width`, `opacity`...) to tweak the style.\n",
    "\n",
    "However, there is one main difference. If `data` is skipped, vertical arrows are drawn, with the value of the corresponding matrix element defining the length of the arrow:"
   ]
  },
  {
   "cell_type": "code",
   "execution_count": 18,
   "metadata": {
    "execution": {
     "iopub.execute_input": "2025-10-08T13:16:17.623065Z",
     "iopub.status.busy": "2025-10-08T13:16:17.622882Z",
     "iopub.status.idle": "2025-10-08T13:16:19.318858Z",
     "shell.execute_reply": "2025-10-08T13:16:19.318313Z"
    },
    "tags": [
     "nbsphinx-thumbnail"
    ]
   },
   "outputs": [
    {
     "name": "stderr",
     "output_type": "stream",
     "text": [
      "INFO\tTask(Task-2) nodify.node.140241929927424:node.py:get()- No need to evaluate\n"
     ]
    },
    {
     "name": "stderr",
     "output_type": "stream",
     "text": [
      "INFO\tTask(Task-2) nodify.node.140241931120528:node.py:get()- No need to evaluate\n"
     ]
    },
    {
     "name": "stderr",
     "output_type": "stream",
     "text": [
      "INFO\tTask(Task-2) nodify.node.140241929921088:node.py:get()- No need to evaluate\n"
     ]
    },
    {
     "name": "stderr",
     "output_type": "stream",
     "text": [
      "INFO\tTask(Task-2) nodify.node.140241929922576:node.py:get()- No need to evaluate\n"
     ]
    },
    {
     "name": "stderr",
     "output_type": "stream",
     "text": [
      "INFO\tTask(Task-2) nodify.node.140241929922528:node.py:get()- No need to evaluate\n"
     ]
    },
    {
     "name": "stderr",
     "output_type": "stream",
     "text": [
      "INFO\tTask(Task-2) nodify.node.140241930011184:node.py:get()- No need to evaluate\n"
     ]
    },
    {
     "name": "stderr",
     "output_type": "stream",
     "text": [
      "INFO\tTask(Task-2) nodify.node.140241929924352:node.py:get()- No need to evaluate\n"
     ]
    },
    {
     "name": "stderr",
     "output_type": "stream",
     "text": [
      "INFO\tTask(Task-2) nodify.node.140241929924736:node.py:get()- No need to evaluate\n"
     ]
    },
    {
     "name": "stderr",
     "output_type": "stream",
     "text": [
      "INFO\tTask(Task-2) nodify.node.140241931120528:node.py:get()- No need to evaluate\n"
     ]
    },
    {
     "name": "stderr",
     "output_type": "stream",
     "text": [
      "INFO\tTask(Task-2) nodify.node.140241929925120:node.py:get()- No need to evaluate\n"
     ]
    },
    {
     "name": "stderr",
     "output_type": "stream",
     "text": [
      "INFO\tTask(Task-2) nodify.node.140241929924736:node.py:get()- No need to evaluate\n"
     ]
    },
    {
     "name": "stderr",
     "output_type": "stream",
     "text": [
      "INFO\tTask(Task-2) nodify.node.140241930012480:node.py:get()- No need to evaluate\n"
     ]
    },
    {
     "name": "stderr",
     "output_type": "stream",
     "text": [
      "INFO\tTask(Task-2) nodify.node.140241929923968:node.py:get()- No need to evaluate\n"
     ]
    },
    {
     "name": "stderr",
     "output_type": "stream",
     "text": [
      "INFO\tTask(Task-2) nodify.node.140241929925504:node.py:get()- No need to evaluate\n"
     ]
    },
    {
     "name": "stderr",
     "output_type": "stream",
     "text": [
      "INFO\tTask(Task-2) nodify.node.140241929925888:node.py:get()- No need to evaluate\n"
     ]
    },
    {
     "name": "stderr",
     "output_type": "stream",
     "text": [
      "INFO\tTask(Task-2) nodify.node.140241930012384:node.py:get()- No need to evaluate\n"
     ]
    },
    {
     "name": "stderr",
     "output_type": "stream",
     "text": [
      "INFO\tTask(Task-2) nodify.node.140241931120528:node.py:get()- No need to evaluate\n"
     ]
    },
    {
     "name": "stderr",
     "output_type": "stream",
     "text": [
      "INFO\tTask(Task-2) nodify.node.140241929921088:node.py:get()- No need to evaluate\n"
     ]
    },
    {
     "name": "stderr",
     "output_type": "stream",
     "text": [
      "INFO\tTask(Task-2) nodify.node.140241929922576:node.py:get()- No need to evaluate\n"
     ]
    },
    {
     "name": "stderr",
     "output_type": "stream",
     "text": [
      "INFO\tTask(Task-2) nodify.node.140241929922528:node.py:get()- No need to evaluate\n"
     ]
    },
    {
     "name": "stderr",
     "output_type": "stream",
     "text": [
      "INFO\tTask(Task-2) nodify.node.140241930011184:node.py:get()- No need to evaluate\n"
     ]
    },
    {
     "name": "stderr",
     "output_type": "stream",
     "text": [
      "INFO\tTask(Task-2) nodify.node.140241929927040:node.py:get()- Evaluated because inputs changed.\n"
     ]
    },
    {
     "name": "stderr",
     "output_type": "stream",
     "text": [
      "INFO\tTask(Task-2) nodify.node.140241930013152:node.py:get()- Evaluated because inputs changed.\n"
     ]
    },
    {
     "name": "stderr",
     "output_type": "stream",
     "text": [
      "INFO\tTask(Task-2) nodify.node.140241930012528:node.py:get()- Evaluated because inputs changed.\n"
     ]
    },
    {
     "name": "stderr",
     "output_type": "stream",
     "text": [
      "INFO\tTask(Task-2) nodify.node.140241929922192:node.py:get()- No need to evaluate\n"
     ]
    },
    {
     "name": "stderr",
     "output_type": "stream",
     "text": [
      "INFO\tTask(Task-2) nodify.node.140241931120528:node.py:get()- No need to evaluate\n"
     ]
    },
    {
     "name": "stderr",
     "output_type": "stream",
     "text": [
      "INFO\tTask(Task-2) nodify.node.140241929922768:node.py:get()- No need to evaluate\n"
     ]
    },
    {
     "name": "stderr",
     "output_type": "stream",
     "text": [
      "INFO\tTask(Task-2) nodify.node.140241929928672:node.py:get()- No need to evaluate\n"
     ]
    },
    {
     "name": "stderr",
     "output_type": "stream",
     "text": [
      "INFO\tTask(Task-2) nodify.node.140241931120528:node.py:get()- No need to evaluate\n"
     ]
    },
    {
     "name": "stderr",
     "output_type": "stream",
     "text": [
      "INFO\tTask(Task-2) nodify.node.140241930011280:node.py:get()- No need to evaluate\n"
     ]
    },
    {
     "name": "stderr",
     "output_type": "stream",
     "text": [
      "INFO\tTask(Task-2) nodify.node.140241930013200:node.py:get()- No need to evaluate\n"
     ]
    },
    {
     "name": "stderr",
     "output_type": "stream",
     "text": [
      "INFO\tTask(Task-2) nodify.node.140241929923152:node.py:get()- No need to evaluate\n"
     ]
    },
    {
     "name": "stderr",
     "output_type": "stream",
     "text": [
      "INFO\tTask(Task-2) nodify.node.140241931120528:node.py:get()- No need to evaluate\n"
     ]
    },
    {
     "name": "stderr",
     "output_type": "stream",
     "text": [
      "INFO\tTask(Task-2) nodify.node.140241929922768:node.py:get()- No need to evaluate\n"
     ]
    },
    {
     "name": "stderr",
     "output_type": "stream",
     "text": [
      "INFO\tTask(Task-2) nodify.node.140241929928672:node.py:get()- No need to evaluate\n"
     ]
    },
    {
     "name": "stderr",
     "output_type": "stream",
     "text": [
      "INFO\tTask(Task-2) nodify.node.140241931120528:node.py:get()- No need to evaluate\n"
     ]
    },
    {
     "name": "stderr",
     "output_type": "stream",
     "text": [
      "INFO\tTask(Task-2) nodify.node.140241930011280:node.py:get()- No need to evaluate\n"
     ]
    },
    {
     "name": "stderr",
     "output_type": "stream",
     "text": [
      "INFO\tTask(Task-2) nodify.node.140241930013872:node.py:get()- No need to evaluate\n"
     ]
    },
    {
     "name": "stderr",
     "output_type": "stream",
     "text": [
      "INFO\tTask(Task-2) nodify.node.140241929923536:node.py:get()- No need to evaluate\n"
     ]
    },
    {
     "name": "stderr",
     "output_type": "stream",
     "text": [
      "INFO\tTask(Task-2) nodify.node.140241931120528:node.py:get()- No need to evaluate\n"
     ]
    },
    {
     "name": "stderr",
     "output_type": "stream",
     "text": [
      "INFO\tTask(Task-2) nodify.node.140241929922768:node.py:get()- No need to evaluate\n"
     ]
    },
    {
     "name": "stderr",
     "output_type": "stream",
     "text": [
      "INFO\tTask(Task-2) nodify.node.140241929928672:node.py:get()- No need to evaluate\n"
     ]
    },
    {
     "name": "stderr",
     "output_type": "stream",
     "text": [
      "INFO\tTask(Task-2) nodify.node.140241931120528:node.py:get()- No need to evaluate\n"
     ]
    },
    {
     "name": "stderr",
     "output_type": "stream",
     "text": [
      "INFO\tTask(Task-2) nodify.node.140241930011280:node.py:get()- No need to evaluate\n"
     ]
    },
    {
     "name": "stderr",
     "output_type": "stream",
     "text": [
      "INFO\tTask(Task-2) nodify.node.140241930014208:node.py:get()- No need to evaluate\n"
     ]
    },
    {
     "name": "stderr",
     "output_type": "stream",
     "text": [
      "INFO\tTask(Task-2) nodify.node.140241931120528:node.py:get()- No need to evaluate\n"
     ]
    },
    {
     "name": "stderr",
     "output_type": "stream",
     "text": [
      "INFO\tTask(Task-2) nodify.node.140241929921088:node.py:get()- No need to evaluate\n"
     ]
    },
    {
     "name": "stderr",
     "output_type": "stream",
     "text": [
      "INFO\tTask(Task-2) nodify.node.140241929922576:node.py:get()- No need to evaluate\n"
     ]
    },
    {
     "name": "stderr",
     "output_type": "stream",
     "text": [
      "INFO\tTask(Task-2) nodify.node.140241929922528:node.py:get()- No need to evaluate\n"
     ]
    },
    {
     "name": "stderr",
     "output_type": "stream",
     "text": [
      "INFO\tTask(Task-2) nodify.node.140241930011184:node.py:get()- No need to evaluate\n"
     ]
    },
    {
     "name": "stderr",
     "output_type": "stream",
     "text": [
      "INFO\tTask(Task-2) nodify.node.140241931120528:node.py:get()- No need to evaluate\n"
     ]
    },
    {
     "name": "stderr",
     "output_type": "stream",
     "text": [
      "INFO\tTask(Task-2) nodify.node.140241929922768:node.py:get()- No need to evaluate\n"
     ]
    },
    {
     "name": "stderr",
     "output_type": "stream",
     "text": [
      "INFO\tTask(Task-2) nodify.node.140241929928672:node.py:get()- No need to evaluate\n"
     ]
    },
    {
     "name": "stderr",
     "output_type": "stream",
     "text": [
      "INFO\tTask(Task-2) nodify.node.140241931120528:node.py:get()- No need to evaluate\n"
     ]
    },
    {
     "name": "stderr",
     "output_type": "stream",
     "text": [
      "INFO\tTask(Task-2) nodify.node.140241930011280:node.py:get()- No need to evaluate\n"
     ]
    },
    {
     "name": "stderr",
     "output_type": "stream",
     "text": [
      "INFO\tTask(Task-2) nodify.node.140241929926656:node.py:get()- No need to evaluate\n"
     ]
    },
    {
     "name": "stderr",
     "output_type": "stream",
     "text": [
      "INFO\tTask(Task-2) nodify.node.140241929926272:node.py:get()- No need to evaluate\n"
     ]
    },
    {
     "name": "stderr",
     "output_type": "stream",
     "text": [
      "INFO\tTask(Task-2) nodify.node.140241930010992:node.py:get()- No need to evaluate\n"
     ]
    },
    {
     "name": "stderr",
     "output_type": "stream",
     "text": [
      "INFO\tTask(Task-2) nodify.node.140241930011424:node.py:get()- Evaluated because inputs changed.\n"
     ]
    },
    {
     "name": "stderr",
     "output_type": "stream",
     "text": [
      "INFO\tTask(Task-2) nodify.node.140241930014688:node.py:get()- Evaluated because inputs changed.\n"
     ]
    },
    {
     "name": "stderr",
     "output_type": "stream",
     "text": [
      "INFO\tTask(Task-2) nodify.node.140241930015168:node.py:get()- Evaluated because inputs changed.\n"
     ]
    },
    {
     "data": {
      "image/png": "[encoded data removed]"
     },
     "metadata": {},
     "output_type": "display_data"
    }
   ],
   "source": [
    "plot.update_inputs(arrows={\"color\": \"blue\"}).show(\"png\")"
   ]
  },
  {
   "cell_type": "markdown",
   "metadata": {},
   "source": [
    "**Arrows are normalized so that they fit the box** of their matrix element.\n",
    "\n",
    "It may be that pixel colors and numbers make it difficult to visualize the arrows. In that case, you can disable them both. We have already seen how to disable text. For pixel colors there's the `color_pixels` input, which is a switch to turn them on or off:"
   ]
  },
  {
   "cell_type": "code",
   "execution_count": 19,
   "metadata": {
    "execution": {
     "iopub.execute_input": "2025-10-08T13:16:19.320692Z",
     "iopub.status.busy": "2025-10-08T13:16:19.320519Z",
     "iopub.status.idle": "2025-10-08T13:16:19.469217Z",
     "shell.execute_reply": "2025-10-08T13:16:19.468726Z"
    }
   },
   "outputs": [
    {
     "name": "stderr",
     "output_type": "stream",
     "text": [
      "INFO\tTask(Task-2) nodify.node.140241929927424:node.py:get()- No need to evaluate\n"
     ]
    },
    {
     "name": "stderr",
     "output_type": "stream",
     "text": [
      "INFO\tTask(Task-2) nodify.node.140241931120528:node.py:get()- No need to evaluate\n"
     ]
    },
    {
     "name": "stderr",
     "output_type": "stream",
     "text": [
      "INFO\tTask(Task-2) nodify.node.140241929921088:node.py:get()- No need to evaluate\n"
     ]
    },
    {
     "name": "stderr",
     "output_type": "stream",
     "text": [
      "INFO\tTask(Task-2) nodify.node.140241929922576:node.py:get()- No need to evaluate\n"
     ]
    },
    {
     "name": "stderr",
     "output_type": "stream",
     "text": [
      "INFO\tTask(Task-2) nodify.node.140241929922528:node.py:get()- No need to evaluate\n"
     ]
    },
    {
     "name": "stderr",
     "output_type": "stream",
     "text": [
      "INFO\tTask(Task-2) nodify.node.140241930011184:node.py:get()- No need to evaluate\n"
     ]
    },
    {
     "name": "stderr",
     "output_type": "stream",
     "text": [
      "INFO\tTask(Task-2) nodify.node.140241929924352:node.py:get()- No need to evaluate\n"
     ]
    },
    {
     "name": "stderr",
     "output_type": "stream",
     "text": [
      "INFO\tTask(Task-2) nodify.node.140241929924736:node.py:get()- No need to evaluate\n"
     ]
    },
    {
     "name": "stderr",
     "output_type": "stream",
     "text": [
      "INFO\tTask(Task-2) nodify.node.140241931120528:node.py:get()- No need to evaluate\n"
     ]
    },
    {
     "name": "stderr",
     "output_type": "stream",
     "text": [
      "INFO\tTask(Task-2) nodify.node.140241929925120:node.py:get()- No need to evaluate\n"
     ]
    },
    {
     "name": "stderr",
     "output_type": "stream",
     "text": [
      "INFO\tTask(Task-2) nodify.node.140241929924736:node.py:get()- No need to evaluate\n"
     ]
    },
    {
     "name": "stderr",
     "output_type": "stream",
     "text": [
      "INFO\tTask(Task-2) nodify.node.140241930012480:node.py:get()- No need to evaluate\n"
     ]
    },
    {
     "name": "stderr",
     "output_type": "stream",
     "text": [
      "INFO\tTask(Task-2) nodify.node.140241929923968:node.py:get()- Evaluated because inputs changed.\n"
     ]
    },
    {
     "name": "stderr",
     "output_type": "stream",
     "text": [
      "INFO\tTask(Task-2) nodify.node.140241929925504:node.py:get()- Evaluated because inputs changed.\n"
     ]
    },
    {
     "name": "stderr",
     "output_type": "stream",
     "text": [
      "INFO\tTask(Task-2) nodify.node.140241929925888:node.py:get()- No need to evaluate\n"
     ]
    },
    {
     "name": "stderr",
     "output_type": "stream",
     "text": [
      "INFO\tTask(Task-2) nodify.node.140241930012384:node.py:get()- Evaluated because inputs changed.\n"
     ]
    },
    {
     "name": "stderr",
     "output_type": "stream",
     "text": [
      "INFO\tTask(Task-2) nodify.node.140241931120528:node.py:get()- No need to evaluate\n"
     ]
    },
    {
     "name": "stderr",
     "output_type": "stream",
     "text": [
      "INFO\tTask(Task-2) nodify.node.140241929921088:node.py:get()- No need to evaluate\n"
     ]
    },
    {
     "name": "stderr",
     "output_type": "stream",
     "text": [
      "INFO\tTask(Task-2) nodify.node.140241929922576:node.py:get()- No need to evaluate\n"
     ]
    },
    {
     "name": "stderr",
     "output_type": "stream",
     "text": [
      "INFO\tTask(Task-2) nodify.node.140241929922528:node.py:get()- No need to evaluate\n"
     ]
    },
    {
     "name": "stderr",
     "output_type": "stream",
     "text": [
      "INFO\tTask(Task-2) nodify.node.140241930011184:node.py:get()- No need to evaluate\n"
     ]
    },
    {
     "name": "stderr",
     "output_type": "stream",
     "text": [
      "INFO\tTask(Task-2) nodify.node.140241929927040:node.py:get()- No need to evaluate\n"
     ]
    },
    {
     "name": "stderr",
     "output_type": "stream",
     "text": [
      "INFO\tTask(Task-2) nodify.node.140241930013152:node.py:get()- No need to evaluate\n"
     ]
    },
    {
     "name": "stderr",
     "output_type": "stream",
     "text": [
      "INFO\tTask(Task-2) nodify.node.140241930012528:node.py:get()- No need to evaluate\n"
     ]
    },
    {
     "name": "stderr",
     "output_type": "stream",
     "text": [
      "INFO\tTask(Task-2) nodify.node.140241929922192:node.py:get()- No need to evaluate\n"
     ]
    },
    {
     "name": "stderr",
     "output_type": "stream",
     "text": [
      "INFO\tTask(Task-2) nodify.node.140241931120528:node.py:get()- No need to evaluate\n"
     ]
    },
    {
     "name": "stderr",
     "output_type": "stream",
     "text": [
      "INFO\tTask(Task-2) nodify.node.140241929922768:node.py:get()- No need to evaluate\n"
     ]
    },
    {
     "name": "stderr",
     "output_type": "stream",
     "text": [
      "INFO\tTask(Task-2) nodify.node.140241929928672:node.py:get()- No need to evaluate\n"
     ]
    },
    {
     "name": "stderr",
     "output_type": "stream",
     "text": [
      "INFO\tTask(Task-2) nodify.node.140241931120528:node.py:get()- No need to evaluate\n"
     ]
    },
    {
     "name": "stderr",
     "output_type": "stream",
     "text": [
      "INFO\tTask(Task-2) nodify.node.140241930011280:node.py:get()- No need to evaluate\n"
     ]
    },
    {
     "name": "stderr",
     "output_type": "stream",
     "text": [
      "INFO\tTask(Task-2) nodify.node.140241930013200:node.py:get()- No need to evaluate\n"
     ]
    },
    {
     "name": "stderr",
     "output_type": "stream",
     "text": [
      "INFO\tTask(Task-2) nodify.node.140241929923152:node.py:get()- No need to evaluate\n"
     ]
    },
    {
     "name": "stderr",
     "output_type": "stream",
     "text": [
      "INFO\tTask(Task-2) nodify.node.140241931120528:node.py:get()- No need to evaluate\n"
     ]
    },
    {
     "name": "stderr",
     "output_type": "stream",
     "text": [
      "INFO\tTask(Task-2) nodify.node.140241929922768:node.py:get()- No need to evaluate\n"
     ]
    },
    {
     "name": "stderr",
     "output_type": "stream",
     "text": [
      "INFO\tTask(Task-2) nodify.node.140241929928672:node.py:get()- No need to evaluate\n"
     ]
    },
    {
     "name": "stderr",
     "output_type": "stream",
     "text": [
      "INFO\tTask(Task-2) nodify.node.140241931120528:node.py:get()- No need to evaluate\n"
     ]
    },
    {
     "name": "stderr",
     "output_type": "stream",
     "text": [
      "INFO\tTask(Task-2) nodify.node.140241930011280:node.py:get()- No need to evaluate\n"
     ]
    },
    {
     "name": "stderr",
     "output_type": "stream",
     "text": [
      "INFO\tTask(Task-2) nodify.node.140241930013872:node.py:get()- No need to evaluate\n"
     ]
    },
    {
     "name": "stderr",
     "output_type": "stream",
     "text": [
      "INFO\tTask(Task-2) nodify.node.140241929923536:node.py:get()- No need to evaluate\n"
     ]
    },
    {
     "name": "stderr",
     "output_type": "stream",
     "text": [
      "INFO\tTask(Task-2) nodify.node.140241931120528:node.py:get()- No need to evaluate\n"
     ]
    },
    {
     "name": "stderr",
     "output_type": "stream",
     "text": [
      "INFO\tTask(Task-2) nodify.node.140241929922768:node.py:get()- No need to evaluate\n"
     ]
    },
    {
     "name": "stderr",
     "output_type": "stream",
     "text": [
      "INFO\tTask(Task-2) nodify.node.140241929928672:node.py:get()- No need to evaluate\n"
     ]
    },
    {
     "name": "stderr",
     "output_type": "stream",
     "text": [
      "INFO\tTask(Task-2) nodify.node.140241931120528:node.py:get()- No need to evaluate\n"
     ]
    },
    {
     "name": "stderr",
     "output_type": "stream",
     "text": [
      "INFO\tTask(Task-2) nodify.node.140241930011280:node.py:get()- No need to evaluate\n"
     ]
    },
    {
     "name": "stderr",
     "output_type": "stream",
     "text": [
      "INFO\tTask(Task-2) nodify.node.140241930014208:node.py:get()- No need to evaluate\n"
     ]
    },
    {
     "name": "stderr",
     "output_type": "stream",
     "text": [
      "INFO\tTask(Task-2) nodify.node.140241931120528:node.py:get()- No need to evaluate\n"
     ]
    },
    {
     "name": "stderr",
     "output_type": "stream",
     "text": [
      "INFO\tTask(Task-2) nodify.node.140241929921088:node.py:get()- No need to evaluate\n"
     ]
    },
    {
     "name": "stderr",
     "output_type": "stream",
     "text": [
      "INFO\tTask(Task-2) nodify.node.140241929922576:node.py:get()- No need to evaluate\n"
     ]
    },
    {
     "name": "stderr",
     "output_type": "stream",
     "text": [
      "INFO\tTask(Task-2) nodify.node.140241929922528:node.py:get()- No need to evaluate\n"
     ]
    },
    {
     "name": "stderr",
     "output_type": "stream",
     "text": [
      "INFO\tTask(Task-2) nodify.node.140241930011184:node.py:get()- No need to evaluate\n"
     ]
    },
    {
     "name": "stderr",
     "output_type": "stream",
     "text": [
      "INFO\tTask(Task-2) nodify.node.140241931120528:node.py:get()- No need to evaluate\n"
     ]
    },
    {
     "name": "stderr",
     "output_type": "stream",
     "text": [
      "INFO\tTask(Task-2) nodify.node.140241929922768:node.py:get()- No need to evaluate\n"
     ]
    },
    {
     "name": "stderr",
     "output_type": "stream",
     "text": [
      "INFO\tTask(Task-2) nodify.node.140241929928672:node.py:get()- No need to evaluate\n"
     ]
    },
    {
     "name": "stderr",
     "output_type": "stream",
     "text": [
      "INFO\tTask(Task-2) nodify.node.140241931120528:node.py:get()- No need to evaluate\n"
     ]
    },
    {
     "name": "stderr",
     "output_type": "stream",
     "text": [
      "INFO\tTask(Task-2) nodify.node.140241930011280:node.py:get()- No need to evaluate\n"
     ]
    },
    {
     "name": "stderr",
     "output_type": "stream",
     "text": [
      "INFO\tTask(Task-2) nodify.node.140241929926656:node.py:get()- No need to evaluate\n"
     ]
    },
    {
     "name": "stderr",
     "output_type": "stream",
     "text": [
      "INFO\tTask(Task-2) nodify.node.140241929926272:node.py:get()- No need to evaluate\n"
     ]
    },
    {
     "name": "stderr",
     "output_type": "stream",
     "text": [
      "INFO\tTask(Task-2) nodify.node.140241930010992:node.py:get()- No need to evaluate\n"
     ]
    },
    {
     "name": "stderr",
     "output_type": "stream",
     "text": [
      "INFO\tTask(Task-2) nodify.node.140241930011424:node.py:get()- Evaluated because inputs changed.\n"
     ]
    },
    {
     "name": "stderr",
     "output_type": "stream",
     "text": [
      "INFO\tTask(Task-2) nodify.node.140241930014688:node.py:get()- Evaluated because inputs changed.\n"
     ]
    },
    {
     "name": "stderr",
     "output_type": "stream",
     "text": [
      "INFO\tTask(Task-2) nodify.node.140241930015168:node.py:get()- Evaluated because inputs changed.\n"
     ]
    },
    {
     "data": {
      "text/html": [
       "<div>            <script src=\"https://cdnjs.cloudflare.com/ajax/libs/mathjax/2.7.5/MathJax.js?config=TeX-AMS-MML_SVG\"></script><script type=\"text/javascript\">if (window.MathJax && window.MathJax.Hub && window.MathJax.Hub.Config) {window.MathJax.Hub.Config({SVG: {font: \"STIX-Web\"}});}</script>                <script type=\"text/javascript\">window.PlotlyConfig = {MathJaxConfig: 'local'};</script>\n",
       "        <script charset=\"utf-8\" src=\"https://cdn.plot.ly/plotly-3.1.1.min.js\" integrity=\"sha256-HUEFyfiTnZJxCxur99FjbKYTvKSzwDaD3/x5TqHpFu4=\" crossorigin=\"anonymous\"></script>                <div id=\"3233ae0d-eb4e-4ddd-9b89-d966b113e52a\" class=\"plotly-graph-div\" style=\"height:525px; width:100%;\"></div>            <script type=\"text/javascript\">                window.PLOTLYENV=window.PLOTLYENV || {};                                if (document.getElementById(\"3233ae0d-eb4e-4ddd-9b89-d966b113e52a\")) {                    Plotly.newPlot(                        \"3233ae0d-eb4e-4ddd-9b89-d966b113e52a\",                        [{\"coloraxis\":\"coloraxis\",\"meta\":{},\"opacity\":0,\"textfont\":{\"color\":\"black\"},\"z\":{\"dtype\":\"f8\",\"bdata\":\"umRqejV65z+EQ4+thvDTv60qyBY3K+I\\u002fAPiGu93tQL+AiWD+94uCvwAAAAAAAPh\\u002fAAAAAAAA+H8AAAAAAAD4fwAAAAAAAPh\\u002fXzKd1rKxsr8AAAAAAAD4fwAAAAAAAPh\\u002fAAAAAAAA+H8AAAAAAAD4fwAAAAAAAPh\\u002fhEOPrYbw078QHTs3bBXvv\\u002fhk+Rx8rMO\\u002fmIdGSAPP0L9gPmzhQkaYvwAAAAAAAPh\\u002fAAAAAAAA+H8AAAAAAAD4fwAAAAAAAPh\\u002fqLrNwoZJsL8AAAAAAAD4fwAAAAAAAPh\\u002fAAAAAAAA+H8AAAAAAAD4fwAAAAAAAPh\\u002frSrIFjcr4j\\u002f4ZPkcfKzDv8QUY\\u002fLMA9O\\u002f9l6GEbFj0j+k4gsHdETCPwAAAAAAAPh\\u002fAAAAAAAA+H8AAAAAAAD4fwAAAAAAAPh\\u002fVrF+gvoowD8AAAAAAAD4fwAAAAAAAPh\\u002fAAAAAAAA+H8AAAAAAAD4fwAAAAAAAPh\\u002fAPiGu93tQL+Yh0ZIA8\\u002fQv\\u002fZehhGxY9I\\u002f7LRAXY6B5r\\u002fIsZRDF2LUvwAAAAAAAPh\\u002fAAAAAAAA+H8AAAAAAAD4fwAAAAAAAPh\\u002fD2\\u002fHfRqyt78AAAAAAAD4fwAAAAAAAPh\\u002fAAAAAAAA+H8AAAAAAAD4fwAAAAAAAPh\\u002fgIlg\\u002fveLgr9gPmzhQkaYv6TiCwd0RMI\\u002fyLGUQxdi1L9w2qtQqOTnvwAAAAAAAPh\\u002fAAAAAAAA+H8AAAAAAAD4fwAAAAAAAPh\\u002fAAAAAAAA+H9fMp3WsrGyv6i6zcKGSbC\\u002fVrF+gvoowD8Pb8d9GrK3vwAAAAAAAPh\\u002f\",\"shape\":\"5, 15\"},\"zsmooth\":false,\"type\":\"heatmap\"},{\"hovertext\":[\"[ 0.         -0.75529592]\",\"[ 0.         -0.75529592]\",\"[ 0.         -0.75529592]\",\"[ 0.         -0.75529592]\",\"[ 0.         -0.75529592]\",\"[ 0.         -0.75529592]\",\"[ 0.         -0.75529592]\",\"[0.         0.32073991]\",\"[0.         0.32073991]\",\"[0.         0.32073991]\",\"[0.         0.32073991]\",\"[0.         0.32073991]\",\"[0.         0.32073991]\",\"[0.         0.32073991]\",\"[ 0.         -0.58451277]\",\"[ 0.         -0.58451277]\",\"[ 0.         -0.58451277]\",\"[ 0.         -0.58451277]\",\"[ 0.         -0.58451277]\",\"[ 0.         -0.58451277]\",\"[ 0.         -0.58451277]\",\"[0.         0.00053187]\",\"[0.         0.00053187]\",\"[0.         0.00053187]\",\"[0.         0.00053187]\",\"[0.         0.00053187]\",\"[0.         0.00053187]\",\"[0.         0.00053187]\",\"[0.         0.00932299]\",\"[0.         0.00932299]\",\"[0.         0.00932299]\",\"[0.         0.00932299]\",\"[0.         0.00932299]\",\"[0.         0.00932299]\",\"[0.         0.00932299]\",\"[ 0. nan]\",\"[ 0. nan]\",\"[ 0. nan]\",\"[ 0. nan]\",\"[ 0. nan]\",\"[ 0. nan]\",\"[ 0. nan]\",\"[ 0. nan]\",\"[ 0. nan]\",\"[ 0. nan]\",\"[ 0. nan]\",\"[ 0. nan]\",\"[ 0. nan]\",\"[ 0. nan]\",\"[ 0. nan]\",\"[ 0. nan]\",\"[ 0. nan]\",\"[ 0. nan]\",\"[ 0. nan]\",\"[ 0. nan]\",\"[ 0. nan]\",\"[ 0. nan]\",\"[ 0. nan]\",\"[ 0. nan]\",\"[ 0. nan]\",\"[ 0. nan]\",\"[ 0. nan]\",\"[ 0. nan]\",\"[0.         0.07517664]\",\"[0.         0.07517664]\",\"[0.         0.07517664]\",\"[0.         0.07517664]\",\"[0.         0.07517664]\",\"[0.         0.07517664]\",\"[0.         0.07517664]\",\"[ 0. nan]\",\"[ 0. nan]\",\"[ 0. nan]\",\"[ 0. nan]\",\"[ 0. nan]\",\"[ 0. nan]\",\"[ 0. nan]\",\"[ 0. nan]\",\"[ 0. nan]\",\"[ 0. nan]\",\"[ 0. nan]\",\"[ 0. nan]\",\"[ 0. nan]\",\"[ 0. nan]\",\"[ 0. nan]\",\"[ 0. nan]\",\"[ 0. nan]\",\"[ 0. nan]\",\"[ 0. nan]\",\"[ 0. nan]\",\"[ 0. nan]\",\"[ 0. nan]\",\"[ 0. nan]\",\"[ 0. nan]\",\"[ 0. nan]\",\"[ 0. nan]\",\"[ 0. nan]\",\"[ 0. nan]\",\"[ 0. nan]\",\"[ 0. nan]\",\"[ 0. nan]\",\"[ 0. nan]\",\"[ 0. nan]\",\"[ 0. nan]\",\"[ 0. nan]\",\"[0.         0.32073991]\",\"[0.         0.32073991]\",\"[0.         0.32073991]\",\"[0.         0.32073991]\",\"[0.         0.32073991]\",\"[0.         0.32073991]\",\"[0.         0.32073991]\",\"[0. 1.]\",\"[0. 1.]\",\"[0. 1.]\",\"[0. 1.]\",\"[0. 1.]\",\"[0. 1.]\",\"[0. 1.]\",\"[0.         0.15823229]\",\"[0.         0.15823229]\",\"[0.         0.15823229]\",\"[0.         0.15823229]\",\"[0.         0.15823229]\",\"[0.         0.15823229]\",\"[0.         0.15823229]\",\"[0.         0.27037729]\",\"[0.         0.27037729]\",\"[0.         0.27037729]\",\"[0.         0.27037729]\",\"[0.         0.27037729]\",\"[0.         0.27037729]\",\"[0.         0.27037729]\",\"[0.         0.02440434]\",\"[0.         0.02440434]\",\"[0.         0.02440434]\",\"[0.         0.02440434]\",\"[0.         0.02440434]\",\"[0.         0.02440434]\",\"[0.         0.02440434]\",\"[ 0. nan]\",\"[ 0. nan]\",\"[ 0. nan]\",\"[ 0. nan]\",\"[ 0. nan]\",\"[ 0. nan]\",\"[ 0. nan]\",\"[ 0. nan]\",\"[ 0. nan]\",\"[ 0. nan]\",\"[ 0. nan]\",\"[ 0. nan]\",\"[ 0. nan]\",\"[ 0. nan]\",\"[ 0. nan]\",\"[ 0. nan]\",\"[ 0. nan]\",\"[ 0. nan]\",\"[ 0. nan]\",\"[ 0. nan]\",\"[ 0. nan]\",\"[ 0. nan]\",\"[ 0. nan]\",\"[ 0. nan]\",\"[ 0. nan]\",\"[ 0. nan]\",\"[ 0. nan]\",\"[ 0. nan]\",\"[0.         0.06549744]\",\"[0.         0.06549744]\",\"[0.         0.06549744]\",\"[0.         0.06549744]\",\"[0.         0.06549744]\",\"[0.         0.06549744]\",\"[0.         0.06549744]\",\"[ 0. nan]\",\"[ 0. nan]\",\"[ 0. nan]\",\"[ 0. nan]\",\"[ 0. nan]\",\"[ 0. nan]\",\"[ 0. nan]\",\"[ 0. nan]\",\"[ 0. nan]\",\"[ 0. nan]\",\"[ 0. nan]\",\"[ 0. nan]\",\"[ 0. nan]\",\"[ 0. nan]\",\"[ 0. nan]\",\"[ 0. nan]\",\"[ 0. nan]\",\"[ 0. nan]\",\"[ 0. nan]\",\"[ 0. nan]\",\"[ 0. nan]\",\"[ 0. nan]\",\"[ 0. nan]\",\"[ 0. nan]\",\"[ 0. nan]\",\"[ 0. nan]\",\"[ 0. nan]\",\"[ 0. nan]\",\"[ 0. nan]\",\"[ 0. nan]\",\"[ 0. nan]\",\"[ 0. nan]\",\"[ 0. nan]\",\"[ 0. nan]\",\"[ 0. nan]\",\"[ 0.         -0.58451277]\",\"[ 0.         -0.58451277]\",\"[ 0.         -0.58451277]\",\"[ 0.         -0.58451277]\",\"[ 0.         -0.58451277]\",\"[ 0.         -0.58451277]\",\"[ 0.         -0.58451277]\",\"[0.         0.15823229]\",\"[0.         0.15823229]\",\"[0.         0.15823229]\",\"[0.         0.15823229]\",\"[0.         0.15823229]\",\"[0.         0.15823229]\",\"[0.         0.15823229]\",\"[0.        0.3058654]\",\"[0.        0.3058654]\",\"[0.        0.3058654]\",\"[0.        0.3058654]\",\"[0.        0.3058654]\",\"[0.        0.3058654]\",\"[0.        0.3058654]\",\"[ 0.         -0.29580505]\",\"[ 0.         -0.29580505]\",\"[ 0.         -0.29580505]\",\"[ 0.         -0.29580505]\",\"[ 0.         -0.29580505]\",\"[ 0.         -0.29580505]\",\"[ 0.         -0.29580505]\",\"[ 0.        -0.1469211]\",\"[ 0.        -0.1469211]\",\"[ 0.        -0.1469211]\",\"[ 0.        -0.1469211]\",\"[ 0.        -0.1469211]\",\"[ 0.        -0.1469211]\",\"[ 0.        -0.1469211]\",\"[ 0. nan]\",\"[ 0. nan]\",\"[ 0. nan]\",\"[ 0. nan]\",\"[ 0. nan]\",\"[ 0. nan]\",\"[ 0. nan]\",\"[ 0. nan]\",\"[ 0. nan]\",\"[ 0. nan]\",\"[ 0. nan]\",\"[ 0. nan]\",\"[ 0. nan]\",\"[ 0. nan]\",\"[ 0. nan]\",\"[ 0. nan]\",\"[ 0. nan]\",\"[ 0. nan]\",\"[ 0. nan]\",\"[ 0. nan]\",\"[ 0. nan]\",\"[ 0. nan]\",\"[ 0. nan]\",\"[ 0. nan]\",\"[ 0. nan]\",\"[ 0. nan]\",\"[ 0. nan]\",\"[ 0. nan]\",\"[ 0.         -0.12997231]\",\"[ 0.         -0.12997231]\",\"[ 0.         -0.12997231]\",\"[ 0.         -0.12997231]\",\"[ 0.         -0.12997231]\",\"[ 0.         -0.12997231]\",\"[ 0.         -0.12997231]\",\"[ 0. nan]\",\"[ 0. nan]\",\"[ 0. nan]\",\"[ 0. nan]\",\"[ 0. nan]\",\"[ 0. nan]\",\"[ 0. nan]\",\"[ 0. nan]\",\"[ 0. nan]\",\"[ 0. nan]\",\"[ 0. nan]\",\"[ 0. nan]\",\"[ 0. nan]\",\"[ 0. nan]\",\"[ 0. nan]\",\"[ 0. nan]\",\"[ 0. nan]\",\"[ 0. nan]\",\"[ 0. nan]\",\"[ 0. nan]\",\"[ 0. nan]\",\"[ 0. nan]\",\"[ 0. nan]\",\"[ 0. nan]\",\"[ 0. nan]\",\"[ 0. nan]\",\"[ 0. nan]\",\"[ 0. nan]\",\"[ 0. nan]\",\"[ 0. nan]\",\"[ 0. nan]\",\"[ 0. nan]\",\"[ 0. nan]\",\"[ 0. nan]\",\"[ 0. nan]\",\"[0.         0.00053187]\",\"[0.         0.00053187]\",\"[0.         0.00053187]\",\"[0.         0.00053187]\",\"[0.         0.00053187]\",\"[0.         0.00053187]\",\"[0.         0.00053187]\",\"[0.         0.27037729]\",\"[0.         0.27037729]\",\"[0.         0.27037729]\",\"[0.         0.27037729]\",\"[0.         0.27037729]\",\"[0.         0.27037729]\",\"[0.         0.27037729]\",\"[ 0.         -0.29580505]\",\"[ 0.         -0.29580505]\",\"[ 0.         -0.29580505]\",\"[ 0.         -0.29580505]\",\"[ 0.         -0.29580505]\",\"[ 0.         -0.29580505]\",\"[ 0.         -0.29580505]\",\"[0.         0.72404801]\",\"[0.         0.72404801]\",\"[0.         0.72404801]\",\"[0.         0.72404801]\",\"[0.         0.72404801]\",\"[0.         0.72404801]\",\"[0.         0.72404801]\",\"[0.         0.32787569]\",\"[0.         0.32787569]\",\"[0.         0.32787569]\",\"[0.         0.32787569]\",\"[0.         0.32787569]\",\"[0.         0.32787569]\",\"[0.         0.32787569]\",\"[ 0. nan]\",\"[ 0. nan]\",\"[ 0. nan]\",\"[ 0. nan]\",\"[ 0. nan]\",\"[ 0. nan]\",\"[ 0. nan]\",\"[ 0. nan]\",\"[ 0. nan]\",\"[ 0. nan]\",\"[ 0. nan]\",\"[ 0. nan]\",\"[ 0. nan]\",\"[ 0. nan]\",\"[ 0. nan]\",\"[ 0. nan]\",\"[ 0. nan]\",\"[ 0. nan]\",\"[ 0. nan]\",\"[ 0. nan]\",\"[ 0. nan]\",\"[ 0. nan]\",\"[ 0. nan]\",\"[ 0. nan]\",\"[ 0. nan]\",\"[ 0. nan]\",\"[ 0. nan]\",\"[ 0. nan]\",\"[0.         0.09529002]\",\"[0.         0.09529002]\",\"[0.         0.09529002]\",\"[0.         0.09529002]\",\"[0.         0.09529002]\",\"[0.         0.09529002]\",\"[0.         0.09529002]\",\"[ 0. nan]\",\"[ 0. nan]\",\"[ 0. nan]\",\"[ 0. nan]\",\"[ 0. nan]\",\"[ 0. nan]\",\"[ 0. nan]\",\"[ 0. nan]\",\"[ 0. nan]\",\"[ 0. nan]\",\"[ 0. nan]\",\"[ 0. nan]\",\"[ 0. nan]\",\"[ 0. nan]\",\"[ 0. nan]\",\"[ 0. nan]\",\"[ 0. nan]\",\"[ 0. nan]\",\"[ 0. nan]\",\"[ 0. nan]\",\"[ 0. nan]\",\"[ 0. nan]\",\"[ 0. nan]\",\"[ 0. nan]\",\"[ 0. nan]\",\"[ 0. nan]\",\"[ 0. nan]\",\"[ 0. nan]\",\"[ 0. nan]\",\"[ 0. nan]\",\"[ 0. nan]\",\"[ 0. nan]\",\"[ 0. nan]\",\"[ 0. nan]\",\"[ 0. nan]\",\"[0.         0.00932299]\",\"[0.         0.00932299]\",\"[0.         0.00932299]\",\"[0.         0.00932299]\",\"[0.         0.00932299]\",\"[0.         0.00932299]\",\"[0.         0.00932299]\",\"[0.         0.02440434]\",\"[0.         0.02440434]\",\"[0.         0.02440434]\",\"[0.         0.02440434]\",\"[0.         0.02440434]\",\"[0.         0.02440434]\",\"[0.         0.02440434]\",\"[ 0.        -0.1469211]\",\"[ 0.        -0.1469211]\",\"[ 0.        -0.1469211]\",\"[ 0.        -0.1469211]\",\"[ 0.        -0.1469211]\",\"[ 0.        -0.1469211]\",\"[ 0.        -0.1469211]\",\"[0.         0.32787569]\",\"[0.         0.32787569]\",\"[0.         0.32787569]\",\"[0.         0.32787569]\",\"[0.         0.32787569]\",\"[0.         0.32787569]\",\"[0.         0.32787569]\",\"[0.         0.76867319]\",\"[0.         0.76867319]\",\"[0.         0.76867319]\",\"[0.         0.76867319]\",\"[0.         0.76867319]\",\"[0.         0.76867319]\",\"[0.         0.76867319]\",\"[ 0. nan]\",\"[ 0. nan]\",\"[ 0. nan]\",\"[ 0. nan]\",\"[ 0. nan]\",\"[ 0. nan]\",\"[ 0. nan]\",\"[ 0. nan]\",\"[ 0. nan]\",\"[ 0. nan]\",\"[ 0. nan]\",\"[ 0. nan]\",\"[ 0. nan]\",\"[ 0. nan]\",\"[ 0. nan]\",\"[ 0. nan]\",\"[ 0. nan]\",\"[ 0. nan]\",\"[ 0. nan]\",\"[ 0. nan]\",\"[ 0. nan]\",\"[ 0. nan]\",\"[ 0. nan]\",\"[ 0. nan]\",\"[ 0. nan]\",\"[ 0. nan]\",\"[ 0. nan]\",\"[ 0. nan]\",\"[ 0. nan]\",\"[ 0. nan]\",\"[ 0. nan]\",\"[ 0. nan]\",\"[ 0. nan]\",\"[ 0. nan]\",\"[ 0. nan]\",\"[0.         0.07517664]\",\"[0.         0.07517664]\",\"[0.         0.07517664]\",\"[0.         0.07517664]\",\"[0.         0.07517664]\",\"[0.         0.07517664]\",\"[0.         0.07517664]\",\"[0.         0.06549744]\",\"[0.         0.06549744]\",\"[0.         0.06549744]\",\"[0.         0.06549744]\",\"[0.         0.06549744]\",\"[0.         0.06549744]\",\"[0.         0.06549744]\",\"[ 0.         -0.12997231]\",\"[ 0.         -0.12997231]\",\"[ 0.         -0.12997231]\",\"[ 0.         -0.12997231]\",\"[ 0.         -0.12997231]\",\"[ 0.         -0.12997231]\",\"[ 0.         -0.12997231]\",\"[0.         0.09529002]\",\"[0.         0.09529002]\",\"[0.         0.09529002]\",\"[0.         0.09529002]\",\"[0.         0.09529002]\",\"[0.         0.09529002]\",\"[0.         0.09529002]\",\"[ 0. nan]\",\"[ 0. nan]\",\"[ 0. nan]\",\"[ 0. nan]\",\"[ 0. nan]\",\"[ 0. nan]\",\"[ 0. nan]\"],\"line\":{\"color\":\"blue\"},\"meta\":{},\"mode\":\"lines\",\"x\":{\"dtype\":\"f8\",\"bdata\":\"AAAAAAAAAAAAAAAAAAAAAAAAAAAAAPh\\u002fryo3P99zqj8AAAAAAAAAAK0qNz\\u002ffc6q\\u002fAAAAAAAA+H8AAAAAAADwPwAAAAAAAPA\\u002fAAAAAAAA+H81M9KwREzvPwAAAAAAAPA\\u002fZuaWp91Z8D8AAAAAAAD4fwAAAAAAAABAAAAAAAAAAEAAAAAAAAD4f0SlNZ\\u002fiUQBAAAAAAAAAAEB5tZTBOlz\\u002fPwAAAAAAAPh\\u002fAAAAAAAACEAAAAAAAAAIQAAAAAAAAPh\\u002fsSDp7Oz\\u002fB0AAAAAAAAAIQE\\u002ffFhMTAAhAAAAAAAAA+H8AAAAAAAAQQAAAAAAAABBAAAAAAAAA+H9x+UWlsf4PQAAAAAAAABBASANdLacAEEAAAAAAAAD4fwAAAAAAABRAAAAAAAAAFEAAAAAAAAD4fwAAAAAAAPj\\u002fAAAAAAAAFEAAAAAAAAD4\\u002fwAAAAAAAPh\\u002fAAAAAAAAGEAAAAAAAAAYQAAAAAAAAPh\\u002fAAAAAAAA+P8AAAAAAAAYQAAAAAAAAPj\\u002fAAAAAAAA+H8AAAAAAAAcQAAAAAAAABxAAAAAAAAA+H8AAAAAAAD4\\u002fwAAAAAAABxAAAAAAAAA+P8AAAAAAAD4fwAAAAAAACBAAAAAAAAAIEAAAAAAAAD4fwAAAAAAAPj\\u002fAAAAAAAAIEAAAAAAAAD4\\u002fwAAAAAAAPh\\u002fAAAAAAAAIkAAAAAAAAAiQAAAAAAAAPh\\u002fZ18v+l39IUAAAAAAAAAiQJmg0AWiAiJAAAAAAAAA+H8AAAAAAAAkQAAAAAAAACRAAAAAAAAA+H8AAAAAAAD4\\u002fwAAAAAAACRAAAAAAAAA+P8AAAAAAAD4fwAAAAAAACZAAAAAAAAAJkAAAAAAAAD4fwAAAAAAAPj\\u002fAAAAAAAAJkAAAAAAAAD4\\u002fwAAAAAAAPh\\u002fAAAAAAAAKEAAAAAAAAAoQAAAAAAAAPh\\u002fAAAAAAAA+P8AAAAAAAAoQAAAAAAAAPj\\u002fAAAAAAAA+H8AAAAAAAAqQAAAAAAAACpAAAAAAAAA+H8AAAAAAAD4\\u002fwAAAAAAACpAAAAAAAAA+P8AAAAAAAD4fwAAAAAAACxAAAAAAAAALEAAAAAAAAD4fwAAAAAAAPj\\u002fAAAAAAAALEAAAAAAAAD4\\u002fwAAAAAAAPh\\u002fAAAAAAAAAAAAAAAAAAAAAAAAAAAAAPh\\u002faJm55Wl3lr8AAAAAAAAAAGeZueVpd5Y\\u002fAAAAAAAA+H8AAAAAAADwPwAAAAAAAPA\\u002fAAAAAAAA+H\\u002fO\\u002fr5aos\\u002ftPwAAAAAAAPA\\u002fmYCg0i4Y8T8AAAAAAAD4fwAAAAAAAABAAAAAAAAAAEAAAAAAAAD4f9nILoCq0\\u002f8\\u002fAAAAAAAAAECTm+i\\u002fKhYAQAAAAAAAAPh\\u002fAAAAAAAACEAAAAAAAAAIQAAAAAAAAPh\\u002fFbARWR\\u002faB0AAAAAAAAAIQOtP7qbgJQhAAAAAAAAA+H8AAAAAAAAQQAAAAAAAABBAAAAAAAAA+H\\u002fJs+zGlPwPQAAAAAAAABBAHKaJnLUBEEAAAAAAAAD4fwAAAAAAABRAAAAAAAAAFEAAAAAAAAD4fwAAAAAAAPj\\u002fAAAAAAAAFEAAAAAAAAD4\\u002fwAAAAAAAPh\\u002fAAAAAAAAGEAAAAAAAAAYQAAAAAAAAPh\\u002fAAAAAAAA+P8AAAAAAAAYQAAAAAAAAPj\\u002fAAAAAAAA+H8AAAAAAAAcQAAAAAAAABxAAAAAAAAA+H8AAAAAAAD4\\u002fwAAAAAAABxAAAAAAAAA+P8AAAAAAAD4fwAAAAAAACBAAAAAAAAAIEAAAAAAAAD4fwAAAAAAAPj\\u002fAAAAAAAAIEAAAAAAAAD4\\u002fwAAAAAAAPh\\u002fAAAAAAAAIkAAAAAAAAAiQAAAAAAAAPh\\u002fCLx1wrT9IUAAAAAAAAAiQPhDij1LAiJAAAAAAAAA+H8AAAAAAAAkQAAAAAAAACRAAAAAAAAA+H8AAAAAAAD4\\u002fwAAAAAAACRAAAAAAAAA+P8AAAAAAAD4fwAAAAAAACZAAAAAAAAAJkAAAAAAAAD4fwAAAAAAAPj\\u002fAAAAAAAAJkAAAAAAAAD4\\u002fwAAAAAAAPh\\u002fAAAAAAAAKEAAAAAAAAAoQAAAAAAAAPh\\u002fAAAAAAAA+P8AAAAAAAAoQAAAAAAAAPj\\u002fAAAAAAAA+H8AAAAAAAAqQAAAAAAAACpAAAAAAAAA+H8AAAAAAAD4\\u002fwAAAAAAACpAAAAAAAAA+P8AAAAAAAD4fwAAAAAAACxAAAAAAAAALEAAAAAAAAD4fwAAAAAAAPj\\u002fAAAAAAAALEAAAAAAAAD4\\u002fwAAAAAAAPh\\u002fAAAAAAAAAAAAAAAAAAAAAAAAAAAAAPh\\u002f7VBpzad4pD8AAAAAAAAAAOxQac2neKS\\u002fAAAAAAAA+H8AAAAAAADwPwAAAAAAAPA\\u002fAAAAAAAA+H+zkV0AVafvPwAAAAAAAPA\\u002fJjfRf1Us8D8AAAAAAAD4fwAAAAAAAABAAAAAAAAAAEAAAAAAAAD4f0v1Ij9Nqv8\\u002fAAAAAAAAAEBahW5g2SoAQAAAAAAAAPh\\u002fAAAAAAAACEAAAAAAAAAIQAAAAAAAAPh\\u002fjDgIlHApCEAAAAAAAAAIQHTH92uP1gdAAAAAAAAA+H8AAAAAAAAQQAAAAAAAABBAAAAAAAAA+H+qGsOLSgoQQAAAAAAAABBArMp56GrrD0AAAAAAAAD4fwAAAAAAABRAAAAAAAAAFEAAAAAAAAD4fwAAAAAAAPj\\u002fAAAAAAAAFEAAAAAAAAD4\\u002fwAAAAAAAPh\\u002fAAAAAAAAGEAAAAAAAAAYQAAAAAAAAPh\\u002fAAAAAAAA+P8AAAAAAAAYQAAAAAAAAPj\\u002fAAAAAAAA+H8AAAAAAAAcQAAAAAAAABxAAAAAAAAA+H8AAAAAAAD4\\u002fwAAAAAAABxAAAAAAAAA+P8AAAAAAAD4fwAAAAAAACBAAAAAAAAAIEAAAAAAAAD4fwAAAAAAAPj\\u002fAAAAAAAAIEAAAAAAAAD4\\u002fwAAAAAAAPh\\u002fAAAAAAAAIkAAAAAAAAAiQAAAAAAAAPh\\u002f0dYIUI0EIkAAAAAAAAAiQC8p969y+yFAAAAAAAAA+H8AAAAAAAAkQAAAAAAAACRAAAAAAAAA+H8AAAAAAAD4\\u002fwAAAAAAACRAAAAAAAAA+P8AAAAAAAD4fwAAAAAAACZAAAAAAAAAJkAAAAAAAAD4fwAAAAAAAPj\\u002fAAAAAAAAJkAAAAAAAAD4\\u002fwAAAAAAAPh\\u002fAAAAAAAAKEAAAAAAAAAoQAAAAAAAAPh\\u002fAAAAAAAA+P8AAAAAAAAoQAAAAAAAAPj\\u002fAAAAAAAA+H8AAAAAAAAqQAAAAAAAACpAAAAAAAAA+H8AAAAAAAD4\\u002fwAAAAAAACpAAAAAAAAA+P8AAAAAAAD4fwAAAAAAACxAAAAAAAAALEAAAAAAAAD4fwAAAAAAAPj\\u002fAAAAAAAALEAAAAAAAAD4\\u002fwAAAAAAAPh\\u002fAAAAAAAAAAAAAAAAAAAAAAAAAAAAAPh\\u002fFxBP3xYTA78AAAAAAAAAABYQT98WEwM\\u002fAAAAAAAA+H8AAAAAAADwPwAAAAAAAPA\\u002fAAAAAAAA+H9VwEZkfWjvPwAAAAAAAPA\\u002f1p\\u002fcTcFL8D8AAAAAAAD4fwAAAAAAAABAAAAAAAAAAEAAAAAAAAD4f4w4CJRwKQBAAAAAAAAAAEDpju\\u002fXHq3\\u002fPwAAAAAAAPh\\u002fAAAAAAAACEAAAAAAAAAIQAAAAAAAAPh\\u002fGY8RK5GaB0AAAAAAAAAIQOdw7tRuZQhAAAAAAAAA+H8AAAAAAAAQQAAAAAAAABBAAAAAAAAA+H8G9WVCEdIPQAAAAAAAABBAfQXNXvcWEEAAAAAAAAD4fwAAAAAAABRAAAAAAAAAFEAAAAAAAAD4fwAAAAAAAPj\\u002fAAAAAAAAFEAAAAAAAAD4\\u002fwAAAAAAAPh\\u002fAAAAAAAAGEAAAAAAAAAYQAAAAAAAAPh\\u002fAAAAAAAA+P8AAAAAAAAYQAAAAAAAAPj\\u002fAAAAAAAA+H8AAAAAAAAcQAAAAAAAABxAAAAAAAAA+H8AAAAAAAD4\\u002fwAAAAAAABxAAAAAAAAA+P8AAAAAAAD4fwAAAAAAACBAAAAAAAAAIEAAAAAAAAD4fwAAAAAAAPj\\u002fAAAAAAAAIEAAAAAAAAD4\\u002fwAAAAAAAPh\\u002fAAAAAAAAIkAAAAAAAAAiQAAAAAAAAPh\\u002fa0nMpKn8IUAAAAAAAAAiQJW2M1tWAyJAAAAAAAAA+H8AAAAAAAAkQAAAAAAAACRAAAAAAAAA+H8AAAAAAAD4\\u002fwAAAAAAACRAAAAAAAAA+P8AAAAAAAD4fwAAAAAAACZAAAAAAAAAJkAAAAAAAAD4fwAAAAAAAPj\\u002fAAAAAAAAJkAAAAAAAAD4\\u002fwAAAAAAAPh\\u002fAAAAAAAAKEAAAAAAAAAoQAAAAAAAAPh\\u002fAAAAAAAA+P8AAAAAAAAoQAAAAAAAAPj\\u002fAAAAAAAA+H8AAAAAAAAqQAAAAAAAACpAAAAAAAAA+H8AAAAAAAD4\\u002fwAAAAAAACpAAAAAAAAA+P8AAAAAAAD4fwAAAAAAACxAAAAAAAAALEAAAAAAAAD4fwAAAAAAAPj\\u002fAAAAAAAALEAAAAAAAAD4\\u002fwAAAAAAAPh\\u002fAAAAAAAAAAAAAAAAAAAAAAAAAAAAAPh\\u002fYPJooKvlRL8AAAAAAAAAAF\\u002fyaKCr5UQ\\u002fAAAAAAAA+H8AAAAAAADwPwAAAAAAAPA\\u002fAAAAAAAA+H8iz7IbU\\u002fLvPwAAAAAAAPA\\u002fb5gmctYG8D8AAAAAAAD4fwAAAAAAAABAAAAAAAAAAEAAAAAAAAD4f1Q1hheVFABAAAAAAAAAAEBYlfPQ1db\\u002fPwAAAAAAAPh\\u002fAAAAAAAACEAAAAAAAAAIQAAAAAAAAPh\\u002fBvVlQhHSB0AAAAAAAAAIQPoKmr3uLQhAAAAAAAAA+H8AAAAAAAAQQAAAAAAAABBAAAAAAAAA+H8O3tzBUJQPQAAAAAAAABBA+ZARn9c1EEAAAAAAAAD4fwAAAAAAABRAAAAAAAAAFEAAAAAAAAD4fwAAAAAAAPj\\u002fAAAAAAAAFEAAAAAAAAD4\\u002fwAAAAAAAPh\\u002fAAAAAAAAGEAAAAAAAAAYQAAAAAAAAPh\\u002fAAAAAAAA+P8AAAAAAAAYQAAAAAAAAPj\\u002fAAAAAAAA+H8AAAAAAAAcQAAAAAAAABxAAAAAAAAA+H8AAAAAAAD4\\u002fwAAAAAAABxAAAAAAAAA+P8AAAAAAAD4fwAAAAAAACBAAAAAAAAAIEAAAAAAAAD4fwAAAAAAAPj\\u002fAAAAAAAAIEAAAAAAAAD4\\u002fwAAAAAAAPh\\u002fAAAAAAAAIkAAAAAAAAAiQAAAAAAAAPh\\u002fAAAAAAAA+P8AAAAAAAAiQAAAAAAAAPj\\u002fAAAAAAAA+H8AAAAAAAAkQAAAAAAAACRAAAAAAAAA+H9nXy\\u002f6Xf0jQAAAAAAAACRAmaDQBaICJEAAAAAAAAD4fwAAAAAAACZAAAAAAAAAJkAAAAAAAAD4fwi8dcK0\\u002fSVAAAAAAAAAJkD4Q4o9SwImQAAAAAAAAPh\\u002fAAAAAAAAKEAAAAAAAAAoQAAAAAAAAPh\\u002f0dYIUI0EKEAAAAAAAAAoQC8p969y+ydAAAAAAAAA+H8AAAAAAAAqQAAAAAAAACpAAAAAAAAA+H9rScykqfwpQAAAAAAAACpAlbYzW1YDKkAAAAAAAAD4fwAAAAAAACxAAAAAAAAALEAAAAAAAAD4fwAAAAAAAPj\\u002fAAAAAAAALEAAAAAAAAD4\\u002fwAAAAAAAPh\\u002f\"},\"y\":{\"dtype\":\"f8\",\"bdata\":\"ADiBWGIr2D8AOIFYYivYvwAAAAAAAPh\\u002f6XG\\u002ffmArzr8AOIFYYivYv+lxv35gK86\\u002fAAAAAAAA+H+ADYivAIfEv4ANiK8Ah8Q\\u002fAAAAAAAA+H9\\u002fUtIaiZ+5P4ANiK8Ah8Q\\u002ff1LSGomfuT8AAAAAAAD4f3lbrB9UtNI\\u002feVusH1S00r8AAAAAAAD4f+2nNPYCWce\\u002feVusH1S00r\\u002ftpzT2AlnHvwAAAAAAAPh\\u002fjBJb2Z9tMb+MElvZn20xPwAAAAAAAPh\\u002fAYISUzTBJT+MElvZn20xPwGCElM0wSU\\u002fAAAAAAAA+H9DQTYx7xdzv0NBNjHvF3M\\u002fAAAAAAAA+H8z9M0RWNVnP0NBNjHvF3M\\u002fM\\u002fTNEVjVZz8AAAAAAAD4fwAAAAAAAPj\\u002fAAAAAAAA+P8AAAAAAAD4fwAAAAAAAPj\\u002fAAAAAAAA+P8AAAAAAAD4\\u002fwAAAAAAAPh\\u002fAAAAAAAA+P8AAAAAAAD4\\u002fwAAAAAAAPh\\u002fAAAAAAAA+P8AAAAAAAD4\\u002fwAAAAAAAPj\\u002fAAAAAAAA+H8AAAAAAAD4\\u002fwAAAAAAAPj\\u002fAAAAAAAA+H8AAAAAAAD4\\u002fwAAAAAAAPj\\u002fAAAAAAAA+P8AAAAAAAD4fwAAAAAAAPj\\u002fAAAAAAAA+P8AAAAAAAD4fwAAAAAAAPj\\u002fAAAAAAAA+P8AAAAAAAD4\\u002fwAAAAAAAPh\\u002fqW8\\u002fxcY+o7+pbz\\u002fFxj6jPwAAAAAAAPh\\u002fLLWyGdQFmD+pbz\\u002fFxj6jPyy1shnUBZg\\u002fAAAAAAAA+H8AAAAAAAD4\\u002fwAAAAAAAPj\\u002fAAAAAAAA+H8AAAAAAAD4\\u002fwAAAAAAAPj\\u002fAAAAAAAA+P8AAAAAAAD4fwAAAAAAAPj\\u002fAAAAAAAA+P8AAAAAAAD4fwAAAAAAAPj\\u002fAAAAAAAA+P8AAAAAAAD4\\u002fwAAAAAAAPh\\u002fAAAAAAAA+P8AAAAAAAD4\\u002fwAAAAAAAPh\\u002fAAAAAAAA+P8AAAAAAAD4\\u002fwAAAAAAAPj\\u002fAAAAAAAA+H8AAAAAAAD4\\u002fwAAAAAAAPj\\u002fAAAAAAAA+H8AAAAAAAD4\\u002fwAAAAAAAPj\\u002fAAAAAAAA+P8AAAAAAAD4fwAAAAAAAPj\\u002fAAAAAAAA+P8AAAAAAAD4fwAAAAAAAPj\\u002fAAAAAAAA+P8AAAAAAAD4\\u002fwAAAAAAAPh\\u002foPwd1D\\u002fe6j+wAfEV4JDyPwAAAAAAAPh\\u002fKCWtkfiZ8T+wAfEV4JDyPyglrZH4mfE\\u002fAAAAAAAA+H8AAAAAAADgPwAAAAAAAPg\\u002fAAAAAAAA+H\\u002fkYZEsNP70PwAAAAAAAPg\\u002f5GGRLDT+9D8AAAAAAAD4fzm2lGvhd+0\\u002f46Q1Sg9E8T8AAAAAAAD4fyyx\\u002f8tAyvA\\u002f46Q1Sg9E8T8ssf\\u002fLQMrwPwAAAAAAAPh\\u002flrQo3Iis6z+1peuRuynyPwAAAAAAAPh\\u002fpdee55hZ8T+1peuRuynyP6XXnueYWfE\\u002fAAAAAAAA+H86AV8xCpzvP2N\\u002fUOf6MfA\\u002fAAAAAAAA+H9Jy82XMR\\u002fwP2N\\u002fUOf6MfA\\u002fScvNlzEf8D8AAAAAAAD4fwAAAAAAAPj\\u002fAAAAAAAA+P8AAAAAAAD4fwAAAAAAAPj\\u002fAAAAAAAA+P8AAAAAAAD4\\u002fwAAAAAAAPh\\u002fAAAAAAAA+P8AAAAAAAD4\\u002fwAAAAAAAPh\\u002fAAAAAAAA+P8AAAAAAAD4\\u002fwAAAAAAAPj\\u002fAAAAAAAA+H8AAAAAAAD4\\u002fwAAAAAAAPj\\u002fAAAAAAAA+H8AAAAAAAD4\\u002fwAAAAAAAPj\\u002fAAAAAAAA+P8AAAAAAAD4fwAAAAAAAPj\\u002fAAAAAAAA+P8AAAAAAAD4fwAAAAAAAPj\\u002fAAAAAAAA+P8AAAAAAAD4\\u002fwAAAAAAAPh\\u002fE8xb9bjz7j\\u002f2GVKFI4bwPwAAAAAAAPh\\u002fUydEFbhT8D\\u002f2GVKFI4bwP1MnRBW4U\\u002fA\\u002fAAAAAAAA+H8AAAAAAAD4\\u002fwAAAAAAAPj\\u002fAAAAAAAA+H8AAAAAAAD4\\u002fwAAAAAAAPj\\u002fAAAAAAAA+P8AAAAAAAD4fwAAAAAAAPj\\u002fAAAAAAAA+P8AAAAAAAD4fwAAAAAAAPj\\u002fAAAAAAAA+P8AAAAAAAD4\\u002fwAAAAAAAPh\\u002fAAAAAAAA+P8AAAAAAAD4\\u002fwAAAAAAAPh\\u002fAAAAAAAA+P8AAAAAAAD4\\u002fwAAAAAAAPj\\u002fAAAAAAAA+H8AAAAAAAD4\\u002fwAAAAAAAPj\\u002fAAAAAAAA+H8AAAAAAAD4\\u002fwAAAAAAAPj\\u002fAAAAAAAA+P8AAAAAAAD4fwAAAAAAAPj\\u002fAAAAAAAA+P8AAAAAAAD4fwAAAAAAAPj\\u002fAAAAAAAA+P8AAAAAAAD4\\u002fwAAAAAAAPh\\u002fb4v1g4pWAkAi6RT46lL7PwAAAAAAAPh\\u002fA2s5od8U\\u002fT8i6RT46lL7PwNrOaHfFP0\\u002fAAAAAAAA+H8dW8q18Lv+P3LSGqUHogBAAAAAAAAA+H+W2P9lIGUAQHLSGqUHogBAltj\\u002fZSBlAEAAAAAAAAD4f7no3XCWjf0\\u002fowuRxzQ5AUAAAAAAAAD4f1CyMKp6wwBAowuRxzQ5AUBQsjCqesMAQAAAAAAAAPh\\u002fRbr4hOcuAUB1iw72MKL9PwAAAAAAAPh\\u002f8d6anuaF\\u002fj91iw72MKL9P\\u002fHemp7mhf4\\u002fAAAAAAAA+H9DYzJ8cpYAQHs5mwcb0\\u002f4\\u002fAAAAAAAA+H8ih6JzNET\\u002fP3s5mwcb0\\u002f4\\u002fIoeiczRE\\u002fz8AAAAAAAD4fwAAAAAAAPj\\u002fAAAAAAAA+P8AAAAAAAD4fwAAAAAAAPj\\u002fAAAAAAAA+P8AAAAAAAD4\\u002fwAAAAAAAPh\\u002fAAAAAAAA+P8AAAAAAAD4\\u002fwAAAAAAAPh\\u002fAAAAAAAA+P8AAAAAAAD4\\u002fwAAAAAAAPj\\u002fAAAAAAAA+H8AAAAAAAD4\\u002fwAAAAAAAPj\\u002fAAAAAAAA+H8AAAAAAAD4\\u002fwAAAAAAAPj\\u002fAAAAAAAA+P8AAAAAAAD4fwAAAAAAAPj\\u002fAAAAAAAA+P8AAAAAAAD4fwAAAAAAAPj\\u002fAAAAAAAA+P8AAAAAAAD4\\u002fwAAAAAAAPh\\u002fw8xLdheFAEB6ZmgT0fX+PwAAAAAAAPh\\u002fuXzgb95Z\\u002fz96ZmgT0fX+P7l84G\\u002feWf8\\u002fAAAAAAAA+H8AAAAAAAD4\\u002fwAAAAAAAPj\\u002fAAAAAAAA+H8AAAAAAAD4\\u002fwAAAAAAAPj\\u002fAAAAAAAA+P8AAAAAAAD4fwAAAAAAAPj\\u002fAAAAAAAA+P8AAAAAAAD4fwAAAAAAAPj\\u002fAAAAAAAA+P8AAAAAAAD4\\u002fwAAAAAAAPh\\u002fAAAAAAAA+P8AAAAAAAD4\\u002fwAAAAAAAPh\\u002fAAAAAAAA+P8AAAAAAAD4\\u002fwAAAAAAAPj\\u002fAAAAAAAA+H8AAAAAAAD4\\u002fwAAAAAAAPj\\u002fAAAAAAAA+H8AAAAAAAD4\\u002fwAAAAAAAPj\\u002fAAAAAAAA+P8AAAAAAAD4fwAAAAAAAPj\\u002fAAAAAAAA+P8AAAAAAAD4fwAAAAAAAPj\\u002fAAAAAAAA+P8AAAAAAAD4\\u002fwAAAAAAAPh\\u002fJzUBk3T\\u002fB0DYyv5siwAIQAAAAAAAAPh\\u002fSUzRBFcACEDYyv5siwAIQElM0QRXAAhAAAAAAAAA+H8lLQo3IusGQNrS9cjdFAlAAAAAAAAA+H\\u002fSa89zzKwIQNrS9cjdFAlA0mvPc8ysCEAAAAAAAAD4f0W6+ITnLglAukUHexjRBkAAAAAAAAD4f3hvTU\\u002fzQgdAukUHexjRBkB4b01P80IHQAAAAAAAAPh\\u002fLC5XKJMaBUDU0ajXbOUKQAAAAAAAAPh\\u002fIIv5jr3OCUDU0ajXbOUKQCCL+Y69zglAAAAAAAAA+H935SJbQbAGQIoa3aS+TwlAAAAAAAAA+H\\u002fjlgbFi9EIQIoa3aS+TwlA45YGxYvRCEAAAAAAAAD4fwAAAAAAAPj\\u002fAAAAAAAA+P8AAAAAAAD4fwAAAAAAAPj\\u002fAAAAAAAA+P8AAAAAAAD4\\u002fwAAAAAAAPh\\u002fAAAAAAAA+P8AAAAAAAD4\\u002fwAAAAAAAPh\\u002fAAAAAAAA+P8AAAAAAAD4\\u002fwAAAAAAAPj\\u002fAAAAAAAA+H8AAAAAAAD4\\u002fwAAAAAAAPj\\u002fAAAAAAAA+H8AAAAAAAD4\\u002fwAAAAAAAPj\\u002fAAAAAAAA+P8AAAAAAAD4fwAAAAAAAPj\\u002fAAAAAAAA+P8AAAAAAAD4fwAAAAAAAPj\\u002fAAAAAAAA+P8AAAAAAAD4\\u002fwAAAAAAAPh\\u002fLcpMS2yeB0DTNbO0k2EIQAAAAAAAAPh\\u002fBIViaOY8CEDTNbO0k2EIQASFYmjmPAhAAAAAAAAA+H8AAAAAAAD4\\u002fwAAAAAAAPj\\u002fAAAAAAAA+H8AAAAAAAD4\\u002fwAAAAAAAPj\\u002fAAAAAAAA+P8AAAAAAAD4fwAAAAAAAPj\\u002fAAAAAAAA+P8AAAAAAAD4fwAAAAAAAPj\\u002fAAAAAAAA+P8AAAAAAAD4\\u002fwAAAAAAAPh\\u002fAAAAAAAA+P8AAAAAAAD4\\u002fwAAAAAAAPh\\u002fAAAAAAAA+P8AAAAAAAD4\\u002fwAAAAAAAPj\\u002fAAAAAAAA+H8AAAAAAAD4\\u002fwAAAAAAAPj\\u002fAAAAAAAA+H8AAAAAAAD4\\u002fwAAAAAAAPj\\u002fAAAAAAAA+P8AAAAAAAD4fwAAAAAAAPj\\u002fAAAAAAAA+P8AAAAAAAD4fwAAAAAAAPj\\u002fAAAAAAAA+P8AAAAAAAD4\\u002fwAAAAAAAPh\\u002f32RnCHT2D0CQTcz7xQQQQAAAAAAAAPh\\u002fvjkCq\\u002foCEECQTcz7xQQQQL45Aqv6AhBAAAAAAAAA+H9OwFeMAucPQNgf1Ll+DBBAAAAAAAAA+H\\u002fRcvNlzAcQQNgf1Ll+DBBA0XLzZcwHEEAAAAAAAAD4f6ExGT45SxBAvJzNg41pD0AAAAAAAAD4f49D0Tkaog9AvJzNg41pD0CPQ9E5GqIPQAAAAAAAAPh\\u002fd+UiW0GwDkBFjW5S36cQQAAAAAAAAPh\\u002fckuD4sVoEEBFjW5S36cQQHJLg+LFaBBAAAAAAAAA+H\\u002fasqHv4OwMQJMmL4iPiRFAAAAAAAAA+H8L5\\u002fBXofUQQJMmL4iPiRFAC+fwV6H1EEAAAAAAAAD4fwAAAAAAAPj\\u002fAAAAAAAA+P8AAAAAAAD4fwAAAAAAAPj\\u002fAAAAAAAA+P8AAAAAAAD4\\u002fwAAAAAAAPh\\u002fAAAAAAAA+P8AAAAAAAD4\\u002fwAAAAAAAPh\\u002fAAAAAAAA+P8AAAAAAAD4\\u002fwAAAAAAAPj\\u002fAAAAAAAA+H8AAAAAAAD4\\u002fwAAAAAAAPj\\u002fAAAAAAAA+H8AAAAAAAD4\\u002fwAAAAAAAPj\\u002fAAAAAAAA+P8AAAAAAAD4fwAAAAAAAPj\\u002fAAAAAAAA+P8AAAAAAAD4fwAAAAAAAPj\\u002fAAAAAAAA+P8AAAAAAAD4\\u002fwAAAAAAAPh\\u002fAAAAAAAA+P8AAAAAAAD4\\u002fwAAAAAAAPh\\u002fAAAAAAAA+P8AAAAAAAD4\\u002fwAAAAAAAPj\\u002fAAAAAAAA+H9BAuvkBLMPQN9+io19JhBAAAAAAAAA+H+1shnUBRgQQN9+io19JhBAtbIZ1AUYEEAAAAAAAAD4fwXzVj3uvA9AfoZU4YghEEAAAAAAAAD4f9UJUQXuFBBAfoZU4YghEEDVCVEF7hQQQAAAAAAAAPh\\u002fYuYlu4tCEEA+M7SJ6HoPQAAAAAAAAPh\\u002fXT7wN++sD0A+M7SJ6HoPQF0+8DfvrA9AAAAAAAAA+H8tykxLbJ4PQOqaWdrJMBBAAAAAAAAA+H+DQjE0cx4QQOqaWdrJMBBAg0IxNHMeEEAAAAAAAAD4fwAAAAAAAPj\\u002fAAAAAAAA+P8AAAAAAAD4fwAAAAAAAPj\\u002fAAAAAAAA+P8AAAAAAAD4\\u002fwAAAAAAAPh\\u002f\"},\"type\":\"scatter\"},{\"line\":{\"color\":\"pink\",\"dash\":\"dash\",\"width\":5},\"meta\":{},\"mode\":\"lines\",\"name\":\"orbitals separators\",\"opacity\":0.8,\"showlegend\":false,\"x\":{\"dtype\":\"f8\",\"bdata\":\"AAAAAAAA4L8AAAAAAAASQAAAAAAAAPh\\u002fAAAAAAAA4D8AAAAAAADgPwAAAAAAAPh\\u002f\"},\"y\":{\"dtype\":\"f8\",\"bdata\":\"AAAAAAAA4D8AAAAAAADgPwAAAAAAAPh\\u002fAAAAAAAA4L8AAAAAAAASQAAAAAAAAPh\\u002f\"},\"type\":\"scatter\"},{\"line\":{\"color\":\"gray\"},\"meta\":{},\"mode\":\"lines\",\"name\":\"atoms separators\",\"opacity\":1,\"showlegend\":false,\"x\":{\"dtype\":\"f8\",\"bdata\":\"AAAAAAAA4L8AAAAAAAASQAAAAAAAAPh\\u002fAAAAAAAADEAAAAAAAAAMQAAAAAAAAPh\\u002f\"},\"y\":{\"dtype\":\"f8\",\"bdata\":\"AAAAAAAADEAAAAAAAAAMQAAAAAAAAPh\\u002fAAAAAAAA4L8AAAAAAAASQAAAAAAAAPh\\u002f\"},\"type\":\"scatter\"}],                        {\"template\":{\"layout\":{\"hovermode\":\"closest\",\"paper_bgcolor\":\"white\",\"plot_bgcolor\":\"white\",\"scene\":{\"xaxis\":{\"color\":\"black\",\"gridcolor\":\"#ccc\",\"gridwidth\":1,\"linewidth\":1,\"mirror\":true,\"showgrid\":false,\"showline\":true,\"ticklen\":5,\"ticks\":\"outside\",\"ticksuffix\":\" \",\"visible\":true,\"zeroline\":false,\"zerolinecolor\":\"#ccc\",\"zerolinewidth\":1},\"yaxis\":{\"color\":\"black\",\"gridcolor\":\"#ccc\",\"gridwidth\":1,\"linewidth\":1,\"mirror\":true,\"showgrid\":false,\"showline\":true,\"ticklen\":5,\"ticks\":\"outside\",\"ticksuffix\":\" \",\"visible\":true,\"zeroline\":false,\"zerolinecolor\":\"#ccc\",\"zerolinewidth\":1},\"zaxis\":{\"color\":\"black\",\"gridcolor\":\"#ccc\",\"gridwidth\":1,\"linewidth\":1,\"mirror\":true,\"showgrid\":false,\"showline\":true,\"ticklen\":5,\"ticks\":\"outside\",\"ticksuffix\":\" \",\"visible\":true,\"zeroline\":false,\"zerolinecolor\":\"#ccc\",\"zerolinewidth\":1}},\"xaxis\":{\"color\":\"black\",\"gridcolor\":\"#ccc\",\"gridwidth\":1,\"linewidth\":1,\"mirror\":true,\"showgrid\":false,\"showline\":true,\"ticklen\":5,\"ticks\":\"outside\",\"ticksuffix\":\" \",\"visible\":true,\"zeroline\":false,\"zerolinecolor\":\"#ccc\",\"zerolinewidth\":1},\"yaxis\":{\"color\":\"black\",\"gridcolor\":\"#ccc\",\"gridwidth\":1,\"linewidth\":1,\"mirror\":true,\"showgrid\":false,\"showline\":true,\"ticklen\":5,\"ticks\":\"outside\",\"ticksuffix\":\" \",\"visible\":true,\"zeroline\":false,\"zerolinecolor\":\"#ccc\",\"zerolinewidth\":1}}},\"coloraxis\":{\"colorscale\":[[0.0,\"rgb(0, 147, 146)\"],[0.16666666666666666,\"rgb(57, 177, 133)\"],[0.3333333333333333,\"rgb(156, 203, 134)\"],[0.5,\"rgb(233, 226, 156)\"],[0.6666666666666666,\"rgb(238, 180, 121)\"],[0.8333333333333334,\"rgb(232, 132, 113)\"],[1.0,\"rgb(207, 89, 126)\"]],\"cmid\":0,\"showscale\":false},\"xaxis\":{\"scaleanchor\":\"y\",\"scaleratio\":1,\"range\":[-0.5,14.5],\"constrain\":\"domain\"},\"scene\":{\"aspectmode\":\"data\",\"xaxis\":{\"range\":[-0.5,14.5]},\"yaxis\":{\"range\":[4.5,-0.5]}},\"yaxis\":{\"range\":[4.5,-0.5],\"constrain\":\"domain\"}},                        {\"responsive\": true}                    ).then(function(){\n",
       "                            \n",
       "var gd = document.getElementById('3233ae0d-eb4e-4ddd-9b89-d966b113e52a');\n",
       "var x = new MutationObserver(function (mutations, observer) {{\n",
       "        var display = window.getComputedStyle(gd).display;\n",
       "        if (!display || display === 'none') {{\n",
       "            console.log([gd, 'removed!']);\n",
       "            Plotly.purge(gd);\n",
       "            observer.disconnect();\n",
       "        }}\n",
       "}});\n",
       "\n",
       "// Listen for the removal of the full notebook cells\n",
       "var notebookContainer = gd.closest('#notebook-container');\n",
       "if (notebookContainer) {{\n",
       "    x.observe(notebookContainer, {childList: true});\n",
       "}}\n",
       "\n",
       "// Listen for the clearing of the current output cell\n",
       "var outputEl = gd.closest('.output');\n",
       "if (outputEl) {{\n",
       "    x.observe(outputEl, {childList: true});\n",
       "}}\n",
       "\n",
       "                        })                };            </script>        </div>"
      ]
     },
     "metadata": {},
     "output_type": "display_data"
    }
   ],
   "source": [
    "plot.update_inputs(color_pixels=False, text=None)"
   ]
  },
  {
   "cell_type": "markdown",
   "metadata": {},
   "source": [
    "If you want to plot custom data for the arrows, you have to pass a sparse matrix where the last dimension is the cartesian coordinate `(X, Y)`. Let's create some random data to display it:"
   ]
  },
  {
   "cell_type": "code",
   "execution_count": 20,
   "metadata": {
    "execution": {
     "iopub.execute_input": "2025-10-08T13:16:19.470975Z",
     "iopub.status.busy": "2025-10-08T13:16:19.470801Z",
     "iopub.status.idle": "2025-10-08T13:16:19.630206Z",
     "shell.execute_reply": "2025-10-08T13:16:19.629720Z"
    }
   },
   "outputs": [
    {
     "name": "stderr",
     "output_type": "stream",
     "text": [
      "INFO\tTask(Task-2) nodify.node.140241929927424:node.py:get()- No need to evaluate\n"
     ]
    },
    {
     "name": "stderr",
     "output_type": "stream",
     "text": [
      "INFO\tTask(Task-2) nodify.node.140241931120528:node.py:get()- No need to evaluate\n"
     ]
    },
    {
     "name": "stderr",
     "output_type": "stream",
     "text": [
      "INFO\tTask(Task-2) nodify.node.140241929921088:node.py:get()- No need to evaluate\n"
     ]
    },
    {
     "name": "stderr",
     "output_type": "stream",
     "text": [
      "INFO\tTask(Task-2) nodify.node.140241929922576:node.py:get()- No need to evaluate\n"
     ]
    },
    {
     "name": "stderr",
     "output_type": "stream",
     "text": [
      "INFO\tTask(Task-2) nodify.node.140241929922528:node.py:get()- No need to evaluate\n"
     ]
    },
    {
     "name": "stderr",
     "output_type": "stream",
     "text": [
      "INFO\tTask(Task-2) nodify.node.140241930011184:node.py:get()- No need to evaluate\n"
     ]
    },
    {
     "name": "stderr",
     "output_type": "stream",
     "text": [
      "INFO\tTask(Task-2) nodify.node.140241929924352:node.py:get()- No need to evaluate\n"
     ]
    },
    {
     "name": "stderr",
     "output_type": "stream",
     "text": [
      "INFO\tTask(Task-2) nodify.node.140241929924736:node.py:get()- No need to evaluate\n"
     ]
    },
    {
     "name": "stderr",
     "output_type": "stream",
     "text": [
      "INFO\tTask(Task-2) nodify.node.140241931120528:node.py:get()- No need to evaluate\n"
     ]
    },
    {
     "name": "stderr",
     "output_type": "stream",
     "text": [
      "INFO\tTask(Task-2) nodify.node.140241929925120:node.py:get()- No need to evaluate\n"
     ]
    },
    {
     "name": "stderr",
     "output_type": "stream",
     "text": [
      "INFO\tTask(Task-2) nodify.node.140241929924736:node.py:get()- No need to evaluate\n"
     ]
    },
    {
     "name": "stderr",
     "output_type": "stream",
     "text": [
      "INFO\tTask(Task-2) nodify.node.140241930012480:node.py:get()- No need to evaluate\n"
     ]
    },
    {
     "name": "stderr",
     "output_type": "stream",
     "text": [
      "INFO\tTask(Task-2) nodify.node.140241929923968:node.py:get()- No need to evaluate\n"
     ]
    },
    {
     "name": "stderr",
     "output_type": "stream",
     "text": [
      "INFO\tTask(Task-2) nodify.node.140241929925504:node.py:get()- No need to evaluate\n"
     ]
    },
    {
     "name": "stderr",
     "output_type": "stream",
     "text": [
      "INFO\tTask(Task-2) nodify.node.140241929925888:node.py:get()- No need to evaluate\n"
     ]
    },
    {
     "name": "stderr",
     "output_type": "stream",
     "text": [
      "INFO\tTask(Task-2) nodify.node.140241930012384:node.py:get()- No need to evaluate\n"
     ]
    },
    {
     "name": "stderr",
     "output_type": "stream",
     "text": [
      "INFO\tTask(Task-2) nodify.node.140241931120528:node.py:get()- No need to evaluate\n"
     ]
    },
    {
     "name": "stderr",
     "output_type": "stream",
     "text": [
      "INFO\tTask(Task-2) nodify.node.140241929921088:node.py:get()- No need to evaluate\n"
     ]
    },
    {
     "name": "stderr",
     "output_type": "stream",
     "text": [
      "INFO\tTask(Task-2) nodify.node.140241929922576:node.py:get()- No need to evaluate\n"
     ]
    },
    {
     "name": "stderr",
     "output_type": "stream",
     "text": [
      "INFO\tTask(Task-2) nodify.node.140241929922528:node.py:get()- No need to evaluate\n"
     ]
    },
    {
     "name": "stderr",
     "output_type": "stream",
     "text": [
      "INFO\tTask(Task-2) nodify.node.140241930011184:node.py:get()- No need to evaluate\n"
     ]
    },
    {
     "name": "stderr",
     "output_type": "stream",
     "text": [
      "INFO\tTask(Task-2) nodify.node.140241929927040:node.py:get()- Evaluated because inputs changed.\n"
     ]
    },
    {
     "name": "stderr",
     "output_type": "stream",
     "text": [
      "INFO\tTask(Task-2) nodify.node.140241930013152:node.py:get()- Evaluated because inputs changed.\n"
     ]
    },
    {
     "name": "stderr",
     "output_type": "stream",
     "text": [
      "INFO\tTask(Task-2) nodify.node.140241930012528:node.py:get()- Evaluated because inputs changed.\n"
     ]
    },
    {
     "name": "stderr",
     "output_type": "stream",
     "text": [
      "INFO\tTask(Task-2) nodify.node.140241929922192:node.py:get()- No need to evaluate\n"
     ]
    },
    {
     "name": "stderr",
     "output_type": "stream",
     "text": [
      "INFO\tTask(Task-2) nodify.node.140241931120528:node.py:get()- No need to evaluate\n"
     ]
    },
    {
     "name": "stderr",
     "output_type": "stream",
     "text": [
      "INFO\tTask(Task-2) nodify.node.140241929922768:node.py:get()- No need to evaluate\n"
     ]
    },
    {
     "name": "stderr",
     "output_type": "stream",
     "text": [
      "INFO\tTask(Task-2) nodify.node.140241929928672:node.py:get()- No need to evaluate\n"
     ]
    },
    {
     "name": "stderr",
     "output_type": "stream",
     "text": [
      "INFO\tTask(Task-2) nodify.node.140241931120528:node.py:get()- No need to evaluate\n"
     ]
    },
    {
     "name": "stderr",
     "output_type": "stream",
     "text": [
      "INFO\tTask(Task-2) nodify.node.140241930011280:node.py:get()- No need to evaluate\n"
     ]
    },
    {
     "name": "stderr",
     "output_type": "stream",
     "text": [
      "INFO\tTask(Task-2) nodify.node.140241930013200:node.py:get()- No need to evaluate\n"
     ]
    },
    {
     "name": "stderr",
     "output_type": "stream",
     "text": [
      "INFO\tTask(Task-2) nodify.node.140241929923152:node.py:get()- No need to evaluate\n"
     ]
    },
    {
     "name": "stderr",
     "output_type": "stream",
     "text": [
      "INFO\tTask(Task-2) nodify.node.140241931120528:node.py:get()- No need to evaluate\n"
     ]
    },
    {
     "name": "stderr",
     "output_type": "stream",
     "text": [
      "INFO\tTask(Task-2) nodify.node.140241929922768:node.py:get()- No need to evaluate\n"
     ]
    },
    {
     "name": "stderr",
     "output_type": "stream",
     "text": [
      "INFO\tTask(Task-2) nodify.node.140241929928672:node.py:get()- No need to evaluate\n"
     ]
    },
    {
     "name": "stderr",
     "output_type": "stream",
     "text": [
      "INFO\tTask(Task-2) nodify.node.140241931120528:node.py:get()- No need to evaluate\n"
     ]
    },
    {
     "name": "stderr",
     "output_type": "stream",
     "text": [
      "INFO\tTask(Task-2) nodify.node.140241930011280:node.py:get()- No need to evaluate\n"
     ]
    },
    {
     "name": "stderr",
     "output_type": "stream",
     "text": [
      "INFO\tTask(Task-2) nodify.node.140241930013872:node.py:get()- No need to evaluate\n"
     ]
    },
    {
     "name": "stderr",
     "output_type": "stream",
     "text": [
      "INFO\tTask(Task-2) nodify.node.140241929923536:node.py:get()- No need to evaluate\n"
     ]
    },
    {
     "name": "stderr",
     "output_type": "stream",
     "text": [
      "INFO\tTask(Task-2) nodify.node.140241931120528:node.py:get()- No need to evaluate\n"
     ]
    },
    {
     "name": "stderr",
     "output_type": "stream",
     "text": [
      "INFO\tTask(Task-2) nodify.node.140241929922768:node.py:get()- No need to evaluate\n"
     ]
    },
    {
     "name": "stderr",
     "output_type": "stream",
     "text": [
      "INFO\tTask(Task-2) nodify.node.140241929928672:node.py:get()- No need to evaluate\n"
     ]
    },
    {
     "name": "stderr",
     "output_type": "stream",
     "text": [
      "INFO\tTask(Task-2) nodify.node.140241931120528:node.py:get()- No need to evaluate\n"
     ]
    },
    {
     "name": "stderr",
     "output_type": "stream",
     "text": [
      "INFO\tTask(Task-2) nodify.node.140241930011280:node.py:get()- No need to evaluate\n"
     ]
    },
    {
     "name": "stderr",
     "output_type": "stream",
     "text": [
      "INFO\tTask(Task-2) nodify.node.140241930014208:node.py:get()- No need to evaluate\n"
     ]
    },
    {
     "name": "stderr",
     "output_type": "stream",
     "text": [
      "INFO\tTask(Task-2) nodify.node.140241931120528:node.py:get()- No need to evaluate\n"
     ]
    },
    {
     "name": "stderr",
     "output_type": "stream",
     "text": [
      "INFO\tTask(Task-2) nodify.node.140241929921088:node.py:get()- No need to evaluate\n"
     ]
    },
    {
     "name": "stderr",
     "output_type": "stream",
     "text": [
      "INFO\tTask(Task-2) nodify.node.140241929922576:node.py:get()- No need to evaluate\n"
     ]
    },
    {
     "name": "stderr",
     "output_type": "stream",
     "text": [
      "INFO\tTask(Task-2) nodify.node.140241929922528:node.py:get()- No need to evaluate\n"
     ]
    },
    {
     "name": "stderr",
     "output_type": "stream",
     "text": [
      "INFO\tTask(Task-2) nodify.node.140241930011184:node.py:get()- No need to evaluate\n"
     ]
    },
    {
     "name": "stderr",
     "output_type": "stream",
     "text": [
      "INFO\tTask(Task-2) nodify.node.140241931120528:node.py:get()- No need to evaluate\n"
     ]
    },
    {
     "name": "stderr",
     "output_type": "stream",
     "text": [
      "INFO\tTask(Task-2) nodify.node.140241929922768:node.py:get()- No need to evaluate\n"
     ]
    },
    {
     "name": "stderr",
     "output_type": "stream",
     "text": [
      "INFO\tTask(Task-2) nodify.node.140241929928672:node.py:get()- No need to evaluate\n"
     ]
    },
    {
     "name": "stderr",
     "output_type": "stream",
     "text": [
      "INFO\tTask(Task-2) nodify.node.140241931120528:node.py:get()- No need to evaluate\n"
     ]
    },
    {
     "name": "stderr",
     "output_type": "stream",
     "text": [
      "INFO\tTask(Task-2) nodify.node.140241930011280:node.py:get()- No need to evaluate\n"
     ]
    },
    {
     "name": "stderr",
     "output_type": "stream",
     "text": [
      "INFO\tTask(Task-2) nodify.node.140241929926656:node.py:get()- No need to evaluate\n"
     ]
    },
    {
     "name": "stderr",
     "output_type": "stream",
     "text": [
      "INFO\tTask(Task-2) nodify.node.140241929926272:node.py:get()- No need to evaluate\n"
     ]
    },
    {
     "name": "stderr",
     "output_type": "stream",
     "text": [
      "INFO\tTask(Task-2) nodify.node.140241930010992:node.py:get()- No need to evaluate\n"
     ]
    },
    {
     "name": "stderr",
     "output_type": "stream",
     "text": [
      "INFO\tTask(Task-2) nodify.node.140241930011424:node.py:get()- Evaluated because inputs changed.\n"
     ]
    },
    {
     "name": "stderr",
     "output_type": "stream",
     "text": [
      "INFO\tTask(Task-2) nodify.node.140241930014688:node.py:get()- Evaluated because inputs changed.\n"
     ]
    },
    {
     "name": "stderr",
     "output_type": "stream",
     "text": [
      "INFO\tTask(Task-2) nodify.node.140241930015168:node.py:get()- Evaluated because inputs changed.\n"
     ]
    },
    {
     "data": {
      "text/html": [
       "<div>            <script src=\"https://cdnjs.cloudflare.com/ajax/libs/mathjax/2.7.5/MathJax.js?config=TeX-AMS-MML_SVG\"></script><script type=\"text/javascript\">if (window.MathJax && window.MathJax.Hub && window.MathJax.Hub.Config) {window.MathJax.Hub.Config({SVG: {font: \"STIX-Web\"}});}</script>                <script type=\"text/javascript\">window.PlotlyConfig = {MathJaxConfig: 'local'};</script>\n",
       "        <script charset=\"utf-8\" src=\"https://cdn.plot.ly/plotly-3.1.1.min.js\" integrity=\"sha256-HUEFyfiTnZJxCxur99FjbKYTvKSzwDaD3/x5TqHpFu4=\" crossorigin=\"anonymous\"></script>                <div id=\"ab2dbde7-a975-46e7-8129-7d9570089fa8\" class=\"plotly-graph-div\" style=\"height:525px; width:100%;\"></div>            <script type=\"text/javascript\">                window.PLOTLYENV=window.PLOTLYENV || {};                                if (document.getElementById(\"ab2dbde7-a975-46e7-8129-7d9570089fa8\")) {                    Plotly.newPlot(                        \"ab2dbde7-a975-46e7-8129-7d9570089fa8\",                        [{\"coloraxis\":\"coloraxis\",\"meta\":{},\"opacity\":0,\"textfont\":{\"color\":\"black\"},\"z\":{\"dtype\":\"f8\",\"bdata\":\"umRqejV65z+EQ4+thvDTv60qyBY3K+I\\u002fAPiGu93tQL+AiWD+94uCvwAAAAAAAPh\\u002fAAAAAAAA+H8AAAAAAAD4fwAAAAAAAPh\\u002fXzKd1rKxsr8AAAAAAAD4fwAAAAAAAPh\\u002fAAAAAAAA+H8AAAAAAAD4fwAAAAAAAPh\\u002fhEOPrYbw078QHTs3bBXvv\\u002fhk+Rx8rMO\\u002fmIdGSAPP0L9gPmzhQkaYvwAAAAAAAPh\\u002fAAAAAAAA+H8AAAAAAAD4fwAAAAAAAPh\\u002fqLrNwoZJsL8AAAAAAAD4fwAAAAAAAPh\\u002fAAAAAAAA+H8AAAAAAAD4fwAAAAAAAPh\\u002frSrIFjcr4j\\u002f4ZPkcfKzDv8QUY\\u002fLMA9O\\u002f9l6GEbFj0j+k4gsHdETCPwAAAAAAAPh\\u002fAAAAAAAA+H8AAAAAAAD4fwAAAAAAAPh\\u002fVrF+gvoowD8AAAAAAAD4fwAAAAAAAPh\\u002fAAAAAAAA+H8AAAAAAAD4fwAAAAAAAPh\\u002fAPiGu93tQL+Yh0ZIA8\\u002fQv\\u002fZehhGxY9I\\u002f7LRAXY6B5r\\u002fIsZRDF2LUvwAAAAAAAPh\\u002fAAAAAAAA+H8AAAAAAAD4fwAAAAAAAPh\\u002fD2\\u002fHfRqyt78AAAAAAAD4fwAAAAAAAPh\\u002fAAAAAAAA+H8AAAAAAAD4fwAAAAAAAPh\\u002fgIlg\\u002fveLgr9gPmzhQkaYv6TiCwd0RMI\\u002fyLGUQxdi1L9w2qtQqOTnvwAAAAAAAPh\\u002fAAAAAAAA+H8AAAAAAAD4fwAAAAAAAPh\\u002fAAAAAAAA+H9fMp3WsrGyv6i6zcKGSbC\\u002fVrF+gvoowD8Pb8d9GrK3vwAAAAAAAPh\\u002f\",\"shape\":\"5, 15\"},\"zsmooth\":false,\"type\":\"heatmap\"},{\"hovertext\":[\"[ 0.74993375 -0.61383892]\",\"[ 0.74993375 -0.61383892]\",\"[ 0.74993375 -0.61383892]\",\"[ 0.74993375 -0.61383892]\",\"[ 0.74993375 -0.61383892]\",\"[ 0.74993375 -0.61383892]\",\"[ 0.74993375 -0.61383892]\",\"[-0.31846284  0.1953251 ]\",\"[-0.31846284  0.1953251 ]\",\"[-0.31846284  0.1953251 ]\",\"[-0.31846284  0.1953251 ]\",\"[-0.31846284  0.1953251 ]\",\"[-0.31846284  0.1953251 ]\",\"[-0.31846284  0.1953251 ]\",\"[ 0.58036306 -0.37177011]\",\"[ 0.58036306 -0.37177011]\",\"[ 0.58036306 -0.37177011]\",\"[ 0.58036306 -0.37177011]\",\"[ 0.58036306 -0.37177011]\",\"[ 0.58036306 -0.37177011]\",\"[ 0.58036306 -0.37177011]\",\"[-5.28091122e-04  6.23901512e-05]\",\"[-5.28091122e-04  6.23901512e-05]\",\"[-5.28091122e-04  6.23901512e-05]\",\"[-5.28091122e-04  6.23901512e-05]\",\"[-5.28091122e-04  6.23901512e-05]\",\"[-5.28091122e-04  6.23901512e-05]\",\"[-5.28091122e-04  6.23901512e-05]\",\"[-0.00925681  0.00687365]\",\"[-0.00925681  0.00687365]\",\"[-0.00925681  0.00687365]\",\"[-0.00925681  0.00687365]\",\"[-0.00925681  0.00687365]\",\"[-0.00925681  0.00687365]\",\"[-0.00925681  0.00687365]\",\"[ 0. -0.]\",\"[ 0. -0.]\",\"[ 0. -0.]\",\"[ 0. -0.]\",\"[ 0. -0.]\",\"[ 0. -0.]\",\"[ 0. -0.]\",\"[ 0. -0.]\",\"[ 0. -0.]\",\"[ 0. -0.]\",\"[ 0. -0.]\",\"[ 0. -0.]\",\"[ 0. -0.]\",\"[ 0. -0.]\",\"[ 0. -0.]\",\"[ 0. -0.]\",\"[ 0. -0.]\",\"[ 0. -0.]\",\"[ 0. -0.]\",\"[ 0. -0.]\",\"[ 0. -0.]\",\"[ 0. -0.]\",\"[ 0. -0.]\",\"[ 0. -0.]\",\"[ 0. -0.]\",\"[ 0. -0.]\",\"[ 0. -0.]\",\"[ 0. -0.]\",\"[-0.07464293  0.01017007]\",\"[-0.07464293  0.01017007]\",\"[-0.07464293  0.01017007]\",\"[-0.07464293  0.01017007]\",\"[-0.07464293  0.01017007]\",\"[-0.07464293  0.01017007]\",\"[-0.07464293  0.01017007]\",\"[ 0. -0.]\",\"[ 0. -0.]\",\"[ 0. -0.]\",\"[ 0. -0.]\",\"[ 0. -0.]\",\"[ 0. -0.]\",\"[ 0. -0.]\",\"[ 0. -0.]\",\"[ 0. -0.]\",\"[ 0. -0.]\",\"[ 0. -0.]\",\"[ 0. -0.]\",\"[ 0. -0.]\",\"[ 0. -0.]\",\"[ 0. -0.]\",\"[ 0. -0.]\",\"[ 0. -0.]\",\"[ 0. -0.]\",\"[ 0. -0.]\",\"[ 0. -0.]\",\"[ 0. -0.]\",\"[ 0. -0.]\",\"[ 0. -0.]\",\"[ 0. -0.]\",\"[ 0. -0.]\",\"[ 0. -0.]\",\"[ 0. -0.]\",\"[ 0. -0.]\",\"[ 0. -0.]\",\"[ 0. -0.]\",\"[ 0. -0.]\",\"[ 0. -0.]\",\"[ 0. -0.]\",\"[ 0. -0.]\",\"[ 0. -0.]\",\"[-0.31846284  0.20344952]\",\"[-0.31846284  0.20344952]\",\"[-0.31846284  0.20344952]\",\"[-0.31846284  0.20344952]\",\"[-0.31846284  0.20344952]\",\"[-0.31846284  0.20344952]\",\"[-0.31846284  0.20344952]\",\"[-0.99290057  0.1189473 ]\",\"[-0.99290057  0.1189473 ]\",\"[-0.99290057  0.1189473 ]\",\"[-0.99290057  0.1189473 ]\",\"[-0.99290057  0.1189473 ]\",\"[-0.99290057  0.1189473 ]\",\"[-0.99290057  0.1189473 ]\",\"[-0.15710893  0.14326919]\",\"[-0.15710893  0.14326919]\",\"[-0.15710893  0.14326919]\",\"[-0.15710893  0.14326919]\",\"[-0.15710893  0.14326919]\",\"[-0.15710893  0.14326919]\",\"[-0.15710893  0.14326919]\",\"[-0.26845777  0.04244531]\",\"[-0.26845777  0.04244531]\",\"[-0.26845777  0.04244531]\",\"[-0.26845777  0.04244531]\",\"[-0.26845777  0.04244531]\",\"[-0.26845777  0.04244531]\",\"[-0.26845777  0.04244531]\",\"[-0.02423108  0.00615895]\",\"[-0.02423108  0.00615895]\",\"[-0.02423108  0.00615895]\",\"[-0.02423108  0.00615895]\",\"[-0.02423108  0.00615895]\",\"[-0.02423108  0.00615895]\",\"[-0.02423108  0.00615895]\",\"[ 0. -0.]\",\"[ 0. -0.]\",\"[ 0. -0.]\",\"[ 0. -0.]\",\"[ 0. -0.]\",\"[ 0. -0.]\",\"[ 0. -0.]\",\"[ 0. -0.]\",\"[ 0. -0.]\",\"[ 0. -0.]\",\"[ 0. -0.]\",\"[ 0. -0.]\",\"[ 0. -0.]\",\"[ 0. -0.]\",\"[ 0. -0.]\",\"[ 0. -0.]\",\"[ 0. -0.]\",\"[ 0. -0.]\",\"[ 0. -0.]\",\"[ 0. -0.]\",\"[ 0. -0.]\",\"[ 0. -0.]\",\"[ 0. -0.]\",\"[ 0. -0.]\",\"[ 0. -0.]\",\"[ 0. -0.]\",\"[ 0. -0.]\",\"[ 0. -0.]\",\"[-0.06503244  0.06272624]\",\"[-0.06503244  0.06272624]\",\"[-0.06503244  0.06272624]\",\"[-0.06503244  0.06272624]\",\"[-0.06503244  0.06272624]\",\"[-0.06503244  0.06272624]\",\"[-0.06503244  0.06272624]\",\"[ 0. -0.]\",\"[ 0. -0.]\",\"[ 0. -0.]\",\"[ 0. -0.]\",\"[ 0. -0.]\",\"[ 0. -0.]\",\"[ 0. -0.]\",\"[ 0. -0.]\",\"[ 0. -0.]\",\"[ 0. -0.]\",\"[ 0. -0.]\",\"[ 0. -0.]\",\"[ 0. -0.]\",\"[ 0. -0.]\",\"[ 0. -0.]\",\"[ 0. -0.]\",\"[ 0. -0.]\",\"[ 0. -0.]\",\"[ 0. -0.]\",\"[ 0. -0.]\",\"[ 0. -0.]\",\"[ 0. -0.]\",\"[ 0. -0.]\",\"[ 0. -0.]\",\"[ 0. -0.]\",\"[ 0. -0.]\",\"[ 0. -0.]\",\"[ 0. -0.]\",\"[ 0. -0.]\",\"[ 0. -0.]\",\"[ 0. -0.]\",\"[ 0. -0.]\",\"[ 0. -0.]\",\"[ 0. -0.]\",\"[ 0. -0.]\",\"[ 0.58036306 -0.16962854]\",\"[ 0.58036306 -0.16962854]\",\"[ 0.58036306 -0.16962854]\",\"[ 0.58036306 -0.16962854]\",\"[ 0.58036306 -0.16962854]\",\"[ 0.58036306 -0.16962854]\",\"[ 0.58036306 -0.16962854]\",\"[-0.15710893  0.09934377]\",\"[-0.15710893  0.09934377]\",\"[-0.15710893  0.09934377]\",\"[-0.15710893  0.09934377]\",\"[-0.15710893  0.09934377]\",\"[-0.15710893  0.09934377]\",\"[-0.15710893  0.09934377]\",\"[-0.30369393  0.19924862]\",\"[-0.30369393  0.19924862]\",\"[-0.30369393  0.19924862]\",\"[-0.30369393  0.19924862]\",\"[-0.30369393  0.19924862]\",\"[-0.30369393  0.19924862]\",\"[-0.30369393  0.19924862]\",\"[ 0.293705   -0.09372048]\",\"[ 0.293705   -0.09372048]\",\"[ 0.293705   -0.09372048]\",\"[ 0.293705   -0.09372048]\",\"[ 0.293705   -0.09372048]\",\"[ 0.293705   -0.09372048]\",\"[ 0.293705   -0.09372048]\",\"[ 0.14587804 -0.00236806]\",\"[ 0.14587804 -0.00236806]\",\"[ 0.14587804 -0.00236806]\",\"[ 0.14587804 -0.00236806]\",\"[ 0.14587804 -0.00236806]\",\"[ 0.14587804 -0.00236806]\",\"[ 0.14587804 -0.00236806]\",\"[ 0. -0.]\",\"[ 0. -0.]\",\"[ 0. -0.]\",\"[ 0. -0.]\",\"[ 0. -0.]\",\"[ 0. -0.]\",\"[ 0. -0.]\",\"[ 0. -0.]\",\"[ 0. -0.]\",\"[ 0. -0.]\",\"[ 0. -0.]\",\"[ 0. -0.]\",\"[ 0. -0.]\",\"[ 0. -0.]\",\"[ 0. -0.]\",\"[ 0. -0.]\",\"[ 0. -0.]\",\"[ 0. -0.]\",\"[ 0. -0.]\",\"[ 0. -0.]\",\"[ 0. -0.]\",\"[ 0. -0.]\",\"[ 0. -0.]\",\"[ 0. -0.]\",\"[ 0. -0.]\",\"[ 0. -0.]\",\"[ 0. -0.]\",\"[ 0. -0.]\",\"[ 0.12904958 -0.06310211]\",\"[ 0.12904958 -0.06310211]\",\"[ 0.12904958 -0.06310211]\",\"[ 0.12904958 -0.06310211]\",\"[ 0.12904958 -0.06310211]\",\"[ 0.12904958 -0.06310211]\",\"[ 0.12904958 -0.06310211]\",\"[ 0. -0.]\",\"[ 0. -0.]\",\"[ 0. -0.]\",\"[ 0. -0.]\",\"[ 0. -0.]\",\"[ 0. -0.]\",\"[ 0. -0.]\",\"[ 0. -0.]\",\"[ 0. -0.]\",\"[ 0. -0.]\",\"[ 0. -0.]\",\"[ 0. -0.]\",\"[ 0. -0.]\",\"[ 0. -0.]\",\"[ 0. -0.]\",\"[ 0. -0.]\",\"[ 0. -0.]\",\"[ 0. -0.]\",\"[ 0. -0.]\",\"[ 0. -0.]\",\"[ 0. -0.]\",\"[ 0. -0.]\",\"[ 0. -0.]\",\"[ 0. -0.]\",\"[ 0. -0.]\",\"[ 0. -0.]\",\"[ 0. -0.]\",\"[ 0. -0.]\",\"[ 0. -0.]\",\"[ 0. -0.]\",\"[ 0. -0.]\",\"[ 0. -0.]\",\"[ 0. -0.]\",\"[ 0. -0.]\",\"[ 0. -0.]\",\"[-5.28091122e-04  6.05427663e-05]\",\"[-5.28091122e-04  6.05427663e-05]\",\"[-5.28091122e-04  6.05427663e-05]\",\"[-5.28091122e-04  6.05427663e-05]\",\"[-5.28091122e-04  6.05427663e-05]\",\"[-5.28091122e-04  6.05427663e-05]\",\"[-5.28091122e-04  6.05427663e-05]\",\"[-0.26845777  0.13143024]\",\"[-0.26845777  0.13143024]\",\"[-0.26845777  0.13143024]\",\"[-0.26845777  0.13143024]\",\"[-0.26845777  0.13143024]\",\"[-0.26845777  0.13143024]\",\"[-0.26845777  0.13143024]\",\"[ 0.293705   -0.23316926]\",\"[ 0.293705   -0.23316926]\",\"[ 0.293705   -0.23316926]\",\"[ 0.293705   -0.23316926]\",\"[ 0.293705   -0.23316926]\",\"[ 0.293705   -0.23316926]\",\"[ 0.293705   -0.23316926]\",\"[-0.71890768  0.52139715]\",\"[-0.71890768  0.52139715]\",\"[-0.71890768  0.52139715]\",\"[-0.71890768  0.52139715]\",\"[-0.71890768  0.52139715]\",\"[-0.71890768  0.52139715]\",\"[-0.71890768  0.52139715]\",\"[-0.32554796  0.29116907]\",\"[-0.32554796  0.29116907]\",\"[-0.32554796  0.29116907]\",\"[-0.32554796  0.29116907]\",\"[-0.32554796  0.29116907]\",\"[-0.32554796  0.29116907]\",\"[-0.32554796  0.29116907]\",\"[ 0. -0.]\",\"[ 0. -0.]\",\"[ 0. -0.]\",\"[ 0. -0.]\",\"[ 0. -0.]\",\"[ 0. -0.]\",\"[ 0. -0.]\",\"[ 0. -0.]\",\"[ 0. -0.]\",\"[ 0. -0.]\",\"[ 0. -0.]\",\"[ 0. -0.]\",\"[ 0. -0.]\",\"[ 0. -0.]\",\"[ 0. -0.]\",\"[ 0. -0.]\",\"[ 0. -0.]\",\"[ 0. -0.]\",\"[ 0. -0.]\",\"[ 0. -0.]\",\"[ 0. -0.]\",\"[ 0. -0.]\",\"[ 0. -0.]\",\"[ 0. -0.]\",\"[ 0. -0.]\",\"[ 0. -0.]\",\"[ 0. -0.]\",\"[ 0. -0.]\",\"[-0.09461351  0.00229606]\",\"[-0.09461351  0.00229606]\",\"[-0.09461351  0.00229606]\",\"[-0.09461351  0.00229606]\",\"[-0.09461351  0.00229606]\",\"[-0.09461351  0.00229606]\",\"[-0.09461351  0.00229606]\",\"[ 0. -0.]\",\"[ 0. -0.]\",\"[ 0. -0.]\",\"[ 0. -0.]\",\"[ 0. -0.]\",\"[ 0. -0.]\",\"[ 0. -0.]\",\"[ 0. -0.]\",\"[ 0. -0.]\",\"[ 0. -0.]\",\"[ 0. -0.]\",\"[ 0. -0.]\",\"[ 0. -0.]\",\"[ 0. -0.]\",\"[ 0. -0.]\",\"[ 0. -0.]\",\"[ 0. -0.]\",\"[ 0. -0.]\",\"[ 0. -0.]\",\"[ 0. -0.]\",\"[ 0. -0.]\",\"[ 0. -0.]\",\"[ 0. -0.]\",\"[ 0. -0.]\",\"[ 0. -0.]\",\"[ 0. -0.]\",\"[ 0. -0.]\",\"[ 0. -0.]\",\"[ 0. -0.]\",\"[ 0. -0.]\",\"[ 0. -0.]\",\"[ 0. -0.]\",\"[ 0. -0.]\",\"[ 0. -0.]\",\"[ 0. -0.]\",\"[-0.00925681  0.00764086]\",\"[-0.00925681  0.00764086]\",\"[-0.00925681  0.00764086]\",\"[-0.00925681  0.00764086]\",\"[-0.00925681  0.00764086]\",\"[-0.00925681  0.00764086]\",\"[-0.00925681  0.00764086]\",\"[-0.02423108  0.02418596]\",\"[-0.02423108  0.02418596]\",\"[-0.02423108  0.02418596]\",\"[-0.02423108  0.02418596]\",\"[-0.02423108  0.02418596]\",\"[-0.02423108  0.02418596]\",\"[-0.02423108  0.02418596]\",\"[ 0.14587804 -0.11584042]\",\"[ 0.14587804 -0.11584042]\",\"[ 0.14587804 -0.11584042]\",\"[ 0.14587804 -0.11584042]\",\"[ 0.14587804 -0.11584042]\",\"[ 0.14587804 -0.11584042]\",\"[ 0.14587804 -0.11584042]\",\"[-0.32554796  0.0298771 ]\",\"[-0.32554796  0.0298771 ]\",\"[-0.32554796  0.0298771 ]\",\"[-0.32554796  0.0298771 ]\",\"[-0.32554796  0.0298771 ]\",\"[-0.32554796  0.0298771 ]\",\"[-0.32554796  0.0298771 ]\",\"[-0.76321604  0.3633787 ]\",\"[-0.76321604  0.3633787 ]\",\"[-0.76321604  0.3633787 ]\",\"[-0.76321604  0.3633787 ]\",\"[-0.76321604  0.3633787 ]\",\"[-0.76321604  0.3633787 ]\",\"[-0.76321604  0.3633787 ]\",\"[ 0. -0.]\",\"[ 0. -0.]\",\"[ 0. -0.]\",\"[ 0. -0.]\",\"[ 0. -0.]\",\"[ 0. -0.]\",\"[ 0. -0.]\",\"[ 0. -0.]\",\"[ 0. -0.]\",\"[ 0. -0.]\",\"[ 0. -0.]\",\"[ 0. -0.]\",\"[ 0. -0.]\",\"[ 0. -0.]\",\"[ 0. -0.]\",\"[ 0. -0.]\",\"[ 0. -0.]\",\"[ 0. -0.]\",\"[ 0. -0.]\",\"[ 0. -0.]\",\"[ 0. -0.]\",\"[ 0. -0.]\",\"[ 0. -0.]\",\"[ 0. -0.]\",\"[ 0. -0.]\",\"[ 0. -0.]\",\"[ 0. -0.]\",\"[ 0. -0.]\",\"[ 0. -0.]\",\"[ 0. -0.]\",\"[ 0. -0.]\",\"[ 0. -0.]\",\"[ 0. -0.]\",\"[ 0. -0.]\",\"[ 0. -0.]\",\"[-0.07464293  0.05660402]\",\"[-0.07464293  0.05660402]\",\"[-0.07464293  0.05660402]\",\"[-0.07464293  0.05660402]\",\"[-0.07464293  0.05660402]\",\"[-0.07464293  0.05660402]\",\"[-0.07464293  0.05660402]\",\"[-0.06503244  0.01037688]\",\"[-0.06503244  0.01037688]\",\"[-0.06503244  0.01037688]\",\"[-0.06503244  0.01037688]\",\"[-0.06503244  0.01037688]\",\"[-0.06503244  0.01037688]\",\"[-0.06503244  0.01037688]\",\"[ 0.12904958 -0.040568  ]\",\"[ 0.12904958 -0.040568  ]\",\"[ 0.12904958 -0.040568  ]\",\"[ 0.12904958 -0.040568  ]\",\"[ 0.12904958 -0.040568  ]\",\"[ 0.12904958 -0.040568  ]\",\"[ 0.12904958 -0.040568  ]\",\"[-0.09461351  0.05173297]\",\"[-0.09461351  0.05173297]\",\"[-0.09461351  0.05173297]\",\"[-0.09461351  0.05173297]\",\"[-0.09461351  0.05173297]\",\"[-0.09461351  0.05173297]\",\"[-0.09461351  0.05173297]\",\"[ 0. -0.]\",\"[ 0. -0.]\",\"[ 0. -0.]\",\"[ 0. -0.]\",\"[ 0. -0.]\",\"[ 0. -0.]\",\"[ 0. -0.]\"],\"line\":{\"color\":\"red\"},\"meta\":{},\"mode\":\"lines\",\"x\":{\"dtype\":\"f8\",\"bdata\":\"rVGGDnX\\u002f17+tUYYOdf\\u002fXPwAAAAAAAPh\\u002fAntJqjiq0T+tUYYOdf\\u002fXP\\u002fZHVuOllMg\\u002fAAAAAAAA+H+jfKQ+NozyP7oGt4KT5+o\\u002fAAAAAAAA+H9uepX4bGTsP7oGt4KT5+o\\u002fUbrFKlU\\u002f7T8AAAAAAAD4f5b4gpxqW\\u002fs\\u002ftYO+sUpSAkAAAAAAAAD4fxVY+DH+pgFAtYO+sUpSAkB\\u002fiYVO1D4BQAAAAAAAAPh\\u002fDmaYb4oACEDxmWeQdf8HQAAAAAAAAPh\\u002fAnSHXKf\\u002fB0DxmWeQdf8HQG4nJNar\\u002fwdAAAAAAAAA+H8pBuZOvQQQQKzzM2KF9g9AAAAAAAAA+H82bPb6HvkPQKzzM2KF9g9Avcl1AQz7D0AAAAAAAAD4fwAAAAAAABRAAAAAAAAAFEAAAAAAAAD4fwAAAAAAABRAAAAAAAAAFEAAAAAAAAAUQAAAAAAAAPh\\u002fAAAAAAAAGEAAAAAAAAAYQAAAAAAAAPh\\u002fAAAAAAAAGEAAAAAAAAAYQAAAAAAAABhAAAAAAAAA+H8AAAAAAAAcQAAAAAAAABxAAAAAAAAA+H8AAAAAAAAcQAAAAAAAABxAAAAAAAAAHEAAAAAAAAD4fwAAAAAAACBAAAAAAAAAIEAAAAAAAAD4fwAAAAAAACBAAAAAAAAAIEAAAAAAAAAgQAAAAAAAAPh\\u002fpCGUzBsTIkBc3msz5OwhQAAAAAAAAPh\\u002f+vSGu7fzIUBc3msz5OwhQDffZxlu9CFAAAAAAAAA+H8AAAAAAAAkQAAAAAAAACRAAAAAAAAA+H8AAAAAAAAkQAAAAAAAACRAAAAAAAAAJEAAAAAAAAD4fwAAAAAAACZAAAAAAAAAJkAAAAAAAAD4fwAAAAAAACZAAAAAAAAAJkAAAAAAAAAmQAAAAAAAAPh\\u002fAAAAAAAAKEAAAAAAAAAoQAAAAAAAAPh\\u002fAAAAAAAAKEAAAAAAAAAoQAAAAAAAAChAAAAAAAAA+H8AAAAAAAAqQAAAAAAAACpAAAAAAAAA+H8AAAAAAAAqQAAAAAAAACpAAAAAAAAAKkAAAAAAAAD4fwAAAAAAACxAAAAAAAAALEAAAAAAAAD4fwAAAAAAACxAAAAAAAAALEAAAAAAAAAsQAAAAAAAAPh\\u002fF+Uj9bFhxD8X5SP1sWHEvwAAAAAAAPh\\u002fpApFDQQBvb8X5SP1sWHEv15P4dfq4LW\\u002fAAAAAAAA+H+7uW7adfH3P4qMIksUHeA\\u002fAAAAAAAA+H8h6MJhFtPlP4qMIksUHeA\\u002fmf8IO2VY5j8AAAAAAAD4f70hvSnhoABAhbyFrD2+\\u002fj8AAAAAAAD4f21Uk4sKD\\u002f8\\u002fhbyFrD2+\\u002fj8IT14IU1\\u002f\\u002fPwAAAAAAAPh\\u002fpDTQl+YSCUBcyy9oGe0GQAAAAAAAAPh\\u002fxKcVXntOB0Bcyy9oGe0GQAJZxdVfWgdAAAAAAAAA+H8UOkoEaAwQQNmLa\\u002fcv5w9AAAAAAAAA+H8aQ02rpu8PQNmLa\\u002fcv5w9AM5BYbmDxD0AAAAAAAAD4fwAAAAAAABRAAAAAAAAAFEAAAAAAAAD4fwAAAAAAABRAAAAAAAAAFEAAAAAAAAAUQAAAAAAAAPh\\u002fAAAAAAAAGEAAAAAAAAAYQAAAAAAAAPh\\u002fAAAAAAAAGEAAAAAAAAAYQAAAAAAAABhAAAAAAAAA+H8AAAAAAAAcQAAAAAAAABxAAAAAAAAA+H8AAAAAAAAcQAAAAAAAABxAAAAAAAAAHEAAAAAAAAD4fwAAAAAAACBAAAAAAAAAIEAAAAAAAAD4fwAAAAAAACBAAAAAAAAAIEAAAAAAAAAgQAAAAAAAAPh\\u002fy8RZ96UQIkA0O6YIWu8hQAAAAAAAAPh\\u002fhBFknWnzIUA0O6YIWu8hQBdXQGfO9yFAAAAAAAAA+H8AAAAAAAAkQAAAAAAAACRAAAAAAAAA+H8AAAAAAAAkQAAAAAAAACRAAAAAAAAAJEAAAAAAAAD4fwAAAAAAACZAAAAAAAAAJkAAAAAAAAD4fwAAAAAAACZAAAAAAAAAJkAAAAAAAAAmQAAAAAAAAPh\\u002fAAAAAAAAKEAAAAAAAAAoQAAAAAAAAPh\\u002fAAAAAAAAKEAAAAAAAAAoQAAAAAAAAChAAAAAAAAA+H8AAAAAAAAqQAAAAAAAACpAAAAAAAAA+H8AAAAAAAAqQAAAAAAAACpAAAAAAAAAKkAAAAAAAAD4fwAAAAAAACxAAAAAAAAALEAAAAAAAAD4fwAAAAAAACxAAAAAAAAALEAAAAAAAAAsQAAAAAAAAPh\\u002fqR30jVWS0r+pHfSNVZLSPwAAAAAAAPh\\u002fWo3qWMuqyD+pHfSNVZLSP+KL865cssU\\u002fAAAAAAAA+H97Q3pTwkHxPwx5C1l7fO0\\u002fAAAAAAAA+H\\u002fxWCBasjbuPwx5C1l7fO0\\u002f\\u002fu3CzQim7j8AAAAAAAD4f5KPpor7NgFA2+Cy6giS\\u002fT8AAAAAAAD4fx6duL\\u002f9Q\\u002f4\\u002f2+Cy6giS\\u002fT\\u002f8oZOwpLP+PwAAAAAAAPh\\u002fExrY\\u002fj7TBkDt5ScBwSwJQAAAAAAAAPh\\u002fqXTIPNbICEDt5ScBwSwJQPTjDPeTrghAAAAAAAAA+H\\u002fTUCDynmoPQJbX74awShBAAAAAAAAA+H\\u002f3ZeoFyC4QQJbX74awShBANfq0GHMuEEAAAAAAAAD4fwAAAAAAABRAAAAAAAAAFEAAAAAAAAD4fwAAAAAAABRAAAAAAAAAFEAAAAAAAAAUQAAAAAAAAPh\\u002fAAAAAAAAGEAAAAAAAAAYQAAAAAAAAPh\\u002fAAAAAAAAGEAAAAAAAAAYQAAAAAAAABhAAAAAAAAA+H8AAAAAAAAcQAAAAAAAABxAAAAAAAAA+H8AAAAAAAAcQAAAAAAAABxAAAAAAAAAHEAAAAAAAAD4fwAAAAAAACBAAAAAAAAAIEAAAAAAAAD4fwAAAAAAACBAAAAAAAAAIEAAAAAAAAAgQAAAAAAAAPh\\u002fdztCm\\u002fbeIUCJxL1kCSEiQAAAAAAAAPh\\u002fiYC1N9QWIkCJxL1kCSEiQPWLb7BoEiJAAAAAAAAA+H8AAAAAAAAkQAAAAAAAACRAAAAAAAAA+H8AAAAAAAAkQAAAAAAAACRAAAAAAAAAJEAAAAAAAAD4fwAAAAAAACZAAAAAAAAAJkAAAAAAAAD4fwAAAAAAACZAAAAAAAAAJkAAAAAAAAAmQAAAAAAAAPh\\u002fAAAAAAAAKEAAAAAAAAAoQAAAAAAAAPh\\u002fAAAAAAAAKEAAAAAAAAAoQAAAAAAAAChAAAAAAAAA+H8AAAAAAAAqQAAAAAAAACpAAAAAAAAA+H8AAAAAAAAqQAAAAAAAACpAAAAAAAAAKkAAAAAAAAD4fwAAAAAAACxAAAAAAAAALEAAAAAAAAD4fwAAAAAAACxAAAAAAAAALEAAAAAAAAAsQAAAAAAAAPh\\u002fdc7BDPNNMT91zsEM800xvwAAAAAAAPh\\u002fLoOUo6AkJr91zsEM800xvztQj3W0DiW\\u002fAAAAAAAA+H9IaaAvzSXyP3Etv6BltOs\\u002fAAAAAAAA+H+n6\\u002fdBEAjtP3Etv6BltOs\\u002fdBd0jVyb7T8AAAAAAAD4fyY0sP19pv0\\u002f7eUnAcEsAUAAAAAAAAD4fzi0oFhf3ABA7eUnAcEsAUBmpDTbCpsAQAAAAAAAAPh\\u002fGjMAVingCkDmzP+p1h8FQAAAAAAAAPh\\u002fppzwXoDrBUDmzP+p1h8FQKV6FoiWfQZAAAAAAAAA+H+LrL04rqYQQOqmhI6jsg5AAAAAAAAA+H8ITDHBJgcPQOqmhI6jsg5A8DH5YrtYD0AAAAAAAAD4fwAAAAAAABRAAAAAAAAAFEAAAAAAAAD4fwAAAAAAABRAAAAAAAAAFEAAAAAAAAAUQAAAAAAAAPh\\u002fAAAAAAAAGEAAAAAAAAAYQAAAAAAAAPh\\u002fAAAAAAAAGEAAAAAAAAAYQAAAAAAAABhAAAAAAAAA+H8AAAAAAAAcQAAAAAAAABxAAAAAAAAA+H8AAAAAAAAcQAAAAAAAABxAAAAAAAAAHEAAAAAAAAD4fwAAAAAAACBAAAAAAAAAIEAAAAAAAAD4fwAAAAAAACBAAAAAAAAAIEAAAAAAAAAgQAAAAAAAAPh\\u002fBDZOlzgYIkD8ybFox+chQAAAAAAAAPh\\u002fUbORe83wIUD8ybFox+chQHeiqqf28CFAAAAAAAAA+H8AAAAAAAAkQAAAAAAAACRAAAAAAAAA+H8AAAAAAAAkQAAAAAAAACRAAAAAAAAAJEAAAAAAAAD4fwAAAAAAACZAAAAAAAAAJkAAAAAAAAD4fwAAAAAAACZAAAAAAAAAJkAAAAAAAAAmQAAAAAAAAPh\\u002fAAAAAAAAKEAAAAAAAAAoQAAAAAAAAPh\\u002fAAAAAAAAKEAAAAAAAAAoQAAAAAAAAChAAAAAAAAA+H8AAAAAAAAqQAAAAAAAACpAAAAAAAAA+H8AAAAAAAAqQAAAAAAAACpAAAAAAAAAKkAAAAAAAAD4fwAAAAAAACxAAAAAAAAALEAAAAAAAAD4fwAAAAAAACxAAAAAAAAALEAAAAAAAAAsQAAAAAAAAPh\\u002foKUYmDv1cj+gpRiYO\\u002fVyvwAAAAAAAPh\\u002fZMIFPyPya7+gpRiYO\\u002fVyv95nIhDrYWO\\u002fAAAAAAAA+H9P6CgRoDHwP2Ivrt2\\u002fnO8\\u002fAAAAAAAA+H9qO\\u002fqigLTvP2Ivrt2\\u002fnO8\\u002fxhGdw5vP7z8AAAAAAAD4f6ahQOQ91f4\\u002fLa\\u002ffDWGVAEAAAAAAAAD4f7TBWI11bQBALa\\u002ffDWGVAECn\\u002fuWvAE0AQAAAAAAAAPh\\u002fFll7cVxNCUDqpoSOo7IGQAAAAAAAAPh\\u002fVfR1k8ErB0DqpoSOo7IGQKKJtJAgNAdAAAAAAAAA+H9CxNxAxIYRQHx3Rn538gxAAAAAAAAA+H\\u002f1IyIoUuUNQHx3Rn538gxA4GQEKCJLDkAAAAAAAAD4fwAAAAAAABRAAAAAAAAAFEAAAAAAAAD4fwAAAAAAABRAAAAAAAAAFEAAAAAAAAAUQAAAAAAAAPh\\u002fAAAAAAAAGEAAAAAAAAAYQAAAAAAAAPh\\u002fAAAAAAAAGEAAAAAAAAAYQAAAAAAAABhAAAAAAAAA+H8AAAAAAAAcQAAAAAAAABxAAAAAAAAA+H8AAAAAAAAcQAAAAAAAABxAAAAAAAAAHEAAAAAAAAD4fwAAAAAAACBAAAAAAAAAIEAAAAAAAAD4fwAAAAAAACBAAAAAAAAAIEAAAAAAAAAgQAAAAAAAAPh\\u002fAAAAAAAAIkAAAAAAAAAiQAAAAAAAAPh\\u002fAAAAAAAAIkAAAAAAAAAiQAAAAAAAACJAAAAAAAAA+H+kIZTMGxMkQFzeazPk7CNAAAAAAAAA+H8db5tpF\\u002fIjQFzeazPk7CNAE2VTaw72I0AAAAAAAAD4f8vEWfelECZANDumCFrvJUAAAAAAAAD4f242tfg+9SVANDumCFrvJUAtMu8L+fUlQAAAAAAAAPh\\u002fdztCm\\u002fbeJ0CJxL1kCSEoQAAAAAAAAPh\\u002f3JsfLgoWKECJxL1kCSEoQKJwBboyEyhAAAAAAAAA+H8ENk6XOBgqQPzJsWjH5ylAAAAAAAAA+H\\u002f8oRY9Eu8pQPzJsWjH5ylAzbMl5rHyKUAAAAAAAAD4fwAAAAAAACxAAAAAAAAALEAAAAAAAAD4fwAAAAAAACxAAAAAAAAALEAAAAAAAAAsQAAAAAAAAPh\\u002f\"},\"y\":{\"dtype\":\"f8\",\"bdata\":\"FqDBgpGk0z8WoMGCkaTTvwAAAAAAAPh\\u002fZimP5fDzwb8WoMGCkaTTv7bKUbzWFc+\\u002fAAAAAAAA+H92ccq3aQC5v3ZxyrdpALk\\u002fAAAAAAAA+H9qcE6R\\u002fw2kP3ZxyrdpALk\\u002fZIMpREoutT8AAAAAAAD4f1OQRNcUy8c\\u002fU5BE1xTLx78AAAAAAAD4f5XwqkhxibO\\u002fU5BE1xTLx7+KNX43cu7DvwAAAAAAAPh\\u002fKlezou5aAL8qV7Oi7loAPwAAAAAAAPh\\u002fvFRuAIZ28b4qV7Oi7loAP0ryniiVJQ0\\u002fAAAAAAAA+H9nwR2EjCdsv2fBHYSMJ2w\\u002fAAAAAAAA+H\\u002fxMKmu8sRYP2fBHYSMJ2w\\u002fPpRjw1HCZj8AAAAAAAD4fwAAAAAAAAAAAAAAAAAAAAAAAAAAAAD4fwAAAAAAAAAAAAAAAAAAAAAAAAAAAAAAAAAAAAAAAPh\\u002fAAAAAAAAAAAAAAAAAAAAAAAAAAAAAPh\\u002fAAAAAAAAAAAAAAAAAAAAAAAAAAAAAAAAAAAAAAAA+H8AAAAAAAAAAAAAAAAAAAAAAAAAAAAA+H8AAAAAAAAAAAAAAAAAAAAAAAAAAAAAAAAAAAAAAAD4fwAAAAAAAAAAAAAAAAAAAAAAAAAAAAD4fwAAAAAAAAAAAAAAAAAAAAAAAAAAAAAAAAAAAAAAAPh\\u002fhkWixQvUdL+GRaLFC9R0PwAAAAAAAPh\\u002fdKabKjGoX7+GRaLFC9R0P0C\\u002fPFTg9IA\\u002fAAAAAAAA+H8AAAAAAAAAAAAAAAAAAAAAAAAAAAAA+H8AAAAAAAAAAAAAAAAAAAAAAAAAAAAAAAAAAAAAAAD4fwAAAAAAAAAAAAAAAAAAAAAAAAAAAAD4fwAAAAAAAAAAAAAAAAAAAAAAAAAAAAAAAAAAAAAAAPh\\u002fAAAAAAAAAAAAAAAAAAAAAAAAAAAAAPh\\u002fAAAAAAAAAAAAAAAAAAAAAAAAAAAAAAAAAAAAAAAA+H8AAAAAAAAAAAAAAAAAAAAAAAAAAAAA+H8AAAAAAAAAAAAAAAAAAAAAAAAAAAAAAAAAAAAAAAD4fwAAAAAAAAAAAAAAAAAAAAAAAAAAAAD4fwAAAAAAAAAAAAAAAAAAAAAAAAAAAAAAAAAAAAAAAPh\\u002ff4Lutqu+7D\\u002fAvogkqqDxPwAAAAAAAPh\\u002f52vTddKq8D\\u002fAvogkqqDxP5qQix1HXfE\\u002fAAAAAAAA+H\\u002fdDUC2yhjuPxH536Sa8\\u002fA\\u002fAAAAAAAA+H\\u002fmJXG1sAPvPxH536Sa8\\u002fA\\u002fyo6Bjzuu8T8AAAAAAAD4fxZr4l0rte0\\u002fdcoOUWol8T8AAAAAAAD4f\\u002fcqDKUbi\\u002fA\\u002fdcoOUWol8T9MIkl+JePwPwAAAAAAAPh\\u002fmzC+3CRS7z+z56CR7VbwPwAAAAAAAPh\\u002fLwFFrhLW7z+z56CR7VbwP3bC9pV4gfA\\u002fAAAAAAAA+H+pnInfxebvP6sxOxCdDPA\\u002fAAAAAAAA+H8Cl1hQFQHwP6sxOxCdDPA\\u002foabvWakO8D8AAAAAAAD4fwAAAAAAAPA\\u002fAAAAAAAA8D8AAAAAAAD4fwAAAAAAAPA\\u002fAAAAAAAA8D8AAAAAAADwPwAAAAAAAPh\\u002fAAAAAAAA8D8AAAAAAADwPwAAAAAAAPh\\u002fAAAAAAAA8D8AAAAAAADwPwAAAAAAAPA\\u002fAAAAAAAA+H8AAAAAAADwPwAAAAAAAPA\\u002fAAAAAAAA+H8AAAAAAADwPwAAAAAAAPA\\u002fAAAAAAAA8D8AAAAAAAD4fwAAAAAAAPA\\u002fAAAAAAAA8D8AAAAAAAD4fwAAAAAAAPA\\u002fAAAAAAAA8D8AAAAAAADwPwAAAAAAAPh\\u002fHmKGxBL\\u002f7j\\u002fxzryddoDwPwAAAAAAAPh\\u002f\\u002fQeuuPQ98D\\u002fxzryddoDwP7p0zNxlYvA\\u002fAAAAAAAA+H8AAAAAAADwPwAAAAAAAPA\\u002fAAAAAAAA+H8AAAAAAADwPwAAAAAAAPA\\u002fAAAAAAAA8D8AAAAAAAD4fwAAAAAAAPA\\u002fAAAAAAAA8D8AAAAAAAD4fwAAAAAAAPA\\u002fAAAAAAAA8D8AAAAAAADwPwAAAAAAAPh\\u002fAAAAAAAA8D8AAAAAAADwPwAAAAAAAPh\\u002fAAAAAAAA8D8AAAAAAADwPwAAAAAAAPA\\u002fAAAAAAAA+H8AAAAAAADwPwAAAAAAAPA\\u002fAAAAAAAA+H8AAAAAAADwPwAAAAAAAPA\\u002fAAAAAAAA8D8AAAAAAAD4fwAAAAAAAPA\\u002fAAAAAAAA8D8AAAAAAAD4fwAAAAAAAPA\\u002fAAAAAAAA8D8AAAAAAADwPwAAAAAAAPh\\u002fuxbgGrOtAECL0j\\u002fKmaT+PwAAAAAAAPh\\u002ftiaAt8nJ\\u002fz+L0j\\u002fKmaT+Pw4PG4WShP4\\u002fAAAAAAAA+H\\u002fgRAJBizT\\u002fP5Ddfl+6ZQBAAAAAAAAA+H9iUzoueykAQJDdfl+6ZQBADc\\u002fYGoBVAEAAAAAAAAD4fyCV+VbwZ\\u002f4\\u002fcDWD1AfMAEAAAAAAAAD4f8mfaZXLVABAcDWD1AfMAEDROZeV4qkAQAAAAAAAAPh\\u002fvqMSQ\\u002fhfAECGuNp5D0D\\u002fPwAAAAAAAPh\\u002fkbhaS3\\u002fa\\u002fz+GuNp5D0D\\u002fP+paqD3qNf8\\u002fAAAAAAAA+H8pnprFbAIAQK\\u002fDynQm+\\u002f8\\u002fAAAAAAAA+H9tyhA\\u002f7BIAQK\\u002fDynQm+\\u002f8\\u002fa19fwRnU\\u002fz8AAAAAAAD4fwAAAAAAAABAAAAAAAAAAEAAAAAAAAD4fwAAAAAAAABAAAAAAAAAAEAAAAAAAAAAQAAAAAAAAPh\\u002fAAAAAAAAAEAAAAAAAAAAQAAAAAAAAPh\\u002fAAAAAAAAAEAAAAAAAAAAQAAAAAAAAABAAAAAAAAA+H8AAAAAAAAAQAAAAAAAAABAAAAAAAAA+H8AAAAAAAAAQAAAAAAAAABAAAAAAAAAAEAAAAAAAAD4fwAAAAAAAABAAAAAAAAAAEAAAAAAAAD4fwAAAAAAAABAAAAAAAAAAEAAAAAAAAAAQAAAAAAAAPh\\u002fxoK31p1AAEB1+pBSxH7\\u002fPwAAAAAAAPh\\u002fYjDACIDT\\u002fz91+pBSxH7\\u002fPw4IpGYvi\\u002f8\\u002fAAAAAAAA+H8AAAAAAAAAQAAAAAAAAABAAAAAAAAA+H8AAAAAAAAAQAAAAAAAAABAAAAAAAAAAEAAAAAAAAD4fwAAAAAAAABAAAAAAAAAAEAAAAAAAAD4fwAAAAAAAABAAAAAAAAAAEAAAAAAAAAAQAAAAAAAAPh\\u002fAAAAAAAAAEAAAAAAAAAAQAAAAAAAAPh\\u002fAAAAAAAAAEAAAAAAAAAAQAAAAAAAAABAAAAAAAAA+H8AAAAAAAAAQAAAAAAAAABAAAAAAAAA+H8AAAAAAAAAQAAAAAAAAABAAAAAAAAAAEAAAAAAAAD4fwAAAAAAAABAAAAAAAAAAEAAAAAAAAD4fwAAAAAAAABAAAAAAAAAAEAAAAAAAAAAQAAAAAAAAPh\\u002f1jELIfD\\u002fB0AqzvTeDwAIQAAAAAAAAPh\\u002f3rBc9\\u002fb\\u002fB0AqzvTeDwAIQLTZNNgcAAhAAAAAAAAA+H9ndblZankHQJmKRqaVhghAAAAAAAAA+H8q8oeAYy4IQJmKRqaVhghAGRPyH5t5CEAAAAAAAAD4fxBg6+vD7ghA758UFDwRB0AAAAAAAAD4fyPQyGsglAdA758UFDwRB0BPoe\\u002fk1UEHQAAAAAAAAPh\\u002fwr\\u002fJ3RbqBUA+QDYi6RUKQAAAAAAAAPh\\u002f1329WYPoCEA+QDYi6RUKQN7FiFDwsQlAAAAAAAAA+H814cfG19UGQMweODkoKglAAAAAAAAA+H87\\u002fJbveowIQMweODkoKglAN4XXdLHnCEAAAAAAAAD4fwAAAAAAAAhAAAAAAAAACEAAAAAAAAD4fwAAAAAAAAhAAAAAAAAACEAAAAAAAAAIQAAAAAAAAPh\\u002fAAAAAAAACEAAAAAAAAAIQAAAAAAAAPh\\u002fAAAAAAAACEAAAAAAAAAIQAAAAAAAAAhAAAAAAAAA+H8AAAAAAAAIQAAAAAAAAAhAAAAAAAAA+H8AAAAAAAAIQAAAAAAAAAhAAAAAAAAACEAAAAAAAAD4fwAAAAAAAAhAAAAAAAAACEAAAAAAAAD4fwAAAAAAAAhAAAAAAAAACEAAAAAAAAAIQAAAAAAAAPh\\u002fMJAVGqb9B0DQb+rlWQIIQAAAAAAAAPh\\u002fgE\\u002fDfjb0B0DQb+rlWQIIQEmmWdK4DghAAAAAAAAA+H8AAAAAAAAIQAAAAAAAAAhAAAAAAAAA+H8AAAAAAAAIQAAAAAAAAAhAAAAAAAAACEAAAAAAAAD4fwAAAAAAAAhAAAAAAAAACEAAAAAAAAD4fwAAAAAAAAhAAAAAAAAACEAAAAAAAAAIQAAAAAAAAPh\\u002fAAAAAAAACEAAAAAAAAAIQAAAAAAAAPh\\u002fAAAAAAAACEAAAAAAAAAIQAAAAAAAAAhAAAAAAAAA+H8AAAAAAAAIQAAAAAAAAAhAAAAAAAAA+H8AAAAAAAAIQAAAAAAAAAhAAAAAAAAACEAAAAAAAAD4fwAAAAAAAAhAAAAAAAAACEAAAAAAAAD4fwAAAAAAAAhAAAAAAAAACEAAAAAAAAAIQAAAAAAAAPh\\u002fB5NT\\u002fiz4D0B8NtaA6QMQQAAAAAAAAPh\\u002fXXwiEssBEEB8NtaA6QMQQD3+Lw0XAxBAAAAAAAAA+H\\u002fr1OHLO+cPQIoVDxpiDBBAAAAAAAAA+H+4rVIHCAYQQIoVDxpiDBBAoHG4CW0JEEAAAAAAAAD4fzn6YW9POxBAjgs8IWGJD0AAAAAAAAD4fyRIEAZnyg9Ajgs8IWGJD0BsLa+nh6EPQAAAAAAAAPh\\u002fFCH35WfhD0B2bwQNTA8QQAAAAAAAAPh\\u002fYt4l73zlD0B2bwQNTA8QQK8zM7pZIBBAAAAAAAAA+H9jG0105osOQE9y2cUMuhBAAAAAAAAA+H8XD99xqD4QQE9y2cUMuhBAttXM+ZOpEEAAAAAAAAD4fwAAAAAAABBAAAAAAAAAEEAAAAAAAAD4fwAAAAAAABBAAAAAAAAAEEAAAAAAAAAQQAAAAAAAAPh\\u002fAAAAAAAAEEAAAAAAAAAQQAAAAAAAAPh\\u002fAAAAAAAAEEAAAAAAAAAQQAAAAAAAABBAAAAAAAAA+H8AAAAAAAAQQAAAAAAAABBAAAAAAAAA+H8AAAAAAAAQQAAAAAAAABBAAAAAAAAAEEAAAAAAAAD4fwAAAAAAABBAAAAAAAAAEEAAAAAAAAD4fwAAAAAAABBAAAAAAAAAEEAAAAAAAAAQQAAAAAAAAPh\\u002fAAAAAAAAEEAAAAAAAAAQQAAAAAAAAPh\\u002fAAAAAAAAEEAAAAAAAAAQQAAAAAAAABBAAAAAAAAA+H9r+DKYCcYPQMuD5jP7HBBAAAAAAAAA+H9V+gYF3AwQQMuD5jP7HBBAb8JD+FAXEEAAAAAAAAD4f9Fok8Nf9Q9AmEs2HlAFEEAAAAAAAAD4f1Hj+XmF\\u002fQ9AmEs2HlAFEEDYjAQG3wcQQAAAAAAAAPh\\u002fcZ1cVMUUEEAexUZXddYPQAAAAAAAAPh\\u002fVb3Q0ib4D0AexUZXddYPQCupwoH+0w9AAAAAAAAA+H9++CyDBssPQMGDab58GhBAAAAAAAAA+H9jJ6tv5wkQQMGDab58GhBAyFJ2mSgXEEAAAAAAAAD4fwAAAAAAABBAAAAAAAAAEEAAAAAAAAD4fwAAAAAAABBAAAAAAAAAEEAAAAAAAAAQQAAAAAAAAPh\\u002f\"},\"type\":\"scatter\"},{\"line\":{\"color\":\"pink\",\"dash\":\"dash\",\"width\":5},\"meta\":{},\"mode\":\"lines\",\"name\":\"orbitals separators\",\"opacity\":0.8,\"showlegend\":false,\"x\":{\"dtype\":\"f8\",\"bdata\":\"AAAAAAAA4L8AAAAAAAASQAAAAAAAAPh\\u002fAAAAAAAA4D8AAAAAAADgPwAAAAAAAPh\\u002f\"},\"y\":{\"dtype\":\"f8\",\"bdata\":\"AAAAAAAA4D8AAAAAAADgPwAAAAAAAPh\\u002fAAAAAAAA4L8AAAAAAAASQAAAAAAAAPh\\u002f\"},\"type\":\"scatter\"},{\"line\":{\"color\":\"gray\"},\"meta\":{},\"mode\":\"lines\",\"name\":\"atoms separators\",\"opacity\":1,\"showlegend\":false,\"x\":{\"dtype\":\"f8\",\"bdata\":\"AAAAAAAA4L8AAAAAAAASQAAAAAAAAPh\\u002fAAAAAAAADEAAAAAAAAAMQAAAAAAAAPh\\u002f\"},\"y\":{\"dtype\":\"f8\",\"bdata\":\"AAAAAAAADEAAAAAAAAAMQAAAAAAAAPh\\u002fAAAAAAAA4L8AAAAAAAASQAAAAAAAAPh\\u002f\"},\"type\":\"scatter\"}],                        {\"template\":{\"layout\":{\"hovermode\":\"closest\",\"paper_bgcolor\":\"white\",\"plot_bgcolor\":\"white\",\"scene\":{\"xaxis\":{\"color\":\"black\",\"gridcolor\":\"#ccc\",\"gridwidth\":1,\"linewidth\":1,\"mirror\":true,\"showgrid\":false,\"showline\":true,\"ticklen\":5,\"ticks\":\"outside\",\"ticksuffix\":\" \",\"visible\":true,\"zeroline\":false,\"zerolinecolor\":\"#ccc\",\"zerolinewidth\":1},\"yaxis\":{\"color\":\"black\",\"gridcolor\":\"#ccc\",\"gridwidth\":1,\"linewidth\":1,\"mirror\":true,\"showgrid\":false,\"showline\":true,\"ticklen\":5,\"ticks\":\"outside\",\"ticksuffix\":\" \",\"visible\":true,\"zeroline\":false,\"zerolinecolor\":\"#ccc\",\"zerolinewidth\":1},\"zaxis\":{\"color\":\"black\",\"gridcolor\":\"#ccc\",\"gridwidth\":1,\"linewidth\":1,\"mirror\":true,\"showgrid\":false,\"showline\":true,\"ticklen\":5,\"ticks\":\"outside\",\"ticksuffix\":\" \",\"visible\":true,\"zeroline\":false,\"zerolinecolor\":\"#ccc\",\"zerolinewidth\":1}},\"xaxis\":{\"color\":\"black\",\"gridcolor\":\"#ccc\",\"gridwidth\":1,\"linewidth\":1,\"mirror\":true,\"showgrid\":false,\"showline\":true,\"ticklen\":5,\"ticks\":\"outside\",\"ticksuffix\":\" \",\"visible\":true,\"zeroline\":false,\"zerolinecolor\":\"#ccc\",\"zerolinewidth\":1},\"yaxis\":{\"color\":\"black\",\"gridcolor\":\"#ccc\",\"gridwidth\":1,\"linewidth\":1,\"mirror\":true,\"showgrid\":false,\"showline\":true,\"ticklen\":5,\"ticks\":\"outside\",\"ticksuffix\":\" \",\"visible\":true,\"zeroline\":false,\"zerolinecolor\":\"#ccc\",\"zerolinewidth\":1}}},\"coloraxis\":{\"colorscale\":[[0.0,\"rgb(0, 147, 146)\"],[0.16666666666666666,\"rgb(57, 177, 133)\"],[0.3333333333333333,\"rgb(156, 203, 134)\"],[0.5,\"rgb(233, 226, 156)\"],[0.6666666666666666,\"rgb(238, 180, 121)\"],[0.8333333333333334,\"rgb(232, 132, 113)\"],[1.0,\"rgb(207, 89, 126)\"]],\"cmid\":0,\"showscale\":false},\"xaxis\":{\"scaleanchor\":\"y\",\"scaleratio\":1,\"range\":[-0.5,14.5],\"constrain\":\"domain\"},\"scene\":{\"aspectmode\":\"data\",\"xaxis\":{\"range\":[-0.5,14.5]},\"yaxis\":{\"range\":[4.5,-0.5]}},\"yaxis\":{\"range\":[4.5,-0.5],\"constrain\":\"domain\"}},                        {\"responsive\": true}                    ).then(function(){\n",
       "                            \n",
       "var gd = document.getElementById('ab2dbde7-a975-46e7-8129-7d9570089fa8');\n",
       "var x = new MutationObserver(function (mutations, observer) {{\n",
       "        var display = window.getComputedStyle(gd).display;\n",
       "        if (!display || display === 'none') {{\n",
       "            console.log([gd, 'removed!']);\n",
       "            Plotly.purge(gd);\n",
       "            observer.disconnect();\n",
       "        }}\n",
       "}});\n",
       "\n",
       "// Listen for the removal of the full notebook cells\n",
       "var notebookContainer = gd.closest('#notebook-container');\n",
       "if (notebookContainer) {{\n",
       "    x.observe(notebookContainer, {childList: true});\n",
       "}}\n",
       "\n",
       "// Listen for the clearing of the current output cell\n",
       "var outputEl = gd.closest('.output');\n",
       "if (outputEl) {{\n",
       "    x.observe(outputEl, {childList: true});\n",
       "}}\n",
       "\n",
       "                        })                };            </script>        </div>"
      ]
     },
     "metadata": {},
     "output_type": "display_data"
    }
   ],
   "source": [
    "# Initialize a sparse matrix with the same sparsity pattern as our Hamiltonian,\n",
    "# but with an extra dimension that will host the X and Y coordinates.\n",
    "arrow_data = sisl.SparseCSR.fromsp([H, H])\n",
    "\n",
    "# The X coordinate will be the Hamiltonian's value,\n",
    "# while the Y coordinate will be just random.\n",
    "for i in range(arrow_data.shape[0]):\n",
    "    for j in range(arrow_data.shape[1]):\n",
    "        if arrow_data[i, j, 1] != 0:\n",
    "            arrow_data[i, j, 1] *= np.random.random()\n",
    "\n",
    "# Let's display the data\n",
    "plot.update_inputs(arrows={\"data\": arrow_data, \"color\": \"red\"})"
   ]
  },
  {
   "cell_type": "markdown",
   "metadata": {},
   "source": [
    "Finally, we showcase how **you can have multiple specifications of arrows**.\n",
    "\n",
    "We also show how you can use the `center` key. You can set `center` to `\"start\"`, `\"middle\"` or `\"end\"`. It determines which part of the arrow is pinned to the center of the matrix element (the default is `\"middle\"`):"
   ]
  },
  {
   "cell_type": "code",
   "execution_count": 21,
   "metadata": {
    "execution": {
     "iopub.execute_input": "2025-10-08T13:16:19.631901Z",
     "iopub.status.busy": "2025-10-08T13:16:19.631730Z",
     "iopub.status.idle": "2025-10-08T13:16:19.819261Z",
     "shell.execute_reply": "2025-10-08T13:16:19.818782Z"
    }
   },
   "outputs": [
    {
     "name": "stderr",
     "output_type": "stream",
     "text": [
      "INFO\tTask(Task-2) nodify.node.140241929927424:node.py:get()- No need to evaluate\n"
     ]
    },
    {
     "name": "stderr",
     "output_type": "stream",
     "text": [
      "INFO\tTask(Task-2) nodify.node.140241931120528:node.py:get()- No need to evaluate\n"
     ]
    },
    {
     "name": "stderr",
     "output_type": "stream",
     "text": [
      "INFO\tTask(Task-2) nodify.node.140241929921088:node.py:get()- No need to evaluate\n"
     ]
    },
    {
     "name": "stderr",
     "output_type": "stream",
     "text": [
      "INFO\tTask(Task-2) nodify.node.140241929922576:node.py:get()- No need to evaluate\n"
     ]
    },
    {
     "name": "stderr",
     "output_type": "stream",
     "text": [
      "INFO\tTask(Task-2) nodify.node.140241929922528:node.py:get()- No need to evaluate\n"
     ]
    },
    {
     "name": "stderr",
     "output_type": "stream",
     "text": [
      "INFO\tTask(Task-2) nodify.node.140241930011184:node.py:get()- No need to evaluate\n"
     ]
    },
    {
     "name": "stderr",
     "output_type": "stream",
     "text": [
      "INFO\tTask(Task-2) nodify.node.140241929924352:node.py:get()- No need to evaluate\n"
     ]
    },
    {
     "name": "stderr",
     "output_type": "stream",
     "text": [
      "INFO\tTask(Task-2) nodify.node.140241929924736:node.py:get()- No need to evaluate\n"
     ]
    },
    {
     "name": "stderr",
     "output_type": "stream",
     "text": [
      "INFO\tTask(Task-2) nodify.node.140241931120528:node.py:get()- No need to evaluate\n"
     ]
    },
    {
     "name": "stderr",
     "output_type": "stream",
     "text": [
      "INFO\tTask(Task-2) nodify.node.140241929925120:node.py:get()- No need to evaluate\n"
     ]
    },
    {
     "name": "stderr",
     "output_type": "stream",
     "text": [
      "INFO\tTask(Task-2) nodify.node.140241929924736:node.py:get()- No need to evaluate\n"
     ]
    },
    {
     "name": "stderr",
     "output_type": "stream",
     "text": [
      "INFO\tTask(Task-2) nodify.node.140241930012480:node.py:get()- No need to evaluate\n"
     ]
    },
    {
     "name": "stderr",
     "output_type": "stream",
     "text": [
      "INFO\tTask(Task-2) nodify.node.140241929923968:node.py:get()- No need to evaluate\n"
     ]
    },
    {
     "name": "stderr",
     "output_type": "stream",
     "text": [
      "INFO\tTask(Task-2) nodify.node.140241929925504:node.py:get()- No need to evaluate\n"
     ]
    },
    {
     "name": "stderr",
     "output_type": "stream",
     "text": [
      "INFO\tTask(Task-2) nodify.node.140241929925888:node.py:get()- No need to evaluate\n"
     ]
    },
    {
     "name": "stderr",
     "output_type": "stream",
     "text": [
      "INFO\tTask(Task-2) nodify.node.140241930012384:node.py:get()- No need to evaluate\n"
     ]
    },
    {
     "name": "stderr",
     "output_type": "stream",
     "text": [
      "INFO\tTask(Task-2) nodify.node.140241931120528:node.py:get()- No need to evaluate\n"
     ]
    },
    {
     "name": "stderr",
     "output_type": "stream",
     "text": [
      "INFO\tTask(Task-2) nodify.node.140241929921088:node.py:get()- No need to evaluate\n"
     ]
    },
    {
     "name": "stderr",
     "output_type": "stream",
     "text": [
      "INFO\tTask(Task-2) nodify.node.140241929922576:node.py:get()- No need to evaluate\n"
     ]
    },
    {
     "name": "stderr",
     "output_type": "stream",
     "text": [
      "INFO\tTask(Task-2) nodify.node.140241929922528:node.py:get()- No need to evaluate\n"
     ]
    },
    {
     "name": "stderr",
     "output_type": "stream",
     "text": [
      "INFO\tTask(Task-2) nodify.node.140241930011184:node.py:get()- No need to evaluate\n"
     ]
    },
    {
     "name": "stderr",
     "output_type": "stream",
     "text": [
      "INFO\tTask(Task-2) nodify.node.140241929927040:node.py:get()- Evaluated because inputs changed.\n"
     ]
    },
    {
     "name": "stderr",
     "output_type": "stream",
     "text": [
      "INFO\tTask(Task-2) nodify.node.140241930013152:node.py:get()- Evaluated because inputs changed.\n"
     ]
    },
    {
     "name": "stderr",
     "output_type": "stream",
     "text": [
      "INFO\tTask(Task-2) nodify.node.140241930012528:node.py:get()- Evaluated because inputs changed.\n"
     ]
    },
    {
     "name": "stderr",
     "output_type": "stream",
     "text": [
      "INFO\tTask(Task-2) nodify.node.140241929922192:node.py:get()- No need to evaluate\n"
     ]
    },
    {
     "name": "stderr",
     "output_type": "stream",
     "text": [
      "INFO\tTask(Task-2) nodify.node.140241931120528:node.py:get()- No need to evaluate\n"
     ]
    },
    {
     "name": "stderr",
     "output_type": "stream",
     "text": [
      "INFO\tTask(Task-2) nodify.node.140241929922768:node.py:get()- No need to evaluate\n"
     ]
    },
    {
     "name": "stderr",
     "output_type": "stream",
     "text": [
      "INFO\tTask(Task-2) nodify.node.140241929928672:node.py:get()- No need to evaluate\n"
     ]
    },
    {
     "name": "stderr",
     "output_type": "stream",
     "text": [
      "INFO\tTask(Task-2) nodify.node.140241931120528:node.py:get()- No need to evaluate\n"
     ]
    },
    {
     "name": "stderr",
     "output_type": "stream",
     "text": [
      "INFO\tTask(Task-2) nodify.node.140241930011280:node.py:get()- No need to evaluate\n"
     ]
    },
    {
     "name": "stderr",
     "output_type": "stream",
     "text": [
      "INFO\tTask(Task-2) nodify.node.140241930013200:node.py:get()- No need to evaluate\n"
     ]
    },
    {
     "name": "stderr",
     "output_type": "stream",
     "text": [
      "INFO\tTask(Task-2) nodify.node.140241929923152:node.py:get()- No need to evaluate\n"
     ]
    },
    {
     "name": "stderr",
     "output_type": "stream",
     "text": [
      "INFO\tTask(Task-2) nodify.node.140241931120528:node.py:get()- No need to evaluate\n"
     ]
    },
    {
     "name": "stderr",
     "output_type": "stream",
     "text": [
      "INFO\tTask(Task-2) nodify.node.140241929922768:node.py:get()- No need to evaluate\n"
     ]
    },
    {
     "name": "stderr",
     "output_type": "stream",
     "text": [
      "INFO\tTask(Task-2) nodify.node.140241929928672:node.py:get()- No need to evaluate\n"
     ]
    },
    {
     "name": "stderr",
     "output_type": "stream",
     "text": [
      "INFO\tTask(Task-2) nodify.node.140241931120528:node.py:get()- No need to evaluate\n"
     ]
    },
    {
     "name": "stderr",
     "output_type": "stream",
     "text": [
      "INFO\tTask(Task-2) nodify.node.140241930011280:node.py:get()- No need to evaluate\n"
     ]
    },
    {
     "name": "stderr",
     "output_type": "stream",
     "text": [
      "INFO\tTask(Task-2) nodify.node.140241930013872:node.py:get()- No need to evaluate\n"
     ]
    },
    {
     "name": "stderr",
     "output_type": "stream",
     "text": [
      "INFO\tTask(Task-2) nodify.node.140241929923536:node.py:get()- No need to evaluate\n"
     ]
    },
    {
     "name": "stderr",
     "output_type": "stream",
     "text": [
      "INFO\tTask(Task-2) nodify.node.140241931120528:node.py:get()- No need to evaluate\n"
     ]
    },
    {
     "name": "stderr",
     "output_type": "stream",
     "text": [
      "INFO\tTask(Task-2) nodify.node.140241929922768:node.py:get()- No need to evaluate\n"
     ]
    },
    {
     "name": "stderr",
     "output_type": "stream",
     "text": [
      "INFO\tTask(Task-2) nodify.node.140241929928672:node.py:get()- No need to evaluate\n"
     ]
    },
    {
     "name": "stderr",
     "output_type": "stream",
     "text": [
      "INFO\tTask(Task-2) nodify.node.140241931120528:node.py:get()- No need to evaluate\n"
     ]
    },
    {
     "name": "stderr",
     "output_type": "stream",
     "text": [
      "INFO\tTask(Task-2) nodify.node.140241930011280:node.py:get()- No need to evaluate\n"
     ]
    },
    {
     "name": "stderr",
     "output_type": "stream",
     "text": [
      "INFO\tTask(Task-2) nodify.node.140241930014208:node.py:get()- No need to evaluate\n"
     ]
    },
    {
     "name": "stderr",
     "output_type": "stream",
     "text": [
      "INFO\tTask(Task-2) nodify.node.140241931120528:node.py:get()- No need to evaluate\n"
     ]
    },
    {
     "name": "stderr",
     "output_type": "stream",
     "text": [
      "INFO\tTask(Task-2) nodify.node.140241929921088:node.py:get()- No need to evaluate\n"
     ]
    },
    {
     "name": "stderr",
     "output_type": "stream",
     "text": [
      "INFO\tTask(Task-2) nodify.node.140241929922576:node.py:get()- No need to evaluate\n"
     ]
    },
    {
     "name": "stderr",
     "output_type": "stream",
     "text": [
      "INFO\tTask(Task-2) nodify.node.140241929922528:node.py:get()- No need to evaluate\n"
     ]
    },
    {
     "name": "stderr",
     "output_type": "stream",
     "text": [
      "INFO\tTask(Task-2) nodify.node.140241930011184:node.py:get()- No need to evaluate\n"
     ]
    },
    {
     "name": "stderr",
     "output_type": "stream",
     "text": [
      "INFO\tTask(Task-2) nodify.node.140241931120528:node.py:get()- No need to evaluate\n"
     ]
    },
    {
     "name": "stderr",
     "output_type": "stream",
     "text": [
      "INFO\tTask(Task-2) nodify.node.140241929922768:node.py:get()- No need to evaluate\n"
     ]
    },
    {
     "name": "stderr",
     "output_type": "stream",
     "text": [
      "INFO\tTask(Task-2) nodify.node.140241929928672:node.py:get()- No need to evaluate\n"
     ]
    },
    {
     "name": "stderr",
     "output_type": "stream",
     "text": [
      "INFO\tTask(Task-2) nodify.node.140241931120528:node.py:get()- No need to evaluate\n"
     ]
    },
    {
     "name": "stderr",
     "output_type": "stream",
     "text": [
      "INFO\tTask(Task-2) nodify.node.140241930011280:node.py:get()- No need to evaluate\n"
     ]
    },
    {
     "name": "stderr",
     "output_type": "stream",
     "text": [
      "INFO\tTask(Task-2) nodify.node.140241929926656:node.py:get()- No need to evaluate\n"
     ]
    },
    {
     "name": "stderr",
     "output_type": "stream",
     "text": [
      "INFO\tTask(Task-2) nodify.node.140241929926272:node.py:get()- No need to evaluate\n"
     ]
    },
    {
     "name": "stderr",
     "output_type": "stream",
     "text": [
      "INFO\tTask(Task-2) nodify.node.140241930010992:node.py:get()- No need to evaluate\n"
     ]
    },
    {
     "name": "stderr",
     "output_type": "stream",
     "text": [
      "INFO\tTask(Task-2) nodify.node.140241930011424:node.py:get()- Evaluated because inputs changed.\n"
     ]
    },
    {
     "name": "stderr",
     "output_type": "stream",
     "text": [
      "INFO\tTask(Task-2) nodify.node.140241930014688:node.py:get()- Evaluated because inputs changed.\n"
     ]
    },
    {
     "name": "stderr",
     "output_type": "stream",
     "text": [
      "INFO\tTask(Task-2) nodify.node.140241930015168:node.py:get()- Evaluated because inputs changed.\n"
     ]
    },
    {
     "data": {
      "text/html": [
       "<div>            <script src=\"https://cdnjs.cloudflare.com/ajax/libs/mathjax/2.7.5/MathJax.js?config=TeX-AMS-MML_SVG\"></script><script type=\"text/javascript\">if (window.MathJax && window.MathJax.Hub && window.MathJax.Hub.Config) {window.MathJax.Hub.Config({SVG: {font: \"STIX-Web\"}});}</script>                <script type=\"text/javascript\">window.PlotlyConfig = {MathJaxConfig: 'local'};</script>\n",
       "        <script charset=\"utf-8\" src=\"https://cdn.plot.ly/plotly-3.1.1.min.js\" integrity=\"sha256-HUEFyfiTnZJxCxur99FjbKYTvKSzwDaD3/x5TqHpFu4=\" crossorigin=\"anonymous\"></script>                <div id=\"0ce00921-d43e-4880-9d02-c7a3c41c164b\" class=\"plotly-graph-div\" style=\"height:525px; width:100%;\"></div>            <script type=\"text/javascript\">                window.PLOTLYENV=window.PLOTLYENV || {};                                if (document.getElementById(\"0ce00921-d43e-4880-9d02-c7a3c41c164b\")) {                    Plotly.newPlot(                        \"0ce00921-d43e-4880-9d02-c7a3c41c164b\",                        [{\"coloraxis\":\"coloraxis\",\"meta\":{},\"opacity\":0,\"textfont\":{\"color\":\"black\"},\"z\":{\"dtype\":\"f8\",\"bdata\":\"umRqejV65z+EQ4+thvDTv60qyBY3K+I\\u002fAPiGu93tQL+AiWD+94uCvwAAAAAAAPh\\u002fAAAAAAAA+H8AAAAAAAD4fwAAAAAAAPh\\u002fXzKd1rKxsr8AAAAAAAD4fwAAAAAAAPh\\u002fAAAAAAAA+H8AAAAAAAD4fwAAAAAAAPh\\u002fhEOPrYbw078QHTs3bBXvv\\u002fhk+Rx8rMO\\u002fmIdGSAPP0L9gPmzhQkaYvwAAAAAAAPh\\u002fAAAAAAAA+H8AAAAAAAD4fwAAAAAAAPh\\u002fqLrNwoZJsL8AAAAAAAD4fwAAAAAAAPh\\u002fAAAAAAAA+H8AAAAAAAD4fwAAAAAAAPh\\u002frSrIFjcr4j\\u002f4ZPkcfKzDv8QUY\\u002fLMA9O\\u002f9l6GEbFj0j+k4gsHdETCPwAAAAAAAPh\\u002fAAAAAAAA+H8AAAAAAAD4fwAAAAAAAPh\\u002fVrF+gvoowD8AAAAAAAD4fwAAAAAAAPh\\u002fAAAAAAAA+H8AAAAAAAD4fwAAAAAAAPh\\u002fAPiGu93tQL+Yh0ZIA8\\u002fQv\\u002fZehhGxY9I\\u002f7LRAXY6B5r\\u002fIsZRDF2LUvwAAAAAAAPh\\u002fAAAAAAAA+H8AAAAAAAD4fwAAAAAAAPh\\u002fD2\\u002fHfRqyt78AAAAAAAD4fwAAAAAAAPh\\u002fAAAAAAAA+H8AAAAAAAD4fwAAAAAAAPh\\u002fgIlg\\u002fveLgr9gPmzhQkaYv6TiCwd0RMI\\u002fyLGUQxdi1L9w2qtQqOTnvwAAAAAAAPh\\u002fAAAAAAAA+H8AAAAAAAD4fwAAAAAAAPh\\u002fAAAAAAAA+H9fMp3WsrGyv6i6zcKGSbC\\u002fVrF+gvoowD8Pb8d9GrK3vwAAAAAAAPh\\u002f\",\"shape\":\"5, 15\"},\"zsmooth\":false,\"type\":\"heatmap\"},{\"hovertext\":[\"[ 0.         -0.37764796]\",\"[ 0.         -0.37764796]\",\"[ 0.         -0.37764796]\",\"[ 0.         -0.37764796]\",\"[ 0.         -0.37764796]\",\"[ 0.         -0.37764796]\",\"[ 0.         -0.37764796]\",\"[0.         0.16036995]\",\"[0.         0.16036995]\",\"[0.         0.16036995]\",\"[0.         0.16036995]\",\"[0.         0.16036995]\",\"[0.         0.16036995]\",\"[0.         0.16036995]\",\"[ 0.         -0.29225638]\",\"[ 0.         -0.29225638]\",\"[ 0.         -0.29225638]\",\"[ 0.         -0.29225638]\",\"[ 0.         -0.29225638]\",\"[ 0.         -0.29225638]\",\"[ 0.         -0.29225638]\",\"[0.         0.00026593]\",\"[0.         0.00026593]\",\"[0.         0.00026593]\",\"[0.         0.00026593]\",\"[0.         0.00026593]\",\"[0.         0.00026593]\",\"[0.         0.00026593]\",\"[0.        0.0046615]\",\"[0.        0.0046615]\",\"[0.        0.0046615]\",\"[0.        0.0046615]\",\"[0.        0.0046615]\",\"[0.        0.0046615]\",\"[0.        0.0046615]\",\"[ 0. nan]\",\"[ 0. nan]\",\"[ 0. nan]\",\"[ 0. nan]\",\"[ 0. nan]\",\"[ 0. nan]\",\"[ 0. nan]\",\"[ 0. nan]\",\"[ 0. nan]\",\"[ 0. nan]\",\"[ 0. nan]\",\"[ 0. nan]\",\"[ 0. nan]\",\"[ 0. nan]\",\"[ 0. nan]\",\"[ 0. nan]\",\"[ 0. nan]\",\"[ 0. nan]\",\"[ 0. nan]\",\"[ 0. nan]\",\"[ 0. nan]\",\"[ 0. nan]\",\"[ 0. nan]\",\"[ 0. nan]\",\"[ 0. nan]\",\"[ 0. nan]\",\"[ 0. nan]\",\"[ 0. nan]\",\"[0.         0.03758832]\",\"[0.         0.03758832]\",\"[0.         0.03758832]\",\"[0.         0.03758832]\",\"[0.         0.03758832]\",\"[0.         0.03758832]\",\"[0.         0.03758832]\",\"[ 0. nan]\",\"[ 0. nan]\",\"[ 0. nan]\",\"[ 0. nan]\",\"[ 0. nan]\",\"[ 0. nan]\",\"[ 0. nan]\",\"[ 0. nan]\",\"[ 0. nan]\",\"[ 0. nan]\",\"[ 0. nan]\",\"[ 0. nan]\",\"[ 0. nan]\",\"[ 0. nan]\",\"[ 0. nan]\",\"[ 0. nan]\",\"[ 0. nan]\",\"[ 0. nan]\",\"[ 0. nan]\",\"[ 0. nan]\",\"[ 0. nan]\",\"[ 0. nan]\",\"[ 0. nan]\",\"[ 0. nan]\",\"[ 0. nan]\",\"[ 0. nan]\",\"[ 0. nan]\",\"[ 0. nan]\",\"[ 0. nan]\",\"[ 0. nan]\",\"[ 0. nan]\",\"[ 0. nan]\",\"[ 0. nan]\",\"[ 0. nan]\",\"[ 0. nan]\",\"[0.         0.16036995]\",\"[0.         0.16036995]\",\"[0.         0.16036995]\",\"[0.         0.16036995]\",\"[0.         0.16036995]\",\"[0.         0.16036995]\",\"[0.         0.16036995]\",\"[0.  0.5]\",\"[0.  0.5]\",\"[0.  0.5]\",\"[0.  0.5]\",\"[0.  0.5]\",\"[0.  0.5]\",\"[0.  0.5]\",\"[0.         0.07911614]\",\"[0.         0.07911614]\",\"[0.         0.07911614]\",\"[0.         0.07911614]\",\"[0.         0.07911614]\",\"[0.         0.07911614]\",\"[0.         0.07911614]\",\"[0.         0.13518865]\",\"[0.         0.13518865]\",\"[0.         0.13518865]\",\"[0.         0.13518865]\",\"[0.         0.13518865]\",\"[0.         0.13518865]\",\"[0.         0.13518865]\",\"[0.         0.01220217]\",\"[0.         0.01220217]\",\"[0.         0.01220217]\",\"[0.         0.01220217]\",\"[0.         0.01220217]\",\"[0.         0.01220217]\",\"[0.         0.01220217]\",\"[ 0. nan]\",\"[ 0. nan]\",\"[ 0. nan]\",\"[ 0. nan]\",\"[ 0. nan]\",\"[ 0. nan]\",\"[ 0. nan]\",\"[ 0. nan]\",\"[ 0. nan]\",\"[ 0. nan]\",\"[ 0. nan]\",\"[ 0. nan]\",\"[ 0. nan]\",\"[ 0. nan]\",\"[ 0. nan]\",\"[ 0. nan]\",\"[ 0. nan]\",\"[ 0. nan]\",\"[ 0. nan]\",\"[ 0. nan]\",\"[ 0. nan]\",\"[ 0. nan]\",\"[ 0. nan]\",\"[ 0. nan]\",\"[ 0. nan]\",\"[ 0. nan]\",\"[ 0. nan]\",\"[ 0. nan]\",\"[0.         0.03274872]\",\"[0.         0.03274872]\",\"[0.         0.03274872]\",\"[0.         0.03274872]\",\"[0.         0.03274872]\",\"[0.         0.03274872]\",\"[0.         0.03274872]\",\"[ 0. nan]\",\"[ 0. nan]\",\"[ 0. nan]\",\"[ 0. nan]\",\"[ 0. nan]\",\"[ 0. nan]\",\"[ 0. nan]\",\"[ 0. nan]\",\"[ 0. nan]\",\"[ 0. nan]\",\"[ 0. nan]\",\"[ 0. nan]\",\"[ 0. nan]\",\"[ 0. nan]\",\"[ 0. nan]\",\"[ 0. nan]\",\"[ 0. nan]\",\"[ 0. nan]\",\"[ 0. nan]\",\"[ 0. nan]\",\"[ 0. nan]\",\"[ 0. nan]\",\"[ 0. nan]\",\"[ 0. nan]\",\"[ 0. nan]\",\"[ 0. nan]\",\"[ 0. nan]\",\"[ 0. nan]\",\"[ 0. nan]\",\"[ 0. nan]\",\"[ 0. nan]\",\"[ 0. nan]\",\"[ 0. nan]\",\"[ 0. nan]\",\"[ 0. nan]\",\"[ 0.         -0.29225638]\",\"[ 0.         -0.29225638]\",\"[ 0.         -0.29225638]\",\"[ 0.         -0.29225638]\",\"[ 0.         -0.29225638]\",\"[ 0.         -0.29225638]\",\"[ 0.         -0.29225638]\",\"[0.         0.07911614]\",\"[0.         0.07911614]\",\"[0.         0.07911614]\",\"[0.         0.07911614]\",\"[0.         0.07911614]\",\"[0.         0.07911614]\",\"[0.         0.07911614]\",\"[0.        0.1529327]\",\"[0.        0.1529327]\",\"[0.        0.1529327]\",\"[0.        0.1529327]\",\"[0.        0.1529327]\",\"[0.        0.1529327]\",\"[0.        0.1529327]\",\"[ 0.         -0.14790253]\",\"[ 0.         -0.14790253]\",\"[ 0.         -0.14790253]\",\"[ 0.         -0.14790253]\",\"[ 0.         -0.14790253]\",\"[ 0.         -0.14790253]\",\"[ 0.         -0.14790253]\",\"[ 0.         -0.07346055]\",\"[ 0.         -0.07346055]\",\"[ 0.         -0.07346055]\",\"[ 0.         -0.07346055]\",\"[ 0.         -0.07346055]\",\"[ 0.         -0.07346055]\",\"[ 0.         -0.07346055]\",\"[ 0. nan]\",\"[ 0. nan]\",\"[ 0. nan]\",\"[ 0. nan]\",\"[ 0. nan]\",\"[ 0. nan]\",\"[ 0. nan]\",\"[ 0. nan]\",\"[ 0. nan]\",\"[ 0. nan]\",\"[ 0. nan]\",\"[ 0. nan]\",\"[ 0. nan]\",\"[ 0. nan]\",\"[ 0. nan]\",\"[ 0. nan]\",\"[ 0. nan]\",\"[ 0. nan]\",\"[ 0. nan]\",\"[ 0. nan]\",\"[ 0. nan]\",\"[ 0. nan]\",\"[ 0. nan]\",\"[ 0. nan]\",\"[ 0. nan]\",\"[ 0. nan]\",\"[ 0. nan]\",\"[ 0. nan]\",\"[ 0.         -0.06498616]\",\"[ 0.         -0.06498616]\",\"[ 0.         -0.06498616]\",\"[ 0.         -0.06498616]\",\"[ 0.         -0.06498616]\",\"[ 0.         -0.06498616]\",\"[ 0.         -0.06498616]\",\"[ 0. nan]\",\"[ 0. nan]\",\"[ 0. nan]\",\"[ 0. nan]\",\"[ 0. nan]\",\"[ 0. nan]\",\"[ 0. nan]\",\"[ 0. nan]\",\"[ 0. nan]\",\"[ 0. nan]\",\"[ 0. nan]\",\"[ 0. nan]\",\"[ 0. nan]\",\"[ 0. nan]\",\"[ 0. nan]\",\"[ 0. nan]\",\"[ 0. nan]\",\"[ 0. nan]\",\"[ 0. nan]\",\"[ 0. nan]\",\"[ 0. nan]\",\"[ 0. nan]\",\"[ 0. nan]\",\"[ 0. nan]\",\"[ 0. nan]\",\"[ 0. nan]\",\"[ 0. nan]\",\"[ 0. nan]\",\"[ 0. nan]\",\"[ 0. nan]\",\"[ 0. nan]\",\"[ 0. nan]\",\"[ 0. nan]\",\"[ 0. nan]\",\"[ 0. nan]\",\"[0.         0.00026593]\",\"[0.         0.00026593]\",\"[0.         0.00026593]\",\"[0.         0.00026593]\",\"[0.         0.00026593]\",\"[0.         0.00026593]\",\"[0.         0.00026593]\",\"[0.         0.13518865]\",\"[0.         0.13518865]\",\"[0.         0.13518865]\",\"[0.         0.13518865]\",\"[0.         0.13518865]\",\"[0.         0.13518865]\",\"[0.         0.13518865]\",\"[ 0.         -0.14790253]\",\"[ 0.         -0.14790253]\",\"[ 0.         -0.14790253]\",\"[ 0.         -0.14790253]\",\"[ 0.         -0.14790253]\",\"[ 0.         -0.14790253]\",\"[ 0.         -0.14790253]\",\"[0.         0.36202401]\",\"[0.         0.36202401]\",\"[0.         0.36202401]\",\"[0.         0.36202401]\",\"[0.         0.36202401]\",\"[0.         0.36202401]\",\"[0.         0.36202401]\",\"[0.         0.16393784]\",\"[0.         0.16393784]\",\"[0.         0.16393784]\",\"[0.         0.16393784]\",\"[0.         0.16393784]\",\"[0.         0.16393784]\",\"[0.         0.16393784]\",\"[ 0. nan]\",\"[ 0. nan]\",\"[ 0. nan]\",\"[ 0. nan]\",\"[ 0. nan]\",\"[ 0. nan]\",\"[ 0. nan]\",\"[ 0. nan]\",\"[ 0. nan]\",\"[ 0. nan]\",\"[ 0. nan]\",\"[ 0. nan]\",\"[ 0. nan]\",\"[ 0. nan]\",\"[ 0. nan]\",\"[ 0. nan]\",\"[ 0. nan]\",\"[ 0. nan]\",\"[ 0. nan]\",\"[ 0. nan]\",\"[ 0. nan]\",\"[ 0. nan]\",\"[ 0. nan]\",\"[ 0. nan]\",\"[ 0. nan]\",\"[ 0. nan]\",\"[ 0. nan]\",\"[ 0. nan]\",\"[0.         0.04764501]\",\"[0.         0.04764501]\",\"[0.         0.04764501]\",\"[0.         0.04764501]\",\"[0.         0.04764501]\",\"[0.         0.04764501]\",\"[0.         0.04764501]\",\"[ 0. nan]\",\"[ 0. nan]\",\"[ 0. nan]\",\"[ 0. nan]\",\"[ 0. nan]\",\"[ 0. nan]\",\"[ 0. nan]\",\"[ 0. nan]\",\"[ 0. nan]\",\"[ 0. nan]\",\"[ 0. nan]\",\"[ 0. nan]\",\"[ 0. nan]\",\"[ 0. nan]\",\"[ 0. nan]\",\"[ 0. nan]\",\"[ 0. nan]\",\"[ 0. nan]\",\"[ 0. nan]\",\"[ 0. nan]\",\"[ 0. nan]\",\"[ 0. nan]\",\"[ 0. nan]\",\"[ 0. nan]\",\"[ 0. nan]\",\"[ 0. nan]\",\"[ 0. nan]\",\"[ 0. nan]\",\"[ 0. nan]\",\"[ 0. nan]\",\"[ 0. nan]\",\"[ 0. nan]\",\"[ 0. nan]\",\"[ 0. nan]\",\"[ 0. nan]\",\"[0.        0.0046615]\",\"[0.        0.0046615]\",\"[0.        0.0046615]\",\"[0.        0.0046615]\",\"[0.        0.0046615]\",\"[0.        0.0046615]\",\"[0.        0.0046615]\",\"[0.         0.01220217]\",\"[0.         0.01220217]\",\"[0.         0.01220217]\",\"[0.         0.01220217]\",\"[0.         0.01220217]\",\"[0.         0.01220217]\",\"[0.         0.01220217]\",\"[ 0.         -0.07346055]\",\"[ 0.         -0.07346055]\",\"[ 0.         -0.07346055]\",\"[ 0.         -0.07346055]\",\"[ 0.         -0.07346055]\",\"[ 0.         -0.07346055]\",\"[ 0.         -0.07346055]\",\"[0.         0.16393784]\",\"[0.         0.16393784]\",\"[0.         0.16393784]\",\"[0.         0.16393784]\",\"[0.         0.16393784]\",\"[0.         0.16393784]\",\"[0.         0.16393784]\",\"[0.         0.38433659]\",\"[0.         0.38433659]\",\"[0.         0.38433659]\",\"[0.         0.38433659]\",\"[0.         0.38433659]\",\"[0.         0.38433659]\",\"[0.         0.38433659]\",\"[ 0. nan]\",\"[ 0. nan]\",\"[ 0. nan]\",\"[ 0. nan]\",\"[ 0. nan]\",\"[ 0. nan]\",\"[ 0. nan]\",\"[ 0. nan]\",\"[ 0. nan]\",\"[ 0. nan]\",\"[ 0. nan]\",\"[ 0. nan]\",\"[ 0. nan]\",\"[ 0. nan]\",\"[ 0. nan]\",\"[ 0. nan]\",\"[ 0. nan]\",\"[ 0. nan]\",\"[ 0. nan]\",\"[ 0. nan]\",\"[ 0. nan]\",\"[ 0. nan]\",\"[ 0. nan]\",\"[ 0. nan]\",\"[ 0. nan]\",\"[ 0. nan]\",\"[ 0. nan]\",\"[ 0. nan]\",\"[ 0. nan]\",\"[ 0. nan]\",\"[ 0. nan]\",\"[ 0. nan]\",\"[ 0. nan]\",\"[ 0. nan]\",\"[ 0. nan]\",\"[0.         0.03758832]\",\"[0.         0.03758832]\",\"[0.         0.03758832]\",\"[0.         0.03758832]\",\"[0.         0.03758832]\",\"[0.         0.03758832]\",\"[0.         0.03758832]\",\"[0.         0.03274872]\",\"[0.         0.03274872]\",\"[0.         0.03274872]\",\"[0.         0.03274872]\",\"[0.         0.03274872]\",\"[0.         0.03274872]\",\"[0.         0.03274872]\",\"[ 0.         -0.06498616]\",\"[ 0.         -0.06498616]\",\"[ 0.         -0.06498616]\",\"[ 0.         -0.06498616]\",\"[ 0.         -0.06498616]\",\"[ 0.         -0.06498616]\",\"[ 0.         -0.06498616]\",\"[0.         0.04764501]\",\"[0.         0.04764501]\",\"[0.         0.04764501]\",\"[0.         0.04764501]\",\"[0.         0.04764501]\",\"[0.         0.04764501]\",\"[0.         0.04764501]\",\"[ 0. nan]\",\"[ 0. nan]\",\"[ 0. nan]\",\"[ 0. nan]\",\"[ 0. nan]\",\"[ 0. nan]\",\"[ 0. nan]\"],\"line\":{\"color\":\"blue\"},\"meta\":{},\"mode\":\"lines\",\"name\":\"Hamiltonian value\",\"x\":{\"dtype\":\"f8\",\"bdata\":\"AAAAAAAAAAAAAAAAAAAAAAAAAAAAAPh\\u002fryo3P99zmj8AAAAAAAAAAK0qNz\\u002ffc5q\\u002fAAAAAAAA+H8AAAAAAADwPwAAAAAAAPA\\u002fAAAAAAAA+H+aGWlYIqbvPwAAAAAAAPA\\u002fM3PL0+4s8D8AAAAAAAD4fwAAAAAAAABAAAAAAAAAAEAAAAAAAAD4f6LSmk\\u002fxKABAAAAAAAAAAEC8WspgHa7\\u002fPwAAAAAAAPh\\u002fAAAAAAAACEAAAAAAAAAIQAAAAAAAAPh\\u002fWJB0dvb\\u002fB0AAAAAAAAAIQKhvi4kJAAhAAAAAAAAA+H8AAAAAAAAQQAAAAAAAABBAAAAAAAAA+H+4\\u002fKLSWP8PQAAAAAAAABBApIGullMAEEAAAAAAAAD4fwAAAAAAABRAAAAAAAAAFEAAAAAAAAD4fwAAAAAAAPj\\u002fAAAAAAAAFEAAAAAAAAD4\\u002fwAAAAAAAPh\\u002fAAAAAAAAGEAAAAAAAAAYQAAAAAAAAPh\\u002fAAAAAAAA+P8AAAAAAAAYQAAAAAAAAPj\\u002fAAAAAAAA+H8AAAAAAAAcQAAAAAAAABxAAAAAAAAA+H8AAAAAAAD4\\u002fwAAAAAAABxAAAAAAAAA+P8AAAAAAAD4fwAAAAAAACBAAAAAAAAAIEAAAAAAAAD4fwAAAAAAAPj\\u002fAAAAAAAAIEAAAAAAAAD4\\u002fwAAAAAAAPh\\u002fAAAAAAAAIkAAAAAAAAAiQAAAAAAAAPh\\u002fs68X\\u002fa7+IUAAAAAAAAAiQE1Q6AJRASJAAAAAAAAA+H8AAAAAAAAkQAAAAAAAACRAAAAAAAAA+H8AAAAAAAD4\\u002fwAAAAAAACRAAAAAAAAA+P8AAAAAAAD4fwAAAAAAACZAAAAAAAAAJkAAAAAAAAD4fwAAAAAAAPj\\u002fAAAAAAAAJkAAAAAAAAD4\\u002fwAAAAAAAPh\\u002fAAAAAAAAKEAAAAAAAAAoQAAAAAAAAPh\\u002fAAAAAAAA+P8AAAAAAAAoQAAAAAAAAPj\\u002fAAAAAAAA+H8AAAAAAAAqQAAAAAAAACpAAAAAAAAA+H8AAAAAAAD4\\u002fwAAAAAAACpAAAAAAAAA+P8AAAAAAAD4fwAAAAAAACxAAAAAAAAALEAAAAAAAAD4fwAAAAAAAPj\\u002fAAAAAAAALEAAAAAAAAD4\\u002fwAAAAAAAPh\\u002fAAAAAAAAAAAAAAAAAAAAAAAAAAAAAPh\\u002faJm55Wl3hr8AAAAAAAAAAGeZueVpd4Y\\u002fAAAAAAAA+H8AAAAAAADwPwAAAAAAAPA\\u002fAAAAAAAA+H9nf18t0efuPwAAAAAAAPA\\u002fTEBQaReM8D8AAAAAAAD4fwAAAAAAAABAAAAAAAAAAEAAAAAAAAD4f21kF0DV6f8\\u002fAAAAAAAAAEDKTfRfFQsAQAAAAAAAAPh\\u002fAAAAAAAACEAAAAAAAAAIQAAAAAAAAPh\\u002fC9iIrA\\u002ftB0AAAAAAAAAIQPUnd1PwEghAAAAAAAAA+H8AAAAAAAAQQAAAAAAAABBAAAAAAAAA+H\\u002fkWXZjSv4PQAAAAAAAABBADtNEztoAEEAAAAAAAAD4fwAAAAAAABRAAAAAAAAAFEAAAAAAAAD4fwAAAAAAAPj\\u002fAAAAAAAAFEAAAAAAAAD4\\u002fwAAAAAAAPh\\u002fAAAAAAAAGEAAAAAAAAAYQAAAAAAAAPh\\u002fAAAAAAAA+P8AAAAAAAAYQAAAAAAAAPj\\u002fAAAAAAAA+H8AAAAAAAAcQAAAAAAAABxAAAAAAAAA+H8AAAAAAAD4\\u002fwAAAAAAABxAAAAAAAAA+P8AAAAAAAD4fwAAAAAAACBAAAAAAAAAIEAAAAAAAAD4fwAAAAAAAPj\\u002fAAAAAAAAIEAAAAAAAAD4\\u002fwAAAAAAAPh\\u002fAAAAAAAAIkAAAAAAAAAiQAAAAAAAAPh\\u002fBN46Ydr+IUAAAAAAAAAiQPwhxZ4lASJAAAAAAAAA+H8AAAAAAAAkQAAAAAAAACRAAAAAAAAA+H8AAAAAAAD4\\u002fwAAAAAAACRAAAAAAAAA+P8AAAAAAAD4fwAAAAAAACZAAAAAAAAAJkAAAAAAAAD4fwAAAAAAAPj\\u002fAAAAAAAAJkAAAAAAAAD4\\u002fwAAAAAAAPh\\u002fAAAAAAAAKEAAAAAAAAAoQAAAAAAAAPh\\u002fAAAAAAAA+P8AAAAAAAAoQAAAAAAAAPj\\u002fAAAAAAAA+H8AAAAAAAAqQAAAAAAAACpAAAAAAAAA+H8AAAAAAAD4\\u002fwAAAAAAACpAAAAAAAAA+P8AAAAAAAD4fwAAAAAAACxAAAAAAAAALEAAAAAAAAD4fwAAAAAAAPj\\u002fAAAAAAAALEAAAAAAAAD4\\u002fwAAAAAAAPh\\u002fAAAAAAAAAAAAAAAAAAAAAAAAAAAAAPh\\u002f7VBpzad4lD8AAAAAAAAAAOxQac2neJS\\u002fAAAAAAAA+H8AAAAAAADwPwAAAAAAAPA\\u002fAAAAAAAA+H\\u002fZyC6AqtPvPwAAAAAAAPA\\u002fk5vovyoW8D8AAAAAAAD4fwAAAAAAAABAAAAAAAAAAEAAAAAAAAD4f6Z6kZ8m1f8\\u002fAAAAAAAAAECtQjewbBUAQAAAAAAAAPh\\u002fAAAAAAAACEAAAAAAAAAIQAAAAAAAAPh\\u002fRhwESrgUCEAAAAAAAAAIQLrj+7VH6wdAAAAAAAAA+H8AAAAAAAAQQAAAAAAAABBAAAAAAAAA+H9VjeFFJQUQQAAAAAAAABBAVuU8dLX1D0AAAAAAAAD4fwAAAAAAABRAAAAAAAAAFEAAAAAAAAD4fwAAAAAAAPj\\u002fAAAAAAAAFEAAAAAAAAD4\\u002fwAAAAAAAPh\\u002fAAAAAAAAGEAAAAAAAAAYQAAAAAAAAPh\\u002fAAAAAAAA+P8AAAAAAAAYQAAAAAAAAPj\\u002fAAAAAAAA+H8AAAAAAAAcQAAAAAAAABxAAAAAAAAA+H8AAAAAAAD4\\u002fwAAAAAAABxAAAAAAAAA+P8AAAAAAAD4fwAAAAAAACBAAAAAAAAAIEAAAAAAAAD4fwAAAAAAAPj\\u002fAAAAAAAAIEAAAAAAAAD4\\u002fwAAAAAAAPh\\u002fAAAAAAAAIkAAAAAAAAAiQAAAAAAAAPh\\u002faWsEqEYCIkAAAAAAAAAiQJeU+1e5\\u002fSFAAAAAAAAA+H8AAAAAAAAkQAAAAAAAACRAAAAAAAAA+H8AAAAAAAD4\\u002fwAAAAAAACRAAAAAAAAA+P8AAAAAAAD4fwAAAAAAACZAAAAAAAAAJkAAAAAAAAD4fwAAAAAAAPj\\u002fAAAAAAAAJkAAAAAAAAD4\\u002fwAAAAAAAPh\\u002fAAAAAAAAKEAAAAAAAAAoQAAAAAAAAPh\\u002fAAAAAAAA+P8AAAAAAAAoQAAAAAAAAPj\\u002fAAAAAAAA+H8AAAAAAAAqQAAAAAAAACpAAAAAAAAA+H8AAAAAAAD4\\u002fwAAAAAAACpAAAAAAAAA+P8AAAAAAAD4fwAAAAAAACxAAAAAAAAALEAAAAAAAAD4fwAAAAAAAPj\\u002fAAAAAAAALEAAAAAAAAD4\\u002fwAAAAAAAPh\\u002fAAAAAAAAAAAAAAAAAAAAAAAAAAAAAPh\\u002fFxBP3xYT874AAAAAAAAAABYQT98WE\\u002fM+AAAAAAAA+H8AAAAAAADwPwAAAAAAAPA\\u002fAAAAAAAA+H8qYCOyPrTvPwAAAAAAAPA\\u002f60\\u002fupuAl8D8AAAAAAAD4fwAAAAAAAABAAAAAAAAAAEAAAAAAAAD4f0YcBEq4FABAAAAAAAAAAEB0x\\u002fdrj9b\\u002fPwAAAAAAAPh\\u002fAAAAAAAACEAAAAAAAAAIQAAAAAAAAPh\\u002fjceIlUjNB0AAAAAAAAAIQHM4d2q3MghAAAAAAAAA+H8AAAAAAAAQQAAAAAAAABBAAAAAAAAA+H+D+jKhCOkPQAAAAAAAABBAvoJmr3sLEEAAAAAAAAD4fwAAAAAAABRAAAAAAAAAFEAAAAAAAAD4fwAAAAAAAPj\\u002fAAAAAAAAFEAAAAAAAAD4\\u002fwAAAAAAAPh\\u002fAAAAAAAAGEAAAAAAAAAYQAAAAAAAAPh\\u002fAAAAAAAA+P8AAAAAAAAYQAAAAAAAAPj\\u002fAAAAAAAA+H8AAAAAAAAcQAAAAAAAABxAAAAAAAAA+H8AAAAAAAD4\\u002fwAAAAAAABxAAAAAAAAA+P8AAAAAAAD4fwAAAAAAACBAAAAAAAAAIEAAAAAAAAD4fwAAAAAAAPj\\u002fAAAAAAAAIEAAAAAAAAD4\\u002fwAAAAAAAPh\\u002fAAAAAAAAIkAAAAAAAAAiQAAAAAAAAPh\\u002ftSRm0lT+IUAAAAAAAAAiQEvbmS2rASJAAAAAAAAA+H8AAAAAAAAkQAAAAAAAACRAAAAAAAAA+H8AAAAAAAD4\\u002fwAAAAAAACRAAAAAAAAA+P8AAAAAAAD4fwAAAAAAACZAAAAAAAAAJkAAAAAAAAD4fwAAAAAAAPj\\u002fAAAAAAAAJkAAAAAAAAD4\\u002fwAAAAAAAPh\\u002fAAAAAAAAKEAAAAAAAAAoQAAAAAAAAPh\\u002fAAAAAAAA+P8AAAAAAAAoQAAAAAAAAPj\\u002fAAAAAAAA+H8AAAAAAAAqQAAAAAAAACpAAAAAAAAA+H8AAAAAAAD4\\u002fwAAAAAAACpAAAAAAAAA+P8AAAAAAAD4fwAAAAAAACxAAAAAAAAALEAAAAAAAAD4fwAAAAAAAPj\\u002fAAAAAAAALEAAAAAAAAD4\\u002fwAAAAAAAPh\\u002fAAAAAAAAAAAAAAAAAAAAAAAAAAAAAPh\\u002fYPJooKvlNL8AAAAAAAAAAF\\u002fyaKCr5TQ\\u002fAAAAAAAA+H8AAAAAAADwPwAAAAAAAPA\\u002fAAAAAAAA+H+RZ9mNKfnvPwAAAAAAAPA\\u002fN0wTOWsD8D8AAAAAAAD4fwAAAAAAAABAAAAAAAAAAEAAAAAAAAD4f6oaw4tKCgBAAAAAAAAAAECsynnoauv\\u002fPwAAAAAAAPh\\u002fAAAAAAAACEAAAAAAAAAIQAAAAAAAAPh\\u002fg\\u002foyoQjpB0AAAAAAAAAIQH0FzV73FghAAAAAAAAA+H8AAAAAAAAQQAAAAAAAABBAAAAAAAAA+H8Hb+5gKMoPQAAAAAAAABBAfciIz+saEEAAAAAAAAD4fwAAAAAAABRAAAAAAAAAFEAAAAAAAAD4fwAAAAAAAPj\\u002fAAAAAAAAFEAAAAAAAAD4\\u002fwAAAAAAAPh\\u002fAAAAAAAAGEAAAAAAAAAYQAAAAAAAAPh\\u002fAAAAAAAA+P8AAAAAAAAYQAAAAAAAAPj\\u002fAAAAAAAA+H8AAAAAAAAcQAAAAAAAABxAAAAAAAAA+H8AAAAAAAD4\\u002fwAAAAAAABxAAAAAAAAA+P8AAAAAAAD4fwAAAAAAACBAAAAAAAAAIEAAAAAAAAD4fwAAAAAAAPj\\u002fAAAAAAAAIEAAAAAAAAD4\\u002fwAAAAAAAPh\\u002fAAAAAAAAIkAAAAAAAAAiQAAAAAAAAPh\\u002fAAAAAAAA+P8AAAAAAAAiQAAAAAAAAPj\\u002fAAAAAAAA+H8AAAAAAAAkQAAAAAAAACRAAAAAAAAA+H+zrxf9rv4jQAAAAAAAACRATVDoAlEBJEAAAAAAAAD4fwAAAAAAACZAAAAAAAAAJkAAAAAAAAD4fwTeOmHa\\u002fiVAAAAAAAAAJkD8IcWeJQEmQAAAAAAAAPh\\u002fAAAAAAAAKEAAAAAAAAAoQAAAAAAAAPh\\u002faWsEqEYCKEAAAAAAAAAoQJeU+1e5\\u002fSdAAAAAAAAA+H8AAAAAAAAqQAAAAAAAACpAAAAAAAAA+H+1JGbSVP4pQAAAAAAAACpAS9uZLasBKkAAAAAAAAD4fwAAAAAAACxAAAAAAAAALEAAAAAAAAD4fwAAAAAAAPj\\u002fAAAAAAAALEAAAAAAAAD4\\u002fwAAAAAAAPh\\u002f\"},\"y\":{\"dtype\":\"f8\",\"bdata\":\"AAAAAAAAAAAAOIFYYivYvwAAAAAAAPh\\u002fenjwS4mg078AOIFYYivYv3p48EuJoNO\\u002fAAAAAAAA+H8AAAAAAAAAAIANiK8Ah8Q\\u002fAAAAAAAA+H9gm3ieYqvAP4ANiK8Ah8Q\\u002fYJt4nmKrwD8AAAAAAAD4fwAAAAAAAAAAeVusH1S00r8AAAAAAAD4f3CvxprVYM6\\u002feVusH1S00r9wr8aa1WDOvwAAAAAAAPh\\u002fAAAAAAAAAACMElvZn20xPwAAAAAAAPh\\u002fjFPkAjpOLD+MElvZn20xP4xT5AI6Tiw\\u002fAAAAAAAA+H8AAAAAAAAAAENBNjHvF3M\\u002fAAAAAAAA+H9cOx06mwJvP0NBNjHvF3M\\u002fXDsdOpsCbz8AAAAAAAD4fwAAAAAAAAAAAAAAAAAA+P8AAAAAAAD4fwAAAAAAAPj\\u002fAAAAAAAA+P8AAAAAAAD4\\u002fwAAAAAAAPh\\u002fAAAAAAAAAAAAAAAAAAD4\\u002fwAAAAAAAPh\\u002fAAAAAAAA+P8AAAAAAAD4\\u002fwAAAAAAAPj\\u002fAAAAAAAA+H8AAAAAAAAAAAAAAAAAAPj\\u002fAAAAAAAA+H8AAAAAAAD4\\u002fwAAAAAAAPj\\u002fAAAAAAAA+P8AAAAAAAD4fwAAAAAAAAAAAAAAAAAA+P8AAAAAAAD4fwAAAAAAAPj\\u002fAAAAAAAA+P8AAAAAAAD4\\u002fwAAAAAAAPh\\u002fAAAAAAAAAACpbz\\u002fFxj6jPwAAAAAAAPh\\u002fP8oY0rBBnz+pbz\\u002fFxj6jPz\\u002fKGNKwQZ8\\u002fAAAAAAAA+H8AAAAAAAAAAAAAAAAAAPj\\u002fAAAAAAAA+H8AAAAAAAD4\\u002fwAAAAAAAPj\\u002fAAAAAAAA+P8AAAAAAAD4fwAAAAAAAAAAAAAAAAAA+P8AAAAAAAD4fwAAAAAAAPj\\u002fAAAAAAAA+P8AAAAAAAD4\\u002fwAAAAAAAPh\\u002fAAAAAAAAAAAAAAAAAAD4\\u002fwAAAAAAAPh\\u002fAAAAAAAA+P8AAAAAAAD4\\u002fwAAAAAAAPj\\u002fAAAAAAAA+H8AAAAAAAAAAAAAAAAAAPj\\u002fAAAAAAAA+H8AAAAAAAD4\\u002fwAAAAAAAPj\\u002fAAAAAAAA+P8AAAAAAAD4fwAAAAAAAAAAAAAAAAAA+P8AAAAAAAD4fwAAAAAAAPj\\u002fAAAAAAAA+P8AAAAAAAD4\\u002fwAAAAAAAPh\\u002fAAAAAAAA8D+wAfEV4JDyPwAAAAAAAPh\\u002fbBPPU2wV8j+wAfEV4JDyP2wTz1NsFfI\\u002fAAAAAAAA+H8AAAAAAADwPwAAAAAAAPg\\u002fAAAAAAAA+H\\u002fysEgWGn\\u002f2PwAAAAAAAPg\\u002f8rBIFhp\\u002f9j8AAAAAAAD4fwAAAAAAAPA\\u002f46Q1Sg9E8T8AAAAAAAD4fwerGgsoB\\u002fE\\u002f46Q1Sg9E8T8HqxoLKAfxPwAAAAAAAPh\\u002fAAAAAAAA8D+1peuRuynyPwAAAAAAAPh\\u002frT7FPKrB8T+1peuRuynyP60+xTyqwfE\\u002fAAAAAAAA+H8AAAAAAADwP2N\\u002fUOf6MfA\\u002fAAAAAAAA+H9WJY8\\u002flijwP2N\\u002fUOf6MfA\\u002fViWPP5Yo8D8AAAAAAAD4fwAAAAAAAPA\\u002fAAAAAAAA+P8AAAAAAAD4fwAAAAAAAPj\\u002fAAAAAAAA+P8AAAAAAAD4\\u002fwAAAAAAAPh\\u002fAAAAAAAA8D8AAAAAAAD4\\u002fwAAAAAAAPh\\u002fAAAAAAAA+P8AAAAAAAD4\\u002fwAAAAAAAPj\\u002fAAAAAAAA+H8AAAAAAADwPwAAAAAAAPj\\u002fAAAAAAAA+H8AAAAAAAD4\\u002fwAAAAAAAPj\\u002fAAAAAAAA+P8AAAAAAAD4fwAAAAAAAPA\\u002fAAAAAAAA+P8AAAAAAAD4fwAAAAAAAPj\\u002fAAAAAAAA+P8AAAAAAAD4\\u002fwAAAAAAAPh\\u002fAAAAAAAA8D\\u002f2GVKFI4bwPwAAAAAAAPh\\u002fpSBLze1s8D\\u002f2GVKFI4bwP6UgS83tbPA\\u002fAAAAAAAA+H8AAAAAAADwPwAAAAAAAPj\\u002fAAAAAAAA+H8AAAAAAAD4\\u002fwAAAAAAAPj\\u002fAAAAAAAA+P8AAAAAAAD4fwAAAAAAAPA\\u002fAAAAAAAA+P8AAAAAAAD4fwAAAAAAAPj\\u002fAAAAAAAA+P8AAAAAAAD4\\u002fwAAAAAAAPh\\u002fAAAAAAAA8D8AAAAAAAD4\\u002fwAAAAAAAPh\\u002fAAAAAAAA+P8AAAAAAAD4\\u002fwAAAAAAAPj\\u002fAAAAAAAA+H8AAAAAAADwPwAAAAAAAPj\\u002fAAAAAAAA+H8AAAAAAAD4\\u002fwAAAAAAAPj\\u002fAAAAAAAA+P8AAAAAAAD4fwAAAAAAAPA\\u002fAAAAAAAA+P8AAAAAAAD4fwAAAAAAAPj\\u002fAAAAAAAA+P8AAAAAAAD4\\u002fwAAAAAAAPh\\u002fAAAAAAAAAEAi6RT46lL7PwAAAAAAAPh\\u002fEiqnTOUz\\u002fD8i6RT46lL7PxIqp0zlM\\u002fw\\u002fAAAAAAAA+H8AAAAAAAAAQHLSGqUHogBAAAAAAAAA+H+EVY0FlIMAQHLSGqUHogBAhFWNBZSDAEAAAAAAAAD4fwAAAAAAAABAowuRxzQ5AUAAAAAAAAD4f\\u002fre4LhX\\u002fgBAowuRxzQ5AUD63uC4V\\u002f4AQAAAAAAAAPh\\u002fAAAAAAAAAEB1iw72MKL9PwAAAAAAAPh\\u002fM7VUygsU\\u002fj91iw72MKL9PzO1VMoLFP4\\u002fAAAAAAAA+H8AAAAAAAAAQHo5mwcb0\\u002f4\\u002fAAAAAAAA+H9N4J69pwv\\u002fP3o5mwcb0\\u002f4\\u002fTeCevacL\\u002fz8AAAAAAAD4fwAAAAAAAABAAAAAAAAA+P8AAAAAAAD4fwAAAAAAAPj\\u002fAAAAAAAA+P8AAAAAAAD4\\u002fwAAAAAAAPh\\u002fAAAAAAAAAEAAAAAAAAD4\\u002fwAAAAAAAPh\\u002fAAAAAAAA+P8AAAAAAAD4\\u002fwAAAAAAAPj\\u002fAAAAAAAA+H8AAAAAAAAAQAAAAAAAAPj\\u002fAAAAAAAA+H8AAAAAAAD4\\u002fwAAAAAAAPj\\u002fAAAAAAAA+P8AAAAAAAD4fwAAAAAAAABAAAAAAAAA+P8AAAAAAAD4fwAAAAAAAPj\\u002fAAAAAAAA+P8AAAAAAAD4\\u002fwAAAAAAAPh\\u002fAAAAAAAAAEB6ZmgT0fX+PwAAAAAAAPh\\u002fmXGkwdcn\\u002fz96ZmgT0fX+P5lxpMHXJ\\u002f8\\u002fAAAAAAAA+H8AAAAAAAAAQAAAAAAAAPj\\u002fAAAAAAAA+H8AAAAAAAD4\\u002fwAAAAAAAPj\\u002fAAAAAAAA+P8AAAAAAAD4fwAAAAAAAABAAAAAAAAA+P8AAAAAAAD4fwAAAAAAAPj\\u002fAAAAAAAA+P8AAAAAAAD4\\u002fwAAAAAAAPh\\u002fAAAAAAAAAEAAAAAAAAD4\\u002fwAAAAAAAPh\\u002fAAAAAAAA+P8AAAAAAAD4\\u002fwAAAAAAAPj\\u002fAAAAAAAA+H8AAAAAAAAAQAAAAAAAAPj\\u002fAAAAAAAA+H8AAAAAAAD4\\u002fwAAAAAAAPj\\u002fAAAAAAAA+P8AAAAAAAD4fwAAAAAAAABAAAAAAAAA+P8AAAAAAAD4fwAAAAAAAPj\\u002fAAAAAAAA+P8AAAAAAAD4\\u002fwAAAAAAAPh\\u002fAAAAAAAACEDZyv5siwAIQAAAAAAAAPh\\u002fkgvoOHEACEDZyv5siwAIQJIL6DhxAAhAAAAAAAAA+H8AAAAAAAAIQNvS9cjdFAlAAAAAAAAA+H9Xn2Ie1eAIQNvS9cjdFAlAV59iHtXgCEAAAAAAAAD4fwAAAAAAAAhAu0UHexjRBkAAAAAAAAD4f5paKuUFCgdAu0UHexjRBkCaWirlBQoHQAAAAAAAAPh\\u002fAAAAAAAACEDU0ajXbOUKQAAAAAAAAPh\\u002fei5RMxVaCkDU0ajXbOUKQHouUTMVWgpAAAAAAAAA+H8AAAAAAAAIQIka3aS+TwlAAAAAAAAA+H+22PE0pRAJQIka3aS+TwlAttjxNKUQCUAAAAAAAAD4fwAAAAAAAAhAAAAAAAAA+P8AAAAAAAD4fwAAAAAAAPj\\u002fAAAAAAAA+P8AAAAAAAD4\\u002fwAAAAAAAPh\\u002fAAAAAAAACEAAAAAAAAD4\\u002fwAAAAAAAPh\\u002fAAAAAAAA+P8AAAAAAAD4\\u002fwAAAAAAAPj\\u002fAAAAAAAA+H8AAAAAAAAIQAAAAAAAAPj\\u002fAAAAAAAA+H8AAAAAAAD4\\u002fwAAAAAAAPj\\u002fAAAAAAAA+P8AAAAAAAD4fwAAAAAAAAhAAAAAAAAA+P8AAAAAAAD4fwAAAAAAAPj\\u002fAAAAAAAA+P8AAAAAAAD4\\u002fwAAAAAAAPh\\u002fAAAAAAAACEDTNbO0k2EIQAAAAAAAAPh\\u002fbN2KDj1PCEDTNbO0k2EIQGzdig49TwhAAAAAAAAA+H8AAAAAAAAIQAAAAAAAAPj\\u002fAAAAAAAA+H8AAAAAAAD4\\u002fwAAAAAAAPj\\u002fAAAAAAAA+P8AAAAAAAD4fwAAAAAAAAhAAAAAAAAA+P8AAAAAAAD4fwAAAAAAAPj\\u002fAAAAAAAA+P8AAAAAAAD4\\u002fwAAAAAAAPh\\u002fAAAAAAAACEAAAAAAAAD4\\u002fwAAAAAAAPh\\u002fAAAAAAAA+P8AAAAAAAD4\\u002fwAAAAAAAPj\\u002fAAAAAAAA+H8AAAAAAAAIQAAAAAAAAPj\\u002fAAAAAAAA+H8AAAAAAAD4\\u002fwAAAAAAAPj\\u002fAAAAAAAA+P8AAAAAAAD4fwAAAAAAAAhAAAAAAAAA+P8AAAAAAAD4fwAAAAAAAPj\\u002fAAAAAAAA+P8AAAAAAAD4\\u002fwAAAAAAAPh\\u002fAAAAAAAAEECQTcz7xQQQQAAAAAAAAPh\\u002fp0NnU+ADEECQTcz7xQQQQKdDZ1PgAxBAAAAAAAAA+H8AAAAAAAAQQNkf1Ll+DBBAAAAAAAAA+H9WyeOPJQoQQNkf1Ll+DBBAVsnjjyUKEEAAAAAAAAD4fwAAAAAAABBAvZzNg41pD0AAAAAAAAD4fydwz97ThQ9AvZzNg41pD0AncM\\u002fe04UPQAAAAAAAAPh\\u002fAAAAAAAAEEBFjW5S36cQQAAAAAAAAPh\\u002fW+x4mlKIEEBFjW5S36cQQFvseJpSiBBAAAAAAAAA+H8AAAAAAAAQQJMmL4iPiRFAAAAAAAAA+H\\u002fPBhBwmD8RQJMmL4iPiRFAzwYQcJg\\u002fEUAAAAAAAAD4fwAAAAAAABBAAAAAAAAA+P8AAAAAAAD4fwAAAAAAAPj\\u002fAAAAAAAA+P8AAAAAAAD4\\u002fwAAAAAAAPh\\u002fAAAAAAAAEEAAAAAAAAD4\\u002fwAAAAAAAPh\\u002fAAAAAAAA+P8AAAAAAAD4\\u002fwAAAAAAAPj\\u002fAAAAAAAA+H8AAAAAAAAQQAAAAAAAAPj\\u002fAAAAAAAA+H8AAAAAAAD4\\u002fwAAAAAAAPj\\u002fAAAAAAAA+P8AAAAAAAD4fwAAAAAAABBAAAAAAAAA+P8AAAAAAAD4fwAAAAAAAPj\\u002fAAAAAAAA+P8AAAAAAAD4\\u002fwAAAAAAAPh\\u002fAAAAAAAAEEAAAAAAAAD4\\u002fwAAAAAAAPh\\u002fAAAAAAAA+P8AAAAAAAD4\\u002fwAAAAAAAPj\\u002fAAAAAAAA+H8AAAAAAAAQQN9+io19JhBAAAAAAAAA+H\\u002fKGNKwQR8QQN9+io19JhBAyhjSsEEfEEAAAAAAAAD4fwAAAAAAABBAfoZU4YghEEAAAAAAAAD4fyrIUnM7GxBAfoZU4YghEEAqyFJzOxsQQAAAAAAAAPh\\u002fAAAAAAAAEEA9M7SJ6HoPQAAAAAAAAPh\\u002fzTjS4OuTD0A9M7SJ6HoPQM040uDrkw9AAAAAAAAA+H8AAAAAAAAQQOqaWdrJMBBAAAAAAAAA+H+2bkWHnicQQOqaWdrJMBBAtm5Fh54nEEAAAAAAAAD4fwAAAAAAABBAAAAAAAAA+P8AAAAAAAD4fwAAAAAAAPj\\u002fAAAAAAAA+P8AAAAAAAD4\\u002fwAAAAAAAPh\\u002f\"},\"type\":\"scatter\"},{\"hovertext\":[\"[ 0.37496687 -0.30691946]\",\"[ 0.37496687 -0.30691946]\",\"[ 0.37496687 -0.30691946]\",\"[ 0.37496687 -0.30691946]\",\"[ 0.37496687 -0.30691946]\",\"[ 0.37496687 -0.30691946]\",\"[ 0.37496687 -0.30691946]\",\"[-0.15923142  0.09766255]\",\"[-0.15923142  0.09766255]\",\"[-0.15923142  0.09766255]\",\"[-0.15923142  0.09766255]\",\"[-0.15923142  0.09766255]\",\"[-0.15923142  0.09766255]\",\"[-0.15923142  0.09766255]\",\"[ 0.29018153 -0.18588505]\",\"[ 0.29018153 -0.18588505]\",\"[ 0.29018153 -0.18588505]\",\"[ 0.29018153 -0.18588505]\",\"[ 0.29018153 -0.18588505]\",\"[ 0.29018153 -0.18588505]\",\"[ 0.29018153 -0.18588505]\",\"[-2.64045561e-04  3.11950756e-05]\",\"[-2.64045561e-04  3.11950756e-05]\",\"[-2.64045561e-04  3.11950756e-05]\",\"[-2.64045561e-04  3.11950756e-05]\",\"[-2.64045561e-04  3.11950756e-05]\",\"[-2.64045561e-04  3.11950756e-05]\",\"[-2.64045561e-04  3.11950756e-05]\",\"[-0.0046284   0.00343683]\",\"[-0.0046284   0.00343683]\",\"[-0.0046284   0.00343683]\",\"[-0.0046284   0.00343683]\",\"[-0.0046284   0.00343683]\",\"[-0.0046284   0.00343683]\",\"[-0.0046284   0.00343683]\",\"[ 0. -0.]\",\"[ 0. -0.]\",\"[ 0. -0.]\",\"[ 0. -0.]\",\"[ 0. -0.]\",\"[ 0. -0.]\",\"[ 0. -0.]\",\"[ 0. -0.]\",\"[ 0. -0.]\",\"[ 0. -0.]\",\"[ 0. -0.]\",\"[ 0. -0.]\",\"[ 0. -0.]\",\"[ 0. -0.]\",\"[ 0. -0.]\",\"[ 0. -0.]\",\"[ 0. -0.]\",\"[ 0. -0.]\",\"[ 0. -0.]\",\"[ 0. -0.]\",\"[ 0. -0.]\",\"[ 0. -0.]\",\"[ 0. -0.]\",\"[ 0. -0.]\",\"[ 0. -0.]\",\"[ 0. -0.]\",\"[ 0. -0.]\",\"[ 0. -0.]\",\"[-0.03732147  0.00508504]\",\"[-0.03732147  0.00508504]\",\"[-0.03732147  0.00508504]\",\"[-0.03732147  0.00508504]\",\"[-0.03732147  0.00508504]\",\"[-0.03732147  0.00508504]\",\"[-0.03732147  0.00508504]\",\"[ 0. -0.]\",\"[ 0. -0.]\",\"[ 0. -0.]\",\"[ 0. -0.]\",\"[ 0. -0.]\",\"[ 0. -0.]\",\"[ 0. -0.]\",\"[ 0. -0.]\",\"[ 0. -0.]\",\"[ 0. -0.]\",\"[ 0. -0.]\",\"[ 0. -0.]\",\"[ 0. -0.]\",\"[ 0. -0.]\",\"[ 0. -0.]\",\"[ 0. -0.]\",\"[ 0. -0.]\",\"[ 0. -0.]\",\"[ 0. -0.]\",\"[ 0. -0.]\",\"[ 0. -0.]\",\"[ 0. -0.]\",\"[ 0. -0.]\",\"[ 0. -0.]\",\"[ 0. -0.]\",\"[ 0. -0.]\",\"[ 0. -0.]\",\"[ 0. -0.]\",\"[ 0. -0.]\",\"[ 0. -0.]\",\"[ 0. -0.]\",\"[ 0. -0.]\",\"[ 0. -0.]\",\"[ 0. -0.]\",\"[ 0. -0.]\",\"[-0.15923142  0.10172476]\",\"[-0.15923142  0.10172476]\",\"[-0.15923142  0.10172476]\",\"[-0.15923142  0.10172476]\",\"[-0.15923142  0.10172476]\",\"[-0.15923142  0.10172476]\",\"[-0.15923142  0.10172476]\",\"[-0.49645028  0.05947365]\",\"[-0.49645028  0.05947365]\",\"[-0.49645028  0.05947365]\",\"[-0.49645028  0.05947365]\",\"[-0.49645028  0.05947365]\",\"[-0.49645028  0.05947365]\",\"[-0.49645028  0.05947365]\",\"[-0.07855446  0.07163459]\",\"[-0.07855446  0.07163459]\",\"[-0.07855446  0.07163459]\",\"[-0.07855446  0.07163459]\",\"[-0.07855446  0.07163459]\",\"[-0.07855446  0.07163459]\",\"[-0.07855446  0.07163459]\",\"[-0.13422888  0.02122266]\",\"[-0.13422888  0.02122266]\",\"[-0.13422888  0.02122266]\",\"[-0.13422888  0.02122266]\",\"[-0.13422888  0.02122266]\",\"[-0.13422888  0.02122266]\",\"[-0.13422888  0.02122266]\",\"[-0.01211554  0.00307947]\",\"[-0.01211554  0.00307947]\",\"[-0.01211554  0.00307947]\",\"[-0.01211554  0.00307947]\",\"[-0.01211554  0.00307947]\",\"[-0.01211554  0.00307947]\",\"[-0.01211554  0.00307947]\",\"[ 0. -0.]\",\"[ 0. -0.]\",\"[ 0. -0.]\",\"[ 0. -0.]\",\"[ 0. -0.]\",\"[ 0. -0.]\",\"[ 0. -0.]\",\"[ 0. -0.]\",\"[ 0. -0.]\",\"[ 0. -0.]\",\"[ 0. -0.]\",\"[ 0. -0.]\",\"[ 0. -0.]\",\"[ 0. -0.]\",\"[ 0. -0.]\",\"[ 0. -0.]\",\"[ 0. -0.]\",\"[ 0. -0.]\",\"[ 0. -0.]\",\"[ 0. -0.]\",\"[ 0. -0.]\",\"[ 0. -0.]\",\"[ 0. -0.]\",\"[ 0. -0.]\",\"[ 0. -0.]\",\"[ 0. -0.]\",\"[ 0. -0.]\",\"[ 0. -0.]\",\"[-0.03251622  0.03136312]\",\"[-0.03251622  0.03136312]\",\"[-0.03251622  0.03136312]\",\"[-0.03251622  0.03136312]\",\"[-0.03251622  0.03136312]\",\"[-0.03251622  0.03136312]\",\"[-0.03251622  0.03136312]\",\"[ 0. -0.]\",\"[ 0. -0.]\",\"[ 0. -0.]\",\"[ 0. -0.]\",\"[ 0. -0.]\",\"[ 0. -0.]\",\"[ 0. -0.]\",\"[ 0. -0.]\",\"[ 0. -0.]\",\"[ 0. -0.]\",\"[ 0. -0.]\",\"[ 0. -0.]\",\"[ 0. -0.]\",\"[ 0. -0.]\",\"[ 0. -0.]\",\"[ 0. -0.]\",\"[ 0. -0.]\",\"[ 0. -0.]\",\"[ 0. -0.]\",\"[ 0. -0.]\",\"[ 0. -0.]\",\"[ 0. -0.]\",\"[ 0. -0.]\",\"[ 0. -0.]\",\"[ 0. -0.]\",\"[ 0. -0.]\",\"[ 0. -0.]\",\"[ 0. -0.]\",\"[ 0. -0.]\",\"[ 0. -0.]\",\"[ 0. -0.]\",\"[ 0. -0.]\",\"[ 0. -0.]\",\"[ 0. -0.]\",\"[ 0. -0.]\",\"[ 0.29018153 -0.08481427]\",\"[ 0.29018153 -0.08481427]\",\"[ 0.29018153 -0.08481427]\",\"[ 0.29018153 -0.08481427]\",\"[ 0.29018153 -0.08481427]\",\"[ 0.29018153 -0.08481427]\",\"[ 0.29018153 -0.08481427]\",\"[-0.07855446  0.04967188]\",\"[-0.07855446  0.04967188]\",\"[-0.07855446  0.04967188]\",\"[-0.07855446  0.04967188]\",\"[-0.07855446  0.04967188]\",\"[-0.07855446  0.04967188]\",\"[-0.07855446  0.04967188]\",\"[-0.15184697  0.09962431]\",\"[-0.15184697  0.09962431]\",\"[-0.15184697  0.09962431]\",\"[-0.15184697  0.09962431]\",\"[-0.15184697  0.09962431]\",\"[-0.15184697  0.09962431]\",\"[-0.15184697  0.09962431]\",\"[ 0.1468525  -0.04686024]\",\"[ 0.1468525  -0.04686024]\",\"[ 0.1468525  -0.04686024]\",\"[ 0.1468525  -0.04686024]\",\"[ 0.1468525  -0.04686024]\",\"[ 0.1468525  -0.04686024]\",\"[ 0.1468525  -0.04686024]\",\"[ 0.07293902 -0.00118403]\",\"[ 0.07293902 -0.00118403]\",\"[ 0.07293902 -0.00118403]\",\"[ 0.07293902 -0.00118403]\",\"[ 0.07293902 -0.00118403]\",\"[ 0.07293902 -0.00118403]\",\"[ 0.07293902 -0.00118403]\",\"[ 0. -0.]\",\"[ 0. -0.]\",\"[ 0. -0.]\",\"[ 0. -0.]\",\"[ 0. -0.]\",\"[ 0. -0.]\",\"[ 0. -0.]\",\"[ 0. -0.]\",\"[ 0. -0.]\",\"[ 0. -0.]\",\"[ 0. -0.]\",\"[ 0. -0.]\",\"[ 0. -0.]\",\"[ 0. -0.]\",\"[ 0. -0.]\",\"[ 0. -0.]\",\"[ 0. -0.]\",\"[ 0. -0.]\",\"[ 0. -0.]\",\"[ 0. -0.]\",\"[ 0. -0.]\",\"[ 0. -0.]\",\"[ 0. -0.]\",\"[ 0. -0.]\",\"[ 0. -0.]\",\"[ 0. -0.]\",\"[ 0. -0.]\",\"[ 0. -0.]\",\"[ 0.06452479 -0.03155105]\",\"[ 0.06452479 -0.03155105]\",\"[ 0.06452479 -0.03155105]\",\"[ 0.06452479 -0.03155105]\",\"[ 0.06452479 -0.03155105]\",\"[ 0.06452479 -0.03155105]\",\"[ 0.06452479 -0.03155105]\",\"[ 0. -0.]\",\"[ 0. -0.]\",\"[ 0. -0.]\",\"[ 0. -0.]\",\"[ 0. -0.]\",\"[ 0. -0.]\",\"[ 0. -0.]\",\"[ 0. -0.]\",\"[ 0. -0.]\",\"[ 0. -0.]\",\"[ 0. -0.]\",\"[ 0. -0.]\",\"[ 0. -0.]\",\"[ 0. -0.]\",\"[ 0. -0.]\",\"[ 0. -0.]\",\"[ 0. -0.]\",\"[ 0. -0.]\",\"[ 0. -0.]\",\"[ 0. -0.]\",\"[ 0. -0.]\",\"[ 0. -0.]\",\"[ 0. -0.]\",\"[ 0. -0.]\",\"[ 0. -0.]\",\"[ 0. -0.]\",\"[ 0. -0.]\",\"[ 0. -0.]\",\"[ 0. -0.]\",\"[ 0. -0.]\",\"[ 0. -0.]\",\"[ 0. -0.]\",\"[ 0. -0.]\",\"[ 0. -0.]\",\"[ 0. -0.]\",\"[-2.64045561e-04  3.02713832e-05]\",\"[-2.64045561e-04  3.02713832e-05]\",\"[-2.64045561e-04  3.02713832e-05]\",\"[-2.64045561e-04  3.02713832e-05]\",\"[-2.64045561e-04  3.02713832e-05]\",\"[-2.64045561e-04  3.02713832e-05]\",\"[-2.64045561e-04  3.02713832e-05]\",\"[-0.13422888  0.06571512]\",\"[-0.13422888  0.06571512]\",\"[-0.13422888  0.06571512]\",\"[-0.13422888  0.06571512]\",\"[-0.13422888  0.06571512]\",\"[-0.13422888  0.06571512]\",\"[-0.13422888  0.06571512]\",\"[ 0.1468525  -0.11658463]\",\"[ 0.1468525  -0.11658463]\",\"[ 0.1468525  -0.11658463]\",\"[ 0.1468525  -0.11658463]\",\"[ 0.1468525  -0.11658463]\",\"[ 0.1468525  -0.11658463]\",\"[ 0.1468525  -0.11658463]\",\"[-0.35945384  0.26069857]\",\"[-0.35945384  0.26069857]\",\"[-0.35945384  0.26069857]\",\"[-0.35945384  0.26069857]\",\"[-0.35945384  0.26069857]\",\"[-0.35945384  0.26069857]\",\"[-0.35945384  0.26069857]\",\"[-0.16277398  0.14558453]\",\"[-0.16277398  0.14558453]\",\"[-0.16277398  0.14558453]\",\"[-0.16277398  0.14558453]\",\"[-0.16277398  0.14558453]\",\"[-0.16277398  0.14558453]\",\"[-0.16277398  0.14558453]\",\"[ 0. -0.]\",\"[ 0. -0.]\",\"[ 0. -0.]\",\"[ 0. -0.]\",\"[ 0. -0.]\",\"[ 0. -0.]\",\"[ 0. -0.]\",\"[ 0. -0.]\",\"[ 0. -0.]\",\"[ 0. -0.]\",\"[ 0. -0.]\",\"[ 0. -0.]\",\"[ 0. -0.]\",\"[ 0. -0.]\",\"[ 0. -0.]\",\"[ 0. -0.]\",\"[ 0. -0.]\",\"[ 0. -0.]\",\"[ 0. -0.]\",\"[ 0. -0.]\",\"[ 0. -0.]\",\"[ 0. -0.]\",\"[ 0. -0.]\",\"[ 0. -0.]\",\"[ 0. -0.]\",\"[ 0. -0.]\",\"[ 0. -0.]\",\"[ 0. -0.]\",\"[-0.04730676  0.00114803]\",\"[-0.04730676  0.00114803]\",\"[-0.04730676  0.00114803]\",\"[-0.04730676  0.00114803]\",\"[-0.04730676  0.00114803]\",\"[-0.04730676  0.00114803]\",\"[-0.04730676  0.00114803]\",\"[ 0. -0.]\",\"[ 0. -0.]\",\"[ 0. -0.]\",\"[ 0. -0.]\",\"[ 0. -0.]\",\"[ 0. -0.]\",\"[ 0. -0.]\",\"[ 0. -0.]\",\"[ 0. -0.]\",\"[ 0. -0.]\",\"[ 0. -0.]\",\"[ 0. -0.]\",\"[ 0. -0.]\",\"[ 0. -0.]\",\"[ 0. -0.]\",\"[ 0. -0.]\",\"[ 0. -0.]\",\"[ 0. -0.]\",\"[ 0. -0.]\",\"[ 0. -0.]\",\"[ 0. -0.]\",\"[ 0. -0.]\",\"[ 0. -0.]\",\"[ 0. -0.]\",\"[ 0. -0.]\",\"[ 0. -0.]\",\"[ 0. -0.]\",\"[ 0. -0.]\",\"[ 0. -0.]\",\"[ 0. -0.]\",\"[ 0. -0.]\",\"[ 0. -0.]\",\"[ 0. -0.]\",\"[ 0. -0.]\",\"[ 0. -0.]\",\"[-0.0046284   0.00382043]\",\"[-0.0046284   0.00382043]\",\"[-0.0046284   0.00382043]\",\"[-0.0046284   0.00382043]\",\"[-0.0046284   0.00382043]\",\"[-0.0046284   0.00382043]\",\"[-0.0046284   0.00382043]\",\"[-0.01211554  0.01209298]\",\"[-0.01211554  0.01209298]\",\"[-0.01211554  0.01209298]\",\"[-0.01211554  0.01209298]\",\"[-0.01211554  0.01209298]\",\"[-0.01211554  0.01209298]\",\"[-0.01211554  0.01209298]\",\"[ 0.07293902 -0.05792021]\",\"[ 0.07293902 -0.05792021]\",\"[ 0.07293902 -0.05792021]\",\"[ 0.07293902 -0.05792021]\",\"[ 0.07293902 -0.05792021]\",\"[ 0.07293902 -0.05792021]\",\"[ 0.07293902 -0.05792021]\",\"[-0.16277398  0.01493855]\",\"[-0.16277398  0.01493855]\",\"[-0.16277398  0.01493855]\",\"[-0.16277398  0.01493855]\",\"[-0.16277398  0.01493855]\",\"[-0.16277398  0.01493855]\",\"[-0.16277398  0.01493855]\",\"[-0.38160802  0.18168935]\",\"[-0.38160802  0.18168935]\",\"[-0.38160802  0.18168935]\",\"[-0.38160802  0.18168935]\",\"[-0.38160802  0.18168935]\",\"[-0.38160802  0.18168935]\",\"[-0.38160802  0.18168935]\",\"[ 0. -0.]\",\"[ 0. -0.]\",\"[ 0. -0.]\",\"[ 0. -0.]\",\"[ 0. -0.]\",\"[ 0. -0.]\",\"[ 0. -0.]\",\"[ 0. -0.]\",\"[ 0. -0.]\",\"[ 0. -0.]\",\"[ 0. -0.]\",\"[ 0. -0.]\",\"[ 0. -0.]\",\"[ 0. -0.]\",\"[ 0. -0.]\",\"[ 0. -0.]\",\"[ 0. -0.]\",\"[ 0. -0.]\",\"[ 0. -0.]\",\"[ 0. -0.]\",\"[ 0. -0.]\",\"[ 0. -0.]\",\"[ 0. -0.]\",\"[ 0. -0.]\",\"[ 0. -0.]\",\"[ 0. -0.]\",\"[ 0. -0.]\",\"[ 0. -0.]\",\"[ 0. -0.]\",\"[ 0. -0.]\",\"[ 0. -0.]\",\"[ 0. -0.]\",\"[ 0. -0.]\",\"[ 0. -0.]\",\"[ 0. -0.]\",\"[-0.03732147  0.02830201]\",\"[-0.03732147  0.02830201]\",\"[-0.03732147  0.02830201]\",\"[-0.03732147  0.02830201]\",\"[-0.03732147  0.02830201]\",\"[-0.03732147  0.02830201]\",\"[-0.03732147  0.02830201]\",\"[-0.03251622  0.00518844]\",\"[-0.03251622  0.00518844]\",\"[-0.03251622  0.00518844]\",\"[-0.03251622  0.00518844]\",\"[-0.03251622  0.00518844]\",\"[-0.03251622  0.00518844]\",\"[-0.03251622  0.00518844]\",\"[ 0.06452479 -0.020284  ]\",\"[ 0.06452479 -0.020284  ]\",\"[ 0.06452479 -0.020284  ]\",\"[ 0.06452479 -0.020284  ]\",\"[ 0.06452479 -0.020284  ]\",\"[ 0.06452479 -0.020284  ]\",\"[ 0.06452479 -0.020284  ]\",\"[-0.04730676  0.02586648]\",\"[-0.04730676  0.02586648]\",\"[-0.04730676  0.02586648]\",\"[-0.04730676  0.02586648]\",\"[-0.04730676  0.02586648]\",\"[-0.04730676  0.02586648]\",\"[-0.04730676  0.02586648]\",\"[ 0. -0.]\",\"[ 0. -0.]\",\"[ 0. -0.]\",\"[ 0. -0.]\",\"[ 0. -0.]\",\"[ 0. -0.]\",\"[ 0. -0.]\"],\"line\":{\"color\":\"red\"},\"meta\":{},\"mode\":\"lines\",\"name\":\"Some data\",\"x\":{\"dtype\":\"f8\",\"bdata\":\"rVGGDnX\\u002f178AAAAAAAAAAAAAAAAAAPh\\u002fq1rzkPFUqb8AAAAAAAAAAGRbtjlEare\\u002fAAAAAAAA+H+jfKQ+NozyPwAAAAAAAPA\\u002fAAAAAAAA+H\\u002ftnHddNl\\u002fwPwAAAAAAAPA\\u002f5qwDavCV8D8AAAAAAAD4f5b4gpxqW\\u002fs\\u002fAAAAAAAAAEAAAAAAAAD4f2DUOYCzVP8\\u002fAAAAAAAAAEDKBceciez+PwAAAAAAAPh\\u002fDmaYb4oACEAAAAAAAAAIQAAAAAAAAPh\\u002fCe0P5hgACEAAAAAAAAAIQL5G3iIbAAhAAAAAAAAA+H8pBuZOvQQQQP\\u002f\\u002f\\u002f\\u002f\\u002f\\u002f\\u002fw9AAAAAAAAA+H8injBmpgAQQP\\u002f\\u002f\\u002f\\u002f\\u002f\\u002f\\u002fw9AhHXQpyEBEEAAAAAAAAD4fwAAAAAAABRAAAAAAAAAFEAAAAAAAAD4fwAAAAAAABRAAAAAAAAAFEAAAAAAAAAUQAAAAAAAAPh\\u002fAAAAAAAAGEAAAAAAAAAYQAAAAAAAAPh\\u002fAAAAAAAAGEAAAAAAAAAYQAAAAAAAABhAAAAAAAAA+H8AAAAAAAAcQAAAAAAAABxAAAAAAAAA+H8AAAAAAAAcQAAAAAAAABxAAAAAAAAAHEAAAAAAAAD4fwAAAAAAACBAAAAAAAAAIEAAAAAAAAD4fwAAAAAAACBAAAAAAAAAIEAAAAAAAAAgQAAAAAAAAPh\\u002fpCGUzBsTIkAAAAAAAAAiQAAAAAAAAPh\\u002fT4sNxGkDIkAAAAAAAAAiQG0A\\u002fvLEAyJAAAAAAAAA+H8AAAAAAAAkQAAAAAAAACRAAAAAAAAA+H8AAAAAAAAkQAAAAAAAACRAAAAAAAAAJEAAAAAAAAD4fwAAAAAAACZAAAAAAAAAJkAAAAAAAAD4fwAAAAAAACZAAAAAAAAAJkAAAAAAAAAmQAAAAAAAAPh\\u002fAAAAAAAAKEAAAAAAAAAoQAAAAAAAAPh\\u002fAAAAAAAAKEAAAAAAAAAoQAAAAAAAAChAAAAAAAAA+H8AAAAAAAAqQAAAAAAAACpAAAAAAAAA+H8AAAAAAAAqQAAAAAAAACpAAAAAAAAAKkAAAAAAAAD4fwAAAAAAACxAAAAAAAAALEAAAAAAAAD4fwAAAAAAACxAAAAAAAAALEAAAAAAAAAsQAAAAAAAAPh\\u002fF+Uj9bFhxD8AAAAAAAAAAAAAAAAAAPh\\u002fE38Fur+Elz8AAAAAAAAAANB6ZhJ54qI\\u002fAAAAAAAA+H+7uW7adfH3PwAAAAAAAPA\\u002fAAAAAAAA+H\\u002fmFqiFgG3xPwAAAAAAAPA\\u002fxJz5O9SO8T8AAAAAAAD4f70hvSnhoABA\\u002f\\u002f\\u002f\\u002f\\u002f\\u002f\\u002f\\u002f\\u002fz8AAAAAAAD4f\\u002fplwzczFABA\\u002f\\u002f\\u002f\\u002f\\u002f\\u002f\\u002f\\u002f\\u002fz+gJPZWRSgAQAAAAAAAAPh\\u002fpDTQl+YSCUAAAAAAAAAIQAAAAAAAAPh\\u002fNO7y+rAwCEAAAAAAAAAIQNPGyjajNghAAAAAAAAA+H8UOkoEaAwQQAAAAAAAABBAAAAAAAAA+H\\u002fQbfisHQIQQAAAAAAAABBAFkG7HYwCEEAAAAAAAAD4fwAAAAAAABRAAAAAAAAAFEAAAAAAAAD4fwAAAAAAABRAAAAAAAAAFEAAAAAAAAAUQAAAAAAAAPh\\u002fAAAAAAAAGEAAAAAAAAAYQAAAAAAAAPh\\u002fAAAAAAAAGEAAAAAAAAAYQAAAAAAAABhAAAAAAAAA+H8AAAAAAAAcQAAAAAAAABxAAAAAAAAA+H8AAAAAAAAcQAAAAAAAABxAAAAAAAAAHEAAAAAAAAD4fwAAAAAAACBAAAAAAAAAIEAAAAAAAAD4fwAAAAAAACBAAAAAAAAAIEAAAAAAAAAgQAAAAAAAAPh\\u002fy8RZ96UQIkAAAAAAAAAiQAAAAAAAAPh\\u002fKOteygcCIkAAAAAAAAAiQPENTS86BCJAAAAAAAAA+H8AAAAAAAAkQAAAAAAAACRAAAAAAAAA+H8AAAAAAAAkQAAAAAAAACRAAAAAAAAAJEAAAAAAAAD4fwAAAAAAACZAAAAAAAAAJkAAAAAAAAD4fwAAAAAAACZAAAAAAAAAJkAAAAAAAAAmQAAAAAAAAPh\\u002fAAAAAAAAKEAAAAAAAAAoQAAAAAAAAPh\\u002fAAAAAAAAKEAAAAAAAAAoQAAAAAAAAChAAAAAAAAA+H8AAAAAAAAqQAAAAAAAACpAAAAAAAAA+H8AAAAAAAAqQAAAAAAAACpAAAAAAAAAKkAAAAAAAAD4fwAAAAAAACxAAAAAAAAALEAAAAAAAAD4fwAAAAAAACxAAAAAAAAALEAAAAAAAAAsQAAAAAAAAPh\\u002fqR30jVWS0r8AAAAAAAAAAAAAAAAAAPh\\u002f8Fv7hb\\u002fzqL8AAAAAAAAAAOFe6dmc5K6\\u002fAAAAAAAA+H97Q3pTwkHxPwAAAAAAAPA\\u002fAAAAAAAA+H\\u002f5N0XAjS7wPwAAAAAAAPA\\u002fPd0tXWNK8D8AAAAAAAD4f5KPpor7NgFA\\u002f\\u002f\\u002f\\u002f\\u002f\\u002f\\u002f\\u002f\\u002fz8AAAAAAAD4fxBvQTV9LABA\\u002f\\u002f\\u002f\\u002f\\u002f\\u002f\\u002f\\u002f\\u002fz9IMHjxZkgAQAAAAAAAAPh\\u002fExrY\\u002fj7TBkAAAAAAAAAIQAAAAAAAAPh\\u002fXkfQnQrOB0AAAAAAAAAIQAN\\u002f8nrpwAdAAAAAAAAA+H\\u002fTUCDynmoPQAAAAAAAABBAAAAAAAAA+H9hjvp+F+QPQAAAAAAAABBAnyLFkcLjD0AAAAAAAAD4fwAAAAAAABRAAAAAAAAAFEAAAAAAAAD4fwAAAAAAABRAAAAAAAAAFEAAAAAAAAAUQAAAAAAAAPh\\u002fAAAAAAAAGEAAAAAAAAAYQAAAAAAAAPh\\u002fAAAAAAAAGEAAAAAAAAAYQAAAAAAAABhAAAAAAAAA+H8AAAAAAAAcQAAAAAAAABxAAAAAAAAA+H8AAAAAAAAcQAAAAAAAABxAAAAAAAAAHEAAAAAAAAD4fwAAAAAAACBAAAAAAAAAIEAAAAAAAAD4fwAAAAAAACBAAAAAAAAAIEAAAAAAAAAgQAAAAAAAAPh\\u002fdztCm\\u002fbeIUAAAAAAAAAiQAAAAAAAAPh\\u002fAN57aeX6IUAAAAAAAAAiQLbj2KWv+CFAAAAAAAAA+H8AAAAAAAAkQAAAAAAAACRAAAAAAAAA+H8AAAAAAAAkQAAAAAAAACRAAAAAAAAAJEAAAAAAAAD4fwAAAAAAACZAAAAAAAAAJkAAAAAAAAD4fwAAAAAAACZAAAAAAAAAJkAAAAAAAAAmQAAAAAAAAPh\\u002fAAAAAAAAKEAAAAAAAAAoQAAAAAAAAPh\\u002fAAAAAAAAKEAAAAAAAAAoQAAAAAAAAChAAAAAAAAA+H8AAAAAAAAqQAAAAAAAACpAAAAAAAAA+H8AAAAAAAAqQAAAAAAAACpAAAAAAAAAKkAAAAAAAAD4fwAAAAAAACxAAAAAAAAALEAAAAAAAAD4fwAAAAAAACxAAAAAAAAALEAAAAAAAAAsQAAAAAAAAPh\\u002fdc7BDPNNMT8AAAAAAAAAAAAAAAAAAPh\\u002feDPe64ruCD8AAAAAAAAAAF6Z6EdjGgs\\u002fAAAAAAAA+H9IaaAvzSXyPwAAAAAAAPA\\u002fAAAAAAAA+H+NL06o6lTwPwAAAAAAAPA\\u002fgTotu7158D8AAAAAAAD4fyY0sP19pv0\\u002fAAAAAAAAAEAAAAAAAAD4f0vOeFeer\\u002f8\\u002fAAAAAAAAAEB5vgzaSW7\\u002fPwAAAAAAAPh\\u002fGjMAVingCkAAAAAAAAAIQAAAAAAAAPh\\u002f4Gd42tRlCEAAAAAAAAAIQN9WC+\\u002ffrghAAAAAAAAA+H+LrL04rqYQQAAAAAAAABBAAAAAAAAA+H9IKavMIBUQQAAAAAAAABBAwSId9YUpEEAAAAAAAAD4fwAAAAAAABRAAAAAAAAAFEAAAAAAAAD4fwAAAAAAABRAAAAAAAAAFEAAAAAAAAAUQAAAAAAAAPh\\u002fAAAAAAAAGEAAAAAAAAAYQAAAAAAAAPh\\u002fAAAAAAAAGEAAAAAAAAAYQAAAAAAAABhAAAAAAAAA+H8AAAAAAAAcQAAAAAAAABxAAAAAAAAA+H8AAAAAAAAcQAAAAAAAABxAAAAAAAAAHEAAAAAAAAD4fwAAAAAAACBAAAAAAAAAIEAAAAAAAAD4fwAAAAAAACBAAAAAAAAAIEAAAAAAAAAgQAAAAAAAAPh\\u002fBDZOlzgYIkAAAAAAAAAiQAAAAAAAAPh\\u002fq\\u002fRvCYMEIkAAAAAAAAAiQD5sfJ+XBCJAAAAAAAAA+H8AAAAAAAAkQAAAAAAAACRAAAAAAAAA+H8AAAAAAAAkQAAAAAAAACRAAAAAAAAAJEAAAAAAAAD4fwAAAAAAACZAAAAAAAAAJkAAAAAAAAD4fwAAAAAAACZAAAAAAAAAJkAAAAAAAAAmQAAAAAAAAPh\\u002fAAAAAAAAKEAAAAAAAAAoQAAAAAAAAPh\\u002fAAAAAAAAKEAAAAAAAAAoQAAAAAAAAChAAAAAAAAA+H8AAAAAAAAqQAAAAAAAACpAAAAAAAAA+H8AAAAAAAAqQAAAAAAAACpAAAAAAAAAKkAAAAAAAAD4fwAAAAAAACxAAAAAAAAALEAAAAAAAAD4fwAAAAAAACxAAAAAAAAALEAAAAAAAAAsQAAAAAAAAPh\\u002foKUYmDv1cj8AAAAAAAAAAAAAAAAAAPh\\u002fuBFX4qfwQz8AAAAAAAAAAGLjDiCMiFI\\u002fAAAAAAAA+H9P6CgRoDHwPwAAAAAAAPA\\u002fAAAAAAAA+H8CA1Mx8AXwPwAAAAAAAPA\\u002fmbh7+bYM8D8AAAAAAAD4f6ahQOQ91f4\\u002fAAAAAAAAAEAAAAAAAAD4f4cSeX8U2P8\\u002fAAAAAAAAAEB6Twain7f\\u002fPwAAAAAAAPh\\u002fFll7cVxNCUAAAAAAAAAIQAAAAAAAAPh\\u002ftqZ4Ao88CEAAAAAAAAAIQFzxF4G+QAhAAAAAAAAA+H9CxNxAxIYRQAAAAAAAABBAAAAAAAAA+H8e63aqtjwQQAAAAAAAABBAWXtvqipWEEAAAAAAAAD4fwAAAAAAABRAAAAAAAAAFEAAAAAAAAD4fwAAAAAAABRAAAAAAAAAFEAAAAAAAAAUQAAAAAAAAPh\\u002fAAAAAAAAGEAAAAAAAAAYQAAAAAAAAPh\\u002fAAAAAAAAGEAAAAAAAAAYQAAAAAAAABhAAAAAAAAA+H8AAAAAAAAcQAAAAAAAABxAAAAAAAAA+H8AAAAAAAAcQAAAAAAAABxAAAAAAAAAHEAAAAAAAAD4fwAAAAAAACBAAAAAAAAAIEAAAAAAAAD4fwAAAAAAACBAAAAAAAAAIEAAAAAAAAAgQAAAAAAAAPh\\u002fAAAAAAAAIkAAAAAAAAAiQAAAAAAAAPh\\u002fAAAAAAAAIkAAAAAAAAAiQAAAAAAAACJAAAAAAAAA+H+kIZTMGxMkQAAAAAAAACRAAAAAAAAA+H9gyBebmQIkQAAAAAAAACRAXMPzG5UEJEAAAAAAAAD4f8vEWfelECZAAAAAAAAAJkAAAAAAAAD4f519B3jyAiZAAAAAAAAAJkB9e6SBTwMmQAAAAAAAAPh\\u002fdztCm\\u002fbeJ0AAAAAAAAAoQAAAAAAAAPh\\u002fqeuwZID6J0AAAAAAAAAoQAzWo6oU+SdAAAAAAAAA+H8ENk6XOBgqQAAAAAAAACpAAAAAAAAA+H8AbDJqpQMqQAAAAAAAACpA6PS5PnUFKkAAAAAAAAD4fwAAAAAAACxAAAAAAAAALEAAAAAAAAD4fwAAAAAAACxAAAAAAAAALEAAAAAAAAAsQAAAAAAAAPh\\u002f\"},\"y\":{\"dtype\":\"f8\",\"bdata\":\"FqDBgpGk0z8AAAAAAAAAAAAAAAAAAPh\\u002fxhb0HzJVtT8AAAAAAAAAAOzqYpKYZqA\\u002fAAAAAAAA+H92ccq3aQC5vwAAAAAAAAAAAAAAAAAA+H+Cckbe0\\u002fKdvwAAAAAAAAAAkHAHnfuQfr8AAAAAAAD4f1OQRNcUy8c\\u002fAAAAAAAAAAAAAAAAAAD4fxEw3mW4DKw\\u002fAAAAAAAAAABH1jL+FOWOPwAAAAAAAPh\\u002fKlezou5aAL8AAAAAAAAAAAAAAAAAAPh\\u002fiIHqojEW+b4AAAAAAAAAAEA21wtNlek+AAAAAAAA+H9nwR2EjCdsvwAAAAAAAAAAAAAAAAAA+H\\u002fdUZJZJopPvwAAAAAAAAAApbToAuuUNb8AAAAAAAD4fwAAAAAAAAAAAAAAAAAAAAAAAAAAAAD4fwAAAAAAAAAAAAAAAAAAAAAAAAAAAAAAAAAAAAAAAPh\\u002fAAAAAAAAAAAAAAAAAAAAAAAAAAAAAPh\\u002fAAAAAAAAAAAAAAAAAAAAAAAAAAAAAAAAAAAAAAAA+H8AAAAAAAAAAAAAAAAAAAAAAAAAAAAA+H8AAAAAAAAAAAAAAAAAAAAAAAAAAAAAAAAAAAAAAAD4fwAAAAAAAAAAAAAAAAAAAAAAAAAAAAD4fwAAAAAAAAAAAAAAAAAAAAAAAAAAAAAAAAAAAAAAAPh\\u002fhkWixQvUdL8AAAAAAAAAAAAAAAAAAPh\\u002fIy9JEBi+bL8AAAAAAAAAAPJxrsVpK1o\\u002fAAAAAAAA+H8AAAAAAAAAAAAAAAAAAAAAAAAAAAAA+H8AAAAAAAAAAAAAAAAAAAAAAAAAAAAAAAAAAAAAAAD4fwAAAAAAAAAAAAAAAAAAAAAAAAAAAAD4fwAAAAAAAAAAAAAAAAAAAAAAAAAAAAAAAAAAAAAAAPh\\u002fAAAAAAAAAAAAAAAAAAAAAAAAAAAAAPh\\u002fAAAAAAAAAAAAAAAAAAAAAAAAAAAAAAAAAAAAAAAA+H8AAAAAAAAAAAAAAAAAAAAAAAAAAAAA+H8AAAAAAAAAAAAAAAAAAAAAAAAAAAAAAAAAAAAAAAD4fwAAAAAAAAAAAAAAAAAAAAAAAAAAAAD4fwAAAAAAAAAAAAAAAAAAAAAAAAAAAAAAAAAAAAAAAPh\\u002ff4Lutqu+7D8AAAAAAADwPwAAAAAAAPh\\u002fJ61KUSgK7z8AAAAAAADwP9rRAvmcvO8\\u002fAAAAAAAA+H\\u002fdDUC2yhjuPwAAAAAAAPA\\u002fAAAAAAAA+H\\u002fimdi1PY7uPwAAAAAAAPA\\u002f3cpQdVBd8D8AAAAAAAD4fxZr4l0rte0\\u002fAAAAAAAA8D8AAAAAAAD4f4Jg\\u002fVOxZe8\\u002fAAAAAAAA8D\\u002fYVzotu73vPwAAAAAAAPh\\u002fmzC+3CRS7z8AAAAAAADwPwAAAAAAAPh\\u002f5ZiBxRuU7z8AAAAAAADwP2HtKoJFFfA\\u002fAAAAAAAA+H+pnInfxebvPwAAAAAAAPA\\u002fAAAAAAAA+H9XZR1AePTvPwAAAAAAAPA\\u002fezraJAYB8D8AAAAAAAD4fwAAAAAAAPA\\u002fAAAAAAAA8D8AAAAAAAD4fwAAAAAAAPA\\u002fAAAAAAAA8D8AAAAAAADwPwAAAAAAAPh\\u002fAAAAAAAA8D8AAAAAAADwPwAAAAAAAPh\\u002fAAAAAAAA8D8AAAAAAADwPwAAAAAAAPA\\u002fAAAAAAAA+H8AAAAAAADwPwAAAAAAAPA\\u002fAAAAAAAA+H8AAAAAAADwPwAAAAAAAPA\\u002fAAAAAAAA8D8AAAAAAAD4fwAAAAAAAPA\\u002fAAAAAAAA8D8AAAAAAAD4fwAAAAAAAPA\\u002fAAAAAAAA8D8AAAAAAADwPwAAAAAAAPh\\u002fHmKGxBL\\u002f7j8AAAAAAADwPwAAAAAAAPh\\u002fDDnxGn697z8AAAAAAADwP8mlDz\\u002fv4e8\\u002fAAAAAAAA+H8AAAAAAADwPwAAAAAAAPA\\u002fAAAAAAAA+H8AAAAAAADwPwAAAAAAAPA\\u002fAAAAAAAA8D8AAAAAAAD4fwAAAAAAAPA\\u002fAAAAAAAA8D8AAAAAAAD4fwAAAAAAAPA\\u002fAAAAAAAA8D8AAAAAAADwPwAAAAAAAPh\\u002fAAAAAAAA8D8AAAAAAADwPwAAAAAAAPh\\u002fAAAAAAAA8D8AAAAAAADwPwAAAAAAAPA\\u002fAAAAAAAA+H8AAAAAAADwPwAAAAAAAPA\\u002fAAAAAAAA+H8AAAAAAADwPwAAAAAAAPA\\u002fAAAAAAAA8D8AAAAAAAD4fwAAAAAAAPA\\u002fAAAAAAAA8D8AAAAAAAD4fwAAAAAAAPA\\u002fAAAAAAAA8D8AAAAAAADwPwAAAAAAAPh\\u002fuxbgGrOtAEAAAAAAAAAAQAAAAAAAAPh\\u002fCxVQ+0tJAEAAAAAAAAAAQEKebV387\\u002f8\\u002fAAAAAAAA+H\\u002fgRAJBizT\\u002fPwAAAAAAAABAAAAAAAAA+H\\u002fSdbvOwMP\\u002fPwAAAAAAAABAffFZu8Xv\\u002fz8AAAAAAAD4fyCV+VbwZ\\u002f4\\u002fAAAAAAAAAEAAAAAAAAD4f1lq5sDDiP8\\u002fAAAAAAAAAEBhBBTB2t3\\u002fPwAAAAAAAPh\\u002fvqMSQ\\u002fhfAEAAAAAAAAAAQAAAAAAAAPh\\u002fAwBg9JsmAEAAAAAAAAAAQDLR5mHt+v8\\u002fAAAAAAAA+H8pnprFbAIAQAAAAAAAAABAAAAAAAAA+H9LtFWCrAoAQAAAAAAAAABA3k1Kpnns\\u002fz8AAAAAAAD4fwAAAAAAAABAAAAAAAAAAEAAAAAAAAD4fwAAAAAAAABAAAAAAAAAAEAAAAAAAAAAQAAAAAAAAPh\\u002fAAAAAAAAAEAAAAAAAAAAQAAAAAAAAPh\\u002fAAAAAAAAAEAAAAAAAAAAQAAAAAAAAABAAAAAAAAA+H8AAAAAAAAAQAAAAAAAAABAAAAAAAAA+H8AAAAAAAAAQAAAAAAAAABAAAAAAAAAAEAAAAAAAAD4fwAAAAAAAABAAAAAAAAAAEAAAAAAAAD4fwAAAAAAAABAAAAAAAAAAEAAAAAAAAAAQAAAAAAAAPh\\u002fxoK31p1AAEAAAAAAAAAAQAAAAAAAAPh\\u002fe82L7S4VAEAAAAAAAAAAQGbDBMUaAwBAAAAAAAAA+H8AAAAAAAAAQAAAAAAAAABAAAAAAAAA+H8AAAAAAAAAQAAAAAAAAABAAAAAAAAAAEAAAAAAAAD4fwAAAAAAAABAAAAAAAAAAEAAAAAAAAD4fwAAAAAAAABAAAAAAAAAAEAAAAAAAAAAQAAAAAAAAPh\\u002fAAAAAAAAAEAAAAAAAAAAQAAAAAAAAPh\\u002fAAAAAAAAAEAAAAAAAAAAQAAAAAAAAABAAAAAAAAA+H8AAAAAAAAAQAAAAAAAAABAAAAAAAAA+H8AAAAAAAAAQAAAAAAAAABAAAAAAAAAAEAAAAAAAAD4fwAAAAAAAABAAAAAAAAAAEAAAAAAAAD4fwAAAAAAAABAAAAAAAAAAEAAAAAAAAAAQAAAAAAAAPh\\u002f1jELIfD\\u002fB0AAAAAAAAAIQAAAAAAAAPh\\u002fWvEzjPP\\u002fB0AAAAAAAAAIQMUFoHwGAAhAAAAAAAAA+H9ndblZankHQAAAAAAAAAhAAAAAAAAA+H\\u002fIsyDt5tMHQAAAAAAAAAhAQMTVvIL5B0AAAAAAAAD4fxBg6+vD7ghAAAAAAAAACEAAAAAAAAD4fxoY2ityQQhAAAAAAAAACECwgG3oTBgIQAAAAAAAAPh\\u002fwr\\u002fJ3RbqBUAAAAAAAAAIQAAAAAAAAPh\\u002fzJ7DG01pB0AAAAAAAAAIQNBCKZcDzgdAAAAAAAAA+H814cfG19UGQAAAAAAAAAhAAAAAAAAA+H+4bi9bKbEHQAAAAAAAAAhANbPPncTeB0AAAAAAAAD4fwAAAAAAAAhAAAAAAAAACEAAAAAAAAD4fwAAAAAAAAhAAAAAAAAACEAAAAAAAAAIQAAAAAAAAPh\\u002fAAAAAAAACEAAAAAAAAAIQAAAAAAAAPh\\u002fAAAAAAAACEAAAAAAAAAIQAAAAAAAAAhAAAAAAAAA+H8AAAAAAAAIQAAAAAAAAAhAAAAAAAAA+H8AAAAAAAAIQAAAAAAAAAhAAAAAAAAACEAAAAAAAAD4fwAAAAAAAAhAAAAAAAAACEAAAAAAAAD4fwAAAAAAAAhAAAAAAAAACEAAAAAAAAAIQAAAAAAAAPh\\u002fMJAVGqb9B0AAAAAAAAAIQAAAAAAAAPh\\u002f2G9sTO74B0AAAAAAAAAIQD2bN3YvBghAAAAAAAAA+H8AAAAAAAAIQAAAAAAAAAhAAAAAAAAA+H8AAAAAAAAIQAAAAAAAAAhAAAAAAAAACEAAAAAAAAD4fwAAAAAAAAhAAAAAAAAACEAAAAAAAAD4fwAAAAAAAAhAAAAAAAAACEAAAAAAAAAIQAAAAAAAAPh\\u002fAAAAAAAACEAAAAAAAAAIQAAAAAAAAPh\\u002fAAAAAAAACEAAAAAAAAAIQAAAAAAAAAhAAAAAAAAA+H8AAAAAAAAIQAAAAAAAAAhAAAAAAAAA+H8AAAAAAAAIQAAAAAAAAAhAAAAAAAAACEAAAAAAAAD4fwAAAAAAAAhAAAAAAAAACEAAAAAAAAD4fwAAAAAAAAhAAAAAAAAACEAAAAAAAAAIQAAAAAAAAPh\\u002fB5NT\\u002fiz4D0AAAAAAAAAQQAAAAAAAAPh\\u002f4UVMkeH9D0AAAAAAAAAQQMHHWYwt\\u002fw9AAAAAAAAA+H\\u002fr1OHLO+cPQAAAAAAAABBAAAAAAAAA+H8umEPtpfkPQAAAAAAAABBAFlyp7wr9D0AAAAAAAAD4fzn6YW9POxBAAAAAAAAAEEAAAAAAAAD4fyUPNXlBEBBAAAAAAAAAEEB4yJyhCQYQQAAAAAAAAPh\\u002fFCH35WfhD0AAAAAAAAAQQAAAAAAAAPh\\u002fu3+OanLjD0AAAAAAAAAQQBxil9aGCBBAAAAAAAAA+H9jG0105osOQAAAAAAAABBAAAAAAAAA+H\\u002fInAWsm4QPQAAAAAAAABBAZ2PzM4fvD0AAAAAAAAD4fwAAAAAAABBAAAAAAAAAEEAAAAAAAAD4fwAAAAAAABBAAAAAAAAAEEAAAAAAAAAQQAAAAAAAAPh\\u002fAAAAAAAAEEAAAAAAAAAQQAAAAAAAAPh\\u002fAAAAAAAAEEAAAAAAAAAQQAAAAAAAABBAAAAAAAAA+H8AAAAAAAAQQAAAAAAAABBAAAAAAAAA+H8AAAAAAAAQQAAAAAAAABBAAAAAAAAAEEAAAAAAAAD4fwAAAAAAABBAAAAAAAAAEEAAAAAAAAD4fwAAAAAAABBAAAAAAAAAEEAAAAAAAAAQQAAAAAAAAPh\\u002fAAAAAAAAEEAAAAAAAAAQQAAAAAAAAPh\\u002fAAAAAAAAEEAAAAAAAAAQQAAAAAAAABBAAAAAAAAA+H9r+DKYCcYPQAAAAAAAABBAAAAAAAAA+H+KdiDR4O8PQAAAAAAAABBApD5dxFX6D0AAAAAAAAD4f9Fok8Nf9Q9AAAAAAAAAEEAAAAAAAAD4fxGmxp5y+Q9AAAAAAAAAEECgIOdzRwEQQAAAAAAAAPh\\u002fcZ1cVMUUEEAAAAAAAAAQQAAAAAAAAPh\\u002fDn7iXmwIEEAAAAAAAAAQQAbyPZXE\\u002fg9AAAAAAAAA+H9++CyDBssPQAAAAAAAABBAAAAAAAAA+H+io0Gxau8PQAAAAAAAABBAB88M26v8D0AAAAAAAAD4fwAAAAAAABBAAAAAAAAAEEAAAAAAAAD4fwAAAAAAABBAAAAAAAAAEEAAAAAAAAAQQAAAAAAAAPh\\u002f\"},\"type\":\"scatter\"},{\"line\":{\"color\":\"pink\",\"dash\":\"dash\",\"width\":5},\"meta\":{},\"mode\":\"lines\",\"name\":\"orbitals separators\",\"opacity\":0.8,\"showlegend\":false,\"x\":{\"dtype\":\"f8\",\"bdata\":\"AAAAAAAA4L8AAAAAAAASQAAAAAAAAPh\\u002fAAAAAAAA4D8AAAAAAADgPwAAAAAAAPh\\u002f\"},\"y\":{\"dtype\":\"f8\",\"bdata\":\"AAAAAAAA4D8AAAAAAADgPwAAAAAAAPh\\u002fAAAAAAAA4L8AAAAAAAASQAAAAAAAAPh\\u002f\"},\"type\":\"scatter\"},{\"line\":{\"color\":\"gray\"},\"meta\":{},\"mode\":\"lines\",\"name\":\"atoms separators\",\"opacity\":1,\"showlegend\":false,\"x\":{\"dtype\":\"f8\",\"bdata\":\"AAAAAAAA4L8AAAAAAAASQAAAAAAAAPh\\u002fAAAAAAAADEAAAAAAAAAMQAAAAAAAAPh\\u002f\"},\"y\":{\"dtype\":\"f8\",\"bdata\":\"AAAAAAAADEAAAAAAAAAMQAAAAAAAAPh\\u002fAAAAAAAA4L8AAAAAAAASQAAAAAAAAPh\\u002f\"},\"type\":\"scatter\"}],                        {\"template\":{\"layout\":{\"hovermode\":\"closest\",\"paper_bgcolor\":\"white\",\"plot_bgcolor\":\"white\",\"scene\":{\"xaxis\":{\"color\":\"black\",\"gridcolor\":\"#ccc\",\"gridwidth\":1,\"linewidth\":1,\"mirror\":true,\"showgrid\":false,\"showline\":true,\"ticklen\":5,\"ticks\":\"outside\",\"ticksuffix\":\" \",\"visible\":true,\"zeroline\":false,\"zerolinecolor\":\"#ccc\",\"zerolinewidth\":1},\"yaxis\":{\"color\":\"black\",\"gridcolor\":\"#ccc\",\"gridwidth\":1,\"linewidth\":1,\"mirror\":true,\"showgrid\":false,\"showline\":true,\"ticklen\":5,\"ticks\":\"outside\",\"ticksuffix\":\" \",\"visible\":true,\"zeroline\":false,\"zerolinecolor\":\"#ccc\",\"zerolinewidth\":1},\"zaxis\":{\"color\":\"black\",\"gridcolor\":\"#ccc\",\"gridwidth\":1,\"linewidth\":1,\"mirror\":true,\"showgrid\":false,\"showline\":true,\"ticklen\":5,\"ticks\":\"outside\",\"ticksuffix\":\" \",\"visible\":true,\"zeroline\":false,\"zerolinecolor\":\"#ccc\",\"zerolinewidth\":1}},\"xaxis\":{\"color\":\"black\",\"gridcolor\":\"#ccc\",\"gridwidth\":1,\"linewidth\":1,\"mirror\":true,\"showgrid\":false,\"showline\":true,\"ticklen\":5,\"ticks\":\"outside\",\"ticksuffix\":\" \",\"visible\":true,\"zeroline\":false,\"zerolinecolor\":\"#ccc\",\"zerolinewidth\":1},\"yaxis\":{\"color\":\"black\",\"gridcolor\":\"#ccc\",\"gridwidth\":1,\"linewidth\":1,\"mirror\":true,\"showgrid\":false,\"showline\":true,\"ticklen\":5,\"ticks\":\"outside\",\"ticksuffix\":\" \",\"visible\":true,\"zeroline\":false,\"zerolinecolor\":\"#ccc\",\"zerolinewidth\":1}}},\"coloraxis\":{\"colorscale\":[[0.0,\"rgb(0, 147, 146)\"],[0.16666666666666666,\"rgb(57, 177, 133)\"],[0.3333333333333333,\"rgb(156, 203, 134)\"],[0.5,\"rgb(233, 226, 156)\"],[0.6666666666666666,\"rgb(238, 180, 121)\"],[0.8333333333333334,\"rgb(232, 132, 113)\"],[1.0,\"rgb(207, 89, 126)\"]],\"cmid\":0,\"showscale\":false},\"xaxis\":{\"scaleanchor\":\"y\",\"scaleratio\":1,\"range\":[-0.5,14.5],\"constrain\":\"domain\"},\"scene\":{\"aspectmode\":\"data\",\"xaxis\":{\"range\":[-0.5,14.5]},\"yaxis\":{\"range\":[4.5,-0.5]}},\"yaxis\":{\"range\":[4.5,-0.5],\"constrain\":\"domain\"}},                        {\"responsive\": true}                    ).then(function(){\n",
       "                            \n",
       "var gd = document.getElementById('0ce00921-d43e-4880-9d02-c7a3c41c164b');\n",
       "var x = new MutationObserver(function (mutations, observer) {{\n",
       "        var display = window.getComputedStyle(gd).display;\n",
       "        if (!display || display === 'none') {{\n",
       "            console.log([gd, 'removed!']);\n",
       "            Plotly.purge(gd);\n",
       "            observer.disconnect();\n",
       "        }}\n",
       "}});\n",
       "\n",
       "// Listen for the removal of the full notebook cells\n",
       "var notebookContainer = gd.closest('#notebook-container');\n",
       "if (notebookContainer) {{\n",
       "    x.observe(notebookContainer, {childList: true});\n",
       "}}\n",
       "\n",
       "// Listen for the clearing of the current output cell\n",
       "var outputEl = gd.closest('.output');\n",
       "if (outputEl) {{\n",
       "    x.observe(outputEl, {childList: true});\n",
       "}}\n",
       "\n",
       "                        })                };            </script>        </div>"
      ]
     },
     "metadata": {},
     "output_type": "display_data"
    }
   ],
   "source": [
    "plot.update_inputs(\n",
    "    arrows=[\n",
    "        {\"color\": \"blue\", \"center\": \"start\", \"name\": \"Hamiltonian value\"},\n",
    "        {\"data\": arrow_data, \"color\": \"red\", \"center\": \"end\", \"name\": \"Some data\"},\n",
    "    ]\n",
    ")"
   ]
  }
 ],
 "metadata": {
  "kernelspec": {
   "display_name": "Python 3 (ipykernel)",
   "language": "python",
   "name": "python3"
  },
  "language_info": {
   "codemirror_mode": {
    "name": "ipython",
    "version": 3
   },
   "file_extension": ".py",
   "mimetype": "text/x-python",
   "name": "python",
   "nbconvert_exporter": "python",
   "pygments_lexer": "ipython3",
   "version": "3.12.11"
  }
 },
 "nbformat": 4,
 "nbformat_minor": 4
}
