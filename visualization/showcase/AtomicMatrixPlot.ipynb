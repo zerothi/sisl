{
 "cells": [
  {
   "cell_type": "markdown",
   "metadata": {
    "tags": [
     "notebook-header"
    ]
   },
   "source": [
    "[![GitHub issues by-label](https://img.shields.io/github/issues-raw/pfebrer/sisl/AtomicmatrixPlot?style=for-the-badge)](https://github.com/pfebrer/sisl/labels/AtomicMatrixPlot)"
   ]
  },
  {
   "cell_type": "markdown",
   "metadata": {},
   "source": [
    "AtomicMatrixPlot\n",
    "=========\n",
    "\n",
    "`AtomicMatrixPlot` allows you to visualize sparse matrices. This can help you:\n",
    "\n",
    "- **Understand sparse matrices better**, if you are new to them.\n",
    "- Easily **introspect matrices** to debug or understand how to implement new functionality."
   ]
  },
  {
   "cell_type": "code",
   "execution_count": 1,
   "metadata": {
    "execution": {
     "iopub.execute_input": "2025-10-08T12:09:28.444168Z",
     "iopub.status.busy": "2025-10-08T12:09:28.443991Z",
     "iopub.status.idle": "2025-10-08T12:09:29.396303Z",
     "shell.execute_reply": "2025-10-08T12:09:29.395599Z"
    }
   },
   "outputs": [],
   "source": [
    "import sisl\n",
    "\n",
    "import numpy as np"
   ]
  },
  {
   "cell_type": "markdown",
   "metadata": {},
   "source": [
    "Let's create a toy **Hamiltonian** that we will play with. We will use a chain with two atoms: \n",
    "\n",
    "  - C: With one s orbital and a set of p orbitals.\n",
    "  - H: With one s orbital."
   ]
  },
  {
   "cell_type": "code",
   "execution_count": 2,
   "metadata": {
    "execution": {
     "iopub.execute_input": "2025-10-08T12:09:29.398733Z",
     "iopub.status.busy": "2025-10-08T12:09:29.398426Z",
     "iopub.status.idle": "2025-10-08T12:09:29.421688Z",
     "shell.execute_reply": "2025-10-08T12:09:29.421175Z"
    }
   },
   "outputs": [],
   "source": [
    "# Create a C atom with s and p orbitals\n",
    "C = sisl.Atom(\n",
    "    \"C\",\n",
    "    orbitals=[\n",
    "        sisl.AtomicOrbital(\"2s\", R=0.8),\n",
    "        sisl.AtomicOrbital(\"2py\", R=0.8),\n",
    "        sisl.AtomicOrbital(\"2pz\", R=0.8),\n",
    "        sisl.AtomicOrbital(\"2px\", R=0.8),\n",
    "    ],\n",
    ")\n",
    "\n",
    "# Create a H atom with one s orbital\n",
    "H = sisl.Atom(\"H\", orbitals=[sisl.AtomicOrbital(\"1s\", R=0.4)])\n",
    "\n",
    "# Create a chain along X\n",
    "geom = sisl.Geometry(\n",
    "    [[0, 0, 0], [1, 0, 0]],\n",
    "    atoms=[C, H],\n",
    "    lattice=sisl.Lattice([2, 10, 10], nsc=[3, 1, 1]),\n",
    ")\n",
    "\n",
    "# Random Hamiltonian with non-zero elements only for orbitals that overlap\n",
    "H = sisl.Hamiltonian(geom)\n",
    "for i in range(geom.no):\n",
    "    for j in range(geom.no * 3):\n",
    "        dist = geom.rij(*geom.o2a([i, j]))\n",
    "        if dist < 1.2:\n",
    "            H[i, j] = (np.random.random() - 0.5) * (1 if j < geom.no else 0.2)\n",
    "# Symmetrize it to make it more realistic\n",
    "H = H + H.transpose()"
   ]
  },
  {
   "cell_type": "markdown",
   "metadata": {},
   "source": [
    "## Matrix as an image\n",
    "\n",
    "The default mode of `AtomicMatrixPlot` is simply to plot an image where the values of the matrix are encoded as colors:"
   ]
  },
  {
   "cell_type": "code",
   "execution_count": 3,
   "metadata": {
    "execution": {
     "iopub.execute_input": "2025-10-08T12:09:29.423480Z",
     "iopub.status.busy": "2025-10-08T12:09:29.423271Z",
     "iopub.status.idle": "2025-10-08T12:09:30.203510Z",
     "shell.execute_reply": "2025-10-08T12:09:30.202960Z"
    }
   },
   "outputs": [
    {
     "data": {
      "text/html": [
       "        <script type=\"text/javascript\">\n",
       "        window.PlotlyConfig = {MathJaxConfig: 'local'};\n",
       "        if (window.MathJax && window.MathJax.Hub && window.MathJax.Hub.Config) {window.MathJax.Hub.Config({SVG: {font: \"STIX-Web\"}});}\n",
       "        </script>\n",
       "        <script type=\"module\">import \"https://cdn.plot.ly/plotly-3.1.1.min\"</script>\n",
       "        "
      ]
     },
     "metadata": {},
     "output_type": "display_data"
    },
    {
     "data": {
      "text/html": [
       "<div>            <script src=\"https://cdnjs.cloudflare.com/ajax/libs/mathjax/2.7.5/MathJax.js?config=TeX-AMS-MML_SVG\"></script><script type=\"text/javascript\">if (window.MathJax && window.MathJax.Hub && window.MathJax.Hub.Config) {window.MathJax.Hub.Config({SVG: {font: \"STIX-Web\"}});}</script>                <script type=\"text/javascript\">window.PlotlyConfig = {MathJaxConfig: 'local'};</script>\n",
       "        <script charset=\"utf-8\" src=\"https://cdn.plot.ly/plotly-3.1.1.min.js\" integrity=\"sha256-HUEFyfiTnZJxCxur99FjbKYTvKSzwDaD3/x5TqHpFu4=\" crossorigin=\"anonymous\"></script>                <div id=\"9a7cca97-8474-40a9-bead-df86c773ddc2\" class=\"plotly-graph-div\" style=\"height:525px; width:100%;\"></div>            <script type=\"text/javascript\">                window.PLOTLYENV=window.PLOTLYENV || {};                                if (document.getElementById(\"9a7cca97-8474-40a9-bead-df86c773ddc2\")) {                    Plotly.newPlot(                        \"9a7cca97-8474-40a9-bead-df86c773ddc2\",                        [{\"coloraxis\":\"coloraxis\",\"meta\":{},\"opacity\":1,\"z\":{\"dtype\":\"f8\",\"bdata\":\"Phrwuseb6j+rlqOVK1jpPyCmucYXz9i\\u002f\\u002fhb\\u002fOmyF6T\\u002fAxcAYjmuEvwAAAAAAAPh\\u002fAAAAAAAA+H8AAAAAAAD4fwAAAAAAAPh\\u002fzKXsS\\u002fjMgz8AAAAAAAD4fwAAAAAAAPh\\u002fAAAAAAAA+H8AAAAAAAD4fwAAAAAAAPh\\u002fq5ajlStY6T+kGPkHOmjZP7jYA1kVVrU\\u002fMB2R12O4uL9vHqYIfyHovwAAAAAAAPh\\u002fAAAAAAAA+H8AAAAAAAD4fwAAAAAAAPh\\u002fDvrj\\u002fv9klL8AAAAAAAD4fwAAAAAAAPh\\u002fAAAAAAAA+H8AAAAAAAD4fwAAAAAAAPh\\u002fIKa5xhfP2L+42ANZFVa1P+CfdIIRF9+\\u002fAIA6K+RWYz9gHdalaceaPwAAAAAAAPh\\u002fAAAAAAAA+H8AAAAAAAD4fwAAAAAAAPh\\u002fLWMEwYCopT8AAAAAAAD4fwAAAAAAAPh\\u002fAAAAAAAA+H8AAAAAAAD4fwAAAAAAAPh\\u002f\\u002fhb\\u002fOmyF6T8wHZHXY7i4vwCAOivkVmM\\u002fIAEtqSY+77+LBVEihOPkPwAAAAAAAPh\\u002fAAAAAAAA+H8AAAAAAAD4fwAAAAAAAPh\\u002fTnkA7\\u002fLWnD8AAAAAAAD4fwAAAAAAAPh\\u002fAAAAAAAA+H8AAAAAAAD4fwAAAAAAAPh\\u002fwMXAGI5rhL9vHqYIfyHov2Ad1qVpx5o\\u002fiwVRIoTj5D+0o2N+J4jZPwAAAAAAAPh\\u002fAAAAAAAA+H8AAAAAAAD4fwAAAAAAAPh\\u002fAAAAAAAA+H\\u002fMpexL+MyDPw764\\u002f7\\u002fZJS\\u002fLWMEwYCopT9OeQDv8tacPwAAAAAAAPh\\u002f\",\"shape\":\"5, 15\"},\"zsmooth\":false,\"type\":\"heatmap\"}],                        {\"template\":{\"layout\":{\"hovermode\":\"closest\",\"paper_bgcolor\":\"white\",\"plot_bgcolor\":\"white\",\"scene\":{\"xaxis\":{\"color\":\"black\",\"gridcolor\":\"#ccc\",\"gridwidth\":1,\"linewidth\":1,\"mirror\":true,\"showgrid\":false,\"showline\":true,\"ticklen\":5,\"ticks\":\"outside\",\"ticksuffix\":\" \",\"visible\":true,\"zeroline\":false,\"zerolinecolor\":\"#ccc\",\"zerolinewidth\":1},\"yaxis\":{\"color\":\"black\",\"gridcolor\":\"#ccc\",\"gridwidth\":1,\"linewidth\":1,\"mirror\":true,\"showgrid\":false,\"showline\":true,\"ticklen\":5,\"ticks\":\"outside\",\"ticksuffix\":\" \",\"visible\":true,\"zeroline\":false,\"zerolinecolor\":\"#ccc\",\"zerolinewidth\":1},\"zaxis\":{\"color\":\"black\",\"gridcolor\":\"#ccc\",\"gridwidth\":1,\"linewidth\":1,\"mirror\":true,\"showgrid\":false,\"showline\":true,\"ticklen\":5,\"ticks\":\"outside\",\"ticksuffix\":\" \",\"visible\":true,\"zeroline\":false,\"zerolinecolor\":\"#ccc\",\"zerolinewidth\":1}},\"xaxis\":{\"color\":\"black\",\"gridcolor\":\"#ccc\",\"gridwidth\":1,\"linewidth\":1,\"mirror\":true,\"showgrid\":false,\"showline\":true,\"ticklen\":5,\"ticks\":\"outside\",\"ticksuffix\":\" \",\"visible\":true,\"zeroline\":false,\"zerolinecolor\":\"#ccc\",\"zerolinewidth\":1},\"yaxis\":{\"color\":\"black\",\"gridcolor\":\"#ccc\",\"gridwidth\":1,\"linewidth\":1,\"mirror\":true,\"showgrid\":false,\"showline\":true,\"ticklen\":5,\"ticks\":\"outside\",\"ticksuffix\":\" \",\"visible\":true,\"zeroline\":false,\"zerolinecolor\":\"#ccc\",\"zerolinewidth\":1}}},\"coloraxis\":{\"colorscale\":[[0.0,\"rgb(103,0,31)\"],[0.1,\"rgb(178,24,43)\"],[0.2,\"rgb(214,96,77)\"],[0.3,\"rgb(244,165,130)\"],[0.4,\"rgb(253,219,199)\"],[0.5,\"rgb(247,247,247)\"],[0.6,\"rgb(209,229,240)\"],[0.7,\"rgb(146,197,222)\"],[0.8,\"rgb(67,147,195)\"],[0.9,\"rgb(33,102,172)\"],[1.0,\"rgb(5,48,97)\"]],\"cmid\":0,\"showscale\":true},\"xaxis\":{\"scaleanchor\":\"y\",\"scaleratio\":1,\"range\":[-0.5,14.5],\"constrain\":\"domain\"},\"scene\":{\"aspectmode\":\"data\",\"xaxis\":{\"range\":[-0.5,14.5]},\"yaxis\":{\"range\":[4.5,-0.5]}},\"yaxis\":{\"range\":[4.5,-0.5],\"constrain\":\"domain\"}},                        {\"responsive\": true}                    ).then(function(){\n",
       "                            \n",
       "var gd = document.getElementById('9a7cca97-8474-40a9-bead-df86c773ddc2');\n",
       "var x = new MutationObserver(function (mutations, observer) {{\n",
       "        var display = window.getComputedStyle(gd).display;\n",
       "        if (!display || display === 'none') {{\n",
       "            console.log([gd, 'removed!']);\n",
       "            Plotly.purge(gd);\n",
       "            observer.disconnect();\n",
       "        }}\n",
       "}});\n",
       "\n",
       "// Listen for the removal of the full notebook cells\n",
       "var notebookContainer = gd.closest('#notebook-container');\n",
       "if (notebookContainer) {{\n",
       "    x.observe(notebookContainer, {childList: true});\n",
       "}}\n",
       "\n",
       "// Listen for the clearing of the current output cell\n",
       "var outputEl = gd.closest('.output');\n",
       "if (outputEl) {{\n",
       "    x.observe(outputEl, {childList: true});\n",
       "}}\n",
       "\n",
       "                        })                };            </script>        </div>"
      ]
     },
     "metadata": {},
     "output_type": "display_data"
    }
   ],
   "source": [
    "plot = H.plot()\n",
    "plot.get()"
   ]
  },
  {
   "cell_type": "markdown",
   "metadata": {},
   "source": [
    "## Changing the colorscale\n",
    "\n",
    "The most obvious thing to tweak here is the colorscale, you can do so by using the `colorscale` input, which, as usual, accepts any colorscale that the plotting backend can understand."
   ]
  },
  {
   "cell_type": "code",
   "execution_count": 4,
   "metadata": {
    "execution": {
     "iopub.execute_input": "2025-10-08T12:09:30.205386Z",
     "iopub.status.busy": "2025-10-08T12:09:30.205166Z",
     "iopub.status.idle": "2025-10-08T12:09:30.303701Z",
     "shell.execute_reply": "2025-10-08T12:09:30.303165Z"
    }
   },
   "outputs": [
    {
     "name": "stderr",
     "output_type": "stream",
     "text": [
      "INFO\tTask(Task-2) nodify.node.140358110017536:node.py:get()- No need to evaluate\n"
     ]
    },
    {
     "name": "stderr",
     "output_type": "stream",
     "text": [
      "INFO\tTask(Task-2) nodify.node.140358110010960:node.py:get()- No need to evaluate\n"
     ]
    },
    {
     "name": "stderr",
     "output_type": "stream",
     "text": [
      "INFO\tTask(Task-2) nodify.node.140358110010768:node.py:get()- No need to evaluate\n"
     ]
    },
    {
     "name": "stderr",
     "output_type": "stream",
     "text": [
      "INFO\tTask(Task-2) nodify.node.140358110012352:node.py:get()- No need to evaluate\n"
     ]
    },
    {
     "name": "stderr",
     "output_type": "stream",
     "text": [
      "INFO\tTask(Task-2) nodify.node.140358110011728:node.py:get()- No need to evaluate\n"
     ]
    },
    {
     "name": "stderr",
     "output_type": "stream",
     "text": [
      "INFO\tTask(Task-2) nodify.node.140358110019312:node.py:get()- No need to evaluate\n"
     ]
    },
    {
     "name": "stderr",
     "output_type": "stream",
     "text": [
      "INFO\tTask(Task-2) nodify.node.140358110014464:node.py:get()- Evaluated because inputs changed.\n"
     ]
    },
    {
     "name": "stderr",
     "output_type": "stream",
     "text": [
      "INFO\tTask(Task-2) nodify.node.140358110014848:node.py:get()- No need to evaluate\n"
     ]
    },
    {
     "name": "stderr",
     "output_type": "stream",
     "text": [
      "INFO\tTask(Task-2) nodify.node.140358110010960:node.py:get()- No need to evaluate\n"
     ]
    },
    {
     "name": "stderr",
     "output_type": "stream",
     "text": [
      "INFO\tTask(Task-2) nodify.node.140358110015232:node.py:get()- No need to evaluate\n"
     ]
    },
    {
     "name": "stderr",
     "output_type": "stream",
     "text": [
      "INFO\tTask(Task-2) nodify.node.140358110014848:node.py:get()- No need to evaluate\n"
     ]
    },
    {
     "name": "stderr",
     "output_type": "stream",
     "text": [
      "INFO\tTask(Task-2) nodify.node.140358110102592:node.py:get()- No need to evaluate\n"
     ]
    },
    {
     "name": "stderr",
     "output_type": "stream",
     "text": [
      "INFO\tTask(Task-2) nodify.node.140358110014080:node.py:get()- No need to evaluate\n"
     ]
    },
    {
     "name": "stderr",
     "output_type": "stream",
     "text": [
      "INFO\tTask(Task-2) nodify.node.140358110015616:node.py:get()- No need to evaluate\n"
     ]
    },
    {
     "name": "stderr",
     "output_type": "stream",
     "text": [
      "INFO\tTask(Task-2) nodify.node.140358110016000:node.py:get()- No need to evaluate\n"
     ]
    },
    {
     "name": "stderr",
     "output_type": "stream",
     "text": [
      "INFO\tTask(Task-2) nodify.node.140358110102496:node.py:get()- Evaluated because inputs changed.\n"
     ]
    },
    {
     "name": "stderr",
     "output_type": "stream",
     "text": [
      "INFO\tTask(Task-2) nodify.node.140358110010960:node.py:get()- No need to evaluate\n"
     ]
    },
    {
     "name": "stderr",
     "output_type": "stream",
     "text": [
      "INFO\tTask(Task-2) nodify.node.140358110010768:node.py:get()- No need to evaluate\n"
     ]
    },
    {
     "name": "stderr",
     "output_type": "stream",
     "text": [
      "INFO\tTask(Task-2) nodify.node.140358110012352:node.py:get()- No need to evaluate\n"
     ]
    },
    {
     "name": "stderr",
     "output_type": "stream",
     "text": [
      "INFO\tTask(Task-2) nodify.node.140358110011728:node.py:get()- No need to evaluate\n"
     ]
    },
    {
     "name": "stderr",
     "output_type": "stream",
     "text": [
      "INFO\tTask(Task-2) nodify.node.140358110019312:node.py:get()- No need to evaluate\n"
     ]
    },
    {
     "name": "stderr",
     "output_type": "stream",
     "text": [
      "INFO\tTask(Task-2) nodify.node.140358110017152:node.py:get()- No need to evaluate\n"
     ]
    },
    {
     "name": "stderr",
     "output_type": "stream",
     "text": [
      "INFO\tTask(Task-2) nodify.node.140358110103264:node.py:get()- No need to evaluate\n"
     ]
    },
    {
     "name": "stderr",
     "output_type": "stream",
     "text": [
      "INFO\tTask(Task-2) nodify.node.140358110102640:node.py:get()- No need to evaluate\n"
     ]
    },
    {
     "name": "stderr",
     "output_type": "stream",
     "text": [
      "INFO\tTask(Task-2) nodify.node.140358110012928:node.py:get()- No need to evaluate\n"
     ]
    },
    {
     "name": "stderr",
     "output_type": "stream",
     "text": [
      "INFO\tTask(Task-2) nodify.node.140358110010960:node.py:get()- No need to evaluate\n"
     ]
    },
    {
     "name": "stderr",
     "output_type": "stream",
     "text": [
      "INFO\tTask(Task-2) nodify.node.140358110012784:node.py:get()- No need to evaluate\n"
     ]
    },
    {
     "name": "stderr",
     "output_type": "stream",
     "text": [
      "INFO\tTask(Task-2) nodify.node.140358110018832:node.py:get()- No need to evaluate\n"
     ]
    },
    {
     "name": "stderr",
     "output_type": "stream",
     "text": [
      "INFO\tTask(Task-2) nodify.node.140358110010960:node.py:get()- No need to evaluate\n"
     ]
    },
    {
     "name": "stderr",
     "output_type": "stream",
     "text": [
      "INFO\tTask(Task-2) nodify.node.140358110019408:node.py:get()- No need to evaluate\n"
     ]
    },
    {
     "name": "stderr",
     "output_type": "stream",
     "text": [
      "INFO\tTask(Task-2) nodify.node.140358110103312:node.py:get()- No need to evaluate\n"
     ]
    },
    {
     "name": "stderr",
     "output_type": "stream",
     "text": [
      "INFO\tTask(Task-2) nodify.node.140358110013264:node.py:get()- No need to evaluate\n"
     ]
    },
    {
     "name": "stderr",
     "output_type": "stream",
     "text": [
      "INFO\tTask(Task-2) nodify.node.140358110010960:node.py:get()- No need to evaluate\n"
     ]
    },
    {
     "name": "stderr",
     "output_type": "stream",
     "text": [
      "INFO\tTask(Task-2) nodify.node.140358110012784:node.py:get()- No need to evaluate\n"
     ]
    },
    {
     "name": "stderr",
     "output_type": "stream",
     "text": [
      "INFO\tTask(Task-2) nodify.node.140358110018832:node.py:get()- No need to evaluate\n"
     ]
    },
    {
     "name": "stderr",
     "output_type": "stream",
     "text": [
      "INFO\tTask(Task-2) nodify.node.140358110010960:node.py:get()- No need to evaluate\n"
     ]
    },
    {
     "name": "stderr",
     "output_type": "stream",
     "text": [
      "INFO\tTask(Task-2) nodify.node.140358110019408:node.py:get()- No need to evaluate\n"
     ]
    },
    {
     "name": "stderr",
     "output_type": "stream",
     "text": [
      "INFO\tTask(Task-2) nodify.node.140358110103984:node.py:get()- No need to evaluate\n"
     ]
    },
    {
     "name": "stderr",
     "output_type": "stream",
     "text": [
      "INFO\tTask(Task-2) nodify.node.140358110013648:node.py:get()- No need to evaluate\n"
     ]
    },
    {
     "name": "stderr",
     "output_type": "stream",
     "text": [
      "INFO\tTask(Task-2) nodify.node.140358110010960:node.py:get()- No need to evaluate\n"
     ]
    },
    {
     "name": "stderr",
     "output_type": "stream",
     "text": [
      "INFO\tTask(Task-2) nodify.node.140358110012784:node.py:get()- No need to evaluate\n"
     ]
    },
    {
     "name": "stderr",
     "output_type": "stream",
     "text": [
      "INFO\tTask(Task-2) nodify.node.140358110018832:node.py:get()- No need to evaluate\n"
     ]
    },
    {
     "name": "stderr",
     "output_type": "stream",
     "text": [
      "INFO\tTask(Task-2) nodify.node.140358110010960:node.py:get()- No need to evaluate\n"
     ]
    },
    {
     "name": "stderr",
     "output_type": "stream",
     "text": [
      "INFO\tTask(Task-2) nodify.node.140358110019408:node.py:get()- No need to evaluate\n"
     ]
    },
    {
     "name": "stderr",
     "output_type": "stream",
     "text": [
      "INFO\tTask(Task-2) nodify.node.140358110104320:node.py:get()- No need to evaluate\n"
     ]
    },
    {
     "name": "stderr",
     "output_type": "stream",
     "text": [
      "INFO\tTask(Task-2) nodify.node.140358110010960:node.py:get()- No need to evaluate\n"
     ]
    },
    {
     "name": "stderr",
     "output_type": "stream",
     "text": [
      "INFO\tTask(Task-2) nodify.node.140358110010768:node.py:get()- No need to evaluate\n"
     ]
    },
    {
     "name": "stderr",
     "output_type": "stream",
     "text": [
      "INFO\tTask(Task-2) nodify.node.140358110012352:node.py:get()- No need to evaluate\n"
     ]
    },
    {
     "name": "stderr",
     "output_type": "stream",
     "text": [
      "INFO\tTask(Task-2) nodify.node.140358110011728:node.py:get()- No need to evaluate\n"
     ]
    },
    {
     "name": "stderr",
     "output_type": "stream",
     "text": [
      "INFO\tTask(Task-2) nodify.node.140358110019312:node.py:get()- No need to evaluate\n"
     ]
    },
    {
     "name": "stderr",
     "output_type": "stream",
     "text": [
      "INFO\tTask(Task-2) nodify.node.140358110010960:node.py:get()- No need to evaluate\n"
     ]
    },
    {
     "name": "stderr",
     "output_type": "stream",
     "text": [
      "INFO\tTask(Task-2) nodify.node.140358110012784:node.py:get()- No need to evaluate\n"
     ]
    },
    {
     "name": "stderr",
     "output_type": "stream",
     "text": [
      "INFO\tTask(Task-2) nodify.node.140358110018832:node.py:get()- No need to evaluate\n"
     ]
    },
    {
     "name": "stderr",
     "output_type": "stream",
     "text": [
      "INFO\tTask(Task-2) nodify.node.140358110010960:node.py:get()- No need to evaluate\n"
     ]
    },
    {
     "name": "stderr",
     "output_type": "stream",
     "text": [
      "INFO\tTask(Task-2) nodify.node.140358110019408:node.py:get()- No need to evaluate\n"
     ]
    },
    {
     "name": "stderr",
     "output_type": "stream",
     "text": [
      "INFO\tTask(Task-2) nodify.node.140358110016768:node.py:get()- No need to evaluate\n"
     ]
    },
    {
     "name": "stderr",
     "output_type": "stream",
     "text": [
      "INFO\tTask(Task-2) nodify.node.140358110016384:node.py:get()- No need to evaluate\n"
     ]
    },
    {
     "name": "stderr",
     "output_type": "stream",
     "text": [
      "INFO\tTask(Task-2) nodify.node.140358110019120:node.py:get()- No need to evaluate\n"
     ]
    },
    {
     "name": "stderr",
     "output_type": "stream",
     "text": [
      "INFO\tTask(Task-2) nodify.node.140358110019552:node.py:get()- Evaluated because inputs changed.\n"
     ]
    },
    {
     "name": "stderr",
     "output_type": "stream",
     "text": [
      "INFO\tTask(Task-2) nodify.node.140358110104800:node.py:get()- Evaluated because inputs changed.\n"
     ]
    },
    {
     "name": "stderr",
     "output_type": "stream",
     "text": [
      "INFO\tTask(Task-2) nodify.node.140358110105280:node.py:get()- Evaluated because inputs changed.\n"
     ]
    },
    {
     "data": {
      "text/html": [
       "<div>            <script src=\"https://cdnjs.cloudflare.com/ajax/libs/mathjax/2.7.5/MathJax.js?config=TeX-AMS-MML_SVG\"></script><script type=\"text/javascript\">if (window.MathJax && window.MathJax.Hub && window.MathJax.Hub.Config) {window.MathJax.Hub.Config({SVG: {font: \"STIX-Web\"}});}</script>                <script type=\"text/javascript\">window.PlotlyConfig = {MathJaxConfig: 'local'};</script>\n",
       "        <script charset=\"utf-8\" src=\"https://cdn.plot.ly/plotly-3.1.1.min.js\" integrity=\"sha256-HUEFyfiTnZJxCxur99FjbKYTvKSzwDaD3/x5TqHpFu4=\" crossorigin=\"anonymous\"></script>                <div id=\"08da4ad3-040e-4ad9-a7ac-ee8bd496420e\" class=\"plotly-graph-div\" style=\"height:525px; width:100%;\"></div>            <script type=\"text/javascript\">                window.PLOTLYENV=window.PLOTLYENV || {};                                if (document.getElementById(\"08da4ad3-040e-4ad9-a7ac-ee8bd496420e\")) {                    Plotly.newPlot(                        \"08da4ad3-040e-4ad9-a7ac-ee8bd496420e\",                        [{\"coloraxis\":\"coloraxis\",\"meta\":{},\"opacity\":1,\"z\":{\"dtype\":\"f8\",\"bdata\":\"Phrwuseb6j+rlqOVK1jpPyCmucYXz9i\\u002f\\u002fhb\\u002fOmyF6T\\u002fAxcAYjmuEvwAAAAAAAPh\\u002fAAAAAAAA+H8AAAAAAAD4fwAAAAAAAPh\\u002fzKXsS\\u002fjMgz8AAAAAAAD4fwAAAAAAAPh\\u002fAAAAAAAA+H8AAAAAAAD4fwAAAAAAAPh\\u002fq5ajlStY6T+kGPkHOmjZP7jYA1kVVrU\\u002fMB2R12O4uL9vHqYIfyHovwAAAAAAAPh\\u002fAAAAAAAA+H8AAAAAAAD4fwAAAAAAAPh\\u002fDvrj\\u002fv9klL8AAAAAAAD4fwAAAAAAAPh\\u002fAAAAAAAA+H8AAAAAAAD4fwAAAAAAAPh\\u002fIKa5xhfP2L+42ANZFVa1P+CfdIIRF9+\\u002fAIA6K+RWYz9gHdalaceaPwAAAAAAAPh\\u002fAAAAAAAA+H8AAAAAAAD4fwAAAAAAAPh\\u002fLWMEwYCopT8AAAAAAAD4fwAAAAAAAPh\\u002fAAAAAAAA+H8AAAAAAAD4fwAAAAAAAPh\\u002f\\u002fhb\\u002fOmyF6T8wHZHXY7i4vwCAOivkVmM\\u002fIAEtqSY+77+LBVEihOPkPwAAAAAAAPh\\u002fAAAAAAAA+H8AAAAAAAD4fwAAAAAAAPh\\u002fTnkA7\\u002fLWnD8AAAAAAAD4fwAAAAAAAPh\\u002fAAAAAAAA+H8AAAAAAAD4fwAAAAAAAPh\\u002fwMXAGI5rhL9vHqYIfyHov2Ad1qVpx5o\\u002fiwVRIoTj5D+0o2N+J4jZPwAAAAAAAPh\\u002fAAAAAAAA+H8AAAAAAAD4fwAAAAAAAPh\\u002fAAAAAAAA+H\\u002fMpexL+MyDPw764\\u002f7\\u002fZJS\\u002fLWMEwYCopT9OeQDv8tacPwAAAAAAAPh\\u002f\",\"shape\":\"5, 15\"},\"zsmooth\":false,\"type\":\"heatmap\"}],                        {\"template\":{\"layout\":{\"hovermode\":\"closest\",\"paper_bgcolor\":\"white\",\"plot_bgcolor\":\"white\",\"scene\":{\"xaxis\":{\"color\":\"black\",\"gridcolor\":\"#ccc\",\"gridwidth\":1,\"linewidth\":1,\"mirror\":true,\"showgrid\":false,\"showline\":true,\"ticklen\":5,\"ticks\":\"outside\",\"ticksuffix\":\" \",\"visible\":true,\"zeroline\":false,\"zerolinecolor\":\"#ccc\",\"zerolinewidth\":1},\"yaxis\":{\"color\":\"black\",\"gridcolor\":\"#ccc\",\"gridwidth\":1,\"linewidth\":1,\"mirror\":true,\"showgrid\":false,\"showline\":true,\"ticklen\":5,\"ticks\":\"outside\",\"ticksuffix\":\" \",\"visible\":true,\"zeroline\":false,\"zerolinecolor\":\"#ccc\",\"zerolinewidth\":1},\"zaxis\":{\"color\":\"black\",\"gridcolor\":\"#ccc\",\"gridwidth\":1,\"linewidth\":1,\"mirror\":true,\"showgrid\":false,\"showline\":true,\"ticklen\":5,\"ticks\":\"outside\",\"ticksuffix\":\" \",\"visible\":true,\"zeroline\":false,\"zerolinecolor\":\"#ccc\",\"zerolinewidth\":1}},\"xaxis\":{\"color\":\"black\",\"gridcolor\":\"#ccc\",\"gridwidth\":1,\"linewidth\":1,\"mirror\":true,\"showgrid\":false,\"showline\":true,\"ticklen\":5,\"ticks\":\"outside\",\"ticksuffix\":\" \",\"visible\":true,\"zeroline\":false,\"zerolinecolor\":\"#ccc\",\"zerolinewidth\":1},\"yaxis\":{\"color\":\"black\",\"gridcolor\":\"#ccc\",\"gridwidth\":1,\"linewidth\":1,\"mirror\":true,\"showgrid\":false,\"showline\":true,\"ticklen\":5,\"ticks\":\"outside\",\"ticksuffix\":\" \",\"visible\":true,\"zeroline\":false,\"zerolinecolor\":\"#ccc\",\"zerolinewidth\":1}}},\"coloraxis\":{\"colorscale\":[[0.0,\"rgb(0, 147, 146)\"],[0.16666666666666666,\"rgb(57, 177, 133)\"],[0.3333333333333333,\"rgb(156, 203, 134)\"],[0.5,\"rgb(233, 226, 156)\"],[0.6666666666666666,\"rgb(238, 180, 121)\"],[0.8333333333333334,\"rgb(232, 132, 113)\"],[1.0,\"rgb(207, 89, 126)\"]],\"cmid\":0,\"showscale\":true},\"xaxis\":{\"scaleanchor\":\"y\",\"scaleratio\":1,\"range\":[-0.5,14.5],\"constrain\":\"domain\"},\"scene\":{\"aspectmode\":\"data\",\"xaxis\":{\"range\":[-0.5,14.5]},\"yaxis\":{\"range\":[4.5,-0.5]}},\"yaxis\":{\"range\":[4.5,-0.5],\"constrain\":\"domain\"}},                        {\"responsive\": true}                    ).then(function(){\n",
       "                            \n",
       "var gd = document.getElementById('08da4ad3-040e-4ad9-a7ac-ee8bd496420e');\n",
       "var x = new MutationObserver(function (mutations, observer) {{\n",
       "        var display = window.getComputedStyle(gd).display;\n",
       "        if (!display || display === 'none') {{\n",
       "            console.log([gd, 'removed!']);\n",
       "            Plotly.purge(gd);\n",
       "            observer.disconnect();\n",
       "        }}\n",
       "}});\n",
       "\n",
       "// Listen for the removal of the full notebook cells\n",
       "var notebookContainer = gd.closest('#notebook-container');\n",
       "if (notebookContainer) {{\n",
       "    x.observe(notebookContainer, {childList: true});\n",
       "}}\n",
       "\n",
       "// Listen for the clearing of the current output cell\n",
       "var outputEl = gd.closest('.output');\n",
       "if (outputEl) {{\n",
       "    x.observe(outputEl, {childList: true});\n",
       "}}\n",
       "\n",
       "                        })                };            </script>        </div>"
      ]
     },
     "metadata": {},
     "output_type": "display_data"
    }
   ],
   "source": [
    "plot.update_inputs(colorscale=\"temps\")"
   ]
  },
  {
   "cell_type": "markdown",
   "metadata": {},
   "source": [
    "Note how the `temps` colorscale makes it more clear that there are elements of the matrix that are not set (because the matrix is sparse). Those elements are not displayed.\n",
    "\n",
    "The range of colors **by default is set from min to max**. **Unless there are negative and positive values**. In that case, the colorscale is just **centered at 0** by default.\n",
    "\n",
    "However, you can set the `crange` and `cmid` to customize the colorscale as you wish. For example, to center the scale at `0.5`:"
   ]
  },
  {
   "cell_type": "code",
   "execution_count": 5,
   "metadata": {
    "execution": {
     "iopub.execute_input": "2025-10-08T12:09:30.305632Z",
     "iopub.status.busy": "2025-10-08T12:09:30.305407Z",
     "iopub.status.idle": "2025-10-08T12:09:30.398524Z",
     "shell.execute_reply": "2025-10-08T12:09:30.397955Z"
    }
   },
   "outputs": [
    {
     "name": "stderr",
     "output_type": "stream",
     "text": [
      "INFO\tTask(Task-2) nodify.node.140358110017536:node.py:get()- No need to evaluate\n"
     ]
    },
    {
     "name": "stderr",
     "output_type": "stream",
     "text": [
      "INFO\tTask(Task-2) nodify.node.140358110010960:node.py:get()- No need to evaluate\n"
     ]
    },
    {
     "name": "stderr",
     "output_type": "stream",
     "text": [
      "INFO\tTask(Task-2) nodify.node.140358110010768:node.py:get()- No need to evaluate\n"
     ]
    },
    {
     "name": "stderr",
     "output_type": "stream",
     "text": [
      "INFO\tTask(Task-2) nodify.node.140358110012352:node.py:get()- No need to evaluate\n"
     ]
    },
    {
     "name": "stderr",
     "output_type": "stream",
     "text": [
      "INFO\tTask(Task-2) nodify.node.140358110011728:node.py:get()- No need to evaluate\n"
     ]
    },
    {
     "name": "stderr",
     "output_type": "stream",
     "text": [
      "INFO\tTask(Task-2) nodify.node.140358110019312:node.py:get()- No need to evaluate\n"
     ]
    },
    {
     "name": "stderr",
     "output_type": "stream",
     "text": [
      "INFO\tTask(Task-2) nodify.node.140358110014464:node.py:get()- No need to evaluate\n"
     ]
    },
    {
     "name": "stderr",
     "output_type": "stream",
     "text": [
      "INFO\tTask(Task-2) nodify.node.140358110014848:node.py:get()- No need to evaluate\n"
     ]
    },
    {
     "name": "stderr",
     "output_type": "stream",
     "text": [
      "INFO\tTask(Task-2) nodify.node.140358110010960:node.py:get()- No need to evaluate\n"
     ]
    },
    {
     "name": "stderr",
     "output_type": "stream",
     "text": [
      "INFO\tTask(Task-2) nodify.node.140358110015232:node.py:get()- Evaluated because inputs changed.\n"
     ]
    },
    {
     "name": "stderr",
     "output_type": "stream",
     "text": [
      "INFO\tTask(Task-2) nodify.node.140358110014848:node.py:get()- No need to evaluate\n"
     ]
    },
    {
     "name": "stderr",
     "output_type": "stream",
     "text": [
      "INFO\tTask(Task-2) nodify.node.140358110102592:node.py:get()- Evaluated because inputs changed.\n"
     ]
    },
    {
     "name": "stderr",
     "output_type": "stream",
     "text": [
      "INFO\tTask(Task-2) nodify.node.140358110014080:node.py:get()- No need to evaluate\n"
     ]
    },
    {
     "name": "stderr",
     "output_type": "stream",
     "text": [
      "INFO\tTask(Task-2) nodify.node.140358110015616:node.py:get()- No need to evaluate\n"
     ]
    },
    {
     "name": "stderr",
     "output_type": "stream",
     "text": [
      "INFO\tTask(Task-2) nodify.node.140358110016000:node.py:get()- No need to evaluate\n"
     ]
    },
    {
     "name": "stderr",
     "output_type": "stream",
     "text": [
      "INFO\tTask(Task-2) nodify.node.140358110102496:node.py:get()- Evaluated because inputs changed.\n"
     ]
    },
    {
     "name": "stderr",
     "output_type": "stream",
     "text": [
      "INFO\tTask(Task-2) nodify.node.140358110010960:node.py:get()- No need to evaluate\n"
     ]
    },
    {
     "name": "stderr",
     "output_type": "stream",
     "text": [
      "INFO\tTask(Task-2) nodify.node.140358110010768:node.py:get()- No need to evaluate\n"
     ]
    },
    {
     "name": "stderr",
     "output_type": "stream",
     "text": [
      "INFO\tTask(Task-2) nodify.node.140358110012352:node.py:get()- No need to evaluate\n"
     ]
    },
    {
     "name": "stderr",
     "output_type": "stream",
     "text": [
      "INFO\tTask(Task-2) nodify.node.140358110011728:node.py:get()- No need to evaluate\n"
     ]
    },
    {
     "name": "stderr",
     "output_type": "stream",
     "text": [
      "INFO\tTask(Task-2) nodify.node.140358110019312:node.py:get()- No need to evaluate\n"
     ]
    },
    {
     "name": "stderr",
     "output_type": "stream",
     "text": [
      "INFO\tTask(Task-2) nodify.node.140358110017152:node.py:get()- No need to evaluate\n"
     ]
    },
    {
     "name": "stderr",
     "output_type": "stream",
     "text": [
      "INFO\tTask(Task-2) nodify.node.140358110103264:node.py:get()- No need to evaluate\n"
     ]
    },
    {
     "name": "stderr",
     "output_type": "stream",
     "text": [
      "INFO\tTask(Task-2) nodify.node.140358110102640:node.py:get()- No need to evaluate\n"
     ]
    },
    {
     "name": "stderr",
     "output_type": "stream",
     "text": [
      "INFO\tTask(Task-2) nodify.node.140358110012928:node.py:get()- No need to evaluate\n"
     ]
    },
    {
     "name": "stderr",
     "output_type": "stream",
     "text": [
      "INFO\tTask(Task-2) nodify.node.140358110010960:node.py:get()- No need to evaluate\n"
     ]
    },
    {
     "name": "stderr",
     "output_type": "stream",
     "text": [
      "INFO\tTask(Task-2) nodify.node.140358110012784:node.py:get()- No need to evaluate\n"
     ]
    },
    {
     "name": "stderr",
     "output_type": "stream",
     "text": [
      "INFO\tTask(Task-2) nodify.node.140358110018832:node.py:get()- No need to evaluate\n"
     ]
    },
    {
     "name": "stderr",
     "output_type": "stream",
     "text": [
      "INFO\tTask(Task-2) nodify.node.140358110010960:node.py:get()- No need to evaluate\n"
     ]
    },
    {
     "name": "stderr",
     "output_type": "stream",
     "text": [
      "INFO\tTask(Task-2) nodify.node.140358110019408:node.py:get()- No need to evaluate\n"
     ]
    },
    {
     "name": "stderr",
     "output_type": "stream",
     "text": [
      "INFO\tTask(Task-2) nodify.node.140358110103312:node.py:get()- No need to evaluate\n"
     ]
    },
    {
     "name": "stderr",
     "output_type": "stream",
     "text": [
      "INFO\tTask(Task-2) nodify.node.140358110013264:node.py:get()- No need to evaluate\n"
     ]
    },
    {
     "name": "stderr",
     "output_type": "stream",
     "text": [
      "INFO\tTask(Task-2) nodify.node.140358110010960:node.py:get()- No need to evaluate\n"
     ]
    },
    {
     "name": "stderr",
     "output_type": "stream",
     "text": [
      "INFO\tTask(Task-2) nodify.node.140358110012784:node.py:get()- No need to evaluate\n"
     ]
    },
    {
     "name": "stderr",
     "output_type": "stream",
     "text": [
      "INFO\tTask(Task-2) nodify.node.140358110018832:node.py:get()- No need to evaluate\n"
     ]
    },
    {
     "name": "stderr",
     "output_type": "stream",
     "text": [
      "INFO\tTask(Task-2) nodify.node.140358110010960:node.py:get()- No need to evaluate\n"
     ]
    },
    {
     "name": "stderr",
     "output_type": "stream",
     "text": [
      "INFO\tTask(Task-2) nodify.node.140358110019408:node.py:get()- No need to evaluate\n"
     ]
    },
    {
     "name": "stderr",
     "output_type": "stream",
     "text": [
      "INFO\tTask(Task-2) nodify.node.140358110103984:node.py:get()- No need to evaluate\n"
     ]
    },
    {
     "name": "stderr",
     "output_type": "stream",
     "text": [
      "INFO\tTask(Task-2) nodify.node.140358110013648:node.py:get()- No need to evaluate\n"
     ]
    },
    {
     "name": "stderr",
     "output_type": "stream",
     "text": [
      "INFO\tTask(Task-2) nodify.node.140358110010960:node.py:get()- No need to evaluate\n"
     ]
    },
    {
     "name": "stderr",
     "output_type": "stream",
     "text": [
      "INFO\tTask(Task-2) nodify.node.140358110012784:node.py:get()- No need to evaluate\n"
     ]
    },
    {
     "name": "stderr",
     "output_type": "stream",
     "text": [
      "INFO\tTask(Task-2) nodify.node.140358110018832:node.py:get()- No need to evaluate\n"
     ]
    },
    {
     "name": "stderr",
     "output_type": "stream",
     "text": [
      "INFO\tTask(Task-2) nodify.node.140358110010960:node.py:get()- No need to evaluate\n"
     ]
    },
    {
     "name": "stderr",
     "output_type": "stream",
     "text": [
      "INFO\tTask(Task-2) nodify.node.140358110019408:node.py:get()- No need to evaluate\n"
     ]
    },
    {
     "name": "stderr",
     "output_type": "stream",
     "text": [
      "INFO\tTask(Task-2) nodify.node.140358110104320:node.py:get()- No need to evaluate\n"
     ]
    },
    {
     "name": "stderr",
     "output_type": "stream",
     "text": [
      "INFO\tTask(Task-2) nodify.node.140358110010960:node.py:get()- No need to evaluate\n"
     ]
    },
    {
     "name": "stderr",
     "output_type": "stream",
     "text": [
      "INFO\tTask(Task-2) nodify.node.140358110010768:node.py:get()- No need to evaluate\n"
     ]
    },
    {
     "name": "stderr",
     "output_type": "stream",
     "text": [
      "INFO\tTask(Task-2) nodify.node.140358110012352:node.py:get()- No need to evaluate\n"
     ]
    },
    {
     "name": "stderr",
     "output_type": "stream",
     "text": [
      "INFO\tTask(Task-2) nodify.node.140358110011728:node.py:get()- No need to evaluate\n"
     ]
    },
    {
     "name": "stderr",
     "output_type": "stream",
     "text": [
      "INFO\tTask(Task-2) nodify.node.140358110019312:node.py:get()- No need to evaluate\n"
     ]
    },
    {
     "name": "stderr",
     "output_type": "stream",
     "text": [
      "INFO\tTask(Task-2) nodify.node.140358110010960:node.py:get()- No need to evaluate\n"
     ]
    },
    {
     "name": "stderr",
     "output_type": "stream",
     "text": [
      "INFO\tTask(Task-2) nodify.node.140358110012784:node.py:get()- No need to evaluate\n"
     ]
    },
    {
     "name": "stderr",
     "output_type": "stream",
     "text": [
      "INFO\tTask(Task-2) nodify.node.140358110018832:node.py:get()- No need to evaluate\n"
     ]
    },
    {
     "name": "stderr",
     "output_type": "stream",
     "text": [
      "INFO\tTask(Task-2) nodify.node.140358110010960:node.py:get()- No need to evaluate\n"
     ]
    },
    {
     "name": "stderr",
     "output_type": "stream",
     "text": [
      "INFO\tTask(Task-2) nodify.node.140358110019408:node.py:get()- No need to evaluate\n"
     ]
    },
    {
     "name": "stderr",
     "output_type": "stream",
     "text": [
      "INFO\tTask(Task-2) nodify.node.140358110016768:node.py:get()- No need to evaluate\n"
     ]
    },
    {
     "name": "stderr",
     "output_type": "stream",
     "text": [
      "INFO\tTask(Task-2) nodify.node.140358110016384:node.py:get()- No need to evaluate\n"
     ]
    },
    {
     "name": "stderr",
     "output_type": "stream",
     "text": [
      "INFO\tTask(Task-2) nodify.node.140358110019120:node.py:get()- No need to evaluate\n"
     ]
    },
    {
     "name": "stderr",
     "output_type": "stream",
     "text": [
      "INFO\tTask(Task-2) nodify.node.140358110019552:node.py:get()- Evaluated because inputs changed.\n"
     ]
    },
    {
     "name": "stderr",
     "output_type": "stream",
     "text": [
      "INFO\tTask(Task-2) nodify.node.140358110104800:node.py:get()- Evaluated because inputs changed.\n"
     ]
    },
    {
     "name": "stderr",
     "output_type": "stream",
     "text": [
      "INFO\tTask(Task-2) nodify.node.140358110105280:node.py:get()- Evaluated because inputs changed.\n"
     ]
    },
    {
     "data": {
      "text/html": [
       "<div>            <script src=\"https://cdnjs.cloudflare.com/ajax/libs/mathjax/2.7.5/MathJax.js?config=TeX-AMS-MML_SVG\"></script><script type=\"text/javascript\">if (window.MathJax && window.MathJax.Hub && window.MathJax.Hub.Config) {window.MathJax.Hub.Config({SVG: {font: \"STIX-Web\"}});}</script>                <script type=\"text/javascript\">window.PlotlyConfig = {MathJaxConfig: 'local'};</script>\n",
       "        <script charset=\"utf-8\" src=\"https://cdn.plot.ly/plotly-3.1.1.min.js\" integrity=\"sha256-HUEFyfiTnZJxCxur99FjbKYTvKSzwDaD3/x5TqHpFu4=\" crossorigin=\"anonymous\"></script>                <div id=\"3b1afadb-d775-4a8e-a594-aeaf5785de4d\" class=\"plotly-graph-div\" style=\"height:525px; width:100%;\"></div>            <script type=\"text/javascript\">                window.PLOTLYENV=window.PLOTLYENV || {};                                if (document.getElementById(\"3b1afadb-d775-4a8e-a594-aeaf5785de4d\")) {                    Plotly.newPlot(                        \"3b1afadb-d775-4a8e-a594-aeaf5785de4d\",                        [{\"coloraxis\":\"coloraxis\",\"meta\":{},\"opacity\":1,\"z\":{\"dtype\":\"f8\",\"bdata\":\"Phrwuseb6j+rlqOVK1jpPyCmucYXz9i\\u002f\\u002fhb\\u002fOmyF6T\\u002fAxcAYjmuEvwAAAAAAAPh\\u002fAAAAAAAA+H8AAAAAAAD4fwAAAAAAAPh\\u002fzKXsS\\u002fjMgz8AAAAAAAD4fwAAAAAAAPh\\u002fAAAAAAAA+H8AAAAAAAD4fwAAAAAAAPh\\u002fq5ajlStY6T+kGPkHOmjZP7jYA1kVVrU\\u002fMB2R12O4uL9vHqYIfyHovwAAAAAAAPh\\u002fAAAAAAAA+H8AAAAAAAD4fwAAAAAAAPh\\u002fDvrj\\u002fv9klL8AAAAAAAD4fwAAAAAAAPh\\u002fAAAAAAAA+H8AAAAAAAD4fwAAAAAAAPh\\u002fIKa5xhfP2L+42ANZFVa1P+CfdIIRF9+\\u002fAIA6K+RWYz9gHdalaceaPwAAAAAAAPh\\u002fAAAAAAAA+H8AAAAAAAD4fwAAAAAAAPh\\u002fLWMEwYCopT8AAAAAAAD4fwAAAAAAAPh\\u002fAAAAAAAA+H8AAAAAAAD4fwAAAAAAAPh\\u002f\\u002fhb\\u002fOmyF6T8wHZHXY7i4vwCAOivkVmM\\u002fIAEtqSY+77+LBVEihOPkPwAAAAAAAPh\\u002fAAAAAAAA+H8AAAAAAAD4fwAAAAAAAPh\\u002fTnkA7\\u002fLWnD8AAAAAAAD4fwAAAAAAAPh\\u002fAAAAAAAA+H8AAAAAAAD4fwAAAAAAAPh\\u002fwMXAGI5rhL9vHqYIfyHov2Ad1qVpx5o\\u002fiwVRIoTj5D+0o2N+J4jZPwAAAAAAAPh\\u002fAAAAAAAA+H8AAAAAAAD4fwAAAAAAAPh\\u002fAAAAAAAA+H\\u002fMpexL+MyDPw764\\u002f7\\u002fZJS\\u002fLWMEwYCopT9OeQDv8tacPwAAAAAAAPh\\u002f\",\"shape\":\"5, 15\"},\"zsmooth\":false,\"type\":\"heatmap\"}],                        {\"template\":{\"layout\":{\"hovermode\":\"closest\",\"paper_bgcolor\":\"white\",\"plot_bgcolor\":\"white\",\"scene\":{\"xaxis\":{\"color\":\"black\",\"gridcolor\":\"#ccc\",\"gridwidth\":1,\"linewidth\":1,\"mirror\":true,\"showgrid\":false,\"showline\":true,\"ticklen\":5,\"ticks\":\"outside\",\"ticksuffix\":\" \",\"visible\":true,\"zeroline\":false,\"zerolinecolor\":\"#ccc\",\"zerolinewidth\":1},\"yaxis\":{\"color\":\"black\",\"gridcolor\":\"#ccc\",\"gridwidth\":1,\"linewidth\":1,\"mirror\":true,\"showgrid\":false,\"showline\":true,\"ticklen\":5,\"ticks\":\"outside\",\"ticksuffix\":\" \",\"visible\":true,\"zeroline\":false,\"zerolinecolor\":\"#ccc\",\"zerolinewidth\":1},\"zaxis\":{\"color\":\"black\",\"gridcolor\":\"#ccc\",\"gridwidth\":1,\"linewidth\":1,\"mirror\":true,\"showgrid\":false,\"showline\":true,\"ticklen\":5,\"ticks\":\"outside\",\"ticksuffix\":\" \",\"visible\":true,\"zeroline\":false,\"zerolinecolor\":\"#ccc\",\"zerolinewidth\":1}},\"xaxis\":{\"color\":\"black\",\"gridcolor\":\"#ccc\",\"gridwidth\":1,\"linewidth\":1,\"mirror\":true,\"showgrid\":false,\"showline\":true,\"ticklen\":5,\"ticks\":\"outside\",\"ticksuffix\":\" \",\"visible\":true,\"zeroline\":false,\"zerolinecolor\":\"#ccc\",\"zerolinewidth\":1},\"yaxis\":{\"color\":\"black\",\"gridcolor\":\"#ccc\",\"gridwidth\":1,\"linewidth\":1,\"mirror\":true,\"showgrid\":false,\"showline\":true,\"ticklen\":5,\"ticks\":\"outside\",\"ticksuffix\":\" \",\"visible\":true,\"zeroline\":false,\"zerolinecolor\":\"#ccc\",\"zerolinewidth\":1}}},\"coloraxis\":{\"colorscale\":[[0.0,\"rgb(0, 147, 146)\"],[0.16666666666666666,\"rgb(57, 177, 133)\"],[0.3333333333333333,\"rgb(156, 203, 134)\"],[0.5,\"rgb(233, 226, 156)\"],[0.6666666666666666,\"rgb(238, 180, 121)\"],[0.8333333333333334,\"rgb(232, 132, 113)\"],[1.0,\"rgb(207, 89, 126)\"]],\"cmid\":0.5,\"showscale\":true},\"xaxis\":{\"scaleanchor\":\"y\",\"scaleratio\":1,\"range\":[-0.5,14.5],\"constrain\":\"domain\"},\"scene\":{\"aspectmode\":\"data\",\"xaxis\":{\"range\":[-0.5,14.5]},\"yaxis\":{\"range\":[4.5,-0.5]}},\"yaxis\":{\"range\":[4.5,-0.5],\"constrain\":\"domain\"}},                        {\"responsive\": true}                    ).then(function(){\n",
       "                            \n",
       "var gd = document.getElementById('3b1afadb-d775-4a8e-a594-aeaf5785de4d');\n",
       "var x = new MutationObserver(function (mutations, observer) {{\n",
       "        var display = window.getComputedStyle(gd).display;\n",
       "        if (!display || display === 'none') {{\n",
       "            console.log([gd, 'removed!']);\n",
       "            Plotly.purge(gd);\n",
       "            observer.disconnect();\n",
       "        }}\n",
       "}});\n",
       "\n",
       "// Listen for the removal of the full notebook cells\n",
       "var notebookContainer = gd.closest('#notebook-container');\n",
       "if (notebookContainer) {{\n",
       "    x.observe(notebookContainer, {childList: true});\n",
       "}}\n",
       "\n",
       "// Listen for the clearing of the current output cell\n",
       "var outputEl = gd.closest('.output');\n",
       "if (outputEl) {{\n",
       "    x.observe(outputEl, {childList: true});\n",
       "}}\n",
       "\n",
       "                        })                };            </script>        </div>"
      ]
     },
     "metadata": {},
     "output_type": "display_data"
    }
   ],
   "source": [
    "plot.update_inputs(cmid=0.5)"
   ]
  },
  {
   "cell_type": "markdown",
   "metadata": {},
   "source": [
    "And to set the range of the scale from `-4` to `1`:"
   ]
  },
  {
   "cell_type": "code",
   "execution_count": 6,
   "metadata": {
    "execution": {
     "iopub.execute_input": "2025-10-08T12:09:30.400518Z",
     "iopub.status.busy": "2025-10-08T12:09:30.400321Z",
     "iopub.status.idle": "2025-10-08T12:09:30.494848Z",
     "shell.execute_reply": "2025-10-08T12:09:30.494291Z"
    }
   },
   "outputs": [
    {
     "name": "stderr",
     "output_type": "stream",
     "text": [
      "INFO\tTask(Task-2) nodify.node.140358110017536:node.py:get()- No need to evaluate\n"
     ]
    },
    {
     "name": "stderr",
     "output_type": "stream",
     "text": [
      "INFO\tTask(Task-2) nodify.node.140358110010960:node.py:get()- No need to evaluate\n"
     ]
    },
    {
     "name": "stderr",
     "output_type": "stream",
     "text": [
      "INFO\tTask(Task-2) nodify.node.140358110010768:node.py:get()- No need to evaluate\n"
     ]
    },
    {
     "name": "stderr",
     "output_type": "stream",
     "text": [
      "INFO\tTask(Task-2) nodify.node.140358110012352:node.py:get()- No need to evaluate\n"
     ]
    },
    {
     "name": "stderr",
     "output_type": "stream",
     "text": [
      "INFO\tTask(Task-2) nodify.node.140358110011728:node.py:get()- No need to evaluate\n"
     ]
    },
    {
     "name": "stderr",
     "output_type": "stream",
     "text": [
      "INFO\tTask(Task-2) nodify.node.140358110019312:node.py:get()- No need to evaluate\n"
     ]
    },
    {
     "name": "stderr",
     "output_type": "stream",
     "text": [
      "INFO\tTask(Task-2) nodify.node.140358110014464:node.py:get()- No need to evaluate\n"
     ]
    },
    {
     "name": "stderr",
     "output_type": "stream",
     "text": [
      "INFO\tTask(Task-2) nodify.node.140358110014848:node.py:get()- Evaluated because inputs changed.\n"
     ]
    },
    {
     "name": "stderr",
     "output_type": "stream",
     "text": [
      "INFO\tTask(Task-2) nodify.node.140358110010960:node.py:get()- No need to evaluate\n"
     ]
    },
    {
     "name": "stderr",
     "output_type": "stream",
     "text": [
      "INFO\tTask(Task-2) nodify.node.140358110015232:node.py:get()- No need to evaluate\n"
     ]
    },
    {
     "name": "stderr",
     "output_type": "stream",
     "text": [
      "INFO\tTask(Task-2) nodify.node.140358110014848:node.py:get()- No need to evaluate\n"
     ]
    },
    {
     "name": "stderr",
     "output_type": "stream",
     "text": [
      "INFO\tTask(Task-2) nodify.node.140358110102592:node.py:get()- Evaluated because inputs changed.\n"
     ]
    },
    {
     "name": "stderr",
     "output_type": "stream",
     "text": [
      "INFO\tTask(Task-2) nodify.node.140358110014080:node.py:get()- No need to evaluate\n"
     ]
    },
    {
     "name": "stderr",
     "output_type": "stream",
     "text": [
      "INFO\tTask(Task-2) nodify.node.140358110015616:node.py:get()- No need to evaluate\n"
     ]
    },
    {
     "name": "stderr",
     "output_type": "stream",
     "text": [
      "INFO\tTask(Task-2) nodify.node.140358110016000:node.py:get()- No need to evaluate\n"
     ]
    },
    {
     "name": "stderr",
     "output_type": "stream",
     "text": [
      "INFO\tTask(Task-2) nodify.node.140358110102496:node.py:get()- Evaluated because inputs changed.\n"
     ]
    },
    {
     "name": "stderr",
     "output_type": "stream",
     "text": [
      "INFO\tTask(Task-2) nodify.node.140358110010960:node.py:get()- No need to evaluate\n"
     ]
    },
    {
     "name": "stderr",
     "output_type": "stream",
     "text": [
      "INFO\tTask(Task-2) nodify.node.140358110010768:node.py:get()- No need to evaluate\n"
     ]
    },
    {
     "name": "stderr",
     "output_type": "stream",
     "text": [
      "INFO\tTask(Task-2) nodify.node.140358110012352:node.py:get()- No need to evaluate\n"
     ]
    },
    {
     "name": "stderr",
     "output_type": "stream",
     "text": [
      "INFO\tTask(Task-2) nodify.node.140358110011728:node.py:get()- No need to evaluate\n"
     ]
    },
    {
     "name": "stderr",
     "output_type": "stream",
     "text": [
      "INFO\tTask(Task-2) nodify.node.140358110019312:node.py:get()- No need to evaluate\n"
     ]
    },
    {
     "name": "stderr",
     "output_type": "stream",
     "text": [
      "INFO\tTask(Task-2) nodify.node.140358110017152:node.py:get()- No need to evaluate\n"
     ]
    },
    {
     "name": "stderr",
     "output_type": "stream",
     "text": [
      "INFO\tTask(Task-2) nodify.node.140358110103264:node.py:get()- No need to evaluate\n"
     ]
    },
    {
     "name": "stderr",
     "output_type": "stream",
     "text": [
      "INFO\tTask(Task-2) nodify.node.140358110102640:node.py:get()- No need to evaluate\n"
     ]
    },
    {
     "name": "stderr",
     "output_type": "stream",
     "text": [
      "INFO\tTask(Task-2) nodify.node.140358110012928:node.py:get()- No need to evaluate\n"
     ]
    },
    {
     "name": "stderr",
     "output_type": "stream",
     "text": [
      "INFO\tTask(Task-2) nodify.node.140358110010960:node.py:get()- No need to evaluate\n"
     ]
    },
    {
     "name": "stderr",
     "output_type": "stream",
     "text": [
      "INFO\tTask(Task-2) nodify.node.140358110012784:node.py:get()- No need to evaluate\n"
     ]
    },
    {
     "name": "stderr",
     "output_type": "stream",
     "text": [
      "INFO\tTask(Task-2) nodify.node.140358110018832:node.py:get()- No need to evaluate\n"
     ]
    },
    {
     "name": "stderr",
     "output_type": "stream",
     "text": [
      "INFO\tTask(Task-2) nodify.node.140358110010960:node.py:get()- No need to evaluate\n"
     ]
    },
    {
     "name": "stderr",
     "output_type": "stream",
     "text": [
      "INFO\tTask(Task-2) nodify.node.140358110019408:node.py:get()- No need to evaluate\n"
     ]
    },
    {
     "name": "stderr",
     "output_type": "stream",
     "text": [
      "INFO\tTask(Task-2) nodify.node.140358110103312:node.py:get()- No need to evaluate\n"
     ]
    },
    {
     "name": "stderr",
     "output_type": "stream",
     "text": [
      "INFO\tTask(Task-2) nodify.node.140358110013264:node.py:get()- No need to evaluate\n"
     ]
    },
    {
     "name": "stderr",
     "output_type": "stream",
     "text": [
      "INFO\tTask(Task-2) nodify.node.140358110010960:node.py:get()- No need to evaluate\n"
     ]
    },
    {
     "name": "stderr",
     "output_type": "stream",
     "text": [
      "INFO\tTask(Task-2) nodify.node.140358110012784:node.py:get()- No need to evaluate\n"
     ]
    },
    {
     "name": "stderr",
     "output_type": "stream",
     "text": [
      "INFO\tTask(Task-2) nodify.node.140358110018832:node.py:get()- No need to evaluate\n"
     ]
    },
    {
     "name": "stderr",
     "output_type": "stream",
     "text": [
      "INFO\tTask(Task-2) nodify.node.140358110010960:node.py:get()- No need to evaluate\n"
     ]
    },
    {
     "name": "stderr",
     "output_type": "stream",
     "text": [
      "INFO\tTask(Task-2) nodify.node.140358110019408:node.py:get()- No need to evaluate\n"
     ]
    },
    {
     "name": "stderr",
     "output_type": "stream",
     "text": [
      "INFO\tTask(Task-2) nodify.node.140358110103984:node.py:get()- No need to evaluate\n"
     ]
    },
    {
     "name": "stderr",
     "output_type": "stream",
     "text": [
      "INFO\tTask(Task-2) nodify.node.140358110013648:node.py:get()- No need to evaluate\n"
     ]
    },
    {
     "name": "stderr",
     "output_type": "stream",
     "text": [
      "INFO\tTask(Task-2) nodify.node.140358110010960:node.py:get()- No need to evaluate\n"
     ]
    },
    {
     "name": "stderr",
     "output_type": "stream",
     "text": [
      "INFO\tTask(Task-2) nodify.node.140358110012784:node.py:get()- No need to evaluate\n"
     ]
    },
    {
     "name": "stderr",
     "output_type": "stream",
     "text": [
      "INFO\tTask(Task-2) nodify.node.140358110018832:node.py:get()- No need to evaluate\n"
     ]
    },
    {
     "name": "stderr",
     "output_type": "stream",
     "text": [
      "INFO\tTask(Task-2) nodify.node.140358110010960:node.py:get()- No need to evaluate\n"
     ]
    },
    {
     "name": "stderr",
     "output_type": "stream",
     "text": [
      "INFO\tTask(Task-2) nodify.node.140358110019408:node.py:get()- No need to evaluate\n"
     ]
    },
    {
     "name": "stderr",
     "output_type": "stream",
     "text": [
      "INFO\tTask(Task-2) nodify.node.140358110104320:node.py:get()- No need to evaluate\n"
     ]
    },
    {
     "name": "stderr",
     "output_type": "stream",
     "text": [
      "INFO\tTask(Task-2) nodify.node.140358110010960:node.py:get()- No need to evaluate\n"
     ]
    },
    {
     "name": "stderr",
     "output_type": "stream",
     "text": [
      "INFO\tTask(Task-2) nodify.node.140358110010768:node.py:get()- No need to evaluate\n"
     ]
    },
    {
     "name": "stderr",
     "output_type": "stream",
     "text": [
      "INFO\tTask(Task-2) nodify.node.140358110012352:node.py:get()- No need to evaluate\n"
     ]
    },
    {
     "name": "stderr",
     "output_type": "stream",
     "text": [
      "INFO\tTask(Task-2) nodify.node.140358110011728:node.py:get()- No need to evaluate\n"
     ]
    },
    {
     "name": "stderr",
     "output_type": "stream",
     "text": [
      "INFO\tTask(Task-2) nodify.node.140358110019312:node.py:get()- No need to evaluate\n"
     ]
    },
    {
     "name": "stderr",
     "output_type": "stream",
     "text": [
      "INFO\tTask(Task-2) nodify.node.140358110010960:node.py:get()- No need to evaluate\n"
     ]
    },
    {
     "name": "stderr",
     "output_type": "stream",
     "text": [
      "INFO\tTask(Task-2) nodify.node.140358110012784:node.py:get()- No need to evaluate\n"
     ]
    },
    {
     "name": "stderr",
     "output_type": "stream",
     "text": [
      "INFO\tTask(Task-2) nodify.node.140358110018832:node.py:get()- No need to evaluate\n"
     ]
    },
    {
     "name": "stderr",
     "output_type": "stream",
     "text": [
      "INFO\tTask(Task-2) nodify.node.140358110010960:node.py:get()- No need to evaluate\n"
     ]
    },
    {
     "name": "stderr",
     "output_type": "stream",
     "text": [
      "INFO\tTask(Task-2) nodify.node.140358110019408:node.py:get()- No need to evaluate\n"
     ]
    },
    {
     "name": "stderr",
     "output_type": "stream",
     "text": [
      "INFO\tTask(Task-2) nodify.node.140358110016768:node.py:get()- No need to evaluate\n"
     ]
    },
    {
     "name": "stderr",
     "output_type": "stream",
     "text": [
      "INFO\tTask(Task-2) nodify.node.140358110016384:node.py:get()- No need to evaluate\n"
     ]
    },
    {
     "name": "stderr",
     "output_type": "stream",
     "text": [
      "INFO\tTask(Task-2) nodify.node.140358110019120:node.py:get()- No need to evaluate\n"
     ]
    },
    {
     "name": "stderr",
     "output_type": "stream",
     "text": [
      "INFO\tTask(Task-2) nodify.node.140358110019552:node.py:get()- Evaluated because inputs changed.\n"
     ]
    },
    {
     "name": "stderr",
     "output_type": "stream",
     "text": [
      "INFO\tTask(Task-2) nodify.node.140358110104800:node.py:get()- Evaluated because inputs changed.\n"
     ]
    },
    {
     "name": "stderr",
     "output_type": "stream",
     "text": [
      "INFO\tTask(Task-2) nodify.node.140358110105280:node.py:get()- Evaluated because inputs changed.\n"
     ]
    },
    {
     "data": {
      "text/html": [
       "<div>            <script src=\"https://cdnjs.cloudflare.com/ajax/libs/mathjax/2.7.5/MathJax.js?config=TeX-AMS-MML_SVG\"></script><script type=\"text/javascript\">if (window.MathJax && window.MathJax.Hub && window.MathJax.Hub.Config) {window.MathJax.Hub.Config({SVG: {font: \"STIX-Web\"}});}</script>                <script type=\"text/javascript\">window.PlotlyConfig = {MathJaxConfig: 'local'};</script>\n",
       "        <script charset=\"utf-8\" src=\"https://cdn.plot.ly/plotly-3.1.1.min.js\" integrity=\"sha256-HUEFyfiTnZJxCxur99FjbKYTvKSzwDaD3/x5TqHpFu4=\" crossorigin=\"anonymous\"></script>                <div id=\"1cb897ca-c352-4db2-9da6-3e2eb6b4af92\" class=\"plotly-graph-div\" style=\"height:525px; width:100%;\"></div>            <script type=\"text/javascript\">                window.PLOTLYENV=window.PLOTLYENV || {};                                if (document.getElementById(\"1cb897ca-c352-4db2-9da6-3e2eb6b4af92\")) {                    Plotly.newPlot(                        \"1cb897ca-c352-4db2-9da6-3e2eb6b4af92\",                        [{\"coloraxis\":\"coloraxis\",\"meta\":{},\"opacity\":1,\"z\":{\"dtype\":\"f8\",\"bdata\":\"Phrwuseb6j+rlqOVK1jpPyCmucYXz9i\\u002f\\u002fhb\\u002fOmyF6T\\u002fAxcAYjmuEvwAAAAAAAPh\\u002fAAAAAAAA+H8AAAAAAAD4fwAAAAAAAPh\\u002fzKXsS\\u002fjMgz8AAAAAAAD4fwAAAAAAAPh\\u002fAAAAAAAA+H8AAAAAAAD4fwAAAAAAAPh\\u002fq5ajlStY6T+kGPkHOmjZP7jYA1kVVrU\\u002fMB2R12O4uL9vHqYIfyHovwAAAAAAAPh\\u002fAAAAAAAA+H8AAAAAAAD4fwAAAAAAAPh\\u002fDvrj\\u002fv9klL8AAAAAAAD4fwAAAAAAAPh\\u002fAAAAAAAA+H8AAAAAAAD4fwAAAAAAAPh\\u002fIKa5xhfP2L+42ANZFVa1P+CfdIIRF9+\\u002fAIA6K+RWYz9gHdalaceaPwAAAAAAAPh\\u002fAAAAAAAA+H8AAAAAAAD4fwAAAAAAAPh\\u002fLWMEwYCopT8AAAAAAAD4fwAAAAAAAPh\\u002fAAAAAAAA+H8AAAAAAAD4fwAAAAAAAPh\\u002f\\u002fhb\\u002fOmyF6T8wHZHXY7i4vwCAOivkVmM\\u002fIAEtqSY+77+LBVEihOPkPwAAAAAAAPh\\u002fAAAAAAAA+H8AAAAAAAD4fwAAAAAAAPh\\u002fTnkA7\\u002fLWnD8AAAAAAAD4fwAAAAAAAPh\\u002fAAAAAAAA+H8AAAAAAAD4fwAAAAAAAPh\\u002fwMXAGI5rhL9vHqYIfyHov2Ad1qVpx5o\\u002fiwVRIoTj5D+0o2N+J4jZPwAAAAAAAPh\\u002fAAAAAAAA+H8AAAAAAAD4fwAAAAAAAPh\\u002fAAAAAAAA+H\\u002fMpexL+MyDPw764\\u002f7\\u002fZJS\\u002fLWMEwYCopT9OeQDv8tacPwAAAAAAAPh\\u002f\",\"shape\":\"5, 15\"},\"zsmooth\":false,\"type\":\"heatmap\"}],                        {\"template\":{\"layout\":{\"hovermode\":\"closest\",\"paper_bgcolor\":\"white\",\"plot_bgcolor\":\"white\",\"scene\":{\"xaxis\":{\"color\":\"black\",\"gridcolor\":\"#ccc\",\"gridwidth\":1,\"linewidth\":1,\"mirror\":true,\"showgrid\":false,\"showline\":true,\"ticklen\":5,\"ticks\":\"outside\",\"ticksuffix\":\" \",\"visible\":true,\"zeroline\":false,\"zerolinecolor\":\"#ccc\",\"zerolinewidth\":1},\"yaxis\":{\"color\":\"black\",\"gridcolor\":\"#ccc\",\"gridwidth\":1,\"linewidth\":1,\"mirror\":true,\"showgrid\":false,\"showline\":true,\"ticklen\":5,\"ticks\":\"outside\",\"ticksuffix\":\" \",\"visible\":true,\"zeroline\":false,\"zerolinecolor\":\"#ccc\",\"zerolinewidth\":1},\"zaxis\":{\"color\":\"black\",\"gridcolor\":\"#ccc\",\"gridwidth\":1,\"linewidth\":1,\"mirror\":true,\"showgrid\":false,\"showline\":true,\"ticklen\":5,\"ticks\":\"outside\",\"ticksuffix\":\" \",\"visible\":true,\"zeroline\":false,\"zerolinecolor\":\"#ccc\",\"zerolinewidth\":1}},\"xaxis\":{\"color\":\"black\",\"gridcolor\":\"#ccc\",\"gridwidth\":1,\"linewidth\":1,\"mirror\":true,\"showgrid\":false,\"showline\":true,\"ticklen\":5,\"ticks\":\"outside\",\"ticksuffix\":\" \",\"visible\":true,\"zeroline\":false,\"zerolinecolor\":\"#ccc\",\"zerolinewidth\":1},\"yaxis\":{\"color\":\"black\",\"gridcolor\":\"#ccc\",\"gridwidth\":1,\"linewidth\":1,\"mirror\":true,\"showgrid\":false,\"showline\":true,\"ticklen\":5,\"ticks\":\"outside\",\"ticksuffix\":\" \",\"visible\":true,\"zeroline\":false,\"zerolinecolor\":\"#ccc\",\"zerolinewidth\":1}}},\"coloraxis\":{\"colorscale\":[[0.0,\"rgb(0, 147, 146)\"],[0.16666666666666666,\"rgb(57, 177, 133)\"],[0.3333333333333333,\"rgb(156, 203, 134)\"],[0.5,\"rgb(233, 226, 156)\"],[0.6666666666666666,\"rgb(238, 180, 121)\"],[0.8333333333333334,\"rgb(232, 132, 113)\"],[1.0,\"rgb(207, 89, 126)\"]],\"cmin\":-4,\"cmax\":1,\"cmid\":0.5,\"showscale\":true},\"xaxis\":{\"scaleanchor\":\"y\",\"scaleratio\":1,\"range\":[-0.5,14.5],\"constrain\":\"domain\"},\"scene\":{\"aspectmode\":\"data\",\"xaxis\":{\"range\":[-0.5,14.5]},\"yaxis\":{\"range\":[4.5,-0.5]}},\"yaxis\":{\"range\":[4.5,-0.5],\"constrain\":\"domain\"}},                        {\"responsive\": true}                    ).then(function(){\n",
       "                            \n",
       "var gd = document.getElementById('1cb897ca-c352-4db2-9da6-3e2eb6b4af92');\n",
       "var x = new MutationObserver(function (mutations, observer) {{\n",
       "        var display = window.getComputedStyle(gd).display;\n",
       "        if (!display || display === 'none') {{\n",
       "            console.log([gd, 'removed!']);\n",
       "            Plotly.purge(gd);\n",
       "            observer.disconnect();\n",
       "        }}\n",
       "}});\n",
       "\n",
       "// Listen for the removal of the full notebook cells\n",
       "var notebookContainer = gd.closest('#notebook-container');\n",
       "if (notebookContainer) {{\n",
       "    x.observe(notebookContainer, {childList: true});\n",
       "}}\n",
       "\n",
       "// Listen for the clearing of the current output cell\n",
       "var outputEl = gd.closest('.output');\n",
       "if (outputEl) {{\n",
       "    x.observe(outputEl, {childList: true});\n",
       "}}\n",
       "\n",
       "                        })                };            </script>        </div>"
      ]
     },
     "metadata": {},
     "output_type": "display_data"
    }
   ],
   "source": [
    "plot.update_inputs(crange=(-4, 1))"
   ]
  },
  {
   "cell_type": "markdown",
   "metadata": {},
   "source": [
    "Notice how **`crange` takes precedence over `cmid`**. Now, to go back to the default range, just set both to `None`."
   ]
  },
  {
   "cell_type": "code",
   "execution_count": 7,
   "metadata": {
    "execution": {
     "iopub.execute_input": "2025-10-08T12:09:30.496707Z",
     "iopub.status.busy": "2025-10-08T12:09:30.496532Z",
     "iopub.status.idle": "2025-10-08T12:09:30.594455Z",
     "shell.execute_reply": "2025-10-08T12:09:30.593915Z"
    }
   },
   "outputs": [
    {
     "name": "stderr",
     "output_type": "stream",
     "text": [
      "INFO\tTask(Task-2) nodify.node.140358110017536:node.py:get()- No need to evaluate\n"
     ]
    },
    {
     "name": "stderr",
     "output_type": "stream",
     "text": [
      "INFO\tTask(Task-2) nodify.node.140358110010960:node.py:get()- No need to evaluate\n"
     ]
    },
    {
     "name": "stderr",
     "output_type": "stream",
     "text": [
      "INFO\tTask(Task-2) nodify.node.140358110010768:node.py:get()- No need to evaluate\n"
     ]
    },
    {
     "name": "stderr",
     "output_type": "stream",
     "text": [
      "INFO\tTask(Task-2) nodify.node.140358110012352:node.py:get()- No need to evaluate\n"
     ]
    },
    {
     "name": "stderr",
     "output_type": "stream",
     "text": [
      "INFO\tTask(Task-2) nodify.node.140358110011728:node.py:get()- No need to evaluate\n"
     ]
    },
    {
     "name": "stderr",
     "output_type": "stream",
     "text": [
      "INFO\tTask(Task-2) nodify.node.140358110019312:node.py:get()- No need to evaluate\n"
     ]
    },
    {
     "name": "stderr",
     "output_type": "stream",
     "text": [
      "INFO\tTask(Task-2) nodify.node.140358110014464:node.py:get()- No need to evaluate\n"
     ]
    },
    {
     "name": "stderr",
     "output_type": "stream",
     "text": [
      "INFO\tTask(Task-2) nodify.node.140358110014848:node.py:get()- Evaluated because inputs changed.\n"
     ]
    },
    {
     "name": "stderr",
     "output_type": "stream",
     "text": [
      "INFO\tTask(Task-2) nodify.node.140358110010960:node.py:get()- No need to evaluate\n"
     ]
    },
    {
     "name": "stderr",
     "output_type": "stream",
     "text": [
      "INFO\tTask(Task-2) nodify.node.140358110015232:node.py:get()- Evaluated because inputs changed.\n"
     ]
    },
    {
     "name": "stderr",
     "output_type": "stream",
     "text": [
      "INFO\tTask(Task-2) nodify.node.140358110014848:node.py:get()- No need to evaluate\n"
     ]
    },
    {
     "name": "stderr",
     "output_type": "stream",
     "text": [
      "INFO\tTask(Task-2) nodify.node.140358110102592:node.py:get()- Evaluated because inputs changed.\n"
     ]
    },
    {
     "name": "stderr",
     "output_type": "stream",
     "text": [
      "INFO\tTask(Task-2) nodify.node.140358110014080:node.py:get()- No need to evaluate\n"
     ]
    },
    {
     "name": "stderr",
     "output_type": "stream",
     "text": [
      "INFO\tTask(Task-2) nodify.node.140358110015616:node.py:get()- No need to evaluate\n"
     ]
    },
    {
     "name": "stderr",
     "output_type": "stream",
     "text": [
      "INFO\tTask(Task-2) nodify.node.140358110016000:node.py:get()- No need to evaluate\n"
     ]
    },
    {
     "name": "stderr",
     "output_type": "stream",
     "text": [
      "INFO\tTask(Task-2) nodify.node.140358110102496:node.py:get()- Evaluated because inputs changed.\n"
     ]
    },
    {
     "name": "stderr",
     "output_type": "stream",
     "text": [
      "INFO\tTask(Task-2) nodify.node.140358110010960:node.py:get()- No need to evaluate\n"
     ]
    },
    {
     "name": "stderr",
     "output_type": "stream",
     "text": [
      "INFO\tTask(Task-2) nodify.node.140358110010768:node.py:get()- No need to evaluate\n"
     ]
    },
    {
     "name": "stderr",
     "output_type": "stream",
     "text": [
      "INFO\tTask(Task-2) nodify.node.140358110012352:node.py:get()- No need to evaluate\n"
     ]
    },
    {
     "name": "stderr",
     "output_type": "stream",
     "text": [
      "INFO\tTask(Task-2) nodify.node.140358110011728:node.py:get()- No need to evaluate\n"
     ]
    },
    {
     "name": "stderr",
     "output_type": "stream",
     "text": [
      "INFO\tTask(Task-2) nodify.node.140358110019312:node.py:get()- No need to evaluate\n"
     ]
    },
    {
     "name": "stderr",
     "output_type": "stream",
     "text": [
      "INFO\tTask(Task-2) nodify.node.140358110017152:node.py:get()- No need to evaluate\n"
     ]
    },
    {
     "name": "stderr",
     "output_type": "stream",
     "text": [
      "INFO\tTask(Task-2) nodify.node.140358110103264:node.py:get()- No need to evaluate\n"
     ]
    },
    {
     "name": "stderr",
     "output_type": "stream",
     "text": [
      "INFO\tTask(Task-2) nodify.node.140358110102640:node.py:get()- No need to evaluate\n"
     ]
    },
    {
     "name": "stderr",
     "output_type": "stream",
     "text": [
      "INFO\tTask(Task-2) nodify.node.140358110012928:node.py:get()- No need to evaluate\n"
     ]
    },
    {
     "name": "stderr",
     "output_type": "stream",
     "text": [
      "INFO\tTask(Task-2) nodify.node.140358110010960:node.py:get()- No need to evaluate\n"
     ]
    },
    {
     "name": "stderr",
     "output_type": "stream",
     "text": [
      "INFO\tTask(Task-2) nodify.node.140358110012784:node.py:get()- No need to evaluate\n"
     ]
    },
    {
     "name": "stderr",
     "output_type": "stream",
     "text": [
      "INFO\tTask(Task-2) nodify.node.140358110018832:node.py:get()- No need to evaluate\n"
     ]
    },
    {
     "name": "stderr",
     "output_type": "stream",
     "text": [
      "INFO\tTask(Task-2) nodify.node.140358110010960:node.py:get()- No need to evaluate\n"
     ]
    },
    {
     "name": "stderr",
     "output_type": "stream",
     "text": [
      "INFO\tTask(Task-2) nodify.node.140358110019408:node.py:get()- No need to evaluate\n"
     ]
    },
    {
     "name": "stderr",
     "output_type": "stream",
     "text": [
      "INFO\tTask(Task-2) nodify.node.140358110103312:node.py:get()- No need to evaluate\n"
     ]
    },
    {
     "name": "stderr",
     "output_type": "stream",
     "text": [
      "INFO\tTask(Task-2) nodify.node.140358110013264:node.py:get()- No need to evaluate\n"
     ]
    },
    {
     "name": "stderr",
     "output_type": "stream",
     "text": [
      "INFO\tTask(Task-2) nodify.node.140358110010960:node.py:get()- No need to evaluate\n"
     ]
    },
    {
     "name": "stderr",
     "output_type": "stream",
     "text": [
      "INFO\tTask(Task-2) nodify.node.140358110012784:node.py:get()- No need to evaluate\n"
     ]
    },
    {
     "name": "stderr",
     "output_type": "stream",
     "text": [
      "INFO\tTask(Task-2) nodify.node.140358110018832:node.py:get()- No need to evaluate\n"
     ]
    },
    {
     "name": "stderr",
     "output_type": "stream",
     "text": [
      "INFO\tTask(Task-2) nodify.node.140358110010960:node.py:get()- No need to evaluate\n"
     ]
    },
    {
     "name": "stderr",
     "output_type": "stream",
     "text": [
      "INFO\tTask(Task-2) nodify.node.140358110019408:node.py:get()- No need to evaluate\n"
     ]
    },
    {
     "name": "stderr",
     "output_type": "stream",
     "text": [
      "INFO\tTask(Task-2) nodify.node.140358110103984:node.py:get()- No need to evaluate\n"
     ]
    },
    {
     "name": "stderr",
     "output_type": "stream",
     "text": [
      "INFO\tTask(Task-2) nodify.node.140358110013648:node.py:get()- No need to evaluate\n"
     ]
    },
    {
     "name": "stderr",
     "output_type": "stream",
     "text": [
      "INFO\tTask(Task-2) nodify.node.140358110010960:node.py:get()- No need to evaluate\n"
     ]
    },
    {
     "name": "stderr",
     "output_type": "stream",
     "text": [
      "INFO\tTask(Task-2) nodify.node.140358110012784:node.py:get()- No need to evaluate\n"
     ]
    },
    {
     "name": "stderr",
     "output_type": "stream",
     "text": [
      "INFO\tTask(Task-2) nodify.node.140358110018832:node.py:get()- No need to evaluate\n"
     ]
    },
    {
     "name": "stderr",
     "output_type": "stream",
     "text": [
      "INFO\tTask(Task-2) nodify.node.140358110010960:node.py:get()- No need to evaluate\n"
     ]
    },
    {
     "name": "stderr",
     "output_type": "stream",
     "text": [
      "INFO\tTask(Task-2) nodify.node.140358110019408:node.py:get()- No need to evaluate\n"
     ]
    },
    {
     "name": "stderr",
     "output_type": "stream",
     "text": [
      "INFO\tTask(Task-2) nodify.node.140358110104320:node.py:get()- No need to evaluate\n"
     ]
    },
    {
     "name": "stderr",
     "output_type": "stream",
     "text": [
      "INFO\tTask(Task-2) nodify.node.140358110010960:node.py:get()- No need to evaluate\n"
     ]
    },
    {
     "name": "stderr",
     "output_type": "stream",
     "text": [
      "INFO\tTask(Task-2) nodify.node.140358110010768:node.py:get()- No need to evaluate\n"
     ]
    },
    {
     "name": "stderr",
     "output_type": "stream",
     "text": [
      "INFO\tTask(Task-2) nodify.node.140358110012352:node.py:get()- No need to evaluate\n"
     ]
    },
    {
     "name": "stderr",
     "output_type": "stream",
     "text": [
      "INFO\tTask(Task-2) nodify.node.140358110011728:node.py:get()- No need to evaluate\n"
     ]
    },
    {
     "name": "stderr",
     "output_type": "stream",
     "text": [
      "INFO\tTask(Task-2) nodify.node.140358110019312:node.py:get()- No need to evaluate\n"
     ]
    },
    {
     "name": "stderr",
     "output_type": "stream",
     "text": [
      "INFO\tTask(Task-2) nodify.node.140358110010960:node.py:get()- No need to evaluate\n"
     ]
    },
    {
     "name": "stderr",
     "output_type": "stream",
     "text": [
      "INFO\tTask(Task-2) nodify.node.140358110012784:node.py:get()- No need to evaluate\n"
     ]
    },
    {
     "name": "stderr",
     "output_type": "stream",
     "text": [
      "INFO\tTask(Task-2) nodify.node.140358110018832:node.py:get()- No need to evaluate\n"
     ]
    },
    {
     "name": "stderr",
     "output_type": "stream",
     "text": [
      "INFO\tTask(Task-2) nodify.node.140358110010960:node.py:get()- No need to evaluate\n"
     ]
    },
    {
     "name": "stderr",
     "output_type": "stream",
     "text": [
      "INFO\tTask(Task-2) nodify.node.140358110019408:node.py:get()- No need to evaluate\n"
     ]
    },
    {
     "name": "stderr",
     "output_type": "stream",
     "text": [
      "INFO\tTask(Task-2) nodify.node.140358110016768:node.py:get()- No need to evaluate\n"
     ]
    },
    {
     "name": "stderr",
     "output_type": "stream",
     "text": [
      "INFO\tTask(Task-2) nodify.node.140358110016384:node.py:get()- No need to evaluate\n"
     ]
    },
    {
     "name": "stderr",
     "output_type": "stream",
     "text": [
      "INFO\tTask(Task-2) nodify.node.140358110019120:node.py:get()- No need to evaluate\n"
     ]
    },
    {
     "name": "stderr",
     "output_type": "stream",
     "text": [
      "INFO\tTask(Task-2) nodify.node.140358110019552:node.py:get()- Evaluated because inputs changed.\n"
     ]
    },
    {
     "name": "stderr",
     "output_type": "stream",
     "text": [
      "INFO\tTask(Task-2) nodify.node.140358110104800:node.py:get()- Evaluated because inputs changed.\n"
     ]
    },
    {
     "name": "stderr",
     "output_type": "stream",
     "text": [
      "INFO\tTask(Task-2) nodify.node.140358110105280:node.py:get()- Evaluated because inputs changed.\n"
     ]
    },
    {
     "data": {
      "text/html": [
       "<div>            <script src=\"https://cdnjs.cloudflare.com/ajax/libs/mathjax/2.7.5/MathJax.js?config=TeX-AMS-MML_SVG\"></script><script type=\"text/javascript\">if (window.MathJax && window.MathJax.Hub && window.MathJax.Hub.Config) {window.MathJax.Hub.Config({SVG: {font: \"STIX-Web\"}});}</script>                <script type=\"text/javascript\">window.PlotlyConfig = {MathJaxConfig: 'local'};</script>\n",
       "        <script charset=\"utf-8\" src=\"https://cdn.plot.ly/plotly-3.1.1.min.js\" integrity=\"sha256-HUEFyfiTnZJxCxur99FjbKYTvKSzwDaD3/x5TqHpFu4=\" crossorigin=\"anonymous\"></script>                <div id=\"dc21f262-58ea-460d-9aab-fc392a31b154\" class=\"plotly-graph-div\" style=\"height:525px; width:100%;\"></div>            <script type=\"text/javascript\">                window.PLOTLYENV=window.PLOTLYENV || {};                                if (document.getElementById(\"dc21f262-58ea-460d-9aab-fc392a31b154\")) {                    Plotly.newPlot(                        \"dc21f262-58ea-460d-9aab-fc392a31b154\",                        [{\"coloraxis\":\"coloraxis\",\"meta\":{},\"opacity\":1,\"z\":{\"dtype\":\"f8\",\"bdata\":\"Phrwuseb6j+rlqOVK1jpPyCmucYXz9i\\u002f\\u002fhb\\u002fOmyF6T\\u002fAxcAYjmuEvwAAAAAAAPh\\u002fAAAAAAAA+H8AAAAAAAD4fwAAAAAAAPh\\u002fzKXsS\\u002fjMgz8AAAAAAAD4fwAAAAAAAPh\\u002fAAAAAAAA+H8AAAAAAAD4fwAAAAAAAPh\\u002fq5ajlStY6T+kGPkHOmjZP7jYA1kVVrU\\u002fMB2R12O4uL9vHqYIfyHovwAAAAAAAPh\\u002fAAAAAAAA+H8AAAAAAAD4fwAAAAAAAPh\\u002fDvrj\\u002fv9klL8AAAAAAAD4fwAAAAAAAPh\\u002fAAAAAAAA+H8AAAAAAAD4fwAAAAAAAPh\\u002fIKa5xhfP2L+42ANZFVa1P+CfdIIRF9+\\u002fAIA6K+RWYz9gHdalaceaPwAAAAAAAPh\\u002fAAAAAAAA+H8AAAAAAAD4fwAAAAAAAPh\\u002fLWMEwYCopT8AAAAAAAD4fwAAAAAAAPh\\u002fAAAAAAAA+H8AAAAAAAD4fwAAAAAAAPh\\u002f\\u002fhb\\u002fOmyF6T8wHZHXY7i4vwCAOivkVmM\\u002fIAEtqSY+77+LBVEihOPkPwAAAAAAAPh\\u002fAAAAAAAA+H8AAAAAAAD4fwAAAAAAAPh\\u002fTnkA7\\u002fLWnD8AAAAAAAD4fwAAAAAAAPh\\u002fAAAAAAAA+H8AAAAAAAD4fwAAAAAAAPh\\u002fwMXAGI5rhL9vHqYIfyHov2Ad1qVpx5o\\u002fiwVRIoTj5D+0o2N+J4jZPwAAAAAAAPh\\u002fAAAAAAAA+H8AAAAAAAD4fwAAAAAAAPh\\u002fAAAAAAAA+H\\u002fMpexL+MyDPw764\\u002f7\\u002fZJS\\u002fLWMEwYCopT9OeQDv8tacPwAAAAAAAPh\\u002f\",\"shape\":\"5, 15\"},\"zsmooth\":false,\"type\":\"heatmap\"}],                        {\"template\":{\"layout\":{\"hovermode\":\"closest\",\"paper_bgcolor\":\"white\",\"plot_bgcolor\":\"white\",\"scene\":{\"xaxis\":{\"color\":\"black\",\"gridcolor\":\"#ccc\",\"gridwidth\":1,\"linewidth\":1,\"mirror\":true,\"showgrid\":false,\"showline\":true,\"ticklen\":5,\"ticks\":\"outside\",\"ticksuffix\":\" \",\"visible\":true,\"zeroline\":false,\"zerolinecolor\":\"#ccc\",\"zerolinewidth\":1},\"yaxis\":{\"color\":\"black\",\"gridcolor\":\"#ccc\",\"gridwidth\":1,\"linewidth\":1,\"mirror\":true,\"showgrid\":false,\"showline\":true,\"ticklen\":5,\"ticks\":\"outside\",\"ticksuffix\":\" \",\"visible\":true,\"zeroline\":false,\"zerolinecolor\":\"#ccc\",\"zerolinewidth\":1},\"zaxis\":{\"color\":\"black\",\"gridcolor\":\"#ccc\",\"gridwidth\":1,\"linewidth\":1,\"mirror\":true,\"showgrid\":false,\"showline\":true,\"ticklen\":5,\"ticks\":\"outside\",\"ticksuffix\":\" \",\"visible\":true,\"zeroline\":false,\"zerolinecolor\":\"#ccc\",\"zerolinewidth\":1}},\"xaxis\":{\"color\":\"black\",\"gridcolor\":\"#ccc\",\"gridwidth\":1,\"linewidth\":1,\"mirror\":true,\"showgrid\":false,\"showline\":true,\"ticklen\":5,\"ticks\":\"outside\",\"ticksuffix\":\" \",\"visible\":true,\"zeroline\":false,\"zerolinecolor\":\"#ccc\",\"zerolinewidth\":1},\"yaxis\":{\"color\":\"black\",\"gridcolor\":\"#ccc\",\"gridwidth\":1,\"linewidth\":1,\"mirror\":true,\"showgrid\":false,\"showline\":true,\"ticklen\":5,\"ticks\":\"outside\",\"ticksuffix\":\" \",\"visible\":true,\"zeroline\":false,\"zerolinecolor\":\"#ccc\",\"zerolinewidth\":1}}},\"coloraxis\":{\"colorscale\":[[0.0,\"rgb(0, 147, 146)\"],[0.16666666666666666,\"rgb(57, 177, 133)\"],[0.3333333333333333,\"rgb(156, 203, 134)\"],[0.5,\"rgb(233, 226, 156)\"],[0.6666666666666666,\"rgb(238, 180, 121)\"],[0.8333333333333334,\"rgb(232, 132, 113)\"],[1.0,\"rgb(207, 89, 126)\"]],\"cmid\":0,\"showscale\":true},\"xaxis\":{\"scaleanchor\":\"y\",\"scaleratio\":1,\"range\":[-0.5,14.5],\"constrain\":\"domain\"},\"scene\":{\"aspectmode\":\"data\",\"xaxis\":{\"range\":[-0.5,14.5]},\"yaxis\":{\"range\":[4.5,-0.5]}},\"yaxis\":{\"range\":[4.5,-0.5],\"constrain\":\"domain\"}},                        {\"responsive\": true}                    ).then(function(){\n",
       "                            \n",
       "var gd = document.getElementById('dc21f262-58ea-460d-9aab-fc392a31b154');\n",
       "var x = new MutationObserver(function (mutations, observer) {{\n",
       "        var display = window.getComputedStyle(gd).display;\n",
       "        if (!display || display === 'none') {{\n",
       "            console.log([gd, 'removed!']);\n",
       "            Plotly.purge(gd);\n",
       "            observer.disconnect();\n",
       "        }}\n",
       "}});\n",
       "\n",
       "// Listen for the removal of the full notebook cells\n",
       "var notebookContainer = gd.closest('#notebook-container');\n",
       "if (notebookContainer) {{\n",
       "    x.observe(notebookContainer, {childList: true});\n",
       "}}\n",
       "\n",
       "// Listen for the clearing of the current output cell\n",
       "var outputEl = gd.closest('.output');\n",
       "if (outputEl) {{\n",
       "    x.observe(outputEl, {childList: true});\n",
       "}}\n",
       "\n",
       "                        })                };            </script>        </div>"
      ]
     },
     "metadata": {},
     "output_type": "display_data"
    }
   ],
   "source": [
    "plot.update_inputs(crange=None, cmid=None)"
   ]
  },
  {
   "cell_type": "markdown",
   "metadata": {},
   "source": [
    "## Show values as text\n",
    "\n",
    "Colors are nice to give you a quick impression of the relative magnitude of the matrix elements. However, you might want to know the exact value. Although `plotly` shows them when you pass the mouse over the matrix elements, sometimes it might be more convenient to directly display them on top.\n",
    "\n",
    "To do this, you need to pass a formatting string to the `text` input. For example, to show two decimals:"
   ]
  },
  {
   "cell_type": "code",
   "execution_count": 8,
   "metadata": {
    "execution": {
     "iopub.execute_input": "2025-10-08T12:09:30.596377Z",
     "iopub.status.busy": "2025-10-08T12:09:30.596202Z",
     "iopub.status.idle": "2025-10-08T12:09:30.693042Z",
     "shell.execute_reply": "2025-10-08T12:09:30.692478Z"
    }
   },
   "outputs": [
    {
     "name": "stderr",
     "output_type": "stream",
     "text": [
      "INFO\tTask(Task-2) nodify.node.140358110017536:node.py:get()- No need to evaluate\n"
     ]
    },
    {
     "name": "stderr",
     "output_type": "stream",
     "text": [
      "INFO\tTask(Task-2) nodify.node.140358110010960:node.py:get()- No need to evaluate\n"
     ]
    },
    {
     "name": "stderr",
     "output_type": "stream",
     "text": [
      "INFO\tTask(Task-2) nodify.node.140358110010768:node.py:get()- No need to evaluate\n"
     ]
    },
    {
     "name": "stderr",
     "output_type": "stream",
     "text": [
      "INFO\tTask(Task-2) nodify.node.140358110012352:node.py:get()- No need to evaluate\n"
     ]
    },
    {
     "name": "stderr",
     "output_type": "stream",
     "text": [
      "INFO\tTask(Task-2) nodify.node.140358110011728:node.py:get()- No need to evaluate\n"
     ]
    },
    {
     "name": "stderr",
     "output_type": "stream",
     "text": [
      "INFO\tTask(Task-2) nodify.node.140358110019312:node.py:get()- No need to evaluate\n"
     ]
    },
    {
     "name": "stderr",
     "output_type": "stream",
     "text": [
      "INFO\tTask(Task-2) nodify.node.140358110014464:node.py:get()- No need to evaluate\n"
     ]
    },
    {
     "name": "stderr",
     "output_type": "stream",
     "text": [
      "INFO\tTask(Task-2) nodify.node.140358110014848:node.py:get()- No need to evaluate\n"
     ]
    },
    {
     "name": "stderr",
     "output_type": "stream",
     "text": [
      "INFO\tTask(Task-2) nodify.node.140358110010960:node.py:get()- No need to evaluate\n"
     ]
    },
    {
     "name": "stderr",
     "output_type": "stream",
     "text": [
      "INFO\tTask(Task-2) nodify.node.140358110015232:node.py:get()- No need to evaluate\n"
     ]
    },
    {
     "name": "stderr",
     "output_type": "stream",
     "text": [
      "INFO\tTask(Task-2) nodify.node.140358110014848:node.py:get()- No need to evaluate\n"
     ]
    },
    {
     "name": "stderr",
     "output_type": "stream",
     "text": [
      "INFO\tTask(Task-2) nodify.node.140358110102592:node.py:get()- No need to evaluate\n"
     ]
    },
    {
     "name": "stderr",
     "output_type": "stream",
     "text": [
      "INFO\tTask(Task-2) nodify.node.140358110014080:node.py:get()- No need to evaluate\n"
     ]
    },
    {
     "name": "stderr",
     "output_type": "stream",
     "text": [
      "INFO\tTask(Task-2) nodify.node.140358110015616:node.py:get()- Evaluated because inputs changed.\n"
     ]
    },
    {
     "name": "stderr",
     "output_type": "stream",
     "text": [
      "INFO\tTask(Task-2) nodify.node.140358110016000:node.py:get()- No need to evaluate\n"
     ]
    },
    {
     "name": "stderr",
     "output_type": "stream",
     "text": [
      "INFO\tTask(Task-2) nodify.node.140358110102496:node.py:get()- Evaluated because inputs changed.\n"
     ]
    },
    {
     "name": "stderr",
     "output_type": "stream",
     "text": [
      "INFO\tTask(Task-2) nodify.node.140358110010960:node.py:get()- No need to evaluate\n"
     ]
    },
    {
     "name": "stderr",
     "output_type": "stream",
     "text": [
      "INFO\tTask(Task-2) nodify.node.140358110010768:node.py:get()- No need to evaluate\n"
     ]
    },
    {
     "name": "stderr",
     "output_type": "stream",
     "text": [
      "INFO\tTask(Task-2) nodify.node.140358110012352:node.py:get()- No need to evaluate\n"
     ]
    },
    {
     "name": "stderr",
     "output_type": "stream",
     "text": [
      "INFO\tTask(Task-2) nodify.node.140358110011728:node.py:get()- No need to evaluate\n"
     ]
    },
    {
     "name": "stderr",
     "output_type": "stream",
     "text": [
      "INFO\tTask(Task-2) nodify.node.140358110019312:node.py:get()- No need to evaluate\n"
     ]
    },
    {
     "name": "stderr",
     "output_type": "stream",
     "text": [
      "INFO\tTask(Task-2) nodify.node.140358110017152:node.py:get()- No need to evaluate\n"
     ]
    },
    {
     "name": "stderr",
     "output_type": "stream",
     "text": [
      "INFO\tTask(Task-2) nodify.node.140358110103264:node.py:get()- No need to evaluate\n"
     ]
    },
    {
     "name": "stderr",
     "output_type": "stream",
     "text": [
      "INFO\tTask(Task-2) nodify.node.140358110102640:node.py:get()- No need to evaluate\n"
     ]
    },
    {
     "name": "stderr",
     "output_type": "stream",
     "text": [
      "INFO\tTask(Task-2) nodify.node.140358110012928:node.py:get()- No need to evaluate\n"
     ]
    },
    {
     "name": "stderr",
     "output_type": "stream",
     "text": [
      "INFO\tTask(Task-2) nodify.node.140358110010960:node.py:get()- No need to evaluate\n"
     ]
    },
    {
     "name": "stderr",
     "output_type": "stream",
     "text": [
      "INFO\tTask(Task-2) nodify.node.140358110012784:node.py:get()- No need to evaluate\n"
     ]
    },
    {
     "name": "stderr",
     "output_type": "stream",
     "text": [
      "INFO\tTask(Task-2) nodify.node.140358110018832:node.py:get()- No need to evaluate\n"
     ]
    },
    {
     "name": "stderr",
     "output_type": "stream",
     "text": [
      "INFO\tTask(Task-2) nodify.node.140358110010960:node.py:get()- No need to evaluate\n"
     ]
    },
    {
     "name": "stderr",
     "output_type": "stream",
     "text": [
      "INFO\tTask(Task-2) nodify.node.140358110019408:node.py:get()- No need to evaluate\n"
     ]
    },
    {
     "name": "stderr",
     "output_type": "stream",
     "text": [
      "INFO\tTask(Task-2) nodify.node.140358110103312:node.py:get()- No need to evaluate\n"
     ]
    },
    {
     "name": "stderr",
     "output_type": "stream",
     "text": [
      "INFO\tTask(Task-2) nodify.node.140358110013264:node.py:get()- No need to evaluate\n"
     ]
    },
    {
     "name": "stderr",
     "output_type": "stream",
     "text": [
      "INFO\tTask(Task-2) nodify.node.140358110010960:node.py:get()- No need to evaluate\n"
     ]
    },
    {
     "name": "stderr",
     "output_type": "stream",
     "text": [
      "INFO\tTask(Task-2) nodify.node.140358110012784:node.py:get()- No need to evaluate\n"
     ]
    },
    {
     "name": "stderr",
     "output_type": "stream",
     "text": [
      "INFO\tTask(Task-2) nodify.node.140358110018832:node.py:get()- No need to evaluate\n"
     ]
    },
    {
     "name": "stderr",
     "output_type": "stream",
     "text": [
      "INFO\tTask(Task-2) nodify.node.140358110010960:node.py:get()- No need to evaluate\n"
     ]
    },
    {
     "name": "stderr",
     "output_type": "stream",
     "text": [
      "INFO\tTask(Task-2) nodify.node.140358110019408:node.py:get()- No need to evaluate\n"
     ]
    },
    {
     "name": "stderr",
     "output_type": "stream",
     "text": [
      "INFO\tTask(Task-2) nodify.node.140358110103984:node.py:get()- No need to evaluate\n"
     ]
    },
    {
     "name": "stderr",
     "output_type": "stream",
     "text": [
      "INFO\tTask(Task-2) nodify.node.140358110013648:node.py:get()- No need to evaluate\n"
     ]
    },
    {
     "name": "stderr",
     "output_type": "stream",
     "text": [
      "INFO\tTask(Task-2) nodify.node.140358110010960:node.py:get()- No need to evaluate\n"
     ]
    },
    {
     "name": "stderr",
     "output_type": "stream",
     "text": [
      "INFO\tTask(Task-2) nodify.node.140358110012784:node.py:get()- No need to evaluate\n"
     ]
    },
    {
     "name": "stderr",
     "output_type": "stream",
     "text": [
      "INFO\tTask(Task-2) nodify.node.140358110018832:node.py:get()- No need to evaluate\n"
     ]
    },
    {
     "name": "stderr",
     "output_type": "stream",
     "text": [
      "INFO\tTask(Task-2) nodify.node.140358110010960:node.py:get()- No need to evaluate\n"
     ]
    },
    {
     "name": "stderr",
     "output_type": "stream",
     "text": [
      "INFO\tTask(Task-2) nodify.node.140358110019408:node.py:get()- No need to evaluate\n"
     ]
    },
    {
     "name": "stderr",
     "output_type": "stream",
     "text": [
      "INFO\tTask(Task-2) nodify.node.140358110104320:node.py:get()- No need to evaluate\n"
     ]
    },
    {
     "name": "stderr",
     "output_type": "stream",
     "text": [
      "INFO\tTask(Task-2) nodify.node.140358110010960:node.py:get()- No need to evaluate\n"
     ]
    },
    {
     "name": "stderr",
     "output_type": "stream",
     "text": [
      "INFO\tTask(Task-2) nodify.node.140358110010768:node.py:get()- No need to evaluate\n"
     ]
    },
    {
     "name": "stderr",
     "output_type": "stream",
     "text": [
      "INFO\tTask(Task-2) nodify.node.140358110012352:node.py:get()- No need to evaluate\n"
     ]
    },
    {
     "name": "stderr",
     "output_type": "stream",
     "text": [
      "INFO\tTask(Task-2) nodify.node.140358110011728:node.py:get()- No need to evaluate\n"
     ]
    },
    {
     "name": "stderr",
     "output_type": "stream",
     "text": [
      "INFO\tTask(Task-2) nodify.node.140358110019312:node.py:get()- No need to evaluate\n"
     ]
    },
    {
     "name": "stderr",
     "output_type": "stream",
     "text": [
      "INFO\tTask(Task-2) nodify.node.140358110010960:node.py:get()- No need to evaluate\n"
     ]
    },
    {
     "name": "stderr",
     "output_type": "stream",
     "text": [
      "INFO\tTask(Task-2) nodify.node.140358110012784:node.py:get()- No need to evaluate\n"
     ]
    },
    {
     "name": "stderr",
     "output_type": "stream",
     "text": [
      "INFO\tTask(Task-2) nodify.node.140358110018832:node.py:get()- No need to evaluate\n"
     ]
    },
    {
     "name": "stderr",
     "output_type": "stream",
     "text": [
      "INFO\tTask(Task-2) nodify.node.140358110010960:node.py:get()- No need to evaluate\n"
     ]
    },
    {
     "name": "stderr",
     "output_type": "stream",
     "text": [
      "INFO\tTask(Task-2) nodify.node.140358110019408:node.py:get()- No need to evaluate\n"
     ]
    },
    {
     "name": "stderr",
     "output_type": "stream",
     "text": [
      "INFO\tTask(Task-2) nodify.node.140358110016768:node.py:get()- No need to evaluate\n"
     ]
    },
    {
     "name": "stderr",
     "output_type": "stream",
     "text": [
      "INFO\tTask(Task-2) nodify.node.140358110016384:node.py:get()- No need to evaluate\n"
     ]
    },
    {
     "name": "stderr",
     "output_type": "stream",
     "text": [
      "INFO\tTask(Task-2) nodify.node.140358110019120:node.py:get()- No need to evaluate\n"
     ]
    },
    {
     "name": "stderr",
     "output_type": "stream",
     "text": [
      "INFO\tTask(Task-2) nodify.node.140358110019552:node.py:get()- Evaluated because inputs changed.\n"
     ]
    },
    {
     "name": "stderr",
     "output_type": "stream",
     "text": [
      "INFO\tTask(Task-2) nodify.node.140358110104800:node.py:get()- Evaluated because inputs changed.\n"
     ]
    },
    {
     "name": "stderr",
     "output_type": "stream",
     "text": [
      "INFO\tTask(Task-2) nodify.node.140358110105280:node.py:get()- Evaluated because inputs changed.\n"
     ]
    },
    {
     "data": {
      "text/html": [
       "<div>            <script src=\"https://cdnjs.cloudflare.com/ajax/libs/mathjax/2.7.5/MathJax.js?config=TeX-AMS-MML_SVG\"></script><script type=\"text/javascript\">if (window.MathJax && window.MathJax.Hub && window.MathJax.Hub.Config) {window.MathJax.Hub.Config({SVG: {font: \"STIX-Web\"}});}</script>                <script type=\"text/javascript\">window.PlotlyConfig = {MathJaxConfig: 'local'};</script>\n",
       "        <script charset=\"utf-8\" src=\"https://cdn.plot.ly/plotly-3.1.1.min.js\" integrity=\"sha256-HUEFyfiTnZJxCxur99FjbKYTvKSzwDaD3/x5TqHpFu4=\" crossorigin=\"anonymous\"></script>                <div id=\"b0618e7a-b21c-4cfd-8349-95dc2c9ffcff\" class=\"plotly-graph-div\" style=\"height:525px; width:100%;\"></div>            <script type=\"text/javascript\">                window.PLOTLYENV=window.PLOTLYENV || {};                                if (document.getElementById(\"b0618e7a-b21c-4cfd-8349-95dc2c9ffcff\")) {                    Plotly.newPlot(                        \"b0618e7a-b21c-4cfd-8349-95dc2c9ffcff\",                        [{\"coloraxis\":\"coloraxis\",\"meta\":{},\"opacity\":1,\"texttemplate\":\"%{z:.2f}\",\"z\":{\"dtype\":\"f8\",\"bdata\":\"Phrwuseb6j+rlqOVK1jpPyCmucYXz9i\\u002f\\u002fhb\\u002fOmyF6T\\u002fAxcAYjmuEvwAAAAAAAPh\\u002fAAAAAAAA+H8AAAAAAAD4fwAAAAAAAPh\\u002fzKXsS\\u002fjMgz8AAAAAAAD4fwAAAAAAAPh\\u002fAAAAAAAA+H8AAAAAAAD4fwAAAAAAAPh\\u002fq5ajlStY6T+kGPkHOmjZP7jYA1kVVrU\\u002fMB2R12O4uL9vHqYIfyHovwAAAAAAAPh\\u002fAAAAAAAA+H8AAAAAAAD4fwAAAAAAAPh\\u002fDvrj\\u002fv9klL8AAAAAAAD4fwAAAAAAAPh\\u002fAAAAAAAA+H8AAAAAAAD4fwAAAAAAAPh\\u002fIKa5xhfP2L+42ANZFVa1P+CfdIIRF9+\\u002fAIA6K+RWYz9gHdalaceaPwAAAAAAAPh\\u002fAAAAAAAA+H8AAAAAAAD4fwAAAAAAAPh\\u002fLWMEwYCopT8AAAAAAAD4fwAAAAAAAPh\\u002fAAAAAAAA+H8AAAAAAAD4fwAAAAAAAPh\\u002f\\u002fhb\\u002fOmyF6T8wHZHXY7i4vwCAOivkVmM\\u002fIAEtqSY+77+LBVEihOPkPwAAAAAAAPh\\u002fAAAAAAAA+H8AAAAAAAD4fwAAAAAAAPh\\u002fTnkA7\\u002fLWnD8AAAAAAAD4fwAAAAAAAPh\\u002fAAAAAAAA+H8AAAAAAAD4fwAAAAAAAPh\\u002fwMXAGI5rhL9vHqYIfyHov2Ad1qVpx5o\\u002fiwVRIoTj5D+0o2N+J4jZPwAAAAAAAPh\\u002fAAAAAAAA+H8AAAAAAAD4fwAAAAAAAPh\\u002fAAAAAAAA+H\\u002fMpexL+MyDPw764\\u002f7\\u002fZJS\\u002fLWMEwYCopT9OeQDv8tacPwAAAAAAAPh\\u002f\",\"shape\":\"5, 15\"},\"zsmooth\":false,\"type\":\"heatmap\"}],                        {\"template\":{\"layout\":{\"hovermode\":\"closest\",\"paper_bgcolor\":\"white\",\"plot_bgcolor\":\"white\",\"scene\":{\"xaxis\":{\"color\":\"black\",\"gridcolor\":\"#ccc\",\"gridwidth\":1,\"linewidth\":1,\"mirror\":true,\"showgrid\":false,\"showline\":true,\"ticklen\":5,\"ticks\":\"outside\",\"ticksuffix\":\" \",\"visible\":true,\"zeroline\":false,\"zerolinecolor\":\"#ccc\",\"zerolinewidth\":1},\"yaxis\":{\"color\":\"black\",\"gridcolor\":\"#ccc\",\"gridwidth\":1,\"linewidth\":1,\"mirror\":true,\"showgrid\":false,\"showline\":true,\"ticklen\":5,\"ticks\":\"outside\",\"ticksuffix\":\" \",\"visible\":true,\"zeroline\":false,\"zerolinecolor\":\"#ccc\",\"zerolinewidth\":1},\"zaxis\":{\"color\":\"black\",\"gridcolor\":\"#ccc\",\"gridwidth\":1,\"linewidth\":1,\"mirror\":true,\"showgrid\":false,\"showline\":true,\"ticklen\":5,\"ticks\":\"outside\",\"ticksuffix\":\" \",\"visible\":true,\"zeroline\":false,\"zerolinecolor\":\"#ccc\",\"zerolinewidth\":1}},\"xaxis\":{\"color\":\"black\",\"gridcolor\":\"#ccc\",\"gridwidth\":1,\"linewidth\":1,\"mirror\":true,\"showgrid\":false,\"showline\":true,\"ticklen\":5,\"ticks\":\"outside\",\"ticksuffix\":\" \",\"visible\":true,\"zeroline\":false,\"zerolinecolor\":\"#ccc\",\"zerolinewidth\":1},\"yaxis\":{\"color\":\"black\",\"gridcolor\":\"#ccc\",\"gridwidth\":1,\"linewidth\":1,\"mirror\":true,\"showgrid\":false,\"showline\":true,\"ticklen\":5,\"ticks\":\"outside\",\"ticksuffix\":\" \",\"visible\":true,\"zeroline\":false,\"zerolinecolor\":\"#ccc\",\"zerolinewidth\":1}}},\"coloraxis\":{\"colorscale\":[[0.0,\"rgb(0, 147, 146)\"],[0.16666666666666666,\"rgb(57, 177, 133)\"],[0.3333333333333333,\"rgb(156, 203, 134)\"],[0.5,\"rgb(233, 226, 156)\"],[0.6666666666666666,\"rgb(238, 180, 121)\"],[0.8333333333333334,\"rgb(232, 132, 113)\"],[1.0,\"rgb(207, 89, 126)\"]],\"cmid\":0,\"showscale\":true},\"xaxis\":{\"scaleanchor\":\"y\",\"scaleratio\":1,\"range\":[-0.5,14.5],\"constrain\":\"domain\"},\"scene\":{\"aspectmode\":\"data\",\"xaxis\":{\"range\":[-0.5,14.5]},\"yaxis\":{\"range\":[4.5,-0.5]}},\"yaxis\":{\"range\":[4.5,-0.5],\"constrain\":\"domain\"}},                        {\"responsive\": true}                    ).then(function(){\n",
       "                            \n",
       "var gd = document.getElementById('b0618e7a-b21c-4cfd-8349-95dc2c9ffcff');\n",
       "var x = new MutationObserver(function (mutations, observer) {{\n",
       "        var display = window.getComputedStyle(gd).display;\n",
       "        if (!display || display === 'none') {{\n",
       "            console.log([gd, 'removed!']);\n",
       "            Plotly.purge(gd);\n",
       "            observer.disconnect();\n",
       "        }}\n",
       "}});\n",
       "\n",
       "// Listen for the removal of the full notebook cells\n",
       "var notebookContainer = gd.closest('#notebook-container');\n",
       "if (notebookContainer) {{\n",
       "    x.observe(notebookContainer, {childList: true});\n",
       "}}\n",
       "\n",
       "// Listen for the clearing of the current output cell\n",
       "var outputEl = gd.closest('.output');\n",
       "if (outputEl) {{\n",
       "    x.observe(outputEl, {childList: true});\n",
       "}}\n",
       "\n",
       "                        })                };            </script>        </div>"
      ]
     },
     "metadata": {},
     "output_type": "display_data"
    }
   ],
   "source": [
    "plot.update_inputs(text=\".2f\")"
   ]
  },
  {
   "cell_type": "markdown",
   "metadata": {},
   "source": [
    "You can tweak the style of text with the `textfont` input, which is a dictionary with three (optional) keys:\n",
    "\n",
    "- `color`: Text color.\n",
    "- `family`: Font family for the text. Note that different backends might support different fonts.\n",
    "- `size`: The size of the font.\n",
    "\n",
    "The default value will be used for any key that you don't include in the dictionary."
   ]
  },
  {
   "cell_type": "code",
   "execution_count": 9,
   "metadata": {
    "execution": {
     "iopub.execute_input": "2025-10-08T12:09:30.694936Z",
     "iopub.status.busy": "2025-10-08T12:09:30.694740Z",
     "iopub.status.idle": "2025-10-08T12:09:30.795176Z",
     "shell.execute_reply": "2025-10-08T12:09:30.794607Z"
    }
   },
   "outputs": [
    {
     "name": "stderr",
     "output_type": "stream",
     "text": [
      "INFO\tTask(Task-2) nodify.node.140358110017536:node.py:get()- No need to evaluate\n"
     ]
    },
    {
     "name": "stderr",
     "output_type": "stream",
     "text": [
      "INFO\tTask(Task-2) nodify.node.140358110010960:node.py:get()- No need to evaluate\n"
     ]
    },
    {
     "name": "stderr",
     "output_type": "stream",
     "text": [
      "INFO\tTask(Task-2) nodify.node.140358110010768:node.py:get()- No need to evaluate\n"
     ]
    },
    {
     "name": "stderr",
     "output_type": "stream",
     "text": [
      "INFO\tTask(Task-2) nodify.node.140358110012352:node.py:get()- No need to evaluate\n"
     ]
    },
    {
     "name": "stderr",
     "output_type": "stream",
     "text": [
      "INFO\tTask(Task-2) nodify.node.140358110011728:node.py:get()- No need to evaluate\n"
     ]
    },
    {
     "name": "stderr",
     "output_type": "stream",
     "text": [
      "INFO\tTask(Task-2) nodify.node.140358110019312:node.py:get()- No need to evaluate\n"
     ]
    },
    {
     "name": "stderr",
     "output_type": "stream",
     "text": [
      "INFO\tTask(Task-2) nodify.node.140358110014464:node.py:get()- No need to evaluate\n"
     ]
    },
    {
     "name": "stderr",
     "output_type": "stream",
     "text": [
      "INFO\tTask(Task-2) nodify.node.140358110014848:node.py:get()- No need to evaluate\n"
     ]
    },
    {
     "name": "stderr",
     "output_type": "stream",
     "text": [
      "INFO\tTask(Task-2) nodify.node.140358110010960:node.py:get()- No need to evaluate\n"
     ]
    },
    {
     "name": "stderr",
     "output_type": "stream",
     "text": [
      "INFO\tTask(Task-2) nodify.node.140358110015232:node.py:get()- No need to evaluate\n"
     ]
    },
    {
     "name": "stderr",
     "output_type": "stream",
     "text": [
      "INFO\tTask(Task-2) nodify.node.140358110014848:node.py:get()- No need to evaluate\n"
     ]
    },
    {
     "name": "stderr",
     "output_type": "stream",
     "text": [
      "INFO\tTask(Task-2) nodify.node.140358110102592:node.py:get()- No need to evaluate\n"
     ]
    },
    {
     "name": "stderr",
     "output_type": "stream",
     "text": [
      "INFO\tTask(Task-2) nodify.node.140358110014080:node.py:get()- No need to evaluate\n"
     ]
    },
    {
     "name": "stderr",
     "output_type": "stream",
     "text": [
      "INFO\tTask(Task-2) nodify.node.140358110015616:node.py:get()- No need to evaluate\n"
     ]
    },
    {
     "name": "stderr",
     "output_type": "stream",
     "text": [
      "INFO\tTask(Task-2) nodify.node.140358110016000:node.py:get()- Evaluated because inputs changed.\n"
     ]
    },
    {
     "name": "stderr",
     "output_type": "stream",
     "text": [
      "INFO\tTask(Task-2) nodify.node.140358110102496:node.py:get()- Evaluated because inputs changed.\n"
     ]
    },
    {
     "name": "stderr",
     "output_type": "stream",
     "text": [
      "INFO\tTask(Task-2) nodify.node.140358110010960:node.py:get()- No need to evaluate\n"
     ]
    },
    {
     "name": "stderr",
     "output_type": "stream",
     "text": [
      "INFO\tTask(Task-2) nodify.node.140358110010768:node.py:get()- No need to evaluate\n"
     ]
    },
    {
     "name": "stderr",
     "output_type": "stream",
     "text": [
      "INFO\tTask(Task-2) nodify.node.140358110012352:node.py:get()- No need to evaluate\n"
     ]
    },
    {
     "name": "stderr",
     "output_type": "stream",
     "text": [
      "INFO\tTask(Task-2) nodify.node.140358110011728:node.py:get()- No need to evaluate\n"
     ]
    },
    {
     "name": "stderr",
     "output_type": "stream",
     "text": [
      "INFO\tTask(Task-2) nodify.node.140358110019312:node.py:get()- No need to evaluate\n"
     ]
    },
    {
     "name": "stderr",
     "output_type": "stream",
     "text": [
      "INFO\tTask(Task-2) nodify.node.140358110017152:node.py:get()- No need to evaluate\n"
     ]
    },
    {
     "name": "stderr",
     "output_type": "stream",
     "text": [
      "INFO\tTask(Task-2) nodify.node.140358110103264:node.py:get()- No need to evaluate\n"
     ]
    },
    {
     "name": "stderr",
     "output_type": "stream",
     "text": [
      "INFO\tTask(Task-2) nodify.node.140358110102640:node.py:get()- No need to evaluate\n"
     ]
    },
    {
     "name": "stderr",
     "output_type": "stream",
     "text": [
      "INFO\tTask(Task-2) nodify.node.140358110012928:node.py:get()- No need to evaluate\n"
     ]
    },
    {
     "name": "stderr",
     "output_type": "stream",
     "text": [
      "INFO\tTask(Task-2) nodify.node.140358110010960:node.py:get()- No need to evaluate\n"
     ]
    },
    {
     "name": "stderr",
     "output_type": "stream",
     "text": [
      "INFO\tTask(Task-2) nodify.node.140358110012784:node.py:get()- No need to evaluate\n"
     ]
    },
    {
     "name": "stderr",
     "output_type": "stream",
     "text": [
      "INFO\tTask(Task-2) nodify.node.140358110018832:node.py:get()- No need to evaluate\n"
     ]
    },
    {
     "name": "stderr",
     "output_type": "stream",
     "text": [
      "INFO\tTask(Task-2) nodify.node.140358110010960:node.py:get()- No need to evaluate\n"
     ]
    },
    {
     "name": "stderr",
     "output_type": "stream",
     "text": [
      "INFO\tTask(Task-2) nodify.node.140358110019408:node.py:get()- No need to evaluate\n"
     ]
    },
    {
     "name": "stderr",
     "output_type": "stream",
     "text": [
      "INFO\tTask(Task-2) nodify.node.140358110103312:node.py:get()- No need to evaluate\n"
     ]
    },
    {
     "name": "stderr",
     "output_type": "stream",
     "text": [
      "INFO\tTask(Task-2) nodify.node.140358110013264:node.py:get()- No need to evaluate\n"
     ]
    },
    {
     "name": "stderr",
     "output_type": "stream",
     "text": [
      "INFO\tTask(Task-2) nodify.node.140358110010960:node.py:get()- No need to evaluate\n"
     ]
    },
    {
     "name": "stderr",
     "output_type": "stream",
     "text": [
      "INFO\tTask(Task-2) nodify.node.140358110012784:node.py:get()- No need to evaluate\n"
     ]
    },
    {
     "name": "stderr",
     "output_type": "stream",
     "text": [
      "INFO\tTask(Task-2) nodify.node.140358110018832:node.py:get()- No need to evaluate\n"
     ]
    },
    {
     "name": "stderr",
     "output_type": "stream",
     "text": [
      "INFO\tTask(Task-2) nodify.node.140358110010960:node.py:get()- No need to evaluate\n"
     ]
    },
    {
     "name": "stderr",
     "output_type": "stream",
     "text": [
      "INFO\tTask(Task-2) nodify.node.140358110019408:node.py:get()- No need to evaluate\n"
     ]
    },
    {
     "name": "stderr",
     "output_type": "stream",
     "text": [
      "INFO\tTask(Task-2) nodify.node.140358110103984:node.py:get()- No need to evaluate\n"
     ]
    },
    {
     "name": "stderr",
     "output_type": "stream",
     "text": [
      "INFO\tTask(Task-2) nodify.node.140358110013648:node.py:get()- No need to evaluate\n"
     ]
    },
    {
     "name": "stderr",
     "output_type": "stream",
     "text": [
      "INFO\tTask(Task-2) nodify.node.140358110010960:node.py:get()- No need to evaluate\n"
     ]
    },
    {
     "name": "stderr",
     "output_type": "stream",
     "text": [
      "INFO\tTask(Task-2) nodify.node.140358110012784:node.py:get()- No need to evaluate\n"
     ]
    },
    {
     "name": "stderr",
     "output_type": "stream",
     "text": [
      "INFO\tTask(Task-2) nodify.node.140358110018832:node.py:get()- No need to evaluate\n"
     ]
    },
    {
     "name": "stderr",
     "output_type": "stream",
     "text": [
      "INFO\tTask(Task-2) nodify.node.140358110010960:node.py:get()- No need to evaluate\n"
     ]
    },
    {
     "name": "stderr",
     "output_type": "stream",
     "text": [
      "INFO\tTask(Task-2) nodify.node.140358110019408:node.py:get()- No need to evaluate\n"
     ]
    },
    {
     "name": "stderr",
     "output_type": "stream",
     "text": [
      "INFO\tTask(Task-2) nodify.node.140358110104320:node.py:get()- No need to evaluate\n"
     ]
    },
    {
     "name": "stderr",
     "output_type": "stream",
     "text": [
      "INFO\tTask(Task-2) nodify.node.140358110010960:node.py:get()- No need to evaluate\n"
     ]
    },
    {
     "name": "stderr",
     "output_type": "stream",
     "text": [
      "INFO\tTask(Task-2) nodify.node.140358110010768:node.py:get()- No need to evaluate\n"
     ]
    },
    {
     "name": "stderr",
     "output_type": "stream",
     "text": [
      "INFO\tTask(Task-2) nodify.node.140358110012352:node.py:get()- No need to evaluate\n"
     ]
    },
    {
     "name": "stderr",
     "output_type": "stream",
     "text": [
      "INFO\tTask(Task-2) nodify.node.140358110011728:node.py:get()- No need to evaluate\n"
     ]
    },
    {
     "name": "stderr",
     "output_type": "stream",
     "text": [
      "INFO\tTask(Task-2) nodify.node.140358110019312:node.py:get()- No need to evaluate\n"
     ]
    },
    {
     "name": "stderr",
     "output_type": "stream",
     "text": [
      "INFO\tTask(Task-2) nodify.node.140358110010960:node.py:get()- No need to evaluate\n"
     ]
    },
    {
     "name": "stderr",
     "output_type": "stream",
     "text": [
      "INFO\tTask(Task-2) nodify.node.140358110012784:node.py:get()- No need to evaluate\n"
     ]
    },
    {
     "name": "stderr",
     "output_type": "stream",
     "text": [
      "INFO\tTask(Task-2) nodify.node.140358110018832:node.py:get()- No need to evaluate\n"
     ]
    },
    {
     "name": "stderr",
     "output_type": "stream",
     "text": [
      "INFO\tTask(Task-2) nodify.node.140358110010960:node.py:get()- No need to evaluate\n"
     ]
    },
    {
     "name": "stderr",
     "output_type": "stream",
     "text": [
      "INFO\tTask(Task-2) nodify.node.140358110019408:node.py:get()- No need to evaluate\n"
     ]
    },
    {
     "name": "stderr",
     "output_type": "stream",
     "text": [
      "INFO\tTask(Task-2) nodify.node.140358110016768:node.py:get()- No need to evaluate\n"
     ]
    },
    {
     "name": "stderr",
     "output_type": "stream",
     "text": [
      "INFO\tTask(Task-2) nodify.node.140358110016384:node.py:get()- No need to evaluate\n"
     ]
    },
    {
     "name": "stderr",
     "output_type": "stream",
     "text": [
      "INFO\tTask(Task-2) nodify.node.140358110019120:node.py:get()- No need to evaluate\n"
     ]
    },
    {
     "name": "stderr",
     "output_type": "stream",
     "text": [
      "INFO\tTask(Task-2) nodify.node.140358110019552:node.py:get()- Evaluated because inputs changed.\n"
     ]
    },
    {
     "name": "stderr",
     "output_type": "stream",
     "text": [
      "INFO\tTask(Task-2) nodify.node.140358110104800:node.py:get()- Evaluated because inputs changed.\n"
     ]
    },
    {
     "name": "stderr",
     "output_type": "stream",
     "text": [
      "INFO\tTask(Task-2) nodify.node.140358110105280:node.py:get()- Evaluated because inputs changed.\n"
     ]
    },
    {
     "data": {
      "text/html": [
       "<div>            <script src=\"https://cdnjs.cloudflare.com/ajax/libs/mathjax/2.7.5/MathJax.js?config=TeX-AMS-MML_SVG\"></script><script type=\"text/javascript\">if (window.MathJax && window.MathJax.Hub && window.MathJax.Hub.Config) {window.MathJax.Hub.Config({SVG: {font: \"STIX-Web\"}});}</script>                <script type=\"text/javascript\">window.PlotlyConfig = {MathJaxConfig: 'local'};</script>\n",
       "        <script charset=\"utf-8\" src=\"https://cdn.plot.ly/plotly-3.1.1.min.js\" integrity=\"sha256-HUEFyfiTnZJxCxur99FjbKYTvKSzwDaD3/x5TqHpFu4=\" crossorigin=\"anonymous\"></script>                <div id=\"d104941c-5950-4ef7-be29-d12e57964c26\" class=\"plotly-graph-div\" style=\"height:525px; width:100%;\"></div>            <script type=\"text/javascript\">                window.PLOTLYENV=window.PLOTLYENV || {};                                if (document.getElementById(\"d104941c-5950-4ef7-be29-d12e57964c26\")) {                    Plotly.newPlot(                        \"d104941c-5950-4ef7-be29-d12e57964c26\",                        [{\"coloraxis\":\"coloraxis\",\"meta\":{},\"opacity\":1,\"text\":[[\"0.83\",\"0.79\",\"-0.39\",\"0.80\",\"-0.01\",\"\",\"\",\"\",\"\",\"0.01\",\"\",\"\",\"\",\"\",\"\"],[\"0.79\",\"0.40\",\"0.08\",\"-0.10\",\"-0.75\",\"\",\"\",\"\",\"\",\"-0.02\",\"\",\"\",\"\",\"\",\"\"],[\"-0.39\",\"0.08\",\"-0.49\",\"0.00\",\"0.03\",\"\",\"\",\"\",\"\",\"0.04\",\"\",\"\",\"\",\"\",\"\"],[\"0.80\",\"-0.10\",\"0.00\",\"-0.98\",\"0.65\",\"\",\"\",\"\",\"\",\"0.03\",\"\",\"\",\"\",\"\",\"\"],[\"-0.01\",\"-0.75\",\"0.03\",\"0.65\",\"0.40\",\"\",\"\",\"\",\"\",\"\",\"0.01\",\"-0.02\",\"0.04\",\"0.03\",\"\"]],\"textfont\":{\"color\":\"blue\",\"family\":\"times\",\"size\":15},\"texttemplate\":\"%{text}\",\"z\":{\"dtype\":\"f8\",\"bdata\":\"Phrwuseb6j+rlqOVK1jpPyCmucYXz9i\\u002f\\u002fhb\\u002fOmyF6T\\u002fAxcAYjmuEvwAAAAAAAPh\\u002fAAAAAAAA+H8AAAAAAAD4fwAAAAAAAPh\\u002fzKXsS\\u002fjMgz8AAAAAAAD4fwAAAAAAAPh\\u002fAAAAAAAA+H8AAAAAAAD4fwAAAAAAAPh\\u002fq5ajlStY6T+kGPkHOmjZP7jYA1kVVrU\\u002fMB2R12O4uL9vHqYIfyHovwAAAAAAAPh\\u002fAAAAAAAA+H8AAAAAAAD4fwAAAAAAAPh\\u002fDvrj\\u002fv9klL8AAAAAAAD4fwAAAAAAAPh\\u002fAAAAAAAA+H8AAAAAAAD4fwAAAAAAAPh\\u002fIKa5xhfP2L+42ANZFVa1P+CfdIIRF9+\\u002fAIA6K+RWYz9gHdalaceaPwAAAAAAAPh\\u002fAAAAAAAA+H8AAAAAAAD4fwAAAAAAAPh\\u002fLWMEwYCopT8AAAAAAAD4fwAAAAAAAPh\\u002fAAAAAAAA+H8AAAAAAAD4fwAAAAAAAPh\\u002f\\u002fhb\\u002fOmyF6T8wHZHXY7i4vwCAOivkVmM\\u002fIAEtqSY+77+LBVEihOPkPwAAAAAAAPh\\u002fAAAAAAAA+H8AAAAAAAD4fwAAAAAAAPh\\u002fTnkA7\\u002fLWnD8AAAAAAAD4fwAAAAAAAPh\\u002fAAAAAAAA+H8AAAAAAAD4fwAAAAAAAPh\\u002fwMXAGI5rhL9vHqYIfyHov2Ad1qVpx5o\\u002fiwVRIoTj5D+0o2N+J4jZPwAAAAAAAPh\\u002fAAAAAAAA+H8AAAAAAAD4fwAAAAAAAPh\\u002fAAAAAAAA+H\\u002fMpexL+MyDPw764\\u002f7\\u002fZJS\\u002fLWMEwYCopT9OeQDv8tacPwAAAAAAAPh\\u002f\",\"shape\":\"5, 15\"},\"zsmooth\":false,\"type\":\"heatmap\"}],                        {\"template\":{\"layout\":{\"hovermode\":\"closest\",\"paper_bgcolor\":\"white\",\"plot_bgcolor\":\"white\",\"scene\":{\"xaxis\":{\"color\":\"black\",\"gridcolor\":\"#ccc\",\"gridwidth\":1,\"linewidth\":1,\"mirror\":true,\"showgrid\":false,\"showline\":true,\"ticklen\":5,\"ticks\":\"outside\",\"ticksuffix\":\" \",\"visible\":true,\"zeroline\":false,\"zerolinecolor\":\"#ccc\",\"zerolinewidth\":1},\"yaxis\":{\"color\":\"black\",\"gridcolor\":\"#ccc\",\"gridwidth\":1,\"linewidth\":1,\"mirror\":true,\"showgrid\":false,\"showline\":true,\"ticklen\":5,\"ticks\":\"outside\",\"ticksuffix\":\" \",\"visible\":true,\"zeroline\":false,\"zerolinecolor\":\"#ccc\",\"zerolinewidth\":1},\"zaxis\":{\"color\":\"black\",\"gridcolor\":\"#ccc\",\"gridwidth\":1,\"linewidth\":1,\"mirror\":true,\"showgrid\":false,\"showline\":true,\"ticklen\":5,\"ticks\":\"outside\",\"ticksuffix\":\" \",\"visible\":true,\"zeroline\":false,\"zerolinecolor\":\"#ccc\",\"zerolinewidth\":1}},\"xaxis\":{\"color\":\"black\",\"gridcolor\":\"#ccc\",\"gridwidth\":1,\"linewidth\":1,\"mirror\":true,\"showgrid\":false,\"showline\":true,\"ticklen\":5,\"ticks\":\"outside\",\"ticksuffix\":\" \",\"visible\":true,\"zeroline\":false,\"zerolinecolor\":\"#ccc\",\"zerolinewidth\":1},\"yaxis\":{\"color\":\"black\",\"gridcolor\":\"#ccc\",\"gridwidth\":1,\"linewidth\":1,\"mirror\":true,\"showgrid\":false,\"showline\":true,\"ticklen\":5,\"ticks\":\"outside\",\"ticksuffix\":\" \",\"visible\":true,\"zeroline\":false,\"zerolinecolor\":\"#ccc\",\"zerolinewidth\":1}}},\"coloraxis\":{\"colorscale\":[[0.0,\"rgb(0, 147, 146)\"],[0.16666666666666666,\"rgb(57, 177, 133)\"],[0.3333333333333333,\"rgb(156, 203, 134)\"],[0.5,\"rgb(233, 226, 156)\"],[0.6666666666666666,\"rgb(238, 180, 121)\"],[0.8333333333333334,\"rgb(232, 132, 113)\"],[1.0,\"rgb(207, 89, 126)\"]],\"cmid\":0,\"showscale\":true},\"xaxis\":{\"scaleanchor\":\"y\",\"scaleratio\":1,\"range\":[-0.5,14.5],\"constrain\":\"domain\"},\"scene\":{\"aspectmode\":\"data\",\"xaxis\":{\"range\":[-0.5,14.5]},\"yaxis\":{\"range\":[4.5,-0.5]}},\"yaxis\":{\"range\":[4.5,-0.5],\"constrain\":\"domain\"}},                        {\"responsive\": true}                    ).then(function(){\n",
       "                            \n",
       "var gd = document.getElementById('d104941c-5950-4ef7-be29-d12e57964c26');\n",
       "var x = new MutationObserver(function (mutations, observer) {{\n",
       "        var display = window.getComputedStyle(gd).display;\n",
       "        if (!display || display === 'none') {{\n",
       "            console.log([gd, 'removed!']);\n",
       "            Plotly.purge(gd);\n",
       "            observer.disconnect();\n",
       "        }}\n",
       "}});\n",
       "\n",
       "// Listen for the removal of the full notebook cells\n",
       "var notebookContainer = gd.closest('#notebook-container');\n",
       "if (notebookContainer) {{\n",
       "    x.observe(notebookContainer, {childList: true});\n",
       "}}\n",
       "\n",
       "// Listen for the clearing of the current output cell\n",
       "var outputEl = gd.closest('.output');\n",
       "if (outputEl) {{\n",
       "    x.observe(outputEl, {childList: true});\n",
       "}}\n",
       "\n",
       "                        })                };            </script>        </div>"
      ]
     },
     "metadata": {},
     "output_type": "display_data"
    }
   ],
   "source": [
    "plot.update_inputs(textfont={\"color\": \"blue\", \"family\": \"times\", \"size\": 15})"
   ]
  },
  {
   "cell_type": "markdown",
   "metadata": {},
   "source": [
    "If you want the text to go away, set the `text` input to `None`:"
   ]
  },
  {
   "cell_type": "code",
   "execution_count": 10,
   "metadata": {
    "execution": {
     "iopub.execute_input": "2025-10-08T12:09:30.797115Z",
     "iopub.status.busy": "2025-10-08T12:09:30.796936Z",
     "iopub.status.idle": "2025-10-08T12:09:30.897281Z",
     "shell.execute_reply": "2025-10-08T12:09:30.896710Z"
    }
   },
   "outputs": [
    {
     "name": "stderr",
     "output_type": "stream",
     "text": [
      "INFO\tTask(Task-2) nodify.node.140358110017536:node.py:get()- No need to evaluate\n"
     ]
    },
    {
     "name": "stderr",
     "output_type": "stream",
     "text": [
      "INFO\tTask(Task-2) nodify.node.140358110010960:node.py:get()- No need to evaluate\n"
     ]
    },
    {
     "name": "stderr",
     "output_type": "stream",
     "text": [
      "INFO\tTask(Task-2) nodify.node.140358110010768:node.py:get()- No need to evaluate\n"
     ]
    },
    {
     "name": "stderr",
     "output_type": "stream",
     "text": [
      "INFO\tTask(Task-2) nodify.node.140358110012352:node.py:get()- No need to evaluate\n"
     ]
    },
    {
     "name": "stderr",
     "output_type": "stream",
     "text": [
      "INFO\tTask(Task-2) nodify.node.140358110011728:node.py:get()- No need to evaluate\n"
     ]
    },
    {
     "name": "stderr",
     "output_type": "stream",
     "text": [
      "INFO\tTask(Task-2) nodify.node.140358110019312:node.py:get()- No need to evaluate\n"
     ]
    },
    {
     "name": "stderr",
     "output_type": "stream",
     "text": [
      "INFO\tTask(Task-2) nodify.node.140358110014464:node.py:get()- No need to evaluate\n"
     ]
    },
    {
     "name": "stderr",
     "output_type": "stream",
     "text": [
      "INFO\tTask(Task-2) nodify.node.140358110014848:node.py:get()- No need to evaluate\n"
     ]
    },
    {
     "name": "stderr",
     "output_type": "stream",
     "text": [
      "INFO\tTask(Task-2) nodify.node.140358110010960:node.py:get()- No need to evaluate\n"
     ]
    },
    {
     "name": "stderr",
     "output_type": "stream",
     "text": [
      "INFO\tTask(Task-2) nodify.node.140358110015232:node.py:get()- No need to evaluate\n"
     ]
    },
    {
     "name": "stderr",
     "output_type": "stream",
     "text": [
      "INFO\tTask(Task-2) nodify.node.140358110014848:node.py:get()- No need to evaluate\n"
     ]
    },
    {
     "name": "stderr",
     "output_type": "stream",
     "text": [
      "INFO\tTask(Task-2) nodify.node.140358110102592:node.py:get()- No need to evaluate\n"
     ]
    },
    {
     "name": "stderr",
     "output_type": "stream",
     "text": [
      "INFO\tTask(Task-2) nodify.node.140358110014080:node.py:get()- No need to evaluate\n"
     ]
    },
    {
     "name": "stderr",
     "output_type": "stream",
     "text": [
      "INFO\tTask(Task-2) nodify.node.140358110015616:node.py:get()- Evaluated because inputs changed.\n"
     ]
    },
    {
     "name": "stderr",
     "output_type": "stream",
     "text": [
      "INFO\tTask(Task-2) nodify.node.140358110016000:node.py:get()- No need to evaluate\n"
     ]
    },
    {
     "name": "stderr",
     "output_type": "stream",
     "text": [
      "INFO\tTask(Task-2) nodify.node.140358110102496:node.py:get()- Evaluated because inputs changed.\n"
     ]
    },
    {
     "name": "stderr",
     "output_type": "stream",
     "text": [
      "INFO\tTask(Task-2) nodify.node.140358110010960:node.py:get()- No need to evaluate\n"
     ]
    },
    {
     "name": "stderr",
     "output_type": "stream",
     "text": [
      "INFO\tTask(Task-2) nodify.node.140358110010768:node.py:get()- No need to evaluate\n"
     ]
    },
    {
     "name": "stderr",
     "output_type": "stream",
     "text": [
      "INFO\tTask(Task-2) nodify.node.140358110012352:node.py:get()- No need to evaluate\n"
     ]
    },
    {
     "name": "stderr",
     "output_type": "stream",
     "text": [
      "INFO\tTask(Task-2) nodify.node.140358110011728:node.py:get()- No need to evaluate\n"
     ]
    },
    {
     "name": "stderr",
     "output_type": "stream",
     "text": [
      "INFO\tTask(Task-2) nodify.node.140358110019312:node.py:get()- No need to evaluate\n"
     ]
    },
    {
     "name": "stderr",
     "output_type": "stream",
     "text": [
      "INFO\tTask(Task-2) nodify.node.140358110017152:node.py:get()- No need to evaluate\n"
     ]
    },
    {
     "name": "stderr",
     "output_type": "stream",
     "text": [
      "INFO\tTask(Task-2) nodify.node.140358110103264:node.py:get()- No need to evaluate\n"
     ]
    },
    {
     "name": "stderr",
     "output_type": "stream",
     "text": [
      "INFO\tTask(Task-2) nodify.node.140358110102640:node.py:get()- No need to evaluate\n"
     ]
    },
    {
     "name": "stderr",
     "output_type": "stream",
     "text": [
      "INFO\tTask(Task-2) nodify.node.140358110012928:node.py:get()- No need to evaluate\n"
     ]
    },
    {
     "name": "stderr",
     "output_type": "stream",
     "text": [
      "INFO\tTask(Task-2) nodify.node.140358110010960:node.py:get()- No need to evaluate\n"
     ]
    },
    {
     "name": "stderr",
     "output_type": "stream",
     "text": [
      "INFO\tTask(Task-2) nodify.node.140358110012784:node.py:get()- No need to evaluate\n"
     ]
    },
    {
     "name": "stderr",
     "output_type": "stream",
     "text": [
      "INFO\tTask(Task-2) nodify.node.140358110018832:node.py:get()- No need to evaluate\n"
     ]
    },
    {
     "name": "stderr",
     "output_type": "stream",
     "text": [
      "INFO\tTask(Task-2) nodify.node.140358110010960:node.py:get()- No need to evaluate\n"
     ]
    },
    {
     "name": "stderr",
     "output_type": "stream",
     "text": [
      "INFO\tTask(Task-2) nodify.node.140358110019408:node.py:get()- No need to evaluate\n"
     ]
    },
    {
     "name": "stderr",
     "output_type": "stream",
     "text": [
      "INFO\tTask(Task-2) nodify.node.140358110103312:node.py:get()- No need to evaluate\n"
     ]
    },
    {
     "name": "stderr",
     "output_type": "stream",
     "text": [
      "INFO\tTask(Task-2) nodify.node.140358110013264:node.py:get()- No need to evaluate\n"
     ]
    },
    {
     "name": "stderr",
     "output_type": "stream",
     "text": [
      "INFO\tTask(Task-2) nodify.node.140358110010960:node.py:get()- No need to evaluate\n"
     ]
    },
    {
     "name": "stderr",
     "output_type": "stream",
     "text": [
      "INFO\tTask(Task-2) nodify.node.140358110012784:node.py:get()- No need to evaluate\n"
     ]
    },
    {
     "name": "stderr",
     "output_type": "stream",
     "text": [
      "INFO\tTask(Task-2) nodify.node.140358110018832:node.py:get()- No need to evaluate\n"
     ]
    },
    {
     "name": "stderr",
     "output_type": "stream",
     "text": [
      "INFO\tTask(Task-2) nodify.node.140358110010960:node.py:get()- No need to evaluate\n"
     ]
    },
    {
     "name": "stderr",
     "output_type": "stream",
     "text": [
      "INFO\tTask(Task-2) nodify.node.140358110019408:node.py:get()- No need to evaluate\n"
     ]
    },
    {
     "name": "stderr",
     "output_type": "stream",
     "text": [
      "INFO\tTask(Task-2) nodify.node.140358110103984:node.py:get()- No need to evaluate\n"
     ]
    },
    {
     "name": "stderr",
     "output_type": "stream",
     "text": [
      "INFO\tTask(Task-2) nodify.node.140358110013648:node.py:get()- No need to evaluate\n"
     ]
    },
    {
     "name": "stderr",
     "output_type": "stream",
     "text": [
      "INFO\tTask(Task-2) nodify.node.140358110010960:node.py:get()- No need to evaluate\n"
     ]
    },
    {
     "name": "stderr",
     "output_type": "stream",
     "text": [
      "INFO\tTask(Task-2) nodify.node.140358110012784:node.py:get()- No need to evaluate\n"
     ]
    },
    {
     "name": "stderr",
     "output_type": "stream",
     "text": [
      "INFO\tTask(Task-2) nodify.node.140358110018832:node.py:get()- No need to evaluate\n"
     ]
    },
    {
     "name": "stderr",
     "output_type": "stream",
     "text": [
      "INFO\tTask(Task-2) nodify.node.140358110010960:node.py:get()- No need to evaluate\n"
     ]
    },
    {
     "name": "stderr",
     "output_type": "stream",
     "text": [
      "INFO\tTask(Task-2) nodify.node.140358110019408:node.py:get()- No need to evaluate\n"
     ]
    },
    {
     "name": "stderr",
     "output_type": "stream",
     "text": [
      "INFO\tTask(Task-2) nodify.node.140358110104320:node.py:get()- No need to evaluate\n"
     ]
    },
    {
     "name": "stderr",
     "output_type": "stream",
     "text": [
      "INFO\tTask(Task-2) nodify.node.140358110010960:node.py:get()- No need to evaluate\n"
     ]
    },
    {
     "name": "stderr",
     "output_type": "stream",
     "text": [
      "INFO\tTask(Task-2) nodify.node.140358110010768:node.py:get()- No need to evaluate\n"
     ]
    },
    {
     "name": "stderr",
     "output_type": "stream",
     "text": [
      "INFO\tTask(Task-2) nodify.node.140358110012352:node.py:get()- No need to evaluate\n"
     ]
    },
    {
     "name": "stderr",
     "output_type": "stream",
     "text": [
      "INFO\tTask(Task-2) nodify.node.140358110011728:node.py:get()- No need to evaluate\n"
     ]
    },
    {
     "name": "stderr",
     "output_type": "stream",
     "text": [
      "INFO\tTask(Task-2) nodify.node.140358110019312:node.py:get()- No need to evaluate\n"
     ]
    },
    {
     "name": "stderr",
     "output_type": "stream",
     "text": [
      "INFO\tTask(Task-2) nodify.node.140358110010960:node.py:get()- No need to evaluate\n"
     ]
    },
    {
     "name": "stderr",
     "output_type": "stream",
     "text": [
      "INFO\tTask(Task-2) nodify.node.140358110012784:node.py:get()- No need to evaluate\n"
     ]
    },
    {
     "name": "stderr",
     "output_type": "stream",
     "text": [
      "INFO\tTask(Task-2) nodify.node.140358110018832:node.py:get()- No need to evaluate\n"
     ]
    },
    {
     "name": "stderr",
     "output_type": "stream",
     "text": [
      "INFO\tTask(Task-2) nodify.node.140358110010960:node.py:get()- No need to evaluate\n"
     ]
    },
    {
     "name": "stderr",
     "output_type": "stream",
     "text": [
      "INFO\tTask(Task-2) nodify.node.140358110019408:node.py:get()- No need to evaluate\n"
     ]
    },
    {
     "name": "stderr",
     "output_type": "stream",
     "text": [
      "INFO\tTask(Task-2) nodify.node.140358110016768:node.py:get()- No need to evaluate\n"
     ]
    },
    {
     "name": "stderr",
     "output_type": "stream",
     "text": [
      "INFO\tTask(Task-2) nodify.node.140358110016384:node.py:get()- No need to evaluate\n"
     ]
    },
    {
     "name": "stderr",
     "output_type": "stream",
     "text": [
      "INFO\tTask(Task-2) nodify.node.140358110019120:node.py:get()- No need to evaluate\n"
     ]
    },
    {
     "name": "stderr",
     "output_type": "stream",
     "text": [
      "INFO\tTask(Task-2) nodify.node.140358110019552:node.py:get()- Evaluated because inputs changed.\n"
     ]
    },
    {
     "name": "stderr",
     "output_type": "stream",
     "text": [
      "INFO\tTask(Task-2) nodify.node.140358110104800:node.py:get()- Evaluated because inputs changed.\n"
     ]
    },
    {
     "name": "stderr",
     "output_type": "stream",
     "text": [
      "INFO\tTask(Task-2) nodify.node.140358110105280:node.py:get()- Evaluated because inputs changed.\n"
     ]
    },
    {
     "data": {
      "text/html": [
       "<div>            <script src=\"https://cdnjs.cloudflare.com/ajax/libs/mathjax/2.7.5/MathJax.js?config=TeX-AMS-MML_SVG\"></script><script type=\"text/javascript\">if (window.MathJax && window.MathJax.Hub && window.MathJax.Hub.Config) {window.MathJax.Hub.Config({SVG: {font: \"STIX-Web\"}});}</script>                <script type=\"text/javascript\">window.PlotlyConfig = {MathJaxConfig: 'local'};</script>\n",
       "        <script charset=\"utf-8\" src=\"https://cdn.plot.ly/plotly-3.1.1.min.js\" integrity=\"sha256-HUEFyfiTnZJxCxur99FjbKYTvKSzwDaD3/x5TqHpFu4=\" crossorigin=\"anonymous\"></script>                <div id=\"42240a79-487a-4471-9554-b56db038b8eb\" class=\"plotly-graph-div\" style=\"height:525px; width:100%;\"></div>            <script type=\"text/javascript\">                window.PLOTLYENV=window.PLOTLYENV || {};                                if (document.getElementById(\"42240a79-487a-4471-9554-b56db038b8eb\")) {                    Plotly.newPlot(                        \"42240a79-487a-4471-9554-b56db038b8eb\",                        [{\"coloraxis\":\"coloraxis\",\"meta\":{},\"opacity\":1,\"textfont\":{\"color\":\"blue\",\"family\":\"times\",\"size\":15},\"z\":{\"dtype\":\"f8\",\"bdata\":\"Phrwuseb6j+rlqOVK1jpPyCmucYXz9i\\u002f\\u002fhb\\u002fOmyF6T\\u002fAxcAYjmuEvwAAAAAAAPh\\u002fAAAAAAAA+H8AAAAAAAD4fwAAAAAAAPh\\u002fzKXsS\\u002fjMgz8AAAAAAAD4fwAAAAAAAPh\\u002fAAAAAAAA+H8AAAAAAAD4fwAAAAAAAPh\\u002fq5ajlStY6T+kGPkHOmjZP7jYA1kVVrU\\u002fMB2R12O4uL9vHqYIfyHovwAAAAAAAPh\\u002fAAAAAAAA+H8AAAAAAAD4fwAAAAAAAPh\\u002fDvrj\\u002fv9klL8AAAAAAAD4fwAAAAAAAPh\\u002fAAAAAAAA+H8AAAAAAAD4fwAAAAAAAPh\\u002fIKa5xhfP2L+42ANZFVa1P+CfdIIRF9+\\u002fAIA6K+RWYz9gHdalaceaPwAAAAAAAPh\\u002fAAAAAAAA+H8AAAAAAAD4fwAAAAAAAPh\\u002fLWMEwYCopT8AAAAAAAD4fwAAAAAAAPh\\u002fAAAAAAAA+H8AAAAAAAD4fwAAAAAAAPh\\u002f\\u002fhb\\u002fOmyF6T8wHZHXY7i4vwCAOivkVmM\\u002fIAEtqSY+77+LBVEihOPkPwAAAAAAAPh\\u002fAAAAAAAA+H8AAAAAAAD4fwAAAAAAAPh\\u002fTnkA7\\u002fLWnD8AAAAAAAD4fwAAAAAAAPh\\u002fAAAAAAAA+H8AAAAAAAD4fwAAAAAAAPh\\u002fwMXAGI5rhL9vHqYIfyHov2Ad1qVpx5o\\u002fiwVRIoTj5D+0o2N+J4jZPwAAAAAAAPh\\u002fAAAAAAAA+H8AAAAAAAD4fwAAAAAAAPh\\u002fAAAAAAAA+H\\u002fMpexL+MyDPw764\\u002f7\\u002fZJS\\u002fLWMEwYCopT9OeQDv8tacPwAAAAAAAPh\\u002f\",\"shape\":\"5, 15\"},\"zsmooth\":false,\"type\":\"heatmap\"}],                        {\"template\":{\"layout\":{\"hovermode\":\"closest\",\"paper_bgcolor\":\"white\",\"plot_bgcolor\":\"white\",\"scene\":{\"xaxis\":{\"color\":\"black\",\"gridcolor\":\"#ccc\",\"gridwidth\":1,\"linewidth\":1,\"mirror\":true,\"showgrid\":false,\"showline\":true,\"ticklen\":5,\"ticks\":\"outside\",\"ticksuffix\":\" \",\"visible\":true,\"zeroline\":false,\"zerolinecolor\":\"#ccc\",\"zerolinewidth\":1},\"yaxis\":{\"color\":\"black\",\"gridcolor\":\"#ccc\",\"gridwidth\":1,\"linewidth\":1,\"mirror\":true,\"showgrid\":false,\"showline\":true,\"ticklen\":5,\"ticks\":\"outside\",\"ticksuffix\":\" \",\"visible\":true,\"zeroline\":false,\"zerolinecolor\":\"#ccc\",\"zerolinewidth\":1},\"zaxis\":{\"color\":\"black\",\"gridcolor\":\"#ccc\",\"gridwidth\":1,\"linewidth\":1,\"mirror\":true,\"showgrid\":false,\"showline\":true,\"ticklen\":5,\"ticks\":\"outside\",\"ticksuffix\":\" \",\"visible\":true,\"zeroline\":false,\"zerolinecolor\":\"#ccc\",\"zerolinewidth\":1}},\"xaxis\":{\"color\":\"black\",\"gridcolor\":\"#ccc\",\"gridwidth\":1,\"linewidth\":1,\"mirror\":true,\"showgrid\":false,\"showline\":true,\"ticklen\":5,\"ticks\":\"outside\",\"ticksuffix\":\" \",\"visible\":true,\"zeroline\":false,\"zerolinecolor\":\"#ccc\",\"zerolinewidth\":1},\"yaxis\":{\"color\":\"black\",\"gridcolor\":\"#ccc\",\"gridwidth\":1,\"linewidth\":1,\"mirror\":true,\"showgrid\":false,\"showline\":true,\"ticklen\":5,\"ticks\":\"outside\",\"ticksuffix\":\" \",\"visible\":true,\"zeroline\":false,\"zerolinecolor\":\"#ccc\",\"zerolinewidth\":1}}},\"coloraxis\":{\"colorscale\":[[0.0,\"rgb(0, 147, 146)\"],[0.16666666666666666,\"rgb(57, 177, 133)\"],[0.3333333333333333,\"rgb(156, 203, 134)\"],[0.5,\"rgb(233, 226, 156)\"],[0.6666666666666666,\"rgb(238, 180, 121)\"],[0.8333333333333334,\"rgb(232, 132, 113)\"],[1.0,\"rgb(207, 89, 126)\"]],\"cmid\":0,\"showscale\":true},\"xaxis\":{\"scaleanchor\":\"y\",\"scaleratio\":1,\"range\":[-0.5,14.5],\"constrain\":\"domain\"},\"scene\":{\"aspectmode\":\"data\",\"xaxis\":{\"range\":[-0.5,14.5]},\"yaxis\":{\"range\":[4.5,-0.5]}},\"yaxis\":{\"range\":[4.5,-0.5],\"constrain\":\"domain\"}},                        {\"responsive\": true}                    ).then(function(){\n",
       "                            \n",
       "var gd = document.getElementById('42240a79-487a-4471-9554-b56db038b8eb');\n",
       "var x = new MutationObserver(function (mutations, observer) {{\n",
       "        var display = window.getComputedStyle(gd).display;\n",
       "        if (!display || display === 'none') {{\n",
       "            console.log([gd, 'removed!']);\n",
       "            Plotly.purge(gd);\n",
       "            observer.disconnect();\n",
       "        }}\n",
       "}});\n",
       "\n",
       "// Listen for the removal of the full notebook cells\n",
       "var notebookContainer = gd.closest('#notebook-container');\n",
       "if (notebookContainer) {{\n",
       "    x.observe(notebookContainer, {childList: true});\n",
       "}}\n",
       "\n",
       "// Listen for the clearing of the current output cell\n",
       "var outputEl = gd.closest('.output');\n",
       "if (outputEl) {{\n",
       "    x.observe(outputEl, {childList: true});\n",
       "}}\n",
       "\n",
       "                        })                };            </script>        </div>"
      ]
     },
     "metadata": {},
     "output_type": "display_data"
    }
   ],
   "source": [
    "plot.update_inputs(text=None)"
   ]
  },
  {
   "cell_type": "code",
   "execution_count": 11,
   "metadata": {
    "execution": {
     "iopub.execute_input": "2025-10-08T12:09:30.899139Z",
     "iopub.status.busy": "2025-10-08T12:09:30.898962Z",
     "iopub.status.idle": "2025-10-08T12:09:30.901900Z",
     "shell.execute_reply": "2025-10-08T12:09:30.901367Z"
    }
   },
   "outputs": [],
   "source": [
    "plot = plot.update_inputs(textfont={}, text=\".2f\")"
   ]
  },
  {
   "cell_type": "markdown",
   "metadata": {},
   "source": [
    "## Separators\n",
    "\n",
    "Sparse atomic matrices may be hard to interpret because it's hard to know by eye to which atoms/orbitals an element belongs.\n",
    "\n",
    "Separators come to the rescue by providing a guide for your eye to quickly pinpoint what each element is. There are three types of separators:\n",
    "\n",
    "- `sc_lines`: Draw lines separating the **different cells of the auxiliary supercell**.\n",
    "- `atom_lines`: Draw lines separating the blocks corresponding to **each atom-atom interaction**.\n",
    "- `orbital_lines`: Within each atom, draw lines that **isolate the interactions between two sets of orbitals**. E.g. a set of 3 `p` orbitals from one atom and an `s` orbital from another atom.\n",
    "\n",
    "They all can be activated (deactivated) by setting the corresponding input to `True` (`False`)."
   ]
  },
  {
   "cell_type": "code",
   "execution_count": 12,
   "metadata": {
    "execution": {
     "iopub.execute_input": "2025-10-08T12:09:30.903552Z",
     "iopub.status.busy": "2025-10-08T12:09:30.903384Z",
     "iopub.status.idle": "2025-10-08T12:09:31.011040Z",
     "shell.execute_reply": "2025-10-08T12:09:31.010427Z"
    }
   },
   "outputs": [
    {
     "name": "stderr",
     "output_type": "stream",
     "text": [
      "INFO\tTask(Task-2) nodify.node.140358110017536:node.py:get()- No need to evaluate\n"
     ]
    },
    {
     "name": "stderr",
     "output_type": "stream",
     "text": [
      "INFO\tTask(Task-2) nodify.node.140358110010960:node.py:get()- No need to evaluate\n"
     ]
    },
    {
     "name": "stderr",
     "output_type": "stream",
     "text": [
      "INFO\tTask(Task-2) nodify.node.140358110010768:node.py:get()- No need to evaluate\n"
     ]
    },
    {
     "name": "stderr",
     "output_type": "stream",
     "text": [
      "INFO\tTask(Task-2) nodify.node.140358110012352:node.py:get()- No need to evaluate\n"
     ]
    },
    {
     "name": "stderr",
     "output_type": "stream",
     "text": [
      "INFO\tTask(Task-2) nodify.node.140358110011728:node.py:get()- No need to evaluate\n"
     ]
    },
    {
     "name": "stderr",
     "output_type": "stream",
     "text": [
      "INFO\tTask(Task-2) nodify.node.140358110019312:node.py:get()- No need to evaluate\n"
     ]
    },
    {
     "name": "stderr",
     "output_type": "stream",
     "text": [
      "INFO\tTask(Task-2) nodify.node.140358110014464:node.py:get()- No need to evaluate\n"
     ]
    },
    {
     "name": "stderr",
     "output_type": "stream",
     "text": [
      "INFO\tTask(Task-2) nodify.node.140358110014848:node.py:get()- No need to evaluate\n"
     ]
    },
    {
     "name": "stderr",
     "output_type": "stream",
     "text": [
      "INFO\tTask(Task-2) nodify.node.140358110010960:node.py:get()- No need to evaluate\n"
     ]
    },
    {
     "name": "stderr",
     "output_type": "stream",
     "text": [
      "INFO\tTask(Task-2) nodify.node.140358110015232:node.py:get()- No need to evaluate\n"
     ]
    },
    {
     "name": "stderr",
     "output_type": "stream",
     "text": [
      "INFO\tTask(Task-2) nodify.node.140358110014848:node.py:get()- No need to evaluate\n"
     ]
    },
    {
     "name": "stderr",
     "output_type": "stream",
     "text": [
      "INFO\tTask(Task-2) nodify.node.140358110102592:node.py:get()- No need to evaluate\n"
     ]
    },
    {
     "name": "stderr",
     "output_type": "stream",
     "text": [
      "INFO\tTask(Task-2) nodify.node.140358110014080:node.py:get()- No need to evaluate\n"
     ]
    },
    {
     "name": "stderr",
     "output_type": "stream",
     "text": [
      "INFO\tTask(Task-2) nodify.node.140358110015616:node.py:get()- Evaluated because inputs changed.\n"
     ]
    },
    {
     "name": "stderr",
     "output_type": "stream",
     "text": [
      "INFO\tTask(Task-2) nodify.node.140358110016000:node.py:get()- Evaluated because inputs changed.\n"
     ]
    },
    {
     "name": "stderr",
     "output_type": "stream",
     "text": [
      "INFO\tTask(Task-2) nodify.node.140358110102496:node.py:get()- Evaluated because inputs changed.\n"
     ]
    },
    {
     "name": "stderr",
     "output_type": "stream",
     "text": [
      "INFO\tTask(Task-2) nodify.node.140358110010960:node.py:get()- No need to evaluate\n"
     ]
    },
    {
     "name": "stderr",
     "output_type": "stream",
     "text": [
      "INFO\tTask(Task-2) nodify.node.140358110010768:node.py:get()- No need to evaluate\n"
     ]
    },
    {
     "name": "stderr",
     "output_type": "stream",
     "text": [
      "INFO\tTask(Task-2) nodify.node.140358110012352:node.py:get()- No need to evaluate\n"
     ]
    },
    {
     "name": "stderr",
     "output_type": "stream",
     "text": [
      "INFO\tTask(Task-2) nodify.node.140358110011728:node.py:get()- No need to evaluate\n"
     ]
    },
    {
     "name": "stderr",
     "output_type": "stream",
     "text": [
      "INFO\tTask(Task-2) nodify.node.140358110019312:node.py:get()- No need to evaluate\n"
     ]
    },
    {
     "name": "stderr",
     "output_type": "stream",
     "text": [
      "INFO\tTask(Task-2) nodify.node.140358110017152:node.py:get()- No need to evaluate\n"
     ]
    },
    {
     "name": "stderr",
     "output_type": "stream",
     "text": [
      "INFO\tTask(Task-2) nodify.node.140358110103264:node.py:get()- No need to evaluate\n"
     ]
    },
    {
     "name": "stderr",
     "output_type": "stream",
     "text": [
      "INFO\tTask(Task-2) nodify.node.140358110102640:node.py:get()- No need to evaluate\n"
     ]
    },
    {
     "name": "stderr",
     "output_type": "stream",
     "text": [
      "INFO\tTask(Task-2) nodify.node.140358110012928:node.py:get()- Evaluated because inputs changed.\n"
     ]
    },
    {
     "name": "stderr",
     "output_type": "stream",
     "text": [
      "INFO\tTask(Task-2) nodify.node.140358110010960:node.py:get()- No need to evaluate\n"
     ]
    },
    {
     "name": "stderr",
     "output_type": "stream",
     "text": [
      "INFO\tTask(Task-2) nodify.node.140358110012784:node.py:get()- No need to evaluate\n"
     ]
    },
    {
     "name": "stderr",
     "output_type": "stream",
     "text": [
      "INFO\tTask(Task-2) nodify.node.140358110018832:node.py:get()- No need to evaluate\n"
     ]
    },
    {
     "name": "stderr",
     "output_type": "stream",
     "text": [
      "INFO\tTask(Task-2) nodify.node.140358110010960:node.py:get()- No need to evaluate\n"
     ]
    },
    {
     "name": "stderr",
     "output_type": "stream",
     "text": [
      "INFO\tTask(Task-2) nodify.node.140358110019408:node.py:get()- No need to evaluate\n"
     ]
    },
    {
     "name": "stderr",
     "output_type": "stream",
     "text": [
      "INFO\tTask(Task-2) nodify.node.140358110103312:node.py:get()- Evaluated because inputs changed.\n"
     ]
    },
    {
     "name": "stderr",
     "output_type": "stream",
     "text": [
      "INFO\tTask(Task-2) nodify.node.140358110013264:node.py:get()- Evaluated because inputs changed.\n"
     ]
    },
    {
     "name": "stderr",
     "output_type": "stream",
     "text": [
      "INFO\tTask(Task-2) nodify.node.140358110010960:node.py:get()- No need to evaluate\n"
     ]
    },
    {
     "name": "stderr",
     "output_type": "stream",
     "text": [
      "INFO\tTask(Task-2) nodify.node.140358110012784:node.py:get()- No need to evaluate\n"
     ]
    },
    {
     "name": "stderr",
     "output_type": "stream",
     "text": [
      "INFO\tTask(Task-2) nodify.node.140358110018832:node.py:get()- No need to evaluate\n"
     ]
    },
    {
     "name": "stderr",
     "output_type": "stream",
     "text": [
      "INFO\tTask(Task-2) nodify.node.140358110010960:node.py:get()- No need to evaluate\n"
     ]
    },
    {
     "name": "stderr",
     "output_type": "stream",
     "text": [
      "INFO\tTask(Task-2) nodify.node.140358110019408:node.py:get()- No need to evaluate\n"
     ]
    },
    {
     "name": "stderr",
     "output_type": "stream",
     "text": [
      "INFO\tTask(Task-2) nodify.node.140358110103984:node.py:get()- Evaluated because inputs changed.\n"
     ]
    },
    {
     "name": "stderr",
     "output_type": "stream",
     "text": [
      "INFO\tTask(Task-2) nodify.node.140358110013648:node.py:get()- Evaluated because inputs changed.\n"
     ]
    },
    {
     "name": "stderr",
     "output_type": "stream",
     "text": [
      "INFO\tTask(Task-2) nodify.node.140358110010960:node.py:get()- No need to evaluate\n"
     ]
    },
    {
     "name": "stderr",
     "output_type": "stream",
     "text": [
      "INFO\tTask(Task-2) nodify.node.140358110012784:node.py:get()- No need to evaluate\n"
     ]
    },
    {
     "name": "stderr",
     "output_type": "stream",
     "text": [
      "INFO\tTask(Task-2) nodify.node.140358110018832:node.py:get()- No need to evaluate\n"
     ]
    },
    {
     "name": "stderr",
     "output_type": "stream",
     "text": [
      "INFO\tTask(Task-2) nodify.node.140358110010960:node.py:get()- No need to evaluate\n"
     ]
    },
    {
     "name": "stderr",
     "output_type": "stream",
     "text": [
      "INFO\tTask(Task-2) nodify.node.140358110019408:node.py:get()- No need to evaluate\n"
     ]
    },
    {
     "name": "stderr",
     "output_type": "stream",
     "text": [
      "INFO\tTask(Task-2) nodify.node.140358110104320:node.py:get()- Evaluated because inputs changed.\n"
     ]
    },
    {
     "name": "stderr",
     "output_type": "stream",
     "text": [
      "INFO\tTask(Task-2) nodify.node.140358110010960:node.py:get()- No need to evaluate\n"
     ]
    },
    {
     "name": "stderr",
     "output_type": "stream",
     "text": [
      "INFO\tTask(Task-2) nodify.node.140358110010768:node.py:get()- No need to evaluate\n"
     ]
    },
    {
     "name": "stderr",
     "output_type": "stream",
     "text": [
      "INFO\tTask(Task-2) nodify.node.140358110012352:node.py:get()- No need to evaluate\n"
     ]
    },
    {
     "name": "stderr",
     "output_type": "stream",
     "text": [
      "INFO\tTask(Task-2) nodify.node.140358110011728:node.py:get()- No need to evaluate\n"
     ]
    },
    {
     "name": "stderr",
     "output_type": "stream",
     "text": [
      "INFO\tTask(Task-2) nodify.node.140358110019312:node.py:get()- No need to evaluate\n"
     ]
    },
    {
     "name": "stderr",
     "output_type": "stream",
     "text": [
      "INFO\tTask(Task-2) nodify.node.140358110010960:node.py:get()- No need to evaluate\n"
     ]
    },
    {
     "name": "stderr",
     "output_type": "stream",
     "text": [
      "INFO\tTask(Task-2) nodify.node.140358110012784:node.py:get()- No need to evaluate\n"
     ]
    },
    {
     "name": "stderr",
     "output_type": "stream",
     "text": [
      "INFO\tTask(Task-2) nodify.node.140358110018832:node.py:get()- No need to evaluate\n"
     ]
    },
    {
     "name": "stderr",
     "output_type": "stream",
     "text": [
      "INFO\tTask(Task-2) nodify.node.140358110010960:node.py:get()- No need to evaluate\n"
     ]
    },
    {
     "name": "stderr",
     "output_type": "stream",
     "text": [
      "INFO\tTask(Task-2) nodify.node.140358110019408:node.py:get()- No need to evaluate\n"
     ]
    },
    {
     "name": "stderr",
     "output_type": "stream",
     "text": [
      "INFO\tTask(Task-2) nodify.node.140358110016768:node.py:get()- No need to evaluate\n"
     ]
    },
    {
     "name": "stderr",
     "output_type": "stream",
     "text": [
      "INFO\tTask(Task-2) nodify.node.140358110016384:node.py:get()- No need to evaluate\n"
     ]
    },
    {
     "name": "stderr",
     "output_type": "stream",
     "text": [
      "INFO\tTask(Task-2) nodify.node.140358110019120:node.py:get()- No need to evaluate\n"
     ]
    },
    {
     "name": "stderr",
     "output_type": "stream",
     "text": [
      "INFO\tTask(Task-2) nodify.node.140358110019552:node.py:get()- Evaluated because inputs changed.\n"
     ]
    },
    {
     "name": "stderr",
     "output_type": "stream",
     "text": [
      "INFO\tTask(Task-2) nodify.node.140358110104800:node.py:get()- Evaluated because inputs changed.\n"
     ]
    },
    {
     "name": "stderr",
     "output_type": "stream",
     "text": [
      "INFO\tTask(Task-2) nodify.node.140358110105280:node.py:get()- Evaluated because inputs changed.\n"
     ]
    },
    {
     "data": {
      "text/html": [
       "<div>            <script src=\"https://cdnjs.cloudflare.com/ajax/libs/mathjax/2.7.5/MathJax.js?config=TeX-AMS-MML_SVG\"></script><script type=\"text/javascript\">if (window.MathJax && window.MathJax.Hub && window.MathJax.Hub.Config) {window.MathJax.Hub.Config({SVG: {font: \"STIX-Web\"}});}</script>                <script type=\"text/javascript\">window.PlotlyConfig = {MathJaxConfig: 'local'};</script>\n",
       "        <script charset=\"utf-8\" src=\"https://cdn.plot.ly/plotly-3.1.1.min.js\" integrity=\"sha256-HUEFyfiTnZJxCxur99FjbKYTvKSzwDaD3/x5TqHpFu4=\" crossorigin=\"anonymous\"></script>                <div id=\"055249d1-51d9-4bee-a103-dd93a200db3c\" class=\"plotly-graph-div\" style=\"height:525px; width:100%;\"></div>            <script type=\"text/javascript\">                window.PLOTLYENV=window.PLOTLYENV || {};                                if (document.getElementById(\"055249d1-51d9-4bee-a103-dd93a200db3c\")) {                    Plotly.newPlot(                        \"055249d1-51d9-4bee-a103-dd93a200db3c\",                        [{\"coloraxis\":\"coloraxis\",\"meta\":{},\"opacity\":1,\"texttemplate\":\"%{z:.2f}\",\"z\":{\"dtype\":\"f8\",\"bdata\":\"Phrwuseb6j+rlqOVK1jpPyCmucYXz9i\\u002f\\u002fhb\\u002fOmyF6T\\u002fAxcAYjmuEvwAAAAAAAPh\\u002fAAAAAAAA+H8AAAAAAAD4fwAAAAAAAPh\\u002fzKXsS\\u002fjMgz8AAAAAAAD4fwAAAAAAAPh\\u002fAAAAAAAA+H8AAAAAAAD4fwAAAAAAAPh\\u002fq5ajlStY6T+kGPkHOmjZP7jYA1kVVrU\\u002fMB2R12O4uL9vHqYIfyHovwAAAAAAAPh\\u002fAAAAAAAA+H8AAAAAAAD4fwAAAAAAAPh\\u002fDvrj\\u002fv9klL8AAAAAAAD4fwAAAAAAAPh\\u002fAAAAAAAA+H8AAAAAAAD4fwAAAAAAAPh\\u002fIKa5xhfP2L+42ANZFVa1P+CfdIIRF9+\\u002fAIA6K+RWYz9gHdalaceaPwAAAAAAAPh\\u002fAAAAAAAA+H8AAAAAAAD4fwAAAAAAAPh\\u002fLWMEwYCopT8AAAAAAAD4fwAAAAAAAPh\\u002fAAAAAAAA+H8AAAAAAAD4fwAAAAAAAPh\\u002f\\u002fhb\\u002fOmyF6T8wHZHXY7i4vwCAOivkVmM\\u002fIAEtqSY+77+LBVEihOPkPwAAAAAAAPh\\u002fAAAAAAAA+H8AAAAAAAD4fwAAAAAAAPh\\u002fTnkA7\\u002fLWnD8AAAAAAAD4fwAAAAAAAPh\\u002fAAAAAAAA+H8AAAAAAAD4fwAAAAAAAPh\\u002fwMXAGI5rhL9vHqYIfyHov2Ad1qVpx5o\\u002fiwVRIoTj5D+0o2N+J4jZPwAAAAAAAPh\\u002fAAAAAAAA+H8AAAAAAAD4fwAAAAAAAPh\\u002fAAAAAAAA+H\\u002fMpexL+MyDPw764\\u002f7\\u002fZJS\\u002fLWMEwYCopT9OeQDv8tacPwAAAAAAAPh\\u002f\",\"shape\":\"5, 15\"},\"zsmooth\":false,\"type\":\"heatmap\"},{\"line\":{\"color\":\"black\",\"dash\":\"dot\"},\"meta\":{},\"mode\":\"lines\",\"name\":\"orbitals separators\",\"opacity\":1,\"showlegend\":false,\"x\":{\"dtype\":\"f8\",\"bdata\":\"AAAAAAAA4L8AAAAAAAASQAAAAAAAAPh\\u002fAAAAAAAA4D8AAAAAAADgPwAAAAAAAPh\\u002f\"},\"y\":{\"dtype\":\"f8\",\"bdata\":\"AAAAAAAA4D8AAAAAAADgPwAAAAAAAPh\\u002fAAAAAAAA4L8AAAAAAAASQAAAAAAAAPh\\u002f\"},\"type\":\"scatter\"},{\"line\":{\"color\":\"orange\"},\"meta\":{},\"mode\":\"lines\",\"name\":\"atoms separators\",\"opacity\":1,\"showlegend\":false,\"x\":{\"dtype\":\"f8\",\"bdata\":\"AAAAAAAA4L8AAAAAAAASQAAAAAAAAPh\\u002fAAAAAAAADEAAAAAAAAAMQAAAAAAAAPh\\u002f\"},\"y\":{\"dtype\":\"f8\",\"bdata\":\"AAAAAAAADEAAAAAAAAAMQAAAAAAAAPh\\u002fAAAAAAAA4L8AAAAAAAASQAAAAAAAAPh\\u002f\"},\"type\":\"scatter\"}],                        {\"template\":{\"layout\":{\"hovermode\":\"closest\",\"paper_bgcolor\":\"white\",\"plot_bgcolor\":\"white\",\"scene\":{\"xaxis\":{\"color\":\"black\",\"gridcolor\":\"#ccc\",\"gridwidth\":1,\"linewidth\":1,\"mirror\":true,\"showgrid\":false,\"showline\":true,\"ticklen\":5,\"ticks\":\"outside\",\"ticksuffix\":\" \",\"visible\":true,\"zeroline\":false,\"zerolinecolor\":\"#ccc\",\"zerolinewidth\":1},\"yaxis\":{\"color\":\"black\",\"gridcolor\":\"#ccc\",\"gridwidth\":1,\"linewidth\":1,\"mirror\":true,\"showgrid\":false,\"showline\":true,\"ticklen\":5,\"ticks\":\"outside\",\"ticksuffix\":\" \",\"visible\":true,\"zeroline\":false,\"zerolinecolor\":\"#ccc\",\"zerolinewidth\":1},\"zaxis\":{\"color\":\"black\",\"gridcolor\":\"#ccc\",\"gridwidth\":1,\"linewidth\":1,\"mirror\":true,\"showgrid\":false,\"showline\":true,\"ticklen\":5,\"ticks\":\"outside\",\"ticksuffix\":\" \",\"visible\":true,\"zeroline\":false,\"zerolinecolor\":\"#ccc\",\"zerolinewidth\":1}},\"xaxis\":{\"color\":\"black\",\"gridcolor\":\"#ccc\",\"gridwidth\":1,\"linewidth\":1,\"mirror\":true,\"showgrid\":false,\"showline\":true,\"ticklen\":5,\"ticks\":\"outside\",\"ticksuffix\":\" \",\"visible\":true,\"zeroline\":false,\"zerolinecolor\":\"#ccc\",\"zerolinewidth\":1},\"yaxis\":{\"color\":\"black\",\"gridcolor\":\"#ccc\",\"gridwidth\":1,\"linewidth\":1,\"mirror\":true,\"showgrid\":false,\"showline\":true,\"ticklen\":5,\"ticks\":\"outside\",\"ticksuffix\":\" \",\"visible\":true,\"zeroline\":false,\"zerolinecolor\":\"#ccc\",\"zerolinewidth\":1}}},\"coloraxis\":{\"colorscale\":[[0.0,\"rgb(0, 147, 146)\"],[0.16666666666666666,\"rgb(57, 177, 133)\"],[0.3333333333333333,\"rgb(156, 203, 134)\"],[0.5,\"rgb(233, 226, 156)\"],[0.6666666666666666,\"rgb(238, 180, 121)\"],[0.8333333333333334,\"rgb(232, 132, 113)\"],[1.0,\"rgb(207, 89, 126)\"]],\"cmid\":0,\"showscale\":true},\"xaxis\":{\"scaleanchor\":\"y\",\"scaleratio\":1,\"range\":[-0.5,14.5],\"constrain\":\"domain\"},\"scene\":{\"aspectmode\":\"data\",\"xaxis\":{\"range\":[-0.5,14.5]},\"yaxis\":{\"range\":[4.5,-0.5]}},\"yaxis\":{\"range\":[4.5,-0.5],\"constrain\":\"domain\"}},                        {\"responsive\": true}                    ).then(function(){\n",
       "                            \n",
       "var gd = document.getElementById('055249d1-51d9-4bee-a103-dd93a200db3c');\n",
       "var x = new MutationObserver(function (mutations, observer) {{\n",
       "        var display = window.getComputedStyle(gd).display;\n",
       "        if (!display || display === 'none') {{\n",
       "            console.log([gd, 'removed!']);\n",
       "            Plotly.purge(gd);\n",
       "            observer.disconnect();\n",
       "        }}\n",
       "}});\n",
       "\n",
       "// Listen for the removal of the full notebook cells\n",
       "var notebookContainer = gd.closest('#notebook-container');\n",
       "if (notebookContainer) {{\n",
       "    x.observe(notebookContainer, {childList: true});\n",
       "}}\n",
       "\n",
       "// Listen for the clearing of the current output cell\n",
       "var outputEl = gd.closest('.output');\n",
       "if (outputEl) {{\n",
       "    x.observe(outputEl, {childList: true});\n",
       "}}\n",
       "\n",
       "                        })                };            </script>        </div>"
      ]
     },
     "metadata": {},
     "output_type": "display_data"
    }
   ],
   "source": [
    "plot.update_inputs(\n",
    "    sc_lines=True,\n",
    "    atom_lines=True,\n",
    "    orbital_lines=True,\n",
    ")"
   ]
  },
  {
   "cell_type": "markdown",
   "metadata": {},
   "source": [
    "Sometimes, the **default styles for the lines might not suit your visualization**. For example, they might not play well with your chosen colorscale. In that case, you can **pass a dictionary of line styles** to the inputs."
   ]
  },
  {
   "cell_type": "code",
   "execution_count": 13,
   "metadata": {
    "execution": {
     "iopub.execute_input": "2025-10-08T12:09:31.012935Z",
     "iopub.status.busy": "2025-10-08T12:09:31.012745Z",
     "iopub.status.idle": "2025-10-08T12:09:31.122507Z",
     "shell.execute_reply": "2025-10-08T12:09:31.121962Z"
    }
   },
   "outputs": [
    {
     "name": "stderr",
     "output_type": "stream",
     "text": [
      "INFO\tTask(Task-2) nodify.node.140358110017536:node.py:get()- No need to evaluate\n"
     ]
    },
    {
     "name": "stderr",
     "output_type": "stream",
     "text": [
      "INFO\tTask(Task-2) nodify.node.140358110010960:node.py:get()- No need to evaluate\n"
     ]
    },
    {
     "name": "stderr",
     "output_type": "stream",
     "text": [
      "INFO\tTask(Task-2) nodify.node.140358110010768:node.py:get()- No need to evaluate\n"
     ]
    },
    {
     "name": "stderr",
     "output_type": "stream",
     "text": [
      "INFO\tTask(Task-2) nodify.node.140358110012352:node.py:get()- No need to evaluate\n"
     ]
    },
    {
     "name": "stderr",
     "output_type": "stream",
     "text": [
      "INFO\tTask(Task-2) nodify.node.140358110011728:node.py:get()- No need to evaluate\n"
     ]
    },
    {
     "name": "stderr",
     "output_type": "stream",
     "text": [
      "INFO\tTask(Task-2) nodify.node.140358110019312:node.py:get()- No need to evaluate\n"
     ]
    },
    {
     "name": "stderr",
     "output_type": "stream",
     "text": [
      "INFO\tTask(Task-2) nodify.node.140358110014464:node.py:get()- No need to evaluate\n"
     ]
    },
    {
     "name": "stderr",
     "output_type": "stream",
     "text": [
      "INFO\tTask(Task-2) nodify.node.140358110014848:node.py:get()- No need to evaluate\n"
     ]
    },
    {
     "name": "stderr",
     "output_type": "stream",
     "text": [
      "INFO\tTask(Task-2) nodify.node.140358110010960:node.py:get()- No need to evaluate\n"
     ]
    },
    {
     "name": "stderr",
     "output_type": "stream",
     "text": [
      "INFO\tTask(Task-2) nodify.node.140358110015232:node.py:get()- No need to evaluate\n"
     ]
    },
    {
     "name": "stderr",
     "output_type": "stream",
     "text": [
      "INFO\tTask(Task-2) nodify.node.140358110014848:node.py:get()- No need to evaluate\n"
     ]
    },
    {
     "name": "stderr",
     "output_type": "stream",
     "text": [
      "INFO\tTask(Task-2) nodify.node.140358110102592:node.py:get()- No need to evaluate\n"
     ]
    },
    {
     "name": "stderr",
     "output_type": "stream",
     "text": [
      "INFO\tTask(Task-2) nodify.node.140358110014080:node.py:get()- No need to evaluate\n"
     ]
    },
    {
     "name": "stderr",
     "output_type": "stream",
     "text": [
      "INFO\tTask(Task-2) nodify.node.140358110015616:node.py:get()- No need to evaluate\n"
     ]
    },
    {
     "name": "stderr",
     "output_type": "stream",
     "text": [
      "INFO\tTask(Task-2) nodify.node.140358110016000:node.py:get()- No need to evaluate\n"
     ]
    },
    {
     "name": "stderr",
     "output_type": "stream",
     "text": [
      "INFO\tTask(Task-2) nodify.node.140358110102496:node.py:get()- No need to evaluate\n"
     ]
    },
    {
     "name": "stderr",
     "output_type": "stream",
     "text": [
      "INFO\tTask(Task-2) nodify.node.140358110010960:node.py:get()- No need to evaluate\n"
     ]
    },
    {
     "name": "stderr",
     "output_type": "stream",
     "text": [
      "INFO\tTask(Task-2) nodify.node.140358110010768:node.py:get()- No need to evaluate\n"
     ]
    },
    {
     "name": "stderr",
     "output_type": "stream",
     "text": [
      "INFO\tTask(Task-2) nodify.node.140358110012352:node.py:get()- No need to evaluate\n"
     ]
    },
    {
     "name": "stderr",
     "output_type": "stream",
     "text": [
      "INFO\tTask(Task-2) nodify.node.140358110011728:node.py:get()- No need to evaluate\n"
     ]
    },
    {
     "name": "stderr",
     "output_type": "stream",
     "text": [
      "INFO\tTask(Task-2) nodify.node.140358110019312:node.py:get()- No need to evaluate\n"
     ]
    },
    {
     "name": "stderr",
     "output_type": "stream",
     "text": [
      "INFO\tTask(Task-2) nodify.node.140358110017152:node.py:get()- No need to evaluate\n"
     ]
    },
    {
     "name": "stderr",
     "output_type": "stream",
     "text": [
      "INFO\tTask(Task-2) nodify.node.140358110103264:node.py:get()- No need to evaluate\n"
     ]
    },
    {
     "name": "stderr",
     "output_type": "stream",
     "text": [
      "INFO\tTask(Task-2) nodify.node.140358110102640:node.py:get()- No need to evaluate\n"
     ]
    },
    {
     "name": "stderr",
     "output_type": "stream",
     "text": [
      "INFO\tTask(Task-2) nodify.node.140358110012928:node.py:get()- Evaluated because inputs changed.\n"
     ]
    },
    {
     "name": "stderr",
     "output_type": "stream",
     "text": [
      "INFO\tTask(Task-2) nodify.node.140358110010960:node.py:get()- No need to evaluate\n"
     ]
    },
    {
     "name": "stderr",
     "output_type": "stream",
     "text": [
      "INFO\tTask(Task-2) nodify.node.140358110012784:node.py:get()- No need to evaluate\n"
     ]
    },
    {
     "name": "stderr",
     "output_type": "stream",
     "text": [
      "INFO\tTask(Task-2) nodify.node.140358110018832:node.py:get()- No need to evaluate\n"
     ]
    },
    {
     "name": "stderr",
     "output_type": "stream",
     "text": [
      "INFO\tTask(Task-2) nodify.node.140358110010960:node.py:get()- No need to evaluate\n"
     ]
    },
    {
     "name": "stderr",
     "output_type": "stream",
     "text": [
      "INFO\tTask(Task-2) nodify.node.140358110019408:node.py:get()- No need to evaluate\n"
     ]
    },
    {
     "name": "stderr",
     "output_type": "stream",
     "text": [
      "INFO\tTask(Task-2) nodify.node.140358110103312:node.py:get()- Evaluated because inputs changed.\n"
     ]
    },
    {
     "name": "stderr",
     "output_type": "stream",
     "text": [
      "INFO\tTask(Task-2) nodify.node.140358110013264:node.py:get()- Evaluated because inputs changed.\n"
     ]
    },
    {
     "name": "stderr",
     "output_type": "stream",
     "text": [
      "INFO\tTask(Task-2) nodify.node.140358110010960:node.py:get()- No need to evaluate\n"
     ]
    },
    {
     "name": "stderr",
     "output_type": "stream",
     "text": [
      "INFO\tTask(Task-2) nodify.node.140358110012784:node.py:get()- No need to evaluate\n"
     ]
    },
    {
     "name": "stderr",
     "output_type": "stream",
     "text": [
      "INFO\tTask(Task-2) nodify.node.140358110018832:node.py:get()- No need to evaluate\n"
     ]
    },
    {
     "name": "stderr",
     "output_type": "stream",
     "text": [
      "INFO\tTask(Task-2) nodify.node.140358110010960:node.py:get()- No need to evaluate\n"
     ]
    },
    {
     "name": "stderr",
     "output_type": "stream",
     "text": [
      "INFO\tTask(Task-2) nodify.node.140358110019408:node.py:get()- No need to evaluate\n"
     ]
    },
    {
     "name": "stderr",
     "output_type": "stream",
     "text": [
      "INFO\tTask(Task-2) nodify.node.140358110103984:node.py:get()- Evaluated because inputs changed.\n"
     ]
    },
    {
     "name": "stderr",
     "output_type": "stream",
     "text": [
      "INFO\tTask(Task-2) nodify.node.140358110013648:node.py:get()- Evaluated because inputs changed.\n"
     ]
    },
    {
     "name": "stderr",
     "output_type": "stream",
     "text": [
      "INFO\tTask(Task-2) nodify.node.140358110010960:node.py:get()- No need to evaluate\n"
     ]
    },
    {
     "name": "stderr",
     "output_type": "stream",
     "text": [
      "INFO\tTask(Task-2) nodify.node.140358110012784:node.py:get()- No need to evaluate\n"
     ]
    },
    {
     "name": "stderr",
     "output_type": "stream",
     "text": [
      "INFO\tTask(Task-2) nodify.node.140358110018832:node.py:get()- No need to evaluate\n"
     ]
    },
    {
     "name": "stderr",
     "output_type": "stream",
     "text": [
      "INFO\tTask(Task-2) nodify.node.140358110010960:node.py:get()- No need to evaluate\n"
     ]
    },
    {
     "name": "stderr",
     "output_type": "stream",
     "text": [
      "INFO\tTask(Task-2) nodify.node.140358110019408:node.py:get()- No need to evaluate\n"
     ]
    },
    {
     "name": "stderr",
     "output_type": "stream",
     "text": [
      "INFO\tTask(Task-2) nodify.node.140358110104320:node.py:get()- Evaluated because inputs changed.\n"
     ]
    },
    {
     "name": "stderr",
     "output_type": "stream",
     "text": [
      "INFO\tTask(Task-2) nodify.node.140358110010960:node.py:get()- No need to evaluate\n"
     ]
    },
    {
     "name": "stderr",
     "output_type": "stream",
     "text": [
      "INFO\tTask(Task-2) nodify.node.140358110010768:node.py:get()- No need to evaluate\n"
     ]
    },
    {
     "name": "stderr",
     "output_type": "stream",
     "text": [
      "INFO\tTask(Task-2) nodify.node.140358110012352:node.py:get()- No need to evaluate\n"
     ]
    },
    {
     "name": "stderr",
     "output_type": "stream",
     "text": [
      "INFO\tTask(Task-2) nodify.node.140358110011728:node.py:get()- No need to evaluate\n"
     ]
    },
    {
     "name": "stderr",
     "output_type": "stream",
     "text": [
      "INFO\tTask(Task-2) nodify.node.140358110019312:node.py:get()- No need to evaluate\n"
     ]
    },
    {
     "name": "stderr",
     "output_type": "stream",
     "text": [
      "INFO\tTask(Task-2) nodify.node.140358110010960:node.py:get()- No need to evaluate\n"
     ]
    },
    {
     "name": "stderr",
     "output_type": "stream",
     "text": [
      "INFO\tTask(Task-2) nodify.node.140358110012784:node.py:get()- No need to evaluate\n"
     ]
    },
    {
     "name": "stderr",
     "output_type": "stream",
     "text": [
      "INFO\tTask(Task-2) nodify.node.140358110018832:node.py:get()- No need to evaluate\n"
     ]
    },
    {
     "name": "stderr",
     "output_type": "stream",
     "text": [
      "INFO\tTask(Task-2) nodify.node.140358110010960:node.py:get()- No need to evaluate\n"
     ]
    },
    {
     "name": "stderr",
     "output_type": "stream",
     "text": [
      "INFO\tTask(Task-2) nodify.node.140358110019408:node.py:get()- No need to evaluate\n"
     ]
    },
    {
     "name": "stderr",
     "output_type": "stream",
     "text": [
      "INFO\tTask(Task-2) nodify.node.140358110016768:node.py:get()- No need to evaluate\n"
     ]
    },
    {
     "name": "stderr",
     "output_type": "stream",
     "text": [
      "INFO\tTask(Task-2) nodify.node.140358110016384:node.py:get()- No need to evaluate\n"
     ]
    },
    {
     "name": "stderr",
     "output_type": "stream",
     "text": [
      "INFO\tTask(Task-2) nodify.node.140358110019120:node.py:get()- No need to evaluate\n"
     ]
    },
    {
     "name": "stderr",
     "output_type": "stream",
     "text": [
      "INFO\tTask(Task-2) nodify.node.140358110019552:node.py:get()- Evaluated because inputs changed.\n"
     ]
    },
    {
     "name": "stderr",
     "output_type": "stream",
     "text": [
      "INFO\tTask(Task-2) nodify.node.140358110104800:node.py:get()- Evaluated because inputs changed.\n"
     ]
    },
    {
     "name": "stderr",
     "output_type": "stream",
     "text": [
      "INFO\tTask(Task-2) nodify.node.140358110105280:node.py:get()- Evaluated because inputs changed.\n"
     ]
    },
    {
     "data": {
      "text/html": [
       "<div>            <script src=\"https://cdnjs.cloudflare.com/ajax/libs/mathjax/2.7.5/MathJax.js?config=TeX-AMS-MML_SVG\"></script><script type=\"text/javascript\">if (window.MathJax && window.MathJax.Hub && window.MathJax.Hub.Config) {window.MathJax.Hub.Config({SVG: {font: \"STIX-Web\"}});}</script>                <script type=\"text/javascript\">window.PlotlyConfig = {MathJaxConfig: 'local'};</script>\n",
       "        <script charset=\"utf-8\" src=\"https://cdn.plot.ly/plotly-3.1.1.min.js\" integrity=\"sha256-HUEFyfiTnZJxCxur99FjbKYTvKSzwDaD3/x5TqHpFu4=\" crossorigin=\"anonymous\"></script>                <div id=\"b12c4728-86f4-44b3-b4f3-e77f3ca93f87\" class=\"plotly-graph-div\" style=\"height:525px; width:100%;\"></div>            <script type=\"text/javascript\">                window.PLOTLYENV=window.PLOTLYENV || {};                                if (document.getElementById(\"b12c4728-86f4-44b3-b4f3-e77f3ca93f87\")) {                    Plotly.newPlot(                        \"b12c4728-86f4-44b3-b4f3-e77f3ca93f87\",                        [{\"coloraxis\":\"coloraxis\",\"meta\":{},\"opacity\":1,\"texttemplate\":\"%{z:.2f}\",\"z\":{\"dtype\":\"f8\",\"bdata\":\"Phrwuseb6j+rlqOVK1jpPyCmucYXz9i\\u002f\\u002fhb\\u002fOmyF6T\\u002fAxcAYjmuEvwAAAAAAAPh\\u002fAAAAAAAA+H8AAAAAAAD4fwAAAAAAAPh\\u002fzKXsS\\u002fjMgz8AAAAAAAD4fwAAAAAAAPh\\u002fAAAAAAAA+H8AAAAAAAD4fwAAAAAAAPh\\u002fq5ajlStY6T+kGPkHOmjZP7jYA1kVVrU\\u002fMB2R12O4uL9vHqYIfyHovwAAAAAAAPh\\u002fAAAAAAAA+H8AAAAAAAD4fwAAAAAAAPh\\u002fDvrj\\u002fv9klL8AAAAAAAD4fwAAAAAAAPh\\u002fAAAAAAAA+H8AAAAAAAD4fwAAAAAAAPh\\u002fIKa5xhfP2L+42ANZFVa1P+CfdIIRF9+\\u002fAIA6K+RWYz9gHdalaceaPwAAAAAAAPh\\u002fAAAAAAAA+H8AAAAAAAD4fwAAAAAAAPh\\u002fLWMEwYCopT8AAAAAAAD4fwAAAAAAAPh\\u002fAAAAAAAA+H8AAAAAAAD4fwAAAAAAAPh\\u002f\\u002fhb\\u002fOmyF6T8wHZHXY7i4vwCAOivkVmM\\u002fIAEtqSY+77+LBVEihOPkPwAAAAAAAPh\\u002fAAAAAAAA+H8AAAAAAAD4fwAAAAAAAPh\\u002fTnkA7\\u002fLWnD8AAAAAAAD4fwAAAAAAAPh\\u002fAAAAAAAA+H8AAAAAAAD4fwAAAAAAAPh\\u002fwMXAGI5rhL9vHqYIfyHov2Ad1qVpx5o\\u002fiwVRIoTj5D+0o2N+J4jZPwAAAAAAAPh\\u002fAAAAAAAA+H8AAAAAAAD4fwAAAAAAAPh\\u002fAAAAAAAA+H\\u002fMpexL+MyDPw764\\u002f7\\u002fZJS\\u002fLWMEwYCopT9OeQDv8tacPwAAAAAAAPh\\u002f\",\"shape\":\"5, 15\"},\"zsmooth\":false,\"type\":\"heatmap\"},{\"line\":{\"color\":\"pink\",\"dash\":\"dash\",\"width\":5},\"meta\":{},\"mode\":\"lines\",\"name\":\"orbitals separators\",\"opacity\":0.8,\"showlegend\":false,\"x\":{\"dtype\":\"f8\",\"bdata\":\"AAAAAAAA4L8AAAAAAAASQAAAAAAAAPh\\u002fAAAAAAAA4D8AAAAAAADgPwAAAAAAAPh\\u002f\"},\"y\":{\"dtype\":\"f8\",\"bdata\":\"AAAAAAAA4D8AAAAAAADgPwAAAAAAAPh\\u002fAAAAAAAA4L8AAAAAAAASQAAAAAAAAPh\\u002f\"},\"type\":\"scatter\"},{\"line\":{\"color\":\"gray\"},\"meta\":{},\"mode\":\"lines\",\"name\":\"atoms separators\",\"opacity\":1,\"showlegend\":false,\"x\":{\"dtype\":\"f8\",\"bdata\":\"AAAAAAAA4L8AAAAAAAASQAAAAAAAAPh\\u002fAAAAAAAADEAAAAAAAAAMQAAAAAAAAPh\\u002f\"},\"y\":{\"dtype\":\"f8\",\"bdata\":\"AAAAAAAADEAAAAAAAAAMQAAAAAAAAPh\\u002fAAAAAAAA4L8AAAAAAAASQAAAAAAAAPh\\u002f\"},\"type\":\"scatter\"}],                        {\"template\":{\"layout\":{\"hovermode\":\"closest\",\"paper_bgcolor\":\"white\",\"plot_bgcolor\":\"white\",\"scene\":{\"xaxis\":{\"color\":\"black\",\"gridcolor\":\"#ccc\",\"gridwidth\":1,\"linewidth\":1,\"mirror\":true,\"showgrid\":false,\"showline\":true,\"ticklen\":5,\"ticks\":\"outside\",\"ticksuffix\":\" \",\"visible\":true,\"zeroline\":false,\"zerolinecolor\":\"#ccc\",\"zerolinewidth\":1},\"yaxis\":{\"color\":\"black\",\"gridcolor\":\"#ccc\",\"gridwidth\":1,\"linewidth\":1,\"mirror\":true,\"showgrid\":false,\"showline\":true,\"ticklen\":5,\"ticks\":\"outside\",\"ticksuffix\":\" \",\"visible\":true,\"zeroline\":false,\"zerolinecolor\":\"#ccc\",\"zerolinewidth\":1},\"zaxis\":{\"color\":\"black\",\"gridcolor\":\"#ccc\",\"gridwidth\":1,\"linewidth\":1,\"mirror\":true,\"showgrid\":false,\"showline\":true,\"ticklen\":5,\"ticks\":\"outside\",\"ticksuffix\":\" \",\"visible\":true,\"zeroline\":false,\"zerolinecolor\":\"#ccc\",\"zerolinewidth\":1}},\"xaxis\":{\"color\":\"black\",\"gridcolor\":\"#ccc\",\"gridwidth\":1,\"linewidth\":1,\"mirror\":true,\"showgrid\":false,\"showline\":true,\"ticklen\":5,\"ticks\":\"outside\",\"ticksuffix\":\" \",\"visible\":true,\"zeroline\":false,\"zerolinecolor\":\"#ccc\",\"zerolinewidth\":1},\"yaxis\":{\"color\":\"black\",\"gridcolor\":\"#ccc\",\"gridwidth\":1,\"linewidth\":1,\"mirror\":true,\"showgrid\":false,\"showline\":true,\"ticklen\":5,\"ticks\":\"outside\",\"ticksuffix\":\" \",\"visible\":true,\"zeroline\":false,\"zerolinecolor\":\"#ccc\",\"zerolinewidth\":1}}},\"coloraxis\":{\"colorscale\":[[0.0,\"rgb(0, 147, 146)\"],[0.16666666666666666,\"rgb(57, 177, 133)\"],[0.3333333333333333,\"rgb(156, 203, 134)\"],[0.5,\"rgb(233, 226, 156)\"],[0.6666666666666666,\"rgb(238, 180, 121)\"],[0.8333333333333334,\"rgb(232, 132, 113)\"],[1.0,\"rgb(207, 89, 126)\"]],\"cmid\":0,\"showscale\":true},\"xaxis\":{\"scaleanchor\":\"y\",\"scaleratio\":1,\"range\":[-0.5,14.5],\"constrain\":\"domain\"},\"scene\":{\"aspectmode\":\"data\",\"xaxis\":{\"range\":[-0.5,14.5]},\"yaxis\":{\"range\":[4.5,-0.5]}},\"yaxis\":{\"range\":[4.5,-0.5],\"constrain\":\"domain\"}},                        {\"responsive\": true}                    ).then(function(){\n",
       "                            \n",
       "var gd = document.getElementById('b12c4728-86f4-44b3-b4f3-e77f3ca93f87');\n",
       "var x = new MutationObserver(function (mutations, observer) {{\n",
       "        var display = window.getComputedStyle(gd).display;\n",
       "        if (!display || display === 'none') {{\n",
       "            console.log([gd, 'removed!']);\n",
       "            Plotly.purge(gd);\n",
       "            observer.disconnect();\n",
       "        }}\n",
       "}});\n",
       "\n",
       "// Listen for the removal of the full notebook cells\n",
       "var notebookContainer = gd.closest('#notebook-container');\n",
       "if (notebookContainer) {{\n",
       "    x.observe(notebookContainer, {childList: true});\n",
       "}}\n",
       "\n",
       "// Listen for the clearing of the current output cell\n",
       "var outputEl = gd.closest('.output');\n",
       "if (outputEl) {{\n",
       "    x.observe(outputEl, {childList: true});\n",
       "}}\n",
       "\n",
       "                        })                };            </script>        </div>"
      ]
     },
     "metadata": {},
     "output_type": "display_data"
    }
   ],
   "source": [
    "plot.update_inputs(\n",
    "    orbital_lines={\"color\": \"pink\", \"width\": 5, \"dash\": \"dash\", \"opacity\": 0.8},\n",
    "    sc_lines={\"width\": 4},\n",
    "    atom_lines={\"color\": \"gray\"},\n",
    ")"
   ]
  },
  {
   "cell_type": "markdown",
   "metadata": {},
   "source": [
    "## Labels\n",
    "\n",
    "You might want to have a clearer idea of the orbitals that correspond to a given matrix element. You can turn on labels with `set_labels`:"
   ]
  },
  {
   "cell_type": "code",
   "execution_count": 14,
   "metadata": {
    "execution": {
     "iopub.execute_input": "2025-10-08T12:09:31.124464Z",
     "iopub.status.busy": "2025-10-08T12:09:31.124279Z",
     "iopub.status.idle": "2025-10-08T12:09:31.238875Z",
     "shell.execute_reply": "2025-10-08T12:09:31.238299Z"
    }
   },
   "outputs": [
    {
     "name": "stderr",
     "output_type": "stream",
     "text": [
      "INFO\tTask(Task-2) nodify.node.140358110017536:node.py:get()- No need to evaluate\n"
     ]
    },
    {
     "name": "stderr",
     "output_type": "stream",
     "text": [
      "INFO\tTask(Task-2) nodify.node.140358110010960:node.py:get()- No need to evaluate\n"
     ]
    },
    {
     "name": "stderr",
     "output_type": "stream",
     "text": [
      "INFO\tTask(Task-2) nodify.node.140358110010768:node.py:get()- No need to evaluate\n"
     ]
    },
    {
     "name": "stderr",
     "output_type": "stream",
     "text": [
      "INFO\tTask(Task-2) nodify.node.140358110012352:node.py:get()- No need to evaluate\n"
     ]
    },
    {
     "name": "stderr",
     "output_type": "stream",
     "text": [
      "INFO\tTask(Task-2) nodify.node.140358110011728:node.py:get()- No need to evaluate\n"
     ]
    },
    {
     "name": "stderr",
     "output_type": "stream",
     "text": [
      "INFO\tTask(Task-2) nodify.node.140358110019312:node.py:get()- No need to evaluate\n"
     ]
    },
    {
     "name": "stderr",
     "output_type": "stream",
     "text": [
      "INFO\tTask(Task-2) nodify.node.140358110014464:node.py:get()- No need to evaluate\n"
     ]
    },
    {
     "name": "stderr",
     "output_type": "stream",
     "text": [
      "INFO\tTask(Task-2) nodify.node.140358110014848:node.py:get()- No need to evaluate\n"
     ]
    },
    {
     "name": "stderr",
     "output_type": "stream",
     "text": [
      "INFO\tTask(Task-2) nodify.node.140358110010960:node.py:get()- No need to evaluate\n"
     ]
    },
    {
     "name": "stderr",
     "output_type": "stream",
     "text": [
      "INFO\tTask(Task-2) nodify.node.140358110015232:node.py:get()- No need to evaluate\n"
     ]
    },
    {
     "name": "stderr",
     "output_type": "stream",
     "text": [
      "INFO\tTask(Task-2) nodify.node.140358110014848:node.py:get()- No need to evaluate\n"
     ]
    },
    {
     "name": "stderr",
     "output_type": "stream",
     "text": [
      "INFO\tTask(Task-2) nodify.node.140358110102592:node.py:get()- No need to evaluate\n"
     ]
    },
    {
     "name": "stderr",
     "output_type": "stream",
     "text": [
      "INFO\tTask(Task-2) nodify.node.140358110014080:node.py:get()- No need to evaluate\n"
     ]
    },
    {
     "name": "stderr",
     "output_type": "stream",
     "text": [
      "INFO\tTask(Task-2) nodify.node.140358110015616:node.py:get()- No need to evaluate\n"
     ]
    },
    {
     "name": "stderr",
     "output_type": "stream",
     "text": [
      "INFO\tTask(Task-2) nodify.node.140358110016000:node.py:get()- No need to evaluate\n"
     ]
    },
    {
     "name": "stderr",
     "output_type": "stream",
     "text": [
      "INFO\tTask(Task-2) nodify.node.140358110102496:node.py:get()- No need to evaluate\n"
     ]
    },
    {
     "name": "stderr",
     "output_type": "stream",
     "text": [
      "INFO\tTask(Task-2) nodify.node.140358110010960:node.py:get()- No need to evaluate\n"
     ]
    },
    {
     "name": "stderr",
     "output_type": "stream",
     "text": [
      "INFO\tTask(Task-2) nodify.node.140358110010768:node.py:get()- No need to evaluate\n"
     ]
    },
    {
     "name": "stderr",
     "output_type": "stream",
     "text": [
      "INFO\tTask(Task-2) nodify.node.140358110012352:node.py:get()- No need to evaluate\n"
     ]
    },
    {
     "name": "stderr",
     "output_type": "stream",
     "text": [
      "INFO\tTask(Task-2) nodify.node.140358110011728:node.py:get()- No need to evaluate\n"
     ]
    },
    {
     "name": "stderr",
     "output_type": "stream",
     "text": [
      "INFO\tTask(Task-2) nodify.node.140358110019312:node.py:get()- No need to evaluate\n"
     ]
    },
    {
     "name": "stderr",
     "output_type": "stream",
     "text": [
      "INFO\tTask(Task-2) nodify.node.140358110017152:node.py:get()- No need to evaluate\n"
     ]
    },
    {
     "name": "stderr",
     "output_type": "stream",
     "text": [
      "INFO\tTask(Task-2) nodify.node.140358110103264:node.py:get()- No need to evaluate\n"
     ]
    },
    {
     "name": "stderr",
     "output_type": "stream",
     "text": [
      "INFO\tTask(Task-2) nodify.node.140358110102640:node.py:get()- No need to evaluate\n"
     ]
    },
    {
     "name": "stderr",
     "output_type": "stream",
     "text": [
      "INFO\tTask(Task-2) nodify.node.140358110012928:node.py:get()- No need to evaluate\n"
     ]
    },
    {
     "name": "stderr",
     "output_type": "stream",
     "text": [
      "INFO\tTask(Task-2) nodify.node.140358110010960:node.py:get()- No need to evaluate\n"
     ]
    },
    {
     "name": "stderr",
     "output_type": "stream",
     "text": [
      "INFO\tTask(Task-2) nodify.node.140358110012784:node.py:get()- No need to evaluate\n"
     ]
    },
    {
     "name": "stderr",
     "output_type": "stream",
     "text": [
      "INFO\tTask(Task-2) nodify.node.140358110018832:node.py:get()- No need to evaluate\n"
     ]
    },
    {
     "name": "stderr",
     "output_type": "stream",
     "text": [
      "INFO\tTask(Task-2) nodify.node.140358110010960:node.py:get()- No need to evaluate\n"
     ]
    },
    {
     "name": "stderr",
     "output_type": "stream",
     "text": [
      "INFO\tTask(Task-2) nodify.node.140358110019408:node.py:get()- No need to evaluate\n"
     ]
    },
    {
     "name": "stderr",
     "output_type": "stream",
     "text": [
      "INFO\tTask(Task-2) nodify.node.140358110103312:node.py:get()- No need to evaluate\n"
     ]
    },
    {
     "name": "stderr",
     "output_type": "stream",
     "text": [
      "INFO\tTask(Task-2) nodify.node.140358110013264:node.py:get()- No need to evaluate\n"
     ]
    },
    {
     "name": "stderr",
     "output_type": "stream",
     "text": [
      "INFO\tTask(Task-2) nodify.node.140358110010960:node.py:get()- No need to evaluate\n"
     ]
    },
    {
     "name": "stderr",
     "output_type": "stream",
     "text": [
      "INFO\tTask(Task-2) nodify.node.140358110012784:node.py:get()- No need to evaluate\n"
     ]
    },
    {
     "name": "stderr",
     "output_type": "stream",
     "text": [
      "INFO\tTask(Task-2) nodify.node.140358110018832:node.py:get()- No need to evaluate\n"
     ]
    },
    {
     "name": "stderr",
     "output_type": "stream",
     "text": [
      "INFO\tTask(Task-2) nodify.node.140358110010960:node.py:get()- No need to evaluate\n"
     ]
    },
    {
     "name": "stderr",
     "output_type": "stream",
     "text": [
      "INFO\tTask(Task-2) nodify.node.140358110019408:node.py:get()- No need to evaluate\n"
     ]
    },
    {
     "name": "stderr",
     "output_type": "stream",
     "text": [
      "INFO\tTask(Task-2) nodify.node.140358110103984:node.py:get()- No need to evaluate\n"
     ]
    },
    {
     "name": "stderr",
     "output_type": "stream",
     "text": [
      "INFO\tTask(Task-2) nodify.node.140358110013648:node.py:get()- No need to evaluate\n"
     ]
    },
    {
     "name": "stderr",
     "output_type": "stream",
     "text": [
      "INFO\tTask(Task-2) nodify.node.140358110010960:node.py:get()- No need to evaluate\n"
     ]
    },
    {
     "name": "stderr",
     "output_type": "stream",
     "text": [
      "INFO\tTask(Task-2) nodify.node.140358110012784:node.py:get()- No need to evaluate\n"
     ]
    },
    {
     "name": "stderr",
     "output_type": "stream",
     "text": [
      "INFO\tTask(Task-2) nodify.node.140358110018832:node.py:get()- No need to evaluate\n"
     ]
    },
    {
     "name": "stderr",
     "output_type": "stream",
     "text": [
      "INFO\tTask(Task-2) nodify.node.140358110010960:node.py:get()- No need to evaluate\n"
     ]
    },
    {
     "name": "stderr",
     "output_type": "stream",
     "text": [
      "INFO\tTask(Task-2) nodify.node.140358110019408:node.py:get()- No need to evaluate\n"
     ]
    },
    {
     "name": "stderr",
     "output_type": "stream",
     "text": [
      "INFO\tTask(Task-2) nodify.node.140358110104320:node.py:get()- No need to evaluate\n"
     ]
    },
    {
     "name": "stderr",
     "output_type": "stream",
     "text": [
      "INFO\tTask(Task-2) nodify.node.140358110010960:node.py:get()- No need to evaluate\n"
     ]
    },
    {
     "name": "stderr",
     "output_type": "stream",
     "text": [
      "INFO\tTask(Task-2) nodify.node.140358110010768:node.py:get()- No need to evaluate\n"
     ]
    },
    {
     "name": "stderr",
     "output_type": "stream",
     "text": [
      "INFO\tTask(Task-2) nodify.node.140358110012352:node.py:get()- No need to evaluate\n"
     ]
    },
    {
     "name": "stderr",
     "output_type": "stream",
     "text": [
      "INFO\tTask(Task-2) nodify.node.140358110011728:node.py:get()- No need to evaluate\n"
     ]
    },
    {
     "name": "stderr",
     "output_type": "stream",
     "text": [
      "INFO\tTask(Task-2) nodify.node.140358110019312:node.py:get()- No need to evaluate\n"
     ]
    },
    {
     "name": "stderr",
     "output_type": "stream",
     "text": [
      "INFO\tTask(Task-2) nodify.node.140358110010960:node.py:get()- No need to evaluate\n"
     ]
    },
    {
     "name": "stderr",
     "output_type": "stream",
     "text": [
      "INFO\tTask(Task-2) nodify.node.140358110012784:node.py:get()- No need to evaluate\n"
     ]
    },
    {
     "name": "stderr",
     "output_type": "stream",
     "text": [
      "INFO\tTask(Task-2) nodify.node.140358110018832:node.py:get()- No need to evaluate\n"
     ]
    },
    {
     "name": "stderr",
     "output_type": "stream",
     "text": [
      "INFO\tTask(Task-2) nodify.node.140358110010960:node.py:get()- No need to evaluate\n"
     ]
    },
    {
     "name": "stderr",
     "output_type": "stream",
     "text": [
      "INFO\tTask(Task-2) nodify.node.140358110019408:node.py:get()- No need to evaluate\n"
     ]
    },
    {
     "name": "stderr",
     "output_type": "stream",
     "text": [
      "INFO\tTask(Task-2) nodify.node.140358110016768:node.py:get()- No need to evaluate\n"
     ]
    },
    {
     "name": "stderr",
     "output_type": "stream",
     "text": [
      "INFO\tTask(Task-2) nodify.node.140358110016384:node.py:get()- Evaluated because inputs changed.\n"
     ]
    },
    {
     "name": "stderr",
     "output_type": "stream",
     "text": [
      "INFO\tTask(Task-2) nodify.node.140358110019120:node.py:get()- Evaluated because inputs changed.\n"
     ]
    },
    {
     "name": "stderr",
     "output_type": "stream",
     "text": [
      "INFO\tTask(Task-2) nodify.node.140358110019552:node.py:get()- Evaluated because inputs changed.\n"
     ]
    },
    {
     "name": "stderr",
     "output_type": "stream",
     "text": [
      "INFO\tTask(Task-2) nodify.node.140358110104800:node.py:get()- Evaluated because inputs changed.\n"
     ]
    },
    {
     "name": "stderr",
     "output_type": "stream",
     "text": [
      "INFO\tTask(Task-2) nodify.node.140358110105280:node.py:get()- Evaluated because inputs changed.\n"
     ]
    },
    {
     "data": {
      "text/html": [
       "<div>            <script src=\"https://cdnjs.cloudflare.com/ajax/libs/mathjax/2.7.5/MathJax.js?config=TeX-AMS-MML_SVG\"></script><script type=\"text/javascript\">if (window.MathJax && window.MathJax.Hub && window.MathJax.Hub.Config) {window.MathJax.Hub.Config({SVG: {font: \"STIX-Web\"}});}</script>                <script type=\"text/javascript\">window.PlotlyConfig = {MathJaxConfig: 'local'};</script>\n",
       "        <script charset=\"utf-8\" src=\"https://cdn.plot.ly/plotly-3.1.1.min.js\" integrity=\"sha256-HUEFyfiTnZJxCxur99FjbKYTvKSzwDaD3/x5TqHpFu4=\" crossorigin=\"anonymous\"></script>                <div id=\"4c4b069d-d7e2-45c0-9a2d-a80e98c5ed0a\" class=\"plotly-graph-div\" style=\"height:525px; width:100%;\"></div>            <script type=\"text/javascript\">                window.PLOTLYENV=window.PLOTLYENV || {};                                if (document.getElementById(\"4c4b069d-d7e2-45c0-9a2d-a80e98c5ed0a\")) {                    Plotly.newPlot(                        \"4c4b069d-d7e2-45c0-9a2d-a80e98c5ed0a\",                        [{\"coloraxis\":\"coloraxis\",\"meta\":{},\"opacity\":1,\"texttemplate\":\"%{z:.2f}\",\"z\":{\"dtype\":\"f8\",\"bdata\":\"Phrwuseb6j+rlqOVK1jpPyCmucYXz9i\\u002f\\u002fhb\\u002fOmyF6T\\u002fAxcAYjmuEvwAAAAAAAPh\\u002fAAAAAAAA+H8AAAAAAAD4fwAAAAAAAPh\\u002fzKXsS\\u002fjMgz8AAAAAAAD4fwAAAAAAAPh\\u002fAAAAAAAA+H8AAAAAAAD4fwAAAAAAAPh\\u002fq5ajlStY6T+kGPkHOmjZP7jYA1kVVrU\\u002fMB2R12O4uL9vHqYIfyHovwAAAAAAAPh\\u002fAAAAAAAA+H8AAAAAAAD4fwAAAAAAAPh\\u002fDvrj\\u002fv9klL8AAAAAAAD4fwAAAAAAAPh\\u002fAAAAAAAA+H8AAAAAAAD4fwAAAAAAAPh\\u002fIKa5xhfP2L+42ANZFVa1P+CfdIIRF9+\\u002fAIA6K+RWYz9gHdalaceaPwAAAAAAAPh\\u002fAAAAAAAA+H8AAAAAAAD4fwAAAAAAAPh\\u002fLWMEwYCopT8AAAAAAAD4fwAAAAAAAPh\\u002fAAAAAAAA+H8AAAAAAAD4fwAAAAAAAPh\\u002f\\u002fhb\\u002fOmyF6T8wHZHXY7i4vwCAOivkVmM\\u002fIAEtqSY+77+LBVEihOPkPwAAAAAAAPh\\u002fAAAAAAAA+H8AAAAAAAD4fwAAAAAAAPh\\u002fTnkA7\\u002fLWnD8AAAAAAAD4fwAAAAAAAPh\\u002fAAAAAAAA+H8AAAAAAAD4fwAAAAAAAPh\\u002fwMXAGI5rhL9vHqYIfyHov2Ad1qVpx5o\\u002fiwVRIoTj5D+0o2N+J4jZPwAAAAAAAPh\\u002fAAAAAAAA+H8AAAAAAAD4fwAAAAAAAPh\\u002fAAAAAAAA+H\\u002fMpexL+MyDPw764\\u002f7\\u002fZJS\\u002fLWMEwYCopT9OeQDv8tacPwAAAAAAAPh\\u002f\",\"shape\":\"5, 15\"},\"zsmooth\":false,\"type\":\"heatmap\"},{\"line\":{\"color\":\"pink\",\"dash\":\"dash\",\"width\":5},\"meta\":{},\"mode\":\"lines\",\"name\":\"orbitals separators\",\"opacity\":0.8,\"showlegend\":false,\"x\":{\"dtype\":\"f8\",\"bdata\":\"AAAAAAAA4L8AAAAAAAASQAAAAAAAAPh\\u002fAAAAAAAA4D8AAAAAAADgPwAAAAAAAPh\\u002f\"},\"y\":{\"dtype\":\"f8\",\"bdata\":\"AAAAAAAA4D8AAAAAAADgPwAAAAAAAPh\\u002fAAAAAAAA4L8AAAAAAAASQAAAAAAAAPh\\u002f\"},\"type\":\"scatter\"},{\"line\":{\"color\":\"gray\"},\"meta\":{},\"mode\":\"lines\",\"name\":\"atoms separators\",\"opacity\":1,\"showlegend\":false,\"x\":{\"dtype\":\"f8\",\"bdata\":\"AAAAAAAA4L8AAAAAAAASQAAAAAAAAPh\\u002fAAAAAAAADEAAAAAAAAAMQAAAAAAAAPh\\u002f\"},\"y\":{\"dtype\":\"f8\",\"bdata\":\"AAAAAAAADEAAAAAAAAAMQAAAAAAAAPh\\u002fAAAAAAAA4L8AAAAAAAASQAAAAAAAAPh\\u002f\"},\"type\":\"scatter\"}],                        {\"template\":{\"layout\":{\"hovermode\":\"closest\",\"paper_bgcolor\":\"white\",\"plot_bgcolor\":\"white\",\"scene\":{\"xaxis\":{\"color\":\"black\",\"gridcolor\":\"#ccc\",\"gridwidth\":1,\"linewidth\":1,\"mirror\":true,\"showgrid\":false,\"showline\":true,\"ticklen\":5,\"ticks\":\"outside\",\"ticksuffix\":\" \",\"visible\":true,\"zeroline\":false,\"zerolinecolor\":\"#ccc\",\"zerolinewidth\":1},\"yaxis\":{\"color\":\"black\",\"gridcolor\":\"#ccc\",\"gridwidth\":1,\"linewidth\":1,\"mirror\":true,\"showgrid\":false,\"showline\":true,\"ticklen\":5,\"ticks\":\"outside\",\"ticksuffix\":\" \",\"visible\":true,\"zeroline\":false,\"zerolinecolor\":\"#ccc\",\"zerolinewidth\":1},\"zaxis\":{\"color\":\"black\",\"gridcolor\":\"#ccc\",\"gridwidth\":1,\"linewidth\":1,\"mirror\":true,\"showgrid\":false,\"showline\":true,\"ticklen\":5,\"ticks\":\"outside\",\"ticksuffix\":\" \",\"visible\":true,\"zeroline\":false,\"zerolinecolor\":\"#ccc\",\"zerolinewidth\":1}},\"xaxis\":{\"color\":\"black\",\"gridcolor\":\"#ccc\",\"gridwidth\":1,\"linewidth\":1,\"mirror\":true,\"showgrid\":false,\"showline\":true,\"ticklen\":5,\"ticks\":\"outside\",\"ticksuffix\":\" \",\"visible\":true,\"zeroline\":false,\"zerolinecolor\":\"#ccc\",\"zerolinewidth\":1},\"yaxis\":{\"color\":\"black\",\"gridcolor\":\"#ccc\",\"gridwidth\":1,\"linewidth\":1,\"mirror\":true,\"showgrid\":false,\"showline\":true,\"ticklen\":5,\"ticks\":\"outside\",\"ticksuffix\":\" \",\"visible\":true,\"zeroline\":false,\"zerolinecolor\":\"#ccc\",\"zerolinewidth\":1}}},\"coloraxis\":{\"colorscale\":[[0.0,\"rgb(0, 147, 146)\"],[0.16666666666666666,\"rgb(57, 177, 133)\"],[0.3333333333333333,\"rgb(156, 203, 134)\"],[0.5,\"rgb(233, 226, 156)\"],[0.6666666666666666,\"rgb(238, 180, 121)\"],[0.8333333333333334,\"rgb(232, 132, 113)\"],[1.0,\"rgb(207, 89, 126)\"]],\"cmid\":0,\"showscale\":true},\"xaxis\":{\"scaleanchor\":\"y\",\"scaleratio\":1,\"range\":[-0.5,14.5],\"constrain\":\"domain\",\"ticktext\":[\"0: (0, 0)\",\"0: (1, -1)\",\"0: (1, 0)\",\"0: (1, 1)\",\"1: (0, 0)\",\"0: (0, 0)\",\"0: (1, -1)\",\"0: (1, 0)\",\"0: (1, 1)\",\"1: (0, 0)\",\"0: (0, 0)\",\"0: (1, -1)\",\"0: (1, 0)\",\"0: (1, 1)\",\"1: (0, 0)\"],\"tickvals\":{\"dtype\":\"i1\",\"bdata\":\"AAECAwQFBgcICQoLDA0O\"}},\"scene\":{\"aspectmode\":\"data\",\"xaxis\":{\"range\":[-0.5,14.5],\"ticktext\":[\"0: (0, 0)\",\"0: (1, -1)\",\"0: (1, 0)\",\"0: (1, 1)\",\"1: (0, 0)\",\"0: (0, 0)\",\"0: (1, -1)\",\"0: (1, 0)\",\"0: (1, 1)\",\"1: (0, 0)\",\"0: (0, 0)\",\"0: (1, -1)\",\"0: (1, 0)\",\"0: (1, 1)\",\"1: (0, 0)\"],\"tickvals\":{\"dtype\":\"i1\",\"bdata\":\"AAECAwQFBgcICQoLDA0O\"}},\"yaxis\":{\"range\":[4.5,-0.5],\"ticktext\":[\"0: (0, 0)\",\"0: (1, -1)\",\"0: (1, 0)\",\"0: (1, 1)\",\"1: (0, 0)\"],\"tickvals\":{\"dtype\":\"i1\",\"bdata\":\"AAECAwQ=\"}}},\"yaxis\":{\"range\":[4.5,-0.5],\"constrain\":\"domain\",\"ticktext\":[\"0: (0, 0)\",\"0: (1, -1)\",\"0: (1, 0)\",\"0: (1, 1)\",\"1: (0, 0)\"],\"tickvals\":{\"dtype\":\"i1\",\"bdata\":\"AAECAwQ=\"}}},                        {\"responsive\": true}                    ).then(function(){\n",
       "                            \n",
       "var gd = document.getElementById('4c4b069d-d7e2-45c0-9a2d-a80e98c5ed0a');\n",
       "var x = new MutationObserver(function (mutations, observer) {{\n",
       "        var display = window.getComputedStyle(gd).display;\n",
       "        if (!display || display === 'none') {{\n",
       "            console.log([gd, 'removed!']);\n",
       "            Plotly.purge(gd);\n",
       "            observer.disconnect();\n",
       "        }}\n",
       "}});\n",
       "\n",
       "// Listen for the removal of the full notebook cells\n",
       "var notebookContainer = gd.closest('#notebook-container');\n",
       "if (notebookContainer) {{\n",
       "    x.observe(notebookContainer, {childList: true});\n",
       "}}\n",
       "\n",
       "// Listen for the clearing of the current output cell\n",
       "var outputEl = gd.closest('.output');\n",
       "if (outputEl) {{\n",
       "    x.observe(outputEl, {childList: true});\n",
       "}}\n",
       "\n",
       "                        })                };            </script>        </div>"
      ]
     },
     "metadata": {},
     "output_type": "display_data"
    }
   ],
   "source": [
    "plot.update_inputs(set_labels=True)"
   ]
  },
  {
   "cell_type": "markdown",
   "metadata": {},
   "source": [
    "Labels have the format: `Atom index: (l, m)`. where l and m are the quantum numbers of the orbital."
   ]
  },
  {
   "cell_type": "code",
   "execution_count": 15,
   "metadata": {
    "execution": {
     "iopub.execute_input": "2025-10-08T12:09:31.240795Z",
     "iopub.status.busy": "2025-10-08T12:09:31.240619Z",
     "iopub.status.idle": "2025-10-08T12:09:31.243456Z",
     "shell.execute_reply": "2025-10-08T12:09:31.242948Z"
    }
   },
   "outputs": [],
   "source": [
    "plot = plot.update_inputs(set_labels=False)"
   ]
  },
  {
   "cell_type": "markdown",
   "metadata": {},
   "source": [
    "## Showing only one cell\n",
    "\n",
    "If you only want to visualize a given cell in the supercell, you can pass the index to the `isc` input."
   ]
  },
  {
   "cell_type": "code",
   "execution_count": 16,
   "metadata": {
    "execution": {
     "iopub.execute_input": "2025-10-08T12:09:31.245194Z",
     "iopub.status.busy": "2025-10-08T12:09:31.244976Z",
     "iopub.status.idle": "2025-10-08T12:09:31.356952Z",
     "shell.execute_reply": "2025-10-08T12:09:31.356367Z"
    }
   },
   "outputs": [
    {
     "name": "stderr",
     "output_type": "stream",
     "text": [
      "INFO\tTask(Task-2) nodify.node.140358110017536:node.py:get()- No need to evaluate\n"
     ]
    },
    {
     "name": "stderr",
     "output_type": "stream",
     "text": [
      "INFO\tTask(Task-2) nodify.node.140358110010960:node.py:get()- No need to evaluate\n"
     ]
    },
    {
     "name": "stderr",
     "output_type": "stream",
     "text": [
      "INFO\tTask(Task-2) nodify.node.140358110010768:node.py:get()- No need to evaluate\n"
     ]
    },
    {
     "name": "stderr",
     "output_type": "stream",
     "text": [
      "INFO\tTask(Task-2) nodify.node.140358110012352:node.py:get()- Evaluated because inputs changed.\n"
     ]
    },
    {
     "name": "stderr",
     "output_type": "stream",
     "text": [
      "INFO\tTask(Task-2) nodify.node.140358110011728:node.py:get()- No need to evaluate\n"
     ]
    },
    {
     "name": "stderr",
     "output_type": "stream",
     "text": [
      "INFO\tTask(Task-2) nodify.node.140358110019312:node.py:get()- Evaluated because inputs changed.\n"
     ]
    },
    {
     "name": "stderr",
     "output_type": "stream",
     "text": [
      "INFO\tTask(Task-2) nodify.node.140358110014464:node.py:get()- No need to evaluate\n"
     ]
    },
    {
     "name": "stderr",
     "output_type": "stream",
     "text": [
      "INFO\tTask(Task-2) nodify.node.140358110014848:node.py:get()- No need to evaluate\n"
     ]
    },
    {
     "name": "stderr",
     "output_type": "stream",
     "text": [
      "INFO\tTask(Task-2) nodify.node.140358110010960:node.py:get()- No need to evaluate\n"
     ]
    },
    {
     "name": "stderr",
     "output_type": "stream",
     "text": [
      "INFO\tTask(Task-2) nodify.node.140358110015232:node.py:get()- No need to evaluate\n"
     ]
    },
    {
     "name": "stderr",
     "output_type": "stream",
     "text": [
      "INFO\tTask(Task-2) nodify.node.140358110014848:node.py:get()- No need to evaluate\n"
     ]
    },
    {
     "name": "stderr",
     "output_type": "stream",
     "text": [
      "INFO\tTask(Task-2) nodify.node.140358110102592:node.py:get()- No need to evaluate\n"
     ]
    },
    {
     "name": "stderr",
     "output_type": "stream",
     "text": [
      "INFO\tTask(Task-2) nodify.node.140358110014080:node.py:get()- No need to evaluate\n"
     ]
    },
    {
     "name": "stderr",
     "output_type": "stream",
     "text": [
      "INFO\tTask(Task-2) nodify.node.140358110015616:node.py:get()- No need to evaluate\n"
     ]
    },
    {
     "name": "stderr",
     "output_type": "stream",
     "text": [
      "INFO\tTask(Task-2) nodify.node.140358110016000:node.py:get()- No need to evaluate\n"
     ]
    },
    {
     "name": "stderr",
     "output_type": "stream",
     "text": [
      "INFO\tTask(Task-2) nodify.node.140358110102496:node.py:get()- Evaluated because inputs changed.\n"
     ]
    },
    {
     "name": "stderr",
     "output_type": "stream",
     "text": [
      "INFO\tTask(Task-2) nodify.node.140358110010960:node.py:get()- No need to evaluate\n"
     ]
    },
    {
     "name": "stderr",
     "output_type": "stream",
     "text": [
      "INFO\tTask(Task-2) nodify.node.140358110010768:node.py:get()- No need to evaluate\n"
     ]
    },
    {
     "name": "stderr",
     "output_type": "stream",
     "text": [
      "INFO\tTask(Task-2) nodify.node.140358110012352:node.py:get()- No need to evaluate\n"
     ]
    },
    {
     "name": "stderr",
     "output_type": "stream",
     "text": [
      "INFO\tTask(Task-2) nodify.node.140358110011728:node.py:get()- No need to evaluate\n"
     ]
    },
    {
     "name": "stderr",
     "output_type": "stream",
     "text": [
      "INFO\tTask(Task-2) nodify.node.140358110019312:node.py:get()- No need to evaluate\n"
     ]
    },
    {
     "name": "stderr",
     "output_type": "stream",
     "text": [
      "INFO\tTask(Task-2) nodify.node.140358110017152:node.py:get()- No need to evaluate\n"
     ]
    },
    {
     "name": "stderr",
     "output_type": "stream",
     "text": [
      "INFO\tTask(Task-2) nodify.node.140358110103264:node.py:get()- No need to evaluate\n"
     ]
    },
    {
     "name": "stderr",
     "output_type": "stream",
     "text": [
      "INFO\tTask(Task-2) nodify.node.140358110102640:node.py:get()- Evaluated because inputs changed.\n"
     ]
    },
    {
     "name": "stderr",
     "output_type": "stream",
     "text": [
      "INFO\tTask(Task-2) nodify.node.140358110012928:node.py:get()- No need to evaluate\n"
     ]
    },
    {
     "name": "stderr",
     "output_type": "stream",
     "text": [
      "INFO\tTask(Task-2) nodify.node.140358110010960:node.py:get()- No need to evaluate\n"
     ]
    },
    {
     "name": "stderr",
     "output_type": "stream",
     "text": [
      "INFO\tTask(Task-2) nodify.node.140358110012784:node.py:get()- No need to evaluate\n"
     ]
    },
    {
     "name": "stderr",
     "output_type": "stream",
     "text": [
      "INFO\tTask(Task-2) nodify.node.140358110018832:node.py:get()- No need to evaluate\n"
     ]
    },
    {
     "name": "stderr",
     "output_type": "stream",
     "text": [
      "INFO\tTask(Task-2) nodify.node.140358110010960:node.py:get()- No need to evaluate\n"
     ]
    },
    {
     "name": "stderr",
     "output_type": "stream",
     "text": [
      "INFO\tTask(Task-2) nodify.node.140358110019408:node.py:get()- No need to evaluate\n"
     ]
    },
    {
     "name": "stderr",
     "output_type": "stream",
     "text": [
      "INFO\tTask(Task-2) nodify.node.140358110103312:node.py:get()- No need to evaluate\n"
     ]
    },
    {
     "name": "stderr",
     "output_type": "stream",
     "text": [
      "INFO\tTask(Task-2) nodify.node.140358110013264:node.py:get()- No need to evaluate\n"
     ]
    },
    {
     "name": "stderr",
     "output_type": "stream",
     "text": [
      "INFO\tTask(Task-2) nodify.node.140358110010960:node.py:get()- No need to evaluate\n"
     ]
    },
    {
     "name": "stderr",
     "output_type": "stream",
     "text": [
      "INFO\tTask(Task-2) nodify.node.140358110012784:node.py:get()- No need to evaluate\n"
     ]
    },
    {
     "name": "stderr",
     "output_type": "stream",
     "text": [
      "INFO\tTask(Task-2) nodify.node.140358110018832:node.py:get()- No need to evaluate\n"
     ]
    },
    {
     "name": "stderr",
     "output_type": "stream",
     "text": [
      "INFO\tTask(Task-2) nodify.node.140358110010960:node.py:get()- No need to evaluate\n"
     ]
    },
    {
     "name": "stderr",
     "output_type": "stream",
     "text": [
      "INFO\tTask(Task-2) nodify.node.140358110019408:node.py:get()- No need to evaluate\n"
     ]
    },
    {
     "name": "stderr",
     "output_type": "stream",
     "text": [
      "INFO\tTask(Task-2) nodify.node.140358110103984:node.py:get()- No need to evaluate\n"
     ]
    },
    {
     "name": "stderr",
     "output_type": "stream",
     "text": [
      "INFO\tTask(Task-2) nodify.node.140358110013648:node.py:get()- No need to evaluate\n"
     ]
    },
    {
     "name": "stderr",
     "output_type": "stream",
     "text": [
      "INFO\tTask(Task-2) nodify.node.140358110010960:node.py:get()- No need to evaluate\n"
     ]
    },
    {
     "name": "stderr",
     "output_type": "stream",
     "text": [
      "INFO\tTask(Task-2) nodify.node.140358110012784:node.py:get()- No need to evaluate\n"
     ]
    },
    {
     "name": "stderr",
     "output_type": "stream",
     "text": [
      "INFO\tTask(Task-2) nodify.node.140358110018832:node.py:get()- No need to evaluate\n"
     ]
    },
    {
     "name": "stderr",
     "output_type": "stream",
     "text": [
      "INFO\tTask(Task-2) nodify.node.140358110010960:node.py:get()- No need to evaluate\n"
     ]
    },
    {
     "name": "stderr",
     "output_type": "stream",
     "text": [
      "INFO\tTask(Task-2) nodify.node.140358110019408:node.py:get()- No need to evaluate\n"
     ]
    },
    {
     "name": "stderr",
     "output_type": "stream",
     "text": [
      "INFO\tTask(Task-2) nodify.node.140358110104320:node.py:get()- No need to evaluate\n"
     ]
    },
    {
     "name": "stderr",
     "output_type": "stream",
     "text": [
      "INFO\tTask(Task-2) nodify.node.140358110010960:node.py:get()- No need to evaluate\n"
     ]
    },
    {
     "name": "stderr",
     "output_type": "stream",
     "text": [
      "INFO\tTask(Task-2) nodify.node.140358110010768:node.py:get()- No need to evaluate\n"
     ]
    },
    {
     "name": "stderr",
     "output_type": "stream",
     "text": [
      "INFO\tTask(Task-2) nodify.node.140358110012352:node.py:get()- No need to evaluate\n"
     ]
    },
    {
     "name": "stderr",
     "output_type": "stream",
     "text": [
      "INFO\tTask(Task-2) nodify.node.140358110011728:node.py:get()- No need to evaluate\n"
     ]
    },
    {
     "name": "stderr",
     "output_type": "stream",
     "text": [
      "INFO\tTask(Task-2) nodify.node.140358110019312:node.py:get()- No need to evaluate\n"
     ]
    },
    {
     "name": "stderr",
     "output_type": "stream",
     "text": [
      "INFO\tTask(Task-2) nodify.node.140358110010960:node.py:get()- No need to evaluate\n"
     ]
    },
    {
     "name": "stderr",
     "output_type": "stream",
     "text": [
      "INFO\tTask(Task-2) nodify.node.140358110012784:node.py:get()- No need to evaluate\n"
     ]
    },
    {
     "name": "stderr",
     "output_type": "stream",
     "text": [
      "INFO\tTask(Task-2) nodify.node.140358110018832:node.py:get()- No need to evaluate\n"
     ]
    },
    {
     "name": "stderr",
     "output_type": "stream",
     "text": [
      "INFO\tTask(Task-2) nodify.node.140358110010960:node.py:get()- No need to evaluate\n"
     ]
    },
    {
     "name": "stderr",
     "output_type": "stream",
     "text": [
      "INFO\tTask(Task-2) nodify.node.140358110019408:node.py:get()- No need to evaluate\n"
     ]
    },
    {
     "name": "stderr",
     "output_type": "stream",
     "text": [
      "INFO\tTask(Task-2) nodify.node.140358110016768:node.py:get()- No need to evaluate\n"
     ]
    },
    {
     "name": "stderr",
     "output_type": "stream",
     "text": [
      "INFO\tTask(Task-2) nodify.node.140358110016384:node.py:get()- Evaluated because inputs changed.\n"
     ]
    },
    {
     "name": "stderr",
     "output_type": "stream",
     "text": [
      "INFO\tTask(Task-2) nodify.node.140358110019120:node.py:get()- Evaluated because inputs changed.\n"
     ]
    },
    {
     "name": "stderr",
     "output_type": "stream",
     "text": [
      "INFO\tTask(Task-2) nodify.node.140358110019552:node.py:get()- Evaluated because inputs changed.\n"
     ]
    },
    {
     "name": "stderr",
     "output_type": "stream",
     "text": [
      "INFO\tTask(Task-2) nodify.node.140358110104800:node.py:get()- Evaluated because inputs changed.\n"
     ]
    },
    {
     "name": "stderr",
     "output_type": "stream",
     "text": [
      "INFO\tTask(Task-2) nodify.node.140358110105280:node.py:get()- Evaluated because inputs changed.\n"
     ]
    },
    {
     "data": {
      "text/html": [
       "<div>            <script src=\"https://cdnjs.cloudflare.com/ajax/libs/mathjax/2.7.5/MathJax.js?config=TeX-AMS-MML_SVG\"></script><script type=\"text/javascript\">if (window.MathJax && window.MathJax.Hub && window.MathJax.Hub.Config) {window.MathJax.Hub.Config({SVG: {font: \"STIX-Web\"}});}</script>                <script type=\"text/javascript\">window.PlotlyConfig = {MathJaxConfig: 'local'};</script>\n",
       "        <script charset=\"utf-8\" src=\"https://cdn.plot.ly/plotly-3.1.1.min.js\" integrity=\"sha256-HUEFyfiTnZJxCxur99FjbKYTvKSzwDaD3/x5TqHpFu4=\" crossorigin=\"anonymous\"></script>                <div id=\"a40f9eab-0137-49a7-ba07-0e17c98e6a42\" class=\"plotly-graph-div\" style=\"height:525px; width:100%;\"></div>            <script type=\"text/javascript\">                window.PLOTLYENV=window.PLOTLYENV || {};                                if (document.getElementById(\"a40f9eab-0137-49a7-ba07-0e17c98e6a42\")) {                    Plotly.newPlot(                        \"a40f9eab-0137-49a7-ba07-0e17c98e6a42\",                        [{\"coloraxis\":\"coloraxis\",\"meta\":{},\"opacity\":1,\"texttemplate\":\"%{z:.2f}\",\"z\":{\"dtype\":\"f8\",\"bdata\":\"AAAAAAAA+H8AAAAAAAD4fwAAAAAAAPh\\u002fAAAAAAAA+H\\u002fMpexL+MyDPwAAAAAAAPh\\u002fAAAAAAAA+H8AAAAAAAD4fwAAAAAAAPh\\u002fDvrj\\u002fv9klL8AAAAAAAD4fwAAAAAAAPh\\u002fAAAAAAAA+H8AAAAAAAD4fy1jBMGAqKU\\u002fAAAAAAAA+H8AAAAAAAD4fwAAAAAAAPh\\u002fAAAAAAAA+H9OeQDv8tacPwAAAAAAAPh\\u002fAAAAAAAA+H8AAAAAAAD4fwAAAAAAAPh\\u002fAAAAAAAA+H8=\",\"shape\":\"5, 5\"},\"zsmooth\":false,\"type\":\"heatmap\"},{\"line\":{\"color\":\"pink\",\"dash\":\"dash\",\"width\":5},\"meta\":{},\"mode\":\"lines\",\"name\":\"orbitals separators\",\"opacity\":0.8,\"showlegend\":false,\"x\":{\"dtype\":\"f8\",\"bdata\":\"AAAAAAAA4L8AAAAAAAASQAAAAAAAAPh\\u002fAAAAAAAA4D8AAAAAAADgPwAAAAAAAPh\\u002f\"},\"y\":{\"dtype\":\"f8\",\"bdata\":\"AAAAAAAA4D8AAAAAAADgPwAAAAAAAPh\\u002fAAAAAAAA4L8AAAAAAAASQAAAAAAAAPh\\u002f\"},\"type\":\"scatter\"},{\"line\":{\"color\":\"gray\"},\"meta\":{},\"mode\":\"lines\",\"name\":\"atoms separators\",\"opacity\":1,\"showlegend\":false,\"x\":{\"dtype\":\"f8\",\"bdata\":\"AAAAAAAA4L8AAAAAAAASQAAAAAAAAPh\\u002fAAAAAAAADEAAAAAAAAAMQAAAAAAAAPh\\u002f\"},\"y\":{\"dtype\":\"f8\",\"bdata\":\"AAAAAAAADEAAAAAAAAAMQAAAAAAAAPh\\u002fAAAAAAAA4L8AAAAAAAASQAAAAAAAAPh\\u002f\"},\"type\":\"scatter\"}],                        {\"template\":{\"layout\":{\"hovermode\":\"closest\",\"paper_bgcolor\":\"white\",\"plot_bgcolor\":\"white\",\"scene\":{\"xaxis\":{\"color\":\"black\",\"gridcolor\":\"#ccc\",\"gridwidth\":1,\"linewidth\":1,\"mirror\":true,\"showgrid\":false,\"showline\":true,\"ticklen\":5,\"ticks\":\"outside\",\"ticksuffix\":\" \",\"visible\":true,\"zeroline\":false,\"zerolinecolor\":\"#ccc\",\"zerolinewidth\":1},\"yaxis\":{\"color\":\"black\",\"gridcolor\":\"#ccc\",\"gridwidth\":1,\"linewidth\":1,\"mirror\":true,\"showgrid\":false,\"showline\":true,\"ticklen\":5,\"ticks\":\"outside\",\"ticksuffix\":\" \",\"visible\":true,\"zeroline\":false,\"zerolinecolor\":\"#ccc\",\"zerolinewidth\":1},\"zaxis\":{\"color\":\"black\",\"gridcolor\":\"#ccc\",\"gridwidth\":1,\"linewidth\":1,\"mirror\":true,\"showgrid\":false,\"showline\":true,\"ticklen\":5,\"ticks\":\"outside\",\"ticksuffix\":\" \",\"visible\":true,\"zeroline\":false,\"zerolinecolor\":\"#ccc\",\"zerolinewidth\":1}},\"xaxis\":{\"color\":\"black\",\"gridcolor\":\"#ccc\",\"gridwidth\":1,\"linewidth\":1,\"mirror\":true,\"showgrid\":false,\"showline\":true,\"ticklen\":5,\"ticks\":\"outside\",\"ticksuffix\":\" \",\"visible\":true,\"zeroline\":false,\"zerolinecolor\":\"#ccc\",\"zerolinewidth\":1},\"yaxis\":{\"color\":\"black\",\"gridcolor\":\"#ccc\",\"gridwidth\":1,\"linewidth\":1,\"mirror\":true,\"showgrid\":false,\"showline\":true,\"ticklen\":5,\"ticks\":\"outside\",\"ticksuffix\":\" \",\"visible\":true,\"zeroline\":false,\"zerolinecolor\":\"#ccc\",\"zerolinewidth\":1}}},\"coloraxis\":{\"colorscale\":[[0.0,\"rgb(0, 147, 146)\"],[0.16666666666666666,\"rgb(57, 177, 133)\"],[0.3333333333333333,\"rgb(156, 203, 134)\"],[0.5,\"rgb(233, 226, 156)\"],[0.6666666666666666,\"rgb(238, 180, 121)\"],[0.8333333333333334,\"rgb(232, 132, 113)\"],[1.0,\"rgb(207, 89, 126)\"]],\"cmid\":0,\"showscale\":true},\"xaxis\":{\"scaleanchor\":\"y\",\"scaleratio\":1,\"range\":[-0.5,4.5],\"constrain\":\"domain\"},\"scene\":{\"aspectmode\":\"data\",\"xaxis\":{\"range\":[-0.5,4.5]},\"yaxis\":{\"range\":[4.5,-0.5]}},\"yaxis\":{\"range\":[4.5,-0.5],\"constrain\":\"domain\"}},                        {\"responsive\": true}                    ).then(function(){\n",
       "                            \n",
       "var gd = document.getElementById('a40f9eab-0137-49a7-ba07-0e17c98e6a42');\n",
       "var x = new MutationObserver(function (mutations, observer) {{\n",
       "        var display = window.getComputedStyle(gd).display;\n",
       "        if (!display || display === 'none') {{\n",
       "            console.log([gd, 'removed!']);\n",
       "            Plotly.purge(gd);\n",
       "            observer.disconnect();\n",
       "        }}\n",
       "}});\n",
       "\n",
       "// Listen for the removal of the full notebook cells\n",
       "var notebookContainer = gd.closest('#notebook-container');\n",
       "if (notebookContainer) {{\n",
       "    x.observe(notebookContainer, {childList: true});\n",
       "}}\n",
       "\n",
       "// Listen for the clearing of the current output cell\n",
       "var outputEl = gd.closest('.output');\n",
       "if (outputEl) {{\n",
       "    x.observe(outputEl, {childList: true});\n",
       "}}\n",
       "\n",
       "                        })                };            </script>        </div>"
      ]
     },
     "metadata": {},
     "output_type": "display_data"
    }
   ],
   "source": [
    "plot.update_inputs(isc=1)"
   ]
  },
  {
   "cell_type": "markdown",
   "metadata": {},
   "source": [
    "To go back to visualizing the whole supercell, just set `isc` to `None`."
   ]
  },
  {
   "cell_type": "code",
   "execution_count": 17,
   "metadata": {
    "execution": {
     "iopub.execute_input": "2025-10-08T12:09:31.359118Z",
     "iopub.status.busy": "2025-10-08T12:09:31.358930Z",
     "iopub.status.idle": "2025-10-08T12:09:31.471506Z",
     "shell.execute_reply": "2025-10-08T12:09:31.470955Z"
    }
   },
   "outputs": [
    {
     "name": "stderr",
     "output_type": "stream",
     "text": [
      "INFO\tTask(Task-2) nodify.node.140358110017536:node.py:get()- No need to evaluate\n"
     ]
    },
    {
     "name": "stderr",
     "output_type": "stream",
     "text": [
      "INFO\tTask(Task-2) nodify.node.140358110010960:node.py:get()- No need to evaluate\n"
     ]
    },
    {
     "name": "stderr",
     "output_type": "stream",
     "text": [
      "INFO\tTask(Task-2) nodify.node.140358110010768:node.py:get()- No need to evaluate\n"
     ]
    },
    {
     "name": "stderr",
     "output_type": "stream",
     "text": [
      "INFO\tTask(Task-2) nodify.node.140358110012352:node.py:get()- Evaluated because inputs changed.\n"
     ]
    },
    {
     "name": "stderr",
     "output_type": "stream",
     "text": [
      "INFO\tTask(Task-2) nodify.node.140358110011728:node.py:get()- No need to evaluate\n"
     ]
    },
    {
     "name": "stderr",
     "output_type": "stream",
     "text": [
      "INFO\tTask(Task-2) nodify.node.140358110019312:node.py:get()- Evaluated because inputs changed.\n"
     ]
    },
    {
     "name": "stderr",
     "output_type": "stream",
     "text": [
      "INFO\tTask(Task-2) nodify.node.140358110014464:node.py:get()- No need to evaluate\n"
     ]
    },
    {
     "name": "stderr",
     "output_type": "stream",
     "text": [
      "INFO\tTask(Task-2) nodify.node.140358110014848:node.py:get()- No need to evaluate\n"
     ]
    },
    {
     "name": "stderr",
     "output_type": "stream",
     "text": [
      "INFO\tTask(Task-2) nodify.node.140358110010960:node.py:get()- No need to evaluate\n"
     ]
    },
    {
     "name": "stderr",
     "output_type": "stream",
     "text": [
      "INFO\tTask(Task-2) nodify.node.140358110015232:node.py:get()- No need to evaluate\n"
     ]
    },
    {
     "name": "stderr",
     "output_type": "stream",
     "text": [
      "INFO\tTask(Task-2) nodify.node.140358110014848:node.py:get()- No need to evaluate\n"
     ]
    },
    {
     "name": "stderr",
     "output_type": "stream",
     "text": [
      "INFO\tTask(Task-2) nodify.node.140358110102592:node.py:get()- No need to evaluate\n"
     ]
    },
    {
     "name": "stderr",
     "output_type": "stream",
     "text": [
      "INFO\tTask(Task-2) nodify.node.140358110014080:node.py:get()- No need to evaluate\n"
     ]
    },
    {
     "name": "stderr",
     "output_type": "stream",
     "text": [
      "INFO\tTask(Task-2) nodify.node.140358110015616:node.py:get()- No need to evaluate\n"
     ]
    },
    {
     "name": "stderr",
     "output_type": "stream",
     "text": [
      "INFO\tTask(Task-2) nodify.node.140358110016000:node.py:get()- No need to evaluate\n"
     ]
    },
    {
     "name": "stderr",
     "output_type": "stream",
     "text": [
      "INFO\tTask(Task-2) nodify.node.140358110102496:node.py:get()- Evaluated because inputs changed.\n"
     ]
    },
    {
     "name": "stderr",
     "output_type": "stream",
     "text": [
      "INFO\tTask(Task-2) nodify.node.140358110010960:node.py:get()- No need to evaluate\n"
     ]
    },
    {
     "name": "stderr",
     "output_type": "stream",
     "text": [
      "INFO\tTask(Task-2) nodify.node.140358110010768:node.py:get()- No need to evaluate\n"
     ]
    },
    {
     "name": "stderr",
     "output_type": "stream",
     "text": [
      "INFO\tTask(Task-2) nodify.node.140358110012352:node.py:get()- No need to evaluate\n"
     ]
    },
    {
     "name": "stderr",
     "output_type": "stream",
     "text": [
      "INFO\tTask(Task-2) nodify.node.140358110011728:node.py:get()- No need to evaluate\n"
     ]
    },
    {
     "name": "stderr",
     "output_type": "stream",
     "text": [
      "INFO\tTask(Task-2) nodify.node.140358110019312:node.py:get()- No need to evaluate\n"
     ]
    },
    {
     "name": "stderr",
     "output_type": "stream",
     "text": [
      "INFO\tTask(Task-2) nodify.node.140358110017152:node.py:get()- No need to evaluate\n"
     ]
    },
    {
     "name": "stderr",
     "output_type": "stream",
     "text": [
      "INFO\tTask(Task-2) nodify.node.140358110103264:node.py:get()- No need to evaluate\n"
     ]
    },
    {
     "name": "stderr",
     "output_type": "stream",
     "text": [
      "INFO\tTask(Task-2) nodify.node.140358110102640:node.py:get()- Evaluated because inputs changed.\n"
     ]
    },
    {
     "name": "stderr",
     "output_type": "stream",
     "text": [
      "INFO\tTask(Task-2) nodify.node.140358110012928:node.py:get()- No need to evaluate\n"
     ]
    },
    {
     "name": "stderr",
     "output_type": "stream",
     "text": [
      "INFO\tTask(Task-2) nodify.node.140358110010960:node.py:get()- No need to evaluate\n"
     ]
    },
    {
     "name": "stderr",
     "output_type": "stream",
     "text": [
      "INFO\tTask(Task-2) nodify.node.140358110012784:node.py:get()- No need to evaluate\n"
     ]
    },
    {
     "name": "stderr",
     "output_type": "stream",
     "text": [
      "INFO\tTask(Task-2) nodify.node.140358110018832:node.py:get()- No need to evaluate\n"
     ]
    },
    {
     "name": "stderr",
     "output_type": "stream",
     "text": [
      "INFO\tTask(Task-2) nodify.node.140358110010960:node.py:get()- No need to evaluate\n"
     ]
    },
    {
     "name": "stderr",
     "output_type": "stream",
     "text": [
      "INFO\tTask(Task-2) nodify.node.140358110019408:node.py:get()- No need to evaluate\n"
     ]
    },
    {
     "name": "stderr",
     "output_type": "stream",
     "text": [
      "INFO\tTask(Task-2) nodify.node.140358110103312:node.py:get()- No need to evaluate\n"
     ]
    },
    {
     "name": "stderr",
     "output_type": "stream",
     "text": [
      "INFO\tTask(Task-2) nodify.node.140358110013264:node.py:get()- No need to evaluate\n"
     ]
    },
    {
     "name": "stderr",
     "output_type": "stream",
     "text": [
      "INFO\tTask(Task-2) nodify.node.140358110010960:node.py:get()- No need to evaluate\n"
     ]
    },
    {
     "name": "stderr",
     "output_type": "stream",
     "text": [
      "INFO\tTask(Task-2) nodify.node.140358110012784:node.py:get()- No need to evaluate\n"
     ]
    },
    {
     "name": "stderr",
     "output_type": "stream",
     "text": [
      "INFO\tTask(Task-2) nodify.node.140358110018832:node.py:get()- No need to evaluate\n"
     ]
    },
    {
     "name": "stderr",
     "output_type": "stream",
     "text": [
      "INFO\tTask(Task-2) nodify.node.140358110010960:node.py:get()- No need to evaluate\n"
     ]
    },
    {
     "name": "stderr",
     "output_type": "stream",
     "text": [
      "INFO\tTask(Task-2) nodify.node.140358110019408:node.py:get()- No need to evaluate\n"
     ]
    },
    {
     "name": "stderr",
     "output_type": "stream",
     "text": [
      "INFO\tTask(Task-2) nodify.node.140358110103984:node.py:get()- No need to evaluate\n"
     ]
    },
    {
     "name": "stderr",
     "output_type": "stream",
     "text": [
      "INFO\tTask(Task-2) nodify.node.140358110013648:node.py:get()- No need to evaluate\n"
     ]
    },
    {
     "name": "stderr",
     "output_type": "stream",
     "text": [
      "INFO\tTask(Task-2) nodify.node.140358110010960:node.py:get()- No need to evaluate\n"
     ]
    },
    {
     "name": "stderr",
     "output_type": "stream",
     "text": [
      "INFO\tTask(Task-2) nodify.node.140358110012784:node.py:get()- No need to evaluate\n"
     ]
    },
    {
     "name": "stderr",
     "output_type": "stream",
     "text": [
      "INFO\tTask(Task-2) nodify.node.140358110018832:node.py:get()- No need to evaluate\n"
     ]
    },
    {
     "name": "stderr",
     "output_type": "stream",
     "text": [
      "INFO\tTask(Task-2) nodify.node.140358110010960:node.py:get()- No need to evaluate\n"
     ]
    },
    {
     "name": "stderr",
     "output_type": "stream",
     "text": [
      "INFO\tTask(Task-2) nodify.node.140358110019408:node.py:get()- No need to evaluate\n"
     ]
    },
    {
     "name": "stderr",
     "output_type": "stream",
     "text": [
      "INFO\tTask(Task-2) nodify.node.140358110104320:node.py:get()- No need to evaluate\n"
     ]
    },
    {
     "name": "stderr",
     "output_type": "stream",
     "text": [
      "INFO\tTask(Task-2) nodify.node.140358110010960:node.py:get()- No need to evaluate\n"
     ]
    },
    {
     "name": "stderr",
     "output_type": "stream",
     "text": [
      "INFO\tTask(Task-2) nodify.node.140358110010768:node.py:get()- No need to evaluate\n"
     ]
    },
    {
     "name": "stderr",
     "output_type": "stream",
     "text": [
      "INFO\tTask(Task-2) nodify.node.140358110012352:node.py:get()- No need to evaluate\n"
     ]
    },
    {
     "name": "stderr",
     "output_type": "stream",
     "text": [
      "INFO\tTask(Task-2) nodify.node.140358110011728:node.py:get()- No need to evaluate\n"
     ]
    },
    {
     "name": "stderr",
     "output_type": "stream",
     "text": [
      "INFO\tTask(Task-2) nodify.node.140358110019312:node.py:get()- No need to evaluate\n"
     ]
    },
    {
     "name": "stderr",
     "output_type": "stream",
     "text": [
      "INFO\tTask(Task-2) nodify.node.140358110010960:node.py:get()- No need to evaluate\n"
     ]
    },
    {
     "name": "stderr",
     "output_type": "stream",
     "text": [
      "INFO\tTask(Task-2) nodify.node.140358110012784:node.py:get()- No need to evaluate\n"
     ]
    },
    {
     "name": "stderr",
     "output_type": "stream",
     "text": [
      "INFO\tTask(Task-2) nodify.node.140358110018832:node.py:get()- No need to evaluate\n"
     ]
    },
    {
     "name": "stderr",
     "output_type": "stream",
     "text": [
      "INFO\tTask(Task-2) nodify.node.140358110010960:node.py:get()- No need to evaluate\n"
     ]
    },
    {
     "name": "stderr",
     "output_type": "stream",
     "text": [
      "INFO\tTask(Task-2) nodify.node.140358110019408:node.py:get()- No need to evaluate\n"
     ]
    },
    {
     "name": "stderr",
     "output_type": "stream",
     "text": [
      "INFO\tTask(Task-2) nodify.node.140358110016768:node.py:get()- No need to evaluate\n"
     ]
    },
    {
     "name": "stderr",
     "output_type": "stream",
     "text": [
      "INFO\tTask(Task-2) nodify.node.140358110016384:node.py:get()- No need to evaluate\n"
     ]
    },
    {
     "name": "stderr",
     "output_type": "stream",
     "text": [
      "INFO\tTask(Task-2) nodify.node.140358110019120:node.py:get()- Evaluated because inputs changed.\n"
     ]
    },
    {
     "name": "stderr",
     "output_type": "stream",
     "text": [
      "INFO\tTask(Task-2) nodify.node.140358110019552:node.py:get()- Evaluated because inputs changed.\n"
     ]
    },
    {
     "name": "stderr",
     "output_type": "stream",
     "text": [
      "INFO\tTask(Task-2) nodify.node.140358110104800:node.py:get()- Evaluated because inputs changed.\n"
     ]
    },
    {
     "name": "stderr",
     "output_type": "stream",
     "text": [
      "INFO\tTask(Task-2) nodify.node.140358110105280:node.py:get()- Evaluated because inputs changed.\n"
     ]
    },
    {
     "data": {
      "text/html": [
       "<div>            <script src=\"https://cdnjs.cloudflare.com/ajax/libs/mathjax/2.7.5/MathJax.js?config=TeX-AMS-MML_SVG\"></script><script type=\"text/javascript\">if (window.MathJax && window.MathJax.Hub && window.MathJax.Hub.Config) {window.MathJax.Hub.Config({SVG: {font: \"STIX-Web\"}});}</script>                <script type=\"text/javascript\">window.PlotlyConfig = {MathJaxConfig: 'local'};</script>\n",
       "        <script charset=\"utf-8\" src=\"https://cdn.plot.ly/plotly-3.1.1.min.js\" integrity=\"sha256-HUEFyfiTnZJxCxur99FjbKYTvKSzwDaD3/x5TqHpFu4=\" crossorigin=\"anonymous\"></script>                <div id=\"ec066f1e-c243-4c87-acf2-d3c0b7826270\" class=\"plotly-graph-div\" style=\"height:525px; width:100%;\"></div>            <script type=\"text/javascript\">                window.PLOTLYENV=window.PLOTLYENV || {};                                if (document.getElementById(\"ec066f1e-c243-4c87-acf2-d3c0b7826270\")) {                    Plotly.newPlot(                        \"ec066f1e-c243-4c87-acf2-d3c0b7826270\",                        [{\"coloraxis\":\"coloraxis\",\"meta\":{},\"opacity\":1,\"texttemplate\":\"%{z:.2f}\",\"z\":{\"dtype\":\"f8\",\"bdata\":\"Phrwuseb6j+rlqOVK1jpPyCmucYXz9i\\u002f\\u002fhb\\u002fOmyF6T\\u002fAxcAYjmuEvwAAAAAAAPh\\u002fAAAAAAAA+H8AAAAAAAD4fwAAAAAAAPh\\u002fzKXsS\\u002fjMgz8AAAAAAAD4fwAAAAAAAPh\\u002fAAAAAAAA+H8AAAAAAAD4fwAAAAAAAPh\\u002fq5ajlStY6T+kGPkHOmjZP7jYA1kVVrU\\u002fMB2R12O4uL9vHqYIfyHovwAAAAAAAPh\\u002fAAAAAAAA+H8AAAAAAAD4fwAAAAAAAPh\\u002fDvrj\\u002fv9klL8AAAAAAAD4fwAAAAAAAPh\\u002fAAAAAAAA+H8AAAAAAAD4fwAAAAAAAPh\\u002fIKa5xhfP2L+42ANZFVa1P+CfdIIRF9+\\u002fAIA6K+RWYz9gHdalaceaPwAAAAAAAPh\\u002fAAAAAAAA+H8AAAAAAAD4fwAAAAAAAPh\\u002fLWMEwYCopT8AAAAAAAD4fwAAAAAAAPh\\u002fAAAAAAAA+H8AAAAAAAD4fwAAAAAAAPh\\u002f\\u002fhb\\u002fOmyF6T8wHZHXY7i4vwCAOivkVmM\\u002fIAEtqSY+77+LBVEihOPkPwAAAAAAAPh\\u002fAAAAAAAA+H8AAAAAAAD4fwAAAAAAAPh\\u002fTnkA7\\u002fLWnD8AAAAAAAD4fwAAAAAAAPh\\u002fAAAAAAAA+H8AAAAAAAD4fwAAAAAAAPh\\u002fwMXAGI5rhL9vHqYIfyHov2Ad1qVpx5o\\u002fiwVRIoTj5D+0o2N+J4jZPwAAAAAAAPh\\u002fAAAAAAAA+H8AAAAAAAD4fwAAAAAAAPh\\u002fAAAAAAAA+H\\u002fMpexL+MyDPw764\\u002f7\\u002fZJS\\u002fLWMEwYCopT9OeQDv8tacPwAAAAAAAPh\\u002f\",\"shape\":\"5, 15\"},\"zsmooth\":false,\"type\":\"heatmap\"},{\"line\":{\"color\":\"pink\",\"dash\":\"dash\",\"width\":5},\"meta\":{},\"mode\":\"lines\",\"name\":\"orbitals separators\",\"opacity\":0.8,\"showlegend\":false,\"x\":{\"dtype\":\"f8\",\"bdata\":\"AAAAAAAA4L8AAAAAAAASQAAAAAAAAPh\\u002fAAAAAAAA4D8AAAAAAADgPwAAAAAAAPh\\u002f\"},\"y\":{\"dtype\":\"f8\",\"bdata\":\"AAAAAAAA4D8AAAAAAADgPwAAAAAAAPh\\u002fAAAAAAAA4L8AAAAAAAASQAAAAAAAAPh\\u002f\"},\"type\":\"scatter\"},{\"line\":{\"color\":\"gray\"},\"meta\":{},\"mode\":\"lines\",\"name\":\"atoms separators\",\"opacity\":1,\"showlegend\":false,\"x\":{\"dtype\":\"f8\",\"bdata\":\"AAAAAAAA4L8AAAAAAAASQAAAAAAAAPh\\u002fAAAAAAAADEAAAAAAAAAMQAAAAAAAAPh\\u002f\"},\"y\":{\"dtype\":\"f8\",\"bdata\":\"AAAAAAAADEAAAAAAAAAMQAAAAAAAAPh\\u002fAAAAAAAA4L8AAAAAAAASQAAAAAAAAPh\\u002f\"},\"type\":\"scatter\"}],                        {\"template\":{\"layout\":{\"hovermode\":\"closest\",\"paper_bgcolor\":\"white\",\"plot_bgcolor\":\"white\",\"scene\":{\"xaxis\":{\"color\":\"black\",\"gridcolor\":\"#ccc\",\"gridwidth\":1,\"linewidth\":1,\"mirror\":true,\"showgrid\":false,\"showline\":true,\"ticklen\":5,\"ticks\":\"outside\",\"ticksuffix\":\" \",\"visible\":true,\"zeroline\":false,\"zerolinecolor\":\"#ccc\",\"zerolinewidth\":1},\"yaxis\":{\"color\":\"black\",\"gridcolor\":\"#ccc\",\"gridwidth\":1,\"linewidth\":1,\"mirror\":true,\"showgrid\":false,\"showline\":true,\"ticklen\":5,\"ticks\":\"outside\",\"ticksuffix\":\" \",\"visible\":true,\"zeroline\":false,\"zerolinecolor\":\"#ccc\",\"zerolinewidth\":1},\"zaxis\":{\"color\":\"black\",\"gridcolor\":\"#ccc\",\"gridwidth\":1,\"linewidth\":1,\"mirror\":true,\"showgrid\":false,\"showline\":true,\"ticklen\":5,\"ticks\":\"outside\",\"ticksuffix\":\" \",\"visible\":true,\"zeroline\":false,\"zerolinecolor\":\"#ccc\",\"zerolinewidth\":1}},\"xaxis\":{\"color\":\"black\",\"gridcolor\":\"#ccc\",\"gridwidth\":1,\"linewidth\":1,\"mirror\":true,\"showgrid\":false,\"showline\":true,\"ticklen\":5,\"ticks\":\"outside\",\"ticksuffix\":\" \",\"visible\":true,\"zeroline\":false,\"zerolinecolor\":\"#ccc\",\"zerolinewidth\":1},\"yaxis\":{\"color\":\"black\",\"gridcolor\":\"#ccc\",\"gridwidth\":1,\"linewidth\":1,\"mirror\":true,\"showgrid\":false,\"showline\":true,\"ticklen\":5,\"ticks\":\"outside\",\"ticksuffix\":\" \",\"visible\":true,\"zeroline\":false,\"zerolinecolor\":\"#ccc\",\"zerolinewidth\":1}}},\"coloraxis\":{\"colorscale\":[[0.0,\"rgb(0, 147, 146)\"],[0.16666666666666666,\"rgb(57, 177, 133)\"],[0.3333333333333333,\"rgb(156, 203, 134)\"],[0.5,\"rgb(233, 226, 156)\"],[0.6666666666666666,\"rgb(238, 180, 121)\"],[0.8333333333333334,\"rgb(232, 132, 113)\"],[1.0,\"rgb(207, 89, 126)\"]],\"cmid\":0,\"showscale\":true},\"xaxis\":{\"scaleanchor\":\"y\",\"scaleratio\":1,\"range\":[-0.5,14.5],\"constrain\":\"domain\"},\"scene\":{\"aspectmode\":\"data\",\"xaxis\":{\"range\":[-0.5,14.5]},\"yaxis\":{\"range\":[4.5,-0.5]}},\"yaxis\":{\"range\":[4.5,-0.5],\"constrain\":\"domain\"}},                        {\"responsive\": true}                    ).then(function(){\n",
       "                            \n",
       "var gd = document.getElementById('ec066f1e-c243-4c87-acf2-d3c0b7826270');\n",
       "var x = new MutationObserver(function (mutations, observer) {{\n",
       "        var display = window.getComputedStyle(gd).display;\n",
       "        if (!display || display === 'none') {{\n",
       "            console.log([gd, 'removed!']);\n",
       "            Plotly.purge(gd);\n",
       "            observer.disconnect();\n",
       "        }}\n",
       "}});\n",
       "\n",
       "// Listen for the removal of the full notebook cells\n",
       "var notebookContainer = gd.closest('#notebook-container');\n",
       "if (notebookContainer) {{\n",
       "    x.observe(notebookContainer, {childList: true});\n",
       "}}\n",
       "\n",
       "// Listen for the clearing of the current output cell\n",
       "var outputEl = gd.closest('.output');\n",
       "if (outputEl) {{\n",
       "    x.observe(outputEl, {childList: true});\n",
       "}}\n",
       "\n",
       "                        })                };            </script>        </div>"
      ]
     },
     "metadata": {},
     "output_type": "display_data"
    }
   ],
   "source": [
    "plot.update_inputs(isc=None)"
   ]
  },
  {
   "cell_type": "markdown",
   "metadata": {},
   "source": [
    "## Arrows\n",
    "\n",
    "One can ask for an arrow to be drawn on each matrix element. You are free to represent whatever you like as arrows.\n",
    "\n",
    "The arrow specification works the same as for atom arrows in `GeometryPlot`. It is a dictionary with the key `data` containing the arrow data and the styling keys (`color`, `width`, `opacity`...) to tweak the style.\n",
    "\n",
    "However, there is one main difference. If `data` is skipped, vertical arrows are drawn, with the value of the corresponding matrix element defining the length of the arrow:"
   ]
  },
  {
   "cell_type": "code",
   "execution_count": 18,
   "metadata": {
    "execution": {
     "iopub.execute_input": "2025-10-08T12:09:31.473463Z",
     "iopub.status.busy": "2025-10-08T12:09:31.473273Z",
     "iopub.status.idle": "2025-10-08T12:09:33.226762Z",
     "shell.execute_reply": "2025-10-08T12:09:33.226188Z"
    },
    "tags": [
     "nbsphinx-thumbnail"
    ]
   },
   "outputs": [
    {
     "name": "stderr",
     "output_type": "stream",
     "text": [
      "INFO\tTask(Task-2) nodify.node.140358110017536:node.py:get()- No need to evaluate\n"
     ]
    },
    {
     "name": "stderr",
     "output_type": "stream",
     "text": [
      "INFO\tTask(Task-2) nodify.node.140358110010960:node.py:get()- No need to evaluate\n"
     ]
    },
    {
     "name": "stderr",
     "output_type": "stream",
     "text": [
      "INFO\tTask(Task-2) nodify.node.140358110010768:node.py:get()- No need to evaluate\n"
     ]
    },
    {
     "name": "stderr",
     "output_type": "stream",
     "text": [
      "INFO\tTask(Task-2) nodify.node.140358110012352:node.py:get()- No need to evaluate\n"
     ]
    },
    {
     "name": "stderr",
     "output_type": "stream",
     "text": [
      "INFO\tTask(Task-2) nodify.node.140358110011728:node.py:get()- No need to evaluate\n"
     ]
    },
    {
     "name": "stderr",
     "output_type": "stream",
     "text": [
      "INFO\tTask(Task-2) nodify.node.140358110019312:node.py:get()- No need to evaluate\n"
     ]
    },
    {
     "name": "stderr",
     "output_type": "stream",
     "text": [
      "INFO\tTask(Task-2) nodify.node.140358110014464:node.py:get()- No need to evaluate\n"
     ]
    },
    {
     "name": "stderr",
     "output_type": "stream",
     "text": [
      "INFO\tTask(Task-2) nodify.node.140358110014848:node.py:get()- No need to evaluate\n"
     ]
    },
    {
     "name": "stderr",
     "output_type": "stream",
     "text": [
      "INFO\tTask(Task-2) nodify.node.140358110010960:node.py:get()- No need to evaluate\n"
     ]
    },
    {
     "name": "stderr",
     "output_type": "stream",
     "text": [
      "INFO\tTask(Task-2) nodify.node.140358110015232:node.py:get()- No need to evaluate\n"
     ]
    },
    {
     "name": "stderr",
     "output_type": "stream",
     "text": [
      "INFO\tTask(Task-2) nodify.node.140358110014848:node.py:get()- No need to evaluate\n"
     ]
    },
    {
     "name": "stderr",
     "output_type": "stream",
     "text": [
      "INFO\tTask(Task-2) nodify.node.140358110102592:node.py:get()- No need to evaluate\n"
     ]
    },
    {
     "name": "stderr",
     "output_type": "stream",
     "text": [
      "INFO\tTask(Task-2) nodify.node.140358110014080:node.py:get()- No need to evaluate\n"
     ]
    },
    {
     "name": "stderr",
     "output_type": "stream",
     "text": [
      "INFO\tTask(Task-2) nodify.node.140358110015616:node.py:get()- No need to evaluate\n"
     ]
    },
    {
     "name": "stderr",
     "output_type": "stream",
     "text": [
      "INFO\tTask(Task-2) nodify.node.140358110016000:node.py:get()- No need to evaluate\n"
     ]
    },
    {
     "name": "stderr",
     "output_type": "stream",
     "text": [
      "INFO\tTask(Task-2) nodify.node.140358110102496:node.py:get()- No need to evaluate\n"
     ]
    },
    {
     "name": "stderr",
     "output_type": "stream",
     "text": [
      "INFO\tTask(Task-2) nodify.node.140358110010960:node.py:get()- No need to evaluate\n"
     ]
    },
    {
     "name": "stderr",
     "output_type": "stream",
     "text": [
      "INFO\tTask(Task-2) nodify.node.140358110010768:node.py:get()- No need to evaluate\n"
     ]
    },
    {
     "name": "stderr",
     "output_type": "stream",
     "text": [
      "INFO\tTask(Task-2) nodify.node.140358110012352:node.py:get()- No need to evaluate\n"
     ]
    },
    {
     "name": "stderr",
     "output_type": "stream",
     "text": [
      "INFO\tTask(Task-2) nodify.node.140358110011728:node.py:get()- No need to evaluate\n"
     ]
    },
    {
     "name": "stderr",
     "output_type": "stream",
     "text": [
      "INFO\tTask(Task-2) nodify.node.140358110019312:node.py:get()- No need to evaluate\n"
     ]
    },
    {
     "name": "stderr",
     "output_type": "stream",
     "text": [
      "INFO\tTask(Task-2) nodify.node.140358110017152:node.py:get()- Evaluated because inputs changed.\n"
     ]
    },
    {
     "name": "stderr",
     "output_type": "stream",
     "text": [
      "INFO\tTask(Task-2) nodify.node.140358110103264:node.py:get()- Evaluated because inputs changed.\n"
     ]
    },
    {
     "name": "stderr",
     "output_type": "stream",
     "text": [
      "INFO\tTask(Task-2) nodify.node.140358110102640:node.py:get()- Evaluated because inputs changed.\n"
     ]
    },
    {
     "name": "stderr",
     "output_type": "stream",
     "text": [
      "INFO\tTask(Task-2) nodify.node.140358110012928:node.py:get()- No need to evaluate\n"
     ]
    },
    {
     "name": "stderr",
     "output_type": "stream",
     "text": [
      "INFO\tTask(Task-2) nodify.node.140358110010960:node.py:get()- No need to evaluate\n"
     ]
    },
    {
     "name": "stderr",
     "output_type": "stream",
     "text": [
      "INFO\tTask(Task-2) nodify.node.140358110012784:node.py:get()- No need to evaluate\n"
     ]
    },
    {
     "name": "stderr",
     "output_type": "stream",
     "text": [
      "INFO\tTask(Task-2) nodify.node.140358110018832:node.py:get()- No need to evaluate\n"
     ]
    },
    {
     "name": "stderr",
     "output_type": "stream",
     "text": [
      "INFO\tTask(Task-2) nodify.node.140358110010960:node.py:get()- No need to evaluate\n"
     ]
    },
    {
     "name": "stderr",
     "output_type": "stream",
     "text": [
      "INFO\tTask(Task-2) nodify.node.140358110019408:node.py:get()- No need to evaluate\n"
     ]
    },
    {
     "name": "stderr",
     "output_type": "stream",
     "text": [
      "INFO\tTask(Task-2) nodify.node.140358110103312:node.py:get()- No need to evaluate\n"
     ]
    },
    {
     "name": "stderr",
     "output_type": "stream",
     "text": [
      "INFO\tTask(Task-2) nodify.node.140358110013264:node.py:get()- No need to evaluate\n"
     ]
    },
    {
     "name": "stderr",
     "output_type": "stream",
     "text": [
      "INFO\tTask(Task-2) nodify.node.140358110010960:node.py:get()- No need to evaluate\n"
     ]
    },
    {
     "name": "stderr",
     "output_type": "stream",
     "text": [
      "INFO\tTask(Task-2) nodify.node.140358110012784:node.py:get()- No need to evaluate\n"
     ]
    },
    {
     "name": "stderr",
     "output_type": "stream",
     "text": [
      "INFO\tTask(Task-2) nodify.node.140358110018832:node.py:get()- No need to evaluate\n"
     ]
    },
    {
     "name": "stderr",
     "output_type": "stream",
     "text": [
      "INFO\tTask(Task-2) nodify.node.140358110010960:node.py:get()- No need to evaluate\n"
     ]
    },
    {
     "name": "stderr",
     "output_type": "stream",
     "text": [
      "INFO\tTask(Task-2) nodify.node.140358110019408:node.py:get()- No need to evaluate\n"
     ]
    },
    {
     "name": "stderr",
     "output_type": "stream",
     "text": [
      "INFO\tTask(Task-2) nodify.node.140358110103984:node.py:get()- No need to evaluate\n"
     ]
    },
    {
     "name": "stderr",
     "output_type": "stream",
     "text": [
      "INFO\tTask(Task-2) nodify.node.140358110013648:node.py:get()- No need to evaluate\n"
     ]
    },
    {
     "name": "stderr",
     "output_type": "stream",
     "text": [
      "INFO\tTask(Task-2) nodify.node.140358110010960:node.py:get()- No need to evaluate\n"
     ]
    },
    {
     "name": "stderr",
     "output_type": "stream",
     "text": [
      "INFO\tTask(Task-2) nodify.node.140358110012784:node.py:get()- No need to evaluate\n"
     ]
    },
    {
     "name": "stderr",
     "output_type": "stream",
     "text": [
      "INFO\tTask(Task-2) nodify.node.140358110018832:node.py:get()- No need to evaluate\n"
     ]
    },
    {
     "name": "stderr",
     "output_type": "stream",
     "text": [
      "INFO\tTask(Task-2) nodify.node.140358110010960:node.py:get()- No need to evaluate\n"
     ]
    },
    {
     "name": "stderr",
     "output_type": "stream",
     "text": [
      "INFO\tTask(Task-2) nodify.node.140358110019408:node.py:get()- No need to evaluate\n"
     ]
    },
    {
     "name": "stderr",
     "output_type": "stream",
     "text": [
      "INFO\tTask(Task-2) nodify.node.140358110104320:node.py:get()- No need to evaluate\n"
     ]
    },
    {
     "name": "stderr",
     "output_type": "stream",
     "text": [
      "INFO\tTask(Task-2) nodify.node.140358110010960:node.py:get()- No need to evaluate\n"
     ]
    },
    {
     "name": "stderr",
     "output_type": "stream",
     "text": [
      "INFO\tTask(Task-2) nodify.node.140358110010768:node.py:get()- No need to evaluate\n"
     ]
    },
    {
     "name": "stderr",
     "output_type": "stream",
     "text": [
      "INFO\tTask(Task-2) nodify.node.140358110012352:node.py:get()- No need to evaluate\n"
     ]
    },
    {
     "name": "stderr",
     "output_type": "stream",
     "text": [
      "INFO\tTask(Task-2) nodify.node.140358110011728:node.py:get()- No need to evaluate\n"
     ]
    },
    {
     "name": "stderr",
     "output_type": "stream",
     "text": [
      "INFO\tTask(Task-2) nodify.node.140358110019312:node.py:get()- No need to evaluate\n"
     ]
    },
    {
     "name": "stderr",
     "output_type": "stream",
     "text": [
      "INFO\tTask(Task-2) nodify.node.140358110010960:node.py:get()- No need to evaluate\n"
     ]
    },
    {
     "name": "stderr",
     "output_type": "stream",
     "text": [
      "INFO\tTask(Task-2) nodify.node.140358110012784:node.py:get()- No need to evaluate\n"
     ]
    },
    {
     "name": "stderr",
     "output_type": "stream",
     "text": [
      "INFO\tTask(Task-2) nodify.node.140358110018832:node.py:get()- No need to evaluate\n"
     ]
    },
    {
     "name": "stderr",
     "output_type": "stream",
     "text": [
      "INFO\tTask(Task-2) nodify.node.140358110010960:node.py:get()- No need to evaluate\n"
     ]
    },
    {
     "name": "stderr",
     "output_type": "stream",
     "text": [
      "INFO\tTask(Task-2) nodify.node.140358110019408:node.py:get()- No need to evaluate\n"
     ]
    },
    {
     "name": "stderr",
     "output_type": "stream",
     "text": [
      "INFO\tTask(Task-2) nodify.node.140358110016768:node.py:get()- No need to evaluate\n"
     ]
    },
    {
     "name": "stderr",
     "output_type": "stream",
     "text": [
      "INFO\tTask(Task-2) nodify.node.140358110016384:node.py:get()- No need to evaluate\n"
     ]
    },
    {
     "name": "stderr",
     "output_type": "stream",
     "text": [
      "INFO\tTask(Task-2) nodify.node.140358110019120:node.py:get()- No need to evaluate\n"
     ]
    },
    {
     "name": "stderr",
     "output_type": "stream",
     "text": [
      "INFO\tTask(Task-2) nodify.node.140358110019552:node.py:get()- Evaluated because inputs changed.\n"
     ]
    },
    {
     "name": "stderr",
     "output_type": "stream",
     "text": [
      "INFO\tTask(Task-2) nodify.node.140358110104800:node.py:get()- Evaluated because inputs changed.\n"
     ]
    },
    {
     "name": "stderr",
     "output_type": "stream",
     "text": [
      "INFO\tTask(Task-2) nodify.node.140358110105280:node.py:get()- Evaluated because inputs changed.\n"
     ]
    },
    {
     "data": {
      "image/png": "[encoded data removed]"
     },
     "metadata": {},
     "output_type": "display_data"
    }
   ],
   "source": [
    "plot.update_inputs(arrows={\"color\": \"blue\"}).show(\"png\")"
   ]
  },
  {
   "cell_type": "markdown",
   "metadata": {},
   "source": [
    "**Arrows are normalized so that they fit the box** of their matrix element.\n",
    "\n",
    "It may be that pixel colors and numbers make it difficult to visualize the arrows. In that case, you can disable them both. We have already seen how to disable text. For pixel colors there's the `color_pixels` input, which is a switch to turn them on or off:"
   ]
  },
  {
   "cell_type": "code",
   "execution_count": 19,
   "metadata": {
    "execution": {
     "iopub.execute_input": "2025-10-08T12:09:33.228858Z",
     "iopub.status.busy": "2025-10-08T12:09:33.228612Z",
     "iopub.status.idle": "2025-10-08T12:09:33.387286Z",
     "shell.execute_reply": "2025-10-08T12:09:33.386686Z"
    }
   },
   "outputs": [
    {
     "name": "stderr",
     "output_type": "stream",
     "text": [
      "INFO\tTask(Task-2) nodify.node.140358110017536:node.py:get()- No need to evaluate\n"
     ]
    },
    {
     "name": "stderr",
     "output_type": "stream",
     "text": [
      "INFO\tTask(Task-2) nodify.node.140358110010960:node.py:get()- No need to evaluate\n"
     ]
    },
    {
     "name": "stderr",
     "output_type": "stream",
     "text": [
      "INFO\tTask(Task-2) nodify.node.140358110010768:node.py:get()- No need to evaluate\n"
     ]
    },
    {
     "name": "stderr",
     "output_type": "stream",
     "text": [
      "INFO\tTask(Task-2) nodify.node.140358110012352:node.py:get()- No need to evaluate\n"
     ]
    },
    {
     "name": "stderr",
     "output_type": "stream",
     "text": [
      "INFO\tTask(Task-2) nodify.node.140358110011728:node.py:get()- No need to evaluate\n"
     ]
    },
    {
     "name": "stderr",
     "output_type": "stream",
     "text": [
      "INFO\tTask(Task-2) nodify.node.140358110019312:node.py:get()- No need to evaluate\n"
     ]
    },
    {
     "name": "stderr",
     "output_type": "stream",
     "text": [
      "INFO\tTask(Task-2) nodify.node.140358110014464:node.py:get()- No need to evaluate\n"
     ]
    },
    {
     "name": "stderr",
     "output_type": "stream",
     "text": [
      "INFO\tTask(Task-2) nodify.node.140358110014848:node.py:get()- No need to evaluate\n"
     ]
    },
    {
     "name": "stderr",
     "output_type": "stream",
     "text": [
      "INFO\tTask(Task-2) nodify.node.140358110010960:node.py:get()- No need to evaluate\n"
     ]
    },
    {
     "name": "stderr",
     "output_type": "stream",
     "text": [
      "INFO\tTask(Task-2) nodify.node.140358110015232:node.py:get()- No need to evaluate\n"
     ]
    },
    {
     "name": "stderr",
     "output_type": "stream",
     "text": [
      "INFO\tTask(Task-2) nodify.node.140358110014848:node.py:get()- No need to evaluate\n"
     ]
    },
    {
     "name": "stderr",
     "output_type": "stream",
     "text": [
      "INFO\tTask(Task-2) nodify.node.140358110102592:node.py:get()- No need to evaluate\n"
     ]
    },
    {
     "name": "stderr",
     "output_type": "stream",
     "text": [
      "INFO\tTask(Task-2) nodify.node.140358110014080:node.py:get()- Evaluated because inputs changed.\n"
     ]
    },
    {
     "name": "stderr",
     "output_type": "stream",
     "text": [
      "INFO\tTask(Task-2) nodify.node.140358110015616:node.py:get()- Evaluated because inputs changed.\n"
     ]
    },
    {
     "name": "stderr",
     "output_type": "stream",
     "text": [
      "INFO\tTask(Task-2) nodify.node.140358110016000:node.py:get()- No need to evaluate\n"
     ]
    },
    {
     "name": "stderr",
     "output_type": "stream",
     "text": [
      "INFO\tTask(Task-2) nodify.node.140358110102496:node.py:get()- Evaluated because inputs changed.\n"
     ]
    },
    {
     "name": "stderr",
     "output_type": "stream",
     "text": [
      "INFO\tTask(Task-2) nodify.node.140358110010960:node.py:get()- No need to evaluate\n"
     ]
    },
    {
     "name": "stderr",
     "output_type": "stream",
     "text": [
      "INFO\tTask(Task-2) nodify.node.140358110010768:node.py:get()- No need to evaluate\n"
     ]
    },
    {
     "name": "stderr",
     "output_type": "stream",
     "text": [
      "INFO\tTask(Task-2) nodify.node.140358110012352:node.py:get()- No need to evaluate\n"
     ]
    },
    {
     "name": "stderr",
     "output_type": "stream",
     "text": [
      "INFO\tTask(Task-2) nodify.node.140358110011728:node.py:get()- No need to evaluate\n"
     ]
    },
    {
     "name": "stderr",
     "output_type": "stream",
     "text": [
      "INFO\tTask(Task-2) nodify.node.140358110019312:node.py:get()- No need to evaluate\n"
     ]
    },
    {
     "name": "stderr",
     "output_type": "stream",
     "text": [
      "INFO\tTask(Task-2) nodify.node.140358110017152:node.py:get()- No need to evaluate\n"
     ]
    },
    {
     "name": "stderr",
     "output_type": "stream",
     "text": [
      "INFO\tTask(Task-2) nodify.node.140358110103264:node.py:get()- No need to evaluate\n"
     ]
    },
    {
     "name": "stderr",
     "output_type": "stream",
     "text": [
      "INFO\tTask(Task-2) nodify.node.140358110102640:node.py:get()- No need to evaluate\n"
     ]
    },
    {
     "name": "stderr",
     "output_type": "stream",
     "text": [
      "INFO\tTask(Task-2) nodify.node.140358110012928:node.py:get()- No need to evaluate\n"
     ]
    },
    {
     "name": "stderr",
     "output_type": "stream",
     "text": [
      "INFO\tTask(Task-2) nodify.node.140358110010960:node.py:get()- No need to evaluate\n"
     ]
    },
    {
     "name": "stderr",
     "output_type": "stream",
     "text": [
      "INFO\tTask(Task-2) nodify.node.140358110012784:node.py:get()- No need to evaluate\n"
     ]
    },
    {
     "name": "stderr",
     "output_type": "stream",
     "text": [
      "INFO\tTask(Task-2) nodify.node.140358110018832:node.py:get()- No need to evaluate\n"
     ]
    },
    {
     "name": "stderr",
     "output_type": "stream",
     "text": [
      "INFO\tTask(Task-2) nodify.node.140358110010960:node.py:get()- No need to evaluate\n"
     ]
    },
    {
     "name": "stderr",
     "output_type": "stream",
     "text": [
      "INFO\tTask(Task-2) nodify.node.140358110019408:node.py:get()- No need to evaluate\n"
     ]
    },
    {
     "name": "stderr",
     "output_type": "stream",
     "text": [
      "INFO\tTask(Task-2) nodify.node.140358110103312:node.py:get()- No need to evaluate\n"
     ]
    },
    {
     "name": "stderr",
     "output_type": "stream",
     "text": [
      "INFO\tTask(Task-2) nodify.node.140358110013264:node.py:get()- No need to evaluate\n"
     ]
    },
    {
     "name": "stderr",
     "output_type": "stream",
     "text": [
      "INFO\tTask(Task-2) nodify.node.140358110010960:node.py:get()- No need to evaluate\n"
     ]
    },
    {
     "name": "stderr",
     "output_type": "stream",
     "text": [
      "INFO\tTask(Task-2) nodify.node.140358110012784:node.py:get()- No need to evaluate\n"
     ]
    },
    {
     "name": "stderr",
     "output_type": "stream",
     "text": [
      "INFO\tTask(Task-2) nodify.node.140358110018832:node.py:get()- No need to evaluate\n"
     ]
    },
    {
     "name": "stderr",
     "output_type": "stream",
     "text": [
      "INFO\tTask(Task-2) nodify.node.140358110010960:node.py:get()- No need to evaluate\n"
     ]
    },
    {
     "name": "stderr",
     "output_type": "stream",
     "text": [
      "INFO\tTask(Task-2) nodify.node.140358110019408:node.py:get()- No need to evaluate\n"
     ]
    },
    {
     "name": "stderr",
     "output_type": "stream",
     "text": [
      "INFO\tTask(Task-2) nodify.node.140358110103984:node.py:get()- No need to evaluate\n"
     ]
    },
    {
     "name": "stderr",
     "output_type": "stream",
     "text": [
      "INFO\tTask(Task-2) nodify.node.140358110013648:node.py:get()- No need to evaluate\n"
     ]
    },
    {
     "name": "stderr",
     "output_type": "stream",
     "text": [
      "INFO\tTask(Task-2) nodify.node.140358110010960:node.py:get()- No need to evaluate\n"
     ]
    },
    {
     "name": "stderr",
     "output_type": "stream",
     "text": [
      "INFO\tTask(Task-2) nodify.node.140358110012784:node.py:get()- No need to evaluate\n"
     ]
    },
    {
     "name": "stderr",
     "output_type": "stream",
     "text": [
      "INFO\tTask(Task-2) nodify.node.140358110018832:node.py:get()- No need to evaluate\n"
     ]
    },
    {
     "name": "stderr",
     "output_type": "stream",
     "text": [
      "INFO\tTask(Task-2) nodify.node.140358110010960:node.py:get()- No need to evaluate\n"
     ]
    },
    {
     "name": "stderr",
     "output_type": "stream",
     "text": [
      "INFO\tTask(Task-2) nodify.node.140358110019408:node.py:get()- No need to evaluate\n"
     ]
    },
    {
     "name": "stderr",
     "output_type": "stream",
     "text": [
      "INFO\tTask(Task-2) nodify.node.140358110104320:node.py:get()- No need to evaluate\n"
     ]
    },
    {
     "name": "stderr",
     "output_type": "stream",
     "text": [
      "INFO\tTask(Task-2) nodify.node.140358110010960:node.py:get()- No need to evaluate\n"
     ]
    },
    {
     "name": "stderr",
     "output_type": "stream",
     "text": [
      "INFO\tTask(Task-2) nodify.node.140358110010768:node.py:get()- No need to evaluate\n"
     ]
    },
    {
     "name": "stderr",
     "output_type": "stream",
     "text": [
      "INFO\tTask(Task-2) nodify.node.140358110012352:node.py:get()- No need to evaluate\n"
     ]
    },
    {
     "name": "stderr",
     "output_type": "stream",
     "text": [
      "INFO\tTask(Task-2) nodify.node.140358110011728:node.py:get()- No need to evaluate\n"
     ]
    },
    {
     "name": "stderr",
     "output_type": "stream",
     "text": [
      "INFO\tTask(Task-2) nodify.node.140358110019312:node.py:get()- No need to evaluate\n"
     ]
    },
    {
     "name": "stderr",
     "output_type": "stream",
     "text": [
      "INFO\tTask(Task-2) nodify.node.140358110010960:node.py:get()- No need to evaluate\n"
     ]
    },
    {
     "name": "stderr",
     "output_type": "stream",
     "text": [
      "INFO\tTask(Task-2) nodify.node.140358110012784:node.py:get()- No need to evaluate\n"
     ]
    },
    {
     "name": "stderr",
     "output_type": "stream",
     "text": [
      "INFO\tTask(Task-2) nodify.node.140358110018832:node.py:get()- No need to evaluate\n"
     ]
    },
    {
     "name": "stderr",
     "output_type": "stream",
     "text": [
      "INFO\tTask(Task-2) nodify.node.140358110010960:node.py:get()- No need to evaluate\n"
     ]
    },
    {
     "name": "stderr",
     "output_type": "stream",
     "text": [
      "INFO\tTask(Task-2) nodify.node.140358110019408:node.py:get()- No need to evaluate\n"
     ]
    },
    {
     "name": "stderr",
     "output_type": "stream",
     "text": [
      "INFO\tTask(Task-2) nodify.node.140358110016768:node.py:get()- No need to evaluate\n"
     ]
    },
    {
     "name": "stderr",
     "output_type": "stream",
     "text": [
      "INFO\tTask(Task-2) nodify.node.140358110016384:node.py:get()- No need to evaluate\n"
     ]
    },
    {
     "name": "stderr",
     "output_type": "stream",
     "text": [
      "INFO\tTask(Task-2) nodify.node.140358110019120:node.py:get()- No need to evaluate\n"
     ]
    },
    {
     "name": "stderr",
     "output_type": "stream",
     "text": [
      "INFO\tTask(Task-2) nodify.node.140358110019552:node.py:get()- Evaluated because inputs changed.\n"
     ]
    },
    {
     "name": "stderr",
     "output_type": "stream",
     "text": [
      "INFO\tTask(Task-2) nodify.node.140358110104800:node.py:get()- Evaluated because inputs changed.\n"
     ]
    },
    {
     "name": "stderr",
     "output_type": "stream",
     "text": [
      "INFO\tTask(Task-2) nodify.node.140358110105280:node.py:get()- Evaluated because inputs changed.\n"
     ]
    },
    {
     "data": {
      "text/html": [
       "<div>            <script src=\"https://cdnjs.cloudflare.com/ajax/libs/mathjax/2.7.5/MathJax.js?config=TeX-AMS-MML_SVG\"></script><script type=\"text/javascript\">if (window.MathJax && window.MathJax.Hub && window.MathJax.Hub.Config) {window.MathJax.Hub.Config({SVG: {font: \"STIX-Web\"}});}</script>                <script type=\"text/javascript\">window.PlotlyConfig = {MathJaxConfig: 'local'};</script>\n",
       "        <script charset=\"utf-8\" src=\"https://cdn.plot.ly/plotly-3.1.1.min.js\" integrity=\"sha256-HUEFyfiTnZJxCxur99FjbKYTvKSzwDaD3/x5TqHpFu4=\" crossorigin=\"anonymous\"></script>                <div id=\"d4974ec1-78f0-484b-ba66-76f03d80a926\" class=\"plotly-graph-div\" style=\"height:525px; width:100%;\"></div>            <script type=\"text/javascript\">                window.PLOTLYENV=window.PLOTLYENV || {};                                if (document.getElementById(\"d4974ec1-78f0-484b-ba66-76f03d80a926\")) {                    Plotly.newPlot(                        \"d4974ec1-78f0-484b-ba66-76f03d80a926\",                        [{\"coloraxis\":\"coloraxis\",\"meta\":{},\"opacity\":0,\"textfont\":{\"color\":\"black\"},\"z\":{\"dtype\":\"f8\",\"bdata\":\"Phrwuseb6j+rlqOVK1jpPyCmucYXz9i\\u002f\\u002fhb\\u002fOmyF6T\\u002fAxcAYjmuEvwAAAAAAAPh\\u002fAAAAAAAA+H8AAAAAAAD4fwAAAAAAAPh\\u002fzKXsS\\u002fjMgz8AAAAAAAD4fwAAAAAAAPh\\u002fAAAAAAAA+H8AAAAAAAD4fwAAAAAAAPh\\u002fq5ajlStY6T+kGPkHOmjZP7jYA1kVVrU\\u002fMB2R12O4uL9vHqYIfyHovwAAAAAAAPh\\u002fAAAAAAAA+H8AAAAAAAD4fwAAAAAAAPh\\u002fDvrj\\u002fv9klL8AAAAAAAD4fwAAAAAAAPh\\u002fAAAAAAAA+H8AAAAAAAD4fwAAAAAAAPh\\u002fIKa5xhfP2L+42ANZFVa1P+CfdIIRF9+\\u002fAIA6K+RWYz9gHdalaceaPwAAAAAAAPh\\u002fAAAAAAAA+H8AAAAAAAD4fwAAAAAAAPh\\u002fLWMEwYCopT8AAAAAAAD4fwAAAAAAAPh\\u002fAAAAAAAA+H8AAAAAAAD4fwAAAAAAAPh\\u002f\\u002fhb\\u002fOmyF6T8wHZHXY7i4vwCAOivkVmM\\u002fIAEtqSY+77+LBVEihOPkPwAAAAAAAPh\\u002fAAAAAAAA+H8AAAAAAAD4fwAAAAAAAPh\\u002fTnkA7\\u002fLWnD8AAAAAAAD4fwAAAAAAAPh\\u002fAAAAAAAA+H8AAAAAAAD4fwAAAAAAAPh\\u002fwMXAGI5rhL9vHqYIfyHov2Ad1qVpx5o\\u002fiwVRIoTj5D+0o2N+J4jZPwAAAAAAAPh\\u002fAAAAAAAA+H8AAAAAAAD4fwAAAAAAAPh\\u002fAAAAAAAA+H\\u002fMpexL+MyDPw764\\u002f7\\u002fZJS\\u002fLWMEwYCopT9OeQDv8tacPwAAAAAAAPh\\u002f\",\"shape\":\"5, 15\"},\"zsmooth\":false,\"type\":\"heatmap\"},{\"hovertext\":[\"[ 0.         -0.85166936]\",\"[ 0.         -0.85166936]\",\"[ 0.         -0.85166936]\",\"[ 0.         -0.85166936]\",\"[ 0.         -0.85166936]\",\"[ 0.         -0.85166936]\",\"[ 0.         -0.85166936]\",\"[ 0.         -0.81120877]\",\"[ 0.         -0.81120877]\",\"[ 0.         -0.81120877]\",\"[ 0.         -0.81120877]\",\"[ 0.         -0.81120877]\",\"[ 0.         -0.81120877]\",\"[ 0.         -0.81120877]\",\"[0.         0.39703507]\",\"[0.         0.39703507]\",\"[0.         0.39703507]\",\"[0.         0.39703507]\",\"[0.         0.39703507]\",\"[0.         0.39703507]\",\"[0.         0.39703507]\",\"[ 0.         -0.81686664]\",\"[ 0.         -0.81686664]\",\"[ 0.         -0.81686664]\",\"[ 0.         -0.81686664]\",\"[ 0.         -0.81686664]\",\"[ 0.         -0.81686664]\",\"[ 0.         -0.81686664]\",\"[0.         0.01021243]\",\"[0.         0.01021243]\",\"[0.         0.01021243]\",\"[0.         0.01021243]\",\"[0.         0.01021243]\",\"[0.         0.01021243]\",\"[0.         0.01021243]\",\"[ 0. nan]\",\"[ 0. nan]\",\"[ 0. nan]\",\"[ 0. nan]\",\"[ 0. nan]\",\"[ 0. nan]\",\"[ 0. nan]\",\"[ 0. nan]\",\"[ 0. nan]\",\"[ 0. nan]\",\"[ 0. nan]\",\"[ 0. nan]\",\"[ 0. nan]\",\"[ 0. nan]\",\"[ 0. nan]\",\"[ 0. nan]\",\"[ 0. nan]\",\"[ 0. nan]\",\"[ 0. nan]\",\"[ 0. nan]\",\"[ 0. nan]\",\"[ 0. nan]\",\"[ 0. nan]\",\"[ 0. nan]\",\"[ 0. nan]\",\"[ 0. nan]\",\"[ 0. nan]\",\"[ 0. nan]\",\"[ 0.         -0.00990262]\",\"[ 0.         -0.00990262]\",\"[ 0.         -0.00990262]\",\"[ 0.         -0.00990262]\",\"[ 0.         -0.00990262]\",\"[ 0.         -0.00990262]\",\"[ 0.         -0.00990262]\",\"[ 0. nan]\",\"[ 0. nan]\",\"[ 0. nan]\",\"[ 0. nan]\",\"[ 0. nan]\",\"[ 0. nan]\",\"[ 0. nan]\",\"[ 0. nan]\",\"[ 0. nan]\",\"[ 0. nan]\",\"[ 0. nan]\",\"[ 0. nan]\",\"[ 0. nan]\",\"[ 0. nan]\",\"[ 0. nan]\",\"[ 0. nan]\",\"[ 0. nan]\",\"[ 0. nan]\",\"[ 0. nan]\",\"[ 0. nan]\",\"[ 0. nan]\",\"[ 0. nan]\",\"[ 0. nan]\",\"[ 0. nan]\",\"[ 0. nan]\",\"[ 0. nan]\",\"[ 0. nan]\",\"[ 0. nan]\",\"[ 0. nan]\",\"[ 0. nan]\",\"[ 0. nan]\",\"[ 0. nan]\",\"[ 0. nan]\",\"[ 0. nan]\",\"[ 0. nan]\",\"[ 0.         -0.81120877]\",\"[ 0.         -0.81120877]\",\"[ 0.         -0.81120877]\",\"[ 0.         -0.81120877]\",\"[ 0.         -0.81120877]\",\"[ 0.         -0.81120877]\",\"[ 0.         -0.81120877]\",\"[ 0.         -0.40660814]\",\"[ 0.         -0.40660814]\",\"[ 0.         -0.40660814]\",\"[ 0.         -0.40660814]\",\"[ 0.         -0.40660814]\",\"[ 0.         -0.40660814]\",\"[ 0.         -0.40660814]\",\"[ 0.         -0.08536478]\",\"[ 0.         -0.08536478]\",\"[ 0.         -0.08536478]\",\"[ 0.         -0.08536478]\",\"[ 0.         -0.08536478]\",\"[ 0.         -0.08536478]\",\"[ 0.         -0.08536478]\",\"[0.         0.09890395]\",\"[0.         0.09890395]\",\"[0.         0.09890395]\",\"[0.         0.09890395]\",\"[0.         0.09890395]\",\"[0.         0.09890395]\",\"[0.         0.09890395]\",\"[0.         0.77236554]\",\"[0.         0.77236554]\",\"[0.         0.77236554]\",\"[0.         0.77236554]\",\"[0.         0.77236554]\",\"[0.         0.77236554]\",\"[0.         0.77236554]\",\"[ 0. nan]\",\"[ 0. nan]\",\"[ 0. nan]\",\"[ 0. nan]\",\"[ 0. nan]\",\"[ 0. nan]\",\"[ 0. nan]\",\"[ 0. nan]\",\"[ 0. nan]\",\"[ 0. nan]\",\"[ 0. nan]\",\"[ 0. nan]\",\"[ 0. nan]\",\"[ 0. nan]\",\"[ 0. nan]\",\"[ 0. nan]\",\"[ 0. nan]\",\"[ 0. nan]\",\"[ 0. nan]\",\"[ 0. nan]\",\"[ 0. nan]\",\"[ 0. nan]\",\"[ 0. nan]\",\"[ 0. nan]\",\"[ 0. nan]\",\"[ 0. nan]\",\"[ 0. nan]\",\"[ 0. nan]\",\"[0.         0.02039925]\",\"[0.         0.02039925]\",\"[0.         0.02039925]\",\"[0.         0.02039925]\",\"[0.         0.02039925]\",\"[0.         0.02039925]\",\"[0.         0.02039925]\",\"[ 0. nan]\",\"[ 0. nan]\",\"[ 0. nan]\",\"[ 0. nan]\",\"[ 0. nan]\",\"[ 0. nan]\",\"[ 0. nan]\",\"[ 0. nan]\",\"[ 0. nan]\",\"[ 0. nan]\",\"[ 0. nan]\",\"[ 0. nan]\",\"[ 0. nan]\",\"[ 0. nan]\",\"[ 0. nan]\",\"[ 0. nan]\",\"[ 0. nan]\",\"[ 0. nan]\",\"[ 0. nan]\",\"[ 0. nan]\",\"[ 0. nan]\",\"[ 0. nan]\",\"[ 0. nan]\",\"[ 0. nan]\",\"[ 0. nan]\",\"[ 0. nan]\",\"[ 0. nan]\",\"[ 0. nan]\",\"[ 0. nan]\",\"[ 0. nan]\",\"[ 0. nan]\",\"[ 0. nan]\",\"[ 0. nan]\",\"[ 0. nan]\",\"[ 0. nan]\",\"[0.         0.39703507]\",\"[0.         0.39703507]\",\"[0.         0.39703507]\",\"[0.         0.39703507]\",\"[0.         0.39703507]\",\"[0.         0.39703507]\",\"[0.         0.39703507]\",\"[ 0.         -0.08536478]\",\"[ 0.         -0.08536478]\",\"[ 0.         -0.08536478]\",\"[ 0.         -0.08536478]\",\"[ 0.         -0.08536478]\",\"[ 0.         -0.08536478]\",\"[ 0.         -0.08536478]\",\"[0.         0.49755677]\",\"[0.         0.49755677]\",\"[0.         0.49755677]\",\"[0.         0.49755677]\",\"[0.         0.49755677]\",\"[0.         0.49755677]\",\"[0.         0.49755677]\",\"[ 0.         -0.00241799]\",\"[ 0.         -0.00241799]\",\"[ 0.         -0.00241799]\",\"[ 0.         -0.00241799]\",\"[ 0.         -0.00241799]\",\"[ 0.         -0.00241799]\",\"[ 0.         -0.00241799]\",\"[ 0.         -0.02678515]\",\"[ 0.         -0.02678515]\",\"[ 0.         -0.02678515]\",\"[ 0.         -0.02678515]\",\"[ 0.         -0.02678515]\",\"[ 0.         -0.02678515]\",\"[ 0.         -0.02678515]\",\"[ 0. nan]\",\"[ 0. nan]\",\"[ 0. nan]\",\"[ 0. nan]\",\"[ 0. nan]\",\"[ 0. nan]\",\"[ 0. nan]\",\"[ 0. nan]\",\"[ 0. nan]\",\"[ 0. nan]\",\"[ 0. nan]\",\"[ 0. nan]\",\"[ 0. nan]\",\"[ 0. nan]\",\"[ 0. nan]\",\"[ 0. nan]\",\"[ 0. nan]\",\"[ 0. nan]\",\"[ 0. nan]\",\"[ 0. nan]\",\"[ 0. nan]\",\"[ 0. nan]\",\"[ 0. nan]\",\"[ 0. nan]\",\"[ 0. nan]\",\"[ 0. nan]\",\"[ 0. nan]\",\"[ 0. nan]\",\"[ 0.         -0.04332644]\",\"[ 0.         -0.04332644]\",\"[ 0.         -0.04332644]\",\"[ 0.         -0.04332644]\",\"[ 0.         -0.04332644]\",\"[ 0.         -0.04332644]\",\"[ 0.         -0.04332644]\",\"[ 0. nan]\",\"[ 0. nan]\",\"[ 0. nan]\",\"[ 0. nan]\",\"[ 0. nan]\",\"[ 0. nan]\",\"[ 0. nan]\",\"[ 0. nan]\",\"[ 0. nan]\",\"[ 0. nan]\",\"[ 0. nan]\",\"[ 0. nan]\",\"[ 0. nan]\",\"[ 0. nan]\",\"[ 0. nan]\",\"[ 0. nan]\",\"[ 0. nan]\",\"[ 0. nan]\",\"[ 0. nan]\",\"[ 0. nan]\",\"[ 0. nan]\",\"[ 0. nan]\",\"[ 0. nan]\",\"[ 0. nan]\",\"[ 0. nan]\",\"[ 0. nan]\",\"[ 0. nan]\",\"[ 0. nan]\",\"[ 0. nan]\",\"[ 0. nan]\",\"[ 0. nan]\",\"[ 0. nan]\",\"[ 0. nan]\",\"[ 0. nan]\",\"[ 0. nan]\",\"[ 0.         -0.81686664]\",\"[ 0.         -0.81686664]\",\"[ 0.         -0.81686664]\",\"[ 0.         -0.81686664]\",\"[ 0.         -0.81686664]\",\"[ 0.         -0.81686664]\",\"[ 0.         -0.81686664]\",\"[0.         0.09890395]\",\"[0.         0.09890395]\",\"[0.         0.09890395]\",\"[0.         0.09890395]\",\"[0.         0.09890395]\",\"[0.         0.09890395]\",\"[0.         0.09890395]\",\"[ 0.         -0.00241799]\",\"[ 0.         -0.00241799]\",\"[ 0.         -0.00241799]\",\"[ 0.         -0.00241799]\",\"[ 0.         -0.00241799]\",\"[ 0.         -0.00241799]\",\"[ 0.         -0.00241799]\",\"[0. 1.]\",\"[0. 1.]\",\"[0. 1.]\",\"[0. 1.]\",\"[0. 1.]\",\"[0. 1.]\",\"[0. 1.]\",\"[ 0.         -0.66859405]\",\"[ 0.         -0.66859405]\",\"[ 0.         -0.66859405]\",\"[ 0.         -0.66859405]\",\"[ 0.         -0.66859405]\",\"[ 0.         -0.66859405]\",\"[ 0.         -0.66859405]\",\"[ 0. nan]\",\"[ 0. nan]\",\"[ 0. nan]\",\"[ 0. nan]\",\"[ 0. nan]\",\"[ 0. nan]\",\"[ 0. nan]\",\"[ 0. nan]\",\"[ 0. nan]\",\"[ 0. nan]\",\"[ 0. nan]\",\"[ 0. nan]\",\"[ 0. nan]\",\"[ 0. nan]\",\"[ 0. nan]\",\"[ 0. nan]\",\"[ 0. nan]\",\"[ 0. nan]\",\"[ 0. nan]\",\"[ 0. nan]\",\"[ 0. nan]\",\"[ 0. nan]\",\"[ 0. nan]\",\"[ 0. nan]\",\"[ 0. nan]\",\"[ 0. nan]\",\"[ 0. nan]\",\"[ 0. nan]\",\"[ 0.         -0.02884631]\",\"[ 0.         -0.02884631]\",\"[ 0.         -0.02884631]\",\"[ 0.         -0.02884631]\",\"[ 0.         -0.02884631]\",\"[ 0.         -0.02884631]\",\"[ 0.         -0.02884631]\",\"[ 0. nan]\",\"[ 0. nan]\",\"[ 0. nan]\",\"[ 0. nan]\",\"[ 0. nan]\",\"[ 0. nan]\",\"[ 0. nan]\",\"[ 0. nan]\",\"[ 0. nan]\",\"[ 0. nan]\",\"[ 0. nan]\",\"[ 0. nan]\",\"[ 0. nan]\",\"[ 0. nan]\",\"[ 0. nan]\",\"[ 0. nan]\",\"[ 0. nan]\",\"[ 0. nan]\",\"[ 0. nan]\",\"[ 0. nan]\",\"[ 0. nan]\",\"[ 0. nan]\",\"[ 0. nan]\",\"[ 0. nan]\",\"[ 0. nan]\",\"[ 0. nan]\",\"[ 0. nan]\",\"[ 0. nan]\",\"[ 0. nan]\",\"[ 0. nan]\",\"[ 0. nan]\",\"[ 0. nan]\",\"[ 0. nan]\",\"[ 0. nan]\",\"[ 0. nan]\",\"[0.         0.01021243]\",\"[0.         0.01021243]\",\"[0.         0.01021243]\",\"[0.         0.01021243]\",\"[0.         0.01021243]\",\"[0.         0.01021243]\",\"[0.         0.01021243]\",\"[0.         0.77236554]\",\"[0.         0.77236554]\",\"[0.         0.77236554]\",\"[0.         0.77236554]\",\"[0.         0.77236554]\",\"[0.         0.77236554]\",\"[0.         0.77236554]\",\"[ 0.         -0.02678515]\",\"[ 0.         -0.02678515]\",\"[ 0.         -0.02678515]\",\"[ 0.         -0.02678515]\",\"[ 0.         -0.02678515]\",\"[ 0.         -0.02678515]\",\"[ 0.         -0.02678515]\",\"[ 0.         -0.66859405]\",\"[ 0.         -0.66859405]\",\"[ 0.         -0.66859405]\",\"[ 0.         -0.66859405]\",\"[ 0.         -0.66859405]\",\"[ 0.         -0.66859405]\",\"[ 0.         -0.66859405]\",\"[ 0.         -0.40860408]\",\"[ 0.         -0.40860408]\",\"[ 0.         -0.40860408]\",\"[ 0.         -0.40860408]\",\"[ 0.         -0.40860408]\",\"[ 0.         -0.40860408]\",\"[ 0.         -0.40860408]\",\"[ 0. nan]\",\"[ 0. nan]\",\"[ 0. nan]\",\"[ 0. nan]\",\"[ 0. nan]\",\"[ 0. nan]\",\"[ 0. nan]\",\"[ 0. nan]\",\"[ 0. nan]\",\"[ 0. nan]\",\"[ 0. nan]\",\"[ 0. nan]\",\"[ 0. nan]\",\"[ 0. nan]\",\"[ 0. nan]\",\"[ 0. nan]\",\"[ 0. nan]\",\"[ 0. nan]\",\"[ 0. nan]\",\"[ 0. nan]\",\"[ 0. nan]\",\"[ 0. nan]\",\"[ 0. nan]\",\"[ 0. nan]\",\"[ 0. nan]\",\"[ 0. nan]\",\"[ 0. nan]\",\"[ 0. nan]\",\"[ 0. nan]\",\"[ 0. nan]\",\"[ 0. nan]\",\"[ 0. nan]\",\"[ 0. nan]\",\"[ 0. nan]\",\"[ 0. nan]\",\"[ 0.         -0.00990262]\",\"[ 0.         -0.00990262]\",\"[ 0.         -0.00990262]\",\"[ 0.         -0.00990262]\",\"[ 0.         -0.00990262]\",\"[ 0.         -0.00990262]\",\"[ 0.         -0.00990262]\",\"[0.         0.02039925]\",\"[0.         0.02039925]\",\"[0.         0.02039925]\",\"[0.         0.02039925]\",\"[0.         0.02039925]\",\"[0.         0.02039925]\",\"[0.         0.02039925]\",\"[ 0.         -0.04332644]\",\"[ 0.         -0.04332644]\",\"[ 0.         -0.04332644]\",\"[ 0.         -0.04332644]\",\"[ 0.         -0.04332644]\",\"[ 0.         -0.04332644]\",\"[ 0.         -0.04332644]\",\"[ 0.         -0.02884631]\",\"[ 0.         -0.02884631]\",\"[ 0.         -0.02884631]\",\"[ 0.         -0.02884631]\",\"[ 0.         -0.02884631]\",\"[ 0.         -0.02884631]\",\"[ 0.         -0.02884631]\",\"[ 0. nan]\",\"[ 0. nan]\",\"[ 0. nan]\",\"[ 0. nan]\",\"[ 0. nan]\",\"[ 0. nan]\",\"[ 0. nan]\"],\"line\":{\"color\":\"blue\"},\"meta\":{},\"mode\":\"lines\",\"x\":{\"dtype\":\"f8\",\"bdata\":\"AAAAAAAAAAAAAAAAAAAAAAAAAAAAAPh\\u002fpLu8M\\u002fHTrT8AAAAAAAAAAKO7vDPx062\\u002fAAAAAAAA+H8AAAAAAADwPwAAAAAAAPA\\u002fAAAAAAAA+H+7sXxtSePwPwAAAAAAAPA\\u002fipwGJW057j8AAAAAAAD4fwAAAAAAAABAAAAAAAAAAEAAAAAAAAD4f2M+nu\\u002fBkP8\\u002fAAAAAAAAAEDP4DAInzcAQAAAAAAAAPh\\u002fAAAAAAAACEAAAAAAAAAIQAAAAAAAAPh\\u002f5FPdn29yCEAAAAAAAAAIQBysImCQjQdAAAAAAAAA+H8AAAAAAAAQQAAAAAAAABBAAAAAAAAA+H9q01m\\u002fkf4PQAAAAAAAABBASxZTILcAEEAAAAAAAAD4fwAAAAAAABRAAAAAAAAAFEAAAAAAAAD4fwAAAAAAAPj\\u002fAAAAAAAAFEAAAAAAAAD4\\u002fwAAAAAAAPh\\u002fAAAAAAAAGEAAAAAAAAAYQAAAAAAAAPh\\u002fAAAAAAAA+P8AAAAAAAAYQAAAAAAAAPj\\u002fAAAAAAAA+H8AAAAAAAAcQAAAAAAAABxAAAAAAAAA+H8AAAAAAAD4\\u002fwAAAAAAABxAAAAAAAAA+P8AAAAAAAD4fwAAAAAAACBAAAAAAAAAIEAAAAAAAAD4fwAAAAAAAPj\\u002fAAAAAAAAIEAAAAAAAAD4\\u002fwAAAAAAAPh\\u002fAAAAAAAAIkAAAAAAAAAiQAAAAAAAAPh\\u002f9oQSyVgAIkAAAAAAAAAiQAp77Tan\\u002fyFAAAAAAAAA+H8AAAAAAAAkQAAAAAAAACRAAAAAAAAA+H8AAAAAAAD4\\u002fwAAAAAAACRAAAAAAAAA+P8AAAAAAAD4fwAAAAAAACZAAAAAAAAAJkAAAAAAAAD4fwAAAAAAAPj\\u002fAAAAAAAAJkAAAAAAAAD4\\u002fwAAAAAAAPh\\u002fAAAAAAAAKEAAAAAAAAAoQAAAAAAAAPh\\u002fAAAAAAAA+P8AAAAAAAAoQAAAAAAAAPj\\u002fAAAAAAAA+H8AAAAAAAAqQAAAAAAAACpAAAAAAAAA+H8AAAAAAAD4\\u002fwAAAAAAACpAAAAAAAAA+P8AAAAAAAD4fwAAAAAAACxAAAAAAAAALEAAAAAAAAD4fwAAAAAAAPj\\u002fAAAAAAAALEAAAAAAAAD4\\u002fwAAAAAAAPh\\u002fAAAAAAAAAAAAAAAAAAAAAAAAAAAAAPh\\u002fajeWry1prD8AAAAAAAAAAGg3lq8taay\\u002fAAAAAAAA+H8AAAAAAADwPwAAAAAAAPA\\u002fAAAAAAAA+H9PSNW17HHwPwAAAAAAAPA\\u002fYm9VlCYc7z8AAAAAAAD4fwAAAAAAAABAAAAAAAAAAEAAAAAAAAD4f2fp6Xj1CwBAAAAAAAAAAEAyLSwOFej\\u002fPwAAAAAAAPh\\u002fAAAAAAAACEAAAAAAAAAIQAAAAAAAAPh\\u002fFqyD9yTyB0AAAAAAAAAIQOpTfAjbDQhAAAAAAAAA+H8AAAAAAAAQQAAAAAAAABBAAAAAAAAA+H\\u002fuuEBWzJMPQAAAAAAAABBAiaPf1Bk2EEAAAAAAAAD4fwAAAAAAABRAAAAAAAAAFEAAAAAAAAD4fwAAAAAAAPj\\u002fAAAAAAAAFEAAAAAAAAD4\\u002fwAAAAAAAPh\\u002fAAAAAAAAGEAAAAAAAAAYQAAAAAAAAPh\\u002fAAAAAAAA+P8AAAAAAAAYQAAAAAAAAPj\\u002fAAAAAAAA+H8AAAAAAAAcQAAAAAAAABxAAAAAAAAA+H8AAAAAAAD4\\u002fwAAAAAAABxAAAAAAAAA+P8AAAAAAAD4fwAAAAAAACBAAAAAAAAAIEAAAAAAAAD4fwAAAAAAAPj\\u002fAAAAAAAAIEAAAAAAAAD4\\u002fwAAAAAAAPh\\u002fAAAAAAAAIkAAAAAAAAAiQAAAAAAAAPh\\u002fev91Gkn\\u002fIUAAAAAAAAAiQIYAiuW2ACJAAAAAAAAA+H8AAAAAAAAkQAAAAAAAACRAAAAAAAAA+H8AAAAAAAD4\\u002fwAAAAAAACRAAAAAAAAA+P8AAAAAAAD4fwAAAAAAACZAAAAAAAAAJkAAAAAAAAD4fwAAAAAAAPj\\u002fAAAAAAAAJkAAAAAAAAD4\\u002fwAAAAAAAPh\\u002fAAAAAAAAKEAAAAAAAAAoQAAAAAAAAPh\\u002fAAAAAAAA+P8AAAAAAAAoQAAAAAAAAPj\\u002fAAAAAAAA+H8AAAAAAAAqQAAAAAAAACpAAAAAAAAA+H8AAAAAAAD4\\u002fwAAAAAAACpAAAAAAAAA+P8AAAAAAAD4fwAAAAAAACxAAAAAAAAALEAAAAAAAAD4fwAAAAAAAPj\\u002fAAAAAAAALEAAAAAAAAD4\\u002fwAAAAAAAPh\\u002fAAAAAAAAAAAAAAAAAAAAAAAAAAAAAPh\\u002fUWdwGITPm78AAAAAAAAAAFBncBiEz5s\\u002fAAAAAAAA+H8AAAAAAADwPwAAAAAAAPA\\u002fAAAAAAAA+H\\u002fO0tPx6hfwPwAAAAAAAPA\\u002fZFpYHCrQ7z8AAAAAAAD4fwAAAAAAAABAAAAAAAAAAEAAAAAAAAD4f+2GadWXdP8\\u002fAAAAAAAAAECJPEsVtEUAQAAAAAAAAPh\\u002fAAAAAAAACEAAAAAAAAAIQAAAAAAAAPh\\u002fXLict1YACEAAAAAAAAAIQKRHY0ip\\u002fwdAAAAAAAAA+H8AAAAAAAAQQAAAAAAAABBAAAAAAAAA+H8uNqlN4AEQQAAAAAAAABBApZOtZD\\u002f8D0AAAAAAAAD4fwAAAAAAABRAAAAAAAAAFEAAAAAAAAD4fwAAAAAAAPj\\u002fAAAAAAAAFEAAAAAAAAD4\\u002fwAAAAAAAPh\\u002fAAAAAAAAGEAAAAAAAAAYQAAAAAAAAPh\\u002fAAAAAAAA+P8AAAAAAAAYQAAAAAAAAPj\\u002fAAAAAAAA+H8AAAAAAAAcQAAAAAAAABxAAAAAAAAA+H8AAAAAAAD4\\u002fwAAAAAAABxAAAAAAAAA+P8AAAAAAAD4fwAAAAAAACBAAAAAAAAAIEAAAAAAAAD4fwAAAAAAAPj\\u002fAAAAAAAAIEAAAAAAAAD4\\u002fwAAAAAAAPh\\u002fAAAAAAAAIkAAAAAAAAAiQAAAAAAAAPh\\u002fHQxhdYQBIkAAAAAAAAAiQOPznop7\\u002fiFAAAAAAAAA+H8AAAAAAAAkQAAAAAAAACRAAAAAAAAA+H8AAAAAAAD4\\u002fwAAAAAAACRAAAAAAAAA+P8AAAAAAAD4fwAAAAAAACZAAAAAAAAAJkAAAAAAAAD4fwAAAAAAAPj\\u002fAAAAAAAAJkAAAAAAAAD4\\u002fwAAAAAAAPh\\u002fAAAAAAAAKEAAAAAAAAAoQAAAAAAAAPh\\u002fAAAAAAAA+P8AAAAAAAAoQAAAAAAAAPj\\u002fAAAAAAAA+H8AAAAAAAAqQAAAAAAAACpAAAAAAAAA+H8AAAAAAAD4\\u002fwAAAAAAACpAAAAAAAAA+P8AAAAAAAD4fwAAAAAAACxAAAAAAAAALEAAAAAAAAD4fwAAAAAAAPj\\u002fAAAAAAAALEAAAAAAAAD4\\u002fwAAAAAAAPh\\u002fAAAAAAAAAAAAAAAAAAAAAAAAAAAAAPh\\u002fHvlU9+ebrD8AAAAAAAAAAB35VPfnm6y\\u002fAAAAAAAA+H8AAAAAAADwPwAAAAAAAPA\\u002fAAAAAAAA+H9ZsA7ek8jvPwAAAAAAAPA\\u002f1Kf4ELYb8D8AAAAAAAD4fwAAAAAAAABAAAAAAAAAAEAAAAAAAAD4f1y4nLdWAABAAAAAAAAAAEBJj8aQUv\\u002f\\u002fPwAAAAAAAPh\\u002fAAAAAAAACEAAAAAAAAAIQAAAAAAAAPh\\u002fs7+vluhzB0AAAAAAAAAIQExAUGkXjAhAAAAAAAAA+H8AAAAAAAAQQAAAAAAAABBAAAAAAAAA+H9PlBoI1S4QQAAAAAAAABBAY9fK71WiD0AAAAAAAAD4fwAAAAAAABRAAAAAAAAAFEAAAAAAAAD4fwAAAAAAAPj\\u002fAAAAAAAAFEAAAAAAAAD4\\u002fwAAAAAAAPh\\u002fAAAAAAAAGEAAAAAAAAAYQAAAAAAAAPh\\u002fAAAAAAAA+P8AAAAAAAAYQAAAAAAAAPj\\u002fAAAAAAAA+H8AAAAAAAAcQAAAAAAAABxAAAAAAAAA+H8AAAAAAAD4\\u002fwAAAAAAABxAAAAAAAAA+P8AAAAAAAD4fwAAAAAAACBAAAAAAAAAIEAAAAAAAAD4fwAAAAAAAPj\\u002fAAAAAAAAIEAAAAAAAAD4\\u002fwAAAAAAAPh\\u002fAAAAAAAAIkAAAAAAAAAiQAAAAAAAAPh\\u002faIu8oQIBIkAAAAAAAAAiQJh0Q179\\u002fiFAAAAAAAAA+H8AAAAAAAAkQAAAAAAAACRAAAAAAAAA+H8AAAAAAAD4\\u002fwAAAAAAACRAAAAAAAAA+P8AAAAAAAD4fwAAAAAAACZAAAAAAAAAJkAAAAAAAAD4fwAAAAAAAPj\\u002fAAAAAAAAJkAAAAAAAAD4\\u002fwAAAAAAAPh\\u002fAAAAAAAAKEAAAAAAAAAoQAAAAAAAAPh\\u002fAAAAAAAA+P8AAAAAAAAoQAAAAAAAAPj\\u002fAAAAAAAA+H8AAAAAAAAqQAAAAAAAACpAAAAAAAAA+H8AAAAAAAD4\\u002fwAAAAAAACpAAAAAAAAA+P8AAAAAAAD4fwAAAAAAACxAAAAAAAAALEAAAAAAAAD4fwAAAAAAAPj\\u002fAAAAAAAALEAAAAAAAAD4\\u002fwAAAAAAAPh\\u002fAAAAAAAAAAAAAAAAAAAAAAAAAAAAAPh\\u002fKF3JYgrkRr8AAAAAAAAAACZdyWIK5EY\\u002fAAAAAAAA+H8AAAAAAADwPwAAAAAAAPA\\u002fAAAAAAAA+H+44wJZMU\\u002fuPwAAAAAAAPA\\u002fJI5+U2fY8D8AAAAAAAD4fwAAAAAAAABAAAAAAAAAAEAAAAAAAAD4f1tsUpvAAwBAAAAAAAAAAEBJJ1vJfvj\\u002fPwAAAAAAAPh\\u002fAAAAAAAACEAAAAAAAAAIQAAAAAAAAPh\\u002fnSg1EKpdCEAAAAAAAAAIQGPXyu9VogdAAAAAAAAA+H8AAAAAAAAQQAAAAAAAABBAAAAAAAAA+H\\u002feb9X3nhwQQAAAAAAAABBARCBVEMLGD0AAAAAAAAD4fwAAAAAAABRAAAAAAAAAFEAAAAAAAAD4fwAAAAAAAPj\\u002fAAAAAAAAFEAAAAAAAAD4\\u002fwAAAAAAAPh\\u002fAAAAAAAAGEAAAAAAAAAYQAAAAAAAAPh\\u002fAAAAAAAA+P8AAAAAAAAYQAAAAAAAAPj\\u002fAAAAAAAA+H8AAAAAAAAcQAAAAAAAABxAAAAAAAAA+H8AAAAAAAD4\\u002fwAAAAAAABxAAAAAAAAA+P8AAAAAAAD4fwAAAAAAACBAAAAAAAAAIEAAAAAAAAD4fwAAAAAAAPj\\u002fAAAAAAAAIEAAAAAAAAD4\\u002fwAAAAAAAPh\\u002fAAAAAAAAIkAAAAAAAAAiQAAAAAAAAPh\\u002fAAAAAAAA+P8AAAAAAAAiQAAAAAAAAPj\\u002fAAAAAAAA+H8AAAAAAAAkQAAAAAAAACRAAAAAAAAA+H\\u002f2hBLJWAAkQAAAAAAAACRACnvtNqf\\u002fI0AAAAAAAAD4fwAAAAAAACZAAAAAAAAAJkAAAAAAAAD4f3r\\u002fdRpJ\\u002fyVAAAAAAAAAJkCGAIrltgAmQAAAAAAAAPh\\u002fAAAAAAAAKEAAAAAAAAAoQAAAAAAAAPh\\u002fHQxhdYQBKEAAAAAAAAAoQOPznop7\\u002fidAAAAAAAAA+H8AAAAAAAAqQAAAAAAAACpAAAAAAAAA+H9oi7yhAgEqQAAAAAAAACpAmHRDXv3+KUAAAAAAAAD4fwAAAAAAACxAAAAAAAAALEAAAAAAAAD4fwAAAAAAAPj\\u002fAAAAAAAALEAAAAAAAAD4\\u002fwAAAAAAAPh\\u002f\"},\"y\":{\"dtype\":\"f8\",\"bdata\":\"+L59HOBA2z\\u002f4vn0c4EDbvwAAAAAAAPh\\u002fEUdMl20C0b\\u002f4vn0c4EDbvxFHTJdtAtG\\u002fAAAAAAAA+H+C1EkYbPXZP4LUSRhs9dm\\u002fAAAAAAAA+H+rQASAjzPQv4LUSRhs9dm\\u002fq0AEgI8z0L8AAAAAAAD4f\\u002ff3sMYFacm\\u002f9\\u002fewxgVpyT8AAAAAAAD4f+jA4yXet78\\u002f9\\u002fewxgVpyT\\u002fowOMl3re\\u002fPwAAAAAAAPh\\u002fFqLBg8Uj2j8WosGDxSPavwAAAAAAAPh\\u002f2rMb+3xQ0L8WosGDxSPav9qzG\\u002ft8UNC\\u002fAAAAAAAA+H8kBQX+QOp0vyQFBf5A6nQ\\u002fAAAAAAAA+H+gIF3rbBtqPyQFBf5A6nQ\\u002foCBd62wbaj8AAAAAAAD4fwAAAAAAAPj\\u002fAAAAAAAA+P8AAAAAAAD4fwAAAAAAAPj\\u002fAAAAAAAA+P8AAAAAAAD4\\u002fwAAAAAAAPh\\u002fAAAAAAAA+P8AAAAAAAD4\\u002fwAAAAAAAPh\\u002fAAAAAAAA+P8AAAAAAAD4\\u002fwAAAAAAAPj\\u002fAAAAAAAA+H8AAAAAAAD4\\u002fwAAAAAAAPj\\u002fAAAAAAAA+H8AAAAAAAD4\\u002fwAAAAAAAPj\\u002fAAAAAAAA+P8AAAAAAAD4fwAAAAAAAPj\\u002fAAAAAAAA+P8AAAAAAAD4fwAAAAAAAPj\\u002fAAAAAAAA+P8AAAAAAAD4\\u002fwAAAAAAAPh\\u002fqtgFPNNHdD+q2AU800d0vwAAAAAAAPh\\u002fwYcaqaxQab+q2AU800d0v8GHGqmsUGm\\u002fAAAAAAAA+H8AAAAAAAD4\\u002fwAAAAAAAPj\\u002fAAAAAAAA+H8AAAAAAAD4\\u002fwAAAAAAAPj\\u002fAAAAAAAA+P8AAAAAAAD4fwAAAAAAAPj\\u002fAAAAAAAA+P8AAAAAAAD4fwAAAAAAAPj\\u002fAAAAAAAA+P8AAAAAAAD4\\u002fwAAAAAAAPh\\u002fAAAAAAAA+P8AAAAAAAD4\\u002fwAAAAAAAPh\\u002fAAAAAAAA+P8AAAAAAAD4\\u002fwAAAAAAAPj\\u002fAAAAAAAA+H8AAAAAAAD4\\u002fwAAAAAAAPj\\u002fAAAAAAAA+H8AAAAAAAD4\\u002fwAAAAAAAPj\\u002fAAAAAAAA+P8AAAAAAAD4fwAAAAAAAPj\\u002fAAAAAAAA+P8AAAAAAAD4fwAAAAAAAPj\\u002fAAAAAAAA+P8AAAAAAAD4\\u002fwAAAAAAAPh\\u002fIHUSBlt99j++FdvzSQXjPwAAAAAAAPh\\u002fqt\\u002f9Pzjm5z++FdvzSQXjP6rf\\u002fT845uc\\u002fAAAAAAAA+H85xUnFu0DzP411bHWIfuk\\u002fAAAAAAAA+H\\u002fwHX85i\\u002fDrP411bHWIfuk\\u002f8B1\\u002fOYvw6z8AAAAAAAD4f706L7vTrvA\\u002fhYqhiVii7j8AAAAAAAD4f44hhtfFJe8\\u002fhYqhiVii7j+OIYbXxSXvPwAAAAAAAPh\\u002frTxTsONq7j+qYdYnjsrwPwAAAAAAAPh\\u002fPnlgXmt+8D+qYdYnjsrwPz55YF5rfvA\\u002fAAAAAAAA+H+RSz0IZKTjPzha4fvNLfY\\u002fAAAAAAAA+H\\u002f\\u002f+xSWPdvzPzha4fvNLfY\\u002f\\u002f\\u002fsUlj3b8z8AAAAAAAD4fwAAAAAAAPj\\u002fAAAAAAAA+P8AAAAAAAD4fwAAAAAAAPj\\u002fAAAAAAAA+P8AAAAAAAD4\\u002fwAAAAAAAPh\\u002fAAAAAAAA+P8AAAAAAAD4\\u002fwAAAAAAAPh\\u002fAAAAAAAA+P8AAAAAAAD4\\u002fwAAAAAAAPj\\u002fAAAAAAAA+H8AAAAAAAD4\\u002fwAAAAAAAPj\\u002fAAAAAAAA+H8AAAAAAAD4\\u002fwAAAAAAAPj\\u002fAAAAAAAA+P8AAAAAAAD4fwAAAAAAAPj\\u002fAAAAAAAA+P8AAAAAAAD4fwAAAAAAAPj\\u002fAAAAAAAA+P8AAAAAAAD4\\u002fwAAAAAAAPh\\u002f2ykf13Gs7z8Sa3AUxynwPwAAAAAAAPh\\u002f0+l3CxMa8D8Sa3AUxynwP9PpdwsTGvA\\u002fAAAAAAAA+H8AAAAAAAD4\\u002fwAAAAAAAPj\\u002fAAAAAAAA+H8AAAAAAAD4\\u002fwAAAAAAAPj\\u002fAAAAAAAA+P8AAAAAAAD4fwAAAAAAAPj\\u002fAAAAAAAA+P8AAAAAAAD4fwAAAAAAAPj\\u002fAAAAAAAA+P8AAAAAAAD4\\u002fwAAAAAAAPh\\u002fAAAAAAAA+P8AAAAAAAD4\\u002fwAAAAAAAPh\\u002fAAAAAAAA+P8AAAAAAAD4\\u002fwAAAAAAAPj\\u002fAAAAAAAA+H8AAAAAAAD4\\u002fwAAAAAAAPj\\u002fAAAAAAAA+H8AAAAAAAD4\\u002fwAAAAAAAPj\\u002fAAAAAAAA+P8AAAAAAAD4fwAAAAAAAPj\\u002fAAAAAAAA+P8AAAAAAAD4fwAAAAAAAPj\\u002fAAAAAAAA+P8AAAAAAAD4\\u002fwAAAAAAAPh\\u002fAeEpR9\\u002fS\\u002fD9\\u002fD2tckJYBQAAAAAAAAPh\\u002fBx4v8b79AEB\\u002fD2tckJYBQAceL\\u002fG+\\u002fQBAAAAAAAAA+H9fnZfdaVcAQEPF0EQsUf8\\u002fAAAAAAAA+H\\u002fHEMPr4pL\\u002fP0PF0EQsUf8\\u002fxxDD6+KS\\u002fz8AAAAAAAD4f6BElvQABfw\\u002fsN20hX\\u002f9AUAAAAAAAAD4f8\\u002fqgk79PQFAsN20hX\\u002f9AUDP6oJO\\u002fT0BQAAAAAAAAPh\\u002f+DpP3HkCAEAOimFHDPv\\u002fPwAAAAAAAPh\\u002falc\\u002fyej8\\u002fz8OimFHDPv\\u002fP2pXP8no\\u002fP8\\u002fAAAAAAAA+H+uRsCQbRsAQKRyf94kyf8\\u002fAAAAAAAA+H\\u002frExZcw93\\u002fP6Ryf94kyf8\\u002f6xMWXMPd\\u002fz8AAAAAAAD4fwAAAAAAAPj\\u002fAAAAAAAA+P8AAAAAAAD4fwAAAAAAAPj\\u002fAAAAAAAA+P8AAAAAAAD4\\u002fwAAAAAAAPh\\u002fAAAAAAAA+P8AAAAAAAD4\\u002fwAAAAAAAPh\\u002fAAAAAAAA+P8AAAAAAAD4\\u002fwAAAAAAAPj\\u002fAAAAAAAA+H8AAAAAAAD4\\u002fwAAAAAAAPj\\u002fAAAAAAAA+H8AAAAAAAD4\\u002fwAAAAAAAPj\\u002fAAAAAAAA+P8AAAAAAAD4fwAAAAAAAPj\\u002fAAAAAAAA+P8AAAAAAAD4fwAAAAAAAPj\\u002fAAAAAAAA+P8AAAAAAAD4\\u002fwAAAAAAAPh\\u002fo59exF0sAEC5wEJ3RKf\\u002fPwAAAAAAAPh\\u002fAJu6tp7I\\u002fz+5wEJ3RKf\\u002fPwCburaeyP8\\u002fAAAAAAAA+H8AAAAAAAD4\\u002fwAAAAAAAPj\\u002fAAAAAAAA+H8AAAAAAAD4\\u002fwAAAAAAAPj\\u002fAAAAAAAA+P8AAAAAAAD4fwAAAAAAAPj\\u002fAAAAAAAA+P8AAAAAAAD4fwAAAAAAAPj\\u002fAAAAAAAA+P8AAAAAAAD4\\u002fwAAAAAAAPh\\u002fAAAAAAAA+P8AAAAAAAD4\\u002fwAAAAAAAPh\\u002fAAAAAAAA+P8AAAAAAAD4\\u002fwAAAAAAAPj\\u002fAAAAAAAA+H8AAAAAAAD4\\u002fwAAAAAAAPj\\u002fAAAAAAAA+H8AAAAAAAD4\\u002fwAAAAAAAPj\\u002fAAAAAAAA+P8AAAAAAAD4fwAAAAAAAPj\\u002fAAAAAAAA+P8AAAAAAAD4fwAAAAAAAPj\\u002fAAAAAAAA+P8AAAAAAAD4\\u002fwAAAAAAAPh\\u002fQzR4sHhEC0C+y4dPh7sEQAAAAAAAAPh\\u002fhomcYPD1BUC+y4dPh7sEQIaJnGDw9QVAAAAAAAAA+H8rzxTsuJoHQNUw6xNHZQhAAAAAAAAA+H+fPDCvNT8IQNUw6xNHZQhAnzwwrzU\\u002fCEAAAAAAAAD4f\\u002fg6T9x5AghAB8WwI4b9B0AAAAAAAAD4f7Wrn2R0\\u002fgdAB8WwI4b9B0C1q59kdP4HQAAAAAAAAPh\\u002fAAAAAAAABEAAAAAAAAAMQAAAAAAAAPh\\u002f8rBIFhp\\u002fCkAAAAAAAAAMQPKwSBYafwpAAAAAAAAA+H9X++Pqo6wKQKgEHBVcUwVAAAAAAAAA+H+9pRxFs1QGQKgEHBVcUwVAvaUcRbNUBkAAAAAAAAD4fwAAAAAAAPj\\u002fAAAAAAAA+P8AAAAAAAD4fwAAAAAAAPj\\u002fAAAAAAAA+P8AAAAAAAD4\\u002fwAAAAAAAPh\\u002fAAAAAAAA+P8AAAAAAAD4\\u002fwAAAAAAAPh\\u002fAAAAAAAA+P8AAAAAAAD4\\u002fwAAAAAAAPj\\u002fAAAAAAAA+H8AAAAAAAD4\\u002fwAAAAAAAPj\\u002fAAAAAAAA+H8AAAAAAAD4\\u002fwAAAAAAAPj\\u002fAAAAAAAA+P8AAAAAAAD4fwAAAAAAAPj\\u002fAAAAAAAA+P8AAAAAAAD4fwAAAAAAAPj\\u002fAAAAAAAA+P8AAAAAAAD4\\u002fwAAAAAAAPh\\u002fi24w44kdCEB1kc8cduIHQAAAAAAAAPh\\u002fHLPVc5DtB0B1kc8cduIHQByz1XOQ7QdAAAAAAAAA+H8AAAAAAAD4\\u002fwAAAAAAAPj\\u002fAAAAAAAA+H8AAAAAAAD4\\u002fwAAAAAAAPj\\u002fAAAAAAAA+P8AAAAAAAD4fwAAAAAAAPj\\u002fAAAAAAAA+P8AAAAAAAD4fwAAAAAAAPj\\u002fAAAAAAAA+P8AAAAAAAD4\\u002fwAAAAAAAPh\\u002fAAAAAAAA+P8AAAAAAAD4\\u002fwAAAAAAAPh\\u002fAAAAAAAA+P8AAAAAAAD4\\u002fwAAAAAAAPj\\u002fAAAAAAAA+H8AAAAAAAD4\\u002fwAAAAAAAPj\\u002fAAAAAAAA+H8AAAAAAAD4\\u002fwAAAAAAAPj\\u002fAAAAAAAA+P8AAAAAAAD4fwAAAAAAAPj\\u002fAAAAAAAA+P8AAAAAAAD4fwAAAAAAAPj\\u002fAAAAAAAA+P8AAAAAAAD4\\u002fwAAAAAAAPh\\u002fff2A34r1D0BBgT+QOgUQQAAAAAAAAPh\\u002fpGudbUMDEEBBgT+QOgUQQKRrnW1DAxBAAAAAAAAA+H\\u002fkUg8CGekMQI5W+H5zixFAAAAAAAAA+H8AP4Vlz\\u002fYQQI5W+H5zixFAAD+FZc\\u002f2EEAAAAAAAAD4f1cjYMi2DRBAUrk\\u002fb5LkD0AAAAAAAAD4f\\u002fYJC67h7g9AUrk\\u002fb5LkD0D2CQuu4e4PQAAAAAAAAPh\\u002frP1x9VFWEUCqBBwVXFMNQAAAAAAAAPh\\u002fv6UcRbNUDkCqBBwVXFMNQL+lHEWzVA5AAAAAAAAA+H8yZM6NNNEQQJ03Y+SWXQ5AAAAAAAAA+H+xwD5A3PoOQJ03Y+SWXQ5AscA+QNz6DkAAAAAAAAD4fwAAAAAAAPj\\u002fAAAAAAAA+P8AAAAAAAD4fwAAAAAAAPj\\u002fAAAAAAAA+P8AAAAAAAD4\\u002fwAAAAAAAPh\\u002fAAAAAAAA+P8AAAAAAAD4\\u002fwAAAAAAAPh\\u002fAAAAAAAA+P8AAAAAAAD4\\u002fwAAAAAAAPj\\u002fAAAAAAAA+H8AAAAAAAD4\\u002fwAAAAAAAPj\\u002fAAAAAAAA+H8AAAAAAAD4\\u002fwAAAAAAAPj\\u002fAAAAAAAA+P8AAAAAAAD4fwAAAAAAAPj\\u002fAAAAAAAA+P8AAAAAAAD4fwAAAAAAAPj\\u002fAAAAAAAA+P8AAAAAAAD4\\u002fwAAAAAAAPh\\u002fAAAAAAAA+P8AAAAAAAD4\\u002fwAAAAAAAPh\\u002fAAAAAAAA+P8AAAAAAAD4\\u002fwAAAAAAAPj\\u002fAAAAAAAA+H92Ac\\u002f0EQUQQBP9YRbc9Q9AAAAAAAAA+H9dudXUq\\u002fkPQBP9YRbc9Q9AXbnV1Kv5D0AAAAAAAAD4f3fKx3Uc6w9AxRocxXEKEEAAAAAAAAD4f3X63cKEBhBAxRocxXEKEEB1+t3ChAYQQAAAAAAAAPh\\u002f0k8v4i4WEEBdYKE7otMPQAAAAAAAAPh\\u002fgU1dW0\\u002fkD0BdYKE7otMPQIFNXVtP5A9AAAAAAAAA+H9GN5jxxA4QQHaRzxx24g9AAAAAAAAA+H8ds9VzkO0PQHaRzxx24g9AHbPVc5DtD0AAAAAAAAD4fwAAAAAAAPj\\u002fAAAAAAAA+P8AAAAAAAD4fwAAAAAAAPj\\u002fAAAAAAAA+P8AAAAAAAD4\\u002fwAAAAAAAPh\\u002f\"},\"type\":\"scatter\"},{\"line\":{\"color\":\"pink\",\"dash\":\"dash\",\"width\":5},\"meta\":{},\"mode\":\"lines\",\"name\":\"orbitals separators\",\"opacity\":0.8,\"showlegend\":false,\"x\":{\"dtype\":\"f8\",\"bdata\":\"AAAAAAAA4L8AAAAAAAASQAAAAAAAAPh\\u002fAAAAAAAA4D8AAAAAAADgPwAAAAAAAPh\\u002f\"},\"y\":{\"dtype\":\"f8\",\"bdata\":\"AAAAAAAA4D8AAAAAAADgPwAAAAAAAPh\\u002fAAAAAAAA4L8AAAAAAAASQAAAAAAAAPh\\u002f\"},\"type\":\"scatter\"},{\"line\":{\"color\":\"gray\"},\"meta\":{},\"mode\":\"lines\",\"name\":\"atoms separators\",\"opacity\":1,\"showlegend\":false,\"x\":{\"dtype\":\"f8\",\"bdata\":\"AAAAAAAA4L8AAAAAAAASQAAAAAAAAPh\\u002fAAAAAAAADEAAAAAAAAAMQAAAAAAAAPh\\u002f\"},\"y\":{\"dtype\":\"f8\",\"bdata\":\"AAAAAAAADEAAAAAAAAAMQAAAAAAAAPh\\u002fAAAAAAAA4L8AAAAAAAASQAAAAAAAAPh\\u002f\"},\"type\":\"scatter\"}],                        {\"template\":{\"layout\":{\"hovermode\":\"closest\",\"paper_bgcolor\":\"white\",\"plot_bgcolor\":\"white\",\"scene\":{\"xaxis\":{\"color\":\"black\",\"gridcolor\":\"#ccc\",\"gridwidth\":1,\"linewidth\":1,\"mirror\":true,\"showgrid\":false,\"showline\":true,\"ticklen\":5,\"ticks\":\"outside\",\"ticksuffix\":\" \",\"visible\":true,\"zeroline\":false,\"zerolinecolor\":\"#ccc\",\"zerolinewidth\":1},\"yaxis\":{\"color\":\"black\",\"gridcolor\":\"#ccc\",\"gridwidth\":1,\"linewidth\":1,\"mirror\":true,\"showgrid\":false,\"showline\":true,\"ticklen\":5,\"ticks\":\"outside\",\"ticksuffix\":\" \",\"visible\":true,\"zeroline\":false,\"zerolinecolor\":\"#ccc\",\"zerolinewidth\":1},\"zaxis\":{\"color\":\"black\",\"gridcolor\":\"#ccc\",\"gridwidth\":1,\"linewidth\":1,\"mirror\":true,\"showgrid\":false,\"showline\":true,\"ticklen\":5,\"ticks\":\"outside\",\"ticksuffix\":\" \",\"visible\":true,\"zeroline\":false,\"zerolinecolor\":\"#ccc\",\"zerolinewidth\":1}},\"xaxis\":{\"color\":\"black\",\"gridcolor\":\"#ccc\",\"gridwidth\":1,\"linewidth\":1,\"mirror\":true,\"showgrid\":false,\"showline\":true,\"ticklen\":5,\"ticks\":\"outside\",\"ticksuffix\":\" \",\"visible\":true,\"zeroline\":false,\"zerolinecolor\":\"#ccc\",\"zerolinewidth\":1},\"yaxis\":{\"color\":\"black\",\"gridcolor\":\"#ccc\",\"gridwidth\":1,\"linewidth\":1,\"mirror\":true,\"showgrid\":false,\"showline\":true,\"ticklen\":5,\"ticks\":\"outside\",\"ticksuffix\":\" \",\"visible\":true,\"zeroline\":false,\"zerolinecolor\":\"#ccc\",\"zerolinewidth\":1}}},\"coloraxis\":{\"colorscale\":[[0.0,\"rgb(0, 147, 146)\"],[0.16666666666666666,\"rgb(57, 177, 133)\"],[0.3333333333333333,\"rgb(156, 203, 134)\"],[0.5,\"rgb(233, 226, 156)\"],[0.6666666666666666,\"rgb(238, 180, 121)\"],[0.8333333333333334,\"rgb(232, 132, 113)\"],[1.0,\"rgb(207, 89, 126)\"]],\"cmid\":0,\"showscale\":false},\"xaxis\":{\"scaleanchor\":\"y\",\"scaleratio\":1,\"range\":[-0.5,14.5],\"constrain\":\"domain\"},\"scene\":{\"aspectmode\":\"data\",\"xaxis\":{\"range\":[-0.5,14.5]},\"yaxis\":{\"range\":[4.5,-0.5]}},\"yaxis\":{\"range\":[4.5,-0.5],\"constrain\":\"domain\"}},                        {\"responsive\": true}                    ).then(function(){\n",
       "                            \n",
       "var gd = document.getElementById('d4974ec1-78f0-484b-ba66-76f03d80a926');\n",
       "var x = new MutationObserver(function (mutations, observer) {{\n",
       "        var display = window.getComputedStyle(gd).display;\n",
       "        if (!display || display === 'none') {{\n",
       "            console.log([gd, 'removed!']);\n",
       "            Plotly.purge(gd);\n",
       "            observer.disconnect();\n",
       "        }}\n",
       "}});\n",
       "\n",
       "// Listen for the removal of the full notebook cells\n",
       "var notebookContainer = gd.closest('#notebook-container');\n",
       "if (notebookContainer) {{\n",
       "    x.observe(notebookContainer, {childList: true});\n",
       "}}\n",
       "\n",
       "// Listen for the clearing of the current output cell\n",
       "var outputEl = gd.closest('.output');\n",
       "if (outputEl) {{\n",
       "    x.observe(outputEl, {childList: true});\n",
       "}}\n",
       "\n",
       "                        })                };            </script>        </div>"
      ]
     },
     "metadata": {},
     "output_type": "display_data"
    }
   ],
   "source": [
    "plot.update_inputs(color_pixels=False, text=None)"
   ]
  },
  {
   "cell_type": "markdown",
   "metadata": {},
   "source": [
    "If you want to plot custom data for the arrows, you have to pass a sparse matrix where the last dimension is the cartesian coordinate `(X, Y)`. Let's create some random data to display it:"
   ]
  },
  {
   "cell_type": "code",
   "execution_count": 20,
   "metadata": {
    "execution": {
     "iopub.execute_input": "2025-10-08T12:09:33.389236Z",
     "iopub.status.busy": "2025-10-08T12:09:33.389018Z",
     "iopub.status.idle": "2025-10-08T12:09:33.560266Z",
     "shell.execute_reply": "2025-10-08T12:09:33.559713Z"
    }
   },
   "outputs": [
    {
     "name": "stderr",
     "output_type": "stream",
     "text": [
      "INFO\tTask(Task-2) nodify.node.140358110017536:node.py:get()- No need to evaluate\n"
     ]
    },
    {
     "name": "stderr",
     "output_type": "stream",
     "text": [
      "INFO\tTask(Task-2) nodify.node.140358110010960:node.py:get()- No need to evaluate\n"
     ]
    },
    {
     "name": "stderr",
     "output_type": "stream",
     "text": [
      "INFO\tTask(Task-2) nodify.node.140358110010768:node.py:get()- No need to evaluate\n"
     ]
    },
    {
     "name": "stderr",
     "output_type": "stream",
     "text": [
      "INFO\tTask(Task-2) nodify.node.140358110012352:node.py:get()- No need to evaluate\n"
     ]
    },
    {
     "name": "stderr",
     "output_type": "stream",
     "text": [
      "INFO\tTask(Task-2) nodify.node.140358110011728:node.py:get()- No need to evaluate\n"
     ]
    },
    {
     "name": "stderr",
     "output_type": "stream",
     "text": [
      "INFO\tTask(Task-2) nodify.node.140358110019312:node.py:get()- No need to evaluate\n"
     ]
    },
    {
     "name": "stderr",
     "output_type": "stream",
     "text": [
      "INFO\tTask(Task-2) nodify.node.140358110014464:node.py:get()- No need to evaluate\n"
     ]
    },
    {
     "name": "stderr",
     "output_type": "stream",
     "text": [
      "INFO\tTask(Task-2) nodify.node.140358110014848:node.py:get()- No need to evaluate\n"
     ]
    },
    {
     "name": "stderr",
     "output_type": "stream",
     "text": [
      "INFO\tTask(Task-2) nodify.node.140358110010960:node.py:get()- No need to evaluate\n"
     ]
    },
    {
     "name": "stderr",
     "output_type": "stream",
     "text": [
      "INFO\tTask(Task-2) nodify.node.140358110015232:node.py:get()- No need to evaluate\n"
     ]
    },
    {
     "name": "stderr",
     "output_type": "stream",
     "text": [
      "INFO\tTask(Task-2) nodify.node.140358110014848:node.py:get()- No need to evaluate\n"
     ]
    },
    {
     "name": "stderr",
     "output_type": "stream",
     "text": [
      "INFO\tTask(Task-2) nodify.node.140358110102592:node.py:get()- No need to evaluate\n"
     ]
    },
    {
     "name": "stderr",
     "output_type": "stream",
     "text": [
      "INFO\tTask(Task-2) nodify.node.140358110014080:node.py:get()- No need to evaluate\n"
     ]
    },
    {
     "name": "stderr",
     "output_type": "stream",
     "text": [
      "INFO\tTask(Task-2) nodify.node.140358110015616:node.py:get()- No need to evaluate\n"
     ]
    },
    {
     "name": "stderr",
     "output_type": "stream",
     "text": [
      "INFO\tTask(Task-2) nodify.node.140358110016000:node.py:get()- No need to evaluate\n"
     ]
    },
    {
     "name": "stderr",
     "output_type": "stream",
     "text": [
      "INFO\tTask(Task-2) nodify.node.140358110102496:node.py:get()- No need to evaluate\n"
     ]
    },
    {
     "name": "stderr",
     "output_type": "stream",
     "text": [
      "INFO\tTask(Task-2) nodify.node.140358110010960:node.py:get()- No need to evaluate\n"
     ]
    },
    {
     "name": "stderr",
     "output_type": "stream",
     "text": [
      "INFO\tTask(Task-2) nodify.node.140358110010768:node.py:get()- No need to evaluate\n"
     ]
    },
    {
     "name": "stderr",
     "output_type": "stream",
     "text": [
      "INFO\tTask(Task-2) nodify.node.140358110012352:node.py:get()- No need to evaluate\n"
     ]
    },
    {
     "name": "stderr",
     "output_type": "stream",
     "text": [
      "INFO\tTask(Task-2) nodify.node.140358110011728:node.py:get()- No need to evaluate\n"
     ]
    },
    {
     "name": "stderr",
     "output_type": "stream",
     "text": [
      "INFO\tTask(Task-2) nodify.node.140358110019312:node.py:get()- No need to evaluate\n"
     ]
    },
    {
     "name": "stderr",
     "output_type": "stream",
     "text": [
      "INFO\tTask(Task-2) nodify.node.140358110017152:node.py:get()- Evaluated because inputs changed.\n"
     ]
    },
    {
     "name": "stderr",
     "output_type": "stream",
     "text": [
      "INFO\tTask(Task-2) nodify.node.140358110103264:node.py:get()- Evaluated because inputs changed.\n"
     ]
    },
    {
     "name": "stderr",
     "output_type": "stream",
     "text": [
      "INFO\tTask(Task-2) nodify.node.140358110102640:node.py:get()- Evaluated because inputs changed.\n"
     ]
    },
    {
     "name": "stderr",
     "output_type": "stream",
     "text": [
      "INFO\tTask(Task-2) nodify.node.140358110012928:node.py:get()- No need to evaluate\n"
     ]
    },
    {
     "name": "stderr",
     "output_type": "stream",
     "text": [
      "INFO\tTask(Task-2) nodify.node.140358110010960:node.py:get()- No need to evaluate\n"
     ]
    },
    {
     "name": "stderr",
     "output_type": "stream",
     "text": [
      "INFO\tTask(Task-2) nodify.node.140358110012784:node.py:get()- No need to evaluate\n"
     ]
    },
    {
     "name": "stderr",
     "output_type": "stream",
     "text": [
      "INFO\tTask(Task-2) nodify.node.140358110018832:node.py:get()- No need to evaluate\n"
     ]
    },
    {
     "name": "stderr",
     "output_type": "stream",
     "text": [
      "INFO\tTask(Task-2) nodify.node.140358110010960:node.py:get()- No need to evaluate\n"
     ]
    },
    {
     "name": "stderr",
     "output_type": "stream",
     "text": [
      "INFO\tTask(Task-2) nodify.node.140358110019408:node.py:get()- No need to evaluate\n"
     ]
    },
    {
     "name": "stderr",
     "output_type": "stream",
     "text": [
      "INFO\tTask(Task-2) nodify.node.140358110103312:node.py:get()- No need to evaluate\n"
     ]
    },
    {
     "name": "stderr",
     "output_type": "stream",
     "text": [
      "INFO\tTask(Task-2) nodify.node.140358110013264:node.py:get()- No need to evaluate\n"
     ]
    },
    {
     "name": "stderr",
     "output_type": "stream",
     "text": [
      "INFO\tTask(Task-2) nodify.node.140358110010960:node.py:get()- No need to evaluate\n"
     ]
    },
    {
     "name": "stderr",
     "output_type": "stream",
     "text": [
      "INFO\tTask(Task-2) nodify.node.140358110012784:node.py:get()- No need to evaluate\n"
     ]
    },
    {
     "name": "stderr",
     "output_type": "stream",
     "text": [
      "INFO\tTask(Task-2) nodify.node.140358110018832:node.py:get()- No need to evaluate\n"
     ]
    },
    {
     "name": "stderr",
     "output_type": "stream",
     "text": [
      "INFO\tTask(Task-2) nodify.node.140358110010960:node.py:get()- No need to evaluate\n"
     ]
    },
    {
     "name": "stderr",
     "output_type": "stream",
     "text": [
      "INFO\tTask(Task-2) nodify.node.140358110019408:node.py:get()- No need to evaluate\n"
     ]
    },
    {
     "name": "stderr",
     "output_type": "stream",
     "text": [
      "INFO\tTask(Task-2) nodify.node.140358110103984:node.py:get()- No need to evaluate\n"
     ]
    },
    {
     "name": "stderr",
     "output_type": "stream",
     "text": [
      "INFO\tTask(Task-2) nodify.node.140358110013648:node.py:get()- No need to evaluate\n"
     ]
    },
    {
     "name": "stderr",
     "output_type": "stream",
     "text": [
      "INFO\tTask(Task-2) nodify.node.140358110010960:node.py:get()- No need to evaluate\n"
     ]
    },
    {
     "name": "stderr",
     "output_type": "stream",
     "text": [
      "INFO\tTask(Task-2) nodify.node.140358110012784:node.py:get()- No need to evaluate\n"
     ]
    },
    {
     "name": "stderr",
     "output_type": "stream",
     "text": [
      "INFO\tTask(Task-2) nodify.node.140358110018832:node.py:get()- No need to evaluate\n"
     ]
    },
    {
     "name": "stderr",
     "output_type": "stream",
     "text": [
      "INFO\tTask(Task-2) nodify.node.140358110010960:node.py:get()- No need to evaluate\n"
     ]
    },
    {
     "name": "stderr",
     "output_type": "stream",
     "text": [
      "INFO\tTask(Task-2) nodify.node.140358110019408:node.py:get()- No need to evaluate\n"
     ]
    },
    {
     "name": "stderr",
     "output_type": "stream",
     "text": [
      "INFO\tTask(Task-2) nodify.node.140358110104320:node.py:get()- No need to evaluate\n"
     ]
    },
    {
     "name": "stderr",
     "output_type": "stream",
     "text": [
      "INFO\tTask(Task-2) nodify.node.140358110010960:node.py:get()- No need to evaluate\n"
     ]
    },
    {
     "name": "stderr",
     "output_type": "stream",
     "text": [
      "INFO\tTask(Task-2) nodify.node.140358110010768:node.py:get()- No need to evaluate\n"
     ]
    },
    {
     "name": "stderr",
     "output_type": "stream",
     "text": [
      "INFO\tTask(Task-2) nodify.node.140358110012352:node.py:get()- No need to evaluate\n"
     ]
    },
    {
     "name": "stderr",
     "output_type": "stream",
     "text": [
      "INFO\tTask(Task-2) nodify.node.140358110011728:node.py:get()- No need to evaluate\n"
     ]
    },
    {
     "name": "stderr",
     "output_type": "stream",
     "text": [
      "INFO\tTask(Task-2) nodify.node.140358110019312:node.py:get()- No need to evaluate\n"
     ]
    },
    {
     "name": "stderr",
     "output_type": "stream",
     "text": [
      "INFO\tTask(Task-2) nodify.node.140358110010960:node.py:get()- No need to evaluate\n"
     ]
    },
    {
     "name": "stderr",
     "output_type": "stream",
     "text": [
      "INFO\tTask(Task-2) nodify.node.140358110012784:node.py:get()- No need to evaluate\n"
     ]
    },
    {
     "name": "stderr",
     "output_type": "stream",
     "text": [
      "INFO\tTask(Task-2) nodify.node.140358110018832:node.py:get()- No need to evaluate\n"
     ]
    },
    {
     "name": "stderr",
     "output_type": "stream",
     "text": [
      "INFO\tTask(Task-2) nodify.node.140358110010960:node.py:get()- No need to evaluate\n"
     ]
    },
    {
     "name": "stderr",
     "output_type": "stream",
     "text": [
      "INFO\tTask(Task-2) nodify.node.140358110019408:node.py:get()- No need to evaluate\n"
     ]
    },
    {
     "name": "stderr",
     "output_type": "stream",
     "text": [
      "INFO\tTask(Task-2) nodify.node.140358110016768:node.py:get()- No need to evaluate\n"
     ]
    },
    {
     "name": "stderr",
     "output_type": "stream",
     "text": [
      "INFO\tTask(Task-2) nodify.node.140358110016384:node.py:get()- No need to evaluate\n"
     ]
    },
    {
     "name": "stderr",
     "output_type": "stream",
     "text": [
      "INFO\tTask(Task-2) nodify.node.140358110019120:node.py:get()- No need to evaluate\n"
     ]
    },
    {
     "name": "stderr",
     "output_type": "stream",
     "text": [
      "INFO\tTask(Task-2) nodify.node.140358110019552:node.py:get()- Evaluated because inputs changed.\n"
     ]
    },
    {
     "name": "stderr",
     "output_type": "stream",
     "text": [
      "INFO\tTask(Task-2) nodify.node.140358110104800:node.py:get()- Evaluated because inputs changed.\n"
     ]
    },
    {
     "name": "stderr",
     "output_type": "stream",
     "text": [
      "INFO\tTask(Task-2) nodify.node.140358110105280:node.py:get()- Evaluated because inputs changed.\n"
     ]
    },
    {
     "data": {
      "text/html": [
       "<div>            <script src=\"https://cdnjs.cloudflare.com/ajax/libs/mathjax/2.7.5/MathJax.js?config=TeX-AMS-MML_SVG\"></script><script type=\"text/javascript\">if (window.MathJax && window.MathJax.Hub && window.MathJax.Hub.Config) {window.MathJax.Hub.Config({SVG: {font: \"STIX-Web\"}});}</script>                <script type=\"text/javascript\">window.PlotlyConfig = {MathJaxConfig: 'local'};</script>\n",
       "        <script charset=\"utf-8\" src=\"https://cdn.plot.ly/plotly-3.1.1.min.js\" integrity=\"sha256-HUEFyfiTnZJxCxur99FjbKYTvKSzwDaD3/x5TqHpFu4=\" crossorigin=\"anonymous\"></script>                <div id=\"8dcbd280-9a0d-4b8d-b443-8b381efada1d\" class=\"plotly-graph-div\" style=\"height:525px; width:100%;\"></div>            <script type=\"text/javascript\">                window.PLOTLYENV=window.PLOTLYENV || {};                                if (document.getElementById(\"8dcbd280-9a0d-4b8d-b443-8b381efada1d\")) {                    Plotly.newPlot(                        \"8dcbd280-9a0d-4b8d-b443-8b381efada1d\",                        [{\"coloraxis\":\"coloraxis\",\"meta\":{},\"opacity\":0,\"textfont\":{\"color\":\"black\"},\"z\":{\"dtype\":\"f8\",\"bdata\":\"Phrwuseb6j+rlqOVK1jpPyCmucYXz9i\\u002f\\u002fhb\\u002fOmyF6T\\u002fAxcAYjmuEvwAAAAAAAPh\\u002fAAAAAAAA+H8AAAAAAAD4fwAAAAAAAPh\\u002fzKXsS\\u002fjMgz8AAAAAAAD4fwAAAAAAAPh\\u002fAAAAAAAA+H8AAAAAAAD4fwAAAAAAAPh\\u002fq5ajlStY6T+kGPkHOmjZP7jYA1kVVrU\\u002fMB2R12O4uL9vHqYIfyHovwAAAAAAAPh\\u002fAAAAAAAA+H8AAAAAAAD4fwAAAAAAAPh\\u002fDvrj\\u002fv9klL8AAAAAAAD4fwAAAAAAAPh\\u002fAAAAAAAA+H8AAAAAAAD4fwAAAAAAAPh\\u002fIKa5xhfP2L+42ANZFVa1P+CfdIIRF9+\\u002fAIA6K+RWYz9gHdalaceaPwAAAAAAAPh\\u002fAAAAAAAA+H8AAAAAAAD4fwAAAAAAAPh\\u002fLWMEwYCopT8AAAAAAAD4fwAAAAAAAPh\\u002fAAAAAAAA+H8AAAAAAAD4fwAAAAAAAPh\\u002f\\u002fhb\\u002fOmyF6T8wHZHXY7i4vwCAOivkVmM\\u002fIAEtqSY+77+LBVEihOPkPwAAAAAAAPh\\u002fAAAAAAAA+H8AAAAAAAD4fwAAAAAAAPh\\u002fTnkA7\\u002fLWnD8AAAAAAAD4fwAAAAAAAPh\\u002fAAAAAAAA+H8AAAAAAAD4fwAAAAAAAPh\\u002fwMXAGI5rhL9vHqYIfyHov2Ad1qVpx5o\\u002fiwVRIoTj5D+0o2N+J4jZPwAAAAAAAPh\\u002fAAAAAAAA+H8AAAAAAAD4fwAAAAAAAPh\\u002fAAAAAAAA+H\\u002fMpexL+MyDPw764\\u002f7\\u002fZJS\\u002fLWMEwYCopT9OeQDv8tacPwAAAAAAAPh\\u002f\",\"shape\":\"5, 15\"},\"zsmooth\":false,\"type\":\"heatmap\"},{\"hovertext\":[\"[ 0.64113398 -0.37535607]\",\"[ 0.64113398 -0.37535607]\",\"[ 0.64113398 -0.37535607]\",\"[ 0.64113398 -0.37535607]\",\"[ 0.64113398 -0.37535607]\",\"[ 0.64113398 -0.37535607]\",\"[ 0.64113398 -0.37535607]\",\"[ 0.61067537 -0.19017596]\",\"[ 0.61067537 -0.19017596]\",\"[ 0.61067537 -0.19017596]\",\"[ 0.61067537 -0.19017596]\",\"[ 0.61067537 -0.19017596]\",\"[ 0.61067537 -0.19017596]\",\"[ 0.61067537 -0.19017596]\",\"[-0.29888673  0.22936469]\",\"[-0.29888673  0.22936469]\",\"[-0.29888673  0.22936469]\",\"[-0.29888673  0.22936469]\",\"[-0.29888673  0.22936469]\",\"[-0.29888673  0.22936469]\",\"[-0.29888673  0.22936469]\",\"[ 0.6149346  -0.19905726]\",\"[ 0.6149346  -0.19905726]\",\"[ 0.6149346  -0.19905726]\",\"[ 0.6149346  -0.19905726]\",\"[ 0.6149346  -0.19905726]\",\"[ 0.6149346  -0.19905726]\",\"[ 0.6149346  -0.19905726]\",\"[-0.00768788  0.0065079 ]\",\"[-0.00768788  0.0065079 ]\",\"[-0.00768788  0.0065079 ]\",\"[-0.00768788  0.0065079 ]\",\"[-0.00768788  0.0065079 ]\",\"[-0.00768788  0.0065079 ]\",\"[-0.00768788  0.0065079 ]\",\"[ 0. -0.]\",\"[ 0. -0.]\",\"[ 0. -0.]\",\"[ 0. -0.]\",\"[ 0. -0.]\",\"[ 0. -0.]\",\"[ 0. -0.]\",\"[ 0. -0.]\",\"[ 0. -0.]\",\"[ 0. -0.]\",\"[ 0. -0.]\",\"[ 0. -0.]\",\"[ 0. -0.]\",\"[ 0. -0.]\",\"[ 0. -0.]\",\"[ 0. -0.]\",\"[ 0. -0.]\",\"[ 0. -0.]\",\"[ 0. -0.]\",\"[ 0. -0.]\",\"[ 0. -0.]\",\"[ 0. -0.]\",\"[ 0. -0.]\",\"[ 0. -0.]\",\"[ 0. -0.]\",\"[ 0. -0.]\",\"[ 0. -0.]\",\"[ 0. -0.]\",\"[ 0.00745466 -0.00335062]\",\"[ 0.00745466 -0.00335062]\",\"[ 0.00745466 -0.00335062]\",\"[ 0.00745466 -0.00335062]\",\"[ 0.00745466 -0.00335062]\",\"[ 0.00745466 -0.00335062]\",\"[ 0.00745466 -0.00335062]\",\"[ 0. -0.]\",\"[ 0. -0.]\",\"[ 0. -0.]\",\"[ 0. -0.]\",\"[ 0. -0.]\",\"[ 0. -0.]\",\"[ 0. -0.]\",\"[ 0. -0.]\",\"[ 0. -0.]\",\"[ 0. -0.]\",\"[ 0. -0.]\",\"[ 0. -0.]\",\"[ 0. -0.]\",\"[ 0. -0.]\",\"[ 0. -0.]\",\"[ 0. -0.]\",\"[ 0. -0.]\",\"[ 0. -0.]\",\"[ 0. -0.]\",\"[ 0. -0.]\",\"[ 0. -0.]\",\"[ 0. -0.]\",\"[ 0. -0.]\",\"[ 0. -0.]\",\"[ 0. -0.]\",\"[ 0. -0.]\",\"[ 0. -0.]\",\"[ 0. -0.]\",\"[ 0. -0.]\",\"[ 0. -0.]\",\"[ 0. -0.]\",\"[ 0. -0.]\",\"[ 0. -0.]\",\"[ 0. -0.]\",\"[ 0. -0.]\",\"[ 0.61067537 -0.39575435]\",\"[ 0.61067537 -0.39575435]\",\"[ 0.61067537 -0.39575435]\",\"[ 0.61067537 -0.39575435]\",\"[ 0.61067537 -0.39575435]\",\"[ 0.61067537 -0.39575435]\",\"[ 0.61067537 -0.39575435]\",\"[ 0.30609331 -0.08031314]\",\"[ 0.30609331 -0.08031314]\",\"[ 0.30609331 -0.08031314]\",\"[ 0.30609331 -0.08031314]\",\"[ 0.30609331 -0.08031314]\",\"[ 0.30609331 -0.08031314]\",\"[ 0.30609331 -0.08031314]\",\"[ 0.06426234 -0.04367806]\",\"[ 0.06426234 -0.04367806]\",\"[ 0.06426234 -0.04367806]\",\"[ 0.06426234 -0.04367806]\",\"[ 0.06426234 -0.04367806]\",\"[ 0.06426234 -0.04367806]\",\"[ 0.06426234 -0.04367806]\",\"[-0.07445458  0.01340009]\",\"[-0.07445458  0.01340009]\",\"[-0.07445458  0.01340009]\",\"[-0.07445458  0.01340009]\",\"[-0.07445458  0.01340009]\",\"[-0.07445458  0.01340009]\",\"[-0.07445458  0.01340009]\",\"[-0.58143431  0.41736715]\",\"[-0.58143431  0.41736715]\",\"[-0.58143431  0.41736715]\",\"[-0.58143431  0.41736715]\",\"[-0.58143431  0.41736715]\",\"[-0.58143431  0.41736715]\",\"[-0.58143431  0.41736715]\",\"[ 0. -0.]\",\"[ 0. -0.]\",\"[ 0. -0.]\",\"[ 0. -0.]\",\"[ 0. -0.]\",\"[ 0. -0.]\",\"[ 0. -0.]\",\"[ 0. -0.]\",\"[ 0. -0.]\",\"[ 0. -0.]\",\"[ 0. -0.]\",\"[ 0. -0.]\",\"[ 0. -0.]\",\"[ 0. -0.]\",\"[ 0. -0.]\",\"[ 0. -0.]\",\"[ 0. -0.]\",\"[ 0. -0.]\",\"[ 0. -0.]\",\"[ 0. -0.]\",\"[ 0. -0.]\",\"[ 0. -0.]\",\"[ 0. -0.]\",\"[ 0. -0.]\",\"[ 0. -0.]\",\"[ 0. -0.]\",\"[ 0. -0.]\",\"[ 0. -0.]\",\"[-0.01535649  0.00100479]\",\"[-0.01535649  0.00100479]\",\"[-0.01535649  0.00100479]\",\"[-0.01535649  0.00100479]\",\"[-0.01535649  0.00100479]\",\"[-0.01535649  0.00100479]\",\"[-0.01535649  0.00100479]\",\"[ 0. -0.]\",\"[ 0. -0.]\",\"[ 0. -0.]\",\"[ 0. -0.]\",\"[ 0. -0.]\",\"[ 0. -0.]\",\"[ 0. -0.]\",\"[ 0. -0.]\",\"[ 0. -0.]\",\"[ 0. -0.]\",\"[ 0. -0.]\",\"[ 0. -0.]\",\"[ 0. -0.]\",\"[ 0. -0.]\",\"[ 0. -0.]\",\"[ 0. -0.]\",\"[ 0. -0.]\",\"[ 0. -0.]\",\"[ 0. -0.]\",\"[ 0. -0.]\",\"[ 0. -0.]\",\"[ 0. -0.]\",\"[ 0. -0.]\",\"[ 0. -0.]\",\"[ 0. -0.]\",\"[ 0. -0.]\",\"[ 0. -0.]\",\"[ 0. -0.]\",\"[ 0. -0.]\",\"[ 0. -0.]\",\"[ 0. -0.]\",\"[ 0. -0.]\",\"[ 0. -0.]\",\"[ 0. -0.]\",\"[ 0. -0.]\",\"[-0.29888673  0.27386468]\",\"[-0.29888673  0.27386468]\",\"[-0.29888673  0.27386468]\",\"[-0.29888673  0.27386468]\",\"[-0.29888673  0.27386468]\",\"[-0.29888673  0.27386468]\",\"[-0.29888673  0.27386468]\",\"[ 0.06426234 -0.0138474 ]\",\"[ 0.06426234 -0.0138474 ]\",\"[ 0.06426234 -0.0138474 ]\",\"[ 0.06426234 -0.0138474 ]\",\"[ 0.06426234 -0.0138474 ]\",\"[ 0.06426234 -0.0138474 ]\",\"[ 0.06426234 -0.0138474 ]\",\"[-0.37455915  0.15306776]\",\"[-0.37455915  0.15306776]\",\"[-0.37455915  0.15306776]\",\"[-0.37455915  0.15306776]\",\"[-0.37455915  0.15306776]\",\"[-0.37455915  0.15306776]\",\"[-0.37455915  0.15306776]\",\"[ 0.00182025 -0.00052569]\",\"[ 0.00182025 -0.00052569]\",\"[ 0.00182025 -0.00052569]\",\"[ 0.00182025 -0.00052569]\",\"[ 0.00182025 -0.00052569]\",\"[ 0.00182025 -0.00052569]\",\"[ 0.00182025 -0.00052569]\",\"[ 0.02016377 -0.00722601]\",\"[ 0.02016377 -0.00722601]\",\"[ 0.02016377 -0.00722601]\",\"[ 0.02016377 -0.00722601]\",\"[ 0.02016377 -0.00722601]\",\"[ 0.02016377 -0.00722601]\",\"[ 0.02016377 -0.00722601]\",\"[ 0. -0.]\",\"[ 0. -0.]\",\"[ 0. -0.]\",\"[ 0. -0.]\",\"[ 0. -0.]\",\"[ 0. -0.]\",\"[ 0. -0.]\",\"[ 0. -0.]\",\"[ 0. -0.]\",\"[ 0. -0.]\",\"[ 0. -0.]\",\"[ 0. -0.]\",\"[ 0. -0.]\",\"[ 0. -0.]\",\"[ 0. -0.]\",\"[ 0. -0.]\",\"[ 0. -0.]\",\"[ 0. -0.]\",\"[ 0. -0.]\",\"[ 0. -0.]\",\"[ 0. -0.]\",\"[ 0. -0.]\",\"[ 0. -0.]\",\"[ 0. -0.]\",\"[ 0. -0.]\",\"[ 0. -0.]\",\"[ 0. -0.]\",\"[ 0. -0.]\",\"[ 0.03261601 -0.02888862]\",\"[ 0.03261601 -0.02888862]\",\"[ 0.03261601 -0.02888862]\",\"[ 0.03261601 -0.02888862]\",\"[ 0.03261601 -0.02888862]\",\"[ 0.03261601 -0.02888862]\",\"[ 0.03261601 -0.02888862]\",\"[ 0. -0.]\",\"[ 0. -0.]\",\"[ 0. -0.]\",\"[ 0. -0.]\",\"[ 0. -0.]\",\"[ 0. -0.]\",\"[ 0. -0.]\",\"[ 0. -0.]\",\"[ 0. -0.]\",\"[ 0. -0.]\",\"[ 0. -0.]\",\"[ 0. -0.]\",\"[ 0. -0.]\",\"[ 0. -0.]\",\"[ 0. -0.]\",\"[ 0. -0.]\",\"[ 0. -0.]\",\"[ 0. -0.]\",\"[ 0. -0.]\",\"[ 0. -0.]\",\"[ 0. -0.]\",\"[ 0. -0.]\",\"[ 0. -0.]\",\"[ 0. -0.]\",\"[ 0. -0.]\",\"[ 0. -0.]\",\"[ 0. -0.]\",\"[ 0. -0.]\",\"[ 0. -0.]\",\"[ 0. -0.]\",\"[ 0. -0.]\",\"[ 0. -0.]\",\"[ 0. -0.]\",\"[ 0. -0.]\",\"[ 0. -0.]\",\"[ 0.6149346  -0.37332403]\",\"[ 0.6149346  -0.37332403]\",\"[ 0.6149346  -0.37332403]\",\"[ 0.6149346  -0.37332403]\",\"[ 0.6149346  -0.37332403]\",\"[ 0.6149346  -0.37332403]\",\"[ 0.6149346  -0.37332403]\",\"[-0.07445458  0.00685602]\",\"[-0.07445458  0.00685602]\",\"[-0.07445458  0.00685602]\",\"[-0.07445458  0.00685602]\",\"[-0.07445458  0.00685602]\",\"[-0.07445458  0.00685602]\",\"[-0.07445458  0.00685602]\",\"[ 0.00182025 -0.00121839]\",\"[ 0.00182025 -0.00121839]\",\"[ 0.00182025 -0.00121839]\",\"[ 0.00182025 -0.00121839]\",\"[ 0.00182025 -0.00121839]\",\"[ 0.00182025 -0.00121839]\",\"[ 0.00182025 -0.00121839]\",\"[-0.75279681  0.65825296]\",\"[-0.75279681  0.65825296]\",\"[-0.75279681  0.65825296]\",\"[-0.75279681  0.65825296]\",\"[-0.75279681  0.65825296]\",\"[-0.75279681  0.65825296]\",\"[-0.75279681  0.65825296]\",\"[ 0.50331546 -0.48651688]\",\"[ 0.50331546 -0.48651688]\",\"[ 0.50331546 -0.48651688]\",\"[ 0.50331546 -0.48651688]\",\"[ 0.50331546 -0.48651688]\",\"[ 0.50331546 -0.48651688]\",\"[ 0.50331546 -0.48651688]\",\"[ 0. -0.]\",\"[ 0. -0.]\",\"[ 0. -0.]\",\"[ 0. -0.]\",\"[ 0. -0.]\",\"[ 0. -0.]\",\"[ 0. -0.]\",\"[ 0. -0.]\",\"[ 0. -0.]\",\"[ 0. -0.]\",\"[ 0. -0.]\",\"[ 0. -0.]\",\"[ 0. -0.]\",\"[ 0. -0.]\",\"[ 0. -0.]\",\"[ 0. -0.]\",\"[ 0. -0.]\",\"[ 0. -0.]\",\"[ 0. -0.]\",\"[ 0. -0.]\",\"[ 0. -0.]\",\"[ 0. -0.]\",\"[ 0. -0.]\",\"[ 0. -0.]\",\"[ 0. -0.]\",\"[ 0. -0.]\",\"[ 0. -0.]\",\"[ 0. -0.]\",\"[ 0.02171541 -0.01611958]\",\"[ 0.02171541 -0.01611958]\",\"[ 0.02171541 -0.01611958]\",\"[ 0.02171541 -0.01611958]\",\"[ 0.02171541 -0.01611958]\",\"[ 0.02171541 -0.01611958]\",\"[ 0.02171541 -0.01611958]\",\"[ 0. -0.]\",\"[ 0. -0.]\",\"[ 0. -0.]\",\"[ 0. -0.]\",\"[ 0. -0.]\",\"[ 0. -0.]\",\"[ 0. -0.]\",\"[ 0. -0.]\",\"[ 0. -0.]\",\"[ 0. -0.]\",\"[ 0. -0.]\",\"[ 0. -0.]\",\"[ 0. -0.]\",\"[ 0. -0.]\",\"[ 0. -0.]\",\"[ 0. -0.]\",\"[ 0. -0.]\",\"[ 0. -0.]\",\"[ 0. -0.]\",\"[ 0. -0.]\",\"[ 0. -0.]\",\"[ 0. -0.]\",\"[ 0. -0.]\",\"[ 0. -0.]\",\"[ 0. -0.]\",\"[ 0. -0.]\",\"[ 0. -0.]\",\"[ 0. -0.]\",\"[ 0. -0.]\",\"[ 0. -0.]\",\"[ 0. -0.]\",\"[ 0. -0.]\",\"[ 0. -0.]\",\"[ 0. -0.]\",\"[ 0. -0.]\",\"[-0.00768788  0.00497638]\",\"[-0.00768788  0.00497638]\",\"[-0.00768788  0.00497638]\",\"[-0.00768788  0.00497638]\",\"[-0.00768788  0.00497638]\",\"[-0.00768788  0.00497638]\",\"[-0.00768788  0.00497638]\",\"[-0.58143431  0.09152609]\",\"[-0.58143431  0.09152609]\",\"[-0.58143431  0.09152609]\",\"[-0.58143431  0.09152609]\",\"[-0.58143431  0.09152609]\",\"[-0.58143431  0.09152609]\",\"[-0.58143431  0.09152609]\",\"[ 0.02016377 -0.00710655]\",\"[ 0.02016377 -0.00710655]\",\"[ 0.02016377 -0.00710655]\",\"[ 0.02016377 -0.00710655]\",\"[ 0.02016377 -0.00710655]\",\"[ 0.02016377 -0.00710655]\",\"[ 0.02016377 -0.00710655]\",\"[ 0.50331546 -0.00456431]\",\"[ 0.50331546 -0.00456431]\",\"[ 0.50331546 -0.00456431]\",\"[ 0.50331546 -0.00456431]\",\"[ 0.50331546 -0.00456431]\",\"[ 0.50331546 -0.00456431]\",\"[ 0.50331546 -0.00456431]\",\"[ 0.30759585 -0.20403209]\",\"[ 0.30759585 -0.20403209]\",\"[ 0.30759585 -0.20403209]\",\"[ 0.30759585 -0.20403209]\",\"[ 0.30759585 -0.20403209]\",\"[ 0.30759585 -0.20403209]\",\"[ 0.30759585 -0.20403209]\",\"[ 0. -0.]\",\"[ 0. -0.]\",\"[ 0. -0.]\",\"[ 0. -0.]\",\"[ 0. -0.]\",\"[ 0. -0.]\",\"[ 0. -0.]\",\"[ 0. -0.]\",\"[ 0. -0.]\",\"[ 0. -0.]\",\"[ 0. -0.]\",\"[ 0. -0.]\",\"[ 0. -0.]\",\"[ 0. -0.]\",\"[ 0. -0.]\",\"[ 0. -0.]\",\"[ 0. -0.]\",\"[ 0. -0.]\",\"[ 0. -0.]\",\"[ 0. -0.]\",\"[ 0. -0.]\",\"[ 0. -0.]\",\"[ 0. -0.]\",\"[ 0. -0.]\",\"[ 0. -0.]\",\"[ 0. -0.]\",\"[ 0. -0.]\",\"[ 0. -0.]\",\"[ 0. -0.]\",\"[ 0. -0.]\",\"[ 0. -0.]\",\"[ 0. -0.]\",\"[ 0. -0.]\",\"[ 0. -0.]\",\"[ 0. -0.]\",\"[ 0.00745466 -0.00407128]\",\"[ 0.00745466 -0.00407128]\",\"[ 0.00745466 -0.00407128]\",\"[ 0.00745466 -0.00407128]\",\"[ 0.00745466 -0.00407128]\",\"[ 0.00745466 -0.00407128]\",\"[ 0.00745466 -0.00407128]\",\"[-0.01535649  0.01421934]\",\"[-0.01535649  0.01421934]\",\"[-0.01535649  0.01421934]\",\"[-0.01535649  0.01421934]\",\"[-0.01535649  0.01421934]\",\"[-0.01535649  0.01421934]\",\"[-0.01535649  0.01421934]\",\"[ 0.03261601 -0.00335838]\",\"[ 0.03261601 -0.00335838]\",\"[ 0.03261601 -0.00335838]\",\"[ 0.03261601 -0.00335838]\",\"[ 0.03261601 -0.00335838]\",\"[ 0.03261601 -0.00335838]\",\"[ 0.03261601 -0.00335838]\",\"[ 0.02171541 -0.01947868]\",\"[ 0.02171541 -0.01947868]\",\"[ 0.02171541 -0.01947868]\",\"[ 0.02171541 -0.01947868]\",\"[ 0.02171541 -0.01947868]\",\"[ 0.02171541 -0.01947868]\",\"[ 0.02171541 -0.01947868]\",\"[ 0. -0.]\",\"[ 0. -0.]\",\"[ 0. -0.]\",\"[ 0. -0.]\",\"[ 0. -0.]\",\"[ 0. -0.]\",\"[ 0. -0.]\"],\"line\":{\"color\":\"red\"},\"meta\":{},\"mode\":\"lines\",\"x\":{\"dtype\":\"f8\",\"bdata\":\"MEPKaCuE1L8wQ8poK4TUPwAAAAAAAPh\\u002fmtjTkVjlzD8wQ8poK4TUPxu\\u002fVP6mUsY\\u002fAAAAAAAA+H\\u002fw4n11rDrmP4gOQcWp4vQ\\u002fAAAAAAAA+H+spQwF2kHzP4gOQcWp4vQ\\u002f1+uvlUjX8j8AAAAAAAD4f+GIG10PMgFAPO7IReGb\\u002fT8AAAAAAAD4f+75b6GyQf4\\u002fPO7IReGb\\u002fT+7nPTUOcL+PwAAAAAAAPh\\u002fJxtelU6KBUDa5KFqsXUKQAAAAAAAAPh\\u002fNQFfYOSkCUDa5KFqsXUKQEh8oKEebQlAAAAAAAAA+H\\u002foNpOq7wMQQDGS2aog+A9AAAAAAAAA+H+A\\u002f\\u002f3JLPoPQDGS2aog+A9AuICNlP\\u002f7D0AAAAAAAAD4fwAAAAAAABRAAAAAAAAAFEAAAAAAAAD4fwAAAAAAABRAAAAAAAAAFEAAAAAAAAAUQAAAAAAAAPh\\u002fAAAAAAAAGEAAAAAAAAAYQAAAAAAAAPh\\u002fAAAAAAAAGEAAAAAAAAAYQAAAAAAAABhAAAAAAAAA+H8AAAAAAAAcQAAAAAAAABxAAAAAAAAA+H8AAAAAAAAcQAAAAAAAABxAAAAAAAAAHEAAAAAAAAD4fwAAAAAAACBAAAAAAAAAIEAAAAAAAAD4fwAAAAAAACBAAAAAAAAAIEAAAAAAAAAgQAAAAAAAAPh\\u002fZw+Kcxf+IUCa8HWM6AEiQAAAAAAAAPh\\u002fiO+h9E4BIkCa8HWM6AEiQKSnj98SASJAAAAAAAAA+H8AAAAAAAAkQAAAAAAAACRAAAAAAAAA+H8AAAAAAAAkQAAAAAAAACRAAAAAAAAAJEAAAAAAAAD4fwAAAAAAACZAAAAAAAAAJkAAAAAAAAD4fwAAAAAAACZAAAAAAAAAJkAAAAAAAAAmQAAAAAAAAPh\\u002fAAAAAAAAKEAAAAAAAAAoQAAAAAAAAPh\\u002fAAAAAAAAKEAAAAAAAAAoQAAAAAAAAChAAAAAAAAA+H8AAAAAAAAqQAAAAAAAACpAAAAAAAAA+H8AAAAAAAAqQAAAAAAAACpAAAAAAAAAKkAAAAAAAAD4fwAAAAAAACxAAAAAAAAALEAAAAAAAAD4fwAAAAAAACxAAAAAAAAALEAAAAAAAAAsQAAAAAAAAPh\\u002fIToEFaeK078hOgQVp4rTPwAAAAAAAPh\\u002fUugxCZzbyz8hOgQVp4rTP8mjssx47cQ\\u002fAAAAAAAA+H\\u002fTYcjlPRrrPxbPGw3hcvI\\u002fAAAAAAAA+H\\u002f1SHaDwJ3xPxbPGw3hcvI\\u002fQ0IcTb9w8T8AAAAAAAD4f0EfQgdkfP8\\u002fX\\u002fBe\\u002fM1BAEAAAAAAAAD4f29SI2kwLwBAX\\u002fBe\\u002fM1BAEDvLKiF8yIAQAAAAAAAAPh\\u002f\\u002fspK0j1MCEACNbUtwrMHQAAAAAAAAPh\\u002fcREk6InOB0ACNbUtwrMHQFdtcg1L0gdAAAAAAAAA+H\\u002fFUSXCsSkRQHhctXucrA1AAAAAAAAA+H+PSoFF71EOQHhctXucrA1AHgjssN\\u002fGDkAAAAAAAAD4fwAAAAAAABRAAAAAAAAAFEAAAAAAAAD4fwAAAAAAABRAAAAAAAAAFEAAAAAAAAAUQAAAAAAAAPh\\u002fAAAAAAAAGEAAAAAAAAAYQAAAAAAAAPh\\u002fAAAAAAAAGEAAAAAAAAAYQAAAAAAAABhAAAAAAAAA+H8AAAAAAAAcQAAAAAAAABxAAAAAAAAA+H8AAAAAAAAcQAAAAAAAABxAAAAAAAAAHEAAAAAAAAD4fwAAAAAAACBAAAAAAAAAIEAAAAAAAAD4fwAAAAAAACBAAAAAAAAAIEAAAAAAAAAgQAAAAAAAAPh\\u002fzngaZ+4DIkAxh+WYEfwhQAAAAAAAAPh\\u002fIelE34L9IUAxh+WYEfwhQG+DxuOU\\u002fSFAAAAAAAAA+H8AAAAAAAAkQAAAAAAAACRAAAAAAAAA+H8AAAAAAAAkQAAAAAAAACRAAAAAAAAAJEAAAAAAAAD4fwAAAAAAACZAAAAAAAAAJkAAAAAAAAD4fwAAAAAAACZAAAAAAAAAJkAAAAAAAAAmQAAAAAAAAPh\\u002fAAAAAAAAKEAAAAAAAAAoQAAAAAAAAPh\\u002fAAAAAAAAKEAAAAAAAAAoQAAAAAAAAChAAAAAAAAA+H8AAAAAAAAqQAAAAAAAACpAAAAAAAAA+H8AAAAAAAAqQAAAAAAAACpAAAAAAAAAKkAAAAAAAAD4fwAAAAAAACxAAAAAAAAALEAAAAAAAAD4fwAAAAAAACxAAAAAAAAALEAAAAAAAAAsQAAAAAAAAPh\\u002fF4640fUgwz8XjrjR9SDDvwAAAAAAAPh\\u002fR+KGY1OsvL8XjrjR9SDDvwazLzblFLO\\u002fAAAAAAAA+H+CPoQOyPjuP7\\u002fgvfibg\\u002fA\\u002fAAAAAAAA+H9suqMpBVbwP7\\u002fgvfibg\\u002fA\\u002fUkTzs0JO8D8AAAAAAAD4fwVGEG+MfwFA93PfIecA\\u002fT8AAAAAAAD4f6v4HqBZ9v0\\u002f93PfIecA\\u002fT\\u002fEJgHBH0z+PwAAAAAAAPh\\u002fAzDv1CL+B0D8zxAr3QEIQAAAAAAAAPh\\u002fs3wnqjwBCED8zxAr3QEIQFPzZ\\u002fUWAQhAAAAAAAAA+H+fEB0wWusPQLF38edSChBAAAAAAAAA+H+ax68S8wYQQLF38edSChBAveNy7O8FEEAAAAAAAAD4fwAAAAAAABRAAAAAAAAAFEAAAAAAAAD4fwAAAAAAABRAAAAAAAAAFEAAAAAAAAAUQAAAAAAAAPh\\u002fAAAAAAAAGEAAAAAAAAAYQAAAAAAAAPh\\u002fAAAAAAAAGEAAAAAAAAAYQAAAAAAAABhAAAAAAAAA+H8AAAAAAAAcQAAAAAAAABxAAAAAAAAA+H8AAAAAAAAcQAAAAAAAABxAAAAAAAAAHEAAAAAAAAD4fwAAAAAAACBAAAAAAAAAIEAAAAAAAAD4fwAAAAAAACBAAAAAAAAAIEAAAAAAAAAgQAAAAAAAAPh\\u002fwh8weqb3IUA+4M+FWQgiQAAAAAAAAPh\\u002fQPqNFjkGIkA+4M+FWQgiQOXJ2xAzBCJAAAAAAAAA+H8AAAAAAAAkQAAAAAAAACRAAAAAAAAA+H8AAAAAAAAkQAAAAAAAACRAAAAAAAAAJEAAAAAAAAD4fwAAAAAAACZAAAAAAAAAJkAAAAAAAAD4fwAAAAAAACZAAAAAAAAAJkAAAAAAAAAmQAAAAAAAAPh\\u002fAAAAAAAAKEAAAAAAAAAoQAAAAAAAAPh\\u002fAAAAAAAAKEAAAAAAAAAoQAAAAAAAAChAAAAAAAAA+H8AAAAAAAAqQAAAAAAAACpAAAAAAAAA+H8AAAAAAAAqQAAAAAAAACpAAAAAAAAAKkAAAAAAAAD4fwAAAAAAACxAAAAAAAAALEAAAAAAAAD4fwAAAAAAACxAAAAAAAAALEAAAAAAAAAsQAAAAAAAAPh\\u002fyiYPVYut07\\u002fKJg9Vi63TPwAAAAAAAPh\\u002f9Gua1eLUyz\\u002fKJg9Vi63TP81rXUpNS8U\\u002fAAAAAAAA+H\\u002f8lZWke5jwPwbU1LYIz+4\\u002fAAAAAAAA+H+xM9ll0j3vPwbU1LYIz+4\\u002fa8eAcIFF7z8AAAAAAAD4fwdg3qlF\\u002fP8\\u002f\\u002fc8QK90BAEAAAAAAAAD4f0uF34FVAQBA\\u002fc8QK90BAEC86q8d\\u002fgAAQAAAAAAAAPh\\u002feMG1Kt0CC0CIPkrVIv0EQAAAAAAAAPh\\u002fkb7SpqvCBUCIPkrVIv0EQOdMlwsaewZAAAAAAAAA+H9X4fDemvwNQFSPh5CyARFAAAAAAAAA+H9DGinS6cIQQFSPh5CyARFAYq6AqsF+EEAAAAAAAAD4fwAAAAAAABRAAAAAAAAAFEAAAAAAAAD4fwAAAAAAABRAAAAAAAAAFEAAAAAAAAAUQAAAAAAAAPh\\u002fAAAAAAAAGEAAAAAAAAAYQAAAAAAAAPh\\u002fAAAAAAAAGEAAAAAAAAAYQAAAAAAAABhAAAAAAAAA+H8AAAAAAAAcQAAAAAAAABxAAAAAAAAA+H8AAAAAAAAcQAAAAAAAABxAAAAAAAAAHEAAAAAAAAD4fwAAAAAAACBAAAAAAAAAIEAAAAAAAAD4fwAAAAAAACBAAAAAAAAAIEAAAAAAAAAgQAAAAAAAAPh\\u002fqhnb23D6IUBX5iQkjwUiQAAAAAAAAPh\\u002fw6SrvQgEIkBX5iQkjwUiQDEvc7DnAiJAAAAAAAAA+H8AAAAAAAAkQAAAAAAAACRAAAAAAAAA+H8AAAAAAAAkQAAAAAAAACRAAAAAAAAAJEAAAAAAAAD4fwAAAAAAACZAAAAAAAAAJkAAAAAAAAD4fwAAAAAAACZAAAAAAAAAJkAAAAAAAAAmQAAAAAAAAPh\\u002fAAAAAAAAKEAAAAAAAAAoQAAAAAAAAPh\\u002fAAAAAAAAKEAAAAAAAAAoQAAAAAAAAChAAAAAAAAA+H8AAAAAAAAqQAAAAAAAACpAAAAAAAAA+H8AAAAAAAAqQAAAAAAAACpAAAAAAAAAKkAAAAAAAAD4fwAAAAAAACxAAAAAAAAALEAAAAAAAAD4fwAAAAAAACxAAAAAAAAALEAAAAAAAAAsQAAAAAAAAPh\\u002f6T23mVR9bz\\u002fpPbeZVH1vvwAAAAAAAPh\\u002fnBJRCyRxZr\\u002fpPbeZVH1vv+wRrsZh3WC\\u002fAAAAAAAA+H8SR5UIx6b0P9tx1e5xsuY\\u002fAAAAAAAA+H+7U3osVP7pP9tx1e5xsuY\\u002f8PY6redk6j8AAAAAAAD4fz0hOmC01v8\\u002fYe\\u002fiz6UUAEAAAAAAAAD4f9zflNzhDQBAYe\\u002fiz6UUAEDOdrAh5AsAQAAAAAAAAPh\\u002fV+Hw3pr8BUCoHg8hZQMKQAAAAAAAAPh\\u002fNybALU9CCUCoHg8hZQMKQBJrk8sHQQlAAAAAAAAA+H\\u002f40RmYBcUOQAQX8zN9nRBAAAAAAAAA+H+1yv+IlXAQQAQX8zN9nRBAIXmMPwBUEEAAAAAAAAD4fwAAAAAAABRAAAAAAAAAFEAAAAAAAAD4fwAAAAAAABRAAAAAAAAAFEAAAAAAAAAUQAAAAAAAAPh\\u002fAAAAAAAAGEAAAAAAAAAYQAAAAAAAAPh\\u002fAAAAAAAAGEAAAAAAAAAYQAAAAAAAABhAAAAAAAAA+H8AAAAAAAAcQAAAAAAAABxAAAAAAAAA+H8AAAAAAAAcQAAAAAAAABxAAAAAAAAAHEAAAAAAAAD4fwAAAAAAACBAAAAAAAAAIEAAAAAAAAD4fwAAAAAAACBAAAAAAAAAIEAAAAAAAAAgQAAAAAAAAPh\\u002fAAAAAAAAIkAAAAAAAAAiQAAAAAAAAPh\\u002fAAAAAAAAIkAAAAAAAAAiQAAAAAAAACJAAAAAAAAA+H9nD4pzF\\u002f4jQJrwdYzoASRAAAAAAAAA+H\\u002fCm7tqVQEkQJrwdYzoASRAaft1aQwBJEAAAAAAAAD4f854GmfuAyZAMYflmBH8JUAAAAAAAAD4f9cneGQM\\u002fSVAMYflmBH8JUC5RJNeC\\u002f4lQAAAAAAAAPh\\u002fwh8weqb3J0A+4M+FWQgoQAAAAAAAAPh\\u002fsj4NMFQFKEA+4M+FWQgoQHOFXPcXBShAAAAAAAAA+H+qGdvbcPopQFfmJCSPBSpAAAAAAAAA+H+kjanbJgQqQFfmJCSPBSpAUEZ1kskCKkAAAAAAAAD4fwAAAAAAACxAAAAAAAAALEAAAAAAAAD4fwAAAAAAACxAAAAAAAAALEAAAAAAAAAsQAAAAAAAAPh\\u002f\"},\"y\":{\"dtype\":\"f8\",\"bdata\":\"pBRQetUFyD+kFFB61QXIvwAAAAAAAPh\\u002f0SnON1nCsr+kFFB61QXIv4tewKlUm8S\\u002fAAAAAAAA+H8L7CuYr1e4PwvsK5ivV7i\\u002fAAAAAAAA+H9YzB3Z5v6RvwvsK5ivV7i\\u002fGmJHc\\u002fPiub8AAAAAAAD4f1jOz33SW72\\u002fWM7PfdJbvT8AAAAAAAD4f+6kh+HRLao\\u002fWM7PfdJbvT+MhQ40r463PwAAAAAAAPh\\u002fpaR2W7V6uT+lpHZbtXq5vwAAAAAAAPh\\u002fOCP30w+JlL+lpHZbtXq5v1lJwrmtq7q\\u002fAAAAAAAA+H+YUgIWCKhqv5hSAhYIqGo\\u002fAAAAAAAA+H\\u002fbzmkLXKhYP5hSAhYIqGo\\u002fNE0tw+PxZD8AAAAAAAD4fwAAAAAAAAAAAAAAAAAAAAAAAAAAAAD4fwAAAAAAAAAAAAAAAAAAAAAAAAAAAAAAAAAAAAAAAPh\\u002fAAAAAAAAAAAAAAAAAAAAAAAAAAAAAPh\\u002fAAAAAAAAAAAAAAAAAAAAAAAAAAAAAAAAAAAAAAAA+H8AAAAAAAAAAAAAAAAAAAAAAAAAAAAA+H8AAAAAAAAAAAAAAAAAAAAAAAAAAAAAAAAAAAAAAAD4fwAAAAAAAAAAAAAAAAAAAAAAAAAAAAD4fwAAAAAAAAAAAAAAAAAAAAAAAAAAAAAAAAAAAAAAAPh\\u002fyD1JxcFyWz\\u002fIPUnFwXJbvwAAAAAAAPh\\u002fWunU+YaNQb\\u002fIPUnFwXJbv8lreV5bfFm\\u002fAAAAAAAA+H8AAAAAAAAAAAAAAAAAAAAAAAAAAAAA+H8AAAAAAAAAAAAAAAAAAAAAAAAAAAAAAAAAAAAAAAD4fwAAAAAAAAAAAAAAAAAAAAAAAAAAAAD4fwAAAAAAAAAAAAAAAAAAAAAAAAAAAAAAAAAAAAAAAPh\\u002fAAAAAAAAAAAAAAAAAAAAAAAAAAAAAPh\\u002fAAAAAAAAAAAAAAAAAAAAAAAAAAAAAAAAAAAAAAAA+H8AAAAAAAAAAAAAAAAAAAAAAAAAAAAA+H8AAAAAAAAAAAAAAAAAAAAAAAAAAAAAAAAAAAAAAAD4fwAAAAAAAAAAAAAAAAAAAAAAAAAAAAD4fwAAAAAAAAAAAAAAAAAAAAAAAAAAAAAAAAAAAAAAAPh\\u002ftvf7QYEq8z+UEAh8\\u002farpPwAAAAAAAPh\\u002fXw0f\\u002fn1i7T+UEAh8\\u002farpP34Pf8YWtuo\\u002fAAAAAAAA+H\\u002fd2sw2e6TwP0RKZpIJt+4\\u002fAAAAAAAA+H9eAVQLNt7vP0RKZpIJt+4\\u002fdswNpCmH7j8AAAAAAAD4fykeOOJzWfA\\u002frcOPOxhN7z8AAAAAAAD4f\\u002fiA+\\u002fpZtO8\\u002frcOPOxhN7z8uFsylVGzvPwAAAAAAAPh\\u002f8A1O\\u002fRzJ7z8I+ViBcRvwPwAAAAAAAPh\\u002f39T3xoj47z8I+ViBcRvwP+P3Zyv9JfA\\u002fAAAAAAAA+H8kZsLSdlLpP+7MnpbEVvM\\u002fAAAAAAAA+H8nPfmDknLxP+7MnpbEVvM\\u002fMmcxY2O48j8AAAAAAAD4fwAAAAAAAPA\\u002fAAAAAAAA8D8AAAAAAAD4fwAAAAAAAPA\\u002fAAAAAAAA8D8AAAAAAADwPwAAAAAAAPh\\u002fAAAAAAAA8D8AAAAAAADwPwAAAAAAAPh\\u002fAAAAAAAA8D8AAAAAAADwPwAAAAAAAPA\\u002fAAAAAAAA+H8AAAAAAADwPwAAAAAAAPA\\u002fAAAAAAAA+H8AAAAAAADwPwAAAAAAAPA\\u002fAAAAAAAA8D8AAAAAAAD4fwAAAAAAAPA\\u002fAAAAAAAA8D8AAAAAAAD4fwAAAAAAAPA\\u002fAAAAAAAA8D8AAAAAAADwPwAAAAAAAPh\\u002fOpCtZuL77z\\u002fjN6nMDgLwPwAAAAAAAPh\\u002fjH6Vofb57z\\u002fjN6nMDgLwPyjEeUKWBfA\\u002fAAAAAAAA+H8AAAAAAADwPwAAAAAAAPA\\u002fAAAAAAAA+H8AAAAAAADwPwAAAAAAAPA\\u002fAAAAAAAA8D8AAAAAAAD4fwAAAAAAAPA\\u002fAAAAAAAA8D8AAAAAAAD4fwAAAAAAAPA\\u002fAAAAAAAA8D8AAAAAAADwPwAAAAAAAPh\\u002fAAAAAAAA8D8AAAAAAADwPwAAAAAAAPh\\u002fAAAAAAAA8D8AAAAAAADwPwAAAAAAAPA\\u002fAAAAAAAA+H8AAAAAAADwPwAAAAAAAPA\\u002fAAAAAAAA+H8AAAAAAADwPwAAAAAAAPA\\u002fAAAAAAAA8D8AAAAAAAD4fwAAAAAAAPA\\u002fAAAAAAAA8D8AAAAAAAD4fwAAAAAAAPA\\u002fAAAAAAAA8D8AAAAAAADwPwAAAAAAAPh\\u002fgzh8CSDP\\u002fT+\\u002f40H7bxgBQAAAAAAAAPh\\u002femTv7CeFAEC\\u002f40H7bxgBQBK6CR\\u002fm2ABAAAAAAAAA+H9hJSYDLg4AQD+1s\\u002fmj4\\u002f8\\u002fAAAAAAAA+H9OzLQXJwAAQD+1s\\u002fmj4\\u002f8\\u002fNuPRhEvc\\u002fz8AAAAAAAD4f9\\u002fUxWiExv4\\u002fkBWdy72cAEAAAAAAAAD4f144AXZaLQBAkBWdy72cAEChExNmTJYAQAAAAAAAAPh\\u002f9j1vzokAAEAThCFj7P7\\u002fPwAAAAAAAPh\\u002fVd1ui9b\\u002f\\u002fz8ThCFj7P7\\u002fP9WAPmzR\\u002fv8\\u002fAAAAAAAA+H8tP1FBZgcAQKWBXX0z8f8\\u002fAAAAAAAA+H+ReIHJafz\\u002fP6WBXX0z8f8\\u002f\\u002fzRtOB3x\\u002fz8AAAAAAAD4fwAAAAAAAABAAAAAAAAAAEAAAAAAAAD4fwAAAAAAAABAAAAAAAAAAEAAAAAAAAAAQAAAAAAAAPh\\u002fAAAAAAAAAEAAAAAAAAAAQAAAAAAAAPh\\u002fAAAAAAAAAEAAAAAAAAAAQAAAAAAAAABAAAAAAAAA+H8AAAAAAAAAQAAAAAAAAABAAAAAAAAA+H8AAAAAAAAAQAAAAAAAAABAAAAAAAAAAEAAAAAAAAD4fwAAAAAAAABAAAAAAAAAAEAAAAAAAAD4fwAAAAAAAABAAAAAAAAAAEAAAAAAAAAAQAAAAAAAAPh\\u002fkEiK+pQdAEDgbusK1sT\\u002fPwAAAAAAAPh\\u002fAyzGgDbk\\u002fz\\u002fgbusK1sT\\u002fP\\u002fICJp7v0f8\\u002fAAAAAAAA+H8AAAAAAAAAQAAAAAAAAABAAAAAAAAA+H8AAAAAAAAAQAAAAAAAAABAAAAAAAAAAEAAAAAAAAD4fwAAAAAAAABAAAAAAAAAAEAAAAAAAAD4fwAAAAAAAABAAAAAAAAAAEAAAAAAAAAAQAAAAAAAAPh\\u002fAAAAAAAAAEAAAAAAAAAAQAAAAAAAAPh\\u002fAAAAAAAAAEAAAAAAAAAAQAAAAAAAAABAAAAAAAAA+H8AAAAAAAAAQAAAAAAAAABAAAAAAAAA+H8AAAAAAAAAQAAAAAAAAABAAAAAAAAAAEAAAAAAAAD4fwAAAAAAAABAAAAAAAAAAEAAAAAAAAD4fwAAAAAAAABAAAAAAAAAAEAAAAAAAAAAQAAAAAAAAPh\\u002fXV6Fp0h+CUCjoXpYt4EGQAAAAAAAAPh\\u002fuaRfE45nB0CjoXpYt4EGQLWAOcVCuwZAAAAAAAAA+H8MlGe8+vgHQPNrmEMFBwhAAAAAAAAA+H\\u002forbyE8\\u002fkHQPNrmEMFBwhAobSy6M8OCEAAAAAAAAD4fwyi3mQ\\u002fAQhA9F0hm8D+B0AAAAAAAAD4f4Mmd\\u002fB5\\u002fwdA9F0hm8D+B0BD+N5g9\\u002f4HQAAAAAAAAPh\\u002f3iBq7\\u002fJdBUAi35UQDaIKQAAAAAAAAPh\\u002fs2yD9jo7CUAi35UQDaIKQGS5r68mDgpAAAAAAAAA+H\\u002f4gvN6MfIJQAl9DIXODQZAAAAAAAAA+H9SkHmKkw8HQAl9DIXODQZA82thUo6CBkAAAAAAAAD4fwAAAAAAAAhAAAAAAAAACEAAAAAAAAD4fwAAAAAAAAhAAAAAAAAACEAAAAAAAAAIQAAAAAAAAPh\\u002fAAAAAAAACEAAAAAAAAAIQAAAAAAAAPh\\u002fAAAAAAAACEAAAAAAAAAIQAAAAAAAAAhAAAAAAAAA+H8AAAAAAAAIQAAAAAAAAAhAAAAAAAAA+H8AAAAAAAAIQAAAAAAAAAhAAAAAAAAACEAAAAAAAAD4fwAAAAAAAAhAAAAAAAAACEAAAAAAAAD4fwAAAAAAAAhAAAAAAAAACEAAAAAAAAAIQAAAAAAAAPh\\u002f+sD+poEQCEAGPwFZfu8HQAAAAAAAAPh\\u002fyrVNdr34B0AGPwFZfu8HQFLzeeKn8gdAAAAAAAAA+H8AAAAAAAAIQAAAAAAAAAhAAAAAAAAA+H8AAAAAAAAIQAAAAAAAAAhAAAAAAAAACEAAAAAAAAD4fwAAAAAAAAhAAAAAAAAACEAAAAAAAAD4fwAAAAAAAAhAAAAAAAAACEAAAAAAAAAIQAAAAAAAAPh\\u002fAAAAAAAACEAAAAAAAAAIQAAAAAAAAPh\\u002fAAAAAAAACEAAAAAAAAAIQAAAAAAAAAhAAAAAAAAA+H8AAAAAAAAIQAAAAAAAAAhAAAAAAAAA+H8AAAAAAAAIQAAAAAAAAAhAAAAAAAAACEAAAAAAAAD4fwAAAAAAAAhAAAAAAAAACEAAAAAAAAD4fwAAAAAAAAhAAAAAAAAACEAAAAAAAAAIQAAAAAAAAPh\\u002fVDP9eOf6D0BWZoFDjAIQQAAAAAAAAPh\\u002foBBiPA0BEEBWZoFDjAIQQKy\\u002fGfMgAhBAAAAAAAAA+H\\u002fUE\\u002fv7RqIPQBZ2AoLcLhBAAAAAAAAA+H\\u002fIwrBfCukPQBZ2AoLcLhBA52umZ\\u002flFEEAAAAAAAAD4fzAuJ3ijAxBAoaOxD7n4D0AAAAAAAAD4f1qGWnBI\\u002fg9AoaOxD7n4D0CSZNAnovgPQAAAAAAAAPh\\u002flTnZQFYCEEDWjE1+U\\u002fsPQAAAAAAAAPh\\u002fCNHQ68shEEDWjE1+U\\u002fsPQLJ9iZ+Stg9AAAAAAAAA+H\\u002f8qATldmgQQAiu9jUSLw9AAAAAAAAA+H9pR1C6sagPQAiu9jUSLw9A\\u002fvLd2oJSD0AAAAAAAAD4fwAAAAAAABBAAAAAAAAAEEAAAAAAAAD4fwAAAAAAABBAAAAAAAAAEEAAAAAAAAAQQAAAAAAAAPh\\u002fAAAAAAAAEEAAAAAAAAAQQAAAAAAAAPh\\u002fAAAAAAAAEEAAAAAAAAAQQAAAAAAAABBAAAAAAAAA+H8AAAAAAAAQQAAAAAAAABBAAAAAAAAA+H8AAAAAAAAQQAAAAAAAABBAAAAAAAAAEEAAAAAAAAD4fwAAAAAAABBAAAAAAAAAEEAAAAAAAAD4fwAAAAAAABBAAAAAAAAAEEAAAAAAAAAQQAAAAAAAAPh\\u002fAAAAAAAAEEAAAAAAAAAQQAAAAAAAAPh\\u002fAAAAAAAAEEAAAAAAAAAQQAAAAAAAABBAAAAAAAAA+H+taXChFQIQQKUsH73U+w9AAAAAAAAA+H+j4FE\\u002fcf4PQKUsH73U+w9AxK5VjFr8D0AAAAAAAAD4f0XdaHxw8Q9AXpHLwUcHEEAAAAAAAAD4f\\u002f3hc9h3AxBAXpHLwUcHEEA2o9+UngUQQAAAAAAAAPh\\u002fOrB3MLgBEECNnxCfj\\u002fwPQAAAAAAAAPh\\u002floXeIDYBEECNnxCfj\\u002fwPQKT2bNBI+Q9AAAAAAAAA+H\\u002fJrgkc+QkQQGyi7McN7A9AAAAAAAAA+H9qQFbhl\\u002fYPQGyi7McN7A9A8n2CTYLwD0AAAAAAAAD4fwAAAAAAABBAAAAAAAAAEEAAAAAAAAD4fwAAAAAAABBAAAAAAAAAEEAAAAAAAAAQQAAAAAAAAPh\\u002f\"},\"type\":\"scatter\"},{\"line\":{\"color\":\"pink\",\"dash\":\"dash\",\"width\":5},\"meta\":{},\"mode\":\"lines\",\"name\":\"orbitals separators\",\"opacity\":0.8,\"showlegend\":false,\"x\":{\"dtype\":\"f8\",\"bdata\":\"AAAAAAAA4L8AAAAAAAASQAAAAAAAAPh\\u002fAAAAAAAA4D8AAAAAAADgPwAAAAAAAPh\\u002f\"},\"y\":{\"dtype\":\"f8\",\"bdata\":\"AAAAAAAA4D8AAAAAAADgPwAAAAAAAPh\\u002fAAAAAAAA4L8AAAAAAAASQAAAAAAAAPh\\u002f\"},\"type\":\"scatter\"},{\"line\":{\"color\":\"gray\"},\"meta\":{},\"mode\":\"lines\",\"name\":\"atoms separators\",\"opacity\":1,\"showlegend\":false,\"x\":{\"dtype\":\"f8\",\"bdata\":\"AAAAAAAA4L8AAAAAAAASQAAAAAAAAPh\\u002fAAAAAAAADEAAAAAAAAAMQAAAAAAAAPh\\u002f\"},\"y\":{\"dtype\":\"f8\",\"bdata\":\"AAAAAAAADEAAAAAAAAAMQAAAAAAAAPh\\u002fAAAAAAAA4L8AAAAAAAASQAAAAAAAAPh\\u002f\"},\"type\":\"scatter\"}],                        {\"template\":{\"layout\":{\"hovermode\":\"closest\",\"paper_bgcolor\":\"white\",\"plot_bgcolor\":\"white\",\"scene\":{\"xaxis\":{\"color\":\"black\",\"gridcolor\":\"#ccc\",\"gridwidth\":1,\"linewidth\":1,\"mirror\":true,\"showgrid\":false,\"showline\":true,\"ticklen\":5,\"ticks\":\"outside\",\"ticksuffix\":\" \",\"visible\":true,\"zeroline\":false,\"zerolinecolor\":\"#ccc\",\"zerolinewidth\":1},\"yaxis\":{\"color\":\"black\",\"gridcolor\":\"#ccc\",\"gridwidth\":1,\"linewidth\":1,\"mirror\":true,\"showgrid\":false,\"showline\":true,\"ticklen\":5,\"ticks\":\"outside\",\"ticksuffix\":\" \",\"visible\":true,\"zeroline\":false,\"zerolinecolor\":\"#ccc\",\"zerolinewidth\":1},\"zaxis\":{\"color\":\"black\",\"gridcolor\":\"#ccc\",\"gridwidth\":1,\"linewidth\":1,\"mirror\":true,\"showgrid\":false,\"showline\":true,\"ticklen\":5,\"ticks\":\"outside\",\"ticksuffix\":\" \",\"visible\":true,\"zeroline\":false,\"zerolinecolor\":\"#ccc\",\"zerolinewidth\":1}},\"xaxis\":{\"color\":\"black\",\"gridcolor\":\"#ccc\",\"gridwidth\":1,\"linewidth\":1,\"mirror\":true,\"showgrid\":false,\"showline\":true,\"ticklen\":5,\"ticks\":\"outside\",\"ticksuffix\":\" \",\"visible\":true,\"zeroline\":false,\"zerolinecolor\":\"#ccc\",\"zerolinewidth\":1},\"yaxis\":{\"color\":\"black\",\"gridcolor\":\"#ccc\",\"gridwidth\":1,\"linewidth\":1,\"mirror\":true,\"showgrid\":false,\"showline\":true,\"ticklen\":5,\"ticks\":\"outside\",\"ticksuffix\":\" \",\"visible\":true,\"zeroline\":false,\"zerolinecolor\":\"#ccc\",\"zerolinewidth\":1}}},\"coloraxis\":{\"colorscale\":[[0.0,\"rgb(0, 147, 146)\"],[0.16666666666666666,\"rgb(57, 177, 133)\"],[0.3333333333333333,\"rgb(156, 203, 134)\"],[0.5,\"rgb(233, 226, 156)\"],[0.6666666666666666,\"rgb(238, 180, 121)\"],[0.8333333333333334,\"rgb(232, 132, 113)\"],[1.0,\"rgb(207, 89, 126)\"]],\"cmid\":0,\"showscale\":false},\"xaxis\":{\"scaleanchor\":\"y\",\"scaleratio\":1,\"range\":[-0.5,14.5],\"constrain\":\"domain\"},\"scene\":{\"aspectmode\":\"data\",\"xaxis\":{\"range\":[-0.5,14.5]},\"yaxis\":{\"range\":[4.5,-0.5]}},\"yaxis\":{\"range\":[4.5,-0.5],\"constrain\":\"domain\"}},                        {\"responsive\": true}                    ).then(function(){\n",
       "                            \n",
       "var gd = document.getElementById('8dcbd280-9a0d-4b8d-b443-8b381efada1d');\n",
       "var x = new MutationObserver(function (mutations, observer) {{\n",
       "        var display = window.getComputedStyle(gd).display;\n",
       "        if (!display || display === 'none') {{\n",
       "            console.log([gd, 'removed!']);\n",
       "            Plotly.purge(gd);\n",
       "            observer.disconnect();\n",
       "        }}\n",
       "}});\n",
       "\n",
       "// Listen for the removal of the full notebook cells\n",
       "var notebookContainer = gd.closest('#notebook-container');\n",
       "if (notebookContainer) {{\n",
       "    x.observe(notebookContainer, {childList: true});\n",
       "}}\n",
       "\n",
       "// Listen for the clearing of the current output cell\n",
       "var outputEl = gd.closest('.output');\n",
       "if (outputEl) {{\n",
       "    x.observe(outputEl, {childList: true});\n",
       "}}\n",
       "\n",
       "                        })                };            </script>        </div>"
      ]
     },
     "metadata": {},
     "output_type": "display_data"
    }
   ],
   "source": [
    "# Initialize a sparse matrix with the same sparsity pattern as our Hamiltonian,\n",
    "# but with an extra dimension that will host the X and Y coordinates.\n",
    "arrow_data = sisl.SparseCSR.fromsp([H, H])\n",
    "\n",
    "# The X coordinate will be the Hamiltonian's value,\n",
    "# while the Y coordinate will be just random.\n",
    "for i in range(arrow_data.shape[0]):\n",
    "    for j in range(arrow_data.shape[1]):\n",
    "        if arrow_data[i, j, 1] != 0:\n",
    "            arrow_data[i, j, 1] *= np.random.random()\n",
    "\n",
    "# Let's display the data\n",
    "plot.update_inputs(arrows={\"data\": arrow_data, \"color\": \"red\"})"
   ]
  },
  {
   "cell_type": "markdown",
   "metadata": {},
   "source": [
    "Finally, we showcase how **you can have multiple specifications of arrows**.\n",
    "\n",
    "We also show how you can use the `center` key. You can set `center` to `\"start\"`, `\"middle\"` or `\"end\"`. It determines which part of the arrow is pinned to the center of the matrix element (the default is `\"middle\"`):"
   ]
  },
  {
   "cell_type": "code",
   "execution_count": 21,
   "metadata": {
    "execution": {
     "iopub.execute_input": "2025-10-08T12:09:33.562285Z",
     "iopub.status.busy": "2025-10-08T12:09:33.562066Z",
     "iopub.status.idle": "2025-10-08T12:09:33.783467Z",
     "shell.execute_reply": "2025-10-08T12:09:33.782865Z"
    }
   },
   "outputs": [
    {
     "name": "stderr",
     "output_type": "stream",
     "text": [
      "INFO\tTask(Task-2) nodify.node.140358110017536:node.py:get()- No need to evaluate\n"
     ]
    },
    {
     "name": "stderr",
     "output_type": "stream",
     "text": [
      "INFO\tTask(Task-2) nodify.node.140358110010960:node.py:get()- No need to evaluate\n"
     ]
    },
    {
     "name": "stderr",
     "output_type": "stream",
     "text": [
      "INFO\tTask(Task-2) nodify.node.140358110010768:node.py:get()- No need to evaluate\n"
     ]
    },
    {
     "name": "stderr",
     "output_type": "stream",
     "text": [
      "INFO\tTask(Task-2) nodify.node.140358110012352:node.py:get()- No need to evaluate\n"
     ]
    },
    {
     "name": "stderr",
     "output_type": "stream",
     "text": [
      "INFO\tTask(Task-2) nodify.node.140358110011728:node.py:get()- No need to evaluate\n"
     ]
    },
    {
     "name": "stderr",
     "output_type": "stream",
     "text": [
      "INFO\tTask(Task-2) nodify.node.140358110019312:node.py:get()- No need to evaluate\n"
     ]
    },
    {
     "name": "stderr",
     "output_type": "stream",
     "text": [
      "INFO\tTask(Task-2) nodify.node.140358110014464:node.py:get()- No need to evaluate\n"
     ]
    },
    {
     "name": "stderr",
     "output_type": "stream",
     "text": [
      "INFO\tTask(Task-2) nodify.node.140358110014848:node.py:get()- No need to evaluate\n"
     ]
    },
    {
     "name": "stderr",
     "output_type": "stream",
     "text": [
      "INFO\tTask(Task-2) nodify.node.140358110010960:node.py:get()- No need to evaluate\n"
     ]
    },
    {
     "name": "stderr",
     "output_type": "stream",
     "text": [
      "INFO\tTask(Task-2) nodify.node.140358110015232:node.py:get()- No need to evaluate\n"
     ]
    },
    {
     "name": "stderr",
     "output_type": "stream",
     "text": [
      "INFO\tTask(Task-2) nodify.node.140358110014848:node.py:get()- No need to evaluate\n"
     ]
    },
    {
     "name": "stderr",
     "output_type": "stream",
     "text": [
      "INFO\tTask(Task-2) nodify.node.140358110102592:node.py:get()- No need to evaluate\n"
     ]
    },
    {
     "name": "stderr",
     "output_type": "stream",
     "text": [
      "INFO\tTask(Task-2) nodify.node.140358110014080:node.py:get()- No need to evaluate\n"
     ]
    },
    {
     "name": "stderr",
     "output_type": "stream",
     "text": [
      "INFO\tTask(Task-2) nodify.node.140358110015616:node.py:get()- No need to evaluate\n"
     ]
    },
    {
     "name": "stderr",
     "output_type": "stream",
     "text": [
      "INFO\tTask(Task-2) nodify.node.140358110016000:node.py:get()- No need to evaluate\n"
     ]
    },
    {
     "name": "stderr",
     "output_type": "stream",
     "text": [
      "INFO\tTask(Task-2) nodify.node.140358110102496:node.py:get()- No need to evaluate\n"
     ]
    },
    {
     "name": "stderr",
     "output_type": "stream",
     "text": [
      "INFO\tTask(Task-2) nodify.node.140358110010960:node.py:get()- No need to evaluate\n"
     ]
    },
    {
     "name": "stderr",
     "output_type": "stream",
     "text": [
      "INFO\tTask(Task-2) nodify.node.140358110010768:node.py:get()- No need to evaluate\n"
     ]
    },
    {
     "name": "stderr",
     "output_type": "stream",
     "text": [
      "INFO\tTask(Task-2) nodify.node.140358110012352:node.py:get()- No need to evaluate\n"
     ]
    },
    {
     "name": "stderr",
     "output_type": "stream",
     "text": [
      "INFO\tTask(Task-2) nodify.node.140358110011728:node.py:get()- No need to evaluate\n"
     ]
    },
    {
     "name": "stderr",
     "output_type": "stream",
     "text": [
      "INFO\tTask(Task-2) nodify.node.140358110019312:node.py:get()- No need to evaluate\n"
     ]
    },
    {
     "name": "stderr",
     "output_type": "stream",
     "text": [
      "INFO\tTask(Task-2) nodify.node.140358110017152:node.py:get()- Evaluated because inputs changed.\n"
     ]
    },
    {
     "name": "stderr",
     "output_type": "stream",
     "text": [
      "INFO\tTask(Task-2) nodify.node.140358110103264:node.py:get()- Evaluated because inputs changed.\n"
     ]
    },
    {
     "name": "stderr",
     "output_type": "stream",
     "text": [
      "INFO\tTask(Task-2) nodify.node.140358110102640:node.py:get()- Evaluated because inputs changed.\n"
     ]
    },
    {
     "name": "stderr",
     "output_type": "stream",
     "text": [
      "INFO\tTask(Task-2) nodify.node.140358110012928:node.py:get()- No need to evaluate\n"
     ]
    },
    {
     "name": "stderr",
     "output_type": "stream",
     "text": [
      "INFO\tTask(Task-2) nodify.node.140358110010960:node.py:get()- No need to evaluate\n"
     ]
    },
    {
     "name": "stderr",
     "output_type": "stream",
     "text": [
      "INFO\tTask(Task-2) nodify.node.140358110012784:node.py:get()- No need to evaluate\n"
     ]
    },
    {
     "name": "stderr",
     "output_type": "stream",
     "text": [
      "INFO\tTask(Task-2) nodify.node.140358110018832:node.py:get()- No need to evaluate\n"
     ]
    },
    {
     "name": "stderr",
     "output_type": "stream",
     "text": [
      "INFO\tTask(Task-2) nodify.node.140358110010960:node.py:get()- No need to evaluate\n"
     ]
    },
    {
     "name": "stderr",
     "output_type": "stream",
     "text": [
      "INFO\tTask(Task-2) nodify.node.140358110019408:node.py:get()- No need to evaluate\n"
     ]
    },
    {
     "name": "stderr",
     "output_type": "stream",
     "text": [
      "INFO\tTask(Task-2) nodify.node.140358110103312:node.py:get()- No need to evaluate\n"
     ]
    },
    {
     "name": "stderr",
     "output_type": "stream",
     "text": [
      "INFO\tTask(Task-2) nodify.node.140358110013264:node.py:get()- No need to evaluate\n"
     ]
    },
    {
     "name": "stderr",
     "output_type": "stream",
     "text": [
      "INFO\tTask(Task-2) nodify.node.140358110010960:node.py:get()- No need to evaluate\n"
     ]
    },
    {
     "name": "stderr",
     "output_type": "stream",
     "text": [
      "INFO\tTask(Task-2) nodify.node.140358110012784:node.py:get()- No need to evaluate\n"
     ]
    },
    {
     "name": "stderr",
     "output_type": "stream",
     "text": [
      "INFO\tTask(Task-2) nodify.node.140358110018832:node.py:get()- No need to evaluate\n"
     ]
    },
    {
     "name": "stderr",
     "output_type": "stream",
     "text": [
      "INFO\tTask(Task-2) nodify.node.140358110010960:node.py:get()- No need to evaluate\n"
     ]
    },
    {
     "name": "stderr",
     "output_type": "stream",
     "text": [
      "INFO\tTask(Task-2) nodify.node.140358110019408:node.py:get()- No need to evaluate\n"
     ]
    },
    {
     "name": "stderr",
     "output_type": "stream",
     "text": [
      "INFO\tTask(Task-2) nodify.node.140358110103984:node.py:get()- No need to evaluate\n"
     ]
    },
    {
     "name": "stderr",
     "output_type": "stream",
     "text": [
      "INFO\tTask(Task-2) nodify.node.140358110013648:node.py:get()- No need to evaluate\n"
     ]
    },
    {
     "name": "stderr",
     "output_type": "stream",
     "text": [
      "INFO\tTask(Task-2) nodify.node.140358110010960:node.py:get()- No need to evaluate\n"
     ]
    },
    {
     "name": "stderr",
     "output_type": "stream",
     "text": [
      "INFO\tTask(Task-2) nodify.node.140358110012784:node.py:get()- No need to evaluate\n"
     ]
    },
    {
     "name": "stderr",
     "output_type": "stream",
     "text": [
      "INFO\tTask(Task-2) nodify.node.140358110018832:node.py:get()- No need to evaluate\n"
     ]
    },
    {
     "name": "stderr",
     "output_type": "stream",
     "text": [
      "INFO\tTask(Task-2) nodify.node.140358110010960:node.py:get()- No need to evaluate\n"
     ]
    },
    {
     "name": "stderr",
     "output_type": "stream",
     "text": [
      "INFO\tTask(Task-2) nodify.node.140358110019408:node.py:get()- No need to evaluate\n"
     ]
    },
    {
     "name": "stderr",
     "output_type": "stream",
     "text": [
      "INFO\tTask(Task-2) nodify.node.140358110104320:node.py:get()- No need to evaluate\n"
     ]
    },
    {
     "name": "stderr",
     "output_type": "stream",
     "text": [
      "INFO\tTask(Task-2) nodify.node.140358110010960:node.py:get()- No need to evaluate\n"
     ]
    },
    {
     "name": "stderr",
     "output_type": "stream",
     "text": [
      "INFO\tTask(Task-2) nodify.node.140358110010768:node.py:get()- No need to evaluate\n"
     ]
    },
    {
     "name": "stderr",
     "output_type": "stream",
     "text": [
      "INFO\tTask(Task-2) nodify.node.140358110012352:node.py:get()- No need to evaluate\n"
     ]
    },
    {
     "name": "stderr",
     "output_type": "stream",
     "text": [
      "INFO\tTask(Task-2) nodify.node.140358110011728:node.py:get()- No need to evaluate\n"
     ]
    },
    {
     "name": "stderr",
     "output_type": "stream",
     "text": [
      "INFO\tTask(Task-2) nodify.node.140358110019312:node.py:get()- No need to evaluate\n"
     ]
    },
    {
     "name": "stderr",
     "output_type": "stream",
     "text": [
      "INFO\tTask(Task-2) nodify.node.140358110010960:node.py:get()- No need to evaluate\n"
     ]
    },
    {
     "name": "stderr",
     "output_type": "stream",
     "text": [
      "INFO\tTask(Task-2) nodify.node.140358110012784:node.py:get()- No need to evaluate\n"
     ]
    },
    {
     "name": "stderr",
     "output_type": "stream",
     "text": [
      "INFO\tTask(Task-2) nodify.node.140358110018832:node.py:get()- No need to evaluate\n"
     ]
    },
    {
     "name": "stderr",
     "output_type": "stream",
     "text": [
      "INFO\tTask(Task-2) nodify.node.140358110010960:node.py:get()- No need to evaluate\n"
     ]
    },
    {
     "name": "stderr",
     "output_type": "stream",
     "text": [
      "INFO\tTask(Task-2) nodify.node.140358110019408:node.py:get()- No need to evaluate\n"
     ]
    },
    {
     "name": "stderr",
     "output_type": "stream",
     "text": [
      "INFO\tTask(Task-2) nodify.node.140358110016768:node.py:get()- No need to evaluate\n"
     ]
    },
    {
     "name": "stderr",
     "output_type": "stream",
     "text": [
      "INFO\tTask(Task-2) nodify.node.140358110016384:node.py:get()- No need to evaluate\n"
     ]
    },
    {
     "name": "stderr",
     "output_type": "stream",
     "text": [
      "INFO\tTask(Task-2) nodify.node.140358110019120:node.py:get()- No need to evaluate\n"
     ]
    },
    {
     "name": "stderr",
     "output_type": "stream",
     "text": [
      "INFO\tTask(Task-2) nodify.node.140358110019552:node.py:get()- Evaluated because inputs changed.\n"
     ]
    },
    {
     "name": "stderr",
     "output_type": "stream",
     "text": [
      "INFO\tTask(Task-2) nodify.node.140358110104800:node.py:get()- Evaluated because inputs changed.\n"
     ]
    },
    {
     "name": "stderr",
     "output_type": "stream",
     "text": [
      "INFO\tTask(Task-2) nodify.node.140358110105280:node.py:get()- Evaluated because inputs changed.\n"
     ]
    },
    {
     "data": {
      "text/html": [
       "<div>            <script src=\"https://cdnjs.cloudflare.com/ajax/libs/mathjax/2.7.5/MathJax.js?config=TeX-AMS-MML_SVG\"></script><script type=\"text/javascript\">if (window.MathJax && window.MathJax.Hub && window.MathJax.Hub.Config) {window.MathJax.Hub.Config({SVG: {font: \"STIX-Web\"}});}</script>                <script type=\"text/javascript\">window.PlotlyConfig = {MathJaxConfig: 'local'};</script>\n",
       "        <script charset=\"utf-8\" src=\"https://cdn.plot.ly/plotly-3.1.1.min.js\" integrity=\"sha256-HUEFyfiTnZJxCxur99FjbKYTvKSzwDaD3/x5TqHpFu4=\" crossorigin=\"anonymous\"></script>                <div id=\"2066a0b8-ac93-4f4a-93ce-147cf99efd8e\" class=\"plotly-graph-div\" style=\"height:525px; width:100%;\"></div>            <script type=\"text/javascript\">                window.PLOTLYENV=window.PLOTLYENV || {};                                if (document.getElementById(\"2066a0b8-ac93-4f4a-93ce-147cf99efd8e\")) {                    Plotly.newPlot(                        \"2066a0b8-ac93-4f4a-93ce-147cf99efd8e\",                        [{\"coloraxis\":\"coloraxis\",\"meta\":{},\"opacity\":0,\"textfont\":{\"color\":\"black\"},\"z\":{\"dtype\":\"f8\",\"bdata\":\"Phrwuseb6j+rlqOVK1jpPyCmucYXz9i\\u002f\\u002fhb\\u002fOmyF6T\\u002fAxcAYjmuEvwAAAAAAAPh\\u002fAAAAAAAA+H8AAAAAAAD4fwAAAAAAAPh\\u002fzKXsS\\u002fjMgz8AAAAAAAD4fwAAAAAAAPh\\u002fAAAAAAAA+H8AAAAAAAD4fwAAAAAAAPh\\u002fq5ajlStY6T+kGPkHOmjZP7jYA1kVVrU\\u002fMB2R12O4uL9vHqYIfyHovwAAAAAAAPh\\u002fAAAAAAAA+H8AAAAAAAD4fwAAAAAAAPh\\u002fDvrj\\u002fv9klL8AAAAAAAD4fwAAAAAAAPh\\u002fAAAAAAAA+H8AAAAAAAD4fwAAAAAAAPh\\u002fIKa5xhfP2L+42ANZFVa1P+CfdIIRF9+\\u002fAIA6K+RWYz9gHdalaceaPwAAAAAAAPh\\u002fAAAAAAAA+H8AAAAAAAD4fwAAAAAAAPh\\u002fLWMEwYCopT8AAAAAAAD4fwAAAAAAAPh\\u002fAAAAAAAA+H8AAAAAAAD4fwAAAAAAAPh\\u002f\\u002fhb\\u002fOmyF6T8wHZHXY7i4vwCAOivkVmM\\u002fIAEtqSY+77+LBVEihOPkPwAAAAAAAPh\\u002fAAAAAAAA+H8AAAAAAAD4fwAAAAAAAPh\\u002fTnkA7\\u002fLWnD8AAAAAAAD4fwAAAAAAAPh\\u002fAAAAAAAA+H8AAAAAAAD4fwAAAAAAAPh\\u002fwMXAGI5rhL9vHqYIfyHov2Ad1qVpx5o\\u002fiwVRIoTj5D+0o2N+J4jZPwAAAAAAAPh\\u002fAAAAAAAA+H8AAAAAAAD4fwAAAAAAAPh\\u002fAAAAAAAA+H\\u002fMpexL+MyDPw764\\u002f7\\u002fZJS\\u002fLWMEwYCopT9OeQDv8tacPwAAAAAAAPh\\u002f\",\"shape\":\"5, 15\"},\"zsmooth\":false,\"type\":\"heatmap\"},{\"hovertext\":[\"[ 0.         -0.42583468]\",\"[ 0.         -0.42583468]\",\"[ 0.         -0.42583468]\",\"[ 0.         -0.42583468]\",\"[ 0.         -0.42583468]\",\"[ 0.         -0.42583468]\",\"[ 0.         -0.42583468]\",\"[ 0.         -0.40560439]\",\"[ 0.         -0.40560439]\",\"[ 0.         -0.40560439]\",\"[ 0.         -0.40560439]\",\"[ 0.         -0.40560439]\",\"[ 0.         -0.40560439]\",\"[ 0.         -0.40560439]\",\"[0.         0.19851753]\",\"[0.         0.19851753]\",\"[0.         0.19851753]\",\"[0.         0.19851753]\",\"[0.         0.19851753]\",\"[0.         0.19851753]\",\"[0.         0.19851753]\",\"[ 0.         -0.40843332]\",\"[ 0.         -0.40843332]\",\"[ 0.         -0.40843332]\",\"[ 0.         -0.40843332]\",\"[ 0.         -0.40843332]\",\"[ 0.         -0.40843332]\",\"[ 0.         -0.40843332]\",\"[0.         0.00510621]\",\"[0.         0.00510621]\",\"[0.         0.00510621]\",\"[0.         0.00510621]\",\"[0.         0.00510621]\",\"[0.         0.00510621]\",\"[0.         0.00510621]\",\"[ 0. nan]\",\"[ 0. nan]\",\"[ 0. nan]\",\"[ 0. nan]\",\"[ 0. nan]\",\"[ 0. nan]\",\"[ 0. nan]\",\"[ 0. nan]\",\"[ 0. nan]\",\"[ 0. nan]\",\"[ 0. nan]\",\"[ 0. nan]\",\"[ 0. nan]\",\"[ 0. nan]\",\"[ 0. nan]\",\"[ 0. nan]\",\"[ 0. nan]\",\"[ 0. nan]\",\"[ 0. nan]\",\"[ 0. nan]\",\"[ 0. nan]\",\"[ 0. nan]\",\"[ 0. nan]\",\"[ 0. nan]\",\"[ 0. nan]\",\"[ 0. nan]\",\"[ 0. nan]\",\"[ 0. nan]\",\"[ 0.         -0.00495131]\",\"[ 0.         -0.00495131]\",\"[ 0.         -0.00495131]\",\"[ 0.         -0.00495131]\",\"[ 0.         -0.00495131]\",\"[ 0.         -0.00495131]\",\"[ 0.         -0.00495131]\",\"[ 0. nan]\",\"[ 0. nan]\",\"[ 0. nan]\",\"[ 0. nan]\",\"[ 0. nan]\",\"[ 0. nan]\",\"[ 0. nan]\",\"[ 0. nan]\",\"[ 0. nan]\",\"[ 0. nan]\",\"[ 0. nan]\",\"[ 0. nan]\",\"[ 0. nan]\",\"[ 0. nan]\",\"[ 0. nan]\",\"[ 0. nan]\",\"[ 0. nan]\",\"[ 0. nan]\",\"[ 0. nan]\",\"[ 0. nan]\",\"[ 0. nan]\",\"[ 0. nan]\",\"[ 0. nan]\",\"[ 0. nan]\",\"[ 0. nan]\",\"[ 0. nan]\",\"[ 0. nan]\",\"[ 0. nan]\",\"[ 0. nan]\",\"[ 0. nan]\",\"[ 0. nan]\",\"[ 0. nan]\",\"[ 0. nan]\",\"[ 0. nan]\",\"[ 0. nan]\",\"[ 0.         -0.40560439]\",\"[ 0.         -0.40560439]\",\"[ 0.         -0.40560439]\",\"[ 0.         -0.40560439]\",\"[ 0.         -0.40560439]\",\"[ 0.         -0.40560439]\",\"[ 0.         -0.40560439]\",\"[ 0.         -0.20330407]\",\"[ 0.         -0.20330407]\",\"[ 0.         -0.20330407]\",\"[ 0.         -0.20330407]\",\"[ 0.         -0.20330407]\",\"[ 0.         -0.20330407]\",\"[ 0.         -0.20330407]\",\"[ 0.         -0.04268239]\",\"[ 0.         -0.04268239]\",\"[ 0.         -0.04268239]\",\"[ 0.         -0.04268239]\",\"[ 0.         -0.04268239]\",\"[ 0.         -0.04268239]\",\"[ 0.         -0.04268239]\",\"[0.         0.04945198]\",\"[0.         0.04945198]\",\"[0.         0.04945198]\",\"[0.         0.04945198]\",\"[0.         0.04945198]\",\"[0.         0.04945198]\",\"[0.         0.04945198]\",\"[0.         0.38618277]\",\"[0.         0.38618277]\",\"[0.         0.38618277]\",\"[0.         0.38618277]\",\"[0.         0.38618277]\",\"[0.         0.38618277]\",\"[0.         0.38618277]\",\"[ 0. nan]\",\"[ 0. nan]\",\"[ 0. nan]\",\"[ 0. nan]\",\"[ 0. nan]\",\"[ 0. nan]\",\"[ 0. nan]\",\"[ 0. nan]\",\"[ 0. nan]\",\"[ 0. nan]\",\"[ 0. nan]\",\"[ 0. nan]\",\"[ 0. nan]\",\"[ 0. nan]\",\"[ 0. nan]\",\"[ 0. nan]\",\"[ 0. nan]\",\"[ 0. nan]\",\"[ 0. nan]\",\"[ 0. nan]\",\"[ 0. nan]\",\"[ 0. nan]\",\"[ 0. nan]\",\"[ 0. nan]\",\"[ 0. nan]\",\"[ 0. nan]\",\"[ 0. nan]\",\"[ 0. nan]\",\"[0.         0.01019962]\",\"[0.         0.01019962]\",\"[0.         0.01019962]\",\"[0.         0.01019962]\",\"[0.         0.01019962]\",\"[0.         0.01019962]\",\"[0.         0.01019962]\",\"[ 0. nan]\",\"[ 0. nan]\",\"[ 0. nan]\",\"[ 0. nan]\",\"[ 0. nan]\",\"[ 0. nan]\",\"[ 0. nan]\",\"[ 0. nan]\",\"[ 0. nan]\",\"[ 0. nan]\",\"[ 0. nan]\",\"[ 0. nan]\",\"[ 0. nan]\",\"[ 0. nan]\",\"[ 0. nan]\",\"[ 0. nan]\",\"[ 0. nan]\",\"[ 0. nan]\",\"[ 0. nan]\",\"[ 0. nan]\",\"[ 0. nan]\",\"[ 0. nan]\",\"[ 0. nan]\",\"[ 0. nan]\",\"[ 0. nan]\",\"[ 0. nan]\",\"[ 0. nan]\",\"[ 0. nan]\",\"[ 0. nan]\",\"[ 0. nan]\",\"[ 0. nan]\",\"[ 0. nan]\",\"[ 0. nan]\",\"[ 0. nan]\",\"[ 0. nan]\",\"[0.         0.19851753]\",\"[0.         0.19851753]\",\"[0.         0.19851753]\",\"[0.         0.19851753]\",\"[0.         0.19851753]\",\"[0.         0.19851753]\",\"[0.         0.19851753]\",\"[ 0.         -0.04268239]\",\"[ 0.         -0.04268239]\",\"[ 0.         -0.04268239]\",\"[ 0.         -0.04268239]\",\"[ 0.         -0.04268239]\",\"[ 0.         -0.04268239]\",\"[ 0.         -0.04268239]\",\"[0.         0.24877839]\",\"[0.         0.24877839]\",\"[0.         0.24877839]\",\"[0.         0.24877839]\",\"[0.         0.24877839]\",\"[0.         0.24877839]\",\"[0.         0.24877839]\",\"[ 0.         -0.00120899]\",\"[ 0.         -0.00120899]\",\"[ 0.         -0.00120899]\",\"[ 0.         -0.00120899]\",\"[ 0.         -0.00120899]\",\"[ 0.         -0.00120899]\",\"[ 0.         -0.00120899]\",\"[ 0.         -0.01339257]\",\"[ 0.         -0.01339257]\",\"[ 0.         -0.01339257]\",\"[ 0.         -0.01339257]\",\"[ 0.         -0.01339257]\",\"[ 0.         -0.01339257]\",\"[ 0.         -0.01339257]\",\"[ 0. nan]\",\"[ 0. nan]\",\"[ 0. nan]\",\"[ 0. nan]\",\"[ 0. nan]\",\"[ 0. nan]\",\"[ 0. nan]\",\"[ 0. nan]\",\"[ 0. nan]\",\"[ 0. nan]\",\"[ 0. nan]\",\"[ 0. nan]\",\"[ 0. nan]\",\"[ 0. nan]\",\"[ 0. nan]\",\"[ 0. nan]\",\"[ 0. nan]\",\"[ 0. nan]\",\"[ 0. nan]\",\"[ 0. nan]\",\"[ 0. nan]\",\"[ 0. nan]\",\"[ 0. nan]\",\"[ 0. nan]\",\"[ 0. nan]\",\"[ 0. nan]\",\"[ 0. nan]\",\"[ 0. nan]\",\"[ 0.         -0.02166322]\",\"[ 0.         -0.02166322]\",\"[ 0.         -0.02166322]\",\"[ 0.         -0.02166322]\",\"[ 0.         -0.02166322]\",\"[ 0.         -0.02166322]\",\"[ 0.         -0.02166322]\",\"[ 0. nan]\",\"[ 0. nan]\",\"[ 0. nan]\",\"[ 0. nan]\",\"[ 0. nan]\",\"[ 0. nan]\",\"[ 0. nan]\",\"[ 0. nan]\",\"[ 0. nan]\",\"[ 0. nan]\",\"[ 0. nan]\",\"[ 0. nan]\",\"[ 0. nan]\",\"[ 0. nan]\",\"[ 0. nan]\",\"[ 0. nan]\",\"[ 0. nan]\",\"[ 0. nan]\",\"[ 0. nan]\",\"[ 0. nan]\",\"[ 0. nan]\",\"[ 0. nan]\",\"[ 0. nan]\",\"[ 0. nan]\",\"[ 0. nan]\",\"[ 0. nan]\",\"[ 0. nan]\",\"[ 0. nan]\",\"[ 0. nan]\",\"[ 0. nan]\",\"[ 0. nan]\",\"[ 0. nan]\",\"[ 0. nan]\",\"[ 0. nan]\",\"[ 0. nan]\",\"[ 0.         -0.40843332]\",\"[ 0.         -0.40843332]\",\"[ 0.         -0.40843332]\",\"[ 0.         -0.40843332]\",\"[ 0.         -0.40843332]\",\"[ 0.         -0.40843332]\",\"[ 0.         -0.40843332]\",\"[0.         0.04945198]\",\"[0.         0.04945198]\",\"[0.         0.04945198]\",\"[0.         0.04945198]\",\"[0.         0.04945198]\",\"[0.         0.04945198]\",\"[0.         0.04945198]\",\"[ 0.         -0.00120899]\",\"[ 0.         -0.00120899]\",\"[ 0.         -0.00120899]\",\"[ 0.         -0.00120899]\",\"[ 0.         -0.00120899]\",\"[ 0.         -0.00120899]\",\"[ 0.         -0.00120899]\",\"[0.  0.5]\",\"[0.  0.5]\",\"[0.  0.5]\",\"[0.  0.5]\",\"[0.  0.5]\",\"[0.  0.5]\",\"[0.  0.5]\",\"[ 0.         -0.33429702]\",\"[ 0.         -0.33429702]\",\"[ 0.         -0.33429702]\",\"[ 0.         -0.33429702]\",\"[ 0.         -0.33429702]\",\"[ 0.         -0.33429702]\",\"[ 0.         -0.33429702]\",\"[ 0. nan]\",\"[ 0. nan]\",\"[ 0. nan]\",\"[ 0. nan]\",\"[ 0. nan]\",\"[ 0. nan]\",\"[ 0. nan]\",\"[ 0. nan]\",\"[ 0. nan]\",\"[ 0. nan]\",\"[ 0. nan]\",\"[ 0. nan]\",\"[ 0. nan]\",\"[ 0. nan]\",\"[ 0. nan]\",\"[ 0. nan]\",\"[ 0. nan]\",\"[ 0. nan]\",\"[ 0. nan]\",\"[ 0. nan]\",\"[ 0. nan]\",\"[ 0. nan]\",\"[ 0. nan]\",\"[ 0. nan]\",\"[ 0. nan]\",\"[ 0. nan]\",\"[ 0. nan]\",\"[ 0. nan]\",\"[ 0.         -0.01442316]\",\"[ 0.         -0.01442316]\",\"[ 0.         -0.01442316]\",\"[ 0.         -0.01442316]\",\"[ 0.         -0.01442316]\",\"[ 0.         -0.01442316]\",\"[ 0.         -0.01442316]\",\"[ 0. nan]\",\"[ 0. nan]\",\"[ 0. nan]\",\"[ 0. nan]\",\"[ 0. nan]\",\"[ 0. nan]\",\"[ 0. nan]\",\"[ 0. nan]\",\"[ 0. nan]\",\"[ 0. nan]\",\"[ 0. nan]\",\"[ 0. nan]\",\"[ 0. nan]\",\"[ 0. nan]\",\"[ 0. nan]\",\"[ 0. nan]\",\"[ 0. nan]\",\"[ 0. nan]\",\"[ 0. nan]\",\"[ 0. nan]\",\"[ 0. nan]\",\"[ 0. nan]\",\"[ 0. nan]\",\"[ 0. nan]\",\"[ 0. nan]\",\"[ 0. nan]\",\"[ 0. nan]\",\"[ 0. nan]\",\"[ 0. nan]\",\"[ 0. nan]\",\"[ 0. nan]\",\"[ 0. nan]\",\"[ 0. nan]\",\"[ 0. nan]\",\"[ 0. nan]\",\"[0.         0.00510621]\",\"[0.         0.00510621]\",\"[0.         0.00510621]\",\"[0.         0.00510621]\",\"[0.         0.00510621]\",\"[0.         0.00510621]\",\"[0.         0.00510621]\",\"[0.         0.38618277]\",\"[0.         0.38618277]\",\"[0.         0.38618277]\",\"[0.         0.38618277]\",\"[0.         0.38618277]\",\"[0.         0.38618277]\",\"[0.         0.38618277]\",\"[ 0.         -0.01339257]\",\"[ 0.         -0.01339257]\",\"[ 0.         -0.01339257]\",\"[ 0.         -0.01339257]\",\"[ 0.         -0.01339257]\",\"[ 0.         -0.01339257]\",\"[ 0.         -0.01339257]\",\"[ 0.         -0.33429702]\",\"[ 0.         -0.33429702]\",\"[ 0.         -0.33429702]\",\"[ 0.         -0.33429702]\",\"[ 0.         -0.33429702]\",\"[ 0.         -0.33429702]\",\"[ 0.         -0.33429702]\",\"[ 0.         -0.20430204]\",\"[ 0.         -0.20430204]\",\"[ 0.         -0.20430204]\",\"[ 0.         -0.20430204]\",\"[ 0.         -0.20430204]\",\"[ 0.         -0.20430204]\",\"[ 0.         -0.20430204]\",\"[ 0. nan]\",\"[ 0. nan]\",\"[ 0. nan]\",\"[ 0. nan]\",\"[ 0. nan]\",\"[ 0. nan]\",\"[ 0. nan]\",\"[ 0. nan]\",\"[ 0. nan]\",\"[ 0. nan]\",\"[ 0. nan]\",\"[ 0. nan]\",\"[ 0. nan]\",\"[ 0. nan]\",\"[ 0. nan]\",\"[ 0. nan]\",\"[ 0. nan]\",\"[ 0. nan]\",\"[ 0. nan]\",\"[ 0. nan]\",\"[ 0. nan]\",\"[ 0. nan]\",\"[ 0. nan]\",\"[ 0. nan]\",\"[ 0. nan]\",\"[ 0. nan]\",\"[ 0. nan]\",\"[ 0. nan]\",\"[ 0. nan]\",\"[ 0. nan]\",\"[ 0. nan]\",\"[ 0. nan]\",\"[ 0. nan]\",\"[ 0. nan]\",\"[ 0. nan]\",\"[ 0.         -0.00495131]\",\"[ 0.         -0.00495131]\",\"[ 0.         -0.00495131]\",\"[ 0.         -0.00495131]\",\"[ 0.         -0.00495131]\",\"[ 0.         -0.00495131]\",\"[ 0.         -0.00495131]\",\"[0.         0.01019962]\",\"[0.         0.01019962]\",\"[0.         0.01019962]\",\"[0.         0.01019962]\",\"[0.         0.01019962]\",\"[0.         0.01019962]\",\"[0.         0.01019962]\",\"[ 0.         -0.02166322]\",\"[ 0.         -0.02166322]\",\"[ 0.         -0.02166322]\",\"[ 0.         -0.02166322]\",\"[ 0.         -0.02166322]\",\"[ 0.         -0.02166322]\",\"[ 0.         -0.02166322]\",\"[ 0.         -0.01442316]\",\"[ 0.         -0.01442316]\",\"[ 0.         -0.01442316]\",\"[ 0.         -0.01442316]\",\"[ 0.         -0.01442316]\",\"[ 0.         -0.01442316]\",\"[ 0.         -0.01442316]\",\"[ 0. nan]\",\"[ 0. nan]\",\"[ 0. nan]\",\"[ 0. nan]\",\"[ 0. nan]\",\"[ 0. nan]\",\"[ 0. nan]\"],\"line\":{\"color\":\"blue\"},\"meta\":{},\"mode\":\"lines\",\"name\":\"Hamiltonian value\",\"x\":{\"dtype\":\"f8\",\"bdata\":\"AAAAAAAAAAAAAAAAAAAAAAAAAAAAAPh\\u002fpLu8M\\u002fHTnT8AAAAAAAAAAKO7vDPx052\\u002fAAAAAAAA+H8AAAAAAADwPwAAAAAAAPA\\u002fAAAAAAAA+H\\u002feWL62pHHwPwAAAAAAAPA\\u002fRU6DkrYc7z8AAAAAAAD4fwAAAAAAAABAAAAAAAAAAEAAAAAAAAD4fzEfz\\u002fdgyP8\\u002fAAAAAAAAAEBncBiEzxsAQAAAAAAAAPh\\u002fAAAAAAAACEAAAAAAAAAIQAAAAAAAAPh\\u002f8qnuzzc5CEAAAAAAAAAIQA5WETDIxgdAAAAAAAAA+H8AAAAAAAAQQAAAAAAAABBAAAAAAAAA+H+16azfSP8PQAAAAAAAABBAJYspkFsAEEAAAAAAAAD4fwAAAAAAABRAAAAAAAAAFEAAAAAAAAD4fwAAAAAAAPj\\u002fAAAAAAAAFEAAAAAAAAD4\\u002fwAAAAAAAPh\\u002fAAAAAAAAGEAAAAAAAAAYQAAAAAAAAPh\\u002fAAAAAAAA+P8AAAAAAAAYQAAAAAAAAPj\\u002fAAAAAAAA+H8AAAAAAAAcQAAAAAAAABxAAAAAAAAA+H8AAAAAAAD4\\u002fwAAAAAAABxAAAAAAAAA+P8AAAAAAAD4fwAAAAAAACBAAAAAAAAAIEAAAAAAAAD4fwAAAAAAAPj\\u002fAAAAAAAAIEAAAAAAAAD4\\u002fwAAAAAAAPh\\u002fAAAAAAAAIkAAAAAAAAAiQAAAAAAAAPh\\u002fe0KJZCwAIkAAAAAAAAAiQIW9dpvT\\u002fyFAAAAAAAAA+H8AAAAAAAAkQAAAAAAAACRAAAAAAAAA+H8AAAAAAAD4\\u002fwAAAAAAACRAAAAAAAAA+P8AAAAAAAD4fwAAAAAAACZAAAAAAAAAJkAAAAAAAAD4fwAAAAAAAPj\\u002fAAAAAAAAJkAAAAAAAAD4\\u002fwAAAAAAAPh\\u002fAAAAAAAAKEAAAAAAAAAoQAAAAAAAAPh\\u002fAAAAAAAA+P8AAAAAAAAoQAAAAAAAAPj\\u002fAAAAAAAA+H8AAAAAAAAqQAAAAAAAACpAAAAAAAAA+H8AAAAAAAD4\\u002fwAAAAAAACpAAAAAAAAA+P8AAAAAAAD4fwAAAAAAACxAAAAAAAAALEAAAAAAAAD4fwAAAAAAAPj\\u002fAAAAAAAALEAAAAAAAAD4\\u002fwAAAAAAAPh\\u002fAAAAAAAAAAAAAAAAAAAAAAAAAAAAAPh\\u002fajeWry1pnD8AAAAAAAAAAGg3lq8taZy\\u002fAAAAAAAA+H8AAAAAAADwPwAAAAAAAPA\\u002fAAAAAAAA+H8opOpa9jjwPwAAAAAAAPA\\u002fsbcqShOO7z8AAAAAAAD4fwAAAAAAAABAAAAAAAAAAEAAAAAAAAD4f7P0dLz6BQBAAAAAAAAAAECZFhaHCvT\\u002fPwAAAAAAAPh\\u002fAAAAAAAACEAAAAAAAAAIQAAAAAAAAPh\\u002fC9bBexL5B0AAAAAAAAAIQPUpPoTtBghAAAAAAAAA+H8AAAAAAAAQQAAAAAAAABBAAAAAAAAA+H93XCAr5skPQAAAAAAAABBAxNFv6gwbEEAAAAAAAAD4fwAAAAAAABRAAAAAAAAAFEAAAAAAAAD4fwAAAAAAAPj\\u002fAAAAAAAAFEAAAAAAAAD4\\u002fwAAAAAAAPh\\u002fAAAAAAAAGEAAAAAAAAAYQAAAAAAAAPh\\u002fAAAAAAAA+P8AAAAAAAAYQAAAAAAAAPj\\u002fAAAAAAAA+H8AAAAAAAAcQAAAAAAAABxAAAAAAAAA+H8AAAAAAAD4\\u002fwAAAAAAABxAAAAAAAAA+P8AAAAAAAD4fwAAAAAAACBAAAAAAAAAIEAAAAAAAAD4fwAAAAAAAPj\\u002fAAAAAAAAIEAAAAAAAAD4\\u002fwAAAAAAAPh\\u002fAAAAAAAAIkAAAAAAAAAiQAAAAAAAAPh\\u002fvf86jaT\\u002fIUAAAAAAAAAiQEMAxXJbACJAAAAAAAAA+H8AAAAAAAAkQAAAAAAAACRAAAAAAAAA+H8AAAAAAAD4\\u002fwAAAAAAACRAAAAAAAAA+P8AAAAAAAD4fwAAAAAAACZAAAAAAAAAJkAAAAAAAAD4fwAAAAAAAPj\\u002fAAAAAAAAJkAAAAAAAAD4\\u002fwAAAAAAAPh\\u002fAAAAAAAAKEAAAAAAAAAoQAAAAAAAAPh\\u002fAAAAAAAA+P8AAAAAAAAoQAAAAAAAAPj\\u002fAAAAAAAA+H8AAAAAAAAqQAAAAAAAACpAAAAAAAAA+H8AAAAAAAD4\\u002fwAAAAAAACpAAAAAAAAA+P8AAAAAAAD4fwAAAAAAACxAAAAAAAAALEAAAAAAAAD4fwAAAAAAAPj\\u002fAAAAAAAALEAAAAAAAAD4\\u002fwAAAAAAAPh\\u002fAAAAAAAAAAAAAAAAAAAAAAAAAAAAAPh\\u002fUWdwGITPi78AAAAAAAAAAFBncBiEz4s\\u002fAAAAAAAA+H8AAAAAAADwPwAAAAAAAPA\\u002fAAAAAAAA+H9n6el49QvwPwAAAAAAAPA\\u002fMi0sDhXo7z8AAAAAAAD4fwAAAAAAAABAAAAAAAAAAEAAAAAAAAD4f3fDtOpLuv8\\u002fAAAAAAAAAEBFnqUK2iIAQAAAAAAAAPh\\u002fAAAAAAAACEAAAAAAAAAIQAAAAAAAAPh\\u002fLlzOWysACEAAAAAAAAAIQNKjMaTU\\u002fwdAAAAAAAAA+H8AAAAAAAAQQAAAAAAAABBAAAAAAAAA+H8Xm9Qm8AAQQAAAAAAAABBA0slWsh\\u002f+D0AAAAAAAAD4fwAAAAAAABRAAAAAAAAAFEAAAAAAAAD4fwAAAAAAAPj\\u002fAAAAAAAAFEAAAAAAAAD4\\u002fwAAAAAAAPh\\u002fAAAAAAAAGEAAAAAAAAAYQAAAAAAAAPh\\u002fAAAAAAAA+P8AAAAAAAAYQAAAAAAAAPj\\u002fAAAAAAAA+H8AAAAAAAAcQAAAAAAAABxAAAAAAAAA+H8AAAAAAAD4\\u002fwAAAAAAABxAAAAAAAAA+P8AAAAAAAD4fwAAAAAAACBAAAAAAAAAIEAAAAAAAAD4fwAAAAAAAPj\\u002fAAAAAAAAIEAAAAAAAAD4\\u002fwAAAAAAAPh\\u002fAAAAAAAAIkAAAAAAAAAiQAAAAAAAAPh\\u002fDoawOsIAIkAAAAAAAAAiQPJ5T8U9\\u002fyFAAAAAAAAA+H8AAAAAAAAkQAAAAAAAACRAAAAAAAAA+H8AAAAAAAD4\\u002fwAAAAAAACRAAAAAAAAA+P8AAAAAAAD4fwAAAAAAACZAAAAAAAAAJkAAAAAAAAD4fwAAAAAAAPj\\u002fAAAAAAAAJkAAAAAAAAD4\\u002fwAAAAAAAPh\\u002fAAAAAAAAKEAAAAAAAAAoQAAAAAAAAPh\\u002fAAAAAAAA+P8AAAAAAAAoQAAAAAAAAPj\\u002fAAAAAAAA+H8AAAAAAAAqQAAAAAAAACpAAAAAAAAA+H8AAAAAAAD4\\u002fwAAAAAAACpAAAAAAAAA+P8AAAAAAAD4fwAAAAAAACxAAAAAAAAALEAAAAAAAAD4fwAAAAAAAPj\\u002fAAAAAAAALEAAAAAAAAD4\\u002fwAAAAAAAPh\\u002fAAAAAAAAAAAAAAAAAAAAAAAAAAAAAPh\\u002fHvlU9+ebnD8AAAAAAAAAAB35VPfnm5y\\u002fAAAAAAAA+H8AAAAAAADwPwAAAAAAAPA\\u002fAAAAAAAA+H8sWAfvSeTvPwAAAAAAAPA\\u002f6lN8CNsN8D8AAAAAAAD4fwAAAAAAAABAAAAAAAAAAEAAAAAAAAD4fy5czlsrAABAAAAAAAAAAECkR2NIqf\\u002f\\u002fPwAAAAAAAPh\\u002fAAAAAAAACEAAAAAAAAAIQAAAAAAAAPh\\u002f2t9XS\\u002fS5B0AAAAAAAAAIQCYgqLQLRghAAAAAAAAA+H8AAAAAAAAQQAAAAAAAABBAAAAAAAAA+H8nSg2EahcQQAAAAAAAABBAsWvl9yrRD0AAAAAAAAD4fwAAAAAAABRAAAAAAAAAFEAAAAAAAAD4fwAAAAAAAPj\\u002fAAAAAAAAFEAAAAAAAAD4\\u002fwAAAAAAAPh\\u002fAAAAAAAAGEAAAAAAAAAYQAAAAAAAAPh\\u002fAAAAAAAA+P8AAAAAAAAYQAAAAAAAAPj\\u002fAAAAAAAA+H8AAAAAAAAcQAAAAAAAABxAAAAAAAAA+H8AAAAAAAD4\\u002fwAAAAAAABxAAAAAAAAA+P8AAAAAAAD4fwAAAAAAACBAAAAAAAAAIEAAAAAAAAD4fwAAAAAAAPj\\u002fAAAAAAAAIEAAAAAAAAD4\\u002fwAAAAAAAPh\\u002fAAAAAAAAIkAAAAAAAAAiQAAAAAAAAPh\\u002ftEXeUIEAIkAAAAAAAAAiQEy6Ia9+\\u002fyFAAAAAAAAA+H8AAAAAAAAkQAAAAAAAACRAAAAAAAAA+H8AAAAAAAD4\\u002fwAAAAAAACRAAAAAAAAA+P8AAAAAAAD4fwAAAAAAACZAAAAAAAAAJkAAAAAAAAD4fwAAAAAAAPj\\u002fAAAAAAAAJkAAAAAAAAD4\\u002fwAAAAAAAPh\\u002fAAAAAAAAKEAAAAAAAAAoQAAAAAAAAPh\\u002fAAAAAAAA+P8AAAAAAAAoQAAAAAAAAPj\\u002fAAAAAAAA+H8AAAAAAAAqQAAAAAAAACpAAAAAAAAA+H8AAAAAAAD4\\u002fwAAAAAAACpAAAAAAAAA+P8AAAAAAAD4fwAAAAAAACxAAAAAAAAALEAAAAAAAAD4fwAAAAAAAPj\\u002fAAAAAAAALEAAAAAAAAD4\\u002fwAAAAAAAPh\\u002fAAAAAAAAAAAAAAAAAAAAAAAAAAAAAPh\\u002fKF3JYgrkNr8AAAAAAAAAACZdyWIK5DY\\u002fAAAAAAAA+H8AAAAAAADwPwAAAAAAAPA\\u002fAAAAAAAA+H\\u002fccYGsmCfvPwAAAAAAAPA\\u002fEke\\u002fqTNs8D8AAAAAAAD4fwAAAAAAAABAAAAAAAAAAEAAAAAAAAD4fy42qU3gAQBAAAAAAAAAAEClk61kP\\u002fz\\u002fPwAAAAAAAPh\\u002fAAAAAAAACEAAAAAAAAAIQAAAAAAAAPh\\u002fT5QaCNUuCEAAAAAAAAAIQLFr5fcq0QdAAAAAAAAA+H8AAAAAAAAQQAAAAAAAABBAAAAAAAAA+H\\u002fvt+p7Tw4QQAAAAAAAABBAIpAqCGHjD0AAAAAAAAD4fwAAAAAAABRAAAAAAAAAFEAAAAAAAAD4fwAAAAAAAPj\\u002fAAAAAAAAFEAAAAAAAAD4\\u002fwAAAAAAAPh\\u002fAAAAAAAAGEAAAAAAAAAYQAAAAAAAAPh\\u002fAAAAAAAA+P8AAAAAAAAYQAAAAAAAAPj\\u002fAAAAAAAA+H8AAAAAAAAcQAAAAAAAABxAAAAAAAAA+H8AAAAAAAD4\\u002fwAAAAAAABxAAAAAAAAA+P8AAAAAAAD4fwAAAAAAACBAAAAAAAAAIEAAAAAAAAD4fwAAAAAAAPj\\u002fAAAAAAAAIEAAAAAAAAD4\\u002fwAAAAAAAPh\\u002fAAAAAAAAIkAAAAAAAAAiQAAAAAAAAPh\\u002fAAAAAAAA+P8AAAAAAAAiQAAAAAAAAPj\\u002fAAAAAAAA+H8AAAAAAAAkQAAAAAAAACRAAAAAAAAA+H97QolkLAAkQAAAAAAAACRAhb12m9P\\u002fI0AAAAAAAAD4fwAAAAAAACZAAAAAAAAAJkAAAAAAAAD4f73\\u002fOo2k\\u002fyVAAAAAAAAAJkBDAMVyWwAmQAAAAAAAAPh\\u002fAAAAAAAAKEAAAAAAAAAoQAAAAAAAAPh\\u002fDoawOsIAKEAAAAAAAAAoQPJ5T8U9\\u002fydAAAAAAAAA+H8AAAAAAAAqQAAAAAAAACpAAAAAAAAA+H+0Rd5QgQAqQAAAAAAAACpATLohr37\\u002fKUAAAAAAAAD4fwAAAAAAACxAAAAAAAAALEAAAAAAAAD4fwAAAAAAAPj\\u002fAAAAAAAALEAAAAAAAAD4\\u002fwAAAAAAAPh\\u002f\"},\"y\":{\"dtype\":\"f8\",\"bdata\":\"AAAAAAAAAAD4vn0c4EDbvwAAAAAAAPh\\u002fBAPl2aYh1r\\u002f4vn0c4EDbvwQD5dmmIda\\u002fAAAAAAAA+H8AAAAAAAAAAILUSRhs9dm\\u002fAAAAAAAA+H+WCifMfRTVv4LUSRhs9dm\\u002flgonzH0U1b8AAAAAAAD4fwAAAAAAAAAA9\\u002fewxgVpyT8AAAAAAAD4fzZs0Wx6osQ\\u002f9\\u002fewxgVpyT82bNFseqLEPwAAAAAAAPh\\u002fAAAAAAAAAAAWosGDxSPavwAAAAAAAPh\\u002f+KpuPyE61b8WosGDxSPav\\u002fiqbj8hOtW\\u002fAAAAAAAA+H8AAAAAAAAAACQFBf5A6nQ\\u002fAAAAAAAA+H+6ytm5+\\u002ftwPyQFBf5A6nQ\\u002fusrZufv7cD8AAAAAAAD4fwAAAAAAAAAAAAAAAAAA+P8AAAAAAAD4fwAAAAAAAPj\\u002fAAAAAAAA+P8AAAAAAAD4\\u002fwAAAAAAAPh\\u002fAAAAAAAAAAAAAAAAAAD4\\u002fwAAAAAAAPh\\u002fAAAAAAAA+P8AAAAAAAD4\\u002fwAAAAAAAPj\\u002fAAAAAAAA+H8AAAAAAAAAAAAAAAAAAPj\\u002fAAAAAAAA+H8AAAAAAAD4\\u002fwAAAAAAAPj\\u002fAAAAAAAA+P8AAAAAAAD4fwAAAAAAAAAAAAAAAAAA+P8AAAAAAAD4fwAAAAAAAPj\\u002fAAAAAAAA+P8AAAAAAAD4\\u002fwAAAAAAAPh\\u002fAAAAAAAAAACq2AU800d0vwAAAAAAAPh\\u002fRY5JyBR4cL+q2AU800d0v0WOScgUeHC\\u002fAAAAAAAA+H8AAAAAAAAAAAAAAAAAAPj\\u002fAAAAAAAA+H8AAAAAAAD4\\u002fwAAAAAAAPj\\u002fAAAAAAAA+P8AAAAAAAD4fwAAAAAAAAAAAAAAAAAA+P8AAAAAAAD4fwAAAAAAAPj\\u002fAAAAAAAA+P8AAAAAAAD4\\u002fwAAAAAAAPh\\u002fAAAAAAAAAAAAAAAAAAD4\\u002fwAAAAAAAPh\\u002fAAAAAAAA+P8AAAAAAAD4\\u002fwAAAAAAAPj\\u002fAAAAAAAA+H8AAAAAAAAAAAAAAAAAAPj\\u002fAAAAAAAA+H8AAAAAAAD4\\u002fwAAAAAAAPj\\u002fAAAAAAAA+P8AAAAAAAD4fwAAAAAAAAAAAAAAAAAA+P8AAAAAAAD4fwAAAAAAAPj\\u002fAAAAAAAA+P8AAAAAAAD4\\u002fwAAAAAAAPh\\u002fAAAAAAAA8D+\\u002fFdvzSQXjPwAAAAAAAPh\\u002ftXrsGcF15T+\\u002fFdvzSQXjP7V67BnBdeU\\u002fAAAAAAAA+H8AAAAAAADwP451bHWIfuk\\u002fAAAAAAAA+H+\\u002fyXXXibfqP451bHWIfuk\\u002fv8l114m36j8AAAAAAAD4fwAAAAAAAPA\\u002fhYqhiVii7j8AAAAAAAD4fwnWkzAP5O4\\u002fhYqhiVii7j8J1pMwD+TuPwAAAAAAAPh\\u002fAAAAAAAA8D+qYdYnjsrwPwAAAAAAAPh\\u002fdG0bw3yk8D+qYdYnjsrwP3RtG8N8pPA\\u002fAAAAAAAA+H8AAAAAAADwPzha4fvNLfY\\u002fAAAAAAAA+H8cK\\u002fvIhQT1Pzha4fvNLfY\\u002fHCv7yIUE9T8AAAAAAAD4fwAAAAAAAPA\\u002fAAAAAAAA+P8AAAAAAAD4fwAAAAAAAPj\\u002fAAAAAAAA+P8AAAAAAAD4\\u002fwAAAAAAAPh\\u002fAAAAAAAA8D8AAAAAAAD4\\u002fwAAAAAAAPh\\u002fAAAAAAAA+P8AAAAAAAD4\\u002fwAAAAAAAPj\\u002fAAAAAAAA+H8AAAAAAADwPwAAAAAAAPj\\u002fAAAAAAAA+H8AAAAAAAD4\\u002fwAAAAAAAPj\\u002fAAAAAAAA+P8AAAAAAAD4fwAAAAAAAPA\\u002fAAAAAAAA+P8AAAAAAAD4fwAAAAAAAPj\\u002fAAAAAAAA+P8AAAAAAAD4\\u002fwAAAAAAAPh\\u002fAAAAAAAA8D8Sa3AUxynwPwAAAAAAAPh\\u002fcir0D+0h8D8Sa3AUxynwP3Iq9A\\u002ftIfA\\u002fAAAAAAAA+H8AAAAAAADwPwAAAAAAAPj\\u002fAAAAAAAA+H8AAAAAAAD4\\u002fwAAAAAAAPj\\u002fAAAAAAAA+P8AAAAAAAD4fwAAAAAAAPA\\u002fAAAAAAAA+P8AAAAAAAD4fwAAAAAAAPj\\u002fAAAAAAAA+P8AAAAAAAD4\\u002fwAAAAAAAPh\\u002fAAAAAAAA8D8AAAAAAAD4\\u002fwAAAAAAAPh\\u002fAAAAAAAA+P8AAAAAAAD4\\u002fwAAAAAAAPj\\u002fAAAAAAAA+H8AAAAAAADwPwAAAAAAAPj\\u002fAAAAAAAA+H8AAAAAAAD4\\u002fwAAAAAAAPj\\u002fAAAAAAAA+P8AAAAAAAD4fwAAAAAAAPA\\u002fAAAAAAAA+P8AAAAAAAD4fwAAAAAAAPj\\u002fAAAAAAAA+P8AAAAAAAD4\\u002fwAAAAAAAPh\\u002fAAAAAAAAAEB\\u002fD2tckJYBQAAAAAAAAPh\\u002fwxbNpidKAUB\\u002fD2tckJYBQMMWzaYnSgFAAAAAAAAA+H8AAAAAAAAAQEPF0EQsUf8\\u002fAAAAAAAA+H8F60mYB3L\\u002fP0PF0EQsUf8\\u002fBetJmAdy\\u002fz8AAAAAAAD4fwAAAAAAAABAsN20hX\\u002f9AUAAAAAAAAD4f0DkG2q+nQFAsN20hX\\u002f9AUBA5Btqvp0BQAAAAAAAAPh\\u002fAAAAAAAAAEAPimFHDPv\\u002fPwAAAAAAAPh\\u002fvXBQiPr7\\u002fz8PimFHDPv\\u002fP71wUIj6+\\u002f8\\u002fAAAAAAAA+H8AAAAAAAAAQKRyf94kyf8\\u002fAAAAAAAA+H9Iw0oddNP\\u002fP6Ryf94kyf8\\u002fSMNKHXTT\\u002fz8AAAAAAAD4fwAAAAAAAABAAAAAAAAA+P8AAAAAAAD4fwAAAAAAAPj\\u002fAAAAAAAA+P8AAAAAAAD4\\u002fwAAAAAAAPh\\u002fAAAAAAAAAEAAAAAAAAD4\\u002fwAAAAAAAPh\\u002fAAAAAAAA+P8AAAAAAAD4\\u002fwAAAAAAAPj\\u002fAAAAAAAA+H8AAAAAAAAAQAAAAAAAAPj\\u002fAAAAAAAA+H8AAAAAAAD4\\u002fwAAAAAAAPj\\u002fAAAAAAAA+P8AAAAAAAD4fwAAAAAAAABAAAAAAAAA+P8AAAAAAAD4fwAAAAAAAPj\\u002fAAAAAAAA+P8AAAAAAAD4\\u002fwAAAAAAAPh\\u002fAAAAAAAAAEC5wEJ3RKf\\u002fPwAAAAAAAPh\\u002f3a3+lvG3\\u002fz+5wEJ3RKf\\u002fP92t\\u002fpbxt\\u002f8\\u002fAAAAAAAA+H8AAAAAAAAAQAAAAAAAAPj\\u002fAAAAAAAA+H8AAAAAAAD4\\u002fwAAAAAAAPj\\u002fAAAAAAAA+P8AAAAAAAD4fwAAAAAAAABAAAAAAAAA+P8AAAAAAAD4fwAAAAAAAPj\\u002fAAAAAAAA+P8AAAAAAAD4\\u002fwAAAAAAAPh\\u002fAAAAAAAAAEAAAAAAAAD4\\u002fwAAAAAAAPh\\u002fAAAAAAAA+P8AAAAAAAD4\\u002fwAAAAAAAPj\\u002fAAAAAAAA+H8AAAAAAAAAQAAAAAAAAPj\\u002fAAAAAAAA+H8AAAAAAAD4\\u002fwAAAAAAAPj\\u002fAAAAAAAA+P8AAAAAAAD4fwAAAAAAAABAAAAAAAAA+P8AAAAAAAD4fwAAAAAAAPj\\u002fAAAAAAAA+P8AAAAAAAD4\\u002fwAAAAAAAPh\\u002fAAAAAAAACEC9y4dPh7sEQAAAAAAAAPh\\u002foSoS2LtYBUC9y4dPh7sEQKEqEti7WAVAAAAAAAAA+H8AAAAAAAAIQNUw6xNHZQhAAAAAAAAA+H+6to1hPlIIQNUw6xNHZQhAuraNYT5SCEAAAAAAAAD4fwAAAAAAAAhACMWwI4b9B0AAAAAAAAD4f184KET9\\u002fQdACMWwI4b9B0BfOChE\\u002ff0HQAAAAAAAAPh\\u002fAAAAAAAACEAAAAAAAAAMQAAAAAAAAPh\\u002feVgkC40\\u002fC0AAAAAAAAAMQHlYJAuNPwtAAAAAAAAA+H8AAAAAAAAIQKkEHBVcUwVAAAAAAAAA+H80VRytB9QFQKkEHBVcUwVANFUcrQfUBUAAAAAAAAD4fwAAAAAAAAhAAAAAAAAA+P8AAAAAAAD4fwAAAAAAAPj\\u002fAAAAAAAA+P8AAAAAAAD4\\u002fwAAAAAAAPh\\u002fAAAAAAAACEAAAAAAAAD4\\u002fwAAAAAAAPh\\u002fAAAAAAAA+P8AAAAAAAD4\\u002fwAAAAAAAPj\\u002fAAAAAAAA+H8AAAAAAAAIQAAAAAAAAPj\\u002fAAAAAAAA+H8AAAAAAAD4\\u002fwAAAAAAAPj\\u002fAAAAAAAA+P8AAAAAAAD4fwAAAAAAAAhAAAAAAAAA+P8AAAAAAAD4fwAAAAAAAPj\\u002fAAAAAAAA+P8AAAAAAAD4\\u002fwAAAAAAAPh\\u002fAAAAAAAACEB1kc8cduIHQAAAAAAAAPh\\u002fSKJSSAPoB0B1kc8cduIHQEiiUkgD6AdAAAAAAAAA+H8AAAAAAAAIQAAAAAAAAPj\\u002fAAAAAAAA+H8AAAAAAAD4\\u002fwAAAAAAAPj\\u002fAAAAAAAA+P8AAAAAAAD4fwAAAAAAAAhAAAAAAAAA+P8AAAAAAAD4fwAAAAAAAPj\\u002fAAAAAAAA+P8AAAAAAAD4\\u002fwAAAAAAAPh\\u002fAAAAAAAACEAAAAAAAAD4\\u002fwAAAAAAAPh\\u002fAAAAAAAA+P8AAAAAAAD4\\u002fwAAAAAAAPj\\u002fAAAAAAAA+H8AAAAAAAAIQAAAAAAAAPj\\u002fAAAAAAAA+H8AAAAAAAD4\\u002fwAAAAAAAPj\\u002fAAAAAAAA+P8AAAAAAAD4fwAAAAAAAAhAAAAAAAAA+P8AAAAAAAD4fwAAAAAAAPj\\u002fAAAAAAAA+P8AAAAAAAD4\\u002fwAAAAAAAPh\\u002fAAAAAAAAEEBBgT+QOgUQQAAAAAAAAPh\\u002fcnbu\\u002fj4EEEBBgT+QOgUQQHJ27v4+BBBAAAAAAAAA+H8AAAAAAAAQQI5W+H5zixFAAAAAAAAA+H\\u002fHyj5yIUERQI5W+H5zixFAx8o+ciFBEUAAAAAAAAD4fwAAAAAAABBAUrk\\u002fb5LkD0AAAAAAAAD4f6RhpQ666Q9AUrk\\u002fb5LkD0CkYaUOuukPQAAAAAAAAPh\\u002fAAAAAAAAEECpBBwVXFMNQAAAAAAAAPh\\u002fNFUcrQfUDUCpBBwVXFMNQDRVHK0H1A1AAAAAAAAA+H8AAAAAAAAQQJw3Y+SWXQ5AAAAAAAAA+H8m\\u002fFCSOawOQJw3Y+SWXQ5AJvxQkjmsDkAAAAAAAAD4fwAAAAAAABBAAAAAAAAA+P8AAAAAAAD4fwAAAAAAAPj\\u002fAAAAAAAA+P8AAAAAAAD4\\u002fwAAAAAAAPh\\u002fAAAAAAAAEEAAAAAAAAD4\\u002fwAAAAAAAPh\\u002fAAAAAAAA+P8AAAAAAAD4\\u002fwAAAAAAAPj\\u002fAAAAAAAA+H8AAAAAAAAQQAAAAAAAAPj\\u002fAAAAAAAA+H8AAAAAAAD4\\u002fwAAAAAAAPj\\u002fAAAAAAAA+P8AAAAAAAD4fwAAAAAAABBAAAAAAAAA+P8AAAAAAAD4fwAAAAAAAPj\\u002fAAAAAAAA+P8AAAAAAAD4\\u002fwAAAAAAAPh\\u002fAAAAAAAAEEAAAAAAAAD4\\u002fwAAAAAAAPh\\u002fAAAAAAAA+P8AAAAAAAD4\\u002fwAAAAAAAPj\\u002fAAAAAAAA+H8AAAAAAAAQQBT9YRbc9Q9AAAAAAAAA+H8525v1w\\u002fcPQBT9YRbc9Q9AOdub9cP3D0AAAAAAAAD4fwAAAAAAABBAxRocxXEKEEAAAAAAAAD4f50K\\u002fUN7CBBAxRocxXEKEECdCv1DewgQQAAAAAAAAPh\\u002fAAAAAAAAEEBdYKE7otMPQAAAAAAAAPh\\u002f71Z\\u002fy\\u002fjbD0BdYKE7otMPQO9Wf8v42w9AAAAAAAAA+H8AAAAAAAAQQHWRzxx24g9AAAAAAAAA+H9IolJIA+gPQHWRzxx24g9ASKJSSAPoD0AAAAAAAAD4fwAAAAAAABBAAAAAAAAA+P8AAAAAAAD4fwAAAAAAAPj\\u002fAAAAAAAA+P8AAAAAAAD4\\u002fwAAAAAAAPh\\u002f\"},\"type\":\"scatter\"},{\"hovertext\":[\"[ 0.32056699 -0.18767804]\",\"[ 0.32056699 -0.18767804]\",\"[ 0.32056699 -0.18767804]\",\"[ 0.32056699 -0.18767804]\",\"[ 0.32056699 -0.18767804]\",\"[ 0.32056699 -0.18767804]\",\"[ 0.32056699 -0.18767804]\",\"[ 0.30533769 -0.09508798]\",\"[ 0.30533769 -0.09508798]\",\"[ 0.30533769 -0.09508798]\",\"[ 0.30533769 -0.09508798]\",\"[ 0.30533769 -0.09508798]\",\"[ 0.30533769 -0.09508798]\",\"[ 0.30533769 -0.09508798]\",\"[-0.14944337  0.11468235]\",\"[-0.14944337  0.11468235]\",\"[-0.14944337  0.11468235]\",\"[-0.14944337  0.11468235]\",\"[-0.14944337  0.11468235]\",\"[-0.14944337  0.11468235]\",\"[-0.14944337  0.11468235]\",\"[ 0.3074673  -0.09952863]\",\"[ 0.3074673  -0.09952863]\",\"[ 0.3074673  -0.09952863]\",\"[ 0.3074673  -0.09952863]\",\"[ 0.3074673  -0.09952863]\",\"[ 0.3074673  -0.09952863]\",\"[ 0.3074673  -0.09952863]\",\"[-0.00384394  0.00325395]\",\"[-0.00384394  0.00325395]\",\"[-0.00384394  0.00325395]\",\"[-0.00384394  0.00325395]\",\"[-0.00384394  0.00325395]\",\"[-0.00384394  0.00325395]\",\"[-0.00384394  0.00325395]\",\"[ 0. -0.]\",\"[ 0. -0.]\",\"[ 0. -0.]\",\"[ 0. -0.]\",\"[ 0. -0.]\",\"[ 0. -0.]\",\"[ 0. -0.]\",\"[ 0. -0.]\",\"[ 0. -0.]\",\"[ 0. -0.]\",\"[ 0. -0.]\",\"[ 0. -0.]\",\"[ 0. -0.]\",\"[ 0. -0.]\",\"[ 0. -0.]\",\"[ 0. -0.]\",\"[ 0. -0.]\",\"[ 0. -0.]\",\"[ 0. -0.]\",\"[ 0. -0.]\",\"[ 0. -0.]\",\"[ 0. -0.]\",\"[ 0. -0.]\",\"[ 0. -0.]\",\"[ 0. -0.]\",\"[ 0. -0.]\",\"[ 0. -0.]\",\"[ 0. -0.]\",\"[ 0.00372733 -0.00167531]\",\"[ 0.00372733 -0.00167531]\",\"[ 0.00372733 -0.00167531]\",\"[ 0.00372733 -0.00167531]\",\"[ 0.00372733 -0.00167531]\",\"[ 0.00372733 -0.00167531]\",\"[ 0.00372733 -0.00167531]\",\"[ 0. -0.]\",\"[ 0. -0.]\",\"[ 0. -0.]\",\"[ 0. -0.]\",\"[ 0. -0.]\",\"[ 0. -0.]\",\"[ 0. -0.]\",\"[ 0. -0.]\",\"[ 0. -0.]\",\"[ 0. -0.]\",\"[ 0. -0.]\",\"[ 0. -0.]\",\"[ 0. -0.]\",\"[ 0. -0.]\",\"[ 0. -0.]\",\"[ 0. -0.]\",\"[ 0. -0.]\",\"[ 0. -0.]\",\"[ 0. -0.]\",\"[ 0. -0.]\",\"[ 0. -0.]\",\"[ 0. -0.]\",\"[ 0. -0.]\",\"[ 0. -0.]\",\"[ 0. -0.]\",\"[ 0. -0.]\",\"[ 0. -0.]\",\"[ 0. -0.]\",\"[ 0. -0.]\",\"[ 0. -0.]\",\"[ 0. -0.]\",\"[ 0. -0.]\",\"[ 0. -0.]\",\"[ 0. -0.]\",\"[ 0. -0.]\",\"[ 0.30533769 -0.19787718]\",\"[ 0.30533769 -0.19787718]\",\"[ 0.30533769 -0.19787718]\",\"[ 0.30533769 -0.19787718]\",\"[ 0.30533769 -0.19787718]\",\"[ 0.30533769 -0.19787718]\",\"[ 0.30533769 -0.19787718]\",\"[ 0.15304666 -0.04015657]\",\"[ 0.15304666 -0.04015657]\",\"[ 0.15304666 -0.04015657]\",\"[ 0.15304666 -0.04015657]\",\"[ 0.15304666 -0.04015657]\",\"[ 0.15304666 -0.04015657]\",\"[ 0.15304666 -0.04015657]\",\"[ 0.03213117 -0.02183903]\",\"[ 0.03213117 -0.02183903]\",\"[ 0.03213117 -0.02183903]\",\"[ 0.03213117 -0.02183903]\",\"[ 0.03213117 -0.02183903]\",\"[ 0.03213117 -0.02183903]\",\"[ 0.03213117 -0.02183903]\",\"[-0.03722729  0.00670004]\",\"[-0.03722729  0.00670004]\",\"[-0.03722729  0.00670004]\",\"[-0.03722729  0.00670004]\",\"[-0.03722729  0.00670004]\",\"[-0.03722729  0.00670004]\",\"[-0.03722729  0.00670004]\",\"[-0.29071716  0.20868358]\",\"[-0.29071716  0.20868358]\",\"[-0.29071716  0.20868358]\",\"[-0.29071716  0.20868358]\",\"[-0.29071716  0.20868358]\",\"[-0.29071716  0.20868358]\",\"[-0.29071716  0.20868358]\",\"[ 0. -0.]\",\"[ 0. -0.]\",\"[ 0. -0.]\",\"[ 0. -0.]\",\"[ 0. -0.]\",\"[ 0. -0.]\",\"[ 0. -0.]\",\"[ 0. -0.]\",\"[ 0. -0.]\",\"[ 0. -0.]\",\"[ 0. -0.]\",\"[ 0. -0.]\",\"[ 0. -0.]\",\"[ 0. -0.]\",\"[ 0. -0.]\",\"[ 0. -0.]\",\"[ 0. -0.]\",\"[ 0. -0.]\",\"[ 0. -0.]\",\"[ 0. -0.]\",\"[ 0. -0.]\",\"[ 0. -0.]\",\"[ 0. -0.]\",\"[ 0. -0.]\",\"[ 0. -0.]\",\"[ 0. -0.]\",\"[ 0. -0.]\",\"[ 0. -0.]\",\"[-0.00767824  0.0005024 ]\",\"[-0.00767824  0.0005024 ]\",\"[-0.00767824  0.0005024 ]\",\"[-0.00767824  0.0005024 ]\",\"[-0.00767824  0.0005024 ]\",\"[-0.00767824  0.0005024 ]\",\"[-0.00767824  0.0005024 ]\",\"[ 0. -0.]\",\"[ 0. -0.]\",\"[ 0. -0.]\",\"[ 0. -0.]\",\"[ 0. -0.]\",\"[ 0. -0.]\",\"[ 0. -0.]\",\"[ 0. -0.]\",\"[ 0. -0.]\",\"[ 0. -0.]\",\"[ 0. -0.]\",\"[ 0. -0.]\",\"[ 0. -0.]\",\"[ 0. -0.]\",\"[ 0. -0.]\",\"[ 0. -0.]\",\"[ 0. -0.]\",\"[ 0. -0.]\",\"[ 0. -0.]\",\"[ 0. -0.]\",\"[ 0. -0.]\",\"[ 0. -0.]\",\"[ 0. -0.]\",\"[ 0. -0.]\",\"[ 0. -0.]\",\"[ 0. -0.]\",\"[ 0. -0.]\",\"[ 0. -0.]\",\"[ 0. -0.]\",\"[ 0. -0.]\",\"[ 0. -0.]\",\"[ 0. -0.]\",\"[ 0. -0.]\",\"[ 0. -0.]\",\"[ 0. -0.]\",\"[-0.14944337  0.13693234]\",\"[-0.14944337  0.13693234]\",\"[-0.14944337  0.13693234]\",\"[-0.14944337  0.13693234]\",\"[-0.14944337  0.13693234]\",\"[-0.14944337  0.13693234]\",\"[-0.14944337  0.13693234]\",\"[ 0.03213117 -0.0069237 ]\",\"[ 0.03213117 -0.0069237 ]\",\"[ 0.03213117 -0.0069237 ]\",\"[ 0.03213117 -0.0069237 ]\",\"[ 0.03213117 -0.0069237 ]\",\"[ 0.03213117 -0.0069237 ]\",\"[ 0.03213117 -0.0069237 ]\",\"[-0.18727958  0.07653388]\",\"[-0.18727958  0.07653388]\",\"[-0.18727958  0.07653388]\",\"[-0.18727958  0.07653388]\",\"[-0.18727958  0.07653388]\",\"[-0.18727958  0.07653388]\",\"[-0.18727958  0.07653388]\",\"[ 0.00091013 -0.00026284]\",\"[ 0.00091013 -0.00026284]\",\"[ 0.00091013 -0.00026284]\",\"[ 0.00091013 -0.00026284]\",\"[ 0.00091013 -0.00026284]\",\"[ 0.00091013 -0.00026284]\",\"[ 0.00091013 -0.00026284]\",\"[ 0.01008189 -0.003613  ]\",\"[ 0.01008189 -0.003613  ]\",\"[ 0.01008189 -0.003613  ]\",\"[ 0.01008189 -0.003613  ]\",\"[ 0.01008189 -0.003613  ]\",\"[ 0.01008189 -0.003613  ]\",\"[ 0.01008189 -0.003613  ]\",\"[ 0. -0.]\",\"[ 0. -0.]\",\"[ 0. -0.]\",\"[ 0. -0.]\",\"[ 0. -0.]\",\"[ 0. -0.]\",\"[ 0. -0.]\",\"[ 0. -0.]\",\"[ 0. -0.]\",\"[ 0. -0.]\",\"[ 0. -0.]\",\"[ 0. -0.]\",\"[ 0. -0.]\",\"[ 0. -0.]\",\"[ 0. -0.]\",\"[ 0. -0.]\",\"[ 0. -0.]\",\"[ 0. -0.]\",\"[ 0. -0.]\",\"[ 0. -0.]\",\"[ 0. -0.]\",\"[ 0. -0.]\",\"[ 0. -0.]\",\"[ 0. -0.]\",\"[ 0. -0.]\",\"[ 0. -0.]\",\"[ 0. -0.]\",\"[ 0. -0.]\",\"[ 0.016308   -0.01444431]\",\"[ 0.016308   -0.01444431]\",\"[ 0.016308   -0.01444431]\",\"[ 0.016308   -0.01444431]\",\"[ 0.016308   -0.01444431]\",\"[ 0.016308   -0.01444431]\",\"[ 0.016308   -0.01444431]\",\"[ 0. -0.]\",\"[ 0. -0.]\",\"[ 0. -0.]\",\"[ 0. -0.]\",\"[ 0. -0.]\",\"[ 0. -0.]\",\"[ 0. -0.]\",\"[ 0. -0.]\",\"[ 0. -0.]\",\"[ 0. -0.]\",\"[ 0. -0.]\",\"[ 0. -0.]\",\"[ 0. -0.]\",\"[ 0. -0.]\",\"[ 0. -0.]\",\"[ 0. -0.]\",\"[ 0. -0.]\",\"[ 0. -0.]\",\"[ 0. -0.]\",\"[ 0. -0.]\",\"[ 0. -0.]\",\"[ 0. -0.]\",\"[ 0. -0.]\",\"[ 0. -0.]\",\"[ 0. -0.]\",\"[ 0. -0.]\",\"[ 0. -0.]\",\"[ 0. -0.]\",\"[ 0. -0.]\",\"[ 0. -0.]\",\"[ 0. -0.]\",\"[ 0. -0.]\",\"[ 0. -0.]\",\"[ 0. -0.]\",\"[ 0. -0.]\",\"[ 0.3074673  -0.18666201]\",\"[ 0.3074673  -0.18666201]\",\"[ 0.3074673  -0.18666201]\",\"[ 0.3074673  -0.18666201]\",\"[ 0.3074673  -0.18666201]\",\"[ 0.3074673  -0.18666201]\",\"[ 0.3074673  -0.18666201]\",\"[-0.03722729  0.00342801]\",\"[-0.03722729  0.00342801]\",\"[-0.03722729  0.00342801]\",\"[-0.03722729  0.00342801]\",\"[-0.03722729  0.00342801]\",\"[-0.03722729  0.00342801]\",\"[-0.03722729  0.00342801]\",\"[ 0.00091013 -0.0006092 ]\",\"[ 0.00091013 -0.0006092 ]\",\"[ 0.00091013 -0.0006092 ]\",\"[ 0.00091013 -0.0006092 ]\",\"[ 0.00091013 -0.0006092 ]\",\"[ 0.00091013 -0.0006092 ]\",\"[ 0.00091013 -0.0006092 ]\",\"[-0.3763984   0.32912648]\",\"[-0.3763984   0.32912648]\",\"[-0.3763984   0.32912648]\",\"[-0.3763984   0.32912648]\",\"[-0.3763984   0.32912648]\",\"[-0.3763984   0.32912648]\",\"[-0.3763984   0.32912648]\",\"[ 0.25165773 -0.24325844]\",\"[ 0.25165773 -0.24325844]\",\"[ 0.25165773 -0.24325844]\",\"[ 0.25165773 -0.24325844]\",\"[ 0.25165773 -0.24325844]\",\"[ 0.25165773 -0.24325844]\",\"[ 0.25165773 -0.24325844]\",\"[ 0. -0.]\",\"[ 0. -0.]\",\"[ 0. -0.]\",\"[ 0. -0.]\",\"[ 0. -0.]\",\"[ 0. -0.]\",\"[ 0. -0.]\",\"[ 0. -0.]\",\"[ 0. -0.]\",\"[ 0. -0.]\",\"[ 0. -0.]\",\"[ 0. -0.]\",\"[ 0. -0.]\",\"[ 0. -0.]\",\"[ 0. -0.]\",\"[ 0. -0.]\",\"[ 0. -0.]\",\"[ 0. -0.]\",\"[ 0. -0.]\",\"[ 0. -0.]\",\"[ 0. -0.]\",\"[ 0. -0.]\",\"[ 0. -0.]\",\"[ 0. -0.]\",\"[ 0. -0.]\",\"[ 0. -0.]\",\"[ 0. -0.]\",\"[ 0. -0.]\",\"[ 0.01085771 -0.00805979]\",\"[ 0.01085771 -0.00805979]\",\"[ 0.01085771 -0.00805979]\",\"[ 0.01085771 -0.00805979]\",\"[ 0.01085771 -0.00805979]\",\"[ 0.01085771 -0.00805979]\",\"[ 0.01085771 -0.00805979]\",\"[ 0. -0.]\",\"[ 0. -0.]\",\"[ 0. -0.]\",\"[ 0. -0.]\",\"[ 0. -0.]\",\"[ 0. -0.]\",\"[ 0. -0.]\",\"[ 0. -0.]\",\"[ 0. -0.]\",\"[ 0. -0.]\",\"[ 0. -0.]\",\"[ 0. -0.]\",\"[ 0. -0.]\",\"[ 0. -0.]\",\"[ 0. -0.]\",\"[ 0. -0.]\",\"[ 0. -0.]\",\"[ 0. -0.]\",\"[ 0. -0.]\",\"[ 0. -0.]\",\"[ 0. -0.]\",\"[ 0. -0.]\",\"[ 0. -0.]\",\"[ 0. -0.]\",\"[ 0. -0.]\",\"[ 0. -0.]\",\"[ 0. -0.]\",\"[ 0. -0.]\",\"[ 0. -0.]\",\"[ 0. -0.]\",\"[ 0. -0.]\",\"[ 0. -0.]\",\"[ 0. -0.]\",\"[ 0. -0.]\",\"[ 0. -0.]\",\"[-0.00384394  0.00248819]\",\"[-0.00384394  0.00248819]\",\"[-0.00384394  0.00248819]\",\"[-0.00384394  0.00248819]\",\"[-0.00384394  0.00248819]\",\"[-0.00384394  0.00248819]\",\"[-0.00384394  0.00248819]\",\"[-0.29071716  0.04576305]\",\"[-0.29071716  0.04576305]\",\"[-0.29071716  0.04576305]\",\"[-0.29071716  0.04576305]\",\"[-0.29071716  0.04576305]\",\"[-0.29071716  0.04576305]\",\"[-0.29071716  0.04576305]\",\"[ 0.01008189 -0.00355327]\",\"[ 0.01008189 -0.00355327]\",\"[ 0.01008189 -0.00355327]\",\"[ 0.01008189 -0.00355327]\",\"[ 0.01008189 -0.00355327]\",\"[ 0.01008189 -0.00355327]\",\"[ 0.01008189 -0.00355327]\",\"[ 0.25165773 -0.00228216]\",\"[ 0.25165773 -0.00228216]\",\"[ 0.25165773 -0.00228216]\",\"[ 0.25165773 -0.00228216]\",\"[ 0.25165773 -0.00228216]\",\"[ 0.25165773 -0.00228216]\",\"[ 0.25165773 -0.00228216]\",\"[ 0.15379792 -0.10201605]\",\"[ 0.15379792 -0.10201605]\",\"[ 0.15379792 -0.10201605]\",\"[ 0.15379792 -0.10201605]\",\"[ 0.15379792 -0.10201605]\",\"[ 0.15379792 -0.10201605]\",\"[ 0.15379792 -0.10201605]\",\"[ 0. -0.]\",\"[ 0. -0.]\",\"[ 0. -0.]\",\"[ 0. -0.]\",\"[ 0. -0.]\",\"[ 0. -0.]\",\"[ 0. -0.]\",\"[ 0. -0.]\",\"[ 0. -0.]\",\"[ 0. -0.]\",\"[ 0. -0.]\",\"[ 0. -0.]\",\"[ 0. -0.]\",\"[ 0. -0.]\",\"[ 0. -0.]\",\"[ 0. -0.]\",\"[ 0. -0.]\",\"[ 0. -0.]\",\"[ 0. -0.]\",\"[ 0. -0.]\",\"[ 0. -0.]\",\"[ 0. -0.]\",\"[ 0. -0.]\",\"[ 0. -0.]\",\"[ 0. -0.]\",\"[ 0. -0.]\",\"[ 0. -0.]\",\"[ 0. -0.]\",\"[ 0. -0.]\",\"[ 0. -0.]\",\"[ 0. -0.]\",\"[ 0. -0.]\",\"[ 0. -0.]\",\"[ 0. -0.]\",\"[ 0. -0.]\",\"[ 0.00372733 -0.00203564]\",\"[ 0.00372733 -0.00203564]\",\"[ 0.00372733 -0.00203564]\",\"[ 0.00372733 -0.00203564]\",\"[ 0.00372733 -0.00203564]\",\"[ 0.00372733 -0.00203564]\",\"[ 0.00372733 -0.00203564]\",\"[-0.00767824  0.00710967]\",\"[-0.00767824  0.00710967]\",\"[-0.00767824  0.00710967]\",\"[-0.00767824  0.00710967]\",\"[-0.00767824  0.00710967]\",\"[-0.00767824  0.00710967]\",\"[-0.00767824  0.00710967]\",\"[ 0.016308   -0.00167919]\",\"[ 0.016308   -0.00167919]\",\"[ 0.016308   -0.00167919]\",\"[ 0.016308   -0.00167919]\",\"[ 0.016308   -0.00167919]\",\"[ 0.016308   -0.00167919]\",\"[ 0.016308   -0.00167919]\",\"[ 0.01085771 -0.00973934]\",\"[ 0.01085771 -0.00973934]\",\"[ 0.01085771 -0.00973934]\",\"[ 0.01085771 -0.00973934]\",\"[ 0.01085771 -0.00973934]\",\"[ 0.01085771 -0.00973934]\",\"[ 0.01085771 -0.00973934]\",\"[ 0. -0.]\",\"[ 0. -0.]\",\"[ 0. -0.]\",\"[ 0. -0.]\",\"[ 0. -0.]\",\"[ 0. -0.]\",\"[ 0. -0.]\"],\"line\":{\"color\":\"red\"},\"meta\":{},\"mode\":\"lines\",\"name\":\"Some data\",\"x\":{\"dtype\":\"f8\",\"bdata\":\"MEPKaCuE1L8AAAAAAAAAAAAAAAAAAPh\\u002fi1uBf\\u002fxFqL8AAAAAAAAAAEXHP9OvtbK\\u002fAAAAAAAA+H\\u002fw4n11rDrmPwAAAAAAAPA\\u002fAAAAAAAA+H8kl8s\\u002fMF\\u002fuPwAAAAAAAPA\\u002fT91u0J707T8AAAAAAAD4f+GIG10PMgFA\\u002f\\u002f\\u002f\\u002f\\u002f\\u002f\\u002f\\u002f\\u002fz8AAAAAAAD4f+zC6VZ0KQBA\\u002f\\u002f\\u002f\\u002f\\u002f\\u002f\\u002f\\u002f\\u002fz+f68ojlkkAQAAAAAAAAPh\\u002fJxtelU6KBUAAAAAAAAAIQAAAAAAAAPh\\u002fLo7eepmXB0AAAAAAAAAIQLdLf5u2ewdAAAAAAAAA+H\\u002foNpOq7wMQQAAAAAAAABBAAAAAAAAA+H9UG8kHgwAQQAAAAAAAABBAovtsuvcAEEAAAAAAAAD4fwAAAAAAABRAAAAAAAAAFEAAAAAAAAD4fwAAAAAAABRAAAAAAAAAFEAAAAAAAAAUQAAAAAAAAPh\\u002fAAAAAAAAGEAAAAAAAAAYQAAAAAAAAPh\\u002fAAAAAAAAGEAAAAAAAAAYQAAAAAAAABhAAAAAAAAA+H8AAAAAAAAcQAAAAAAAABxAAAAAAAAA+H8AAAAAAAAcQAAAAAAAABxAAAAAAAAAHEAAAAAAAAD4fwAAAAAAACBAAAAAAAAAIEAAAAAAAAD4fwAAAAAAACBAAAAAAAAAIEAAAAAAAAAgQAAAAAAAAPh\\u002fZw+Kcxf+IUAAAAAAAAAiQAAAAAAAAPh\\u002fd\\u002f8VNLP\\u002fIUAAAAAAAAAiQIXbjCmV\\u002fyFAAAAAAAAA+H8AAAAAAAAkQAAAAAAAACRAAAAAAAAA+H8AAAAAAAAkQAAAAAAAACRAAAAAAAAAJEAAAAAAAAD4fwAAAAAAACZAAAAAAAAAJkAAAAAAAAD4fwAAAAAAACZAAAAAAAAAJkAAAAAAAAAmQAAAAAAAAPh\\u002fAAAAAAAAKEAAAAAAAAAoQAAAAAAAAPh\\u002fAAAAAAAAKEAAAAAAAAAoQAAAAAAAAChAAAAAAAAA+H8AAAAAAAAqQAAAAAAAACpAAAAAAAAA+H8AAAAAAAAqQAAAAAAAACpAAAAAAAAAKkAAAAAAAAD4fwAAAAAAACxAAAAAAAAALEAAAAAAAAD4fwAAAAAAACxAAAAAAAAALEAAAAAAAAAsQAAAAAAAAPh\\u002fIToEFaeK078AAAAAAAAAAAAAAAAAAPh\\u002f3xetQWRzpr8AAAAAAAAAAHnQVV3VJ7K\\u002fAAAAAAAA+H\\u002fTYcjlPRrrPwAAAAAAAPA\\u002fAAAAAAAA+H\\u002ffeVp23yrvPwAAAAAAAPA\\u002fLXMAQN797j8AAAAAAAD4f0EfQgdkfP8\\u002fAAAAAAAAAEAAAAAAAAD4fxBixGxi7f8\\u002fAAAAAAAAAECQPEmJJeH\\u002fPwAAAAAAAPh\\u002f\\u002fspK0j1MCEAAAAAAAAAIQAAAAAAAAPh\\u002fN2433WMNCEAAAAAAAAAIQCuc3m9EDwhAAAAAAAAA+H\\u002fFUSXCsSkRQAAAAAAAABBAAAAAAAAA+H+G+3KyVCkQQAAAAAAAABBA6qpNzZBGEEAAAAAAAAD4fwAAAAAAABRAAAAAAAAAFEAAAAAAAAD4fwAAAAAAABRAAAAAAAAAFEAAAAAAAAAUQAAAAAAAAPh\\u002fAAAAAAAAGEAAAAAAAAAYQAAAAAAAAPh\\u002fAAAAAAAAGEAAAAAAAAAYQAAAAAAAABhAAAAAAAAA+H8AAAAAAAAcQAAAAAAAABxAAAAAAAAA+H8AAAAAAAAcQAAAAAAAABxAAAAAAAAAHEAAAAAAAAD4fwAAAAAAACBAAAAAAAAAIEAAAAAAAAD4fwAAAAAAACBAAAAAAAAAIEAAAAAAAAAgQAAAAAAAAPh\\u002fzngaZ+4DIkAAAAAAAAAiQAAAAAAAAPh\\u002f+LAvo7gAIkAAAAAAAAAiQB9+cKXBACJAAAAAAAAA+H8AAAAAAAAkQAAAAAAAACRAAAAAAAAA+H8AAAAAAAAkQAAAAAAAACRAAAAAAAAAJEAAAAAAAAD4fwAAAAAAACZAAAAAAAAAJkAAAAAAAAD4fwAAAAAAACZAAAAAAAAAJkAAAAAAAAAmQAAAAAAAAPh\\u002fAAAAAAAAKEAAAAAAAAAoQAAAAAAAAPh\\u002fAAAAAAAAKEAAAAAAAAAoQAAAAAAAAChAAAAAAAAA+H8AAAAAAAAqQAAAAAAAACpAAAAAAAAA+H8AAAAAAAAqQAAAAAAAACpAAAAAAAAAKkAAAAAAAAD4fwAAAAAAACxAAAAAAAAALEAAAAAAAAD4fwAAAAAAACxAAAAAAAAALEAAAAAAAAAsQAAAAAAAAPh\\u002fF4640fUgwz8AAAAAAAAAAAAAAAAAAPh\\u002fznPUfzArkz8AAAAAAAAAAChpQW0GLaM\\u002fAAAAAAAA+H+CPoQOyPjuPwAAAAAAAPA\\u002fAAAAAAAA+H+t2eUwadLvPwAAAAAAAPA\\u002fk2M1u6bK7z8AAAAAAAD4fwVGEG+MfwFAAAAAAAAAAEAAAAAAAAD4fy3hj59cPQBAAAAAAAAAAECzbMgnzlIAQAAAAAAAAPh\\u002fAzDv1CL+B0AAAAAAAAAIQAAAAAAAAPh\\u002fW1aLv6\\u002f\\u002fB0AAAAAAAAAIQKuRK+Wc\\u002fwdAAAAAAAAA+H+fEB0wWusPQAAAAAAAABBAAAAAAAAA+H\\u002fpT74qoPwPQAAAAAAAABBADGyBBJ37D0AAAAAAAAD4fwAAAAAAABRAAAAAAAAAFEAAAAAAAAD4fwAAAAAAABRAAAAAAAAAFEAAAAAAAAAUQAAAAAAAAPh\\u002fAAAAAAAAGEAAAAAAAAAYQAAAAAAAAPh\\u002fAAAAAAAAGEAAAAAAAAAYQAAAAAAAABhAAAAAAAAA+H8AAAAAAAAcQAAAAAAAABxAAAAAAAAA+H8AAAAAAAAcQAAAAAAAABxAAAAAAAAAHEAAAAAAAAD4fwAAAAAAACBAAAAAAAAAIEAAAAAAAAD4fwAAAAAAACBAAAAAAAAAIEAAAAAAAAAgQAAAAAAAAPh\\u002fwh8weqb3IUAAAAAAAAAiQAAAAAAAAPh\\u002fAQ1fyO\\u002f+IUAAAAAAAAAiQNP0hcXs\\u002fSFAAAAAAAAA+H8AAAAAAAAkQAAAAAAAACRAAAAAAAAA+H8AAAAAAAAkQAAAAAAAACRAAAAAAAAAJEAAAAAAAAD4fwAAAAAAACZAAAAAAAAAJkAAAAAAAAD4fwAAAAAAACZAAAAAAAAAJkAAAAAAAAAmQAAAAAAAAPh\\u002fAAAAAAAAKEAAAAAAAAAoQAAAAAAAAPh\\u002fAAAAAAAAKEAAAAAAAAAoQAAAAAAAAChAAAAAAAAA+H8AAAAAAAAqQAAAAAAAACpAAAAAAAAA+H8AAAAAAAAqQAAAAAAAACpAAAAAAAAAKkAAAAAAAAD4fwAAAAAAACxAAAAAAAAALEAAAAAAAAD4fwAAAAAAACxAAAAAAAAALEAAAAAAAAAsQAAAAAAAAPh\\u002fyiYPVYut078AAAAAAAAAAAAAAAAAAPh\\u002fQMMHqWcMp78AAAAAAAAAAMfhwF\\u002fJD7K\\u002fAAAAAAAA+H\\u002f8lZWke5jwP\\u002f\\u002f\\u002f\\u002f\\u002f\\u002f\\u002f\\u002f+8\\u002fAAAAAAAA+H\\u002fqF8FrshvwP\\u002f\\u002f\\u002f\\u002f\\u002f\\u002f\\u002f\\u002f+8\\u002f2fxqLp4d8D8AAAAAAAD4fwdg3qlF\\u002fP8\\u002fAAAAAAAAAEAAAAAAAAD4f061zlZ4\\u002f\\u002f8\\u002fAAAAAAAAAEC\\u002fGp\\u002fyIP\\u002f\\u002fPwAAAAAAAPh\\u002feMG1Kt0CC0AAAAAAAAAIQAAAAAAAAPh\\u002fBEDEaMRiCEAAAAAAAAAIQDCHJpv7vghAAAAAAAAA+H9X4fDemvwNQAAAAAAAABBAAAAAAAAA+H\\u002fviqFBN8EPQAAAAAAAABBADh\\u002f5GQ99D0AAAAAAAAD4fwAAAAAAABRAAAAAAAAAFEAAAAAAAAD4fwAAAAAAABRAAAAAAAAAFEAAAAAAAAAUQAAAAAAAAPh\\u002fAAAAAAAAGEAAAAAAAAAYQAAAAAAAAPh\\u002fAAAAAAAAGEAAAAAAAAAYQAAAAAAAABhAAAAAAAAA+H8AAAAAAAAcQAAAAAAAABxAAAAAAAAA+H8AAAAAAAAcQAAAAAAAABxAAAAAAAAAHEAAAAAAAAD4fwAAAAAAACBAAAAAAAAAIEAAAAAAAAD4fwAAAAAAACBAAAAAAAAAIEAAAAAAAAAgQAAAAAAAAPh\\u002fqhnb23D6IUAAAAAAAAAiQAAAAAAAAPh\\u002fNl\\u002fDzDz\\u002fIUAAAAAAAAAiQG0kJ0as\\u002fiFAAAAAAAAA+H8AAAAAAAAkQAAAAAAAACRAAAAAAAAA+H8AAAAAAAAkQAAAAAAAACRAAAAAAAAAJEAAAAAAAAD4fwAAAAAAACZAAAAAAAAAJkAAAAAAAAD4fwAAAAAAACZAAAAAAAAAJkAAAAAAAAAmQAAAAAAAAPh\\u002fAAAAAAAAKEAAAAAAAAAoQAAAAAAAAPh\\u002fAAAAAAAAKEAAAAAAAAAoQAAAAAAAAChAAAAAAAAA+H8AAAAAAAAqQAAAAAAAACpAAAAAAAAA+H8AAAAAAAAqQAAAAAAAACpAAAAAAAAAKkAAAAAAAAD4fwAAAAAAACxAAAAAAAAALEAAAAAAAAD4fwAAAAAAACxAAAAAAAAALEAAAAAAAAAsQAAAAAAAAPh\\u002f6T23mVR9bz8AAAAAAAAAAAAAAAAAAPh\\u002fm1bMHGEYQj8AAAAAAAAAAPpXEqblP00\\u002fAAAAAAAA+H8SR5UIx6b0PwAAAAAAAPA\\u002fAAAAAAAA+H94OGmP+NLwPwAAAAAAAPA\\u002fRWGZb53s8D8AAAAAAAD4fz0hOmC01v8\\u002fAAAAAAAAAEAAAAAAAAD4f3vwsQw8+f8\\u002fAAAAAAAAAEBth81RPvf\\u002fPwAAAAAAAPh\\u002fV+Hw3pr8BUAAAAAAAAAIQAAAAAAAAPh\\u002fyINYBnWfB0AAAAAAAAAIQDUmQlXRngdAAAAAAAAA+H\\u002f40RmYBcUOQAAAAAAAABBAAAAAAAAA+H+xswxVGNMPQAAAAAAAABBAHWKZC4O2D0AAAAAAAAD4fwAAAAAAABRAAAAAAAAAFEAAAAAAAAD4fwAAAAAAABRAAAAAAAAAFEAAAAAAAAAUQAAAAAAAAPh\\u002fAAAAAAAAGEAAAAAAAAAYQAAAAAAAAPh\\u002fAAAAAAAAGEAAAAAAAAAYQAAAAAAAABhAAAAAAAAA+H8AAAAAAAAcQAAAAAAAABxAAAAAAAAA+H8AAAAAAAAcQAAAAAAAABxAAAAAAAAAHEAAAAAAAAD4fwAAAAAAACBAAAAAAAAAIEAAAAAAAAD4fwAAAAAAACBAAAAAAAAAIEAAAAAAAAAgQAAAAAAAAPh\\u002fAAAAAAAAIkAAAAAAAAAiQAAAAAAAAPh\\u002fAAAAAAAAIkAAAAAAAAAiQAAAAAAAACJAAAAAAAAA+H9nD4pzF\\u002f4jQAAAAAAAACRAAAAAAAAA+H+U1SJvtv8jQAAAAAAAACRAaAWA7pH\\u002fI0AAAAAAAAD4f854GmfuAyZAAAAAAAAAJkAAAAAAAAD4f1NQyWV9ACZAAAAAAAAAJkDE3tbi\\u002fAAmQAAAAAAAAPh\\u002fwh8weqb3J0AAAAAAAAAoQAAAAAAAAPh\\u002fOq8eVX3+J0AAAAAAAAAoQJpSxjhf\\u002fidAAAAAAAAA+H+qGdvbcPopQAAAAAAAACpAAAAAAAAA+H+nU8LbS\\u002f8pQAAAAAAAACpA\\u002fS8oN53+KUAAAAAAAAD4fwAAAAAAACxAAAAAAAAALEAAAAAAAAD4fwAAAAAAACxAAAAAAAAALEAAAAAAAAAsQAAAAAAAAPh\\u002f\"},\"y\":{\"dtype\":\"f8\",\"bdata\":\"pBRQetUFyD8AAAAAAAAAAAAAAAAAAPh\\u002fd\\u002f\\u002fRvFFJrT8AAAAAAAAAAMawfYQGVIs\\u002fAAAAAAAA+H8L7CuYr1e4PwAAAAAAAAAAAAAAAAAA+H\\u002f1eOTh9dejPwAAAAAAAAAA9mC3sT20aL8AAAAAAAD4f1jOz33SW72\\u002fAAAAAAAAAAAAAAAAAAD4f+H7C43pRKC\\u002fAAAAAAAAAAAvIwUnjTSHvwAAAAAAAPh\\u002fpaR2W7V6uT8AAAAAAAAAAAAAAAAAAPh\\u002f19t4ZnFYpD8AAAAAAAAAAEdLuuSFD2O\\u002fAAAAAAAA+H+YUgIWCKhqvwAAAAAAAAAAAAAAAAAA+H9V1pogtKdMvwAAAAAAAAAAkBVUS5HYNr8AAAAAAAD4fwAAAAAAAAAAAAAAAAAAAAAAAAAAAAD4fwAAAAAAAAAAAAAAAAAAAAAAAAAAAAAAAAAAAAAAAPh\\u002fAAAAAAAAAAAAAAAAAAAAAAAAAAAAAPh\\u002fAAAAAAAAAAAAAAAAAAAAAAAAAAAAAAAAAAAAAAAA+H8AAAAAAAAAAAAAAAAAAAAAAAAAAAAA+H8AAAAAAAAAAAAAAAAAAAAAAAAAAAAAAAAAAAAAAAD4fwAAAAAAAAAAAAAAAAAAAAAAAAAAAAD4fwAAAAAAAAAAAAAAAAAAAAAAAAAAAAAAAAAAAAAAAPh\\u002fyD1JxcFyWz8AAAAAAAAAAAAAAAAAAPh\\u002fG8leSP6rQj8AAAAAAAAAAO4f\\u002fWxmZg8\\u002fAAAAAAAA+H8AAAAAAAAAAAAAAAAAAAAAAAAAAAAA+H8AAAAAAAAAAAAAAAAAAAAAAAAAAAAAAAAAAAAAAAD4fwAAAAAAAAAAAAAAAAAAAAAAAAAAAAD4fwAAAAAAAAAAAAAAAAAAAAAAAAAAAAAAAAAAAAAAAPh\\u002fAAAAAAAAAAAAAAAAAAAAAAAAAAAAAPh\\u002fAAAAAAAAAAAAAAAAAAAAAAAAAAAAAAAAAAAAAAAA+H8AAAAAAAAAAAAAAAAAAAAAAAAAAAAA+H8AAAAAAAAAAAAAAAAAAAAAAAAAAAAAAAAAAAAAAAD4fwAAAAAAAAAAAAAAAAAAAAAAAAAAAAD4fwAAAAAAAAAAAAAAAAAAAAAAAAAAAAAAAAAAAAAAAPh\\u002ftvf7QYEq8z8AAAAAAADwPwAAAAAAAPh\\u002fM7+FIODt8D8AAAAAAADwP7u\\u002fnVLGQvA\\u002fAAAAAAAA+H\\u002fd2sw2e6TwP\\u002f\\u002f\\u002f\\u002f\\u002f\\u002f\\u002f\\u002f+8\\u002fAAAAAAAA+H\\u002fGbTsey0nwP\\u002f\\u002f\\u002f\\u002f\\u002f\\u002f\\u002f\\u002f+8\\u002fGMHTCBDo7z8AAAAAAAD4fykeOOJzWfA\\u002fAAAAAAAA8D8AAAAAAAD4f1Pv2m\\u002fQGfA\\u002fAAAAAAAA8D+gFI8azwfwPwAAAAAAAPh\\u002f8A1O\\u002fRzJ7z8AAAAAAADwPwAAAAAAAPh\\u002faPEi4tLg7z8AAAAAAADwP25\\u002fB9VFBfA\\u002fAAAAAAAA+H8kZsLSdlLpPwAAAAAAAPA\\u002fAAAAAAAA+H85cFrtzRvuPwAAAAAAAPA\\u002fRJqSzJ5h7z8AAAAAAAD4fwAAAAAAAPA\\u002fAAAAAAAA8D8AAAAAAAD4fwAAAAAAAPA\\u002fAAAAAAAA8D8AAAAAAADwPwAAAAAAAPh\\u002fAAAAAAAA8D8AAAAAAADwPwAAAAAAAPh\\u002fAAAAAAAA8D8AAAAAAADwPwAAAAAAAPA\\u002fAAAAAAAA+H8AAAAAAADwPwAAAAAAAPA\\u002fAAAAAAAA+H8AAAAAAADwPwAAAAAAAPA\\u002fAAAAAAAA8D8AAAAAAAD4fwAAAAAAAPA\\u002fAAAAAAAA8D8AAAAAAAD4fwAAAAAAAPA\\u002fAAAAAAAA8D8AAAAAAADwPwAAAAAAAPh\\u002fOpCtZuL77z8AAAAAAADwPwAAAAAAAPh\\u002fY4chhOz67z8AAAAAAADwPyJG6LrDAfA\\u002fAAAAAAAA+H8AAAAAAADwPwAAAAAAAPA\\u002fAAAAAAAA+H8AAAAAAADwPwAAAAAAAPA\\u002fAAAAAAAA8D8AAAAAAAD4fwAAAAAAAPA\\u002fAAAAAAAA8D8AAAAAAAD4fwAAAAAAAPA\\u002fAAAAAAAA8D8AAAAAAADwPwAAAAAAAPh\\u002fAAAAAAAA8D8AAAAAAADwPwAAAAAAAPh\\u002fAAAAAAAA8D8AAAAAAADwPwAAAAAAAPA\\u002fAAAAAAAA+H8AAAAAAADwPwAAAAAAAPA\\u002fAAAAAAAA+H8AAAAAAADwPwAAAAAAAPA\\u002fAAAAAAAA8D8AAAAAAAD4fwAAAAAAAPA\\u002fAAAAAAAA8D8AAAAAAAD4fwAAAAAAAPA\\u002fAAAAAAAA8D8AAAAAAADwPwAAAAAAAPh\\u002fgzh8CSDP\\u002fT8AAAAAAAAAQAAAAAAAAPh\\u002fu4Ct8bds\\u002fz8AAAAAAAAAQFPWxyN2wP8\\u002fAAAAAAAA+H9hJSYDLg4AQAAAAAAAAABAAAAAAAAA+H\\u002fXeG2NKgcAQAAAAAAAAABA\\u002fBaPxVP8\\u002fz8AAAAAAAD4f9\\u002fUxWiExv4\\u002fAAAAAAAAAEAAAAAAAAD4f84iZKqckP8\\u002fAAAAAAAAAEAR\\u002fnWajvn\\u002fPwAAAAAAAPh\\u002f9j1vzokAAEAAAAAAAAAAQAAAAAAAAPh\\u002fUVYTijoAAEAAAAAAAAAAQGF+joTy\\u002f\\u002f8\\u002fAAAAAAAA+H8tP1FBZgcAQAAAAAAAAABAAAAAAAAA+H+7\\u002fQiTzQIAQAAAAAAAAABArdmH3fT\\u002f\\u002fz8AAAAAAAD4fwAAAAAAAABAAAAAAAAAAEAAAAAAAAD4fwAAAAAAAABAAAAAAAAAAEAAAAAAAAAAQAAAAAAAAPh\\u002fAAAAAAAAAEAAAAAAAAAAQAAAAAAAAPh\\u002fAAAAAAAAAEAAAAAAAAAAQAAAAAAAAABAAAAAAAAA+H8AAAAAAAAAQAAAAAAAAABAAAAAAAAA+H8AAAAAAAAAQAAAAAAAAABAAAAAAAAAAEAAAAAAAAD4fwAAAAAAAABAAAAAAAAAAEAAAAAAAAD4fwAAAAAAAABAAAAAAAAAAEAAAAAAAAAAQAAAAAAAAPh\\u002fkEiK+pQdAEAAAAAAAAAAQAAAAAAAAPh\\u002fSa92HdgHAEAAAAAAAAAAQASlzmRGAwBAAAAAAAAA+H8AAAAAAAAAQAAAAAAAAABAAAAAAAAA+H8AAAAAAAAAQAAAAAAAAABAAAAAAAAAAEAAAAAAAAD4fwAAAAAAAABAAAAAAAAAAEAAAAAAAAD4fwAAAAAAAABAAAAAAAAAAEAAAAAAAAAAQAAAAAAAAPh\\u002fAAAAAAAAAEAAAAAAAAAAQAAAAAAAAPh\\u002fAAAAAAAAAEAAAAAAAAAAQAAAAAAAAABAAAAAAAAA+H8AAAAAAAAAQAAAAAAAAABAAAAAAAAA+H8AAAAAAAAAQAAAAAAAAABAAAAAAAAAAEAAAAAAAAD4fwAAAAAAAABAAAAAAAAAAEAAAAAAAAD4fwAAAAAAAABAAAAAAAAAAEAAAAAAAAAAQAAAAAAAAPh\\u002fXV6Fp0h+CUAAAAAAAAAIQAAAAAAAAPh\\u002fi4FyXetyCEAAAAAAAAAIQIlvX7bFHAhAAAAAAAAA+H8MlGe8+vgHQAAAAAAAAAhAAAAAAAAA+H\\u002f6IJIgd\\u002fkHQAAAAAAAAAhAVySNUuUDCEAAAAAAAAD4fwyi3mQ\\u002fAQhAAAAAAAAACEAAAAAAAAD4f0fkqqpcAAhAAAAAAAAACEAnzd5iGwAIQAAAAAAAAPh\\u002f3iBq7\\u002fJdBUAAAAAAAAAIQAAAAAAAAPh\\u002fyMb28pZMB0AAAAAAAAAIQCHtjM8MtgdAAAAAAAAA+H\\u002f4gvN6MfIJQAAAAAAAAAhAAAAAAAAA+H+kibaC4oAIQAAAAAAAAAhAdXeq5l86CEAAAAAAAAD4fwAAAAAAAAhAAAAAAAAACEAAAAAAAAD4fwAAAAAAAAhAAAAAAAAACEAAAAAAAAAIQAAAAAAAAPh\\u002fAAAAAAAACEAAAAAAAAAIQAAAAAAAAPh\\u002fAAAAAAAACEAAAAAAAAAIQAAAAAAAAAhAAAAAAAAA+H8AAAAAAAAIQAAAAAAAAAhAAAAAAAAA+H8AAAAAAAAIQAAAAAAAAAhAAAAAAAAACEAAAAAAAAD4fwAAAAAAAAhAAAAAAAAACEAAAAAAAAD4fwAAAAAAAAhAAAAAAAAACEAAAAAAAAAIQAAAAAAAAPh\\u002f+sD+poEQCEAAAAAAAAAIQAAAAAAAAPh\\u002fYjumjp8ECEAAAAAAAAAIQCZavMSUAQhAAAAAAAAA+H8AAAAAAAAIQAAAAAAAAAhAAAAAAAAA+H8AAAAAAAAIQAAAAAAAAAhAAAAAAAAACEAAAAAAAAD4fwAAAAAAAAhAAAAAAAAACEAAAAAAAAD4fwAAAAAAAAhAAAAAAAAACEAAAAAAAAAIQAAAAAAAAPh\\u002fAAAAAAAACEAAAAAAAAAIQAAAAAAAAPh\\u002fAAAAAAAACEAAAAAAAAAIQAAAAAAAAAhAAAAAAAAA+H8AAAAAAAAIQAAAAAAAAAhAAAAAAAAA+H8AAAAAAAAIQAAAAAAAAAhAAAAAAAAACEAAAAAAAAD4fwAAAAAAAAhAAAAAAAAACEAAAAAAAAD4fwAAAAAAAAhAAAAAAAAACEAAAAAAAAAIQAAAAAAAAPh\\u002fVDP9eOf6D0AAAAAAAAAQQAAAAAAAAPh\\u002fSqrg+ID+D0AAAAAAAAAQQFZZmK+U\\u002fw9AAAAAAAAA+H\\u002fUE\\u002fv7RqIPQAAAAAAAABBAAAAAAAAA+H9O69WtqMUPQAAAAAAAABBA6PrRco4LEEAAAAAAAAD4fzAuJ3ijAxBAAAAAAAAAEEAAAAAAAAD4f644KthjARBAAAAAAAAAEEB4YA+M9P8PQAAAAAAAAPh\\u002flTnZQFYCEEAAAAAAAAAQQAAAAAAAAPh\\u002fTwVVFhESEEAAAAAAAAAQQG74nZCf3Q9AAAAAAAAA+H\\u002f8qATldmgQQAAAAAAAABBAAAAAAAAA+H9YZhbhZx4QQAAAAAAAABBAPdE5KdwIEEAAAAAAAAD4fwAAAAAAABBAAAAAAAAAEEAAAAAAAAD4fwAAAAAAABBAAAAAAAAAEEAAAAAAAAAQQAAAAAAAAPh\\u002fAAAAAAAAEEAAAAAAAAAQQAAAAAAAAPh\\u002fAAAAAAAAEEAAAAAAAAAQQAAAAAAAABBAAAAAAAAA+H8AAAAAAAAQQAAAAAAAABBAAAAAAAAA+H8AAAAAAAAQQAAAAAAAABBAAAAAAAAAEEAAAAAAAAD4fwAAAAAAABBAAAAAAAAAEEAAAAAAAAD4fwAAAAAAABBAAAAAAAAAEEAAAAAAAAAQQAAAAAAAAPh\\u002fAAAAAAAAEEAAAAAAAAAQQAAAAAAAAPh\\u002fAAAAAAAAEEAAAAAAAAAQQAAAAAAAABBAAAAAAAAA+H+taXChFQIQQAAAAAAAABBAAAAAAAAA+H\\u002f\\u002frIwgpwAQQAAAAAAAABBAiKDNcyEAEEAAAAAAAAD4f0XdaHxw8Q9AAAAAAAAAEEAAAAAAAAD4f59QqBYw\\u002fA9AAAAAAAAAEEDYERTTVv4PQAAAAAAAAPh\\u002fOrB3MLgBEEAAAAAAAAAQQAAAAAAAAPh\\u002f6BqrKHcBEEAAAAAAAAAQQIwrrphc\\u002fg9AAAAAAAAA+H\\u002fJrgkc+QkQQP\\u002f\\u002f\\u002f\\u002f\\u002f\\u002f\\u002fw9AAAAAAAAA+H9\\u002fZ1qGogIQQP\\u002f\\u002f\\u002f\\u002f\\u002f\\u002f\\u002fw9A4XZlIR0BEEAAAAAAAAD4fwAAAAAAABBAAAAAAAAAEEAAAAAAAAD4fwAAAAAAABBAAAAAAAAAEEAAAAAAAAAQQAAAAAAAAPh\\u002f\"},\"type\":\"scatter\"},{\"line\":{\"color\":\"pink\",\"dash\":\"dash\",\"width\":5},\"meta\":{},\"mode\":\"lines\",\"name\":\"orbitals separators\",\"opacity\":0.8,\"showlegend\":false,\"x\":{\"dtype\":\"f8\",\"bdata\":\"AAAAAAAA4L8AAAAAAAASQAAAAAAAAPh\\u002fAAAAAAAA4D8AAAAAAADgPwAAAAAAAPh\\u002f\"},\"y\":{\"dtype\":\"f8\",\"bdata\":\"AAAAAAAA4D8AAAAAAADgPwAAAAAAAPh\\u002fAAAAAAAA4L8AAAAAAAASQAAAAAAAAPh\\u002f\"},\"type\":\"scatter\"},{\"line\":{\"color\":\"gray\"},\"meta\":{},\"mode\":\"lines\",\"name\":\"atoms separators\",\"opacity\":1,\"showlegend\":false,\"x\":{\"dtype\":\"f8\",\"bdata\":\"AAAAAAAA4L8AAAAAAAASQAAAAAAAAPh\\u002fAAAAAAAADEAAAAAAAAAMQAAAAAAAAPh\\u002f\"},\"y\":{\"dtype\":\"f8\",\"bdata\":\"AAAAAAAADEAAAAAAAAAMQAAAAAAAAPh\\u002fAAAAAAAA4L8AAAAAAAASQAAAAAAAAPh\\u002f\"},\"type\":\"scatter\"}],                        {\"template\":{\"layout\":{\"hovermode\":\"closest\",\"paper_bgcolor\":\"white\",\"plot_bgcolor\":\"white\",\"scene\":{\"xaxis\":{\"color\":\"black\",\"gridcolor\":\"#ccc\",\"gridwidth\":1,\"linewidth\":1,\"mirror\":true,\"showgrid\":false,\"showline\":true,\"ticklen\":5,\"ticks\":\"outside\",\"ticksuffix\":\" \",\"visible\":true,\"zeroline\":false,\"zerolinecolor\":\"#ccc\",\"zerolinewidth\":1},\"yaxis\":{\"color\":\"black\",\"gridcolor\":\"#ccc\",\"gridwidth\":1,\"linewidth\":1,\"mirror\":true,\"showgrid\":false,\"showline\":true,\"ticklen\":5,\"ticks\":\"outside\",\"ticksuffix\":\" \",\"visible\":true,\"zeroline\":false,\"zerolinecolor\":\"#ccc\",\"zerolinewidth\":1},\"zaxis\":{\"color\":\"black\",\"gridcolor\":\"#ccc\",\"gridwidth\":1,\"linewidth\":1,\"mirror\":true,\"showgrid\":false,\"showline\":true,\"ticklen\":5,\"ticks\":\"outside\",\"ticksuffix\":\" \",\"visible\":true,\"zeroline\":false,\"zerolinecolor\":\"#ccc\",\"zerolinewidth\":1}},\"xaxis\":{\"color\":\"black\",\"gridcolor\":\"#ccc\",\"gridwidth\":1,\"linewidth\":1,\"mirror\":true,\"showgrid\":false,\"showline\":true,\"ticklen\":5,\"ticks\":\"outside\",\"ticksuffix\":\" \",\"visible\":true,\"zeroline\":false,\"zerolinecolor\":\"#ccc\",\"zerolinewidth\":1},\"yaxis\":{\"color\":\"black\",\"gridcolor\":\"#ccc\",\"gridwidth\":1,\"linewidth\":1,\"mirror\":true,\"showgrid\":false,\"showline\":true,\"ticklen\":5,\"ticks\":\"outside\",\"ticksuffix\":\" \",\"visible\":true,\"zeroline\":false,\"zerolinecolor\":\"#ccc\",\"zerolinewidth\":1}}},\"coloraxis\":{\"colorscale\":[[0.0,\"rgb(0, 147, 146)\"],[0.16666666666666666,\"rgb(57, 177, 133)\"],[0.3333333333333333,\"rgb(156, 203, 134)\"],[0.5,\"rgb(233, 226, 156)\"],[0.6666666666666666,\"rgb(238, 180, 121)\"],[0.8333333333333334,\"rgb(232, 132, 113)\"],[1.0,\"rgb(207, 89, 126)\"]],\"cmid\":0,\"showscale\":false},\"xaxis\":{\"scaleanchor\":\"y\",\"scaleratio\":1,\"range\":[-0.5,14.5],\"constrain\":\"domain\"},\"scene\":{\"aspectmode\":\"data\",\"xaxis\":{\"range\":[-0.5,14.5]},\"yaxis\":{\"range\":[4.5,-0.5]}},\"yaxis\":{\"range\":[4.5,-0.5],\"constrain\":\"domain\"}},                        {\"responsive\": true}                    ).then(function(){\n",
       "                            \n",
       "var gd = document.getElementById('2066a0b8-ac93-4f4a-93ce-147cf99efd8e');\n",
       "var x = new MutationObserver(function (mutations, observer) {{\n",
       "        var display = window.getComputedStyle(gd).display;\n",
       "        if (!display || display === 'none') {{\n",
       "            console.log([gd, 'removed!']);\n",
       "            Plotly.purge(gd);\n",
       "            observer.disconnect();\n",
       "        }}\n",
       "}});\n",
       "\n",
       "// Listen for the removal of the full notebook cells\n",
       "var notebookContainer = gd.closest('#notebook-container');\n",
       "if (notebookContainer) {{\n",
       "    x.observe(notebookContainer, {childList: true});\n",
       "}}\n",
       "\n",
       "// Listen for the clearing of the current output cell\n",
       "var outputEl = gd.closest('.output');\n",
       "if (outputEl) {{\n",
       "    x.observe(outputEl, {childList: true});\n",
       "}}\n",
       "\n",
       "                        })                };            </script>        </div>"
      ]
     },
     "metadata": {},
     "output_type": "display_data"
    }
   ],
   "source": [
    "plot.update_inputs(\n",
    "    arrows=[\n",
    "        {\"color\": \"blue\", \"center\": \"start\", \"name\": \"Hamiltonian value\"},\n",
    "        {\"data\": arrow_data, \"color\": \"red\", \"center\": \"end\", \"name\": \"Some data\"},\n",
    "    ]\n",
    ")"
   ]
  }
 ],
 "metadata": {
  "kernelspec": {
   "display_name": "Python 3 (ipykernel)",
   "language": "python",
   "name": "python3"
  },
  "language_info": {
   "codemirror_mode": {
    "name": "ipython",
    "version": 3
   },
   "file_extension": ".py",
   "mimetype": "text/x-python",
   "name": "python",
   "nbconvert_exporter": "python",
   "pygments_lexer": "ipython3",
   "version": "3.12.11"
  }
 },
 "nbformat": 4,
 "nbformat_minor": 4
}
