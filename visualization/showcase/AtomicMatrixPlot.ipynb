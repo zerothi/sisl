{
 "cells": [
  {
   "cell_type": "markdown",
   "metadata": {
    "tags": [
     "notebook-header"
    ]
   },
   "source": [
    "[![GitHub issues by-label](https://img.shields.io/github/issues-raw/pfebrer/sisl/AtomicmatrixPlot?style=for-the-badge)](https://github.com/pfebrer/sisl/labels/AtomicMatrixPlot)"
   ]
  },
  {
   "cell_type": "markdown",
   "metadata": {},
   "source": [
    "AtomicMatrixPlot\n",
    "=========\n",
    "\n",
    "`AtomicMatrixPlot` allows you to visualize sparse matrices. This can help you:\n",
    "\n",
    "- **Understand sparse matrices better**, if you are new to them.\n",
    "- Easily **introspect matrices** to debug or understand how to implement new functionality."
   ]
  },
  {
   "cell_type": "code",
   "execution_count": 1,
   "metadata": {
    "execution": {
     "iopub.execute_input": "2025-09-23T10:47:10.799100Z",
     "iopub.status.busy": "2025-09-23T10:47:10.798938Z",
     "iopub.status.idle": "2025-09-23T10:47:11.674064Z",
     "shell.execute_reply": "2025-09-23T10:47:11.673369Z"
    }
   },
   "outputs": [],
   "source": [
    "import sisl\n",
    "\n",
    "import numpy as np"
   ]
  },
  {
   "cell_type": "markdown",
   "metadata": {},
   "source": [
    "Let's create a toy **Hamiltonian** that we will play with. We will use a chain with two atoms: \n",
    "\n",
    "  - C: With one s orbital and a set of p orbitals.\n",
    "  - H: With one s orbital."
   ]
  },
  {
   "cell_type": "code",
   "execution_count": 2,
   "metadata": {
    "execution": {
     "iopub.execute_input": "2025-09-23T10:47:11.676308Z",
     "iopub.status.busy": "2025-09-23T10:47:11.676006Z",
     "iopub.status.idle": "2025-09-23T10:47:11.699239Z",
     "shell.execute_reply": "2025-09-23T10:47:11.698625Z"
    }
   },
   "outputs": [],
   "source": [
    "# Create a C atom with s and p orbitals\n",
    "C = sisl.Atom(\n",
    "    \"C\",\n",
    "    orbitals=[\n",
    "        sisl.AtomicOrbital(\"2s\", R=0.8),\n",
    "        sisl.AtomicOrbital(\"2py\", R=0.8),\n",
    "        sisl.AtomicOrbital(\"2pz\", R=0.8),\n",
    "        sisl.AtomicOrbital(\"2px\", R=0.8),\n",
    "    ],\n",
    ")\n",
    "\n",
    "# Create a H atom with one s orbital\n",
    "H = sisl.Atom(\"H\", orbitals=[sisl.AtomicOrbital(\"1s\", R=0.4)])\n",
    "\n",
    "# Create a chain along X\n",
    "geom = sisl.Geometry(\n",
    "    [[0, 0, 0], [1, 0, 0]],\n",
    "    atoms=[C, H],\n",
    "    lattice=sisl.Lattice([2, 10, 10], nsc=[3, 1, 1]),\n",
    ")\n",
    "\n",
    "# Random Hamiltonian with non-zero elements only for orbitals that overlap\n",
    "H = sisl.Hamiltonian(geom)\n",
    "for i in range(geom.no):\n",
    "    for j in range(geom.no * 3):\n",
    "        dist = geom.rij(*geom.o2a([i, j]))\n",
    "        if dist < 1.2:\n",
    "            H[i, j] = (np.random.random() - 0.5) * (1 if j < geom.no else 0.2)\n",
    "# Symmetrize it to make it more realistic\n",
    "H = H + H.transpose()"
   ]
  },
  {
   "cell_type": "markdown",
   "metadata": {},
   "source": [
    "## Matrix as an image\n",
    "\n",
    "The default mode of `AtomicMatrixPlot` is simply to plot an image where the values of the matrix are encoded as colors:"
   ]
  },
  {
   "cell_type": "code",
   "execution_count": 3,
   "metadata": {
    "execution": {
     "iopub.execute_input": "2025-09-23T10:47:11.700950Z",
     "iopub.status.busy": "2025-09-23T10:47:11.700785Z",
     "iopub.status.idle": "2025-09-23T10:47:12.460878Z",
     "shell.execute_reply": "2025-09-23T10:47:12.460258Z"
    }
   },
   "outputs": [
    {
     "data": {
      "application/vnd.plotly.v1+json": {
       "config": {
        "plotlyServerURL": "https://plot.ly"
       },
       "data": [
        {
         "coloraxis": "coloraxis",
         "meta": {},
         "opacity": 1,
         "type": "heatmap",
         "z": {
          "bdata": "4JCpuuPRpL+Y7HLsBUy2Py4xCYhNKdK/zOQ+RZxxyL+49usRigW6PwAAAAAAAPh/AAAAAAAA+H8AAAAAAAD4fwAAAAAAAPh/2VCyPxDyqr8AAAAAAAD4fwAAAAAAAPh/AAAAAAAA+H8AAAAAAAD4fwAAAAAAAPh/mOxy7AVMtj8Q82TzA/zOv+BoIXZYoJQ/gNYsWTMqpD+QTED17n2jvwAAAAAAAPh/AAAAAAAA+H8AAAAAAAD4fwAAAAAAAPh/bIHAm3jrnT8AAAAAAAD4fwAAAAAAAPh/AAAAAAAA+H8AAAAAAAD4fwAAAAAAAPh/LjEJiE0p0r/gaCF2WKCUP1g8rJicRto/MHeeZEVSsb9mFzTSrXHfvwAAAAAAAPh/AAAAAAAA+H8AAAAAAAD4fwAAAAAAAPh/onJ1yC99xr8AAAAAAAD4fwAAAAAAAPh/AAAAAAAA+H8AAAAAAAD4fwAAAAAAAPh/zOQ+RZxxyL+A1ixZMyqkPzB3nmRFUrG/CD9o6sOg67+K8JgSdFPgvwAAAAAAAPh/AAAAAAAA+H8AAAAAAAD4fwAAAAAAAPh/+jQzZ88Nkr8AAAAAAAD4fwAAAAAAAPh/AAAAAAAA+H8AAAAAAAD4fwAAAAAAAPh/uPbrEYoFuj+QTED17n2jv2YXNNKtcd+/ivCYEnRT4L/4Sk6fQ/rHvwAAAAAAAPh/AAAAAAAA+H8AAAAAAAD4fwAAAAAAAPh/AAAAAAAA+H/ZULI/EPKqv2yBwJt4650/onJ1yC99xr/6NDNnzw2SvwAAAAAAAPh/",
          "dtype": "f8",
          "shape": "5, 15"
         },
         "zsmooth": false
        }
       ],
       "layout": {
        "coloraxis": {
         "cmid": 0,
         "colorscale": [
          [
           0.0,
           "rgb(103,0,31)"
          ],
          [
           0.1,
           "rgb(178,24,43)"
          ],
          [
           0.2,
           "rgb(214,96,77)"
          ],
          [
           0.3,
           "rgb(244,165,130)"
          ],
          [
           0.4,
           "rgb(253,219,199)"
          ],
          [
           0.5,
           "rgb(247,247,247)"
          ],
          [
           0.6,
           "rgb(209,229,240)"
          ],
          [
           0.7,
           "rgb(146,197,222)"
          ],
          [
           0.8,
           "rgb(67,147,195)"
          ],
          [
           0.9,
           "rgb(33,102,172)"
          ],
          [
           1.0,
           "rgb(5,48,97)"
          ]
         ],
         "showscale": true
        },
        "scene": {
         "aspectmode": "data",
         "xaxis": {
          "range": [
           -0.5,
           14.5
          ]
         },
         "yaxis": {
          "range": [
           4.5,
           -0.5
          ]
         }
        },
        "template": {
         "layout": {
          "hovermode": "closest",
          "paper_bgcolor": "white",
          "plot_bgcolor": "white",
          "scene": {
           "xaxis": {
            "color": "black",
            "gridcolor": "#ccc",
            "gridwidth": 1,
            "linewidth": 1,
            "mirror": true,
            "showgrid": false,
            "showline": true,
            "ticklen": 5,
            "ticks": "outside",
            "ticksuffix": " ",
            "visible": true,
            "zeroline": false,
            "zerolinecolor": "#ccc",
            "zerolinewidth": 1
           },
           "yaxis": {
            "color": "black",
            "gridcolor": "#ccc",
            "gridwidth": 1,
            "linewidth": 1,
            "mirror": true,
            "showgrid": false,
            "showline": true,
            "ticklen": 5,
            "ticks": "outside",
            "ticksuffix": " ",
            "visible": true,
            "zeroline": false,
            "zerolinecolor": "#ccc",
            "zerolinewidth": 1
           },
           "zaxis": {
            "color": "black",
            "gridcolor": "#ccc",
            "gridwidth": 1,
            "linewidth": 1,
            "mirror": true,
            "showgrid": false,
            "showline": true,
            "ticklen": 5,
            "ticks": "outside",
            "ticksuffix": " ",
            "visible": true,
            "zeroline": false,
            "zerolinecolor": "#ccc",
            "zerolinewidth": 1
           }
          },
          "xaxis": {
           "color": "black",
           "gridcolor": "#ccc",
           "gridwidth": 1,
           "linewidth": 1,
           "mirror": true,
           "showgrid": false,
           "showline": true,
           "ticklen": 5,
           "ticks": "outside",
           "ticksuffix": " ",
           "visible": true,
           "zeroline": false,
           "zerolinecolor": "#ccc",
           "zerolinewidth": 1
          },
          "yaxis": {
           "color": "black",
           "gridcolor": "#ccc",
           "gridwidth": 1,
           "linewidth": 1,
           "mirror": true,
           "showgrid": false,
           "showline": true,
           "ticklen": 5,
           "ticks": "outside",
           "ticksuffix": " ",
           "visible": true,
           "zeroline": false,
           "zerolinecolor": "#ccc",
           "zerolinewidth": 1
          }
         }
        },
        "xaxis": {
         "constrain": "domain",
         "range": [
          -0.5,
          14.5
         ],
         "scaleanchor": "y",
         "scaleratio": 1
        },
        "yaxis": {
         "constrain": "domain",
         "range": [
          4.5,
          -0.5
         ]
        }
       }
      }
     },
     "metadata": {},
     "output_type": "display_data"
    }
   ],
   "source": [
    "plot = H.plot()\n",
    "plot.get()"
   ]
  },
  {
   "cell_type": "markdown",
   "metadata": {},
   "source": [
    "## Changing the colorscale\n",
    "\n",
    "The most obvious thing to tweak here is the colorscale, you can do so by using the `colorscale` input, which, as usual, accepts any colorscale that the plotting backend can understand."
   ]
  },
  {
   "cell_type": "code",
   "execution_count": 4,
   "metadata": {
    "execution": {
     "iopub.execute_input": "2025-09-23T10:47:12.462816Z",
     "iopub.status.busy": "2025-09-23T10:47:12.462630Z",
     "iopub.status.idle": "2025-09-23T10:47:12.533631Z",
     "shell.execute_reply": "2025-09-23T10:47:12.533030Z"
    }
   },
   "outputs": [
    {
     "name": "stderr",
     "output_type": "stream",
     "text": [
      "INFO\tTask(Task-2) nodify.node.139839764491168:node.py:get()- No need to evaluate\n"
     ]
    },
    {
     "name": "stderr",
     "output_type": "stream",
     "text": [
      "INFO\tTask(Task-2) nodify.node.139839764485936:node.py:get()- No need to evaluate\n"
     ]
    },
    {
     "name": "stderr",
     "output_type": "stream",
     "text": [
      "INFO\tTask(Task-2) nodify.node.139839764484352:node.py:get()- No need to evaluate\n"
     ]
    },
    {
     "name": "stderr",
     "output_type": "stream",
     "text": [
      "INFO\tTask(Task-2) nodify.node.139839764485888:node.py:get()- No need to evaluate\n"
     ]
    },
    {
     "name": "stderr",
     "output_type": "stream",
     "text": [
      "INFO\tTask(Task-2) nodify.node.139839764484688:node.py:get()- No need to evaluate\n"
     ]
    },
    {
     "name": "stderr",
     "output_type": "stream",
     "text": [
      "INFO\tTask(Task-2) nodify.node.139839764492944:node.py:get()- No need to evaluate\n"
     ]
    },
    {
     "name": "stderr",
     "output_type": "stream",
     "text": [
      "INFO\tTask(Task-2) nodify.node.139839764488096:node.py:get()- Evaluated because inputs changed.\n"
     ]
    },
    {
     "name": "stderr",
     "output_type": "stream",
     "text": [
      "INFO\tTask(Task-2) nodify.node.139839764488480:node.py:get()- No need to evaluate\n"
     ]
    },
    {
     "name": "stderr",
     "output_type": "stream",
     "text": [
      "INFO\tTask(Task-2) nodify.node.139839764485936:node.py:get()- No need to evaluate\n"
     ]
    },
    {
     "name": "stderr",
     "output_type": "stream",
     "text": [
      "INFO\tTask(Task-2) nodify.node.139839764488864:node.py:get()- No need to evaluate\n"
     ]
    },
    {
     "name": "stderr",
     "output_type": "stream",
     "text": [
      "INFO\tTask(Task-2) nodify.node.139839764488480:node.py:get()- No need to evaluate\n"
     ]
    },
    {
     "name": "stderr",
     "output_type": "stream",
     "text": [
      "INFO\tTask(Task-2) nodify.node.139839764494240:node.py:get()- No need to evaluate\n"
     ]
    },
    {
     "name": "stderr",
     "output_type": "stream",
     "text": [
      "INFO\tTask(Task-2) nodify.node.139839764487712:node.py:get()- No need to evaluate\n"
     ]
    },
    {
     "name": "stderr",
     "output_type": "stream",
     "text": [
      "INFO\tTask(Task-2) nodify.node.139839764489248:node.py:get()- No need to evaluate\n"
     ]
    },
    {
     "name": "stderr",
     "output_type": "stream",
     "text": [
      "INFO\tTask(Task-2) nodify.node.139839764489632:node.py:get()- No need to evaluate\n"
     ]
    },
    {
     "name": "stderr",
     "output_type": "stream",
     "text": [
      "INFO\tTask(Task-2) nodify.node.139839764494144:node.py:get()- Evaluated because inputs changed.\n"
     ]
    },
    {
     "name": "stderr",
     "output_type": "stream",
     "text": [
      "INFO\tTask(Task-2) nodify.node.139839764485936:node.py:get()- No need to evaluate\n"
     ]
    },
    {
     "name": "stderr",
     "output_type": "stream",
     "text": [
      "INFO\tTask(Task-2) nodify.node.139839764484352:node.py:get()- No need to evaluate\n"
     ]
    },
    {
     "name": "stderr",
     "output_type": "stream",
     "text": [
      "INFO\tTask(Task-2) nodify.node.139839764485888:node.py:get()- No need to evaluate\n"
     ]
    },
    {
     "name": "stderr",
     "output_type": "stream",
     "text": [
      "INFO\tTask(Task-2) nodify.node.139839764484688:node.py:get()- No need to evaluate\n"
     ]
    },
    {
     "name": "stderr",
     "output_type": "stream",
     "text": [
      "INFO\tTask(Task-2) nodify.node.139839764492944:node.py:get()- No need to evaluate\n"
     ]
    },
    {
     "name": "stderr",
     "output_type": "stream",
     "text": [
      "INFO\tTask(Task-2) nodify.node.139839764490784:node.py:get()- No need to evaluate\n"
     ]
    },
    {
     "name": "stderr",
     "output_type": "stream",
     "text": [
      "INFO\tTask(Task-2) nodify.node.139839764494912:node.py:get()- No need to evaluate\n"
     ]
    },
    {
     "name": "stderr",
     "output_type": "stream",
     "text": [
      "INFO\tTask(Task-2) nodify.node.139839764494288:node.py:get()- No need to evaluate\n"
     ]
    },
    {
     "name": "stderr",
     "output_type": "stream",
     "text": [
      "INFO\tTask(Task-2) nodify.node.139839764486896:node.py:get()- No need to evaluate\n"
     ]
    },
    {
     "name": "stderr",
     "output_type": "stream",
     "text": [
      "INFO\tTask(Task-2) nodify.node.139839764485936:node.py:get()- No need to evaluate\n"
     ]
    },
    {
     "name": "stderr",
     "output_type": "stream",
     "text": [
      "INFO\tTask(Task-2) nodify.node.139839764486560:node.py:get()- No need to evaluate\n"
     ]
    },
    {
     "name": "stderr",
     "output_type": "stream",
     "text": [
      "INFO\tTask(Task-2) nodify.node.139839764492464:node.py:get()- No need to evaluate\n"
     ]
    },
    {
     "name": "stderr",
     "output_type": "stream",
     "text": [
      "INFO\tTask(Task-2) nodify.node.139839764485936:node.py:get()- No need to evaluate\n"
     ]
    },
    {
     "name": "stderr",
     "output_type": "stream",
     "text": [
      "INFO\tTask(Task-2) nodify.node.139839764493040:node.py:get()- No need to evaluate\n"
     ]
    },
    {
     "name": "stderr",
     "output_type": "stream",
     "text": [
      "INFO\tTask(Task-2) nodify.node.139839764494960:node.py:get()- No need to evaluate\n"
     ]
    },
    {
     "name": "stderr",
     "output_type": "stream",
     "text": [
      "INFO\tTask(Task-2) nodify.node.139839764485168:node.py:get()- No need to evaluate\n"
     ]
    },
    {
     "name": "stderr",
     "output_type": "stream",
     "text": [
      "INFO\tTask(Task-2) nodify.node.139839764485936:node.py:get()- No need to evaluate\n"
     ]
    },
    {
     "name": "stderr",
     "output_type": "stream",
     "text": [
      "INFO\tTask(Task-2) nodify.node.139839764486560:node.py:get()- No need to evaluate\n"
     ]
    },
    {
     "name": "stderr",
     "output_type": "stream",
     "text": [
      "INFO\tTask(Task-2) nodify.node.139839764492464:node.py:get()- No need to evaluate\n"
     ]
    },
    {
     "name": "stderr",
     "output_type": "stream",
     "text": [
      "INFO\tTask(Task-2) nodify.node.139839764485936:node.py:get()- No need to evaluate\n"
     ]
    },
    {
     "name": "stderr",
     "output_type": "stream",
     "text": [
      "INFO\tTask(Task-2) nodify.node.139839764493040:node.py:get()- No need to evaluate\n"
     ]
    },
    {
     "name": "stderr",
     "output_type": "stream",
     "text": [
      "INFO\tTask(Task-2) nodify.node.139839764495632:node.py:get()- No need to evaluate\n"
     ]
    },
    {
     "name": "stderr",
     "output_type": "stream",
     "text": [
      "INFO\tTask(Task-2) nodify.node.139839764487280:node.py:get()- No need to evaluate\n"
     ]
    },
    {
     "name": "stderr",
     "output_type": "stream",
     "text": [
      "INFO\tTask(Task-2) nodify.node.139839764485936:node.py:get()- No need to evaluate\n"
     ]
    },
    {
     "name": "stderr",
     "output_type": "stream",
     "text": [
      "INFO\tTask(Task-2) nodify.node.139839764486560:node.py:get()- No need to evaluate\n"
     ]
    },
    {
     "name": "stderr",
     "output_type": "stream",
     "text": [
      "INFO\tTask(Task-2) nodify.node.139839764492464:node.py:get()- No need to evaluate\n"
     ]
    },
    {
     "name": "stderr",
     "output_type": "stream",
     "text": [
      "INFO\tTask(Task-2) nodify.node.139839764485936:node.py:get()- No need to evaluate\n"
     ]
    },
    {
     "name": "stderr",
     "output_type": "stream",
     "text": [
      "INFO\tTask(Task-2) nodify.node.139839764493040:node.py:get()- No need to evaluate\n"
     ]
    },
    {
     "name": "stderr",
     "output_type": "stream",
     "text": [
      "INFO\tTask(Task-2) nodify.node.139839764495968:node.py:get()- No need to evaluate\n"
     ]
    },
    {
     "name": "stderr",
     "output_type": "stream",
     "text": [
      "INFO\tTask(Task-2) nodify.node.139839764485936:node.py:get()- No need to evaluate\n"
     ]
    },
    {
     "name": "stderr",
     "output_type": "stream",
     "text": [
      "INFO\tTask(Task-2) nodify.node.139839764484352:node.py:get()- No need to evaluate\n"
     ]
    },
    {
     "name": "stderr",
     "output_type": "stream",
     "text": [
      "INFO\tTask(Task-2) nodify.node.139839764485888:node.py:get()- No need to evaluate\n"
     ]
    },
    {
     "name": "stderr",
     "output_type": "stream",
     "text": [
      "INFO\tTask(Task-2) nodify.node.139839764484688:node.py:get()- No need to evaluate\n"
     ]
    },
    {
     "name": "stderr",
     "output_type": "stream",
     "text": [
      "INFO\tTask(Task-2) nodify.node.139839764492944:node.py:get()- No need to evaluate\n"
     ]
    },
    {
     "name": "stderr",
     "output_type": "stream",
     "text": [
      "INFO\tTask(Task-2) nodify.node.139839764485936:node.py:get()- No need to evaluate\n"
     ]
    },
    {
     "name": "stderr",
     "output_type": "stream",
     "text": [
      "INFO\tTask(Task-2) nodify.node.139839764486560:node.py:get()- No need to evaluate\n"
     ]
    },
    {
     "name": "stderr",
     "output_type": "stream",
     "text": [
      "INFO\tTask(Task-2) nodify.node.139839764492464:node.py:get()- No need to evaluate\n"
     ]
    },
    {
     "name": "stderr",
     "output_type": "stream",
     "text": [
      "INFO\tTask(Task-2) nodify.node.139839764485936:node.py:get()- No need to evaluate\n"
     ]
    },
    {
     "name": "stderr",
     "output_type": "stream",
     "text": [
      "INFO\tTask(Task-2) nodify.node.139839764493040:node.py:get()- No need to evaluate\n"
     ]
    },
    {
     "name": "stderr",
     "output_type": "stream",
     "text": [
      "INFO\tTask(Task-2) nodify.node.139839764490400:node.py:get()- No need to evaluate\n"
     ]
    },
    {
     "name": "stderr",
     "output_type": "stream",
     "text": [
      "INFO\tTask(Task-2) nodify.node.139839764490016:node.py:get()- No need to evaluate\n"
     ]
    },
    {
     "name": "stderr",
     "output_type": "stream",
     "text": [
      "INFO\tTask(Task-2) nodify.node.139839764492752:node.py:get()- No need to evaluate\n"
     ]
    },
    {
     "name": "stderr",
     "output_type": "stream",
     "text": [
      "INFO\tTask(Task-2) nodify.node.139839764493184:node.py:get()- Evaluated because inputs changed.\n"
     ]
    },
    {
     "name": "stderr",
     "output_type": "stream",
     "text": [
      "INFO\tTask(Task-2) nodify.node.139839764494048:node.py:get()- Evaluated because inputs changed.\n"
     ]
    },
    {
     "name": "stderr",
     "output_type": "stream",
     "text": [
      "INFO\tTask(Task-2) nodify.node.139839764628064:node.py:get()- Evaluated because inputs changed.\n"
     ]
    },
    {
     "data": {
      "application/vnd.plotly.v1+json": {
       "config": {
        "plotlyServerURL": "https://plot.ly"
       },
       "data": [
        {
         "coloraxis": "coloraxis",
         "meta": {},
         "opacity": 1,
         "type": "heatmap",
         "z": {
          "bdata": "4JCpuuPRpL+Y7HLsBUy2Py4xCYhNKdK/zOQ+RZxxyL+49usRigW6PwAAAAAAAPh/AAAAAAAA+H8AAAAAAAD4fwAAAAAAAPh/2VCyPxDyqr8AAAAAAAD4fwAAAAAAAPh/AAAAAAAA+H8AAAAAAAD4fwAAAAAAAPh/mOxy7AVMtj8Q82TzA/zOv+BoIXZYoJQ/gNYsWTMqpD+QTED17n2jvwAAAAAAAPh/AAAAAAAA+H8AAAAAAAD4fwAAAAAAAPh/bIHAm3jrnT8AAAAAAAD4fwAAAAAAAPh/AAAAAAAA+H8AAAAAAAD4fwAAAAAAAPh/LjEJiE0p0r/gaCF2WKCUP1g8rJicRto/MHeeZEVSsb9mFzTSrXHfvwAAAAAAAPh/AAAAAAAA+H8AAAAAAAD4fwAAAAAAAPh/onJ1yC99xr8AAAAAAAD4fwAAAAAAAPh/AAAAAAAA+H8AAAAAAAD4fwAAAAAAAPh/zOQ+RZxxyL+A1ixZMyqkPzB3nmRFUrG/CD9o6sOg67+K8JgSdFPgvwAAAAAAAPh/AAAAAAAA+H8AAAAAAAD4fwAAAAAAAPh/+jQzZ88Nkr8AAAAAAAD4fwAAAAAAAPh/AAAAAAAA+H8AAAAAAAD4fwAAAAAAAPh/uPbrEYoFuj+QTED17n2jv2YXNNKtcd+/ivCYEnRT4L/4Sk6fQ/rHvwAAAAAAAPh/AAAAAAAA+H8AAAAAAAD4fwAAAAAAAPh/AAAAAAAA+H/ZULI/EPKqv2yBwJt4650/onJ1yC99xr/6NDNnzw2SvwAAAAAAAPh/",
          "dtype": "f8",
          "shape": "5, 15"
         },
         "zsmooth": false
        }
       ],
       "layout": {
        "coloraxis": {
         "cmid": 0,
         "colorscale": [
          [
           0.0,
           "rgb(0, 147, 146)"
          ],
          [
           0.16666666666666666,
           "rgb(57, 177, 133)"
          ],
          [
           0.3333333333333333,
           "rgb(156, 203, 134)"
          ],
          [
           0.5,
           "rgb(233, 226, 156)"
          ],
          [
           0.6666666666666666,
           "rgb(238, 180, 121)"
          ],
          [
           0.8333333333333334,
           "rgb(232, 132, 113)"
          ],
          [
           1.0,
           "rgb(207, 89, 126)"
          ]
         ],
         "showscale": true
        },
        "scene": {
         "aspectmode": "data",
         "xaxis": {
          "range": [
           -0.5,
           14.5
          ]
         },
         "yaxis": {
          "range": [
           4.5,
           -0.5
          ]
         }
        },
        "template": {
         "layout": {
          "hovermode": "closest",
          "paper_bgcolor": "white",
          "plot_bgcolor": "white",
          "scene": {
           "xaxis": {
            "color": "black",
            "gridcolor": "#ccc",
            "gridwidth": 1,
            "linewidth": 1,
            "mirror": true,
            "showgrid": false,
            "showline": true,
            "ticklen": 5,
            "ticks": "outside",
            "ticksuffix": " ",
            "visible": true,
            "zeroline": false,
            "zerolinecolor": "#ccc",
            "zerolinewidth": 1
           },
           "yaxis": {
            "color": "black",
            "gridcolor": "#ccc",
            "gridwidth": 1,
            "linewidth": 1,
            "mirror": true,
            "showgrid": false,
            "showline": true,
            "ticklen": 5,
            "ticks": "outside",
            "ticksuffix": " ",
            "visible": true,
            "zeroline": false,
            "zerolinecolor": "#ccc",
            "zerolinewidth": 1
           },
           "zaxis": {
            "color": "black",
            "gridcolor": "#ccc",
            "gridwidth": 1,
            "linewidth": 1,
            "mirror": true,
            "showgrid": false,
            "showline": true,
            "ticklen": 5,
            "ticks": "outside",
            "ticksuffix": " ",
            "visible": true,
            "zeroline": false,
            "zerolinecolor": "#ccc",
            "zerolinewidth": 1
           }
          },
          "xaxis": {
           "color": "black",
           "gridcolor": "#ccc",
           "gridwidth": 1,
           "linewidth": 1,
           "mirror": true,
           "showgrid": false,
           "showline": true,
           "ticklen": 5,
           "ticks": "outside",
           "ticksuffix": " ",
           "visible": true,
           "zeroline": false,
           "zerolinecolor": "#ccc",
           "zerolinewidth": 1
          },
          "yaxis": {
           "color": "black",
           "gridcolor": "#ccc",
           "gridwidth": 1,
           "linewidth": 1,
           "mirror": true,
           "showgrid": false,
           "showline": true,
           "ticklen": 5,
           "ticks": "outside",
           "ticksuffix": " ",
           "visible": true,
           "zeroline": false,
           "zerolinecolor": "#ccc",
           "zerolinewidth": 1
          }
         }
        },
        "xaxis": {
         "constrain": "domain",
         "range": [
          -0.5,
          14.5
         ],
         "scaleanchor": "y",
         "scaleratio": 1
        },
        "yaxis": {
         "constrain": "domain",
         "range": [
          4.5,
          -0.5
         ]
        }
       }
      }
     },
     "metadata": {},
     "output_type": "display_data"
    }
   ],
   "source": [
    "plot.update_inputs(colorscale=\"temps\")"
   ]
  },
  {
   "cell_type": "markdown",
   "metadata": {},
   "source": [
    "Note how the `temps` colorscale makes it more clear that there are elements of the matrix that are not set (because the matrix is sparse). Those elements are not displayed.\n",
    "\n",
    "The range of colors **by default is set from min to max**. **Unless there are negative and positive values**. In that case, the colorscale is just **centered at 0** by default.\n",
    "\n",
    "However, you can set the `crange` and `cmid` to customize the colorscale as you wish. For example, to center the scale at `0.5`:"
   ]
  },
  {
   "cell_type": "code",
   "execution_count": 5,
   "metadata": {
    "execution": {
     "iopub.execute_input": "2025-09-23T10:47:12.535602Z",
     "iopub.status.busy": "2025-09-23T10:47:12.535402Z",
     "iopub.status.idle": "2025-09-23T10:47:12.608787Z",
     "shell.execute_reply": "2025-09-23T10:47:12.608191Z"
    }
   },
   "outputs": [
    {
     "name": "stderr",
     "output_type": "stream",
     "text": [
      "INFO\tTask(Task-2) nodify.node.139839764491168:node.py:get()- No need to evaluate\n"
     ]
    },
    {
     "name": "stderr",
     "output_type": "stream",
     "text": [
      "INFO\tTask(Task-2) nodify.node.139839764485936:node.py:get()- No need to evaluate\n"
     ]
    },
    {
     "name": "stderr",
     "output_type": "stream",
     "text": [
      "INFO\tTask(Task-2) nodify.node.139839764484352:node.py:get()- No need to evaluate\n"
     ]
    },
    {
     "name": "stderr",
     "output_type": "stream",
     "text": [
      "INFO\tTask(Task-2) nodify.node.139839764485888:node.py:get()- No need to evaluate\n"
     ]
    },
    {
     "name": "stderr",
     "output_type": "stream",
     "text": [
      "INFO\tTask(Task-2) nodify.node.139839764484688:node.py:get()- No need to evaluate\n"
     ]
    },
    {
     "name": "stderr",
     "output_type": "stream",
     "text": [
      "INFO\tTask(Task-2) nodify.node.139839764492944:node.py:get()- No need to evaluate\n"
     ]
    },
    {
     "name": "stderr",
     "output_type": "stream",
     "text": [
      "INFO\tTask(Task-2) nodify.node.139839764488096:node.py:get()- No need to evaluate\n"
     ]
    },
    {
     "name": "stderr",
     "output_type": "stream",
     "text": [
      "INFO\tTask(Task-2) nodify.node.139839764488480:node.py:get()- No need to evaluate\n"
     ]
    },
    {
     "name": "stderr",
     "output_type": "stream",
     "text": [
      "INFO\tTask(Task-2) nodify.node.139839764485936:node.py:get()- No need to evaluate\n"
     ]
    },
    {
     "name": "stderr",
     "output_type": "stream",
     "text": [
      "INFO\tTask(Task-2) nodify.node.139839764488864:node.py:get()- Evaluated because inputs changed.\n"
     ]
    },
    {
     "name": "stderr",
     "output_type": "stream",
     "text": [
      "INFO\tTask(Task-2) nodify.node.139839764488480:node.py:get()- No need to evaluate\n"
     ]
    },
    {
     "name": "stderr",
     "output_type": "stream",
     "text": [
      "INFO\tTask(Task-2) nodify.node.139839764494240:node.py:get()- Evaluated because inputs changed.\n"
     ]
    },
    {
     "name": "stderr",
     "output_type": "stream",
     "text": [
      "INFO\tTask(Task-2) nodify.node.139839764487712:node.py:get()- No need to evaluate\n"
     ]
    },
    {
     "name": "stderr",
     "output_type": "stream",
     "text": [
      "INFO\tTask(Task-2) nodify.node.139839764489248:node.py:get()- No need to evaluate\n"
     ]
    },
    {
     "name": "stderr",
     "output_type": "stream",
     "text": [
      "INFO\tTask(Task-2) nodify.node.139839764489632:node.py:get()- No need to evaluate\n"
     ]
    },
    {
     "name": "stderr",
     "output_type": "stream",
     "text": [
      "INFO\tTask(Task-2) nodify.node.139839764494144:node.py:get()- Evaluated because inputs changed.\n"
     ]
    },
    {
     "name": "stderr",
     "output_type": "stream",
     "text": [
      "INFO\tTask(Task-2) nodify.node.139839764485936:node.py:get()- No need to evaluate\n"
     ]
    },
    {
     "name": "stderr",
     "output_type": "stream",
     "text": [
      "INFO\tTask(Task-2) nodify.node.139839764484352:node.py:get()- No need to evaluate\n"
     ]
    },
    {
     "name": "stderr",
     "output_type": "stream",
     "text": [
      "INFO\tTask(Task-2) nodify.node.139839764485888:node.py:get()- No need to evaluate\n"
     ]
    },
    {
     "name": "stderr",
     "output_type": "stream",
     "text": [
      "INFO\tTask(Task-2) nodify.node.139839764484688:node.py:get()- No need to evaluate\n"
     ]
    },
    {
     "name": "stderr",
     "output_type": "stream",
     "text": [
      "INFO\tTask(Task-2) nodify.node.139839764492944:node.py:get()- No need to evaluate\n"
     ]
    },
    {
     "name": "stderr",
     "output_type": "stream",
     "text": [
      "INFO\tTask(Task-2) nodify.node.139839764490784:node.py:get()- No need to evaluate\n"
     ]
    },
    {
     "name": "stderr",
     "output_type": "stream",
     "text": [
      "INFO\tTask(Task-2) nodify.node.139839764494912:node.py:get()- No need to evaluate\n"
     ]
    },
    {
     "name": "stderr",
     "output_type": "stream",
     "text": [
      "INFO\tTask(Task-2) nodify.node.139839764494288:node.py:get()- No need to evaluate\n"
     ]
    },
    {
     "name": "stderr",
     "output_type": "stream",
     "text": [
      "INFO\tTask(Task-2) nodify.node.139839764486896:node.py:get()- No need to evaluate\n"
     ]
    },
    {
     "name": "stderr",
     "output_type": "stream",
     "text": [
      "INFO\tTask(Task-2) nodify.node.139839764485936:node.py:get()- No need to evaluate\n"
     ]
    },
    {
     "name": "stderr",
     "output_type": "stream",
     "text": [
      "INFO\tTask(Task-2) nodify.node.139839764486560:node.py:get()- No need to evaluate\n"
     ]
    },
    {
     "name": "stderr",
     "output_type": "stream",
     "text": [
      "INFO\tTask(Task-2) nodify.node.139839764492464:node.py:get()- No need to evaluate\n"
     ]
    },
    {
     "name": "stderr",
     "output_type": "stream",
     "text": [
      "INFO\tTask(Task-2) nodify.node.139839764485936:node.py:get()- No need to evaluate\n"
     ]
    },
    {
     "name": "stderr",
     "output_type": "stream",
     "text": [
      "INFO\tTask(Task-2) nodify.node.139839764493040:node.py:get()- No need to evaluate\n"
     ]
    },
    {
     "name": "stderr",
     "output_type": "stream",
     "text": [
      "INFO\tTask(Task-2) nodify.node.139839764494960:node.py:get()- No need to evaluate\n"
     ]
    },
    {
     "name": "stderr",
     "output_type": "stream",
     "text": [
      "INFO\tTask(Task-2) nodify.node.139839764485168:node.py:get()- No need to evaluate\n"
     ]
    },
    {
     "name": "stderr",
     "output_type": "stream",
     "text": [
      "INFO\tTask(Task-2) nodify.node.139839764485936:node.py:get()- No need to evaluate\n"
     ]
    },
    {
     "name": "stderr",
     "output_type": "stream",
     "text": [
      "INFO\tTask(Task-2) nodify.node.139839764486560:node.py:get()- No need to evaluate\n"
     ]
    },
    {
     "name": "stderr",
     "output_type": "stream",
     "text": [
      "INFO\tTask(Task-2) nodify.node.139839764492464:node.py:get()- No need to evaluate\n"
     ]
    },
    {
     "name": "stderr",
     "output_type": "stream",
     "text": [
      "INFO\tTask(Task-2) nodify.node.139839764485936:node.py:get()- No need to evaluate\n"
     ]
    },
    {
     "name": "stderr",
     "output_type": "stream",
     "text": [
      "INFO\tTask(Task-2) nodify.node.139839764493040:node.py:get()- No need to evaluate\n"
     ]
    },
    {
     "name": "stderr",
     "output_type": "stream",
     "text": [
      "INFO\tTask(Task-2) nodify.node.139839764495632:node.py:get()- No need to evaluate\n"
     ]
    },
    {
     "name": "stderr",
     "output_type": "stream",
     "text": [
      "INFO\tTask(Task-2) nodify.node.139839764487280:node.py:get()- No need to evaluate\n"
     ]
    },
    {
     "name": "stderr",
     "output_type": "stream",
     "text": [
      "INFO\tTask(Task-2) nodify.node.139839764485936:node.py:get()- No need to evaluate\n"
     ]
    },
    {
     "name": "stderr",
     "output_type": "stream",
     "text": [
      "INFO\tTask(Task-2) nodify.node.139839764486560:node.py:get()- No need to evaluate\n"
     ]
    },
    {
     "name": "stderr",
     "output_type": "stream",
     "text": [
      "INFO\tTask(Task-2) nodify.node.139839764492464:node.py:get()- No need to evaluate\n"
     ]
    },
    {
     "name": "stderr",
     "output_type": "stream",
     "text": [
      "INFO\tTask(Task-2) nodify.node.139839764485936:node.py:get()- No need to evaluate\n"
     ]
    },
    {
     "name": "stderr",
     "output_type": "stream",
     "text": [
      "INFO\tTask(Task-2) nodify.node.139839764493040:node.py:get()- No need to evaluate\n"
     ]
    },
    {
     "name": "stderr",
     "output_type": "stream",
     "text": [
      "INFO\tTask(Task-2) nodify.node.139839764495968:node.py:get()- No need to evaluate\n"
     ]
    },
    {
     "name": "stderr",
     "output_type": "stream",
     "text": [
      "INFO\tTask(Task-2) nodify.node.139839764485936:node.py:get()- No need to evaluate\n"
     ]
    },
    {
     "name": "stderr",
     "output_type": "stream",
     "text": [
      "INFO\tTask(Task-2) nodify.node.139839764484352:node.py:get()- No need to evaluate\n"
     ]
    },
    {
     "name": "stderr",
     "output_type": "stream",
     "text": [
      "INFO\tTask(Task-2) nodify.node.139839764485888:node.py:get()- No need to evaluate\n"
     ]
    },
    {
     "name": "stderr",
     "output_type": "stream",
     "text": [
      "INFO\tTask(Task-2) nodify.node.139839764484688:node.py:get()- No need to evaluate\n"
     ]
    },
    {
     "name": "stderr",
     "output_type": "stream",
     "text": [
      "INFO\tTask(Task-2) nodify.node.139839764492944:node.py:get()- No need to evaluate\n"
     ]
    },
    {
     "name": "stderr",
     "output_type": "stream",
     "text": [
      "INFO\tTask(Task-2) nodify.node.139839764485936:node.py:get()- No need to evaluate\n"
     ]
    },
    {
     "name": "stderr",
     "output_type": "stream",
     "text": [
      "INFO\tTask(Task-2) nodify.node.139839764486560:node.py:get()- No need to evaluate\n"
     ]
    },
    {
     "name": "stderr",
     "output_type": "stream",
     "text": [
      "INFO\tTask(Task-2) nodify.node.139839764492464:node.py:get()- No need to evaluate\n"
     ]
    },
    {
     "name": "stderr",
     "output_type": "stream",
     "text": [
      "INFO\tTask(Task-2) nodify.node.139839764485936:node.py:get()- No need to evaluate\n"
     ]
    },
    {
     "name": "stderr",
     "output_type": "stream",
     "text": [
      "INFO\tTask(Task-2) nodify.node.139839764493040:node.py:get()- No need to evaluate\n"
     ]
    },
    {
     "name": "stderr",
     "output_type": "stream",
     "text": [
      "INFO\tTask(Task-2) nodify.node.139839764490400:node.py:get()- No need to evaluate\n"
     ]
    },
    {
     "name": "stderr",
     "output_type": "stream",
     "text": [
      "INFO\tTask(Task-2) nodify.node.139839764490016:node.py:get()- No need to evaluate\n"
     ]
    },
    {
     "name": "stderr",
     "output_type": "stream",
     "text": [
      "INFO\tTask(Task-2) nodify.node.139839764492752:node.py:get()- No need to evaluate\n"
     ]
    },
    {
     "name": "stderr",
     "output_type": "stream",
     "text": [
      "INFO\tTask(Task-2) nodify.node.139839764493184:node.py:get()- Evaluated because inputs changed.\n"
     ]
    },
    {
     "name": "stderr",
     "output_type": "stream",
     "text": [
      "INFO\tTask(Task-2) nodify.node.139839764494048:node.py:get()- Evaluated because inputs changed.\n"
     ]
    },
    {
     "name": "stderr",
     "output_type": "stream",
     "text": [
      "INFO\tTask(Task-2) nodify.node.139839764628064:node.py:get()- Evaluated because inputs changed.\n"
     ]
    },
    {
     "data": {
      "application/vnd.plotly.v1+json": {
       "config": {
        "plotlyServerURL": "https://plot.ly"
       },
       "data": [
        {
         "coloraxis": "coloraxis",
         "meta": {},
         "opacity": 1,
         "type": "heatmap",
         "z": {
          "bdata": "4JCpuuPRpL+Y7HLsBUy2Py4xCYhNKdK/zOQ+RZxxyL+49usRigW6PwAAAAAAAPh/AAAAAAAA+H8AAAAAAAD4fwAAAAAAAPh/2VCyPxDyqr8AAAAAAAD4fwAAAAAAAPh/AAAAAAAA+H8AAAAAAAD4fwAAAAAAAPh/mOxy7AVMtj8Q82TzA/zOv+BoIXZYoJQ/gNYsWTMqpD+QTED17n2jvwAAAAAAAPh/AAAAAAAA+H8AAAAAAAD4fwAAAAAAAPh/bIHAm3jrnT8AAAAAAAD4fwAAAAAAAPh/AAAAAAAA+H8AAAAAAAD4fwAAAAAAAPh/LjEJiE0p0r/gaCF2WKCUP1g8rJicRto/MHeeZEVSsb9mFzTSrXHfvwAAAAAAAPh/AAAAAAAA+H8AAAAAAAD4fwAAAAAAAPh/onJ1yC99xr8AAAAAAAD4fwAAAAAAAPh/AAAAAAAA+H8AAAAAAAD4fwAAAAAAAPh/zOQ+RZxxyL+A1ixZMyqkPzB3nmRFUrG/CD9o6sOg67+K8JgSdFPgvwAAAAAAAPh/AAAAAAAA+H8AAAAAAAD4fwAAAAAAAPh/+jQzZ88Nkr8AAAAAAAD4fwAAAAAAAPh/AAAAAAAA+H8AAAAAAAD4fwAAAAAAAPh/uPbrEYoFuj+QTED17n2jv2YXNNKtcd+/ivCYEnRT4L/4Sk6fQ/rHvwAAAAAAAPh/AAAAAAAA+H8AAAAAAAD4fwAAAAAAAPh/AAAAAAAA+H/ZULI/EPKqv2yBwJt4650/onJ1yC99xr/6NDNnzw2SvwAAAAAAAPh/",
          "dtype": "f8",
          "shape": "5, 15"
         },
         "zsmooth": false
        }
       ],
       "layout": {
        "coloraxis": {
         "cmid": 0.5,
         "colorscale": [
          [
           0.0,
           "rgb(0, 147, 146)"
          ],
          [
           0.16666666666666666,
           "rgb(57, 177, 133)"
          ],
          [
           0.3333333333333333,
           "rgb(156, 203, 134)"
          ],
          [
           0.5,
           "rgb(233, 226, 156)"
          ],
          [
           0.6666666666666666,
           "rgb(238, 180, 121)"
          ],
          [
           0.8333333333333334,
           "rgb(232, 132, 113)"
          ],
          [
           1.0,
           "rgb(207, 89, 126)"
          ]
         ],
         "showscale": true
        },
        "scene": {
         "aspectmode": "data",
         "xaxis": {
          "range": [
           -0.5,
           14.5
          ]
         },
         "yaxis": {
          "range": [
           4.5,
           -0.5
          ]
         }
        },
        "template": {
         "layout": {
          "hovermode": "closest",
          "paper_bgcolor": "white",
          "plot_bgcolor": "white",
          "scene": {
           "xaxis": {
            "color": "black",
            "gridcolor": "#ccc",
            "gridwidth": 1,
            "linewidth": 1,
            "mirror": true,
            "showgrid": false,
            "showline": true,
            "ticklen": 5,
            "ticks": "outside",
            "ticksuffix": " ",
            "visible": true,
            "zeroline": false,
            "zerolinecolor": "#ccc",
            "zerolinewidth": 1
           },
           "yaxis": {
            "color": "black",
            "gridcolor": "#ccc",
            "gridwidth": 1,
            "linewidth": 1,
            "mirror": true,
            "showgrid": false,
            "showline": true,
            "ticklen": 5,
            "ticks": "outside",
            "ticksuffix": " ",
            "visible": true,
            "zeroline": false,
            "zerolinecolor": "#ccc",
            "zerolinewidth": 1
           },
           "zaxis": {
            "color": "black",
            "gridcolor": "#ccc",
            "gridwidth": 1,
            "linewidth": 1,
            "mirror": true,
            "showgrid": false,
            "showline": true,
            "ticklen": 5,
            "ticks": "outside",
            "ticksuffix": " ",
            "visible": true,
            "zeroline": false,
            "zerolinecolor": "#ccc",
            "zerolinewidth": 1
           }
          },
          "xaxis": {
           "color": "black",
           "gridcolor": "#ccc",
           "gridwidth": 1,
           "linewidth": 1,
           "mirror": true,
           "showgrid": false,
           "showline": true,
           "ticklen": 5,
           "ticks": "outside",
           "ticksuffix": " ",
           "visible": true,
           "zeroline": false,
           "zerolinecolor": "#ccc",
           "zerolinewidth": 1
          },
          "yaxis": {
           "color": "black",
           "gridcolor": "#ccc",
           "gridwidth": 1,
           "linewidth": 1,
           "mirror": true,
           "showgrid": false,
           "showline": true,
           "ticklen": 5,
           "ticks": "outside",
           "ticksuffix": " ",
           "visible": true,
           "zeroline": false,
           "zerolinecolor": "#ccc",
           "zerolinewidth": 1
          }
         }
        },
        "xaxis": {
         "constrain": "domain",
         "range": [
          -0.5,
          14.5
         ],
         "scaleanchor": "y",
         "scaleratio": 1
        },
        "yaxis": {
         "constrain": "domain",
         "range": [
          4.5,
          -0.5
         ]
        }
       }
      }
     },
     "metadata": {},
     "output_type": "display_data"
    }
   ],
   "source": [
    "plot.update_inputs(cmid=0.5)"
   ]
  },
  {
   "cell_type": "markdown",
   "metadata": {},
   "source": [
    "And to set the range of the scale from `-4` to `1`:"
   ]
  },
  {
   "cell_type": "code",
   "execution_count": 6,
   "metadata": {
    "execution": {
     "iopub.execute_input": "2025-09-23T10:47:12.610540Z",
     "iopub.status.busy": "2025-09-23T10:47:12.610353Z",
     "iopub.status.idle": "2025-09-23T10:47:12.688128Z",
     "shell.execute_reply": "2025-09-23T10:47:12.687525Z"
    }
   },
   "outputs": [
    {
     "name": "stderr",
     "output_type": "stream",
     "text": [
      "INFO\tTask(Task-2) nodify.node.139839764491168:node.py:get()- No need to evaluate\n"
     ]
    },
    {
     "name": "stderr",
     "output_type": "stream",
     "text": [
      "INFO\tTask(Task-2) nodify.node.139839764485936:node.py:get()- No need to evaluate\n"
     ]
    },
    {
     "name": "stderr",
     "output_type": "stream",
     "text": [
      "INFO\tTask(Task-2) nodify.node.139839764484352:node.py:get()- No need to evaluate\n"
     ]
    },
    {
     "name": "stderr",
     "output_type": "stream",
     "text": [
      "INFO\tTask(Task-2) nodify.node.139839764485888:node.py:get()- No need to evaluate\n"
     ]
    },
    {
     "name": "stderr",
     "output_type": "stream",
     "text": [
      "INFO\tTask(Task-2) nodify.node.139839764484688:node.py:get()- No need to evaluate\n"
     ]
    },
    {
     "name": "stderr",
     "output_type": "stream",
     "text": [
      "INFO\tTask(Task-2) nodify.node.139839764492944:node.py:get()- No need to evaluate\n"
     ]
    },
    {
     "name": "stderr",
     "output_type": "stream",
     "text": [
      "INFO\tTask(Task-2) nodify.node.139839764488096:node.py:get()- No need to evaluate\n"
     ]
    },
    {
     "name": "stderr",
     "output_type": "stream",
     "text": [
      "INFO\tTask(Task-2) nodify.node.139839764488480:node.py:get()- Evaluated because inputs changed.\n"
     ]
    },
    {
     "name": "stderr",
     "output_type": "stream",
     "text": [
      "INFO\tTask(Task-2) nodify.node.139839764485936:node.py:get()- No need to evaluate\n"
     ]
    },
    {
     "name": "stderr",
     "output_type": "stream",
     "text": [
      "INFO\tTask(Task-2) nodify.node.139839764488864:node.py:get()- No need to evaluate\n"
     ]
    },
    {
     "name": "stderr",
     "output_type": "stream",
     "text": [
      "INFO\tTask(Task-2) nodify.node.139839764488480:node.py:get()- No need to evaluate\n"
     ]
    },
    {
     "name": "stderr",
     "output_type": "stream",
     "text": [
      "INFO\tTask(Task-2) nodify.node.139839764494240:node.py:get()- Evaluated because inputs changed.\n"
     ]
    },
    {
     "name": "stderr",
     "output_type": "stream",
     "text": [
      "INFO\tTask(Task-2) nodify.node.139839764487712:node.py:get()- No need to evaluate\n"
     ]
    },
    {
     "name": "stderr",
     "output_type": "stream",
     "text": [
      "INFO\tTask(Task-2) nodify.node.139839764489248:node.py:get()- No need to evaluate\n"
     ]
    },
    {
     "name": "stderr",
     "output_type": "stream",
     "text": [
      "INFO\tTask(Task-2) nodify.node.139839764489632:node.py:get()- No need to evaluate\n"
     ]
    },
    {
     "name": "stderr",
     "output_type": "stream",
     "text": [
      "INFO\tTask(Task-2) nodify.node.139839764494144:node.py:get()- Evaluated because inputs changed.\n"
     ]
    },
    {
     "name": "stderr",
     "output_type": "stream",
     "text": [
      "INFO\tTask(Task-2) nodify.node.139839764485936:node.py:get()- No need to evaluate\n"
     ]
    },
    {
     "name": "stderr",
     "output_type": "stream",
     "text": [
      "INFO\tTask(Task-2) nodify.node.139839764484352:node.py:get()- No need to evaluate\n"
     ]
    },
    {
     "name": "stderr",
     "output_type": "stream",
     "text": [
      "INFO\tTask(Task-2) nodify.node.139839764485888:node.py:get()- No need to evaluate\n"
     ]
    },
    {
     "name": "stderr",
     "output_type": "stream",
     "text": [
      "INFO\tTask(Task-2) nodify.node.139839764484688:node.py:get()- No need to evaluate\n"
     ]
    },
    {
     "name": "stderr",
     "output_type": "stream",
     "text": [
      "INFO\tTask(Task-2) nodify.node.139839764492944:node.py:get()- No need to evaluate\n"
     ]
    },
    {
     "name": "stderr",
     "output_type": "stream",
     "text": [
      "INFO\tTask(Task-2) nodify.node.139839764490784:node.py:get()- No need to evaluate\n"
     ]
    },
    {
     "name": "stderr",
     "output_type": "stream",
     "text": [
      "INFO\tTask(Task-2) nodify.node.139839764494912:node.py:get()- No need to evaluate\n"
     ]
    },
    {
     "name": "stderr",
     "output_type": "stream",
     "text": [
      "INFO\tTask(Task-2) nodify.node.139839764494288:node.py:get()- No need to evaluate\n"
     ]
    },
    {
     "name": "stderr",
     "output_type": "stream",
     "text": [
      "INFO\tTask(Task-2) nodify.node.139839764486896:node.py:get()- No need to evaluate\n"
     ]
    },
    {
     "name": "stderr",
     "output_type": "stream",
     "text": [
      "INFO\tTask(Task-2) nodify.node.139839764485936:node.py:get()- No need to evaluate\n"
     ]
    },
    {
     "name": "stderr",
     "output_type": "stream",
     "text": [
      "INFO\tTask(Task-2) nodify.node.139839764486560:node.py:get()- No need to evaluate\n"
     ]
    },
    {
     "name": "stderr",
     "output_type": "stream",
     "text": [
      "INFO\tTask(Task-2) nodify.node.139839764492464:node.py:get()- No need to evaluate\n"
     ]
    },
    {
     "name": "stderr",
     "output_type": "stream",
     "text": [
      "INFO\tTask(Task-2) nodify.node.139839764485936:node.py:get()- No need to evaluate\n"
     ]
    },
    {
     "name": "stderr",
     "output_type": "stream",
     "text": [
      "INFO\tTask(Task-2) nodify.node.139839764493040:node.py:get()- No need to evaluate\n"
     ]
    },
    {
     "name": "stderr",
     "output_type": "stream",
     "text": [
      "INFO\tTask(Task-2) nodify.node.139839764494960:node.py:get()- No need to evaluate\n"
     ]
    },
    {
     "name": "stderr",
     "output_type": "stream",
     "text": [
      "INFO\tTask(Task-2) nodify.node.139839764485168:node.py:get()- No need to evaluate\n"
     ]
    },
    {
     "name": "stderr",
     "output_type": "stream",
     "text": [
      "INFO\tTask(Task-2) nodify.node.139839764485936:node.py:get()- No need to evaluate\n"
     ]
    },
    {
     "name": "stderr",
     "output_type": "stream",
     "text": [
      "INFO\tTask(Task-2) nodify.node.139839764486560:node.py:get()- No need to evaluate\n"
     ]
    },
    {
     "name": "stderr",
     "output_type": "stream",
     "text": [
      "INFO\tTask(Task-2) nodify.node.139839764492464:node.py:get()- No need to evaluate\n"
     ]
    },
    {
     "name": "stderr",
     "output_type": "stream",
     "text": [
      "INFO\tTask(Task-2) nodify.node.139839764485936:node.py:get()- No need to evaluate\n"
     ]
    },
    {
     "name": "stderr",
     "output_type": "stream",
     "text": [
      "INFO\tTask(Task-2) nodify.node.139839764493040:node.py:get()- No need to evaluate\n"
     ]
    },
    {
     "name": "stderr",
     "output_type": "stream",
     "text": [
      "INFO\tTask(Task-2) nodify.node.139839764495632:node.py:get()- No need to evaluate\n"
     ]
    },
    {
     "name": "stderr",
     "output_type": "stream",
     "text": [
      "INFO\tTask(Task-2) nodify.node.139839764487280:node.py:get()- No need to evaluate\n"
     ]
    },
    {
     "name": "stderr",
     "output_type": "stream",
     "text": [
      "INFO\tTask(Task-2) nodify.node.139839764485936:node.py:get()- No need to evaluate\n"
     ]
    },
    {
     "name": "stderr",
     "output_type": "stream",
     "text": [
      "INFO\tTask(Task-2) nodify.node.139839764486560:node.py:get()- No need to evaluate\n"
     ]
    },
    {
     "name": "stderr",
     "output_type": "stream",
     "text": [
      "INFO\tTask(Task-2) nodify.node.139839764492464:node.py:get()- No need to evaluate\n"
     ]
    },
    {
     "name": "stderr",
     "output_type": "stream",
     "text": [
      "INFO\tTask(Task-2) nodify.node.139839764485936:node.py:get()- No need to evaluate\n"
     ]
    },
    {
     "name": "stderr",
     "output_type": "stream",
     "text": [
      "INFO\tTask(Task-2) nodify.node.139839764493040:node.py:get()- No need to evaluate\n"
     ]
    },
    {
     "name": "stderr",
     "output_type": "stream",
     "text": [
      "INFO\tTask(Task-2) nodify.node.139839764495968:node.py:get()- No need to evaluate\n"
     ]
    },
    {
     "name": "stderr",
     "output_type": "stream",
     "text": [
      "INFO\tTask(Task-2) nodify.node.139839764485936:node.py:get()- No need to evaluate\n"
     ]
    },
    {
     "name": "stderr",
     "output_type": "stream",
     "text": [
      "INFO\tTask(Task-2) nodify.node.139839764484352:node.py:get()- No need to evaluate\n"
     ]
    },
    {
     "name": "stderr",
     "output_type": "stream",
     "text": [
      "INFO\tTask(Task-2) nodify.node.139839764485888:node.py:get()- No need to evaluate\n"
     ]
    },
    {
     "name": "stderr",
     "output_type": "stream",
     "text": [
      "INFO\tTask(Task-2) nodify.node.139839764484688:node.py:get()- No need to evaluate\n"
     ]
    },
    {
     "name": "stderr",
     "output_type": "stream",
     "text": [
      "INFO\tTask(Task-2) nodify.node.139839764492944:node.py:get()- No need to evaluate\n"
     ]
    },
    {
     "name": "stderr",
     "output_type": "stream",
     "text": [
      "INFO\tTask(Task-2) nodify.node.139839764485936:node.py:get()- No need to evaluate\n"
     ]
    },
    {
     "name": "stderr",
     "output_type": "stream",
     "text": [
      "INFO\tTask(Task-2) nodify.node.139839764486560:node.py:get()- No need to evaluate\n"
     ]
    },
    {
     "name": "stderr",
     "output_type": "stream",
     "text": [
      "INFO\tTask(Task-2) nodify.node.139839764492464:node.py:get()- No need to evaluate\n"
     ]
    },
    {
     "name": "stderr",
     "output_type": "stream",
     "text": [
      "INFO\tTask(Task-2) nodify.node.139839764485936:node.py:get()- No need to evaluate\n"
     ]
    },
    {
     "name": "stderr",
     "output_type": "stream",
     "text": [
      "INFO\tTask(Task-2) nodify.node.139839764493040:node.py:get()- No need to evaluate\n"
     ]
    },
    {
     "name": "stderr",
     "output_type": "stream",
     "text": [
      "INFO\tTask(Task-2) nodify.node.139839764490400:node.py:get()- No need to evaluate\n"
     ]
    },
    {
     "name": "stderr",
     "output_type": "stream",
     "text": [
      "INFO\tTask(Task-2) nodify.node.139839764490016:node.py:get()- No need to evaluate\n"
     ]
    },
    {
     "name": "stderr",
     "output_type": "stream",
     "text": [
      "INFO\tTask(Task-2) nodify.node.139839764492752:node.py:get()- No need to evaluate\n"
     ]
    },
    {
     "name": "stderr",
     "output_type": "stream",
     "text": [
      "INFO\tTask(Task-2) nodify.node.139839764493184:node.py:get()- Evaluated because inputs changed.\n"
     ]
    },
    {
     "name": "stderr",
     "output_type": "stream",
     "text": [
      "INFO\tTask(Task-2) nodify.node.139839764494048:node.py:get()- Evaluated because inputs changed.\n"
     ]
    },
    {
     "name": "stderr",
     "output_type": "stream",
     "text": [
      "INFO\tTask(Task-2) nodify.node.139839764628064:node.py:get()- Evaluated because inputs changed.\n"
     ]
    },
    {
     "data": {
      "application/vnd.plotly.v1+json": {
       "config": {
        "plotlyServerURL": "https://plot.ly"
       },
       "data": [
        {
         "coloraxis": "coloraxis",
         "meta": {},
         "opacity": 1,
         "type": "heatmap",
         "z": {
          "bdata": "4JCpuuPRpL+Y7HLsBUy2Py4xCYhNKdK/zOQ+RZxxyL+49usRigW6PwAAAAAAAPh/AAAAAAAA+H8AAAAAAAD4fwAAAAAAAPh/2VCyPxDyqr8AAAAAAAD4fwAAAAAAAPh/AAAAAAAA+H8AAAAAAAD4fwAAAAAAAPh/mOxy7AVMtj8Q82TzA/zOv+BoIXZYoJQ/gNYsWTMqpD+QTED17n2jvwAAAAAAAPh/AAAAAAAA+H8AAAAAAAD4fwAAAAAAAPh/bIHAm3jrnT8AAAAAAAD4fwAAAAAAAPh/AAAAAAAA+H8AAAAAAAD4fwAAAAAAAPh/LjEJiE0p0r/gaCF2WKCUP1g8rJicRto/MHeeZEVSsb9mFzTSrXHfvwAAAAAAAPh/AAAAAAAA+H8AAAAAAAD4fwAAAAAAAPh/onJ1yC99xr8AAAAAAAD4fwAAAAAAAPh/AAAAAAAA+H8AAAAAAAD4fwAAAAAAAPh/zOQ+RZxxyL+A1ixZMyqkPzB3nmRFUrG/CD9o6sOg67+K8JgSdFPgvwAAAAAAAPh/AAAAAAAA+H8AAAAAAAD4fwAAAAAAAPh/+jQzZ88Nkr8AAAAAAAD4fwAAAAAAAPh/AAAAAAAA+H8AAAAAAAD4fwAAAAAAAPh/uPbrEYoFuj+QTED17n2jv2YXNNKtcd+/ivCYEnRT4L/4Sk6fQ/rHvwAAAAAAAPh/AAAAAAAA+H8AAAAAAAD4fwAAAAAAAPh/AAAAAAAA+H/ZULI/EPKqv2yBwJt4650/onJ1yC99xr/6NDNnzw2SvwAAAAAAAPh/",
          "dtype": "f8",
          "shape": "5, 15"
         },
         "zsmooth": false
        }
       ],
       "layout": {
        "coloraxis": {
         "cmax": 1,
         "cmid": 0.5,
         "cmin": -4,
         "colorscale": [
          [
           0.0,
           "rgb(0, 147, 146)"
          ],
          [
           0.16666666666666666,
           "rgb(57, 177, 133)"
          ],
          [
           0.3333333333333333,
           "rgb(156, 203, 134)"
          ],
          [
           0.5,
           "rgb(233, 226, 156)"
          ],
          [
           0.6666666666666666,
           "rgb(238, 180, 121)"
          ],
          [
           0.8333333333333334,
           "rgb(232, 132, 113)"
          ],
          [
           1.0,
           "rgb(207, 89, 126)"
          ]
         ],
         "showscale": true
        },
        "scene": {
         "aspectmode": "data",
         "xaxis": {
          "range": [
           -0.5,
           14.5
          ]
         },
         "yaxis": {
          "range": [
           4.5,
           -0.5
          ]
         }
        },
        "template": {
         "layout": {
          "hovermode": "closest",
          "paper_bgcolor": "white",
          "plot_bgcolor": "white",
          "scene": {
           "xaxis": {
            "color": "black",
            "gridcolor": "#ccc",
            "gridwidth": 1,
            "linewidth": 1,
            "mirror": true,
            "showgrid": false,
            "showline": true,
            "ticklen": 5,
            "ticks": "outside",
            "ticksuffix": " ",
            "visible": true,
            "zeroline": false,
            "zerolinecolor": "#ccc",
            "zerolinewidth": 1
           },
           "yaxis": {
            "color": "black",
            "gridcolor": "#ccc",
            "gridwidth": 1,
            "linewidth": 1,
            "mirror": true,
            "showgrid": false,
            "showline": true,
            "ticklen": 5,
            "ticks": "outside",
            "ticksuffix": " ",
            "visible": true,
            "zeroline": false,
            "zerolinecolor": "#ccc",
            "zerolinewidth": 1
           },
           "zaxis": {
            "color": "black",
            "gridcolor": "#ccc",
            "gridwidth": 1,
            "linewidth": 1,
            "mirror": true,
            "showgrid": false,
            "showline": true,
            "ticklen": 5,
            "ticks": "outside",
            "ticksuffix": " ",
            "visible": true,
            "zeroline": false,
            "zerolinecolor": "#ccc",
            "zerolinewidth": 1
           }
          },
          "xaxis": {
           "color": "black",
           "gridcolor": "#ccc",
           "gridwidth": 1,
           "linewidth": 1,
           "mirror": true,
           "showgrid": false,
           "showline": true,
           "ticklen": 5,
           "ticks": "outside",
           "ticksuffix": " ",
           "visible": true,
           "zeroline": false,
           "zerolinecolor": "#ccc",
           "zerolinewidth": 1
          },
          "yaxis": {
           "color": "black",
           "gridcolor": "#ccc",
           "gridwidth": 1,
           "linewidth": 1,
           "mirror": true,
           "showgrid": false,
           "showline": true,
           "ticklen": 5,
           "ticks": "outside",
           "ticksuffix": " ",
           "visible": true,
           "zeroline": false,
           "zerolinecolor": "#ccc",
           "zerolinewidth": 1
          }
         }
        },
        "xaxis": {
         "constrain": "domain",
         "range": [
          -0.5,
          14.5
         ],
         "scaleanchor": "y",
         "scaleratio": 1
        },
        "yaxis": {
         "constrain": "domain",
         "range": [
          4.5,
          -0.5
         ]
        }
       }
      }
     },
     "metadata": {},
     "output_type": "display_data"
    }
   ],
   "source": [
    "plot.update_inputs(crange=(-4, 1))"
   ]
  },
  {
   "cell_type": "markdown",
   "metadata": {},
   "source": [
    "Notice how **`crange` takes precedence over `cmid`**. Now, to go back to the default range, just set both to `None`."
   ]
  },
  {
   "cell_type": "code",
   "execution_count": 7,
   "metadata": {
    "execution": {
     "iopub.execute_input": "2025-09-23T10:47:12.689971Z",
     "iopub.status.busy": "2025-09-23T10:47:12.689788Z",
     "iopub.status.idle": "2025-09-23T10:47:12.769340Z",
     "shell.execute_reply": "2025-09-23T10:47:12.768733Z"
    }
   },
   "outputs": [
    {
     "name": "stderr",
     "output_type": "stream",
     "text": [
      "INFO\tTask(Task-2) nodify.node.139839764491168:node.py:get()- No need to evaluate\n"
     ]
    },
    {
     "name": "stderr",
     "output_type": "stream",
     "text": [
      "INFO\tTask(Task-2) nodify.node.139839764485936:node.py:get()- No need to evaluate\n"
     ]
    },
    {
     "name": "stderr",
     "output_type": "stream",
     "text": [
      "INFO\tTask(Task-2) nodify.node.139839764484352:node.py:get()- No need to evaluate\n"
     ]
    },
    {
     "name": "stderr",
     "output_type": "stream",
     "text": [
      "INFO\tTask(Task-2) nodify.node.139839764485888:node.py:get()- No need to evaluate\n"
     ]
    },
    {
     "name": "stderr",
     "output_type": "stream",
     "text": [
      "INFO\tTask(Task-2) nodify.node.139839764484688:node.py:get()- No need to evaluate\n"
     ]
    },
    {
     "name": "stderr",
     "output_type": "stream",
     "text": [
      "INFO\tTask(Task-2) nodify.node.139839764492944:node.py:get()- No need to evaluate\n"
     ]
    },
    {
     "name": "stderr",
     "output_type": "stream",
     "text": [
      "INFO\tTask(Task-2) nodify.node.139839764488096:node.py:get()- No need to evaluate\n"
     ]
    },
    {
     "name": "stderr",
     "output_type": "stream",
     "text": [
      "INFO\tTask(Task-2) nodify.node.139839764488480:node.py:get()- Evaluated because inputs changed.\n"
     ]
    },
    {
     "name": "stderr",
     "output_type": "stream",
     "text": [
      "INFO\tTask(Task-2) nodify.node.139839764485936:node.py:get()- No need to evaluate\n"
     ]
    },
    {
     "name": "stderr",
     "output_type": "stream",
     "text": [
      "INFO\tTask(Task-2) nodify.node.139839764488864:node.py:get()- Evaluated because inputs changed.\n"
     ]
    },
    {
     "name": "stderr",
     "output_type": "stream",
     "text": [
      "INFO\tTask(Task-2) nodify.node.139839764488480:node.py:get()- No need to evaluate\n"
     ]
    },
    {
     "name": "stderr",
     "output_type": "stream",
     "text": [
      "INFO\tTask(Task-2) nodify.node.139839764494240:node.py:get()- Evaluated because inputs changed.\n"
     ]
    },
    {
     "name": "stderr",
     "output_type": "stream",
     "text": [
      "INFO\tTask(Task-2) nodify.node.139839764487712:node.py:get()- No need to evaluate\n"
     ]
    },
    {
     "name": "stderr",
     "output_type": "stream",
     "text": [
      "INFO\tTask(Task-2) nodify.node.139839764489248:node.py:get()- No need to evaluate\n"
     ]
    },
    {
     "name": "stderr",
     "output_type": "stream",
     "text": [
      "INFO\tTask(Task-2) nodify.node.139839764489632:node.py:get()- No need to evaluate\n"
     ]
    },
    {
     "name": "stderr",
     "output_type": "stream",
     "text": [
      "INFO\tTask(Task-2) nodify.node.139839764494144:node.py:get()- Evaluated because inputs changed.\n"
     ]
    },
    {
     "name": "stderr",
     "output_type": "stream",
     "text": [
      "INFO\tTask(Task-2) nodify.node.139839764485936:node.py:get()- No need to evaluate\n"
     ]
    },
    {
     "name": "stderr",
     "output_type": "stream",
     "text": [
      "INFO\tTask(Task-2) nodify.node.139839764484352:node.py:get()- No need to evaluate\n"
     ]
    },
    {
     "name": "stderr",
     "output_type": "stream",
     "text": [
      "INFO\tTask(Task-2) nodify.node.139839764485888:node.py:get()- No need to evaluate\n"
     ]
    },
    {
     "name": "stderr",
     "output_type": "stream",
     "text": [
      "INFO\tTask(Task-2) nodify.node.139839764484688:node.py:get()- No need to evaluate\n"
     ]
    },
    {
     "name": "stderr",
     "output_type": "stream",
     "text": [
      "INFO\tTask(Task-2) nodify.node.139839764492944:node.py:get()- No need to evaluate\n"
     ]
    },
    {
     "name": "stderr",
     "output_type": "stream",
     "text": [
      "INFO\tTask(Task-2) nodify.node.139839764490784:node.py:get()- No need to evaluate\n"
     ]
    },
    {
     "name": "stderr",
     "output_type": "stream",
     "text": [
      "INFO\tTask(Task-2) nodify.node.139839764494912:node.py:get()- No need to evaluate\n"
     ]
    },
    {
     "name": "stderr",
     "output_type": "stream",
     "text": [
      "INFO\tTask(Task-2) nodify.node.139839764494288:node.py:get()- No need to evaluate\n"
     ]
    },
    {
     "name": "stderr",
     "output_type": "stream",
     "text": [
      "INFO\tTask(Task-2) nodify.node.139839764486896:node.py:get()- No need to evaluate\n"
     ]
    },
    {
     "name": "stderr",
     "output_type": "stream",
     "text": [
      "INFO\tTask(Task-2) nodify.node.139839764485936:node.py:get()- No need to evaluate\n"
     ]
    },
    {
     "name": "stderr",
     "output_type": "stream",
     "text": [
      "INFO\tTask(Task-2) nodify.node.139839764486560:node.py:get()- No need to evaluate\n"
     ]
    },
    {
     "name": "stderr",
     "output_type": "stream",
     "text": [
      "INFO\tTask(Task-2) nodify.node.139839764492464:node.py:get()- No need to evaluate\n"
     ]
    },
    {
     "name": "stderr",
     "output_type": "stream",
     "text": [
      "INFO\tTask(Task-2) nodify.node.139839764485936:node.py:get()- No need to evaluate\n"
     ]
    },
    {
     "name": "stderr",
     "output_type": "stream",
     "text": [
      "INFO\tTask(Task-2) nodify.node.139839764493040:node.py:get()- No need to evaluate\n"
     ]
    },
    {
     "name": "stderr",
     "output_type": "stream",
     "text": [
      "INFO\tTask(Task-2) nodify.node.139839764494960:node.py:get()- No need to evaluate\n"
     ]
    },
    {
     "name": "stderr",
     "output_type": "stream",
     "text": [
      "INFO\tTask(Task-2) nodify.node.139839764485168:node.py:get()- No need to evaluate\n"
     ]
    },
    {
     "name": "stderr",
     "output_type": "stream",
     "text": [
      "INFO\tTask(Task-2) nodify.node.139839764485936:node.py:get()- No need to evaluate\n"
     ]
    },
    {
     "name": "stderr",
     "output_type": "stream",
     "text": [
      "INFO\tTask(Task-2) nodify.node.139839764486560:node.py:get()- No need to evaluate\n"
     ]
    },
    {
     "name": "stderr",
     "output_type": "stream",
     "text": [
      "INFO\tTask(Task-2) nodify.node.139839764492464:node.py:get()- No need to evaluate\n"
     ]
    },
    {
     "name": "stderr",
     "output_type": "stream",
     "text": [
      "INFO\tTask(Task-2) nodify.node.139839764485936:node.py:get()- No need to evaluate\n"
     ]
    },
    {
     "name": "stderr",
     "output_type": "stream",
     "text": [
      "INFO\tTask(Task-2) nodify.node.139839764493040:node.py:get()- No need to evaluate\n"
     ]
    },
    {
     "name": "stderr",
     "output_type": "stream",
     "text": [
      "INFO\tTask(Task-2) nodify.node.139839764495632:node.py:get()- No need to evaluate\n"
     ]
    },
    {
     "name": "stderr",
     "output_type": "stream",
     "text": [
      "INFO\tTask(Task-2) nodify.node.139839764487280:node.py:get()- No need to evaluate\n"
     ]
    },
    {
     "name": "stderr",
     "output_type": "stream",
     "text": [
      "INFO\tTask(Task-2) nodify.node.139839764485936:node.py:get()- No need to evaluate\n"
     ]
    },
    {
     "name": "stderr",
     "output_type": "stream",
     "text": [
      "INFO\tTask(Task-2) nodify.node.139839764486560:node.py:get()- No need to evaluate\n"
     ]
    },
    {
     "name": "stderr",
     "output_type": "stream",
     "text": [
      "INFO\tTask(Task-2) nodify.node.139839764492464:node.py:get()- No need to evaluate\n"
     ]
    },
    {
     "name": "stderr",
     "output_type": "stream",
     "text": [
      "INFO\tTask(Task-2) nodify.node.139839764485936:node.py:get()- No need to evaluate\n"
     ]
    },
    {
     "name": "stderr",
     "output_type": "stream",
     "text": [
      "INFO\tTask(Task-2) nodify.node.139839764493040:node.py:get()- No need to evaluate\n"
     ]
    },
    {
     "name": "stderr",
     "output_type": "stream",
     "text": [
      "INFO\tTask(Task-2) nodify.node.139839764495968:node.py:get()- No need to evaluate\n"
     ]
    },
    {
     "name": "stderr",
     "output_type": "stream",
     "text": [
      "INFO\tTask(Task-2) nodify.node.139839764485936:node.py:get()- No need to evaluate\n"
     ]
    },
    {
     "name": "stderr",
     "output_type": "stream",
     "text": [
      "INFO\tTask(Task-2) nodify.node.139839764484352:node.py:get()- No need to evaluate\n"
     ]
    },
    {
     "name": "stderr",
     "output_type": "stream",
     "text": [
      "INFO\tTask(Task-2) nodify.node.139839764485888:node.py:get()- No need to evaluate\n"
     ]
    },
    {
     "name": "stderr",
     "output_type": "stream",
     "text": [
      "INFO\tTask(Task-2) nodify.node.139839764484688:node.py:get()- No need to evaluate\n"
     ]
    },
    {
     "name": "stderr",
     "output_type": "stream",
     "text": [
      "INFO\tTask(Task-2) nodify.node.139839764492944:node.py:get()- No need to evaluate\n"
     ]
    },
    {
     "name": "stderr",
     "output_type": "stream",
     "text": [
      "INFO\tTask(Task-2) nodify.node.139839764485936:node.py:get()- No need to evaluate\n"
     ]
    },
    {
     "name": "stderr",
     "output_type": "stream",
     "text": [
      "INFO\tTask(Task-2) nodify.node.139839764486560:node.py:get()- No need to evaluate\n"
     ]
    },
    {
     "name": "stderr",
     "output_type": "stream",
     "text": [
      "INFO\tTask(Task-2) nodify.node.139839764492464:node.py:get()- No need to evaluate\n"
     ]
    },
    {
     "name": "stderr",
     "output_type": "stream",
     "text": [
      "INFO\tTask(Task-2) nodify.node.139839764485936:node.py:get()- No need to evaluate\n"
     ]
    },
    {
     "name": "stderr",
     "output_type": "stream",
     "text": [
      "INFO\tTask(Task-2) nodify.node.139839764493040:node.py:get()- No need to evaluate\n"
     ]
    },
    {
     "name": "stderr",
     "output_type": "stream",
     "text": [
      "INFO\tTask(Task-2) nodify.node.139839764490400:node.py:get()- No need to evaluate\n"
     ]
    },
    {
     "name": "stderr",
     "output_type": "stream",
     "text": [
      "INFO\tTask(Task-2) nodify.node.139839764490016:node.py:get()- No need to evaluate\n"
     ]
    },
    {
     "name": "stderr",
     "output_type": "stream",
     "text": [
      "INFO\tTask(Task-2) nodify.node.139839764492752:node.py:get()- No need to evaluate\n"
     ]
    },
    {
     "name": "stderr",
     "output_type": "stream",
     "text": [
      "INFO\tTask(Task-2) nodify.node.139839764493184:node.py:get()- Evaluated because inputs changed.\n"
     ]
    },
    {
     "name": "stderr",
     "output_type": "stream",
     "text": [
      "INFO\tTask(Task-2) nodify.node.139839764494048:node.py:get()- Evaluated because inputs changed.\n"
     ]
    },
    {
     "name": "stderr",
     "output_type": "stream",
     "text": [
      "INFO\tTask(Task-2) nodify.node.139839764628064:node.py:get()- Evaluated because inputs changed.\n"
     ]
    },
    {
     "data": {
      "application/vnd.plotly.v1+json": {
       "config": {
        "plotlyServerURL": "https://plot.ly"
       },
       "data": [
        {
         "coloraxis": "coloraxis",
         "meta": {},
         "opacity": 1,
         "type": "heatmap",
         "z": {
          "bdata": "4JCpuuPRpL+Y7HLsBUy2Py4xCYhNKdK/zOQ+RZxxyL+49usRigW6PwAAAAAAAPh/AAAAAAAA+H8AAAAAAAD4fwAAAAAAAPh/2VCyPxDyqr8AAAAAAAD4fwAAAAAAAPh/AAAAAAAA+H8AAAAAAAD4fwAAAAAAAPh/mOxy7AVMtj8Q82TzA/zOv+BoIXZYoJQ/gNYsWTMqpD+QTED17n2jvwAAAAAAAPh/AAAAAAAA+H8AAAAAAAD4fwAAAAAAAPh/bIHAm3jrnT8AAAAAAAD4fwAAAAAAAPh/AAAAAAAA+H8AAAAAAAD4fwAAAAAAAPh/LjEJiE0p0r/gaCF2WKCUP1g8rJicRto/MHeeZEVSsb9mFzTSrXHfvwAAAAAAAPh/AAAAAAAA+H8AAAAAAAD4fwAAAAAAAPh/onJ1yC99xr8AAAAAAAD4fwAAAAAAAPh/AAAAAAAA+H8AAAAAAAD4fwAAAAAAAPh/zOQ+RZxxyL+A1ixZMyqkPzB3nmRFUrG/CD9o6sOg67+K8JgSdFPgvwAAAAAAAPh/AAAAAAAA+H8AAAAAAAD4fwAAAAAAAPh/+jQzZ88Nkr8AAAAAAAD4fwAAAAAAAPh/AAAAAAAA+H8AAAAAAAD4fwAAAAAAAPh/uPbrEYoFuj+QTED17n2jv2YXNNKtcd+/ivCYEnRT4L/4Sk6fQ/rHvwAAAAAAAPh/AAAAAAAA+H8AAAAAAAD4fwAAAAAAAPh/AAAAAAAA+H/ZULI/EPKqv2yBwJt4650/onJ1yC99xr/6NDNnzw2SvwAAAAAAAPh/",
          "dtype": "f8",
          "shape": "5, 15"
         },
         "zsmooth": false
        }
       ],
       "layout": {
        "coloraxis": {
         "cmid": 0,
         "colorscale": [
          [
           0.0,
           "rgb(0, 147, 146)"
          ],
          [
           0.16666666666666666,
           "rgb(57, 177, 133)"
          ],
          [
           0.3333333333333333,
           "rgb(156, 203, 134)"
          ],
          [
           0.5,
           "rgb(233, 226, 156)"
          ],
          [
           0.6666666666666666,
           "rgb(238, 180, 121)"
          ],
          [
           0.8333333333333334,
           "rgb(232, 132, 113)"
          ],
          [
           1.0,
           "rgb(207, 89, 126)"
          ]
         ],
         "showscale": true
        },
        "scene": {
         "aspectmode": "data",
         "xaxis": {
          "range": [
           -0.5,
           14.5
          ]
         },
         "yaxis": {
          "range": [
           4.5,
           -0.5
          ]
         }
        },
        "template": {
         "layout": {
          "hovermode": "closest",
          "paper_bgcolor": "white",
          "plot_bgcolor": "white",
          "scene": {
           "xaxis": {
            "color": "black",
            "gridcolor": "#ccc",
            "gridwidth": 1,
            "linewidth": 1,
            "mirror": true,
            "showgrid": false,
            "showline": true,
            "ticklen": 5,
            "ticks": "outside",
            "ticksuffix": " ",
            "visible": true,
            "zeroline": false,
            "zerolinecolor": "#ccc",
            "zerolinewidth": 1
           },
           "yaxis": {
            "color": "black",
            "gridcolor": "#ccc",
            "gridwidth": 1,
            "linewidth": 1,
            "mirror": true,
            "showgrid": false,
            "showline": true,
            "ticklen": 5,
            "ticks": "outside",
            "ticksuffix": " ",
            "visible": true,
            "zeroline": false,
            "zerolinecolor": "#ccc",
            "zerolinewidth": 1
           },
           "zaxis": {
            "color": "black",
            "gridcolor": "#ccc",
            "gridwidth": 1,
            "linewidth": 1,
            "mirror": true,
            "showgrid": false,
            "showline": true,
            "ticklen": 5,
            "ticks": "outside",
            "ticksuffix": " ",
            "visible": true,
            "zeroline": false,
            "zerolinecolor": "#ccc",
            "zerolinewidth": 1
           }
          },
          "xaxis": {
           "color": "black",
           "gridcolor": "#ccc",
           "gridwidth": 1,
           "linewidth": 1,
           "mirror": true,
           "showgrid": false,
           "showline": true,
           "ticklen": 5,
           "ticks": "outside",
           "ticksuffix": " ",
           "visible": true,
           "zeroline": false,
           "zerolinecolor": "#ccc",
           "zerolinewidth": 1
          },
          "yaxis": {
           "color": "black",
           "gridcolor": "#ccc",
           "gridwidth": 1,
           "linewidth": 1,
           "mirror": true,
           "showgrid": false,
           "showline": true,
           "ticklen": 5,
           "ticks": "outside",
           "ticksuffix": " ",
           "visible": true,
           "zeroline": false,
           "zerolinecolor": "#ccc",
           "zerolinewidth": 1
          }
         }
        },
        "xaxis": {
         "constrain": "domain",
         "range": [
          -0.5,
          14.5
         ],
         "scaleanchor": "y",
         "scaleratio": 1
        },
        "yaxis": {
         "constrain": "domain",
         "range": [
          4.5,
          -0.5
         ]
        }
       }
      }
     },
     "metadata": {},
     "output_type": "display_data"
    }
   ],
   "source": [
    "plot.update_inputs(crange=None, cmid=None)"
   ]
  },
  {
   "cell_type": "markdown",
   "metadata": {},
   "source": [
    "## Show values as text\n",
    "\n",
    "Colors are nice to give you a quick impression of the relative magnitude of the matrix elements. However, you might want to know the exact value. Although `plotly` shows them when you pass the mouse over the matrix elements, sometimes it might be more convenient to directly display them on top.\n",
    "\n",
    "To do this, you need to pass a formatting string to the `text` input. For example, to show two decimals:"
   ]
  },
  {
   "cell_type": "code",
   "execution_count": 8,
   "metadata": {
    "execution": {
     "iopub.execute_input": "2025-09-23T10:47:12.771003Z",
     "iopub.status.busy": "2025-09-23T10:47:12.770836Z",
     "iopub.status.idle": "2025-09-23T10:47:12.848976Z",
     "shell.execute_reply": "2025-09-23T10:47:12.848485Z"
    }
   },
   "outputs": [
    {
     "name": "stderr",
     "output_type": "stream",
     "text": [
      "INFO\tTask(Task-2) nodify.node.139839764491168:node.py:get()- No need to evaluate\n"
     ]
    },
    {
     "name": "stderr",
     "output_type": "stream",
     "text": [
      "INFO\tTask(Task-2) nodify.node.139839764485936:node.py:get()- No need to evaluate\n"
     ]
    },
    {
     "name": "stderr",
     "output_type": "stream",
     "text": [
      "INFO\tTask(Task-2) nodify.node.139839764484352:node.py:get()- No need to evaluate\n"
     ]
    },
    {
     "name": "stderr",
     "output_type": "stream",
     "text": [
      "INFO\tTask(Task-2) nodify.node.139839764485888:node.py:get()- No need to evaluate\n"
     ]
    },
    {
     "name": "stderr",
     "output_type": "stream",
     "text": [
      "INFO\tTask(Task-2) nodify.node.139839764484688:node.py:get()- No need to evaluate\n"
     ]
    },
    {
     "name": "stderr",
     "output_type": "stream",
     "text": [
      "INFO\tTask(Task-2) nodify.node.139839764492944:node.py:get()- No need to evaluate\n"
     ]
    },
    {
     "name": "stderr",
     "output_type": "stream",
     "text": [
      "INFO\tTask(Task-2) nodify.node.139839764488096:node.py:get()- No need to evaluate\n"
     ]
    },
    {
     "name": "stderr",
     "output_type": "stream",
     "text": [
      "INFO\tTask(Task-2) nodify.node.139839764488480:node.py:get()- No need to evaluate\n"
     ]
    },
    {
     "name": "stderr",
     "output_type": "stream",
     "text": [
      "INFO\tTask(Task-2) nodify.node.139839764485936:node.py:get()- No need to evaluate\n"
     ]
    },
    {
     "name": "stderr",
     "output_type": "stream",
     "text": [
      "INFO\tTask(Task-2) nodify.node.139839764488864:node.py:get()- No need to evaluate\n"
     ]
    },
    {
     "name": "stderr",
     "output_type": "stream",
     "text": [
      "INFO\tTask(Task-2) nodify.node.139839764488480:node.py:get()- No need to evaluate\n"
     ]
    },
    {
     "name": "stderr",
     "output_type": "stream",
     "text": [
      "INFO\tTask(Task-2) nodify.node.139839764494240:node.py:get()- No need to evaluate\n"
     ]
    },
    {
     "name": "stderr",
     "output_type": "stream",
     "text": [
      "INFO\tTask(Task-2) nodify.node.139839764487712:node.py:get()- No need to evaluate\n"
     ]
    },
    {
     "name": "stderr",
     "output_type": "stream",
     "text": [
      "INFO\tTask(Task-2) nodify.node.139839764489248:node.py:get()- Evaluated because inputs changed.\n"
     ]
    },
    {
     "name": "stderr",
     "output_type": "stream",
     "text": [
      "INFO\tTask(Task-2) nodify.node.139839764489632:node.py:get()- No need to evaluate\n"
     ]
    },
    {
     "name": "stderr",
     "output_type": "stream",
     "text": [
      "INFO\tTask(Task-2) nodify.node.139839764494144:node.py:get()- Evaluated because inputs changed.\n"
     ]
    },
    {
     "name": "stderr",
     "output_type": "stream",
     "text": [
      "INFO\tTask(Task-2) nodify.node.139839764485936:node.py:get()- No need to evaluate\n"
     ]
    },
    {
     "name": "stderr",
     "output_type": "stream",
     "text": [
      "INFO\tTask(Task-2) nodify.node.139839764484352:node.py:get()- No need to evaluate\n"
     ]
    },
    {
     "name": "stderr",
     "output_type": "stream",
     "text": [
      "INFO\tTask(Task-2) nodify.node.139839764485888:node.py:get()- No need to evaluate\n"
     ]
    },
    {
     "name": "stderr",
     "output_type": "stream",
     "text": [
      "INFO\tTask(Task-2) nodify.node.139839764484688:node.py:get()- No need to evaluate\n"
     ]
    },
    {
     "name": "stderr",
     "output_type": "stream",
     "text": [
      "INFO\tTask(Task-2) nodify.node.139839764492944:node.py:get()- No need to evaluate\n"
     ]
    },
    {
     "name": "stderr",
     "output_type": "stream",
     "text": [
      "INFO\tTask(Task-2) nodify.node.139839764490784:node.py:get()- No need to evaluate\n"
     ]
    },
    {
     "name": "stderr",
     "output_type": "stream",
     "text": [
      "INFO\tTask(Task-2) nodify.node.139839764494912:node.py:get()- No need to evaluate\n"
     ]
    },
    {
     "name": "stderr",
     "output_type": "stream",
     "text": [
      "INFO\tTask(Task-2) nodify.node.139839764494288:node.py:get()- No need to evaluate\n"
     ]
    },
    {
     "name": "stderr",
     "output_type": "stream",
     "text": [
      "INFO\tTask(Task-2) nodify.node.139839764486896:node.py:get()- No need to evaluate\n"
     ]
    },
    {
     "name": "stderr",
     "output_type": "stream",
     "text": [
      "INFO\tTask(Task-2) nodify.node.139839764485936:node.py:get()- No need to evaluate\n"
     ]
    },
    {
     "name": "stderr",
     "output_type": "stream",
     "text": [
      "INFO\tTask(Task-2) nodify.node.139839764486560:node.py:get()- No need to evaluate\n"
     ]
    },
    {
     "name": "stderr",
     "output_type": "stream",
     "text": [
      "INFO\tTask(Task-2) nodify.node.139839764492464:node.py:get()- No need to evaluate\n"
     ]
    },
    {
     "name": "stderr",
     "output_type": "stream",
     "text": [
      "INFO\tTask(Task-2) nodify.node.139839764485936:node.py:get()- No need to evaluate\n"
     ]
    },
    {
     "name": "stderr",
     "output_type": "stream",
     "text": [
      "INFO\tTask(Task-2) nodify.node.139839764493040:node.py:get()- No need to evaluate\n"
     ]
    },
    {
     "name": "stderr",
     "output_type": "stream",
     "text": [
      "INFO\tTask(Task-2) nodify.node.139839764494960:node.py:get()- No need to evaluate\n"
     ]
    },
    {
     "name": "stderr",
     "output_type": "stream",
     "text": [
      "INFO\tTask(Task-2) nodify.node.139839764485168:node.py:get()- No need to evaluate\n"
     ]
    },
    {
     "name": "stderr",
     "output_type": "stream",
     "text": [
      "INFO\tTask(Task-2) nodify.node.139839764485936:node.py:get()- No need to evaluate\n"
     ]
    },
    {
     "name": "stderr",
     "output_type": "stream",
     "text": [
      "INFO\tTask(Task-2) nodify.node.139839764486560:node.py:get()- No need to evaluate\n"
     ]
    },
    {
     "name": "stderr",
     "output_type": "stream",
     "text": [
      "INFO\tTask(Task-2) nodify.node.139839764492464:node.py:get()- No need to evaluate\n"
     ]
    },
    {
     "name": "stderr",
     "output_type": "stream",
     "text": [
      "INFO\tTask(Task-2) nodify.node.139839764485936:node.py:get()- No need to evaluate\n"
     ]
    },
    {
     "name": "stderr",
     "output_type": "stream",
     "text": [
      "INFO\tTask(Task-2) nodify.node.139839764493040:node.py:get()- No need to evaluate\n"
     ]
    },
    {
     "name": "stderr",
     "output_type": "stream",
     "text": [
      "INFO\tTask(Task-2) nodify.node.139839764495632:node.py:get()- No need to evaluate\n"
     ]
    },
    {
     "name": "stderr",
     "output_type": "stream",
     "text": [
      "INFO\tTask(Task-2) nodify.node.139839764487280:node.py:get()- No need to evaluate\n"
     ]
    },
    {
     "name": "stderr",
     "output_type": "stream",
     "text": [
      "INFO\tTask(Task-2) nodify.node.139839764485936:node.py:get()- No need to evaluate\n"
     ]
    },
    {
     "name": "stderr",
     "output_type": "stream",
     "text": [
      "INFO\tTask(Task-2) nodify.node.139839764486560:node.py:get()- No need to evaluate\n"
     ]
    },
    {
     "name": "stderr",
     "output_type": "stream",
     "text": [
      "INFO\tTask(Task-2) nodify.node.139839764492464:node.py:get()- No need to evaluate\n"
     ]
    },
    {
     "name": "stderr",
     "output_type": "stream",
     "text": [
      "INFO\tTask(Task-2) nodify.node.139839764485936:node.py:get()- No need to evaluate\n"
     ]
    },
    {
     "name": "stderr",
     "output_type": "stream",
     "text": [
      "INFO\tTask(Task-2) nodify.node.139839764493040:node.py:get()- No need to evaluate\n"
     ]
    },
    {
     "name": "stderr",
     "output_type": "stream",
     "text": [
      "INFO\tTask(Task-2) nodify.node.139839764495968:node.py:get()- No need to evaluate\n"
     ]
    },
    {
     "name": "stderr",
     "output_type": "stream",
     "text": [
      "INFO\tTask(Task-2) nodify.node.139839764485936:node.py:get()- No need to evaluate\n"
     ]
    },
    {
     "name": "stderr",
     "output_type": "stream",
     "text": [
      "INFO\tTask(Task-2) nodify.node.139839764484352:node.py:get()- No need to evaluate\n"
     ]
    },
    {
     "name": "stderr",
     "output_type": "stream",
     "text": [
      "INFO\tTask(Task-2) nodify.node.139839764485888:node.py:get()- No need to evaluate\n"
     ]
    },
    {
     "name": "stderr",
     "output_type": "stream",
     "text": [
      "INFO\tTask(Task-2) nodify.node.139839764484688:node.py:get()- No need to evaluate\n"
     ]
    },
    {
     "name": "stderr",
     "output_type": "stream",
     "text": [
      "INFO\tTask(Task-2) nodify.node.139839764492944:node.py:get()- No need to evaluate\n"
     ]
    },
    {
     "name": "stderr",
     "output_type": "stream",
     "text": [
      "INFO\tTask(Task-2) nodify.node.139839764485936:node.py:get()- No need to evaluate\n"
     ]
    },
    {
     "name": "stderr",
     "output_type": "stream",
     "text": [
      "INFO\tTask(Task-2) nodify.node.139839764486560:node.py:get()- No need to evaluate\n"
     ]
    },
    {
     "name": "stderr",
     "output_type": "stream",
     "text": [
      "INFO\tTask(Task-2) nodify.node.139839764492464:node.py:get()- No need to evaluate\n"
     ]
    },
    {
     "name": "stderr",
     "output_type": "stream",
     "text": [
      "INFO\tTask(Task-2) nodify.node.139839764485936:node.py:get()- No need to evaluate\n"
     ]
    },
    {
     "name": "stderr",
     "output_type": "stream",
     "text": [
      "INFO\tTask(Task-2) nodify.node.139839764493040:node.py:get()- No need to evaluate\n"
     ]
    },
    {
     "name": "stderr",
     "output_type": "stream",
     "text": [
      "INFO\tTask(Task-2) nodify.node.139839764490400:node.py:get()- No need to evaluate\n"
     ]
    },
    {
     "name": "stderr",
     "output_type": "stream",
     "text": [
      "INFO\tTask(Task-2) nodify.node.139839764490016:node.py:get()- No need to evaluate\n"
     ]
    },
    {
     "name": "stderr",
     "output_type": "stream",
     "text": [
      "INFO\tTask(Task-2) nodify.node.139839764492752:node.py:get()- No need to evaluate\n"
     ]
    },
    {
     "name": "stderr",
     "output_type": "stream",
     "text": [
      "INFO\tTask(Task-2) nodify.node.139839764493184:node.py:get()- Evaluated because inputs changed.\n"
     ]
    },
    {
     "name": "stderr",
     "output_type": "stream",
     "text": [
      "INFO\tTask(Task-2) nodify.node.139839764494048:node.py:get()- Evaluated because inputs changed.\n"
     ]
    },
    {
     "name": "stderr",
     "output_type": "stream",
     "text": [
      "INFO\tTask(Task-2) nodify.node.139839764628064:node.py:get()- Evaluated because inputs changed.\n"
     ]
    },
    {
     "data": {
      "application/vnd.plotly.v1+json": {
       "config": {
        "plotlyServerURL": "https://plot.ly"
       },
       "data": [
        {
         "coloraxis": "coloraxis",
         "meta": {},
         "opacity": 1,
         "texttemplate": "%{z:.2f}",
         "type": "heatmap",
         "z": {
          "bdata": "4JCpuuPRpL+Y7HLsBUy2Py4xCYhNKdK/zOQ+RZxxyL+49usRigW6PwAAAAAAAPh/AAAAAAAA+H8AAAAAAAD4fwAAAAAAAPh/2VCyPxDyqr8AAAAAAAD4fwAAAAAAAPh/AAAAAAAA+H8AAAAAAAD4fwAAAAAAAPh/mOxy7AVMtj8Q82TzA/zOv+BoIXZYoJQ/gNYsWTMqpD+QTED17n2jvwAAAAAAAPh/AAAAAAAA+H8AAAAAAAD4fwAAAAAAAPh/bIHAm3jrnT8AAAAAAAD4fwAAAAAAAPh/AAAAAAAA+H8AAAAAAAD4fwAAAAAAAPh/LjEJiE0p0r/gaCF2WKCUP1g8rJicRto/MHeeZEVSsb9mFzTSrXHfvwAAAAAAAPh/AAAAAAAA+H8AAAAAAAD4fwAAAAAAAPh/onJ1yC99xr8AAAAAAAD4fwAAAAAAAPh/AAAAAAAA+H8AAAAAAAD4fwAAAAAAAPh/zOQ+RZxxyL+A1ixZMyqkPzB3nmRFUrG/CD9o6sOg67+K8JgSdFPgvwAAAAAAAPh/AAAAAAAA+H8AAAAAAAD4fwAAAAAAAPh/+jQzZ88Nkr8AAAAAAAD4fwAAAAAAAPh/AAAAAAAA+H8AAAAAAAD4fwAAAAAAAPh/uPbrEYoFuj+QTED17n2jv2YXNNKtcd+/ivCYEnRT4L/4Sk6fQ/rHvwAAAAAAAPh/AAAAAAAA+H8AAAAAAAD4fwAAAAAAAPh/AAAAAAAA+H/ZULI/EPKqv2yBwJt4650/onJ1yC99xr/6NDNnzw2SvwAAAAAAAPh/",
          "dtype": "f8",
          "shape": "5, 15"
         },
         "zsmooth": false
        }
       ],
       "layout": {
        "coloraxis": {
         "cmid": 0,
         "colorscale": [
          [
           0.0,
           "rgb(0, 147, 146)"
          ],
          [
           0.16666666666666666,
           "rgb(57, 177, 133)"
          ],
          [
           0.3333333333333333,
           "rgb(156, 203, 134)"
          ],
          [
           0.5,
           "rgb(233, 226, 156)"
          ],
          [
           0.6666666666666666,
           "rgb(238, 180, 121)"
          ],
          [
           0.8333333333333334,
           "rgb(232, 132, 113)"
          ],
          [
           1.0,
           "rgb(207, 89, 126)"
          ]
         ],
         "showscale": true
        },
        "scene": {
         "aspectmode": "data",
         "xaxis": {
          "range": [
           -0.5,
           14.5
          ]
         },
         "yaxis": {
          "range": [
           4.5,
           -0.5
          ]
         }
        },
        "template": {
         "layout": {
          "hovermode": "closest",
          "paper_bgcolor": "white",
          "plot_bgcolor": "white",
          "scene": {
           "xaxis": {
            "color": "black",
            "gridcolor": "#ccc",
            "gridwidth": 1,
            "linewidth": 1,
            "mirror": true,
            "showgrid": false,
            "showline": true,
            "ticklen": 5,
            "ticks": "outside",
            "ticksuffix": " ",
            "visible": true,
            "zeroline": false,
            "zerolinecolor": "#ccc",
            "zerolinewidth": 1
           },
           "yaxis": {
            "color": "black",
            "gridcolor": "#ccc",
            "gridwidth": 1,
            "linewidth": 1,
            "mirror": true,
            "showgrid": false,
            "showline": true,
            "ticklen": 5,
            "ticks": "outside",
            "ticksuffix": " ",
            "visible": true,
            "zeroline": false,
            "zerolinecolor": "#ccc",
            "zerolinewidth": 1
           },
           "zaxis": {
            "color": "black",
            "gridcolor": "#ccc",
            "gridwidth": 1,
            "linewidth": 1,
            "mirror": true,
            "showgrid": false,
            "showline": true,
            "ticklen": 5,
            "ticks": "outside",
            "ticksuffix": " ",
            "visible": true,
            "zeroline": false,
            "zerolinecolor": "#ccc",
            "zerolinewidth": 1
           }
          },
          "xaxis": {
           "color": "black",
           "gridcolor": "#ccc",
           "gridwidth": 1,
           "linewidth": 1,
           "mirror": true,
           "showgrid": false,
           "showline": true,
           "ticklen": 5,
           "ticks": "outside",
           "ticksuffix": " ",
           "visible": true,
           "zeroline": false,
           "zerolinecolor": "#ccc",
           "zerolinewidth": 1
          },
          "yaxis": {
           "color": "black",
           "gridcolor": "#ccc",
           "gridwidth": 1,
           "linewidth": 1,
           "mirror": true,
           "showgrid": false,
           "showline": true,
           "ticklen": 5,
           "ticks": "outside",
           "ticksuffix": " ",
           "visible": true,
           "zeroline": false,
           "zerolinecolor": "#ccc",
           "zerolinewidth": 1
          }
         }
        },
        "xaxis": {
         "constrain": "domain",
         "range": [
          -0.5,
          14.5
         ],
         "scaleanchor": "y",
         "scaleratio": 1
        },
        "yaxis": {
         "constrain": "domain",
         "range": [
          4.5,
          -0.5
         ]
        }
       }
      }
     },
     "metadata": {},
     "output_type": "display_data"
    }
   ],
   "source": [
    "plot.update_inputs(text=\".2f\")"
   ]
  },
  {
   "cell_type": "markdown",
   "metadata": {},
   "source": [
    "You can tweak the style of text with the `textfont` input, which is a dictionary with three (optional) keys:\n",
    "\n",
    "- `color`: Text color.\n",
    "- `family`: Font family for the text. Note that different backends might support different fonts.\n",
    "- `size`: The size of the font.\n",
    "\n",
    "The default value will be used for any key that you don't include in the dictionary."
   ]
  },
  {
   "cell_type": "code",
   "execution_count": 9,
   "metadata": {
    "execution": {
     "iopub.execute_input": "2025-09-23T10:47:12.850608Z",
     "iopub.status.busy": "2025-09-23T10:47:12.850419Z",
     "iopub.status.idle": "2025-09-23T10:47:12.931602Z",
     "shell.execute_reply": "2025-09-23T10:47:12.931111Z"
    }
   },
   "outputs": [
    {
     "name": "stderr",
     "output_type": "stream",
     "text": [
      "INFO\tTask(Task-2) nodify.node.139839764491168:node.py:get()- No need to evaluate\n"
     ]
    },
    {
     "name": "stderr",
     "output_type": "stream",
     "text": [
      "INFO\tTask(Task-2) nodify.node.139839764485936:node.py:get()- No need to evaluate\n"
     ]
    },
    {
     "name": "stderr",
     "output_type": "stream",
     "text": [
      "INFO\tTask(Task-2) nodify.node.139839764484352:node.py:get()- No need to evaluate\n"
     ]
    },
    {
     "name": "stderr",
     "output_type": "stream",
     "text": [
      "INFO\tTask(Task-2) nodify.node.139839764485888:node.py:get()- No need to evaluate\n"
     ]
    },
    {
     "name": "stderr",
     "output_type": "stream",
     "text": [
      "INFO\tTask(Task-2) nodify.node.139839764484688:node.py:get()- No need to evaluate\n"
     ]
    },
    {
     "name": "stderr",
     "output_type": "stream",
     "text": [
      "INFO\tTask(Task-2) nodify.node.139839764492944:node.py:get()- No need to evaluate\n"
     ]
    },
    {
     "name": "stderr",
     "output_type": "stream",
     "text": [
      "INFO\tTask(Task-2) nodify.node.139839764488096:node.py:get()- No need to evaluate\n"
     ]
    },
    {
     "name": "stderr",
     "output_type": "stream",
     "text": [
      "INFO\tTask(Task-2) nodify.node.139839764488480:node.py:get()- No need to evaluate\n"
     ]
    },
    {
     "name": "stderr",
     "output_type": "stream",
     "text": [
      "INFO\tTask(Task-2) nodify.node.139839764485936:node.py:get()- No need to evaluate\n"
     ]
    },
    {
     "name": "stderr",
     "output_type": "stream",
     "text": [
      "INFO\tTask(Task-2) nodify.node.139839764488864:node.py:get()- No need to evaluate\n"
     ]
    },
    {
     "name": "stderr",
     "output_type": "stream",
     "text": [
      "INFO\tTask(Task-2) nodify.node.139839764488480:node.py:get()- No need to evaluate\n"
     ]
    },
    {
     "name": "stderr",
     "output_type": "stream",
     "text": [
      "INFO\tTask(Task-2) nodify.node.139839764494240:node.py:get()- No need to evaluate\n"
     ]
    },
    {
     "name": "stderr",
     "output_type": "stream",
     "text": [
      "INFO\tTask(Task-2) nodify.node.139839764487712:node.py:get()- No need to evaluate\n"
     ]
    },
    {
     "name": "stderr",
     "output_type": "stream",
     "text": [
      "INFO\tTask(Task-2) nodify.node.139839764489248:node.py:get()- No need to evaluate\n"
     ]
    },
    {
     "name": "stderr",
     "output_type": "stream",
     "text": [
      "INFO\tTask(Task-2) nodify.node.139839764489632:node.py:get()- Evaluated because inputs changed.\n"
     ]
    },
    {
     "name": "stderr",
     "output_type": "stream",
     "text": [
      "INFO\tTask(Task-2) nodify.node.139839764494144:node.py:get()- Evaluated because inputs changed.\n"
     ]
    },
    {
     "name": "stderr",
     "output_type": "stream",
     "text": [
      "INFO\tTask(Task-2) nodify.node.139839764485936:node.py:get()- No need to evaluate\n"
     ]
    },
    {
     "name": "stderr",
     "output_type": "stream",
     "text": [
      "INFO\tTask(Task-2) nodify.node.139839764484352:node.py:get()- No need to evaluate\n"
     ]
    },
    {
     "name": "stderr",
     "output_type": "stream",
     "text": [
      "INFO\tTask(Task-2) nodify.node.139839764485888:node.py:get()- No need to evaluate\n"
     ]
    },
    {
     "name": "stderr",
     "output_type": "stream",
     "text": [
      "INFO\tTask(Task-2) nodify.node.139839764484688:node.py:get()- No need to evaluate\n"
     ]
    },
    {
     "name": "stderr",
     "output_type": "stream",
     "text": [
      "INFO\tTask(Task-2) nodify.node.139839764492944:node.py:get()- No need to evaluate\n"
     ]
    },
    {
     "name": "stderr",
     "output_type": "stream",
     "text": [
      "INFO\tTask(Task-2) nodify.node.139839764490784:node.py:get()- No need to evaluate\n"
     ]
    },
    {
     "name": "stderr",
     "output_type": "stream",
     "text": [
      "INFO\tTask(Task-2) nodify.node.139839764494912:node.py:get()- No need to evaluate\n"
     ]
    },
    {
     "name": "stderr",
     "output_type": "stream",
     "text": [
      "INFO\tTask(Task-2) nodify.node.139839764494288:node.py:get()- No need to evaluate\n"
     ]
    },
    {
     "name": "stderr",
     "output_type": "stream",
     "text": [
      "INFO\tTask(Task-2) nodify.node.139839764486896:node.py:get()- No need to evaluate\n"
     ]
    },
    {
     "name": "stderr",
     "output_type": "stream",
     "text": [
      "INFO\tTask(Task-2) nodify.node.139839764485936:node.py:get()- No need to evaluate\n"
     ]
    },
    {
     "name": "stderr",
     "output_type": "stream",
     "text": [
      "INFO\tTask(Task-2) nodify.node.139839764486560:node.py:get()- No need to evaluate\n"
     ]
    },
    {
     "name": "stderr",
     "output_type": "stream",
     "text": [
      "INFO\tTask(Task-2) nodify.node.139839764492464:node.py:get()- No need to evaluate\n"
     ]
    },
    {
     "name": "stderr",
     "output_type": "stream",
     "text": [
      "INFO\tTask(Task-2) nodify.node.139839764485936:node.py:get()- No need to evaluate\n"
     ]
    },
    {
     "name": "stderr",
     "output_type": "stream",
     "text": [
      "INFO\tTask(Task-2) nodify.node.139839764493040:node.py:get()- No need to evaluate\n"
     ]
    },
    {
     "name": "stderr",
     "output_type": "stream",
     "text": [
      "INFO\tTask(Task-2) nodify.node.139839764494960:node.py:get()- No need to evaluate\n"
     ]
    },
    {
     "name": "stderr",
     "output_type": "stream",
     "text": [
      "INFO\tTask(Task-2) nodify.node.139839764485168:node.py:get()- No need to evaluate\n"
     ]
    },
    {
     "name": "stderr",
     "output_type": "stream",
     "text": [
      "INFO\tTask(Task-2) nodify.node.139839764485936:node.py:get()- No need to evaluate\n"
     ]
    },
    {
     "name": "stderr",
     "output_type": "stream",
     "text": [
      "INFO\tTask(Task-2) nodify.node.139839764486560:node.py:get()- No need to evaluate\n"
     ]
    },
    {
     "name": "stderr",
     "output_type": "stream",
     "text": [
      "INFO\tTask(Task-2) nodify.node.139839764492464:node.py:get()- No need to evaluate\n"
     ]
    },
    {
     "name": "stderr",
     "output_type": "stream",
     "text": [
      "INFO\tTask(Task-2) nodify.node.139839764485936:node.py:get()- No need to evaluate\n"
     ]
    },
    {
     "name": "stderr",
     "output_type": "stream",
     "text": [
      "INFO\tTask(Task-2) nodify.node.139839764493040:node.py:get()- No need to evaluate\n"
     ]
    },
    {
     "name": "stderr",
     "output_type": "stream",
     "text": [
      "INFO\tTask(Task-2) nodify.node.139839764495632:node.py:get()- No need to evaluate\n"
     ]
    },
    {
     "name": "stderr",
     "output_type": "stream",
     "text": [
      "INFO\tTask(Task-2) nodify.node.139839764487280:node.py:get()- No need to evaluate\n"
     ]
    },
    {
     "name": "stderr",
     "output_type": "stream",
     "text": [
      "INFO\tTask(Task-2) nodify.node.139839764485936:node.py:get()- No need to evaluate\n"
     ]
    },
    {
     "name": "stderr",
     "output_type": "stream",
     "text": [
      "INFO\tTask(Task-2) nodify.node.139839764486560:node.py:get()- No need to evaluate\n"
     ]
    },
    {
     "name": "stderr",
     "output_type": "stream",
     "text": [
      "INFO\tTask(Task-2) nodify.node.139839764492464:node.py:get()- No need to evaluate\n"
     ]
    },
    {
     "name": "stderr",
     "output_type": "stream",
     "text": [
      "INFO\tTask(Task-2) nodify.node.139839764485936:node.py:get()- No need to evaluate\n"
     ]
    },
    {
     "name": "stderr",
     "output_type": "stream",
     "text": [
      "INFO\tTask(Task-2) nodify.node.139839764493040:node.py:get()- No need to evaluate\n"
     ]
    },
    {
     "name": "stderr",
     "output_type": "stream",
     "text": [
      "INFO\tTask(Task-2) nodify.node.139839764495968:node.py:get()- No need to evaluate\n"
     ]
    },
    {
     "name": "stderr",
     "output_type": "stream",
     "text": [
      "INFO\tTask(Task-2) nodify.node.139839764485936:node.py:get()- No need to evaluate\n"
     ]
    },
    {
     "name": "stderr",
     "output_type": "stream",
     "text": [
      "INFO\tTask(Task-2) nodify.node.139839764484352:node.py:get()- No need to evaluate\n"
     ]
    },
    {
     "name": "stderr",
     "output_type": "stream",
     "text": [
      "INFO\tTask(Task-2) nodify.node.139839764485888:node.py:get()- No need to evaluate\n"
     ]
    },
    {
     "name": "stderr",
     "output_type": "stream",
     "text": [
      "INFO\tTask(Task-2) nodify.node.139839764484688:node.py:get()- No need to evaluate\n"
     ]
    },
    {
     "name": "stderr",
     "output_type": "stream",
     "text": [
      "INFO\tTask(Task-2) nodify.node.139839764492944:node.py:get()- No need to evaluate\n"
     ]
    },
    {
     "name": "stderr",
     "output_type": "stream",
     "text": [
      "INFO\tTask(Task-2) nodify.node.139839764485936:node.py:get()- No need to evaluate\n"
     ]
    },
    {
     "name": "stderr",
     "output_type": "stream",
     "text": [
      "INFO\tTask(Task-2) nodify.node.139839764486560:node.py:get()- No need to evaluate\n"
     ]
    },
    {
     "name": "stderr",
     "output_type": "stream",
     "text": [
      "INFO\tTask(Task-2) nodify.node.139839764492464:node.py:get()- No need to evaluate\n"
     ]
    },
    {
     "name": "stderr",
     "output_type": "stream",
     "text": [
      "INFO\tTask(Task-2) nodify.node.139839764485936:node.py:get()- No need to evaluate\n"
     ]
    },
    {
     "name": "stderr",
     "output_type": "stream",
     "text": [
      "INFO\tTask(Task-2) nodify.node.139839764493040:node.py:get()- No need to evaluate\n"
     ]
    },
    {
     "name": "stderr",
     "output_type": "stream",
     "text": [
      "INFO\tTask(Task-2) nodify.node.139839764490400:node.py:get()- No need to evaluate\n"
     ]
    },
    {
     "name": "stderr",
     "output_type": "stream",
     "text": [
      "INFO\tTask(Task-2) nodify.node.139839764490016:node.py:get()- No need to evaluate\n"
     ]
    },
    {
     "name": "stderr",
     "output_type": "stream",
     "text": [
      "INFO\tTask(Task-2) nodify.node.139839764492752:node.py:get()- No need to evaluate\n"
     ]
    },
    {
     "name": "stderr",
     "output_type": "stream",
     "text": [
      "INFO\tTask(Task-2) nodify.node.139839764493184:node.py:get()- Evaluated because inputs changed.\n"
     ]
    },
    {
     "name": "stderr",
     "output_type": "stream",
     "text": [
      "INFO\tTask(Task-2) nodify.node.139839764494048:node.py:get()- Evaluated because inputs changed.\n"
     ]
    },
    {
     "name": "stderr",
     "output_type": "stream",
     "text": [
      "INFO\tTask(Task-2) nodify.node.139839764628064:node.py:get()- Evaluated because inputs changed.\n"
     ]
    },
    {
     "data": {
      "application/vnd.plotly.v1+json": {
       "config": {
        "plotlyServerURL": "https://plot.ly"
       },
       "data": [
        {
         "coloraxis": "coloraxis",
         "meta": {},
         "opacity": 1,
         "text": [
          [
           "-0.04",
           "0.09",
           "-0.28",
           "-0.19",
           "0.10",
           "",
           "",
           "",
           "",
           "-0.05",
           "",
           "",
           "",
           "",
           ""
          ],
          [
           "0.09",
           "-0.24",
           "0.02",
           "0.04",
           "-0.04",
           "",
           "",
           "",
           "",
           "0.03",
           "",
           "",
           "",
           "",
           ""
          ],
          [
           "-0.28",
           "0.02",
           "0.41",
           "-0.07",
           "-0.49",
           "",
           "",
           "",
           "",
           "-0.18",
           "",
           "",
           "",
           "",
           ""
          ],
          [
           "-0.19",
           "0.04",
           "-0.07",
           "-0.86",
           "-0.51",
           "",
           "",
           "",
           "",
           "-0.02",
           "",
           "",
           "",
           "",
           ""
          ],
          [
           "0.10",
           "-0.04",
           "-0.49",
           "-0.51",
           "-0.19",
           "",
           "",
           "",
           "",
           "",
           "-0.05",
           "0.03",
           "-0.18",
           "-0.02",
           ""
          ]
         ],
         "textfont": {
          "color": "blue",
          "family": "times",
          "size": 15
         },
         "texttemplate": "%{text}",
         "type": "heatmap",
         "z": {
          "bdata": "4JCpuuPRpL+Y7HLsBUy2Py4xCYhNKdK/zOQ+RZxxyL+49usRigW6PwAAAAAAAPh/AAAAAAAA+H8AAAAAAAD4fwAAAAAAAPh/2VCyPxDyqr8AAAAAAAD4fwAAAAAAAPh/AAAAAAAA+H8AAAAAAAD4fwAAAAAAAPh/mOxy7AVMtj8Q82TzA/zOv+BoIXZYoJQ/gNYsWTMqpD+QTED17n2jvwAAAAAAAPh/AAAAAAAA+H8AAAAAAAD4fwAAAAAAAPh/bIHAm3jrnT8AAAAAAAD4fwAAAAAAAPh/AAAAAAAA+H8AAAAAAAD4fwAAAAAAAPh/LjEJiE0p0r/gaCF2WKCUP1g8rJicRto/MHeeZEVSsb9mFzTSrXHfvwAAAAAAAPh/AAAAAAAA+H8AAAAAAAD4fwAAAAAAAPh/onJ1yC99xr8AAAAAAAD4fwAAAAAAAPh/AAAAAAAA+H8AAAAAAAD4fwAAAAAAAPh/zOQ+RZxxyL+A1ixZMyqkPzB3nmRFUrG/CD9o6sOg67+K8JgSdFPgvwAAAAAAAPh/AAAAAAAA+H8AAAAAAAD4fwAAAAAAAPh/+jQzZ88Nkr8AAAAAAAD4fwAAAAAAAPh/AAAAAAAA+H8AAAAAAAD4fwAAAAAAAPh/uPbrEYoFuj+QTED17n2jv2YXNNKtcd+/ivCYEnRT4L/4Sk6fQ/rHvwAAAAAAAPh/AAAAAAAA+H8AAAAAAAD4fwAAAAAAAPh/AAAAAAAA+H/ZULI/EPKqv2yBwJt4650/onJ1yC99xr/6NDNnzw2SvwAAAAAAAPh/",
          "dtype": "f8",
          "shape": "5, 15"
         },
         "zsmooth": false
        }
       ],
       "layout": {
        "coloraxis": {
         "cmid": 0,
         "colorscale": [
          [
           0.0,
           "rgb(0, 147, 146)"
          ],
          [
           0.16666666666666666,
           "rgb(57, 177, 133)"
          ],
          [
           0.3333333333333333,
           "rgb(156, 203, 134)"
          ],
          [
           0.5,
           "rgb(233, 226, 156)"
          ],
          [
           0.6666666666666666,
           "rgb(238, 180, 121)"
          ],
          [
           0.8333333333333334,
           "rgb(232, 132, 113)"
          ],
          [
           1.0,
           "rgb(207, 89, 126)"
          ]
         ],
         "showscale": true
        },
        "scene": {
         "aspectmode": "data",
         "xaxis": {
          "range": [
           -0.5,
           14.5
          ]
         },
         "yaxis": {
          "range": [
           4.5,
           -0.5
          ]
         }
        },
        "template": {
         "layout": {
          "hovermode": "closest",
          "paper_bgcolor": "white",
          "plot_bgcolor": "white",
          "scene": {
           "xaxis": {
            "color": "black",
            "gridcolor": "#ccc",
            "gridwidth": 1,
            "linewidth": 1,
            "mirror": true,
            "showgrid": false,
            "showline": true,
            "ticklen": 5,
            "ticks": "outside",
            "ticksuffix": " ",
            "visible": true,
            "zeroline": false,
            "zerolinecolor": "#ccc",
            "zerolinewidth": 1
           },
           "yaxis": {
            "color": "black",
            "gridcolor": "#ccc",
            "gridwidth": 1,
            "linewidth": 1,
            "mirror": true,
            "showgrid": false,
            "showline": true,
            "ticklen": 5,
            "ticks": "outside",
            "ticksuffix": " ",
            "visible": true,
            "zeroline": false,
            "zerolinecolor": "#ccc",
            "zerolinewidth": 1
           },
           "zaxis": {
            "color": "black",
            "gridcolor": "#ccc",
            "gridwidth": 1,
            "linewidth": 1,
            "mirror": true,
            "showgrid": false,
            "showline": true,
            "ticklen": 5,
            "ticks": "outside",
            "ticksuffix": " ",
            "visible": true,
            "zeroline": false,
            "zerolinecolor": "#ccc",
            "zerolinewidth": 1
           }
          },
          "xaxis": {
           "color": "black",
           "gridcolor": "#ccc",
           "gridwidth": 1,
           "linewidth": 1,
           "mirror": true,
           "showgrid": false,
           "showline": true,
           "ticklen": 5,
           "ticks": "outside",
           "ticksuffix": " ",
           "visible": true,
           "zeroline": false,
           "zerolinecolor": "#ccc",
           "zerolinewidth": 1
          },
          "yaxis": {
           "color": "black",
           "gridcolor": "#ccc",
           "gridwidth": 1,
           "linewidth": 1,
           "mirror": true,
           "showgrid": false,
           "showline": true,
           "ticklen": 5,
           "ticks": "outside",
           "ticksuffix": " ",
           "visible": true,
           "zeroline": false,
           "zerolinecolor": "#ccc",
           "zerolinewidth": 1
          }
         }
        },
        "xaxis": {
         "constrain": "domain",
         "range": [
          -0.5,
          14.5
         ],
         "scaleanchor": "y",
         "scaleratio": 1
        },
        "yaxis": {
         "constrain": "domain",
         "range": [
          4.5,
          -0.5
         ]
        }
       }
      }
     },
     "metadata": {},
     "output_type": "display_data"
    }
   ],
   "source": [
    "plot.update_inputs(textfont={\"color\": \"blue\", \"family\": \"times\", \"size\": 15})"
   ]
  },
  {
   "cell_type": "markdown",
   "metadata": {},
   "source": [
    "If you want the text to go away, set the `text` input to `None`:"
   ]
  },
  {
   "cell_type": "code",
   "execution_count": 10,
   "metadata": {
    "execution": {
     "iopub.execute_input": "2025-09-23T10:47:12.933290Z",
     "iopub.status.busy": "2025-09-23T10:47:12.933119Z",
     "iopub.status.idle": "2025-09-23T10:47:13.016178Z",
     "shell.execute_reply": "2025-09-23T10:47:13.015720Z"
    }
   },
   "outputs": [
    {
     "name": "stderr",
     "output_type": "stream",
     "text": [
      "INFO\tTask(Task-2) nodify.node.139839764491168:node.py:get()- No need to evaluate\n"
     ]
    },
    {
     "name": "stderr",
     "output_type": "stream",
     "text": [
      "INFO\tTask(Task-2) nodify.node.139839764485936:node.py:get()- No need to evaluate\n"
     ]
    },
    {
     "name": "stderr",
     "output_type": "stream",
     "text": [
      "INFO\tTask(Task-2) nodify.node.139839764484352:node.py:get()- No need to evaluate\n"
     ]
    },
    {
     "name": "stderr",
     "output_type": "stream",
     "text": [
      "INFO\tTask(Task-2) nodify.node.139839764485888:node.py:get()- No need to evaluate\n"
     ]
    },
    {
     "name": "stderr",
     "output_type": "stream",
     "text": [
      "INFO\tTask(Task-2) nodify.node.139839764484688:node.py:get()- No need to evaluate\n"
     ]
    },
    {
     "name": "stderr",
     "output_type": "stream",
     "text": [
      "INFO\tTask(Task-2) nodify.node.139839764492944:node.py:get()- No need to evaluate\n"
     ]
    },
    {
     "name": "stderr",
     "output_type": "stream",
     "text": [
      "INFO\tTask(Task-2) nodify.node.139839764488096:node.py:get()- No need to evaluate\n"
     ]
    },
    {
     "name": "stderr",
     "output_type": "stream",
     "text": [
      "INFO\tTask(Task-2) nodify.node.139839764488480:node.py:get()- No need to evaluate\n"
     ]
    },
    {
     "name": "stderr",
     "output_type": "stream",
     "text": [
      "INFO\tTask(Task-2) nodify.node.139839764485936:node.py:get()- No need to evaluate\n"
     ]
    },
    {
     "name": "stderr",
     "output_type": "stream",
     "text": [
      "INFO\tTask(Task-2) nodify.node.139839764488864:node.py:get()- No need to evaluate\n"
     ]
    },
    {
     "name": "stderr",
     "output_type": "stream",
     "text": [
      "INFO\tTask(Task-2) nodify.node.139839764488480:node.py:get()- No need to evaluate\n"
     ]
    },
    {
     "name": "stderr",
     "output_type": "stream",
     "text": [
      "INFO\tTask(Task-2) nodify.node.139839764494240:node.py:get()- No need to evaluate\n"
     ]
    },
    {
     "name": "stderr",
     "output_type": "stream",
     "text": [
      "INFO\tTask(Task-2) nodify.node.139839764487712:node.py:get()- No need to evaluate\n"
     ]
    },
    {
     "name": "stderr",
     "output_type": "stream",
     "text": [
      "INFO\tTask(Task-2) nodify.node.139839764489248:node.py:get()- Evaluated because inputs changed.\n"
     ]
    },
    {
     "name": "stderr",
     "output_type": "stream",
     "text": [
      "INFO\tTask(Task-2) nodify.node.139839764489632:node.py:get()- No need to evaluate\n"
     ]
    },
    {
     "name": "stderr",
     "output_type": "stream",
     "text": [
      "INFO\tTask(Task-2) nodify.node.139839764494144:node.py:get()- Evaluated because inputs changed.\n"
     ]
    },
    {
     "name": "stderr",
     "output_type": "stream",
     "text": [
      "INFO\tTask(Task-2) nodify.node.139839764485936:node.py:get()- No need to evaluate\n"
     ]
    },
    {
     "name": "stderr",
     "output_type": "stream",
     "text": [
      "INFO\tTask(Task-2) nodify.node.139839764484352:node.py:get()- No need to evaluate\n"
     ]
    },
    {
     "name": "stderr",
     "output_type": "stream",
     "text": [
      "INFO\tTask(Task-2) nodify.node.139839764485888:node.py:get()- No need to evaluate\n"
     ]
    },
    {
     "name": "stderr",
     "output_type": "stream",
     "text": [
      "INFO\tTask(Task-2) nodify.node.139839764484688:node.py:get()- No need to evaluate\n"
     ]
    },
    {
     "name": "stderr",
     "output_type": "stream",
     "text": [
      "INFO\tTask(Task-2) nodify.node.139839764492944:node.py:get()- No need to evaluate\n"
     ]
    },
    {
     "name": "stderr",
     "output_type": "stream",
     "text": [
      "INFO\tTask(Task-2) nodify.node.139839764490784:node.py:get()- No need to evaluate\n"
     ]
    },
    {
     "name": "stderr",
     "output_type": "stream",
     "text": [
      "INFO\tTask(Task-2) nodify.node.139839764494912:node.py:get()- No need to evaluate\n"
     ]
    },
    {
     "name": "stderr",
     "output_type": "stream",
     "text": [
      "INFO\tTask(Task-2) nodify.node.139839764494288:node.py:get()- No need to evaluate\n"
     ]
    },
    {
     "name": "stderr",
     "output_type": "stream",
     "text": [
      "INFO\tTask(Task-2) nodify.node.139839764486896:node.py:get()- No need to evaluate\n"
     ]
    },
    {
     "name": "stderr",
     "output_type": "stream",
     "text": [
      "INFO\tTask(Task-2) nodify.node.139839764485936:node.py:get()- No need to evaluate\n"
     ]
    },
    {
     "name": "stderr",
     "output_type": "stream",
     "text": [
      "INFO\tTask(Task-2) nodify.node.139839764486560:node.py:get()- No need to evaluate\n"
     ]
    },
    {
     "name": "stderr",
     "output_type": "stream",
     "text": [
      "INFO\tTask(Task-2) nodify.node.139839764492464:node.py:get()- No need to evaluate\n"
     ]
    },
    {
     "name": "stderr",
     "output_type": "stream",
     "text": [
      "INFO\tTask(Task-2) nodify.node.139839764485936:node.py:get()- No need to evaluate\n"
     ]
    },
    {
     "name": "stderr",
     "output_type": "stream",
     "text": [
      "INFO\tTask(Task-2) nodify.node.139839764493040:node.py:get()- No need to evaluate\n"
     ]
    },
    {
     "name": "stderr",
     "output_type": "stream",
     "text": [
      "INFO\tTask(Task-2) nodify.node.139839764494960:node.py:get()- No need to evaluate\n"
     ]
    },
    {
     "name": "stderr",
     "output_type": "stream",
     "text": [
      "INFO\tTask(Task-2) nodify.node.139839764485168:node.py:get()- No need to evaluate\n"
     ]
    },
    {
     "name": "stderr",
     "output_type": "stream",
     "text": [
      "INFO\tTask(Task-2) nodify.node.139839764485936:node.py:get()- No need to evaluate\n"
     ]
    },
    {
     "name": "stderr",
     "output_type": "stream",
     "text": [
      "INFO\tTask(Task-2) nodify.node.139839764486560:node.py:get()- No need to evaluate\n"
     ]
    },
    {
     "name": "stderr",
     "output_type": "stream",
     "text": [
      "INFO\tTask(Task-2) nodify.node.139839764492464:node.py:get()- No need to evaluate\n"
     ]
    },
    {
     "name": "stderr",
     "output_type": "stream",
     "text": [
      "INFO\tTask(Task-2) nodify.node.139839764485936:node.py:get()- No need to evaluate\n"
     ]
    },
    {
     "name": "stderr",
     "output_type": "stream",
     "text": [
      "INFO\tTask(Task-2) nodify.node.139839764493040:node.py:get()- No need to evaluate\n"
     ]
    },
    {
     "name": "stderr",
     "output_type": "stream",
     "text": [
      "INFO\tTask(Task-2) nodify.node.139839764495632:node.py:get()- No need to evaluate\n"
     ]
    },
    {
     "name": "stderr",
     "output_type": "stream",
     "text": [
      "INFO\tTask(Task-2) nodify.node.139839764487280:node.py:get()- No need to evaluate\n"
     ]
    },
    {
     "name": "stderr",
     "output_type": "stream",
     "text": [
      "INFO\tTask(Task-2) nodify.node.139839764485936:node.py:get()- No need to evaluate\n"
     ]
    },
    {
     "name": "stderr",
     "output_type": "stream",
     "text": [
      "INFO\tTask(Task-2) nodify.node.139839764486560:node.py:get()- No need to evaluate\n"
     ]
    },
    {
     "name": "stderr",
     "output_type": "stream",
     "text": [
      "INFO\tTask(Task-2) nodify.node.139839764492464:node.py:get()- No need to evaluate\n"
     ]
    },
    {
     "name": "stderr",
     "output_type": "stream",
     "text": [
      "INFO\tTask(Task-2) nodify.node.139839764485936:node.py:get()- No need to evaluate\n"
     ]
    },
    {
     "name": "stderr",
     "output_type": "stream",
     "text": [
      "INFO\tTask(Task-2) nodify.node.139839764493040:node.py:get()- No need to evaluate\n"
     ]
    },
    {
     "name": "stderr",
     "output_type": "stream",
     "text": [
      "INFO\tTask(Task-2) nodify.node.139839764495968:node.py:get()- No need to evaluate\n"
     ]
    },
    {
     "name": "stderr",
     "output_type": "stream",
     "text": [
      "INFO\tTask(Task-2) nodify.node.139839764485936:node.py:get()- No need to evaluate\n"
     ]
    },
    {
     "name": "stderr",
     "output_type": "stream",
     "text": [
      "INFO\tTask(Task-2) nodify.node.139839764484352:node.py:get()- No need to evaluate\n"
     ]
    },
    {
     "name": "stderr",
     "output_type": "stream",
     "text": [
      "INFO\tTask(Task-2) nodify.node.139839764485888:node.py:get()- No need to evaluate\n"
     ]
    },
    {
     "name": "stderr",
     "output_type": "stream",
     "text": [
      "INFO\tTask(Task-2) nodify.node.139839764484688:node.py:get()- No need to evaluate\n"
     ]
    },
    {
     "name": "stderr",
     "output_type": "stream",
     "text": [
      "INFO\tTask(Task-2) nodify.node.139839764492944:node.py:get()- No need to evaluate\n"
     ]
    },
    {
     "name": "stderr",
     "output_type": "stream",
     "text": [
      "INFO\tTask(Task-2) nodify.node.139839764485936:node.py:get()- No need to evaluate\n"
     ]
    },
    {
     "name": "stderr",
     "output_type": "stream",
     "text": [
      "INFO\tTask(Task-2) nodify.node.139839764486560:node.py:get()- No need to evaluate\n"
     ]
    },
    {
     "name": "stderr",
     "output_type": "stream",
     "text": [
      "INFO\tTask(Task-2) nodify.node.139839764492464:node.py:get()- No need to evaluate\n"
     ]
    },
    {
     "name": "stderr",
     "output_type": "stream",
     "text": [
      "INFO\tTask(Task-2) nodify.node.139839764485936:node.py:get()- No need to evaluate\n"
     ]
    },
    {
     "name": "stderr",
     "output_type": "stream",
     "text": [
      "INFO\tTask(Task-2) nodify.node.139839764493040:node.py:get()- No need to evaluate\n"
     ]
    },
    {
     "name": "stderr",
     "output_type": "stream",
     "text": [
      "INFO\tTask(Task-2) nodify.node.139839764490400:node.py:get()- No need to evaluate\n"
     ]
    },
    {
     "name": "stderr",
     "output_type": "stream",
     "text": [
      "INFO\tTask(Task-2) nodify.node.139839764490016:node.py:get()- No need to evaluate\n"
     ]
    },
    {
     "name": "stderr",
     "output_type": "stream",
     "text": [
      "INFO\tTask(Task-2) nodify.node.139839764492752:node.py:get()- No need to evaluate\n"
     ]
    },
    {
     "name": "stderr",
     "output_type": "stream",
     "text": [
      "INFO\tTask(Task-2) nodify.node.139839764493184:node.py:get()- Evaluated because inputs changed.\n"
     ]
    },
    {
     "name": "stderr",
     "output_type": "stream",
     "text": [
      "INFO\tTask(Task-2) nodify.node.139839764494048:node.py:get()- Evaluated because inputs changed.\n"
     ]
    },
    {
     "name": "stderr",
     "output_type": "stream",
     "text": [
      "INFO\tTask(Task-2) nodify.node.139839764628064:node.py:get()- Evaluated because inputs changed.\n"
     ]
    },
    {
     "data": {
      "application/vnd.plotly.v1+json": {
       "config": {
        "plotlyServerURL": "https://plot.ly"
       },
       "data": [
        {
         "coloraxis": "coloraxis",
         "meta": {},
         "opacity": 1,
         "textfont": {
          "color": "blue",
          "family": "times",
          "size": 15
         },
         "type": "heatmap",
         "z": {
          "bdata": "4JCpuuPRpL+Y7HLsBUy2Py4xCYhNKdK/zOQ+RZxxyL+49usRigW6PwAAAAAAAPh/AAAAAAAA+H8AAAAAAAD4fwAAAAAAAPh/2VCyPxDyqr8AAAAAAAD4fwAAAAAAAPh/AAAAAAAA+H8AAAAAAAD4fwAAAAAAAPh/mOxy7AVMtj8Q82TzA/zOv+BoIXZYoJQ/gNYsWTMqpD+QTED17n2jvwAAAAAAAPh/AAAAAAAA+H8AAAAAAAD4fwAAAAAAAPh/bIHAm3jrnT8AAAAAAAD4fwAAAAAAAPh/AAAAAAAA+H8AAAAAAAD4fwAAAAAAAPh/LjEJiE0p0r/gaCF2WKCUP1g8rJicRto/MHeeZEVSsb9mFzTSrXHfvwAAAAAAAPh/AAAAAAAA+H8AAAAAAAD4fwAAAAAAAPh/onJ1yC99xr8AAAAAAAD4fwAAAAAAAPh/AAAAAAAA+H8AAAAAAAD4fwAAAAAAAPh/zOQ+RZxxyL+A1ixZMyqkPzB3nmRFUrG/CD9o6sOg67+K8JgSdFPgvwAAAAAAAPh/AAAAAAAA+H8AAAAAAAD4fwAAAAAAAPh/+jQzZ88Nkr8AAAAAAAD4fwAAAAAAAPh/AAAAAAAA+H8AAAAAAAD4fwAAAAAAAPh/uPbrEYoFuj+QTED17n2jv2YXNNKtcd+/ivCYEnRT4L/4Sk6fQ/rHvwAAAAAAAPh/AAAAAAAA+H8AAAAAAAD4fwAAAAAAAPh/AAAAAAAA+H/ZULI/EPKqv2yBwJt4650/onJ1yC99xr/6NDNnzw2SvwAAAAAAAPh/",
          "dtype": "f8",
          "shape": "5, 15"
         },
         "zsmooth": false
        }
       ],
       "layout": {
        "coloraxis": {
         "cmid": 0,
         "colorscale": [
          [
           0.0,
           "rgb(0, 147, 146)"
          ],
          [
           0.16666666666666666,
           "rgb(57, 177, 133)"
          ],
          [
           0.3333333333333333,
           "rgb(156, 203, 134)"
          ],
          [
           0.5,
           "rgb(233, 226, 156)"
          ],
          [
           0.6666666666666666,
           "rgb(238, 180, 121)"
          ],
          [
           0.8333333333333334,
           "rgb(232, 132, 113)"
          ],
          [
           1.0,
           "rgb(207, 89, 126)"
          ]
         ],
         "showscale": true
        },
        "scene": {
         "aspectmode": "data",
         "xaxis": {
          "range": [
           -0.5,
           14.5
          ]
         },
         "yaxis": {
          "range": [
           4.5,
           -0.5
          ]
         }
        },
        "template": {
         "layout": {
          "hovermode": "closest",
          "paper_bgcolor": "white",
          "plot_bgcolor": "white",
          "scene": {
           "xaxis": {
            "color": "black",
            "gridcolor": "#ccc",
            "gridwidth": 1,
            "linewidth": 1,
            "mirror": true,
            "showgrid": false,
            "showline": true,
            "ticklen": 5,
            "ticks": "outside",
            "ticksuffix": " ",
            "visible": true,
            "zeroline": false,
            "zerolinecolor": "#ccc",
            "zerolinewidth": 1
           },
           "yaxis": {
            "color": "black",
            "gridcolor": "#ccc",
            "gridwidth": 1,
            "linewidth": 1,
            "mirror": true,
            "showgrid": false,
            "showline": true,
            "ticklen": 5,
            "ticks": "outside",
            "ticksuffix": " ",
            "visible": true,
            "zeroline": false,
            "zerolinecolor": "#ccc",
            "zerolinewidth": 1
           },
           "zaxis": {
            "color": "black",
            "gridcolor": "#ccc",
            "gridwidth": 1,
            "linewidth": 1,
            "mirror": true,
            "showgrid": false,
            "showline": true,
            "ticklen": 5,
            "ticks": "outside",
            "ticksuffix": " ",
            "visible": true,
            "zeroline": false,
            "zerolinecolor": "#ccc",
            "zerolinewidth": 1
           }
          },
          "xaxis": {
           "color": "black",
           "gridcolor": "#ccc",
           "gridwidth": 1,
           "linewidth": 1,
           "mirror": true,
           "showgrid": false,
           "showline": true,
           "ticklen": 5,
           "ticks": "outside",
           "ticksuffix": " ",
           "visible": true,
           "zeroline": false,
           "zerolinecolor": "#ccc",
           "zerolinewidth": 1
          },
          "yaxis": {
           "color": "black",
           "gridcolor": "#ccc",
           "gridwidth": 1,
           "linewidth": 1,
           "mirror": true,
           "showgrid": false,
           "showline": true,
           "ticklen": 5,
           "ticks": "outside",
           "ticksuffix": " ",
           "visible": true,
           "zeroline": false,
           "zerolinecolor": "#ccc",
           "zerolinewidth": 1
          }
         }
        },
        "xaxis": {
         "constrain": "domain",
         "range": [
          -0.5,
          14.5
         ],
         "scaleanchor": "y",
         "scaleratio": 1
        },
        "yaxis": {
         "constrain": "domain",
         "range": [
          4.5,
          -0.5
         ]
        }
       }
      }
     },
     "metadata": {},
     "output_type": "display_data"
    }
   ],
   "source": [
    "plot.update_inputs(text=None)"
   ]
  },
  {
   "cell_type": "code",
   "execution_count": 11,
   "metadata": {
    "execution": {
     "iopub.execute_input": "2025-09-23T10:47:13.017731Z",
     "iopub.status.busy": "2025-09-23T10:47:13.017565Z",
     "iopub.status.idle": "2025-09-23T10:47:13.020068Z",
     "shell.execute_reply": "2025-09-23T10:47:13.019610Z"
    }
   },
   "outputs": [],
   "source": [
    "plot = plot.update_inputs(textfont={}, text=\".2f\")"
   ]
  },
  {
   "cell_type": "markdown",
   "metadata": {},
   "source": [
    "## Separators\n",
    "\n",
    "Sparse atomic matrices may be hard to interpret because it's hard to know by eye to which atoms/orbitals an element belongs.\n",
    "\n",
    "Separators come to the rescue by providing a guide for your eye to quickly pinpoint what each element is. There are three types of separators:\n",
    "\n",
    "- `sc_lines`: Draw lines separating the **different cells of the auxiliary supercell**.\n",
    "- `atom_lines`: Draw lines separating the blocks corresponding to **each atom-atom interaction**.\n",
    "- `orbital_lines`: Within each atom, draw lines that **isolate the interactions between two sets of orbitals**. E.g. a set of 3 `p` orbitals from one atom and an `s` orbital from another atom.\n",
    "\n",
    "They all can be activated (deactivated) by setting the corresponding input to `True` (`False`)."
   ]
  },
  {
   "cell_type": "code",
   "execution_count": 12,
   "metadata": {
    "execution": {
     "iopub.execute_input": "2025-09-23T10:47:13.021641Z",
     "iopub.status.busy": "2025-09-23T10:47:13.021462Z",
     "iopub.status.idle": "2025-09-23T10:47:13.110531Z",
     "shell.execute_reply": "2025-09-23T10:47:13.110072Z"
    }
   },
   "outputs": [
    {
     "name": "stderr",
     "output_type": "stream",
     "text": [
      "INFO\tTask(Task-2) nodify.node.139839764491168:node.py:get()- No need to evaluate\n"
     ]
    },
    {
     "name": "stderr",
     "output_type": "stream",
     "text": [
      "INFO\tTask(Task-2) nodify.node.139839764485936:node.py:get()- No need to evaluate\n"
     ]
    },
    {
     "name": "stderr",
     "output_type": "stream",
     "text": [
      "INFO\tTask(Task-2) nodify.node.139839764484352:node.py:get()- No need to evaluate\n"
     ]
    },
    {
     "name": "stderr",
     "output_type": "stream",
     "text": [
      "INFO\tTask(Task-2) nodify.node.139839764485888:node.py:get()- No need to evaluate\n"
     ]
    },
    {
     "name": "stderr",
     "output_type": "stream",
     "text": [
      "INFO\tTask(Task-2) nodify.node.139839764484688:node.py:get()- No need to evaluate\n"
     ]
    },
    {
     "name": "stderr",
     "output_type": "stream",
     "text": [
      "INFO\tTask(Task-2) nodify.node.139839764492944:node.py:get()- No need to evaluate\n"
     ]
    },
    {
     "name": "stderr",
     "output_type": "stream",
     "text": [
      "INFO\tTask(Task-2) nodify.node.139839764488096:node.py:get()- No need to evaluate\n"
     ]
    },
    {
     "name": "stderr",
     "output_type": "stream",
     "text": [
      "INFO\tTask(Task-2) nodify.node.139839764488480:node.py:get()- No need to evaluate\n"
     ]
    },
    {
     "name": "stderr",
     "output_type": "stream",
     "text": [
      "INFO\tTask(Task-2) nodify.node.139839764485936:node.py:get()- No need to evaluate\n"
     ]
    },
    {
     "name": "stderr",
     "output_type": "stream",
     "text": [
      "INFO\tTask(Task-2) nodify.node.139839764488864:node.py:get()- No need to evaluate\n"
     ]
    },
    {
     "name": "stderr",
     "output_type": "stream",
     "text": [
      "INFO\tTask(Task-2) nodify.node.139839764488480:node.py:get()- No need to evaluate\n"
     ]
    },
    {
     "name": "stderr",
     "output_type": "stream",
     "text": [
      "INFO\tTask(Task-2) nodify.node.139839764494240:node.py:get()- No need to evaluate\n"
     ]
    },
    {
     "name": "stderr",
     "output_type": "stream",
     "text": [
      "INFO\tTask(Task-2) nodify.node.139839764487712:node.py:get()- No need to evaluate\n"
     ]
    },
    {
     "name": "stderr",
     "output_type": "stream",
     "text": [
      "INFO\tTask(Task-2) nodify.node.139839764489248:node.py:get()- Evaluated because inputs changed.\n"
     ]
    },
    {
     "name": "stderr",
     "output_type": "stream",
     "text": [
      "INFO\tTask(Task-2) nodify.node.139839764489632:node.py:get()- Evaluated because inputs changed.\n"
     ]
    },
    {
     "name": "stderr",
     "output_type": "stream",
     "text": [
      "INFO\tTask(Task-2) nodify.node.139839764494144:node.py:get()- Evaluated because inputs changed.\n"
     ]
    },
    {
     "name": "stderr",
     "output_type": "stream",
     "text": [
      "INFO\tTask(Task-2) nodify.node.139839764485936:node.py:get()- No need to evaluate\n"
     ]
    },
    {
     "name": "stderr",
     "output_type": "stream",
     "text": [
      "INFO\tTask(Task-2) nodify.node.139839764484352:node.py:get()- No need to evaluate\n"
     ]
    },
    {
     "name": "stderr",
     "output_type": "stream",
     "text": [
      "INFO\tTask(Task-2) nodify.node.139839764485888:node.py:get()- No need to evaluate\n"
     ]
    },
    {
     "name": "stderr",
     "output_type": "stream",
     "text": [
      "INFO\tTask(Task-2) nodify.node.139839764484688:node.py:get()- No need to evaluate\n"
     ]
    },
    {
     "name": "stderr",
     "output_type": "stream",
     "text": [
      "INFO\tTask(Task-2) nodify.node.139839764492944:node.py:get()- No need to evaluate\n"
     ]
    },
    {
     "name": "stderr",
     "output_type": "stream",
     "text": [
      "INFO\tTask(Task-2) nodify.node.139839764490784:node.py:get()- No need to evaluate\n"
     ]
    },
    {
     "name": "stderr",
     "output_type": "stream",
     "text": [
      "INFO\tTask(Task-2) nodify.node.139839764494912:node.py:get()- No need to evaluate\n"
     ]
    },
    {
     "name": "stderr",
     "output_type": "stream",
     "text": [
      "INFO\tTask(Task-2) nodify.node.139839764494288:node.py:get()- No need to evaluate\n"
     ]
    },
    {
     "name": "stderr",
     "output_type": "stream",
     "text": [
      "INFO\tTask(Task-2) nodify.node.139839764486896:node.py:get()- Evaluated because inputs changed.\n"
     ]
    },
    {
     "name": "stderr",
     "output_type": "stream",
     "text": [
      "INFO\tTask(Task-2) nodify.node.139839764485936:node.py:get()- No need to evaluate\n"
     ]
    },
    {
     "name": "stderr",
     "output_type": "stream",
     "text": [
      "INFO\tTask(Task-2) nodify.node.139839764486560:node.py:get()- No need to evaluate\n"
     ]
    },
    {
     "name": "stderr",
     "output_type": "stream",
     "text": [
      "INFO\tTask(Task-2) nodify.node.139839764492464:node.py:get()- No need to evaluate\n"
     ]
    },
    {
     "name": "stderr",
     "output_type": "stream",
     "text": [
      "INFO\tTask(Task-2) nodify.node.139839764485936:node.py:get()- No need to evaluate\n"
     ]
    },
    {
     "name": "stderr",
     "output_type": "stream",
     "text": [
      "INFO\tTask(Task-2) nodify.node.139839764493040:node.py:get()- No need to evaluate\n"
     ]
    },
    {
     "name": "stderr",
     "output_type": "stream",
     "text": [
      "INFO\tTask(Task-2) nodify.node.139839764494960:node.py:get()- Evaluated because inputs changed.\n"
     ]
    },
    {
     "name": "stderr",
     "output_type": "stream",
     "text": [
      "INFO\tTask(Task-2) nodify.node.139839764485168:node.py:get()- Evaluated because inputs changed.\n"
     ]
    },
    {
     "name": "stderr",
     "output_type": "stream",
     "text": [
      "INFO\tTask(Task-2) nodify.node.139839764485936:node.py:get()- No need to evaluate\n"
     ]
    },
    {
     "name": "stderr",
     "output_type": "stream",
     "text": [
      "INFO\tTask(Task-2) nodify.node.139839764486560:node.py:get()- No need to evaluate\n"
     ]
    },
    {
     "name": "stderr",
     "output_type": "stream",
     "text": [
      "INFO\tTask(Task-2) nodify.node.139839764492464:node.py:get()- No need to evaluate\n"
     ]
    },
    {
     "name": "stderr",
     "output_type": "stream",
     "text": [
      "INFO\tTask(Task-2) nodify.node.139839764485936:node.py:get()- No need to evaluate\n"
     ]
    },
    {
     "name": "stderr",
     "output_type": "stream",
     "text": [
      "INFO\tTask(Task-2) nodify.node.139839764493040:node.py:get()- No need to evaluate\n"
     ]
    },
    {
     "name": "stderr",
     "output_type": "stream",
     "text": [
      "INFO\tTask(Task-2) nodify.node.139839764495632:node.py:get()- Evaluated because inputs changed.\n"
     ]
    },
    {
     "name": "stderr",
     "output_type": "stream",
     "text": [
      "INFO\tTask(Task-2) nodify.node.139839764487280:node.py:get()- Evaluated because inputs changed.\n"
     ]
    },
    {
     "name": "stderr",
     "output_type": "stream",
     "text": [
      "INFO\tTask(Task-2) nodify.node.139839764485936:node.py:get()- No need to evaluate\n"
     ]
    },
    {
     "name": "stderr",
     "output_type": "stream",
     "text": [
      "INFO\tTask(Task-2) nodify.node.139839764486560:node.py:get()- No need to evaluate\n"
     ]
    },
    {
     "name": "stderr",
     "output_type": "stream",
     "text": [
      "INFO\tTask(Task-2) nodify.node.139839764492464:node.py:get()- No need to evaluate\n"
     ]
    },
    {
     "name": "stderr",
     "output_type": "stream",
     "text": [
      "INFO\tTask(Task-2) nodify.node.139839764485936:node.py:get()- No need to evaluate\n"
     ]
    },
    {
     "name": "stderr",
     "output_type": "stream",
     "text": [
      "INFO\tTask(Task-2) nodify.node.139839764493040:node.py:get()- No need to evaluate\n"
     ]
    },
    {
     "name": "stderr",
     "output_type": "stream",
     "text": [
      "INFO\tTask(Task-2) nodify.node.139839764495968:node.py:get()- Evaluated because inputs changed.\n"
     ]
    },
    {
     "name": "stderr",
     "output_type": "stream",
     "text": [
      "INFO\tTask(Task-2) nodify.node.139839764485936:node.py:get()- No need to evaluate\n"
     ]
    },
    {
     "name": "stderr",
     "output_type": "stream",
     "text": [
      "INFO\tTask(Task-2) nodify.node.139839764484352:node.py:get()- No need to evaluate\n"
     ]
    },
    {
     "name": "stderr",
     "output_type": "stream",
     "text": [
      "INFO\tTask(Task-2) nodify.node.139839764485888:node.py:get()- No need to evaluate\n"
     ]
    },
    {
     "name": "stderr",
     "output_type": "stream",
     "text": [
      "INFO\tTask(Task-2) nodify.node.139839764484688:node.py:get()- No need to evaluate\n"
     ]
    },
    {
     "name": "stderr",
     "output_type": "stream",
     "text": [
      "INFO\tTask(Task-2) nodify.node.139839764492944:node.py:get()- No need to evaluate\n"
     ]
    },
    {
     "name": "stderr",
     "output_type": "stream",
     "text": [
      "INFO\tTask(Task-2) nodify.node.139839764485936:node.py:get()- No need to evaluate\n"
     ]
    },
    {
     "name": "stderr",
     "output_type": "stream",
     "text": [
      "INFO\tTask(Task-2) nodify.node.139839764486560:node.py:get()- No need to evaluate\n"
     ]
    },
    {
     "name": "stderr",
     "output_type": "stream",
     "text": [
      "INFO\tTask(Task-2) nodify.node.139839764492464:node.py:get()- No need to evaluate\n"
     ]
    },
    {
     "name": "stderr",
     "output_type": "stream",
     "text": [
      "INFO\tTask(Task-2) nodify.node.139839764485936:node.py:get()- No need to evaluate\n"
     ]
    },
    {
     "name": "stderr",
     "output_type": "stream",
     "text": [
      "INFO\tTask(Task-2) nodify.node.139839764493040:node.py:get()- No need to evaluate\n"
     ]
    },
    {
     "name": "stderr",
     "output_type": "stream",
     "text": [
      "INFO\tTask(Task-2) nodify.node.139839764490400:node.py:get()- No need to evaluate\n"
     ]
    },
    {
     "name": "stderr",
     "output_type": "stream",
     "text": [
      "INFO\tTask(Task-2) nodify.node.139839764490016:node.py:get()- No need to evaluate\n"
     ]
    },
    {
     "name": "stderr",
     "output_type": "stream",
     "text": [
      "INFO\tTask(Task-2) nodify.node.139839764492752:node.py:get()- No need to evaluate\n"
     ]
    },
    {
     "name": "stderr",
     "output_type": "stream",
     "text": [
      "INFO\tTask(Task-2) nodify.node.139839764493184:node.py:get()- Evaluated because inputs changed.\n"
     ]
    },
    {
     "name": "stderr",
     "output_type": "stream",
     "text": [
      "INFO\tTask(Task-2) nodify.node.139839764494048:node.py:get()- Evaluated because inputs changed.\n"
     ]
    },
    {
     "name": "stderr",
     "output_type": "stream",
     "text": [
      "INFO\tTask(Task-2) nodify.node.139839764628064:node.py:get()- Evaluated because inputs changed.\n"
     ]
    },
    {
     "data": {
      "application/vnd.plotly.v1+json": {
       "config": {
        "plotlyServerURL": "https://plot.ly"
       },
       "data": [
        {
         "coloraxis": "coloraxis",
         "meta": {},
         "opacity": 1,
         "texttemplate": "%{z:.2f}",
         "type": "heatmap",
         "z": {
          "bdata": "4JCpuuPRpL+Y7HLsBUy2Py4xCYhNKdK/zOQ+RZxxyL+49usRigW6PwAAAAAAAPh/AAAAAAAA+H8AAAAAAAD4fwAAAAAAAPh/2VCyPxDyqr8AAAAAAAD4fwAAAAAAAPh/AAAAAAAA+H8AAAAAAAD4fwAAAAAAAPh/mOxy7AVMtj8Q82TzA/zOv+BoIXZYoJQ/gNYsWTMqpD+QTED17n2jvwAAAAAAAPh/AAAAAAAA+H8AAAAAAAD4fwAAAAAAAPh/bIHAm3jrnT8AAAAAAAD4fwAAAAAAAPh/AAAAAAAA+H8AAAAAAAD4fwAAAAAAAPh/LjEJiE0p0r/gaCF2WKCUP1g8rJicRto/MHeeZEVSsb9mFzTSrXHfvwAAAAAAAPh/AAAAAAAA+H8AAAAAAAD4fwAAAAAAAPh/onJ1yC99xr8AAAAAAAD4fwAAAAAAAPh/AAAAAAAA+H8AAAAAAAD4fwAAAAAAAPh/zOQ+RZxxyL+A1ixZMyqkPzB3nmRFUrG/CD9o6sOg67+K8JgSdFPgvwAAAAAAAPh/AAAAAAAA+H8AAAAAAAD4fwAAAAAAAPh/+jQzZ88Nkr8AAAAAAAD4fwAAAAAAAPh/AAAAAAAA+H8AAAAAAAD4fwAAAAAAAPh/uPbrEYoFuj+QTED17n2jv2YXNNKtcd+/ivCYEnRT4L/4Sk6fQ/rHvwAAAAAAAPh/AAAAAAAA+H8AAAAAAAD4fwAAAAAAAPh/AAAAAAAA+H/ZULI/EPKqv2yBwJt4650/onJ1yC99xr/6NDNnzw2SvwAAAAAAAPh/",
          "dtype": "f8",
          "shape": "5, 15"
         },
         "zsmooth": false
        },
        {
         "line": {
          "color": "black",
          "dash": "dot"
         },
         "meta": {},
         "mode": "lines",
         "name": "orbitals separators",
         "opacity": 1,
         "showlegend": false,
         "type": "scatter",
         "x": {
          "bdata": "AAAAAAAA4L8AAAAAAAASQAAAAAAAAPh/AAAAAAAA4D8AAAAAAADgPwAAAAAAAPh/",
          "dtype": "f8"
         },
         "y": {
          "bdata": "AAAAAAAA4D8AAAAAAADgPwAAAAAAAPh/AAAAAAAA4L8AAAAAAAASQAAAAAAAAPh/",
          "dtype": "f8"
         }
        },
        {
         "line": {
          "color": "orange"
         },
         "meta": {},
         "mode": "lines",
         "name": "atoms separators",
         "opacity": 1,
         "showlegend": false,
         "type": "scatter",
         "x": {
          "bdata": "AAAAAAAA4L8AAAAAAAASQAAAAAAAAPh/AAAAAAAADEAAAAAAAAAMQAAAAAAAAPh/",
          "dtype": "f8"
         },
         "y": {
          "bdata": "AAAAAAAADEAAAAAAAAAMQAAAAAAAAPh/AAAAAAAA4L8AAAAAAAASQAAAAAAAAPh/",
          "dtype": "f8"
         }
        }
       ],
       "layout": {
        "coloraxis": {
         "cmid": 0,
         "colorscale": [
          [
           0.0,
           "rgb(0, 147, 146)"
          ],
          [
           0.16666666666666666,
           "rgb(57, 177, 133)"
          ],
          [
           0.3333333333333333,
           "rgb(156, 203, 134)"
          ],
          [
           0.5,
           "rgb(233, 226, 156)"
          ],
          [
           0.6666666666666666,
           "rgb(238, 180, 121)"
          ],
          [
           0.8333333333333334,
           "rgb(232, 132, 113)"
          ],
          [
           1.0,
           "rgb(207, 89, 126)"
          ]
         ],
         "showscale": true
        },
        "scene": {
         "aspectmode": "data",
         "xaxis": {
          "range": [
           -0.5,
           14.5
          ]
         },
         "yaxis": {
          "range": [
           4.5,
           -0.5
          ]
         }
        },
        "template": {
         "layout": {
          "hovermode": "closest",
          "paper_bgcolor": "white",
          "plot_bgcolor": "white",
          "scene": {
           "xaxis": {
            "color": "black",
            "gridcolor": "#ccc",
            "gridwidth": 1,
            "linewidth": 1,
            "mirror": true,
            "showgrid": false,
            "showline": true,
            "ticklen": 5,
            "ticks": "outside",
            "ticksuffix": " ",
            "visible": true,
            "zeroline": false,
            "zerolinecolor": "#ccc",
            "zerolinewidth": 1
           },
           "yaxis": {
            "color": "black",
            "gridcolor": "#ccc",
            "gridwidth": 1,
            "linewidth": 1,
            "mirror": true,
            "showgrid": false,
            "showline": true,
            "ticklen": 5,
            "ticks": "outside",
            "ticksuffix": " ",
            "visible": true,
            "zeroline": false,
            "zerolinecolor": "#ccc",
            "zerolinewidth": 1
           },
           "zaxis": {
            "color": "black",
            "gridcolor": "#ccc",
            "gridwidth": 1,
            "linewidth": 1,
            "mirror": true,
            "showgrid": false,
            "showline": true,
            "ticklen": 5,
            "ticks": "outside",
            "ticksuffix": " ",
            "visible": true,
            "zeroline": false,
            "zerolinecolor": "#ccc",
            "zerolinewidth": 1
           }
          },
          "xaxis": {
           "color": "black",
           "gridcolor": "#ccc",
           "gridwidth": 1,
           "linewidth": 1,
           "mirror": true,
           "showgrid": false,
           "showline": true,
           "ticklen": 5,
           "ticks": "outside",
           "ticksuffix": " ",
           "visible": true,
           "zeroline": false,
           "zerolinecolor": "#ccc",
           "zerolinewidth": 1
          },
          "yaxis": {
           "color": "black",
           "gridcolor": "#ccc",
           "gridwidth": 1,
           "linewidth": 1,
           "mirror": true,
           "showgrid": false,
           "showline": true,
           "ticklen": 5,
           "ticks": "outside",
           "ticksuffix": " ",
           "visible": true,
           "zeroline": false,
           "zerolinecolor": "#ccc",
           "zerolinewidth": 1
          }
         }
        },
        "xaxis": {
         "constrain": "domain",
         "range": [
          -0.5,
          14.5
         ],
         "scaleanchor": "y",
         "scaleratio": 1
        },
        "yaxis": {
         "constrain": "domain",
         "range": [
          4.5,
          -0.5
         ]
        }
       }
      }
     },
     "metadata": {},
     "output_type": "display_data"
    }
   ],
   "source": [
    "plot.update_inputs(\n",
    "    sc_lines=True,\n",
    "    atom_lines=True,\n",
    "    orbital_lines=True,\n",
    ")"
   ]
  },
  {
   "cell_type": "markdown",
   "metadata": {},
   "source": [
    "Sometimes, the **default styles for the lines might not suit your visualization**. For example, they might not play well with your chosen colorscale. In that case, you can **pass a dictionary of line styles** to the inputs."
   ]
  },
  {
   "cell_type": "code",
   "execution_count": 13,
   "metadata": {
    "execution": {
     "iopub.execute_input": "2025-09-23T10:47:13.112144Z",
     "iopub.status.busy": "2025-09-23T10:47:13.111980Z",
     "iopub.status.idle": "2025-09-23T10:47:13.202919Z",
     "shell.execute_reply": "2025-09-23T10:47:13.202327Z"
    }
   },
   "outputs": [
    {
     "name": "stderr",
     "output_type": "stream",
     "text": [
      "INFO\tTask(Task-2) nodify.node.139839764491168:node.py:get()- No need to evaluate\n"
     ]
    },
    {
     "name": "stderr",
     "output_type": "stream",
     "text": [
      "INFO\tTask(Task-2) nodify.node.139839764485936:node.py:get()- No need to evaluate\n"
     ]
    },
    {
     "name": "stderr",
     "output_type": "stream",
     "text": [
      "INFO\tTask(Task-2) nodify.node.139839764484352:node.py:get()- No need to evaluate\n"
     ]
    },
    {
     "name": "stderr",
     "output_type": "stream",
     "text": [
      "INFO\tTask(Task-2) nodify.node.139839764485888:node.py:get()- No need to evaluate\n"
     ]
    },
    {
     "name": "stderr",
     "output_type": "stream",
     "text": [
      "INFO\tTask(Task-2) nodify.node.139839764484688:node.py:get()- No need to evaluate\n"
     ]
    },
    {
     "name": "stderr",
     "output_type": "stream",
     "text": [
      "INFO\tTask(Task-2) nodify.node.139839764492944:node.py:get()- No need to evaluate\n"
     ]
    },
    {
     "name": "stderr",
     "output_type": "stream",
     "text": [
      "INFO\tTask(Task-2) nodify.node.139839764488096:node.py:get()- No need to evaluate\n"
     ]
    },
    {
     "name": "stderr",
     "output_type": "stream",
     "text": [
      "INFO\tTask(Task-2) nodify.node.139839764488480:node.py:get()- No need to evaluate\n"
     ]
    },
    {
     "name": "stderr",
     "output_type": "stream",
     "text": [
      "INFO\tTask(Task-2) nodify.node.139839764485936:node.py:get()- No need to evaluate\n"
     ]
    },
    {
     "name": "stderr",
     "output_type": "stream",
     "text": [
      "INFO\tTask(Task-2) nodify.node.139839764488864:node.py:get()- No need to evaluate\n"
     ]
    },
    {
     "name": "stderr",
     "output_type": "stream",
     "text": [
      "INFO\tTask(Task-2) nodify.node.139839764488480:node.py:get()- No need to evaluate\n"
     ]
    },
    {
     "name": "stderr",
     "output_type": "stream",
     "text": [
      "INFO\tTask(Task-2) nodify.node.139839764494240:node.py:get()- No need to evaluate\n"
     ]
    },
    {
     "name": "stderr",
     "output_type": "stream",
     "text": [
      "INFO\tTask(Task-2) nodify.node.139839764487712:node.py:get()- No need to evaluate\n"
     ]
    },
    {
     "name": "stderr",
     "output_type": "stream",
     "text": [
      "INFO\tTask(Task-2) nodify.node.139839764489248:node.py:get()- No need to evaluate\n"
     ]
    },
    {
     "name": "stderr",
     "output_type": "stream",
     "text": [
      "INFO\tTask(Task-2) nodify.node.139839764489632:node.py:get()- No need to evaluate\n"
     ]
    },
    {
     "name": "stderr",
     "output_type": "stream",
     "text": [
      "INFO\tTask(Task-2) nodify.node.139839764494144:node.py:get()- No need to evaluate\n"
     ]
    },
    {
     "name": "stderr",
     "output_type": "stream",
     "text": [
      "INFO\tTask(Task-2) nodify.node.139839764485936:node.py:get()- No need to evaluate\n"
     ]
    },
    {
     "name": "stderr",
     "output_type": "stream",
     "text": [
      "INFO\tTask(Task-2) nodify.node.139839764484352:node.py:get()- No need to evaluate\n"
     ]
    },
    {
     "name": "stderr",
     "output_type": "stream",
     "text": [
      "INFO\tTask(Task-2) nodify.node.139839764485888:node.py:get()- No need to evaluate\n"
     ]
    },
    {
     "name": "stderr",
     "output_type": "stream",
     "text": [
      "INFO\tTask(Task-2) nodify.node.139839764484688:node.py:get()- No need to evaluate\n"
     ]
    },
    {
     "name": "stderr",
     "output_type": "stream",
     "text": [
      "INFO\tTask(Task-2) nodify.node.139839764492944:node.py:get()- No need to evaluate\n"
     ]
    },
    {
     "name": "stderr",
     "output_type": "stream",
     "text": [
      "INFO\tTask(Task-2) nodify.node.139839764490784:node.py:get()- No need to evaluate\n"
     ]
    },
    {
     "name": "stderr",
     "output_type": "stream",
     "text": [
      "INFO\tTask(Task-2) nodify.node.139839764494912:node.py:get()- No need to evaluate\n"
     ]
    },
    {
     "name": "stderr",
     "output_type": "stream",
     "text": [
      "INFO\tTask(Task-2) nodify.node.139839764494288:node.py:get()- No need to evaluate\n"
     ]
    },
    {
     "name": "stderr",
     "output_type": "stream",
     "text": [
      "INFO\tTask(Task-2) nodify.node.139839764486896:node.py:get()- Evaluated because inputs changed.\n"
     ]
    },
    {
     "name": "stderr",
     "output_type": "stream",
     "text": [
      "INFO\tTask(Task-2) nodify.node.139839764485936:node.py:get()- No need to evaluate\n"
     ]
    },
    {
     "name": "stderr",
     "output_type": "stream",
     "text": [
      "INFO\tTask(Task-2) nodify.node.139839764486560:node.py:get()- No need to evaluate\n"
     ]
    },
    {
     "name": "stderr",
     "output_type": "stream",
     "text": [
      "INFO\tTask(Task-2) nodify.node.139839764492464:node.py:get()- No need to evaluate\n"
     ]
    },
    {
     "name": "stderr",
     "output_type": "stream",
     "text": [
      "INFO\tTask(Task-2) nodify.node.139839764485936:node.py:get()- No need to evaluate\n"
     ]
    },
    {
     "name": "stderr",
     "output_type": "stream",
     "text": [
      "INFO\tTask(Task-2) nodify.node.139839764493040:node.py:get()- No need to evaluate\n"
     ]
    },
    {
     "name": "stderr",
     "output_type": "stream",
     "text": [
      "INFO\tTask(Task-2) nodify.node.139839764494960:node.py:get()- Evaluated because inputs changed.\n"
     ]
    },
    {
     "name": "stderr",
     "output_type": "stream",
     "text": [
      "INFO\tTask(Task-2) nodify.node.139839764485168:node.py:get()- Evaluated because inputs changed.\n"
     ]
    },
    {
     "name": "stderr",
     "output_type": "stream",
     "text": [
      "INFO\tTask(Task-2) nodify.node.139839764485936:node.py:get()- No need to evaluate\n"
     ]
    },
    {
     "name": "stderr",
     "output_type": "stream",
     "text": [
      "INFO\tTask(Task-2) nodify.node.139839764486560:node.py:get()- No need to evaluate\n"
     ]
    },
    {
     "name": "stderr",
     "output_type": "stream",
     "text": [
      "INFO\tTask(Task-2) nodify.node.139839764492464:node.py:get()- No need to evaluate\n"
     ]
    },
    {
     "name": "stderr",
     "output_type": "stream",
     "text": [
      "INFO\tTask(Task-2) nodify.node.139839764485936:node.py:get()- No need to evaluate\n"
     ]
    },
    {
     "name": "stderr",
     "output_type": "stream",
     "text": [
      "INFO\tTask(Task-2) nodify.node.139839764493040:node.py:get()- No need to evaluate\n"
     ]
    },
    {
     "name": "stderr",
     "output_type": "stream",
     "text": [
      "INFO\tTask(Task-2) nodify.node.139839764495632:node.py:get()- Evaluated because inputs changed.\n"
     ]
    },
    {
     "name": "stderr",
     "output_type": "stream",
     "text": [
      "INFO\tTask(Task-2) nodify.node.139839764487280:node.py:get()- Evaluated because inputs changed.\n"
     ]
    },
    {
     "name": "stderr",
     "output_type": "stream",
     "text": [
      "INFO\tTask(Task-2) nodify.node.139839764485936:node.py:get()- No need to evaluate\n"
     ]
    },
    {
     "name": "stderr",
     "output_type": "stream",
     "text": [
      "INFO\tTask(Task-2) nodify.node.139839764486560:node.py:get()- No need to evaluate\n"
     ]
    },
    {
     "name": "stderr",
     "output_type": "stream",
     "text": [
      "INFO\tTask(Task-2) nodify.node.139839764492464:node.py:get()- No need to evaluate\n"
     ]
    },
    {
     "name": "stderr",
     "output_type": "stream",
     "text": [
      "INFO\tTask(Task-2) nodify.node.139839764485936:node.py:get()- No need to evaluate\n"
     ]
    },
    {
     "name": "stderr",
     "output_type": "stream",
     "text": [
      "INFO\tTask(Task-2) nodify.node.139839764493040:node.py:get()- No need to evaluate\n"
     ]
    },
    {
     "name": "stderr",
     "output_type": "stream",
     "text": [
      "INFO\tTask(Task-2) nodify.node.139839764495968:node.py:get()- Evaluated because inputs changed.\n"
     ]
    },
    {
     "name": "stderr",
     "output_type": "stream",
     "text": [
      "INFO\tTask(Task-2) nodify.node.139839764485936:node.py:get()- No need to evaluate\n"
     ]
    },
    {
     "name": "stderr",
     "output_type": "stream",
     "text": [
      "INFO\tTask(Task-2) nodify.node.139839764484352:node.py:get()- No need to evaluate\n"
     ]
    },
    {
     "name": "stderr",
     "output_type": "stream",
     "text": [
      "INFO\tTask(Task-2) nodify.node.139839764485888:node.py:get()- No need to evaluate\n"
     ]
    },
    {
     "name": "stderr",
     "output_type": "stream",
     "text": [
      "INFO\tTask(Task-2) nodify.node.139839764484688:node.py:get()- No need to evaluate\n"
     ]
    },
    {
     "name": "stderr",
     "output_type": "stream",
     "text": [
      "INFO\tTask(Task-2) nodify.node.139839764492944:node.py:get()- No need to evaluate\n"
     ]
    },
    {
     "name": "stderr",
     "output_type": "stream",
     "text": [
      "INFO\tTask(Task-2) nodify.node.139839764485936:node.py:get()- No need to evaluate\n"
     ]
    },
    {
     "name": "stderr",
     "output_type": "stream",
     "text": [
      "INFO\tTask(Task-2) nodify.node.139839764486560:node.py:get()- No need to evaluate\n"
     ]
    },
    {
     "name": "stderr",
     "output_type": "stream",
     "text": [
      "INFO\tTask(Task-2) nodify.node.139839764492464:node.py:get()- No need to evaluate\n"
     ]
    },
    {
     "name": "stderr",
     "output_type": "stream",
     "text": [
      "INFO\tTask(Task-2) nodify.node.139839764485936:node.py:get()- No need to evaluate\n"
     ]
    },
    {
     "name": "stderr",
     "output_type": "stream",
     "text": [
      "INFO\tTask(Task-2) nodify.node.139839764493040:node.py:get()- No need to evaluate\n"
     ]
    },
    {
     "name": "stderr",
     "output_type": "stream",
     "text": [
      "INFO\tTask(Task-2) nodify.node.139839764490400:node.py:get()- No need to evaluate\n"
     ]
    },
    {
     "name": "stderr",
     "output_type": "stream",
     "text": [
      "INFO\tTask(Task-2) nodify.node.139839764490016:node.py:get()- No need to evaluate\n"
     ]
    },
    {
     "name": "stderr",
     "output_type": "stream",
     "text": [
      "INFO\tTask(Task-2) nodify.node.139839764492752:node.py:get()- No need to evaluate\n"
     ]
    },
    {
     "name": "stderr",
     "output_type": "stream",
     "text": [
      "INFO\tTask(Task-2) nodify.node.139839764493184:node.py:get()- Evaluated because inputs changed.\n"
     ]
    },
    {
     "name": "stderr",
     "output_type": "stream",
     "text": [
      "INFO\tTask(Task-2) nodify.node.139839764494048:node.py:get()- Evaluated because inputs changed.\n"
     ]
    },
    {
     "name": "stderr",
     "output_type": "stream",
     "text": [
      "INFO\tTask(Task-2) nodify.node.139839764628064:node.py:get()- Evaluated because inputs changed.\n"
     ]
    },
    {
     "data": {
      "application/vnd.plotly.v1+json": {
       "config": {
        "plotlyServerURL": "https://plot.ly"
       },
       "data": [
        {
         "coloraxis": "coloraxis",
         "meta": {},
         "opacity": 1,
         "texttemplate": "%{z:.2f}",
         "type": "heatmap",
         "z": {
          "bdata": "4JCpuuPRpL+Y7HLsBUy2Py4xCYhNKdK/zOQ+RZxxyL+49usRigW6PwAAAAAAAPh/AAAAAAAA+H8AAAAAAAD4fwAAAAAAAPh/2VCyPxDyqr8AAAAAAAD4fwAAAAAAAPh/AAAAAAAA+H8AAAAAAAD4fwAAAAAAAPh/mOxy7AVMtj8Q82TzA/zOv+BoIXZYoJQ/gNYsWTMqpD+QTED17n2jvwAAAAAAAPh/AAAAAAAA+H8AAAAAAAD4fwAAAAAAAPh/bIHAm3jrnT8AAAAAAAD4fwAAAAAAAPh/AAAAAAAA+H8AAAAAAAD4fwAAAAAAAPh/LjEJiE0p0r/gaCF2WKCUP1g8rJicRto/MHeeZEVSsb9mFzTSrXHfvwAAAAAAAPh/AAAAAAAA+H8AAAAAAAD4fwAAAAAAAPh/onJ1yC99xr8AAAAAAAD4fwAAAAAAAPh/AAAAAAAA+H8AAAAAAAD4fwAAAAAAAPh/zOQ+RZxxyL+A1ixZMyqkPzB3nmRFUrG/CD9o6sOg67+K8JgSdFPgvwAAAAAAAPh/AAAAAAAA+H8AAAAAAAD4fwAAAAAAAPh/+jQzZ88Nkr8AAAAAAAD4fwAAAAAAAPh/AAAAAAAA+H8AAAAAAAD4fwAAAAAAAPh/uPbrEYoFuj+QTED17n2jv2YXNNKtcd+/ivCYEnRT4L/4Sk6fQ/rHvwAAAAAAAPh/AAAAAAAA+H8AAAAAAAD4fwAAAAAAAPh/AAAAAAAA+H/ZULI/EPKqv2yBwJt4650/onJ1yC99xr/6NDNnzw2SvwAAAAAAAPh/",
          "dtype": "f8",
          "shape": "5, 15"
         },
         "zsmooth": false
        },
        {
         "line": {
          "color": "pink",
          "dash": "dash",
          "width": 5
         },
         "meta": {},
         "mode": "lines",
         "name": "orbitals separators",
         "opacity": 0.8,
         "showlegend": false,
         "type": "scatter",
         "x": {
          "bdata": "AAAAAAAA4L8AAAAAAAASQAAAAAAAAPh/AAAAAAAA4D8AAAAAAADgPwAAAAAAAPh/",
          "dtype": "f8"
         },
         "y": {
          "bdata": "AAAAAAAA4D8AAAAAAADgPwAAAAAAAPh/AAAAAAAA4L8AAAAAAAASQAAAAAAAAPh/",
          "dtype": "f8"
         }
        },
        {
         "line": {
          "color": "gray"
         },
         "meta": {},
         "mode": "lines",
         "name": "atoms separators",
         "opacity": 1,
         "showlegend": false,
         "type": "scatter",
         "x": {
          "bdata": "AAAAAAAA4L8AAAAAAAASQAAAAAAAAPh/AAAAAAAADEAAAAAAAAAMQAAAAAAAAPh/",
          "dtype": "f8"
         },
         "y": {
          "bdata": "AAAAAAAADEAAAAAAAAAMQAAAAAAAAPh/AAAAAAAA4L8AAAAAAAASQAAAAAAAAPh/",
          "dtype": "f8"
         }
        }
       ],
       "layout": {
        "coloraxis": {
         "cmid": 0,
         "colorscale": [
          [
           0.0,
           "rgb(0, 147, 146)"
          ],
          [
           0.16666666666666666,
           "rgb(57, 177, 133)"
          ],
          [
           0.3333333333333333,
           "rgb(156, 203, 134)"
          ],
          [
           0.5,
           "rgb(233, 226, 156)"
          ],
          [
           0.6666666666666666,
           "rgb(238, 180, 121)"
          ],
          [
           0.8333333333333334,
           "rgb(232, 132, 113)"
          ],
          [
           1.0,
           "rgb(207, 89, 126)"
          ]
         ],
         "showscale": true
        },
        "scene": {
         "aspectmode": "data",
         "xaxis": {
          "range": [
           -0.5,
           14.5
          ]
         },
         "yaxis": {
          "range": [
           4.5,
           -0.5
          ]
         }
        },
        "template": {
         "layout": {
          "hovermode": "closest",
          "paper_bgcolor": "white",
          "plot_bgcolor": "white",
          "scene": {
           "xaxis": {
            "color": "black",
            "gridcolor": "#ccc",
            "gridwidth": 1,
            "linewidth": 1,
            "mirror": true,
            "showgrid": false,
            "showline": true,
            "ticklen": 5,
            "ticks": "outside",
            "ticksuffix": " ",
            "visible": true,
            "zeroline": false,
            "zerolinecolor": "#ccc",
            "zerolinewidth": 1
           },
           "yaxis": {
            "color": "black",
            "gridcolor": "#ccc",
            "gridwidth": 1,
            "linewidth": 1,
            "mirror": true,
            "showgrid": false,
            "showline": true,
            "ticklen": 5,
            "ticks": "outside",
            "ticksuffix": " ",
            "visible": true,
            "zeroline": false,
            "zerolinecolor": "#ccc",
            "zerolinewidth": 1
           },
           "zaxis": {
            "color": "black",
            "gridcolor": "#ccc",
            "gridwidth": 1,
            "linewidth": 1,
            "mirror": true,
            "showgrid": false,
            "showline": true,
            "ticklen": 5,
            "ticks": "outside",
            "ticksuffix": " ",
            "visible": true,
            "zeroline": false,
            "zerolinecolor": "#ccc",
            "zerolinewidth": 1
           }
          },
          "xaxis": {
           "color": "black",
           "gridcolor": "#ccc",
           "gridwidth": 1,
           "linewidth": 1,
           "mirror": true,
           "showgrid": false,
           "showline": true,
           "ticklen": 5,
           "ticks": "outside",
           "ticksuffix": " ",
           "visible": true,
           "zeroline": false,
           "zerolinecolor": "#ccc",
           "zerolinewidth": 1
          },
          "yaxis": {
           "color": "black",
           "gridcolor": "#ccc",
           "gridwidth": 1,
           "linewidth": 1,
           "mirror": true,
           "showgrid": false,
           "showline": true,
           "ticklen": 5,
           "ticks": "outside",
           "ticksuffix": " ",
           "visible": true,
           "zeroline": false,
           "zerolinecolor": "#ccc",
           "zerolinewidth": 1
          }
         }
        },
        "xaxis": {
         "constrain": "domain",
         "range": [
          -0.5,
          14.5
         ],
         "scaleanchor": "y",
         "scaleratio": 1
        },
        "yaxis": {
         "constrain": "domain",
         "range": [
          4.5,
          -0.5
         ]
        }
       }
      }
     },
     "metadata": {},
     "output_type": "display_data"
    }
   ],
   "source": [
    "plot.update_inputs(\n",
    "    orbital_lines={\"color\": \"pink\", \"width\": 5, \"dash\": \"dash\", \"opacity\": 0.8},\n",
    "    sc_lines={\"width\": 4},\n",
    "    atom_lines={\"color\": \"gray\"},\n",
    ")"
   ]
  },
  {
   "cell_type": "markdown",
   "metadata": {},
   "source": [
    "## Labels\n",
    "\n",
    "You might want to have a clearer idea of the orbitals that correspond to a given matrix element. You can turn on labels with `set_labels`:"
   ]
  },
  {
   "cell_type": "code",
   "execution_count": 14,
   "metadata": {
    "execution": {
     "iopub.execute_input": "2025-09-23T10:47:13.204619Z",
     "iopub.status.busy": "2025-09-23T10:47:13.204426Z",
     "iopub.status.idle": "2025-09-23T10:47:13.296825Z",
     "shell.execute_reply": "2025-09-23T10:47:13.296340Z"
    }
   },
   "outputs": [
    {
     "name": "stderr",
     "output_type": "stream",
     "text": [
      "INFO\tTask(Task-2) nodify.node.139839764491168:node.py:get()- No need to evaluate\n"
     ]
    },
    {
     "name": "stderr",
     "output_type": "stream",
     "text": [
      "INFO\tTask(Task-2) nodify.node.139839764485936:node.py:get()- No need to evaluate\n"
     ]
    },
    {
     "name": "stderr",
     "output_type": "stream",
     "text": [
      "INFO\tTask(Task-2) nodify.node.139839764484352:node.py:get()- No need to evaluate\n"
     ]
    },
    {
     "name": "stderr",
     "output_type": "stream",
     "text": [
      "INFO\tTask(Task-2) nodify.node.139839764485888:node.py:get()- No need to evaluate\n"
     ]
    },
    {
     "name": "stderr",
     "output_type": "stream",
     "text": [
      "INFO\tTask(Task-2) nodify.node.139839764484688:node.py:get()- No need to evaluate\n"
     ]
    },
    {
     "name": "stderr",
     "output_type": "stream",
     "text": [
      "INFO\tTask(Task-2) nodify.node.139839764492944:node.py:get()- No need to evaluate\n"
     ]
    },
    {
     "name": "stderr",
     "output_type": "stream",
     "text": [
      "INFO\tTask(Task-2) nodify.node.139839764488096:node.py:get()- No need to evaluate\n"
     ]
    },
    {
     "name": "stderr",
     "output_type": "stream",
     "text": [
      "INFO\tTask(Task-2) nodify.node.139839764488480:node.py:get()- No need to evaluate\n"
     ]
    },
    {
     "name": "stderr",
     "output_type": "stream",
     "text": [
      "INFO\tTask(Task-2) nodify.node.139839764485936:node.py:get()- No need to evaluate\n"
     ]
    },
    {
     "name": "stderr",
     "output_type": "stream",
     "text": [
      "INFO\tTask(Task-2) nodify.node.139839764488864:node.py:get()- No need to evaluate\n"
     ]
    },
    {
     "name": "stderr",
     "output_type": "stream",
     "text": [
      "INFO\tTask(Task-2) nodify.node.139839764488480:node.py:get()- No need to evaluate\n"
     ]
    },
    {
     "name": "stderr",
     "output_type": "stream",
     "text": [
      "INFO\tTask(Task-2) nodify.node.139839764494240:node.py:get()- No need to evaluate\n"
     ]
    },
    {
     "name": "stderr",
     "output_type": "stream",
     "text": [
      "INFO\tTask(Task-2) nodify.node.139839764487712:node.py:get()- No need to evaluate\n"
     ]
    },
    {
     "name": "stderr",
     "output_type": "stream",
     "text": [
      "INFO\tTask(Task-2) nodify.node.139839764489248:node.py:get()- No need to evaluate\n"
     ]
    },
    {
     "name": "stderr",
     "output_type": "stream",
     "text": [
      "INFO\tTask(Task-2) nodify.node.139839764489632:node.py:get()- No need to evaluate\n"
     ]
    },
    {
     "name": "stderr",
     "output_type": "stream",
     "text": [
      "INFO\tTask(Task-2) nodify.node.139839764494144:node.py:get()- No need to evaluate\n"
     ]
    },
    {
     "name": "stderr",
     "output_type": "stream",
     "text": [
      "INFO\tTask(Task-2) nodify.node.139839764485936:node.py:get()- No need to evaluate\n"
     ]
    },
    {
     "name": "stderr",
     "output_type": "stream",
     "text": [
      "INFO\tTask(Task-2) nodify.node.139839764484352:node.py:get()- No need to evaluate\n"
     ]
    },
    {
     "name": "stderr",
     "output_type": "stream",
     "text": [
      "INFO\tTask(Task-2) nodify.node.139839764485888:node.py:get()- No need to evaluate\n"
     ]
    },
    {
     "name": "stderr",
     "output_type": "stream",
     "text": [
      "INFO\tTask(Task-2) nodify.node.139839764484688:node.py:get()- No need to evaluate\n"
     ]
    },
    {
     "name": "stderr",
     "output_type": "stream",
     "text": [
      "INFO\tTask(Task-2) nodify.node.139839764492944:node.py:get()- No need to evaluate\n"
     ]
    },
    {
     "name": "stderr",
     "output_type": "stream",
     "text": [
      "INFO\tTask(Task-2) nodify.node.139839764490784:node.py:get()- No need to evaluate\n"
     ]
    },
    {
     "name": "stderr",
     "output_type": "stream",
     "text": [
      "INFO\tTask(Task-2) nodify.node.139839764494912:node.py:get()- No need to evaluate\n"
     ]
    },
    {
     "name": "stderr",
     "output_type": "stream",
     "text": [
      "INFO\tTask(Task-2) nodify.node.139839764494288:node.py:get()- No need to evaluate\n"
     ]
    },
    {
     "name": "stderr",
     "output_type": "stream",
     "text": [
      "INFO\tTask(Task-2) nodify.node.139839764486896:node.py:get()- No need to evaluate\n"
     ]
    },
    {
     "name": "stderr",
     "output_type": "stream",
     "text": [
      "INFO\tTask(Task-2) nodify.node.139839764485936:node.py:get()- No need to evaluate\n"
     ]
    },
    {
     "name": "stderr",
     "output_type": "stream",
     "text": [
      "INFO\tTask(Task-2) nodify.node.139839764486560:node.py:get()- No need to evaluate\n"
     ]
    },
    {
     "name": "stderr",
     "output_type": "stream",
     "text": [
      "INFO\tTask(Task-2) nodify.node.139839764492464:node.py:get()- No need to evaluate\n"
     ]
    },
    {
     "name": "stderr",
     "output_type": "stream",
     "text": [
      "INFO\tTask(Task-2) nodify.node.139839764485936:node.py:get()- No need to evaluate\n"
     ]
    },
    {
     "name": "stderr",
     "output_type": "stream",
     "text": [
      "INFO\tTask(Task-2) nodify.node.139839764493040:node.py:get()- No need to evaluate\n"
     ]
    },
    {
     "name": "stderr",
     "output_type": "stream",
     "text": [
      "INFO\tTask(Task-2) nodify.node.139839764494960:node.py:get()- No need to evaluate\n"
     ]
    },
    {
     "name": "stderr",
     "output_type": "stream",
     "text": [
      "INFO\tTask(Task-2) nodify.node.139839764485168:node.py:get()- No need to evaluate\n"
     ]
    },
    {
     "name": "stderr",
     "output_type": "stream",
     "text": [
      "INFO\tTask(Task-2) nodify.node.139839764485936:node.py:get()- No need to evaluate\n"
     ]
    },
    {
     "name": "stderr",
     "output_type": "stream",
     "text": [
      "INFO\tTask(Task-2) nodify.node.139839764486560:node.py:get()- No need to evaluate\n"
     ]
    },
    {
     "name": "stderr",
     "output_type": "stream",
     "text": [
      "INFO\tTask(Task-2) nodify.node.139839764492464:node.py:get()- No need to evaluate\n"
     ]
    },
    {
     "name": "stderr",
     "output_type": "stream",
     "text": [
      "INFO\tTask(Task-2) nodify.node.139839764485936:node.py:get()- No need to evaluate\n"
     ]
    },
    {
     "name": "stderr",
     "output_type": "stream",
     "text": [
      "INFO\tTask(Task-2) nodify.node.139839764493040:node.py:get()- No need to evaluate\n"
     ]
    },
    {
     "name": "stderr",
     "output_type": "stream",
     "text": [
      "INFO\tTask(Task-2) nodify.node.139839764495632:node.py:get()- No need to evaluate\n"
     ]
    },
    {
     "name": "stderr",
     "output_type": "stream",
     "text": [
      "INFO\tTask(Task-2) nodify.node.139839764487280:node.py:get()- No need to evaluate\n"
     ]
    },
    {
     "name": "stderr",
     "output_type": "stream",
     "text": [
      "INFO\tTask(Task-2) nodify.node.139839764485936:node.py:get()- No need to evaluate\n"
     ]
    },
    {
     "name": "stderr",
     "output_type": "stream",
     "text": [
      "INFO\tTask(Task-2) nodify.node.139839764486560:node.py:get()- No need to evaluate\n"
     ]
    },
    {
     "name": "stderr",
     "output_type": "stream",
     "text": [
      "INFO\tTask(Task-2) nodify.node.139839764492464:node.py:get()- No need to evaluate\n"
     ]
    },
    {
     "name": "stderr",
     "output_type": "stream",
     "text": [
      "INFO\tTask(Task-2) nodify.node.139839764485936:node.py:get()- No need to evaluate\n"
     ]
    },
    {
     "name": "stderr",
     "output_type": "stream",
     "text": [
      "INFO\tTask(Task-2) nodify.node.139839764493040:node.py:get()- No need to evaluate\n"
     ]
    },
    {
     "name": "stderr",
     "output_type": "stream",
     "text": [
      "INFO\tTask(Task-2) nodify.node.139839764495968:node.py:get()- No need to evaluate\n"
     ]
    },
    {
     "name": "stderr",
     "output_type": "stream",
     "text": [
      "INFO\tTask(Task-2) nodify.node.139839764485936:node.py:get()- No need to evaluate\n"
     ]
    },
    {
     "name": "stderr",
     "output_type": "stream",
     "text": [
      "INFO\tTask(Task-2) nodify.node.139839764484352:node.py:get()- No need to evaluate\n"
     ]
    },
    {
     "name": "stderr",
     "output_type": "stream",
     "text": [
      "INFO\tTask(Task-2) nodify.node.139839764485888:node.py:get()- No need to evaluate\n"
     ]
    },
    {
     "name": "stderr",
     "output_type": "stream",
     "text": [
      "INFO\tTask(Task-2) nodify.node.139839764484688:node.py:get()- No need to evaluate\n"
     ]
    },
    {
     "name": "stderr",
     "output_type": "stream",
     "text": [
      "INFO\tTask(Task-2) nodify.node.139839764492944:node.py:get()- No need to evaluate\n"
     ]
    },
    {
     "name": "stderr",
     "output_type": "stream",
     "text": [
      "INFO\tTask(Task-2) nodify.node.139839764485936:node.py:get()- No need to evaluate\n"
     ]
    },
    {
     "name": "stderr",
     "output_type": "stream",
     "text": [
      "INFO\tTask(Task-2) nodify.node.139839764486560:node.py:get()- No need to evaluate\n"
     ]
    },
    {
     "name": "stderr",
     "output_type": "stream",
     "text": [
      "INFO\tTask(Task-2) nodify.node.139839764492464:node.py:get()- No need to evaluate\n"
     ]
    },
    {
     "name": "stderr",
     "output_type": "stream",
     "text": [
      "INFO\tTask(Task-2) nodify.node.139839764485936:node.py:get()- No need to evaluate\n"
     ]
    },
    {
     "name": "stderr",
     "output_type": "stream",
     "text": [
      "INFO\tTask(Task-2) nodify.node.139839764493040:node.py:get()- No need to evaluate\n"
     ]
    },
    {
     "name": "stderr",
     "output_type": "stream",
     "text": [
      "INFO\tTask(Task-2) nodify.node.139839764490400:node.py:get()- No need to evaluate\n"
     ]
    },
    {
     "name": "stderr",
     "output_type": "stream",
     "text": [
      "INFO\tTask(Task-2) nodify.node.139839764490016:node.py:get()- Evaluated because inputs changed.\n"
     ]
    },
    {
     "name": "stderr",
     "output_type": "stream",
     "text": [
      "INFO\tTask(Task-2) nodify.node.139839764492752:node.py:get()- Evaluated because inputs changed.\n"
     ]
    },
    {
     "name": "stderr",
     "output_type": "stream",
     "text": [
      "INFO\tTask(Task-2) nodify.node.139839764493184:node.py:get()- Evaluated because inputs changed.\n"
     ]
    },
    {
     "name": "stderr",
     "output_type": "stream",
     "text": [
      "INFO\tTask(Task-2) nodify.node.139839764494048:node.py:get()- Evaluated because inputs changed.\n"
     ]
    },
    {
     "name": "stderr",
     "output_type": "stream",
     "text": [
      "INFO\tTask(Task-2) nodify.node.139839764628064:node.py:get()- Evaluated because inputs changed.\n"
     ]
    },
    {
     "data": {
      "application/vnd.plotly.v1+json": {
       "config": {
        "plotlyServerURL": "https://plot.ly"
       },
       "data": [
        {
         "coloraxis": "coloraxis",
         "meta": {},
         "opacity": 1,
         "texttemplate": "%{z:.2f}",
         "type": "heatmap",
         "z": {
          "bdata": "4JCpuuPRpL+Y7HLsBUy2Py4xCYhNKdK/zOQ+RZxxyL+49usRigW6PwAAAAAAAPh/AAAAAAAA+H8AAAAAAAD4fwAAAAAAAPh/2VCyPxDyqr8AAAAAAAD4fwAAAAAAAPh/AAAAAAAA+H8AAAAAAAD4fwAAAAAAAPh/mOxy7AVMtj8Q82TzA/zOv+BoIXZYoJQ/gNYsWTMqpD+QTED17n2jvwAAAAAAAPh/AAAAAAAA+H8AAAAAAAD4fwAAAAAAAPh/bIHAm3jrnT8AAAAAAAD4fwAAAAAAAPh/AAAAAAAA+H8AAAAAAAD4fwAAAAAAAPh/LjEJiE0p0r/gaCF2WKCUP1g8rJicRto/MHeeZEVSsb9mFzTSrXHfvwAAAAAAAPh/AAAAAAAA+H8AAAAAAAD4fwAAAAAAAPh/onJ1yC99xr8AAAAAAAD4fwAAAAAAAPh/AAAAAAAA+H8AAAAAAAD4fwAAAAAAAPh/zOQ+RZxxyL+A1ixZMyqkPzB3nmRFUrG/CD9o6sOg67+K8JgSdFPgvwAAAAAAAPh/AAAAAAAA+H8AAAAAAAD4fwAAAAAAAPh/+jQzZ88Nkr8AAAAAAAD4fwAAAAAAAPh/AAAAAAAA+H8AAAAAAAD4fwAAAAAAAPh/uPbrEYoFuj+QTED17n2jv2YXNNKtcd+/ivCYEnRT4L/4Sk6fQ/rHvwAAAAAAAPh/AAAAAAAA+H8AAAAAAAD4fwAAAAAAAPh/AAAAAAAA+H/ZULI/EPKqv2yBwJt4650/onJ1yC99xr/6NDNnzw2SvwAAAAAAAPh/",
          "dtype": "f8",
          "shape": "5, 15"
         },
         "zsmooth": false
        },
        {
         "line": {
          "color": "pink",
          "dash": "dash",
          "width": 5
         },
         "meta": {},
         "mode": "lines",
         "name": "orbitals separators",
         "opacity": 0.8,
         "showlegend": false,
         "type": "scatter",
         "x": {
          "bdata": "AAAAAAAA4L8AAAAAAAASQAAAAAAAAPh/AAAAAAAA4D8AAAAAAADgPwAAAAAAAPh/",
          "dtype": "f8"
         },
         "y": {
          "bdata": "AAAAAAAA4D8AAAAAAADgPwAAAAAAAPh/AAAAAAAA4L8AAAAAAAASQAAAAAAAAPh/",
          "dtype": "f8"
         }
        },
        {
         "line": {
          "color": "gray"
         },
         "meta": {},
         "mode": "lines",
         "name": "atoms separators",
         "opacity": 1,
         "showlegend": false,
         "type": "scatter",
         "x": {
          "bdata": "AAAAAAAA4L8AAAAAAAASQAAAAAAAAPh/AAAAAAAADEAAAAAAAAAMQAAAAAAAAPh/",
          "dtype": "f8"
         },
         "y": {
          "bdata": "AAAAAAAADEAAAAAAAAAMQAAAAAAAAPh/AAAAAAAA4L8AAAAAAAASQAAAAAAAAPh/",
          "dtype": "f8"
         }
        }
       ],
       "layout": {
        "coloraxis": {
         "cmid": 0,
         "colorscale": [
          [
           0.0,
           "rgb(0, 147, 146)"
          ],
          [
           0.16666666666666666,
           "rgb(57, 177, 133)"
          ],
          [
           0.3333333333333333,
           "rgb(156, 203, 134)"
          ],
          [
           0.5,
           "rgb(233, 226, 156)"
          ],
          [
           0.6666666666666666,
           "rgb(238, 180, 121)"
          ],
          [
           0.8333333333333334,
           "rgb(232, 132, 113)"
          ],
          [
           1.0,
           "rgb(207, 89, 126)"
          ]
         ],
         "showscale": true
        },
        "scene": {
         "aspectmode": "data",
         "xaxis": {
          "range": [
           -0.5,
           14.5
          ],
          "ticktext": [
           "0: (0, 0)",
           "0: (1, -1)",
           "0: (1, 0)",
           "0: (1, 1)",
           "1: (0, 0)",
           "0: (0, 0)",
           "0: (1, -1)",
           "0: (1, 0)",
           "0: (1, 1)",
           "1: (0, 0)",
           "0: (0, 0)",
           "0: (1, -1)",
           "0: (1, 0)",
           "0: (1, 1)",
           "1: (0, 0)"
          ],
          "tickvals": {
           "bdata": "AAECAwQFBgcICQoLDA0O",
           "dtype": "i1"
          }
         },
         "yaxis": {
          "range": [
           4.5,
           -0.5
          ],
          "ticktext": [
           "0: (0, 0)",
           "0: (1, -1)",
           "0: (1, 0)",
           "0: (1, 1)",
           "1: (0, 0)"
          ],
          "tickvals": {
           "bdata": "AAECAwQ=",
           "dtype": "i1"
          }
         }
        },
        "template": {
         "layout": {
          "hovermode": "closest",
          "paper_bgcolor": "white",
          "plot_bgcolor": "white",
          "scene": {
           "xaxis": {
            "color": "black",
            "gridcolor": "#ccc",
            "gridwidth": 1,
            "linewidth": 1,
            "mirror": true,
            "showgrid": false,
            "showline": true,
            "ticklen": 5,
            "ticks": "outside",
            "ticksuffix": " ",
            "visible": true,
            "zeroline": false,
            "zerolinecolor": "#ccc",
            "zerolinewidth": 1
           },
           "yaxis": {
            "color": "black",
            "gridcolor": "#ccc",
            "gridwidth": 1,
            "linewidth": 1,
            "mirror": true,
            "showgrid": false,
            "showline": true,
            "ticklen": 5,
            "ticks": "outside",
            "ticksuffix": " ",
            "visible": true,
            "zeroline": false,
            "zerolinecolor": "#ccc",
            "zerolinewidth": 1
           },
           "zaxis": {
            "color": "black",
            "gridcolor": "#ccc",
            "gridwidth": 1,
            "linewidth": 1,
            "mirror": true,
            "showgrid": false,
            "showline": true,
            "ticklen": 5,
            "ticks": "outside",
            "ticksuffix": " ",
            "visible": true,
            "zeroline": false,
            "zerolinecolor": "#ccc",
            "zerolinewidth": 1
           }
          },
          "xaxis": {
           "color": "black",
           "gridcolor": "#ccc",
           "gridwidth": 1,
           "linewidth": 1,
           "mirror": true,
           "showgrid": false,
           "showline": true,
           "ticklen": 5,
           "ticks": "outside",
           "ticksuffix": " ",
           "visible": true,
           "zeroline": false,
           "zerolinecolor": "#ccc",
           "zerolinewidth": 1
          },
          "yaxis": {
           "color": "black",
           "gridcolor": "#ccc",
           "gridwidth": 1,
           "linewidth": 1,
           "mirror": true,
           "showgrid": false,
           "showline": true,
           "ticklen": 5,
           "ticks": "outside",
           "ticksuffix": " ",
           "visible": true,
           "zeroline": false,
           "zerolinecolor": "#ccc",
           "zerolinewidth": 1
          }
         }
        },
        "xaxis": {
         "constrain": "domain",
         "range": [
          -0.5,
          14.5
         ],
         "scaleanchor": "y",
         "scaleratio": 1,
         "ticktext": [
          "0: (0, 0)",
          "0: (1, -1)",
          "0: (1, 0)",
          "0: (1, 1)",
          "1: (0, 0)",
          "0: (0, 0)",
          "0: (1, -1)",
          "0: (1, 0)",
          "0: (1, 1)",
          "1: (0, 0)",
          "0: (0, 0)",
          "0: (1, -1)",
          "0: (1, 0)",
          "0: (1, 1)",
          "1: (0, 0)"
         ],
         "tickvals": {
          "bdata": "AAECAwQFBgcICQoLDA0O",
          "dtype": "i1"
         }
        },
        "yaxis": {
         "constrain": "domain",
         "range": [
          4.5,
          -0.5
         ],
         "ticktext": [
          "0: (0, 0)",
          "0: (1, -1)",
          "0: (1, 0)",
          "0: (1, 1)",
          "1: (0, 0)"
         ],
         "tickvals": {
          "bdata": "AAECAwQ=",
          "dtype": "i1"
         }
        }
       }
      }
     },
     "metadata": {},
     "output_type": "display_data"
    }
   ],
   "source": [
    "plot.update_inputs(set_labels=True)"
   ]
  },
  {
   "cell_type": "markdown",
   "metadata": {},
   "source": [
    "Labels have the format: `Atom index: (l, m)`. where l and m are the quantum numbers of the orbital."
   ]
  },
  {
   "cell_type": "code",
   "execution_count": 15,
   "metadata": {
    "execution": {
     "iopub.execute_input": "2025-09-23T10:47:13.298416Z",
     "iopub.status.busy": "2025-09-23T10:47:13.298250Z",
     "iopub.status.idle": "2025-09-23T10:47:13.301024Z",
     "shell.execute_reply": "2025-09-23T10:47:13.300542Z"
    }
   },
   "outputs": [],
   "source": [
    "plot = plot.update_inputs(set_labels=False)"
   ]
  },
  {
   "cell_type": "markdown",
   "metadata": {},
   "source": [
    "## Showing only one cell\n",
    "\n",
    "If you only want to visualize a given cell in the supercell, you can pass the index to the `isc` input."
   ]
  },
  {
   "cell_type": "code",
   "execution_count": 16,
   "metadata": {
    "execution": {
     "iopub.execute_input": "2025-09-23T10:47:13.302608Z",
     "iopub.status.busy": "2025-09-23T10:47:13.302414Z",
     "iopub.status.idle": "2025-09-23T10:47:13.392021Z",
     "shell.execute_reply": "2025-09-23T10:47:13.391413Z"
    }
   },
   "outputs": [
    {
     "name": "stderr",
     "output_type": "stream",
     "text": [
      "INFO\tTask(Task-2) nodify.node.139839764491168:node.py:get()- No need to evaluate\n"
     ]
    },
    {
     "name": "stderr",
     "output_type": "stream",
     "text": [
      "INFO\tTask(Task-2) nodify.node.139839764485936:node.py:get()- No need to evaluate\n"
     ]
    },
    {
     "name": "stderr",
     "output_type": "stream",
     "text": [
      "INFO\tTask(Task-2) nodify.node.139839764484352:node.py:get()- No need to evaluate\n"
     ]
    },
    {
     "name": "stderr",
     "output_type": "stream",
     "text": [
      "INFO\tTask(Task-2) nodify.node.139839764485888:node.py:get()- Evaluated because inputs changed.\n"
     ]
    },
    {
     "name": "stderr",
     "output_type": "stream",
     "text": [
      "INFO\tTask(Task-2) nodify.node.139839764484688:node.py:get()- No need to evaluate\n"
     ]
    },
    {
     "name": "stderr",
     "output_type": "stream",
     "text": [
      "INFO\tTask(Task-2) nodify.node.139839764492944:node.py:get()- Evaluated because inputs changed.\n"
     ]
    },
    {
     "name": "stderr",
     "output_type": "stream",
     "text": [
      "INFO\tTask(Task-2) nodify.node.139839764488096:node.py:get()- No need to evaluate\n"
     ]
    },
    {
     "name": "stderr",
     "output_type": "stream",
     "text": [
      "INFO\tTask(Task-2) nodify.node.139839764488480:node.py:get()- No need to evaluate\n"
     ]
    },
    {
     "name": "stderr",
     "output_type": "stream",
     "text": [
      "INFO\tTask(Task-2) nodify.node.139839764485936:node.py:get()- No need to evaluate\n"
     ]
    },
    {
     "name": "stderr",
     "output_type": "stream",
     "text": [
      "INFO\tTask(Task-2) nodify.node.139839764488864:node.py:get()- No need to evaluate\n"
     ]
    },
    {
     "name": "stderr",
     "output_type": "stream",
     "text": [
      "INFO\tTask(Task-2) nodify.node.139839764488480:node.py:get()- No need to evaluate\n"
     ]
    },
    {
     "name": "stderr",
     "output_type": "stream",
     "text": [
      "INFO\tTask(Task-2) nodify.node.139839764494240:node.py:get()- No need to evaluate\n"
     ]
    },
    {
     "name": "stderr",
     "output_type": "stream",
     "text": [
      "INFO\tTask(Task-2) nodify.node.139839764487712:node.py:get()- No need to evaluate\n"
     ]
    },
    {
     "name": "stderr",
     "output_type": "stream",
     "text": [
      "INFO\tTask(Task-2) nodify.node.139839764489248:node.py:get()- No need to evaluate\n"
     ]
    },
    {
     "name": "stderr",
     "output_type": "stream",
     "text": [
      "INFO\tTask(Task-2) nodify.node.139839764489632:node.py:get()- No need to evaluate\n"
     ]
    },
    {
     "name": "stderr",
     "output_type": "stream",
     "text": [
      "INFO\tTask(Task-2) nodify.node.139839764494144:node.py:get()- Evaluated because inputs changed.\n"
     ]
    },
    {
     "name": "stderr",
     "output_type": "stream",
     "text": [
      "INFO\tTask(Task-2) nodify.node.139839764485936:node.py:get()- No need to evaluate\n"
     ]
    },
    {
     "name": "stderr",
     "output_type": "stream",
     "text": [
      "INFO\tTask(Task-2) nodify.node.139839764484352:node.py:get()- No need to evaluate\n"
     ]
    },
    {
     "name": "stderr",
     "output_type": "stream",
     "text": [
      "INFO\tTask(Task-2) nodify.node.139839764485888:node.py:get()- No need to evaluate\n"
     ]
    },
    {
     "name": "stderr",
     "output_type": "stream",
     "text": [
      "INFO\tTask(Task-2) nodify.node.139839764484688:node.py:get()- No need to evaluate\n"
     ]
    },
    {
     "name": "stderr",
     "output_type": "stream",
     "text": [
      "INFO\tTask(Task-2) nodify.node.139839764492944:node.py:get()- No need to evaluate\n"
     ]
    },
    {
     "name": "stderr",
     "output_type": "stream",
     "text": [
      "INFO\tTask(Task-2) nodify.node.139839764490784:node.py:get()- No need to evaluate\n"
     ]
    },
    {
     "name": "stderr",
     "output_type": "stream",
     "text": [
      "INFO\tTask(Task-2) nodify.node.139839764494912:node.py:get()- No need to evaluate\n"
     ]
    },
    {
     "name": "stderr",
     "output_type": "stream",
     "text": [
      "INFO\tTask(Task-2) nodify.node.139839764494288:node.py:get()- Evaluated because inputs changed.\n"
     ]
    },
    {
     "name": "stderr",
     "output_type": "stream",
     "text": [
      "INFO\tTask(Task-2) nodify.node.139839764486896:node.py:get()- No need to evaluate\n"
     ]
    },
    {
     "name": "stderr",
     "output_type": "stream",
     "text": [
      "INFO\tTask(Task-2) nodify.node.139839764485936:node.py:get()- No need to evaluate\n"
     ]
    },
    {
     "name": "stderr",
     "output_type": "stream",
     "text": [
      "INFO\tTask(Task-2) nodify.node.139839764486560:node.py:get()- No need to evaluate\n"
     ]
    },
    {
     "name": "stderr",
     "output_type": "stream",
     "text": [
      "INFO\tTask(Task-2) nodify.node.139839764492464:node.py:get()- No need to evaluate\n"
     ]
    },
    {
     "name": "stderr",
     "output_type": "stream",
     "text": [
      "INFO\tTask(Task-2) nodify.node.139839764485936:node.py:get()- No need to evaluate\n"
     ]
    },
    {
     "name": "stderr",
     "output_type": "stream",
     "text": [
      "INFO\tTask(Task-2) nodify.node.139839764493040:node.py:get()- No need to evaluate\n"
     ]
    },
    {
     "name": "stderr",
     "output_type": "stream",
     "text": [
      "INFO\tTask(Task-2) nodify.node.139839764494960:node.py:get()- No need to evaluate\n"
     ]
    },
    {
     "name": "stderr",
     "output_type": "stream",
     "text": [
      "INFO\tTask(Task-2) nodify.node.139839764485168:node.py:get()- No need to evaluate\n"
     ]
    },
    {
     "name": "stderr",
     "output_type": "stream",
     "text": [
      "INFO\tTask(Task-2) nodify.node.139839764485936:node.py:get()- No need to evaluate\n"
     ]
    },
    {
     "name": "stderr",
     "output_type": "stream",
     "text": [
      "INFO\tTask(Task-2) nodify.node.139839764486560:node.py:get()- No need to evaluate\n"
     ]
    },
    {
     "name": "stderr",
     "output_type": "stream",
     "text": [
      "INFO\tTask(Task-2) nodify.node.139839764492464:node.py:get()- No need to evaluate\n"
     ]
    },
    {
     "name": "stderr",
     "output_type": "stream",
     "text": [
      "INFO\tTask(Task-2) nodify.node.139839764485936:node.py:get()- No need to evaluate\n"
     ]
    },
    {
     "name": "stderr",
     "output_type": "stream",
     "text": [
      "INFO\tTask(Task-2) nodify.node.139839764493040:node.py:get()- No need to evaluate\n"
     ]
    },
    {
     "name": "stderr",
     "output_type": "stream",
     "text": [
      "INFO\tTask(Task-2) nodify.node.139839764495632:node.py:get()- No need to evaluate\n"
     ]
    },
    {
     "name": "stderr",
     "output_type": "stream",
     "text": [
      "INFO\tTask(Task-2) nodify.node.139839764487280:node.py:get()- No need to evaluate\n"
     ]
    },
    {
     "name": "stderr",
     "output_type": "stream",
     "text": [
      "INFO\tTask(Task-2) nodify.node.139839764485936:node.py:get()- No need to evaluate\n"
     ]
    },
    {
     "name": "stderr",
     "output_type": "stream",
     "text": [
      "INFO\tTask(Task-2) nodify.node.139839764486560:node.py:get()- No need to evaluate\n"
     ]
    },
    {
     "name": "stderr",
     "output_type": "stream",
     "text": [
      "INFO\tTask(Task-2) nodify.node.139839764492464:node.py:get()- No need to evaluate\n"
     ]
    },
    {
     "name": "stderr",
     "output_type": "stream",
     "text": [
      "INFO\tTask(Task-2) nodify.node.139839764485936:node.py:get()- No need to evaluate\n"
     ]
    },
    {
     "name": "stderr",
     "output_type": "stream",
     "text": [
      "INFO\tTask(Task-2) nodify.node.139839764493040:node.py:get()- No need to evaluate\n"
     ]
    },
    {
     "name": "stderr",
     "output_type": "stream",
     "text": [
      "INFO\tTask(Task-2) nodify.node.139839764495968:node.py:get()- No need to evaluate\n"
     ]
    },
    {
     "name": "stderr",
     "output_type": "stream",
     "text": [
      "INFO\tTask(Task-2) nodify.node.139839764485936:node.py:get()- No need to evaluate\n"
     ]
    },
    {
     "name": "stderr",
     "output_type": "stream",
     "text": [
      "INFO\tTask(Task-2) nodify.node.139839764484352:node.py:get()- No need to evaluate\n"
     ]
    },
    {
     "name": "stderr",
     "output_type": "stream",
     "text": [
      "INFO\tTask(Task-2) nodify.node.139839764485888:node.py:get()- No need to evaluate\n"
     ]
    },
    {
     "name": "stderr",
     "output_type": "stream",
     "text": [
      "INFO\tTask(Task-2) nodify.node.139839764484688:node.py:get()- No need to evaluate\n"
     ]
    },
    {
     "name": "stderr",
     "output_type": "stream",
     "text": [
      "INFO\tTask(Task-2) nodify.node.139839764492944:node.py:get()- No need to evaluate\n"
     ]
    },
    {
     "name": "stderr",
     "output_type": "stream",
     "text": [
      "INFO\tTask(Task-2) nodify.node.139839764485936:node.py:get()- No need to evaluate\n"
     ]
    },
    {
     "name": "stderr",
     "output_type": "stream",
     "text": [
      "INFO\tTask(Task-2) nodify.node.139839764486560:node.py:get()- No need to evaluate\n"
     ]
    },
    {
     "name": "stderr",
     "output_type": "stream",
     "text": [
      "INFO\tTask(Task-2) nodify.node.139839764492464:node.py:get()- No need to evaluate\n"
     ]
    },
    {
     "name": "stderr",
     "output_type": "stream",
     "text": [
      "INFO\tTask(Task-2) nodify.node.139839764485936:node.py:get()- No need to evaluate\n"
     ]
    },
    {
     "name": "stderr",
     "output_type": "stream",
     "text": [
      "INFO\tTask(Task-2) nodify.node.139839764493040:node.py:get()- No need to evaluate\n"
     ]
    },
    {
     "name": "stderr",
     "output_type": "stream",
     "text": [
      "INFO\tTask(Task-2) nodify.node.139839764490400:node.py:get()- No need to evaluate\n"
     ]
    },
    {
     "name": "stderr",
     "output_type": "stream",
     "text": [
      "INFO\tTask(Task-2) nodify.node.139839764490016:node.py:get()- Evaluated because inputs changed.\n"
     ]
    },
    {
     "name": "stderr",
     "output_type": "stream",
     "text": [
      "INFO\tTask(Task-2) nodify.node.139839764492752:node.py:get()- Evaluated because inputs changed.\n"
     ]
    },
    {
     "name": "stderr",
     "output_type": "stream",
     "text": [
      "INFO\tTask(Task-2) nodify.node.139839764493184:node.py:get()- Evaluated because inputs changed.\n"
     ]
    },
    {
     "name": "stderr",
     "output_type": "stream",
     "text": [
      "INFO\tTask(Task-2) nodify.node.139839764494048:node.py:get()- Evaluated because inputs changed.\n"
     ]
    },
    {
     "name": "stderr",
     "output_type": "stream",
     "text": [
      "INFO\tTask(Task-2) nodify.node.139839764628064:node.py:get()- Evaluated because inputs changed.\n"
     ]
    },
    {
     "data": {
      "application/vnd.plotly.v1+json": {
       "config": {
        "plotlyServerURL": "https://plot.ly"
       },
       "data": [
        {
         "coloraxis": "coloraxis",
         "meta": {},
         "opacity": 1,
         "texttemplate": "%{z:.2f}",
         "type": "heatmap",
         "z": {
          "bdata": "AAAAAAAA+H8AAAAAAAD4fwAAAAAAAPh/AAAAAAAA+H/ZULI/EPKqvwAAAAAAAPh/AAAAAAAA+H8AAAAAAAD4fwAAAAAAAPh/bIHAm3jrnT8AAAAAAAD4fwAAAAAAAPh/AAAAAAAA+H8AAAAAAAD4f6Jydcgvfca/AAAAAAAA+H8AAAAAAAD4fwAAAAAAAPh/AAAAAAAA+H/6NDNnzw2SvwAAAAAAAPh/AAAAAAAA+H8AAAAAAAD4fwAAAAAAAPh/AAAAAAAA+H8=",
          "dtype": "f8",
          "shape": "5, 5"
         },
         "zsmooth": false
        },
        {
         "line": {
          "color": "pink",
          "dash": "dash",
          "width": 5
         },
         "meta": {},
         "mode": "lines",
         "name": "orbitals separators",
         "opacity": 0.8,
         "showlegend": false,
         "type": "scatter",
         "x": {
          "bdata": "AAAAAAAA4L8AAAAAAAASQAAAAAAAAPh/AAAAAAAA4D8AAAAAAADgPwAAAAAAAPh/",
          "dtype": "f8"
         },
         "y": {
          "bdata": "AAAAAAAA4D8AAAAAAADgPwAAAAAAAPh/AAAAAAAA4L8AAAAAAAASQAAAAAAAAPh/",
          "dtype": "f8"
         }
        },
        {
         "line": {
          "color": "gray"
         },
         "meta": {},
         "mode": "lines",
         "name": "atoms separators",
         "opacity": 1,
         "showlegend": false,
         "type": "scatter",
         "x": {
          "bdata": "AAAAAAAA4L8AAAAAAAASQAAAAAAAAPh/AAAAAAAADEAAAAAAAAAMQAAAAAAAAPh/",
          "dtype": "f8"
         },
         "y": {
          "bdata": "AAAAAAAADEAAAAAAAAAMQAAAAAAAAPh/AAAAAAAA4L8AAAAAAAASQAAAAAAAAPh/",
          "dtype": "f8"
         }
        }
       ],
       "layout": {
        "coloraxis": {
         "cmid": 0,
         "colorscale": [
          [
           0.0,
           "rgb(0, 147, 146)"
          ],
          [
           0.16666666666666666,
           "rgb(57, 177, 133)"
          ],
          [
           0.3333333333333333,
           "rgb(156, 203, 134)"
          ],
          [
           0.5,
           "rgb(233, 226, 156)"
          ],
          [
           0.6666666666666666,
           "rgb(238, 180, 121)"
          ],
          [
           0.8333333333333334,
           "rgb(232, 132, 113)"
          ],
          [
           1.0,
           "rgb(207, 89, 126)"
          ]
         ],
         "showscale": true
        },
        "scene": {
         "aspectmode": "data",
         "xaxis": {
          "range": [
           -0.5,
           4.5
          ]
         },
         "yaxis": {
          "range": [
           4.5,
           -0.5
          ]
         }
        },
        "template": {
         "layout": {
          "hovermode": "closest",
          "paper_bgcolor": "white",
          "plot_bgcolor": "white",
          "scene": {
           "xaxis": {
            "color": "black",
            "gridcolor": "#ccc",
            "gridwidth": 1,
            "linewidth": 1,
            "mirror": true,
            "showgrid": false,
            "showline": true,
            "ticklen": 5,
            "ticks": "outside",
            "ticksuffix": " ",
            "visible": true,
            "zeroline": false,
            "zerolinecolor": "#ccc",
            "zerolinewidth": 1
           },
           "yaxis": {
            "color": "black",
            "gridcolor": "#ccc",
            "gridwidth": 1,
            "linewidth": 1,
            "mirror": true,
            "showgrid": false,
            "showline": true,
            "ticklen": 5,
            "ticks": "outside",
            "ticksuffix": " ",
            "visible": true,
            "zeroline": false,
            "zerolinecolor": "#ccc",
            "zerolinewidth": 1
           },
           "zaxis": {
            "color": "black",
            "gridcolor": "#ccc",
            "gridwidth": 1,
            "linewidth": 1,
            "mirror": true,
            "showgrid": false,
            "showline": true,
            "ticklen": 5,
            "ticks": "outside",
            "ticksuffix": " ",
            "visible": true,
            "zeroline": false,
            "zerolinecolor": "#ccc",
            "zerolinewidth": 1
           }
          },
          "xaxis": {
           "color": "black",
           "gridcolor": "#ccc",
           "gridwidth": 1,
           "linewidth": 1,
           "mirror": true,
           "showgrid": false,
           "showline": true,
           "ticklen": 5,
           "ticks": "outside",
           "ticksuffix": " ",
           "visible": true,
           "zeroline": false,
           "zerolinecolor": "#ccc",
           "zerolinewidth": 1
          },
          "yaxis": {
           "color": "black",
           "gridcolor": "#ccc",
           "gridwidth": 1,
           "linewidth": 1,
           "mirror": true,
           "showgrid": false,
           "showline": true,
           "ticklen": 5,
           "ticks": "outside",
           "ticksuffix": " ",
           "visible": true,
           "zeroline": false,
           "zerolinecolor": "#ccc",
           "zerolinewidth": 1
          }
         }
        },
        "xaxis": {
         "constrain": "domain",
         "range": [
          -0.5,
          4.5
         ],
         "scaleanchor": "y",
         "scaleratio": 1
        },
        "yaxis": {
         "constrain": "domain",
         "range": [
          4.5,
          -0.5
         ]
        }
       }
      }
     },
     "metadata": {},
     "output_type": "display_data"
    }
   ],
   "source": [
    "plot.update_inputs(isc=1)"
   ]
  },
  {
   "cell_type": "markdown",
   "metadata": {},
   "source": [
    "To go back to visualizing the whole supercell, just set `isc` to `None`."
   ]
  },
  {
   "cell_type": "code",
   "execution_count": 17,
   "metadata": {
    "execution": {
     "iopub.execute_input": "2025-09-23T10:47:13.393716Z",
     "iopub.status.busy": "2025-09-23T10:47:13.393505Z",
     "iopub.status.idle": "2025-09-23T10:47:13.485539Z",
     "shell.execute_reply": "2025-09-23T10:47:13.485064Z"
    }
   },
   "outputs": [
    {
     "name": "stderr",
     "output_type": "stream",
     "text": [
      "INFO\tTask(Task-2) nodify.node.139839764491168:node.py:get()- No need to evaluate\n"
     ]
    },
    {
     "name": "stderr",
     "output_type": "stream",
     "text": [
      "INFO\tTask(Task-2) nodify.node.139839764485936:node.py:get()- No need to evaluate\n"
     ]
    },
    {
     "name": "stderr",
     "output_type": "stream",
     "text": [
      "INFO\tTask(Task-2) nodify.node.139839764484352:node.py:get()- No need to evaluate\n"
     ]
    },
    {
     "name": "stderr",
     "output_type": "stream",
     "text": [
      "INFO\tTask(Task-2) nodify.node.139839764485888:node.py:get()- Evaluated because inputs changed.\n"
     ]
    },
    {
     "name": "stderr",
     "output_type": "stream",
     "text": [
      "INFO\tTask(Task-2) nodify.node.139839764484688:node.py:get()- No need to evaluate\n"
     ]
    },
    {
     "name": "stderr",
     "output_type": "stream",
     "text": [
      "INFO\tTask(Task-2) nodify.node.139839764492944:node.py:get()- Evaluated because inputs changed.\n"
     ]
    },
    {
     "name": "stderr",
     "output_type": "stream",
     "text": [
      "INFO\tTask(Task-2) nodify.node.139839764488096:node.py:get()- No need to evaluate\n"
     ]
    },
    {
     "name": "stderr",
     "output_type": "stream",
     "text": [
      "INFO\tTask(Task-2) nodify.node.139839764488480:node.py:get()- No need to evaluate\n"
     ]
    },
    {
     "name": "stderr",
     "output_type": "stream",
     "text": [
      "INFO\tTask(Task-2) nodify.node.139839764485936:node.py:get()- No need to evaluate\n"
     ]
    },
    {
     "name": "stderr",
     "output_type": "stream",
     "text": [
      "INFO\tTask(Task-2) nodify.node.139839764488864:node.py:get()- No need to evaluate\n"
     ]
    },
    {
     "name": "stderr",
     "output_type": "stream",
     "text": [
      "INFO\tTask(Task-2) nodify.node.139839764488480:node.py:get()- No need to evaluate\n"
     ]
    },
    {
     "name": "stderr",
     "output_type": "stream",
     "text": [
      "INFO\tTask(Task-2) nodify.node.139839764494240:node.py:get()- No need to evaluate\n"
     ]
    },
    {
     "name": "stderr",
     "output_type": "stream",
     "text": [
      "INFO\tTask(Task-2) nodify.node.139839764487712:node.py:get()- No need to evaluate\n"
     ]
    },
    {
     "name": "stderr",
     "output_type": "stream",
     "text": [
      "INFO\tTask(Task-2) nodify.node.139839764489248:node.py:get()- No need to evaluate\n"
     ]
    },
    {
     "name": "stderr",
     "output_type": "stream",
     "text": [
      "INFO\tTask(Task-2) nodify.node.139839764489632:node.py:get()- No need to evaluate\n"
     ]
    },
    {
     "name": "stderr",
     "output_type": "stream",
     "text": [
      "INFO\tTask(Task-2) nodify.node.139839764494144:node.py:get()- Evaluated because inputs changed.\n"
     ]
    },
    {
     "name": "stderr",
     "output_type": "stream",
     "text": [
      "INFO\tTask(Task-2) nodify.node.139839764485936:node.py:get()- No need to evaluate\n"
     ]
    },
    {
     "name": "stderr",
     "output_type": "stream",
     "text": [
      "INFO\tTask(Task-2) nodify.node.139839764484352:node.py:get()- No need to evaluate\n"
     ]
    },
    {
     "name": "stderr",
     "output_type": "stream",
     "text": [
      "INFO\tTask(Task-2) nodify.node.139839764485888:node.py:get()- No need to evaluate\n"
     ]
    },
    {
     "name": "stderr",
     "output_type": "stream",
     "text": [
      "INFO\tTask(Task-2) nodify.node.139839764484688:node.py:get()- No need to evaluate\n"
     ]
    },
    {
     "name": "stderr",
     "output_type": "stream",
     "text": [
      "INFO\tTask(Task-2) nodify.node.139839764492944:node.py:get()- No need to evaluate\n"
     ]
    },
    {
     "name": "stderr",
     "output_type": "stream",
     "text": [
      "INFO\tTask(Task-2) nodify.node.139839764490784:node.py:get()- No need to evaluate\n"
     ]
    },
    {
     "name": "stderr",
     "output_type": "stream",
     "text": [
      "INFO\tTask(Task-2) nodify.node.139839764494912:node.py:get()- No need to evaluate\n"
     ]
    },
    {
     "name": "stderr",
     "output_type": "stream",
     "text": [
      "INFO\tTask(Task-2) nodify.node.139839764494288:node.py:get()- Evaluated because inputs changed.\n"
     ]
    },
    {
     "name": "stderr",
     "output_type": "stream",
     "text": [
      "INFO\tTask(Task-2) nodify.node.139839764486896:node.py:get()- No need to evaluate\n"
     ]
    },
    {
     "name": "stderr",
     "output_type": "stream",
     "text": [
      "INFO\tTask(Task-2) nodify.node.139839764485936:node.py:get()- No need to evaluate\n"
     ]
    },
    {
     "name": "stderr",
     "output_type": "stream",
     "text": [
      "INFO\tTask(Task-2) nodify.node.139839764486560:node.py:get()- No need to evaluate\n"
     ]
    },
    {
     "name": "stderr",
     "output_type": "stream",
     "text": [
      "INFO\tTask(Task-2) nodify.node.139839764492464:node.py:get()- No need to evaluate\n"
     ]
    },
    {
     "name": "stderr",
     "output_type": "stream",
     "text": [
      "INFO\tTask(Task-2) nodify.node.139839764485936:node.py:get()- No need to evaluate\n"
     ]
    },
    {
     "name": "stderr",
     "output_type": "stream",
     "text": [
      "INFO\tTask(Task-2) nodify.node.139839764493040:node.py:get()- No need to evaluate\n"
     ]
    },
    {
     "name": "stderr",
     "output_type": "stream",
     "text": [
      "INFO\tTask(Task-2) nodify.node.139839764494960:node.py:get()- No need to evaluate\n"
     ]
    },
    {
     "name": "stderr",
     "output_type": "stream",
     "text": [
      "INFO\tTask(Task-2) nodify.node.139839764485168:node.py:get()- No need to evaluate\n"
     ]
    },
    {
     "name": "stderr",
     "output_type": "stream",
     "text": [
      "INFO\tTask(Task-2) nodify.node.139839764485936:node.py:get()- No need to evaluate\n"
     ]
    },
    {
     "name": "stderr",
     "output_type": "stream",
     "text": [
      "INFO\tTask(Task-2) nodify.node.139839764486560:node.py:get()- No need to evaluate\n"
     ]
    },
    {
     "name": "stderr",
     "output_type": "stream",
     "text": [
      "INFO\tTask(Task-2) nodify.node.139839764492464:node.py:get()- No need to evaluate\n"
     ]
    },
    {
     "name": "stderr",
     "output_type": "stream",
     "text": [
      "INFO\tTask(Task-2) nodify.node.139839764485936:node.py:get()- No need to evaluate\n"
     ]
    },
    {
     "name": "stderr",
     "output_type": "stream",
     "text": [
      "INFO\tTask(Task-2) nodify.node.139839764493040:node.py:get()- No need to evaluate\n"
     ]
    },
    {
     "name": "stderr",
     "output_type": "stream",
     "text": [
      "INFO\tTask(Task-2) nodify.node.139839764495632:node.py:get()- No need to evaluate\n"
     ]
    },
    {
     "name": "stderr",
     "output_type": "stream",
     "text": [
      "INFO\tTask(Task-2) nodify.node.139839764487280:node.py:get()- No need to evaluate\n"
     ]
    },
    {
     "name": "stderr",
     "output_type": "stream",
     "text": [
      "INFO\tTask(Task-2) nodify.node.139839764485936:node.py:get()- No need to evaluate\n"
     ]
    },
    {
     "name": "stderr",
     "output_type": "stream",
     "text": [
      "INFO\tTask(Task-2) nodify.node.139839764486560:node.py:get()- No need to evaluate\n"
     ]
    },
    {
     "name": "stderr",
     "output_type": "stream",
     "text": [
      "INFO\tTask(Task-2) nodify.node.139839764492464:node.py:get()- No need to evaluate\n"
     ]
    },
    {
     "name": "stderr",
     "output_type": "stream",
     "text": [
      "INFO\tTask(Task-2) nodify.node.139839764485936:node.py:get()- No need to evaluate\n"
     ]
    },
    {
     "name": "stderr",
     "output_type": "stream",
     "text": [
      "INFO\tTask(Task-2) nodify.node.139839764493040:node.py:get()- No need to evaluate\n"
     ]
    },
    {
     "name": "stderr",
     "output_type": "stream",
     "text": [
      "INFO\tTask(Task-2) nodify.node.139839764495968:node.py:get()- No need to evaluate\n"
     ]
    },
    {
     "name": "stderr",
     "output_type": "stream",
     "text": [
      "INFO\tTask(Task-2) nodify.node.139839764485936:node.py:get()- No need to evaluate\n"
     ]
    },
    {
     "name": "stderr",
     "output_type": "stream",
     "text": [
      "INFO\tTask(Task-2) nodify.node.139839764484352:node.py:get()- No need to evaluate\n"
     ]
    },
    {
     "name": "stderr",
     "output_type": "stream",
     "text": [
      "INFO\tTask(Task-2) nodify.node.139839764485888:node.py:get()- No need to evaluate\n"
     ]
    },
    {
     "name": "stderr",
     "output_type": "stream",
     "text": [
      "INFO\tTask(Task-2) nodify.node.139839764484688:node.py:get()- No need to evaluate\n"
     ]
    },
    {
     "name": "stderr",
     "output_type": "stream",
     "text": [
      "INFO\tTask(Task-2) nodify.node.139839764492944:node.py:get()- No need to evaluate\n"
     ]
    },
    {
     "name": "stderr",
     "output_type": "stream",
     "text": [
      "INFO\tTask(Task-2) nodify.node.139839764485936:node.py:get()- No need to evaluate\n"
     ]
    },
    {
     "name": "stderr",
     "output_type": "stream",
     "text": [
      "INFO\tTask(Task-2) nodify.node.139839764486560:node.py:get()- No need to evaluate\n"
     ]
    },
    {
     "name": "stderr",
     "output_type": "stream",
     "text": [
      "INFO\tTask(Task-2) nodify.node.139839764492464:node.py:get()- No need to evaluate\n"
     ]
    },
    {
     "name": "stderr",
     "output_type": "stream",
     "text": [
      "INFO\tTask(Task-2) nodify.node.139839764485936:node.py:get()- No need to evaluate\n"
     ]
    },
    {
     "name": "stderr",
     "output_type": "stream",
     "text": [
      "INFO\tTask(Task-2) nodify.node.139839764493040:node.py:get()- No need to evaluate\n"
     ]
    },
    {
     "name": "stderr",
     "output_type": "stream",
     "text": [
      "INFO\tTask(Task-2) nodify.node.139839764490400:node.py:get()- No need to evaluate\n"
     ]
    },
    {
     "name": "stderr",
     "output_type": "stream",
     "text": [
      "INFO\tTask(Task-2) nodify.node.139839764490016:node.py:get()- No need to evaluate\n"
     ]
    },
    {
     "name": "stderr",
     "output_type": "stream",
     "text": [
      "INFO\tTask(Task-2) nodify.node.139839764492752:node.py:get()- Evaluated because inputs changed.\n"
     ]
    },
    {
     "name": "stderr",
     "output_type": "stream",
     "text": [
      "INFO\tTask(Task-2) nodify.node.139839764493184:node.py:get()- Evaluated because inputs changed.\n"
     ]
    },
    {
     "name": "stderr",
     "output_type": "stream",
     "text": [
      "INFO\tTask(Task-2) nodify.node.139839764494048:node.py:get()- Evaluated because inputs changed.\n"
     ]
    },
    {
     "name": "stderr",
     "output_type": "stream",
     "text": [
      "INFO\tTask(Task-2) nodify.node.139839764628064:node.py:get()- Evaluated because inputs changed.\n"
     ]
    },
    {
     "data": {
      "application/vnd.plotly.v1+json": {
       "config": {
        "plotlyServerURL": "https://plot.ly"
       },
       "data": [
        {
         "coloraxis": "coloraxis",
         "meta": {},
         "opacity": 1,
         "texttemplate": "%{z:.2f}",
         "type": "heatmap",
         "z": {
          "bdata": "4JCpuuPRpL+Y7HLsBUy2Py4xCYhNKdK/zOQ+RZxxyL+49usRigW6PwAAAAAAAPh/AAAAAAAA+H8AAAAAAAD4fwAAAAAAAPh/2VCyPxDyqr8AAAAAAAD4fwAAAAAAAPh/AAAAAAAA+H8AAAAAAAD4fwAAAAAAAPh/mOxy7AVMtj8Q82TzA/zOv+BoIXZYoJQ/gNYsWTMqpD+QTED17n2jvwAAAAAAAPh/AAAAAAAA+H8AAAAAAAD4fwAAAAAAAPh/bIHAm3jrnT8AAAAAAAD4fwAAAAAAAPh/AAAAAAAA+H8AAAAAAAD4fwAAAAAAAPh/LjEJiE0p0r/gaCF2WKCUP1g8rJicRto/MHeeZEVSsb9mFzTSrXHfvwAAAAAAAPh/AAAAAAAA+H8AAAAAAAD4fwAAAAAAAPh/onJ1yC99xr8AAAAAAAD4fwAAAAAAAPh/AAAAAAAA+H8AAAAAAAD4fwAAAAAAAPh/zOQ+RZxxyL+A1ixZMyqkPzB3nmRFUrG/CD9o6sOg67+K8JgSdFPgvwAAAAAAAPh/AAAAAAAA+H8AAAAAAAD4fwAAAAAAAPh/+jQzZ88Nkr8AAAAAAAD4fwAAAAAAAPh/AAAAAAAA+H8AAAAAAAD4fwAAAAAAAPh/uPbrEYoFuj+QTED17n2jv2YXNNKtcd+/ivCYEnRT4L/4Sk6fQ/rHvwAAAAAAAPh/AAAAAAAA+H8AAAAAAAD4fwAAAAAAAPh/AAAAAAAA+H/ZULI/EPKqv2yBwJt4650/onJ1yC99xr/6NDNnzw2SvwAAAAAAAPh/",
          "dtype": "f8",
          "shape": "5, 15"
         },
         "zsmooth": false
        },
        {
         "line": {
          "color": "pink",
          "dash": "dash",
          "width": 5
         },
         "meta": {},
         "mode": "lines",
         "name": "orbitals separators",
         "opacity": 0.8,
         "showlegend": false,
         "type": "scatter",
         "x": {
          "bdata": "AAAAAAAA4L8AAAAAAAASQAAAAAAAAPh/AAAAAAAA4D8AAAAAAADgPwAAAAAAAPh/",
          "dtype": "f8"
         },
         "y": {
          "bdata": "AAAAAAAA4D8AAAAAAADgPwAAAAAAAPh/AAAAAAAA4L8AAAAAAAASQAAAAAAAAPh/",
          "dtype": "f8"
         }
        },
        {
         "line": {
          "color": "gray"
         },
         "meta": {},
         "mode": "lines",
         "name": "atoms separators",
         "opacity": 1,
         "showlegend": false,
         "type": "scatter",
         "x": {
          "bdata": "AAAAAAAA4L8AAAAAAAASQAAAAAAAAPh/AAAAAAAADEAAAAAAAAAMQAAAAAAAAPh/",
          "dtype": "f8"
         },
         "y": {
          "bdata": "AAAAAAAADEAAAAAAAAAMQAAAAAAAAPh/AAAAAAAA4L8AAAAAAAASQAAAAAAAAPh/",
          "dtype": "f8"
         }
        }
       ],
       "layout": {
        "coloraxis": {
         "cmid": 0,
         "colorscale": [
          [
           0.0,
           "rgb(0, 147, 146)"
          ],
          [
           0.16666666666666666,
           "rgb(57, 177, 133)"
          ],
          [
           0.3333333333333333,
           "rgb(156, 203, 134)"
          ],
          [
           0.5,
           "rgb(233, 226, 156)"
          ],
          [
           0.6666666666666666,
           "rgb(238, 180, 121)"
          ],
          [
           0.8333333333333334,
           "rgb(232, 132, 113)"
          ],
          [
           1.0,
           "rgb(207, 89, 126)"
          ]
         ],
         "showscale": true
        },
        "scene": {
         "aspectmode": "data",
         "xaxis": {
          "range": [
           -0.5,
           14.5
          ]
         },
         "yaxis": {
          "range": [
           4.5,
           -0.5
          ]
         }
        },
        "template": {
         "layout": {
          "hovermode": "closest",
          "paper_bgcolor": "white",
          "plot_bgcolor": "white",
          "scene": {
           "xaxis": {
            "color": "black",
            "gridcolor": "#ccc",
            "gridwidth": 1,
            "linewidth": 1,
            "mirror": true,
            "showgrid": false,
            "showline": true,
            "ticklen": 5,
            "ticks": "outside",
            "ticksuffix": " ",
            "visible": true,
            "zeroline": false,
            "zerolinecolor": "#ccc",
            "zerolinewidth": 1
           },
           "yaxis": {
            "color": "black",
            "gridcolor": "#ccc",
            "gridwidth": 1,
            "linewidth": 1,
            "mirror": true,
            "showgrid": false,
            "showline": true,
            "ticklen": 5,
            "ticks": "outside",
            "ticksuffix": " ",
            "visible": true,
            "zeroline": false,
            "zerolinecolor": "#ccc",
            "zerolinewidth": 1
           },
           "zaxis": {
            "color": "black",
            "gridcolor": "#ccc",
            "gridwidth": 1,
            "linewidth": 1,
            "mirror": true,
            "showgrid": false,
            "showline": true,
            "ticklen": 5,
            "ticks": "outside",
            "ticksuffix": " ",
            "visible": true,
            "zeroline": false,
            "zerolinecolor": "#ccc",
            "zerolinewidth": 1
           }
          },
          "xaxis": {
           "color": "black",
           "gridcolor": "#ccc",
           "gridwidth": 1,
           "linewidth": 1,
           "mirror": true,
           "showgrid": false,
           "showline": true,
           "ticklen": 5,
           "ticks": "outside",
           "ticksuffix": " ",
           "visible": true,
           "zeroline": false,
           "zerolinecolor": "#ccc",
           "zerolinewidth": 1
          },
          "yaxis": {
           "color": "black",
           "gridcolor": "#ccc",
           "gridwidth": 1,
           "linewidth": 1,
           "mirror": true,
           "showgrid": false,
           "showline": true,
           "ticklen": 5,
           "ticks": "outside",
           "ticksuffix": " ",
           "visible": true,
           "zeroline": false,
           "zerolinecolor": "#ccc",
           "zerolinewidth": 1
          }
         }
        },
        "xaxis": {
         "constrain": "domain",
         "range": [
          -0.5,
          14.5
         ],
         "scaleanchor": "y",
         "scaleratio": 1
        },
        "yaxis": {
         "constrain": "domain",
         "range": [
          4.5,
          -0.5
         ]
        }
       }
      }
     },
     "metadata": {},
     "output_type": "display_data"
    }
   ],
   "source": [
    "plot.update_inputs(isc=None)"
   ]
  },
  {
   "cell_type": "markdown",
   "metadata": {},
   "source": [
    "## Arrows\n",
    "\n",
    "One can ask for an arrow to be drawn on each matrix element. You are free to represent whatever you like as arrows.\n",
    "\n",
    "The arrow specification works the same as for atom arrows in `GeometryPlot`. It is a dictionary with the key `data` containing the arrow data and the styling keys (`color`, `width`, `opacity`...) to tweak the style.\n",
    "\n",
    "However, there is one main difference. If `data` is skipped, vertical arrows are drawn, with the value of the corresponding matrix element defining the length of the arrow:"
   ]
  },
  {
   "cell_type": "code",
   "execution_count": 18,
   "metadata": {
    "execution": {
     "iopub.execute_input": "2025-09-23T10:47:13.487224Z",
     "iopub.status.busy": "2025-09-23T10:47:13.487058Z",
     "iopub.status.idle": "2025-09-23T10:47:15.151150Z",
     "shell.execute_reply": "2025-09-23T10:47:15.150282Z"
    },
    "tags": [
     "nbsphinx-thumbnail"
    ]
   },
   "outputs": [
    {
     "name": "stderr",
     "output_type": "stream",
     "text": [
      "INFO\tTask(Task-2) nodify.node.139839764491168:node.py:get()- No need to evaluate\n"
     ]
    },
    {
     "name": "stderr",
     "output_type": "stream",
     "text": [
      "INFO\tTask(Task-2) nodify.node.139839764485936:node.py:get()- No need to evaluate\n"
     ]
    },
    {
     "name": "stderr",
     "output_type": "stream",
     "text": [
      "INFO\tTask(Task-2) nodify.node.139839764484352:node.py:get()- No need to evaluate\n"
     ]
    },
    {
     "name": "stderr",
     "output_type": "stream",
     "text": [
      "INFO\tTask(Task-2) nodify.node.139839764485888:node.py:get()- No need to evaluate\n"
     ]
    },
    {
     "name": "stderr",
     "output_type": "stream",
     "text": [
      "INFO\tTask(Task-2) nodify.node.139839764484688:node.py:get()- No need to evaluate\n"
     ]
    },
    {
     "name": "stderr",
     "output_type": "stream",
     "text": [
      "INFO\tTask(Task-2) nodify.node.139839764492944:node.py:get()- No need to evaluate\n"
     ]
    },
    {
     "name": "stderr",
     "output_type": "stream",
     "text": [
      "INFO\tTask(Task-2) nodify.node.139839764488096:node.py:get()- No need to evaluate\n"
     ]
    },
    {
     "name": "stderr",
     "output_type": "stream",
     "text": [
      "INFO\tTask(Task-2) nodify.node.139839764488480:node.py:get()- No need to evaluate\n"
     ]
    },
    {
     "name": "stderr",
     "output_type": "stream",
     "text": [
      "INFO\tTask(Task-2) nodify.node.139839764485936:node.py:get()- No need to evaluate\n"
     ]
    },
    {
     "name": "stderr",
     "output_type": "stream",
     "text": [
      "INFO\tTask(Task-2) nodify.node.139839764488864:node.py:get()- No need to evaluate\n"
     ]
    },
    {
     "name": "stderr",
     "output_type": "stream",
     "text": [
      "INFO\tTask(Task-2) nodify.node.139839764488480:node.py:get()- No need to evaluate\n"
     ]
    },
    {
     "name": "stderr",
     "output_type": "stream",
     "text": [
      "INFO\tTask(Task-2) nodify.node.139839764494240:node.py:get()- No need to evaluate\n"
     ]
    },
    {
     "name": "stderr",
     "output_type": "stream",
     "text": [
      "INFO\tTask(Task-2) nodify.node.139839764487712:node.py:get()- No need to evaluate\n"
     ]
    },
    {
     "name": "stderr",
     "output_type": "stream",
     "text": [
      "INFO\tTask(Task-2) nodify.node.139839764489248:node.py:get()- No need to evaluate\n"
     ]
    },
    {
     "name": "stderr",
     "output_type": "stream",
     "text": [
      "INFO\tTask(Task-2) nodify.node.139839764489632:node.py:get()- No need to evaluate\n"
     ]
    },
    {
     "name": "stderr",
     "output_type": "stream",
     "text": [
      "INFO\tTask(Task-2) nodify.node.139839764494144:node.py:get()- No need to evaluate\n"
     ]
    },
    {
     "name": "stderr",
     "output_type": "stream",
     "text": [
      "INFO\tTask(Task-2) nodify.node.139839764485936:node.py:get()- No need to evaluate\n"
     ]
    },
    {
     "name": "stderr",
     "output_type": "stream",
     "text": [
      "INFO\tTask(Task-2) nodify.node.139839764484352:node.py:get()- No need to evaluate\n"
     ]
    },
    {
     "name": "stderr",
     "output_type": "stream",
     "text": [
      "INFO\tTask(Task-2) nodify.node.139839764485888:node.py:get()- No need to evaluate\n"
     ]
    },
    {
     "name": "stderr",
     "output_type": "stream",
     "text": [
      "INFO\tTask(Task-2) nodify.node.139839764484688:node.py:get()- No need to evaluate\n"
     ]
    },
    {
     "name": "stderr",
     "output_type": "stream",
     "text": [
      "INFO\tTask(Task-2) nodify.node.139839764492944:node.py:get()- No need to evaluate\n"
     ]
    },
    {
     "name": "stderr",
     "output_type": "stream",
     "text": [
      "INFO\tTask(Task-2) nodify.node.139839764490784:node.py:get()- Evaluated because inputs changed.\n"
     ]
    },
    {
     "name": "stderr",
     "output_type": "stream",
     "text": [
      "INFO\tTask(Task-2) nodify.node.139839764494912:node.py:get()- Evaluated because inputs changed.\n"
     ]
    },
    {
     "name": "stderr",
     "output_type": "stream",
     "text": [
      "INFO\tTask(Task-2) nodify.node.139839764494288:node.py:get()- Evaluated because inputs changed.\n"
     ]
    },
    {
     "name": "stderr",
     "output_type": "stream",
     "text": [
      "INFO\tTask(Task-2) nodify.node.139839764486896:node.py:get()- No need to evaluate\n"
     ]
    },
    {
     "name": "stderr",
     "output_type": "stream",
     "text": [
      "INFO\tTask(Task-2) nodify.node.139839764485936:node.py:get()- No need to evaluate\n"
     ]
    },
    {
     "name": "stderr",
     "output_type": "stream",
     "text": [
      "INFO\tTask(Task-2) nodify.node.139839764486560:node.py:get()- No need to evaluate\n"
     ]
    },
    {
     "name": "stderr",
     "output_type": "stream",
     "text": [
      "INFO\tTask(Task-2) nodify.node.139839764492464:node.py:get()- No need to evaluate\n"
     ]
    },
    {
     "name": "stderr",
     "output_type": "stream",
     "text": [
      "INFO\tTask(Task-2) nodify.node.139839764485936:node.py:get()- No need to evaluate\n"
     ]
    },
    {
     "name": "stderr",
     "output_type": "stream",
     "text": [
      "INFO\tTask(Task-2) nodify.node.139839764493040:node.py:get()- No need to evaluate\n"
     ]
    },
    {
     "name": "stderr",
     "output_type": "stream",
     "text": [
      "INFO\tTask(Task-2) nodify.node.139839764494960:node.py:get()- No need to evaluate\n"
     ]
    },
    {
     "name": "stderr",
     "output_type": "stream",
     "text": [
      "INFO\tTask(Task-2) nodify.node.139839764485168:node.py:get()- No need to evaluate\n"
     ]
    },
    {
     "name": "stderr",
     "output_type": "stream",
     "text": [
      "INFO\tTask(Task-2) nodify.node.139839764485936:node.py:get()- No need to evaluate\n"
     ]
    },
    {
     "name": "stderr",
     "output_type": "stream",
     "text": [
      "INFO\tTask(Task-2) nodify.node.139839764486560:node.py:get()- No need to evaluate\n"
     ]
    },
    {
     "name": "stderr",
     "output_type": "stream",
     "text": [
      "INFO\tTask(Task-2) nodify.node.139839764492464:node.py:get()- No need to evaluate\n"
     ]
    },
    {
     "name": "stderr",
     "output_type": "stream",
     "text": [
      "INFO\tTask(Task-2) nodify.node.139839764485936:node.py:get()- No need to evaluate\n"
     ]
    },
    {
     "name": "stderr",
     "output_type": "stream",
     "text": [
      "INFO\tTask(Task-2) nodify.node.139839764493040:node.py:get()- No need to evaluate\n"
     ]
    },
    {
     "name": "stderr",
     "output_type": "stream",
     "text": [
      "INFO\tTask(Task-2) nodify.node.139839764495632:node.py:get()- No need to evaluate\n"
     ]
    },
    {
     "name": "stderr",
     "output_type": "stream",
     "text": [
      "INFO\tTask(Task-2) nodify.node.139839764487280:node.py:get()- No need to evaluate\n"
     ]
    },
    {
     "name": "stderr",
     "output_type": "stream",
     "text": [
      "INFO\tTask(Task-2) nodify.node.139839764485936:node.py:get()- No need to evaluate\n"
     ]
    },
    {
     "name": "stderr",
     "output_type": "stream",
     "text": [
      "INFO\tTask(Task-2) nodify.node.139839764486560:node.py:get()- No need to evaluate\n"
     ]
    },
    {
     "name": "stderr",
     "output_type": "stream",
     "text": [
      "INFO\tTask(Task-2) nodify.node.139839764492464:node.py:get()- No need to evaluate\n"
     ]
    },
    {
     "name": "stderr",
     "output_type": "stream",
     "text": [
      "INFO\tTask(Task-2) nodify.node.139839764485936:node.py:get()- No need to evaluate\n"
     ]
    },
    {
     "name": "stderr",
     "output_type": "stream",
     "text": [
      "INFO\tTask(Task-2) nodify.node.139839764493040:node.py:get()- No need to evaluate\n"
     ]
    },
    {
     "name": "stderr",
     "output_type": "stream",
     "text": [
      "INFO\tTask(Task-2) nodify.node.139839764495968:node.py:get()- No need to evaluate\n"
     ]
    },
    {
     "name": "stderr",
     "output_type": "stream",
     "text": [
      "INFO\tTask(Task-2) nodify.node.139839764485936:node.py:get()- No need to evaluate\n"
     ]
    },
    {
     "name": "stderr",
     "output_type": "stream",
     "text": [
      "INFO\tTask(Task-2) nodify.node.139839764484352:node.py:get()- No need to evaluate\n"
     ]
    },
    {
     "name": "stderr",
     "output_type": "stream",
     "text": [
      "INFO\tTask(Task-2) nodify.node.139839764485888:node.py:get()- No need to evaluate\n"
     ]
    },
    {
     "name": "stderr",
     "output_type": "stream",
     "text": [
      "INFO\tTask(Task-2) nodify.node.139839764484688:node.py:get()- No need to evaluate\n"
     ]
    },
    {
     "name": "stderr",
     "output_type": "stream",
     "text": [
      "INFO\tTask(Task-2) nodify.node.139839764492944:node.py:get()- No need to evaluate\n"
     ]
    },
    {
     "name": "stderr",
     "output_type": "stream",
     "text": [
      "INFO\tTask(Task-2) nodify.node.139839764485936:node.py:get()- No need to evaluate\n"
     ]
    },
    {
     "name": "stderr",
     "output_type": "stream",
     "text": [
      "INFO\tTask(Task-2) nodify.node.139839764486560:node.py:get()- No need to evaluate\n"
     ]
    },
    {
     "name": "stderr",
     "output_type": "stream",
     "text": [
      "INFO\tTask(Task-2) nodify.node.139839764492464:node.py:get()- No need to evaluate\n"
     ]
    },
    {
     "name": "stderr",
     "output_type": "stream",
     "text": [
      "INFO\tTask(Task-2) nodify.node.139839764485936:node.py:get()- No need to evaluate\n"
     ]
    },
    {
     "name": "stderr",
     "output_type": "stream",
     "text": [
      "INFO\tTask(Task-2) nodify.node.139839764493040:node.py:get()- No need to evaluate\n"
     ]
    },
    {
     "name": "stderr",
     "output_type": "stream",
     "text": [
      "INFO\tTask(Task-2) nodify.node.139839764490400:node.py:get()- No need to evaluate\n"
     ]
    },
    {
     "name": "stderr",
     "output_type": "stream",
     "text": [
      "INFO\tTask(Task-2) nodify.node.139839764490016:node.py:get()- No need to evaluate\n"
     ]
    },
    {
     "name": "stderr",
     "output_type": "stream",
     "text": [
      "INFO\tTask(Task-2) nodify.node.139839764492752:node.py:get()- No need to evaluate\n"
     ]
    },
    {
     "name": "stderr",
     "output_type": "stream",
     "text": [
      "INFO\tTask(Task-2) nodify.node.139839764493184:node.py:get()- Evaluated because inputs changed.\n"
     ]
    },
    {
     "name": "stderr",
     "output_type": "stream",
     "text": [
      "INFO\tTask(Task-2) nodify.node.139839764494048:node.py:get()- Evaluated because inputs changed.\n"
     ]
    },
    {
     "name": "stderr",
     "output_type": "stream",
     "text": [
      "INFO\tTask(Task-2) nodify.node.139839764628064:node.py:get()- Evaluated because inputs changed.\n"
     ]
    },
    {
     "data": {
      "image/png": "[encoded data removed]"
     },
     "metadata": {},
     "output_type": "display_data"
    }
   ],
   "source": [
    "plot.update_inputs(arrows={\"color\": \"blue\"}).show(\"png\")"
   ]
  },
  {
   "cell_type": "markdown",
   "metadata": {},
   "source": [
    "**Arrows are normalized so that they fit the box** of their matrix element.\n",
    "\n",
    "It may be that pixel colors and numbers make it difficult to visualize the arrows. In that case, you can disable them both. We have already seen how to disable text. For pixel colors there's the `color_pixels` input, which is a switch to turn them on or off:"
   ]
  },
  {
   "cell_type": "code",
   "execution_count": 19,
   "metadata": {
    "execution": {
     "iopub.execute_input": "2025-09-23T10:47:15.152985Z",
     "iopub.status.busy": "2025-09-23T10:47:15.152783Z",
     "iopub.status.idle": "2025-09-23T10:47:15.293377Z",
     "shell.execute_reply": "2025-09-23T10:47:15.292765Z"
    }
   },
   "outputs": [
    {
     "name": "stderr",
     "output_type": "stream",
     "text": [
      "INFO\tTask(Task-2) nodify.node.139839764491168:node.py:get()- No need to evaluate\n"
     ]
    },
    {
     "name": "stderr",
     "output_type": "stream",
     "text": [
      "INFO\tTask(Task-2) nodify.node.139839764485936:node.py:get()- No need to evaluate\n"
     ]
    },
    {
     "name": "stderr",
     "output_type": "stream",
     "text": [
      "INFO\tTask(Task-2) nodify.node.139839764484352:node.py:get()- No need to evaluate\n"
     ]
    },
    {
     "name": "stderr",
     "output_type": "stream",
     "text": [
      "INFO\tTask(Task-2) nodify.node.139839764485888:node.py:get()- No need to evaluate\n"
     ]
    },
    {
     "name": "stderr",
     "output_type": "stream",
     "text": [
      "INFO\tTask(Task-2) nodify.node.139839764484688:node.py:get()- No need to evaluate\n"
     ]
    },
    {
     "name": "stderr",
     "output_type": "stream",
     "text": [
      "INFO\tTask(Task-2) nodify.node.139839764492944:node.py:get()- No need to evaluate\n"
     ]
    },
    {
     "name": "stderr",
     "output_type": "stream",
     "text": [
      "INFO\tTask(Task-2) nodify.node.139839764488096:node.py:get()- No need to evaluate\n"
     ]
    },
    {
     "name": "stderr",
     "output_type": "stream",
     "text": [
      "INFO\tTask(Task-2) nodify.node.139839764488480:node.py:get()- No need to evaluate\n"
     ]
    },
    {
     "name": "stderr",
     "output_type": "stream",
     "text": [
      "INFO\tTask(Task-2) nodify.node.139839764485936:node.py:get()- No need to evaluate\n"
     ]
    },
    {
     "name": "stderr",
     "output_type": "stream",
     "text": [
      "INFO\tTask(Task-2) nodify.node.139839764488864:node.py:get()- No need to evaluate\n"
     ]
    },
    {
     "name": "stderr",
     "output_type": "stream",
     "text": [
      "INFO\tTask(Task-2) nodify.node.139839764488480:node.py:get()- No need to evaluate\n"
     ]
    },
    {
     "name": "stderr",
     "output_type": "stream",
     "text": [
      "INFO\tTask(Task-2) nodify.node.139839764494240:node.py:get()- No need to evaluate\n"
     ]
    },
    {
     "name": "stderr",
     "output_type": "stream",
     "text": [
      "INFO\tTask(Task-2) nodify.node.139839764487712:node.py:get()- Evaluated because inputs changed.\n"
     ]
    },
    {
     "name": "stderr",
     "output_type": "stream",
     "text": [
      "INFO\tTask(Task-2) nodify.node.139839764489248:node.py:get()- Evaluated because inputs changed.\n"
     ]
    },
    {
     "name": "stderr",
     "output_type": "stream",
     "text": [
      "INFO\tTask(Task-2) nodify.node.139839764489632:node.py:get()- No need to evaluate\n"
     ]
    },
    {
     "name": "stderr",
     "output_type": "stream",
     "text": [
      "INFO\tTask(Task-2) nodify.node.139839764494144:node.py:get()- Evaluated because inputs changed.\n"
     ]
    },
    {
     "name": "stderr",
     "output_type": "stream",
     "text": [
      "INFO\tTask(Task-2) nodify.node.139839764485936:node.py:get()- No need to evaluate\n"
     ]
    },
    {
     "name": "stderr",
     "output_type": "stream",
     "text": [
      "INFO\tTask(Task-2) nodify.node.139839764484352:node.py:get()- No need to evaluate\n"
     ]
    },
    {
     "name": "stderr",
     "output_type": "stream",
     "text": [
      "INFO\tTask(Task-2) nodify.node.139839764485888:node.py:get()- No need to evaluate\n"
     ]
    },
    {
     "name": "stderr",
     "output_type": "stream",
     "text": [
      "INFO\tTask(Task-2) nodify.node.139839764484688:node.py:get()- No need to evaluate\n"
     ]
    },
    {
     "name": "stderr",
     "output_type": "stream",
     "text": [
      "INFO\tTask(Task-2) nodify.node.139839764492944:node.py:get()- No need to evaluate\n"
     ]
    },
    {
     "name": "stderr",
     "output_type": "stream",
     "text": [
      "INFO\tTask(Task-2) nodify.node.139839764490784:node.py:get()- No need to evaluate\n"
     ]
    },
    {
     "name": "stderr",
     "output_type": "stream",
     "text": [
      "INFO\tTask(Task-2) nodify.node.139839764494912:node.py:get()- No need to evaluate\n"
     ]
    },
    {
     "name": "stderr",
     "output_type": "stream",
     "text": [
      "INFO\tTask(Task-2) nodify.node.139839764494288:node.py:get()- No need to evaluate\n"
     ]
    },
    {
     "name": "stderr",
     "output_type": "stream",
     "text": [
      "INFO\tTask(Task-2) nodify.node.139839764486896:node.py:get()- No need to evaluate\n"
     ]
    },
    {
     "name": "stderr",
     "output_type": "stream",
     "text": [
      "INFO\tTask(Task-2) nodify.node.139839764485936:node.py:get()- No need to evaluate\n"
     ]
    },
    {
     "name": "stderr",
     "output_type": "stream",
     "text": [
      "INFO\tTask(Task-2) nodify.node.139839764486560:node.py:get()- No need to evaluate\n"
     ]
    },
    {
     "name": "stderr",
     "output_type": "stream",
     "text": [
      "INFO\tTask(Task-2) nodify.node.139839764492464:node.py:get()- No need to evaluate\n"
     ]
    },
    {
     "name": "stderr",
     "output_type": "stream",
     "text": [
      "INFO\tTask(Task-2) nodify.node.139839764485936:node.py:get()- No need to evaluate\n"
     ]
    },
    {
     "name": "stderr",
     "output_type": "stream",
     "text": [
      "INFO\tTask(Task-2) nodify.node.139839764493040:node.py:get()- No need to evaluate\n"
     ]
    },
    {
     "name": "stderr",
     "output_type": "stream",
     "text": [
      "INFO\tTask(Task-2) nodify.node.139839764494960:node.py:get()- No need to evaluate\n"
     ]
    },
    {
     "name": "stderr",
     "output_type": "stream",
     "text": [
      "INFO\tTask(Task-2) nodify.node.139839764485168:node.py:get()- No need to evaluate\n"
     ]
    },
    {
     "name": "stderr",
     "output_type": "stream",
     "text": [
      "INFO\tTask(Task-2) nodify.node.139839764485936:node.py:get()- No need to evaluate\n"
     ]
    },
    {
     "name": "stderr",
     "output_type": "stream",
     "text": [
      "INFO\tTask(Task-2) nodify.node.139839764486560:node.py:get()- No need to evaluate\n"
     ]
    },
    {
     "name": "stderr",
     "output_type": "stream",
     "text": [
      "INFO\tTask(Task-2) nodify.node.139839764492464:node.py:get()- No need to evaluate\n"
     ]
    },
    {
     "name": "stderr",
     "output_type": "stream",
     "text": [
      "INFO\tTask(Task-2) nodify.node.139839764485936:node.py:get()- No need to evaluate\n"
     ]
    },
    {
     "name": "stderr",
     "output_type": "stream",
     "text": [
      "INFO\tTask(Task-2) nodify.node.139839764493040:node.py:get()- No need to evaluate\n"
     ]
    },
    {
     "name": "stderr",
     "output_type": "stream",
     "text": [
      "INFO\tTask(Task-2) nodify.node.139839764495632:node.py:get()- No need to evaluate\n"
     ]
    },
    {
     "name": "stderr",
     "output_type": "stream",
     "text": [
      "INFO\tTask(Task-2) nodify.node.139839764487280:node.py:get()- No need to evaluate\n"
     ]
    },
    {
     "name": "stderr",
     "output_type": "stream",
     "text": [
      "INFO\tTask(Task-2) nodify.node.139839764485936:node.py:get()- No need to evaluate\n"
     ]
    },
    {
     "name": "stderr",
     "output_type": "stream",
     "text": [
      "INFO\tTask(Task-2) nodify.node.139839764486560:node.py:get()- No need to evaluate\n"
     ]
    },
    {
     "name": "stderr",
     "output_type": "stream",
     "text": [
      "INFO\tTask(Task-2) nodify.node.139839764492464:node.py:get()- No need to evaluate\n"
     ]
    },
    {
     "name": "stderr",
     "output_type": "stream",
     "text": [
      "INFO\tTask(Task-2) nodify.node.139839764485936:node.py:get()- No need to evaluate\n"
     ]
    },
    {
     "name": "stderr",
     "output_type": "stream",
     "text": [
      "INFO\tTask(Task-2) nodify.node.139839764493040:node.py:get()- No need to evaluate\n"
     ]
    },
    {
     "name": "stderr",
     "output_type": "stream",
     "text": [
      "INFO\tTask(Task-2) nodify.node.139839764495968:node.py:get()- No need to evaluate\n"
     ]
    },
    {
     "name": "stderr",
     "output_type": "stream",
     "text": [
      "INFO\tTask(Task-2) nodify.node.139839764485936:node.py:get()- No need to evaluate\n"
     ]
    },
    {
     "name": "stderr",
     "output_type": "stream",
     "text": [
      "INFO\tTask(Task-2) nodify.node.139839764484352:node.py:get()- No need to evaluate\n"
     ]
    },
    {
     "name": "stderr",
     "output_type": "stream",
     "text": [
      "INFO\tTask(Task-2) nodify.node.139839764485888:node.py:get()- No need to evaluate\n"
     ]
    },
    {
     "name": "stderr",
     "output_type": "stream",
     "text": [
      "INFO\tTask(Task-2) nodify.node.139839764484688:node.py:get()- No need to evaluate\n"
     ]
    },
    {
     "name": "stderr",
     "output_type": "stream",
     "text": [
      "INFO\tTask(Task-2) nodify.node.139839764492944:node.py:get()- No need to evaluate\n"
     ]
    },
    {
     "name": "stderr",
     "output_type": "stream",
     "text": [
      "INFO\tTask(Task-2) nodify.node.139839764485936:node.py:get()- No need to evaluate\n"
     ]
    },
    {
     "name": "stderr",
     "output_type": "stream",
     "text": [
      "INFO\tTask(Task-2) nodify.node.139839764486560:node.py:get()- No need to evaluate\n"
     ]
    },
    {
     "name": "stderr",
     "output_type": "stream",
     "text": [
      "INFO\tTask(Task-2) nodify.node.139839764492464:node.py:get()- No need to evaluate\n"
     ]
    },
    {
     "name": "stderr",
     "output_type": "stream",
     "text": [
      "INFO\tTask(Task-2) nodify.node.139839764485936:node.py:get()- No need to evaluate\n"
     ]
    },
    {
     "name": "stderr",
     "output_type": "stream",
     "text": [
      "INFO\tTask(Task-2) nodify.node.139839764493040:node.py:get()- No need to evaluate\n"
     ]
    },
    {
     "name": "stderr",
     "output_type": "stream",
     "text": [
      "INFO\tTask(Task-2) nodify.node.139839764490400:node.py:get()- No need to evaluate\n"
     ]
    },
    {
     "name": "stderr",
     "output_type": "stream",
     "text": [
      "INFO\tTask(Task-2) nodify.node.139839764490016:node.py:get()- No need to evaluate\n"
     ]
    },
    {
     "name": "stderr",
     "output_type": "stream",
     "text": [
      "INFO\tTask(Task-2) nodify.node.139839764492752:node.py:get()- No need to evaluate\n"
     ]
    },
    {
     "name": "stderr",
     "output_type": "stream",
     "text": [
      "INFO\tTask(Task-2) nodify.node.139839764493184:node.py:get()- Evaluated because inputs changed.\n"
     ]
    },
    {
     "name": "stderr",
     "output_type": "stream",
     "text": [
      "INFO\tTask(Task-2) nodify.node.139839764494048:node.py:get()- Evaluated because inputs changed.\n"
     ]
    },
    {
     "name": "stderr",
     "output_type": "stream",
     "text": [
      "INFO\tTask(Task-2) nodify.node.139839764628064:node.py:get()- Evaluated because inputs changed.\n"
     ]
    },
    {
     "data": {
      "application/vnd.plotly.v1+json": {
       "config": {
        "plotlyServerURL": "https://plot.ly"
       },
       "data": [
        {
         "coloraxis": "coloraxis",
         "meta": {},
         "opacity": 0,
         "textfont": {
          "color": "black"
         },
         "type": "heatmap",
         "z": {
          "bdata": "4JCpuuPRpL+Y7HLsBUy2Py4xCYhNKdK/zOQ+RZxxyL+49usRigW6PwAAAAAAAPh/AAAAAAAA+H8AAAAAAAD4fwAAAAAAAPh/2VCyPxDyqr8AAAAAAAD4fwAAAAAAAPh/AAAAAAAA+H8AAAAAAAD4fwAAAAAAAPh/mOxy7AVMtj8Q82TzA/zOv+BoIXZYoJQ/gNYsWTMqpD+QTED17n2jvwAAAAAAAPh/AAAAAAAA+H8AAAAAAAD4fwAAAAAAAPh/bIHAm3jrnT8AAAAAAAD4fwAAAAAAAPh/AAAAAAAA+H8AAAAAAAD4fwAAAAAAAPh/LjEJiE0p0r/gaCF2WKCUP1g8rJicRto/MHeeZEVSsb9mFzTSrXHfvwAAAAAAAPh/AAAAAAAA+H8AAAAAAAD4fwAAAAAAAPh/onJ1yC99xr8AAAAAAAD4fwAAAAAAAPh/AAAAAAAA+H8AAAAAAAD4fwAAAAAAAPh/zOQ+RZxxyL+A1ixZMyqkPzB3nmRFUrG/CD9o6sOg67+K8JgSdFPgvwAAAAAAAPh/AAAAAAAA+H8AAAAAAAD4fwAAAAAAAPh/+jQzZ88Nkr8AAAAAAAD4fwAAAAAAAPh/AAAAAAAA+H8AAAAAAAD4fwAAAAAAAPh/uPbrEYoFuj+QTED17n2jv2YXNNKtcd+/ivCYEnRT4L/4Sk6fQ/rHvwAAAAAAAPh/AAAAAAAA+H8AAAAAAAD4fwAAAAAAAPh/AAAAAAAA+H/ZULI/EPKqv2yBwJt4650/onJ1yC99xr/6NDNnzw2SvwAAAAAAAPh/",
          "dtype": "f8",
          "shape": "5, 15"
         },
         "zsmooth": false
        },
        {
         "hovertext": [
          "[0.         0.04709871]",
          "[0.         0.04709871]",
          "[0.         0.04709871]",
          "[0.         0.04709871]",
          "[0.         0.04709871]",
          "[0.         0.04709871]",
          "[0.         0.04709871]",
          "[ 0.         -0.10088033]",
          "[ 0.         -0.10088033]",
          "[ 0.         -0.10088033]",
          "[ 0.         -0.10088033]",
          "[ 0.         -0.10088033]",
          "[ 0.         -0.10088033]",
          "[ 0.         -0.10088033]",
          "[0.         0.32867646]",
          "[0.         0.32867646]",
          "[0.         0.32867646]",
          "[0.         0.32867646]",
          "[0.         0.32867646]",
          "[0.         0.32867646]",
          "[0.         0.32867646]",
          "[0.         0.22118684]",
          "[0.         0.22118684]",
          "[0.         0.22118684]",
          "[0.         0.22118684]",
          "[0.         0.22118684]",
          "[0.         0.22118684]",
          "[0.         0.22118684]",
          "[ 0.         -0.11773223]",
          "[ 0.         -0.11773223]",
          "[ 0.         -0.11773223]",
          "[ 0.         -0.11773223]",
          "[ 0.         -0.11773223]",
          "[ 0.         -0.11773223]",
          "[ 0.         -0.11773223]",
          "[ 0. nan]",
          "[ 0. nan]",
          "[ 0. nan]",
          "[ 0. nan]",
          "[ 0. nan]",
          "[ 0. nan]",
          "[ 0. nan]",
          "[ 0. nan]",
          "[ 0. nan]",
          "[ 0. nan]",
          "[ 0. nan]",
          "[ 0. nan]",
          "[ 0. nan]",
          "[ 0. nan]",
          "[ 0. nan]",
          "[ 0. nan]",
          "[ 0. nan]",
          "[ 0. nan]",
          "[ 0. nan]",
          "[ 0. nan]",
          "[ 0. nan]",
          "[ 0. nan]",
          "[ 0. nan]",
          "[ 0. nan]",
          "[ 0. nan]",
          "[ 0. nan]",
          "[ 0. nan]",
          "[ 0. nan]",
          "[0.         0.06095621]",
          "[0.         0.06095621]",
          "[0.         0.06095621]",
          "[0.         0.06095621]",
          "[0.         0.06095621]",
          "[0.         0.06095621]",
          "[0.         0.06095621]",
          "[ 0. nan]",
          "[ 0. nan]",
          "[ 0. nan]",
          "[ 0. nan]",
          "[ 0. nan]",
          "[ 0. nan]",
          "[ 0. nan]",
          "[ 0. nan]",
          "[ 0. nan]",
          "[ 0. nan]",
          "[ 0. nan]",
          "[ 0. nan]",
          "[ 0. nan]",
          "[ 0. nan]",
          "[ 0. nan]",
          "[ 0. nan]",
          "[ 0. nan]",
          "[ 0. nan]",
          "[ 0. nan]",
          "[ 0. nan]",
          "[ 0. nan]",
          "[ 0. nan]",
          "[ 0. nan]",
          "[ 0. nan]",
          "[ 0. nan]",
          "[ 0. nan]",
          "[ 0. nan]",
          "[ 0. nan]",
          "[ 0. nan]",
          "[ 0. nan]",
          "[ 0. nan]",
          "[ 0. nan]",
          "[ 0. nan]",
          "[ 0. nan]",
          "[ 0. nan]",
          "[ 0.         -0.10088033]",
          "[ 0.         -0.10088033]",
          "[ 0.         -0.10088033]",
          "[ 0.         -0.10088033]",
          "[ 0.         -0.10088033]",
          "[ 0.         -0.10088033]",
          "[ 0.         -0.10088033]",
          "[0.         0.28037179]",
          "[0.         0.28037179]",
          "[0.         0.28037179]",
          "[0.         0.28037179]",
          "[0.         0.28037179]",
          "[0.         0.28037179]",
          "[0.         0.28037179]",
          "[ 0.         -0.02333045]",
          "[ 0.         -0.02333045]",
          "[ 0.         -0.02333045]",
          "[ 0.         -0.02333045]",
          "[ 0.         -0.02333045]",
          "[ 0.         -0.02333045]",
          "[ 0.         -0.02333045]",
          "[ 0.         -0.04561689]",
          "[ 0.         -0.04561689]",
          "[ 0.         -0.04561689]",
          "[ 0.         -0.04561689]",
          "[ 0.         -0.04561689]",
          "[ 0.         -0.04561689]",
          "[ 0.         -0.04561689]",
          "[0.         0.04409461]",
          "[0.         0.04409461]",
          "[0.         0.04409461]",
          "[0.         0.04409461]",
          "[0.         0.04409461]",
          "[0.         0.04409461]",
          "[0.         0.04409461]",
          "[ 0. nan]",
          "[ 0. nan]",
          "[ 0. nan]",
          "[ 0. nan]",
          "[ 0. nan]",
          "[ 0. nan]",
          "[ 0. nan]",
          "[ 0. nan]",
          "[ 0. nan]",
          "[ 0. nan]",
          "[ 0. nan]",
          "[ 0. nan]",
          "[ 0. nan]",
          "[ 0. nan]",
          "[ 0. nan]",
          "[ 0. nan]",
          "[ 0. nan]",
          "[ 0. nan]",
          "[ 0. nan]",
          "[ 0. nan]",
          "[ 0. nan]",
          "[ 0. nan]",
          "[ 0. nan]",
          "[ 0. nan]",
          "[ 0. nan]",
          "[ 0. nan]",
          "[ 0. nan]",
          "[ 0. nan]",
          "[ 0.         -0.03384228]",
          "[ 0.         -0.03384228]",
          "[ 0.         -0.03384228]",
          "[ 0.         -0.03384228]",
          "[ 0.         -0.03384228]",
          "[ 0.         -0.03384228]",
          "[ 0.         -0.03384228]",
          "[ 0. nan]",
          "[ 0. nan]",
          "[ 0. nan]",
          "[ 0. nan]",
          "[ 0. nan]",
          "[ 0. nan]",
          "[ 0. nan]",
          "[ 0. nan]",
          "[ 0. nan]",
          "[ 0. nan]",
          "[ 0. nan]",
          "[ 0. nan]",
          "[ 0. nan]",
          "[ 0. nan]",
          "[ 0. nan]",
          "[ 0. nan]",
          "[ 0. nan]",
          "[ 0. nan]",
          "[ 0. nan]",
          "[ 0. nan]",
          "[ 0. nan]",
          "[ 0. nan]",
          "[ 0. nan]",
          "[ 0. nan]",
          "[ 0. nan]",
          "[ 0. nan]",
          "[ 0. nan]",
          "[ 0. nan]",
          "[ 0. nan]",
          "[ 0. nan]",
          "[ 0. nan]",
          "[ 0. nan]",
          "[ 0. nan]",
          "[ 0. nan]",
          "[ 0. nan]",
          "[0.         0.32867646]",
          "[0.         0.32867646]",
          "[0.         0.32867646]",
          "[0.         0.32867646]",
          "[0.         0.32867646]",
          "[0.         0.32867646]",
          "[0.         0.32867646]",
          "[ 0.         -0.02333045]",
          "[ 0.         -0.02333045]",
          "[ 0.         -0.02333045]",
          "[ 0.         -0.02333045]",
          "[ 0.         -0.02333045]",
          "[ 0.         -0.02333045]",
          "[ 0.         -0.02333045]",
          "[ 0.         -0.47552912]",
          "[ 0.         -0.47552912]",
          "[ 0.         -0.47552912]",
          "[ 0.         -0.47552912]",
          "[ 0.         -0.47552912]",
          "[ 0.         -0.47552912]",
          "[ 0.         -0.47552912]",
          "[0.         0.07836877]",
          "[0.         0.07836877]",
          "[0.         0.07836877]",
          "[0.         0.07836877]",
          "[0.         0.07836877]",
          "[0.         0.07836877]",
          "[0.         0.07836877]",
          "[0.         0.56906165]",
          "[0.         0.56906165]",
          "[0.         0.56906165]",
          "[0.         0.56906165]",
          "[0.         0.56906165]",
          "[0.         0.56906165]",
          "[0.         0.56906165]",
          "[ 0. nan]",
          "[ 0. nan]",
          "[ 0. nan]",
          "[ 0. nan]",
          "[ 0. nan]",
          "[ 0. nan]",
          "[ 0. nan]",
          "[ 0. nan]",
          "[ 0. nan]",
          "[ 0. nan]",
          "[ 0. nan]",
          "[ 0. nan]",
          "[ 0. nan]",
          "[ 0. nan]",
          "[ 0. nan]",
          "[ 0. nan]",
          "[ 0. nan]",
          "[ 0. nan]",
          "[ 0. nan]",
          "[ 0. nan]",
          "[ 0. nan]",
          "[ 0. nan]",
          "[ 0. nan]",
          "[ 0. nan]",
          "[ 0. nan]",
          "[ 0. nan]",
          "[ 0. nan]",
          "[ 0. nan]",
          "[0.         0.20349843]",
          "[0.         0.20349843]",
          "[0.         0.20349843]",
          "[0.         0.20349843]",
          "[0.         0.20349843]",
          "[0.         0.20349843]",
          "[0.         0.20349843]",
          "[ 0. nan]",
          "[ 0. nan]",
          "[ 0. nan]",
          "[ 0. nan]",
          "[ 0. nan]",
          "[ 0. nan]",
          "[ 0. nan]",
          "[ 0. nan]",
          "[ 0. nan]",
          "[ 0. nan]",
          "[ 0. nan]",
          "[ 0. nan]",
          "[ 0. nan]",
          "[ 0. nan]",
          "[ 0. nan]",
          "[ 0. nan]",
          "[ 0. nan]",
          "[ 0. nan]",
          "[ 0. nan]",
          "[ 0. nan]",
          "[ 0. nan]",
          "[ 0. nan]",
          "[ 0. nan]",
          "[ 0. nan]",
          "[ 0. nan]",
          "[ 0. nan]",
          "[ 0. nan]",
          "[ 0. nan]",
          "[ 0. nan]",
          "[ 0. nan]",
          "[ 0. nan]",
          "[ 0. nan]",
          "[ 0. nan]",
          "[ 0. nan]",
          "[ 0. nan]",
          "[0.         0.22118684]",
          "[0.         0.22118684]",
          "[0.         0.22118684]",
          "[0.         0.22118684]",
          "[0.         0.22118684]",
          "[0.         0.22118684]",
          "[0.         0.22118684]",
          "[ 0.         -0.04561689]",
          "[ 0.         -0.04561689]",
          "[ 0.         -0.04561689]",
          "[ 0.         -0.04561689]",
          "[ 0.         -0.04561689]",
          "[ 0.         -0.04561689]",
          "[ 0.         -0.04561689]",
          "[0.         0.07836877]",
          "[0.         0.07836877]",
          "[0.         0.07836877]",
          "[0.         0.07836877]",
          "[0.         0.07836877]",
          "[0.         0.07836877]",
          "[0.         0.07836877]",
          "[0. 1.]",
          "[0. 1.]",
          "[0. 1.]",
          "[0. 1.]",
          "[0. 1.]",
          "[0. 1.]",
          "[0. 1.]",
          "[0.         0.59092211]",
          "[0.         0.59092211]",
          "[0.         0.59092211]",
          "[0.         0.59092211]",
          "[0.         0.59092211]",
          "[0.         0.59092211]",
          "[0.         0.59092211]",
          "[ 0. nan]",
          "[ 0. nan]",
          "[ 0. nan]",
          "[ 0. nan]",
          "[ 0. nan]",
          "[ 0. nan]",
          "[ 0. nan]",
          "[ 0. nan]",
          "[ 0. nan]",
          "[ 0. nan]",
          "[ 0. nan]",
          "[ 0. nan]",
          "[ 0. nan]",
          "[ 0. nan]",
          "[ 0. nan]",
          "[ 0. nan]",
          "[ 0. nan]",
          "[ 0. nan]",
          "[ 0. nan]",
          "[ 0. nan]",
          "[ 0. nan]",
          "[ 0. nan]",
          "[ 0. nan]",
          "[ 0. nan]",
          "[ 0. nan]",
          "[ 0. nan]",
          "[ 0. nan]",
          "[ 0. nan]",
          "[0.         0.02042081]",
          "[0.         0.02042081]",
          "[0.         0.02042081]",
          "[0.         0.02042081]",
          "[0.         0.02042081]",
          "[0.         0.02042081]",
          "[0.         0.02042081]",
          "[ 0. nan]",
          "[ 0. nan]",
          "[ 0. nan]",
          "[ 0. nan]",
          "[ 0. nan]",
          "[ 0. nan]",
          "[ 0. nan]",
          "[ 0. nan]",
          "[ 0. nan]",
          "[ 0. nan]",
          "[ 0. nan]",
          "[ 0. nan]",
          "[ 0. nan]",
          "[ 0. nan]",
          "[ 0. nan]",
          "[ 0. nan]",
          "[ 0. nan]",
          "[ 0. nan]",
          "[ 0. nan]",
          "[ 0. nan]",
          "[ 0. nan]",
          "[ 0. nan]",
          "[ 0. nan]",
          "[ 0. nan]",
          "[ 0. nan]",
          "[ 0. nan]",
          "[ 0. nan]",
          "[ 0. nan]",
          "[ 0. nan]",
          "[ 0. nan]",
          "[ 0. nan]",
          "[ 0. nan]",
          "[ 0. nan]",
          "[ 0. nan]",
          "[ 0. nan]",
          "[ 0.         -0.11773223]",
          "[ 0.         -0.11773223]",
          "[ 0.         -0.11773223]",
          "[ 0.         -0.11773223]",
          "[ 0.         -0.11773223]",
          "[ 0.         -0.11773223]",
          "[ 0.         -0.11773223]",
          "[0.         0.04409461]",
          "[0.         0.04409461]",
          "[0.         0.04409461]",
          "[0.         0.04409461]",
          "[0.         0.04409461]",
          "[0.         0.04409461]",
          "[0.         0.04409461]",
          "[0.         0.56906165]",
          "[0.         0.56906165]",
          "[0.         0.56906165]",
          "[0.         0.56906165]",
          "[0.         0.56906165]",
          "[0.         0.56906165]",
          "[0.         0.56906165]",
          "[0.         0.59092211]",
          "[0.         0.59092211]",
          "[0.         0.59092211]",
          "[0.         0.59092211]",
          "[0.         0.59092211]",
          "[0.         0.59092211]",
          "[0.         0.59092211]",
          "[0.         0.21696832]",
          "[0.         0.21696832]",
          "[0.         0.21696832]",
          "[0.         0.21696832]",
          "[0.         0.21696832]",
          "[0.         0.21696832]",
          "[0.         0.21696832]",
          "[ 0. nan]",
          "[ 0. nan]",
          "[ 0. nan]",
          "[ 0. nan]",
          "[ 0. nan]",
          "[ 0. nan]",
          "[ 0. nan]",
          "[ 0. nan]",
          "[ 0. nan]",
          "[ 0. nan]",
          "[ 0. nan]",
          "[ 0. nan]",
          "[ 0. nan]",
          "[ 0. nan]",
          "[ 0. nan]",
          "[ 0. nan]",
          "[ 0. nan]",
          "[ 0. nan]",
          "[ 0. nan]",
          "[ 0. nan]",
          "[ 0. nan]",
          "[ 0. nan]",
          "[ 0. nan]",
          "[ 0. nan]",
          "[ 0. nan]",
          "[ 0. nan]",
          "[ 0. nan]",
          "[ 0. nan]",
          "[ 0. nan]",
          "[ 0. nan]",
          "[ 0. nan]",
          "[ 0. nan]",
          "[ 0. nan]",
          "[ 0. nan]",
          "[ 0. nan]",
          "[0.         0.06095621]",
          "[0.         0.06095621]",
          "[0.         0.06095621]",
          "[0.         0.06095621]",
          "[0.         0.06095621]",
          "[0.         0.06095621]",
          "[0.         0.06095621]",
          "[ 0.         -0.03384228]",
          "[ 0.         -0.03384228]",
          "[ 0.         -0.03384228]",
          "[ 0.         -0.03384228]",
          "[ 0.         -0.03384228]",
          "[ 0.         -0.03384228]",
          "[ 0.         -0.03384228]",
          "[0.         0.20349843]",
          "[0.         0.20349843]",
          "[0.         0.20349843]",
          "[0.         0.20349843]",
          "[0.         0.20349843]",
          "[0.         0.20349843]",
          "[0.         0.20349843]",
          "[0.         0.02042081]",
          "[0.         0.02042081]",
          "[0.         0.02042081]",
          "[0.         0.02042081]",
          "[0.         0.02042081]",
          "[0.         0.02042081]",
          "[0.         0.02042081]",
          "[ 0. nan]",
          "[ 0. nan]",
          "[ 0. nan]",
          "[ 0. nan]",
          "[ 0. nan]",
          "[ 0. nan]",
          "[ 0. nan]"
         ],
         "line": {
          "color": "blue"
         },
         "meta": {},
         "mode": "lines",
         "type": "scatter",
         "x": {
          "bdata": "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",
          "dtype": "f8"
         },
         "y": {
          "bdata": "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",
          "dtype": "f8"
         }
        },
        {
         "line": {
          "color": "pink",
          "dash": "dash",
          "width": 5
         },
         "meta": {},
         "mode": "lines",
         "name": "orbitals separators",
         "opacity": 0.8,
         "showlegend": false,
         "type": "scatter",
         "x": {
          "bdata": "AAAAAAAA4L8AAAAAAAASQAAAAAAAAPh/AAAAAAAA4D8AAAAAAADgPwAAAAAAAPh/",
          "dtype": "f8"
         },
         "y": {
          "bdata": "AAAAAAAA4D8AAAAAAADgPwAAAAAAAPh/AAAAAAAA4L8AAAAAAAASQAAAAAAAAPh/",
          "dtype": "f8"
         }
        },
        {
         "line": {
          "color": "gray"
         },
         "meta": {},
         "mode": "lines",
         "name": "atoms separators",
         "opacity": 1,
         "showlegend": false,
         "type": "scatter",
         "x": {
          "bdata": "AAAAAAAA4L8AAAAAAAASQAAAAAAAAPh/AAAAAAAADEAAAAAAAAAMQAAAAAAAAPh/",
          "dtype": "f8"
         },
         "y": {
          "bdata": "AAAAAAAADEAAAAAAAAAMQAAAAAAAAPh/AAAAAAAA4L8AAAAAAAASQAAAAAAAAPh/",
          "dtype": "f8"
         }
        }
       ],
       "layout": {
        "coloraxis": {
         "cmid": 0,
         "colorscale": [
          [
           0.0,
           "rgb(0, 147, 146)"
          ],
          [
           0.16666666666666666,
           "rgb(57, 177, 133)"
          ],
          [
           0.3333333333333333,
           "rgb(156, 203, 134)"
          ],
          [
           0.5,
           "rgb(233, 226, 156)"
          ],
          [
           0.6666666666666666,
           "rgb(238, 180, 121)"
          ],
          [
           0.8333333333333334,
           "rgb(232, 132, 113)"
          ],
          [
           1.0,
           "rgb(207, 89, 126)"
          ]
         ],
         "showscale": false
        },
        "scene": {
         "aspectmode": "data",
         "xaxis": {
          "range": [
           -0.5,
           14.5
          ]
         },
         "yaxis": {
          "range": [
           4.5,
           -0.5
          ]
         }
        },
        "template": {
         "layout": {
          "hovermode": "closest",
          "paper_bgcolor": "white",
          "plot_bgcolor": "white",
          "scene": {
           "xaxis": {
            "color": "black",
            "gridcolor": "#ccc",
            "gridwidth": 1,
            "linewidth": 1,
            "mirror": true,
            "showgrid": false,
            "showline": true,
            "ticklen": 5,
            "ticks": "outside",
            "ticksuffix": " ",
            "visible": true,
            "zeroline": false,
            "zerolinecolor": "#ccc",
            "zerolinewidth": 1
           },
           "yaxis": {
            "color": "black",
            "gridcolor": "#ccc",
            "gridwidth": 1,
            "linewidth": 1,
            "mirror": true,
            "showgrid": false,
            "showline": true,
            "ticklen": 5,
            "ticks": "outside",
            "ticksuffix": " ",
            "visible": true,
            "zeroline": false,
            "zerolinecolor": "#ccc",
            "zerolinewidth": 1
           },
           "zaxis": {
            "color": "black",
            "gridcolor": "#ccc",
            "gridwidth": 1,
            "linewidth": 1,
            "mirror": true,
            "showgrid": false,
            "showline": true,
            "ticklen": 5,
            "ticks": "outside",
            "ticksuffix": " ",
            "visible": true,
            "zeroline": false,
            "zerolinecolor": "#ccc",
            "zerolinewidth": 1
           }
          },
          "xaxis": {
           "color": "black",
           "gridcolor": "#ccc",
           "gridwidth": 1,
           "linewidth": 1,
           "mirror": true,
           "showgrid": false,
           "showline": true,
           "ticklen": 5,
           "ticks": "outside",
           "ticksuffix": " ",
           "visible": true,
           "zeroline": false,
           "zerolinecolor": "#ccc",
           "zerolinewidth": 1
          },
          "yaxis": {
           "color": "black",
           "gridcolor": "#ccc",
           "gridwidth": 1,
           "linewidth": 1,
           "mirror": true,
           "showgrid": false,
           "showline": true,
           "ticklen": 5,
           "ticks": "outside",
           "ticksuffix": " ",
           "visible": true,
           "zeroline": false,
           "zerolinecolor": "#ccc",
           "zerolinewidth": 1
          }
         }
        },
        "xaxis": {
         "constrain": "domain",
         "range": [
          -0.5,
          14.5
         ],
         "scaleanchor": "y",
         "scaleratio": 1
        },
        "yaxis": {
         "constrain": "domain",
         "range": [
          4.5,
          -0.5
         ]
        }
       }
      }
     },
     "metadata": {},
     "output_type": "display_data"
    }
   ],
   "source": [
    "plot.update_inputs(color_pixels=False, text=None)"
   ]
  },
  {
   "cell_type": "markdown",
   "metadata": {},
   "source": [
    "If you want to plot custom data for the arrows, you have to pass a sparse matrix where the last dimension is the cartesian coordinate `(X, Y)`. Let's create some random data to display it:"
   ]
  },
  {
   "cell_type": "code",
   "execution_count": 20,
   "metadata": {
    "execution": {
     "iopub.execute_input": "2025-09-23T10:47:15.295287Z",
     "iopub.status.busy": "2025-09-23T10:47:15.295098Z",
     "iopub.status.idle": "2025-09-23T10:47:15.443171Z",
     "shell.execute_reply": "2025-09-23T10:47:15.442661Z"
    }
   },
   "outputs": [
    {
     "name": "stderr",
     "output_type": "stream",
     "text": [
      "INFO\tTask(Task-2) nodify.node.139839764491168:node.py:get()- No need to evaluate\n"
     ]
    },
    {
     "name": "stderr",
     "output_type": "stream",
     "text": [
      "INFO\tTask(Task-2) nodify.node.139839764485936:node.py:get()- No need to evaluate\n"
     ]
    },
    {
     "name": "stderr",
     "output_type": "stream",
     "text": [
      "INFO\tTask(Task-2) nodify.node.139839764484352:node.py:get()- No need to evaluate\n"
     ]
    },
    {
     "name": "stderr",
     "output_type": "stream",
     "text": [
      "INFO\tTask(Task-2) nodify.node.139839764485888:node.py:get()- No need to evaluate\n"
     ]
    },
    {
     "name": "stderr",
     "output_type": "stream",
     "text": [
      "INFO\tTask(Task-2) nodify.node.139839764484688:node.py:get()- No need to evaluate\n"
     ]
    },
    {
     "name": "stderr",
     "output_type": "stream",
     "text": [
      "INFO\tTask(Task-2) nodify.node.139839764492944:node.py:get()- No need to evaluate\n"
     ]
    },
    {
     "name": "stderr",
     "output_type": "stream",
     "text": [
      "INFO\tTask(Task-2) nodify.node.139839764488096:node.py:get()- No need to evaluate\n"
     ]
    },
    {
     "name": "stderr",
     "output_type": "stream",
     "text": [
      "INFO\tTask(Task-2) nodify.node.139839764488480:node.py:get()- No need to evaluate\n"
     ]
    },
    {
     "name": "stderr",
     "output_type": "stream",
     "text": [
      "INFO\tTask(Task-2) nodify.node.139839764485936:node.py:get()- No need to evaluate\n"
     ]
    },
    {
     "name": "stderr",
     "output_type": "stream",
     "text": [
      "INFO\tTask(Task-2) nodify.node.139839764488864:node.py:get()- No need to evaluate\n"
     ]
    },
    {
     "name": "stderr",
     "output_type": "stream",
     "text": [
      "INFO\tTask(Task-2) nodify.node.139839764488480:node.py:get()- No need to evaluate\n"
     ]
    },
    {
     "name": "stderr",
     "output_type": "stream",
     "text": [
      "INFO\tTask(Task-2) nodify.node.139839764494240:node.py:get()- No need to evaluate\n"
     ]
    },
    {
     "name": "stderr",
     "output_type": "stream",
     "text": [
      "INFO\tTask(Task-2) nodify.node.139839764487712:node.py:get()- No need to evaluate\n"
     ]
    },
    {
     "name": "stderr",
     "output_type": "stream",
     "text": [
      "INFO\tTask(Task-2) nodify.node.139839764489248:node.py:get()- No need to evaluate\n"
     ]
    },
    {
     "name": "stderr",
     "output_type": "stream",
     "text": [
      "INFO\tTask(Task-2) nodify.node.139839764489632:node.py:get()- No need to evaluate\n"
     ]
    },
    {
     "name": "stderr",
     "output_type": "stream",
     "text": [
      "INFO\tTask(Task-2) nodify.node.139839764494144:node.py:get()- No need to evaluate\n"
     ]
    },
    {
     "name": "stderr",
     "output_type": "stream",
     "text": [
      "INFO\tTask(Task-2) nodify.node.139839764485936:node.py:get()- No need to evaluate\n"
     ]
    },
    {
     "name": "stderr",
     "output_type": "stream",
     "text": [
      "INFO\tTask(Task-2) nodify.node.139839764484352:node.py:get()- No need to evaluate\n"
     ]
    },
    {
     "name": "stderr",
     "output_type": "stream",
     "text": [
      "INFO\tTask(Task-2) nodify.node.139839764485888:node.py:get()- No need to evaluate\n"
     ]
    },
    {
     "name": "stderr",
     "output_type": "stream",
     "text": [
      "INFO\tTask(Task-2) nodify.node.139839764484688:node.py:get()- No need to evaluate\n"
     ]
    },
    {
     "name": "stderr",
     "output_type": "stream",
     "text": [
      "INFO\tTask(Task-2) nodify.node.139839764492944:node.py:get()- No need to evaluate\n"
     ]
    },
    {
     "name": "stderr",
     "output_type": "stream",
     "text": [
      "INFO\tTask(Task-2) nodify.node.139839764490784:node.py:get()- Evaluated because inputs changed.\n"
     ]
    },
    {
     "name": "stderr",
     "output_type": "stream",
     "text": [
      "INFO\tTask(Task-2) nodify.node.139839764494912:node.py:get()- Evaluated because inputs changed.\n"
     ]
    },
    {
     "name": "stderr",
     "output_type": "stream",
     "text": [
      "INFO\tTask(Task-2) nodify.node.139839764494288:node.py:get()- Evaluated because inputs changed.\n"
     ]
    },
    {
     "name": "stderr",
     "output_type": "stream",
     "text": [
      "INFO\tTask(Task-2) nodify.node.139839764486896:node.py:get()- No need to evaluate\n"
     ]
    },
    {
     "name": "stderr",
     "output_type": "stream",
     "text": [
      "INFO\tTask(Task-2) nodify.node.139839764485936:node.py:get()- No need to evaluate\n"
     ]
    },
    {
     "name": "stderr",
     "output_type": "stream",
     "text": [
      "INFO\tTask(Task-2) nodify.node.139839764486560:node.py:get()- No need to evaluate\n"
     ]
    },
    {
     "name": "stderr",
     "output_type": "stream",
     "text": [
      "INFO\tTask(Task-2) nodify.node.139839764492464:node.py:get()- No need to evaluate\n"
     ]
    },
    {
     "name": "stderr",
     "output_type": "stream",
     "text": [
      "INFO\tTask(Task-2) nodify.node.139839764485936:node.py:get()- No need to evaluate\n"
     ]
    },
    {
     "name": "stderr",
     "output_type": "stream",
     "text": [
      "INFO\tTask(Task-2) nodify.node.139839764493040:node.py:get()- No need to evaluate\n"
     ]
    },
    {
     "name": "stderr",
     "output_type": "stream",
     "text": [
      "INFO\tTask(Task-2) nodify.node.139839764494960:node.py:get()- No need to evaluate\n"
     ]
    },
    {
     "name": "stderr",
     "output_type": "stream",
     "text": [
      "INFO\tTask(Task-2) nodify.node.139839764485168:node.py:get()- No need to evaluate\n"
     ]
    },
    {
     "name": "stderr",
     "output_type": "stream",
     "text": [
      "INFO\tTask(Task-2) nodify.node.139839764485936:node.py:get()- No need to evaluate\n"
     ]
    },
    {
     "name": "stderr",
     "output_type": "stream",
     "text": [
      "INFO\tTask(Task-2) nodify.node.139839764486560:node.py:get()- No need to evaluate\n"
     ]
    },
    {
     "name": "stderr",
     "output_type": "stream",
     "text": [
      "INFO\tTask(Task-2) nodify.node.139839764492464:node.py:get()- No need to evaluate\n"
     ]
    },
    {
     "name": "stderr",
     "output_type": "stream",
     "text": [
      "INFO\tTask(Task-2) nodify.node.139839764485936:node.py:get()- No need to evaluate\n"
     ]
    },
    {
     "name": "stderr",
     "output_type": "stream",
     "text": [
      "INFO\tTask(Task-2) nodify.node.139839764493040:node.py:get()- No need to evaluate\n"
     ]
    },
    {
     "name": "stderr",
     "output_type": "stream",
     "text": [
      "INFO\tTask(Task-2) nodify.node.139839764495632:node.py:get()- No need to evaluate\n"
     ]
    },
    {
     "name": "stderr",
     "output_type": "stream",
     "text": [
      "INFO\tTask(Task-2) nodify.node.139839764487280:node.py:get()- No need to evaluate\n"
     ]
    },
    {
     "name": "stderr",
     "output_type": "stream",
     "text": [
      "INFO\tTask(Task-2) nodify.node.139839764485936:node.py:get()- No need to evaluate\n"
     ]
    },
    {
     "name": "stderr",
     "output_type": "stream",
     "text": [
      "INFO\tTask(Task-2) nodify.node.139839764486560:node.py:get()- No need to evaluate\n"
     ]
    },
    {
     "name": "stderr",
     "output_type": "stream",
     "text": [
      "INFO\tTask(Task-2) nodify.node.139839764492464:node.py:get()- No need to evaluate\n"
     ]
    },
    {
     "name": "stderr",
     "output_type": "stream",
     "text": [
      "INFO\tTask(Task-2) nodify.node.139839764485936:node.py:get()- No need to evaluate\n"
     ]
    },
    {
     "name": "stderr",
     "output_type": "stream",
     "text": [
      "INFO\tTask(Task-2) nodify.node.139839764493040:node.py:get()- No need to evaluate\n"
     ]
    },
    {
     "name": "stderr",
     "output_type": "stream",
     "text": [
      "INFO\tTask(Task-2) nodify.node.139839764495968:node.py:get()- No need to evaluate\n"
     ]
    },
    {
     "name": "stderr",
     "output_type": "stream",
     "text": [
      "INFO\tTask(Task-2) nodify.node.139839764485936:node.py:get()- No need to evaluate\n"
     ]
    },
    {
     "name": "stderr",
     "output_type": "stream",
     "text": [
      "INFO\tTask(Task-2) nodify.node.139839764484352:node.py:get()- No need to evaluate\n"
     ]
    },
    {
     "name": "stderr",
     "output_type": "stream",
     "text": [
      "INFO\tTask(Task-2) nodify.node.139839764485888:node.py:get()- No need to evaluate\n"
     ]
    },
    {
     "name": "stderr",
     "output_type": "stream",
     "text": [
      "INFO\tTask(Task-2) nodify.node.139839764484688:node.py:get()- No need to evaluate\n"
     ]
    },
    {
     "name": "stderr",
     "output_type": "stream",
     "text": [
      "INFO\tTask(Task-2) nodify.node.139839764492944:node.py:get()- No need to evaluate\n"
     ]
    },
    {
     "name": "stderr",
     "output_type": "stream",
     "text": [
      "INFO\tTask(Task-2) nodify.node.139839764485936:node.py:get()- No need to evaluate\n"
     ]
    },
    {
     "name": "stderr",
     "output_type": "stream",
     "text": [
      "INFO\tTask(Task-2) nodify.node.139839764486560:node.py:get()- No need to evaluate\n"
     ]
    },
    {
     "name": "stderr",
     "output_type": "stream",
     "text": [
      "INFO\tTask(Task-2) nodify.node.139839764492464:node.py:get()- No need to evaluate\n"
     ]
    },
    {
     "name": "stderr",
     "output_type": "stream",
     "text": [
      "INFO\tTask(Task-2) nodify.node.139839764485936:node.py:get()- No need to evaluate\n"
     ]
    },
    {
     "name": "stderr",
     "output_type": "stream",
     "text": [
      "INFO\tTask(Task-2) nodify.node.139839764493040:node.py:get()- No need to evaluate\n"
     ]
    },
    {
     "name": "stderr",
     "output_type": "stream",
     "text": [
      "INFO\tTask(Task-2) nodify.node.139839764490400:node.py:get()- No need to evaluate\n"
     ]
    },
    {
     "name": "stderr",
     "output_type": "stream",
     "text": [
      "INFO\tTask(Task-2) nodify.node.139839764490016:node.py:get()- No need to evaluate\n"
     ]
    },
    {
     "name": "stderr",
     "output_type": "stream",
     "text": [
      "INFO\tTask(Task-2) nodify.node.139839764492752:node.py:get()- No need to evaluate\n"
     ]
    },
    {
     "name": "stderr",
     "output_type": "stream",
     "text": [
      "INFO\tTask(Task-2) nodify.node.139839764493184:node.py:get()- Evaluated because inputs changed.\n"
     ]
    },
    {
     "name": "stderr",
     "output_type": "stream",
     "text": [
      "INFO\tTask(Task-2) nodify.node.139839764494048:node.py:get()- Evaluated because inputs changed.\n"
     ]
    },
    {
     "name": "stderr",
     "output_type": "stream",
     "text": [
      "INFO\tTask(Task-2) nodify.node.139839764628064:node.py:get()- Evaluated because inputs changed.\n"
     ]
    },
    {
     "data": {
      "application/vnd.plotly.v1+json": {
       "config": {
        "plotlyServerURL": "https://plot.ly"
       },
       "data": [
        {
         "coloraxis": "coloraxis",
         "meta": {},
         "opacity": 0,
         "textfont": {
          "color": "black"
         },
         "type": "heatmap",
         "z": {
          "bdata": "4JCpuuPRpL+Y7HLsBUy2Py4xCYhNKdK/zOQ+RZxxyL+49usRigW6PwAAAAAAAPh/AAAAAAAA+H8AAAAAAAD4fwAAAAAAAPh/2VCyPxDyqr8AAAAAAAD4fwAAAAAAAPh/AAAAAAAA+H8AAAAAAAD4fwAAAAAAAPh/mOxy7AVMtj8Q82TzA/zOv+BoIXZYoJQ/gNYsWTMqpD+QTED17n2jvwAAAAAAAPh/AAAAAAAA+H8AAAAAAAD4fwAAAAAAAPh/bIHAm3jrnT8AAAAAAAD4fwAAAAAAAPh/AAAAAAAA+H8AAAAAAAD4fwAAAAAAAPh/LjEJiE0p0r/gaCF2WKCUP1g8rJicRto/MHeeZEVSsb9mFzTSrXHfvwAAAAAAAPh/AAAAAAAA+H8AAAAAAAD4fwAAAAAAAPh/onJ1yC99xr8AAAAAAAD4fwAAAAAAAPh/AAAAAAAA+H8AAAAAAAD4fwAAAAAAAPh/zOQ+RZxxyL+A1ixZMyqkPzB3nmRFUrG/CD9o6sOg67+K8JgSdFPgvwAAAAAAAPh/AAAAAAAA+H8AAAAAAAD4fwAAAAAAAPh/+jQzZ88Nkr8AAAAAAAD4fwAAAAAAAPh/AAAAAAAA+H8AAAAAAAD4fwAAAAAAAPh/uPbrEYoFuj+QTED17n2jv2YXNNKtcd+/ivCYEnRT4L/4Sk6fQ/rHvwAAAAAAAPh/AAAAAAAA+H8AAAAAAAD4fwAAAAAAAPh/AAAAAAAA+H/ZULI/EPKqv2yBwJt4650/onJ1yC99xr/6NDNnzw2SvwAAAAAAAPh/",
          "dtype": "f8",
          "shape": "5, 15"
         },
         "zsmooth": false
        },
        {
         "hovertext": [
          "[-0.04689431  0.00436272]",
          "[-0.04689431  0.00436272]",
          "[-0.04689431  0.00436272]",
          "[-0.04689431  0.00436272]",
          "[-0.04689431  0.00436272]",
          "[-0.04689431  0.00436272]",
          "[-0.04689431  0.00436272]",
          "[ 0.10044254 -0.09662841]",
          "[ 0.10044254 -0.09662841]",
          "[ 0.10044254 -0.09662841]",
          "[ 0.10044254 -0.09662841]",
          "[ 0.10044254 -0.09662841]",
          "[ 0.10044254 -0.09662841]",
          "[ 0.10044254 -0.09662841]",
          "[-0.32725011  0.14766886]",
          "[-0.32725011  0.14766886]",
          "[-0.32725011  0.14766886]",
          "[-0.32725011  0.14766886]",
          "[-0.32725011  0.14766886]",
          "[-0.32725011  0.14766886]",
          "[-0.32725011  0.14766886]",
          "[-0.22022696  0.19853414]",
          "[-0.22022696  0.19853414]",
          "[-0.22022696  0.19853414]",
          "[-0.22022696  0.19853414]",
          "[-0.22022696  0.19853414]",
          "[-0.22022696  0.19853414]",
          "[-0.22022696  0.19853414]",
          "[ 0.11722131 -0.061591  ]",
          "[ 0.11722131 -0.061591  ]",
          "[ 0.11722131 -0.061591  ]",
          "[ 0.11722131 -0.061591  ]",
          "[ 0.11722131 -0.061591  ]",
          "[ 0.11722131 -0.061591  ]",
          "[ 0.11722131 -0.061591  ]",
          "[ 0. -0.]",
          "[ 0. -0.]",
          "[ 0. -0.]",
          "[ 0. -0.]",
          "[ 0. -0.]",
          "[ 0. -0.]",
          "[ 0. -0.]",
          "[ 0. -0.]",
          "[ 0. -0.]",
          "[ 0. -0.]",
          "[ 0. -0.]",
          "[ 0. -0.]",
          "[ 0. -0.]",
          "[ 0. -0.]",
          "[ 0. -0.]",
          "[ 0. -0.]",
          "[ 0. -0.]",
          "[ 0. -0.]",
          "[ 0. -0.]",
          "[ 0. -0.]",
          "[ 0. -0.]",
          "[ 0. -0.]",
          "[ 0. -0.]",
          "[ 0. -0.]",
          "[ 0. -0.]",
          "[ 0. -0.]",
          "[ 0. -0.]",
          "[ 0. -0.]",
          "[-0.06069168  0.04050947]",
          "[-0.06069168  0.04050947]",
          "[-0.06069168  0.04050947]",
          "[-0.06069168  0.04050947]",
          "[-0.06069168  0.04050947]",
          "[-0.06069168  0.04050947]",
          "[-0.06069168  0.04050947]",
          "[ 0. -0.]",
          "[ 0. -0.]",
          "[ 0. -0.]",
          "[ 0. -0.]",
          "[ 0. -0.]",
          "[ 0. -0.]",
          "[ 0. -0.]",
          "[ 0. -0.]",
          "[ 0. -0.]",
          "[ 0. -0.]",
          "[ 0. -0.]",
          "[ 0. -0.]",
          "[ 0. -0.]",
          "[ 0. -0.]",
          "[ 0. -0.]",
          "[ 0. -0.]",
          "[ 0. -0.]",
          "[ 0. -0.]",
          "[ 0. -0.]",
          "[ 0. -0.]",
          "[ 0. -0.]",
          "[ 0. -0.]",
          "[ 0. -0.]",
          "[ 0. -0.]",
          "[ 0. -0.]",
          "[ 0. -0.]",
          "[ 0. -0.]",
          "[ 0. -0.]",
          "[ 0. -0.]",
          "[ 0. -0.]",
          "[ 0. -0.]",
          "[ 0. -0.]",
          "[ 0. -0.]",
          "[ 0. -0.]",
          "[ 0. -0.]",
          "[ 0.10044254 -0.04176139]",
          "[ 0.10044254 -0.04176139]",
          "[ 0.10044254 -0.04176139]",
          "[ 0.10044254 -0.04176139]",
          "[ 0.10044254 -0.04176139]",
          "[ 0.10044254 -0.04176139]",
          "[ 0.10044254 -0.04176139]",
          "[-0.27915507  0.10493719]",
          "[-0.27915507  0.10493719]",
          "[-0.27915507  0.10493719]",
          "[-0.27915507  0.10493719]",
          "[-0.27915507  0.10493719]",
          "[-0.27915507  0.10493719]",
          "[-0.27915507  0.10493719]",
          "[ 0.0232292  -0.02045076]",
          "[ 0.0232292  -0.02045076]",
          "[ 0.0232292  -0.02045076]",
          "[ 0.0232292  -0.02045076]",
          "[ 0.0232292  -0.02045076]",
          "[ 0.0232292  -0.02045076]",
          "[ 0.0232292  -0.02045076]",
          "[ 0.04541892 -0.01152463]",
          "[ 0.04541892 -0.01152463]",
          "[ 0.04541892 -0.01152463]",
          "[ 0.04541892 -0.01152463]",
          "[ 0.04541892 -0.01152463]",
          "[ 0.04541892 -0.01152463]",
          "[ 0.04541892 -0.01152463]",
          "[-0.04390326  0.00749042]",
          "[-0.04390326  0.00749042]",
          "[-0.04390326  0.00749042]",
          "[-0.04390326  0.00749042]",
          "[-0.04390326  0.00749042]",
          "[-0.04390326  0.00749042]",
          "[-0.04390326  0.00749042]",
          "[ 0. -0.]",
          "[ 0. -0.]",
          "[ 0. -0.]",
          "[ 0. -0.]",
          "[ 0. -0.]",
          "[ 0. -0.]",
          "[ 0. -0.]",
          "[ 0. -0.]",
          "[ 0. -0.]",
          "[ 0. -0.]",
          "[ 0. -0.]",
          "[ 0. -0.]",
          "[ 0. -0.]",
          "[ 0. -0.]",
          "[ 0. -0.]",
          "[ 0. -0.]",
          "[ 0. -0.]",
          "[ 0. -0.]",
          "[ 0. -0.]",
          "[ 0. -0.]",
          "[ 0. -0.]",
          "[ 0. -0.]",
          "[ 0. -0.]",
          "[ 0. -0.]",
          "[ 0. -0.]",
          "[ 0. -0.]",
          "[ 0. -0.]",
          "[ 0. -0.]",
          "[ 0.03369541 -0.02238916]",
          "[ 0.03369541 -0.02238916]",
          "[ 0.03369541 -0.02238916]",
          "[ 0.03369541 -0.02238916]",
          "[ 0.03369541 -0.02238916]",
          "[ 0.03369541 -0.02238916]",
          "[ 0.03369541 -0.02238916]",
          "[ 0. -0.]",
          "[ 0. -0.]",
          "[ 0. -0.]",
          "[ 0. -0.]",
          "[ 0. -0.]",
          "[ 0. -0.]",
          "[ 0. -0.]",
          "[ 0. -0.]",
          "[ 0. -0.]",
          "[ 0. -0.]",
          "[ 0. -0.]",
          "[ 0. -0.]",
          "[ 0. -0.]",
          "[ 0. -0.]",
          "[ 0. -0.]",
          "[ 0. -0.]",
          "[ 0. -0.]",
          "[ 0. -0.]",
          "[ 0. -0.]",
          "[ 0. -0.]",
          "[ 0. -0.]",
          "[ 0. -0.]",
          "[ 0. -0.]",
          "[ 0. -0.]",
          "[ 0. -0.]",
          "[ 0. -0.]",
          "[ 0. -0.]",
          "[ 0. -0.]",
          "[ 0. -0.]",
          "[ 0. -0.]",
          "[ 0. -0.]",
          "[ 0. -0.]",
          "[ 0. -0.]",
          "[ 0. -0.]",
          "[ 0. -0.]",
          "[-0.32725011  0.16068724]",
          "[-0.32725011  0.16068724]",
          "[-0.32725011  0.16068724]",
          "[-0.32725011  0.16068724]",
          "[-0.32725011  0.16068724]",
          "[-0.32725011  0.16068724]",
          "[-0.32725011  0.16068724]",
          "[ 0.0232292  -0.00043853]",
          "[ 0.0232292  -0.00043853]",
          "[ 0.0232292  -0.00043853]",
          "[ 0.0232292  -0.00043853]",
          "[ 0.0232292  -0.00043853]",
          "[ 0.0232292  -0.00043853]",
          "[ 0.0232292  -0.00043853]",
          "[ 0.47346548 -0.41792562]",
          "[ 0.47346548 -0.41792562]",
          "[ 0.47346548 -0.41792562]",
          "[ 0.47346548 -0.41792562]",
          "[ 0.47346548 -0.41792562]",
          "[ 0.47346548 -0.41792562]",
          "[ 0.47346548 -0.41792562]",
          "[-0.07802867  0.07228979]",
          "[-0.07802867  0.07228979]",
          "[-0.07802867  0.07228979]",
          "[-0.07802867  0.07228979]",
          "[-0.07802867  0.07228979]",
          "[-0.07802867  0.07228979]",
          "[-0.07802867  0.07228979]",
          "[-0.56659211  0.24606252]",
          "[-0.56659211  0.24606252]",
          "[-0.56659211  0.24606252]",
          "[-0.56659211  0.24606252]",
          "[-0.56659211  0.24606252]",
          "[-0.56659211  0.24606252]",
          "[-0.56659211  0.24606252]",
          "[ 0. -0.]",
          "[ 0. -0.]",
          "[ 0. -0.]",
          "[ 0. -0.]",
          "[ 0. -0.]",
          "[ 0. -0.]",
          "[ 0. -0.]",
          "[ 0. -0.]",
          "[ 0. -0.]",
          "[ 0. -0.]",
          "[ 0. -0.]",
          "[ 0. -0.]",
          "[ 0. -0.]",
          "[ 0. -0.]",
          "[ 0. -0.]",
          "[ 0. -0.]",
          "[ 0. -0.]",
          "[ 0. -0.]",
          "[ 0. -0.]",
          "[ 0. -0.]",
          "[ 0. -0.]",
          "[ 0. -0.]",
          "[ 0. -0.]",
          "[ 0. -0.]",
          "[ 0. -0.]",
          "[ 0. -0.]",
          "[ 0. -0.]",
          "[ 0. -0.]",
          "[-0.20261532  0.10623219]",
          "[-0.20261532  0.10623219]",
          "[-0.20261532  0.10623219]",
          "[-0.20261532  0.10623219]",
          "[-0.20261532  0.10623219]",
          "[-0.20261532  0.10623219]",
          "[-0.20261532  0.10623219]",
          "[ 0. -0.]",
          "[ 0. -0.]",
          "[ 0. -0.]",
          "[ 0. -0.]",
          "[ 0. -0.]",
          "[ 0. -0.]",
          "[ 0. -0.]",
          "[ 0. -0.]",
          "[ 0. -0.]",
          "[ 0. -0.]",
          "[ 0. -0.]",
          "[ 0. -0.]",
          "[ 0. -0.]",
          "[ 0. -0.]",
          "[ 0. -0.]",
          "[ 0. -0.]",
          "[ 0. -0.]",
          "[ 0. -0.]",
          "[ 0. -0.]",
          "[ 0. -0.]",
          "[ 0. -0.]",
          "[ 0. -0.]",
          "[ 0. -0.]",
          "[ 0. -0.]",
          "[ 0. -0.]",
          "[ 0. -0.]",
          "[ 0. -0.]",
          "[ 0. -0.]",
          "[ 0. -0.]",
          "[ 0. -0.]",
          "[ 0. -0.]",
          "[ 0. -0.]",
          "[ 0. -0.]",
          "[ 0. -0.]",
          "[ 0. -0.]",
          "[-0.22022696  0.03249938]",
          "[-0.22022696  0.03249938]",
          "[-0.22022696  0.03249938]",
          "[-0.22022696  0.03249938]",
          "[-0.22022696  0.03249938]",
          "[-0.22022696  0.03249938]",
          "[-0.22022696  0.03249938]",
          "[ 0.04541892 -0.02674555]",
          "[ 0.04541892 -0.02674555]",
          "[ 0.04541892 -0.02674555]",
          "[ 0.04541892 -0.02674555]",
          "[ 0.04541892 -0.02674555]",
          "[ 0.04541892 -0.02674555]",
          "[ 0.04541892 -0.02674555]",
          "[-0.07802867  0.05621249]",
          "[-0.07802867  0.05621249]",
          "[-0.07802867  0.05621249]",
          "[-0.07802867  0.05621249]",
          "[-0.07802867  0.05621249]",
          "[-0.07802867  0.05621249]",
          "[-0.07802867  0.05621249]",
          "[-0.99566032  0.09306193]",
          "[-0.99566032  0.09306193]",
          "[-0.99566032  0.09306193]",
          "[-0.99566032  0.09306193]",
          "[-0.99566032  0.09306193]",
          "[-0.99566032  0.09306193]",
          "[-0.99566032  0.09306193]",
          "[-0.5883577   0.36207961]",
          "[-0.5883577   0.36207961]",
          "[-0.5883577   0.36207961]",
          "[-0.5883577   0.36207961]",
          "[-0.5883577   0.36207961]",
          "[-0.5883577   0.36207961]",
          "[-0.5883577   0.36207961]",
          "[ 0. -0.]",
          "[ 0. -0.]",
          "[ 0. -0.]",
          "[ 0. -0.]",
          "[ 0. -0.]",
          "[ 0. -0.]",
          "[ 0. -0.]",
          "[ 0. -0.]",
          "[ 0. -0.]",
          "[ 0. -0.]",
          "[ 0. -0.]",
          "[ 0. -0.]",
          "[ 0. -0.]",
          "[ 0. -0.]",
          "[ 0. -0.]",
          "[ 0. -0.]",
          "[ 0. -0.]",
          "[ 0. -0.]",
          "[ 0. -0.]",
          "[ 0. -0.]",
          "[ 0. -0.]",
          "[ 0. -0.]",
          "[ 0. -0.]",
          "[ 0. -0.]",
          "[ 0. -0.]",
          "[ 0. -0.]",
          "[ 0. -0.]",
          "[ 0. -0.]",
          "[-0.02033219  0.01636431]",
          "[-0.02033219  0.01636431]",
          "[-0.02033219  0.01636431]",
          "[-0.02033219  0.01636431]",
          "[-0.02033219  0.01636431]",
          "[-0.02033219  0.01636431]",
          "[-0.02033219  0.01636431]",
          "[ 0. -0.]",
          "[ 0. -0.]",
          "[ 0. -0.]",
          "[ 0. -0.]",
          "[ 0. -0.]",
          "[ 0. -0.]",
          "[ 0. -0.]",
          "[ 0. -0.]",
          "[ 0. -0.]",
          "[ 0. -0.]",
          "[ 0. -0.]",
          "[ 0. -0.]",
          "[ 0. -0.]",
          "[ 0. -0.]",
          "[ 0. -0.]",
          "[ 0. -0.]",
          "[ 0. -0.]",
          "[ 0. -0.]",
          "[ 0. -0.]",
          "[ 0. -0.]",
          "[ 0. -0.]",
          "[ 0. -0.]",
          "[ 0. -0.]",
          "[ 0. -0.]",
          "[ 0. -0.]",
          "[ 0. -0.]",
          "[ 0. -0.]",
          "[ 0. -0.]",
          "[ 0. -0.]",
          "[ 0. -0.]",
          "[ 0. -0.]",
          "[ 0. -0.]",
          "[ 0. -0.]",
          "[ 0. -0.]",
          "[ 0. -0.]",
          "[ 0.11722131 -0.03084829]",
          "[ 0.11722131 -0.03084829]",
          "[ 0.11722131 -0.03084829]",
          "[ 0.11722131 -0.03084829]",
          "[ 0.11722131 -0.03084829]",
          "[ 0.11722131 -0.03084829]",
          "[ 0.11722131 -0.03084829]",
          "[-0.04390326  0.02479913]",
          "[-0.04390326  0.02479913]",
          "[-0.04390326  0.02479913]",
          "[-0.04390326  0.02479913]",
          "[-0.04390326  0.02479913]",
          "[-0.04390326  0.02479913]",
          "[-0.04390326  0.02479913]",
          "[-0.56659211  0.18295129]",
          "[-0.56659211  0.18295129]",
          "[-0.56659211  0.18295129]",
          "[-0.56659211  0.18295129]",
          "[-0.56659211  0.18295129]",
          "[-0.56659211  0.18295129]",
          "[-0.56659211  0.18295129]",
          "[-0.5883577   0.40841027]",
          "[-0.5883577   0.40841027]",
          "[-0.5883577   0.40841027]",
          "[-0.5883577   0.40841027]",
          "[-0.5883577   0.40841027]",
          "[-0.5883577   0.40841027]",
          "[-0.5883577   0.40841027]",
          "[-0.21602675  0.02471698]",
          "[-0.21602675  0.02471698]",
          "[-0.21602675  0.02471698]",
          "[-0.21602675  0.02471698]",
          "[-0.21602675  0.02471698]",
          "[-0.21602675  0.02471698]",
          "[-0.21602675  0.02471698]",
          "[ 0. -0.]",
          "[ 0. -0.]",
          "[ 0. -0.]",
          "[ 0. -0.]",
          "[ 0. -0.]",
          "[ 0. -0.]",
          "[ 0. -0.]",
          "[ 0. -0.]",
          "[ 0. -0.]",
          "[ 0. -0.]",
          "[ 0. -0.]",
          "[ 0. -0.]",
          "[ 0. -0.]",
          "[ 0. -0.]",
          "[ 0. -0.]",
          "[ 0. -0.]",
          "[ 0. -0.]",
          "[ 0. -0.]",
          "[ 0. -0.]",
          "[ 0. -0.]",
          "[ 0. -0.]",
          "[ 0. -0.]",
          "[ 0. -0.]",
          "[ 0. -0.]",
          "[ 0. -0.]",
          "[ 0. -0.]",
          "[ 0. -0.]",
          "[ 0. -0.]",
          "[ 0. -0.]",
          "[ 0. -0.]",
          "[ 0. -0.]",
          "[ 0. -0.]",
          "[ 0. -0.]",
          "[ 0. -0.]",
          "[ 0. -0.]",
          "[-0.06069168  0.05413965]",
          "[-0.06069168  0.05413965]",
          "[-0.06069168  0.05413965]",
          "[-0.06069168  0.05413965]",
          "[-0.06069168  0.05413965]",
          "[-0.06069168  0.05413965]",
          "[-0.06069168  0.05413965]",
          "[ 0.03369541 -0.01675836]",
          "[ 0.03369541 -0.01675836]",
          "[ 0.03369541 -0.01675836]",
          "[ 0.03369541 -0.01675836]",
          "[ 0.03369541 -0.01675836]",
          "[ 0.03369541 -0.01675836]",
          "[ 0.03369541 -0.01675836]",
          "[-0.20261532  0.0458725 ]",
          "[-0.20261532  0.0458725 ]",
          "[-0.20261532  0.0458725 ]",
          "[-0.20261532  0.0458725 ]",
          "[-0.20261532  0.0458725 ]",
          "[-0.20261532  0.0458725 ]",
          "[-0.20261532  0.0458725 ]",
          "[-0.02033219  0.00565504]",
          "[-0.02033219  0.00565504]",
          "[-0.02033219  0.00565504]",
          "[-0.02033219  0.00565504]",
          "[-0.02033219  0.00565504]",
          "[-0.02033219  0.00565504]",
          "[-0.02033219  0.00565504]",
          "[ 0. -0.]",
          "[ 0. -0.]",
          "[ 0. -0.]",
          "[ 0. -0.]",
          "[ 0. -0.]",
          "[ 0. -0.]",
          "[ 0. -0.]"
         ],
         "line": {
          "color": "red"
         },
         "meta": {},
         "mode": "lines",
         "type": "scatter",
         "x": {
          "bdata": "jY1cDYgCmD+NjVwNiAKYvwAAAAAAAPh/saOXOtiUjr+NjVwNiAKYv9y8nLfrW42/AAAAAAAA+H92uKNclmTuP8UjrtG0zfA/AAAAAAAA+H/eGqWsdZvwP8UjrtG0zfA/JVou+k9l8D8AAAAAAAD4fwsU16YaTwFA6tdRssph/T8AAAAAAAD4fwqoWlhVNP4/6tdRssph/T+iGVL7FIf+PwAAAAAAAPh/ZyYoLYPhCECY2dfSfB4HQAAAAAAAAPh/8eI/iXBXB0CY2dfSfB4HQMOOasIQjwdAAAAAAAAA+H/t4isj94cPQIoOam4EPBBAAAAAAAAA+H/Mgdi5xSkQQIoOam4EPBBA2CzL3CQhEEAAAAAAAAD4fwAAAAAAABRAAAAAAAAAFEAAAAAAAAD4fwAAAAAAABRAAAAAAAAAFEAAAAAAAAAUQAAAAAAAAPh/AAAAAAAAGEAAAAAAAAAYQAAAAAAAAPh/AAAAAAAAGEAAAAAAAAAYQAAAAAAAABhAAAAAAAAA+H8AAAAAAAAcQAAAAAAAABxAAAAAAAAA+H8AAAAAAAAcQAAAAAAAABxAAAAAAAAAHEAAAAAAAAD4fwAAAAAAACBAAAAAAAAAIEAAAAAAAAD4fwAAAAAAACBAAAAAAAAAIEAAAAAAAAAgQAAAAAAAAPh/da5rfYkPIkCKUZSCdvAhQAAAAAAAAPh/pfLzWuL0IUCKUZSCdvAhQI+tW8K49yFAAAAAAAAA+H8AAAAAAAAkQAAAAAAAACRAAAAAAAAA+H8AAAAAAAAkQAAAAAAAACRAAAAAAAAAJEAAAAAAAAD4fwAAAAAAACZAAAAAAAAAJkAAAAAAAAD4fwAAAAAAACZAAAAAAAAAJkAAAAAAAAAmQAAAAAAAAPh/AAAAAAAAKEAAAAAAAAAoQAAAAAAAAPh/AAAAAAAAKEAAAAAAAAAoQAAAAAAAAChAAAAAAAAA+H8AAAAAAAAqQAAAAAAAACpAAAAAAAAA+H8AAAAAAAAqQAAAAAAAACpAAAAAAAAAKkAAAAAAAAD4fwAAAAAAACxAAAAAAAAALEAAAAAAAAD4fwAAAAAAACxAAAAAAAAALEAAAAAAAAAsQAAAAAAAAPh/onjENZq2qb+ieMQ1mrapPwAAAAAAAPh/0MbpmseCoT+ieMQ1mrapP0OzCX/aK50/AAAAAAAA+H+yza2mtTvyP55kpLKUiOs/AAAAAAAA+H/RqB0KkPvsP55kpLKUiOs/iaKfSCtx7T8AAAAAAAD4f2fSEjVt0P8/zJZ2ZckXAEAAAAAAAAD4f0wOTPe1EQBAzJZ2ZckXAEDUoRgZ+wsAQAAAAAAAAPh/G7SRs33RB0DlS25Mgi4IQAAAAAAAAPh/VRyGTqQeCEDlS25Mgi4IQKugga5pGwhAAAAAAAAA+H9tb8t8ehYQQCUhaQYL0w9AAAAAAAAA+H9kT0Za5OIPQCUhaQYL0w9AGVDUnf3kD0AAAAAAAAD4fwAAAAAAABRAAAAAAAAAFEAAAAAAAAD4fwAAAAAAABRAAAAAAAAAFEAAAAAAAAAUQAAAAAAAAPh/AAAAAAAAGEAAAAAAAAAYQAAAAAAAAPh/AAAAAAAAGEAAAAAAAAAYQAAAAAAAABhAAAAAAAAA+H8AAAAAAAAcQAAAAAAAABxAAAAAAAAA+H8AAAAAAAAcQAAAAAAAABxAAAAAAAAAHEAAAAAAAAD4fwAAAAAAACBAAAAAAAAAIEAAAAAAAAD4fwAAAAAAACBAAAAAAAAAIEAAAAAAAAAgQAAAAAAAAPh/4GHPvF/3IUAfnjBDoAgiQAAAAAAAAPh/4hIV9yoGIkAfnjBDoAgiQFWgSX2ZBCJAAAAAAAAA+H8AAAAAAAAkQAAAAAAAACRAAAAAAAAA+H8AAAAAAAAkQAAAAAAAACRAAAAAAAAAJEAAAAAAAAD4fwAAAAAAACZAAAAAAAAAJkAAAAAAAAD4fwAAAAAAACZAAAAAAAAAJkAAAAAAAAAmQAAAAAAAAPh/AAAAAAAAKEAAAAAAAAAoQAAAAAAAAPh/AAAAAAAAKEAAAAAAAAAoQAAAAAAAAChAAAAAAAAA+H8AAAAAAAAqQAAAAAAAACpAAAAAAAAA+H8AAAAAAAAqQAAAAAAAACpAAAAAAAAAKkAAAAAAAAD4fwAAAAAAACxAAAAAAAAALEAAAAAAAAD4fwAAAAAAACxAAAAAAAAALEAAAAAAAAAsQAAAAAAAAPh/rkBxbarxxD+uQHFtqvHEvwAAAAAAAPh/ZhNzvgb1vL+uQHFtqvHEv9HRwAZUVLe/AAAAAAAA+H/OpCVq2qDvP5kt7cqSL/A/AAAAAAAA+H8qrr6E0B3wP5kt7cqSL/A/F7IKnJEd8D8AAAAAAAD4f8JZfLtXNvw/INNBItTkAUAAAAAAAAD4f/0+ZfcjaQFAINNBItTkAUA1mDt9C/QAQAAAAAAAAPh/Ywlpv+ZPCECe9pZAGbAHQAAAAAAAAPh/Y3v6KQHEB0Ce9pZAGbAHQMny70dC2AdAAAAAAAAA+H/zh1BcGCIRQBrwXkfPuw1AAAAAAAAA+H8Ks8Isa3MOQBrwXkfPuw1AJHIWdVy4DkAAAAAAAAD4fwAAAAAAABRAAAAAAAAAFEAAAAAAAAD4fwAAAAAAABRAAAAAAAAAFEAAAAAAAAAUQAAAAAAAAPh/AAAAAAAAGEAAAAAAAAAYQAAAAAAAAPh/AAAAAAAAGEAAAAAAAAAYQAAAAAAAABhAAAAAAAAA+H8AAAAAAAAcQAAAAAAAABxAAAAAAAAA+H8AAAAAAAAcQAAAAAAAABxAAAAAAAAAHEAAAAAAAAD4fwAAAAAAACBAAAAAAAAAIEAAAAAAAAD4fwAAAAAAACBAAAAAAAAAIEAAAAAAAAAgQAAAAAAAAPh/CYbumN4zIkD4eRFnIcwhQAAAAAAAAPh/Vtt4D+jbIUD4eRFnIcwhQHrCGfxY4yFAAAAAAAAA+H8AAAAAAAAkQAAAAAAAACRAAAAAAAAA+H8AAAAAAAAkQAAAAAAAACRAAAAAAAAAJEAAAAAAAAD4fwAAAAAAACZAAAAAAAAAJkAAAAAAAAD4fwAAAAAAACZAAAAAAAAAJkAAAAAAAAAmQAAAAAAAAPh/AAAAAAAAKEAAAAAAAAAoQAAAAAAAAPh/AAAAAAAAKEAAAAAAAAAoQAAAAAAAAChAAAAAAAAA+H8AAAAAAAAqQAAAAAAAACpAAAAAAAAA+H8AAAAAAAAqQAAAAAAAACpAAAAAAAAAKkAAAAAAAAD4fwAAAAAAACxAAAAAAAAALEAAAAAAAAD4fwAAAAAAACxAAAAAAAAALEAAAAAAAAAsQAAAAAAAAPh/7swEpWUwvD/uzASlZTC8vwAAAAAAAPh/7p29gZwpsr/uzASlZTC8v2gr9Ag6BrG/AAAAAAAA+H9s0EbO9kXvP8qX3JgEXfA/AAAAAAAA+H+Hx6dcjEHwP8qX3JgEXfA/erJnnY8y8D8AAAAAAAD4f2MJab/mTwBAO+0tgTJg/z8AAAAAAAD4f+bIbYCDjP8/O+0tgTJg/z9wE2djA6z/PwAAAAAAAPh/fRUrYY77C0CD6tSecQQEQAAAAAAAAPh/0RLoaKJ2BUCD6tSecQQEQCDaN3K1kAVAAAAAAAAA+H82yXc4PS0RQJVtEI+FpQ1AAAAAAAAA+H8jdddVQVUOQJVtEI+FpQ1ALgPFJ7S6DkAAAAAAAAD4fwAAAAAAABRAAAAAAAAAFEAAAAAAAAD4fwAAAAAAABRAAAAAAAAAFEAAAAAAAAAUQAAAAAAAAPh/AAAAAAAAGEAAAAAAAAAYQAAAAAAAAPh/AAAAAAAAGEAAAAAAAAAYQAAAAAAAABhAAAAAAAAA+H8AAAAAAAAcQAAAAAAAABxAAAAAAAAA+H8AAAAAAAAcQAAAAAAAABxAAAAAAAAAHEAAAAAAAAD4fwAAAAAAACBAAAAAAAAAIEAAAAAAAAD4fwAAAAAAACBAAAAAAAAAIEAAAAAAAAAgQAAAAAAAAPh/+QV7fTQFIkAH+oSCy/ohQAAAAAAAAPh/HVNtpC38IUAH+oSCy/ohQBxFExVT/SFAAAAAAAAA+H8AAAAAAAAkQAAAAAAAACRAAAAAAAAA+H8AAAAAAAAkQAAAAAAAACRAAAAAAAAAJEAAAAAAAAD4fwAAAAAAACZAAAAAAAAAJkAAAAAAAAD4fwAAAAAAACZAAAAAAAAAJkAAAAAAAAAmQAAAAAAAAPh/AAAAAAAAKEAAAAAAAAAoQAAAAAAAAPh/AAAAAAAAKEAAAAAAAAAoQAAAAAAAAChAAAAAAAAA+H8AAAAAAAAqQAAAAAAAACpAAAAAAAAA+H8AAAAAAAAqQAAAAAAAACpAAAAAAAAAKkAAAAAAAAD4fwAAAAAAACxAAAAAAAAALEAAAAAAAAD4fwAAAAAAACxAAAAAAAAALEAAAAAAAAAsQAAAAAAAAPh/xUQHNTcCrr/FRAc1NwKuPwAAAAAAAPh/+AVOczrPoz/FRAc1NwKuP7VLid4QpqE/AAAAAAAA+H+1vS3z6VnwP5iEpBksTO8/AAAAAAAA+H96GJ1p3oHvP5iEpBksTO8/hWXNdqmd7z8AAAAAAAD4f+YPobgwRAJANOC9jp53+z8AAAAAAAD4f+MiCB6F+Pw/NOC9jp53+z97J6olCl/9PwAAAAAAAPh/bJLvcHpaCkCVbRCPhaUFQAAAAAAAAPh/ys2BwsNOBkCVbRCPhaUFQIaqGrsxwQZAAAAAAAAA+H+GLfcOm24QQPakEeLJIg9AAAAAAAAA+H9QFq1oeXIPQPakEeLJIg9Anq6XR2Z5D0AAAAAAAAD4fwAAAAAAABRAAAAAAAAAFEAAAAAAAAD4fwAAAAAAABRAAAAAAAAAFEAAAAAAAAAUQAAAAAAAAPh/AAAAAAAAGEAAAAAAAAAYQAAAAAAAAPh/AAAAAAAAGEAAAAAAAAAYQAAAAAAAABhAAAAAAAAA+H8AAAAAAAAcQAAAAAAAABxAAAAAAAAA+H8AAAAAAAAcQAAAAAAAABxAAAAAAAAAHEAAAAAAAAD4fwAAAAAAACBAAAAAAAAAIEAAAAAAAAD4fwAAAAAAACBAAAAAAAAAIEAAAAAAAAAgQAAAAAAAAPh/AAAAAAAAIkAAAAAAAAAiQAAAAAAAAPh/AAAAAAAAIkAAAAAAAAAiQAAAAAAAACJAAAAAAAAA+H91rmt9iQ8kQIpRlIJ28CNAAAAAAAAA+H++Hi4maPQjQIpRlIJ28CNAdoEh9zL4I0AAAAAAAAD4f+Bhz7xf9yVAH54wQ6AIJkAAAAAAAAD4f3f/8Hr4BSZAH54wQ6AIJkDAs235ywQmQAAAAAAAAPh/CYbumN4zKED4eRFnIcwnQAAAAAAAAPh/ZxSKPAXeJ0D4eRFnIcwnQGmJCM874SdAAAAAAAAA+H/5BXt9NAUqQAf6hILL+ilAAAAAAAAA+H/90/uojfwpQAf6hILL+ilAPcSEEPP8KUAAAAAAAAD4fwAAAAAAACxAAAAAAAAALEAAAAAAAAD4fwAAAAAAACxAAAAAAAAALEAAAAAAAAAsQAAAAAAAAPh/",
          "dtype": "f8"
         },
         "y": {
          "bdata": "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",
          "dtype": "f8"
         }
        },
        {
         "line": {
          "color": "pink",
          "dash": "dash",
          "width": 5
         },
         "meta": {},
         "mode": "lines",
         "name": "orbitals separators",
         "opacity": 0.8,
         "showlegend": false,
         "type": "scatter",
         "x": {
          "bdata": "AAAAAAAA4L8AAAAAAAASQAAAAAAAAPh/AAAAAAAA4D8AAAAAAADgPwAAAAAAAPh/",
          "dtype": "f8"
         },
         "y": {
          "bdata": "AAAAAAAA4D8AAAAAAADgPwAAAAAAAPh/AAAAAAAA4L8AAAAAAAASQAAAAAAAAPh/",
          "dtype": "f8"
         }
        },
        {
         "line": {
          "color": "gray"
         },
         "meta": {},
         "mode": "lines",
         "name": "atoms separators",
         "opacity": 1,
         "showlegend": false,
         "type": "scatter",
         "x": {
          "bdata": "AAAAAAAA4L8AAAAAAAASQAAAAAAAAPh/AAAAAAAADEAAAAAAAAAMQAAAAAAAAPh/",
          "dtype": "f8"
         },
         "y": {
          "bdata": "AAAAAAAADEAAAAAAAAAMQAAAAAAAAPh/AAAAAAAA4L8AAAAAAAASQAAAAAAAAPh/",
          "dtype": "f8"
         }
        }
       ],
       "layout": {
        "coloraxis": {
         "cmid": 0,
         "colorscale": [
          [
           0.0,
           "rgb(0, 147, 146)"
          ],
          [
           0.16666666666666666,
           "rgb(57, 177, 133)"
          ],
          [
           0.3333333333333333,
           "rgb(156, 203, 134)"
          ],
          [
           0.5,
           "rgb(233, 226, 156)"
          ],
          [
           0.6666666666666666,
           "rgb(238, 180, 121)"
          ],
          [
           0.8333333333333334,
           "rgb(232, 132, 113)"
          ],
          [
           1.0,
           "rgb(207, 89, 126)"
          ]
         ],
         "showscale": false
        },
        "scene": {
         "aspectmode": "data",
         "xaxis": {
          "range": [
           -0.5,
           14.5
          ]
         },
         "yaxis": {
          "range": [
           4.5,
           -0.5
          ]
         }
        },
        "template": {
         "layout": {
          "hovermode": "closest",
          "paper_bgcolor": "white",
          "plot_bgcolor": "white",
          "scene": {
           "xaxis": {
            "color": "black",
            "gridcolor": "#ccc",
            "gridwidth": 1,
            "linewidth": 1,
            "mirror": true,
            "showgrid": false,
            "showline": true,
            "ticklen": 5,
            "ticks": "outside",
            "ticksuffix": " ",
            "visible": true,
            "zeroline": false,
            "zerolinecolor": "#ccc",
            "zerolinewidth": 1
           },
           "yaxis": {
            "color": "black",
            "gridcolor": "#ccc",
            "gridwidth": 1,
            "linewidth": 1,
            "mirror": true,
            "showgrid": false,
            "showline": true,
            "ticklen": 5,
            "ticks": "outside",
            "ticksuffix": " ",
            "visible": true,
            "zeroline": false,
            "zerolinecolor": "#ccc",
            "zerolinewidth": 1
           },
           "zaxis": {
            "color": "black",
            "gridcolor": "#ccc",
            "gridwidth": 1,
            "linewidth": 1,
            "mirror": true,
            "showgrid": false,
            "showline": true,
            "ticklen": 5,
            "ticks": "outside",
            "ticksuffix": " ",
            "visible": true,
            "zeroline": false,
            "zerolinecolor": "#ccc",
            "zerolinewidth": 1
           }
          },
          "xaxis": {
           "color": "black",
           "gridcolor": "#ccc",
           "gridwidth": 1,
           "linewidth": 1,
           "mirror": true,
           "showgrid": false,
           "showline": true,
           "ticklen": 5,
           "ticks": "outside",
           "ticksuffix": " ",
           "visible": true,
           "zeroline": false,
           "zerolinecolor": "#ccc",
           "zerolinewidth": 1
          },
          "yaxis": {
           "color": "black",
           "gridcolor": "#ccc",
           "gridwidth": 1,
           "linewidth": 1,
           "mirror": true,
           "showgrid": false,
           "showline": true,
           "ticklen": 5,
           "ticks": "outside",
           "ticksuffix": " ",
           "visible": true,
           "zeroline": false,
           "zerolinecolor": "#ccc",
           "zerolinewidth": 1
          }
         }
        },
        "xaxis": {
         "constrain": "domain",
         "range": [
          -0.5,
          14.5
         ],
         "scaleanchor": "y",
         "scaleratio": 1
        },
        "yaxis": {
         "constrain": "domain",
         "range": [
          4.5,
          -0.5
         ]
        }
       }
      }
     },
     "metadata": {},
     "output_type": "display_data"
    }
   ],
   "source": [
    "# Initialize a sparse matrix with the same sparsity pattern as our Hamiltonian,\n",
    "# but with an extra dimension that will host the X and Y coordinates.\n",
    "arrow_data = sisl.SparseCSR.fromsp([H, H])\n",
    "\n",
    "# The X coordinate will be the Hamiltonian's value,\n",
    "# while the Y coordinate will be just random.\n",
    "for i in range(arrow_data.shape[0]):\n",
    "    for j in range(arrow_data.shape[1]):\n",
    "        if arrow_data[i, j, 1] != 0:\n",
    "            arrow_data[i, j, 1] *= np.random.random()\n",
    "\n",
    "# Let's display the data\n",
    "plot.update_inputs(arrows={\"data\": arrow_data, \"color\": \"red\"})"
   ]
  },
  {
   "cell_type": "markdown",
   "metadata": {},
   "source": [
    "Finally, we showcase how **you can have multiple specifications of arrows**.\n",
    "\n",
    "We also show how you can use the `center` key. You can set `center` to `\"start\"`, `\"middle\"` or `\"end\"`. It determines which part of the arrow is pinned to the center of the matrix element (the default is `\"middle\"`):"
   ]
  },
  {
   "cell_type": "code",
   "execution_count": 21,
   "metadata": {
    "execution": {
     "iopub.execute_input": "2025-09-23T10:47:15.445021Z",
     "iopub.status.busy": "2025-09-23T10:47:15.444831Z",
     "iopub.status.idle": "2025-09-23T10:47:15.620313Z",
     "shell.execute_reply": "2025-09-23T10:47:15.619834Z"
    }
   },
   "outputs": [
    {
     "name": "stderr",
     "output_type": "stream",
     "text": [
      "INFO\tTask(Task-2) nodify.node.139839764491168:node.py:get()- No need to evaluate\n"
     ]
    },
    {
     "name": "stderr",
     "output_type": "stream",
     "text": [
      "INFO\tTask(Task-2) nodify.node.139839764485936:node.py:get()- No need to evaluate\n"
     ]
    },
    {
     "name": "stderr",
     "output_type": "stream",
     "text": [
      "INFO\tTask(Task-2) nodify.node.139839764484352:node.py:get()- No need to evaluate\n"
     ]
    },
    {
     "name": "stderr",
     "output_type": "stream",
     "text": [
      "INFO\tTask(Task-2) nodify.node.139839764485888:node.py:get()- No need to evaluate\n"
     ]
    },
    {
     "name": "stderr",
     "output_type": "stream",
     "text": [
      "INFO\tTask(Task-2) nodify.node.139839764484688:node.py:get()- No need to evaluate\n"
     ]
    },
    {
     "name": "stderr",
     "output_type": "stream",
     "text": [
      "INFO\tTask(Task-2) nodify.node.139839764492944:node.py:get()- No need to evaluate\n"
     ]
    },
    {
     "name": "stderr",
     "output_type": "stream",
     "text": [
      "INFO\tTask(Task-2) nodify.node.139839764488096:node.py:get()- No need to evaluate\n"
     ]
    },
    {
     "name": "stderr",
     "output_type": "stream",
     "text": [
      "INFO\tTask(Task-2) nodify.node.139839764488480:node.py:get()- No need to evaluate\n"
     ]
    },
    {
     "name": "stderr",
     "output_type": "stream",
     "text": [
      "INFO\tTask(Task-2) nodify.node.139839764485936:node.py:get()- No need to evaluate\n"
     ]
    },
    {
     "name": "stderr",
     "output_type": "stream",
     "text": [
      "INFO\tTask(Task-2) nodify.node.139839764488864:node.py:get()- No need to evaluate\n"
     ]
    },
    {
     "name": "stderr",
     "output_type": "stream",
     "text": [
      "INFO\tTask(Task-2) nodify.node.139839764488480:node.py:get()- No need to evaluate\n"
     ]
    },
    {
     "name": "stderr",
     "output_type": "stream",
     "text": [
      "INFO\tTask(Task-2) nodify.node.139839764494240:node.py:get()- No need to evaluate\n"
     ]
    },
    {
     "name": "stderr",
     "output_type": "stream",
     "text": [
      "INFO\tTask(Task-2) nodify.node.139839764487712:node.py:get()- No need to evaluate\n"
     ]
    },
    {
     "name": "stderr",
     "output_type": "stream",
     "text": [
      "INFO\tTask(Task-2) nodify.node.139839764489248:node.py:get()- No need to evaluate\n"
     ]
    },
    {
     "name": "stderr",
     "output_type": "stream",
     "text": [
      "INFO\tTask(Task-2) nodify.node.139839764489632:node.py:get()- No need to evaluate\n"
     ]
    },
    {
     "name": "stderr",
     "output_type": "stream",
     "text": [
      "INFO\tTask(Task-2) nodify.node.139839764494144:node.py:get()- No need to evaluate\n"
     ]
    },
    {
     "name": "stderr",
     "output_type": "stream",
     "text": [
      "INFO\tTask(Task-2) nodify.node.139839764485936:node.py:get()- No need to evaluate\n"
     ]
    },
    {
     "name": "stderr",
     "output_type": "stream",
     "text": [
      "INFO\tTask(Task-2) nodify.node.139839764484352:node.py:get()- No need to evaluate\n"
     ]
    },
    {
     "name": "stderr",
     "output_type": "stream",
     "text": [
      "INFO\tTask(Task-2) nodify.node.139839764485888:node.py:get()- No need to evaluate\n"
     ]
    },
    {
     "name": "stderr",
     "output_type": "stream",
     "text": [
      "INFO\tTask(Task-2) nodify.node.139839764484688:node.py:get()- No need to evaluate\n"
     ]
    },
    {
     "name": "stderr",
     "output_type": "stream",
     "text": [
      "INFO\tTask(Task-2) nodify.node.139839764492944:node.py:get()- No need to evaluate\n"
     ]
    },
    {
     "name": "stderr",
     "output_type": "stream",
     "text": [
      "INFO\tTask(Task-2) nodify.node.139839764490784:node.py:get()- Evaluated because inputs changed.\n"
     ]
    },
    {
     "name": "stderr",
     "output_type": "stream",
     "text": [
      "INFO\tTask(Task-2) nodify.node.139839764494912:node.py:get()- Evaluated because inputs changed.\n"
     ]
    },
    {
     "name": "stderr",
     "output_type": "stream",
     "text": [
      "INFO\tTask(Task-2) nodify.node.139839764494288:node.py:get()- Evaluated because inputs changed.\n"
     ]
    },
    {
     "name": "stderr",
     "output_type": "stream",
     "text": [
      "INFO\tTask(Task-2) nodify.node.139839764486896:node.py:get()- No need to evaluate\n"
     ]
    },
    {
     "name": "stderr",
     "output_type": "stream",
     "text": [
      "INFO\tTask(Task-2) nodify.node.139839764485936:node.py:get()- No need to evaluate\n"
     ]
    },
    {
     "name": "stderr",
     "output_type": "stream",
     "text": [
      "INFO\tTask(Task-2) nodify.node.139839764486560:node.py:get()- No need to evaluate\n"
     ]
    },
    {
     "name": "stderr",
     "output_type": "stream",
     "text": [
      "INFO\tTask(Task-2) nodify.node.139839764492464:node.py:get()- No need to evaluate\n"
     ]
    },
    {
     "name": "stderr",
     "output_type": "stream",
     "text": [
      "INFO\tTask(Task-2) nodify.node.139839764485936:node.py:get()- No need to evaluate\n"
     ]
    },
    {
     "name": "stderr",
     "output_type": "stream",
     "text": [
      "INFO\tTask(Task-2) nodify.node.139839764493040:node.py:get()- No need to evaluate\n"
     ]
    },
    {
     "name": "stderr",
     "output_type": "stream",
     "text": [
      "INFO\tTask(Task-2) nodify.node.139839764494960:node.py:get()- No need to evaluate\n"
     ]
    },
    {
     "name": "stderr",
     "output_type": "stream",
     "text": [
      "INFO\tTask(Task-2) nodify.node.139839764485168:node.py:get()- No need to evaluate\n"
     ]
    },
    {
     "name": "stderr",
     "output_type": "stream",
     "text": [
      "INFO\tTask(Task-2) nodify.node.139839764485936:node.py:get()- No need to evaluate\n"
     ]
    },
    {
     "name": "stderr",
     "output_type": "stream",
     "text": [
      "INFO\tTask(Task-2) nodify.node.139839764486560:node.py:get()- No need to evaluate\n"
     ]
    },
    {
     "name": "stderr",
     "output_type": "stream",
     "text": [
      "INFO\tTask(Task-2) nodify.node.139839764492464:node.py:get()- No need to evaluate\n"
     ]
    },
    {
     "name": "stderr",
     "output_type": "stream",
     "text": [
      "INFO\tTask(Task-2) nodify.node.139839764485936:node.py:get()- No need to evaluate\n"
     ]
    },
    {
     "name": "stderr",
     "output_type": "stream",
     "text": [
      "INFO\tTask(Task-2) nodify.node.139839764493040:node.py:get()- No need to evaluate\n"
     ]
    },
    {
     "name": "stderr",
     "output_type": "stream",
     "text": [
      "INFO\tTask(Task-2) nodify.node.139839764495632:node.py:get()- No need to evaluate\n"
     ]
    },
    {
     "name": "stderr",
     "output_type": "stream",
     "text": [
      "INFO\tTask(Task-2) nodify.node.139839764487280:node.py:get()- No need to evaluate\n"
     ]
    },
    {
     "name": "stderr",
     "output_type": "stream",
     "text": [
      "INFO\tTask(Task-2) nodify.node.139839764485936:node.py:get()- No need to evaluate\n"
     ]
    },
    {
     "name": "stderr",
     "output_type": "stream",
     "text": [
      "INFO\tTask(Task-2) nodify.node.139839764486560:node.py:get()- No need to evaluate\n"
     ]
    },
    {
     "name": "stderr",
     "output_type": "stream",
     "text": [
      "INFO\tTask(Task-2) nodify.node.139839764492464:node.py:get()- No need to evaluate\n"
     ]
    },
    {
     "name": "stderr",
     "output_type": "stream",
     "text": [
      "INFO\tTask(Task-2) nodify.node.139839764485936:node.py:get()- No need to evaluate\n"
     ]
    },
    {
     "name": "stderr",
     "output_type": "stream",
     "text": [
      "INFO\tTask(Task-2) nodify.node.139839764493040:node.py:get()- No need to evaluate\n"
     ]
    },
    {
     "name": "stderr",
     "output_type": "stream",
     "text": [
      "INFO\tTask(Task-2) nodify.node.139839764495968:node.py:get()- No need to evaluate\n"
     ]
    },
    {
     "name": "stderr",
     "output_type": "stream",
     "text": [
      "INFO\tTask(Task-2) nodify.node.139839764485936:node.py:get()- No need to evaluate\n"
     ]
    },
    {
     "name": "stderr",
     "output_type": "stream",
     "text": [
      "INFO\tTask(Task-2) nodify.node.139839764484352:node.py:get()- No need to evaluate\n"
     ]
    },
    {
     "name": "stderr",
     "output_type": "stream",
     "text": [
      "INFO\tTask(Task-2) nodify.node.139839764485888:node.py:get()- No need to evaluate\n"
     ]
    },
    {
     "name": "stderr",
     "output_type": "stream",
     "text": [
      "INFO\tTask(Task-2) nodify.node.139839764484688:node.py:get()- No need to evaluate\n"
     ]
    },
    {
     "name": "stderr",
     "output_type": "stream",
     "text": [
      "INFO\tTask(Task-2) nodify.node.139839764492944:node.py:get()- No need to evaluate\n"
     ]
    },
    {
     "name": "stderr",
     "output_type": "stream",
     "text": [
      "INFO\tTask(Task-2) nodify.node.139839764485936:node.py:get()- No need to evaluate\n"
     ]
    },
    {
     "name": "stderr",
     "output_type": "stream",
     "text": [
      "INFO\tTask(Task-2) nodify.node.139839764486560:node.py:get()- No need to evaluate\n"
     ]
    },
    {
     "name": "stderr",
     "output_type": "stream",
     "text": [
      "INFO\tTask(Task-2) nodify.node.139839764492464:node.py:get()- No need to evaluate\n"
     ]
    },
    {
     "name": "stderr",
     "output_type": "stream",
     "text": [
      "INFO\tTask(Task-2) nodify.node.139839764485936:node.py:get()- No need to evaluate\n"
     ]
    },
    {
     "name": "stderr",
     "output_type": "stream",
     "text": [
      "INFO\tTask(Task-2) nodify.node.139839764493040:node.py:get()- No need to evaluate\n"
     ]
    },
    {
     "name": "stderr",
     "output_type": "stream",
     "text": [
      "INFO\tTask(Task-2) nodify.node.139839764490400:node.py:get()- No need to evaluate\n"
     ]
    },
    {
     "name": "stderr",
     "output_type": "stream",
     "text": [
      "INFO\tTask(Task-2) nodify.node.139839764490016:node.py:get()- No need to evaluate\n"
     ]
    },
    {
     "name": "stderr",
     "output_type": "stream",
     "text": [
      "INFO\tTask(Task-2) nodify.node.139839764492752:node.py:get()- No need to evaluate\n"
     ]
    },
    {
     "name": "stderr",
     "output_type": "stream",
     "text": [
      "INFO\tTask(Task-2) nodify.node.139839764493184:node.py:get()- Evaluated because inputs changed.\n"
     ]
    },
    {
     "name": "stderr",
     "output_type": "stream",
     "text": [
      "INFO\tTask(Task-2) nodify.node.139839764494048:node.py:get()- Evaluated because inputs changed.\n"
     ]
    },
    {
     "name": "stderr",
     "output_type": "stream",
     "text": [
      "INFO\tTask(Task-2) nodify.node.139839764628064:node.py:get()- Evaluated because inputs changed.\n"
     ]
    },
    {
     "data": {
      "application/vnd.plotly.v1+json": {
       "config": {
        "plotlyServerURL": "https://plot.ly"
       },
       "data": [
        {
         "coloraxis": "coloraxis",
         "meta": {},
         "opacity": 0,
         "textfont": {
          "color": "black"
         },
         "type": "heatmap",
         "z": {
          "bdata": "4JCpuuPRpL+Y7HLsBUy2Py4xCYhNKdK/zOQ+RZxxyL+49usRigW6PwAAAAAAAPh/AAAAAAAA+H8AAAAAAAD4fwAAAAAAAPh/2VCyPxDyqr8AAAAAAAD4fwAAAAAAAPh/AAAAAAAA+H8AAAAAAAD4fwAAAAAAAPh/mOxy7AVMtj8Q82TzA/zOv+BoIXZYoJQ/gNYsWTMqpD+QTED17n2jvwAAAAAAAPh/AAAAAAAA+H8AAAAAAAD4fwAAAAAAAPh/bIHAm3jrnT8AAAAAAAD4fwAAAAAAAPh/AAAAAAAA+H8AAAAAAAD4fwAAAAAAAPh/LjEJiE0p0r/gaCF2WKCUP1g8rJicRto/MHeeZEVSsb9mFzTSrXHfvwAAAAAAAPh/AAAAAAAA+H8AAAAAAAD4fwAAAAAAAPh/onJ1yC99xr8AAAAAAAD4fwAAAAAAAPh/AAAAAAAA+H8AAAAAAAD4fwAAAAAAAPh/zOQ+RZxxyL+A1ixZMyqkPzB3nmRFUrG/CD9o6sOg67+K8JgSdFPgvwAAAAAAAPh/AAAAAAAA+H8AAAAAAAD4fwAAAAAAAPh/+jQzZ88Nkr8AAAAAAAD4fwAAAAAAAPh/AAAAAAAA+H8AAAAAAAD4fwAAAAAAAPh/uPbrEYoFuj+QTED17n2jv2YXNNKtcd+/ivCYEnRT4L/4Sk6fQ/rHvwAAAAAAAPh/AAAAAAAA+H8AAAAAAAD4fwAAAAAAAPh/AAAAAAAA+H/ZULI/EPKqv2yBwJt4650/onJ1yC99xr/6NDNnzw2SvwAAAAAAAPh/",
          "dtype": "f8",
          "shape": "5, 15"
         },
         "zsmooth": false
        },
        {
         "hovertext": [
          "[0.         0.02354935]",
          "[0.         0.02354935]",
          "[0.         0.02354935]",
          "[0.         0.02354935]",
          "[0.         0.02354935]",
          "[0.         0.02354935]",
          "[0.         0.02354935]",
          "[ 0.         -0.05044016]",
          "[ 0.         -0.05044016]",
          "[ 0.         -0.05044016]",
          "[ 0.         -0.05044016]",
          "[ 0.         -0.05044016]",
          "[ 0.         -0.05044016]",
          "[ 0.         -0.05044016]",
          "[0.         0.16433823]",
          "[0.         0.16433823]",
          "[0.         0.16433823]",
          "[0.         0.16433823]",
          "[0.         0.16433823]",
          "[0.         0.16433823]",
          "[0.         0.16433823]",
          "[0.         0.11059342]",
          "[0.         0.11059342]",
          "[0.         0.11059342]",
          "[0.         0.11059342]",
          "[0.         0.11059342]",
          "[0.         0.11059342]",
          "[0.         0.11059342]",
          "[ 0.         -0.05886611]",
          "[ 0.         -0.05886611]",
          "[ 0.         -0.05886611]",
          "[ 0.         -0.05886611]",
          "[ 0.         -0.05886611]",
          "[ 0.         -0.05886611]",
          "[ 0.         -0.05886611]",
          "[ 0. nan]",
          "[ 0. nan]",
          "[ 0. nan]",
          "[ 0. nan]",
          "[ 0. nan]",
          "[ 0. nan]",
          "[ 0. nan]",
          "[ 0. nan]",
          "[ 0. nan]",
          "[ 0. nan]",
          "[ 0. nan]",
          "[ 0. nan]",
          "[ 0. nan]",
          "[ 0. nan]",
          "[ 0. nan]",
          "[ 0. nan]",
          "[ 0. nan]",
          "[ 0. nan]",
          "[ 0. nan]",
          "[ 0. nan]",
          "[ 0. nan]",
          "[ 0. nan]",
          "[ 0. nan]",
          "[ 0. nan]",
          "[ 0. nan]",
          "[ 0. nan]",
          "[ 0. nan]",
          "[ 0. nan]",
          "[0.         0.03047811]",
          "[0.         0.03047811]",
          "[0.         0.03047811]",
          "[0.         0.03047811]",
          "[0.         0.03047811]",
          "[0.         0.03047811]",
          "[0.         0.03047811]",
          "[ 0. nan]",
          "[ 0. nan]",
          "[ 0. nan]",
          "[ 0. nan]",
          "[ 0. nan]",
          "[ 0. nan]",
          "[ 0. nan]",
          "[ 0. nan]",
          "[ 0. nan]",
          "[ 0. nan]",
          "[ 0. nan]",
          "[ 0. nan]",
          "[ 0. nan]",
          "[ 0. nan]",
          "[ 0. nan]",
          "[ 0. nan]",
          "[ 0. nan]",
          "[ 0. nan]",
          "[ 0. nan]",
          "[ 0. nan]",
          "[ 0. nan]",
          "[ 0. nan]",
          "[ 0. nan]",
          "[ 0. nan]",
          "[ 0. nan]",
          "[ 0. nan]",
          "[ 0. nan]",
          "[ 0. nan]",
          "[ 0. nan]",
          "[ 0. nan]",
          "[ 0. nan]",
          "[ 0. nan]",
          "[ 0. nan]",
          "[ 0. nan]",
          "[ 0. nan]",
          "[ 0.         -0.05044016]",
          "[ 0.         -0.05044016]",
          "[ 0.         -0.05044016]",
          "[ 0.         -0.05044016]",
          "[ 0.         -0.05044016]",
          "[ 0.         -0.05044016]",
          "[ 0.         -0.05044016]",
          "[0.         0.14018589]",
          "[0.         0.14018589]",
          "[0.         0.14018589]",
          "[0.         0.14018589]",
          "[0.         0.14018589]",
          "[0.         0.14018589]",
          "[0.         0.14018589]",
          "[ 0.         -0.01166523]",
          "[ 0.         -0.01166523]",
          "[ 0.         -0.01166523]",
          "[ 0.         -0.01166523]",
          "[ 0.         -0.01166523]",
          "[ 0.         -0.01166523]",
          "[ 0.         -0.01166523]",
          "[ 0.         -0.02280844]",
          "[ 0.         -0.02280844]",
          "[ 0.         -0.02280844]",
          "[ 0.         -0.02280844]",
          "[ 0.         -0.02280844]",
          "[ 0.         -0.02280844]",
          "[ 0.         -0.02280844]",
          "[0.         0.02204731]",
          "[0.         0.02204731]",
          "[0.         0.02204731]",
          "[0.         0.02204731]",
          "[0.         0.02204731]",
          "[0.         0.02204731]",
          "[0.         0.02204731]",
          "[ 0. nan]",
          "[ 0. nan]",
          "[ 0. nan]",
          "[ 0. nan]",
          "[ 0. nan]",
          "[ 0. nan]",
          "[ 0. nan]",
          "[ 0. nan]",
          "[ 0. nan]",
          "[ 0. nan]",
          "[ 0. nan]",
          "[ 0. nan]",
          "[ 0. nan]",
          "[ 0. nan]",
          "[ 0. nan]",
          "[ 0. nan]",
          "[ 0. nan]",
          "[ 0. nan]",
          "[ 0. nan]",
          "[ 0. nan]",
          "[ 0. nan]",
          "[ 0. nan]",
          "[ 0. nan]",
          "[ 0. nan]",
          "[ 0. nan]",
          "[ 0. nan]",
          "[ 0. nan]",
          "[ 0. nan]",
          "[ 0.         -0.01692114]",
          "[ 0.         -0.01692114]",
          "[ 0.         -0.01692114]",
          "[ 0.         -0.01692114]",
          "[ 0.         -0.01692114]",
          "[ 0.         -0.01692114]",
          "[ 0.         -0.01692114]",
          "[ 0. nan]",
          "[ 0. nan]",
          "[ 0. nan]",
          "[ 0. nan]",
          "[ 0. nan]",
          "[ 0. nan]",
          "[ 0. nan]",
          "[ 0. nan]",
          "[ 0. nan]",
          "[ 0. nan]",
          "[ 0. nan]",
          "[ 0. nan]",
          "[ 0. nan]",
          "[ 0. nan]",
          "[ 0. nan]",
          "[ 0. nan]",
          "[ 0. nan]",
          "[ 0. nan]",
          "[ 0. nan]",
          "[ 0. nan]",
          "[ 0. nan]",
          "[ 0. nan]",
          "[ 0. nan]",
          "[ 0. nan]",
          "[ 0. nan]",
          "[ 0. nan]",
          "[ 0. nan]",
          "[ 0. nan]",
          "[ 0. nan]",
          "[ 0. nan]",
          "[ 0. nan]",
          "[ 0. nan]",
          "[ 0. nan]",
          "[ 0. nan]",
          "[ 0. nan]",
          "[0.         0.16433823]",
          "[0.         0.16433823]",
          "[0.         0.16433823]",
          "[0.         0.16433823]",
          "[0.         0.16433823]",
          "[0.         0.16433823]",
          "[0.         0.16433823]",
          "[ 0.         -0.01166523]",
          "[ 0.         -0.01166523]",
          "[ 0.         -0.01166523]",
          "[ 0.         -0.01166523]",
          "[ 0.         -0.01166523]",
          "[ 0.         -0.01166523]",
          "[ 0.         -0.01166523]",
          "[ 0.         -0.23776456]",
          "[ 0.         -0.23776456]",
          "[ 0.         -0.23776456]",
          "[ 0.         -0.23776456]",
          "[ 0.         -0.23776456]",
          "[ 0.         -0.23776456]",
          "[ 0.         -0.23776456]",
          "[0.         0.03918438]",
          "[0.         0.03918438]",
          "[0.         0.03918438]",
          "[0.         0.03918438]",
          "[0.         0.03918438]",
          "[0.         0.03918438]",
          "[0.         0.03918438]",
          "[0.         0.28453083]",
          "[0.         0.28453083]",
          "[0.         0.28453083]",
          "[0.         0.28453083]",
          "[0.         0.28453083]",
          "[0.         0.28453083]",
          "[0.         0.28453083]",
          "[ 0. nan]",
          "[ 0. nan]",
          "[ 0. nan]",
          "[ 0. nan]",
          "[ 0. nan]",
          "[ 0. nan]",
          "[ 0. nan]",
          "[ 0. nan]",
          "[ 0. nan]",
          "[ 0. nan]",
          "[ 0. nan]",
          "[ 0. nan]",
          "[ 0. nan]",
          "[ 0. nan]",
          "[ 0. nan]",
          "[ 0. nan]",
          "[ 0. nan]",
          "[ 0. nan]",
          "[ 0. nan]",
          "[ 0. nan]",
          "[ 0. nan]",
          "[ 0. nan]",
          "[ 0. nan]",
          "[ 0. nan]",
          "[ 0. nan]",
          "[ 0. nan]",
          "[ 0. nan]",
          "[ 0. nan]",
          "[0.         0.10174922]",
          "[0.         0.10174922]",
          "[0.         0.10174922]",
          "[0.         0.10174922]",
          "[0.         0.10174922]",
          "[0.         0.10174922]",
          "[0.         0.10174922]",
          "[ 0. nan]",
          "[ 0. nan]",
          "[ 0. nan]",
          "[ 0. nan]",
          "[ 0. nan]",
          "[ 0. nan]",
          "[ 0. nan]",
          "[ 0. nan]",
          "[ 0. nan]",
          "[ 0. nan]",
          "[ 0. nan]",
          "[ 0. nan]",
          "[ 0. nan]",
          "[ 0. nan]",
          "[ 0. nan]",
          "[ 0. nan]",
          "[ 0. nan]",
          "[ 0. nan]",
          "[ 0. nan]",
          "[ 0. nan]",
          "[ 0. nan]",
          "[ 0. nan]",
          "[ 0. nan]",
          "[ 0. nan]",
          "[ 0. nan]",
          "[ 0. nan]",
          "[ 0. nan]",
          "[ 0. nan]",
          "[ 0. nan]",
          "[ 0. nan]",
          "[ 0. nan]",
          "[ 0. nan]",
          "[ 0. nan]",
          "[ 0. nan]",
          "[ 0. nan]",
          "[0.         0.11059342]",
          "[0.         0.11059342]",
          "[0.         0.11059342]",
          "[0.         0.11059342]",
          "[0.         0.11059342]",
          "[0.         0.11059342]",
          "[0.         0.11059342]",
          "[ 0.         -0.02280844]",
          "[ 0.         -0.02280844]",
          "[ 0.         -0.02280844]",
          "[ 0.         -0.02280844]",
          "[ 0.         -0.02280844]",
          "[ 0.         -0.02280844]",
          "[ 0.         -0.02280844]",
          "[0.         0.03918438]",
          "[0.         0.03918438]",
          "[0.         0.03918438]",
          "[0.         0.03918438]",
          "[0.         0.03918438]",
          "[0.         0.03918438]",
          "[0.         0.03918438]",
          "[0.  0.5]",
          "[0.  0.5]",
          "[0.  0.5]",
          "[0.  0.5]",
          "[0.  0.5]",
          "[0.  0.5]",
          "[0.  0.5]",
          "[0.         0.29546106]",
          "[0.         0.29546106]",
          "[0.         0.29546106]",
          "[0.         0.29546106]",
          "[0.         0.29546106]",
          "[0.         0.29546106]",
          "[0.         0.29546106]",
          "[ 0. nan]",
          "[ 0. nan]",
          "[ 0. nan]",
          "[ 0. nan]",
          "[ 0. nan]",
          "[ 0. nan]",
          "[ 0. nan]",
          "[ 0. nan]",
          "[ 0. nan]",
          "[ 0. nan]",
          "[ 0. nan]",
          "[ 0. nan]",
          "[ 0. nan]",
          "[ 0. nan]",
          "[ 0. nan]",
          "[ 0. nan]",
          "[ 0. nan]",
          "[ 0. nan]",
          "[ 0. nan]",
          "[ 0. nan]",
          "[ 0. nan]",
          "[ 0. nan]",
          "[ 0. nan]",
          "[ 0. nan]",
          "[ 0. nan]",
          "[ 0. nan]",
          "[ 0. nan]",
          "[ 0. nan]",
          "[0.        0.0102104]",
          "[0.        0.0102104]",
          "[0.        0.0102104]",
          "[0.        0.0102104]",
          "[0.        0.0102104]",
          "[0.        0.0102104]",
          "[0.        0.0102104]",
          "[ 0. nan]",
          "[ 0. nan]",
          "[ 0. nan]",
          "[ 0. nan]",
          "[ 0. nan]",
          "[ 0. nan]",
          "[ 0. nan]",
          "[ 0. nan]",
          "[ 0. nan]",
          "[ 0. nan]",
          "[ 0. nan]",
          "[ 0. nan]",
          "[ 0. nan]",
          "[ 0. nan]",
          "[ 0. nan]",
          "[ 0. nan]",
          "[ 0. nan]",
          "[ 0. nan]",
          "[ 0. nan]",
          "[ 0. nan]",
          "[ 0. nan]",
          "[ 0. nan]",
          "[ 0. nan]",
          "[ 0. nan]",
          "[ 0. nan]",
          "[ 0. nan]",
          "[ 0. nan]",
          "[ 0. nan]",
          "[ 0. nan]",
          "[ 0. nan]",
          "[ 0. nan]",
          "[ 0. nan]",
          "[ 0. nan]",
          "[ 0. nan]",
          "[ 0. nan]",
          "[ 0.         -0.05886611]",
          "[ 0.         -0.05886611]",
          "[ 0.         -0.05886611]",
          "[ 0.         -0.05886611]",
          "[ 0.         -0.05886611]",
          "[ 0.         -0.05886611]",
          "[ 0.         -0.05886611]",
          "[0.         0.02204731]",
          "[0.         0.02204731]",
          "[0.         0.02204731]",
          "[0.         0.02204731]",
          "[0.         0.02204731]",
          "[0.         0.02204731]",
          "[0.         0.02204731]",
          "[0.         0.28453083]",
          "[0.         0.28453083]",
          "[0.         0.28453083]",
          "[0.         0.28453083]",
          "[0.         0.28453083]",
          "[0.         0.28453083]",
          "[0.         0.28453083]",
          "[0.         0.29546106]",
          "[0.         0.29546106]",
          "[0.         0.29546106]",
          "[0.         0.29546106]",
          "[0.         0.29546106]",
          "[0.         0.29546106]",
          "[0.         0.29546106]",
          "[0.         0.10848416]",
          "[0.         0.10848416]",
          "[0.         0.10848416]",
          "[0.         0.10848416]",
          "[0.         0.10848416]",
          "[0.         0.10848416]",
          "[0.         0.10848416]",
          "[ 0. nan]",
          "[ 0. nan]",
          "[ 0. nan]",
          "[ 0. nan]",
          "[ 0. nan]",
          "[ 0. nan]",
          "[ 0. nan]",
          "[ 0. nan]",
          "[ 0. nan]",
          "[ 0. nan]",
          "[ 0. nan]",
          "[ 0. nan]",
          "[ 0. nan]",
          "[ 0. nan]",
          "[ 0. nan]",
          "[ 0. nan]",
          "[ 0. nan]",
          "[ 0. nan]",
          "[ 0. nan]",
          "[ 0. nan]",
          "[ 0. nan]",
          "[ 0. nan]",
          "[ 0. nan]",
          "[ 0. nan]",
          "[ 0. nan]",
          "[ 0. nan]",
          "[ 0. nan]",
          "[ 0. nan]",
          "[ 0. nan]",
          "[ 0. nan]",
          "[ 0. nan]",
          "[ 0. nan]",
          "[ 0. nan]",
          "[ 0. nan]",
          "[ 0. nan]",
          "[0.         0.03047811]",
          "[0.         0.03047811]",
          "[0.         0.03047811]",
          "[0.         0.03047811]",
          "[0.         0.03047811]",
          "[0.         0.03047811]",
          "[0.         0.03047811]",
          "[ 0.         -0.01692114]",
          "[ 0.         -0.01692114]",
          "[ 0.         -0.01692114]",
          "[ 0.         -0.01692114]",
          "[ 0.         -0.01692114]",
          "[ 0.         -0.01692114]",
          "[ 0.         -0.01692114]",
          "[0.         0.10174922]",
          "[0.         0.10174922]",
          "[0.         0.10174922]",
          "[0.         0.10174922]",
          "[0.         0.10174922]",
          "[0.         0.10174922]",
          "[0.         0.10174922]",
          "[0.        0.0102104]",
          "[0.        0.0102104]",
          "[0.        0.0102104]",
          "[0.        0.0102104]",
          "[0.        0.0102104]",
          "[0.        0.0102104]",
          "[0.        0.0102104]",
          "[ 0. nan]",
          "[ 0. nan]",
          "[ 0. nan]",
          "[ 0. nan]",
          "[ 0. nan]",
          "[ 0. nan]",
          "[ 0. nan]"
         ],
         "line": {
          "color": "blue"
         },
         "meta": {},
         "mode": "lines",
         "name": "Hamiltonian value",
         "type": "scatter",
         "x": {
          "bdata": "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",
          "dtype": "f8"
         },
         "y": {
          "bdata": "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",
          "dtype": "f8"
         }
        },
        {
         "hovertext": [
          "[-0.02344716  0.00218136]",
          "[-0.02344716  0.00218136]",
          "[-0.02344716  0.00218136]",
          "[-0.02344716  0.00218136]",
          "[-0.02344716  0.00218136]",
          "[-0.02344716  0.00218136]",
          "[-0.02344716  0.00218136]",
          "[ 0.05022127 -0.0483142 ]",
          "[ 0.05022127 -0.0483142 ]",
          "[ 0.05022127 -0.0483142 ]",
          "[ 0.05022127 -0.0483142 ]",
          "[ 0.05022127 -0.0483142 ]",
          "[ 0.05022127 -0.0483142 ]",
          "[ 0.05022127 -0.0483142 ]",
          "[-0.16362505  0.07383443]",
          "[-0.16362505  0.07383443]",
          "[-0.16362505  0.07383443]",
          "[-0.16362505  0.07383443]",
          "[-0.16362505  0.07383443]",
          "[-0.16362505  0.07383443]",
          "[-0.16362505  0.07383443]",
          "[-0.11011348  0.09926707]",
          "[-0.11011348  0.09926707]",
          "[-0.11011348  0.09926707]",
          "[-0.11011348  0.09926707]",
          "[-0.11011348  0.09926707]",
          "[-0.11011348  0.09926707]",
          "[-0.11011348  0.09926707]",
          "[ 0.05861065 -0.0307955 ]",
          "[ 0.05861065 -0.0307955 ]",
          "[ 0.05861065 -0.0307955 ]",
          "[ 0.05861065 -0.0307955 ]",
          "[ 0.05861065 -0.0307955 ]",
          "[ 0.05861065 -0.0307955 ]",
          "[ 0.05861065 -0.0307955 ]",
          "[ 0. -0.]",
          "[ 0. -0.]",
          "[ 0. -0.]",
          "[ 0. -0.]",
          "[ 0. -0.]",
          "[ 0. -0.]",
          "[ 0. -0.]",
          "[ 0. -0.]",
          "[ 0. -0.]",
          "[ 0. -0.]",
          "[ 0. -0.]",
          "[ 0. -0.]",
          "[ 0. -0.]",
          "[ 0. -0.]",
          "[ 0. -0.]",
          "[ 0. -0.]",
          "[ 0. -0.]",
          "[ 0. -0.]",
          "[ 0. -0.]",
          "[ 0. -0.]",
          "[ 0. -0.]",
          "[ 0. -0.]",
          "[ 0. -0.]",
          "[ 0. -0.]",
          "[ 0. -0.]",
          "[ 0. -0.]",
          "[ 0. -0.]",
          "[ 0. -0.]",
          "[-0.03034584  0.02025474]",
          "[-0.03034584  0.02025474]",
          "[-0.03034584  0.02025474]",
          "[-0.03034584  0.02025474]",
          "[-0.03034584  0.02025474]",
          "[-0.03034584  0.02025474]",
          "[-0.03034584  0.02025474]",
          "[ 0. -0.]",
          "[ 0. -0.]",
          "[ 0. -0.]",
          "[ 0. -0.]",
          "[ 0. -0.]",
          "[ 0. -0.]",
          "[ 0. -0.]",
          "[ 0. -0.]",
          "[ 0. -0.]",
          "[ 0. -0.]",
          "[ 0. -0.]",
          "[ 0. -0.]",
          "[ 0. -0.]",
          "[ 0. -0.]",
          "[ 0. -0.]",
          "[ 0. -0.]",
          "[ 0. -0.]",
          "[ 0. -0.]",
          "[ 0. -0.]",
          "[ 0. -0.]",
          "[ 0. -0.]",
          "[ 0. -0.]",
          "[ 0. -0.]",
          "[ 0. -0.]",
          "[ 0. -0.]",
          "[ 0. -0.]",
          "[ 0. -0.]",
          "[ 0. -0.]",
          "[ 0. -0.]",
          "[ 0. -0.]",
          "[ 0. -0.]",
          "[ 0. -0.]",
          "[ 0. -0.]",
          "[ 0. -0.]",
          "[ 0. -0.]",
          "[ 0.05022127 -0.0208807 ]",
          "[ 0.05022127 -0.0208807 ]",
          "[ 0.05022127 -0.0208807 ]",
          "[ 0.05022127 -0.0208807 ]",
          "[ 0.05022127 -0.0208807 ]",
          "[ 0.05022127 -0.0208807 ]",
          "[ 0.05022127 -0.0208807 ]",
          "[-0.13957753  0.05246859]",
          "[-0.13957753  0.05246859]",
          "[-0.13957753  0.05246859]",
          "[-0.13957753  0.05246859]",
          "[-0.13957753  0.05246859]",
          "[-0.13957753  0.05246859]",
          "[-0.13957753  0.05246859]",
          "[ 0.0116146  -0.01022538]",
          "[ 0.0116146  -0.01022538]",
          "[ 0.0116146  -0.01022538]",
          "[ 0.0116146  -0.01022538]",
          "[ 0.0116146  -0.01022538]",
          "[ 0.0116146  -0.01022538]",
          "[ 0.0116146  -0.01022538]",
          "[ 0.02270946 -0.00576231]",
          "[ 0.02270946 -0.00576231]",
          "[ 0.02270946 -0.00576231]",
          "[ 0.02270946 -0.00576231]",
          "[ 0.02270946 -0.00576231]",
          "[ 0.02270946 -0.00576231]",
          "[ 0.02270946 -0.00576231]",
          "[-0.02195163  0.00374521]",
          "[-0.02195163  0.00374521]",
          "[-0.02195163  0.00374521]",
          "[-0.02195163  0.00374521]",
          "[-0.02195163  0.00374521]",
          "[-0.02195163  0.00374521]",
          "[-0.02195163  0.00374521]",
          "[ 0. -0.]",
          "[ 0. -0.]",
          "[ 0. -0.]",
          "[ 0. -0.]",
          "[ 0. -0.]",
          "[ 0. -0.]",
          "[ 0. -0.]",
          "[ 0. -0.]",
          "[ 0. -0.]",
          "[ 0. -0.]",
          "[ 0. -0.]",
          "[ 0. -0.]",
          "[ 0. -0.]",
          "[ 0. -0.]",
          "[ 0. -0.]",
          "[ 0. -0.]",
          "[ 0. -0.]",
          "[ 0. -0.]",
          "[ 0. -0.]",
          "[ 0. -0.]",
          "[ 0. -0.]",
          "[ 0. -0.]",
          "[ 0. -0.]",
          "[ 0. -0.]",
          "[ 0. -0.]",
          "[ 0. -0.]",
          "[ 0. -0.]",
          "[ 0. -0.]",
          "[ 0.01684771 -0.01119458]",
          "[ 0.01684771 -0.01119458]",
          "[ 0.01684771 -0.01119458]",
          "[ 0.01684771 -0.01119458]",
          "[ 0.01684771 -0.01119458]",
          "[ 0.01684771 -0.01119458]",
          "[ 0.01684771 -0.01119458]",
          "[ 0. -0.]",
          "[ 0. -0.]",
          "[ 0. -0.]",
          "[ 0. -0.]",
          "[ 0. -0.]",
          "[ 0. -0.]",
          "[ 0. -0.]",
          "[ 0. -0.]",
          "[ 0. -0.]",
          "[ 0. -0.]",
          "[ 0. -0.]",
          "[ 0. -0.]",
          "[ 0. -0.]",
          "[ 0. -0.]",
          "[ 0. -0.]",
          "[ 0. -0.]",
          "[ 0. -0.]",
          "[ 0. -0.]",
          "[ 0. -0.]",
          "[ 0. -0.]",
          "[ 0. -0.]",
          "[ 0. -0.]",
          "[ 0. -0.]",
          "[ 0. -0.]",
          "[ 0. -0.]",
          "[ 0. -0.]",
          "[ 0. -0.]",
          "[ 0. -0.]",
          "[ 0. -0.]",
          "[ 0. -0.]",
          "[ 0. -0.]",
          "[ 0. -0.]",
          "[ 0. -0.]",
          "[ 0. -0.]",
          "[ 0. -0.]",
          "[-0.16362505  0.08034362]",
          "[-0.16362505  0.08034362]",
          "[-0.16362505  0.08034362]",
          "[-0.16362505  0.08034362]",
          "[-0.16362505  0.08034362]",
          "[-0.16362505  0.08034362]",
          "[-0.16362505  0.08034362]",
          "[ 0.0116146  -0.00021927]",
          "[ 0.0116146  -0.00021927]",
          "[ 0.0116146  -0.00021927]",
          "[ 0.0116146  -0.00021927]",
          "[ 0.0116146  -0.00021927]",
          "[ 0.0116146  -0.00021927]",
          "[ 0.0116146  -0.00021927]",
          "[ 0.23673274 -0.20896281]",
          "[ 0.23673274 -0.20896281]",
          "[ 0.23673274 -0.20896281]",
          "[ 0.23673274 -0.20896281]",
          "[ 0.23673274 -0.20896281]",
          "[ 0.23673274 -0.20896281]",
          "[ 0.23673274 -0.20896281]",
          "[-0.03901434  0.0361449 ]",
          "[-0.03901434  0.0361449 ]",
          "[-0.03901434  0.0361449 ]",
          "[-0.03901434  0.0361449 ]",
          "[-0.03901434  0.0361449 ]",
          "[-0.03901434  0.0361449 ]",
          "[-0.03901434  0.0361449 ]",
          "[-0.28329605  0.12303126]",
          "[-0.28329605  0.12303126]",
          "[-0.28329605  0.12303126]",
          "[-0.28329605  0.12303126]",
          "[-0.28329605  0.12303126]",
          "[-0.28329605  0.12303126]",
          "[-0.28329605  0.12303126]",
          "[ 0. -0.]",
          "[ 0. -0.]",
          "[ 0. -0.]",
          "[ 0. -0.]",
          "[ 0. -0.]",
          "[ 0. -0.]",
          "[ 0. -0.]",
          "[ 0. -0.]",
          "[ 0. -0.]",
          "[ 0. -0.]",
          "[ 0. -0.]",
          "[ 0. -0.]",
          "[ 0. -0.]",
          "[ 0. -0.]",
          "[ 0. -0.]",
          "[ 0. -0.]",
          "[ 0. -0.]",
          "[ 0. -0.]",
          "[ 0. -0.]",
          "[ 0. -0.]",
          "[ 0. -0.]",
          "[ 0. -0.]",
          "[ 0. -0.]",
          "[ 0. -0.]",
          "[ 0. -0.]",
          "[ 0. -0.]",
          "[ 0. -0.]",
          "[ 0. -0.]",
          "[-0.10130766  0.05311609]",
          "[-0.10130766  0.05311609]",
          "[-0.10130766  0.05311609]",
          "[-0.10130766  0.05311609]",
          "[-0.10130766  0.05311609]",
          "[-0.10130766  0.05311609]",
          "[-0.10130766  0.05311609]",
          "[ 0. -0.]",
          "[ 0. -0.]",
          "[ 0. -0.]",
          "[ 0. -0.]",
          "[ 0. -0.]",
          "[ 0. -0.]",
          "[ 0. -0.]",
          "[ 0. -0.]",
          "[ 0. -0.]",
          "[ 0. -0.]",
          "[ 0. -0.]",
          "[ 0. -0.]",
          "[ 0. -0.]",
          "[ 0. -0.]",
          "[ 0. -0.]",
          "[ 0. -0.]",
          "[ 0. -0.]",
          "[ 0. -0.]",
          "[ 0. -0.]",
          "[ 0. -0.]",
          "[ 0. -0.]",
          "[ 0. -0.]",
          "[ 0. -0.]",
          "[ 0. -0.]",
          "[ 0. -0.]",
          "[ 0. -0.]",
          "[ 0. -0.]",
          "[ 0. -0.]",
          "[ 0. -0.]",
          "[ 0. -0.]",
          "[ 0. -0.]",
          "[ 0. -0.]",
          "[ 0. -0.]",
          "[ 0. -0.]",
          "[ 0. -0.]",
          "[-0.11011348  0.01624969]",
          "[-0.11011348  0.01624969]",
          "[-0.11011348  0.01624969]",
          "[-0.11011348  0.01624969]",
          "[-0.11011348  0.01624969]",
          "[-0.11011348  0.01624969]",
          "[-0.11011348  0.01624969]",
          "[ 0.02270946 -0.01337278]",
          "[ 0.02270946 -0.01337278]",
          "[ 0.02270946 -0.01337278]",
          "[ 0.02270946 -0.01337278]",
          "[ 0.02270946 -0.01337278]",
          "[ 0.02270946 -0.01337278]",
          "[ 0.02270946 -0.01337278]",
          "[-0.03901434  0.02810625]",
          "[-0.03901434  0.02810625]",
          "[-0.03901434  0.02810625]",
          "[-0.03901434  0.02810625]",
          "[-0.03901434  0.02810625]",
          "[-0.03901434  0.02810625]",
          "[-0.03901434  0.02810625]",
          "[-0.49783016  0.04653096]",
          "[-0.49783016  0.04653096]",
          "[-0.49783016  0.04653096]",
          "[-0.49783016  0.04653096]",
          "[-0.49783016  0.04653096]",
          "[-0.49783016  0.04653096]",
          "[-0.49783016  0.04653096]",
          "[-0.29417885  0.18103981]",
          "[-0.29417885  0.18103981]",
          "[-0.29417885  0.18103981]",
          "[-0.29417885  0.18103981]",
          "[-0.29417885  0.18103981]",
          "[-0.29417885  0.18103981]",
          "[-0.29417885  0.18103981]",
          "[ 0. -0.]",
          "[ 0. -0.]",
          "[ 0. -0.]",
          "[ 0. -0.]",
          "[ 0. -0.]",
          "[ 0. -0.]",
          "[ 0. -0.]",
          "[ 0. -0.]",
          "[ 0. -0.]",
          "[ 0. -0.]",
          "[ 0. -0.]",
          "[ 0. -0.]",
          "[ 0. -0.]",
          "[ 0. -0.]",
          "[ 0. -0.]",
          "[ 0. -0.]",
          "[ 0. -0.]",
          "[ 0. -0.]",
          "[ 0. -0.]",
          "[ 0. -0.]",
          "[ 0. -0.]",
          "[ 0. -0.]",
          "[ 0. -0.]",
          "[ 0. -0.]",
          "[ 0. -0.]",
          "[ 0. -0.]",
          "[ 0. -0.]",
          "[ 0. -0.]",
          "[-0.01016609  0.00818216]",
          "[-0.01016609  0.00818216]",
          "[-0.01016609  0.00818216]",
          "[-0.01016609  0.00818216]",
          "[-0.01016609  0.00818216]",
          "[-0.01016609  0.00818216]",
          "[-0.01016609  0.00818216]",
          "[ 0. -0.]",
          "[ 0. -0.]",
          "[ 0. -0.]",
          "[ 0. -0.]",
          "[ 0. -0.]",
          "[ 0. -0.]",
          "[ 0. -0.]",
          "[ 0. -0.]",
          "[ 0. -0.]",
          "[ 0. -0.]",
          "[ 0. -0.]",
          "[ 0. -0.]",
          "[ 0. -0.]",
          "[ 0. -0.]",
          "[ 0. -0.]",
          "[ 0. -0.]",
          "[ 0. -0.]",
          "[ 0. -0.]",
          "[ 0. -0.]",
          "[ 0. -0.]",
          "[ 0. -0.]",
          "[ 0. -0.]",
          "[ 0. -0.]",
          "[ 0. -0.]",
          "[ 0. -0.]",
          "[ 0. -0.]",
          "[ 0. -0.]",
          "[ 0. -0.]",
          "[ 0. -0.]",
          "[ 0. -0.]",
          "[ 0. -0.]",
          "[ 0. -0.]",
          "[ 0. -0.]",
          "[ 0. -0.]",
          "[ 0. -0.]",
          "[ 0.05861065 -0.01542414]",
          "[ 0.05861065 -0.01542414]",
          "[ 0.05861065 -0.01542414]",
          "[ 0.05861065 -0.01542414]",
          "[ 0.05861065 -0.01542414]",
          "[ 0.05861065 -0.01542414]",
          "[ 0.05861065 -0.01542414]",
          "[-0.02195163  0.01239957]",
          "[-0.02195163  0.01239957]",
          "[-0.02195163  0.01239957]",
          "[-0.02195163  0.01239957]",
          "[-0.02195163  0.01239957]",
          "[-0.02195163  0.01239957]",
          "[-0.02195163  0.01239957]",
          "[-0.28329605  0.09147565]",
          "[-0.28329605  0.09147565]",
          "[-0.28329605  0.09147565]",
          "[-0.28329605  0.09147565]",
          "[-0.28329605  0.09147565]",
          "[-0.28329605  0.09147565]",
          "[-0.28329605  0.09147565]",
          "[-0.29417885  0.20420514]",
          "[-0.29417885  0.20420514]",
          "[-0.29417885  0.20420514]",
          "[-0.29417885  0.20420514]",
          "[-0.29417885  0.20420514]",
          "[-0.29417885  0.20420514]",
          "[-0.29417885  0.20420514]",
          "[-0.10801338  0.01235849]",
          "[-0.10801338  0.01235849]",
          "[-0.10801338  0.01235849]",
          "[-0.10801338  0.01235849]",
          "[-0.10801338  0.01235849]",
          "[-0.10801338  0.01235849]",
          "[-0.10801338  0.01235849]",
          "[ 0. -0.]",
          "[ 0. -0.]",
          "[ 0. -0.]",
          "[ 0. -0.]",
          "[ 0. -0.]",
          "[ 0. -0.]",
          "[ 0. -0.]",
          "[ 0. -0.]",
          "[ 0. -0.]",
          "[ 0. -0.]",
          "[ 0. -0.]",
          "[ 0. -0.]",
          "[ 0. -0.]",
          "[ 0. -0.]",
          "[ 0. -0.]",
          "[ 0. -0.]",
          "[ 0. -0.]",
          "[ 0. -0.]",
          "[ 0. -0.]",
          "[ 0. -0.]",
          "[ 0. -0.]",
          "[ 0. -0.]",
          "[ 0. -0.]",
          "[ 0. -0.]",
          "[ 0. -0.]",
          "[ 0. -0.]",
          "[ 0. -0.]",
          "[ 0. -0.]",
          "[ 0. -0.]",
          "[ 0. -0.]",
          "[ 0. -0.]",
          "[ 0. -0.]",
          "[ 0. -0.]",
          "[ 0. -0.]",
          "[ 0. -0.]",
          "[-0.03034584  0.02706982]",
          "[-0.03034584  0.02706982]",
          "[-0.03034584  0.02706982]",
          "[-0.03034584  0.02706982]",
          "[-0.03034584  0.02706982]",
          "[-0.03034584  0.02706982]",
          "[-0.03034584  0.02706982]",
          "[ 0.01684771 -0.00837918]",
          "[ 0.01684771 -0.00837918]",
          "[ 0.01684771 -0.00837918]",
          "[ 0.01684771 -0.00837918]",
          "[ 0.01684771 -0.00837918]",
          "[ 0.01684771 -0.00837918]",
          "[ 0.01684771 -0.00837918]",
          "[-0.10130766  0.02293625]",
          "[-0.10130766  0.02293625]",
          "[-0.10130766  0.02293625]",
          "[-0.10130766  0.02293625]",
          "[-0.10130766  0.02293625]",
          "[-0.10130766  0.02293625]",
          "[-0.10130766  0.02293625]",
          "[-0.01016609  0.00282752]",
          "[-0.01016609  0.00282752]",
          "[-0.01016609  0.00282752]",
          "[-0.01016609  0.00282752]",
          "[-0.01016609  0.00282752]",
          "[-0.01016609  0.00282752]",
          "[-0.01016609  0.00282752]",
          "[ 0. -0.]",
          "[ 0. -0.]",
          "[ 0. -0.]",
          "[ 0. -0.]",
          "[ 0. -0.]",
          "[ 0. -0.]",
          "[ 0. -0.]"
         ],
         "line": {
          "color": "red"
         },
         "meta": {},
         "mode": "lines",
         "name": "Some data",
         "type": "scatter",
         "x": {
          "bdata": "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",
          "dtype": "f8"
         },
         "y": {
          "bdata": "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",
          "dtype": "f8"
         }
        },
        {
         "line": {
          "color": "pink",
          "dash": "dash",
          "width": 5
         },
         "meta": {},
         "mode": "lines",
         "name": "orbitals separators",
         "opacity": 0.8,
         "showlegend": false,
         "type": "scatter",
         "x": {
          "bdata": "AAAAAAAA4L8AAAAAAAASQAAAAAAAAPh/AAAAAAAA4D8AAAAAAADgPwAAAAAAAPh/",
          "dtype": "f8"
         },
         "y": {
          "bdata": "AAAAAAAA4D8AAAAAAADgPwAAAAAAAPh/AAAAAAAA4L8AAAAAAAASQAAAAAAAAPh/",
          "dtype": "f8"
         }
        },
        {
         "line": {
          "color": "gray"
         },
         "meta": {},
         "mode": "lines",
         "name": "atoms separators",
         "opacity": 1,
         "showlegend": false,
         "type": "scatter",
         "x": {
          "bdata": "AAAAAAAA4L8AAAAAAAASQAAAAAAAAPh/AAAAAAAADEAAAAAAAAAMQAAAAAAAAPh/",
          "dtype": "f8"
         },
         "y": {
          "bdata": "AAAAAAAADEAAAAAAAAAMQAAAAAAAAPh/AAAAAAAA4L8AAAAAAAASQAAAAAAAAPh/",
          "dtype": "f8"
         }
        }
       ],
       "layout": {
        "coloraxis": {
         "cmid": 0,
         "colorscale": [
          [
           0.0,
           "rgb(0, 147, 146)"
          ],
          [
           0.16666666666666666,
           "rgb(57, 177, 133)"
          ],
          [
           0.3333333333333333,
           "rgb(156, 203, 134)"
          ],
          [
           0.5,
           "rgb(233, 226, 156)"
          ],
          [
           0.6666666666666666,
           "rgb(238, 180, 121)"
          ],
          [
           0.8333333333333334,
           "rgb(232, 132, 113)"
          ],
          [
           1.0,
           "rgb(207, 89, 126)"
          ]
         ],
         "showscale": false
        },
        "scene": {
         "aspectmode": "data",
         "xaxis": {
          "range": [
           -0.5,
           14.5
          ]
         },
         "yaxis": {
          "range": [
           4.5,
           -0.5
          ]
         }
        },
        "template": {
         "layout": {
          "hovermode": "closest",
          "paper_bgcolor": "white",
          "plot_bgcolor": "white",
          "scene": {
           "xaxis": {
            "color": "black",
            "gridcolor": "#ccc",
            "gridwidth": 1,
            "linewidth": 1,
            "mirror": true,
            "showgrid": false,
            "showline": true,
            "ticklen": 5,
            "ticks": "outside",
            "ticksuffix": " ",
            "visible": true,
            "zeroline": false,
            "zerolinecolor": "#ccc",
            "zerolinewidth": 1
           },
           "yaxis": {
            "color": "black",
            "gridcolor": "#ccc",
            "gridwidth": 1,
            "linewidth": 1,
            "mirror": true,
            "showgrid": false,
            "showline": true,
            "ticklen": 5,
            "ticks": "outside",
            "ticksuffix": " ",
            "visible": true,
            "zeroline": false,
            "zerolinecolor": "#ccc",
            "zerolinewidth": 1
           },
           "zaxis": {
            "color": "black",
            "gridcolor": "#ccc",
            "gridwidth": 1,
            "linewidth": 1,
            "mirror": true,
            "showgrid": false,
            "showline": true,
            "ticklen": 5,
            "ticks": "outside",
            "ticksuffix": " ",
            "visible": true,
            "zeroline": false,
            "zerolinecolor": "#ccc",
            "zerolinewidth": 1
           }
          },
          "xaxis": {
           "color": "black",
           "gridcolor": "#ccc",
           "gridwidth": 1,
           "linewidth": 1,
           "mirror": true,
           "showgrid": false,
           "showline": true,
           "ticklen": 5,
           "ticks": "outside",
           "ticksuffix": " ",
           "visible": true,
           "zeroline": false,
           "zerolinecolor": "#ccc",
           "zerolinewidth": 1
          },
          "yaxis": {
           "color": "black",
           "gridcolor": "#ccc",
           "gridwidth": 1,
           "linewidth": 1,
           "mirror": true,
           "showgrid": false,
           "showline": true,
           "ticklen": 5,
           "ticks": "outside",
           "ticksuffix": " ",
           "visible": true,
           "zeroline": false,
           "zerolinecolor": "#ccc",
           "zerolinewidth": 1
          }
         }
        },
        "xaxis": {
         "constrain": "domain",
         "range": [
          -0.5,
          14.5
         ],
         "scaleanchor": "y",
         "scaleratio": 1
        },
        "yaxis": {
         "constrain": "domain",
         "range": [
          4.5,
          -0.5
         ]
        }
       }
      }
     },
     "metadata": {},
     "output_type": "display_data"
    }
   ],
   "source": [
    "plot.update_inputs(\n",
    "    arrows=[\n",
    "        {\"color\": \"blue\", \"center\": \"start\", \"name\": \"Hamiltonian value\"},\n",
    "        {\"data\": arrow_data, \"color\": \"red\", \"center\": \"end\", \"name\": \"Some data\"},\n",
    "    ]\n",
    ")"
   ]
  }
 ],
 "metadata": {
  "kernelspec": {
   "display_name": "Python 3 (ipykernel)",
   "language": "python",
   "name": "python3"
  },
  "language_info": {
   "codemirror_mode": {
    "name": "ipython",
    "version": 3
   },
   "file_extension": ".py",
   "mimetype": "text/x-python",
   "name": "python",
   "nbconvert_exporter": "python",
   "pygments_lexer": "ipython3",
   "version": "3.12.11"
  }
 },
 "nbformat": 4,
 "nbformat_minor": 4
}
