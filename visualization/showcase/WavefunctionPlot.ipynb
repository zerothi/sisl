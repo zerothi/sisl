{
 "cells": [
  {
   "cell_type": "markdown",
   "metadata": {
    "tags": [
     "notebook-header"
    ]
   },
   "source": [
    "[![GitHub issues by-label](https://img.shields.io/github/issues-raw/pfebrer/sisl/WavefunctionPlot?style=for-the-badge)](https://github.com/pfebrer/sisl/labels/WavefunctionPlot)"
   ]
  },
  {
   "cell_type": "markdown",
   "metadata": {},
   "source": [
    "WavefunctionPlot\n",
    "=========\n",
    "\n",
    "The `WavefunctionPlot` class will help you very easily generate and display wavefunctions from a `Hamiltonian` or any other source. If you already have your wavefunction in a grid, you can use `GridPlot`.  \n",
    "\n",
    "<div class=\"alert alert-info\">\n",
    "    \n",
    "Note\n",
    "    \n",
    "`WavefunctionPlot` is just an extension of `GridPlot`, so everything in [the GridPlot notebook](./GridPlot.ipynb) applies and this notebook **will only display the additional features**.\n",
    "\n",
    "`WavefunctionPlot` changes the defaults of the `axes` and `plot_geom` inputs so that by default the grid is shown in 3D and displaying the geometry.\n",
    "\n",
    "</div>"
   ]
  },
  {
   "cell_type": "code",
   "execution_count": 1,
   "metadata": {
    "execution": {
     "iopub.execute_input": "2025-09-23T10:48:32.321796Z",
     "iopub.status.busy": "2025-09-23T10:48:32.321630Z",
     "iopub.status.idle": "2025-09-23T10:48:33.196040Z",
     "shell.execute_reply": "2025-09-23T10:48:33.195365Z"
    }
   },
   "outputs": [],
   "source": [
    "import sisl"
   ]
  },
  {
   "cell_type": "markdown",
   "metadata": {},
   "source": [
    "## Generating wavefunctions from a hamiltonian\n",
    "\n",
    "We will create a toy graphene tight binding hamiltonian, but you could have read the `Hamiltonian` from any source. Note that your hamiltonian **needs to contain the corresponding geometry with the right orbitals**, otherwise we have no idea what's the shape of the wavefunction."
   ]
  },
  {
   "cell_type": "code",
   "execution_count": 2,
   "metadata": {
    "execution": {
     "iopub.execute_input": "2025-09-23T10:48:33.198349Z",
     "iopub.status.busy": "2025-09-23T10:48:33.198038Z",
     "iopub.status.idle": "2025-09-23T10:48:33.217928Z",
     "shell.execute_reply": "2025-09-23T10:48:33.217312Z"
    }
   },
   "outputs": [],
   "source": [
    "import numpy as np\n",
    "\n",
    "r = np.linspace(0, 3.5, 50)\n",
    "f = np.exp(-r)\n",
    "\n",
    "orb = sisl.AtomicOrbital(\"2pzZ\", (r, f))\n",
    "geom = sisl.geom.graphene(orthogonal=True, atoms=sisl.Atom(6, orb))\n",
    "geom = geom.move([0, 0, 5])\n",
    "H = sisl.Hamiltonian(geom)\n",
    "H.construct(\n",
    "    [(0.1, 1.44), (0, -2.7)],\n",
    ")"
   ]
  },
  {
   "cell_type": "markdown",
   "metadata": {},
   "source": [
    "Now that we have our hamiltonian, plotting a wavefunction is as simple as: "
   ]
  },
  {
   "cell_type": "code",
   "execution_count": 3,
   "metadata": {
    "execution": {
     "iopub.execute_input": "2025-09-23T10:48:33.219787Z",
     "iopub.status.busy": "2025-09-23T10:48:33.219488Z",
     "iopub.status.idle": "2025-09-23T10:48:34.055445Z",
     "shell.execute_reply": "2025-09-23T10:48:34.054986Z"
    }
   },
   "outputs": [
    {
     "data": {
      "application/vnd.plotly.v1+json": {
       "config": {
        "plotlyServerURL": "https://plot.ly"
       },
       "data": [
        {
         "meta": {},
         "mode": "lines",
         "opacity": 1,
         "type": "scatter",
         "x": {
          "bdata": "AAAAAAAAAACamZmZmZnJP5qZmZmZmdk/NDMzMzMz4z+amZmZmZnpPwAAAAAAAPA/NDMzMzMz8z9nZmZmZmb2P5qZmZmZmfk/zczMzMzM/D8AAAAAAAAAQJqZmZmZmQFANDMzMzMzA0DNzMzMzMwEQGdmZmZmZgZAAAAAAAAACECamZmZmZkJQDQzMzMzMwtAzczMzMzMDEBnZmZmZmYOQAAAAAAAABBAzczMzMzMEECamZmZmZkRQGdmZmZmZhJANDMzMzMzE0AAAAAAAAAUQM3MzMzMzBRAmpmZmZmZFUBnZmZmZmYWQDQzMzMzMxdAAAAAAAAAGEDNzMzMzMwYQJqZmZmZmRlAZ2ZmZmZmGkA0MzMzMzMbQAAAAAAAABxAzczMzMzMHECamZmZmZkdQGdmZmZmZh5ANDMzMzMzH0AAAAAAAAAgQGdmZmZmZiBAzczMzMzMIEAzMzMzMzMhQJqZmZmZmSFAAAAAAAAAIkBnZmZmZmYiQM3MzMzMzCJANDMzMzMzI0CamZmZmZkjQAAAAAAAACRAZ2ZmZmZmJEDNzMzMzMwkQDQzMzMzMyVAmpmZmZmZJUAAAAAAAAAmQGdmZmZmZiZAzczMzMzMJkA0MzMzMzMnQJqZmZmZmSdAAAAAAAAAKEBnZmZmZmYoQM3MzMzMzChANDMzMzMzKUCamZmZmZkpQAAAAAAAACpAZ2ZmZmZmKkDNzMzMzMwqQDQzMzMzMytAmpmZmZmZK0AAAAAAAAAsQGdmZmZmZixAzczMzMzMLEA0MzMzMzMtQJqZmZmZmS1AAAAAAAAALkBnZmZmZmYuQM3MzMzMzC5ANDMzMzMzL0CamZmZmZkvQAAAAAAAADBAMzMzMzMzMEBnZmZmZmYwQJqZmZmZmTBAzczMzMzMMEAAAAAAAAAxQDMzMzMzMzFAZ2ZmZmZmMUCamZmZmZkxQM3MzMzMzDFAAAAAAAAAMkAzMzMzMzMyQGdmZmZmZjJAmpmZmZmZMkDNzMzMzMwyQAAAAAAAADNANDMzMzMzM0BnZmZmZmYzQJqZmZmZmTNAzczMzMzMM0A=",
          "dtype": "f8"
         },
         "y": {
          "bdata": "AAAAAAAAAAAAAAAAAAAAAAAAAAAAAAAAAAAAAAAAAAAAAAAAAAAAAAAAAAAAAAAAAAAAAAAAAAAAAAAAAAAAAEteEG1WFHo/Zz8GRqzOkz+bI7sT7GyhP9Wkp6v4xqk/gr+09D5GsT+LwnTRlcW1P/kXKKNlmLo/Nw2RFpCHvz+gHOcqZjPCP9V8mZxqncQ/uKdFCE2+xj8pO/zWAmTIP3wbF/YUWMk/uehw3YEqyT8TPpO4r1LHP4EFvroJNsM/WB/UuEiptz8AAAAAAAAAAHAf1LhIqbe/iQW+ugk2w78XPpO4r1LHv7vocN2BKsm/fBsX9hRYyb8pO/zWAmTIv7inRQhNvsa/03yZnGqdxL+fHOcqZjPCvzcNkRaQh7+/+Bcoo2WYur+LwnTRlcW1v3+/tPQ+RrG/0aSnq/jGqb+aI7sT7Gyhv2M/BkaszpO/R14QbVYUer8AAAAAAAAAAAAAAAAAAAAAAAAAAAAAAAAAAAAAAAAAAAAAAAAAAAAAAAAAAAAAAAAAAAAAAAAAAAAAAAAAAAAAAAAAAAAAAAAAAAAAAAAAAAAAAAAAAAAAAAAAAAAAAAAAAAAAAAAAAAAAAAAAAAAAAAAAAAAAAAAAAAAAAAAAAAAAAAAAAAAAAAAAAAAAAAAAAAAAAAAAAAAAAAAAAAAAAAAAAAAAAAAAAAAAAAAAAAAAAAAAAAAAAAAAAAAAAAAAAAAAAAAAAAAAAAAAAAAAAAAAAAAAAAAAAAAAAAAAAAAAAAAAAAAAAAAAAAAAAAAAAAAAAAAAAAAAAAAAAAAAAAAAAAAAAAAAAAAAAAAAAAAAAAAAAAAAAAAAAAAAAAAAAAAAAAAAAAAAAAAAAAAAAAAAAAAAAAAAAAAAAAAAAAAAAAAAAAAAAAAAAAAAAAAAAAAAAAAAAAAAAAAAAAAAAAAAAAAAAAAAAAAAAAAAAAAAAAAAAAAAAAAAAAAAAAAAAAAAAAAAAAAAAAAAAAAAAAAAAAAAAAAAAAAAAAAAAAAAAAAAAAAAAAAAAAAAAAAAAAAAAAAAAAAAAAAAAAAAAAAAAAAAAAA=",
          "dtype": "f8"
         }
        },
        {
         "meta": {},
         "mode": "lines",
         "name": "Unit cell",
         "type": "scatter",
         "x": {
          "bdata": "AAAAAAAAAAAAAAAAAAAAAAAAAAAAAAAAAAAAAAAANEAAAAAAAAA0QAAAAAAAAAAAAAAAAAAA+H8AAAAAAAA0QAAAAAAAADRAAAAAAAAAAAAAAAAAAAAAAAAAAAAAADRAAAAAAAAANEAAAAAAAAD4fwAAAAAAAAAAAAAAAAAAAAAAAAAAAAD4fwAAAAAAADRAAAAAAAAANEA=",
          "dtype": "f8"
         },
         "y": {
          "bdata": "AAAAAAAAAAAAAAAAAAAAAAAAAAAAAAAAAAAAAAAAAAAAAAAAAAAAAAAAAAAAAAAAAAAAAAAAAAAAAAAAAAAAAAAAAAAAAAAAAAAAAAAAAAAAAAAAAAAAAAAAAAAAAAAAAAAAAAAAAAAAAAAAAAAAAAAAAAAAAAAAAAAAAAAAAAAAAAAAAAAAAAAAAAAAAAAAAAAAAAAAAAA=",
          "dtype": "f8"
         }
        }
       ],
       "layout": {
        "scene": {
         "xaxis": {
          "title": {
           "text": "Z axis [Ang]"
          }
         },
         "yaxis": {
          "title": {
           "text": "y"
          }
         }
        },
        "template": {
         "layout": {
          "hovermode": "closest",
          "paper_bgcolor": "white",
          "plot_bgcolor": "white",
          "scene": {
           "xaxis": {
            "color": "black",
            "gridcolor": "#ccc",
            "gridwidth": 1,
            "linewidth": 1,
            "mirror": true,
            "showgrid": false,
            "showline": true,
            "ticklen": 5,
            "ticks": "outside",
            "ticksuffix": " ",
            "visible": true,
            "zeroline": false,
            "zerolinecolor": "#ccc",
            "zerolinewidth": 1
           },
           "yaxis": {
            "color": "black",
            "gridcolor": "#ccc",
            "gridwidth": 1,
            "linewidth": 1,
            "mirror": true,
            "showgrid": false,
            "showline": true,
            "ticklen": 5,
            "ticks": "outside",
            "ticksuffix": " ",
            "visible": true,
            "zeroline": false,
            "zerolinecolor": "#ccc",
            "zerolinewidth": 1
           },
           "zaxis": {
            "color": "black",
            "gridcolor": "#ccc",
            "gridwidth": 1,
            "linewidth": 1,
            "mirror": true,
            "showgrid": false,
            "showline": true,
            "ticklen": 5,
            "ticks": "outside",
            "ticksuffix": " ",
            "visible": true,
            "zeroline": false,
            "zerolinecolor": "#ccc",
            "zerolinewidth": 1
           }
          },
          "xaxis": {
           "color": "black",
           "gridcolor": "#ccc",
           "gridwidth": 1,
           "linewidth": 1,
           "mirror": true,
           "showgrid": false,
           "showline": true,
           "ticklen": 5,
           "ticks": "outside",
           "ticksuffix": " ",
           "visible": true,
           "zeroline": false,
           "zerolinecolor": "#ccc",
           "zerolinewidth": 1
          },
          "yaxis": {
           "color": "black",
           "gridcolor": "#ccc",
           "gridwidth": 1,
           "linewidth": 1,
           "mirror": true,
           "showgrid": false,
           "showline": true,
           "ticklen": 5,
           "ticks": "outside",
           "ticksuffix": " ",
           "visible": true,
           "zeroline": false,
           "zerolinecolor": "#ccc",
           "zerolinewidth": 1
          }
         }
        },
        "xaxis": {
         "title": {
          "text": "Z axis [Ang]"
         }
        },
        "yaxis": {
         "title": {
          "text": "y"
         }
        }
       }
      }
     },
     "metadata": {},
     "output_type": "display_data"
    }
   ],
   "source": [
    "H.plot.wavefunction()"
   ]
  },
  {
   "cell_type": "markdown",
   "metadata": {},
   "source": [
    "This is a very delocalized state, so its representation in 3D is not very interesting"
   ]
  },
  {
   "cell_type": "markdown",
   "metadata": {},
   "source": [
    "## Selecting the wavefunction\n",
    "\n",
    "By default, `WavefunctionPlot` gives you the first wavefunction at the gamma point. You can control this behavior by tuning the `i` and `k` settings.\n",
    "\n",
    "For example, to get the second wavefunction at the gamma point:"
   ]
  },
  {
   "cell_type": "code",
   "execution_count": 4,
   "metadata": {
    "execution": {
     "iopub.execute_input": "2025-09-23T10:48:34.057315Z",
     "iopub.status.busy": "2025-09-23T10:48:34.057136Z",
     "iopub.status.idle": "2025-09-23T10:48:34.267839Z",
     "shell.execute_reply": "2025-09-23T10:48:34.267231Z"
    }
   },
   "outputs": [
    {
     "name": "stderr",
     "output_type": "stream",
     "text": [
      "INFO\tTask(Task-2) nodify.node.140008202355296:node.py:get()- Evaluated because inputs changed.\n"
     ]
    },
    {
     "name": "stderr",
     "output_type": "stream",
     "text": [
      "INFO\tTask(Task-2) nodify.node.140008202200576:node.py:get()- Evaluated because inputs changed.\n"
     ]
    },
    {
     "name": "stderr",
     "output_type": "stream",
     "text": [
      "INFO\tTask(Task-2) nodify.node.140008202200720:node.py:get()- Evaluated because inputs changed.\n"
     ]
    },
    {
     "name": "stderr",
     "output_type": "stream",
     "text": [
      "INFO\tTask(Task-2) nodify.node.140008202356592:node.py:get()- Evaluated because inputs changed.\n"
     ]
    },
    {
     "name": "stderr",
     "output_type": "stream",
     "text": [
      "INFO\tTask(Task-2) nodify.node.140008202199232:node.py:get()- Evaluated because inputs changed.\n"
     ]
    },
    {
     "name": "stderr",
     "output_type": "stream",
     "text": [
      "INFO\tTask(Task-2) nodify.node.140008202199952:node.py:get()- Evaluated because inputs changed.\n"
     ]
    },
    {
     "name": "stderr",
     "output_type": "stream",
     "text": [
      "INFO\tTask(Task-2) nodify.node.140008202200576:node.py:get()- No need to evaluate\n"
     ]
    },
    {
     "name": "stderr",
     "output_type": "stream",
     "text": [
      "INFO\tTask(Task-2) nodify.node.140008202200768:node.py:get()- Evaluated because inputs changed.\n"
     ]
    },
    {
     "name": "stderr",
     "output_type": "stream",
     "text": [
      "INFO\tTask(Task-2) nodify.node.140008238801424:node.py:get()- Evaluated because inputs changed.\n"
     ]
    },
    {
     "name": "stderr",
     "output_type": "stream",
     "text": [
      "INFO\tTask(Task-2) nodify.node.140008202202544:node.py:get()- Evaluated because inputs changed.\n"
     ]
    },
    {
     "name": "stderr",
     "output_type": "stream",
     "text": [
      "INFO\tTask(Task-2) nodify.node.140008202200576:node.py:get()- No need to evaluate\n"
     ]
    },
    {
     "name": "stderr",
     "output_type": "stream",
     "text": [
      "INFO\tTask(Task-2) nodify.node.140008202200720:node.py:get()- No need to evaluate\n"
     ]
    },
    {
     "name": "stderr",
     "output_type": "stream",
     "text": [
      "INFO\tTask(Task-2) nodify.node.140008202356592:node.py:get()- No need to evaluate\n"
     ]
    },
    {
     "name": "stderr",
     "output_type": "stream",
     "text": [
      "INFO\tTask(Task-2) nodify.node.140008238416432:node.py:get()- Evaluated because inputs changed.\n"
     ]
    },
    {
     "name": "stderr",
     "output_type": "stream",
     "text": [
      "INFO\tTask(Task-2) nodify.node.140008202357024:node.py:get()- Evaluated because inputs changed.\n"
     ]
    },
    {
     "name": "stderr",
     "output_type": "stream",
     "text": [
      "INFO\tTask(Task-2) nodify.node.140008202197984:node.py:get()- Evaluated because inputs changed.\n"
     ]
    },
    {
     "name": "stderr",
     "output_type": "stream",
     "text": [
      "INFO\tTask(Task-2) nodify.node.140008238802336:node.py:get()- Evaluated because inputs changed.\n"
     ]
    },
    {
     "name": "stderr",
     "output_type": "stream",
     "text": [
      "INFO\tTask(Task-2) nodify.node.140008202202544:node.py:get()- No need to evaluate\n"
     ]
    },
    {
     "name": "stderr",
     "output_type": "stream",
     "text": [
      "INFO\tTask(Task-2) nodify.node.140008202200576:node.py:get()- No need to evaluate\n"
     ]
    },
    {
     "name": "stderr",
     "output_type": "stream",
     "text": [
      "INFO\tTask(Task-2) nodify.node.140008202200720:node.py:get()- No need to evaluate\n"
     ]
    },
    {
     "name": "stderr",
     "output_type": "stream",
     "text": [
      "INFO\tTask(Task-2) nodify.node.140008202356592:node.py:get()- No need to evaluate\n"
     ]
    },
    {
     "name": "stderr",
     "output_type": "stream",
     "text": [
      "INFO\tTask(Task-2) nodify.node.140008238803296:node.py:get()- Evaluated because inputs changed.\n"
     ]
    },
    {
     "name": "stderr",
     "output_type": "stream",
     "text": [
      "INFO\tTask(Task-2) nodify.node.140008202358224:node.py:get()- Evaluated because inputs changed.\n"
     ]
    },
    {
     "name": "stderr",
     "output_type": "stream",
     "text": [
      "INFO\tTask(Task-2) nodify.node.140008202199328:node.py:get()- Evaluated because inputs changed.\n"
     ]
    },
    {
     "name": "stderr",
     "output_type": "stream",
     "text": [
      "INFO\tTask(Task-2) nodify.node.140008202201440:node.py:get()- Evaluated because inputs changed.\n"
     ]
    },
    {
     "name": "stderr",
     "output_type": "stream",
     "text": [
      "INFO\tTask(Task-2) nodify.node.140008202201536:node.py:get()- Evaluated because inputs changed.\n"
     ]
    },
    {
     "name": "stderr",
     "output_type": "stream",
     "text": [
      "INFO\tTask(Task-2) nodify.node.140008202358896:node.py:get()- Evaluated because inputs changed.\n"
     ]
    },
    {
     "name": "stderr",
     "output_type": "stream",
     "text": [
      "INFO\tTask(Task-2) nodify.node.140008202198608:node.py:get()- Evaluated because inputs changed.\n"
     ]
    },
    {
     "name": "stderr",
     "output_type": "stream",
     "text": [
      "INFO\tTask(Task-2) nodify.node.140008202360336:node.py:get()- Evaluated because inputs changed.\n"
     ]
    },
    {
     "name": "stderr",
     "output_type": "stream",
     "text": [
      "INFO\tTask(Task-2) nodify.node.140008202205856:node.py:get()- Evaluated because inputs changed.\n"
     ]
    },
    {
     "name": "stderr",
     "output_type": "stream",
     "text": [
      "INFO\tTask(Task-2) nodify.node.140008202206240:node.py:get()- Evaluated because inputs changed.\n"
     ]
    },
    {
     "name": "stderr",
     "output_type": "stream",
     "text": [
      "INFO\tTask(Task-2) nodify.node.140008202206624:node.py:get()- Evaluated because inputs changed.\n"
     ]
    },
    {
     "name": "stderr",
     "output_type": "stream",
     "text": [
      "INFO\tTask(Task-2) nodify.node.140008202360144:node.py:get()- Evaluated because inputs changed.\n"
     ]
    },
    {
     "name": "stderr",
     "output_type": "stream",
     "text": [
      "INFO\tTask(Task-2) nodify.node.140008202201248:node.py:get()- Evaluated because inputs changed.\n"
     ]
    },
    {
     "name": "stderr",
     "output_type": "stream",
     "text": [
      "INFO\tTask(Task-2) nodify.node.140008202200576:node.py:get()- No need to evaluate\n"
     ]
    },
    {
     "name": "stderr",
     "output_type": "stream",
     "text": [
      "INFO\tTask(Task-2) nodify.node.140008202200720:node.py:get()- No need to evaluate\n"
     ]
    },
    {
     "name": "stderr",
     "output_type": "stream",
     "text": [
      "INFO\tTask(Task-2) nodify.node.140008202356592:node.py:get()- No need to evaluate\n"
     ]
    },
    {
     "name": "stderr",
     "output_type": "stream",
     "text": [
      "INFO\tTask(Task-2) nodify.node.140008202199232:node.py:get()- No need to evaluate\n"
     ]
    },
    {
     "name": "stderr",
     "output_type": "stream",
     "text": [
      "INFO\tTask(Task-2) nodify.node.140008202199952:node.py:get()- No need to evaluate\n"
     ]
    },
    {
     "name": "stderr",
     "output_type": "stream",
     "text": [
      "INFO\tTask(Task-2) nodify.node.140008202200576:node.py:get()- No need to evaluate\n"
     ]
    },
    {
     "name": "stderr",
     "output_type": "stream",
     "text": [
      "INFO\tTask(Task-2) nodify.node.140008202200768:node.py:get()- No need to evaluate\n"
     ]
    },
    {
     "name": "stderr",
     "output_type": "stream",
     "text": [
      "INFO\tTask(Task-2) nodify.node.140008238801424:node.py:get()- No need to evaluate\n"
     ]
    },
    {
     "name": "stderr",
     "output_type": "stream",
     "text": [
      "INFO\tTask(Task-2) nodify.node.140008202202544:node.py:get()- No need to evaluate\n"
     ]
    },
    {
     "name": "stderr",
     "output_type": "stream",
     "text": [
      "INFO\tTask(Task-2) nodify.node.140008202200576:node.py:get()- No need to evaluate\n"
     ]
    },
    {
     "name": "stderr",
     "output_type": "stream",
     "text": [
      "INFO\tTask(Task-2) nodify.node.140008202200720:node.py:get()- No need to evaluate\n"
     ]
    },
    {
     "name": "stderr",
     "output_type": "stream",
     "text": [
      "INFO\tTask(Task-2) nodify.node.140008202356592:node.py:get()- No need to evaluate\n"
     ]
    },
    {
     "name": "stderr",
     "output_type": "stream",
     "text": [
      "INFO\tTask(Task-2) nodify.node.140008238416432:node.py:get()- No need to evaluate\n"
     ]
    },
    {
     "name": "stderr",
     "output_type": "stream",
     "text": [
      "INFO\tTask(Task-2) nodify.node.140008202357024:node.py:get()- No need to evaluate\n"
     ]
    },
    {
     "name": "stderr",
     "output_type": "stream",
     "text": [
      "INFO\tTask(Task-2) nodify.node.140008202197984:node.py:get()- No need to evaluate\n"
     ]
    },
    {
     "name": "stderr",
     "output_type": "stream",
     "text": [
      "INFO\tTask(Task-2) nodify.node.140008238802336:node.py:get()- No need to evaluate\n"
     ]
    },
    {
     "name": "stderr",
     "output_type": "stream",
     "text": [
      "INFO\tTask(Task-2) nodify.node.140008202202544:node.py:get()- No need to evaluate\n"
     ]
    },
    {
     "name": "stderr",
     "output_type": "stream",
     "text": [
      "INFO\tTask(Task-2) nodify.node.140008202200576:node.py:get()- No need to evaluate\n"
     ]
    },
    {
     "name": "stderr",
     "output_type": "stream",
     "text": [
      "INFO\tTask(Task-2) nodify.node.140008202200720:node.py:get()- No need to evaluate\n"
     ]
    },
    {
     "name": "stderr",
     "output_type": "stream",
     "text": [
      "INFO\tTask(Task-2) nodify.node.140008202356592:node.py:get()- No need to evaluate\n"
     ]
    },
    {
     "name": "stderr",
     "output_type": "stream",
     "text": [
      "INFO\tTask(Task-2) nodify.node.140008238803296:node.py:get()- No need to evaluate\n"
     ]
    },
    {
     "name": "stderr",
     "output_type": "stream",
     "text": [
      "INFO\tTask(Task-2) nodify.node.140008202358224:node.py:get()- No need to evaluate\n"
     ]
    },
    {
     "name": "stderr",
     "output_type": "stream",
     "text": [
      "INFO\tTask(Task-2) nodify.node.140008202199328:node.py:get()- No need to evaluate\n"
     ]
    },
    {
     "name": "stderr",
     "output_type": "stream",
     "text": [
      "INFO\tTask(Task-2) nodify.node.140008202201440:node.py:get()- No need to evaluate\n"
     ]
    },
    {
     "name": "stderr",
     "output_type": "stream",
     "text": [
      "INFO\tTask(Task-2) nodify.node.140008202201536:node.py:get()- No need to evaluate\n"
     ]
    },
    {
     "name": "stderr",
     "output_type": "stream",
     "text": [
      "INFO\tTask(Task-2) nodify.node.140008202358896:node.py:get()- No need to evaluate\n"
     ]
    },
    {
     "name": "stderr",
     "output_type": "stream",
     "text": [
      "INFO\tTask(Task-2) nodify.node.140008202199328:node.py:get()- No need to evaluate\n"
     ]
    },
    {
     "name": "stderr",
     "output_type": "stream",
     "text": [
      "INFO\tTask(Task-2) nodify.node.140008202201440:node.py:get()- No need to evaluate\n"
     ]
    },
    {
     "name": "stderr",
     "output_type": "stream",
     "text": [
      "INFO\tTask(Task-2) nodify.node.140008202359184:node.py:get()- Evaluated because inputs changed.\n"
     ]
    },
    {
     "name": "stderr",
     "output_type": "stream",
     "text": [
      "INFO\tTask(Task-2) nodify.node.140008202359952:node.py:get()- Evaluated because inputs changed.\n"
     ]
    },
    {
     "name": "stderr",
     "output_type": "stream",
     "text": [
      "INFO\tTask(Task-2) nodify.node.140008202202928:node.py:get()- Evaluated because inputs changed.\n"
     ]
    },
    {
     "name": "stderr",
     "output_type": "stream",
     "text": [
      "INFO\tTask(Task-2) nodify.node.140008202360288:node.py:get()- Evaluated because inputs changed.\n"
     ]
    },
    {
     "name": "stderr",
     "output_type": "stream",
     "text": [
      "INFO\tTask(Task-2) nodify.node.140008202199328:node.py:get()- No need to evaluate\n"
     ]
    },
    {
     "name": "stderr",
     "output_type": "stream",
     "text": [
      "INFO\tTask(Task-2) nodify.node.140008202201440:node.py:get()- No need to evaluate\n"
     ]
    },
    {
     "name": "stderr",
     "output_type": "stream",
     "text": [
      "INFO\tTask(Task-2) nodify.node.140008202200576:node.py:get()- No need to evaluate\n"
     ]
    },
    {
     "name": "stderr",
     "output_type": "stream",
     "text": [
      "INFO\tTask(Task-2) nodify.node.140008202200720:node.py:get()- No need to evaluate\n"
     ]
    },
    {
     "name": "stderr",
     "output_type": "stream",
     "text": [
      "INFO\tTask(Task-2) nodify.node.140008202356592:node.py:get()- No need to evaluate\n"
     ]
    },
    {
     "name": "stderr",
     "output_type": "stream",
     "text": [
      "INFO\tTask(Task-2) nodify.node.140008202199232:node.py:get()- No need to evaluate\n"
     ]
    },
    {
     "name": "stderr",
     "output_type": "stream",
     "text": [
      "INFO\tTask(Task-2) nodify.node.140008202199952:node.py:get()- No need to evaluate\n"
     ]
    },
    {
     "name": "stderr",
     "output_type": "stream",
     "text": [
      "INFO\tTask(Task-2) nodify.node.140008202200576:node.py:get()- No need to evaluate\n"
     ]
    },
    {
     "name": "stderr",
     "output_type": "stream",
     "text": [
      "INFO\tTask(Task-2) nodify.node.140008202200768:node.py:get()- No need to evaluate\n"
     ]
    },
    {
     "name": "stderr",
     "output_type": "stream",
     "text": [
      "INFO\tTask(Task-2) nodify.node.140008238801424:node.py:get()- No need to evaluate\n"
     ]
    },
    {
     "name": "stderr",
     "output_type": "stream",
     "text": [
      "INFO\tTask(Task-2) nodify.node.140008202202544:node.py:get()- No need to evaluate\n"
     ]
    },
    {
     "name": "stderr",
     "output_type": "stream",
     "text": [
      "INFO\tTask(Task-2) nodify.node.140008202200576:node.py:get()- No need to evaluate\n"
     ]
    },
    {
     "name": "stderr",
     "output_type": "stream",
     "text": [
      "INFO\tTask(Task-2) nodify.node.140008202200720:node.py:get()- No need to evaluate\n"
     ]
    },
    {
     "name": "stderr",
     "output_type": "stream",
     "text": [
      "INFO\tTask(Task-2) nodify.node.140008202356592:node.py:get()- No need to evaluate\n"
     ]
    },
    {
     "name": "stderr",
     "output_type": "stream",
     "text": [
      "INFO\tTask(Task-2) nodify.node.140008238416432:node.py:get()- No need to evaluate\n"
     ]
    },
    {
     "name": "stderr",
     "output_type": "stream",
     "text": [
      "INFO\tTask(Task-2) nodify.node.140008202357024:node.py:get()- No need to evaluate\n"
     ]
    },
    {
     "name": "stderr",
     "output_type": "stream",
     "text": [
      "INFO\tTask(Task-2) nodify.node.140008202197984:node.py:get()- No need to evaluate\n"
     ]
    },
    {
     "name": "stderr",
     "output_type": "stream",
     "text": [
      "INFO\tTask(Task-2) nodify.node.140008238802336:node.py:get()- No need to evaluate\n"
     ]
    },
    {
     "name": "stderr",
     "output_type": "stream",
     "text": [
      "INFO\tTask(Task-2) nodify.node.140008202202544:node.py:get()- No need to evaluate\n"
     ]
    },
    {
     "name": "stderr",
     "output_type": "stream",
     "text": [
      "INFO\tTask(Task-2) nodify.node.140008202200576:node.py:get()- No need to evaluate\n"
     ]
    },
    {
     "name": "stderr",
     "output_type": "stream",
     "text": [
      "INFO\tTask(Task-2) nodify.node.140008202200720:node.py:get()- No need to evaluate\n"
     ]
    },
    {
     "name": "stderr",
     "output_type": "stream",
     "text": [
      "INFO\tTask(Task-2) nodify.node.140008202356592:node.py:get()- No need to evaluate\n"
     ]
    },
    {
     "name": "stderr",
     "output_type": "stream",
     "text": [
      "INFO\tTask(Task-2) nodify.node.140008238803296:node.py:get()- No need to evaluate\n"
     ]
    },
    {
     "name": "stderr",
     "output_type": "stream",
     "text": [
      "INFO\tTask(Task-2) nodify.node.140008202358224:node.py:get()- No need to evaluate\n"
     ]
    },
    {
     "name": "stderr",
     "output_type": "stream",
     "text": [
      "INFO\tTask(Task-2) nodify.node.140008202199328:node.py:get()- No need to evaluate\n"
     ]
    },
    {
     "name": "stderr",
     "output_type": "stream",
     "text": [
      "INFO\tTask(Task-2) nodify.node.140008202201440:node.py:get()- No need to evaluate\n"
     ]
    },
    {
     "name": "stderr",
     "output_type": "stream",
     "text": [
      "INFO\tTask(Task-2) nodify.node.140008202201536:node.py:get()- No need to evaluate\n"
     ]
    },
    {
     "name": "stderr",
     "output_type": "stream",
     "text": [
      "INFO\tTask(Task-2) nodify.node.140008202358896:node.py:get()- No need to evaluate\n"
     ]
    },
    {
     "name": "stderr",
     "output_type": "stream",
     "text": [
      "INFO\tTask(Task-2) nodify.node.140008202199328:node.py:get()- No need to evaluate\n"
     ]
    },
    {
     "name": "stderr",
     "output_type": "stream",
     "text": [
      "INFO\tTask(Task-2) nodify.node.140008202201440:node.py:get()- No need to evaluate\n"
     ]
    },
    {
     "name": "stderr",
     "output_type": "stream",
     "text": [
      "INFO\tTask(Task-2) nodify.node.140008202359184:node.py:get()- No need to evaluate\n"
     ]
    },
    {
     "name": "stderr",
     "output_type": "stream",
     "text": [
      "INFO\tTask(Task-2) nodify.node.140008202202544:node.py:get()- No need to evaluate\n"
     ]
    },
    {
     "name": "stderr",
     "output_type": "stream",
     "text": [
      "INFO\tTask(Task-2) nodify.node.140008202200576:node.py:get()- No need to evaluate\n"
     ]
    },
    {
     "name": "stderr",
     "output_type": "stream",
     "text": [
      "INFO\tTask(Task-2) nodify.node.140008202200720:node.py:get()- No need to evaluate\n"
     ]
    },
    {
     "name": "stderr",
     "output_type": "stream",
     "text": [
      "INFO\tTask(Task-2) nodify.node.140008202356592:node.py:get()- No need to evaluate\n"
     ]
    },
    {
     "name": "stderr",
     "output_type": "stream",
     "text": [
      "INFO\tTask(Task-2) nodify.node.140008238803296:node.py:get()- No need to evaluate\n"
     ]
    },
    {
     "name": "stderr",
     "output_type": "stream",
     "text": [
      "INFO\tTask(Task-2) nodify.node.140008202361200:node.py:get()- Evaluated because inputs changed.\n"
     ]
    },
    {
     "name": "stderr",
     "output_type": "stream",
     "text": [
      "INFO\tTask(Task-2) nodify.node.140008202203312:node.py:get()- Evaluated because inputs changed.\n"
     ]
    },
    {
     "name": "stderr",
     "output_type": "stream",
     "text": [
      "INFO\tTask(Task-2) nodify.node.140008202204176:node.py:get()- Evaluated because inputs changed.\n"
     ]
    },
    {
     "name": "stderr",
     "output_type": "stream",
     "text": [
      "INFO\tTask(Task-2) nodify.node.140008202204368:node.py:get()- Evaluated because inputs changed.\n"
     ]
    },
    {
     "name": "stderr",
     "output_type": "stream",
     "text": [
      "INFO\tTask(Task-2) nodify.node.140008202204704:node.py:get()- Evaluated because inputs changed.\n"
     ]
    },
    {
     "name": "stderr",
     "output_type": "stream",
     "text": [
      "INFO\tTask(Task-2) nodify.node.140008202075744:node.py:get()- Evaluated because inputs changed.\n"
     ]
    },
    {
     "name": "stderr",
     "output_type": "stream",
     "text": [
      "INFO\tTask(Task-2) nodify.node.140008202361488:node.py:get()- Evaluated because inputs changed.\n"
     ]
    },
    {
     "name": "stderr",
     "output_type": "stream",
     "text": [
      "INFO\tTask(Task-2) nodify.node.140008202200576:node.py:get()- No need to evaluate\n"
     ]
    },
    {
     "name": "stderr",
     "output_type": "stream",
     "text": [
      "INFO\tTask(Task-2) nodify.node.140008202200720:node.py:get()- No need to evaluate\n"
     ]
    },
    {
     "name": "stderr",
     "output_type": "stream",
     "text": [
      "INFO\tTask(Task-2) nodify.node.140008202356592:node.py:get()- No need to evaluate\n"
     ]
    },
    {
     "name": "stderr",
     "output_type": "stream",
     "text": [
      "INFO\tTask(Task-2) nodify.node.140008202199232:node.py:get()- No need to evaluate\n"
     ]
    },
    {
     "name": "stderr",
     "output_type": "stream",
     "text": [
      "INFO\tTask(Task-2) nodify.node.140008202199952:node.py:get()- No need to evaluate\n"
     ]
    },
    {
     "name": "stderr",
     "output_type": "stream",
     "text": [
      "INFO\tTask(Task-2) nodify.node.140008202200576:node.py:get()- No need to evaluate\n"
     ]
    },
    {
     "name": "stderr",
     "output_type": "stream",
     "text": [
      "INFO\tTask(Task-2) nodify.node.140008202200768:node.py:get()- No need to evaluate\n"
     ]
    },
    {
     "name": "stderr",
     "output_type": "stream",
     "text": [
      "INFO\tTask(Task-2) nodify.node.140008238801424:node.py:get()- No need to evaluate\n"
     ]
    },
    {
     "name": "stderr",
     "output_type": "stream",
     "text": [
      "INFO\tTask(Task-2) nodify.node.140008202202544:node.py:get()- No need to evaluate\n"
     ]
    },
    {
     "name": "stderr",
     "output_type": "stream",
     "text": [
      "INFO\tTask(Task-2) nodify.node.140008202200576:node.py:get()- No need to evaluate\n"
     ]
    },
    {
     "name": "stderr",
     "output_type": "stream",
     "text": [
      "INFO\tTask(Task-2) nodify.node.140008202200720:node.py:get()- No need to evaluate\n"
     ]
    },
    {
     "name": "stderr",
     "output_type": "stream",
     "text": [
      "INFO\tTask(Task-2) nodify.node.140008202356592:node.py:get()- No need to evaluate\n"
     ]
    },
    {
     "name": "stderr",
     "output_type": "stream",
     "text": [
      "INFO\tTask(Task-2) nodify.node.140008238416432:node.py:get()- No need to evaluate\n"
     ]
    },
    {
     "name": "stderr",
     "output_type": "stream",
     "text": [
      "INFO\tTask(Task-2) nodify.node.140008202357024:node.py:get()- No need to evaluate\n"
     ]
    },
    {
     "name": "stderr",
     "output_type": "stream",
     "text": [
      "INFO\tTask(Task-2) nodify.node.140008202205088:node.py:get()- Evaluated because inputs changed.\n"
     ]
    },
    {
     "name": "stderr",
     "output_type": "stream",
     "text": [
      "INFO\tTask(Task-2) nodify.node.140008202199328:node.py:get()- No need to evaluate\n"
     ]
    },
    {
     "name": "stderr",
     "output_type": "stream",
     "text": [
      "INFO\tTask(Task-2) nodify.node.140008202201440:node.py:get()- No need to evaluate\n"
     ]
    },
    {
     "name": "stderr",
     "output_type": "stream",
     "text": [
      "INFO\tTask(Task-2) nodify.node.140008202205472:node.py:get()- Evaluated because inputs changed.\n"
     ]
    },
    {
     "name": "stderr",
     "output_type": "stream",
     "text": [
      "INFO\tTask(Task-2) nodify.node.140008202362256:node.py:get()- Evaluated because inputs changed.\n"
     ]
    },
    {
     "name": "stderr",
     "output_type": "stream",
     "text": [
      "INFO\tTask(Task-2) nodify.node.140008202207008:node.py:get()- Evaluated because inputs changed.\n"
     ]
    },
    {
     "name": "stderr",
     "output_type": "stream",
     "text": [
      "INFO\tTask(Task-2) nodify.node.140008202200576:node.py:get()- No need to evaluate\n"
     ]
    },
    {
     "name": "stderr",
     "output_type": "stream",
     "text": [
      "INFO\tTask(Task-2) nodify.node.140008202200768:node.py:get()- No need to evaluate\n"
     ]
    },
    {
     "name": "stderr",
     "output_type": "stream",
     "text": [
      "INFO\tTask(Task-2) nodify.node.140008238801424:node.py:get()- No need to evaluate\n"
     ]
    },
    {
     "name": "stderr",
     "output_type": "stream",
     "text": [
      "INFO\tTask(Task-2) nodify.node.140008202202544:node.py:get()- No need to evaluate\n"
     ]
    },
    {
     "name": "stderr",
     "output_type": "stream",
     "text": [
      "INFO\tTask(Task-2) nodify.node.140008202200576:node.py:get()- No need to evaluate\n"
     ]
    },
    {
     "name": "stderr",
     "output_type": "stream",
     "text": [
      "INFO\tTask(Task-2) nodify.node.140008202200720:node.py:get()- No need to evaluate\n"
     ]
    },
    {
     "name": "stderr",
     "output_type": "stream",
     "text": [
      "INFO\tTask(Task-2) nodify.node.140008202356592:node.py:get()- No need to evaluate\n"
     ]
    },
    {
     "name": "stderr",
     "output_type": "stream",
     "text": [
      "INFO\tTask(Task-2) nodify.node.140008238416432:node.py:get()- No need to evaluate\n"
     ]
    },
    {
     "name": "stderr",
     "output_type": "stream",
     "text": [
      "INFO\tTask(Task-2) nodify.node.140008202199328:node.py:get()- No need to evaluate\n"
     ]
    },
    {
     "name": "stderr",
     "output_type": "stream",
     "text": [
      "INFO\tTask(Task-2) nodify.node.140008202201440:node.py:get()- No need to evaluate\n"
     ]
    },
    {
     "name": "stderr",
     "output_type": "stream",
     "text": [
      "INFO\tTask(Task-2) nodify.node.140008202202544:node.py:get()- No need to evaluate\n"
     ]
    },
    {
     "name": "stderr",
     "output_type": "stream",
     "text": [
      "INFO\tTask(Task-2) nodify.node.140008202200576:node.py:get()- No need to evaluate\n"
     ]
    },
    {
     "name": "stderr",
     "output_type": "stream",
     "text": [
      "INFO\tTask(Task-2) nodify.node.140008202200720:node.py:get()- No need to evaluate\n"
     ]
    },
    {
     "name": "stderr",
     "output_type": "stream",
     "text": [
      "INFO\tTask(Task-2) nodify.node.140008202356592:node.py:get()- No need to evaluate\n"
     ]
    },
    {
     "name": "stderr",
     "output_type": "stream",
     "text": [
      "INFO\tTask(Task-2) nodify.node.140008238803296:node.py:get()- No need to evaluate\n"
     ]
    },
    {
     "name": "stderr",
     "output_type": "stream",
     "text": [
      "INFO\tTask(Task-2) nodify.node.140008202354912:node.py:get()- Evaluated because inputs changed.\n"
     ]
    },
    {
     "name": "stderr",
     "output_type": "stream",
     "text": [
      "INFO\tTask(Task-2) nodify.node.140008202200912:node.py:get()- Evaluated because inputs changed.\n"
     ]
    },
    {
     "name": "stderr",
     "output_type": "stream",
     "text": [
      "INFO\tTask(Task-2) nodify.node.140008202064944:node.py:get()- Evaluated because inputs changed.\n"
     ]
    },
    {
     "name": "stderr",
     "output_type": "stream",
     "text": [
      "INFO\tTask(Task-2) nodify.node.140008239474560:node.py:get()- Evaluated because inputs changed.\n"
     ]
    },
    {
     "name": "stderr",
     "output_type": "stream",
     "text": [
      "INFO\tTask(Task-2) nodify.node.140008202363168:node.py:get()- Evaluated because inputs changed.\n"
     ]
    },
    {
     "data": {
      "application/vnd.plotly.v1+json": {
       "config": {
        "plotlyServerURL": "https://plot.ly"
       },
       "data": [
        {
         "meta": {},
         "mode": "lines",
         "opacity": 1,
         "type": "scatter",
         "x": {
          "bdata": "AAAAAAAAAACamZmZmZnJP5qZmZmZmdk/NDMzMzMz4z+amZmZmZnpPwAAAAAAAPA/NDMzMzMz8z9nZmZmZmb2P5qZmZmZmfk/zczMzMzM/D8AAAAAAAAAQJqZmZmZmQFANDMzMzMzA0DNzMzMzMwEQGdmZmZmZgZAAAAAAAAACECamZmZmZkJQDQzMzMzMwtAzczMzMzMDEBnZmZmZmYOQAAAAAAAABBAzczMzMzMEECamZmZmZkRQGdmZmZmZhJANDMzMzMzE0AAAAAAAAAUQM3MzMzMzBRAmpmZmZmZFUBnZmZmZmYWQDQzMzMzMxdAAAAAAAAAGEDNzMzMzMwYQJqZmZmZmRlAZ2ZmZmZmGkA0MzMzMzMbQAAAAAAAABxAzczMzMzMHECamZmZmZkdQGdmZmZmZh5ANDMzMzMzH0AAAAAAAAAgQGdmZmZmZiBAzczMzMzMIEAzMzMzMzMhQJqZmZmZmSFAAAAAAAAAIkBnZmZmZmYiQM3MzMzMzCJANDMzMzMzI0CamZmZmZkjQAAAAAAAACRAZ2ZmZmZmJEDNzMzMzMwkQDQzMzMzMyVAmpmZmZmZJUAAAAAAAAAmQGdmZmZmZiZAzczMzMzMJkA0MzMzMzMnQJqZmZmZmSdAAAAAAAAAKEBnZmZmZmYoQM3MzMzMzChANDMzMzMzKUCamZmZmZkpQAAAAAAAACpAZ2ZmZmZmKkDNzMzMzMwqQDQzMzMzMytAmpmZmZmZK0AAAAAAAAAsQGdmZmZmZixAzczMzMzMLEA0MzMzMzMtQJqZmZmZmS1AAAAAAAAALkBnZmZmZmYuQM3MzMzMzC5ANDMzMzMzL0CamZmZmZkvQAAAAAAAADBAMzMzMzMzMEBnZmZmZmYwQJqZmZmZmTBAzczMzMzMMEAAAAAAAAAxQDMzMzMzMzFAZ2ZmZmZmMUCamZmZmZkxQM3MzMzMzDFAAAAAAAAAMkAzMzMzMzMyQGdmZmZmZjJAmpmZmZmZMkDNzMzMzMwyQAAAAAAAADNANDMzMzMzM0BnZmZmZmYzQJqZmZmZmTNAzczMzMzMM0A=",
          "dtype": "f8"
         },
         "y": {
          "bdata": "AAAAAAAAAAAAAAAAAAAAAAAAAAAAAAAAAAAAAAAAAAAAAAAAAAAAAAAAAAAAAAAAAAAAAAAAAAAAAAAAAAAAAAFHgcvCJjo/ZTxnzVybMT8Aiv05w6gIP92ZSb9LCC+/q7B2objxLL/AmZy55dr/PrBb9OfF3yc/C0JeIQjgGz/1XZDD5AUjP5MdMnpnxii/kLIBXKKhJT+rpkIIzInyvqtRf4wJUB+/q4p1AkPX5D5rFVV/20chPwC2OhS2+P++AGxReIenBL8AAAAAAAAAAFVtUXiHpwQ/q646FLb4/z4AFlV/20chv1V9dQJD1+S+AFJ/jAlQHz9VqkIIzInyPgWyAVyioSW/WB0yemfGKD8tXpDD5AUjvy1CXiEI4Bu/g1v058XfJ78AmJy55dr/vqWwdqG48Sw/4JlJv0sILz9Qiv05w6gIv088Z81cmzG/80aBy8ImOr8AAAAAAAAAAAAAAAAAAAAAAAAAAAAAAAAAAAAAAAAAAAAAAAAAAAAAAAAAAAAAAAAAAAAAAAAAAAAAAAAAAAAAAAAAAAAAAAAAAAAAAAAAAAAAAAAAAAAAAAAAAAAAAAAAAAAAAAAAAAAAAAAAAAAAAAAAAAAAAAAAAAAAAAAAAAAAAAAAAAAAAAAAAAAAAAAAAAAAAAAAAAAAAAAAAAAAAAAAAAAAAAAAAAAAAAAAAAAAAAAAAAAAAAAAAAAAAAAAAAAAAAAAAAAAAAAAAAAAAAAAAAAAAAAAAAAAAAAAAAAAAAAAAAAAAAAAAAAAAAAAAAAAAAAAAAAAAAAAAAAAAAAAAAAAAAAAAAAAAAAAAAAAAAAAAAAAAAAAAAAAAAAAAAAAAAAAAAAAAAAAAAAAAAAAAAAAAAAAAAAAAAAAAAAAAAAAAAAAAAAAAAAAAAAAAAAAAAAAAAAAAAAAAAAAAAAAAAAAAAAAAAAAAAAAAAAAAAAAAAAAAAAAAAAAAAAAAAAAAAAAAAAAAAAAAAAAAAAAAAAAAAAAAAAAAAAAAAAAAAAAAAAAAAAAAAAAAAAAAAAAAAAAAAAAAAAAAAAAAAAAAAAAAAA=",
          "dtype": "f8"
         }
        },
        {
         "meta": {},
         "mode": "lines",
         "name": "Unit cell",
         "type": "scatter",
         "x": {
          "bdata": "AAAAAAAAAAAAAAAAAAAAAAAAAAAAAAAAAAAAAAAANEAAAAAAAAA0QAAAAAAAAAAAAAAAAAAA+H8AAAAAAAA0QAAAAAAAADRAAAAAAAAAAAAAAAAAAAAAAAAAAAAAADRAAAAAAAAANEAAAAAAAAD4fwAAAAAAAAAAAAAAAAAAAAAAAAAAAAD4fwAAAAAAADRAAAAAAAAANEA=",
          "dtype": "f8"
         },
         "y": {
          "bdata": "AAAAAAAAAAAAAAAAAAAAAAAAAAAAAAAAAAAAAAAAAAAAAAAAAAAAAAAAAAAAAAAAAAAAAAAAAAAAAAAAAAAAAAAAAAAAAAAAAAAAAAAAAAAAAAAAAAAAAAAAAAAAAAAAAAAAAAAAAAAAAAAAAAAAAAAAAAAAAAAAAAAAAAAAAAAAAAAAAAAAAAAAAAAAAAAAAAAAAAAAAAA=",
          "dtype": "f8"
         }
        }
       ],
       "layout": {
        "scene": {
         "xaxis": {
          "title": {
           "text": "Z axis [Ang]"
          }
         },
         "yaxis": {
          "title": {
           "text": "y"
          }
         }
        },
        "template": {
         "layout": {
          "hovermode": "closest",
          "paper_bgcolor": "white",
          "plot_bgcolor": "white",
          "scene": {
           "xaxis": {
            "color": "black",
            "gridcolor": "#ccc",
            "gridwidth": 1,
            "linewidth": 1,
            "mirror": true,
            "showgrid": false,
            "showline": true,
            "ticklen": 5,
            "ticks": "outside",
            "ticksuffix": " ",
            "visible": true,
            "zeroline": false,
            "zerolinecolor": "#ccc",
            "zerolinewidth": 1
           },
           "yaxis": {
            "color": "black",
            "gridcolor": "#ccc",
            "gridwidth": 1,
            "linewidth": 1,
            "mirror": true,
            "showgrid": false,
            "showline": true,
            "ticklen": 5,
            "ticks": "outside",
            "ticksuffix": " ",
            "visible": true,
            "zeroline": false,
            "zerolinecolor": "#ccc",
            "zerolinewidth": 1
           },
           "zaxis": {
            "color": "black",
            "gridcolor": "#ccc",
            "gridwidth": 1,
            "linewidth": 1,
            "mirror": true,
            "showgrid": false,
            "showline": true,
            "ticklen": 5,
            "ticks": "outside",
            "ticksuffix": " ",
            "visible": true,
            "zeroline": false,
            "zerolinecolor": "#ccc",
            "zerolinewidth": 1
           }
          },
          "xaxis": {
           "color": "black",
           "gridcolor": "#ccc",
           "gridwidth": 1,
           "linewidth": 1,
           "mirror": true,
           "showgrid": false,
           "showline": true,
           "ticklen": 5,
           "ticks": "outside",
           "ticksuffix": " ",
           "visible": true,
           "zeroline": false,
           "zerolinecolor": "#ccc",
           "zerolinewidth": 1
          },
          "yaxis": {
           "color": "black",
           "gridcolor": "#ccc",
           "gridwidth": 1,
           "linewidth": 1,
           "mirror": true,
           "showgrid": false,
           "showline": true,
           "ticklen": 5,
           "ticks": "outside",
           "ticksuffix": " ",
           "visible": true,
           "zeroline": false,
           "zerolinecolor": "#ccc",
           "zerolinewidth": 1
          }
         }
        },
        "xaxis": {
         "title": {
          "text": "Z axis [Ang]"
         }
        },
        "yaxis": {
         "title": {
          "text": "y"
         }
        }
       }
      }
     },
     "metadata": {},
     "output_type": "display_data"
    }
   ],
   "source": [
    "plot = H.plot.wavefunction(i=2, k=(0, 0, 0))\n",
    "plot"
   ]
  },
  {
   "cell_type": "markdown",
   "metadata": {},
   "source": [
    "You can also select the spin with the `spin` setting (if you have, of course, a spin polarized `Hamiltonian`).\n",
    "\n",
    "<div class=\"alert alert-info\">\n",
    "\n",
    "Note\n",
    "    \n",
    "If you update the **number of the wavefunction, the eigenstates are already calculated**, so there's no need to recalculate them. However, changing the **k point** or the **spin component** will trigger a **recalculation of the eigenstates**.\n",
    "\n",
    "</div>"
   ]
  },
  {
   "cell_type": "markdown",
   "metadata": {},
   "source": [
    "## Grid precision\n",
    "\n",
    "The wavefunction is projected in a grid, and how fine that grid is will determine the resolution. You can control this with the `grid_prec` setting, which accepts the **grid precision in Angstrom**. Let's check the difference in 2D, where it will be best appreciated:"
   ]
  },
  {
   "cell_type": "code",
   "execution_count": 5,
   "metadata": {
    "execution": {
     "iopub.execute_input": "2025-09-23T10:48:34.269805Z",
     "iopub.status.busy": "2025-09-23T10:48:34.269620Z",
     "iopub.status.idle": "2025-09-23T10:48:34.453125Z",
     "shell.execute_reply": "2025-09-23T10:48:34.452490Z"
    }
   },
   "outputs": [
    {
     "name": "stderr",
     "output_type": "stream",
     "text": [
      "INFO\tTask(Task-2) nodify.node.140008202355296:node.py:get()- No need to evaluate\n"
     ]
    },
    {
     "name": "stderr",
     "output_type": "stream",
     "text": [
      "INFO\tTask(Task-2) nodify.node.140008202200576:node.py:get()- No need to evaluate\n"
     ]
    },
    {
     "name": "stderr",
     "output_type": "stream",
     "text": [
      "INFO\tTask(Task-2) nodify.node.140008202200720:node.py:get()- No need to evaluate\n"
     ]
    },
    {
     "name": "stderr",
     "output_type": "stream",
     "text": [
      "INFO\tTask(Task-2) nodify.node.140008202356592:node.py:get()- No need to evaluate\n"
     ]
    },
    {
     "name": "stderr",
     "output_type": "stream",
     "text": [
      "INFO\tTask(Task-2) nodify.node.140008202199232:node.py:get()- No need to evaluate\n"
     ]
    },
    {
     "name": "stderr",
     "output_type": "stream",
     "text": [
      "INFO\tTask(Task-2) nodify.node.140008202199952:node.py:get()- No need to evaluate\n"
     ]
    },
    {
     "name": "stderr",
     "output_type": "stream",
     "text": [
      "INFO\tTask(Task-2) nodify.node.140008202200576:node.py:get()- No need to evaluate\n"
     ]
    },
    {
     "name": "stderr",
     "output_type": "stream",
     "text": [
      "INFO\tTask(Task-2) nodify.node.140008202200768:node.py:get()- No need to evaluate\n"
     ]
    },
    {
     "name": "stderr",
     "output_type": "stream",
     "text": [
      "INFO\tTask(Task-2) nodify.node.140008238801424:node.py:get()- No need to evaluate\n"
     ]
    },
    {
     "name": "stderr",
     "output_type": "stream",
     "text": [
      "INFO\tTask(Task-2) nodify.node.140008202202544:node.py:get()- No need to evaluate\n"
     ]
    },
    {
     "name": "stderr",
     "output_type": "stream",
     "text": [
      "INFO\tTask(Task-2) nodify.node.140008202200576:node.py:get()- No need to evaluate\n"
     ]
    },
    {
     "name": "stderr",
     "output_type": "stream",
     "text": [
      "INFO\tTask(Task-2) nodify.node.140008202200720:node.py:get()- No need to evaluate\n"
     ]
    },
    {
     "name": "stderr",
     "output_type": "stream",
     "text": [
      "INFO\tTask(Task-2) nodify.node.140008202356592:node.py:get()- No need to evaluate\n"
     ]
    },
    {
     "name": "stderr",
     "output_type": "stream",
     "text": [
      "INFO\tTask(Task-2) nodify.node.140008238416432:node.py:get()- No need to evaluate\n"
     ]
    },
    {
     "name": "stderr",
     "output_type": "stream",
     "text": [
      "INFO\tTask(Task-2) nodify.node.140008202357024:node.py:get()- No need to evaluate\n"
     ]
    },
    {
     "name": "stderr",
     "output_type": "stream",
     "text": [
      "INFO\tTask(Task-2) nodify.node.140008202197984:node.py:get()- No need to evaluate\n"
     ]
    },
    {
     "name": "stderr",
     "output_type": "stream",
     "text": [
      "INFO\tTask(Task-2) nodify.node.140008238802336:node.py:get()- No need to evaluate\n"
     ]
    },
    {
     "name": "stderr",
     "output_type": "stream",
     "text": [
      "INFO\tTask(Task-2) nodify.node.140008202202544:node.py:get()- No need to evaluate\n"
     ]
    },
    {
     "name": "stderr",
     "output_type": "stream",
     "text": [
      "INFO\tTask(Task-2) nodify.node.140008202200576:node.py:get()- No need to evaluate\n"
     ]
    },
    {
     "name": "stderr",
     "output_type": "stream",
     "text": [
      "INFO\tTask(Task-2) nodify.node.140008202200720:node.py:get()- No need to evaluate\n"
     ]
    },
    {
     "name": "stderr",
     "output_type": "stream",
     "text": [
      "INFO\tTask(Task-2) nodify.node.140008202356592:node.py:get()- No need to evaluate\n"
     ]
    },
    {
     "name": "stderr",
     "output_type": "stream",
     "text": [
      "INFO\tTask(Task-2) nodify.node.140008238803296:node.py:get()- No need to evaluate\n"
     ]
    },
    {
     "name": "stderr",
     "output_type": "stream",
     "text": [
      "INFO\tTask(Task-2) nodify.node.140008202358224:node.py:get()- No need to evaluate\n"
     ]
    },
    {
     "name": "stderr",
     "output_type": "stream",
     "text": [
      "INFO\tTask(Task-2) nodify.node.140008202199328:node.py:get()- Evaluated because inputs changed.\n"
     ]
    },
    {
     "name": "stderr",
     "output_type": "stream",
     "text": [
      "INFO\tTask(Task-2) nodify.node.140008202201440:node.py:get()- Evaluated because inputs changed.\n"
     ]
    },
    {
     "name": "stderr",
     "output_type": "stream",
     "text": [
      "INFO\tTask(Task-2) nodify.node.140008202201536:node.py:get()- No need to evaluate\n"
     ]
    },
    {
     "name": "stderr",
     "output_type": "stream",
     "text": [
      "INFO\tTask(Task-2) nodify.node.140008202358896:node.py:get()- Evaluated because inputs changed.\n"
     ]
    },
    {
     "name": "stderr",
     "output_type": "stream",
     "text": [
      "INFO\tTask(Task-2) nodify.node.140008202198608:node.py:get()- Evaluated because inputs changed.\n"
     ]
    },
    {
     "name": "stderr",
     "output_type": "stream",
     "text": [
      "INFO\tTask(Task-2) nodify.node.140008202360336:node.py:get()- Evaluated because inputs changed.\n"
     ]
    },
    {
     "name": "stderr",
     "output_type": "stream",
     "text": [
      "INFO\tTask(Task-2) nodify.node.140008202205856:node.py:get()- No need to evaluate\n"
     ]
    },
    {
     "name": "stderr",
     "output_type": "stream",
     "text": [
      "INFO\tTask(Task-2) nodify.node.140008202206240:node.py:get()- No need to evaluate\n"
     ]
    },
    {
     "name": "stderr",
     "output_type": "stream",
     "text": [
      "INFO\tTask(Task-2) nodify.node.140008202206624:node.py:get()- No need to evaluate\n"
     ]
    },
    {
     "name": "stderr",
     "output_type": "stream",
     "text": [
      "INFO\tTask(Task-2) nodify.node.140008202360144:node.py:get()- Evaluated because inputs changed.\n"
     ]
    },
    {
     "name": "stderr",
     "output_type": "stream",
     "text": [
      "INFO\tTask(Task-2) nodify.node.140008202201248:node.py:get()- No need to evaluate\n"
     ]
    },
    {
     "name": "stderr",
     "output_type": "stream",
     "text": [
      "INFO\tTask(Task-2) nodify.node.140008202200576:node.py:get()- No need to evaluate\n"
     ]
    },
    {
     "name": "stderr",
     "output_type": "stream",
     "text": [
      "INFO\tTask(Task-2) nodify.node.140008202200720:node.py:get()- No need to evaluate\n"
     ]
    },
    {
     "name": "stderr",
     "output_type": "stream",
     "text": [
      "INFO\tTask(Task-2) nodify.node.140008202356592:node.py:get()- No need to evaluate\n"
     ]
    },
    {
     "name": "stderr",
     "output_type": "stream",
     "text": [
      "INFO\tTask(Task-2) nodify.node.140008202199232:node.py:get()- No need to evaluate\n"
     ]
    },
    {
     "name": "stderr",
     "output_type": "stream",
     "text": [
      "INFO\tTask(Task-2) nodify.node.140008202199952:node.py:get()- No need to evaluate\n"
     ]
    },
    {
     "name": "stderr",
     "output_type": "stream",
     "text": [
      "INFO\tTask(Task-2) nodify.node.140008202200576:node.py:get()- No need to evaluate\n"
     ]
    },
    {
     "name": "stderr",
     "output_type": "stream",
     "text": [
      "INFO\tTask(Task-2) nodify.node.140008202200768:node.py:get()- No need to evaluate\n"
     ]
    },
    {
     "name": "stderr",
     "output_type": "stream",
     "text": [
      "INFO\tTask(Task-2) nodify.node.140008238801424:node.py:get()- No need to evaluate\n"
     ]
    },
    {
     "name": "stderr",
     "output_type": "stream",
     "text": [
      "INFO\tTask(Task-2) nodify.node.140008202202544:node.py:get()- No need to evaluate\n"
     ]
    },
    {
     "name": "stderr",
     "output_type": "stream",
     "text": [
      "INFO\tTask(Task-2) nodify.node.140008202200576:node.py:get()- No need to evaluate\n"
     ]
    },
    {
     "name": "stderr",
     "output_type": "stream",
     "text": [
      "INFO\tTask(Task-2) nodify.node.140008202200720:node.py:get()- No need to evaluate\n"
     ]
    },
    {
     "name": "stderr",
     "output_type": "stream",
     "text": [
      "INFO\tTask(Task-2) nodify.node.140008202356592:node.py:get()- No need to evaluate\n"
     ]
    },
    {
     "name": "stderr",
     "output_type": "stream",
     "text": [
      "INFO\tTask(Task-2) nodify.node.140008238416432:node.py:get()- No need to evaluate\n"
     ]
    },
    {
     "name": "stderr",
     "output_type": "stream",
     "text": [
      "INFO\tTask(Task-2) nodify.node.140008202357024:node.py:get()- No need to evaluate\n"
     ]
    },
    {
     "name": "stderr",
     "output_type": "stream",
     "text": [
      "INFO\tTask(Task-2) nodify.node.140008202197984:node.py:get()- No need to evaluate\n"
     ]
    },
    {
     "name": "stderr",
     "output_type": "stream",
     "text": [
      "INFO\tTask(Task-2) nodify.node.140008238802336:node.py:get()- No need to evaluate\n"
     ]
    },
    {
     "name": "stderr",
     "output_type": "stream",
     "text": [
      "INFO\tTask(Task-2) nodify.node.140008202202544:node.py:get()- No need to evaluate\n"
     ]
    },
    {
     "name": "stderr",
     "output_type": "stream",
     "text": [
      "INFO\tTask(Task-2) nodify.node.140008202200576:node.py:get()- No need to evaluate\n"
     ]
    },
    {
     "name": "stderr",
     "output_type": "stream",
     "text": [
      "INFO\tTask(Task-2) nodify.node.140008202200720:node.py:get()- No need to evaluate\n"
     ]
    },
    {
     "name": "stderr",
     "output_type": "stream",
     "text": [
      "INFO\tTask(Task-2) nodify.node.140008202356592:node.py:get()- No need to evaluate\n"
     ]
    },
    {
     "name": "stderr",
     "output_type": "stream",
     "text": [
      "INFO\tTask(Task-2) nodify.node.140008238803296:node.py:get()- No need to evaluate\n"
     ]
    },
    {
     "name": "stderr",
     "output_type": "stream",
     "text": [
      "INFO\tTask(Task-2) nodify.node.140008202358224:node.py:get()- No need to evaluate\n"
     ]
    },
    {
     "name": "stderr",
     "output_type": "stream",
     "text": [
      "INFO\tTask(Task-2) nodify.node.140008202199328:node.py:get()- No need to evaluate\n"
     ]
    },
    {
     "name": "stderr",
     "output_type": "stream",
     "text": [
      "INFO\tTask(Task-2) nodify.node.140008202201440:node.py:get()- No need to evaluate\n"
     ]
    },
    {
     "name": "stderr",
     "output_type": "stream",
     "text": [
      "INFO\tTask(Task-2) nodify.node.140008202201536:node.py:get()- No need to evaluate\n"
     ]
    },
    {
     "name": "stderr",
     "output_type": "stream",
     "text": [
      "INFO\tTask(Task-2) nodify.node.140008202358896:node.py:get()- No need to evaluate\n"
     ]
    },
    {
     "name": "stderr",
     "output_type": "stream",
     "text": [
      "INFO\tTask(Task-2) nodify.node.140008202199328:node.py:get()- No need to evaluate\n"
     ]
    },
    {
     "name": "stderr",
     "output_type": "stream",
     "text": [
      "INFO\tTask(Task-2) nodify.node.140008202201440:node.py:get()- No need to evaluate\n"
     ]
    },
    {
     "name": "stderr",
     "output_type": "stream",
     "text": [
      "INFO\tTask(Task-2) nodify.node.140008202359184:node.py:get()- Evaluated because inputs changed.\n"
     ]
    },
    {
     "name": "stderr",
     "output_type": "stream",
     "text": [
      "INFO\tTask(Task-2) nodify.node.140008202359952:node.py:get()- Evaluated because inputs changed.\n"
     ]
    },
    {
     "name": "stderr",
     "output_type": "stream",
     "text": [
      "INFO\tTask(Task-2) nodify.node.140008202202928:node.py:get()- No need to evaluate\n"
     ]
    },
    {
     "name": "stderr",
     "output_type": "stream",
     "text": [
      "INFO\tTask(Task-2) nodify.node.140008202360288:node.py:get()- Evaluated because inputs changed.\n"
     ]
    },
    {
     "name": "stderr",
     "output_type": "stream",
     "text": [
      "INFO\tTask(Task-2) nodify.node.140008202199328:node.py:get()- No need to evaluate\n"
     ]
    },
    {
     "name": "stderr",
     "output_type": "stream",
     "text": [
      "INFO\tTask(Task-2) nodify.node.140008202201440:node.py:get()- No need to evaluate\n"
     ]
    },
    {
     "name": "stderr",
     "output_type": "stream",
     "text": [
      "INFO\tTask(Task-2) nodify.node.140008202200576:node.py:get()- No need to evaluate\n"
     ]
    },
    {
     "name": "stderr",
     "output_type": "stream",
     "text": [
      "INFO\tTask(Task-2) nodify.node.140008202200720:node.py:get()- No need to evaluate\n"
     ]
    },
    {
     "name": "stderr",
     "output_type": "stream",
     "text": [
      "INFO\tTask(Task-2) nodify.node.140008202356592:node.py:get()- No need to evaluate\n"
     ]
    },
    {
     "name": "stderr",
     "output_type": "stream",
     "text": [
      "INFO\tTask(Task-2) nodify.node.140008202199232:node.py:get()- No need to evaluate\n"
     ]
    },
    {
     "name": "stderr",
     "output_type": "stream",
     "text": [
      "INFO\tTask(Task-2) nodify.node.140008202199952:node.py:get()- No need to evaluate\n"
     ]
    },
    {
     "name": "stderr",
     "output_type": "stream",
     "text": [
      "INFO\tTask(Task-2) nodify.node.140008202200576:node.py:get()- No need to evaluate\n"
     ]
    },
    {
     "name": "stderr",
     "output_type": "stream",
     "text": [
      "INFO\tTask(Task-2) nodify.node.140008202200768:node.py:get()- No need to evaluate\n"
     ]
    },
    {
     "name": "stderr",
     "output_type": "stream",
     "text": [
      "INFO\tTask(Task-2) nodify.node.140008238801424:node.py:get()- No need to evaluate\n"
     ]
    },
    {
     "name": "stderr",
     "output_type": "stream",
     "text": [
      "INFO\tTask(Task-2) nodify.node.140008202202544:node.py:get()- No need to evaluate\n"
     ]
    },
    {
     "name": "stderr",
     "output_type": "stream",
     "text": [
      "INFO\tTask(Task-2) nodify.node.140008202200576:node.py:get()- No need to evaluate\n"
     ]
    },
    {
     "name": "stderr",
     "output_type": "stream",
     "text": [
      "INFO\tTask(Task-2) nodify.node.140008202200720:node.py:get()- No need to evaluate\n"
     ]
    },
    {
     "name": "stderr",
     "output_type": "stream",
     "text": [
      "INFO\tTask(Task-2) nodify.node.140008202356592:node.py:get()- No need to evaluate\n"
     ]
    },
    {
     "name": "stderr",
     "output_type": "stream",
     "text": [
      "INFO\tTask(Task-2) nodify.node.140008238416432:node.py:get()- No need to evaluate\n"
     ]
    },
    {
     "name": "stderr",
     "output_type": "stream",
     "text": [
      "INFO\tTask(Task-2) nodify.node.140008202357024:node.py:get()- No need to evaluate\n"
     ]
    },
    {
     "name": "stderr",
     "output_type": "stream",
     "text": [
      "INFO\tTask(Task-2) nodify.node.140008202197984:node.py:get()- No need to evaluate\n"
     ]
    },
    {
     "name": "stderr",
     "output_type": "stream",
     "text": [
      "INFO\tTask(Task-2) nodify.node.140008238802336:node.py:get()- No need to evaluate\n"
     ]
    },
    {
     "name": "stderr",
     "output_type": "stream",
     "text": [
      "INFO\tTask(Task-2) nodify.node.140008202202544:node.py:get()- No need to evaluate\n"
     ]
    },
    {
     "name": "stderr",
     "output_type": "stream",
     "text": [
      "INFO\tTask(Task-2) nodify.node.140008202200576:node.py:get()- No need to evaluate\n"
     ]
    },
    {
     "name": "stderr",
     "output_type": "stream",
     "text": [
      "INFO\tTask(Task-2) nodify.node.140008202200720:node.py:get()- No need to evaluate\n"
     ]
    },
    {
     "name": "stderr",
     "output_type": "stream",
     "text": [
      "INFO\tTask(Task-2) nodify.node.140008202356592:node.py:get()- No need to evaluate\n"
     ]
    },
    {
     "name": "stderr",
     "output_type": "stream",
     "text": [
      "INFO\tTask(Task-2) nodify.node.140008238803296:node.py:get()- No need to evaluate\n"
     ]
    },
    {
     "name": "stderr",
     "output_type": "stream",
     "text": [
      "INFO\tTask(Task-2) nodify.node.140008202358224:node.py:get()- No need to evaluate\n"
     ]
    },
    {
     "name": "stderr",
     "output_type": "stream",
     "text": [
      "INFO\tTask(Task-2) nodify.node.140008202199328:node.py:get()- No need to evaluate\n"
     ]
    },
    {
     "name": "stderr",
     "output_type": "stream",
     "text": [
      "INFO\tTask(Task-2) nodify.node.140008202201440:node.py:get()- No need to evaluate\n"
     ]
    },
    {
     "name": "stderr",
     "output_type": "stream",
     "text": [
      "INFO\tTask(Task-2) nodify.node.140008202201536:node.py:get()- No need to evaluate\n"
     ]
    },
    {
     "name": "stderr",
     "output_type": "stream",
     "text": [
      "INFO\tTask(Task-2) nodify.node.140008202358896:node.py:get()- No need to evaluate\n"
     ]
    },
    {
     "name": "stderr",
     "output_type": "stream",
     "text": [
      "INFO\tTask(Task-2) nodify.node.140008202199328:node.py:get()- No need to evaluate\n"
     ]
    },
    {
     "name": "stderr",
     "output_type": "stream",
     "text": [
      "INFO\tTask(Task-2) nodify.node.140008202201440:node.py:get()- No need to evaluate\n"
     ]
    },
    {
     "name": "stderr",
     "output_type": "stream",
     "text": [
      "INFO\tTask(Task-2) nodify.node.140008202359184:node.py:get()- No need to evaluate\n"
     ]
    },
    {
     "name": "stderr",
     "output_type": "stream",
     "text": [
      "INFO\tTask(Task-2) nodify.node.140008202202544:node.py:get()- No need to evaluate\n"
     ]
    },
    {
     "name": "stderr",
     "output_type": "stream",
     "text": [
      "INFO\tTask(Task-2) nodify.node.140008202200576:node.py:get()- No need to evaluate\n"
     ]
    },
    {
     "name": "stderr",
     "output_type": "stream",
     "text": [
      "INFO\tTask(Task-2) nodify.node.140008202200720:node.py:get()- No need to evaluate\n"
     ]
    },
    {
     "name": "stderr",
     "output_type": "stream",
     "text": [
      "INFO\tTask(Task-2) nodify.node.140008202356592:node.py:get()- No need to evaluate\n"
     ]
    },
    {
     "name": "stderr",
     "output_type": "stream",
     "text": [
      "INFO\tTask(Task-2) nodify.node.140008238803296:node.py:get()- No need to evaluate\n"
     ]
    },
    {
     "name": "stderr",
     "output_type": "stream",
     "text": [
      "INFO\tTask(Task-2) nodify.node.140008202361200:node.py:get()- Evaluated because inputs changed.\n"
     ]
    },
    {
     "name": "stderr",
     "output_type": "stream",
     "text": [
      "INFO\tTask(Task-2) nodify.node.140008202203312:node.py:get()- No need to evaluate\n"
     ]
    },
    {
     "name": "stderr",
     "output_type": "stream",
     "text": [
      "INFO\tTask(Task-2) nodify.node.140008202204176:node.py:get()- No need to evaluate\n"
     ]
    },
    {
     "name": "stderr",
     "output_type": "stream",
     "text": [
      "INFO\tTask(Task-2) nodify.node.140008202204368:node.py:get()- No need to evaluate\n"
     ]
    },
    {
     "name": "stderr",
     "output_type": "stream",
     "text": [
      "INFO\tTask(Task-2) nodify.node.140008202204704:node.py:get()- No need to evaluate\n"
     ]
    },
    {
     "name": "stderr",
     "output_type": "stream",
     "text": [
      "INFO\tTask(Task-2) nodify.node.140008202075744:node.py:get()- No need to evaluate\n"
     ]
    },
    {
     "name": "stderr",
     "output_type": "stream",
     "text": [
      "INFO\tTask(Task-2) nodify.node.140008202361488:node.py:get()- Evaluated because inputs changed.\n"
     ]
    },
    {
     "name": "stderr",
     "output_type": "stream",
     "text": [
      "INFO\tTask(Task-2) nodify.node.140008202200576:node.py:get()- No need to evaluate\n"
     ]
    },
    {
     "name": "stderr",
     "output_type": "stream",
     "text": [
      "INFO\tTask(Task-2) nodify.node.140008202200720:node.py:get()- No need to evaluate\n"
     ]
    },
    {
     "name": "stderr",
     "output_type": "stream",
     "text": [
      "INFO\tTask(Task-2) nodify.node.140008202356592:node.py:get()- No need to evaluate\n"
     ]
    },
    {
     "name": "stderr",
     "output_type": "stream",
     "text": [
      "INFO\tTask(Task-2) nodify.node.140008202199232:node.py:get()- No need to evaluate\n"
     ]
    },
    {
     "name": "stderr",
     "output_type": "stream",
     "text": [
      "INFO\tTask(Task-2) nodify.node.140008202199952:node.py:get()- No need to evaluate\n"
     ]
    },
    {
     "name": "stderr",
     "output_type": "stream",
     "text": [
      "INFO\tTask(Task-2) nodify.node.140008202200576:node.py:get()- No need to evaluate\n"
     ]
    },
    {
     "name": "stderr",
     "output_type": "stream",
     "text": [
      "INFO\tTask(Task-2) nodify.node.140008202200768:node.py:get()- No need to evaluate\n"
     ]
    },
    {
     "name": "stderr",
     "output_type": "stream",
     "text": [
      "INFO\tTask(Task-2) nodify.node.140008238801424:node.py:get()- No need to evaluate\n"
     ]
    },
    {
     "name": "stderr",
     "output_type": "stream",
     "text": [
      "INFO\tTask(Task-2) nodify.node.140008202202544:node.py:get()- No need to evaluate\n"
     ]
    },
    {
     "name": "stderr",
     "output_type": "stream",
     "text": [
      "INFO\tTask(Task-2) nodify.node.140008202200576:node.py:get()- No need to evaluate\n"
     ]
    },
    {
     "name": "stderr",
     "output_type": "stream",
     "text": [
      "INFO\tTask(Task-2) nodify.node.140008202200720:node.py:get()- No need to evaluate\n"
     ]
    },
    {
     "name": "stderr",
     "output_type": "stream",
     "text": [
      "INFO\tTask(Task-2) nodify.node.140008202356592:node.py:get()- No need to evaluate\n"
     ]
    },
    {
     "name": "stderr",
     "output_type": "stream",
     "text": [
      "INFO\tTask(Task-2) nodify.node.140008238416432:node.py:get()- No need to evaluate\n"
     ]
    },
    {
     "name": "stderr",
     "output_type": "stream",
     "text": [
      "INFO\tTask(Task-2) nodify.node.140008202357024:node.py:get()- No need to evaluate\n"
     ]
    },
    {
     "name": "stderr",
     "output_type": "stream",
     "text": [
      "INFO\tTask(Task-2) nodify.node.140008202205088:node.py:get()- No need to evaluate\n"
     ]
    },
    {
     "name": "stderr",
     "output_type": "stream",
     "text": [
      "INFO\tTask(Task-2) nodify.node.140008202199328:node.py:get()- No need to evaluate\n"
     ]
    },
    {
     "name": "stderr",
     "output_type": "stream",
     "text": [
      "INFO\tTask(Task-2) nodify.node.140008202201440:node.py:get()- No need to evaluate\n"
     ]
    },
    {
     "name": "stderr",
     "output_type": "stream",
     "text": [
      "INFO\tTask(Task-2) nodify.node.140008202205472:node.py:get()- No need to evaluate\n"
     ]
    },
    {
     "name": "stderr",
     "output_type": "stream",
     "text": [
      "INFO\tTask(Task-2) nodify.node.140008202362256:node.py:get()- Evaluated because inputs changed.\n"
     ]
    },
    {
     "name": "stderr",
     "output_type": "stream",
     "text": [
      "INFO\tTask(Task-2) nodify.node.140008202207008:node.py:get()- No need to evaluate\n"
     ]
    },
    {
     "name": "stderr",
     "output_type": "stream",
     "text": [
      "INFO\tTask(Task-2) nodify.node.140008202200576:node.py:get()- No need to evaluate\n"
     ]
    },
    {
     "name": "stderr",
     "output_type": "stream",
     "text": [
      "INFO\tTask(Task-2) nodify.node.140008202200768:node.py:get()- No need to evaluate\n"
     ]
    },
    {
     "name": "stderr",
     "output_type": "stream",
     "text": [
      "INFO\tTask(Task-2) nodify.node.140008238801424:node.py:get()- No need to evaluate\n"
     ]
    },
    {
     "name": "stderr",
     "output_type": "stream",
     "text": [
      "INFO\tTask(Task-2) nodify.node.140008202202544:node.py:get()- No need to evaluate\n"
     ]
    },
    {
     "name": "stderr",
     "output_type": "stream",
     "text": [
      "INFO\tTask(Task-2) nodify.node.140008202200576:node.py:get()- No need to evaluate\n"
     ]
    },
    {
     "name": "stderr",
     "output_type": "stream",
     "text": [
      "INFO\tTask(Task-2) nodify.node.140008202200720:node.py:get()- No need to evaluate\n"
     ]
    },
    {
     "name": "stderr",
     "output_type": "stream",
     "text": [
      "INFO\tTask(Task-2) nodify.node.140008202356592:node.py:get()- No need to evaluate\n"
     ]
    },
    {
     "name": "stderr",
     "output_type": "stream",
     "text": [
      "INFO\tTask(Task-2) nodify.node.140008238416432:node.py:get()- No need to evaluate\n"
     ]
    },
    {
     "name": "stderr",
     "output_type": "stream",
     "text": [
      "INFO\tTask(Task-2) nodify.node.140008202199328:node.py:get()- No need to evaluate\n"
     ]
    },
    {
     "name": "stderr",
     "output_type": "stream",
     "text": [
      "INFO\tTask(Task-2) nodify.node.140008202201440:node.py:get()- No need to evaluate\n"
     ]
    },
    {
     "name": "stderr",
     "output_type": "stream",
     "text": [
      "INFO\tTask(Task-2) nodify.node.140008202202544:node.py:get()- No need to evaluate\n"
     ]
    },
    {
     "name": "stderr",
     "output_type": "stream",
     "text": [
      "INFO\tTask(Task-2) nodify.node.140008202200576:node.py:get()- No need to evaluate\n"
     ]
    },
    {
     "name": "stderr",
     "output_type": "stream",
     "text": [
      "INFO\tTask(Task-2) nodify.node.140008202200720:node.py:get()- No need to evaluate\n"
     ]
    },
    {
     "name": "stderr",
     "output_type": "stream",
     "text": [
      "INFO\tTask(Task-2) nodify.node.140008202356592:node.py:get()- No need to evaluate\n"
     ]
    },
    {
     "name": "stderr",
     "output_type": "stream",
     "text": [
      "INFO\tTask(Task-2) nodify.node.140008238803296:node.py:get()- No need to evaluate\n"
     ]
    },
    {
     "name": "stderr",
     "output_type": "stream",
     "text": [
      "INFO\tTask(Task-2) nodify.node.140008202354912:node.py:get()- No need to evaluate\n"
     ]
    },
    {
     "name": "stderr",
     "output_type": "stream",
     "text": [
      "INFO\tTask(Task-2) nodify.node.140008202200912:node.py:get()- Evaluated because inputs changed.\n"
     ]
    },
    {
     "name": "stderr",
     "output_type": "stream",
     "text": [
      "INFO\tTask(Task-2) nodify.node.140008202064944:node.py:get()- Evaluated because inputs changed.\n"
     ]
    },
    {
     "name": "stderr",
     "output_type": "stream",
     "text": [
      "INFO\tTask(Task-2) nodify.node.140008239474560:node.py:get()- Evaluated because inputs changed.\n"
     ]
    },
    {
     "name": "stderr",
     "output_type": "stream",
     "text": [
      "INFO\tTask(Task-2) nodify.node.140008202363168:node.py:get()- Evaluated because inputs changed.\n"
     ]
    },
    {
     "data": {
      "application/vnd.plotly.v1+json": {
       "config": {
        "plotlyServerURL": "https://plot.ly"
       },
       "data": [
        {
         "coloraxis": "coloraxis",
         "meta": {},
         "opacity": 1,
         "type": "heatmap",
         "x": {
          "bdata": "AAAAAAAAAABAbCoNOffJP0BsKg0599k/MNHfyWp54z9AbCoNOffpP6iDOqiDOvA/MNHfyWp58z+4HoXrUbj2P0BsKg059/k/yLnPLiA2/T+ogzqogzoAQGwqDTn32QFAMNHfyWp5A0D0d7Ja3hgFQLgehetRuAZAfMVXfMVXCEBAbCoNOfcJQAQT/Z2slgtAyLnPLiA2DUCMYKK/k9UOQKiDOqiDOhBA",
          "dtype": "f8"
         },
         "y": {
          "bdata": "AAAAAAAAAABBkBmbGzzKP0GQGZsbPNo/MSxTtBSt4z9BkBmbGzzqPyn670CRZfA/MSxTtBSt8z85XrYnmPT2P0GQGZsbPPo/ScJ8Dp+D/T8p+u9AkWUAQC2TofpSCQJA",
          "dtype": "f8"
         },
         "z": {
          "bdata": "T05Esz3ZXD+RIO3SkJhMPwpSJXyXfDE/2lADcgfODT9DrIsWDzwAPxjovl6ywhM/iDph9fsJHj/7kcUymrsgP6A6YfX7CR4/Pei+XrLCEz9qrIsWDzwAP3tQA3IHzg0/2lElfJd8MT9YIO3SkJhMPx1ORLM92Vw/TIygT4S5Vj/K/UVhpqlQP0+lTQxfUEw/WqVNDF9QTD/a/UVhpqlQP26MoE+EuVY//Sw93s5yUT9RcgVhGWNDP7t3ByYdjCg/+lGM90hGAT8RA64tILABPxQOL9sDDRU/mYjrBrkYIT98p5v1bWwjP6aI6wa5GCE/QA4v2wMNFT9RA64tILABP8ZRjPdIRgE/cXcHJh2MKD8lcgVhGWNDP98sPd7OclE/OdrsxYVKUT/JRvKWHwhNP7K5pcAaAEk/u7mlwBoAST/mRvKWHwhNP1Pa7MWFSlE/HHLR0QaVPT9fgSiS3yUtP3JI52dfrAg/FzUKlfrk7z53debLkicTP078kZVimSI/MUTgZOQQKj8F3Pp2AmUsP0NE4GTkECo/bvyRlWKZIj+2debLkicTP9g1CpX65O8+9EfnZ1+sCD8KgSiS3yUtP+Bx0dEGlT0/XWKMiIGjQj/jyjfirYhDP00J0w9zrUI/VAnTD3OtQj/4yjfirYhDP3tijIiBo0I/MRzRyZStIz+0foGRx7IBP5tM2uHxi88+/J/uHUcMFz/Fva13jNQrPxpozsR2WDQ/e7Lrx1tYNz+pqzsT0CY4P4Wy68dbWDc/L2jOxHZYND/6va13jNQrP1Gg7h1HDBc/2k7a4fGLzz5BfoGRx7IBP/kb0cmUrSM/97WpN1sBMT/A2vIbbso1P4XgQI3SGDg/jeBAjdIYOD/c2vIbbso1Pxy2qTdbATE///3xXoUwBT/BKeVy+KTqPoGFZ2B7LB8/MWhBS7RNNj8ttYVTqpdBP9LJiSVbY0M/FNzO5JkjQz8utGwxqXlCPx3czuSZI0M/4cmJJVtjQz9DtYVTqpdBP1poQUu0TTY/2oVnYHssHz8aKuVy+KTqPqD98V6FMAU/l7zmqDdbHT+tV6HPIi8mP6jjdbLjDyw/t+N1suMPLD/OV6HPIi8mP+285qg3Wx0/7pF3lapK/T7IzZjK4/wUP/vYtaa7eDc/xprOYW0yTD9QdbkPG0BSPzbOH+NjV08/j4Io8L3tSj9BV1R4RZ9IP5qCKPC97Uo/Tc4f42NXTz9fdbkPG0BSP+iazmFtMkw/I9m1prt4Nz/9zZjK4/wUP8WRd5WqSv0+ivck1Fm+Cz+P9ta2secaPzzIN5DIbSI/Rsg3kMhtIj/A9ta2secaP+j3JNRZvgs/Us2XA/PJAz9dEwEdokQhP3PEdU+vZkA/KQDQg8WJVj/JneKD7UhbPyxEkaVuRlM/0dJygmvrTT+MGXLTElVLP9zScoJr600/NkSRpW5GUz/gneKD7UhbP0AA0IPFiVY/i8R1T69mQD9/EwEdokQhP07NlwPzyQM/DYKp05s6DD/XjpFjXdgXP8orl6acMiE/0yuXppwyIT8Fj5FjXdgXP12CqdObOgw/75F3lapK/T7DzZjK4/wUP/PYtaa7eDc/v5rOYW0yTD9MdbkPG0BSPy7OH+NjV08/ioIo8L3tSj89V1R4RZ9IP5OCKPC97Uo/Rc4f42NXTz9adbkPG0BSP92azmFtMkw/G9m1prt4Nz/4zZjK4/wUP8WRd5WqSv0+ivck1Fm+Cz+O9ta2secaPzrIN5DIbSI/RMg3kMhtIj+/9ta2secaP+b3JNRZvgs//f3xXoUwBT/DKeVy+KTqPnuFZ2B7LB8/LmhBS7RNNj8otYVTqpdBP87JiSVbY0M/DtzO5JkjQz8otGwxqXlCPxTczuSZI0M/3cmJJVtjQz89tYVTqpdBP1RoQUu0TTY/0oVnYHssHz8fKuVy+KTqPqH98V6FMAU/l7zmqDdbHT+pV6HPIi8mP6TjdbLjDyw/suN1suMPLD/KV6HPIi8mP+q85qg3Wx0/KBzRyZStIz+tfoGRx7IBP2lM2uHxi88+8Z/uHUcMFz+4va13jNQrPxFozsR2WDQ/brLrx1tYNz+hqzsT0CY4P32y68dbWDc/JmjOxHZYND/uva13jNQrP0Wg7h1HDBc/pE7a4fGLzz45foGRx7IBP/Eb0cmUrSM/8rWpN1sBMT+82vIbbso1P4TgQI3SGDg/jeBAjdIYOD/X2vIbbso1Pxa2qTdbATE/FHLR0QaVPT9cgSiS3yUtP4BI52dfrAg/5jQKlfrk7z5kdebLkicTP0P8kZVimSI/IUTgZOQQKj/32/p2AmUsPzNE4GTkECo/X/yRlWKZIj+kdebLkicTP6w1CpX65O8+AEjnZ1+sCD8KgSiS3yUtP9hx0dEGlT0/W2KMiIGjQj/jyjfirYhDP00J0w9zrUI/VAnTD3OtQj/3yjfirYhDP3hijIiBo0I/+Sw93s5yUT9PcgVhGWNDP8B3ByYdjCg/DFKM90hGAT/6Aq4tILABPwEOL9sDDRU/jIjrBrkYIT9tp5v1bWwjP5qI6wa5GCE/Lg4v2wMNFT84A64tILABP9dRjPdIRgE/dncHJh2MKD8kcgVhGWNDP9osPd7OclE/ONrsxYVKUT/MRvKWHwhNP7a5pcAaAEk/vbmlwBoAST/mRvKWHwhNP1La7MWFSlE/",
          "dtype": "f8",
          "shape": "12, 21"
         },
         "zsmooth": false
        },
        {
         "meta": {},
         "mode": "lines",
         "name": "Unit cell",
         "type": "scatter",
         "x": {
          "bdata": "AAAAAAAAAAAAAAAAAAAAAArXo3A9ChFACtejcD0KEUAAAAAAAAAAAAAAAAAAAAAAAAAAAAAA+H8AAAAAAAAAAAAAAAAAAAAAAAAAAAAAAAAK16NwPQoRQArXo3A9ChFAAAAAAAAAAAAAAAAAAAD4fwrXo3A9ChFACtejcD0KEUAAAAAAAAD4fwrXo3A9ChFACtejcD0KEUA=",
          "dtype": "f8"
         },
         "y": {
          "bdata": "AAAAAAAAAAAxLFO0FK0DQDEsU7QUrQNAMSxTtBStA0AxLFO0FK0DQDEsU7QUrQNAAAAAAAAA+H8xLFO0FK0DQAAAAAAAAAAAAAAAAAAAAAAAAAAAAAAAAAAAAAAAAAAAAAAAAAAAAAAAAAAAAAD4fzEsU7QUrQNAAAAAAAAAAAAAAAAAAAD4fzEsU7QUrQNAAAAAAAAAAAA=",
          "dtype": "f8"
         }
        }
       ],
       "layout": {
        "coloraxis": {
         "showscale": true
        },
        "scene": {
         "aspectmode": "data",
         "xaxis": {
          "title": {
           "text": "X axis [Ang]"
          }
         },
         "yaxis": {
          "title": {
           "text": "Y axis [Ang]"
          }
         }
        },
        "template": {
         "layout": {
          "hovermode": "closest",
          "paper_bgcolor": "white",
          "plot_bgcolor": "white",
          "scene": {
           "xaxis": {
            "color": "black",
            "gridcolor": "#ccc",
            "gridwidth": 1,
            "linewidth": 1,
            "mirror": true,
            "showgrid": false,
            "showline": true,
            "ticklen": 5,
            "ticks": "outside",
            "ticksuffix": " ",
            "visible": true,
            "zeroline": false,
            "zerolinecolor": "#ccc",
            "zerolinewidth": 1
           },
           "yaxis": {
            "color": "black",
            "gridcolor": "#ccc",
            "gridwidth": 1,
            "linewidth": 1,
            "mirror": true,
            "showgrid": false,
            "showline": true,
            "ticklen": 5,
            "ticks": "outside",
            "ticksuffix": " ",
            "visible": true,
            "zeroline": false,
            "zerolinecolor": "#ccc",
            "zerolinewidth": 1
           },
           "zaxis": {
            "color": "black",
            "gridcolor": "#ccc",
            "gridwidth": 1,
            "linewidth": 1,
            "mirror": true,
            "showgrid": false,
            "showline": true,
            "ticklen": 5,
            "ticks": "outside",
            "ticksuffix": " ",
            "visible": true,
            "zeroline": false,
            "zerolinecolor": "#ccc",
            "zerolinewidth": 1
           }
          },
          "xaxis": {
           "color": "black",
           "gridcolor": "#ccc",
           "gridwidth": 1,
           "linewidth": 1,
           "mirror": true,
           "showgrid": false,
           "showline": true,
           "ticklen": 5,
           "ticks": "outside",
           "ticksuffix": " ",
           "visible": true,
           "zeroline": false,
           "zerolinecolor": "#ccc",
           "zerolinewidth": 1
          },
          "yaxis": {
           "color": "black",
           "gridcolor": "#ccc",
           "gridwidth": 1,
           "linewidth": 1,
           "mirror": true,
           "showgrid": false,
           "showline": true,
           "ticklen": 5,
           "ticks": "outside",
           "ticksuffix": " ",
           "visible": true,
           "zeroline": false,
           "zerolinecolor": "#ccc",
           "zerolinewidth": 1
          }
         }
        },
        "xaxis": {
         "scaleanchor": "y",
         "scaleratio": 1,
         "title": {
          "text": "X axis [Ang]"
         }
        },
        "yaxis": {
         "title": {
          "text": "Y axis [Ang]"
         }
        }
       }
      }
     },
     "metadata": {},
     "output_type": "display_data"
    }
   ],
   "source": [
    "plot.update_inputs(axes=\"xy\", transforms=[\"square\"])  # by default grid_prec is 0.2 Ang"
   ]
  },
  {
   "cell_type": "code",
   "execution_count": 6,
   "metadata": {
    "execution": {
     "iopub.execute_input": "2025-09-23T10:48:34.454928Z",
     "iopub.status.busy": "2025-09-23T10:48:34.454669Z",
     "iopub.status.idle": "2025-09-23T10:48:35.590723Z",
     "shell.execute_reply": "2025-09-23T10:48:35.590224Z"
    }
   },
   "outputs": [
    {
     "name": "stderr",
     "output_type": "stream",
     "text": [
      "INFO\tTask(Task-2) nodify.node.140008202355296:node.py:get()- No need to evaluate\n"
     ]
    },
    {
     "name": "stderr",
     "output_type": "stream",
     "text": [
      "INFO\tTask(Task-2) nodify.node.140008202200576:node.py:get()- No need to evaluate\n"
     ]
    },
    {
     "name": "stderr",
     "output_type": "stream",
     "text": [
      "INFO\tTask(Task-2) nodify.node.140008202200720:node.py:get()- No need to evaluate\n"
     ]
    },
    {
     "name": "stderr",
     "output_type": "stream",
     "text": [
      "INFO\tTask(Task-2) nodify.node.140008202356592:node.py:get()- No need to evaluate\n"
     ]
    },
    {
     "name": "stderr",
     "output_type": "stream",
     "text": [
      "INFO\tTask(Task-2) nodify.node.140008202199232:node.py:get()- Evaluated because inputs changed.\n"
     ]
    },
    {
     "name": "stderr",
     "output_type": "stream",
     "text": [
      "INFO\tTask(Task-2) nodify.node.140008202199952:node.py:get()- No need to evaluate\n"
     ]
    },
    {
     "name": "stderr",
     "output_type": "stream",
     "text": [
      "INFO\tTask(Task-2) nodify.node.140008202200576:node.py:get()- No need to evaluate\n"
     ]
    },
    {
     "name": "stderr",
     "output_type": "stream",
     "text": [
      "INFO\tTask(Task-2) nodify.node.140008202200768:node.py:get()- No need to evaluate\n"
     ]
    },
    {
     "name": "stderr",
     "output_type": "stream",
     "text": [
      "INFO\tTask(Task-2) nodify.node.140008238801424:node.py:get()- No need to evaluate\n"
     ]
    },
    {
     "name": "stderr",
     "output_type": "stream",
     "text": [
      "INFO\tTask(Task-2) nodify.node.140008202202544:node.py:get()- No need to evaluate\n"
     ]
    },
    {
     "name": "stderr",
     "output_type": "stream",
     "text": [
      "INFO\tTask(Task-2) nodify.node.140008202200576:node.py:get()- No need to evaluate\n"
     ]
    },
    {
     "name": "stderr",
     "output_type": "stream",
     "text": [
      "INFO\tTask(Task-2) nodify.node.140008202200720:node.py:get()- No need to evaluate\n"
     ]
    },
    {
     "name": "stderr",
     "output_type": "stream",
     "text": [
      "INFO\tTask(Task-2) nodify.node.140008202356592:node.py:get()- No need to evaluate\n"
     ]
    },
    {
     "name": "stderr",
     "output_type": "stream",
     "text": [
      "INFO\tTask(Task-2) nodify.node.140008238416432:node.py:get()- No need to evaluate\n"
     ]
    },
    {
     "name": "stderr",
     "output_type": "stream",
     "text": [
      "INFO\tTask(Task-2) nodify.node.140008202357024:node.py:get()- Evaluated because inputs changed.\n"
     ]
    },
    {
     "name": "stderr",
     "output_type": "stream",
     "text": [
      "INFO\tTask(Task-2) nodify.node.140008202197984:node.py:get()- No need to evaluate\n"
     ]
    },
    {
     "name": "stderr",
     "output_type": "stream",
     "text": [
      "INFO\tTask(Task-2) nodify.node.140008238802336:node.py:get()- Evaluated because inputs changed.\n"
     ]
    },
    {
     "name": "stderr",
     "output_type": "stream",
     "text": [
      "INFO\tTask(Task-2) nodify.node.140008202202544:node.py:get()- No need to evaluate\n"
     ]
    },
    {
     "name": "stderr",
     "output_type": "stream",
     "text": [
      "INFO\tTask(Task-2) nodify.node.140008202200576:node.py:get()- No need to evaluate\n"
     ]
    },
    {
     "name": "stderr",
     "output_type": "stream",
     "text": [
      "INFO\tTask(Task-2) nodify.node.140008202200720:node.py:get()- No need to evaluate\n"
     ]
    },
    {
     "name": "stderr",
     "output_type": "stream",
     "text": [
      "INFO\tTask(Task-2) nodify.node.140008202356592:node.py:get()- No need to evaluate\n"
     ]
    },
    {
     "name": "stderr",
     "output_type": "stream",
     "text": [
      "INFO\tTask(Task-2) nodify.node.140008238803296:node.py:get()- No need to evaluate\n"
     ]
    },
    {
     "name": "stderr",
     "output_type": "stream",
     "text": [
      "INFO\tTask(Task-2) nodify.node.140008202358224:node.py:get()- Evaluated because inputs changed.\n"
     ]
    },
    {
     "name": "stderr",
     "output_type": "stream",
     "text": [
      "INFO\tTask(Task-2) nodify.node.140008202199328:node.py:get()- No need to evaluate\n"
     ]
    },
    {
     "name": "stderr",
     "output_type": "stream",
     "text": [
      "INFO\tTask(Task-2) nodify.node.140008202201440:node.py:get()- No need to evaluate\n"
     ]
    },
    {
     "name": "stderr",
     "output_type": "stream",
     "text": [
      "INFO\tTask(Task-2) nodify.node.140008202201536:node.py:get()- No need to evaluate\n"
     ]
    },
    {
     "name": "stderr",
     "output_type": "stream",
     "text": [
      "INFO\tTask(Task-2) nodify.node.140008202358896:node.py:get()- Evaluated because inputs changed.\n"
     ]
    },
    {
     "name": "stderr",
     "output_type": "stream",
     "text": [
      "INFO\tTask(Task-2) nodify.node.140008202198608:node.py:get()- No need to evaluate\n"
     ]
    },
    {
     "name": "stderr",
     "output_type": "stream",
     "text": [
      "INFO\tTask(Task-2) nodify.node.140008202360336:node.py:get()- Evaluated because inputs changed.\n"
     ]
    },
    {
     "name": "stderr",
     "output_type": "stream",
     "text": [
      "INFO\tTask(Task-2) nodify.node.140008202205856:node.py:get()- No need to evaluate\n"
     ]
    },
    {
     "name": "stderr",
     "output_type": "stream",
     "text": [
      "INFO\tTask(Task-2) nodify.node.140008202206240:node.py:get()- No need to evaluate\n"
     ]
    },
    {
     "name": "stderr",
     "output_type": "stream",
     "text": [
      "INFO\tTask(Task-2) nodify.node.140008202206624:node.py:get()- No need to evaluate\n"
     ]
    },
    {
     "name": "stderr",
     "output_type": "stream",
     "text": [
      "INFO\tTask(Task-2) nodify.node.140008202360144:node.py:get()- Evaluated because inputs changed.\n"
     ]
    },
    {
     "name": "stderr",
     "output_type": "stream",
     "text": [
      "INFO\tTask(Task-2) nodify.node.140008202201248:node.py:get()- No need to evaluate\n"
     ]
    },
    {
     "name": "stderr",
     "output_type": "stream",
     "text": [
      "INFO\tTask(Task-2) nodify.node.140008202200576:node.py:get()- No need to evaluate\n"
     ]
    },
    {
     "name": "stderr",
     "output_type": "stream",
     "text": [
      "INFO\tTask(Task-2) nodify.node.140008202200720:node.py:get()- No need to evaluate\n"
     ]
    },
    {
     "name": "stderr",
     "output_type": "stream",
     "text": [
      "INFO\tTask(Task-2) nodify.node.140008202356592:node.py:get()- No need to evaluate\n"
     ]
    },
    {
     "name": "stderr",
     "output_type": "stream",
     "text": [
      "INFO\tTask(Task-2) nodify.node.140008202199232:node.py:get()- No need to evaluate\n"
     ]
    },
    {
     "name": "stderr",
     "output_type": "stream",
     "text": [
      "INFO\tTask(Task-2) nodify.node.140008202199952:node.py:get()- No need to evaluate\n"
     ]
    },
    {
     "name": "stderr",
     "output_type": "stream",
     "text": [
      "INFO\tTask(Task-2) nodify.node.140008202200576:node.py:get()- No need to evaluate\n"
     ]
    },
    {
     "name": "stderr",
     "output_type": "stream",
     "text": [
      "INFO\tTask(Task-2) nodify.node.140008202200768:node.py:get()- No need to evaluate\n"
     ]
    },
    {
     "name": "stderr",
     "output_type": "stream",
     "text": [
      "INFO\tTask(Task-2) nodify.node.140008238801424:node.py:get()- No need to evaluate\n"
     ]
    },
    {
     "name": "stderr",
     "output_type": "stream",
     "text": [
      "INFO\tTask(Task-2) nodify.node.140008202202544:node.py:get()- No need to evaluate\n"
     ]
    },
    {
     "name": "stderr",
     "output_type": "stream",
     "text": [
      "INFO\tTask(Task-2) nodify.node.140008202200576:node.py:get()- No need to evaluate\n"
     ]
    },
    {
     "name": "stderr",
     "output_type": "stream",
     "text": [
      "INFO\tTask(Task-2) nodify.node.140008202200720:node.py:get()- No need to evaluate\n"
     ]
    },
    {
     "name": "stderr",
     "output_type": "stream",
     "text": [
      "INFO\tTask(Task-2) nodify.node.140008202356592:node.py:get()- No need to evaluate\n"
     ]
    },
    {
     "name": "stderr",
     "output_type": "stream",
     "text": [
      "INFO\tTask(Task-2) nodify.node.140008238416432:node.py:get()- No need to evaluate\n"
     ]
    },
    {
     "name": "stderr",
     "output_type": "stream",
     "text": [
      "INFO\tTask(Task-2) nodify.node.140008202357024:node.py:get()- No need to evaluate\n"
     ]
    },
    {
     "name": "stderr",
     "output_type": "stream",
     "text": [
      "INFO\tTask(Task-2) nodify.node.140008202197984:node.py:get()- No need to evaluate\n"
     ]
    },
    {
     "name": "stderr",
     "output_type": "stream",
     "text": [
      "INFO\tTask(Task-2) nodify.node.140008238802336:node.py:get()- No need to evaluate\n"
     ]
    },
    {
     "name": "stderr",
     "output_type": "stream",
     "text": [
      "INFO\tTask(Task-2) nodify.node.140008202202544:node.py:get()- No need to evaluate\n"
     ]
    },
    {
     "name": "stderr",
     "output_type": "stream",
     "text": [
      "INFO\tTask(Task-2) nodify.node.140008202200576:node.py:get()- No need to evaluate\n"
     ]
    },
    {
     "name": "stderr",
     "output_type": "stream",
     "text": [
      "INFO\tTask(Task-2) nodify.node.140008202200720:node.py:get()- No need to evaluate\n"
     ]
    },
    {
     "name": "stderr",
     "output_type": "stream",
     "text": [
      "INFO\tTask(Task-2) nodify.node.140008202356592:node.py:get()- No need to evaluate\n"
     ]
    },
    {
     "name": "stderr",
     "output_type": "stream",
     "text": [
      "INFO\tTask(Task-2) nodify.node.140008238803296:node.py:get()- No need to evaluate\n"
     ]
    },
    {
     "name": "stderr",
     "output_type": "stream",
     "text": [
      "INFO\tTask(Task-2) nodify.node.140008202358224:node.py:get()- No need to evaluate\n"
     ]
    },
    {
     "name": "stderr",
     "output_type": "stream",
     "text": [
      "INFO\tTask(Task-2) nodify.node.140008202199328:node.py:get()- No need to evaluate\n"
     ]
    },
    {
     "name": "stderr",
     "output_type": "stream",
     "text": [
      "INFO\tTask(Task-2) nodify.node.140008202201440:node.py:get()- No need to evaluate\n"
     ]
    },
    {
     "name": "stderr",
     "output_type": "stream",
     "text": [
      "INFO\tTask(Task-2) nodify.node.140008202201536:node.py:get()- No need to evaluate\n"
     ]
    },
    {
     "name": "stderr",
     "output_type": "stream",
     "text": [
      "INFO\tTask(Task-2) nodify.node.140008202358896:node.py:get()- No need to evaluate\n"
     ]
    },
    {
     "name": "stderr",
     "output_type": "stream",
     "text": [
      "INFO\tTask(Task-2) nodify.node.140008202199328:node.py:get()- No need to evaluate\n"
     ]
    },
    {
     "name": "stderr",
     "output_type": "stream",
     "text": [
      "INFO\tTask(Task-2) nodify.node.140008202201440:node.py:get()- No need to evaluate\n"
     ]
    },
    {
     "name": "stderr",
     "output_type": "stream",
     "text": [
      "INFO\tTask(Task-2) nodify.node.140008202359184:node.py:get()- Evaluated because inputs changed.\n"
     ]
    },
    {
     "name": "stderr",
     "output_type": "stream",
     "text": [
      "INFO\tTask(Task-2) nodify.node.140008202359952:node.py:get()- Evaluated because inputs changed.\n"
     ]
    },
    {
     "name": "stderr",
     "output_type": "stream",
     "text": [
      "INFO\tTask(Task-2) nodify.node.140008202202928:node.py:get()- No need to evaluate\n"
     ]
    },
    {
     "name": "stderr",
     "output_type": "stream",
     "text": [
      "INFO\tTask(Task-2) nodify.node.140008202360288:node.py:get()- Evaluated because inputs changed.\n"
     ]
    },
    {
     "name": "stderr",
     "output_type": "stream",
     "text": [
      "INFO\tTask(Task-2) nodify.node.140008202199328:node.py:get()- No need to evaluate\n"
     ]
    },
    {
     "name": "stderr",
     "output_type": "stream",
     "text": [
      "INFO\tTask(Task-2) nodify.node.140008202201440:node.py:get()- No need to evaluate\n"
     ]
    },
    {
     "name": "stderr",
     "output_type": "stream",
     "text": [
      "INFO\tTask(Task-2) nodify.node.140008202200576:node.py:get()- No need to evaluate\n"
     ]
    },
    {
     "name": "stderr",
     "output_type": "stream",
     "text": [
      "INFO\tTask(Task-2) nodify.node.140008202200720:node.py:get()- No need to evaluate\n"
     ]
    },
    {
     "name": "stderr",
     "output_type": "stream",
     "text": [
      "INFO\tTask(Task-2) nodify.node.140008202356592:node.py:get()- No need to evaluate\n"
     ]
    },
    {
     "name": "stderr",
     "output_type": "stream",
     "text": [
      "INFO\tTask(Task-2) nodify.node.140008202199232:node.py:get()- No need to evaluate\n"
     ]
    },
    {
     "name": "stderr",
     "output_type": "stream",
     "text": [
      "INFO\tTask(Task-2) nodify.node.140008202199952:node.py:get()- No need to evaluate\n"
     ]
    },
    {
     "name": "stderr",
     "output_type": "stream",
     "text": [
      "INFO\tTask(Task-2) nodify.node.140008202200576:node.py:get()- No need to evaluate\n"
     ]
    },
    {
     "name": "stderr",
     "output_type": "stream",
     "text": [
      "INFO\tTask(Task-2) nodify.node.140008202200768:node.py:get()- No need to evaluate\n"
     ]
    },
    {
     "name": "stderr",
     "output_type": "stream",
     "text": [
      "INFO\tTask(Task-2) nodify.node.140008238801424:node.py:get()- No need to evaluate\n"
     ]
    },
    {
     "name": "stderr",
     "output_type": "stream",
     "text": [
      "INFO\tTask(Task-2) nodify.node.140008202202544:node.py:get()- No need to evaluate\n"
     ]
    },
    {
     "name": "stderr",
     "output_type": "stream",
     "text": [
      "INFO\tTask(Task-2) nodify.node.140008202200576:node.py:get()- No need to evaluate\n"
     ]
    },
    {
     "name": "stderr",
     "output_type": "stream",
     "text": [
      "INFO\tTask(Task-2) nodify.node.140008202200720:node.py:get()- No need to evaluate\n"
     ]
    },
    {
     "name": "stderr",
     "output_type": "stream",
     "text": [
      "INFO\tTask(Task-2) nodify.node.140008202356592:node.py:get()- No need to evaluate\n"
     ]
    },
    {
     "name": "stderr",
     "output_type": "stream",
     "text": [
      "INFO\tTask(Task-2) nodify.node.140008238416432:node.py:get()- No need to evaluate\n"
     ]
    },
    {
     "name": "stderr",
     "output_type": "stream",
     "text": [
      "INFO\tTask(Task-2) nodify.node.140008202357024:node.py:get()- No need to evaluate\n"
     ]
    },
    {
     "name": "stderr",
     "output_type": "stream",
     "text": [
      "INFO\tTask(Task-2) nodify.node.140008202197984:node.py:get()- No need to evaluate\n"
     ]
    },
    {
     "name": "stderr",
     "output_type": "stream",
     "text": [
      "INFO\tTask(Task-2) nodify.node.140008238802336:node.py:get()- No need to evaluate\n"
     ]
    },
    {
     "name": "stderr",
     "output_type": "stream",
     "text": [
      "INFO\tTask(Task-2) nodify.node.140008202202544:node.py:get()- No need to evaluate\n"
     ]
    },
    {
     "name": "stderr",
     "output_type": "stream",
     "text": [
      "INFO\tTask(Task-2) nodify.node.140008202200576:node.py:get()- No need to evaluate\n"
     ]
    },
    {
     "name": "stderr",
     "output_type": "stream",
     "text": [
      "INFO\tTask(Task-2) nodify.node.140008202200720:node.py:get()- No need to evaluate\n"
     ]
    },
    {
     "name": "stderr",
     "output_type": "stream",
     "text": [
      "INFO\tTask(Task-2) nodify.node.140008202356592:node.py:get()- No need to evaluate\n"
     ]
    },
    {
     "name": "stderr",
     "output_type": "stream",
     "text": [
      "INFO\tTask(Task-2) nodify.node.140008238803296:node.py:get()- No need to evaluate\n"
     ]
    },
    {
     "name": "stderr",
     "output_type": "stream",
     "text": [
      "INFO\tTask(Task-2) nodify.node.140008202358224:node.py:get()- No need to evaluate\n"
     ]
    },
    {
     "name": "stderr",
     "output_type": "stream",
     "text": [
      "INFO\tTask(Task-2) nodify.node.140008202199328:node.py:get()- No need to evaluate\n"
     ]
    },
    {
     "name": "stderr",
     "output_type": "stream",
     "text": [
      "INFO\tTask(Task-2) nodify.node.140008202201440:node.py:get()- No need to evaluate\n"
     ]
    },
    {
     "name": "stderr",
     "output_type": "stream",
     "text": [
      "INFO\tTask(Task-2) nodify.node.140008202201536:node.py:get()- No need to evaluate\n"
     ]
    },
    {
     "name": "stderr",
     "output_type": "stream",
     "text": [
      "INFO\tTask(Task-2) nodify.node.140008202358896:node.py:get()- No need to evaluate\n"
     ]
    },
    {
     "name": "stderr",
     "output_type": "stream",
     "text": [
      "INFO\tTask(Task-2) nodify.node.140008202199328:node.py:get()- No need to evaluate\n"
     ]
    },
    {
     "name": "stderr",
     "output_type": "stream",
     "text": [
      "INFO\tTask(Task-2) nodify.node.140008202201440:node.py:get()- No need to evaluate\n"
     ]
    },
    {
     "name": "stderr",
     "output_type": "stream",
     "text": [
      "INFO\tTask(Task-2) nodify.node.140008202359184:node.py:get()- No need to evaluate\n"
     ]
    },
    {
     "name": "stderr",
     "output_type": "stream",
     "text": [
      "INFO\tTask(Task-2) nodify.node.140008202202544:node.py:get()- No need to evaluate\n"
     ]
    },
    {
     "name": "stderr",
     "output_type": "stream",
     "text": [
      "INFO\tTask(Task-2) nodify.node.140008202200576:node.py:get()- No need to evaluate\n"
     ]
    },
    {
     "name": "stderr",
     "output_type": "stream",
     "text": [
      "INFO\tTask(Task-2) nodify.node.140008202200720:node.py:get()- No need to evaluate\n"
     ]
    },
    {
     "name": "stderr",
     "output_type": "stream",
     "text": [
      "INFO\tTask(Task-2) nodify.node.140008202356592:node.py:get()- No need to evaluate\n"
     ]
    },
    {
     "name": "stderr",
     "output_type": "stream",
     "text": [
      "INFO\tTask(Task-2) nodify.node.140008238803296:node.py:get()- No need to evaluate\n"
     ]
    },
    {
     "name": "stderr",
     "output_type": "stream",
     "text": [
      "INFO\tTask(Task-2) nodify.node.140008202361200:node.py:get()- Evaluated because inputs changed.\n"
     ]
    },
    {
     "name": "stderr",
     "output_type": "stream",
     "text": [
      "INFO\tTask(Task-2) nodify.node.140008202203312:node.py:get()- No need to evaluate\n"
     ]
    },
    {
     "name": "stderr",
     "output_type": "stream",
     "text": [
      "INFO\tTask(Task-2) nodify.node.140008202204176:node.py:get()- No need to evaluate\n"
     ]
    },
    {
     "name": "stderr",
     "output_type": "stream",
     "text": [
      "INFO\tTask(Task-2) nodify.node.140008202204368:node.py:get()- No need to evaluate\n"
     ]
    },
    {
     "name": "stderr",
     "output_type": "stream",
     "text": [
      "INFO\tTask(Task-2) nodify.node.140008202204704:node.py:get()- No need to evaluate\n"
     ]
    },
    {
     "name": "stderr",
     "output_type": "stream",
     "text": [
      "INFO\tTask(Task-2) nodify.node.140008202075744:node.py:get()- No need to evaluate\n"
     ]
    },
    {
     "name": "stderr",
     "output_type": "stream",
     "text": [
      "INFO\tTask(Task-2) nodify.node.140008202361488:node.py:get()- Evaluated because inputs changed.\n"
     ]
    },
    {
     "name": "stderr",
     "output_type": "stream",
     "text": [
      "INFO\tTask(Task-2) nodify.node.140008202200576:node.py:get()- No need to evaluate\n"
     ]
    },
    {
     "name": "stderr",
     "output_type": "stream",
     "text": [
      "INFO\tTask(Task-2) nodify.node.140008202200720:node.py:get()- No need to evaluate\n"
     ]
    },
    {
     "name": "stderr",
     "output_type": "stream",
     "text": [
      "INFO\tTask(Task-2) nodify.node.140008202356592:node.py:get()- No need to evaluate\n"
     ]
    },
    {
     "name": "stderr",
     "output_type": "stream",
     "text": [
      "INFO\tTask(Task-2) nodify.node.140008202199232:node.py:get()- No need to evaluate\n"
     ]
    },
    {
     "name": "stderr",
     "output_type": "stream",
     "text": [
      "INFO\tTask(Task-2) nodify.node.140008202199952:node.py:get()- No need to evaluate\n"
     ]
    },
    {
     "name": "stderr",
     "output_type": "stream",
     "text": [
      "INFO\tTask(Task-2) nodify.node.140008202200576:node.py:get()- No need to evaluate\n"
     ]
    },
    {
     "name": "stderr",
     "output_type": "stream",
     "text": [
      "INFO\tTask(Task-2) nodify.node.140008202200768:node.py:get()- No need to evaluate\n"
     ]
    },
    {
     "name": "stderr",
     "output_type": "stream",
     "text": [
      "INFO\tTask(Task-2) nodify.node.140008238801424:node.py:get()- No need to evaluate\n"
     ]
    },
    {
     "name": "stderr",
     "output_type": "stream",
     "text": [
      "INFO\tTask(Task-2) nodify.node.140008202202544:node.py:get()- No need to evaluate\n"
     ]
    },
    {
     "name": "stderr",
     "output_type": "stream",
     "text": [
      "INFO\tTask(Task-2) nodify.node.140008202200576:node.py:get()- No need to evaluate\n"
     ]
    },
    {
     "name": "stderr",
     "output_type": "stream",
     "text": [
      "INFO\tTask(Task-2) nodify.node.140008202200720:node.py:get()- No need to evaluate\n"
     ]
    },
    {
     "name": "stderr",
     "output_type": "stream",
     "text": [
      "INFO\tTask(Task-2) nodify.node.140008202356592:node.py:get()- No need to evaluate\n"
     ]
    },
    {
     "name": "stderr",
     "output_type": "stream",
     "text": [
      "INFO\tTask(Task-2) nodify.node.140008238416432:node.py:get()- No need to evaluate\n"
     ]
    },
    {
     "name": "stderr",
     "output_type": "stream",
     "text": [
      "INFO\tTask(Task-2) nodify.node.140008202357024:node.py:get()- No need to evaluate\n"
     ]
    },
    {
     "name": "stderr",
     "output_type": "stream",
     "text": [
      "INFO\tTask(Task-2) nodify.node.140008202205088:node.py:get()- No need to evaluate\n"
     ]
    },
    {
     "name": "stderr",
     "output_type": "stream",
     "text": [
      "INFO\tTask(Task-2) nodify.node.140008202199328:node.py:get()- No need to evaluate\n"
     ]
    },
    {
     "name": "stderr",
     "output_type": "stream",
     "text": [
      "INFO\tTask(Task-2) nodify.node.140008202201440:node.py:get()- No need to evaluate\n"
     ]
    },
    {
     "name": "stderr",
     "output_type": "stream",
     "text": [
      "INFO\tTask(Task-2) nodify.node.140008202205472:node.py:get()- No need to evaluate\n"
     ]
    },
    {
     "name": "stderr",
     "output_type": "stream",
     "text": [
      "INFO\tTask(Task-2) nodify.node.140008202362256:node.py:get()- Evaluated because inputs changed.\n"
     ]
    },
    {
     "name": "stderr",
     "output_type": "stream",
     "text": [
      "INFO\tTask(Task-2) nodify.node.140008202207008:node.py:get()- No need to evaluate\n"
     ]
    },
    {
     "name": "stderr",
     "output_type": "stream",
     "text": [
      "INFO\tTask(Task-2) nodify.node.140008202200576:node.py:get()- No need to evaluate\n"
     ]
    },
    {
     "name": "stderr",
     "output_type": "stream",
     "text": [
      "INFO\tTask(Task-2) nodify.node.140008202200768:node.py:get()- No need to evaluate\n"
     ]
    },
    {
     "name": "stderr",
     "output_type": "stream",
     "text": [
      "INFO\tTask(Task-2) nodify.node.140008238801424:node.py:get()- No need to evaluate\n"
     ]
    },
    {
     "name": "stderr",
     "output_type": "stream",
     "text": [
      "INFO\tTask(Task-2) nodify.node.140008202202544:node.py:get()- No need to evaluate\n"
     ]
    },
    {
     "name": "stderr",
     "output_type": "stream",
     "text": [
      "INFO\tTask(Task-2) nodify.node.140008202200576:node.py:get()- No need to evaluate\n"
     ]
    },
    {
     "name": "stderr",
     "output_type": "stream",
     "text": [
      "INFO\tTask(Task-2) nodify.node.140008202200720:node.py:get()- No need to evaluate\n"
     ]
    },
    {
     "name": "stderr",
     "output_type": "stream",
     "text": [
      "INFO\tTask(Task-2) nodify.node.140008202356592:node.py:get()- No need to evaluate\n"
     ]
    },
    {
     "name": "stderr",
     "output_type": "stream",
     "text": [
      "INFO\tTask(Task-2) nodify.node.140008238416432:node.py:get()- No need to evaluate\n"
     ]
    },
    {
     "name": "stderr",
     "output_type": "stream",
     "text": [
      "INFO\tTask(Task-2) nodify.node.140008202199328:node.py:get()- No need to evaluate\n"
     ]
    },
    {
     "name": "stderr",
     "output_type": "stream",
     "text": [
      "INFO\tTask(Task-2) nodify.node.140008202201440:node.py:get()- No need to evaluate\n"
     ]
    },
    {
     "name": "stderr",
     "output_type": "stream",
     "text": [
      "INFO\tTask(Task-2) nodify.node.140008202202544:node.py:get()- No need to evaluate\n"
     ]
    },
    {
     "name": "stderr",
     "output_type": "stream",
     "text": [
      "INFO\tTask(Task-2) nodify.node.140008202200576:node.py:get()- No need to evaluate\n"
     ]
    },
    {
     "name": "stderr",
     "output_type": "stream",
     "text": [
      "INFO\tTask(Task-2) nodify.node.140008202200720:node.py:get()- No need to evaluate\n"
     ]
    },
    {
     "name": "stderr",
     "output_type": "stream",
     "text": [
      "INFO\tTask(Task-2) nodify.node.140008202356592:node.py:get()- No need to evaluate\n"
     ]
    },
    {
     "name": "stderr",
     "output_type": "stream",
     "text": [
      "INFO\tTask(Task-2) nodify.node.140008238803296:node.py:get()- No need to evaluate\n"
     ]
    },
    {
     "name": "stderr",
     "output_type": "stream",
     "text": [
      "INFO\tTask(Task-2) nodify.node.140008202354912:node.py:get()- No need to evaluate\n"
     ]
    },
    {
     "name": "stderr",
     "output_type": "stream",
     "text": [
      "INFO\tTask(Task-2) nodify.node.140008202200912:node.py:get()- No need to evaluate\n"
     ]
    },
    {
     "name": "stderr",
     "output_type": "stream",
     "text": [
      "INFO\tTask(Task-2) nodify.node.140008202064944:node.py:get()- Evaluated because inputs changed.\n"
     ]
    },
    {
     "name": "stderr",
     "output_type": "stream",
     "text": [
      "INFO\tTask(Task-2) nodify.node.140008239474560:node.py:get()- Evaluated because inputs changed.\n"
     ]
    },
    {
     "name": "stderr",
     "output_type": "stream",
     "text": [
      "INFO\tTask(Task-2) nodify.node.140008202363168:node.py:get()- Evaluated because inputs changed.\n"
     ]
    },
    {
     "data": {
      "application/vnd.plotly.v1+json": {
       "config": {
        "plotlyServerURL": "https://plot.ly"
       },
       "data": [
        {
         "coloraxis": "coloraxis",
         "meta": {},
         "opacity": 1,
         "type": "heatmap",
         "x": {
          "bdata": "AAAAAAAAAAB15iMuBampP3XmIy4Fqbk/2Oya4sM+wz915iMuBanJPwlw1jyjCdA/2Oya4sM+0z+maV+I5HPWP3XmIy4Fqdk/RGPo0yXe3D8JcNY8owngP3CuuI8zpOE/2Oya4sM+4z8/K301VNnkP6ZpX4jkc+Y/DqhB23QO6D915iMuBanpP9wkBoGVQ+s/RGPo0yXe7D+rocomtnjuPwlw1jyjCfA/PY9HZuvW8D9wrriPM6TxP6TNKbl7cfI/2Oya4sM+8z8LDAwMDAz0Pz8rfTVU2fQ/c0ruXpym9T+maV+I5HP2P9qI0LEsQfc/DqhB23QO+D9Bx7IEvdv4P3XmIy4Fqfk/qQWVV012+j/cJAaBlUP7PxBEd6rdEPw/RGPo0yXe/D93gln9bav9P6uhyia2eP4/38A7UP5F/z8JcNY8owkAQKP/jlFHcABAPY9HZuvWAEDXHgB7jz0BQHCuuI8zpAFACj5xpNcKAkCkzSm5e3ECQD5d4s0f2AJA2Oya4sM+A0ByfFP3Z6UDQAsMDAwMDARApZvEILByBEA/K301VNkEQNm6NUr4PwVAc0ruXpymBUAN2qZzQA0GQKZpX4jkcwZAQPkXnYjaBkDaiNCxLEEHQHQYicbQpwdADqhB23QOCECoN/rvGHUIQEHHsgS92whA21ZrGWFCCUB15iMuBakJQA923EKpDwpAqQWVV012CkBClU1s8dwKQNwkBoGVQwtAdrS+lTmqC0AQRHeq3RAMQKrTL7+BdwxARGPo0yXeDEDd8qDoyUQNQHeCWf1tqw1AERISEhISDkCrocomtngOQEUxgzta3w5A38A7UP5FD0B4UPRkoqwPQAlw1jyjCRBA1rcyR/U8EECj/45RR3AQQHBH61uZoxBAPY9HZuvWEEA=",
          "dtype": "f8"
         },
         "y": {
          "bdata": "AAAAAAAAAAAmFXdeC7OpPyYVd14Ls7k/3E/ZhkhGwz8mFXdeC7PJPzhtChvnD9A/3E/ZhkhG0z+BMqjyqXzWPyYVd14Ls9k/y/dFymzp3D84bQob5w/gP4re8dAXq+E/3E/ZhkhG4z8vwcA8eeHkP4EyqPKpfOY/1KOPqNoX6D8mFXdeC7PpP3iGXhQ8Tus/y/dFymzp7D8daS2AnYTuPzhtChvnD/A/4SX+dX/d8D+K3vHQF6vxPzOX5SuwePI/3E/ZhkhG8z+GCM3h4BP0Py/BwDx54fQ/2Hm0lxGv9T+BMqjyqXz2Pyrrm01CSvc/1KOPqNoX+D99XIMDc+X4PyYVd14Ls/k/z81quaOA+j94hl4UPE77PyI/Um/UG/w/y/dFymzp/D90sDklBbf9Px1pLYCdhP4/xiEh2zVS/z84bQob5w8AQIxJhEizdgBA4SX+dX/dAEA2AnijS0QBQIre8dAXqwFA37pr/uMRAkAzl+UrsHgCQIhzX1l83wJA3E/ZhkhGA0A=",
          "dtype": "f8"
         },
         "z": {
          "bdata": "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",
          "dtype": "f8",
          "shape": "49, 85"
         },
         "zsmooth": false
        },
        {
         "meta": {},
         "mode": "lines",
         "name": "Unit cell",
         "type": "scatter",
         "x": {
          "bdata": "AAAAAAAAAAAAAAAAAAAAAArXo3A9ChFACtejcD0KEUAAAAAAAAAAAAAAAAAAAAAAAAAAAAAA+H8AAAAAAAAAAAAAAAAAAAAAAAAAAAAAAAAK16NwPQoRQArXo3A9ChFAAAAAAAAAAAAAAAAAAAD4fwrXo3A9ChFACtejcD0KEUAAAAAAAAD4fwrXo3A9ChFACtejcD0KEUA=",
          "dtype": "f8"
         },
         "y": {
          "bdata": "AAAAAAAAAAAxLFO0FK0DQDEsU7QUrQNAMSxTtBStA0AxLFO0FK0DQDEsU7QUrQNAAAAAAAAA+H8xLFO0FK0DQAAAAAAAAAAAAAAAAAAAAAAAAAAAAAAAAAAAAAAAAAAAAAAAAAAAAAAAAAAAAAD4fzEsU7QUrQNAAAAAAAAAAAAAAAAAAAD4fzEsU7QUrQNAAAAAAAAAAAA=",
          "dtype": "f8"
         }
        }
       ],
       "layout": {
        "coloraxis": {
         "showscale": true
        },
        "scene": {
         "aspectmode": "data",
         "xaxis": {
          "title": {
           "text": "X axis [Ang]"
          }
         },
         "yaxis": {
          "title": {
           "text": "Y axis [Ang]"
          }
         }
        },
        "template": {
         "layout": {
          "hovermode": "closest",
          "paper_bgcolor": "white",
          "plot_bgcolor": "white",
          "scene": {
           "xaxis": {
            "color": "black",
            "gridcolor": "#ccc",
            "gridwidth": 1,
            "linewidth": 1,
            "mirror": true,
            "showgrid": false,
            "showline": true,
            "ticklen": 5,
            "ticks": "outside",
            "ticksuffix": " ",
            "visible": true,
            "zeroline": false,
            "zerolinecolor": "#ccc",
            "zerolinewidth": 1
           },
           "yaxis": {
            "color": "black",
            "gridcolor": "#ccc",
            "gridwidth": 1,
            "linewidth": 1,
            "mirror": true,
            "showgrid": false,
            "showline": true,
            "ticklen": 5,
            "ticks": "outside",
            "ticksuffix": " ",
            "visible": true,
            "zeroline": false,
            "zerolinecolor": "#ccc",
            "zerolinewidth": 1
           },
           "zaxis": {
            "color": "black",
            "gridcolor": "#ccc",
            "gridwidth": 1,
            "linewidth": 1,
            "mirror": true,
            "showgrid": false,
            "showline": true,
            "ticklen": 5,
            "ticks": "outside",
            "ticksuffix": " ",
            "visible": true,
            "zeroline": false,
            "zerolinecolor": "#ccc",
            "zerolinewidth": 1
           }
          },
          "xaxis": {
           "color": "black",
           "gridcolor": "#ccc",
           "gridwidth": 1,
           "linewidth": 1,
           "mirror": true,
           "showgrid": false,
           "showline": true,
           "ticklen": 5,
           "ticks": "outside",
           "ticksuffix": " ",
           "visible": true,
           "zeroline": false,
           "zerolinecolor": "#ccc",
           "zerolinewidth": 1
          },
          "yaxis": {
           "color": "black",
           "gridcolor": "#ccc",
           "gridwidth": 1,
           "linewidth": 1,
           "mirror": true,
           "showgrid": false,
           "showline": true,
           "ticklen": 5,
           "ticks": "outside",
           "ticksuffix": " ",
           "visible": true,
           "zeroline": false,
           "zerolinecolor": "#ccc",
           "zerolinewidth": 1
          }
         }
        },
        "xaxis": {
         "scaleanchor": "y",
         "scaleratio": 1,
         "title": {
          "text": "X axis [Ang]"
         }
        },
        "yaxis": {
         "title": {
          "text": "Y axis [Ang]"
         }
        }
       }
      }
     },
     "metadata": {},
     "output_type": "display_data"
    }
   ],
   "source": [
    "plot.update_inputs(grid_prec=0.05)"
   ]
  },
  {
   "cell_type": "markdown",
   "metadata": {},
   "source": [
    "Much better, isn't it? Notice how it didn't look that bad in 3d, because the grid is smooth, so it's values are nicely interpolated. You can also appreciate this by setting `smooth` to `True` in 2D, which does an \"OK job\" at guessing the values."
   ]
  },
  {
   "cell_type": "code",
   "execution_count": 7,
   "metadata": {
    "execution": {
     "iopub.execute_input": "2025-09-23T10:48:35.592397Z",
     "iopub.status.busy": "2025-09-23T10:48:35.592225Z",
     "iopub.status.idle": "2025-09-23T10:48:35.836171Z",
     "shell.execute_reply": "2025-09-23T10:48:35.835710Z"
    }
   },
   "outputs": [
    {
     "name": "stderr",
     "output_type": "stream",
     "text": [
      "INFO\tTask(Task-2) nodify.node.140008202355296:node.py:get()- No need to evaluate\n"
     ]
    },
    {
     "name": "stderr",
     "output_type": "stream",
     "text": [
      "INFO\tTask(Task-2) nodify.node.140008202200576:node.py:get()- No need to evaluate\n"
     ]
    },
    {
     "name": "stderr",
     "output_type": "stream",
     "text": [
      "INFO\tTask(Task-2) nodify.node.140008202200720:node.py:get()- No need to evaluate\n"
     ]
    },
    {
     "name": "stderr",
     "output_type": "stream",
     "text": [
      "INFO\tTask(Task-2) nodify.node.140008202356592:node.py:get()- No need to evaluate\n"
     ]
    },
    {
     "name": "stderr",
     "output_type": "stream",
     "text": [
      "INFO\tTask(Task-2) nodify.node.140008202199232:node.py:get()- Evaluated because inputs changed.\n"
     ]
    },
    {
     "name": "stderr",
     "output_type": "stream",
     "text": [
      "INFO\tTask(Task-2) nodify.node.140008202199952:node.py:get()- No need to evaluate\n"
     ]
    },
    {
     "name": "stderr",
     "output_type": "stream",
     "text": [
      "INFO\tTask(Task-2) nodify.node.140008202200576:node.py:get()- No need to evaluate\n"
     ]
    },
    {
     "name": "stderr",
     "output_type": "stream",
     "text": [
      "INFO\tTask(Task-2) nodify.node.140008202200768:node.py:get()- No need to evaluate\n"
     ]
    },
    {
     "name": "stderr",
     "output_type": "stream",
     "text": [
      "INFO\tTask(Task-2) nodify.node.140008238801424:node.py:get()- No need to evaluate\n"
     ]
    },
    {
     "name": "stderr",
     "output_type": "stream",
     "text": [
      "INFO\tTask(Task-2) nodify.node.140008202202544:node.py:get()- No need to evaluate\n"
     ]
    },
    {
     "name": "stderr",
     "output_type": "stream",
     "text": [
      "INFO\tTask(Task-2) nodify.node.140008202200576:node.py:get()- No need to evaluate\n"
     ]
    },
    {
     "name": "stderr",
     "output_type": "stream",
     "text": [
      "INFO\tTask(Task-2) nodify.node.140008202200720:node.py:get()- No need to evaluate\n"
     ]
    },
    {
     "name": "stderr",
     "output_type": "stream",
     "text": [
      "INFO\tTask(Task-2) nodify.node.140008202356592:node.py:get()- No need to evaluate\n"
     ]
    },
    {
     "name": "stderr",
     "output_type": "stream",
     "text": [
      "INFO\tTask(Task-2) nodify.node.140008238416432:node.py:get()- No need to evaluate\n"
     ]
    },
    {
     "name": "stderr",
     "output_type": "stream",
     "text": [
      "INFO\tTask(Task-2) nodify.node.140008202357024:node.py:get()- Evaluated because inputs changed.\n"
     ]
    },
    {
     "name": "stderr",
     "output_type": "stream",
     "text": [
      "INFO\tTask(Task-2) nodify.node.140008202197984:node.py:get()- No need to evaluate\n"
     ]
    },
    {
     "name": "stderr",
     "output_type": "stream",
     "text": [
      "INFO\tTask(Task-2) nodify.node.140008238802336:node.py:get()- Evaluated because inputs changed.\n"
     ]
    },
    {
     "name": "stderr",
     "output_type": "stream",
     "text": [
      "INFO\tTask(Task-2) nodify.node.140008202202544:node.py:get()- No need to evaluate\n"
     ]
    },
    {
     "name": "stderr",
     "output_type": "stream",
     "text": [
      "INFO\tTask(Task-2) nodify.node.140008202200576:node.py:get()- No need to evaluate\n"
     ]
    },
    {
     "name": "stderr",
     "output_type": "stream",
     "text": [
      "INFO\tTask(Task-2) nodify.node.140008202200720:node.py:get()- No need to evaluate\n"
     ]
    },
    {
     "name": "stderr",
     "output_type": "stream",
     "text": [
      "INFO\tTask(Task-2) nodify.node.140008202356592:node.py:get()- No need to evaluate\n"
     ]
    },
    {
     "name": "stderr",
     "output_type": "stream",
     "text": [
      "INFO\tTask(Task-2) nodify.node.140008238803296:node.py:get()- No need to evaluate\n"
     ]
    },
    {
     "name": "stderr",
     "output_type": "stream",
     "text": [
      "INFO\tTask(Task-2) nodify.node.140008202358224:node.py:get()- Evaluated because inputs changed.\n"
     ]
    },
    {
     "name": "stderr",
     "output_type": "stream",
     "text": [
      "INFO\tTask(Task-2) nodify.node.140008202199328:node.py:get()- No need to evaluate\n"
     ]
    },
    {
     "name": "stderr",
     "output_type": "stream",
     "text": [
      "INFO\tTask(Task-2) nodify.node.140008202201440:node.py:get()- No need to evaluate\n"
     ]
    },
    {
     "name": "stderr",
     "output_type": "stream",
     "text": [
      "INFO\tTask(Task-2) nodify.node.140008202201536:node.py:get()- No need to evaluate\n"
     ]
    },
    {
     "name": "stderr",
     "output_type": "stream",
     "text": [
      "INFO\tTask(Task-2) nodify.node.140008202358896:node.py:get()- Evaluated because inputs changed.\n"
     ]
    },
    {
     "name": "stderr",
     "output_type": "stream",
     "text": [
      "INFO\tTask(Task-2) nodify.node.140008202198608:node.py:get()- No need to evaluate\n"
     ]
    },
    {
     "name": "stderr",
     "output_type": "stream",
     "text": [
      "INFO\tTask(Task-2) nodify.node.140008202360336:node.py:get()- Evaluated because inputs changed.\n"
     ]
    },
    {
     "name": "stderr",
     "output_type": "stream",
     "text": [
      "INFO\tTask(Task-2) nodify.node.140008202205856:node.py:get()- No need to evaluate\n"
     ]
    },
    {
     "name": "stderr",
     "output_type": "stream",
     "text": [
      "INFO\tTask(Task-2) nodify.node.140008202206240:node.py:get()- No need to evaluate\n"
     ]
    },
    {
     "name": "stderr",
     "output_type": "stream",
     "text": [
      "INFO\tTask(Task-2) nodify.node.140008202206624:node.py:get()- No need to evaluate\n"
     ]
    },
    {
     "name": "stderr",
     "output_type": "stream",
     "text": [
      "INFO\tTask(Task-2) nodify.node.140008202360144:node.py:get()- Evaluated because inputs changed.\n"
     ]
    },
    {
     "name": "stderr",
     "output_type": "stream",
     "text": [
      "INFO\tTask(Task-2) nodify.node.140008202201248:node.py:get()- No need to evaluate\n"
     ]
    },
    {
     "name": "stderr",
     "output_type": "stream",
     "text": [
      "INFO\tTask(Task-2) nodify.node.140008202200576:node.py:get()- No need to evaluate\n"
     ]
    },
    {
     "name": "stderr",
     "output_type": "stream",
     "text": [
      "INFO\tTask(Task-2) nodify.node.140008202200720:node.py:get()- No need to evaluate\n"
     ]
    },
    {
     "name": "stderr",
     "output_type": "stream",
     "text": [
      "INFO\tTask(Task-2) nodify.node.140008202356592:node.py:get()- No need to evaluate\n"
     ]
    },
    {
     "name": "stderr",
     "output_type": "stream",
     "text": [
      "INFO\tTask(Task-2) nodify.node.140008202199232:node.py:get()- No need to evaluate\n"
     ]
    },
    {
     "name": "stderr",
     "output_type": "stream",
     "text": [
      "INFO\tTask(Task-2) nodify.node.140008202199952:node.py:get()- No need to evaluate\n"
     ]
    },
    {
     "name": "stderr",
     "output_type": "stream",
     "text": [
      "INFO\tTask(Task-2) nodify.node.140008202200576:node.py:get()- No need to evaluate\n"
     ]
    },
    {
     "name": "stderr",
     "output_type": "stream",
     "text": [
      "INFO\tTask(Task-2) nodify.node.140008202200768:node.py:get()- No need to evaluate\n"
     ]
    },
    {
     "name": "stderr",
     "output_type": "stream",
     "text": [
      "INFO\tTask(Task-2) nodify.node.140008238801424:node.py:get()- No need to evaluate\n"
     ]
    },
    {
     "name": "stderr",
     "output_type": "stream",
     "text": [
      "INFO\tTask(Task-2) nodify.node.140008202202544:node.py:get()- No need to evaluate\n"
     ]
    },
    {
     "name": "stderr",
     "output_type": "stream",
     "text": [
      "INFO\tTask(Task-2) nodify.node.140008202200576:node.py:get()- No need to evaluate\n"
     ]
    },
    {
     "name": "stderr",
     "output_type": "stream",
     "text": [
      "INFO\tTask(Task-2) nodify.node.140008202200720:node.py:get()- No need to evaluate\n"
     ]
    },
    {
     "name": "stderr",
     "output_type": "stream",
     "text": [
      "INFO\tTask(Task-2) nodify.node.140008202356592:node.py:get()- No need to evaluate\n"
     ]
    },
    {
     "name": "stderr",
     "output_type": "stream",
     "text": [
      "INFO\tTask(Task-2) nodify.node.140008238416432:node.py:get()- No need to evaluate\n"
     ]
    },
    {
     "name": "stderr",
     "output_type": "stream",
     "text": [
      "INFO\tTask(Task-2) nodify.node.140008202357024:node.py:get()- No need to evaluate\n"
     ]
    },
    {
     "name": "stderr",
     "output_type": "stream",
     "text": [
      "INFO\tTask(Task-2) nodify.node.140008202197984:node.py:get()- No need to evaluate\n"
     ]
    },
    {
     "name": "stderr",
     "output_type": "stream",
     "text": [
      "INFO\tTask(Task-2) nodify.node.140008238802336:node.py:get()- No need to evaluate\n"
     ]
    },
    {
     "name": "stderr",
     "output_type": "stream",
     "text": [
      "INFO\tTask(Task-2) nodify.node.140008202202544:node.py:get()- No need to evaluate\n"
     ]
    },
    {
     "name": "stderr",
     "output_type": "stream",
     "text": [
      "INFO\tTask(Task-2) nodify.node.140008202200576:node.py:get()- No need to evaluate\n"
     ]
    },
    {
     "name": "stderr",
     "output_type": "stream",
     "text": [
      "INFO\tTask(Task-2) nodify.node.140008202200720:node.py:get()- No need to evaluate\n"
     ]
    },
    {
     "name": "stderr",
     "output_type": "stream",
     "text": [
      "INFO\tTask(Task-2) nodify.node.140008202356592:node.py:get()- No need to evaluate\n"
     ]
    },
    {
     "name": "stderr",
     "output_type": "stream",
     "text": [
      "INFO\tTask(Task-2) nodify.node.140008238803296:node.py:get()- No need to evaluate\n"
     ]
    },
    {
     "name": "stderr",
     "output_type": "stream",
     "text": [
      "INFO\tTask(Task-2) nodify.node.140008202358224:node.py:get()- No need to evaluate\n"
     ]
    },
    {
     "name": "stderr",
     "output_type": "stream",
     "text": [
      "INFO\tTask(Task-2) nodify.node.140008202199328:node.py:get()- No need to evaluate\n"
     ]
    },
    {
     "name": "stderr",
     "output_type": "stream",
     "text": [
      "INFO\tTask(Task-2) nodify.node.140008202201440:node.py:get()- No need to evaluate\n"
     ]
    },
    {
     "name": "stderr",
     "output_type": "stream",
     "text": [
      "INFO\tTask(Task-2) nodify.node.140008202201536:node.py:get()- No need to evaluate\n"
     ]
    },
    {
     "name": "stderr",
     "output_type": "stream",
     "text": [
      "INFO\tTask(Task-2) nodify.node.140008202358896:node.py:get()- No need to evaluate\n"
     ]
    },
    {
     "name": "stderr",
     "output_type": "stream",
     "text": [
      "INFO\tTask(Task-2) nodify.node.140008202199328:node.py:get()- No need to evaluate\n"
     ]
    },
    {
     "name": "stderr",
     "output_type": "stream",
     "text": [
      "INFO\tTask(Task-2) nodify.node.140008202201440:node.py:get()- No need to evaluate\n"
     ]
    },
    {
     "name": "stderr",
     "output_type": "stream",
     "text": [
      "INFO\tTask(Task-2) nodify.node.140008202359184:node.py:get()- Evaluated because inputs changed.\n"
     ]
    },
    {
     "name": "stderr",
     "output_type": "stream",
     "text": [
      "INFO\tTask(Task-2) nodify.node.140008202359952:node.py:get()- Evaluated because inputs changed.\n"
     ]
    },
    {
     "name": "stderr",
     "output_type": "stream",
     "text": [
      "INFO\tTask(Task-2) nodify.node.140008202202928:node.py:get()- No need to evaluate\n"
     ]
    },
    {
     "name": "stderr",
     "output_type": "stream",
     "text": [
      "INFO\tTask(Task-2) nodify.node.140008202360288:node.py:get()- Evaluated because inputs changed.\n"
     ]
    },
    {
     "name": "stderr",
     "output_type": "stream",
     "text": [
      "INFO\tTask(Task-2) nodify.node.140008202199328:node.py:get()- No need to evaluate\n"
     ]
    },
    {
     "name": "stderr",
     "output_type": "stream",
     "text": [
      "INFO\tTask(Task-2) nodify.node.140008202201440:node.py:get()- No need to evaluate\n"
     ]
    },
    {
     "name": "stderr",
     "output_type": "stream",
     "text": [
      "INFO\tTask(Task-2) nodify.node.140008202200576:node.py:get()- No need to evaluate\n"
     ]
    },
    {
     "name": "stderr",
     "output_type": "stream",
     "text": [
      "INFO\tTask(Task-2) nodify.node.140008202200720:node.py:get()- No need to evaluate\n"
     ]
    },
    {
     "name": "stderr",
     "output_type": "stream",
     "text": [
      "INFO\tTask(Task-2) nodify.node.140008202356592:node.py:get()- No need to evaluate\n"
     ]
    },
    {
     "name": "stderr",
     "output_type": "stream",
     "text": [
      "INFO\tTask(Task-2) nodify.node.140008202199232:node.py:get()- No need to evaluate\n"
     ]
    },
    {
     "name": "stderr",
     "output_type": "stream",
     "text": [
      "INFO\tTask(Task-2) nodify.node.140008202199952:node.py:get()- No need to evaluate\n"
     ]
    },
    {
     "name": "stderr",
     "output_type": "stream",
     "text": [
      "INFO\tTask(Task-2) nodify.node.140008202200576:node.py:get()- No need to evaluate\n"
     ]
    },
    {
     "name": "stderr",
     "output_type": "stream",
     "text": [
      "INFO\tTask(Task-2) nodify.node.140008202200768:node.py:get()- No need to evaluate\n"
     ]
    },
    {
     "name": "stderr",
     "output_type": "stream",
     "text": [
      "INFO\tTask(Task-2) nodify.node.140008238801424:node.py:get()- No need to evaluate\n"
     ]
    },
    {
     "name": "stderr",
     "output_type": "stream",
     "text": [
      "INFO\tTask(Task-2) nodify.node.140008202202544:node.py:get()- No need to evaluate\n"
     ]
    },
    {
     "name": "stderr",
     "output_type": "stream",
     "text": [
      "INFO\tTask(Task-2) nodify.node.140008202200576:node.py:get()- No need to evaluate\n"
     ]
    },
    {
     "name": "stderr",
     "output_type": "stream",
     "text": [
      "INFO\tTask(Task-2) nodify.node.140008202200720:node.py:get()- No need to evaluate\n"
     ]
    },
    {
     "name": "stderr",
     "output_type": "stream",
     "text": [
      "INFO\tTask(Task-2) nodify.node.140008202356592:node.py:get()- No need to evaluate\n"
     ]
    },
    {
     "name": "stderr",
     "output_type": "stream",
     "text": [
      "INFO\tTask(Task-2) nodify.node.140008238416432:node.py:get()- No need to evaluate\n"
     ]
    },
    {
     "name": "stderr",
     "output_type": "stream",
     "text": [
      "INFO\tTask(Task-2) nodify.node.140008202357024:node.py:get()- No need to evaluate\n"
     ]
    },
    {
     "name": "stderr",
     "output_type": "stream",
     "text": [
      "INFO\tTask(Task-2) nodify.node.140008202197984:node.py:get()- No need to evaluate\n"
     ]
    },
    {
     "name": "stderr",
     "output_type": "stream",
     "text": [
      "INFO\tTask(Task-2) nodify.node.140008238802336:node.py:get()- No need to evaluate\n"
     ]
    },
    {
     "name": "stderr",
     "output_type": "stream",
     "text": [
      "INFO\tTask(Task-2) nodify.node.140008202202544:node.py:get()- No need to evaluate\n"
     ]
    },
    {
     "name": "stderr",
     "output_type": "stream",
     "text": [
      "INFO\tTask(Task-2) nodify.node.140008202200576:node.py:get()- No need to evaluate\n"
     ]
    },
    {
     "name": "stderr",
     "output_type": "stream",
     "text": [
      "INFO\tTask(Task-2) nodify.node.140008202200720:node.py:get()- No need to evaluate\n"
     ]
    },
    {
     "name": "stderr",
     "output_type": "stream",
     "text": [
      "INFO\tTask(Task-2) nodify.node.140008202356592:node.py:get()- No need to evaluate\n"
     ]
    },
    {
     "name": "stderr",
     "output_type": "stream",
     "text": [
      "INFO\tTask(Task-2) nodify.node.140008238803296:node.py:get()- No need to evaluate\n"
     ]
    },
    {
     "name": "stderr",
     "output_type": "stream",
     "text": [
      "INFO\tTask(Task-2) nodify.node.140008202358224:node.py:get()- No need to evaluate\n"
     ]
    },
    {
     "name": "stderr",
     "output_type": "stream",
     "text": [
      "INFO\tTask(Task-2) nodify.node.140008202199328:node.py:get()- No need to evaluate\n"
     ]
    },
    {
     "name": "stderr",
     "output_type": "stream",
     "text": [
      "INFO\tTask(Task-2) nodify.node.140008202201440:node.py:get()- No need to evaluate\n"
     ]
    },
    {
     "name": "stderr",
     "output_type": "stream",
     "text": [
      "INFO\tTask(Task-2) nodify.node.140008202201536:node.py:get()- No need to evaluate\n"
     ]
    },
    {
     "name": "stderr",
     "output_type": "stream",
     "text": [
      "INFO\tTask(Task-2) nodify.node.140008202358896:node.py:get()- No need to evaluate\n"
     ]
    },
    {
     "name": "stderr",
     "output_type": "stream",
     "text": [
      "INFO\tTask(Task-2) nodify.node.140008202199328:node.py:get()- No need to evaluate\n"
     ]
    },
    {
     "name": "stderr",
     "output_type": "stream",
     "text": [
      "INFO\tTask(Task-2) nodify.node.140008202201440:node.py:get()- No need to evaluate\n"
     ]
    },
    {
     "name": "stderr",
     "output_type": "stream",
     "text": [
      "INFO\tTask(Task-2) nodify.node.140008202359184:node.py:get()- No need to evaluate\n"
     ]
    },
    {
     "name": "stderr",
     "output_type": "stream",
     "text": [
      "INFO\tTask(Task-2) nodify.node.140008202202544:node.py:get()- No need to evaluate\n"
     ]
    },
    {
     "name": "stderr",
     "output_type": "stream",
     "text": [
      "INFO\tTask(Task-2) nodify.node.140008202200576:node.py:get()- No need to evaluate\n"
     ]
    },
    {
     "name": "stderr",
     "output_type": "stream",
     "text": [
      "INFO\tTask(Task-2) nodify.node.140008202200720:node.py:get()- No need to evaluate\n"
     ]
    },
    {
     "name": "stderr",
     "output_type": "stream",
     "text": [
      "INFO\tTask(Task-2) nodify.node.140008202356592:node.py:get()- No need to evaluate\n"
     ]
    },
    {
     "name": "stderr",
     "output_type": "stream",
     "text": [
      "INFO\tTask(Task-2) nodify.node.140008238803296:node.py:get()- No need to evaluate\n"
     ]
    },
    {
     "name": "stderr",
     "output_type": "stream",
     "text": [
      "INFO\tTask(Task-2) nodify.node.140008202361200:node.py:get()- Evaluated because inputs changed.\n"
     ]
    },
    {
     "name": "stderr",
     "output_type": "stream",
     "text": [
      "INFO\tTask(Task-2) nodify.node.140008202203312:node.py:get()- No need to evaluate\n"
     ]
    },
    {
     "name": "stderr",
     "output_type": "stream",
     "text": [
      "INFO\tTask(Task-2) nodify.node.140008202204176:node.py:get()- No need to evaluate\n"
     ]
    },
    {
     "name": "stderr",
     "output_type": "stream",
     "text": [
      "INFO\tTask(Task-2) nodify.node.140008202204368:node.py:get()- No need to evaluate\n"
     ]
    },
    {
     "name": "stderr",
     "output_type": "stream",
     "text": [
      "INFO\tTask(Task-2) nodify.node.140008202204704:node.py:get()- No need to evaluate\n"
     ]
    },
    {
     "name": "stderr",
     "output_type": "stream",
     "text": [
      "INFO\tTask(Task-2) nodify.node.140008202075744:node.py:get()- Evaluated because inputs changed.\n"
     ]
    },
    {
     "name": "stderr",
     "output_type": "stream",
     "text": [
      "INFO\tTask(Task-2) nodify.node.140008202361488:node.py:get()- Evaluated because inputs changed.\n"
     ]
    },
    {
     "name": "stderr",
     "output_type": "stream",
     "text": [
      "INFO\tTask(Task-2) nodify.node.140008202200576:node.py:get()- No need to evaluate\n"
     ]
    },
    {
     "name": "stderr",
     "output_type": "stream",
     "text": [
      "INFO\tTask(Task-2) nodify.node.140008202200720:node.py:get()- No need to evaluate\n"
     ]
    },
    {
     "name": "stderr",
     "output_type": "stream",
     "text": [
      "INFO\tTask(Task-2) nodify.node.140008202356592:node.py:get()- No need to evaluate\n"
     ]
    },
    {
     "name": "stderr",
     "output_type": "stream",
     "text": [
      "INFO\tTask(Task-2) nodify.node.140008202199232:node.py:get()- No need to evaluate\n"
     ]
    },
    {
     "name": "stderr",
     "output_type": "stream",
     "text": [
      "INFO\tTask(Task-2) nodify.node.140008202199952:node.py:get()- No need to evaluate\n"
     ]
    },
    {
     "name": "stderr",
     "output_type": "stream",
     "text": [
      "INFO\tTask(Task-2) nodify.node.140008202200576:node.py:get()- No need to evaluate\n"
     ]
    },
    {
     "name": "stderr",
     "output_type": "stream",
     "text": [
      "INFO\tTask(Task-2) nodify.node.140008202200768:node.py:get()- No need to evaluate\n"
     ]
    },
    {
     "name": "stderr",
     "output_type": "stream",
     "text": [
      "INFO\tTask(Task-2) nodify.node.140008238801424:node.py:get()- No need to evaluate\n"
     ]
    },
    {
     "name": "stderr",
     "output_type": "stream",
     "text": [
      "INFO\tTask(Task-2) nodify.node.140008202202544:node.py:get()- No need to evaluate\n"
     ]
    },
    {
     "name": "stderr",
     "output_type": "stream",
     "text": [
      "INFO\tTask(Task-2) nodify.node.140008202200576:node.py:get()- No need to evaluate\n"
     ]
    },
    {
     "name": "stderr",
     "output_type": "stream",
     "text": [
      "INFO\tTask(Task-2) nodify.node.140008202200720:node.py:get()- No need to evaluate\n"
     ]
    },
    {
     "name": "stderr",
     "output_type": "stream",
     "text": [
      "INFO\tTask(Task-2) nodify.node.140008202356592:node.py:get()- No need to evaluate\n"
     ]
    },
    {
     "name": "stderr",
     "output_type": "stream",
     "text": [
      "INFO\tTask(Task-2) nodify.node.140008238416432:node.py:get()- No need to evaluate\n"
     ]
    },
    {
     "name": "stderr",
     "output_type": "stream",
     "text": [
      "INFO\tTask(Task-2) nodify.node.140008202357024:node.py:get()- No need to evaluate\n"
     ]
    },
    {
     "name": "stderr",
     "output_type": "stream",
     "text": [
      "INFO\tTask(Task-2) nodify.node.140008202205088:node.py:get()- No need to evaluate\n"
     ]
    },
    {
     "name": "stderr",
     "output_type": "stream",
     "text": [
      "INFO\tTask(Task-2) nodify.node.140008202199328:node.py:get()- No need to evaluate\n"
     ]
    },
    {
     "name": "stderr",
     "output_type": "stream",
     "text": [
      "INFO\tTask(Task-2) nodify.node.140008202201440:node.py:get()- No need to evaluate\n"
     ]
    },
    {
     "name": "stderr",
     "output_type": "stream",
     "text": [
      "INFO\tTask(Task-2) nodify.node.140008202205472:node.py:get()- No need to evaluate\n"
     ]
    },
    {
     "name": "stderr",
     "output_type": "stream",
     "text": [
      "INFO\tTask(Task-2) nodify.node.140008202362256:node.py:get()- Evaluated because inputs changed.\n"
     ]
    },
    {
     "name": "stderr",
     "output_type": "stream",
     "text": [
      "INFO\tTask(Task-2) nodify.node.140008202207008:node.py:get()- No need to evaluate\n"
     ]
    },
    {
     "name": "stderr",
     "output_type": "stream",
     "text": [
      "INFO\tTask(Task-2) nodify.node.140008202200576:node.py:get()- No need to evaluate\n"
     ]
    },
    {
     "name": "stderr",
     "output_type": "stream",
     "text": [
      "INFO\tTask(Task-2) nodify.node.140008202200768:node.py:get()- No need to evaluate\n"
     ]
    },
    {
     "name": "stderr",
     "output_type": "stream",
     "text": [
      "INFO\tTask(Task-2) nodify.node.140008238801424:node.py:get()- No need to evaluate\n"
     ]
    },
    {
     "name": "stderr",
     "output_type": "stream",
     "text": [
      "INFO\tTask(Task-2) nodify.node.140008202202544:node.py:get()- No need to evaluate\n"
     ]
    },
    {
     "name": "stderr",
     "output_type": "stream",
     "text": [
      "INFO\tTask(Task-2) nodify.node.140008202200576:node.py:get()- No need to evaluate\n"
     ]
    },
    {
     "name": "stderr",
     "output_type": "stream",
     "text": [
      "INFO\tTask(Task-2) nodify.node.140008202200720:node.py:get()- No need to evaluate\n"
     ]
    },
    {
     "name": "stderr",
     "output_type": "stream",
     "text": [
      "INFO\tTask(Task-2) nodify.node.140008202356592:node.py:get()- No need to evaluate\n"
     ]
    },
    {
     "name": "stderr",
     "output_type": "stream",
     "text": [
      "INFO\tTask(Task-2) nodify.node.140008238416432:node.py:get()- No need to evaluate\n"
     ]
    },
    {
     "name": "stderr",
     "output_type": "stream",
     "text": [
      "INFO\tTask(Task-2) nodify.node.140008202199328:node.py:get()- No need to evaluate\n"
     ]
    },
    {
     "name": "stderr",
     "output_type": "stream",
     "text": [
      "INFO\tTask(Task-2) nodify.node.140008202201440:node.py:get()- No need to evaluate\n"
     ]
    },
    {
     "name": "stderr",
     "output_type": "stream",
     "text": [
      "INFO\tTask(Task-2) nodify.node.140008202202544:node.py:get()- No need to evaluate\n"
     ]
    },
    {
     "name": "stderr",
     "output_type": "stream",
     "text": [
      "INFO\tTask(Task-2) nodify.node.140008202200576:node.py:get()- No need to evaluate\n"
     ]
    },
    {
     "name": "stderr",
     "output_type": "stream",
     "text": [
      "INFO\tTask(Task-2) nodify.node.140008202200720:node.py:get()- No need to evaluate\n"
     ]
    },
    {
     "name": "stderr",
     "output_type": "stream",
     "text": [
      "INFO\tTask(Task-2) nodify.node.140008202356592:node.py:get()- No need to evaluate\n"
     ]
    },
    {
     "name": "stderr",
     "output_type": "stream",
     "text": [
      "INFO\tTask(Task-2) nodify.node.140008238803296:node.py:get()- No need to evaluate\n"
     ]
    },
    {
     "name": "stderr",
     "output_type": "stream",
     "text": [
      "INFO\tTask(Task-2) nodify.node.140008202354912:node.py:get()- No need to evaluate\n"
     ]
    },
    {
     "name": "stderr",
     "output_type": "stream",
     "text": [
      "INFO\tTask(Task-2) nodify.node.140008202200912:node.py:get()- No need to evaluate\n"
     ]
    },
    {
     "name": "stderr",
     "output_type": "stream",
     "text": [
      "INFO\tTask(Task-2) nodify.node.140008202064944:node.py:get()- Evaluated because inputs changed.\n"
     ]
    },
    {
     "name": "stderr",
     "output_type": "stream",
     "text": [
      "INFO\tTask(Task-2) nodify.node.140008239474560:node.py:get()- Evaluated because inputs changed.\n"
     ]
    },
    {
     "name": "stderr",
     "output_type": "stream",
     "text": [
      "INFO\tTask(Task-2) nodify.node.140008202363168:node.py:get()- Evaluated because inputs changed.\n"
     ]
    },
    {
     "data": {
      "application/vnd.plotly.v1+json": {
       "config": {
        "plotlyServerURL": "https://plot.ly"
       },
       "data": [
        {
         "coloraxis": "coloraxis",
         "meta": {},
         "opacity": 1,
         "type": "heatmap",
         "x": {
          "bdata": "AAAAAAAAAABAbCoNOffJP0BsKg0599k/MNHfyWp54z9AbCoNOffpP6iDOqiDOvA/MNHfyWp58z+4HoXrUbj2P0BsKg059/k/yLnPLiA2/T+ogzqogzoAQGwqDTn32QFAMNHfyWp5A0D0d7Ja3hgFQLgehetRuAZAfMVXfMVXCEBAbCoNOfcJQAQT/Z2slgtAyLnPLiA2DUCMYKK/k9UOQKiDOqiDOhBA",
          "dtype": "f8"
         },
         "y": {
          "bdata": "AAAAAAAAAABBkBmbGzzKP0GQGZsbPNo/MSxTtBSt4z9BkBmbGzzqPyn670CRZfA/MSxTtBSt8z85XrYnmPT2P0GQGZsbPPo/ScJ8Dp+D/T8p+u9AkWUAQC2TofpSCQJA",
          "dtype": "f8"
         },
         "z": {
          "bdata": "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",
          "dtype": "f8",
          "shape": "12, 21"
         },
         "zsmooth": "best"
        },
        {
         "meta": {},
         "mode": "lines",
         "name": "Unit cell",
         "type": "scatter",
         "x": {
          "bdata": "AAAAAAAAAAAAAAAAAAAAAArXo3A9ChFACtejcD0KEUAAAAAAAAAAAAAAAAAAAAAAAAAAAAAA+H8AAAAAAAAAAAAAAAAAAAAAAAAAAAAAAAAK16NwPQoRQArXo3A9ChFAAAAAAAAAAAAAAAAAAAD4fwrXo3A9ChFACtejcD0KEUAAAAAAAAD4fwrXo3A9ChFACtejcD0KEUA=",
          "dtype": "f8"
         },
         "y": {
          "bdata": "AAAAAAAAAAAxLFO0FK0DQDEsU7QUrQNAMSxTtBStA0AxLFO0FK0DQDEsU7QUrQNAAAAAAAAA+H8xLFO0FK0DQAAAAAAAAAAAAAAAAAAAAAAAAAAAAAAAAAAAAAAAAAAAAAAAAAAAAAAAAAAAAAD4fzEsU7QUrQNAAAAAAAAAAAAAAAAAAAD4fzEsU7QUrQNAAAAAAAAAAAA=",
          "dtype": "f8"
         }
        }
       ],
       "layout": {
        "coloraxis": {
         "showscale": true
        },
        "scene": {
         "aspectmode": "data",
         "xaxis": {
          "title": {
           "text": "X axis [Ang]"
          }
         },
         "yaxis": {
          "title": {
           "text": "Y axis [Ang]"
          }
         }
        },
        "template": {
         "layout": {
          "hovermode": "closest",
          "paper_bgcolor": "white",
          "plot_bgcolor": "white",
          "scene": {
           "xaxis": {
            "color": "black",
            "gridcolor": "#ccc",
            "gridwidth": 1,
            "linewidth": 1,
            "mirror": true,
            "showgrid": false,
            "showline": true,
            "ticklen": 5,
            "ticks": "outside",
            "ticksuffix": " ",
            "visible": true,
            "zeroline": false,
            "zerolinecolor": "#ccc",
            "zerolinewidth": 1
           },
           "yaxis": {
            "color": "black",
            "gridcolor": "#ccc",
            "gridwidth": 1,
            "linewidth": 1,
            "mirror": true,
            "showgrid": false,
            "showline": true,
            "ticklen": 5,
            "ticks": "outside",
            "ticksuffix": " ",
            "visible": true,
            "zeroline": false,
            "zerolinecolor": "#ccc",
            "zerolinewidth": 1
           },
           "zaxis": {
            "color": "black",
            "gridcolor": "#ccc",
            "gridwidth": 1,
            "linewidth": 1,
            "mirror": true,
            "showgrid": false,
            "showline": true,
            "ticklen": 5,
            "ticks": "outside",
            "ticksuffix": " ",
            "visible": true,
            "zeroline": false,
            "zerolinecolor": "#ccc",
            "zerolinewidth": 1
           }
          },
          "xaxis": {
           "color": "black",
           "gridcolor": "#ccc",
           "gridwidth": 1,
           "linewidth": 1,
           "mirror": true,
           "showgrid": false,
           "showline": true,
           "ticklen": 5,
           "ticks": "outside",
           "ticksuffix": " ",
           "visible": true,
           "zeroline": false,
           "zerolinecolor": "#ccc",
           "zerolinewidth": 1
          },
          "yaxis": {
           "color": "black",
           "gridcolor": "#ccc",
           "gridwidth": 1,
           "linewidth": 1,
           "mirror": true,
           "showgrid": false,
           "showline": true,
           "ticklen": 5,
           "ticks": "outside",
           "ticksuffix": " ",
           "visible": true,
           "zeroline": false,
           "zerolinecolor": "#ccc",
           "zerolinewidth": 1
          }
         }
        },
        "xaxis": {
         "scaleanchor": "y",
         "scaleratio": 1,
         "title": {
          "text": "X axis [Ang]"
         }
        },
        "yaxis": {
         "title": {
          "text": "Y axis [Ang]"
         }
        }
       }
      }
     },
     "metadata": {},
     "output_type": "display_data"
    }
   ],
   "source": [
    "plot.update_inputs(grid_prec=0.2, smooth=True)"
   ]
  },
  {
   "cell_type": "markdown",
   "metadata": {},
   "source": [
    "<div class=\"alert alert-warning\">\n",
    "    \n",
    "Warning\n",
    "    \n",
    "Keep in mind that a finer grid will **occupy more memory and take more time to generate and render**, and sometimes it might be unnecessary to make your grid very fine, specially if it's smooth.\n",
    "    \n",
    "</div>"
   ]
  },
  {
   "cell_type": "markdown",
   "metadata": {},
   "source": [
    "## GridPlot settings\n",
    "\n",
    "As stated at the beggining of this notebook, you have all the power of `GridPlot` available to you. Therefore you can, for example, display supercells of the resulting wavefunctions (please don't tile the hamiltonian! :))."
   ]
  },
  {
   "cell_type": "code",
   "execution_count": 8,
   "metadata": {
    "execution": {
     "iopub.execute_input": "2025-09-23T10:48:35.837919Z",
     "iopub.status.busy": "2025-09-23T10:48:35.837733Z",
     "iopub.status.idle": "2025-09-23T10:48:38.848109Z",
     "shell.execute_reply": "2025-09-23T10:48:38.847555Z"
    },
    "tags": [
     "nbsphinx-thumbnail"
    ]
   },
   "outputs": [
    {
     "name": "stderr",
     "output_type": "stream",
     "text": [
      "INFO\tTask(Task-2) nodify.node.140008202355296:node.py:get()- No need to evaluate\n"
     ]
    },
    {
     "name": "stderr",
     "output_type": "stream",
     "text": [
      "INFO\tTask(Task-2) nodify.node.140008202200576:node.py:get()- No need to evaluate\n"
     ]
    },
    {
     "name": "stderr",
     "output_type": "stream",
     "text": [
      "INFO\tTask(Task-2) nodify.node.140008202200720:node.py:get()- No need to evaluate\n"
     ]
    },
    {
     "name": "stderr",
     "output_type": "stream",
     "text": [
      "INFO\tTask(Task-2) nodify.node.140008202356592:node.py:get()- No need to evaluate\n"
     ]
    },
    {
     "name": "stderr",
     "output_type": "stream",
     "text": [
      "INFO\tTask(Task-2) nodify.node.140008202199232:node.py:get()- Evaluated because inputs changed.\n"
     ]
    },
    {
     "name": "stderr",
     "output_type": "stream",
     "text": [
      "INFO\tTask(Task-2) nodify.node.140008202199952:node.py:get()- No need to evaluate\n"
     ]
    },
    {
     "name": "stderr",
     "output_type": "stream",
     "text": [
      "INFO\tTask(Task-2) nodify.node.140008202200576:node.py:get()- No need to evaluate\n"
     ]
    },
    {
     "name": "stderr",
     "output_type": "stream",
     "text": [
      "INFO\tTask(Task-2) nodify.node.140008202200768:node.py:get()- No need to evaluate\n"
     ]
    },
    {
     "name": "stderr",
     "output_type": "stream",
     "text": [
      "INFO\tTask(Task-2) nodify.node.140008238801424:node.py:get()- No need to evaluate\n"
     ]
    },
    {
     "name": "stderr",
     "output_type": "stream",
     "text": [
      "INFO\tTask(Task-2) nodify.node.140008202202544:node.py:get()- Evaluated because inputs changed.\n"
     ]
    },
    {
     "name": "stderr",
     "output_type": "stream",
     "text": [
      "INFO\tTask(Task-2) nodify.node.140008202200576:node.py:get()- No need to evaluate\n"
     ]
    },
    {
     "name": "stderr",
     "output_type": "stream",
     "text": [
      "INFO\tTask(Task-2) nodify.node.140008202200720:node.py:get()- No need to evaluate\n"
     ]
    },
    {
     "name": "stderr",
     "output_type": "stream",
     "text": [
      "INFO\tTask(Task-2) nodify.node.140008202356592:node.py:get()- No need to evaluate\n"
     ]
    },
    {
     "name": "stderr",
     "output_type": "stream",
     "text": [
      "INFO\tTask(Task-2) nodify.node.140008238416432:node.py:get()- Evaluated because inputs changed.\n"
     ]
    },
    {
     "name": "stderr",
     "output_type": "stream",
     "text": [
      "INFO\tTask(Task-2) nodify.node.140008202357024:node.py:get()- Evaluated because inputs changed.\n"
     ]
    },
    {
     "name": "stderr",
     "output_type": "stream",
     "text": [
      "INFO\tTask(Task-2) nodify.node.140008202197984:node.py:get()- No need to evaluate\n"
     ]
    },
    {
     "name": "stderr",
     "output_type": "stream",
     "text": [
      "INFO\tTask(Task-2) nodify.node.140008238802336:node.py:get()- Evaluated because inputs changed.\n"
     ]
    },
    {
     "name": "stderr",
     "output_type": "stream",
     "text": [
      "INFO\tTask(Task-2) nodify.node.140008202202544:node.py:get()- No need to evaluate\n"
     ]
    },
    {
     "name": "stderr",
     "output_type": "stream",
     "text": [
      "INFO\tTask(Task-2) nodify.node.140008202200576:node.py:get()- No need to evaluate\n"
     ]
    },
    {
     "name": "stderr",
     "output_type": "stream",
     "text": [
      "INFO\tTask(Task-2) nodify.node.140008202200720:node.py:get()- No need to evaluate\n"
     ]
    },
    {
     "name": "stderr",
     "output_type": "stream",
     "text": [
      "INFO\tTask(Task-2) nodify.node.140008202356592:node.py:get()- No need to evaluate\n"
     ]
    },
    {
     "name": "stderr",
     "output_type": "stream",
     "text": [
      "INFO\tTask(Task-2) nodify.node.140008238803296:node.py:get()- Evaluated because inputs changed.\n"
     ]
    },
    {
     "name": "stderr",
     "output_type": "stream",
     "text": [
      "INFO\tTask(Task-2) nodify.node.140008202358224:node.py:get()- Evaluated because inputs changed.\n"
     ]
    },
    {
     "name": "stderr",
     "output_type": "stream",
     "text": [
      "INFO\tTask(Task-2) nodify.node.140008202199328:node.py:get()- Evaluated because inputs changed.\n"
     ]
    },
    {
     "name": "stderr",
     "output_type": "stream",
     "text": [
      "INFO\tTask(Task-2) nodify.node.140008202201440:node.py:get()- Evaluated because inputs changed.\n"
     ]
    },
    {
     "name": "stderr",
     "output_type": "stream",
     "text": [
      "INFO\tTask(Task-2) nodify.node.140008202201536:node.py:get()- No need to evaluate\n"
     ]
    },
    {
     "name": "stderr",
     "output_type": "stream",
     "text": [
      "INFO\tTask(Task-2) nodify.node.140008202358896:node.py:get()- Evaluated because inputs changed.\n"
     ]
    },
    {
     "name": "stderr",
     "output_type": "stream",
     "text": [
      "INFO\tTask(Task-2) nodify.node.140008202198608:node.py:get()- Evaluated because inputs changed.\n"
     ]
    },
    {
     "name": "stderr",
     "output_type": "stream",
     "text": [
      "INFO\tTask(Task-2) nodify.node.140008202360336:node.py:get()- Evaluated because inputs changed.\n"
     ]
    },
    {
     "name": "stderr",
     "output_type": "stream",
     "text": [
      "INFO\tTask(Task-2) nodify.node.140008202205856:node.py:get()- No need to evaluate\n"
     ]
    },
    {
     "name": "stderr",
     "output_type": "stream",
     "text": [
      "INFO\tTask(Task-2) nodify.node.140008202206240:node.py:get()- No need to evaluate\n"
     ]
    },
    {
     "name": "stderr",
     "output_type": "stream",
     "text": [
      "INFO\tTask(Task-2) nodify.node.140008202206624:node.py:get()- No need to evaluate\n"
     ]
    },
    {
     "name": "stderr",
     "output_type": "stream",
     "text": [
      "INFO\tTask(Task-2) nodify.node.140008202360144:node.py:get()- Evaluated because inputs changed.\n"
     ]
    },
    {
     "name": "stderr",
     "output_type": "stream",
     "text": [
      "INFO\tTask(Task-2) nodify.node.140008202201248:node.py:get()- No need to evaluate\n"
     ]
    },
    {
     "name": "stderr",
     "output_type": "stream",
     "text": [
      "INFO\tTask(Task-2) nodify.node.140008202200576:node.py:get()- No need to evaluate\n"
     ]
    },
    {
     "name": "stderr",
     "output_type": "stream",
     "text": [
      "INFO\tTask(Task-2) nodify.node.140008202200720:node.py:get()- No need to evaluate\n"
     ]
    },
    {
     "name": "stderr",
     "output_type": "stream",
     "text": [
      "INFO\tTask(Task-2) nodify.node.140008202356592:node.py:get()- No need to evaluate\n"
     ]
    },
    {
     "name": "stderr",
     "output_type": "stream",
     "text": [
      "INFO\tTask(Task-2) nodify.node.140008202199232:node.py:get()- No need to evaluate\n"
     ]
    },
    {
     "name": "stderr",
     "output_type": "stream",
     "text": [
      "INFO\tTask(Task-2) nodify.node.140008202199952:node.py:get()- No need to evaluate\n"
     ]
    },
    {
     "name": "stderr",
     "output_type": "stream",
     "text": [
      "INFO\tTask(Task-2) nodify.node.140008202200576:node.py:get()- No need to evaluate\n"
     ]
    },
    {
     "name": "stderr",
     "output_type": "stream",
     "text": [
      "INFO\tTask(Task-2) nodify.node.140008202200768:node.py:get()- No need to evaluate\n"
     ]
    },
    {
     "name": "stderr",
     "output_type": "stream",
     "text": [
      "INFO\tTask(Task-2) nodify.node.140008238801424:node.py:get()- No need to evaluate\n"
     ]
    },
    {
     "name": "stderr",
     "output_type": "stream",
     "text": [
      "INFO\tTask(Task-2) nodify.node.140008202202544:node.py:get()- No need to evaluate\n"
     ]
    },
    {
     "name": "stderr",
     "output_type": "stream",
     "text": [
      "INFO\tTask(Task-2) nodify.node.140008202200576:node.py:get()- No need to evaluate\n"
     ]
    },
    {
     "name": "stderr",
     "output_type": "stream",
     "text": [
      "INFO\tTask(Task-2) nodify.node.140008202200720:node.py:get()- No need to evaluate\n"
     ]
    },
    {
     "name": "stderr",
     "output_type": "stream",
     "text": [
      "INFO\tTask(Task-2) nodify.node.140008202356592:node.py:get()- No need to evaluate\n"
     ]
    },
    {
     "name": "stderr",
     "output_type": "stream",
     "text": [
      "INFO\tTask(Task-2) nodify.node.140008238416432:node.py:get()- No need to evaluate\n"
     ]
    },
    {
     "name": "stderr",
     "output_type": "stream",
     "text": [
      "INFO\tTask(Task-2) nodify.node.140008202357024:node.py:get()- No need to evaluate\n"
     ]
    },
    {
     "name": "stderr",
     "output_type": "stream",
     "text": [
      "INFO\tTask(Task-2) nodify.node.140008202197984:node.py:get()- No need to evaluate\n"
     ]
    },
    {
     "name": "stderr",
     "output_type": "stream",
     "text": [
      "INFO\tTask(Task-2) nodify.node.140008238802336:node.py:get()- No need to evaluate\n"
     ]
    },
    {
     "name": "stderr",
     "output_type": "stream",
     "text": [
      "INFO\tTask(Task-2) nodify.node.140008202202544:node.py:get()- No need to evaluate\n"
     ]
    },
    {
     "name": "stderr",
     "output_type": "stream",
     "text": [
      "INFO\tTask(Task-2) nodify.node.140008202200576:node.py:get()- No need to evaluate\n"
     ]
    },
    {
     "name": "stderr",
     "output_type": "stream",
     "text": [
      "INFO\tTask(Task-2) nodify.node.140008202200720:node.py:get()- No need to evaluate\n"
     ]
    },
    {
     "name": "stderr",
     "output_type": "stream",
     "text": [
      "INFO\tTask(Task-2) nodify.node.140008202356592:node.py:get()- No need to evaluate\n"
     ]
    },
    {
     "name": "stderr",
     "output_type": "stream",
     "text": [
      "INFO\tTask(Task-2) nodify.node.140008238803296:node.py:get()- No need to evaluate\n"
     ]
    },
    {
     "name": "stderr",
     "output_type": "stream",
     "text": [
      "INFO\tTask(Task-2) nodify.node.140008202358224:node.py:get()- No need to evaluate\n"
     ]
    },
    {
     "name": "stderr",
     "output_type": "stream",
     "text": [
      "INFO\tTask(Task-2) nodify.node.140008202199328:node.py:get()- No need to evaluate\n"
     ]
    },
    {
     "name": "stderr",
     "output_type": "stream",
     "text": [
      "INFO\tTask(Task-2) nodify.node.140008202201440:node.py:get()- No need to evaluate\n"
     ]
    },
    {
     "name": "stderr",
     "output_type": "stream",
     "text": [
      "INFO\tTask(Task-2) nodify.node.140008202201536:node.py:get()- No need to evaluate\n"
     ]
    },
    {
     "name": "stderr",
     "output_type": "stream",
     "text": [
      "INFO\tTask(Task-2) nodify.node.140008202358896:node.py:get()- No need to evaluate\n"
     ]
    },
    {
     "name": "stderr",
     "output_type": "stream",
     "text": [
      "INFO\tTask(Task-2) nodify.node.140008202199328:node.py:get()- No need to evaluate\n"
     ]
    },
    {
     "name": "stderr",
     "output_type": "stream",
     "text": [
      "INFO\tTask(Task-2) nodify.node.140008202201440:node.py:get()- No need to evaluate\n"
     ]
    },
    {
     "name": "stderr",
     "output_type": "stream",
     "text": [
      "INFO\tTask(Task-2) nodify.node.140008202359184:node.py:get()- Evaluated because inputs changed.\n"
     ]
    },
    {
     "name": "stderr",
     "output_type": "stream",
     "text": [
      "INFO\tTask(Task-2) nodify.node.140008202359952:node.py:get()- Evaluated because inputs changed.\n"
     ]
    },
    {
     "name": "stderr",
     "output_type": "stream",
     "text": [
      "INFO\tTask(Task-2) nodify.node.140008202202928:node.py:get()- No need to evaluate\n"
     ]
    },
    {
     "name": "stderr",
     "output_type": "stream",
     "text": [
      "INFO\tTask(Task-2) nodify.node.140008202360288:node.py:get()- Evaluated because inputs changed.\n"
     ]
    },
    {
     "name": "stderr",
     "output_type": "stream",
     "text": [
      "INFO\tTask(Task-2) nodify.node.140008202199328:node.py:get()- No need to evaluate\n"
     ]
    },
    {
     "name": "stderr",
     "output_type": "stream",
     "text": [
      "INFO\tTask(Task-2) nodify.node.140008202201440:node.py:get()- No need to evaluate\n"
     ]
    },
    {
     "name": "stderr",
     "output_type": "stream",
     "text": [
      "INFO\tTask(Task-2) nodify.node.140008202200576:node.py:get()- No need to evaluate\n"
     ]
    },
    {
     "name": "stderr",
     "output_type": "stream",
     "text": [
      "INFO\tTask(Task-2) nodify.node.140008202200720:node.py:get()- No need to evaluate\n"
     ]
    },
    {
     "name": "stderr",
     "output_type": "stream",
     "text": [
      "INFO\tTask(Task-2) nodify.node.140008202356592:node.py:get()- No need to evaluate\n"
     ]
    },
    {
     "name": "stderr",
     "output_type": "stream",
     "text": [
      "INFO\tTask(Task-2) nodify.node.140008202199232:node.py:get()- No need to evaluate\n"
     ]
    },
    {
     "name": "stderr",
     "output_type": "stream",
     "text": [
      "INFO\tTask(Task-2) nodify.node.140008202199952:node.py:get()- No need to evaluate\n"
     ]
    },
    {
     "name": "stderr",
     "output_type": "stream",
     "text": [
      "INFO\tTask(Task-2) nodify.node.140008202200576:node.py:get()- No need to evaluate\n"
     ]
    },
    {
     "name": "stderr",
     "output_type": "stream",
     "text": [
      "INFO\tTask(Task-2) nodify.node.140008202200768:node.py:get()- No need to evaluate\n"
     ]
    },
    {
     "name": "stderr",
     "output_type": "stream",
     "text": [
      "INFO\tTask(Task-2) nodify.node.140008238801424:node.py:get()- No need to evaluate\n"
     ]
    },
    {
     "name": "stderr",
     "output_type": "stream",
     "text": [
      "INFO\tTask(Task-2) nodify.node.140008202202544:node.py:get()- No need to evaluate\n"
     ]
    },
    {
     "name": "stderr",
     "output_type": "stream",
     "text": [
      "INFO\tTask(Task-2) nodify.node.140008202200576:node.py:get()- No need to evaluate\n"
     ]
    },
    {
     "name": "stderr",
     "output_type": "stream",
     "text": [
      "INFO\tTask(Task-2) nodify.node.140008202200720:node.py:get()- No need to evaluate\n"
     ]
    },
    {
     "name": "stderr",
     "output_type": "stream",
     "text": [
      "INFO\tTask(Task-2) nodify.node.140008202356592:node.py:get()- No need to evaluate\n"
     ]
    },
    {
     "name": "stderr",
     "output_type": "stream",
     "text": [
      "INFO\tTask(Task-2) nodify.node.140008238416432:node.py:get()- No need to evaluate\n"
     ]
    },
    {
     "name": "stderr",
     "output_type": "stream",
     "text": [
      "INFO\tTask(Task-2) nodify.node.140008202357024:node.py:get()- No need to evaluate\n"
     ]
    },
    {
     "name": "stderr",
     "output_type": "stream",
     "text": [
      "INFO\tTask(Task-2) nodify.node.140008202197984:node.py:get()- No need to evaluate\n"
     ]
    },
    {
     "name": "stderr",
     "output_type": "stream",
     "text": [
      "INFO\tTask(Task-2) nodify.node.140008238802336:node.py:get()- No need to evaluate\n"
     ]
    },
    {
     "name": "stderr",
     "output_type": "stream",
     "text": [
      "INFO\tTask(Task-2) nodify.node.140008202202544:node.py:get()- No need to evaluate\n"
     ]
    },
    {
     "name": "stderr",
     "output_type": "stream",
     "text": [
      "INFO\tTask(Task-2) nodify.node.140008202200576:node.py:get()- No need to evaluate\n"
     ]
    },
    {
     "name": "stderr",
     "output_type": "stream",
     "text": [
      "INFO\tTask(Task-2) nodify.node.140008202200720:node.py:get()- No need to evaluate\n"
     ]
    },
    {
     "name": "stderr",
     "output_type": "stream",
     "text": [
      "INFO\tTask(Task-2) nodify.node.140008202356592:node.py:get()- No need to evaluate\n"
     ]
    },
    {
     "name": "stderr",
     "output_type": "stream",
     "text": [
      "INFO\tTask(Task-2) nodify.node.140008238803296:node.py:get()- No need to evaluate\n"
     ]
    },
    {
     "name": "stderr",
     "output_type": "stream",
     "text": [
      "INFO\tTask(Task-2) nodify.node.140008202358224:node.py:get()- No need to evaluate\n"
     ]
    },
    {
     "name": "stderr",
     "output_type": "stream",
     "text": [
      "INFO\tTask(Task-2) nodify.node.140008202199328:node.py:get()- No need to evaluate\n"
     ]
    },
    {
     "name": "stderr",
     "output_type": "stream",
     "text": [
      "INFO\tTask(Task-2) nodify.node.140008202201440:node.py:get()- No need to evaluate\n"
     ]
    },
    {
     "name": "stderr",
     "output_type": "stream",
     "text": [
      "INFO\tTask(Task-2) nodify.node.140008202201536:node.py:get()- No need to evaluate\n"
     ]
    },
    {
     "name": "stderr",
     "output_type": "stream",
     "text": [
      "INFO\tTask(Task-2) nodify.node.140008202358896:node.py:get()- No need to evaluate\n"
     ]
    },
    {
     "name": "stderr",
     "output_type": "stream",
     "text": [
      "INFO\tTask(Task-2) nodify.node.140008202199328:node.py:get()- No need to evaluate\n"
     ]
    },
    {
     "name": "stderr",
     "output_type": "stream",
     "text": [
      "INFO\tTask(Task-2) nodify.node.140008202201440:node.py:get()- No need to evaluate\n"
     ]
    },
    {
     "name": "stderr",
     "output_type": "stream",
     "text": [
      "INFO\tTask(Task-2) nodify.node.140008202359184:node.py:get()- No need to evaluate\n"
     ]
    },
    {
     "name": "stderr",
     "output_type": "stream",
     "text": [
      "INFO\tTask(Task-2) nodify.node.140008202202544:node.py:get()- No need to evaluate\n"
     ]
    },
    {
     "name": "stderr",
     "output_type": "stream",
     "text": [
      "INFO\tTask(Task-2) nodify.node.140008202200576:node.py:get()- No need to evaluate\n"
     ]
    },
    {
     "name": "stderr",
     "output_type": "stream",
     "text": [
      "INFO\tTask(Task-2) nodify.node.140008202200720:node.py:get()- No need to evaluate\n"
     ]
    },
    {
     "name": "stderr",
     "output_type": "stream",
     "text": [
      "INFO\tTask(Task-2) nodify.node.140008202356592:node.py:get()- No need to evaluate\n"
     ]
    },
    {
     "name": "stderr",
     "output_type": "stream",
     "text": [
      "INFO\tTask(Task-2) nodify.node.140008238803296:node.py:get()- No need to evaluate\n"
     ]
    },
    {
     "name": "stderr",
     "output_type": "stream",
     "text": [
      "INFO\tTask(Task-2) nodify.node.140008202361200:node.py:get()- Evaluated because inputs changed.\n"
     ]
    },
    {
     "name": "stderr",
     "output_type": "stream",
     "text": [
      "INFO\tTask(Task-2) nodify.node.140008202203312:node.py:get()- Evaluated because inputs changed.\n"
     ]
    },
    {
     "name": "stderr",
     "output_type": "stream",
     "text": [
      "INFO\tTask(Task-2) nodify.node.140008202204176:node.py:get()- No need to evaluate\n"
     ]
    },
    {
     "name": "stderr",
     "output_type": "stream",
     "text": [
      "INFO\tTask(Task-2) nodify.node.140008202204368:node.py:get()- No need to evaluate\n"
     ]
    },
    {
     "name": "stderr",
     "output_type": "stream",
     "text": [
      "INFO\tTask(Task-2) nodify.node.140008202204704:node.py:get()- No need to evaluate\n"
     ]
    },
    {
     "name": "stderr",
     "output_type": "stream",
     "text": [
      "INFO\tTask(Task-2) nodify.node.140008202075744:node.py:get()- No need to evaluate\n"
     ]
    },
    {
     "name": "stderr",
     "output_type": "stream",
     "text": [
      "INFO\tTask(Task-2) nodify.node.140008202361488:node.py:get()- Evaluated because inputs changed.\n"
     ]
    },
    {
     "name": "stderr",
     "output_type": "stream",
     "text": [
      "INFO\tTask(Task-2) nodify.node.140008202200576:node.py:get()- No need to evaluate\n"
     ]
    },
    {
     "name": "stderr",
     "output_type": "stream",
     "text": [
      "INFO\tTask(Task-2) nodify.node.140008202200720:node.py:get()- No need to evaluate\n"
     ]
    },
    {
     "name": "stderr",
     "output_type": "stream",
     "text": [
      "INFO\tTask(Task-2) nodify.node.140008202356592:node.py:get()- No need to evaluate\n"
     ]
    },
    {
     "name": "stderr",
     "output_type": "stream",
     "text": [
      "INFO\tTask(Task-2) nodify.node.140008202199232:node.py:get()- No need to evaluate\n"
     ]
    },
    {
     "name": "stderr",
     "output_type": "stream",
     "text": [
      "INFO\tTask(Task-2) nodify.node.140008202199952:node.py:get()- No need to evaluate\n"
     ]
    },
    {
     "name": "stderr",
     "output_type": "stream",
     "text": [
      "INFO\tTask(Task-2) nodify.node.140008202200576:node.py:get()- No need to evaluate\n"
     ]
    },
    {
     "name": "stderr",
     "output_type": "stream",
     "text": [
      "INFO\tTask(Task-2) nodify.node.140008202200768:node.py:get()- No need to evaluate\n"
     ]
    },
    {
     "name": "stderr",
     "output_type": "stream",
     "text": [
      "INFO\tTask(Task-2) nodify.node.140008238801424:node.py:get()- No need to evaluate\n"
     ]
    },
    {
     "name": "stderr",
     "output_type": "stream",
     "text": [
      "INFO\tTask(Task-2) nodify.node.140008202202544:node.py:get()- No need to evaluate\n"
     ]
    },
    {
     "name": "stderr",
     "output_type": "stream",
     "text": [
      "INFO\tTask(Task-2) nodify.node.140008202200576:node.py:get()- No need to evaluate\n"
     ]
    },
    {
     "name": "stderr",
     "output_type": "stream",
     "text": [
      "INFO\tTask(Task-2) nodify.node.140008202200720:node.py:get()- No need to evaluate\n"
     ]
    },
    {
     "name": "stderr",
     "output_type": "stream",
     "text": [
      "INFO\tTask(Task-2) nodify.node.140008202356592:node.py:get()- No need to evaluate\n"
     ]
    },
    {
     "name": "stderr",
     "output_type": "stream",
     "text": [
      "INFO\tTask(Task-2) nodify.node.140008238416432:node.py:get()- No need to evaluate\n"
     ]
    },
    {
     "name": "stderr",
     "output_type": "stream",
     "text": [
      "INFO\tTask(Task-2) nodify.node.140008202357024:node.py:get()- No need to evaluate\n"
     ]
    },
    {
     "name": "stderr",
     "output_type": "stream",
     "text": [
      "INFO\tTask(Task-2) nodify.node.140008202205088:node.py:get()- No need to evaluate\n"
     ]
    },
    {
     "name": "stderr",
     "output_type": "stream",
     "text": [
      "INFO\tTask(Task-2) nodify.node.140008202199328:node.py:get()- No need to evaluate\n"
     ]
    },
    {
     "name": "stderr",
     "output_type": "stream",
     "text": [
      "INFO\tTask(Task-2) nodify.node.140008202201440:node.py:get()- No need to evaluate\n"
     ]
    },
    {
     "name": "stderr",
     "output_type": "stream",
     "text": [
      "INFO\tTask(Task-2) nodify.node.140008202205472:node.py:get()- No need to evaluate\n"
     ]
    },
    {
     "name": "stderr",
     "output_type": "stream",
     "text": [
      "INFO\tTask(Task-2) nodify.node.140008202362256:node.py:get()- Evaluated because inputs changed.\n"
     ]
    },
    {
     "name": "stderr",
     "output_type": "stream",
     "text": [
      "INFO\tTask(Task-2) nodify.node.140008202207008:node.py:get()- No need to evaluate\n"
     ]
    },
    {
     "name": "stderr",
     "output_type": "stream",
     "text": [
      "INFO\tTask(Task-2) nodify.node.140008202200576:node.py:get()- No need to evaluate\n"
     ]
    },
    {
     "name": "stderr",
     "output_type": "stream",
     "text": [
      "INFO\tTask(Task-2) nodify.node.140008202200768:node.py:get()- No need to evaluate\n"
     ]
    },
    {
     "name": "stderr",
     "output_type": "stream",
     "text": [
      "INFO\tTask(Task-2) nodify.node.140008238801424:node.py:get()- No need to evaluate\n"
     ]
    },
    {
     "name": "stderr",
     "output_type": "stream",
     "text": [
      "INFO\tTask(Task-2) nodify.node.140008202202544:node.py:get()- No need to evaluate\n"
     ]
    },
    {
     "name": "stderr",
     "output_type": "stream",
     "text": [
      "INFO\tTask(Task-2) nodify.node.140008202200576:node.py:get()- No need to evaluate\n"
     ]
    },
    {
     "name": "stderr",
     "output_type": "stream",
     "text": [
      "INFO\tTask(Task-2) nodify.node.140008202200720:node.py:get()- No need to evaluate\n"
     ]
    },
    {
     "name": "stderr",
     "output_type": "stream",
     "text": [
      "INFO\tTask(Task-2) nodify.node.140008202356592:node.py:get()- No need to evaluate\n"
     ]
    },
    {
     "name": "stderr",
     "output_type": "stream",
     "text": [
      "INFO\tTask(Task-2) nodify.node.140008238416432:node.py:get()- No need to evaluate\n"
     ]
    },
    {
     "name": "stderr",
     "output_type": "stream",
     "text": [
      "INFO\tTask(Task-2) nodify.node.140008202199328:node.py:get()- No need to evaluate\n"
     ]
    },
    {
     "name": "stderr",
     "output_type": "stream",
     "text": [
      "INFO\tTask(Task-2) nodify.node.140008202201440:node.py:get()- No need to evaluate\n"
     ]
    },
    {
     "name": "stderr",
     "output_type": "stream",
     "text": [
      "INFO\tTask(Task-2) nodify.node.140008202202544:node.py:get()- No need to evaluate\n"
     ]
    },
    {
     "name": "stderr",
     "output_type": "stream",
     "text": [
      "INFO\tTask(Task-2) nodify.node.140008202200576:node.py:get()- No need to evaluate\n"
     ]
    },
    {
     "name": "stderr",
     "output_type": "stream",
     "text": [
      "INFO\tTask(Task-2) nodify.node.140008202200720:node.py:get()- No need to evaluate\n"
     ]
    },
    {
     "name": "stderr",
     "output_type": "stream",
     "text": [
      "INFO\tTask(Task-2) nodify.node.140008202356592:node.py:get()- No need to evaluate\n"
     ]
    },
    {
     "name": "stderr",
     "output_type": "stream",
     "text": [
      "INFO\tTask(Task-2) nodify.node.140008238803296:node.py:get()- No need to evaluate\n"
     ]
    },
    {
     "name": "stderr",
     "output_type": "stream",
     "text": [
      "INFO\tTask(Task-2) nodify.node.140008202354912:node.py:get()- Evaluated because inputs changed.\n"
     ]
    },
    {
     "name": "stderr",
     "output_type": "stream",
     "text": [
      "INFO\tTask(Task-2) nodify.node.140008202200912:node.py:get()- Evaluated because inputs changed.\n"
     ]
    },
    {
     "name": "stderr",
     "output_type": "stream",
     "text": [
      "INFO\tTask(Task-2) nodify.node.140008202064944:node.py:get()- Evaluated because inputs changed.\n"
     ]
    },
    {
     "name": "stderr",
     "output_type": "stream",
     "text": [
      "INFO\tTask(Task-2) nodify.node.140008239474560:node.py:get()- Evaluated because inputs changed.\n"
     ]
    },
    {
     "name": "stderr",
     "output_type": "stream",
     "text": [
      "INFO\tTask(Task-2) nodify.node.140008202363168:node.py:get()- Evaluated because inputs changed.\n"
     ]
    },
    {
     "data": {
      "image/png": "[encoded data removed]"
     },
     "metadata": {},
     "output_type": "display_data"
    }
   ],
   "source": [
    "plot.update_inputs(\n",
    "    axes=\"xyz\",\n",
    "    nsc=[2, 2, 1],\n",
    "    grid_prec=0.1,\n",
    "    transforms=[],\n",
    "    isos=[\n",
    "        {\"val\": -0.07, \"opacity\": 1, \"color\": \"salmon\"},\n",
    "        {\"val\": 0.07, \"opacity\": 0.7, \"color\": \"blue\"},\n",
    "    ],\n",
    "    geom_kwargs={\"atoms_style\": dict(color=[\"orange\", \"red\", \"green\", \"pink\"])},\n",
    ").show(\"png\")"
   ]
  },
  {
   "cell_type": "markdown",
   "metadata": {
    "tags": [
     "notebook-end"
    ]
   },
   "source": [
    "We hope you enjoyed what you learned!"
   ]
  }
 ],
 "metadata": {
  "kernelspec": {
   "display_name": "Python 3 (ipykernel)",
   "language": "python",
   "name": "python3"
  },
  "language_info": {
   "codemirror_mode": {
    "name": "ipython",
    "version": 3
   },
   "file_extension": ".py",
   "mimetype": "text/x-python",
   "name": "python",
   "nbconvert_exporter": "python",
   "pygments_lexer": "ipython3",
   "version": "3.12.11"
  }
 },
 "nbformat": 4,
 "nbformat_minor": 4
}
