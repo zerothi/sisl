{
 "cells": [
  {
   "cell_type": "markdown",
   "metadata": {
    "tags": [
     "notebook-header"
    ]
   },
   "source": [
    "[![GitHub issues by-label](https://img.shields.io/github/issues-raw/pfebrer/sisl/WavefunctionPlot?style=for-the-badge)](https://github.com/pfebrer/sisl/labels/WavefunctionPlot)"
   ]
  },
  {
   "cell_type": "markdown",
   "metadata": {},
   "source": [
    "WavefunctionPlot\n",
    "=========\n",
    "\n",
    "The `WavefunctionPlot` class will help you very easily generate and display wavefunctions from a `Hamiltonian` or any other source. If you already have your wavefunction in a grid, you can use `GridPlot`.  \n",
    "\n",
    "<div class=\"alert alert-info\">\n",
    "    \n",
    "Note\n",
    "    \n",
    "`WavefunctionPlot` is just an extension of `GridPlot`, so everything in [the GridPlot notebook](./GridPlot.ipynb) applies and this notebook **will only display the additional features**.\n",
    "\n",
    "`WavefunctionPlot` changes the defaults of the `axes` and `plot_geom` inputs so that by default the grid is shown in 3D and displaying the geometry.\n",
    "\n",
    "</div>"
   ]
  },
  {
   "cell_type": "code",
   "execution_count": 1,
   "metadata": {
    "execution": {
     "iopub.execute_input": "2025-10-08T13:17:40.197069Z",
     "iopub.status.busy": "2025-10-08T13:17:40.196805Z",
     "iopub.status.idle": "2025-10-08T13:17:41.098247Z",
     "shell.execute_reply": "2025-10-08T13:17:41.097656Z"
    }
   },
   "outputs": [],
   "source": [
    "import sisl"
   ]
  },
  {
   "cell_type": "markdown",
   "metadata": {},
   "source": [
    "## Generating wavefunctions from a hamiltonian\n",
    "\n",
    "We will create a toy graphene tight binding hamiltonian, but you could have read the `Hamiltonian` from any source. Note that your hamiltonian **needs to contain the corresponding geometry with the right orbitals**, otherwise we have no idea what's the shape of the wavefunction."
   ]
  },
  {
   "cell_type": "code",
   "execution_count": 2,
   "metadata": {
    "execution": {
     "iopub.execute_input": "2025-10-08T13:17:41.100343Z",
     "iopub.status.busy": "2025-10-08T13:17:41.100028Z",
     "iopub.status.idle": "2025-10-08T13:17:41.119360Z",
     "shell.execute_reply": "2025-10-08T13:17:41.118799Z"
    }
   },
   "outputs": [],
   "source": [
    "import numpy as np\n",
    "\n",
    "r = np.linspace(0, 3.5, 50)\n",
    "f = np.exp(-r)\n",
    "\n",
    "orb = sisl.AtomicOrbital(\"2pzZ\", (r, f))\n",
    "geom = sisl.geom.graphene(orthogonal=True, atoms=sisl.Atom(6, orb))\n",
    "geom = geom.move([0, 0, 5])\n",
    "H = sisl.Hamiltonian(geom)\n",
    "H.construct(\n",
    "    [(0.1, 1.44), (0, -2.7)],\n",
    ")"
   ]
  },
  {
   "cell_type": "markdown",
   "metadata": {},
   "source": [
    "Now that we have our hamiltonian, plotting a wavefunction is as simple as: "
   ]
  },
  {
   "cell_type": "code",
   "execution_count": 3,
   "metadata": {
    "execution": {
     "iopub.execute_input": "2025-10-08T13:17:41.121257Z",
     "iopub.status.busy": "2025-10-08T13:17:41.120979Z",
     "iopub.status.idle": "2025-10-08T13:17:42.003807Z",
     "shell.execute_reply": "2025-10-08T13:17:42.003306Z"
    }
   },
   "outputs": [
    {
     "data": {
      "text/html": [
       "        <script type=\"text/javascript\">\n",
       "        window.PlotlyConfig = {MathJaxConfig: 'local'};\n",
       "        if (window.MathJax && window.MathJax.Hub && window.MathJax.Hub.Config) {window.MathJax.Hub.Config({SVG: {font: \"STIX-Web\"}});}\n",
       "        </script>\n",
       "        <script type=\"module\">import \"https://cdn.plot.ly/plotly-3.1.1.min\"</script>\n",
       "        "
      ]
     },
     "metadata": {},
     "output_type": "display_data"
    },
    {
     "data": {
      "text/html": [
       "<div>            <script src=\"https://cdnjs.cloudflare.com/ajax/libs/mathjax/2.7.5/MathJax.js?config=TeX-AMS-MML_SVG\"></script><script type=\"text/javascript\">if (window.MathJax && window.MathJax.Hub && window.MathJax.Hub.Config) {window.MathJax.Hub.Config({SVG: {font: \"STIX-Web\"}});}</script>                <script type=\"text/javascript\">window.PlotlyConfig = {MathJaxConfig: 'local'};</script>\n",
       "        <script charset=\"utf-8\" src=\"https://cdn.plot.ly/plotly-3.1.1.min.js\" integrity=\"sha256-HUEFyfiTnZJxCxur99FjbKYTvKSzwDaD3/x5TqHpFu4=\" crossorigin=\"anonymous\"></script>                <div id=\"5d716589-8100-4864-acfd-2b138c9d933b\" class=\"plotly-graph-div\" style=\"height:525px; width:100%;\"></div>            <script type=\"text/javascript\">                window.PLOTLYENV=window.PLOTLYENV || {};                                if (document.getElementById(\"5d716589-8100-4864-acfd-2b138c9d933b\")) {                    Plotly.newPlot(                        \"5d716589-8100-4864-acfd-2b138c9d933b\",                        [{\"meta\":{},\"mode\":\"lines\",\"opacity\":1,\"x\":{\"dtype\":\"f8\",\"bdata\":\"AAAAAAAAAACamZmZmZnJP5qZmZmZmdk\\u002fNDMzMzMz4z+amZmZmZnpPwAAAAAAAPA\\u002fNDMzMzMz8z9nZmZmZmb2P5qZmZmZmfk\\u002fzczMzMzM\\u002fD8AAAAAAAAAQJqZmZmZmQFANDMzMzMzA0DNzMzMzMwEQGdmZmZmZgZAAAAAAAAACECamZmZmZkJQDQzMzMzMwtAzczMzMzMDEBnZmZmZmYOQAAAAAAAABBAzczMzMzMEECamZmZmZkRQGdmZmZmZhJANDMzMzMzE0AAAAAAAAAUQM3MzMzMzBRAmpmZmZmZFUBnZmZmZmYWQDQzMzMzMxdAAAAAAAAAGEDNzMzMzMwYQJqZmZmZmRlAZ2ZmZmZmGkA0MzMzMzMbQAAAAAAAABxAzczMzMzMHECamZmZmZkdQGdmZmZmZh5ANDMzMzMzH0AAAAAAAAAgQGdmZmZmZiBAzczMzMzMIEAzMzMzMzMhQJqZmZmZmSFAAAAAAAAAIkBnZmZmZmYiQM3MzMzMzCJANDMzMzMzI0CamZmZmZkjQAAAAAAAACRAZ2ZmZmZmJEDNzMzMzMwkQDQzMzMzMyVAmpmZmZmZJUAAAAAAAAAmQGdmZmZmZiZAzczMzMzMJkA0MzMzMzMnQJqZmZmZmSdAAAAAAAAAKEBnZmZmZmYoQM3MzMzMzChANDMzMzMzKUCamZmZmZkpQAAAAAAAACpAZ2ZmZmZmKkDNzMzMzMwqQDQzMzMzMytAmpmZmZmZK0AAAAAAAAAsQGdmZmZmZixAzczMzMzMLEA0MzMzMzMtQJqZmZmZmS1AAAAAAAAALkBnZmZmZmYuQM3MzMzMzC5ANDMzMzMzL0CamZmZmZkvQAAAAAAAADBAMzMzMzMzMEBnZmZmZmYwQJqZmZmZmTBAzczMzMzMMEAAAAAAAAAxQDMzMzMzMzFAZ2ZmZmZmMUCamZmZmZkxQM3MzMzMzDFAAAAAAAAAMkAzMzMzMzMyQGdmZmZmZjJAmpmZmZmZMkDNzMzMzMwyQAAAAAAAADNANDMzMzMzM0BnZmZmZmYzQJqZmZmZmTNAzczMzMzMM0A=\"},\"y\":{\"dtype\":\"f8\",\"bdata\":\"AAAAAAAAAAAAAAAAAAAAAAAAAAAAAAAAAAAAAAAAAAAAAAAAAAAAAAAAAAAAAAAAAAAAAAAAAAAAAAAAAAAAAEteEG1WFHo\\u002fZz8GRqzOkz+bI7sT7GyhP9Wkp6v4xqk\\u002fgr+09D5GsT+LwnTRlcW1P\\u002fkXKKNlmLo\\u002fNw2RFpCHvz+gHOcqZjPCP9V8mZxqncQ\\u002fuKdFCE2+xj8pO\\u002fzWAmTIP3wbF\\u002fYUWMk\\u002fuehw3YEqyT8TPpO4r1LHP4EFvroJNsM\\u002fWB\\u002fUuEiptz8AAAAAAAAAAHAf1LhIqbe\\u002fiQW+ugk2w78XPpO4r1LHv7vocN2BKsm\\u002ffBsX9hRYyb8pO\\u002fzWAmTIv7inRQhNvsa\\u002f03yZnGqdxL+fHOcqZjPCvzcNkRaQh7+\\u002f+Bcoo2WYur+LwnTRlcW1v3+\\u002ftPQ+RrG\\u002f0aSnq\\u002fjGqb+aI7sT7Gyhv2M\\u002fBkaszpO\\u002fR14QbVYUer8AAAAAAAAAAAAAAAAAAAAAAAAAAAAAAAAAAAAAAAAAAAAAAAAAAAAAAAAAAAAAAAAAAAAAAAAAAAAAAAAAAAAAAAAAAAAAAAAAAAAAAAAAAAAAAAAAAAAAAAAAAAAAAAAAAAAAAAAAAAAAAAAAAAAAAAAAAAAAAAAAAAAAAAAAAAAAAAAAAAAAAAAAAAAAAAAAAAAAAAAAAAAAAAAAAAAAAAAAAAAAAAAAAAAAAAAAAAAAAAAAAAAAAAAAAAAAAAAAAAAAAAAAAAAAAAAAAAAAAAAAAAAAAAAAAAAAAAAAAAAAAAAAAAAAAAAAAAAAAAAAAAAAAAAAAAAAAAAAAAAAAAAAAAAAAAAAAAAAAAAAAAAAAAAAAAAAAAAAAAAAAAAAAAAAAAAAAAAAAAAAAAAAAAAAAAAAAAAAAAAAAAAAAAAAAAAAAAAAAAAAAAAAAAAAAAAAAAAAAAAAAAAAAAAAAAAAAAAAAAAAAAAAAAAAAAAAAAAAAAAAAAAAAAAAAAAAAAAAAAAAAAAAAAAAAAAAAAAAAAAAAAAAAAAAAAAAAAAAAAAAAAAAAAAAAAAAAAAAAAAAAAAAAAAAAAAAAAAAAAAAAAAAAAA=\"},\"type\":\"scatter\"},{\"meta\":{},\"mode\":\"lines\",\"name\":\"Unit cell\",\"x\":{\"dtype\":\"f8\",\"bdata\":\"AAAAAAAAAAAAAAAAAAAAAAAAAAAAAAAAAAAAAAAANEAAAAAAAAA0QAAAAAAAAAAAAAAAAAAA+H8AAAAAAAA0QAAAAAAAADRAAAAAAAAAAAAAAAAAAAAAAAAAAAAAADRAAAAAAAAANEAAAAAAAAD4fwAAAAAAAAAAAAAAAAAAAAAAAAAAAAD4fwAAAAAAADRAAAAAAAAANEA=\"},\"y\":{\"dtype\":\"f8\",\"bdata\":\"AAAAAAAAAAAAAAAAAAAAAAAAAAAAAAAAAAAAAAAAAAAAAAAAAAAAAAAAAAAAAAAAAAAAAAAAAAAAAAAAAAAAAAAAAAAAAAAAAAAAAAAAAAAAAAAAAAAAAAAAAAAAAAAAAAAAAAAAAAAAAAAAAAAAAAAAAAAAAAAAAAAAAAAAAAAAAAAAAAAAAAAAAAAAAAAAAAAAAAAAAAA=\"},\"type\":\"scatter\"}],                        {\"template\":{\"layout\":{\"hovermode\":\"closest\",\"paper_bgcolor\":\"white\",\"plot_bgcolor\":\"white\",\"scene\":{\"xaxis\":{\"color\":\"black\",\"gridcolor\":\"#ccc\",\"gridwidth\":1,\"linewidth\":1,\"mirror\":true,\"showgrid\":false,\"showline\":true,\"ticklen\":5,\"ticks\":\"outside\",\"ticksuffix\":\" \",\"visible\":true,\"zeroline\":false,\"zerolinecolor\":\"#ccc\",\"zerolinewidth\":1},\"yaxis\":{\"color\":\"black\",\"gridcolor\":\"#ccc\",\"gridwidth\":1,\"linewidth\":1,\"mirror\":true,\"showgrid\":false,\"showline\":true,\"ticklen\":5,\"ticks\":\"outside\",\"ticksuffix\":\" \",\"visible\":true,\"zeroline\":false,\"zerolinecolor\":\"#ccc\",\"zerolinewidth\":1},\"zaxis\":{\"color\":\"black\",\"gridcolor\":\"#ccc\",\"gridwidth\":1,\"linewidth\":1,\"mirror\":true,\"showgrid\":false,\"showline\":true,\"ticklen\":5,\"ticks\":\"outside\",\"ticksuffix\":\" \",\"visible\":true,\"zeroline\":false,\"zerolinecolor\":\"#ccc\",\"zerolinewidth\":1}},\"xaxis\":{\"color\":\"black\",\"gridcolor\":\"#ccc\",\"gridwidth\":1,\"linewidth\":1,\"mirror\":true,\"showgrid\":false,\"showline\":true,\"ticklen\":5,\"ticks\":\"outside\",\"ticksuffix\":\" \",\"visible\":true,\"zeroline\":false,\"zerolinecolor\":\"#ccc\",\"zerolinewidth\":1},\"yaxis\":{\"color\":\"black\",\"gridcolor\":\"#ccc\",\"gridwidth\":1,\"linewidth\":1,\"mirror\":true,\"showgrid\":false,\"showline\":true,\"ticklen\":5,\"ticks\":\"outside\",\"ticksuffix\":\" \",\"visible\":true,\"zeroline\":false,\"zerolinecolor\":\"#ccc\",\"zerolinewidth\":1}}},\"scene\":{\"xaxis\":{\"title\":{\"text\":\"Z axis [Ang]\"}},\"yaxis\":{\"title\":{\"text\":\"y\"}}},\"xaxis\":{\"title\":{\"text\":\"Z axis [Ang]\"}},\"yaxis\":{\"title\":{\"text\":\"y\"}}},                        {\"responsive\": true}                    ).then(function(){\n",
       "                            \n",
       "var gd = document.getElementById('5d716589-8100-4864-acfd-2b138c9d933b');\n",
       "var x = new MutationObserver(function (mutations, observer) {{\n",
       "        var display = window.getComputedStyle(gd).display;\n",
       "        if (!display || display === 'none') {{\n",
       "            console.log([gd, 'removed!']);\n",
       "            Plotly.purge(gd);\n",
       "            observer.disconnect();\n",
       "        }}\n",
       "}});\n",
       "\n",
       "// Listen for the removal of the full notebook cells\n",
       "var notebookContainer = gd.closest('#notebook-container');\n",
       "if (notebookContainer) {{\n",
       "    x.observe(notebookContainer, {childList: true});\n",
       "}}\n",
       "\n",
       "// Listen for the clearing of the current output cell\n",
       "var outputEl = gd.closest('.output');\n",
       "if (outputEl) {{\n",
       "    x.observe(outputEl, {childList: true});\n",
       "}}\n",
       "\n",
       "                        })                };            </script>        </div>"
      ]
     },
     "metadata": {},
     "output_type": "display_data"
    }
   ],
   "source": [
    "H.plot.wavefunction()"
   ]
  },
  {
   "cell_type": "markdown",
   "metadata": {},
   "source": [
    "This is a very delocalized state, so its representation in 3D is not very interesting"
   ]
  },
  {
   "cell_type": "markdown",
   "metadata": {},
   "source": [
    "## Selecting the wavefunction\n",
    "\n",
    "By default, `WavefunctionPlot` gives you the first wavefunction at the gamma point. You can control this behavior by tuning the `i` and `k` settings.\n",
    "\n",
    "For example, to get the second wavefunction at the gamma point:"
   ]
  },
  {
   "cell_type": "code",
   "execution_count": 4,
   "metadata": {
    "execution": {
     "iopub.execute_input": "2025-10-08T13:17:42.005599Z",
     "iopub.status.busy": "2025-10-08T13:17:42.005429Z",
     "iopub.status.idle": "2025-10-08T13:17:42.229177Z",
     "shell.execute_reply": "2025-10-08T13:17:42.228667Z"
    }
   },
   "outputs": [
    {
     "name": "stderr",
     "output_type": "stream",
     "text": [
      "INFO\tTask(Task-2) nodify.node.139728169622496:node.py:get()- Evaluated because inputs changed.\n"
     ]
    },
    {
     "name": "stderr",
     "output_type": "stream",
     "text": [
      "INFO\tTask(Task-2) nodify.node.139728169514192:node.py:get()- Evaluated because inputs changed.\n"
     ]
    },
    {
     "name": "stderr",
     "output_type": "stream",
     "text": [
      "INFO\tTask(Task-2) nodify.node.139728169514720:node.py:get()- Evaluated because inputs changed.\n"
     ]
    },
    {
     "name": "stderr",
     "output_type": "stream",
     "text": [
      "INFO\tTask(Task-2) nodify.node.139728210345568:node.py:get()- Evaluated because inputs changed.\n"
     ]
    },
    {
     "name": "stderr",
     "output_type": "stream",
     "text": [
      "INFO\tTask(Task-2) nodify.node.139728169515104:node.py:get()- Evaluated because inputs changed.\n"
     ]
    },
    {
     "name": "stderr",
     "output_type": "stream",
     "text": [
      "INFO\tTask(Task-2) nodify.node.139728169515728:node.py:get()- Evaluated because inputs changed.\n"
     ]
    },
    {
     "name": "stderr",
     "output_type": "stream",
     "text": [
      "INFO\tTask(Task-2) nodify.node.139728169514192:node.py:get()- No need to evaluate\n"
     ]
    },
    {
     "name": "stderr",
     "output_type": "stream",
     "text": [
      "INFO\tTask(Task-2) nodify.node.139728169514912:node.py:get()- Evaluated because inputs changed.\n"
     ]
    },
    {
     "name": "stderr",
     "output_type": "stream",
     "text": [
      "INFO\tTask(Task-2) nodify.node.139728169624224:node.py:get()- Evaluated because inputs changed.\n"
     ]
    },
    {
     "name": "stderr",
     "output_type": "stream",
     "text": [
      "INFO\tTask(Task-2) nodify.node.139728169616880:node.py:get()- Evaluated because inputs changed.\n"
     ]
    },
    {
     "name": "stderr",
     "output_type": "stream",
     "text": [
      "INFO\tTask(Task-2) nodify.node.139728169514192:node.py:get()- No need to evaluate\n"
     ]
    },
    {
     "name": "stderr",
     "output_type": "stream",
     "text": [
      "INFO\tTask(Task-2) nodify.node.139728169514720:node.py:get()- No need to evaluate\n"
     ]
    },
    {
     "name": "stderr",
     "output_type": "stream",
     "text": [
      "INFO\tTask(Task-2) nodify.node.139728210345568:node.py:get()- No need to evaluate\n"
     ]
    },
    {
     "name": "stderr",
     "output_type": "stream",
     "text": [
      "INFO\tTask(Task-2) nodify.node.139728169623984:node.py:get()- Evaluated because inputs changed.\n"
     ]
    },
    {
     "name": "stderr",
     "output_type": "stream",
     "text": [
      "INFO\tTask(Task-2) nodify.node.139728169624368:node.py:get()- Evaluated because inputs changed.\n"
     ]
    },
    {
     "name": "stderr",
     "output_type": "stream",
     "text": [
      "INFO\tTask(Task-2) nodify.node.139728169516544:node.py:get()- Evaluated because inputs changed.\n"
     ]
    },
    {
     "name": "stderr",
     "output_type": "stream",
     "text": [
      "INFO\tTask(Task-2) nodify.node.139728169624992:node.py:get()- Evaluated because inputs changed.\n"
     ]
    },
    {
     "name": "stderr",
     "output_type": "stream",
     "text": [
      "INFO\tTask(Task-2) nodify.node.139728169616880:node.py:get()- No need to evaluate\n"
     ]
    },
    {
     "name": "stderr",
     "output_type": "stream",
     "text": [
      "INFO\tTask(Task-2) nodify.node.139728169514192:node.py:get()- No need to evaluate\n"
     ]
    },
    {
     "name": "stderr",
     "output_type": "stream",
     "text": [
      "INFO\tTask(Task-2) nodify.node.139728169514720:node.py:get()- No need to evaluate\n"
     ]
    },
    {
     "name": "stderr",
     "output_type": "stream",
     "text": [
      "INFO\tTask(Task-2) nodify.node.139728210345568:node.py:get()- No need to evaluate\n"
     ]
    },
    {
     "name": "stderr",
     "output_type": "stream",
     "text": [
      "INFO\tTask(Task-2) nodify.node.139728207155120:node.py:get()- Evaluated because inputs changed.\n"
     ]
    },
    {
     "name": "stderr",
     "output_type": "stream",
     "text": [
      "INFO\tTask(Task-2) nodify.node.139728206969264:node.py:get()- Evaluated because inputs changed.\n"
     ]
    },
    {
     "name": "stderr",
     "output_type": "stream",
     "text": [
      "INFO\tTask(Task-2) nodify.node.139728169516112:node.py:get()- Evaluated because inputs changed.\n"
     ]
    },
    {
     "name": "stderr",
     "output_type": "stream",
     "text": [
      "INFO\tTask(Task-2) nodify.node.139728169626192:node.py:get()- Evaluated because inputs changed.\n"
     ]
    },
    {
     "name": "stderr",
     "output_type": "stream",
     "text": [
      "INFO\tTask(Task-2) nodify.node.139728169616208:node.py:get()- Evaluated because inputs changed.\n"
     ]
    },
    {
     "name": "stderr",
     "output_type": "stream",
     "text": [
      "INFO\tTask(Task-2) nodify.node.139728169512992:node.py:get()- Evaluated because inputs changed.\n"
     ]
    },
    {
     "name": "stderr",
     "output_type": "stream",
     "text": [
      "INFO\tTask(Task-2) nodify.node.139728169615440:node.py:get()- Evaluated because inputs changed.\n"
     ]
    },
    {
     "name": "stderr",
     "output_type": "stream",
     "text": [
      "INFO\tTask(Task-2) nodify.node.139728207585664:node.py:get()- Evaluated because inputs changed.\n"
     ]
    },
    {
     "name": "stderr",
     "output_type": "stream",
     "text": [
      "INFO\tTask(Task-2) nodify.node.139728169620576:node.py:get()- Evaluated because inputs changed.\n"
     ]
    },
    {
     "name": "stderr",
     "output_type": "stream",
     "text": [
      "INFO\tTask(Task-2) nodify.node.139728169620960:node.py:get()- Evaluated because inputs changed.\n"
     ]
    },
    {
     "name": "stderr",
     "output_type": "stream",
     "text": [
      "INFO\tTask(Task-2) nodify.node.139728169621344:node.py:get()- Evaluated because inputs changed.\n"
     ]
    },
    {
     "name": "stderr",
     "output_type": "stream",
     "text": [
      "INFO\tTask(Task-2) nodify.node.139728169627200:node.py:get()- Evaluated because inputs changed.\n"
     ]
    },
    {
     "name": "stderr",
     "output_type": "stream",
     "text": [
      "INFO\tTask(Task-2) nodify.node.139728169615824:node.py:get()- Evaluated because inputs changed.\n"
     ]
    },
    {
     "name": "stderr",
     "output_type": "stream",
     "text": [
      "INFO\tTask(Task-2) nodify.node.139728169514192:node.py:get()- No need to evaluate\n"
     ]
    },
    {
     "name": "stderr",
     "output_type": "stream",
     "text": [
      "INFO\tTask(Task-2) nodify.node.139728169514720:node.py:get()- No need to evaluate\n"
     ]
    },
    {
     "name": "stderr",
     "output_type": "stream",
     "text": [
      "INFO\tTask(Task-2) nodify.node.139728210345568:node.py:get()- No need to evaluate\n"
     ]
    },
    {
     "name": "stderr",
     "output_type": "stream",
     "text": [
      "INFO\tTask(Task-2) nodify.node.139728169515104:node.py:get()- No need to evaluate\n"
     ]
    },
    {
     "name": "stderr",
     "output_type": "stream",
     "text": [
      "INFO\tTask(Task-2) nodify.node.139728169515728:node.py:get()- No need to evaluate\n"
     ]
    },
    {
     "name": "stderr",
     "output_type": "stream",
     "text": [
      "INFO\tTask(Task-2) nodify.node.139728169514192:node.py:get()- No need to evaluate\n"
     ]
    },
    {
     "name": "stderr",
     "output_type": "stream",
     "text": [
      "INFO\tTask(Task-2) nodify.node.139728169514912:node.py:get()- No need to evaluate\n"
     ]
    },
    {
     "name": "stderr",
     "output_type": "stream",
     "text": [
      "INFO\tTask(Task-2) nodify.node.139728169624224:node.py:get()- No need to evaluate\n"
     ]
    },
    {
     "name": "stderr",
     "output_type": "stream",
     "text": [
      "INFO\tTask(Task-2) nodify.node.139728169616880:node.py:get()- No need to evaluate\n"
     ]
    },
    {
     "name": "stderr",
     "output_type": "stream",
     "text": [
      "INFO\tTask(Task-2) nodify.node.139728169514192:node.py:get()- No need to evaluate\n"
     ]
    },
    {
     "name": "stderr",
     "output_type": "stream",
     "text": [
      "INFO\tTask(Task-2) nodify.node.139728169514720:node.py:get()- No need to evaluate\n"
     ]
    },
    {
     "name": "stderr",
     "output_type": "stream",
     "text": [
      "INFO\tTask(Task-2) nodify.node.139728210345568:node.py:get()- No need to evaluate\n"
     ]
    },
    {
     "name": "stderr",
     "output_type": "stream",
     "text": [
      "INFO\tTask(Task-2) nodify.node.139728169623984:node.py:get()- No need to evaluate\n"
     ]
    },
    {
     "name": "stderr",
     "output_type": "stream",
     "text": [
      "INFO\tTask(Task-2) nodify.node.139728169624368:node.py:get()- No need to evaluate\n"
     ]
    },
    {
     "name": "stderr",
     "output_type": "stream",
     "text": [
      "INFO\tTask(Task-2) nodify.node.139728169516544:node.py:get()- No need to evaluate\n"
     ]
    },
    {
     "name": "stderr",
     "output_type": "stream",
     "text": [
      "INFO\tTask(Task-2) nodify.node.139728169624992:node.py:get()- No need to evaluate\n"
     ]
    },
    {
     "name": "stderr",
     "output_type": "stream",
     "text": [
      "INFO\tTask(Task-2) nodify.node.139728169616880:node.py:get()- No need to evaluate\n"
     ]
    },
    {
     "name": "stderr",
     "output_type": "stream",
     "text": [
      "INFO\tTask(Task-2) nodify.node.139728169514192:node.py:get()- No need to evaluate\n"
     ]
    },
    {
     "name": "stderr",
     "output_type": "stream",
     "text": [
      "INFO\tTask(Task-2) nodify.node.139728169514720:node.py:get()- No need to evaluate\n"
     ]
    },
    {
     "name": "stderr",
     "output_type": "stream",
     "text": [
      "INFO\tTask(Task-2) nodify.node.139728210345568:node.py:get()- No need to evaluate\n"
     ]
    },
    {
     "name": "stderr",
     "output_type": "stream",
     "text": [
      "INFO\tTask(Task-2) nodify.node.139728207155120:node.py:get()- No need to evaluate\n"
     ]
    },
    {
     "name": "stderr",
     "output_type": "stream",
     "text": [
      "INFO\tTask(Task-2) nodify.node.139728206969264:node.py:get()- No need to evaluate\n"
     ]
    },
    {
     "name": "stderr",
     "output_type": "stream",
     "text": [
      "INFO\tTask(Task-2) nodify.node.139728169516112:node.py:get()- No need to evaluate\n"
     ]
    },
    {
     "name": "stderr",
     "output_type": "stream",
     "text": [
      "INFO\tTask(Task-2) nodify.node.139728169626192:node.py:get()- No need to evaluate\n"
     ]
    },
    {
     "name": "stderr",
     "output_type": "stream",
     "text": [
      "INFO\tTask(Task-2) nodify.node.139728169616208:node.py:get()- No need to evaluate\n"
     ]
    },
    {
     "name": "stderr",
     "output_type": "stream",
     "text": [
      "INFO\tTask(Task-2) nodify.node.139728169512992:node.py:get()- No need to evaluate\n"
     ]
    },
    {
     "name": "stderr",
     "output_type": "stream",
     "text": [
      "INFO\tTask(Task-2) nodify.node.139728169516112:node.py:get()- No need to evaluate\n"
     ]
    },
    {
     "name": "stderr",
     "output_type": "stream",
     "text": [
      "INFO\tTask(Task-2) nodify.node.139728169626192:node.py:get()- No need to evaluate\n"
     ]
    },
    {
     "name": "stderr",
     "output_type": "stream",
     "text": [
      "INFO\tTask(Task-2) nodify.node.139728171613792:node.py:get()- Evaluated because inputs changed.\n"
     ]
    },
    {
     "name": "stderr",
     "output_type": "stream",
     "text": [
      "INFO\tTask(Task-2) nodify.node.139728169627008:node.py:get()- Evaluated because inputs changed.\n"
     ]
    },
    {
     "name": "stderr",
     "output_type": "stream",
     "text": [
      "INFO\tTask(Task-2) nodify.node.139728169617408:node.py:get()- Evaluated because inputs changed.\n"
     ]
    },
    {
     "name": "stderr",
     "output_type": "stream",
     "text": [
      "INFO\tTask(Task-2) nodify.node.139728169627344:node.py:get()- Evaluated because inputs changed.\n"
     ]
    },
    {
     "name": "stderr",
     "output_type": "stream",
     "text": [
      "INFO\tTask(Task-2) nodify.node.139728169516112:node.py:get()- No need to evaluate\n"
     ]
    },
    {
     "name": "stderr",
     "output_type": "stream",
     "text": [
      "INFO\tTask(Task-2) nodify.node.139728169626192:node.py:get()- No need to evaluate\n"
     ]
    },
    {
     "name": "stderr",
     "output_type": "stream",
     "text": [
      "INFO\tTask(Task-2) nodify.node.139728169514192:node.py:get()- No need to evaluate\n"
     ]
    },
    {
     "name": "stderr",
     "output_type": "stream",
     "text": [
      "INFO\tTask(Task-2) nodify.node.139728169514720:node.py:get()- No need to evaluate\n"
     ]
    },
    {
     "name": "stderr",
     "output_type": "stream",
     "text": [
      "INFO\tTask(Task-2) nodify.node.139728210345568:node.py:get()- No need to evaluate\n"
     ]
    },
    {
     "name": "stderr",
     "output_type": "stream",
     "text": [
      "INFO\tTask(Task-2) nodify.node.139728169515104:node.py:get()- No need to evaluate\n"
     ]
    },
    {
     "name": "stderr",
     "output_type": "stream",
     "text": [
      "INFO\tTask(Task-2) nodify.node.139728169515728:node.py:get()- No need to evaluate\n"
     ]
    },
    {
     "name": "stderr",
     "output_type": "stream",
     "text": [
      "INFO\tTask(Task-2) nodify.node.139728169514192:node.py:get()- No need to evaluate\n"
     ]
    },
    {
     "name": "stderr",
     "output_type": "stream",
     "text": [
      "INFO\tTask(Task-2) nodify.node.139728169514912:node.py:get()- No need to evaluate\n"
     ]
    },
    {
     "name": "stderr",
     "output_type": "stream",
     "text": [
      "INFO\tTask(Task-2) nodify.node.139728169624224:node.py:get()- No need to evaluate\n"
     ]
    },
    {
     "name": "stderr",
     "output_type": "stream",
     "text": [
      "INFO\tTask(Task-2) nodify.node.139728169616880:node.py:get()- No need to evaluate\n"
     ]
    },
    {
     "name": "stderr",
     "output_type": "stream",
     "text": [
      "INFO\tTask(Task-2) nodify.node.139728169514192:node.py:get()- No need to evaluate\n"
     ]
    },
    {
     "name": "stderr",
     "output_type": "stream",
     "text": [
      "INFO\tTask(Task-2) nodify.node.139728169514720:node.py:get()- No need to evaluate\n"
     ]
    },
    {
     "name": "stderr",
     "output_type": "stream",
     "text": [
      "INFO\tTask(Task-2) nodify.node.139728210345568:node.py:get()- No need to evaluate\n"
     ]
    },
    {
     "name": "stderr",
     "output_type": "stream",
     "text": [
      "INFO\tTask(Task-2) nodify.node.139728169623984:node.py:get()- No need to evaluate\n"
     ]
    },
    {
     "name": "stderr",
     "output_type": "stream",
     "text": [
      "INFO\tTask(Task-2) nodify.node.139728169624368:node.py:get()- No need to evaluate\n"
     ]
    },
    {
     "name": "stderr",
     "output_type": "stream",
     "text": [
      "INFO\tTask(Task-2) nodify.node.139728169516544:node.py:get()- No need to evaluate\n"
     ]
    },
    {
     "name": "stderr",
     "output_type": "stream",
     "text": [
      "INFO\tTask(Task-2) nodify.node.139728169624992:node.py:get()- No need to evaluate\n"
     ]
    },
    {
     "name": "stderr",
     "output_type": "stream",
     "text": [
      "INFO\tTask(Task-2) nodify.node.139728169616880:node.py:get()- No need to evaluate\n"
     ]
    },
    {
     "name": "stderr",
     "output_type": "stream",
     "text": [
      "INFO\tTask(Task-2) nodify.node.139728169514192:node.py:get()- No need to evaluate\n"
     ]
    },
    {
     "name": "stderr",
     "output_type": "stream",
     "text": [
      "INFO\tTask(Task-2) nodify.node.139728169514720:node.py:get()- No need to evaluate\n"
     ]
    },
    {
     "name": "stderr",
     "output_type": "stream",
     "text": [
      "INFO\tTask(Task-2) nodify.node.139728210345568:node.py:get()- No need to evaluate\n"
     ]
    },
    {
     "name": "stderr",
     "output_type": "stream",
     "text": [
      "INFO\tTask(Task-2) nodify.node.139728207155120:node.py:get()- No need to evaluate\n"
     ]
    },
    {
     "name": "stderr",
     "output_type": "stream",
     "text": [
      "INFO\tTask(Task-2) nodify.node.139728206969264:node.py:get()- No need to evaluate\n"
     ]
    },
    {
     "name": "stderr",
     "output_type": "stream",
     "text": [
      "INFO\tTask(Task-2) nodify.node.139728169516112:node.py:get()- No need to evaluate\n"
     ]
    },
    {
     "name": "stderr",
     "output_type": "stream",
     "text": [
      "INFO\tTask(Task-2) nodify.node.139728169626192:node.py:get()- No need to evaluate\n"
     ]
    },
    {
     "name": "stderr",
     "output_type": "stream",
     "text": [
      "INFO\tTask(Task-2) nodify.node.139728169616208:node.py:get()- No need to evaluate\n"
     ]
    },
    {
     "name": "stderr",
     "output_type": "stream",
     "text": [
      "INFO\tTask(Task-2) nodify.node.139728169512992:node.py:get()- No need to evaluate\n"
     ]
    },
    {
     "name": "stderr",
     "output_type": "stream",
     "text": [
      "INFO\tTask(Task-2) nodify.node.139728169516112:node.py:get()- No need to evaluate\n"
     ]
    },
    {
     "name": "stderr",
     "output_type": "stream",
     "text": [
      "INFO\tTask(Task-2) nodify.node.139728169626192:node.py:get()- No need to evaluate\n"
     ]
    },
    {
     "name": "stderr",
     "output_type": "stream",
     "text": [
      "INFO\tTask(Task-2) nodify.node.139728171613792:node.py:get()- No need to evaluate\n"
     ]
    },
    {
     "name": "stderr",
     "output_type": "stream",
     "text": [
      "INFO\tTask(Task-2) nodify.node.139728169616880:node.py:get()- No need to evaluate\n"
     ]
    },
    {
     "name": "stderr",
     "output_type": "stream",
     "text": [
      "INFO\tTask(Task-2) nodify.node.139728169514192:node.py:get()- No need to evaluate\n"
     ]
    },
    {
     "name": "stderr",
     "output_type": "stream",
     "text": [
      "INFO\tTask(Task-2) nodify.node.139728169514720:node.py:get()- No need to evaluate\n"
     ]
    },
    {
     "name": "stderr",
     "output_type": "stream",
     "text": [
      "INFO\tTask(Task-2) nodify.node.139728210345568:node.py:get()- No need to evaluate\n"
     ]
    },
    {
     "name": "stderr",
     "output_type": "stream",
     "text": [
      "INFO\tTask(Task-2) nodify.node.139728207155120:node.py:get()- No need to evaluate\n"
     ]
    },
    {
     "name": "stderr",
     "output_type": "stream",
     "text": [
      "INFO\tTask(Task-2) nodify.node.139728169628256:node.py:get()- Evaluated because inputs changed.\n"
     ]
    },
    {
     "name": "stderr",
     "output_type": "stream",
     "text": [
      "INFO\tTask(Task-2) nodify.node.139728169617792:node.py:get()- Evaluated because inputs changed.\n"
     ]
    },
    {
     "name": "stderr",
     "output_type": "stream",
     "text": [
      "INFO\tTask(Task-2) nodify.node.139728169507712:node.py:get()- Evaluated because inputs changed.\n"
     ]
    },
    {
     "name": "stderr",
     "output_type": "stream",
     "text": [
      "INFO\tTask(Task-2) nodify.node.139728169512128:node.py:get()- Evaluated because inputs changed.\n"
     ]
    },
    {
     "name": "stderr",
     "output_type": "stream",
     "text": [
      "INFO\tTask(Task-2) nodify.node.139728169619424:node.py:get()- Evaluated because inputs changed.\n"
     ]
    },
    {
     "name": "stderr",
     "output_type": "stream",
     "text": [
      "INFO\tTask(Task-2) nodify.node.139728169618176:node.py:get()- Evaluated because inputs changed.\n"
     ]
    },
    {
     "name": "stderr",
     "output_type": "stream",
     "text": [
      "INFO\tTask(Task-2) nodify.node.139728169628544:node.py:get()- Evaluated because inputs changed.\n"
     ]
    },
    {
     "name": "stderr",
     "output_type": "stream",
     "text": [
      "INFO\tTask(Task-2) nodify.node.139728169514192:node.py:get()- No need to evaluate\n"
     ]
    },
    {
     "name": "stderr",
     "output_type": "stream",
     "text": [
      "INFO\tTask(Task-2) nodify.node.139728169514720:node.py:get()- No need to evaluate\n"
     ]
    },
    {
     "name": "stderr",
     "output_type": "stream",
     "text": [
      "INFO\tTask(Task-2) nodify.node.139728210345568:node.py:get()- No need to evaluate\n"
     ]
    },
    {
     "name": "stderr",
     "output_type": "stream",
     "text": [
      "INFO\tTask(Task-2) nodify.node.139728169515104:node.py:get()- No need to evaluate\n"
     ]
    },
    {
     "name": "stderr",
     "output_type": "stream",
     "text": [
      "INFO\tTask(Task-2) nodify.node.139728169515728:node.py:get()- No need to evaluate\n"
     ]
    },
    {
     "name": "stderr",
     "output_type": "stream",
     "text": [
      "INFO\tTask(Task-2) nodify.node.139728169514192:node.py:get()- No need to evaluate\n"
     ]
    },
    {
     "name": "stderr",
     "output_type": "stream",
     "text": [
      "INFO\tTask(Task-2) nodify.node.139728169514912:node.py:get()- No need to evaluate\n"
     ]
    },
    {
     "name": "stderr",
     "output_type": "stream",
     "text": [
      "INFO\tTask(Task-2) nodify.node.139728169624224:node.py:get()- No need to evaluate\n"
     ]
    },
    {
     "name": "stderr",
     "output_type": "stream",
     "text": [
      "INFO\tTask(Task-2) nodify.node.139728169616880:node.py:get()- No need to evaluate\n"
     ]
    },
    {
     "name": "stderr",
     "output_type": "stream",
     "text": [
      "INFO\tTask(Task-2) nodify.node.139728169514192:node.py:get()- No need to evaluate\n"
     ]
    },
    {
     "name": "stderr",
     "output_type": "stream",
     "text": [
      "INFO\tTask(Task-2) nodify.node.139728169514720:node.py:get()- No need to evaluate\n"
     ]
    },
    {
     "name": "stderr",
     "output_type": "stream",
     "text": [
      "INFO\tTask(Task-2) nodify.node.139728210345568:node.py:get()- No need to evaluate\n"
     ]
    },
    {
     "name": "stderr",
     "output_type": "stream",
     "text": [
      "INFO\tTask(Task-2) nodify.node.139728169623984:node.py:get()- No need to evaluate\n"
     ]
    },
    {
     "name": "stderr",
     "output_type": "stream",
     "text": [
      "INFO\tTask(Task-2) nodify.node.139728169624368:node.py:get()- No need to evaluate\n"
     ]
    },
    {
     "name": "stderr",
     "output_type": "stream",
     "text": [
      "INFO\tTask(Task-2) nodify.node.139728169619808:node.py:get()- Evaluated because inputs changed.\n"
     ]
    },
    {
     "name": "stderr",
     "output_type": "stream",
     "text": [
      "INFO\tTask(Task-2) nodify.node.139728169516112:node.py:get()- No need to evaluate\n"
     ]
    },
    {
     "name": "stderr",
     "output_type": "stream",
     "text": [
      "INFO\tTask(Task-2) nodify.node.139728169626192:node.py:get()- No need to evaluate\n"
     ]
    },
    {
     "name": "stderr",
     "output_type": "stream",
     "text": [
      "INFO\tTask(Task-2) nodify.node.139728169620192:node.py:get()- Evaluated because inputs changed.\n"
     ]
    },
    {
     "name": "stderr",
     "output_type": "stream",
     "text": [
      "INFO\tTask(Task-2) nodify.node.139728169629408:node.py:get()- Evaluated because inputs changed.\n"
     ]
    },
    {
     "name": "stderr",
     "output_type": "stream",
     "text": [
      "INFO\tTask(Task-2) nodify.node.139728169621728:node.py:get()- Evaluated because inputs changed.\n"
     ]
    },
    {
     "name": "stderr",
     "output_type": "stream",
     "text": [
      "INFO\tTask(Task-2) nodify.node.139728169514192:node.py:get()- No need to evaluate\n"
     ]
    },
    {
     "name": "stderr",
     "output_type": "stream",
     "text": [
      "INFO\tTask(Task-2) nodify.node.139728169514912:node.py:get()- No need to evaluate\n"
     ]
    },
    {
     "name": "stderr",
     "output_type": "stream",
     "text": [
      "INFO\tTask(Task-2) nodify.node.139728169624224:node.py:get()- No need to evaluate\n"
     ]
    },
    {
     "name": "stderr",
     "output_type": "stream",
     "text": [
      "INFO\tTask(Task-2) nodify.node.139728169616880:node.py:get()- No need to evaluate\n"
     ]
    },
    {
     "name": "stderr",
     "output_type": "stream",
     "text": [
      "INFO\tTask(Task-2) nodify.node.139728169514192:node.py:get()- No need to evaluate\n"
     ]
    },
    {
     "name": "stderr",
     "output_type": "stream",
     "text": [
      "INFO\tTask(Task-2) nodify.node.139728169514720:node.py:get()- No need to evaluate\n"
     ]
    },
    {
     "name": "stderr",
     "output_type": "stream",
     "text": [
      "INFO\tTask(Task-2) nodify.node.139728210345568:node.py:get()- No need to evaluate\n"
     ]
    },
    {
     "name": "stderr",
     "output_type": "stream",
     "text": [
      "INFO\tTask(Task-2) nodify.node.139728169623984:node.py:get()- No need to evaluate\n"
     ]
    },
    {
     "name": "stderr",
     "output_type": "stream",
     "text": [
      "INFO\tTask(Task-2) nodify.node.139728169516112:node.py:get()- No need to evaluate\n"
     ]
    },
    {
     "name": "stderr",
     "output_type": "stream",
     "text": [
      "INFO\tTask(Task-2) nodify.node.139728169626192:node.py:get()- No need to evaluate\n"
     ]
    },
    {
     "name": "stderr",
     "output_type": "stream",
     "text": [
      "INFO\tTask(Task-2) nodify.node.139728169616880:node.py:get()- No need to evaluate\n"
     ]
    },
    {
     "name": "stderr",
     "output_type": "stream",
     "text": [
      "INFO\tTask(Task-2) nodify.node.139728169514192:node.py:get()- No need to evaluate\n"
     ]
    },
    {
     "name": "stderr",
     "output_type": "stream",
     "text": [
      "INFO\tTask(Task-2) nodify.node.139728169514720:node.py:get()- No need to evaluate\n"
     ]
    },
    {
     "name": "stderr",
     "output_type": "stream",
     "text": [
      "INFO\tTask(Task-2) nodify.node.139728210345568:node.py:get()- No need to evaluate\n"
     ]
    },
    {
     "name": "stderr",
     "output_type": "stream",
     "text": [
      "INFO\tTask(Task-2) nodify.node.139728207155120:node.py:get()- No need to evaluate\n"
     ]
    },
    {
     "name": "stderr",
     "output_type": "stream",
     "text": [
      "INFO\tTask(Task-2) nodify.node.139728169622112:node.py:get()- Evaluated because inputs changed.\n"
     ]
    },
    {
     "name": "stderr",
     "output_type": "stream",
     "text": [
      "INFO\tTask(Task-2) nodify.node.139728172587088:node.py:get()- Evaluated because inputs changed.\n"
     ]
    },
    {
     "name": "stderr",
     "output_type": "stream",
     "text": [
      "INFO\tTask(Task-2) nodify.node.139728207590272:node.py:get()- Evaluated because inputs changed.\n"
     ]
    },
    {
     "name": "stderr",
     "output_type": "stream",
     "text": [
      "INFO\tTask(Task-2) nodify.node.139728169629312:node.py:get()- Evaluated because inputs changed.\n"
     ]
    },
    {
     "name": "stderr",
     "output_type": "stream",
     "text": [
      "INFO\tTask(Task-2) nodify.node.139728206967920:node.py:get()- Evaluated because inputs changed.\n"
     ]
    },
    {
     "data": {
      "text/html": [
       "<div>            <script src=\"https://cdnjs.cloudflare.com/ajax/libs/mathjax/2.7.5/MathJax.js?config=TeX-AMS-MML_SVG\"></script><script type=\"text/javascript\">if (window.MathJax && window.MathJax.Hub && window.MathJax.Hub.Config) {window.MathJax.Hub.Config({SVG: {font: \"STIX-Web\"}});}</script>                <script type=\"text/javascript\">window.PlotlyConfig = {MathJaxConfig: 'local'};</script>\n",
       "        <script charset=\"utf-8\" src=\"https://cdn.plot.ly/plotly-3.1.1.min.js\" integrity=\"sha256-HUEFyfiTnZJxCxur99FjbKYTvKSzwDaD3/x5TqHpFu4=\" crossorigin=\"anonymous\"></script>                <div id=\"b614bcc5-6571-4b4a-b58a-46c64cc9d807\" class=\"plotly-graph-div\" style=\"height:525px; width:100%;\"></div>            <script type=\"text/javascript\">                window.PLOTLYENV=window.PLOTLYENV || {};                                if (document.getElementById(\"b614bcc5-6571-4b4a-b58a-46c64cc9d807\")) {                    Plotly.newPlot(                        \"b614bcc5-6571-4b4a-b58a-46c64cc9d807\",                        [{\"meta\":{},\"mode\":\"lines\",\"opacity\":1,\"x\":{\"dtype\":\"f8\",\"bdata\":\"AAAAAAAAAACamZmZmZnJP5qZmZmZmdk\\u002fNDMzMzMz4z+amZmZmZnpPwAAAAAAAPA\\u002fNDMzMzMz8z9nZmZmZmb2P5qZmZmZmfk\\u002fzczMzMzM\\u002fD8AAAAAAAAAQJqZmZmZmQFANDMzMzMzA0DNzMzMzMwEQGdmZmZmZgZAAAAAAAAACECamZmZmZkJQDQzMzMzMwtAzczMzMzMDEBnZmZmZmYOQAAAAAAAABBAzczMzMzMEECamZmZmZkRQGdmZmZmZhJANDMzMzMzE0AAAAAAAAAUQM3MzMzMzBRAmpmZmZmZFUBnZmZmZmYWQDQzMzMzMxdAAAAAAAAAGEDNzMzMzMwYQJqZmZmZmRlAZ2ZmZmZmGkA0MzMzMzMbQAAAAAAAABxAzczMzMzMHECamZmZmZkdQGdmZmZmZh5ANDMzMzMzH0AAAAAAAAAgQGdmZmZmZiBAzczMzMzMIEAzMzMzMzMhQJqZmZmZmSFAAAAAAAAAIkBnZmZmZmYiQM3MzMzMzCJANDMzMzMzI0CamZmZmZkjQAAAAAAAACRAZ2ZmZmZmJEDNzMzMzMwkQDQzMzMzMyVAmpmZmZmZJUAAAAAAAAAmQGdmZmZmZiZAzczMzMzMJkA0MzMzMzMnQJqZmZmZmSdAAAAAAAAAKEBnZmZmZmYoQM3MzMzMzChANDMzMzMzKUCamZmZmZkpQAAAAAAAACpAZ2ZmZmZmKkDNzMzMzMwqQDQzMzMzMytAmpmZmZmZK0AAAAAAAAAsQGdmZmZmZixAzczMzMzMLEA0MzMzMzMtQJqZmZmZmS1AAAAAAAAALkBnZmZmZmYuQM3MzMzMzC5ANDMzMzMzL0CamZmZmZkvQAAAAAAAADBAMzMzMzMzMEBnZmZmZmYwQJqZmZmZmTBAzczMzMzMMEAAAAAAAAAxQDMzMzMzMzFAZ2ZmZmZmMUCamZmZmZkxQM3MzMzMzDFAAAAAAAAAMkAzMzMzMzMyQGdmZmZmZjJAmpmZmZmZMkDNzMzMzMwyQAAAAAAAADNANDMzMzMzM0BnZmZmZmYzQJqZmZmZmTNAzczMzMzMM0A=\"},\"y\":{\"dtype\":\"f8\",\"bdata\":\"AAAAAAAAAAAAAAAAAAAAAAAAAAAAAAAAAAAAAAAAAAAAAAAAAAAAAAAAAAAAAAAAAAAAAAAAAAAAAAAAAAAAAAFHgcvCJjo\\u002fZTxnzVybMT8Aiv05w6gIP92ZSb9LCC+\\u002fq7B2objxLL\\u002fAmZy55dr\\u002fPrBb9OfF3yc\\u002fC0JeIQjgGz\\u002f1XZDD5AUjP5MdMnpnxii\\u002fkLIBXKKhJT+rpkIIzInyvqtRf4wJUB+\\u002fq4p1AkPX5D5rFVV\\u002f20chPwC2OhS2+P++AGxReIenBL8AAAAAAAAAAFVtUXiHpwQ\\u002fq646FLb4\\u002fz4AFlV\\u002f20chv1V9dQJD1+S+AFJ\\u002fjAlQHz9VqkIIzInyPgWyAVyioSW\\u002fWB0yemfGKD8tXpDD5AUjvy1CXiEI4Bu\\u002fg1v058XfJ78AmJy55dr\\u002fvqWwdqG48Sw\\u002f4JlJv0sILz9Qiv05w6gIv088Z81cmzG\\u002f80aBy8ImOr8AAAAAAAAAAAAAAAAAAAAAAAAAAAAAAAAAAAAAAAAAAAAAAAAAAAAAAAAAAAAAAAAAAAAAAAAAAAAAAAAAAAAAAAAAAAAAAAAAAAAAAAAAAAAAAAAAAAAAAAAAAAAAAAAAAAAAAAAAAAAAAAAAAAAAAAAAAAAAAAAAAAAAAAAAAAAAAAAAAAAAAAAAAAAAAAAAAAAAAAAAAAAAAAAAAAAAAAAAAAAAAAAAAAAAAAAAAAAAAAAAAAAAAAAAAAAAAAAAAAAAAAAAAAAAAAAAAAAAAAAAAAAAAAAAAAAAAAAAAAAAAAAAAAAAAAAAAAAAAAAAAAAAAAAAAAAAAAAAAAAAAAAAAAAAAAAAAAAAAAAAAAAAAAAAAAAAAAAAAAAAAAAAAAAAAAAAAAAAAAAAAAAAAAAAAAAAAAAAAAAAAAAAAAAAAAAAAAAAAAAAAAAAAAAAAAAAAAAAAAAAAAAAAAAAAAAAAAAAAAAAAAAAAAAAAAAAAAAAAAAAAAAAAAAAAAAAAAAAAAAAAAAAAAAAAAAAAAAAAAAAAAAAAAAAAAAAAAAAAAAAAAAAAAAAAAAAAAAAAAAAAAAAAAAAAAAAAAAAAAAAAAAAAAA=\"},\"type\":\"scatter\"},{\"meta\":{},\"mode\":\"lines\",\"name\":\"Unit cell\",\"x\":{\"dtype\":\"f8\",\"bdata\":\"AAAAAAAAAAAAAAAAAAAAAAAAAAAAAAAAAAAAAAAANEAAAAAAAAA0QAAAAAAAAAAAAAAAAAAA+H8AAAAAAAA0QAAAAAAAADRAAAAAAAAAAAAAAAAAAAAAAAAAAAAAADRAAAAAAAAANEAAAAAAAAD4fwAAAAAAAAAAAAAAAAAAAAAAAAAAAAD4fwAAAAAAADRAAAAAAAAANEA=\"},\"y\":{\"dtype\":\"f8\",\"bdata\":\"AAAAAAAAAAAAAAAAAAAAAAAAAAAAAAAAAAAAAAAAAAAAAAAAAAAAAAAAAAAAAAAAAAAAAAAAAAAAAAAAAAAAAAAAAAAAAAAAAAAAAAAAAAAAAAAAAAAAAAAAAAAAAAAAAAAAAAAAAAAAAAAAAAAAAAAAAAAAAAAAAAAAAAAAAAAAAAAAAAAAAAAAAAAAAAAAAAAAAAAAAAA=\"},\"type\":\"scatter\"}],                        {\"template\":{\"layout\":{\"hovermode\":\"closest\",\"paper_bgcolor\":\"white\",\"plot_bgcolor\":\"white\",\"scene\":{\"xaxis\":{\"color\":\"black\",\"gridcolor\":\"#ccc\",\"gridwidth\":1,\"linewidth\":1,\"mirror\":true,\"showgrid\":false,\"showline\":true,\"ticklen\":5,\"ticks\":\"outside\",\"ticksuffix\":\" \",\"visible\":true,\"zeroline\":false,\"zerolinecolor\":\"#ccc\",\"zerolinewidth\":1},\"yaxis\":{\"color\":\"black\",\"gridcolor\":\"#ccc\",\"gridwidth\":1,\"linewidth\":1,\"mirror\":true,\"showgrid\":false,\"showline\":true,\"ticklen\":5,\"ticks\":\"outside\",\"ticksuffix\":\" \",\"visible\":true,\"zeroline\":false,\"zerolinecolor\":\"#ccc\",\"zerolinewidth\":1},\"zaxis\":{\"color\":\"black\",\"gridcolor\":\"#ccc\",\"gridwidth\":1,\"linewidth\":1,\"mirror\":true,\"showgrid\":false,\"showline\":true,\"ticklen\":5,\"ticks\":\"outside\",\"ticksuffix\":\" \",\"visible\":true,\"zeroline\":false,\"zerolinecolor\":\"#ccc\",\"zerolinewidth\":1}},\"xaxis\":{\"color\":\"black\",\"gridcolor\":\"#ccc\",\"gridwidth\":1,\"linewidth\":1,\"mirror\":true,\"showgrid\":false,\"showline\":true,\"ticklen\":5,\"ticks\":\"outside\",\"ticksuffix\":\" \",\"visible\":true,\"zeroline\":false,\"zerolinecolor\":\"#ccc\",\"zerolinewidth\":1},\"yaxis\":{\"color\":\"black\",\"gridcolor\":\"#ccc\",\"gridwidth\":1,\"linewidth\":1,\"mirror\":true,\"showgrid\":false,\"showline\":true,\"ticklen\":5,\"ticks\":\"outside\",\"ticksuffix\":\" \",\"visible\":true,\"zeroline\":false,\"zerolinecolor\":\"#ccc\",\"zerolinewidth\":1}}},\"scene\":{\"xaxis\":{\"title\":{\"text\":\"Z axis [Ang]\"}},\"yaxis\":{\"title\":{\"text\":\"y\"}}},\"xaxis\":{\"title\":{\"text\":\"Z axis [Ang]\"}},\"yaxis\":{\"title\":{\"text\":\"y\"}}},                        {\"responsive\": true}                    ).then(function(){\n",
       "                            \n",
       "var gd = document.getElementById('b614bcc5-6571-4b4a-b58a-46c64cc9d807');\n",
       "var x = new MutationObserver(function (mutations, observer) {{\n",
       "        var display = window.getComputedStyle(gd).display;\n",
       "        if (!display || display === 'none') {{\n",
       "            console.log([gd, 'removed!']);\n",
       "            Plotly.purge(gd);\n",
       "            observer.disconnect();\n",
       "        }}\n",
       "}});\n",
       "\n",
       "// Listen for the removal of the full notebook cells\n",
       "var notebookContainer = gd.closest('#notebook-container');\n",
       "if (notebookContainer) {{\n",
       "    x.observe(notebookContainer, {childList: true});\n",
       "}}\n",
       "\n",
       "// Listen for the clearing of the current output cell\n",
       "var outputEl = gd.closest('.output');\n",
       "if (outputEl) {{\n",
       "    x.observe(outputEl, {childList: true});\n",
       "}}\n",
       "\n",
       "                        })                };            </script>        </div>"
      ]
     },
     "metadata": {},
     "output_type": "display_data"
    }
   ],
   "source": [
    "plot = H.plot.wavefunction(i=2, k=(0, 0, 0))\n",
    "plot"
   ]
  },
  {
   "cell_type": "markdown",
   "metadata": {},
   "source": [
    "You can also select the spin with the `spin` setting (if you have, of course, a spin polarized `Hamiltonian`).\n",
    "\n",
    "<div class=\"alert alert-info\">\n",
    "\n",
    "Note\n",
    "    \n",
    "If you update the **number of the wavefunction, the eigenstates are already calculated**, so there's no need to recalculate them. However, changing the **k point** or the **spin component** will trigger a **recalculation of the eigenstates**.\n",
    "\n",
    "</div>"
   ]
  },
  {
   "cell_type": "markdown",
   "metadata": {},
   "source": [
    "## Grid precision\n",
    "\n",
    "The wavefunction is projected in a grid, and how fine that grid is will determine the resolution. You can control this with the `grid_prec` setting, which accepts the **grid precision in Angstrom**. Let's check the difference in 2D, where it will be best appreciated:"
   ]
  },
  {
   "cell_type": "code",
   "execution_count": 5,
   "metadata": {
    "execution": {
     "iopub.execute_input": "2025-10-08T13:17:42.231000Z",
     "iopub.status.busy": "2025-10-08T13:17:42.230824Z",
     "iopub.status.idle": "2025-10-08T13:17:42.430630Z",
     "shell.execute_reply": "2025-10-08T13:17:42.430036Z"
    }
   },
   "outputs": [
    {
     "name": "stderr",
     "output_type": "stream",
     "text": [
      "INFO\tTask(Task-2) nodify.node.139728169622496:node.py:get()- No need to evaluate\n"
     ]
    },
    {
     "name": "stderr",
     "output_type": "stream",
     "text": [
      "INFO\tTask(Task-2) nodify.node.139728169514192:node.py:get()- No need to evaluate\n"
     ]
    },
    {
     "name": "stderr",
     "output_type": "stream",
     "text": [
      "INFO\tTask(Task-2) nodify.node.139728169514720:node.py:get()- No need to evaluate\n"
     ]
    },
    {
     "name": "stderr",
     "output_type": "stream",
     "text": [
      "INFO\tTask(Task-2) nodify.node.139728210345568:node.py:get()- No need to evaluate\n"
     ]
    },
    {
     "name": "stderr",
     "output_type": "stream",
     "text": [
      "INFO\tTask(Task-2) nodify.node.139728169515104:node.py:get()- No need to evaluate\n"
     ]
    },
    {
     "name": "stderr",
     "output_type": "stream",
     "text": [
      "INFO\tTask(Task-2) nodify.node.139728169515728:node.py:get()- No need to evaluate\n"
     ]
    },
    {
     "name": "stderr",
     "output_type": "stream",
     "text": [
      "INFO\tTask(Task-2) nodify.node.139728169514192:node.py:get()- No need to evaluate\n"
     ]
    },
    {
     "name": "stderr",
     "output_type": "stream",
     "text": [
      "INFO\tTask(Task-2) nodify.node.139728169514912:node.py:get()- No need to evaluate\n"
     ]
    },
    {
     "name": "stderr",
     "output_type": "stream",
     "text": [
      "INFO\tTask(Task-2) nodify.node.139728169624224:node.py:get()- No need to evaluate\n"
     ]
    },
    {
     "name": "stderr",
     "output_type": "stream",
     "text": [
      "INFO\tTask(Task-2) nodify.node.139728169616880:node.py:get()- No need to evaluate\n"
     ]
    },
    {
     "name": "stderr",
     "output_type": "stream",
     "text": [
      "INFO\tTask(Task-2) nodify.node.139728169514192:node.py:get()- No need to evaluate\n"
     ]
    },
    {
     "name": "stderr",
     "output_type": "stream",
     "text": [
      "INFO\tTask(Task-2) nodify.node.139728169514720:node.py:get()- No need to evaluate\n"
     ]
    },
    {
     "name": "stderr",
     "output_type": "stream",
     "text": [
      "INFO\tTask(Task-2) nodify.node.139728210345568:node.py:get()- No need to evaluate\n"
     ]
    },
    {
     "name": "stderr",
     "output_type": "stream",
     "text": [
      "INFO\tTask(Task-2) nodify.node.139728169623984:node.py:get()- No need to evaluate\n"
     ]
    },
    {
     "name": "stderr",
     "output_type": "stream",
     "text": [
      "INFO\tTask(Task-2) nodify.node.139728169624368:node.py:get()- No need to evaluate\n"
     ]
    },
    {
     "name": "stderr",
     "output_type": "stream",
     "text": [
      "INFO\tTask(Task-2) nodify.node.139728169516544:node.py:get()- No need to evaluate\n"
     ]
    },
    {
     "name": "stderr",
     "output_type": "stream",
     "text": [
      "INFO\tTask(Task-2) nodify.node.139728169624992:node.py:get()- No need to evaluate\n"
     ]
    },
    {
     "name": "stderr",
     "output_type": "stream",
     "text": [
      "INFO\tTask(Task-2) nodify.node.139728169616880:node.py:get()- No need to evaluate\n"
     ]
    },
    {
     "name": "stderr",
     "output_type": "stream",
     "text": [
      "INFO\tTask(Task-2) nodify.node.139728169514192:node.py:get()- No need to evaluate\n"
     ]
    },
    {
     "name": "stderr",
     "output_type": "stream",
     "text": [
      "INFO\tTask(Task-2) nodify.node.139728169514720:node.py:get()- No need to evaluate\n"
     ]
    },
    {
     "name": "stderr",
     "output_type": "stream",
     "text": [
      "INFO\tTask(Task-2) nodify.node.139728210345568:node.py:get()- No need to evaluate\n"
     ]
    },
    {
     "name": "stderr",
     "output_type": "stream",
     "text": [
      "INFO\tTask(Task-2) nodify.node.139728207155120:node.py:get()- No need to evaluate\n"
     ]
    },
    {
     "name": "stderr",
     "output_type": "stream",
     "text": [
      "INFO\tTask(Task-2) nodify.node.139728206969264:node.py:get()- No need to evaluate\n"
     ]
    },
    {
     "name": "stderr",
     "output_type": "stream",
     "text": [
      "INFO\tTask(Task-2) nodify.node.139728169516112:node.py:get()- Evaluated because inputs changed.\n"
     ]
    },
    {
     "name": "stderr",
     "output_type": "stream",
     "text": [
      "INFO\tTask(Task-2) nodify.node.139728169626192:node.py:get()- Evaluated because inputs changed.\n"
     ]
    },
    {
     "name": "stderr",
     "output_type": "stream",
     "text": [
      "INFO\tTask(Task-2) nodify.node.139728169616208:node.py:get()- No need to evaluate\n"
     ]
    },
    {
     "name": "stderr",
     "output_type": "stream",
     "text": [
      "INFO\tTask(Task-2) nodify.node.139728169512992:node.py:get()- Evaluated because inputs changed.\n"
     ]
    },
    {
     "name": "stderr",
     "output_type": "stream",
     "text": [
      "INFO\tTask(Task-2) nodify.node.139728169615440:node.py:get()- Evaluated because inputs changed.\n"
     ]
    },
    {
     "name": "stderr",
     "output_type": "stream",
     "text": [
      "INFO\tTask(Task-2) nodify.node.139728207585664:node.py:get()- Evaluated because inputs changed.\n"
     ]
    },
    {
     "name": "stderr",
     "output_type": "stream",
     "text": [
      "INFO\tTask(Task-2) nodify.node.139728169620576:node.py:get()- No need to evaluate\n"
     ]
    },
    {
     "name": "stderr",
     "output_type": "stream",
     "text": [
      "INFO\tTask(Task-2) nodify.node.139728169620960:node.py:get()- No need to evaluate\n"
     ]
    },
    {
     "name": "stderr",
     "output_type": "stream",
     "text": [
      "INFO\tTask(Task-2) nodify.node.139728169621344:node.py:get()- No need to evaluate\n"
     ]
    },
    {
     "name": "stderr",
     "output_type": "stream",
     "text": [
      "INFO\tTask(Task-2) nodify.node.139728169627200:node.py:get()- Evaluated because inputs changed.\n"
     ]
    },
    {
     "name": "stderr",
     "output_type": "stream",
     "text": [
      "INFO\tTask(Task-2) nodify.node.139728169615824:node.py:get()- No need to evaluate\n"
     ]
    },
    {
     "name": "stderr",
     "output_type": "stream",
     "text": [
      "INFO\tTask(Task-2) nodify.node.139728169514192:node.py:get()- No need to evaluate\n"
     ]
    },
    {
     "name": "stderr",
     "output_type": "stream",
     "text": [
      "INFO\tTask(Task-2) nodify.node.139728169514720:node.py:get()- No need to evaluate\n"
     ]
    },
    {
     "name": "stderr",
     "output_type": "stream",
     "text": [
      "INFO\tTask(Task-2) nodify.node.139728210345568:node.py:get()- No need to evaluate\n"
     ]
    },
    {
     "name": "stderr",
     "output_type": "stream",
     "text": [
      "INFO\tTask(Task-2) nodify.node.139728169515104:node.py:get()- No need to evaluate\n"
     ]
    },
    {
     "name": "stderr",
     "output_type": "stream",
     "text": [
      "INFO\tTask(Task-2) nodify.node.139728169515728:node.py:get()- No need to evaluate\n"
     ]
    },
    {
     "name": "stderr",
     "output_type": "stream",
     "text": [
      "INFO\tTask(Task-2) nodify.node.139728169514192:node.py:get()- No need to evaluate\n"
     ]
    },
    {
     "name": "stderr",
     "output_type": "stream",
     "text": [
      "INFO\tTask(Task-2) nodify.node.139728169514912:node.py:get()- No need to evaluate\n"
     ]
    },
    {
     "name": "stderr",
     "output_type": "stream",
     "text": [
      "INFO\tTask(Task-2) nodify.node.139728169624224:node.py:get()- No need to evaluate\n"
     ]
    },
    {
     "name": "stderr",
     "output_type": "stream",
     "text": [
      "INFO\tTask(Task-2) nodify.node.139728169616880:node.py:get()- No need to evaluate\n"
     ]
    },
    {
     "name": "stderr",
     "output_type": "stream",
     "text": [
      "INFO\tTask(Task-2) nodify.node.139728169514192:node.py:get()- No need to evaluate\n"
     ]
    },
    {
     "name": "stderr",
     "output_type": "stream",
     "text": [
      "INFO\tTask(Task-2) nodify.node.139728169514720:node.py:get()- No need to evaluate\n"
     ]
    },
    {
     "name": "stderr",
     "output_type": "stream",
     "text": [
      "INFO\tTask(Task-2) nodify.node.139728210345568:node.py:get()- No need to evaluate\n"
     ]
    },
    {
     "name": "stderr",
     "output_type": "stream",
     "text": [
      "INFO\tTask(Task-2) nodify.node.139728169623984:node.py:get()- No need to evaluate\n"
     ]
    },
    {
     "name": "stderr",
     "output_type": "stream",
     "text": [
      "INFO\tTask(Task-2) nodify.node.139728169624368:node.py:get()- No need to evaluate\n"
     ]
    },
    {
     "name": "stderr",
     "output_type": "stream",
     "text": [
      "INFO\tTask(Task-2) nodify.node.139728169516544:node.py:get()- No need to evaluate\n"
     ]
    },
    {
     "name": "stderr",
     "output_type": "stream",
     "text": [
      "INFO\tTask(Task-2) nodify.node.139728169624992:node.py:get()- No need to evaluate\n"
     ]
    },
    {
     "name": "stderr",
     "output_type": "stream",
     "text": [
      "INFO\tTask(Task-2) nodify.node.139728169616880:node.py:get()- No need to evaluate\n"
     ]
    },
    {
     "name": "stderr",
     "output_type": "stream",
     "text": [
      "INFO\tTask(Task-2) nodify.node.139728169514192:node.py:get()- No need to evaluate\n"
     ]
    },
    {
     "name": "stderr",
     "output_type": "stream",
     "text": [
      "INFO\tTask(Task-2) nodify.node.139728169514720:node.py:get()- No need to evaluate\n"
     ]
    },
    {
     "name": "stderr",
     "output_type": "stream",
     "text": [
      "INFO\tTask(Task-2) nodify.node.139728210345568:node.py:get()- No need to evaluate\n"
     ]
    },
    {
     "name": "stderr",
     "output_type": "stream",
     "text": [
      "INFO\tTask(Task-2) nodify.node.139728207155120:node.py:get()- No need to evaluate\n"
     ]
    },
    {
     "name": "stderr",
     "output_type": "stream",
     "text": [
      "INFO\tTask(Task-2) nodify.node.139728206969264:node.py:get()- No need to evaluate\n"
     ]
    },
    {
     "name": "stderr",
     "output_type": "stream",
     "text": [
      "INFO\tTask(Task-2) nodify.node.139728169516112:node.py:get()- No need to evaluate\n"
     ]
    },
    {
     "name": "stderr",
     "output_type": "stream",
     "text": [
      "INFO\tTask(Task-2) nodify.node.139728169626192:node.py:get()- No need to evaluate\n"
     ]
    },
    {
     "name": "stderr",
     "output_type": "stream",
     "text": [
      "INFO\tTask(Task-2) nodify.node.139728169616208:node.py:get()- No need to evaluate\n"
     ]
    },
    {
     "name": "stderr",
     "output_type": "stream",
     "text": [
      "INFO\tTask(Task-2) nodify.node.139728169512992:node.py:get()- No need to evaluate\n"
     ]
    },
    {
     "name": "stderr",
     "output_type": "stream",
     "text": [
      "INFO\tTask(Task-2) nodify.node.139728169516112:node.py:get()- No need to evaluate\n"
     ]
    },
    {
     "name": "stderr",
     "output_type": "stream",
     "text": [
      "INFO\tTask(Task-2) nodify.node.139728169626192:node.py:get()- No need to evaluate\n"
     ]
    },
    {
     "name": "stderr",
     "output_type": "stream",
     "text": [
      "INFO\tTask(Task-2) nodify.node.139728171613792:node.py:get()- Evaluated because inputs changed.\n"
     ]
    },
    {
     "name": "stderr",
     "output_type": "stream",
     "text": [
      "INFO\tTask(Task-2) nodify.node.139728169627008:node.py:get()- Evaluated because inputs changed.\n"
     ]
    },
    {
     "name": "stderr",
     "output_type": "stream",
     "text": [
      "INFO\tTask(Task-2) nodify.node.139728169617408:node.py:get()- No need to evaluate\n"
     ]
    },
    {
     "name": "stderr",
     "output_type": "stream",
     "text": [
      "INFO\tTask(Task-2) nodify.node.139728169627344:node.py:get()- Evaluated because inputs changed.\n"
     ]
    },
    {
     "name": "stderr",
     "output_type": "stream",
     "text": [
      "INFO\tTask(Task-2) nodify.node.139728169516112:node.py:get()- No need to evaluate\n"
     ]
    },
    {
     "name": "stderr",
     "output_type": "stream",
     "text": [
      "INFO\tTask(Task-2) nodify.node.139728169626192:node.py:get()- No need to evaluate\n"
     ]
    },
    {
     "name": "stderr",
     "output_type": "stream",
     "text": [
      "INFO\tTask(Task-2) nodify.node.139728169514192:node.py:get()- No need to evaluate\n"
     ]
    },
    {
     "name": "stderr",
     "output_type": "stream",
     "text": [
      "INFO\tTask(Task-2) nodify.node.139728169514720:node.py:get()- No need to evaluate\n"
     ]
    },
    {
     "name": "stderr",
     "output_type": "stream",
     "text": [
      "INFO\tTask(Task-2) nodify.node.139728210345568:node.py:get()- No need to evaluate\n"
     ]
    },
    {
     "name": "stderr",
     "output_type": "stream",
     "text": [
      "INFO\tTask(Task-2) nodify.node.139728169515104:node.py:get()- No need to evaluate\n"
     ]
    },
    {
     "name": "stderr",
     "output_type": "stream",
     "text": [
      "INFO\tTask(Task-2) nodify.node.139728169515728:node.py:get()- No need to evaluate\n"
     ]
    },
    {
     "name": "stderr",
     "output_type": "stream",
     "text": [
      "INFO\tTask(Task-2) nodify.node.139728169514192:node.py:get()- No need to evaluate\n"
     ]
    },
    {
     "name": "stderr",
     "output_type": "stream",
     "text": [
      "INFO\tTask(Task-2) nodify.node.139728169514912:node.py:get()- No need to evaluate\n"
     ]
    },
    {
     "name": "stderr",
     "output_type": "stream",
     "text": [
      "INFO\tTask(Task-2) nodify.node.139728169624224:node.py:get()- No need to evaluate\n"
     ]
    },
    {
     "name": "stderr",
     "output_type": "stream",
     "text": [
      "INFO\tTask(Task-2) nodify.node.139728169616880:node.py:get()- No need to evaluate\n"
     ]
    },
    {
     "name": "stderr",
     "output_type": "stream",
     "text": [
      "INFO\tTask(Task-2) nodify.node.139728169514192:node.py:get()- No need to evaluate\n"
     ]
    },
    {
     "name": "stderr",
     "output_type": "stream",
     "text": [
      "INFO\tTask(Task-2) nodify.node.139728169514720:node.py:get()- No need to evaluate\n"
     ]
    },
    {
     "name": "stderr",
     "output_type": "stream",
     "text": [
      "INFO\tTask(Task-2) nodify.node.139728210345568:node.py:get()- No need to evaluate\n"
     ]
    },
    {
     "name": "stderr",
     "output_type": "stream",
     "text": [
      "INFO\tTask(Task-2) nodify.node.139728169623984:node.py:get()- No need to evaluate\n"
     ]
    },
    {
     "name": "stderr",
     "output_type": "stream",
     "text": [
      "INFO\tTask(Task-2) nodify.node.139728169624368:node.py:get()- No need to evaluate\n"
     ]
    },
    {
     "name": "stderr",
     "output_type": "stream",
     "text": [
      "INFO\tTask(Task-2) nodify.node.139728169516544:node.py:get()- No need to evaluate\n"
     ]
    },
    {
     "name": "stderr",
     "output_type": "stream",
     "text": [
      "INFO\tTask(Task-2) nodify.node.139728169624992:node.py:get()- No need to evaluate\n"
     ]
    },
    {
     "name": "stderr",
     "output_type": "stream",
     "text": [
      "INFO\tTask(Task-2) nodify.node.139728169616880:node.py:get()- No need to evaluate\n"
     ]
    },
    {
     "name": "stderr",
     "output_type": "stream",
     "text": [
      "INFO\tTask(Task-2) nodify.node.139728169514192:node.py:get()- No need to evaluate\n"
     ]
    },
    {
     "name": "stderr",
     "output_type": "stream",
     "text": [
      "INFO\tTask(Task-2) nodify.node.139728169514720:node.py:get()- No need to evaluate\n"
     ]
    },
    {
     "name": "stderr",
     "output_type": "stream",
     "text": [
      "INFO\tTask(Task-2) nodify.node.139728210345568:node.py:get()- No need to evaluate\n"
     ]
    },
    {
     "name": "stderr",
     "output_type": "stream",
     "text": [
      "INFO\tTask(Task-2) nodify.node.139728207155120:node.py:get()- No need to evaluate\n"
     ]
    },
    {
     "name": "stderr",
     "output_type": "stream",
     "text": [
      "INFO\tTask(Task-2) nodify.node.139728206969264:node.py:get()- No need to evaluate\n"
     ]
    },
    {
     "name": "stderr",
     "output_type": "stream",
     "text": [
      "INFO\tTask(Task-2) nodify.node.139728169516112:node.py:get()- No need to evaluate\n"
     ]
    },
    {
     "name": "stderr",
     "output_type": "stream",
     "text": [
      "INFO\tTask(Task-2) nodify.node.139728169626192:node.py:get()- No need to evaluate\n"
     ]
    },
    {
     "name": "stderr",
     "output_type": "stream",
     "text": [
      "INFO\tTask(Task-2) nodify.node.139728169616208:node.py:get()- No need to evaluate\n"
     ]
    },
    {
     "name": "stderr",
     "output_type": "stream",
     "text": [
      "INFO\tTask(Task-2) nodify.node.139728169512992:node.py:get()- No need to evaluate\n"
     ]
    },
    {
     "name": "stderr",
     "output_type": "stream",
     "text": [
      "INFO\tTask(Task-2) nodify.node.139728169516112:node.py:get()- No need to evaluate\n"
     ]
    },
    {
     "name": "stderr",
     "output_type": "stream",
     "text": [
      "INFO\tTask(Task-2) nodify.node.139728169626192:node.py:get()- No need to evaluate\n"
     ]
    },
    {
     "name": "stderr",
     "output_type": "stream",
     "text": [
      "INFO\tTask(Task-2) nodify.node.139728171613792:node.py:get()- No need to evaluate\n"
     ]
    },
    {
     "name": "stderr",
     "output_type": "stream",
     "text": [
      "INFO\tTask(Task-2) nodify.node.139728169616880:node.py:get()- No need to evaluate\n"
     ]
    },
    {
     "name": "stderr",
     "output_type": "stream",
     "text": [
      "INFO\tTask(Task-2) nodify.node.139728169514192:node.py:get()- No need to evaluate\n"
     ]
    },
    {
     "name": "stderr",
     "output_type": "stream",
     "text": [
      "INFO\tTask(Task-2) nodify.node.139728169514720:node.py:get()- No need to evaluate\n"
     ]
    },
    {
     "name": "stderr",
     "output_type": "stream",
     "text": [
      "INFO\tTask(Task-2) nodify.node.139728210345568:node.py:get()- No need to evaluate\n"
     ]
    },
    {
     "name": "stderr",
     "output_type": "stream",
     "text": [
      "INFO\tTask(Task-2) nodify.node.139728207155120:node.py:get()- No need to evaluate\n"
     ]
    },
    {
     "name": "stderr",
     "output_type": "stream",
     "text": [
      "INFO\tTask(Task-2) nodify.node.139728169628256:node.py:get()- Evaluated because inputs changed.\n"
     ]
    },
    {
     "name": "stderr",
     "output_type": "stream",
     "text": [
      "INFO\tTask(Task-2) nodify.node.139728169617792:node.py:get()- No need to evaluate\n"
     ]
    },
    {
     "name": "stderr",
     "output_type": "stream",
     "text": [
      "INFO\tTask(Task-2) nodify.node.139728169507712:node.py:get()- No need to evaluate\n"
     ]
    },
    {
     "name": "stderr",
     "output_type": "stream",
     "text": [
      "INFO\tTask(Task-2) nodify.node.139728169512128:node.py:get()- No need to evaluate\n"
     ]
    },
    {
     "name": "stderr",
     "output_type": "stream",
     "text": [
      "INFO\tTask(Task-2) nodify.node.139728169619424:node.py:get()- No need to evaluate\n"
     ]
    },
    {
     "name": "stderr",
     "output_type": "stream",
     "text": [
      "INFO\tTask(Task-2) nodify.node.139728169618176:node.py:get()- No need to evaluate\n"
     ]
    },
    {
     "name": "stderr",
     "output_type": "stream",
     "text": [
      "INFO\tTask(Task-2) nodify.node.139728169628544:node.py:get()- Evaluated because inputs changed.\n"
     ]
    },
    {
     "name": "stderr",
     "output_type": "stream",
     "text": [
      "INFO\tTask(Task-2) nodify.node.139728169514192:node.py:get()- No need to evaluate\n"
     ]
    },
    {
     "name": "stderr",
     "output_type": "stream",
     "text": [
      "INFO\tTask(Task-2) nodify.node.139728169514720:node.py:get()- No need to evaluate\n"
     ]
    },
    {
     "name": "stderr",
     "output_type": "stream",
     "text": [
      "INFO\tTask(Task-2) nodify.node.139728210345568:node.py:get()- No need to evaluate\n"
     ]
    },
    {
     "name": "stderr",
     "output_type": "stream",
     "text": [
      "INFO\tTask(Task-2) nodify.node.139728169515104:node.py:get()- No need to evaluate\n"
     ]
    },
    {
     "name": "stderr",
     "output_type": "stream",
     "text": [
      "INFO\tTask(Task-2) nodify.node.139728169515728:node.py:get()- No need to evaluate\n"
     ]
    },
    {
     "name": "stderr",
     "output_type": "stream",
     "text": [
      "INFO\tTask(Task-2) nodify.node.139728169514192:node.py:get()- No need to evaluate\n"
     ]
    },
    {
     "name": "stderr",
     "output_type": "stream",
     "text": [
      "INFO\tTask(Task-2) nodify.node.139728169514912:node.py:get()- No need to evaluate\n"
     ]
    },
    {
     "name": "stderr",
     "output_type": "stream",
     "text": [
      "INFO\tTask(Task-2) nodify.node.139728169624224:node.py:get()- No need to evaluate\n"
     ]
    },
    {
     "name": "stderr",
     "output_type": "stream",
     "text": [
      "INFO\tTask(Task-2) nodify.node.139728169616880:node.py:get()- No need to evaluate\n"
     ]
    },
    {
     "name": "stderr",
     "output_type": "stream",
     "text": [
      "INFO\tTask(Task-2) nodify.node.139728169514192:node.py:get()- No need to evaluate\n"
     ]
    },
    {
     "name": "stderr",
     "output_type": "stream",
     "text": [
      "INFO\tTask(Task-2) nodify.node.139728169514720:node.py:get()- No need to evaluate\n"
     ]
    },
    {
     "name": "stderr",
     "output_type": "stream",
     "text": [
      "INFO\tTask(Task-2) nodify.node.139728210345568:node.py:get()- No need to evaluate\n"
     ]
    },
    {
     "name": "stderr",
     "output_type": "stream",
     "text": [
      "INFO\tTask(Task-2) nodify.node.139728169623984:node.py:get()- No need to evaluate\n"
     ]
    },
    {
     "name": "stderr",
     "output_type": "stream",
     "text": [
      "INFO\tTask(Task-2) nodify.node.139728169624368:node.py:get()- No need to evaluate\n"
     ]
    },
    {
     "name": "stderr",
     "output_type": "stream",
     "text": [
      "INFO\tTask(Task-2) nodify.node.139728169619808:node.py:get()- No need to evaluate\n"
     ]
    },
    {
     "name": "stderr",
     "output_type": "stream",
     "text": [
      "INFO\tTask(Task-2) nodify.node.139728169516112:node.py:get()- No need to evaluate\n"
     ]
    },
    {
     "name": "stderr",
     "output_type": "stream",
     "text": [
      "INFO\tTask(Task-2) nodify.node.139728169626192:node.py:get()- No need to evaluate\n"
     ]
    },
    {
     "name": "stderr",
     "output_type": "stream",
     "text": [
      "INFO\tTask(Task-2) nodify.node.139728169620192:node.py:get()- No need to evaluate\n"
     ]
    },
    {
     "name": "stderr",
     "output_type": "stream",
     "text": [
      "INFO\tTask(Task-2) nodify.node.139728169629408:node.py:get()- Evaluated because inputs changed.\n"
     ]
    },
    {
     "name": "stderr",
     "output_type": "stream",
     "text": [
      "INFO\tTask(Task-2) nodify.node.139728169621728:node.py:get()- No need to evaluate\n"
     ]
    },
    {
     "name": "stderr",
     "output_type": "stream",
     "text": [
      "INFO\tTask(Task-2) nodify.node.139728169514192:node.py:get()- No need to evaluate\n"
     ]
    },
    {
     "name": "stderr",
     "output_type": "stream",
     "text": [
      "INFO\tTask(Task-2) nodify.node.139728169514912:node.py:get()- No need to evaluate\n"
     ]
    },
    {
     "name": "stderr",
     "output_type": "stream",
     "text": [
      "INFO\tTask(Task-2) nodify.node.139728169624224:node.py:get()- No need to evaluate\n"
     ]
    },
    {
     "name": "stderr",
     "output_type": "stream",
     "text": [
      "INFO\tTask(Task-2) nodify.node.139728169616880:node.py:get()- No need to evaluate\n"
     ]
    },
    {
     "name": "stderr",
     "output_type": "stream",
     "text": [
      "INFO\tTask(Task-2) nodify.node.139728169514192:node.py:get()- No need to evaluate\n"
     ]
    },
    {
     "name": "stderr",
     "output_type": "stream",
     "text": [
      "INFO\tTask(Task-2) nodify.node.139728169514720:node.py:get()- No need to evaluate\n"
     ]
    },
    {
     "name": "stderr",
     "output_type": "stream",
     "text": [
      "INFO\tTask(Task-2) nodify.node.139728210345568:node.py:get()- No need to evaluate\n"
     ]
    },
    {
     "name": "stderr",
     "output_type": "stream",
     "text": [
      "INFO\tTask(Task-2) nodify.node.139728169623984:node.py:get()- No need to evaluate\n"
     ]
    },
    {
     "name": "stderr",
     "output_type": "stream",
     "text": [
      "INFO\tTask(Task-2) nodify.node.139728169516112:node.py:get()- No need to evaluate\n"
     ]
    },
    {
     "name": "stderr",
     "output_type": "stream",
     "text": [
      "INFO\tTask(Task-2) nodify.node.139728169626192:node.py:get()- No need to evaluate\n"
     ]
    },
    {
     "name": "stderr",
     "output_type": "stream",
     "text": [
      "INFO\tTask(Task-2) nodify.node.139728169616880:node.py:get()- No need to evaluate\n"
     ]
    },
    {
     "name": "stderr",
     "output_type": "stream",
     "text": [
      "INFO\tTask(Task-2) nodify.node.139728169514192:node.py:get()- No need to evaluate\n"
     ]
    },
    {
     "name": "stderr",
     "output_type": "stream",
     "text": [
      "INFO\tTask(Task-2) nodify.node.139728169514720:node.py:get()- No need to evaluate\n"
     ]
    },
    {
     "name": "stderr",
     "output_type": "stream",
     "text": [
      "INFO\tTask(Task-2) nodify.node.139728210345568:node.py:get()- No need to evaluate\n"
     ]
    },
    {
     "name": "stderr",
     "output_type": "stream",
     "text": [
      "INFO\tTask(Task-2) nodify.node.139728207155120:node.py:get()- No need to evaluate\n"
     ]
    },
    {
     "name": "stderr",
     "output_type": "stream",
     "text": [
      "INFO\tTask(Task-2) nodify.node.139728169622112:node.py:get()- No need to evaluate\n"
     ]
    },
    {
     "name": "stderr",
     "output_type": "stream",
     "text": [
      "INFO\tTask(Task-2) nodify.node.139728172587088:node.py:get()- Evaluated because inputs changed.\n"
     ]
    },
    {
     "name": "stderr",
     "output_type": "stream",
     "text": [
      "INFO\tTask(Task-2) nodify.node.139728207590272:node.py:get()- Evaluated because inputs changed.\n"
     ]
    },
    {
     "name": "stderr",
     "output_type": "stream",
     "text": [
      "INFO\tTask(Task-2) nodify.node.139728169629312:node.py:get()- Evaluated because inputs changed.\n"
     ]
    },
    {
     "name": "stderr",
     "output_type": "stream",
     "text": [
      "INFO\tTask(Task-2) nodify.node.139728206967920:node.py:get()- Evaluated because inputs changed.\n"
     ]
    },
    {
     "data": {
      "text/html": [
       "<div>            <script src=\"https://cdnjs.cloudflare.com/ajax/libs/mathjax/2.7.5/MathJax.js?config=TeX-AMS-MML_SVG\"></script><script type=\"text/javascript\">if (window.MathJax && window.MathJax.Hub && window.MathJax.Hub.Config) {window.MathJax.Hub.Config({SVG: {font: \"STIX-Web\"}});}</script>                <script type=\"text/javascript\">window.PlotlyConfig = {MathJaxConfig: 'local'};</script>\n",
       "        <script charset=\"utf-8\" src=\"https://cdn.plot.ly/plotly-3.1.1.min.js\" integrity=\"sha256-HUEFyfiTnZJxCxur99FjbKYTvKSzwDaD3/x5TqHpFu4=\" crossorigin=\"anonymous\"></script>                <div id=\"78131f79-3cf8-40cd-aec6-531ce8ae45fc\" class=\"plotly-graph-div\" style=\"height:525px; width:100%;\"></div>            <script type=\"text/javascript\">                window.PLOTLYENV=window.PLOTLYENV || {};                                if (document.getElementById(\"78131f79-3cf8-40cd-aec6-531ce8ae45fc\")) {                    Plotly.newPlot(                        \"78131f79-3cf8-40cd-aec6-531ce8ae45fc\",                        [{\"coloraxis\":\"coloraxis\",\"meta\":{},\"opacity\":1,\"x\":{\"dtype\":\"f8\",\"bdata\":\"AAAAAAAAAABAbCoNOffJP0BsKg0599k\\u002fMNHfyWp54z9AbCoNOffpP6iDOqiDOvA\\u002fMNHfyWp58z+4HoXrUbj2P0BsKg059\\u002fk\\u002fyLnPLiA2\\u002fT+ogzqogzoAQGwqDTn32QFAMNHfyWp5A0D0d7Ja3hgFQLgehetRuAZAfMVXfMVXCEBAbCoNOfcJQAQT\\u002fZ2slgtAyLnPLiA2DUCMYKK\\u002fk9UOQKiDOqiDOhBA\"},\"y\":{\"dtype\":\"f8\",\"bdata\":\"AAAAAAAAAABBkBmbGzzKP0GQGZsbPNo\\u002fMSxTtBSt4z9BkBmbGzzqPyn670CRZfA\\u002fMSxTtBSt8z85XrYnmPT2P0GQGZsbPPo\\u002fScJ8Dp+D\\u002fT8p+u9AkWUAQC2TofpSCQJA\"},\"z\":{\"dtype\":\"f8\",\"bdata\":\"T05Esz3ZXD+RIO3SkJhMPwpSJXyXfDE\\u002f2lADcgfODT9DrIsWDzwAPxjovl6ywhM\\u002fiDph9fsJHj\\u002f7kcUymrsgP6A6YfX7CR4\\u002fPei+XrLCEz9qrIsWDzwAP3tQA3IHzg0\\u002f2lElfJd8MT9YIO3SkJhMPx1ORLM92Vw\\u002fTIygT4S5Vj\\u002fK\\u002fUVhpqlQP0+lTQxfUEw\\u002fWqVNDF9QTD\\u002fa\\u002fUVhpqlQP26MoE+EuVY\\u002f\\u002fSw93s5yUT9RcgVhGWNDP7t3ByYdjCg\\u002f+lGM90hGAT8RA64tILABPxQOL9sDDRU\\u002fmYjrBrkYIT98p5v1bWwjP6aI6wa5GCE\\u002fQA4v2wMNFT9RA64tILABP8ZRjPdIRgE\\u002fcXcHJh2MKD8lcgVhGWNDP98sPd7OclE\\u002fOdrsxYVKUT\\u002fJRvKWHwhNP7K5pcAaAEk\\u002fu7mlwBoAST\\u002fmRvKWHwhNP1Pa7MWFSlE\\u002fHHLR0QaVPT9fgSiS3yUtP3JI52dfrAg\\u002fFzUKlfrk7z53debLkicTP078kZVimSI\\u002fMUTgZOQQKj8F3Pp2AmUsP0NE4GTkECo\\u002fbvyRlWKZIj+2debLkicTP9g1CpX65O8+9EfnZ1+sCD8KgSiS3yUtP+Bx0dEGlT0\\u002fXWKMiIGjQj\\u002fjyjfirYhDP00J0w9zrUI\\u002fVAnTD3OtQj\\u002f4yjfirYhDP3tijIiBo0I\\u002fMRzRyZStIz+0foGRx7IBP5tM2uHxi88+\\u002fJ\\u002fuHUcMFz\\u002fFva13jNQrPxpozsR2WDQ\\u002fe7Lrx1tYNz+pqzsT0CY4P4Wy68dbWDc\\u002fL2jOxHZYND\\u002f6va13jNQrP1Gg7h1HDBc\\u002f2k7a4fGLzz5BfoGRx7IBP\\u002fkb0cmUrSM\\u002f97WpN1sBMT\\u002fA2vIbbso1P4XgQI3SGDg\\u002fjeBAjdIYOD\\u002fc2vIbbso1Pxy2qTdbATE\\u002f\\u002f\\u002f3xXoUwBT\\u002fBKeVy+KTqPoGFZ2B7LB8\\u002fMWhBS7RNNj8ttYVTqpdBP9LJiSVbY0M\\u002fFNzO5JkjQz8utGwxqXlCPx3czuSZI0M\\u002f4cmJJVtjQz9DtYVTqpdBP1poQUu0TTY\\u002f2oVnYHssHz8aKuVy+KTqPqD98V6FMAU\\u002fl7zmqDdbHT+tV6HPIi8mP6jjdbLjDyw\\u002ft+N1suMPLD\\u002fOV6HPIi8mP+285qg3Wx0\\u002f7pF3lapK\\u002fT7IzZjK4\\u002fwUP\\u002fvYtaa7eDc\\u002fxprOYW0yTD9QdbkPG0BSPzbOH+NjV08\\u002fj4Io8L3tSj9BV1R4RZ9IP5qCKPC97Uo\\u002fTc4f42NXTz9fdbkPG0BSP+iazmFtMkw\\u002fI9m1prt4Nz\\u002f9zZjK4\\u002fwUP8WRd5WqSv0+ivck1Fm+Cz+P9ta2secaPzzIN5DIbSI\\u002fRsg3kMhtIj\\u002fA9ta2secaP+j3JNRZvgs\\u002fUs2XA\\u002fPJAz9dEwEdokQhP3PEdU+vZkA\\u002fKQDQg8WJVj\\u002fJneKD7UhbPyxEkaVuRlM\\u002f0dJygmvrTT+MGXLTElVLP9zScoJr600\\u002fNkSRpW5GUz\\u002fgneKD7UhbP0AA0IPFiVY\\u002fi8R1T69mQD9\\u002fEwEdokQhP07NlwPzyQM\\u002fDYKp05s6DD\\u002fXjpFjXdgXP8orl6acMiE\\u002f0yuXppwyIT8Fj5FjXdgXP12CqdObOgw\\u002f75F3lapK\\u002fT7DzZjK4\\u002fwUP\\u002fPYtaa7eDc\\u002fv5rOYW0yTD9MdbkPG0BSPy7OH+NjV08\\u002fioIo8L3tSj89V1R4RZ9IP5OCKPC97Uo\\u002fRc4f42NXTz9adbkPG0BSP92azmFtMkw\\u002fG9m1prt4Nz\\u002f4zZjK4\\u002fwUP8WRd5WqSv0+ivck1Fm+Cz+O9ta2secaPzrIN5DIbSI\\u002fRMg3kMhtIj+\\u002f9ta2secaP+b3JNRZvgs\\u002f\\u002ff3xXoUwBT\\u002fDKeVy+KTqPnuFZ2B7LB8\\u002fLmhBS7RNNj8otYVTqpdBP87JiSVbY0M\\u002fDtzO5JkjQz8otGwxqXlCPxTczuSZI0M\\u002f3cmJJVtjQz89tYVTqpdBP1RoQUu0TTY\\u002f0oVnYHssHz8fKuVy+KTqPqH98V6FMAU\\u002fl7zmqDdbHT+pV6HPIi8mP6TjdbLjDyw\\u002fsuN1suMPLD\\u002fKV6HPIi8mP+q85qg3Wx0\\u002fKBzRyZStIz+tfoGRx7IBP2lM2uHxi88+8Z\\u002fuHUcMFz+4va13jNQrPxFozsR2WDQ\\u002fbrLrx1tYNz+hqzsT0CY4P32y68dbWDc\\u002fJmjOxHZYND\\u002fuva13jNQrP0Wg7h1HDBc\\u002fpE7a4fGLzz45foGRx7IBP\\u002fEb0cmUrSM\\u002f8rWpN1sBMT+82vIbbso1P4TgQI3SGDg\\u002fjeBAjdIYOD\\u002fX2vIbbso1Pxa2qTdbATE\\u002fFHLR0QaVPT9cgSiS3yUtP4BI52dfrAg\\u002f5jQKlfrk7z5kdebLkicTP0P8kZVimSI\\u002fIUTgZOQQKj\\u002f32\\u002fp2AmUsPzNE4GTkECo\\u002fX\\u002fyRlWKZIj+kdebLkicTP6w1CpX65O8+AEjnZ1+sCD8KgSiS3yUtP9hx0dEGlT0\\u002fW2KMiIGjQj\\u002fjyjfirYhDP00J0w9zrUI\\u002fVAnTD3OtQj\\u002f3yjfirYhDP3hijIiBo0I\\u002f+Sw93s5yUT9PcgVhGWNDP8B3ByYdjCg\\u002fDFKM90hGAT\\u002f6Aq4tILABPwEOL9sDDRU\\u002fjIjrBrkYIT9tp5v1bWwjP5qI6wa5GCE\\u002fLg4v2wMNFT84A64tILABP9dRjPdIRgE\\u002fdncHJh2MKD8kcgVhGWNDP9osPd7OclE\\u002fONrsxYVKUT\\u002fMRvKWHwhNP7a5pcAaAEk\\u002fvbmlwBoAST\\u002fmRvKWHwhNP1La7MWFSlE\\u002f\",\"shape\":\"12, 21\"},\"zsmooth\":false,\"type\":\"heatmap\"},{\"meta\":{},\"mode\":\"lines\",\"name\":\"Unit cell\",\"x\":{\"dtype\":\"f8\",\"bdata\":\"AAAAAAAAAAAAAAAAAAAAAArXo3A9ChFACtejcD0KEUAAAAAAAAAAAAAAAAAAAAAAAAAAAAAA+H8AAAAAAAAAAAAAAAAAAAAAAAAAAAAAAAAK16NwPQoRQArXo3A9ChFAAAAAAAAAAAAAAAAAAAD4fwrXo3A9ChFACtejcD0KEUAAAAAAAAD4fwrXo3A9ChFACtejcD0KEUA=\"},\"y\":{\"dtype\":\"f8\",\"bdata\":\"AAAAAAAAAAAxLFO0FK0DQDEsU7QUrQNAMSxTtBStA0AxLFO0FK0DQDEsU7QUrQNAAAAAAAAA+H8xLFO0FK0DQAAAAAAAAAAAAAAAAAAAAAAAAAAAAAAAAAAAAAAAAAAAAAAAAAAAAAAAAAAAAAD4fzEsU7QUrQNAAAAAAAAAAAAAAAAAAAD4fzEsU7QUrQNAAAAAAAAAAAA=\"},\"type\":\"scatter\"}],                        {\"template\":{\"layout\":{\"hovermode\":\"closest\",\"paper_bgcolor\":\"white\",\"plot_bgcolor\":\"white\",\"scene\":{\"xaxis\":{\"color\":\"black\",\"gridcolor\":\"#ccc\",\"gridwidth\":1,\"linewidth\":1,\"mirror\":true,\"showgrid\":false,\"showline\":true,\"ticklen\":5,\"ticks\":\"outside\",\"ticksuffix\":\" \",\"visible\":true,\"zeroline\":false,\"zerolinecolor\":\"#ccc\",\"zerolinewidth\":1},\"yaxis\":{\"color\":\"black\",\"gridcolor\":\"#ccc\",\"gridwidth\":1,\"linewidth\":1,\"mirror\":true,\"showgrid\":false,\"showline\":true,\"ticklen\":5,\"ticks\":\"outside\",\"ticksuffix\":\" \",\"visible\":true,\"zeroline\":false,\"zerolinecolor\":\"#ccc\",\"zerolinewidth\":1},\"zaxis\":{\"color\":\"black\",\"gridcolor\":\"#ccc\",\"gridwidth\":1,\"linewidth\":1,\"mirror\":true,\"showgrid\":false,\"showline\":true,\"ticklen\":5,\"ticks\":\"outside\",\"ticksuffix\":\" \",\"visible\":true,\"zeroline\":false,\"zerolinecolor\":\"#ccc\",\"zerolinewidth\":1}},\"xaxis\":{\"color\":\"black\",\"gridcolor\":\"#ccc\",\"gridwidth\":1,\"linewidth\":1,\"mirror\":true,\"showgrid\":false,\"showline\":true,\"ticklen\":5,\"ticks\":\"outside\",\"ticksuffix\":\" \",\"visible\":true,\"zeroline\":false,\"zerolinecolor\":\"#ccc\",\"zerolinewidth\":1},\"yaxis\":{\"color\":\"black\",\"gridcolor\":\"#ccc\",\"gridwidth\":1,\"linewidth\":1,\"mirror\":true,\"showgrid\":false,\"showline\":true,\"ticklen\":5,\"ticks\":\"outside\",\"ticksuffix\":\" \",\"visible\":true,\"zeroline\":false,\"zerolinecolor\":\"#ccc\",\"zerolinewidth\":1}}},\"coloraxis\":{\"showscale\":true},\"xaxis\":{\"scaleanchor\":\"y\",\"scaleratio\":1,\"title\":{\"text\":\"X axis [Ang]\"}},\"scene\":{\"aspectmode\":\"data\",\"xaxis\":{\"title\":{\"text\":\"X axis [Ang]\"}},\"yaxis\":{\"title\":{\"text\":\"Y axis [Ang]\"}}},\"yaxis\":{\"title\":{\"text\":\"Y axis [Ang]\"}}},                        {\"responsive\": true}                    ).then(function(){\n",
       "                            \n",
       "var gd = document.getElementById('78131f79-3cf8-40cd-aec6-531ce8ae45fc');\n",
       "var x = new MutationObserver(function (mutations, observer) {{\n",
       "        var display = window.getComputedStyle(gd).display;\n",
       "        if (!display || display === 'none') {{\n",
       "            console.log([gd, 'removed!']);\n",
       "            Plotly.purge(gd);\n",
       "            observer.disconnect();\n",
       "        }}\n",
       "}});\n",
       "\n",
       "// Listen for the removal of the full notebook cells\n",
       "var notebookContainer = gd.closest('#notebook-container');\n",
       "if (notebookContainer) {{\n",
       "    x.observe(notebookContainer, {childList: true});\n",
       "}}\n",
       "\n",
       "// Listen for the clearing of the current output cell\n",
       "var outputEl = gd.closest('.output');\n",
       "if (outputEl) {{\n",
       "    x.observe(outputEl, {childList: true});\n",
       "}}\n",
       "\n",
       "                        })                };            </script>        </div>"
      ]
     },
     "metadata": {},
     "output_type": "display_data"
    }
   ],
   "source": [
    "plot.update_inputs(axes=\"xy\", transforms=[\"square\"])  # by default grid_prec is 0.2 Ang"
   ]
  },
  {
   "cell_type": "code",
   "execution_count": 6,
   "metadata": {
    "execution": {
     "iopub.execute_input": "2025-10-08T13:17:42.432646Z",
     "iopub.status.busy": "2025-10-08T13:17:42.432295Z",
     "iopub.status.idle": "2025-10-08T13:17:43.515559Z",
     "shell.execute_reply": "2025-10-08T13:17:43.515010Z"
    }
   },
   "outputs": [
    {
     "name": "stderr",
     "output_type": "stream",
     "text": [
      "INFO\tTask(Task-2) nodify.node.139728169622496:node.py:get()- No need to evaluate\n"
     ]
    },
    {
     "name": "stderr",
     "output_type": "stream",
     "text": [
      "INFO\tTask(Task-2) nodify.node.139728169514192:node.py:get()- No need to evaluate\n"
     ]
    },
    {
     "name": "stderr",
     "output_type": "stream",
     "text": [
      "INFO\tTask(Task-2) nodify.node.139728169514720:node.py:get()- No need to evaluate\n"
     ]
    },
    {
     "name": "stderr",
     "output_type": "stream",
     "text": [
      "INFO\tTask(Task-2) nodify.node.139728210345568:node.py:get()- No need to evaluate\n"
     ]
    },
    {
     "name": "stderr",
     "output_type": "stream",
     "text": [
      "INFO\tTask(Task-2) nodify.node.139728169515104:node.py:get()- Evaluated because inputs changed.\n"
     ]
    },
    {
     "name": "stderr",
     "output_type": "stream",
     "text": [
      "INFO\tTask(Task-2) nodify.node.139728169515728:node.py:get()- No need to evaluate\n"
     ]
    },
    {
     "name": "stderr",
     "output_type": "stream",
     "text": [
      "INFO\tTask(Task-2) nodify.node.139728169514192:node.py:get()- No need to evaluate\n"
     ]
    },
    {
     "name": "stderr",
     "output_type": "stream",
     "text": [
      "INFO\tTask(Task-2) nodify.node.139728169514912:node.py:get()- No need to evaluate\n"
     ]
    },
    {
     "name": "stderr",
     "output_type": "stream",
     "text": [
      "INFO\tTask(Task-2) nodify.node.139728169624224:node.py:get()- No need to evaluate\n"
     ]
    },
    {
     "name": "stderr",
     "output_type": "stream",
     "text": [
      "INFO\tTask(Task-2) nodify.node.139728169616880:node.py:get()- No need to evaluate\n"
     ]
    },
    {
     "name": "stderr",
     "output_type": "stream",
     "text": [
      "INFO\tTask(Task-2) nodify.node.139728169514192:node.py:get()- No need to evaluate\n"
     ]
    },
    {
     "name": "stderr",
     "output_type": "stream",
     "text": [
      "INFO\tTask(Task-2) nodify.node.139728169514720:node.py:get()- No need to evaluate\n"
     ]
    },
    {
     "name": "stderr",
     "output_type": "stream",
     "text": [
      "INFO\tTask(Task-2) nodify.node.139728210345568:node.py:get()- No need to evaluate\n"
     ]
    },
    {
     "name": "stderr",
     "output_type": "stream",
     "text": [
      "INFO\tTask(Task-2) nodify.node.139728169623984:node.py:get()- No need to evaluate\n"
     ]
    },
    {
     "name": "stderr",
     "output_type": "stream",
     "text": [
      "INFO\tTask(Task-2) nodify.node.139728169624368:node.py:get()- Evaluated because inputs changed.\n"
     ]
    },
    {
     "name": "stderr",
     "output_type": "stream",
     "text": [
      "INFO\tTask(Task-2) nodify.node.139728169516544:node.py:get()- No need to evaluate\n"
     ]
    },
    {
     "name": "stderr",
     "output_type": "stream",
     "text": [
      "INFO\tTask(Task-2) nodify.node.139728169624992:node.py:get()- Evaluated because inputs changed.\n"
     ]
    },
    {
     "name": "stderr",
     "output_type": "stream",
     "text": [
      "INFO\tTask(Task-2) nodify.node.139728169616880:node.py:get()- No need to evaluate\n"
     ]
    },
    {
     "name": "stderr",
     "output_type": "stream",
     "text": [
      "INFO\tTask(Task-2) nodify.node.139728169514192:node.py:get()- No need to evaluate\n"
     ]
    },
    {
     "name": "stderr",
     "output_type": "stream",
     "text": [
      "INFO\tTask(Task-2) nodify.node.139728169514720:node.py:get()- No need to evaluate\n"
     ]
    },
    {
     "name": "stderr",
     "output_type": "stream",
     "text": [
      "INFO\tTask(Task-2) nodify.node.139728210345568:node.py:get()- No need to evaluate\n"
     ]
    },
    {
     "name": "stderr",
     "output_type": "stream",
     "text": [
      "INFO\tTask(Task-2) nodify.node.139728207155120:node.py:get()- No need to evaluate\n"
     ]
    },
    {
     "name": "stderr",
     "output_type": "stream",
     "text": [
      "INFO\tTask(Task-2) nodify.node.139728206969264:node.py:get()- Evaluated because inputs changed.\n"
     ]
    },
    {
     "name": "stderr",
     "output_type": "stream",
     "text": [
      "INFO\tTask(Task-2) nodify.node.139728169516112:node.py:get()- No need to evaluate\n"
     ]
    },
    {
     "name": "stderr",
     "output_type": "stream",
     "text": [
      "INFO\tTask(Task-2) nodify.node.139728169626192:node.py:get()- No need to evaluate\n"
     ]
    },
    {
     "name": "stderr",
     "output_type": "stream",
     "text": [
      "INFO\tTask(Task-2) nodify.node.139728169616208:node.py:get()- No need to evaluate\n"
     ]
    },
    {
     "name": "stderr",
     "output_type": "stream",
     "text": [
      "INFO\tTask(Task-2) nodify.node.139728169512992:node.py:get()- Evaluated because inputs changed.\n"
     ]
    },
    {
     "name": "stderr",
     "output_type": "stream",
     "text": [
      "INFO\tTask(Task-2) nodify.node.139728169615440:node.py:get()- No need to evaluate\n"
     ]
    },
    {
     "name": "stderr",
     "output_type": "stream",
     "text": [
      "INFO\tTask(Task-2) nodify.node.139728207585664:node.py:get()- Evaluated because inputs changed.\n"
     ]
    },
    {
     "name": "stderr",
     "output_type": "stream",
     "text": [
      "INFO\tTask(Task-2) nodify.node.139728169620576:node.py:get()- No need to evaluate\n"
     ]
    },
    {
     "name": "stderr",
     "output_type": "stream",
     "text": [
      "INFO\tTask(Task-2) nodify.node.139728169620960:node.py:get()- No need to evaluate\n"
     ]
    },
    {
     "name": "stderr",
     "output_type": "stream",
     "text": [
      "INFO\tTask(Task-2) nodify.node.139728169621344:node.py:get()- No need to evaluate\n"
     ]
    },
    {
     "name": "stderr",
     "output_type": "stream",
     "text": [
      "INFO\tTask(Task-2) nodify.node.139728169627200:node.py:get()- Evaluated because inputs changed.\n"
     ]
    },
    {
     "name": "stderr",
     "output_type": "stream",
     "text": [
      "INFO\tTask(Task-2) nodify.node.139728169615824:node.py:get()- No need to evaluate\n"
     ]
    },
    {
     "name": "stderr",
     "output_type": "stream",
     "text": [
      "INFO\tTask(Task-2) nodify.node.139728169514192:node.py:get()- No need to evaluate\n"
     ]
    },
    {
     "name": "stderr",
     "output_type": "stream",
     "text": [
      "INFO\tTask(Task-2) nodify.node.139728169514720:node.py:get()- No need to evaluate\n"
     ]
    },
    {
     "name": "stderr",
     "output_type": "stream",
     "text": [
      "INFO\tTask(Task-2) nodify.node.139728210345568:node.py:get()- No need to evaluate\n"
     ]
    },
    {
     "name": "stderr",
     "output_type": "stream",
     "text": [
      "INFO\tTask(Task-2) nodify.node.139728169515104:node.py:get()- No need to evaluate\n"
     ]
    },
    {
     "name": "stderr",
     "output_type": "stream",
     "text": [
      "INFO\tTask(Task-2) nodify.node.139728169515728:node.py:get()- No need to evaluate\n"
     ]
    },
    {
     "name": "stderr",
     "output_type": "stream",
     "text": [
      "INFO\tTask(Task-2) nodify.node.139728169514192:node.py:get()- No need to evaluate\n"
     ]
    },
    {
     "name": "stderr",
     "output_type": "stream",
     "text": [
      "INFO\tTask(Task-2) nodify.node.139728169514912:node.py:get()- No need to evaluate\n"
     ]
    },
    {
     "name": "stderr",
     "output_type": "stream",
     "text": [
      "INFO\tTask(Task-2) nodify.node.139728169624224:node.py:get()- No need to evaluate\n"
     ]
    },
    {
     "name": "stderr",
     "output_type": "stream",
     "text": [
      "INFO\tTask(Task-2) nodify.node.139728169616880:node.py:get()- No need to evaluate\n"
     ]
    },
    {
     "name": "stderr",
     "output_type": "stream",
     "text": [
      "INFO\tTask(Task-2) nodify.node.139728169514192:node.py:get()- No need to evaluate\n"
     ]
    },
    {
     "name": "stderr",
     "output_type": "stream",
     "text": [
      "INFO\tTask(Task-2) nodify.node.139728169514720:node.py:get()- No need to evaluate\n"
     ]
    },
    {
     "name": "stderr",
     "output_type": "stream",
     "text": [
      "INFO\tTask(Task-2) nodify.node.139728210345568:node.py:get()- No need to evaluate\n"
     ]
    },
    {
     "name": "stderr",
     "output_type": "stream",
     "text": [
      "INFO\tTask(Task-2) nodify.node.139728169623984:node.py:get()- No need to evaluate\n"
     ]
    },
    {
     "name": "stderr",
     "output_type": "stream",
     "text": [
      "INFO\tTask(Task-2) nodify.node.139728169624368:node.py:get()- No need to evaluate\n"
     ]
    },
    {
     "name": "stderr",
     "output_type": "stream",
     "text": [
      "INFO\tTask(Task-2) nodify.node.139728169516544:node.py:get()- No need to evaluate\n"
     ]
    },
    {
     "name": "stderr",
     "output_type": "stream",
     "text": [
      "INFO\tTask(Task-2) nodify.node.139728169624992:node.py:get()- No need to evaluate\n"
     ]
    },
    {
     "name": "stderr",
     "output_type": "stream",
     "text": [
      "INFO\tTask(Task-2) nodify.node.139728169616880:node.py:get()- No need to evaluate\n"
     ]
    },
    {
     "name": "stderr",
     "output_type": "stream",
     "text": [
      "INFO\tTask(Task-2) nodify.node.139728169514192:node.py:get()- No need to evaluate\n"
     ]
    },
    {
     "name": "stderr",
     "output_type": "stream",
     "text": [
      "INFO\tTask(Task-2) nodify.node.139728169514720:node.py:get()- No need to evaluate\n"
     ]
    },
    {
     "name": "stderr",
     "output_type": "stream",
     "text": [
      "INFO\tTask(Task-2) nodify.node.139728210345568:node.py:get()- No need to evaluate\n"
     ]
    },
    {
     "name": "stderr",
     "output_type": "stream",
     "text": [
      "INFO\tTask(Task-2) nodify.node.139728207155120:node.py:get()- No need to evaluate\n"
     ]
    },
    {
     "name": "stderr",
     "output_type": "stream",
     "text": [
      "INFO\tTask(Task-2) nodify.node.139728206969264:node.py:get()- No need to evaluate\n"
     ]
    },
    {
     "name": "stderr",
     "output_type": "stream",
     "text": [
      "INFO\tTask(Task-2) nodify.node.139728169516112:node.py:get()- No need to evaluate\n"
     ]
    },
    {
     "name": "stderr",
     "output_type": "stream",
     "text": [
      "INFO\tTask(Task-2) nodify.node.139728169626192:node.py:get()- No need to evaluate\n"
     ]
    },
    {
     "name": "stderr",
     "output_type": "stream",
     "text": [
      "INFO\tTask(Task-2) nodify.node.139728169616208:node.py:get()- No need to evaluate\n"
     ]
    },
    {
     "name": "stderr",
     "output_type": "stream",
     "text": [
      "INFO\tTask(Task-2) nodify.node.139728169512992:node.py:get()- No need to evaluate\n"
     ]
    },
    {
     "name": "stderr",
     "output_type": "stream",
     "text": [
      "INFO\tTask(Task-2) nodify.node.139728169516112:node.py:get()- No need to evaluate\n"
     ]
    },
    {
     "name": "stderr",
     "output_type": "stream",
     "text": [
      "INFO\tTask(Task-2) nodify.node.139728169626192:node.py:get()- No need to evaluate\n"
     ]
    },
    {
     "name": "stderr",
     "output_type": "stream",
     "text": [
      "INFO\tTask(Task-2) nodify.node.139728171613792:node.py:get()- Evaluated because inputs changed.\n"
     ]
    },
    {
     "name": "stderr",
     "output_type": "stream",
     "text": [
      "INFO\tTask(Task-2) nodify.node.139728169627008:node.py:get()- Evaluated because inputs changed.\n"
     ]
    },
    {
     "name": "stderr",
     "output_type": "stream",
     "text": [
      "INFO\tTask(Task-2) nodify.node.139728169617408:node.py:get()- No need to evaluate\n"
     ]
    },
    {
     "name": "stderr",
     "output_type": "stream",
     "text": [
      "INFO\tTask(Task-2) nodify.node.139728169627344:node.py:get()- Evaluated because inputs changed.\n"
     ]
    },
    {
     "name": "stderr",
     "output_type": "stream",
     "text": [
      "INFO\tTask(Task-2) nodify.node.139728169516112:node.py:get()- No need to evaluate\n"
     ]
    },
    {
     "name": "stderr",
     "output_type": "stream",
     "text": [
      "INFO\tTask(Task-2) nodify.node.139728169626192:node.py:get()- No need to evaluate\n"
     ]
    },
    {
     "name": "stderr",
     "output_type": "stream",
     "text": [
      "INFO\tTask(Task-2) nodify.node.139728169514192:node.py:get()- No need to evaluate\n"
     ]
    },
    {
     "name": "stderr",
     "output_type": "stream",
     "text": [
      "INFO\tTask(Task-2) nodify.node.139728169514720:node.py:get()- No need to evaluate\n"
     ]
    },
    {
     "name": "stderr",
     "output_type": "stream",
     "text": [
      "INFO\tTask(Task-2) nodify.node.139728210345568:node.py:get()- No need to evaluate\n"
     ]
    },
    {
     "name": "stderr",
     "output_type": "stream",
     "text": [
      "INFO\tTask(Task-2) nodify.node.139728169515104:node.py:get()- No need to evaluate\n"
     ]
    },
    {
     "name": "stderr",
     "output_type": "stream",
     "text": [
      "INFO\tTask(Task-2) nodify.node.139728169515728:node.py:get()- No need to evaluate\n"
     ]
    },
    {
     "name": "stderr",
     "output_type": "stream",
     "text": [
      "INFO\tTask(Task-2) nodify.node.139728169514192:node.py:get()- No need to evaluate\n"
     ]
    },
    {
     "name": "stderr",
     "output_type": "stream",
     "text": [
      "INFO\tTask(Task-2) nodify.node.139728169514912:node.py:get()- No need to evaluate\n"
     ]
    },
    {
     "name": "stderr",
     "output_type": "stream",
     "text": [
      "INFO\tTask(Task-2) nodify.node.139728169624224:node.py:get()- No need to evaluate\n"
     ]
    },
    {
     "name": "stderr",
     "output_type": "stream",
     "text": [
      "INFO\tTask(Task-2) nodify.node.139728169616880:node.py:get()- No need to evaluate\n"
     ]
    },
    {
     "name": "stderr",
     "output_type": "stream",
     "text": [
      "INFO\tTask(Task-2) nodify.node.139728169514192:node.py:get()- No need to evaluate\n"
     ]
    },
    {
     "name": "stderr",
     "output_type": "stream",
     "text": [
      "INFO\tTask(Task-2) nodify.node.139728169514720:node.py:get()- No need to evaluate\n"
     ]
    },
    {
     "name": "stderr",
     "output_type": "stream",
     "text": [
      "INFO\tTask(Task-2) nodify.node.139728210345568:node.py:get()- No need to evaluate\n"
     ]
    },
    {
     "name": "stderr",
     "output_type": "stream",
     "text": [
      "INFO\tTask(Task-2) nodify.node.139728169623984:node.py:get()- No need to evaluate\n"
     ]
    },
    {
     "name": "stderr",
     "output_type": "stream",
     "text": [
      "INFO\tTask(Task-2) nodify.node.139728169624368:node.py:get()- No need to evaluate\n"
     ]
    },
    {
     "name": "stderr",
     "output_type": "stream",
     "text": [
      "INFO\tTask(Task-2) nodify.node.139728169516544:node.py:get()- No need to evaluate\n"
     ]
    },
    {
     "name": "stderr",
     "output_type": "stream",
     "text": [
      "INFO\tTask(Task-2) nodify.node.139728169624992:node.py:get()- No need to evaluate\n"
     ]
    },
    {
     "name": "stderr",
     "output_type": "stream",
     "text": [
      "INFO\tTask(Task-2) nodify.node.139728169616880:node.py:get()- No need to evaluate\n"
     ]
    },
    {
     "name": "stderr",
     "output_type": "stream",
     "text": [
      "INFO\tTask(Task-2) nodify.node.139728169514192:node.py:get()- No need to evaluate\n"
     ]
    },
    {
     "name": "stderr",
     "output_type": "stream",
     "text": [
      "INFO\tTask(Task-2) nodify.node.139728169514720:node.py:get()- No need to evaluate\n"
     ]
    },
    {
     "name": "stderr",
     "output_type": "stream",
     "text": [
      "INFO\tTask(Task-2) nodify.node.139728210345568:node.py:get()- No need to evaluate\n"
     ]
    },
    {
     "name": "stderr",
     "output_type": "stream",
     "text": [
      "INFO\tTask(Task-2) nodify.node.139728207155120:node.py:get()- No need to evaluate\n"
     ]
    },
    {
     "name": "stderr",
     "output_type": "stream",
     "text": [
      "INFO\tTask(Task-2) nodify.node.139728206969264:node.py:get()- No need to evaluate\n"
     ]
    },
    {
     "name": "stderr",
     "output_type": "stream",
     "text": [
      "INFO\tTask(Task-2) nodify.node.139728169516112:node.py:get()- No need to evaluate\n"
     ]
    },
    {
     "name": "stderr",
     "output_type": "stream",
     "text": [
      "INFO\tTask(Task-2) nodify.node.139728169626192:node.py:get()- No need to evaluate\n"
     ]
    },
    {
     "name": "stderr",
     "output_type": "stream",
     "text": [
      "INFO\tTask(Task-2) nodify.node.139728169616208:node.py:get()- No need to evaluate\n"
     ]
    },
    {
     "name": "stderr",
     "output_type": "stream",
     "text": [
      "INFO\tTask(Task-2) nodify.node.139728169512992:node.py:get()- No need to evaluate\n"
     ]
    },
    {
     "name": "stderr",
     "output_type": "stream",
     "text": [
      "INFO\tTask(Task-2) nodify.node.139728169516112:node.py:get()- No need to evaluate\n"
     ]
    },
    {
     "name": "stderr",
     "output_type": "stream",
     "text": [
      "INFO\tTask(Task-2) nodify.node.139728169626192:node.py:get()- No need to evaluate\n"
     ]
    },
    {
     "name": "stderr",
     "output_type": "stream",
     "text": [
      "INFO\tTask(Task-2) nodify.node.139728171613792:node.py:get()- No need to evaluate\n"
     ]
    },
    {
     "name": "stderr",
     "output_type": "stream",
     "text": [
      "INFO\tTask(Task-2) nodify.node.139728169616880:node.py:get()- No need to evaluate\n"
     ]
    },
    {
     "name": "stderr",
     "output_type": "stream",
     "text": [
      "INFO\tTask(Task-2) nodify.node.139728169514192:node.py:get()- No need to evaluate\n"
     ]
    },
    {
     "name": "stderr",
     "output_type": "stream",
     "text": [
      "INFO\tTask(Task-2) nodify.node.139728169514720:node.py:get()- No need to evaluate\n"
     ]
    },
    {
     "name": "stderr",
     "output_type": "stream",
     "text": [
      "INFO\tTask(Task-2) nodify.node.139728210345568:node.py:get()- No need to evaluate\n"
     ]
    },
    {
     "name": "stderr",
     "output_type": "stream",
     "text": [
      "INFO\tTask(Task-2) nodify.node.139728207155120:node.py:get()- No need to evaluate\n"
     ]
    },
    {
     "name": "stderr",
     "output_type": "stream",
     "text": [
      "INFO\tTask(Task-2) nodify.node.139728169628256:node.py:get()- Evaluated because inputs changed.\n"
     ]
    },
    {
     "name": "stderr",
     "output_type": "stream",
     "text": [
      "INFO\tTask(Task-2) nodify.node.139728169617792:node.py:get()- No need to evaluate\n"
     ]
    },
    {
     "name": "stderr",
     "output_type": "stream",
     "text": [
      "INFO\tTask(Task-2) nodify.node.139728169507712:node.py:get()- No need to evaluate\n"
     ]
    },
    {
     "name": "stderr",
     "output_type": "stream",
     "text": [
      "INFO\tTask(Task-2) nodify.node.139728169512128:node.py:get()- No need to evaluate\n"
     ]
    },
    {
     "name": "stderr",
     "output_type": "stream",
     "text": [
      "INFO\tTask(Task-2) nodify.node.139728169619424:node.py:get()- No need to evaluate\n"
     ]
    },
    {
     "name": "stderr",
     "output_type": "stream",
     "text": [
      "INFO\tTask(Task-2) nodify.node.139728169618176:node.py:get()- No need to evaluate\n"
     ]
    },
    {
     "name": "stderr",
     "output_type": "stream",
     "text": [
      "INFO\tTask(Task-2) nodify.node.139728169628544:node.py:get()- Evaluated because inputs changed.\n"
     ]
    },
    {
     "name": "stderr",
     "output_type": "stream",
     "text": [
      "INFO\tTask(Task-2) nodify.node.139728169514192:node.py:get()- No need to evaluate\n"
     ]
    },
    {
     "name": "stderr",
     "output_type": "stream",
     "text": [
      "INFO\tTask(Task-2) nodify.node.139728169514720:node.py:get()- No need to evaluate\n"
     ]
    },
    {
     "name": "stderr",
     "output_type": "stream",
     "text": [
      "INFO\tTask(Task-2) nodify.node.139728210345568:node.py:get()- No need to evaluate\n"
     ]
    },
    {
     "name": "stderr",
     "output_type": "stream",
     "text": [
      "INFO\tTask(Task-2) nodify.node.139728169515104:node.py:get()- No need to evaluate\n"
     ]
    },
    {
     "name": "stderr",
     "output_type": "stream",
     "text": [
      "INFO\tTask(Task-2) nodify.node.139728169515728:node.py:get()- No need to evaluate\n"
     ]
    },
    {
     "name": "stderr",
     "output_type": "stream",
     "text": [
      "INFO\tTask(Task-2) nodify.node.139728169514192:node.py:get()- No need to evaluate\n"
     ]
    },
    {
     "name": "stderr",
     "output_type": "stream",
     "text": [
      "INFO\tTask(Task-2) nodify.node.139728169514912:node.py:get()- No need to evaluate\n"
     ]
    },
    {
     "name": "stderr",
     "output_type": "stream",
     "text": [
      "INFO\tTask(Task-2) nodify.node.139728169624224:node.py:get()- No need to evaluate\n"
     ]
    },
    {
     "name": "stderr",
     "output_type": "stream",
     "text": [
      "INFO\tTask(Task-2) nodify.node.139728169616880:node.py:get()- No need to evaluate\n"
     ]
    },
    {
     "name": "stderr",
     "output_type": "stream",
     "text": [
      "INFO\tTask(Task-2) nodify.node.139728169514192:node.py:get()- No need to evaluate\n"
     ]
    },
    {
     "name": "stderr",
     "output_type": "stream",
     "text": [
      "INFO\tTask(Task-2) nodify.node.139728169514720:node.py:get()- No need to evaluate\n"
     ]
    },
    {
     "name": "stderr",
     "output_type": "stream",
     "text": [
      "INFO\tTask(Task-2) nodify.node.139728210345568:node.py:get()- No need to evaluate\n"
     ]
    },
    {
     "name": "stderr",
     "output_type": "stream",
     "text": [
      "INFO\tTask(Task-2) nodify.node.139728169623984:node.py:get()- No need to evaluate\n"
     ]
    },
    {
     "name": "stderr",
     "output_type": "stream",
     "text": [
      "INFO\tTask(Task-2) nodify.node.139728169624368:node.py:get()- No need to evaluate\n"
     ]
    },
    {
     "name": "stderr",
     "output_type": "stream",
     "text": [
      "INFO\tTask(Task-2) nodify.node.139728169619808:node.py:get()- No need to evaluate\n"
     ]
    },
    {
     "name": "stderr",
     "output_type": "stream",
     "text": [
      "INFO\tTask(Task-2) nodify.node.139728169516112:node.py:get()- No need to evaluate\n"
     ]
    },
    {
     "name": "stderr",
     "output_type": "stream",
     "text": [
      "INFO\tTask(Task-2) nodify.node.139728169626192:node.py:get()- No need to evaluate\n"
     ]
    },
    {
     "name": "stderr",
     "output_type": "stream",
     "text": [
      "INFO\tTask(Task-2) nodify.node.139728169620192:node.py:get()- No need to evaluate\n"
     ]
    },
    {
     "name": "stderr",
     "output_type": "stream",
     "text": [
      "INFO\tTask(Task-2) nodify.node.139728169629408:node.py:get()- Evaluated because inputs changed.\n"
     ]
    },
    {
     "name": "stderr",
     "output_type": "stream",
     "text": [
      "INFO\tTask(Task-2) nodify.node.139728169621728:node.py:get()- No need to evaluate\n"
     ]
    },
    {
     "name": "stderr",
     "output_type": "stream",
     "text": [
      "INFO\tTask(Task-2) nodify.node.139728169514192:node.py:get()- No need to evaluate\n"
     ]
    },
    {
     "name": "stderr",
     "output_type": "stream",
     "text": [
      "INFO\tTask(Task-2) nodify.node.139728169514912:node.py:get()- No need to evaluate\n"
     ]
    },
    {
     "name": "stderr",
     "output_type": "stream",
     "text": [
      "INFO\tTask(Task-2) nodify.node.139728169624224:node.py:get()- No need to evaluate\n"
     ]
    },
    {
     "name": "stderr",
     "output_type": "stream",
     "text": [
      "INFO\tTask(Task-2) nodify.node.139728169616880:node.py:get()- No need to evaluate\n"
     ]
    },
    {
     "name": "stderr",
     "output_type": "stream",
     "text": [
      "INFO\tTask(Task-2) nodify.node.139728169514192:node.py:get()- No need to evaluate\n"
     ]
    },
    {
     "name": "stderr",
     "output_type": "stream",
     "text": [
      "INFO\tTask(Task-2) nodify.node.139728169514720:node.py:get()- No need to evaluate\n"
     ]
    },
    {
     "name": "stderr",
     "output_type": "stream",
     "text": [
      "INFO\tTask(Task-2) nodify.node.139728210345568:node.py:get()- No need to evaluate\n"
     ]
    },
    {
     "name": "stderr",
     "output_type": "stream",
     "text": [
      "INFO\tTask(Task-2) nodify.node.139728169623984:node.py:get()- No need to evaluate\n"
     ]
    },
    {
     "name": "stderr",
     "output_type": "stream",
     "text": [
      "INFO\tTask(Task-2) nodify.node.139728169516112:node.py:get()- No need to evaluate\n"
     ]
    },
    {
     "name": "stderr",
     "output_type": "stream",
     "text": [
      "INFO\tTask(Task-2) nodify.node.139728169626192:node.py:get()- No need to evaluate\n"
     ]
    },
    {
     "name": "stderr",
     "output_type": "stream",
     "text": [
      "INFO\tTask(Task-2) nodify.node.139728169616880:node.py:get()- No need to evaluate\n"
     ]
    },
    {
     "name": "stderr",
     "output_type": "stream",
     "text": [
      "INFO\tTask(Task-2) nodify.node.139728169514192:node.py:get()- No need to evaluate\n"
     ]
    },
    {
     "name": "stderr",
     "output_type": "stream",
     "text": [
      "INFO\tTask(Task-2) nodify.node.139728169514720:node.py:get()- No need to evaluate\n"
     ]
    },
    {
     "name": "stderr",
     "output_type": "stream",
     "text": [
      "INFO\tTask(Task-2) nodify.node.139728210345568:node.py:get()- No need to evaluate\n"
     ]
    },
    {
     "name": "stderr",
     "output_type": "stream",
     "text": [
      "INFO\tTask(Task-2) nodify.node.139728207155120:node.py:get()- No need to evaluate\n"
     ]
    },
    {
     "name": "stderr",
     "output_type": "stream",
     "text": [
      "INFO\tTask(Task-2) nodify.node.139728169622112:node.py:get()- No need to evaluate\n"
     ]
    },
    {
     "name": "stderr",
     "output_type": "stream",
     "text": [
      "INFO\tTask(Task-2) nodify.node.139728172587088:node.py:get()- No need to evaluate\n"
     ]
    },
    {
     "name": "stderr",
     "output_type": "stream",
     "text": [
      "INFO\tTask(Task-2) nodify.node.139728207590272:node.py:get()- Evaluated because inputs changed.\n"
     ]
    },
    {
     "name": "stderr",
     "output_type": "stream",
     "text": [
      "INFO\tTask(Task-2) nodify.node.139728169629312:node.py:get()- Evaluated because inputs changed.\n"
     ]
    },
    {
     "name": "stderr",
     "output_type": "stream",
     "text": [
      "INFO\tTask(Task-2) nodify.node.139728206967920:node.py:get()- Evaluated because inputs changed.\n"
     ]
    },
    {
     "data": {
      "text/html": [
       "<div>            <script src=\"https://cdnjs.cloudflare.com/ajax/libs/mathjax/2.7.5/MathJax.js?config=TeX-AMS-MML_SVG\"></script><script type=\"text/javascript\">if (window.MathJax && window.MathJax.Hub && window.MathJax.Hub.Config) {window.MathJax.Hub.Config({SVG: {font: \"STIX-Web\"}});}</script>                <script type=\"text/javascript\">window.PlotlyConfig = {MathJaxConfig: 'local'};</script>\n",
       "        <script charset=\"utf-8\" src=\"https://cdn.plot.ly/plotly-3.1.1.min.js\" integrity=\"sha256-HUEFyfiTnZJxCxur99FjbKYTvKSzwDaD3/x5TqHpFu4=\" crossorigin=\"anonymous\"></script>                <div id=\"4d7572cb-455a-42c1-8fbd-b54de1b14a1f\" class=\"plotly-graph-div\" style=\"height:525px; width:100%;\"></div>            <script type=\"text/javascript\">                window.PLOTLYENV=window.PLOTLYENV || {};                                if (document.getElementById(\"4d7572cb-455a-42c1-8fbd-b54de1b14a1f\")) {                    Plotly.newPlot(                        \"4d7572cb-455a-42c1-8fbd-b54de1b14a1f\",                        [{\"coloraxis\":\"coloraxis\",\"meta\":{},\"opacity\":1,\"x\":{\"dtype\":\"f8\",\"bdata\":\"AAAAAAAAAAB15iMuBampP3XmIy4Fqbk\\u002f2Oya4sM+wz915iMuBanJPwlw1jyjCdA\\u002f2Oya4sM+0z+maV+I5HPWP3XmIy4Fqdk\\u002fRGPo0yXe3D8JcNY8owngP3CuuI8zpOE\\u002f2Oya4sM+4z8\\u002fK301VNnkP6ZpX4jkc+Y\\u002fDqhB23QO6D915iMuBanpP9wkBoGVQ+s\\u002fRGPo0yXe7D+rocomtnjuPwlw1jyjCfA\\u002fPY9HZuvW8D9wrriPM6TxP6TNKbl7cfI\\u002f2Oya4sM+8z8LDAwMDAz0Pz8rfTVU2fQ\\u002fc0ruXpym9T+maV+I5HP2P9qI0LEsQfc\\u002fDqhB23QO+D9Bx7IEvdv4P3XmIy4Fqfk\\u002fqQWVV012+j\\u002fcJAaBlUP7PxBEd6rdEPw\\u002fRGPo0yXe\\u002fD93gln9bav9P6uhyia2eP4\\u002f38A7UP5F\\u002fz8JcNY8owkAQKP\\u002fjlFHcABAPY9HZuvWAEDXHgB7jz0BQHCuuI8zpAFACj5xpNcKAkCkzSm5e3ECQD5d4s0f2AJA2Oya4sM+A0ByfFP3Z6UDQAsMDAwMDARApZvEILByBEA\\u002fK301VNkEQNm6NUr4PwVAc0ruXpymBUAN2qZzQA0GQKZpX4jkcwZAQPkXnYjaBkDaiNCxLEEHQHQYicbQpwdADqhB23QOCECoN\\u002frvGHUIQEHHsgS92whA21ZrGWFCCUB15iMuBakJQA923EKpDwpAqQWVV012CkBClU1s8dwKQNwkBoGVQwtAdrS+lTmqC0AQRHeq3RAMQKrTL7+BdwxARGPo0yXeDEDd8qDoyUQNQHeCWf1tqw1AERISEhISDkCrocomtngOQEUxgzta3w5A38A7UP5FD0B4UPRkoqwPQAlw1jyjCRBA1rcyR\\u002fU8EECj\\u002f45RR3AQQHBH61uZoxBAPY9HZuvWEEA=\"},\"y\":{\"dtype\":\"f8\",\"bdata\":\"AAAAAAAAAAAmFXdeC7OpPyYVd14Ls7k\\u002f3E\\u002fZhkhGwz8mFXdeC7PJPzhtChvnD9A\\u002f3E\\u002fZhkhG0z+BMqjyqXzWPyYVd14Ls9k\\u002fy\\u002fdFymzp3D84bQob5w\\u002fgP4re8dAXq+E\\u002f3E\\u002fZhkhG4z8vwcA8eeHkP4EyqPKpfOY\\u002f1KOPqNoX6D8mFXdeC7PpP3iGXhQ8Tus\\u002fy\\u002fdFymzp7D8daS2AnYTuPzhtChvnD\\u002fA\\u002f4SX+dX\\u002fd8D+K3vHQF6vxPzOX5SuwePI\\u002f3E\\u002fZhkhG8z+GCM3h4BP0Py\\u002fBwDx54fQ\\u002f2Hm0lxGv9T+BMqjyqXz2Pyrrm01CSvc\\u002f1KOPqNoX+D99XIMDc+X4PyYVd14Ls\\u002fk\\u002fz81quaOA+j94hl4UPE77PyI\\u002fUm\\u002fUG\\u002fw\\u002fy\\u002fdFymzp\\u002fD90sDklBbf9Px1pLYCdhP4\\u002fxiEh2zVS\\u002fz84bQob5w8AQIxJhEizdgBA4SX+dX\\u002fdAEA2AnijS0QBQIre8dAXqwFA37pr\\u002fuMRAkAzl+UrsHgCQIhzX1l83wJA3E\\u002fZhkhGA0A=\"},\"z\":{\"dtype\":\"f8\",\"bdata\":\"XDbKJv62YT+p8KuhjAleP0TNoVRg1lc\\u002f5rRk4Ma+Uj+XIoj\\u002fpB9NPzvt+k\\u002f2TkY\\u002fYJSv0CvJQD8FtZbmJb44P0z+9b\\u002fDJTI\\u002fuBefDAkOKj+bUkUm1hwiPxPd79P3rRg\\u002f7yIMCnNIED\\u002f09YennhUHP7R0iHUCsAE\\u002fpoLupkRNAD8NWNJ1oCcBP+6k\\u002fl5BhAU\\u002fsQ5J2bc7CT+K8ZXtloIPP4Gy4W9XwxI\\u002feo497rkTFT\\u002f7moRnMFMYP+byUKJqTxo\\u002fOzKdUdP\\u002fHD+22gi+XiQfPwRUxlV4oiA\\u002ft9mmvtNlIT\\u002f8NMzNY4UhP1jfbeAshyE\\u002fCR9tui\\u002fQID95W5BWEX8gP13D\\u002fhtNfB4\\u002faZctatdQHD+zWVh+zo8ZP4FMaySlnxc\\u002f+ncQ\\u002fCdtFD8TyrvTltIRPy6L2pxvvw0\\u002fmjLFy2MOCD8UXCWScNQDP1Rw36v5GAA\\u002f3w0VlBjqAD+aJoL4H28DP+yFLppmFQo\\u002fwITQfybHEj\\u002f66A628hUcP\\u002fOLvLPmjyQ\\u002fhZwJ8mkaLT93f5Q7MS40P4DzeYzUbTs\\u002fuoFTug6CQj8cIV0fVXBIPzsRbI1gvk8\\u002fz8F\\u002fdwtUVD9kN\\u002f+vm8RZPxSGlo\\u002fNJGA\\u002fBApI+jqSYT8szGPedPxeP1rLPJ3SU1s\\u002fNIpEz3N5WD8Kk5LTxTxWP7OCciu1dVQ\\u002fE0\\u002fLed3SUj9a5fPGVINRPyDwyN\\u002f5ZVA\\u002fCaHiPU4dTz9zstURYtVNP3RYXmuZqEw\\u002fT6kni0oOTD8\\u002fTX\\u002fYbYhLPzh4i55Nk0s\\u002fbMhc4Wa5Sz\\u002fkrzEPRDpMP4WyAgjtE00\\u002fSUG2x1UjTj+7FEvoLI9PP094WmK1u1A\\u002fzh1VV2vZUT\\u002ffNV\\u002fbSlVTP8VjsL1f91Q\\u002fQN4\\u002f0s\\u002fsVj\\u002fmKPrLvVdZP7tXKi70b1w\\u002fhrOT\\u002ffo2YD8hjL2RniRfPxdGPOV7uls\\u002f0qvDRmW8Vj+gldiAcBxSPxoNEjM\\u002fT0w\\u002fk7EKTo7CRT+YtFJm2WJAP5Y0jjYXVTg\\u002fMvzGONuzMT9Gnb6g0zApP4g6znorfyE\\u002fBXqyD5KpFz8DTHeeBbIPP2TP5kzGIwY\\u002fDS4jxXCRAT9I022D9pP\\u002fPsjEuJQBQAE\\u002fCRlx7N2tBD\\u002faklzZk6IJP6G4NQ\\u002fycA8\\u002fjZRkApx5Ej+moqNVMCEVP3vSjYMs8Rc\\u002fCEEOW5VpGj976zi4TUMdP9jYUUXrKh8\\u002f\\u002fkM7UJDLID9G\\u002fKCgAVshP31ZytBznCE\\u002f\\u002fyhsF6CPIT+8EU9uX\\u002fwgP21PD8oiVCA\\u002f\\u002fWSIm8lwHj+8+Z0mHrocP26tv6HE0hk\\u002f5XQICml6Fz8OdVJfgcoUPw4N+Qo8kBE\\u002fjQIARYh4DT+7IDpa4\\u002fQHPztqiBDzJgM\\u002fSq+SCXiYAD\\u002fNmLfadeT\\u002fPohXBBvQ5wI\\u002fg7CtdOt5CD\\u002fPBTNHkkASPx\\u002fuJK3eBxs\\u002fugjBPU7hIz8\\u002f7\\u002fqFg1ssPzHgvxhfujM\\u002fc2WBKV36Oj+PVrsCzwtCP4kV\\u002ffCqykc\\u002fgzpk7lDJTj+WjK7xD5VTPzN\\u002f4MErZVg\\u002frDQMk2VAXT89sp3Ztz5fPy5LBP3JLV0\\u002fdp2UADlfWj8D027nHOFXP1d38ZD9zlU\\u002fReQgVycgVD+Mj7LVZ5dSP08Ljz3+TFE\\u002f6nq\\u002ftqlHUD96OKCuocxOP\\u002fSNFnOwj00\\u002fkiaGKoh\\u002fTD\\u002fKjdzQQc9LP6OAb7O5Zks\\u002fyLT4VzZQSz\\u002f\\u002fN8mCfntLPwHQu4s5CUw\\u002fbQrBxbDbTD+Am19rcu5NPyBn9iFzV08\\u002fq4JSJZONUD8EhFdY3K1RP2T8f6zbF1M\\u002fWznKUxOhVD+s09mLonNWPzNx3DXXrFg\\u002fdt07fqBMWz\\u002f4jnAHaBVePyRY7jHb4Fk\\u002f5gfHQuGvVz+NggbZ8S9UP7owkXs7e1A\\u002f3QkegJ0lSj88l3buE0FEP5OC+C1u4T4\\u002fRclTqqD+Nj8yN4JZ96gwP1wD9r\\u002f+WCc\\u002fRLpY3G0DID98eFHQYrwVPyaxnCkwdgw\\u002fu\\u002f75ouHcAz83ycdtX77\\u002fPoDMJLt2\\u002f\\u002fw+kk217DMXAT9m7pcVm9AEPybMjoVnJwk\\u002fijYhovSZDz8cLX7mKcYSP\\u002f3gjjBTuBU\\u002fqWEC6oCHGD\\u002fsN5KI5ikbP4hrA90F1x0\\u002fqoluoYjzHz\\u002faSD6eVQwhP66pFhi1WCE\\u002fn1uWx+LQIT9m6bpYse0hP9buHFkcFiE\\u002fsoAXHXWeID9M95h1iEgfPyWfw7xmEx0\\u002fgDv\\u002f7ZOcGj9YuSgM2tcXP70LIpmgjBQ\\u002fcoRZafPQET9D6SeyQioOPynW+99Unwc\\u002fKvKG\\u002fJQ6Az9Uti+0zBf\\u002fPgrwZKIM3P0+6sOeWUJFAD+3JgwscjUGPxZ7eYqJPBA\\u002fMVhN72O+GD\\u002fg6A8GrkQiP4rMl\\u002fIdbSo\\u002fyrU\\u002f+hOjMj8PTqjfL245P+a1uLJX70A\\u002fI7nIyIUaRj9hBHx3xVFMP9uCGNNntVE\\u002fFIXtPfRsVT8zRMe\\u002fmJ1YPwaGwqEwIlo\\u002fKXiBaVyiWT+BZPLGBRJYPybvOM58U1Y\\u002fwAWKKiu0VD\\u002fCW4zyzEBTP3M\\u002fqEDh9FE\\u002f+DOCedfCUD+oTsXS6adPP4kqbSltFU4\\u002f6JBMtF\\u002frTD+xddzVjudLP82iNbbcQUs\\u002foYo3PcLVSj8XqWU6ctBKPy+jpfyo6Uo\\u002fGhdJSoR1Sz9voWaQ0zVMP4D5obsCSk0\\u002feH9LPKqFTj+OrgeqVB9QP5zQcf9+JlE\\u002fJikAShZYUj+hWThEybVTP4qfsR\\u002fDOFU\\u002fSTQ+4QfrVj88dJXoIKNYP1gacSvD+1k\\u002fstmKGOp6VT8fFAJ9HtFTP8TN4bXxQlE\\u002fnU1cWzbETD9hB9gjdyRHP9umzlkkM0I\\u002f6mApb9XaOz\\u002fN5AOi4sc0P1rtgldbBS4\\u002frWNC3\\u002ffnJD\\u002fUTXHGbjIcP+ZajcnulxI\\u002fyku4HTUmCD+hrkdOOBABP4SDTkcy5vs+xWDPXKxc\\u002fD6UdHALZesAPwUGPPmopQU\\u002frCYzShqJCj92fRwZjHsQP3QZwsCziBM\\u002fHCDxC456Fj8U647alTwZP1tPIMoWPhw\\u002fcrKA0Yf9Hj\\u002f4T0X5nW0gP\\u002fWkbNTckyE\\u002fvNHusAIJIj8nVT0xOCAiP5AmQXiBUCI\\u002fcsubLOmvIT88CPYwO08hP7o5M35JKCA\\u002f\\u002fWDcF3ZIHj+fDj3xI24bP+4yfE5nihg\\u002fPKb+6GGLFT\\u002fGsEUyfoMSP6h0l\\u002f8T7Q4\\u002fNEYXQvxHCT\\u002fo7BYcm3MDP3Pj67Tubf8+io\\u002f16fWg+j5fTDi3vMP8PmyeL5LpeQI\\u002fJErM3NhVCz\\u002f4YP+IHkcVP6NcRWLgICA\\u002ffPukRTO3Jz\\u002ffYAJJScMwP3xp7F2B9jY\\u002fErfS7DWNPj+EcMP22sJDP+l842tl9Ug\\u002fswwxdbOwTj\\u002fX6HmdlitSP6juEVA\\u002ffVQ\\u002fhpWEM1TOVT874DiST+1VPxFXqmw3QVU\\u002fbhx\\u002fJIg7VD+87OjNixtTP9aC2V5p9FE\\u002fUHez+mzyUD+qILgq2utPP89idiGCUU4\\u002fmu7xQ8TuTD+fuiX2gN1LPwUufbZb6ko\\u002fCXmV\\u002fCtPSj\\u002f2XAgp2\\u002fpJP0nBWTpa60k\\u002fnzsO4TIWSj+KiZrYDodKPw1OXOb8R0s\\u002f3D\\u002fhJWMvTD\\u002fkQYiMAFBNPzw25srZyU4\\u002ff7AGH6JLUD8NFXLBCjtRPwPLS2eMVFI\\u002fcqOyhTV4Uz9PFwlE15xUP0biv3GIjFU\\u002f2H8BdHMCVj+GXnhhHc5RP2GcNTPWZVA\\u002fCEJAGXfWTD8JOi6x4VJIP4owSRUa4kM\\u002fBYbj6uqKPz+0pXFhfTE4P5Cqwhp19zE\\u002fD28q+FrHKT+5+ql3JcEhPy6fzwAiWBc\\u002fpJgV09OgDT9Pqxu3yeICP7QsjFZOGvs+uyhPos1h+D6DxkyPoyT6PjFHykKsMwI\\u002fA\\u002fwASUlBBj+au0fahnUMP9cN24rCxhE\\u002fSI0kV5CdFD9U28cAkbIXPxR7B\\u002fczOxs\\u002fJLraUUSkHT+pAj6Kw1MgPwkJmJjbPSE\\u002fUdekpLdIIj99D+eFYMgiP46EZeipGSM\\u002f7RjWOItEIz8Do1144ogiP515C2sr+iE\\u002fZLsi\\u002fwz4ID+s7HyxatIfP\\u002fh7+N3kpBw\\u002fbOLxoYk8Gj87iJeKpyQXP3FUg25WqhM\\u002fmZHhim5+ED8WZdbn28IKPwgnUO9uowQ\\u002fLnutXhs9\\u002fz6X0CjNL4P5PsBJE1TJNfg+id+QWjgH\\u002fT5kFqm4wnMFP7Zoi2QpZBE\\u002fZCZYF8X\\u002fGj9\\u002fN926vEAkP\\u002fE77fpd+iw\\u002fzWV\\u002fz57pMz8Ax1jnOIk6P8lxU9lqF0E\\u002fSQDlVqBVRT+cMbm8T+BJPzNZSa4HR04\\u002ft6MzyJruUD+DjWXF3B5SP+sJSvcSkVI\\u002f5Ha0NUFwUj\\u002fYR\\u002f\\u002fMdu1RP4T59zEiOlE\\u002fRTbQMStvUD86FH3rAUhPP41Urhbm600\\u002fMdBXeUSUTD\\u002fIu\\u002fIem2ZLP0+ObzLaf0o\\u002frwaqbOvCST\\u002fxiUmsZSZJPw77U9KI50g\\u002fzRs10k\\u002fbSD9JKl9+f95IPzsglGG2UEk\\u002foKQEXs78ST\\u002fUKVIikr1KPxSVSxlFz0s\\u002f0UeKq3sITT9qAQmvHmROP0WTZClp2E8\\u002fyKb8QkquUD8nFNndq39RPwOfIBDNI1I\\u002fQcP8VQmJUj+vqXJKU35SP8PrELZpXk0\\u002fBFPkgJTrSj\\u002fDbjGucq9HPyYvrXgfHkQ\\u002fY9qlEhKFQD\\u002f9s\\u002fkHEjk6P6pS2PM\\u002fCDQ\\u002fzeTH9PuALT\\u002fOD\\u002foWecEkP1yWEqANmhs\\u002fH2ufKLOFET9sUUxyKpIFPzNvabMX1vo+bb2HdxOE8z7DIefVzLn0Pm8WLFMiMf0+9u4eK4pXAz9jlWdrfY0JP6nph7HUEA8\\u002ftoLKZYhDEz892hUm4egWP5Lql5GsJxo\\u002fHzN9N3pGHT99TekflQggP2pgEM4iRyE\\u002fJNGhmNlyIj89J8rioLYjPyyUH43Q+yM\\u002fVLsyx4tCJD9W9vCFvFUkP6W+A1IB3SM\\u002fRBTYGbVdIz9An1wbVhQiP1RtpJHe1iA\\u002fb\\u002f1zLGz2Hj8Ntfu4nQMcP5K3NhtpBBk\\u002fjZmgidjPFT9Kw6\\u002fWWjoSP5SZAUWYLg4\\u002fL+GxCwPCBj9FMfKTJ0UBP8qDXIWMl\\u002fk+3Z5bFgZY9D4yJTlpx630PpxODgBxDP4+WsckYMs\\u002fCT+lxNl1oosUPzFXuxXn\\u002fh8\\u002fUj\\u002fT9KRwJz8k7Misu2YwPyTMXdRuBzY\\u002f1GCM9pZ4PD8gIxkgUrlBP\\u002fvVwEErR0U\\u002f82BD16zQSD\\u002fJwiLSC9dLP0iEHmKd+00\\u002f1wDeZnowTz+Ed4\\u002fI6IxPP5SlKCumV08\\u002ftpYVq7CTTj\\u002f99w\\u002fISIFNPz9JXPVSgEw\\u002frekAuIGRSz8mEquonp1KP4+e9BgHvUk\\u002f7T3bYrL\\u002fSD+P\\u002fpcVBDtIP3t1roptxUc\\u002fQOYcUOmHRz8shj1iRo1HP0AyXjmDkEc\\u002fsb6BiuniRz9fbAS0NG5IP9EGOHZ4M0k\\u002fmgfYzNf5ST8c0EpwreFKP9ciKLTF4Us\\u002fAHLSTMnYTD8AfAJLRutNP985UdWM304\\u002fV6gsoal4Tz+SG5m+jH5PP\\u002f+IVtJu4k4\\u002fNJIp71TkRz8Nylfo\\u002f6dFP1XYGt1QAEM\\u002fakl0oBIsQD8jDp40+X06PyO+1dJO7DQ\\u002fZZUW\\u002fvSqLz9D7ZJujtQmP5x5oD7BPh8\\u002f\\u002f3WDRGkuFD8\\u002fo8DaNicIP78v1xuF5\\u002fs+gBGApgiB8j6KkHNoANzuPun8z9uK0fU+1pjBggRMAD+A0B2NDmIHP8oAdmC92g0\\u002f8cBj+chQEj\\u002f3qhG0lwkWP2kNIDAbdBk\\u002fKZ+eecOwHT8iMLzRK1wgP\\u002fjah0JhsCE\\u002fLzo6VJ5GIz8zzqZnOx4kPz2mKZmaVCU\\u002fmujwEPvcJT+qSzQj6mUmP+QZJFBafCY\\u002fYZEZ9e\\u002fBJT9Iyx3a0R8lP5wKp7rk8yM\\u002fE4WLKCzNIj\\u002f9H7w9YlMhP+mYAN8NxB8\\u002fCqn4MqlWHD9KGk\\u002fXw4gYP9z2P5tpIRU\\u002ffamkzflOET8pObLE5nALP74NxEMohAM\\u002fsXd5y3Ke\\u002fD7kxD4j1+zyPshDj1WUtu4+TfWwx5g08z4pJv+10IgAP4\\u002fQ\\u002fDFjyww\\u002fs61J\\u002f9JwFz+S8T+2\\u002ft4hP2RIFc3emCk\\u002fqDtNqtJxMT9tikbEWLs2P5HYyfhOajw\\u002fvHIZf6YfQT8SvxB5J+JDP3YSx2lsdEY\\u002ffM7v4q5\\u002fSD8B5vcaseNJP8Xh1ViNsEo\\u002fFPH\\u002fllf+Sj+YBJ08QsBKPzIG6G4VQUo\\u002fTftdteKjST\\u002fAxyIkzg1JP\\u002fYVNC+GdUg\\u002fz\\u002fd38PTJRz+Izqxc6SxHP1P8lSIwnEY\\u002fVPvlqggsRj+Dl1uxjg9GP67nKaYmBUY\\u002few7cfP0ZRj9zOLPx60xGP48Mfuyv2kY\\u002fKQKyllZXRz8c0gfhVf5HP32F8BPlqkg\\u002fkx1DvzpGST8S+yyVvd5JP+MT14Ikako\\u002fc22E\\u002f8TiSj\\u002f4KI8kHu5KPwXSQEJdfko\\u002fLXGrQlCEST8X16+eMjlDPyfcfcKzNEE\\u002fbIgvPb8JPj8WnGRASn05PwWqR47DrDQ\\u002fSL65t9kIMD+XIGyBks4nP9ZcE+7MziA\\u002ft\\u002fjnhw4BFj+txsmza4QKP\\u002f9KpBA54P0+RiIaCLoX8D6pdT0i5jDqPkWQrDQ34fA+lx1FXfKn+j70lgiXRcUEPxqoek5JWQw\\u002fQy5RGbzmET88+nkNfkwWP03YAxs7FRo\\u002f\\u002fL9bRym3HT8qflcFzdAgP5+\\u002fwFL+VyI\\u002f1NuXvJxdJD+FsOT1O3UlP32iMbVByCY\\u002f5KXzuZHyJz+UAlPGN7soP1xGC5eBTCk\\u002fUupjHtwdKT+znANPG1coP5cdLJq+oyc\\u002fwNyv2F47Jj\\u002fK9OCxS+0kP8dLIS+lrSM\\u002f6udsE8DrIT9fBpr8OGcgP3uoBSKzvRw\\u002fwNlEPYWfGD\\u002fhc866agkVP98c7sqPzxA\\u002fF8+CW8ARCj+MAkY2D6cBP1ftk3ahD\\u002fc+F5\\u002f8yQ2f7D5FKfYw3JbqPoUQOaSPrfM+IzxRYiE8Aj8Fetg6690PPxNHx2swXhk\\u002feI848r\\u002ftIj+SxvE3KHEqP+SXyNhjkzE\\u002fY\\u002fCOInI5Nj8axmtpZPs6P71ccfr4lj8\\u002fIGakNwXkQT+yVxpJhcRDP\\u002f9pphgWNkU\\u002fgevkhGczRj\\u002f2x8cpaN5GP+1geX5uCUc\\u002fDV1DwaP3Rj9UHVbll9lGP6H9qbEcjUY\\u002fbGBIbpEyRj8FtnG+TshFP+xz\\u002f8hoTEU\\u002f27o0fYnzRD+f\\u002ft+qdJdEPzILELHzbEQ\\u002f3CPOHx55RD+pja0w72VEP3Eg5GPtokQ\\u002fcRDyMt8HRT+twvyh6nhFP7IlDAle60U\\u002fN7yzfp1LRj94dd4ZCZpGP+yyieaS3UY\\u002faCc4YO8FRz88xZ6n1fZGP7vdva0CrEY\\u002fCvo6gxbvRT98FhtJ4chEP8+qj9NRij4\\u002fbZZ24YAqOz\\u002fkZ7uVTXc3PwLgtpoReTM\\u002frmtaH0sALz87CrOPv4onP8TW\\u002f86L6yA\\u002fs2shgbOUFj+BY154Z5wLP1jq28\\u002fr5v4+IA5DrvV97z7cxPtfrbfjPsUY9WDfEOg+CGnmeIV59T6L6Ol9CpABP2wUWGvPMAo\\u002fFxwCNhWHET\\u002fgKgWBz3gWP31Q+sRdkBo\\u002fnMks1ij3Hj8HnSRdBb8hP3amhpHo\\u002fCM\\u002fphATLR+2JT88gUIHt0onP1eD\\u002fdlPmig\\u002fipBakGsYKj+cMSMZrNcqP10xU3e6Aiw\\u002fcfG3Nuu7LD\\u002fod5xvnWIsP2OYbcLU4Ss\\u002fOzYIrAKaKj97GS5g38MpP9QW5eoZLyg\\u002fVK3wq6vDJj8lTxNmuAQlP2U\\u002f3zzNCyM\\u002fQJ4kRtsBIT+6sRqT6ZEdPxeDiuKgchk\\u002fzf3ZL5z1FD8hVetz+xIQP3i7szVhqwc\\u002f2vkmI0XD\\u002fj7pj642PNzxPhplVrhc4+U+KTBqb7mS5j512mcWCTjzPrK+QNNDkAI\\u002frtN4CPlnED\\u002f2OSRn\\u002fgEaP0p0OcUt+yI\\u002fVp2KBSn+KT\\u002fquKE2+tEwP32YeXaUwDQ\\u002fyuAr4C6rOD8cOa7+6Vc8P1xaHulMkT8\\u002f1mz70hk4QT8o23UoGVhCPx+TcxnGH0M\\u002f0VSgmpuPQz9xxiLl+M9DP1gsva\\u002fm4kM\\u002fplp15GvuQz+9TZIS\\u002f9RDP01nbfy4y0M\\u002fRl7c7FCIQz+dOVzjoSVDP6PE6WYx7UI\\u002fLlvWGFjVQj9qbdy+V8xCP4oiufG210I\\u002fDE+xILIFQz+UTmyYLERDP5vsmkoHnEM\\u002fNs8IpcnHQz\\u002fUoYQ+MONDPwZdcpuc5kM\\u002fu5BjXSngQz\\u002fhrj+flbZDP6ycb5pVeEM\\u002f\\u002f9kk+Bf0Qj9F+53B4wlCPwngaKfGyUA\\u002fUhBJRA4KOD9hq748rw81P8pBGVPeyDE\\u002fJKigngXJLD\\u002fWiLhGDmYmP\\u002faSZj9mXCA\\u002fznKglkcTFj8pAhzdfDMLPw0IGsAmI\\u002f0+HJEJIurC6j5E3J3qHvPbPlOz4W6BFOE+e+0HPTLS8T7bA79a7s7\\u002fPikv4WZx3Qg\\u002fkJnxKlFkET+N3Zvmrq0WPxeteySJWBw\\u002fpodRiQm5ID8Ar7JiSRMjP33FFLjarSU\\u002fM7EkcQadJz\\u002fJYq3SMo0pP6x\\u002fuLJBSSs\\u002frsnwEGlvLD9cZZ4RU7AtP6YI54VVxC4\\u002f7HAyZ531Lz85ZxhaHUIwPzj0mskpJjA\\u002fIMnYrnSVLz+aP\\u002fzg4V4uP2m5d5iMdS0\\u002fJD87s8AiLD9NMwnCFcgqP6EfOOZqwyg\\u002fH9L3QjH5Jj\\u002f6uvGy67YkP7QxVobzSiI\\u002fCg0X9sC\\u002fHz8p+3iCtokaP3dkV8mESRU\\u002fKXQJoSOxDz\\u002fMtP6l3p4FP9NCWVimw\\u002fs+c1HKNwWS7D5O8HXBbq7ePnu23V+Agd4+YiyDhffr8T5vyfZHaVQCP5rd2gHvNBA\\u002fYcWJDyNpGT+mkMvHlVQiP7J2mrkOcCg\\u002frNTI2w0lLz+PuOZRs98yPyAhGJMxJTY\\u002fqle4GEnxOD\\u002fuiaSA2qA7P9960+YL+z0\\u002fY0VVTA\\u002fNPz\\u002f0EmHcs3RAP3ty0Q7k30A\\u002fKjCCciosQT\\u002fYXu\\u002fkZmxBP1o0UAXbcEE\\u002f19lwxtiVQT+6aRPcuIhBP0TJAaMscUE\\u002f0eiP3OxGQT9u+8s4GT5BPztIovbGTEE\\u002fwco670Q+QT8y1JYyXkdBP2EvSJ59fEE\\u002fjm1qmEWdQT8E5tcxSZBBP4gPsk7jgkE\\u002fM5\\u002fOY21bQT96GD8lKhtBP07CaxRozkA\\u002fv+71H7xIQD90StblhUo\\u002fP6q4St\\u002fiND0\\u002f3\\u002fYSnEDOOj8VjxJJcrUyPy6XWjyP7S8\\u002f8WWzHpZIKj+f\\u002f2BR2KUkP+5u\\u002fPzRhx4\\u002fcRgDrkvBFD97bJQXALcJP+HwAH4FWPo+7mT57Svi5j5mbd1RB5DNPneVKdIe19g+cd3wvUWB7j4ohyLURvD8PrOgShxEgwc\\u002fG0E\\u002fEVpnET8fDzFCCk4XP26nLo\\u002fdxB0\\u002fqBjL7We6IT9a\\u002fKriw4AkPw8d11HEdCc\\u002fowob8lpFKj8\\u002fpUjq6VEsP8pIRtf3Zi4\\u002fyOGuXPnfLz\\u002fGSCQq6awwP9VjsNgxFTE\\u002fOviRSx2OMT\\u002fKIF0qKBwyP9eCM3OmaDI\\u002fdEBQWNlWMj+ArnOiLvcxP6yKdSJQYjE\\u002fhgflMKHzMD9utK6wf3EwPwgXIn8dgi8\\u002flsrtdd7dLT8qaPh36Y8rPzqxj+hiaSk\\u002fRsRShUa0Jj897MbRmqgjP3qykAQA7SA\\u002fl5JRHMniGz9PmnoRlk0VP888xZCV5g4\\u002fQaQO6+NxBD9Kv\\u002fCm1973PsOYOWd9neU+DLa\\u002fS4Pn1T7xoIkh9X7WPuOn0LqQr+0+c+Hgi2LnAD+Pr0IHncEOP81WO\\u002fjazhc\\u002fkojgsBwTIT8moV50XHwmP0aTlgDrQCw\\u002f3yLDkc3iMD8f8wNWgI4zP\\u002fbi+UQH9TU\\u002f9gC9oo9FOD9uOaCyuBU6P2TTPbu0ejs\\u002f7o0BxL6TPD9AHscaFWs9P3x+AGilNz4\\u002fAItFjAmiPj+KzeE9Oic\\u002fP69ozkr\\u002fZj8\\u002f+y\\u002fvi9VHPz\\u002fSnDn8ZC0\\u002fPyUdHVhnhD8\\u002fz6s8N6qMPz8N87PLzFI\\u002fP9240JSSRz8\\u002f6SDK2+FZPz\\u002fPApOCKD4\\u002fP6oO2kSC2z4\\u002fr64lz4SMPj8IhQ2z5MA9P4pkspjrMz0\\u002fzLEUMfNJPD\\u002fTqQUSQPU6P6MjwjyYdTk\\u002ftmqZRdOINz9c8wxAvDQ1P3FcXXO6hiw\\u002fLg7P7fWiJz\\u002fzp5Lc3bkiP4EC1rMI2Bs\\u002fqhhuDfE1Ez9xRvkgs2cHPywuLP01dvc+S0EYr6SP4D4RnJavClLCPjjYCRkDTtA+z14G5e2F6j4IRGAvF9H7PgANBLxJxAc\\u002fZEyvVrUPEj\\u002for7skMTEZP4mEFxo\\u002fDCA\\u002f8mZvSwyqIz8v6G9z+K0mP3NIhBUO0ik\\u002f9CJmaDLNLD8oIACGjT8vP5r0f\\u002fhA9DA\\u002ftN9PhbPpMT\\u002ffoIf+05YyP+aBn8rvQjM\\u002fYsmQQ3mxMz87FBJuQTs0P4A58LLPjjQ\\u002fVgM0ttnIND8pvSaZTdg0P+SYDqkXgzQ\\u002fuF5m9PcdND+TVraYfaUzP4hWfIoGMzM\\u002fYeYUAp9hMj+O70rCEZYxPyqG2SHQnDA\\u002fWlGyI\\u002f5SLj\\u002fhNXV1UcwrP9yuxePhzSg\\u002fxKgfYZ+6JT8\\u002fLGazyXkiP0R6y8pz2h0\\u002fALrxRW26Fj\\u002fuNuVtVOQPP69vQfN+UwQ\\u002fhek3hg4j9j7tanPRcHHjPonQ7exK1MA+VNeZkg0ZzT4kLT2VSazoPikt1ClNrP4+qkt\\u002foOLnCz8pq4nsjv8VP7GSpNpA\\u002fR4\\u002f24+\\u002fN6NiJD+oQ8V3lUgpP0DbnIYQDS4\\u002fLeagtVZLMT9kdcCvX28zP18kVGepQzU\\u002fpCaBKae4Nj9KxDfySAA4P0b5qtxQEDk\\u002fZWJ2hzXcOT\\u002fmYl0bFao6PwijA1NdMzs\\u002fbMecUDWlOz\\u002fPHMAJGus7Py2tiHrn7zs\\u002fzzjvlww0PD8h\\u002f7viuiI8Px+KBRX5Jzw\\u002fMvqRQAr2Oz8GbtFtUeo7P4XjdE\\u002fLbDs\\u002fbFJFTgb+Oj\\u002f7PRZB+IM6Pxdd5C0FpDk\\u002fjUZcKhW4OD94l2G3WIE3P9dWcmDYMTY\\u002fJS5t1mKnND+hp2d2g5cyP76oOzyKdzA\\u002fSE2XpyxWJT\\u002fsjwfmLOEgP+nPyA4AYxk\\u002fhd0OvMqhET\\u002fSB7MQnosFP10Rp5n5RfY+9pgpPPA33T64eb5jt12ePjPKguAjE8U+N3CuqKJz5z5kY43ewEn7PlZMSarZzQg\\u002fe1692awtEz+8PlJCx8YaP4xUq1oRdyE\\u002fOJ8ATNt3JT9k4XXyokkpP1rSf6\\u002fnuyw\\u002fAdgBaPkkMD9Kyi8iVoExP9fcebdn4DI\\u002fG1gleLP7Mz8s3ka+YN00P8of5uHI4jU\\u002fgyKosZF3Nj+yqlIzW9s2P+HQEJrTJTc\\u002fpe0uQHR3Nz+c1O\\u002fmqYI3P1cRS+BeiTc\\u002f6QmPLxRoNz8kXRbd5Qw3Py7aeBYsoTY\\u002fLm8NvRklNj+aGiCQi3U1P8wnZw1ApzQ\\u002fAD9DVKKpMz\\u002f718kyfG8yPyjojoas\\u002fzA\\u002fbMfwZy0nLz\\u002fpA9R0GMMrPyFK7YqT\\u002fSc\\u002fw5\\u002f0b2AnJD\\u002fyDy4FCxYgPyO47hC+Whg\\u002furn42C3NED8btnQ9L8EEP7FNFsjDNPU+vdok05Gr3j5FyDDxqaS3PvhUILLDyb4+atlgcEs85j6h6cux\\u002fpP8PgMYyn6QAwo\\u002fMCqgutIjFD963pa\\u002fExscP7ypcLUnTiI\\u002fwzpJhc+7Jj\\u002f2vrpVgqAqPzPZzuETkC4\\u002fNBuclZsPMT+5zpLVWZkyP3PvCOOH\\u002fjM\\u002fjeQW\\u002fA0uNT+E2N6hUiw2P1rHp7cZ4zY\\u002ffTxmBP\\u002fINz8DqmFOPyw4P0yXm0OirDg\\u002fSHQRQs7KOD8OYM76vAU5P5vQxkIMDjk\\u002fpkZMgdvvOD+mehn498A4P8UAobLBcTg\\u002f823sxa8aOD9KHLxB7Ys3Pzj1TcV\\u002fuTY\\u002fmHM4QQTsNT9IWdnp2c40P3iS67q7oTM\\u002frA0T5bQsMj+i\\u002fAzXvYEwPyyI3IigfC0\\u002fqaQ8aLVlKT94x3dROt8eP\\u002fsmVDQORBc\\u002fWOD+TZpnED8qP5G5PHkEP\\u002fipD0KE5PQ++\\u002fxFE3ab4D4WRWP4BJa8Ph8WDydvAcE+YLb9RG\\u002f95j7xcPDm9S\\u002f9PnGgufwEiwo\\u002fF0g5Z27jFD\\u002f7cguFJogdP53MCS8oWyM\\u002f1A3xZbjiJz\\u002f4Jl5iK1EsP7TP48WEOzA\\u002fC4u0\\u002fUcfMj+X0ZYW7t4zP24s9b4eWjU\\u002fPTZV0\\u002fSINj+kukK7k4o3P4zvIAYYYjg\\u002fFzPCalcjOT92qasuuak5P3PlJKa4KDo\\u002fpDh3DQRROj+s\\u002fF+1DXo6PziNECHXjTo\\u002fipz3JkqPOj+KK\\u002fXfu1Y6P9hB9wwgMDo\\u002fAGNdBKgXOj8cl9QKcJg5Pw4ScHJ06Tg\\u002f+KEuxlccOD90NLOFCkI3P6a8DJkDGzY\\u002fmiz3JNO3ND\\u002fTSAOaokIzP7NTLiU8nTE\\u002fjBY9OMYwLz+TWQnd4u4qP7YMJXGacSY\\u002fBrYsR2azIT9zOtcn5rMaPxGVx1AAShI\\u002fkmYGIX48Bj8cvyUh4KX2PrYXmawUzN0+rnCdaniivD4yRnKK6QvIPjO+9tSnY+c+Sp4+oTxJ+j7kEdxYNiIIP1Iu1dgRihI\\u002fqkysRUjUGT\\u002f9\\u002fWjRmqsgP7GZI2MycSQ\\u002fJgP39QLbJz\\u002fsNLfXxR4rP8q\\u002fumfoYi4\\u002fJswnbQKTMD8N4ZiDWNkxP8l+F3k2\\u002fzI\\u002fbL\\u002f5z+HFMz87W\\u002fftgn40P6hbvCSr+DQ\\u002fDkgrOAtlNT9UYC3AitM1P4D1bKh1KjY\\u002fozJw1VE4Nj+uVq1RlBM2P8VT6dmwxTU\\u002fbmcDUH5UNT8srUuCvAY1P3P7nlY8NzQ\\u002f8ReTtYWaMz8SqtfDvI0yPxZsutVkWTE\\u002fQ6XSG+wjMD+h4H9ihkstP\\u002fOZRK9ZIyo\\u002f4RfJqvDyJj+f6rH\\u002f\\u002fCIjP88QeAmwGBY\\u002fidqYnAc1Dz\\u002f6TeD8NPYDP9\\u002fYdQtsbPY+dken+6Jl5D6XSdzg6zrIPmu9skhP0dI+9lNgOTGn6z4fWVKo2SEAPyG3IVdRmw0\\u002fyGvz9WwcFz+k2mOm9VUgP2m8lC6\\u002fZiU\\u002fhYQLCHSqKj9X5twpaPUvP+REfGwVXjI\\u002fycbdEX+UND8jIudZ6b02P4UY61QDbDg\\u002facnhOfifOT87MYsjU7w6PwVtXN00nDs\\u002fbJG+loxRPD8IIsd949Y8P29VNfGNQT0\\u002fwI26tbuZPT8fNmuDUZ89P5y8a352xT0\\u002fADFaZezePT94SyG9Z8Q9P8QzP8vRsT0\\u002faWRbvZqCPT+2b8TDe3Q9P3bt2gcbLT0\\u002fZgZ\\u002f\\u002fZGaPD+mqjNUOBI8PzhMgrO2Tzs\\u002fQImEBvyCOj\\u002ffIcag9EY5P1LXmcWGvTc\\u002fnCT+YLMVNj829NSl5tYzPyRaFl2bkzE\\u002fgHSHIig6Lj+WeA3TsOIoP9QVjd9yryM\\u002fBJ7W3k0qHT8rAvKxBvwTPybLAXuKdwg\\u002fLB\\u002fuCIPe+D5UibxzQQ3jPg\\u002fPHfUodco+NE4Pmko41j77E2ZYWGrrPgBV0t0pHfw+PMU7l\\u002fxWBz+9rnru\\u002fKURP9wcCjlcPRg\\u002fzDHQ4WavHj8SPivou5ciP1\\u002fT\\u002frrXpCU\\u002fQ8wrc8uSKD\\u002fRCxPKQnwrP6hpCdxqFi4\\u002fhCYSDQYMMD+Y6TI83+owP4NkU1FNnzE\\u002fQNzSan4cMj8Nqpln4Y0yP1qs7WaPNTM\\u002fjdrtvIl7Mz+9nclEvYszP9pSMwxvazM\\u002fQQ3y9V32Mj9ZujTynWQyP\\u002f+qAU1a9zE\\u002f9v4ZNqFKMT9\\u002fdqL9XrswP+BNa4LLeS8\\u002fAZEvX2olLT\\u002fcHY8sI1EqPxxDaH2EhCc\\u002fnDb7XkCTJD\\u002fKjNcJFLQhP7jrGic\\u002fjRw\\u002f\\u002fa9ywHrFDz8kPgr1nOUEP5Rct7IbNPk+14FCLOtG6j4aHyD732DZPhb7Fh4p0No+KG3lnXOk8D52yqDc5HwBP5x8YJgvZg8\\u002f0TFi\\u002f8qpGD8sc3MsiaghP52goAXkjyc\\u002f033VSvemLT\\u002ffJrU0p\\u002fExP9oF1L123zQ\\u002fqmgrHAtoNz\\u002fkLOLtsgA6P9gw9dSmBDw\\u002fDandmWh4PT+ds1+Cv4c+P9eMOk87gD8\\u002f1VMNVAQOQD+SIo8uwltAP2ooZ7RchEA\\u002ffIEMm2OeQD+YJRtaL5JAP6Jri5J3fEA\\u002fDF1M74yGQD9dfu0LyIBAP0LWDcNpg0A\\u002f6gBYL2d2QD9jYOaJHIlAPwKHr\\u002ftvlkA\\u002fg0wW2LGTQD\\u002fvFidDJH5AP\\u002frzCJedNkA\\u002fLHe6u4b3Pz\\u002fX1UUAfEk\\u002fPxy7pnAzWD4\\u002f8wQgPrUDPT9Kp5TQS0g7PzrW9fxsFDk\\u002fRL4+m3aNNj\\u002fD7kQJltkzP6EW4nnT5jA\\u002fLrldYnypKz\\u002fzcKEotIMlP\\u002fOkxiSNsB8\\u002f\\u002fUanHCGcFT9UFQlWa7AKPxOK6cjkwfs+\\u002fT18A8R96D6cwhtwyYrVPvLZ1xZjLuA+MJ1CpvcQ8D5Ux2xzSMb+Puri9UfL9wc\\u002f21P+JpOBET+DHhy42CMXP9eLVaox9xw\\u002fnSm0rvpEIT\\u002fUfCHdrMwjPwD7bjDDZCY\\u002fysAzzCO3KD\\u002fRv+SI4+8qP2lWoJBviyw\\u002fSl6Hp8xULj90I2i0f2IvP9vNp\\u002fhiNjA\\u002fkccHG7CIMD\\u002f4Gmtq6UQxP9R02AoWJTE\\u002fHTtBMQsQMT8+lAZ6GZgwP2l2GVXJFTA\\u002f5kWcWCjiLj9kUkjMC7AtPy7BeaxG+ys\\u002fXwip7Fg1Kj+SD+ZYau0nPw9pp0lqvSU\\u002fFHPv82MpIz\\u002fozG+4wl4gP7jZZ6O4Dxs\\u002fZsVZjK5eFT+PlyDAkYEGP5LFs6X20Pw+PddimSM67z7yaZW9dTjiPtZ+WZ\\u002fEmeI+ik9wUR7C8j6Ul6KrnKUCP8oxmlg5gRA\\u002fafMtJ3LmGT9iyu1wmcQiP6Sz9Gw7UCk\\u002fpmbafv85MD8gT4ZysuQzP89APZTuaTc\\u002f+yFwz1ObOj\\u002fJtgUw55Q9P8LKM4jZE0A\\u002fLhpi+VwWQT9e32ha\\u002fMBBP5Yx6jvRKkI\\u002f3urW0BJzQj\\u002f9PGtir6RCPzM+QGycrUI\\u002fVcpvVO6xQj9W8zZG9ZlCP4MSXKzVb0I\\u002fLdxtSV88Qj\\u002fcg20jxg1CP8X+E1KyCUI\\u002fg5ONT4kIQj8kcRxyihdCPyH1V5hVNkI\\u002fXgMwCD+KQj9Rx+4AOq9CP9Q6sqHMpEI\\u002fZNW8E7aqQj\\u002f1lxcFzo9CP\\u002fG2GN63XUI\\u002fqn5Y5eEEQj+adtWs9IRBP28+jdOuuEA\\u002fhlkrKd9lPz82jeJ4Bas8P5JNAj71lzk\\u002fxYMr0VNANj\\u002fsd2e4dqQyP7a6WNzlHi4\\u002fHxermmwdJz8M8LqvNMAgP5eNME3ZbBY\\u002f8aw4JyWtCz\\u002fqKAfCVhL+Pg1hqzda9uw+XWkuADTV4D6t3GwYcGrmPkteJ7hNnPM+jFoOlqJ8AD+8XEehUUgJP2FJhTKS3RE\\u002fj4n9B4y1Fj8U\\u002fXW0VYAbP5tkVoF\\u002fDiA\\u002frkM5OtxYIj8cO3eXb4okP4YHp+HDmyY\\u002f\\u002fEnun+tTKD89h6Tb2sspP6wn\\u002fkpPPCs\\u002fukYRu\\u002f48LD\\u002fDPWm7NU8tP\\u002fr\\u002foKbJVS4\\u002fKctu3qSDLj+MQ1q2o\\u002f4tP8S6KWrGFy0\\u002fROWxklrDKz8aGxCxcbgqPxi9dW+qWyk\\u002fBInrtJ3gJz\\u002fsS3i4VeUlP+1nndFtwiM\\u002fNXYWCFOfIT+h8Sh5S9weP7erb2sUARo\\u002fbs6xT93+FD\\u002f+56HEiTUQP4brpqhHNAA\\u002fl+ky\\u002fWF99D4dZRF0HcjpPv\\u002ftYQEFLeg+l66i0hAj9D7xRzu6zakCP51W0UPFVxA\\u002fWzz5OyD6GT\\u002fQRn\\u002fKqRYjP+mu31j7aio\\u002f2oX9G7I9MT\\u002ff6p4FoZw1P6bTP2KE5jk\\u002f7jqDTjkIPj+4v3nWPeVAP3PKCs6sfkI\\u002fUlagK8q\\u002fQz9xbaKQSKdEP0B\\u002fvjqhJUU\\u002fs1eJLJRIRT+6P7UPwVlFP5yev0lvSUU\\u002fodmfsvYmRT+bRIJ0LAJFP0D+qmSjnEQ\\u002fA8Xdnz5FRD+qludUwtlDP2Fx+JS0jEM\\u002fTB84NCiqQz80oH7gQ6VDP4uBypNCs0M\\u002fCovg+IILRD\\u002f7xNu8NlJEP4FaNh6Yu0Q\\u002fERPBTA8NRT+KPUNKxTFFP+Rfqm6rTkU\\u002fifdHfblhRT92pbfag0FFP2qBYFMx\\u002fUQ\\u002ftuVrL99cRD\\u002flX8w2V1NDP8ROOvRW+kE\\u002floK9YhhJQD87Bpzks7k8PzscDaICeDg\\u002fZF9KoLoqND8KAfSEIbQvP7MXNmLk4Cc\\u002fwDbBaebfID+9HlubyXEWP5ExXrtWTgs\\u002fQ5CZF\\u002fkb\\u002fj6sYXGTn2DwPkaAxg9Qm+U+mtzc2tQI7D5bOV76uvP3Pu37HhFwtAI\\u002feA1mXwo7Cz8ciA0nqkASP4qRcNb5GhY\\u002f050L8bdKGj+mkPFR0\\u002f4dP3QRaeDrGyE\\u002f+1lJrNRCIz9TO49rx9UkP\\u002fGcbysnSCY\\u002fCAXrVN2YJz8T83wYds0oP6mN3WqM1Ck\\u002fitIANACJKj+zeHnW0PUqP3HLnLHwgio\\u002fPSmrvYOCKT94G2MjjEkoP3jJvQe5Zyc\\u002fLE23dOf5JT8JNaQgA1ckP7jsGCUcgCI\\u002f+ov6+q6RID+KYVKbQSwdP7fShbRtfRk\\u002ftiRccqANFT8MaEBXoOIQPyxqoCE9RQg\\u002fkn0OY8yn+D70Klo6Kw\\u002fxPpQ76xnRCuw+dB3y+mx88z59zIL4emgBP9QCQMK1ng4\\u002fiBYDBNW8GD9tjW1gH4UiP9RQhJlQLyo\\u002fe5TftCSVMT8uLi7P06Y2P6QMJ41f+Ts\\u002f24Yf+yKEQD+64r+OcPBCPzO7kIeLHkU\\u002f7BodDGzXRj+DfN9NBAdIP8C8C45orEg\\u002f4G0MQvLoSD\\u002fDZFauEclIP7R2\\u002fmZHY0g\\u002feh5weUX+Rz8NGyVDppBHP0V40yiaF0c\\u002frurUNiyQRj8mxlnSKAZGPyEu56jpi0U\\u002foGXl5qRNRT\\u002fc0vH7uzlFP5\\u002fV0BU5RkU\\u002fVx8HeVZjRT+Px4+HXatFP+Fl83DeN0Y\\u002fw51E6dWvRj9sql7Ya0RHP988c5J\\u002frEc\\u002fl4aWul4pSD8l6kuywpVIPwigomoy6Ug\\u002fRpCips3oSD9hxDgJZoFIPy5eZA36p0c\\u002fKNg92FdNRj932rHZF3NEP8Ur1NTHKUI\\u002fn12RxjpZPz\\u002fPZGSlgxc6P19OkqvW6jQ\\u002fDPZk4ksJMD8A7XNgeo0nP5pyvJiYSiA\\u002ffzHEKRwwFT9h5vCtVXEJP6SfrPKQTPw+QB49Fzny8D77d5cWLd3sPtbqG2qdWfM+pPyK5Slh\\u002fj4DJcnMjNoEP7toLq61dg0\\u002fEySn2RFTEj\\u002fzKnHPNaYVP4X1F1iXBBo\\u002fVEuKCExoHT+N5uuwj4wgP0Yk35g4dSI\\u002fvyD4wsduIz9UPHi6UM4kP2nYE3TKASY\\u002fMhwDn1v9Jj9sn46xtlcnP5Rv46tI8Sc\\u002fdJZ7tPhnJz+uEE3RKKsmPzi45FMCiiU\\u002fA1jH9WF5JD9GxryiYC4jP20DT8tR0SE\\u002fCt5AK8sZID+jStmhoWocPyHYHk2OxBg\\u002fs8v\\u002f8uymFD\\u002fTa2T+mjoRP2bWxbQUQwo\\u002fRbg0AoFhAz94MXd9cGv2PqGE\\u002feGOgPA+bOQ+MqEy9T4KPAtt69z\\u002fPtR+xQKyeAs\\u002fTqsyrvsXFj+ajrrKBu8gP7yDm1Lpvig\\u002fRKASUSMBMT9NonGaZYw2P7ZRxibSqjw\\u002fugNzkmmNQT+uSlKZCrREP+66HCWhuEc\\u002fSrxy8gIzSj\\u002fKFMT1Xu5LP7KaEMCe2Ew\\u002fY1WCR8EmTT9vvXXc5vdMP+P26\\u002fIIR0w\\u002foZ9IBPR9Sz\\u002fBZIqobLdKP5KswZkf8kk\\u002fhYP4GbkkST8UqmjNLWNIP2V13pLLvUc\\u002fz1osmPoyRz+yXIH0QNFGP1KkUWOy1EY\\u002fochArrrBRj8xDoCZHPZGP263EcW1ZUc\\u002fVk5kajnoRz9kTRGF8aBIP4jJEfLCWEk\\u002fqE31UhpBSj9FmbxzL\\u002fxKP9IVc9hpwks\\u002flhddfMKFTD9UURwB4RdNP08azSzXGU0\\u002fiCgCbdihTD\\u002fpF9b8b25LP1EpjOptcUk\\u002f05y9AN\\u002fERj+cvpym459DP+1Afs53dEA\\u002f1EPp2pGNOj8EL3YxH6k0P0ARxDFIxS4\\u002fHLNX2DzlJT93\\u002f\\u002f8p0pUdPyyVpFDB1BI\\u002fIeZK0N\\u002fgBj8NLwup19n6PsgGYtGTzPI+VhGPd7og8z69Fl4Tfa74PodeXOe3zgE\\u002fYC3hiWc\\u002fCD9bMBUbCH8PPx\\u002fUp\\u002flp0hI\\u002fobTN17MQFj+UEl0CkRcaP0kavP\\u002fnOx0\\u002f9BsTr\\u002fRHID+czJ4VT4whP4Th9\\u002fYxwyI\\u002fKAPDpCfmIz9v+hxyYOokPxzJl3YsCCU\\u002fX0Ue6mlPJT9AwIMQytYkP1ISrRPteiQ\\u002fsYICkCGOIz\\u002fbSN3hXWYiP27rGDdlKyE\\u002fyGngzCFWHz\\u002fMcCX2BsAbP5T7RrY22Rg\\u002fBf92KCQvFT8szA11keERP9gWp9wIfQw\\u002fTX3DyPnmBT\\u002f2Jc4ytHH+PsAH28ju1vU+YQeNadXx9T7F8A54+lP9PmBupHiZ\\u002fAc\\u002fAdNxH2TpEj9SkkqXKZwdPwCY09Ep5SU\\u002f74wWOGEPLz8kPBEEayY1PwClTuDlvjs\\u002fD9xqfamWQT8xNgLtMYNFPxP\\u002fzgX5jEk\\u002f6UaWwSU0TT8l\\u002fU6lR\\u002f5PP7Fmm18001A\\u002fQ9tT2IQXUT\\u002f0+J9PA\\u002fZQP64MvznPi1A\\u002fCKKmvnjcTz\\u002fP05arrpJOPyMcq7s7Vk0\\u002fbCwXRysqTD+xulxezhdLP7bwxADqHEo\\u002f7gYrZXxdST\\u002f\\u002fGbGwo7tIP4MzIbGdVkg\\u002fJXmwqVgjSD+kq1ZloSlIP5imbOQyb0g\\u002fpNzgX2r2SD+pvbMv5aNJP2XTurpUZko\\u002f07ZZ1E5pSz+EV1XrIphMP0gKo+XMwk0\\u002fkpS9rf33Tj8SqUpEVSlQPy5CG0XAtlA\\u002fR8Q+qEkJUT8h3kpEsg9RP5FDHmupnVA\\u002fiiumCYYsTz+xGaFnExJMPyYuC1hUNUg\\u002fCFka8IY1RD8fZekpf1VAPw8xMaiEbzk\\u002frLoV+RUvMz\\u002fPXt\\u002fWBcIrPyyZZdxrQCM\\u002fmucOcHetGT\\u002fjzu37Ax4QP9aNjfhpsgM\\u002fkYukM7KU+T67nvTf6zz2PkOhHi7civg+rPlF5LW0\\u002fj6tIiPjpNwEP0z8iU5+Zws\\u002ffaSOIInUED8O46l5PwUUPxc\\u002fC1QUnBc\\u002fDa5vUA2hGj+SYqn8PssdPyBhhhZt9B8\\u002fxZpRGWBwIT9dWLDr9m4iP1Q0f7rjOiM\\u002fSMBjohaBIz9K40ITihUkP1TMfCHZdSM\\u002f+61Q2rnwIj\\u002foikMw8SoiPyDMzjaf7CA\\u002fgKZmsdMnHz9pIuHRUUYcP48EqR7KCBk\\u002f0j7oYU0cFj80ExzrJyQTP6370necxw4\\u002f\\u002f63YUawoCT8fNLRpIAQDP8OBnv8\\u002fB\\u002fw+FAUZg7QZ+j72MTV50d37PrjJeYodmgQ\\u002feLcHwGoIDz\\u002f3Qxx49fsXP5L3RqaBHyI\\u002f+9BPP1lnKj+PBdzNam0yP2ErKqbr4Dg\\u002fjUpoV0hRQD89+lB0OLtEP7sNsKPcrkk\\u002f11wVrKDNTj8mffdIUrZRP9e6VSW5YFM\\u002fzBECzmskVD8cJdBPtxhUPzi8ciYOf1M\\u002fWyloH8KhUj8GFQw9kq9RP5Dp\\u002fomNxlA\\u002fl41D4kLKTz+9XjSf3yxOPynw5SXc3Ew\\u002fOyrkuyu5Sz8klbp\\u002foMlKP4zJfkqKFUo\\u002fOHooUxGDST83qXiGamBJPxvlgtRkdUk\\u002f0oOYVyG2ST8F4lQALzhKPx\\u002fxeU4d\\u002fEo\\u002f+Bunr84NTD8hQoF2+kdNP7bhqLrQvU4\\u002fUzpX7PUmUD8iCeQ1ggpRP2T2TfELBVI\\u002fD71GZYzwUj8Etfpm3bxTP+Sl7l+hL1Q\\u002fDW4CQjEBVD9xDGC6lupSPyickSf6\\u002f1A\\u002fOhzj2IsfTT+KBbd7PP1HP5+5b\\u002f5WMUM\\u002fLLvUkw3qPT8k6mGLRJY2P8hj9WCliTA\\u002fJuV8QB9fJz94YR0evrgfP2ndVmsyvBQ\\u002fg8p35Bn9Cj+vR\\u002fkTc5kBP0GJTf9fhfw+LGACuP+k+T4fpMQD4zr\\u002fPkAIimsKIAM\\u002fqBeHH6kdCT8utVl7yAMPP9d86RENShI\\u002fTamrI5j7FT\\u002fXUhBx9OMYPxpA6uKrihs\\u002fxTxJN06eHj+Mg1i+bF8gP3hf1YMtaSE\\u002fCuUs7IskIj8mrJc4JqYiP3t7Tqtn+CI\\u002fSXmF4jZAIj9H8f\\u002frNdIhP2p7u0JOMiE\\u002fLBLFANLkHz8I0iF2KXodP+XOOuUqaho\\u002fcf7KdeKAFz9T\\u002f6+3MmsUPx1rr3RWghE\\u002f0YvMglSmDD8af2HEdswGP4N4WJrEcQI\\u002ftiVCI+q\\u002f+z52Ii2agBn8PpdW8uAthgE\\u002fLkjaCt5ACT\\u002f8jQwdPN8SP3a2bT7IFBw\\u002f27SYNxDoJD8DATSsrPUtPwGxqicP3TQ\\u002fVJ9B9OUqPD8dqk\\u002fxK3hCP02n+Rf5vkc\\u002foODTmEDdTT9j8vzUIjFSPzvkxK5dQFU\\u002fCiErfSJiVz9U3VW0+\\u002fxXPzYCDirATlc\\u002fmgr3SF4GVj8oNT+3VKRUP60AixF3SlM\\u002f8y10oS8KUj+6xTPsjeZQPxKdaUxk1k8\\u002fFj8\\u002fK7w+Tj9IRvN6tQxNPx886c8A2ks\\u002fXDTuM7sXSz\\u002fSSh9qBIVKP2H9WGTpZ0o\\u002fgXWpuuxpSj9FmVEU6LdKP\\u002fGfF82pVks\\u002fbunOUi1NTD8l\\u002f2xLbVJNPyOZ6OemwU4\\u002f1HGYq59BUD9tgQgaWUpRP7PMmYl+Z1I\\u002fB46r2pO5Uz9288uPqxRVP0MFQXNGe1Y\\u002f+tFN006gVz8uyN4gMfhXPyTMp\\u002f7x0lY\\u002fkgF9MBBLVD+U9nlDahpRP3tCvoVjvUs\\u002fKNU13rfdRT\\u002faez4O5ulAP9Lqe7xvjDk\\u002fn3\\u002fyWwTJMj+FwlMK9q0qP6+CGswlZyI\\u002fstlsdNe8GD889ElzqFMQP3g3+nxoMAY\\u002fKE7IeE4fAD9lJ7sKhgn9PvOhBT6T3P4+aFSB6FzVAj8y6qrNTukHPz\\u002fM\\u002fN+T+Aw\\u002fRBPW9KHGET\\u002fY1puH5LcUP0g7CayGzhc\\u002fEbpJnK+EGj9tEBt1yBkdP0DB6LzHCx8\\u002fbHak4FrEID922rkWnFohP7kiwLNtziE\\u002fH9fQoOz9IT9uRKYWcsshP6Lz0hvDOyE\\u002fPeuVka15ID8OCwv2P3QeP6C316tk\\u002fxs\\u002fWBltZZN4GT8oDjVBohUWP8OD2X+LdxM\\u002fBuu3QuurED9OM4YRUIcKPxKpvU7m7AU\\u002fjJweE3VdAT\\u002fv\\u002flHo0Cj9Psi8eaSJvf8+1f7i7fP1Az\\u002fxZcGlykQMP3vHyXkBKxU\\u002f8kAD5zqrHz\\u002fkfZrmk\\u002fAmP9J7dQ\\u002ftWDA\\u002fGFyvYJ6XNj8uJzcvj3g+Pz0wf4NRLkQ\\u002fLM9YbwA+Sj84GzBmIrtQP1+7P3QZ21Q\\u002fn8LUaxUYWT8f\\u002f3LtBSZcP3NSpc6vSlw\\u002f0j8dkRZ0Wj8xH5rqcUFYP\\u002frxdIjZNlY\\u002fMUCDnhGFVD8NRo4maANTPySXTKsPrFE\\u002fpjTzDseDUD\\u002fux0ypSWFPP2h3LqnJ2E0\\u002fcdBJBkrATD89wqp4n+dLP9ZrNtjjTks\\u002fDj\\u002fRSW0gSz8N3+GWtStLP4weB4bZcEs\\u002fOgeDSHYyTD+aSSxVnBhNP6N76yi1WE4\\u002ffdB+u2XgTz8vfN5EiNxQP38Jz8ZJFlI\\u002fQViHGup3Uz9IL3ctZwlVP4AjCEcC31Y\\u002ffOm5cKn9WD8u3NsX6idbPw2eXDjgk1w\\u002ff2SVvitmWz8RVyoV87ZXPx4spcsLblM\\u002fpgax++ftTj9IrFcVbhdIP6wMGOUzZUI\\u002f5CfoWTiuOz8EqykDOV80P+YJAINuJi0\\u002fvMmN4HpYJD9U5h\\u002foXcwbP407JTj9phI\\u002fM5U5ofkaCT\\u002fBIsR+Z+QBPzhHa4wwcP4+\\u002fHSwG1j+\\u002fz5UuB9GVmwCP+r8yaR1dwc\\u002fZAp9EB68DD8DYTO6ONwQP8rOjpF3WBQ\\u002fKcyEsIycFj9Ggy6+4DkZP5Y2v1ekfhw\\u002f6jhNjPPoHj8zZ\\u002fCCZ1ogPziQRhvI7iA\\u002fr\\u002fqiipFnIT9uk7o26LEhPx0QcH63bCE\\u002f3RjkO7S+ID94gaX6dvQfPxKJsAHq4h0\\u002fzep04cI3Gz9h4Knt6rQYP5xjOB6bBRY\\u002fshkJwiUaEz+9KeQAkbIPPzOjz46BtQo\\u002f4HgBu64tBT9tIe7CrlEBP81aWWmG9P4+z2a0mEdkAT8s1PgTi8gFPxoJbcR1tw4\\u002f5H782DqlFj81YRxkMssgP8yoR+qGSSg\\u002fLapszAINMT\\u002fqKjnxs3A3P4rPgvw8xT8\\u002fXzune\\u002fkoRT\\u002f2si6+7LJLP3yV7+sZ1lE\\u002fmpMK32WmVj\\u002f\\u002fnP3771dcPyqYNkMaz2A\\u002ffnTK6oUuYD+IUf2tk7RcP4Fqy\\u002fhGoVk\\u002fqTwDIkUlVz\\u002fD1wts6jNVP5EWd2N2hlM\\u002fl97dYhkNUj+aP9ZukdhQP4p91K8e208\\u002fseJpQ+FSTj\\u002fNBzKaaS9NP8r+gCQEUEw\\u002funyt5OexSz9cUL50+IlLPyxipoSxiEs\\u002fuFcv0\\u002frISz\\u002fv36xDJI9MP80Rh2wzlU0\\u002f0oiINdzCTj\\u002fRqoQ8aTlQP75cy14aNVE\\u002fmKLVcCmEUj\\u002f571m2qBBUP49WZzbjyVU\\u002fwzyYK8jsVz+Ex4ZH7JVaP7MJQr4I4V0\\u002f5VysovG5YD83Li+AaB9gP3zfatgBXVo\\u002f860WzhLzVD+U\\u002fRGmVWtQP3hauCBSXUk\\u002fVBfFD05GQz\\u002f2cvtcWLc8PxwBg3gXIDU\\u002f+wVj+9eNLj9xJUu9EZMlP1rtDo99lR0\\u002f7APJabfmEz9F4ddTGIQLP9Z8mRd\\u002fWwM\\u002f9jIq4NGmAD8btS5NRHQAP8pNkVoueAI\\u002fpCNgJEpuBz+23f0l1bcMPx2flZFYJxE\\u002fWgYbZUUnFD8DWa\\u002fzjIQWP70odzUkexk\\u002fDXBES3zEGz\\u002fxynx4y2ceP4oCXfWFJyA\\u002fdbZeUXDbID8NJklLimAhP2PGHdLJkCE\\u002f\\u002fpgGKbsuIT+gau\\u002fG8fggPwQjrjwDmR8\\u002fY3yoQGBjHT8bqdz5HMUaPwiLgEmZVRg\\u002fBYU8fWGyFT8Y0HkB0gQTP6ztabBjDRA\\u002frmQUmpdzCj\\u002fT4JAfImYFP3Y03PJ\\u002fzAE\\u002f4FtjOFg4AD\\u002fPZrSYR2QBPyzU+BOLyAU\\u002fFgltxHW3Dj\\u002fhfvzYOqUWPzRhHGQyyyA\\u002fyKhH6oZJKD8qqmzMAg0xP+kqOfGzcDc\\u002fhc+C\\u002fDzFPz9cO6d7+ShFP\\u002fOyLr7ssks\\u002fe5Xv6xnWUT+WkwrfZaZWP\\u002fuc\\u002ffvvV1w\\u002fJJg2QxrPYD97dMrqhS5gP4NR\\u002fa2TtFw\\u002fgGrL+EahWT+oPAMiRSVXP8DXC2zqM1U\\u002fkBZ3Y3aGUz+W3t1iGQ1SP5g\\u002f1m6R2FA\\u002fiH3Urx7bTz+v4mlD4VJOP80HMpppL00\\u002fyP6AJARQTD+4fK3k57FLP1xQvnT4iUs\\u002fLGKmhLGISz+4Vy\\u002fT+shLP+\\u002ffrEMkj0w\\u002fzRGHbDOVTT\\u002fRiIg13MJOP8+qhDxpOVA\\u002fvVzLXho1UT+WotVwKYRSP\\u002fbvWbaoEFQ\\u002fjVZnNuPJVT\\u002fAPJgryOxXP4DHhkfslVo\\u002fsQlCvgjhXT\\u002fgXKyi8blgPzEuL4BoH2A\\u002fet9q2AFdWj\\u002fxrRbOEvNUP5P9EaZVa1A\\u002fdFq4IFJdST9RF8UPTkZDP\\u002fNy+1xYtzw\\u002fGwGDeBcgNT\\u002f4BWP7140uP3ElS70RkyU\\u002fWu0Oj32VHT\\u002frA8lpt+YTP0Th11MYhAs\\u002f1XyZF39bAz\\u002f2Mirg0aYAPxy1Lk1EdAA\\u002fzE2RWi54Aj+pI2AkSm4HP7jd\\u002fSXVtww\\u002fHZ+VkVgnET9cBhtlRScUPwNZr\\u002fOMhBY\\u002fwyh3NSR7GT8ScERLfMQbP\\u002fPKfHjLZx4\\u002fiwJd9YUnID93tl5RcNsgPw0mSUuKYCE\\u002fZMYd0smQIT\\u002f\\u002fmAYpuy4hP59q78bx+CA\\u002fBSOuPAOZHz9mfKhAYGMdPxyp3PkcxRo\\u002fCouASZlVGD8JhTx9YbIVPxvQeQHSBBM\\u002frO1psGMNED+xZBSal3MKP9bgkB8iZgU\\u002feDTc8n\\u002fMAT\\u002fhW2M4WDgAP8a8eaSJvf8+1v7i7fP1Az\\u002fsZcGlykQMP3jHyXkBKxU\\u002f8UAD5zqrHz\\u002fhfZrmk\\u002fAmP9N7dQ\\u002ftWDA\\u002fF1yvYJ6XNj8uJzcvj3g+Pzowf4NRLkQ\\u002fKc9YbwA+Sj82GzBmIrtQP1q7P3QZ21Q\\u002fk8LUaxUYWT8U\\u002f3LtBSZcP2hSpc6vSlw\\u002fzT8dkRZ0Wj8tH5rqcUFYP\\u002fbxdIjZNlY\\u002fLkCDnhGFVD8MRo4maANTPySXTKsPrFE\\u002fpDTzDseDUD\\u002ftx0ypSWFPP2V3LqnJ2E0\\u002fbdBJBkrATD88wqp4n+dLP9RrNtjjTks\\u002fCj\\u002fRSW0gSz8N3+GWtStLP4oeB4bZcEs\\u002fOAeDSHYyTD+XSSxVnBhNP6F76yi1WE4\\u002fe9B+u2XgTz8vfN5EiNxQP30Jz8ZJFlI\\u002fP1iHGup3Uz9FL3ctZwlVP30jCEcC31Y\\u002fdOm5cKn9WD8m3NsX6idbPwCeXDjgk1w\\u002fc2SVvitmWz8JVyoV87ZXPxospcsLblM\\u002fpAax++ftTj9FrFcVbhdIP6oMGOUzZUI\\u002f4SfoWTiuOz8DqykDOV80P+kJAINuJi0\\u002fu8mN4HpYJD9U5h\\u002foXcwbP407JTj9phI\\u002fNJU5ofkaCT+\\u002fIsR+Z+QBPzhHa4wwcP4+9nSwG1j+\\u002fz5UuB9GVmwCP+n8yaR1dwc\\u002fYwp9EB68DD8DYTO6ONwQP8XOjpF3WBQ\\u002fJcyEsIycFj9Dgy6+4DkZP5I2v1ekfhw\\u002f7DhNjPPoHj8xZ\\u002fCCZ1ogPzaQRhvI7iA\\u002frfqiipFnIT9uk7o26LEhPxsQcH63bCE\\u002f3RjkO7S+ID94gaX6dvQfPxKJsAHq4h0\\u002fyep04cI3Gz9j4Knt6rQYP5tjOB6bBRY\\u002frxkJwiUaEz+8KeQAkbIPPzGjz46BtQo\\u002f33gBu64tBT9wIe7CrlEBP85aWWmG9P4+dyItmoAZ\\u002fD6XVvLgLYYBPypI2greQAk\\u002f+o0MHTzfEj9xtm0+yBQcP9e0mDcQ6CQ\\u002f+wA0rKz1LT\\u002f7sKonD900P02fQfTlKjw\\u002fF6pP8St4Qj9Ep\\u002fkX+b5HP5rg05hA3U0\\u002fXfL81CIxUj8z5MSuXUBVPwAhK30iYlc\\u002fSt1VtPv8Vz8tAg4qwE5XP5IK90heBlY\\u002fJDU\\u002ft1SkVD+qAIsRd0pTP\\u002fEtdKEvClI\\u002fuMUz7I3mUD8PnWlMZNZPPw8\\u002fPyu8Pk4\\u002fRUbzerUMTT8cPOnPANpLP1o07jO7F0s\\u002fzUofagSFSj9c\\u002fVhk6WdKP311qbrsaUo\\u002fQ5lRFOi3Sj\\u002ftnxfNqVZLP2zpzlItTUw\\u002fIf9sS21STT8fmejnpsFOP9NxmKufQVA\\u002fa4EIGllKUT+vzJmJfmdSPwSOq9qTuVM\\u002fcvPLj6sUVT87BUFzRntWP\\u002fHRTdNOoFc\\u002fJMjeIDH4Vz8bzKf+8dJWP4wBfTAQS1Q\\u002fjvZ5Q2oaUT9yQr6FY71LPyHVNd633UU\\u002f1ns+DubpQD\\u002fM6nu8b4w5P5t\\u002f8lsEyTI\\u002fg8JTCvatKj+tghrMJWciP6nZbHTXvBg\\u002fO\\u002fRJc6hTED90N\\u002fp8aDAGPyZOyHhOHwA\\u002faCe7CoYJ\\u002fT70oQU+k9z+PmlUgehc1QI\\u002fNuqqzU7pBz9AzPzfk\\u002fgMP0UT1vShxhE\\u002f29abh+S3FD9IOwmshs4XPxK6SZyvhBo\\u002fbBAbdcgZHT9Bwei8xwsfP2x2pOBaxCA\\u002fdtq5FpxaIT+5IsCzbc4hPyLX0KDs\\u002fSE\\u002fb0SmFnLLIT+h89IbwzshPzzrlZGteSA\\u002fDwsL9j90Hj+gt9erZP8bP1oZbWWTeBk\\u002fKA41QaIVFj\\u002fFg9l\\u002fi3cTPwfrt0LrqxA\\u002fUjOGEVCHCj8Tqb1O5uwFP42cHhN1XQE\\u002f8v5R6NAo\\u002fT4cBRmDtBn6PvcxNXnR3fs+usl5ih2aBD90twfAaggPP\\u002fFDHHj1+xc\\u002fj\\u002fdGpoEfIj\\u002fz0E8\\u002fWWcqP4oF3M1qbTI\\u002fWisqpuvgOD+ISmhXSFFAPzf6UHQ4u0Q\\u002frw2wo9yuST\\u002fKXBWsoM1OPx5990hStlE\\u002fzbpVJblgUz\\u002fEEQLOayRUPxQl0E+3GFQ\\u002fMbxyJg5\\u002fUz9WKWgfwqFSPwIVDD2Sr1E\\u002fjOn+iY3GUD+RjUPiQspPP7ZeNJ\\u002ffLE4\\u002fJfDlJdzcTD84KuS7K7lLPx+Vun+gyUo\\u002fisl+SooVSj82eihTEYNJPzOpeIZqYEk\\u002fF+WC1GR1ST\\u002fNg5hXIbZJPwPiVAAvOEo\\u002fG\\u002fF5Th38Sj\\u002fzG6evzg1MPxxCgXb6R00\\u002fruGoutC9Tj9POlfs9SZQPx0J5DWCClE\\u002fYPZN8QsFUj8JvUZljPBSP\\u002f20+mbdvFM\\u002f3KXuX6EvVD8DbgJCMQFUP2gMYLqW6lI\\u002fIJyRJ\\u002fr\\u002fUD8uHOPYix9NP4EFt3s8\\u002fUc\\u002fmrlv\\u002flYxQz8ju9STDeo9PxrqYYtEljY\\u002fxGP1YKWJMD8f5XxAH18nP25hHR6+uB8\\u002fZt1WazK8FD+AynfkGf0KP65H+RNzmQE\\u002fSIlN\\u002f1+F\\u002fD4zYAK4\\u002f6T5PiikxAPjOv8+SAiKawogAz+pF4cfqR0JPzK1WXvIAw8\\u002f1nzpEQ1KEj9SqasjmPsVP9pSEHH04xg\\u002fG0Dq4quKGz\\u002fJPEk3Tp4eP42DWL5sXyA\\u002fe1\\u002fVgy1pIT8N5SzsiyQiPyaslzgmpiI\\u002ffHtOq2f4Ij9MeYXiNkAiP0bx\\u002f+s10iE\\u002fbHu7Qk4yIT8sEsUA0uQfPw3SIXYpeh0\\u002f6c465SpqGj92\\u002fsp14oAXP1b\\u002fr7cyaxQ\\u002fHmuvdFaCET\\u002fTi8yCVKYMPyR\\u002fYcR2zAY\\u002fiXhYmsRxAj\\u002fBJUIj6r\\u002f7PsUH28ju1vU+YweNadXx9T7I8A54+lP9PlxupHiZ\\u002fAc\\u002f\\u002fNJxH2TpEj9NkkqXKZwdP\\u002fqX09Ep5SU\\u002f44wWOGEPLz8fPBEEayY1P\\u002fikTuDlvjs\\u002fCdxqfamWQT8oNgLtMYNFPwj\\u002fzgX5jEk\\u002f3EaWwSU0TT8Y\\u002fU6lR\\u002f5PP6lmm18001A\\u002fPNtT2IQXUT\\u002fv+J9PA\\u002fZQP6oMvznPi1A\\u002f\\u002f6GmvnjcTz\\u002fK05arrpJOPxocq7s7Vk0\\u002faCwXRysqTD+qulxezhdLP7HwxADqHEo\\u002f6QYrZXxdST\\u002f6GbGwo7tIP4AzIbGdVkg\\u002fJHmwqVgjSD+gq1ZloSlIP5SmbOQyb0g\\u002fn9zgX2r2SD+lvbMv5aNJP2DTurpUZko\\u002f0bZZ1E5pSz99V1XrIphMP0MKo+XMwk0\\u002fipS9rf33Tj8NqUpEVSlQPyhCG0XAtlA\\u002fQsQ+qEkJUT8b3kpEsg9RP4pDHmupnVA\\u002ffSumCYYsTz+mGaFnExJMPxwuC1hUNUg\\u002fAVka8IY1RD8YZekpf1VAPwgxMaiEbzk\\u002fproV+RUvMz\\u002fIXt\\u002fWBcIrPyaZZdxrQCM\\u002flucOcHetGT\\u002fjzu37Ax4QP9ONjfhpsgM\\u002fj4ukM7KU+T7AnvTf6zz2PkahHi7civg+s\\u002flF5LW0\\u002fj6xIiPjpNwEP1H8iU5+Zws\\u002ff6SOIInUED8O46l5PwUUPxw\\u002fC1QUnBc\\u002fDa5vUA2hGj+TYqn8PssdPyRhhhZt9B8\\u002fxppRGWBwIT9dWLDr9m4iP1Q0f7rjOiM\\u002fR8BjohaBIz9M40ITihUkP1XMfCHZdSM\\u002f+K1Q2rnwIj\\u002foikMw8SoiPyDMzjaf7CA\\u002fgaZmsdMnHz9qIuHRUUYcP5MEqR7KCBk\\u002f1D7oYU0cFj8zExzrJyQTP6770necxw4\\u002fAK7YUawoCT8fNLRpIAQDP8WBnv8\\u002fB\\u002fw+gDF3fXBr9j6mhP3hjoDwPmbkPjKhMvU+8zsLbevc\\u002fz63fsUCsngLP0CrMq77FxY\\u002fjo66ygbvID+sg5tS6b4oPzigElEjATE\\u002fQKJxmmWMNj+jUcYm0qo8P7EDc5JpjUE\\u002fo0pSmQq0RD\\u002fduhwlobhHPzu8cvICM0o\\u002fuhTE9V7uSz+hmhDAnthMP1NVgkfBJk0\\u002fY7113Ob3TD\\u002fW9uvyCEdMP5efSAT0fUs\\u002fuGSKqGy3Sj+KrMGZH\\u002fJJP3yD+Bm5JEk\\u002fDapozS1jSD9cdd6Sy71HP8haLJj6Mkc\\u002frFyB9EDRRj9KpFFjstRGP5zIQK66wUY\\u002fKg6AmRz2Rj9otxHFtWVHP09OZGo56Ec\\u002fXE0RhfGgSD+AyRHywlhJP6BN9VIaQUo\\u002fPJm8cy\\u002f8Sj\\u002fFFXPYacJLP4oXXXzChUw\\u002fRlEcAeEXTT9BGs0s1xlNP3goAm3YoUw\\u002f1xfW\\u002fG9uSz9AKYzqbXFJP8acvQDfxEY\\u002fj76cpuOfQz\\u002fkQH7Od3RAP8ZD6dqRjTo\\u002f9y52MR+pND8yEcQxSMUuPxGzV9g85SU\\u002fZP\\u002f\\u002fKdKVHT8ilaRQwdQSPxHmStDf4AY\\u002f+y4LqdfZ+j7HBmLRk8zyPl0Rj3e6IPM+zxZeE32u+D6RXlznt84BP20t4YlnPwg\\u002fajAVGwh\\u002fDz8m1Kf5adISP6a0zdezEBY\\u002fmhJdApEXGj9PGrz\\u002f5zsdP\\u002fkbE6\\u002f0RyA\\u002fn8yeFU+MIT+G4ff2McMiPywDw6Qn5iM\\u002fc\\u002foccmDqJD8hyZd2LAglP2ZFHuppTyU\\u002fRMCDEMrWJD9UEq0T7XokP7aCApAhjiM\\u002f30jd4V1mIj9y6xg3ZSshP9Fp4MwhVh8\\u002f1HAl9gbAGz+a+0a2NtkYPwr\\u002fdigkLxU\\u002fM8wNdZHhET\\u002fmFqfcCH0MP1p9w8j55gU\\u002fBSbOMrRx\\u002fj6afQ5jzKf4PvsqWjorD\\u002fE+kTvrGdEK7D5qHfL6bHzzPnLMgvh6aAE\\u002fvQJAwrWeDj94FgME1bwYP2SNbWAfhSI\\u002fxVCEmVAvKj9ylN+0JJUxPyEuLs\\u002fTpjY\\u002fkgwnjV\\u002f5Oz\\u002fRhh\\u002f7IoRAP6\\u002fiv45w8EI\\u002fJbuQh4seRT\\u002fdGh0MbNdGP3Z8300EB0g\\u002fs7wLjmisSD\\u002fTbQxC8uhIP7tkVq4RyUg\\u002frHb+ZkdjSD9xHnB5Rf5HPwUbJUOmkEc\\u002fQHjTKJoXRz+m6tQ2LJBGPx\\u002fGWdIoBkY\\u002fGi7nqOmLRT+aZeXmpE1FP9fS8fu7OUU\\u002fmtXQFTlGRT9SHwd5VmNFP4rHj4ddq0U\\u002f2mXzcN43Rj+7nUTp1a9GP2SqXthrREc\\u002f1zxzkn+sRz+Phpa6XilIPxrqS7LClUg\\u002f\\u002fZ+iajLpSD86kKKmzehIP1PEOAlmgUg\\u002fIV5kDfqnRz8b2D3YV01GP2rasdkXc0Q\\u002fuivU1McpQj+NXZHGOlk\\u002fP8BkZKWDFzo\\u002fVk6Sq9bqND8B9mTiSwkwP\\u002fPsc2B6jSc\\u002fj3K8mJhKID9xMcQpHDAVP1Hm8K1VcQk\\u002fl5+s8pBM\\u002fD4\\u002fHj0XOfLwPv93lxYt3ew+3eobap1Z8z6l\\u002fIrlKWH+PgQlycyM2gQ\\u002fvWgurrV2DT8RJKfZEVMSP\\u002fYqcc81phU\\u002fg\\u002fUXWJcEGj9NS4oITGgdP4zm67CPjCA\\u002fRiTfmDh1Ij+\\u002fIPjCx24jP1Y8eLpQziQ\\u002fZdgTdMoBJj8zHAOfW\\u002f0mP2yfjrG2Vyc\\u002fk2\\u002fjq0jxJz92lnu0+GcnP60QTdEoqyY\\u002fOLjkUwKKJT8AWMf1YXkkP0XGvKJgLiM\\u002fawNPy1HRIT8K3kAryxkgP6NK2aGhahw\\u002fIdgeTY7EGD+3y\\u002f\\u002fy7KYUP9NrZP6aOhE\\u002fbdbFtBRDCj9MuDQCgWEDP4rrpqhHNAA\\u002fmuky\\u002fWF99D4fZRF0HcjpPgXuYQEFLeg+k66i0hAj9D7sRzu6zakCP5pW0UPFVxA\\u002fTTz5OyD6GT\\u002fIRn\\u002fKqRYjP9+u31j7aio\\u002f04X9G7I9MT\\u002fS6p4FoZw1P5jTP2KE5jk\\u002f4DqDTjkIPj+wv3nWPeVAP2nKCs6sfkI\\u002fSVagK8q\\u002fQz9obaKQSKdEPzd\\u002fvjqhJUU\\u002fqleJLJRIRT+zP7UPwVlFP5Sev0lvSUU\\u002fnNmfsvYmRT+URIJ0LAJFPzz+qmSjnEQ\\u002f\\u002fcTdnz5FRD+mludUwtlDP1tx+JS0jEM\\u002fRB84NCiqQz8voH7gQ6VDP4iBypNCs0M\\u002fBYvg+IILRD\\u002f2xNu8NlJEP3taNh6Yu0Q\\u002fDBPBTA8NRT+DPUNKxTFFP91fqm6rTkU\\u002fg\\u002fdHfblhRT9upbfag0FFP2GBYFMx\\u002fUQ\\u002fruVrL99cRD\\u002fcX8w2V1NDP7lOOvRW+kE\\u002fjIK9YhhJQD8qBpzks7k8PyocDaICeDg\\u002fWl9KoLoqND\\u002f\\u002fAPSEIbQvP6YXNmLk4Cc\\u002fujbBaebfID+xHlubyXEWP4wxXrtWTgs\\u002fN5CZF\\u002fkb\\u002fj6qYXGTn2DwPk6Axg9Qm+U+nNzc2tQI7D5fOV76uvP3Pu37HhFwtAI\\u002feA1mXwo7Cz8aiA0nqkASP4mRcNb5GhY\\u002fzp0L8bdKGj+lkPFR0\\u002f4dP3URaeDrGyE\\u002f+llJrNRCIz9SO49rx9UkP++cbysnSCY\\u002fBgXrVN2YJz8S83wYds0oP6mN3WqM1Ck\\u002fjNIANACJKj+ueHnW0PUqP3HLnLHwgio\\u002fOymrvYOCKT9zG2MjjEkoP3TJvQe5Zyc\\u002fKk23dOf5JT8GNaQgA1ckP7fsGCUcgCI\\u002f+Iv6+q6RID+NYVKbQSwdP7TShbRtfRk\\u002ftCRccqANFT8LaEBXoOIQPypqoCE9RQg\\u002fjZcgwJGBBj+XxbOl9tD8PkPXYpkjOu8+92mVvXU44j7RflmfxJniPoRPcFEewvI+jZeiq5ylAj\\u002fDMZpYOYEQP1zzLSdy5hk\\u002fWsrtcJnEIj+as\\u002fRsO1ApP5xm2n7\\u002fOTA\\u002fFU+GcrLkMz\\u002fFQD2U7mk3P+8hcM9Tmzo\\u002fu7YFMOeUPT+7yjOI2RNAPygaYvlcFkE\\u002fVt9oWvzAQT+PMeo70SpCP9jq1tASc0I\\u002f+DxrYq+kQj8uPkBsnK1CP1DKb1TusUI\\u002fUvM2RvWZQj9\\u002fElys1W9CPyrcbUlfPEI\\u002f14NtI8YNQj\\u002fD\\u002fhNSsglCP3+TjU+JCEI\\u002fH3EccooXQj8d9VeYVTZCP1sDMAg\\u002fikI\\u002fTcfuADqvQj\\u002fPOrKhzKRCP1\\u002fVvBO2qkI\\u002f7pcXBc6PQj\\u002fqthjet11CP6Z+WOXhBEI\\u002fk3bVrPSEQT9qPo3TrrhAP3hZKynfZT8\\u002fKY3ieAWrPD+ITQI+9Zc5P7uDK9FTQDY\\u002f4XdnuHakMj+muljc5R4uPxIXq5psHSc\\u002fBPC6rzTAID+MjTBN2WwWP+SsOCclrQs\\u002f3ygHwlYS\\u002fj4DYas3WvbsPmFpLgA01eA+s9xsGHBq5j5MXie4TZzzPo1aDpaifAA\\u002fvFxHoVFICT9hSYUykt0RP4yJ\\u002fQeMtRY\\u002fF\\u002f11tFWAGz+aZFaBfw4gP6xDOTrcWCI\\u002fHzt3l2+KJD+FB6fhw5smP\\u002f1J7p\\u002frUyg\\u002fPYek29rLKT+pJ\\u002f5KTzwrP7tGEbv+PCw\\u002fwT1puzVPLT\\u002f4\\u002f6CmyVUuPynLbt6kgy4\\u002fiUNatqP+LT\\u002fEuilqxhctP0XlsZJawys\\u002fGhsQsXG4Kj8avXVvqlspPwGJ67Sd4Cc\\u002f6kt4uFXlJT\\u002fuZ53RbcIjPzR2FghTnyE\\u002fo\\u002fEoeUvcHj+0q29rFAEaP23OsU\\u002fd\\u002fhQ\\u002f\\u002f+ehxIk1ED8DsHLAesUPPyo+CvWc5QQ\\u002fmly3shs0+T7kgUIs60bqPiwfIPvfYNk+GvsWHinQ2j4gbeWdc6TwPmzKoNzkfAE\\u002fhXxgmC9mDz\\u002fBMWL\\u002fyqkYPyRzcyyJqCE\\u002fkaCgBeSPJz\\u002fFfdVK96YtP9YmtTSn8TE\\u002f0gXUvXbfND+gaCscC2g3P9cs4u2yADo\\u002fzTD11KYEPD8Dqd2ZaHg9P5GzX4K\\u002fhz4\\u002fzYw6TzuAPz\\u002fPUw1UBA5AP4wijy7CW0A\\u002fZChntFyEQD94gQybY55AP5MlG1ovkkA\\u002fnGuLknd8QD8FXUzvjIZAP1d+7QvIgEA\\u002fPdYNw2mDQD\\u002fkAFgvZ3ZAP11g5okciUA\\u002f\\u002fIav+2+WQD9\\u002fTBbYsZNAP+oWJ0MkfkA\\u002f8\\u002fMIl502QD8fd7q7hvc\\u002fP83VRQB8ST8\\u002fDbumcDNYPj\\u002flBCA+tQM9Pz2nlNBLSDs\\u002fLNb1\\u002fGwUOT84vj6bdo02P7fuRAmW2TM\\u002fmhbiedPmMD8guV1ifKkrP+ZwoSi0gyU\\u002f4KTGJI2wHz\\u002fxRqccIZwVP0AVCVZrsAo\\u002f\\u002fYnpyOTB+z70PXwDxH3oPp3CG3DJitU+ANrXFmMu4D43nUKm9xDwPmHHbHNIxv4+8eL1R8v3Bz\\u002fbU\\u002f4mk4ERP4EeHLjYIxc\\u002f04tVqjH3HD+cKbSu+kQhP9F8Id2szCM\\u002fAPtuMMNkJj\\u002fKwDPMI7coP82\\u002f5Ijj7yo\\u002fZlagkG+LLD9IXoenzFQuP3YjaLR\\u002fYi8\\u002f2c2n+GI2MD+QxwcbsIgwP\\u002fYaa2rpRDE\\u002f03TYChYlMT8eO0ExCxAxPzyUBnoZmDA\\u002faHYZVckVMD\\u002fkRZxYKOIuP2FSSMwLsC0\\u002fLMF5rEb7Kz9fCKnsWDUqP48P5lhq7Sc\\u002fDWmnSWq9JT8Pc+\\u002fzYykjP+bMb7jCXiA\\u002fttlno7gPGz9mxVmMrl4VP9cQeAmwGBY\\u002fltqYnAc1Dz8FTuD8NPYDP\\u002frYdQtsbPY+mEen+6Jl5D69Sdzg6zrIPka9skhP0dI+wFNgOTGn6z4JWVKo2SEAP\\u002f22IVdRmw0\\u002frGvz9WwcFz+U2mOm9VUgP1S8lC6\\u002fZiU\\u002fbYQLCHSqKj895twpaPUvP9ZEfGwVXjI\\u002fu8bdEX+UND8UIudZ6b02P3QY61QDbDg\\u002fXMnhOfifOT8pMYsjU7w6P\\u002fZsXN00nDs\\u002fXJG+loxRPD\\u002f4Icd949Y8P2RVNfGNQT0\\u002fs426tbuZPT8PNmuDUZ89P4+8a352xT0\\u002f7zBaZezePT9qSyG9Z8Q9P7QzP8vRsT0\\u002fWmRbvZqCPT+mb8TDe3Q9P2bt2gcbLT0\\u002fVwZ\\u002f\\u002fZGaPD+UqjNUOBI8PyhMgrO2Tzs\\u002fLomEBvyCOj\\u002fPIcag9EY5P0HXmcWGvTc\\u002fjiT+YLMVNj8p9NSl5tYzPxdaFl2bkzE\\u002fZnSHIig6Lj+BeA3TsOIoP8QVjd9yryM\\u002f6J3W3k0qHT8UAvKxBvwTPwPLAXuKdwg\\u002fAB\\u002fuCIPe+D4oibxzQQ3jPvPOHfUodco+Uk4Pmko41j4PFGZYWGrrPhdV0t0pHfw+RsU7l\\u002fxWBz\\u002fGrnru\\u002fKURP+YcCjlcPRg\\u002f0THQ4WavHj8VPivou5ciP2TT\\u002frrXpCU\\u002fRcwrc8uSKD\\u002fWCxPKQnwrP61pCdxqFi4\\u002fhSYSDQYMMD+c6TI83+owP4RkU1FNnzE\\u002fQ9zSan4cMj8Rqpln4Y0yP12s7WaPNTM\\u002fjtrtvIl7Mz+\\u002fnclEvYszP91SMwxvazM\\u002fQw3y9V32Mj9cujTynWQyPwKrAU1a9zE\\u002f+P4ZNqFKMT+AdqL9XrswP+RNa4LLeS8\\u002fCJEvX2olLT\\u002fhHY8sI1EqPyFDaH2EhCc\\u002fnzb7XkCTJD\\u002fNjNcJFLQhP7vrGic\\u002fjRw\\u002feMd3UTrfHj\\u002f6JlQ0DkQXP1fg\\u002fk2aZxA\\u002fLT+RuTx5BD8Fqg9ChOT0PhD9RRN2m+A+MkVj+ASWvD7qFQ8nbwHBPj22\\u002fURv\\u002feY+zHDw5vUv\\u002fT5UoLn8BIsKPwRIOWdu4xQ\\u002f33ILhSaIHT+NzAkvKFsjP8UN8WW44ic\\u002f5CZeYitRLD+qz+PFhDswPwGLtP1HHzI\\u002fjNGWFu7eMz9jLPW+Hlo1PzM2VdP0iDY\\u002fmLpCu5OKNz+A7yAGGGI4PwozwmpXIzk\\u002faamrLrmpOT9o5SSmuCg6P5o4dw0EUTo\\u002fofxftQ16Oj8ujRAh1406P32c9yZKjzo\\u002ffyv137tWOj\\u002fSQfcMIDA6P\\u002fZiXQSoFzo\\u002fFJfUCnCYOT8BEnBydOk4P+mhLsZXHDg\\u002faDSzhQpCNz+avAyZAxs2P44s9yTTtzQ\\u002fx0gDmqJCMz+oUy4lPJ0xP3MWPTjGMC8\\u002ffVkJ3eLuKj+oDCVxmnEmP\\u002fi1LEdmsyE\\u002fXzrXJ+azGj8ClcdQAEoSP3xmBiF+PAY\\u002f\\u002fL4lIeCl9j5pF5msFMzdPnNwnWp4orw+WkZyiukLyD5IvvbUp2PnPlqePqE8Sfo+6RHcWDYiCD9YLtXYEYoSP6ZMrEVI1Bk\\u002f\\u002fv1o0ZqrID+vmSNjMnEkPyQD9\\u002fUC2yc\\u002f7DS318UeKz\\u002fKv7pn6GIuPyPMJ20CkzA\\u002fDOGYg1jZMT\\u002fHfhd5Nv8yP2q\\u002f+c\\u002fhxTM\\u002fOlv37YJ+ND+mW7wkq\\u002fg0Pw1IKzgLZTU\\u002fUmAtwIrTNT999WyodSo2P6EycNVRODY\\u002frFatUZQTNj\\u002fEU+nZsMU1P21nA1B+VDU\\u002fKq1LgrwGNT90+55WPDc0P+4Xk7WFmjM\\u002fE6rXw7yNMj8WbLrVZFkxP0Gl0hvsIzA\\u002foeB\\u002fYoZLLT\\u002fymUSvWSMqP98Xyarw8iY\\u002fnuqx\\u002f\\u002fwiIz9ETZenLFYlP+yPB+Ys4SA\\u002f5c\\u002fIDgBjGT+E3Q68yqERP9oHsxCeiwU\\u002fbRGnmflF9j4smSk88DfdPoV6vmO3XZ4++MmC4CMTxT4UcK6oonPnPkFjjd7ASfs+OkxJqtnNCD9pXr3ZrC0TP6w+UkLHxho\\u002ff1SrWhF3IT8pnwBM23clP1ThdfKiSSk\\u002fRdJ\\u002fr+e7LD\\u002f21wFo+SQwP0DKLyJWgTE\\u002fzNx5t2fgMj8SWCV4s\\u002fszPyPeRr5g3TQ\\u002fvR\\u002fm4cjiNT93IqixkXc2P6iqUjNb2zY\\u002f1tAQmtMlNz+c7S5AdHc3P5LU7+apgjc\\u002fTBFL4F6JNz\\u002ffCY8vFGg3PxhdFt3lDDc\\u002fJtp4FiyhNj8mbw29GSU2P4oaIJCLdTU\\u002fwCdnDUCnND\\u002f2PkNUoqkzP\\u002fDXyTJ8bzI\\u002fH+iOhqz\\u002fMD9ax\\u002fBnLScvP9QD1HQYwys\\u002fEkrtipP9Jz+0n\\u002fRvYCckP+QPLgULFiA\\u002fDrjuEL5aGD+qufjYLc0QPwO2dD0vwQQ\\u002fkk0WyMM09T6G2iTTkavePgnIMPGppLc+OlUgssPJvj6I2WBwSzzmPq7py7H+k\\u002fw+ERjKfpADCj8zKqC60iMUP3zelr8TGxw\\u002fvKlwtSdOIj\\u002fFOkmFz7smP\\u002fS+ulWCoCo\\u002fMdnO4ROQLj8xG5yVmw8xP7rOktVZmTI\\u002fcO8I44f+Mz+K5Bb8DS41P4DY3qFSLDY\\u002fWMentxnjNj99PGYE\\u002f8g3P\\u002f+pYU4\\u002fLDg\\u002fTJebQ6KsOD9IdBFCzso4Pw5gzvq8BTk\\u002fnNDGQgwOOT+kRkyB2+84P6R6Gfj3wDg\\u002fxQChssFxOD\\u002fybezFrxo4P00cvEHtizc\\u002fN\\u002fVNxX+5Nj+XczhBBOw1P0ZZ2enZzjQ\\u002fdJLruruhMz+sDRPltCwyP5\\u002f8DNe9gTA\\u002fKojciKB8LT+lpDxotWUpP25cXXO6hiw\\u002fKQ7P7fWiJz\\u002fwp5Lc3bkiP4EC1rMI2Bs\\u002frhhuDfE1Ez93Rvkgs2cHPz0uLP01dvc+W0EYr6SP4D4WnJavClLCPirYCRkDTtA+ll4G5e2F6j7hQ2AvF9H7PuQMBLxJxAc\\u002fVkyvVrUPEj\\u002fPr7skMTEZP32EFxo\\u002fDCA\\u002f4WZvSwyqIz8k6G9z+K0mP2NIhBUO0ik\\u002f4CJmaDLNLD8SIACGjT8vP5D0f\\u002fhA9DA\\u002fqd9PhbPpMT\\u002fUoIf+05YyP92Bn8rvQjM\\u002fWMmQQ3mxMz8xFBJuQTs0P3g58LLPjjQ\\u002fTQM0ttnIND8cvSaZTdg0P9qYDqkXgzQ\\u002fr15m9PcdND+KVraYfaUzP31WfIoGMzM\\u002fV+YUAp9hMj+F70rCEZYxPyGG2SHQnDA\\u002fSlGyI\\u002f5SLj\\u002fUNXV1UcwrP82uxePhzSg\\u002fs6gfYZ+6JT8vLGazyXkiPyx6y8pz2h0\\u002f7LnxRW26Fj\\u002fPNuVtVOQPP5pvQfN+UwQ\\u002fbOk3hg4j9j7KanPRcHHjPmzQ7exK1MA+ZNeZkg0ZzT4xLT2VSazoPjIt1ClNrP4+rEt\\u002foOLnCz8pq4nsjv8VP6+SpNpA\\u002fR4\\u002f2I+\\u002fN6NiJD+kQ8V3lUgpPz3bnIYQDS4\\u002fKuagtVZLMT9gdcCvX28zP1wkVGepQzU\\u002fnyaBKae4Nj9JxDfySAA4P0P5qtxQEDk\\u002fY2J2hzXcOT\\u002fkYl0bFao6PwijA1NdMzs\\u002facecUDWlOz\\u002fNHMAJGus7PyytiHrn7zs\\u002f0jjvlww0PD8f\\u002f7viuiI8PxyKBRX5Jzw\\u002fMfqRQAr2Oz8DbtFtUeo7P4PjdE\\u002fLbDs\\u002faVJFTgb+Oj\\u002f4PRZB+IM6PxRd5C0FpDk\\u002fikZcKhW4OD93l2G3WIE3P9JWcmDYMTY\\u002fIS5t1mKnND+fp2d2g5cyP7qoOzyKdzA\\u002fEY8SSXK1Mj8pl1o8j+0vP+5lsx6WSCo\\u002fmv9gUdilJD\\u002ftbvz80YceP24YA65LwRQ\\u002ffGyUFwC3CT\\u002fp8AB+BVj6Pvpk+e0r4uY+aW3dUQeQzT5alSnSHtfYPkPd8L1Fge4+A4ci1Ebw\\u002fD6aoEocRIMHPwlBPxFaZxE\\u002fCg8xQgpOFz9apy6P3cQdP5oYy+1nuiE\\u002fTfyq4sOAJD8AHddRxHQnP5IKG\\u002fJaRSo\\u002fLqVI6ulRLD+2SEbX92YuP7bhrlz53y8\\u002fvUgkKumsMD\\u002fOY7DYMRUxPzH4kUsdjjE\\u002fwSBdKigcMj\\u002fNgjNzpmgyP2pAUFjZVjI\\u002fea5zoi73MT+jinUiUGIxP38H5TCh8zA\\u002fZbSusH9xMD\\u002f4FiJ\\u002fHYIvP4PK7XXe3S0\\u002fHGj4d+mPKz8tsY\\u002foYmkpPzbEUoVGtCY\\u002fLuzG0ZqoIz9uspAEAO0gP4SSURzJ4hs\\u002fPZp6EZZNFT+xPMWQleYOPyqkDuvjcQQ\\u002fLL\\u002fwptfe9z6omDlnfZ3lPva1v0uD59U+AKGJIfV+1j7zp9C6kK\\u002ftPnfh4Iti5wA\\u002fj69CB53BDj\\u002fMVjv42s4XP5CI4LAcEyE\\u002fJaFedFx8Jj9Dk5YA60AsP9wiw5HN4jA\\u002fHPMDVoCOMz\\u002fz4vlEB\\u002fU1P\\u002fMAvaKPRTg\\u002fbDmgsrgVOj9h0z27tHo7P+2NAcS+kzw\\u002fPx7HGhVrPT97fgBopTc+P\\u002f2KRYwJoj4\\u002fiM3hPTonPz+saM5K\\u002f2Y\\u002fP\\u002fsv74vVRz8\\u002fzpw5\\u002fGQtPz8kHR1YZ4Q\\u002fP9GrPDeqjD8\\u002fDfOzy8xSPz\\u002fcuNCUkkc\\u002fP+wgytvhWT8\\u002f0gKTgig+Pz+pDtpEgts+P66uJc+EjD4\\u002fBoUNs+TAPT+JZLKY6zM9P8mxFDHzSTw\\u002f0qkFEkD1Oj+fI8I8mHU5P7NqmUXTiDc\\u002fWvMMQLw0NT9SEElEDgo4P2SrvjyvDzU\\u002fykEZU97IMT8qqKCeBcksP9qIuEYOZiY\\u002f\\u002fJJmP2ZcID\\u002fYcqCWRxMWP0ECHN18Mws\\u002fIQgawCYj\\u002fT4\\u002fkQki6sLqPlTcneoe89s+OrPhboEU4T5d7Qc9MtLxPqYDv1ruzv8+Bi\\u002fhZnHdCD95mfEqUWQRP2\\u002fdm+aurRY\\u002f9Kx7JIlYHD+Wh1GJCbkgP\\u002fGusmJJEyM\\u002fbsUUuNqtJT8ksSRxBp0nP7hirdIyjSk\\u002fl3+4skFJKz+dyfAQaW8sP0VlnhFTsC0\\u002fkQjnhVXELj\\u002fWcDJnnfUvPy1nGFodQjA\\u002fL\\u002fSaySkmMD8KydiudJUvP4Y\\u002f\\u002fODhXi4\\u002fVLl3mIx1LT8SPzuzwCIsPzgzCcIVyCo\\u002fjx845mrDKD8P0vdCMfkmP+m68bLrtiQ\\u002fpTFWhvNKIj\\u002fsDBf2wL8fPwz7eIK2iRo\\u002fW2RXyYRJFT8AdAmhI7EPP7G0\\u002fqXengU\\u002fqkJZWKbD+z5IUco3BZLsPiHwdcFurt4+lrbdX4CB3j53LIOF9+vxPn\\u002fJ9kdpVAI\\u002fod3aAe80ED9uxYkPI2kZP62Qy8eVVCI\\u002fu3aauQ5wKD+v1MjbDSUvP5C45lGz3zI\\u002fICEYkzElNj+qV7gYSfE4P++JpIDaoDs\\u002f3HrT5gv7PT9kRVVMD80\\u002fP\\u002fQSYdyzdEA\\u002ffHLRDuTfQD8qMIJyKixBP9pe7+RmbEE\\u002fWjRQBdtwQT\\u002fa2XDG2JVBP7ppE9y4iEE\\u002fRckBoyxxQT\\u002fS6I\\u002fc7EZBP2\\u002f7yzgZPkE\\u002fPUii9sZMQT\\u002fCyjrvRD5BPzTUljJeR0E\\u002fYy9Inn18QT+PbWqYRZ1BPwjm1zFJkEE\\u002fiQ+yTuOCQT80n85jbVtBP30YPyUqG0E\\u002fTsJrFGjOQD\\u002fA7vUfvEhAP3RK1uWFSj8\\u002fqbhK3+I0PT\\u002fh9hKcQM46P8Oqj9NRij4\\u002fYZZ24YAqOz\\u002fcZ7uVTXc3P\\u002fzftpoReTM\\u002fpmtaH0sALz82CrOPv4onP8HW\\u002f86L6yA\\u002frWshgbOUFj+BY154Z5wLP1rq28\\u002fr5v4+JA5DrvV97z7TxPtfrbfjPqYY9WDfEOg+8WjmeIV59T556Ol9CpABP1cUWGvPMAo\\u002fCRwCNhWHET\\u002fUKgWBz3gWP21Q+sRdkBo\\u002fisks1ij3Hj\\u002f\\u002fnCRdBb8hP2umhpHo\\u002fCM\\u002fmhATLR+2JT8xgUIHt0onP02D\\u002fdlPmig\\u002ffZBakGsYKj+PMSMZrNcqP00xU3e6Aiw\\u002fZPG3Nuu7LD\\u002ffd5xvnWIsP1iYbcLU4Ss\\u002fKjYIrAKaKj9tGS5g38MpP8gW5eoZLyg\\u002fSq3wq6vDJj8cTxNmuAQlP1o\\u002f3zzNCyM\\u002fNp4kRtsBIT+qsRqT6ZEdPwmDiuKgchk\\u002fvP3ZL5z1FD8UVetz+xIQP2S7szVhqwc\\u002fs\\u002fkmI0XD\\u002fj7Xj642PNzxPgplVrhc4+U+JDBqb7mS5j5z2mcWCTjzPq2+QNNDkAI\\u002frNN4CPlnED\\u002fsOSRn\\u002fgEaP0V0OcUt+yI\\u002fTJ2KBSn+KT\\u002fjuKE2+tEwP3aYeXaUwDQ\\u002fv+Ar4C6rOD8SOa7+6Vc8P09aHulMkT8\\u002fz2z70hk4QT8h23UoGVhCPxqTcxnGH0M\\u002fy1SgmpuPQz9sxiLl+M9DP1Qsva\\u002fm4kM\\u002fo1p15GvuQz+6TZIS\\u002f9RDP0pnbfy4y0M\\u002fRV7c7FCIQz+bOVzjoSVDP6LE6WYx7UI\\u002fLVvWGFjVQj9pbdy+V8xCP4oiufG210I\\u002fC0+xILIFQz+STmyYLERDP5rsmkoHnEM\\u002fM88IpcnHQz\\u002fSoYQ+MONDPwJdcpuc5kM\\u002ftpBjXSngQz\\u002ffrj+flbZDP6icb5pVeEM\\u002f+dkk+Bf0Qj8\\u002f+53B4wlCPwPgaKfGyUA\\u002fFNevnjI5Qz8k3H3CszRBP2qILz2\\u002fCT4\\u002fEpxkQEp9OT8FqkeOw6w0P0i+ubfZCDA\\u002fmCBsgZLOJz\\u002fYXBPuzM4gP8H454cOARY\\u002ft8bJs2uECj8US6QQOeD9Pk0iGgi6F\\u002fA+nHU9IuYw6j4zkKw0N+HwPnIdRV3yp\\u002fo+2pYIl0XFBD\\u002f4p3pOSVkMPzAuURm85hE\\u002fKPp5DX5MFj822AMbOxUaP+G\\u002fW0cptx0\\u002fHH5XBc3QID+Ov8BS\\u002flciP8Tbl7ycXSQ\\u002fdLDk9Tt1JT9uojG1QcgmP9Kl87mR8ic\\u002fhAJTxje7KD9NRguXgUwpPz\\u002fqYx7cHSk\\u002foZwDTxtXKD+FHSyavqMnP63cr9heOyY\\u002fvPTgsUvtJD+5SyEvpa0jP9znbBPA6yE\\u002fUAaa\\u002fDhnID9kqAUis70cP6nZRD2Fnxg\\u002fzXPOumoJFT\\u002fNHO7Kj88QP\\u002fvOglvAEQo\\u002feAJGNg+nAT867ZN2oQ\\u002f3PvGe\\u002fMkNn+w+Qyn2MNyW6j6NEDmkj63zPjE8UWIhPAI\\u002fFHrYOuvdDz8cR8drMF4ZP3yPOPK\\u002f7SI\\u002fk8bxNyhxKj\\u002fll8jYY5MxP2DwjiJyOTY\\u002fGMZraWT7Oj+9XHH6+JY\\u002fPx9mpDcF5EE\\u002frlcaSYXEQz\\u002f8aaYYFjZFP33r5IRnM0Y\\u002f88fHKWjeRj\\u002fsYHl+bglHPwxdQ8Gj90Y\\u002fVB1W5ZfZRj+h\\u002famxHI1GP2xgSG6RMkY\\u002fBbZxvk7IRT\\u002fsc\\u002f\\u002fIaExFP9y6NH2J80Q\\u002fnf7fqnSXRD80CxCx82xEP9sjzh8eeUQ\\u002fqY2tMO9lRD9xIORj7aJEP3EQ8jLfB0U\\u002frML8oep4RT+yJQwJXutFPze8s36dS0Y\\u002feHXeGQmaRj\\u002ftsonmkt1GP2UnOGDvBUc\\u002fO8Wep9X2Rj+43b2tAqxGPwn6OoMW70U\\u002feBYbSeHIRD8zkinvVORHPwzKV+j\\u002fp0U\\u002fWNga3VAAQz9sSXSgEixAPyYOnjT5fTo\\u002fKb7V0k7sND9ulRb+9KovP0rtkm6O1CY\\u002fr3mgPsE+Hz8MdoNEaS4UP1SjwNo2Jwg\\u002f1y\\u002fXG4Xn+z6KEYCmCIHyPn2Qc2gA3O4+z\\u002fzP24rR9T6\\u002fmMGCBEwAP2bQHY0OYgc\\u002fqQB2YL3aDT\\u002fdwGP5yFASP+GqEbSXCRY\\u002fUw0gMBt0GT8Sn555w7AdPxYwvNErXCA\\u002f69qHQmGwIT8hOjpUnkYjPyPOpmc7HiQ\\u002fLaYpmZpUJT+I6PAQ+9wlP5tLNCPqZSY\\u002f1hkkUFp8Jj9TkRn178ElPzrLHdrRHyU\\u002fjAqnuuTzIz8FhYsoLM0iP+8fvD1iUyE\\u002fzZgA3w3EHz\\u002fuqPgyqVYcPzMaT9fDiBg\\u002fyPY\\u002fm2khFT9qqaTN+U4RPwg5ssTmcAs\\u002fow3EQyiEAz+Pd3nLcp78Ps\\u002fEPiPX7PI+wEOPVZS27j5e9bDHmDTzPjQm\\u002f7XQiAA\\u002fpdD8MWPLDD\\u002fArUn\\u002f0nAXP5jxP7b+3iE\\u002fbkgVzd6YKT+qO02q0nExP26KRsRYuzY\\u002fktjJ+E5qPD+8chl\\u002fph9BPxK\\u002fEHkn4kM\\u002fdxLHaWx0Rj97zu\\u002firn9IP\\u002f3l9xqx40k\\u002fw+HVWI2wSj8U8f+WV\\u002f5KP5oEnTxCwEo\\u002fMQbobhVBSj9N+1214qNJP8PHIiTODUk\\u002f9xU0L4Z1SD\\u002fS93fw9MlHP4jOrFzpLEc\\u002fUvyVIjCcRj9X++WqCCxGP4WXW7GOD0Y\\u002fsecppiYFRj99Dtx8\\u002fRlGP3Q4s\\u002fHrTEY\\u002fkQx+7K\\u002faRj8qArKWVldHPxzSB+FV\\u002fkc\\u002ffYXwE+WqSD+XHUO\\u002fOkZJPxb7LJW93kk\\u002f5BPXgiRqSj9zbYT\\u002fxOJKP\\u002fYojyQe7ko\\u002fA9JAQl1+Sj8ucatCUIRJP7zrELZpXk0\\u002f\\u002fVLkgJTrSj+9bjGucq9HPyQvrXgfHkQ\\u002fYdqlEhKFQD\\u002f7s\\u002fkHEjk6P6pS2PM\\u002fCDQ\\u002f0uTH9PuALT\\u002fSD\\u002foWecEkP2aWEqANmhs\\u002fKGufKLOFET94UUxyKpIFP0BvabMX1vo+bb2HdxOE8z6uIefVzLn0Pk0WLFMiMf0+3e4eK4pXAz9FlWdrfY0JP4jph7HUEA8\\u002fooLKZYhDEz8p2hUm4egWP3jql5GsJxo\\u002fADN9N3pGHT9xTekflQggP1pgEM4iRyE\\u002fFNGhmNlyIj8tJ8rioLYjPxuUH43Q+yM\\u002fRbsyx4tCJD9D9vCFvFUkP5a+A1IB3SM\\u002fNBTYGbVdIz8vn1wbVhQiP0RtpJHe1iA\\u002fV\\u002f1zLGz2Hj\\u002f2tPu4nQMcP3y3NhtpBBk\\u002fd5mgidjPFT81w6\\u002fWWjoSP3OZAUWYLg4\\u002fFOGxCwPCBj8xMfKTJ0UBP7ODXIWMl\\u002fk+z55bFgZY9D42JTlpx630PqxODgBxDP4+ZsckYMs\\u002fCT+uxNl1oosUPztXuxXn\\u002fh8\\u002fVz\\u002fT9KRwJz8n7Misu2YwPyTMXdRuBzY\\u002f0mCM9pZ4PD8fIxkgUrlBP\\u002fjVwEErR0U\\u002f7mBD16zQSD\\u002fDwiLSC9dLP0OEHmKd+00\\u002fzQDeZnowTz+Ad4\\u002fI6IxPP4+lKCumV08\\u002fs5YVq7CTTj\\u002f99w\\u002fISIFNPzpJXPVSgEw\\u002frukAuIGRSz8kEquonp1KP5Ke9BgHvUk\\u002f7j3bYrL\\u002fSD+S\\u002fpcVBDtIP391roptxUc\\u002fQ+YcUOmHRz8uhj1iRo1HP0EyXjmDkEc\\u002fsr6BiuniRz9hbAS0NG5IP9IGOHZ4M0k\\u002fmwfYzNf5ST8c0EpwreFKP9ciKLTF4Us\\u002fAHLSTMnYTD\\u002f\\u002fewJLRutNP9w5UdWM304\\u002fU6gsoal4Tz+NG5m+jH5PP\\u002faIVtJu4k4\\u002fhV54YR3OUT9fnDUz1mVQPwVCQBl31kw\\u002fCDouseFSSD+MMEkVGuJDPw2G4+rqij8\\u002fuKVxYX0xOD+WqsIadfcxPxpvKvhaxyk\\u002fxPqpdyXBIT9An88AIlgXP7qYFdPToA0\\u002fXasbt8niAj+9LIxWThr7Pq4oT6LNYfg+acZMj6Mk+j4ZR8pCrDMCP+b7AElJQQY\\u002fc7tH2oZ1DD\\u002fCDduKwsYRPzGNJFeQnRQ\\u002fOtvHAJGyFz\\u002f7egf3MzsbPwi62lFEpB0\\u002fmgI+isNTID\\u002f5CJiY2z0hP0DXpKS3SCI\\u002fbA\\u002fnhWDIIj9\\u002fhGXoqRkjP90Y1jiLRCM\\u002f8KJdeOKIIj+OeQtrK\\u002fohP1O7Iv8M+CA\\u002fjux8sWrSHz\\u002fYe\\u002fjd5KQcP0\\u002fi8aGJPBo\\u002fIYiXiqckFz9cVINuVqoTP4WR4YpufhA\\u002f9GTW59vCCj\\u002fpJlDvbqMEPwh7rV4bPf8+hNAozS+D+T69SRNUyTX4PqHfkFo4B\\u002f0+dhapuMJzBT\\u002fDaItkKWQRP3smWBfF\\u002fxo\\u002fiTfdurxAJD\\u002f7O+36XfosP9Nlf8+e6TM\\u002fBcdY5ziJOj\\u002fMcVPZahdBP0kA5VagVUU\\u002fnzG5vE\\u002fgST8zWUmuB0dOP7ajM8ia7lA\\u002fg41lxdweUj\\u002fqCUr3EpFSP+N2tDVBcFI\\u002f2Ef\\u002fzHbtUT+F+fcxIjpRP0c20DErb1A\\u002fPRR96wFITz+PVK4W5utNPzbQV3lElEw\\u002fyrvyHptmSz9Ujm8y2n9KP7MGqmzrwkk\\u002f84lJrGUmST8S+1PSiOdIP88bNdJP20g\\u002fTCpffn\\u002feSD9AIJRhtlBJP6SkBF7O\\u002fEk\\u002f2ilSIpK9Sj8alUsZRc9LP9dHiqt7CE0\\u002fbgEJrx5kTj9Ik2QpadhPP8qm\\u002fEJKrlA\\u002fKRTZ3at\\u002fUT8DnyAQzSNSP0HD\\u002fFUJiVI\\u002fr6lySlN+Uj+q2YoY6npVPxgUAn0e0VM\\u002fv83htfFCUT+XTVxbNsRMP1wH2CN3JEc\\u002f2KbOWSQzQj\\u002fuYClv1do7P8\\u002fkA6LixzQ\\u002fYe2CV1sFLj+2Y0Lf9+ckP+FNccZuMhw\\u002f71qNye6XEj\\u002fcS7gdNSYIP6auR044EAE\\u002ffINORzLm+z6xYM9crFz8PoB0cAtl6wA\\u002f7AU8+ailBT+NJjNKGokKP2R9HBmMexA\\u002fYRnCwLOIEz8IIPELjnoWP\\u002f3qjtqVPBk\\u002fQE8gyhY+HD9XsoDRh\\u002f0eP+xPRfmdbSA\\u002f5qRs1NyTIT+t0e6wAgkiPxhVPTE4ICI\\u002fgCZBeIFQIj9jy5ss6a8hPywI9jA7TyE\\u002frDkzfkkoID\\u002fmYNwXdkgeP4gOPfEjbhs\\u002f1DJ8TmeKGD8kpv7oYYsVP7KwRTJ+gxI\\u002fg3SX\\u002fxPtDj8WRhdC\\u002fEcJP83sFhybcwM\\u002fVuPrtO5t\\u002fz57j\\u002fXp9aD6PmBMOLe8w\\u002fw+c54vkul5Aj82Sszc2FULPwRh\\u002f4geRxU\\u002fqlxFYuAgID+A+6RFM7cnP+JgAklJwzA\\u002ffWnsXYH2Nj8St9LsNY0+P4Fww\\u002fbawkM\\u002f5nzja2X1SD+pDDF1s7BOP9PoeZ2WK1I\\u002fn+4RUD99VD99lYQzVM5VPzPgOJJP7VU\\u002fDVeqbDdBVT9qHH8kiDtUP7rs6M2LG1M\\u002f1YLZXmn0UT9Rd7P6bPJQP6oguCra608\\u002fz2J2IYJRTj+a7vFDxO5MP6G6JfaA3Us\\u002fCC59tlvqSj8NeZX8K09KP\\u002ftcCCnb+kk\\u002fTcFZOlrrST+kOw7hMhZKP42JmtgOh0o\\u002fD05c5vxHSz\\u002fdP+ElYy9MP+ZBiIwAUE0\\u002fPDbmytnJTj9\\u002fsAYfoktQPw0VcsEKO1E\\u002fAstLZ4xUUj9vo7KFNXhTP00XCUTXnFQ\\u002fQOK\\u002fcYiMVT\\u002fRfwF0cwJWPx9Y7jHb4Fk\\u002f4wfHQuGvVz+NggbZ8S9UP7swkXs7e1A\\u002f3wkegJ0lSj8\\u002fl3buE0FEP5uC+C1u4T4\\u002fT8lTqqD+Nj83N4JZ96gwP2gD9r\\u002f+WCc\\u002fTLpY3G0DID+KeFHQYrwVPzuxnCkwdgw\\u002fw\\u002f75ouHcAz87ycdtX77\\u002fPm7MJLt2\\u002f\\u002fw+gE217DMXAT9P7pcVm9AEPwbMjoVnJwk\\u002fZDYhovSZDz8ILX7mKcYSP+TgjjBTuBU\\u002fkmEC6oCHGD\\u002fRN5KI5ikbP21rA90F1x0\\u002fjYluoYjzHz\\u002fKSD6eVQwhP6CpFhi1WCE\\u002fkluWx+LQIT9X6bpYse0hP8TuHFkcFiE\\u002fpIAXHXWeID8v95h1iEgfPwqfw7xmEx0\\u002fZjv\\u002f7ZOcGj9DuSgM2tcXP6YLIpmgjBQ\\u002fXYRZafPQET8k6SeyQioOPxHW+99Unwc\\u002fE\\u002fKG\\u002fJQ6Az83ti+0zBf\\u002fPv\\u002fvZKIM3P0+7cOeWUJFAD\\u002fFJgwscjUGPyF7eYqJPBA\\u002fQVhN72O+GD\\u002fp6A8GrkQiP5fMl\\u002fIdbSo\\u002f0LU\\u002f+hOjMj8WTqjfL245P+m1uLJX70A\\u002fJbnIyIUaRj9kBHx3xVFMP9qCGNNntVE\\u002fE4XtPfRsVT8uRMe\\u002fmJ1YPwGGwqEwIlo\\u002fJHiBaVyiWT+AZPLGBRJYPybvOM58U1Y\\u002fwQWKKiu0VD\\u002fDW4zyzEBTP3Q\\u002fqEDh9FE\\u002f+zOCedfCUD+sTsXS6adPP40qbSltFU4\\u002f7ZBMtF\\u002frTD+0ddzVjudLP9OiNbbcQUs\\u002fpYo3PcLVSj8bqWU6ctBKPzSjpfyo6Uo\\u002fHRdJSoR1Sz9zoWaQ0zVMP4X5obsCSk0\\u002fe39LPKqFTj+SrgeqVB9QP57Qcf9+JlE\\u002fKSkAShZYUj+jWThEybVTP4qfsR\\u002fDOFU\\u002fSDQ+4QfrVj87dJXoIKNYP1QacSvD+1k\\u002fEoy9kZ4kXz8MRjzle7pbP8+rw0ZlvFY\\u002fn5XYgHAcUj8cDRIzP09MP5exCk6OwkU\\u002fmrRSZtliQD+bNI42F1U4Pzb8xjjbszE\\u002fT52+oNMwKT+POs56K38hPxJ6sg+SqRc\\u002fEkx3ngWyDz9xz+ZMxiMGPwwuI8VwkQE\\u002fONNtg\\u002faT\\u002fz67xLiUAUABP\\u002fQYcezdrQQ\\u002fwJJc2ZOiCT+EuDUP8nAPP32UZAKceRI\\u002flKKjVTAhFT9m0o2DLPEXP\\u002fFADluVaRo\\u002fY+s4uE1DHT+\\u002f2FFF6yofP\\u002fFDO1CQyyA\\u002fOPygoAFbIT9vWcrQc5whP\\u002fIobBegjyE\\u002frxFPbl\\u002f8ID9fTw\\u002fKIlQgP+NkiJvJcB4\\u002fofmdJh66HD9Wrb+hxNIZP9F0CAppehc\\u002f+HRSX4HKFD\\u002f9DPkKPJARP3MCAEWIeA0\\u002fpiA6WuP0Bz8oaogQ8yYDPz2vkgl4mAA\\u002fxZi32nXk\\u002fz6MVwQb0OcCP46wrXTreQg\\u002f2gUzR5JAEj8u7iSt3gcbP8MIwT1O4SM\\u002fSu\\u002f6hYNbLD824L8YX7ozP3tlgSld+jo\\u002fk1a7As8LQj+JFf3wqspHP4M6ZO5QyU4\\u002floyu8Q+VUz8tf+DBK2VYP500DJNlQF0\\u002fLrKd2bc+Xz8mSwT9yS1dP3OdlAA5X1o\\u002fA9Nu5xzhVz9Xd\\u002fGQ\\u002fc5VP0bkIFcnIFQ\\u002fjY+y1WeXUj9RC489\\u002fkxRP+x6v7apR1A\\u002ffDigrqHMTj\\u002f4jRZzsI9NP5YmhiqIf0w\\u002fzo3c0EHPSz+mgG+zuWZLP820+Fc2UEs\\u002fATjJgn57Sz8F0LuLOQlMP3EKwcWw20w\\u002fhZtfa3LuTT8kZ\\u002fYhc1dPP62CUiWTjVA\\u002fBYRXWNytUT9k\\u002fH+s2xdTP1w5ylMToVQ\\u002frNPZi6JzVj8zcdw116xYP3PdO36gTFs\\u002f7Y5wB2gVXj8=\",\"shape\":\"49, 85\"},\"zsmooth\":false,\"type\":\"heatmap\"},{\"meta\":{},\"mode\":\"lines\",\"name\":\"Unit cell\",\"x\":{\"dtype\":\"f8\",\"bdata\":\"AAAAAAAAAAAAAAAAAAAAAArXo3A9ChFACtejcD0KEUAAAAAAAAAAAAAAAAAAAAAAAAAAAAAA+H8AAAAAAAAAAAAAAAAAAAAAAAAAAAAAAAAK16NwPQoRQArXo3A9ChFAAAAAAAAAAAAAAAAAAAD4fwrXo3A9ChFACtejcD0KEUAAAAAAAAD4fwrXo3A9ChFACtejcD0KEUA=\"},\"y\":{\"dtype\":\"f8\",\"bdata\":\"AAAAAAAAAAAxLFO0FK0DQDEsU7QUrQNAMSxTtBStA0AxLFO0FK0DQDEsU7QUrQNAAAAAAAAA+H8xLFO0FK0DQAAAAAAAAAAAAAAAAAAAAAAAAAAAAAAAAAAAAAAAAAAAAAAAAAAAAAAAAAAAAAD4fzEsU7QUrQNAAAAAAAAAAAAAAAAAAAD4fzEsU7QUrQNAAAAAAAAAAAA=\"},\"type\":\"scatter\"}],                        {\"template\":{\"layout\":{\"hovermode\":\"closest\",\"paper_bgcolor\":\"white\",\"plot_bgcolor\":\"white\",\"scene\":{\"xaxis\":{\"color\":\"black\",\"gridcolor\":\"#ccc\",\"gridwidth\":1,\"linewidth\":1,\"mirror\":true,\"showgrid\":false,\"showline\":true,\"ticklen\":5,\"ticks\":\"outside\",\"ticksuffix\":\" \",\"visible\":true,\"zeroline\":false,\"zerolinecolor\":\"#ccc\",\"zerolinewidth\":1},\"yaxis\":{\"color\":\"black\",\"gridcolor\":\"#ccc\",\"gridwidth\":1,\"linewidth\":1,\"mirror\":true,\"showgrid\":false,\"showline\":true,\"ticklen\":5,\"ticks\":\"outside\",\"ticksuffix\":\" \",\"visible\":true,\"zeroline\":false,\"zerolinecolor\":\"#ccc\",\"zerolinewidth\":1},\"zaxis\":{\"color\":\"black\",\"gridcolor\":\"#ccc\",\"gridwidth\":1,\"linewidth\":1,\"mirror\":true,\"showgrid\":false,\"showline\":true,\"ticklen\":5,\"ticks\":\"outside\",\"ticksuffix\":\" \",\"visible\":true,\"zeroline\":false,\"zerolinecolor\":\"#ccc\",\"zerolinewidth\":1}},\"xaxis\":{\"color\":\"black\",\"gridcolor\":\"#ccc\",\"gridwidth\":1,\"linewidth\":1,\"mirror\":true,\"showgrid\":false,\"showline\":true,\"ticklen\":5,\"ticks\":\"outside\",\"ticksuffix\":\" \",\"visible\":true,\"zeroline\":false,\"zerolinecolor\":\"#ccc\",\"zerolinewidth\":1},\"yaxis\":{\"color\":\"black\",\"gridcolor\":\"#ccc\",\"gridwidth\":1,\"linewidth\":1,\"mirror\":true,\"showgrid\":false,\"showline\":true,\"ticklen\":5,\"ticks\":\"outside\",\"ticksuffix\":\" \",\"visible\":true,\"zeroline\":false,\"zerolinecolor\":\"#ccc\",\"zerolinewidth\":1}}},\"coloraxis\":{\"showscale\":true},\"xaxis\":{\"scaleanchor\":\"y\",\"scaleratio\":1,\"title\":{\"text\":\"X axis [Ang]\"}},\"scene\":{\"aspectmode\":\"data\",\"xaxis\":{\"title\":{\"text\":\"X axis [Ang]\"}},\"yaxis\":{\"title\":{\"text\":\"Y axis [Ang]\"}}},\"yaxis\":{\"title\":{\"text\":\"Y axis [Ang]\"}}},                        {\"responsive\": true}                    ).then(function(){\n",
       "                            \n",
       "var gd = document.getElementById('4d7572cb-455a-42c1-8fbd-b54de1b14a1f');\n",
       "var x = new MutationObserver(function (mutations, observer) {{\n",
       "        var display = window.getComputedStyle(gd).display;\n",
       "        if (!display || display === 'none') {{\n",
       "            console.log([gd, 'removed!']);\n",
       "            Plotly.purge(gd);\n",
       "            observer.disconnect();\n",
       "        }}\n",
       "}});\n",
       "\n",
       "// Listen for the removal of the full notebook cells\n",
       "var notebookContainer = gd.closest('#notebook-container');\n",
       "if (notebookContainer) {{\n",
       "    x.observe(notebookContainer, {childList: true});\n",
       "}}\n",
       "\n",
       "// Listen for the clearing of the current output cell\n",
       "var outputEl = gd.closest('.output');\n",
       "if (outputEl) {{\n",
       "    x.observe(outputEl, {childList: true});\n",
       "}}\n",
       "\n",
       "                        })                };            </script>        </div>"
      ]
     },
     "metadata": {},
     "output_type": "display_data"
    }
   ],
   "source": [
    "plot.update_inputs(grid_prec=0.05)"
   ]
  },
  {
   "cell_type": "markdown",
   "metadata": {},
   "source": [
    "Much better, isn't it? Notice how it didn't look that bad in 3d, because the grid is smooth, so it's values are nicely interpolated. You can also appreciate this by setting `smooth` to `True` in 2D, which does an \"OK job\" at guessing the values."
   ]
  },
  {
   "cell_type": "code",
   "execution_count": 7,
   "metadata": {
    "execution": {
     "iopub.execute_input": "2025-10-08T13:17:43.517291Z",
     "iopub.status.busy": "2025-10-08T13:17:43.517112Z",
     "iopub.status.idle": "2025-10-08T13:17:43.781802Z",
     "shell.execute_reply": "2025-10-08T13:17:43.781155Z"
    }
   },
   "outputs": [
    {
     "name": "stderr",
     "output_type": "stream",
     "text": [
      "INFO\tTask(Task-2) nodify.node.139728169622496:node.py:get()- No need to evaluate\n"
     ]
    },
    {
     "name": "stderr",
     "output_type": "stream",
     "text": [
      "INFO\tTask(Task-2) nodify.node.139728169514192:node.py:get()- No need to evaluate\n"
     ]
    },
    {
     "name": "stderr",
     "output_type": "stream",
     "text": [
      "INFO\tTask(Task-2) nodify.node.139728169514720:node.py:get()- No need to evaluate\n"
     ]
    },
    {
     "name": "stderr",
     "output_type": "stream",
     "text": [
      "INFO\tTask(Task-2) nodify.node.139728210345568:node.py:get()- No need to evaluate\n"
     ]
    },
    {
     "name": "stderr",
     "output_type": "stream",
     "text": [
      "INFO\tTask(Task-2) nodify.node.139728169515104:node.py:get()- Evaluated because inputs changed.\n"
     ]
    },
    {
     "name": "stderr",
     "output_type": "stream",
     "text": [
      "INFO\tTask(Task-2) nodify.node.139728169515728:node.py:get()- No need to evaluate\n"
     ]
    },
    {
     "name": "stderr",
     "output_type": "stream",
     "text": [
      "INFO\tTask(Task-2) nodify.node.139728169514192:node.py:get()- No need to evaluate\n"
     ]
    },
    {
     "name": "stderr",
     "output_type": "stream",
     "text": [
      "INFO\tTask(Task-2) nodify.node.139728169514912:node.py:get()- No need to evaluate\n"
     ]
    },
    {
     "name": "stderr",
     "output_type": "stream",
     "text": [
      "INFO\tTask(Task-2) nodify.node.139728169624224:node.py:get()- No need to evaluate\n"
     ]
    },
    {
     "name": "stderr",
     "output_type": "stream",
     "text": [
      "INFO\tTask(Task-2) nodify.node.139728169616880:node.py:get()- No need to evaluate\n"
     ]
    },
    {
     "name": "stderr",
     "output_type": "stream",
     "text": [
      "INFO\tTask(Task-2) nodify.node.139728169514192:node.py:get()- No need to evaluate\n"
     ]
    },
    {
     "name": "stderr",
     "output_type": "stream",
     "text": [
      "INFO\tTask(Task-2) nodify.node.139728169514720:node.py:get()- No need to evaluate\n"
     ]
    },
    {
     "name": "stderr",
     "output_type": "stream",
     "text": [
      "INFO\tTask(Task-2) nodify.node.139728210345568:node.py:get()- No need to evaluate\n"
     ]
    },
    {
     "name": "stderr",
     "output_type": "stream",
     "text": [
      "INFO\tTask(Task-2) nodify.node.139728169623984:node.py:get()- No need to evaluate\n"
     ]
    },
    {
     "name": "stderr",
     "output_type": "stream",
     "text": [
      "INFO\tTask(Task-2) nodify.node.139728169624368:node.py:get()- Evaluated because inputs changed.\n"
     ]
    },
    {
     "name": "stderr",
     "output_type": "stream",
     "text": [
      "INFO\tTask(Task-2) nodify.node.139728169516544:node.py:get()- No need to evaluate\n"
     ]
    },
    {
     "name": "stderr",
     "output_type": "stream",
     "text": [
      "INFO\tTask(Task-2) nodify.node.139728169624992:node.py:get()- Evaluated because inputs changed.\n"
     ]
    },
    {
     "name": "stderr",
     "output_type": "stream",
     "text": [
      "INFO\tTask(Task-2) nodify.node.139728169616880:node.py:get()- No need to evaluate\n"
     ]
    },
    {
     "name": "stderr",
     "output_type": "stream",
     "text": [
      "INFO\tTask(Task-2) nodify.node.139728169514192:node.py:get()- No need to evaluate\n"
     ]
    },
    {
     "name": "stderr",
     "output_type": "stream",
     "text": [
      "INFO\tTask(Task-2) nodify.node.139728169514720:node.py:get()- No need to evaluate\n"
     ]
    },
    {
     "name": "stderr",
     "output_type": "stream",
     "text": [
      "INFO\tTask(Task-2) nodify.node.139728210345568:node.py:get()- No need to evaluate\n"
     ]
    },
    {
     "name": "stderr",
     "output_type": "stream",
     "text": [
      "INFO\tTask(Task-2) nodify.node.139728207155120:node.py:get()- No need to evaluate\n"
     ]
    },
    {
     "name": "stderr",
     "output_type": "stream",
     "text": [
      "INFO\tTask(Task-2) nodify.node.139728206969264:node.py:get()- Evaluated because inputs changed.\n"
     ]
    },
    {
     "name": "stderr",
     "output_type": "stream",
     "text": [
      "INFO\tTask(Task-2) nodify.node.139728169516112:node.py:get()- No need to evaluate\n"
     ]
    },
    {
     "name": "stderr",
     "output_type": "stream",
     "text": [
      "INFO\tTask(Task-2) nodify.node.139728169626192:node.py:get()- No need to evaluate\n"
     ]
    },
    {
     "name": "stderr",
     "output_type": "stream",
     "text": [
      "INFO\tTask(Task-2) nodify.node.139728169616208:node.py:get()- No need to evaluate\n"
     ]
    },
    {
     "name": "stderr",
     "output_type": "stream",
     "text": [
      "INFO\tTask(Task-2) nodify.node.139728169512992:node.py:get()- Evaluated because inputs changed.\n"
     ]
    },
    {
     "name": "stderr",
     "output_type": "stream",
     "text": [
      "INFO\tTask(Task-2) nodify.node.139728169615440:node.py:get()- No need to evaluate\n"
     ]
    },
    {
     "name": "stderr",
     "output_type": "stream",
     "text": [
      "INFO\tTask(Task-2) nodify.node.139728207585664:node.py:get()- Evaluated because inputs changed.\n"
     ]
    },
    {
     "name": "stderr",
     "output_type": "stream",
     "text": [
      "INFO\tTask(Task-2) nodify.node.139728169620576:node.py:get()- No need to evaluate\n"
     ]
    },
    {
     "name": "stderr",
     "output_type": "stream",
     "text": [
      "INFO\tTask(Task-2) nodify.node.139728169620960:node.py:get()- No need to evaluate\n"
     ]
    },
    {
     "name": "stderr",
     "output_type": "stream",
     "text": [
      "INFO\tTask(Task-2) nodify.node.139728169621344:node.py:get()- No need to evaluate\n"
     ]
    },
    {
     "name": "stderr",
     "output_type": "stream",
     "text": [
      "INFO\tTask(Task-2) nodify.node.139728169627200:node.py:get()- Evaluated because inputs changed.\n"
     ]
    },
    {
     "name": "stderr",
     "output_type": "stream",
     "text": [
      "INFO\tTask(Task-2) nodify.node.139728169615824:node.py:get()- No need to evaluate\n"
     ]
    },
    {
     "name": "stderr",
     "output_type": "stream",
     "text": [
      "INFO\tTask(Task-2) nodify.node.139728169514192:node.py:get()- No need to evaluate\n"
     ]
    },
    {
     "name": "stderr",
     "output_type": "stream",
     "text": [
      "INFO\tTask(Task-2) nodify.node.139728169514720:node.py:get()- No need to evaluate\n"
     ]
    },
    {
     "name": "stderr",
     "output_type": "stream",
     "text": [
      "INFO\tTask(Task-2) nodify.node.139728210345568:node.py:get()- No need to evaluate\n"
     ]
    },
    {
     "name": "stderr",
     "output_type": "stream",
     "text": [
      "INFO\tTask(Task-2) nodify.node.139728169515104:node.py:get()- No need to evaluate\n"
     ]
    },
    {
     "name": "stderr",
     "output_type": "stream",
     "text": [
      "INFO\tTask(Task-2) nodify.node.139728169515728:node.py:get()- No need to evaluate\n"
     ]
    },
    {
     "name": "stderr",
     "output_type": "stream",
     "text": [
      "INFO\tTask(Task-2) nodify.node.139728169514192:node.py:get()- No need to evaluate\n"
     ]
    },
    {
     "name": "stderr",
     "output_type": "stream",
     "text": [
      "INFO\tTask(Task-2) nodify.node.139728169514912:node.py:get()- No need to evaluate\n"
     ]
    },
    {
     "name": "stderr",
     "output_type": "stream",
     "text": [
      "INFO\tTask(Task-2) nodify.node.139728169624224:node.py:get()- No need to evaluate\n"
     ]
    },
    {
     "name": "stderr",
     "output_type": "stream",
     "text": [
      "INFO\tTask(Task-2) nodify.node.139728169616880:node.py:get()- No need to evaluate\n"
     ]
    },
    {
     "name": "stderr",
     "output_type": "stream",
     "text": [
      "INFO\tTask(Task-2) nodify.node.139728169514192:node.py:get()- No need to evaluate\n"
     ]
    },
    {
     "name": "stderr",
     "output_type": "stream",
     "text": [
      "INFO\tTask(Task-2) nodify.node.139728169514720:node.py:get()- No need to evaluate\n"
     ]
    },
    {
     "name": "stderr",
     "output_type": "stream",
     "text": [
      "INFO\tTask(Task-2) nodify.node.139728210345568:node.py:get()- No need to evaluate\n"
     ]
    },
    {
     "name": "stderr",
     "output_type": "stream",
     "text": [
      "INFO\tTask(Task-2) nodify.node.139728169623984:node.py:get()- No need to evaluate\n"
     ]
    },
    {
     "name": "stderr",
     "output_type": "stream",
     "text": [
      "INFO\tTask(Task-2) nodify.node.139728169624368:node.py:get()- No need to evaluate\n"
     ]
    },
    {
     "name": "stderr",
     "output_type": "stream",
     "text": [
      "INFO\tTask(Task-2) nodify.node.139728169516544:node.py:get()- No need to evaluate\n"
     ]
    },
    {
     "name": "stderr",
     "output_type": "stream",
     "text": [
      "INFO\tTask(Task-2) nodify.node.139728169624992:node.py:get()- No need to evaluate\n"
     ]
    },
    {
     "name": "stderr",
     "output_type": "stream",
     "text": [
      "INFO\tTask(Task-2) nodify.node.139728169616880:node.py:get()- No need to evaluate\n"
     ]
    },
    {
     "name": "stderr",
     "output_type": "stream",
     "text": [
      "INFO\tTask(Task-2) nodify.node.139728169514192:node.py:get()- No need to evaluate\n"
     ]
    },
    {
     "name": "stderr",
     "output_type": "stream",
     "text": [
      "INFO\tTask(Task-2) nodify.node.139728169514720:node.py:get()- No need to evaluate\n"
     ]
    },
    {
     "name": "stderr",
     "output_type": "stream",
     "text": [
      "INFO\tTask(Task-2) nodify.node.139728210345568:node.py:get()- No need to evaluate\n"
     ]
    },
    {
     "name": "stderr",
     "output_type": "stream",
     "text": [
      "INFO\tTask(Task-2) nodify.node.139728207155120:node.py:get()- No need to evaluate\n"
     ]
    },
    {
     "name": "stderr",
     "output_type": "stream",
     "text": [
      "INFO\tTask(Task-2) nodify.node.139728206969264:node.py:get()- No need to evaluate\n"
     ]
    },
    {
     "name": "stderr",
     "output_type": "stream",
     "text": [
      "INFO\tTask(Task-2) nodify.node.139728169516112:node.py:get()- No need to evaluate\n"
     ]
    },
    {
     "name": "stderr",
     "output_type": "stream",
     "text": [
      "INFO\tTask(Task-2) nodify.node.139728169626192:node.py:get()- No need to evaluate\n"
     ]
    },
    {
     "name": "stderr",
     "output_type": "stream",
     "text": [
      "INFO\tTask(Task-2) nodify.node.139728169616208:node.py:get()- No need to evaluate\n"
     ]
    },
    {
     "name": "stderr",
     "output_type": "stream",
     "text": [
      "INFO\tTask(Task-2) nodify.node.139728169512992:node.py:get()- No need to evaluate\n"
     ]
    },
    {
     "name": "stderr",
     "output_type": "stream",
     "text": [
      "INFO\tTask(Task-2) nodify.node.139728169516112:node.py:get()- No need to evaluate\n"
     ]
    },
    {
     "name": "stderr",
     "output_type": "stream",
     "text": [
      "INFO\tTask(Task-2) nodify.node.139728169626192:node.py:get()- No need to evaluate\n"
     ]
    },
    {
     "name": "stderr",
     "output_type": "stream",
     "text": [
      "INFO\tTask(Task-2) nodify.node.139728171613792:node.py:get()- Evaluated because inputs changed.\n"
     ]
    },
    {
     "name": "stderr",
     "output_type": "stream",
     "text": [
      "INFO\tTask(Task-2) nodify.node.139728169627008:node.py:get()- Evaluated because inputs changed.\n"
     ]
    },
    {
     "name": "stderr",
     "output_type": "stream",
     "text": [
      "INFO\tTask(Task-2) nodify.node.139728169617408:node.py:get()- No need to evaluate\n"
     ]
    },
    {
     "name": "stderr",
     "output_type": "stream",
     "text": [
      "INFO\tTask(Task-2) nodify.node.139728169627344:node.py:get()- Evaluated because inputs changed.\n"
     ]
    },
    {
     "name": "stderr",
     "output_type": "stream",
     "text": [
      "INFO\tTask(Task-2) nodify.node.139728169516112:node.py:get()- No need to evaluate\n"
     ]
    },
    {
     "name": "stderr",
     "output_type": "stream",
     "text": [
      "INFO\tTask(Task-2) nodify.node.139728169626192:node.py:get()- No need to evaluate\n"
     ]
    },
    {
     "name": "stderr",
     "output_type": "stream",
     "text": [
      "INFO\tTask(Task-2) nodify.node.139728169514192:node.py:get()- No need to evaluate\n"
     ]
    },
    {
     "name": "stderr",
     "output_type": "stream",
     "text": [
      "INFO\tTask(Task-2) nodify.node.139728169514720:node.py:get()- No need to evaluate\n"
     ]
    },
    {
     "name": "stderr",
     "output_type": "stream",
     "text": [
      "INFO\tTask(Task-2) nodify.node.139728210345568:node.py:get()- No need to evaluate\n"
     ]
    },
    {
     "name": "stderr",
     "output_type": "stream",
     "text": [
      "INFO\tTask(Task-2) nodify.node.139728169515104:node.py:get()- No need to evaluate\n"
     ]
    },
    {
     "name": "stderr",
     "output_type": "stream",
     "text": [
      "INFO\tTask(Task-2) nodify.node.139728169515728:node.py:get()- No need to evaluate\n"
     ]
    },
    {
     "name": "stderr",
     "output_type": "stream",
     "text": [
      "INFO\tTask(Task-2) nodify.node.139728169514192:node.py:get()- No need to evaluate\n"
     ]
    },
    {
     "name": "stderr",
     "output_type": "stream",
     "text": [
      "INFO\tTask(Task-2) nodify.node.139728169514912:node.py:get()- No need to evaluate\n"
     ]
    },
    {
     "name": "stderr",
     "output_type": "stream",
     "text": [
      "INFO\tTask(Task-2) nodify.node.139728169624224:node.py:get()- No need to evaluate\n"
     ]
    },
    {
     "name": "stderr",
     "output_type": "stream",
     "text": [
      "INFO\tTask(Task-2) nodify.node.139728169616880:node.py:get()- No need to evaluate\n"
     ]
    },
    {
     "name": "stderr",
     "output_type": "stream",
     "text": [
      "INFO\tTask(Task-2) nodify.node.139728169514192:node.py:get()- No need to evaluate\n"
     ]
    },
    {
     "name": "stderr",
     "output_type": "stream",
     "text": [
      "INFO\tTask(Task-2) nodify.node.139728169514720:node.py:get()- No need to evaluate\n"
     ]
    },
    {
     "name": "stderr",
     "output_type": "stream",
     "text": [
      "INFO\tTask(Task-2) nodify.node.139728210345568:node.py:get()- No need to evaluate\n"
     ]
    },
    {
     "name": "stderr",
     "output_type": "stream",
     "text": [
      "INFO\tTask(Task-2) nodify.node.139728169623984:node.py:get()- No need to evaluate\n"
     ]
    },
    {
     "name": "stderr",
     "output_type": "stream",
     "text": [
      "INFO\tTask(Task-2) nodify.node.139728169624368:node.py:get()- No need to evaluate\n"
     ]
    },
    {
     "name": "stderr",
     "output_type": "stream",
     "text": [
      "INFO\tTask(Task-2) nodify.node.139728169516544:node.py:get()- No need to evaluate\n"
     ]
    },
    {
     "name": "stderr",
     "output_type": "stream",
     "text": [
      "INFO\tTask(Task-2) nodify.node.139728169624992:node.py:get()- No need to evaluate\n"
     ]
    },
    {
     "name": "stderr",
     "output_type": "stream",
     "text": [
      "INFO\tTask(Task-2) nodify.node.139728169616880:node.py:get()- No need to evaluate\n"
     ]
    },
    {
     "name": "stderr",
     "output_type": "stream",
     "text": [
      "INFO\tTask(Task-2) nodify.node.139728169514192:node.py:get()- No need to evaluate\n"
     ]
    },
    {
     "name": "stderr",
     "output_type": "stream",
     "text": [
      "INFO\tTask(Task-2) nodify.node.139728169514720:node.py:get()- No need to evaluate\n"
     ]
    },
    {
     "name": "stderr",
     "output_type": "stream",
     "text": [
      "INFO\tTask(Task-2) nodify.node.139728210345568:node.py:get()- No need to evaluate\n"
     ]
    },
    {
     "name": "stderr",
     "output_type": "stream",
     "text": [
      "INFO\tTask(Task-2) nodify.node.139728207155120:node.py:get()- No need to evaluate\n"
     ]
    },
    {
     "name": "stderr",
     "output_type": "stream",
     "text": [
      "INFO\tTask(Task-2) nodify.node.139728206969264:node.py:get()- No need to evaluate\n"
     ]
    },
    {
     "name": "stderr",
     "output_type": "stream",
     "text": [
      "INFO\tTask(Task-2) nodify.node.139728169516112:node.py:get()- No need to evaluate\n"
     ]
    },
    {
     "name": "stderr",
     "output_type": "stream",
     "text": [
      "INFO\tTask(Task-2) nodify.node.139728169626192:node.py:get()- No need to evaluate\n"
     ]
    },
    {
     "name": "stderr",
     "output_type": "stream",
     "text": [
      "INFO\tTask(Task-2) nodify.node.139728169616208:node.py:get()- No need to evaluate\n"
     ]
    },
    {
     "name": "stderr",
     "output_type": "stream",
     "text": [
      "INFO\tTask(Task-2) nodify.node.139728169512992:node.py:get()- No need to evaluate\n"
     ]
    },
    {
     "name": "stderr",
     "output_type": "stream",
     "text": [
      "INFO\tTask(Task-2) nodify.node.139728169516112:node.py:get()- No need to evaluate\n"
     ]
    },
    {
     "name": "stderr",
     "output_type": "stream",
     "text": [
      "INFO\tTask(Task-2) nodify.node.139728169626192:node.py:get()- No need to evaluate\n"
     ]
    },
    {
     "name": "stderr",
     "output_type": "stream",
     "text": [
      "INFO\tTask(Task-2) nodify.node.139728171613792:node.py:get()- No need to evaluate\n"
     ]
    },
    {
     "name": "stderr",
     "output_type": "stream",
     "text": [
      "INFO\tTask(Task-2) nodify.node.139728169616880:node.py:get()- No need to evaluate\n"
     ]
    },
    {
     "name": "stderr",
     "output_type": "stream",
     "text": [
      "INFO\tTask(Task-2) nodify.node.139728169514192:node.py:get()- No need to evaluate\n"
     ]
    },
    {
     "name": "stderr",
     "output_type": "stream",
     "text": [
      "INFO\tTask(Task-2) nodify.node.139728169514720:node.py:get()- No need to evaluate\n"
     ]
    },
    {
     "name": "stderr",
     "output_type": "stream",
     "text": [
      "INFO\tTask(Task-2) nodify.node.139728210345568:node.py:get()- No need to evaluate\n"
     ]
    },
    {
     "name": "stderr",
     "output_type": "stream",
     "text": [
      "INFO\tTask(Task-2) nodify.node.139728207155120:node.py:get()- No need to evaluate\n"
     ]
    },
    {
     "name": "stderr",
     "output_type": "stream",
     "text": [
      "INFO\tTask(Task-2) nodify.node.139728169628256:node.py:get()- Evaluated because inputs changed.\n"
     ]
    },
    {
     "name": "stderr",
     "output_type": "stream",
     "text": [
      "INFO\tTask(Task-2) nodify.node.139728169617792:node.py:get()- No need to evaluate\n"
     ]
    },
    {
     "name": "stderr",
     "output_type": "stream",
     "text": [
      "INFO\tTask(Task-2) nodify.node.139728169507712:node.py:get()- No need to evaluate\n"
     ]
    },
    {
     "name": "stderr",
     "output_type": "stream",
     "text": [
      "INFO\tTask(Task-2) nodify.node.139728169512128:node.py:get()- No need to evaluate\n"
     ]
    },
    {
     "name": "stderr",
     "output_type": "stream",
     "text": [
      "INFO\tTask(Task-2) nodify.node.139728169619424:node.py:get()- No need to evaluate\n"
     ]
    },
    {
     "name": "stderr",
     "output_type": "stream",
     "text": [
      "INFO\tTask(Task-2) nodify.node.139728169618176:node.py:get()- Evaluated because inputs changed.\n"
     ]
    },
    {
     "name": "stderr",
     "output_type": "stream",
     "text": [
      "INFO\tTask(Task-2) nodify.node.139728169628544:node.py:get()- Evaluated because inputs changed.\n"
     ]
    },
    {
     "name": "stderr",
     "output_type": "stream",
     "text": [
      "INFO\tTask(Task-2) nodify.node.139728169514192:node.py:get()- No need to evaluate\n"
     ]
    },
    {
     "name": "stderr",
     "output_type": "stream",
     "text": [
      "INFO\tTask(Task-2) nodify.node.139728169514720:node.py:get()- No need to evaluate\n"
     ]
    },
    {
     "name": "stderr",
     "output_type": "stream",
     "text": [
      "INFO\tTask(Task-2) nodify.node.139728210345568:node.py:get()- No need to evaluate\n"
     ]
    },
    {
     "name": "stderr",
     "output_type": "stream",
     "text": [
      "INFO\tTask(Task-2) nodify.node.139728169515104:node.py:get()- No need to evaluate\n"
     ]
    },
    {
     "name": "stderr",
     "output_type": "stream",
     "text": [
      "INFO\tTask(Task-2) nodify.node.139728169515728:node.py:get()- No need to evaluate\n"
     ]
    },
    {
     "name": "stderr",
     "output_type": "stream",
     "text": [
      "INFO\tTask(Task-2) nodify.node.139728169514192:node.py:get()- No need to evaluate\n"
     ]
    },
    {
     "name": "stderr",
     "output_type": "stream",
     "text": [
      "INFO\tTask(Task-2) nodify.node.139728169514912:node.py:get()- No need to evaluate\n"
     ]
    },
    {
     "name": "stderr",
     "output_type": "stream",
     "text": [
      "INFO\tTask(Task-2) nodify.node.139728169624224:node.py:get()- No need to evaluate\n"
     ]
    },
    {
     "name": "stderr",
     "output_type": "stream",
     "text": [
      "INFO\tTask(Task-2) nodify.node.139728169616880:node.py:get()- No need to evaluate\n"
     ]
    },
    {
     "name": "stderr",
     "output_type": "stream",
     "text": [
      "INFO\tTask(Task-2) nodify.node.139728169514192:node.py:get()- No need to evaluate\n"
     ]
    },
    {
     "name": "stderr",
     "output_type": "stream",
     "text": [
      "INFO\tTask(Task-2) nodify.node.139728169514720:node.py:get()- No need to evaluate\n"
     ]
    },
    {
     "name": "stderr",
     "output_type": "stream",
     "text": [
      "INFO\tTask(Task-2) nodify.node.139728210345568:node.py:get()- No need to evaluate\n"
     ]
    },
    {
     "name": "stderr",
     "output_type": "stream",
     "text": [
      "INFO\tTask(Task-2) nodify.node.139728169623984:node.py:get()- No need to evaluate\n"
     ]
    },
    {
     "name": "stderr",
     "output_type": "stream",
     "text": [
      "INFO\tTask(Task-2) nodify.node.139728169624368:node.py:get()- No need to evaluate\n"
     ]
    },
    {
     "name": "stderr",
     "output_type": "stream",
     "text": [
      "INFO\tTask(Task-2) nodify.node.139728169619808:node.py:get()- No need to evaluate\n"
     ]
    },
    {
     "name": "stderr",
     "output_type": "stream",
     "text": [
      "INFO\tTask(Task-2) nodify.node.139728169516112:node.py:get()- No need to evaluate\n"
     ]
    },
    {
     "name": "stderr",
     "output_type": "stream",
     "text": [
      "INFO\tTask(Task-2) nodify.node.139728169626192:node.py:get()- No need to evaluate\n"
     ]
    },
    {
     "name": "stderr",
     "output_type": "stream",
     "text": [
      "INFO\tTask(Task-2) nodify.node.139728169620192:node.py:get()- No need to evaluate\n"
     ]
    },
    {
     "name": "stderr",
     "output_type": "stream",
     "text": [
      "INFO\tTask(Task-2) nodify.node.139728169629408:node.py:get()- Evaluated because inputs changed.\n"
     ]
    },
    {
     "name": "stderr",
     "output_type": "stream",
     "text": [
      "INFO\tTask(Task-2) nodify.node.139728169621728:node.py:get()- No need to evaluate\n"
     ]
    },
    {
     "name": "stderr",
     "output_type": "stream",
     "text": [
      "INFO\tTask(Task-2) nodify.node.139728169514192:node.py:get()- No need to evaluate\n"
     ]
    },
    {
     "name": "stderr",
     "output_type": "stream",
     "text": [
      "INFO\tTask(Task-2) nodify.node.139728169514912:node.py:get()- No need to evaluate\n"
     ]
    },
    {
     "name": "stderr",
     "output_type": "stream",
     "text": [
      "INFO\tTask(Task-2) nodify.node.139728169624224:node.py:get()- No need to evaluate\n"
     ]
    },
    {
     "name": "stderr",
     "output_type": "stream",
     "text": [
      "INFO\tTask(Task-2) nodify.node.139728169616880:node.py:get()- No need to evaluate\n"
     ]
    },
    {
     "name": "stderr",
     "output_type": "stream",
     "text": [
      "INFO\tTask(Task-2) nodify.node.139728169514192:node.py:get()- No need to evaluate\n"
     ]
    },
    {
     "name": "stderr",
     "output_type": "stream",
     "text": [
      "INFO\tTask(Task-2) nodify.node.139728169514720:node.py:get()- No need to evaluate\n"
     ]
    },
    {
     "name": "stderr",
     "output_type": "stream",
     "text": [
      "INFO\tTask(Task-2) nodify.node.139728210345568:node.py:get()- No need to evaluate\n"
     ]
    },
    {
     "name": "stderr",
     "output_type": "stream",
     "text": [
      "INFO\tTask(Task-2) nodify.node.139728169623984:node.py:get()- No need to evaluate\n"
     ]
    },
    {
     "name": "stderr",
     "output_type": "stream",
     "text": [
      "INFO\tTask(Task-2) nodify.node.139728169516112:node.py:get()- No need to evaluate\n"
     ]
    },
    {
     "name": "stderr",
     "output_type": "stream",
     "text": [
      "INFO\tTask(Task-2) nodify.node.139728169626192:node.py:get()- No need to evaluate\n"
     ]
    },
    {
     "name": "stderr",
     "output_type": "stream",
     "text": [
      "INFO\tTask(Task-2) nodify.node.139728169616880:node.py:get()- No need to evaluate\n"
     ]
    },
    {
     "name": "stderr",
     "output_type": "stream",
     "text": [
      "INFO\tTask(Task-2) nodify.node.139728169514192:node.py:get()- No need to evaluate\n"
     ]
    },
    {
     "name": "stderr",
     "output_type": "stream",
     "text": [
      "INFO\tTask(Task-2) nodify.node.139728169514720:node.py:get()- No need to evaluate\n"
     ]
    },
    {
     "name": "stderr",
     "output_type": "stream",
     "text": [
      "INFO\tTask(Task-2) nodify.node.139728210345568:node.py:get()- No need to evaluate\n"
     ]
    },
    {
     "name": "stderr",
     "output_type": "stream",
     "text": [
      "INFO\tTask(Task-2) nodify.node.139728207155120:node.py:get()- No need to evaluate\n"
     ]
    },
    {
     "name": "stderr",
     "output_type": "stream",
     "text": [
      "INFO\tTask(Task-2) nodify.node.139728169622112:node.py:get()- No need to evaluate\n"
     ]
    },
    {
     "name": "stderr",
     "output_type": "stream",
     "text": [
      "INFO\tTask(Task-2) nodify.node.139728172587088:node.py:get()- No need to evaluate\n"
     ]
    },
    {
     "name": "stderr",
     "output_type": "stream",
     "text": [
      "INFO\tTask(Task-2) nodify.node.139728207590272:node.py:get()- Evaluated because inputs changed.\n"
     ]
    },
    {
     "name": "stderr",
     "output_type": "stream",
     "text": [
      "INFO\tTask(Task-2) nodify.node.139728169629312:node.py:get()- Evaluated because inputs changed.\n"
     ]
    },
    {
     "name": "stderr",
     "output_type": "stream",
     "text": [
      "INFO\tTask(Task-2) nodify.node.139728206967920:node.py:get()- Evaluated because inputs changed.\n"
     ]
    },
    {
     "data": {
      "text/html": [
       "<div>            <script src=\"https://cdnjs.cloudflare.com/ajax/libs/mathjax/2.7.5/MathJax.js?config=TeX-AMS-MML_SVG\"></script><script type=\"text/javascript\">if (window.MathJax && window.MathJax.Hub && window.MathJax.Hub.Config) {window.MathJax.Hub.Config({SVG: {font: \"STIX-Web\"}});}</script>                <script type=\"text/javascript\">window.PlotlyConfig = {MathJaxConfig: 'local'};</script>\n",
       "        <script charset=\"utf-8\" src=\"https://cdn.plot.ly/plotly-3.1.1.min.js\" integrity=\"sha256-HUEFyfiTnZJxCxur99FjbKYTvKSzwDaD3/x5TqHpFu4=\" crossorigin=\"anonymous\"></script>                <div id=\"833b6255-949d-4972-90ef-f41c7842f1be\" class=\"plotly-graph-div\" style=\"height:525px; width:100%;\"></div>            <script type=\"text/javascript\">                window.PLOTLYENV=window.PLOTLYENV || {};                                if (document.getElementById(\"833b6255-949d-4972-90ef-f41c7842f1be\")) {                    Plotly.newPlot(                        \"833b6255-949d-4972-90ef-f41c7842f1be\",                        [{\"coloraxis\":\"coloraxis\",\"meta\":{},\"opacity\":1,\"x\":{\"dtype\":\"f8\",\"bdata\":\"AAAAAAAAAABAbCoNOffJP0BsKg0599k\\u002fMNHfyWp54z9AbCoNOffpP6iDOqiDOvA\\u002fMNHfyWp58z+4HoXrUbj2P0BsKg059\\u002fk\\u002fyLnPLiA2\\u002fT+ogzqogzoAQGwqDTn32QFAMNHfyWp5A0D0d7Ja3hgFQLgehetRuAZAfMVXfMVXCEBAbCoNOfcJQAQT\\u002fZ2slgtAyLnPLiA2DUCMYKK\\u002fk9UOQKiDOqiDOhBA\"},\"y\":{\"dtype\":\"f8\",\"bdata\":\"AAAAAAAAAABBkBmbGzzKP0GQGZsbPNo\\u002fMSxTtBSt4z9BkBmbGzzqPyn670CRZfA\\u002fMSxTtBSt8z85XrYnmPT2P0GQGZsbPPo\\u002fScJ8Dp+D\\u002fT8p+u9AkWUAQC2TofpSCQJA\"},\"z\":{\"dtype\":\"f8\",\"bdata\":\"T05Esz3ZXD+RIO3SkJhMPwpSJXyXfDE\\u002f2lADcgfODT9DrIsWDzwAPxjovl6ywhM\\u002fiDph9fsJHj\\u002f7kcUymrsgP6A6YfX7CR4\\u002fPei+XrLCEz9qrIsWDzwAP3tQA3IHzg0\\u002f2lElfJd8MT9YIO3SkJhMPx1ORLM92Vw\\u002fTIygT4S5Vj\\u002fK\\u002fUVhpqlQP0+lTQxfUEw\\u002fWqVNDF9QTD\\u002fa\\u002fUVhpqlQP26MoE+EuVY\\u002f\\u002fSw93s5yUT9RcgVhGWNDP7t3ByYdjCg\\u002f+lGM90hGAT8RA64tILABPxQOL9sDDRU\\u002fmYjrBrkYIT98p5v1bWwjP6aI6wa5GCE\\u002fQA4v2wMNFT9RA64tILABP8ZRjPdIRgE\\u002fcXcHJh2MKD8lcgVhGWNDP98sPd7OclE\\u002fOdrsxYVKUT\\u002fJRvKWHwhNP7K5pcAaAEk\\u002fu7mlwBoAST\\u002fmRvKWHwhNP1Pa7MWFSlE\\u002fHHLR0QaVPT9fgSiS3yUtP3JI52dfrAg\\u002fFzUKlfrk7z53debLkicTP078kZVimSI\\u002fMUTgZOQQKj8F3Pp2AmUsP0NE4GTkECo\\u002fbvyRlWKZIj+2debLkicTP9g1CpX65O8+9EfnZ1+sCD8KgSiS3yUtP+Bx0dEGlT0\\u002fXWKMiIGjQj\\u002fjyjfirYhDP00J0w9zrUI\\u002fVAnTD3OtQj\\u002f4yjfirYhDP3tijIiBo0I\\u002fMRzRyZStIz+0foGRx7IBP5tM2uHxi88+\\u002fJ\\u002fuHUcMFz\\u002fFva13jNQrPxpozsR2WDQ\\u002fe7Lrx1tYNz+pqzsT0CY4P4Wy68dbWDc\\u002fL2jOxHZYND\\u002f6va13jNQrP1Gg7h1HDBc\\u002f2k7a4fGLzz5BfoGRx7IBP\\u002fkb0cmUrSM\\u002f97WpN1sBMT\\u002fA2vIbbso1P4XgQI3SGDg\\u002fjeBAjdIYOD\\u002fc2vIbbso1Pxy2qTdbATE\\u002f\\u002f\\u002f3xXoUwBT\\u002fBKeVy+KTqPoGFZ2B7LB8\\u002fMWhBS7RNNj8ttYVTqpdBP9LJiSVbY0M\\u002fFNzO5JkjQz8utGwxqXlCPx3czuSZI0M\\u002f4cmJJVtjQz9DtYVTqpdBP1poQUu0TTY\\u002f2oVnYHssHz8aKuVy+KTqPqD98V6FMAU\\u002fl7zmqDdbHT+tV6HPIi8mP6jjdbLjDyw\\u002ft+N1suMPLD\\u002fOV6HPIi8mP+285qg3Wx0\\u002f7pF3lapK\\u002fT7IzZjK4\\u002fwUP\\u002fvYtaa7eDc\\u002fxprOYW0yTD9QdbkPG0BSPzbOH+NjV08\\u002fj4Io8L3tSj9BV1R4RZ9IP5qCKPC97Uo\\u002fTc4f42NXTz9fdbkPG0BSP+iazmFtMkw\\u002fI9m1prt4Nz\\u002f9zZjK4\\u002fwUP8WRd5WqSv0+ivck1Fm+Cz+P9ta2secaPzzIN5DIbSI\\u002fRsg3kMhtIj\\u002fA9ta2secaP+j3JNRZvgs\\u002fUs2XA\\u002fPJAz9dEwEdokQhP3PEdU+vZkA\\u002fKQDQg8WJVj\\u002fJneKD7UhbPyxEkaVuRlM\\u002f0dJygmvrTT+MGXLTElVLP9zScoJr600\\u002fNkSRpW5GUz\\u002fgneKD7UhbP0AA0IPFiVY\\u002fi8R1T69mQD9\\u002fEwEdokQhP07NlwPzyQM\\u002fDYKp05s6DD\\u002fXjpFjXdgXP8orl6acMiE\\u002f0yuXppwyIT8Fj5FjXdgXP12CqdObOgw\\u002f75F3lapK\\u002fT7DzZjK4\\u002fwUP\\u002fPYtaa7eDc\\u002fv5rOYW0yTD9MdbkPG0BSPy7OH+NjV08\\u002fioIo8L3tSj89V1R4RZ9IP5OCKPC97Uo\\u002fRc4f42NXTz9adbkPG0BSP92azmFtMkw\\u002fG9m1prt4Nz\\u002f4zZjK4\\u002fwUP8WRd5WqSv0+ivck1Fm+Cz+O9ta2secaPzrIN5DIbSI\\u002fRMg3kMhtIj+\\u002f9ta2secaP+b3JNRZvgs\\u002f\\u002ff3xXoUwBT\\u002fDKeVy+KTqPnuFZ2B7LB8\\u002fLmhBS7RNNj8otYVTqpdBP87JiSVbY0M\\u002fDtzO5JkjQz8otGwxqXlCPxTczuSZI0M\\u002f3cmJJVtjQz89tYVTqpdBP1RoQUu0TTY\\u002f0oVnYHssHz8fKuVy+KTqPqH98V6FMAU\\u002fl7zmqDdbHT+pV6HPIi8mP6TjdbLjDyw\\u002fsuN1suMPLD\\u002fKV6HPIi8mP+q85qg3Wx0\\u002fKBzRyZStIz+tfoGRx7IBP2lM2uHxi88+8Z\\u002fuHUcMFz+4va13jNQrPxFozsR2WDQ\\u002fbrLrx1tYNz+hqzsT0CY4P32y68dbWDc\\u002fJmjOxHZYND\\u002fuva13jNQrP0Wg7h1HDBc\\u002fpE7a4fGLzz45foGRx7IBP\\u002fEb0cmUrSM\\u002f8rWpN1sBMT+82vIbbso1P4TgQI3SGDg\\u002fjeBAjdIYOD\\u002fX2vIbbso1Pxa2qTdbATE\\u002fFHLR0QaVPT9cgSiS3yUtP4BI52dfrAg\\u002f5jQKlfrk7z5kdebLkicTP0P8kZVimSI\\u002fIUTgZOQQKj\\u002f32\\u002fp2AmUsPzNE4GTkECo\\u002fX\\u002fyRlWKZIj+kdebLkicTP6w1CpX65O8+AEjnZ1+sCD8KgSiS3yUtP9hx0dEGlT0\\u002fW2KMiIGjQj\\u002fjyjfirYhDP00J0w9zrUI\\u002fVAnTD3OtQj\\u002f3yjfirYhDP3hijIiBo0I\\u002f+Sw93s5yUT9PcgVhGWNDP8B3ByYdjCg\\u002fDFKM90hGAT\\u002f6Aq4tILABPwEOL9sDDRU\\u002fjIjrBrkYIT9tp5v1bWwjP5qI6wa5GCE\\u002fLg4v2wMNFT84A64tILABP9dRjPdIRgE\\u002fdncHJh2MKD8kcgVhGWNDP9osPd7OclE\\u002fONrsxYVKUT\\u002fMRvKWHwhNP7a5pcAaAEk\\u002fvbmlwBoAST\\u002fmRvKWHwhNP1La7MWFSlE\\u002f\",\"shape\":\"12, 21\"},\"zsmooth\":\"best\",\"type\":\"heatmap\"},{\"meta\":{},\"mode\":\"lines\",\"name\":\"Unit cell\",\"x\":{\"dtype\":\"f8\",\"bdata\":\"AAAAAAAAAAAAAAAAAAAAAArXo3A9ChFACtejcD0KEUAAAAAAAAAAAAAAAAAAAAAAAAAAAAAA+H8AAAAAAAAAAAAAAAAAAAAAAAAAAAAAAAAK16NwPQoRQArXo3A9ChFAAAAAAAAAAAAAAAAAAAD4fwrXo3A9ChFACtejcD0KEUAAAAAAAAD4fwrXo3A9ChFACtejcD0KEUA=\"},\"y\":{\"dtype\":\"f8\",\"bdata\":\"AAAAAAAAAAAxLFO0FK0DQDEsU7QUrQNAMSxTtBStA0AxLFO0FK0DQDEsU7QUrQNAAAAAAAAA+H8xLFO0FK0DQAAAAAAAAAAAAAAAAAAAAAAAAAAAAAAAAAAAAAAAAAAAAAAAAAAAAAAAAAAAAAD4fzEsU7QUrQNAAAAAAAAAAAAAAAAAAAD4fzEsU7QUrQNAAAAAAAAAAAA=\"},\"type\":\"scatter\"}],                        {\"template\":{\"layout\":{\"hovermode\":\"closest\",\"paper_bgcolor\":\"white\",\"plot_bgcolor\":\"white\",\"scene\":{\"xaxis\":{\"color\":\"black\",\"gridcolor\":\"#ccc\",\"gridwidth\":1,\"linewidth\":1,\"mirror\":true,\"showgrid\":false,\"showline\":true,\"ticklen\":5,\"ticks\":\"outside\",\"ticksuffix\":\" \",\"visible\":true,\"zeroline\":false,\"zerolinecolor\":\"#ccc\",\"zerolinewidth\":1},\"yaxis\":{\"color\":\"black\",\"gridcolor\":\"#ccc\",\"gridwidth\":1,\"linewidth\":1,\"mirror\":true,\"showgrid\":false,\"showline\":true,\"ticklen\":5,\"ticks\":\"outside\",\"ticksuffix\":\" \",\"visible\":true,\"zeroline\":false,\"zerolinecolor\":\"#ccc\",\"zerolinewidth\":1},\"zaxis\":{\"color\":\"black\",\"gridcolor\":\"#ccc\",\"gridwidth\":1,\"linewidth\":1,\"mirror\":true,\"showgrid\":false,\"showline\":true,\"ticklen\":5,\"ticks\":\"outside\",\"ticksuffix\":\" \",\"visible\":true,\"zeroline\":false,\"zerolinecolor\":\"#ccc\",\"zerolinewidth\":1}},\"xaxis\":{\"color\":\"black\",\"gridcolor\":\"#ccc\",\"gridwidth\":1,\"linewidth\":1,\"mirror\":true,\"showgrid\":false,\"showline\":true,\"ticklen\":5,\"ticks\":\"outside\",\"ticksuffix\":\" \",\"visible\":true,\"zeroline\":false,\"zerolinecolor\":\"#ccc\",\"zerolinewidth\":1},\"yaxis\":{\"color\":\"black\",\"gridcolor\":\"#ccc\",\"gridwidth\":1,\"linewidth\":1,\"mirror\":true,\"showgrid\":false,\"showline\":true,\"ticklen\":5,\"ticks\":\"outside\",\"ticksuffix\":\" \",\"visible\":true,\"zeroline\":false,\"zerolinecolor\":\"#ccc\",\"zerolinewidth\":1}}},\"coloraxis\":{\"showscale\":true},\"xaxis\":{\"scaleanchor\":\"y\",\"scaleratio\":1,\"title\":{\"text\":\"X axis [Ang]\"}},\"scene\":{\"aspectmode\":\"data\",\"xaxis\":{\"title\":{\"text\":\"X axis [Ang]\"}},\"yaxis\":{\"title\":{\"text\":\"Y axis [Ang]\"}}},\"yaxis\":{\"title\":{\"text\":\"Y axis [Ang]\"}}},                        {\"responsive\": true}                    ).then(function(){\n",
       "                            \n",
       "var gd = document.getElementById('833b6255-949d-4972-90ef-f41c7842f1be');\n",
       "var x = new MutationObserver(function (mutations, observer) {{\n",
       "        var display = window.getComputedStyle(gd).display;\n",
       "        if (!display || display === 'none') {{\n",
       "            console.log([gd, 'removed!']);\n",
       "            Plotly.purge(gd);\n",
       "            observer.disconnect();\n",
       "        }}\n",
       "}});\n",
       "\n",
       "// Listen for the removal of the full notebook cells\n",
       "var notebookContainer = gd.closest('#notebook-container');\n",
       "if (notebookContainer) {{\n",
       "    x.observe(notebookContainer, {childList: true});\n",
       "}}\n",
       "\n",
       "// Listen for the clearing of the current output cell\n",
       "var outputEl = gd.closest('.output');\n",
       "if (outputEl) {{\n",
       "    x.observe(outputEl, {childList: true});\n",
       "}}\n",
       "\n",
       "                        })                };            </script>        </div>"
      ]
     },
     "metadata": {},
     "output_type": "display_data"
    }
   ],
   "source": [
    "plot.update_inputs(grid_prec=0.2, smooth=True)"
   ]
  },
  {
   "cell_type": "markdown",
   "metadata": {},
   "source": [
    "<div class=\"alert alert-warning\">\n",
    "    \n",
    "Warning\n",
    "    \n",
    "Keep in mind that a finer grid will **occupy more memory and take more time to generate and render**, and sometimes it might be unnecessary to make your grid very fine, specially if it's smooth.\n",
    "    \n",
    "</div>"
   ]
  },
  {
   "cell_type": "markdown",
   "metadata": {},
   "source": [
    "## GridPlot settings\n",
    "\n",
    "As stated at the beggining of this notebook, you have all the power of `GridPlot` available to you. Therefore you can, for example, display supercells of the resulting wavefunctions (please don't tile the hamiltonian! :))."
   ]
  },
  {
   "cell_type": "code",
   "execution_count": 8,
   "metadata": {
    "execution": {
     "iopub.execute_input": "2025-10-08T13:17:43.783767Z",
     "iopub.status.busy": "2025-10-08T13:17:43.783593Z",
     "iopub.status.idle": "2025-10-08T13:17:46.906573Z",
     "shell.execute_reply": "2025-10-08T13:17:46.906036Z"
    },
    "tags": [
     "nbsphinx-thumbnail"
    ]
   },
   "outputs": [
    {
     "name": "stderr",
     "output_type": "stream",
     "text": [
      "INFO\tTask(Task-2) nodify.node.139728169622496:node.py:get()- No need to evaluate\n"
     ]
    },
    {
     "name": "stderr",
     "output_type": "stream",
     "text": [
      "INFO\tTask(Task-2) nodify.node.139728169514192:node.py:get()- No need to evaluate\n"
     ]
    },
    {
     "name": "stderr",
     "output_type": "stream",
     "text": [
      "INFO\tTask(Task-2) nodify.node.139728169514720:node.py:get()- No need to evaluate\n"
     ]
    },
    {
     "name": "stderr",
     "output_type": "stream",
     "text": [
      "INFO\tTask(Task-2) nodify.node.139728210345568:node.py:get()- No need to evaluate\n"
     ]
    },
    {
     "name": "stderr",
     "output_type": "stream",
     "text": [
      "INFO\tTask(Task-2) nodify.node.139728169515104:node.py:get()- Evaluated because inputs changed.\n"
     ]
    },
    {
     "name": "stderr",
     "output_type": "stream",
     "text": [
      "INFO\tTask(Task-2) nodify.node.139728169515728:node.py:get()- No need to evaluate\n"
     ]
    },
    {
     "name": "stderr",
     "output_type": "stream",
     "text": [
      "INFO\tTask(Task-2) nodify.node.139728169514192:node.py:get()- No need to evaluate\n"
     ]
    },
    {
     "name": "stderr",
     "output_type": "stream",
     "text": [
      "INFO\tTask(Task-2) nodify.node.139728169514912:node.py:get()- No need to evaluate\n"
     ]
    },
    {
     "name": "stderr",
     "output_type": "stream",
     "text": [
      "INFO\tTask(Task-2) nodify.node.139728169624224:node.py:get()- No need to evaluate\n"
     ]
    },
    {
     "name": "stderr",
     "output_type": "stream",
     "text": [
      "INFO\tTask(Task-2) nodify.node.139728169616880:node.py:get()- Evaluated because inputs changed.\n"
     ]
    },
    {
     "name": "stderr",
     "output_type": "stream",
     "text": [
      "INFO\tTask(Task-2) nodify.node.139728169514192:node.py:get()- No need to evaluate\n"
     ]
    },
    {
     "name": "stderr",
     "output_type": "stream",
     "text": [
      "INFO\tTask(Task-2) nodify.node.139728169514720:node.py:get()- No need to evaluate\n"
     ]
    },
    {
     "name": "stderr",
     "output_type": "stream",
     "text": [
      "INFO\tTask(Task-2) nodify.node.139728210345568:node.py:get()- No need to evaluate\n"
     ]
    },
    {
     "name": "stderr",
     "output_type": "stream",
     "text": [
      "INFO\tTask(Task-2) nodify.node.139728169623984:node.py:get()- Evaluated because inputs changed.\n"
     ]
    },
    {
     "name": "stderr",
     "output_type": "stream",
     "text": [
      "INFO\tTask(Task-2) nodify.node.139728169624368:node.py:get()- Evaluated because inputs changed.\n"
     ]
    },
    {
     "name": "stderr",
     "output_type": "stream",
     "text": [
      "INFO\tTask(Task-2) nodify.node.139728169516544:node.py:get()- No need to evaluate\n"
     ]
    },
    {
     "name": "stderr",
     "output_type": "stream",
     "text": [
      "INFO\tTask(Task-2) nodify.node.139728169624992:node.py:get()- Evaluated because inputs changed.\n"
     ]
    },
    {
     "name": "stderr",
     "output_type": "stream",
     "text": [
      "INFO\tTask(Task-2) nodify.node.139728169616880:node.py:get()- No need to evaluate\n"
     ]
    },
    {
     "name": "stderr",
     "output_type": "stream",
     "text": [
      "INFO\tTask(Task-2) nodify.node.139728169514192:node.py:get()- No need to evaluate\n"
     ]
    },
    {
     "name": "stderr",
     "output_type": "stream",
     "text": [
      "INFO\tTask(Task-2) nodify.node.139728169514720:node.py:get()- No need to evaluate\n"
     ]
    },
    {
     "name": "stderr",
     "output_type": "stream",
     "text": [
      "INFO\tTask(Task-2) nodify.node.139728210345568:node.py:get()- No need to evaluate\n"
     ]
    },
    {
     "name": "stderr",
     "output_type": "stream",
     "text": [
      "INFO\tTask(Task-2) nodify.node.139728207155120:node.py:get()- Evaluated because inputs changed.\n"
     ]
    },
    {
     "name": "stderr",
     "output_type": "stream",
     "text": [
      "INFO\tTask(Task-2) nodify.node.139728206969264:node.py:get()- Evaluated because inputs changed.\n"
     ]
    },
    {
     "name": "stderr",
     "output_type": "stream",
     "text": [
      "INFO\tTask(Task-2) nodify.node.139728169516112:node.py:get()- Evaluated because inputs changed.\n"
     ]
    },
    {
     "name": "stderr",
     "output_type": "stream",
     "text": [
      "INFO\tTask(Task-2) nodify.node.139728169626192:node.py:get()- Evaluated because inputs changed.\n"
     ]
    },
    {
     "name": "stderr",
     "output_type": "stream",
     "text": [
      "INFO\tTask(Task-2) nodify.node.139728169616208:node.py:get()- No need to evaluate\n"
     ]
    },
    {
     "name": "stderr",
     "output_type": "stream",
     "text": [
      "INFO\tTask(Task-2) nodify.node.139728169512992:node.py:get()- Evaluated because inputs changed.\n"
     ]
    },
    {
     "name": "stderr",
     "output_type": "stream",
     "text": [
      "INFO\tTask(Task-2) nodify.node.139728169615440:node.py:get()- Evaluated because inputs changed.\n"
     ]
    },
    {
     "name": "stderr",
     "output_type": "stream",
     "text": [
      "INFO\tTask(Task-2) nodify.node.139728207585664:node.py:get()- Evaluated because inputs changed.\n"
     ]
    },
    {
     "name": "stderr",
     "output_type": "stream",
     "text": [
      "INFO\tTask(Task-2) nodify.node.139728169620576:node.py:get()- No need to evaluate\n"
     ]
    },
    {
     "name": "stderr",
     "output_type": "stream",
     "text": [
      "INFO\tTask(Task-2) nodify.node.139728169620960:node.py:get()- No need to evaluate\n"
     ]
    },
    {
     "name": "stderr",
     "output_type": "stream",
     "text": [
      "INFO\tTask(Task-2) nodify.node.139728169621344:node.py:get()- No need to evaluate\n"
     ]
    },
    {
     "name": "stderr",
     "output_type": "stream",
     "text": [
      "INFO\tTask(Task-2) nodify.node.139728169627200:node.py:get()- Evaluated because inputs changed.\n"
     ]
    },
    {
     "name": "stderr",
     "output_type": "stream",
     "text": [
      "INFO\tTask(Task-2) nodify.node.139728169615824:node.py:get()- No need to evaluate\n"
     ]
    },
    {
     "name": "stderr",
     "output_type": "stream",
     "text": [
      "INFO\tTask(Task-2) nodify.node.139728169514192:node.py:get()- No need to evaluate\n"
     ]
    },
    {
     "name": "stderr",
     "output_type": "stream",
     "text": [
      "INFO\tTask(Task-2) nodify.node.139728169514720:node.py:get()- No need to evaluate\n"
     ]
    },
    {
     "name": "stderr",
     "output_type": "stream",
     "text": [
      "INFO\tTask(Task-2) nodify.node.139728210345568:node.py:get()- No need to evaluate\n"
     ]
    },
    {
     "name": "stderr",
     "output_type": "stream",
     "text": [
      "INFO\tTask(Task-2) nodify.node.139728169515104:node.py:get()- No need to evaluate\n"
     ]
    },
    {
     "name": "stderr",
     "output_type": "stream",
     "text": [
      "INFO\tTask(Task-2) nodify.node.139728169515728:node.py:get()- No need to evaluate\n"
     ]
    },
    {
     "name": "stderr",
     "output_type": "stream",
     "text": [
      "INFO\tTask(Task-2) nodify.node.139728169514192:node.py:get()- No need to evaluate\n"
     ]
    },
    {
     "name": "stderr",
     "output_type": "stream",
     "text": [
      "INFO\tTask(Task-2) nodify.node.139728169514912:node.py:get()- No need to evaluate\n"
     ]
    },
    {
     "name": "stderr",
     "output_type": "stream",
     "text": [
      "INFO\tTask(Task-2) nodify.node.139728169624224:node.py:get()- No need to evaluate\n"
     ]
    },
    {
     "name": "stderr",
     "output_type": "stream",
     "text": [
      "INFO\tTask(Task-2) nodify.node.139728169616880:node.py:get()- No need to evaluate\n"
     ]
    },
    {
     "name": "stderr",
     "output_type": "stream",
     "text": [
      "INFO\tTask(Task-2) nodify.node.139728169514192:node.py:get()- No need to evaluate\n"
     ]
    },
    {
     "name": "stderr",
     "output_type": "stream",
     "text": [
      "INFO\tTask(Task-2) nodify.node.139728169514720:node.py:get()- No need to evaluate\n"
     ]
    },
    {
     "name": "stderr",
     "output_type": "stream",
     "text": [
      "INFO\tTask(Task-2) nodify.node.139728210345568:node.py:get()- No need to evaluate\n"
     ]
    },
    {
     "name": "stderr",
     "output_type": "stream",
     "text": [
      "INFO\tTask(Task-2) nodify.node.139728169623984:node.py:get()- No need to evaluate\n"
     ]
    },
    {
     "name": "stderr",
     "output_type": "stream",
     "text": [
      "INFO\tTask(Task-2) nodify.node.139728169624368:node.py:get()- No need to evaluate\n"
     ]
    },
    {
     "name": "stderr",
     "output_type": "stream",
     "text": [
      "INFO\tTask(Task-2) nodify.node.139728169516544:node.py:get()- No need to evaluate\n"
     ]
    },
    {
     "name": "stderr",
     "output_type": "stream",
     "text": [
      "INFO\tTask(Task-2) nodify.node.139728169624992:node.py:get()- No need to evaluate\n"
     ]
    },
    {
     "name": "stderr",
     "output_type": "stream",
     "text": [
      "INFO\tTask(Task-2) nodify.node.139728169616880:node.py:get()- No need to evaluate\n"
     ]
    },
    {
     "name": "stderr",
     "output_type": "stream",
     "text": [
      "INFO\tTask(Task-2) nodify.node.139728169514192:node.py:get()- No need to evaluate\n"
     ]
    },
    {
     "name": "stderr",
     "output_type": "stream",
     "text": [
      "INFO\tTask(Task-2) nodify.node.139728169514720:node.py:get()- No need to evaluate\n"
     ]
    },
    {
     "name": "stderr",
     "output_type": "stream",
     "text": [
      "INFO\tTask(Task-2) nodify.node.139728210345568:node.py:get()- No need to evaluate\n"
     ]
    },
    {
     "name": "stderr",
     "output_type": "stream",
     "text": [
      "INFO\tTask(Task-2) nodify.node.139728207155120:node.py:get()- No need to evaluate\n"
     ]
    },
    {
     "name": "stderr",
     "output_type": "stream",
     "text": [
      "INFO\tTask(Task-2) nodify.node.139728206969264:node.py:get()- No need to evaluate\n"
     ]
    },
    {
     "name": "stderr",
     "output_type": "stream",
     "text": [
      "INFO\tTask(Task-2) nodify.node.139728169516112:node.py:get()- No need to evaluate\n"
     ]
    },
    {
     "name": "stderr",
     "output_type": "stream",
     "text": [
      "INFO\tTask(Task-2) nodify.node.139728169626192:node.py:get()- No need to evaluate\n"
     ]
    },
    {
     "name": "stderr",
     "output_type": "stream",
     "text": [
      "INFO\tTask(Task-2) nodify.node.139728169616208:node.py:get()- No need to evaluate\n"
     ]
    },
    {
     "name": "stderr",
     "output_type": "stream",
     "text": [
      "INFO\tTask(Task-2) nodify.node.139728169512992:node.py:get()- No need to evaluate\n"
     ]
    },
    {
     "name": "stderr",
     "output_type": "stream",
     "text": [
      "INFO\tTask(Task-2) nodify.node.139728169516112:node.py:get()- No need to evaluate\n"
     ]
    },
    {
     "name": "stderr",
     "output_type": "stream",
     "text": [
      "INFO\tTask(Task-2) nodify.node.139728169626192:node.py:get()- No need to evaluate\n"
     ]
    },
    {
     "name": "stderr",
     "output_type": "stream",
     "text": [
      "INFO\tTask(Task-2) nodify.node.139728171613792:node.py:get()- Evaluated because inputs changed.\n"
     ]
    },
    {
     "name": "stderr",
     "output_type": "stream",
     "text": [
      "INFO\tTask(Task-2) nodify.node.139728169627008:node.py:get()- Evaluated because inputs changed.\n"
     ]
    },
    {
     "name": "stderr",
     "output_type": "stream",
     "text": [
      "INFO\tTask(Task-2) nodify.node.139728169617408:node.py:get()- No need to evaluate\n"
     ]
    },
    {
     "name": "stderr",
     "output_type": "stream",
     "text": [
      "INFO\tTask(Task-2) nodify.node.139728169627344:node.py:get()- Evaluated because inputs changed.\n"
     ]
    },
    {
     "name": "stderr",
     "output_type": "stream",
     "text": [
      "INFO\tTask(Task-2) nodify.node.139728169516112:node.py:get()- No need to evaluate\n"
     ]
    },
    {
     "name": "stderr",
     "output_type": "stream",
     "text": [
      "INFO\tTask(Task-2) nodify.node.139728169626192:node.py:get()- No need to evaluate\n"
     ]
    },
    {
     "name": "stderr",
     "output_type": "stream",
     "text": [
      "INFO\tTask(Task-2) nodify.node.139728169514192:node.py:get()- No need to evaluate\n"
     ]
    },
    {
     "name": "stderr",
     "output_type": "stream",
     "text": [
      "INFO\tTask(Task-2) nodify.node.139728169514720:node.py:get()- No need to evaluate\n"
     ]
    },
    {
     "name": "stderr",
     "output_type": "stream",
     "text": [
      "INFO\tTask(Task-2) nodify.node.139728210345568:node.py:get()- No need to evaluate\n"
     ]
    },
    {
     "name": "stderr",
     "output_type": "stream",
     "text": [
      "INFO\tTask(Task-2) nodify.node.139728169515104:node.py:get()- No need to evaluate\n"
     ]
    },
    {
     "name": "stderr",
     "output_type": "stream",
     "text": [
      "INFO\tTask(Task-2) nodify.node.139728169515728:node.py:get()- No need to evaluate\n"
     ]
    },
    {
     "name": "stderr",
     "output_type": "stream",
     "text": [
      "INFO\tTask(Task-2) nodify.node.139728169514192:node.py:get()- No need to evaluate\n"
     ]
    },
    {
     "name": "stderr",
     "output_type": "stream",
     "text": [
      "INFO\tTask(Task-2) nodify.node.139728169514912:node.py:get()- No need to evaluate\n"
     ]
    },
    {
     "name": "stderr",
     "output_type": "stream",
     "text": [
      "INFO\tTask(Task-2) nodify.node.139728169624224:node.py:get()- No need to evaluate\n"
     ]
    },
    {
     "name": "stderr",
     "output_type": "stream",
     "text": [
      "INFO\tTask(Task-2) nodify.node.139728169616880:node.py:get()- No need to evaluate\n"
     ]
    },
    {
     "name": "stderr",
     "output_type": "stream",
     "text": [
      "INFO\tTask(Task-2) nodify.node.139728169514192:node.py:get()- No need to evaluate\n"
     ]
    },
    {
     "name": "stderr",
     "output_type": "stream",
     "text": [
      "INFO\tTask(Task-2) nodify.node.139728169514720:node.py:get()- No need to evaluate\n"
     ]
    },
    {
     "name": "stderr",
     "output_type": "stream",
     "text": [
      "INFO\tTask(Task-2) nodify.node.139728210345568:node.py:get()- No need to evaluate\n"
     ]
    },
    {
     "name": "stderr",
     "output_type": "stream",
     "text": [
      "INFO\tTask(Task-2) nodify.node.139728169623984:node.py:get()- No need to evaluate\n"
     ]
    },
    {
     "name": "stderr",
     "output_type": "stream",
     "text": [
      "INFO\tTask(Task-2) nodify.node.139728169624368:node.py:get()- No need to evaluate\n"
     ]
    },
    {
     "name": "stderr",
     "output_type": "stream",
     "text": [
      "INFO\tTask(Task-2) nodify.node.139728169516544:node.py:get()- No need to evaluate\n"
     ]
    },
    {
     "name": "stderr",
     "output_type": "stream",
     "text": [
      "INFO\tTask(Task-2) nodify.node.139728169624992:node.py:get()- No need to evaluate\n"
     ]
    },
    {
     "name": "stderr",
     "output_type": "stream",
     "text": [
      "INFO\tTask(Task-2) nodify.node.139728169616880:node.py:get()- No need to evaluate\n"
     ]
    },
    {
     "name": "stderr",
     "output_type": "stream",
     "text": [
      "INFO\tTask(Task-2) nodify.node.139728169514192:node.py:get()- No need to evaluate\n"
     ]
    },
    {
     "name": "stderr",
     "output_type": "stream",
     "text": [
      "INFO\tTask(Task-2) nodify.node.139728169514720:node.py:get()- No need to evaluate\n"
     ]
    },
    {
     "name": "stderr",
     "output_type": "stream",
     "text": [
      "INFO\tTask(Task-2) nodify.node.139728210345568:node.py:get()- No need to evaluate\n"
     ]
    },
    {
     "name": "stderr",
     "output_type": "stream",
     "text": [
      "INFO\tTask(Task-2) nodify.node.139728207155120:node.py:get()- No need to evaluate\n"
     ]
    },
    {
     "name": "stderr",
     "output_type": "stream",
     "text": [
      "INFO\tTask(Task-2) nodify.node.139728206969264:node.py:get()- No need to evaluate\n"
     ]
    },
    {
     "name": "stderr",
     "output_type": "stream",
     "text": [
      "INFO\tTask(Task-2) nodify.node.139728169516112:node.py:get()- No need to evaluate\n"
     ]
    },
    {
     "name": "stderr",
     "output_type": "stream",
     "text": [
      "INFO\tTask(Task-2) nodify.node.139728169626192:node.py:get()- No need to evaluate\n"
     ]
    },
    {
     "name": "stderr",
     "output_type": "stream",
     "text": [
      "INFO\tTask(Task-2) nodify.node.139728169616208:node.py:get()- No need to evaluate\n"
     ]
    },
    {
     "name": "stderr",
     "output_type": "stream",
     "text": [
      "INFO\tTask(Task-2) nodify.node.139728169512992:node.py:get()- No need to evaluate\n"
     ]
    },
    {
     "name": "stderr",
     "output_type": "stream",
     "text": [
      "INFO\tTask(Task-2) nodify.node.139728169516112:node.py:get()- No need to evaluate\n"
     ]
    },
    {
     "name": "stderr",
     "output_type": "stream",
     "text": [
      "INFO\tTask(Task-2) nodify.node.139728169626192:node.py:get()- No need to evaluate\n"
     ]
    },
    {
     "name": "stderr",
     "output_type": "stream",
     "text": [
      "INFO\tTask(Task-2) nodify.node.139728171613792:node.py:get()- No need to evaluate\n"
     ]
    },
    {
     "name": "stderr",
     "output_type": "stream",
     "text": [
      "INFO\tTask(Task-2) nodify.node.139728169616880:node.py:get()- No need to evaluate\n"
     ]
    },
    {
     "name": "stderr",
     "output_type": "stream",
     "text": [
      "INFO\tTask(Task-2) nodify.node.139728169514192:node.py:get()- No need to evaluate\n"
     ]
    },
    {
     "name": "stderr",
     "output_type": "stream",
     "text": [
      "INFO\tTask(Task-2) nodify.node.139728169514720:node.py:get()- No need to evaluate\n"
     ]
    },
    {
     "name": "stderr",
     "output_type": "stream",
     "text": [
      "INFO\tTask(Task-2) nodify.node.139728210345568:node.py:get()- No need to evaluate\n"
     ]
    },
    {
     "name": "stderr",
     "output_type": "stream",
     "text": [
      "INFO\tTask(Task-2) nodify.node.139728207155120:node.py:get()- No need to evaluate\n"
     ]
    },
    {
     "name": "stderr",
     "output_type": "stream",
     "text": [
      "INFO\tTask(Task-2) nodify.node.139728169628256:node.py:get()- Evaluated because inputs changed.\n"
     ]
    },
    {
     "name": "stderr",
     "output_type": "stream",
     "text": [
      "INFO\tTask(Task-2) nodify.node.139728169617792:node.py:get()- Evaluated because inputs changed.\n"
     ]
    },
    {
     "name": "stderr",
     "output_type": "stream",
     "text": [
      "INFO\tTask(Task-2) nodify.node.139728169507712:node.py:get()- No need to evaluate\n"
     ]
    },
    {
     "name": "stderr",
     "output_type": "stream",
     "text": [
      "INFO\tTask(Task-2) nodify.node.139728169512128:node.py:get()- No need to evaluate\n"
     ]
    },
    {
     "name": "stderr",
     "output_type": "stream",
     "text": [
      "INFO\tTask(Task-2) nodify.node.139728169619424:node.py:get()- No need to evaluate\n"
     ]
    },
    {
     "name": "stderr",
     "output_type": "stream",
     "text": [
      "INFO\tTask(Task-2) nodify.node.139728169618176:node.py:get()- No need to evaluate\n"
     ]
    },
    {
     "name": "stderr",
     "output_type": "stream",
     "text": [
      "INFO\tTask(Task-2) nodify.node.139728169628544:node.py:get()- Evaluated because inputs changed.\n"
     ]
    },
    {
     "name": "stderr",
     "output_type": "stream",
     "text": [
      "INFO\tTask(Task-2) nodify.node.139728169514192:node.py:get()- No need to evaluate\n"
     ]
    },
    {
     "name": "stderr",
     "output_type": "stream",
     "text": [
      "INFO\tTask(Task-2) nodify.node.139728169514720:node.py:get()- No need to evaluate\n"
     ]
    },
    {
     "name": "stderr",
     "output_type": "stream",
     "text": [
      "INFO\tTask(Task-2) nodify.node.139728210345568:node.py:get()- No need to evaluate\n"
     ]
    },
    {
     "name": "stderr",
     "output_type": "stream",
     "text": [
      "INFO\tTask(Task-2) nodify.node.139728169515104:node.py:get()- No need to evaluate\n"
     ]
    },
    {
     "name": "stderr",
     "output_type": "stream",
     "text": [
      "INFO\tTask(Task-2) nodify.node.139728169515728:node.py:get()- No need to evaluate\n"
     ]
    },
    {
     "name": "stderr",
     "output_type": "stream",
     "text": [
      "INFO\tTask(Task-2) nodify.node.139728169514192:node.py:get()- No need to evaluate\n"
     ]
    },
    {
     "name": "stderr",
     "output_type": "stream",
     "text": [
      "INFO\tTask(Task-2) nodify.node.139728169514912:node.py:get()- No need to evaluate\n"
     ]
    },
    {
     "name": "stderr",
     "output_type": "stream",
     "text": [
      "INFO\tTask(Task-2) nodify.node.139728169624224:node.py:get()- No need to evaluate\n"
     ]
    },
    {
     "name": "stderr",
     "output_type": "stream",
     "text": [
      "INFO\tTask(Task-2) nodify.node.139728169616880:node.py:get()- No need to evaluate\n"
     ]
    },
    {
     "name": "stderr",
     "output_type": "stream",
     "text": [
      "INFO\tTask(Task-2) nodify.node.139728169514192:node.py:get()- No need to evaluate\n"
     ]
    },
    {
     "name": "stderr",
     "output_type": "stream",
     "text": [
      "INFO\tTask(Task-2) nodify.node.139728169514720:node.py:get()- No need to evaluate\n"
     ]
    },
    {
     "name": "stderr",
     "output_type": "stream",
     "text": [
      "INFO\tTask(Task-2) nodify.node.139728210345568:node.py:get()- No need to evaluate\n"
     ]
    },
    {
     "name": "stderr",
     "output_type": "stream",
     "text": [
      "INFO\tTask(Task-2) nodify.node.139728169623984:node.py:get()- No need to evaluate\n"
     ]
    },
    {
     "name": "stderr",
     "output_type": "stream",
     "text": [
      "INFO\tTask(Task-2) nodify.node.139728169624368:node.py:get()- No need to evaluate\n"
     ]
    },
    {
     "name": "stderr",
     "output_type": "stream",
     "text": [
      "INFO\tTask(Task-2) nodify.node.139728169619808:node.py:get()- No need to evaluate\n"
     ]
    },
    {
     "name": "stderr",
     "output_type": "stream",
     "text": [
      "INFO\tTask(Task-2) nodify.node.139728169516112:node.py:get()- No need to evaluate\n"
     ]
    },
    {
     "name": "stderr",
     "output_type": "stream",
     "text": [
      "INFO\tTask(Task-2) nodify.node.139728169626192:node.py:get()- No need to evaluate\n"
     ]
    },
    {
     "name": "stderr",
     "output_type": "stream",
     "text": [
      "INFO\tTask(Task-2) nodify.node.139728169620192:node.py:get()- No need to evaluate\n"
     ]
    },
    {
     "name": "stderr",
     "output_type": "stream",
     "text": [
      "INFO\tTask(Task-2) nodify.node.139728169629408:node.py:get()- Evaluated because inputs changed.\n"
     ]
    },
    {
     "name": "stderr",
     "output_type": "stream",
     "text": [
      "INFO\tTask(Task-2) nodify.node.139728169621728:node.py:get()- No need to evaluate\n"
     ]
    },
    {
     "name": "stderr",
     "output_type": "stream",
     "text": [
      "INFO\tTask(Task-2) nodify.node.139728169514192:node.py:get()- No need to evaluate\n"
     ]
    },
    {
     "name": "stderr",
     "output_type": "stream",
     "text": [
      "INFO\tTask(Task-2) nodify.node.139728169514912:node.py:get()- No need to evaluate\n"
     ]
    },
    {
     "name": "stderr",
     "output_type": "stream",
     "text": [
      "INFO\tTask(Task-2) nodify.node.139728169624224:node.py:get()- No need to evaluate\n"
     ]
    },
    {
     "name": "stderr",
     "output_type": "stream",
     "text": [
      "INFO\tTask(Task-2) nodify.node.139728169616880:node.py:get()- No need to evaluate\n"
     ]
    },
    {
     "name": "stderr",
     "output_type": "stream",
     "text": [
      "INFO\tTask(Task-2) nodify.node.139728169514192:node.py:get()- No need to evaluate\n"
     ]
    },
    {
     "name": "stderr",
     "output_type": "stream",
     "text": [
      "INFO\tTask(Task-2) nodify.node.139728169514720:node.py:get()- No need to evaluate\n"
     ]
    },
    {
     "name": "stderr",
     "output_type": "stream",
     "text": [
      "INFO\tTask(Task-2) nodify.node.139728210345568:node.py:get()- No need to evaluate\n"
     ]
    },
    {
     "name": "stderr",
     "output_type": "stream",
     "text": [
      "INFO\tTask(Task-2) nodify.node.139728169623984:node.py:get()- No need to evaluate\n"
     ]
    },
    {
     "name": "stderr",
     "output_type": "stream",
     "text": [
      "INFO\tTask(Task-2) nodify.node.139728169516112:node.py:get()- No need to evaluate\n"
     ]
    },
    {
     "name": "stderr",
     "output_type": "stream",
     "text": [
      "INFO\tTask(Task-2) nodify.node.139728169626192:node.py:get()- No need to evaluate\n"
     ]
    },
    {
     "name": "stderr",
     "output_type": "stream",
     "text": [
      "INFO\tTask(Task-2) nodify.node.139728169616880:node.py:get()- No need to evaluate\n"
     ]
    },
    {
     "name": "stderr",
     "output_type": "stream",
     "text": [
      "INFO\tTask(Task-2) nodify.node.139728169514192:node.py:get()- No need to evaluate\n"
     ]
    },
    {
     "name": "stderr",
     "output_type": "stream",
     "text": [
      "INFO\tTask(Task-2) nodify.node.139728169514720:node.py:get()- No need to evaluate\n"
     ]
    },
    {
     "name": "stderr",
     "output_type": "stream",
     "text": [
      "INFO\tTask(Task-2) nodify.node.139728210345568:node.py:get()- No need to evaluate\n"
     ]
    },
    {
     "name": "stderr",
     "output_type": "stream",
     "text": [
      "INFO\tTask(Task-2) nodify.node.139728207155120:node.py:get()- No need to evaluate\n"
     ]
    },
    {
     "name": "stderr",
     "output_type": "stream",
     "text": [
      "INFO\tTask(Task-2) nodify.node.139728169622112:node.py:get()- Evaluated because inputs changed.\n"
     ]
    },
    {
     "name": "stderr",
     "output_type": "stream",
     "text": [
      "INFO\tTask(Task-2) nodify.node.139728172587088:node.py:get()- Evaluated because inputs changed.\n"
     ]
    },
    {
     "name": "stderr",
     "output_type": "stream",
     "text": [
      "INFO\tTask(Task-2) nodify.node.139728207590272:node.py:get()- Evaluated because inputs changed.\n"
     ]
    },
    {
     "name": "stderr",
     "output_type": "stream",
     "text": [
      "INFO\tTask(Task-2) nodify.node.139728169629312:node.py:get()- Evaluated because inputs changed.\n"
     ]
    },
    {
     "name": "stderr",
     "output_type": "stream",
     "text": [
      "INFO\tTask(Task-2) nodify.node.139728206967920:node.py:get()- Evaluated because inputs changed.\n"
     ]
    },
    {
     "data": {
      "image/png": "[encoded data removed]"
     },
     "metadata": {},
     "output_type": "display_data"
    }
   ],
   "source": [
    "plot.update_inputs(\n",
    "    axes=\"xyz\",\n",
    "    nsc=[2, 2, 1],\n",
    "    grid_prec=0.1,\n",
    "    transforms=[],\n",
    "    isos=[\n",
    "        {\"val\": -0.07, \"opacity\": 1, \"color\": \"salmon\"},\n",
    "        {\"val\": 0.07, \"opacity\": 0.7, \"color\": \"blue\"},\n",
    "    ],\n",
    "    geom_kwargs={\"atoms_style\": dict(color=[\"orange\", \"red\", \"green\", \"pink\"])},\n",
    ").show(\"png\")"
   ]
  },
  {
   "cell_type": "markdown",
   "metadata": {
    "tags": [
     "notebook-end"
    ]
   },
   "source": [
    "We hope you enjoyed what you learned!"
   ]
  }
 ],
 "metadata": {
  "kernelspec": {
   "display_name": "Python 3 (ipykernel)",
   "language": "python",
   "name": "python3"
  },
  "language_info": {
   "codemirror_mode": {
    "name": "ipython",
    "version": 3
   },
   "file_extension": ".py",
   "mimetype": "text/x-python",
   "name": "python",
   "nbconvert_exporter": "python",
   "pygments_lexer": "ipython3",
   "version": "3.12.11"
  }
 },
 "nbformat": 4,
 "nbformat_minor": 4
}
