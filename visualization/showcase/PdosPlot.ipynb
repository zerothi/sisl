{
 "cells": [
  {
   "cell_type": "markdown",
   "metadata": {
    "tags": [
     "notebook-header"
    ]
   },
   "source": [
    "[![GitHub issues by-label](https://img.shields.io/github/issues-raw/pfebrer/sisl/PdosPlot?style=for-the-badge)](https://github.com/pfebrer/sisl/labels/PdosPlot)"
   ]
  },
  {
   "cell_type": "markdown",
   "metadata": {},
   "source": [
    "    \n",
    "    \n",
    "PdosPlot\n",
    "========="
   ]
  },
  {
   "cell_type": "code",
   "execution_count": 1,
   "metadata": {
    "execution": {
     "iopub.execute_input": "2025-09-23T10:48:20.453455Z",
     "iopub.status.busy": "2025-09-23T10:48:20.453208Z",
     "iopub.status.idle": "2025-09-23T10:48:21.320740Z",
     "shell.execute_reply": "2025-09-23T10:48:21.320145Z"
    }
   },
   "outputs": [],
   "source": [
    "import sisl\n",
    "\n",
    "# This is just for convenience to retreive files\n",
    "siesta_files = sisl.get_environ_variable(\"SISL_FILES_TESTS\") / \"siesta\""
   ]
  },
  {
   "cell_type": "markdown",
   "metadata": {},
   "source": [
    "We are going to get the PDOS from a SIESTA `.PDOS` file, but we could get it from some other source, e.g. a hamiltonian."
   ]
  },
  {
   "cell_type": "code",
   "execution_count": 2,
   "metadata": {
    "execution": {
     "iopub.execute_input": "2025-09-23T10:48:21.322817Z",
     "iopub.status.busy": "2025-09-23T10:48:21.322505Z",
     "iopub.status.idle": "2025-09-23T10:48:22.031038Z",
     "shell.execute_reply": "2025-09-23T10:48:22.030419Z"
    }
   },
   "outputs": [],
   "source": [
    "plot = sisl.get_sile(siesta_files / \"SrTiO3\" / \"unpolarized\" / \"SrTiO3.PDOS\").plot(\n",
    "    Erange=[-10, 10]\n",
    ")"
   ]
  },
  {
   "cell_type": "markdown",
   "metadata": {},
   "source": [
    "By default, a PDOS plot shows the total density of states:"
   ]
  },
  {
   "cell_type": "code",
   "execution_count": 3,
   "metadata": {
    "execution": {
     "iopub.execute_input": "2025-09-23T10:48:22.032970Z",
     "iopub.status.busy": "2025-09-23T10:48:22.032788Z",
     "iopub.status.idle": "2025-09-23T10:48:22.162201Z",
     "shell.execute_reply": "2025-09-23T10:48:22.161713Z"
    }
   },
   "outputs": [
    {
     "data": {
      "application/vnd.plotly.v1+json": {
       "config": {
        "plotlyServerURL": "https://plot.ly"
       },
       "data": [
        {
         "line": {
          "width": 1.0
         },
         "meta": {},
         "mode": "lines",
         "name": "DOS",
         "type": "scatter",
         "x": {
          "bdata": "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",
          "dtype": "f8"
         },
         "y": {
          "bdata": "AAAAAAAAAAAAAAAAAAAAAAAAAAAAAAAAAAAAAAAAAAAAAAAAAAAAAAAAAAAAAAAAAAAAAAAAAAAAAAAAAAAAAAAAAAAAAAAAAAAAAAAAAAAAAAAAAAAAAAAAAAAAAAAAAAAAAAAAAAAAAAAAAAAAAAAAAAAAAAAAAAAAAAAAAAAAAAAAAAAAAAAAAAAAAAAAAAAAAAAAAAAAAAAAAAAAAAAAAAAAAAAAAAAAAAAAAAAAAAAAAAAAAAAAAAAAAAAAAAAAAAAAAAAAAAAAAAAAAAAAAAAAAAAAAAAAAAAAAAAAAAAAAAAAAAAAAAAAAAAAAAAAAAAAAAAAAAAAAAAAAAAAAAAAAAAAAAAAAAAAAAAAAAAAAAAAAAAAAAAAAAAAAAAAAAAAAAAAAAAAAAAAAAAAAAAAAAAAAAAAAAAAAAAAAAAAAAAAAAAAAAAAAAAAAAAAAAAAAAAAAAAAAAAAAAAAAAAAAAAAAAAAAAAAAAAAAAAAAAAAAAAAAAAAAAAAAAAAAAAAAAAAAAAAAAAAAAAAAAAAAAAAAAAAAAAAAAAAAAAAAAAAAAAAAAAAAAAAAAAAAAAAAAAAAAAAAAAAAAAAAAAAAAAAAAAAAAAAAAAAAAAAAAAAAAAAAAAAAAAAAAAAAAAAAAAAAAAAAAAAAAAAAAAAAAAAAAAAAAAAAAAAAAAAAAAAAAAAAAAAAAAAAAAAAAAAAAAAAAAAAAAAAAAAAAAAAAAAAAAAAAAAAAAAAAAAAAAAAAAAAAAAAAAAAAAAAAAAAAAAAAAAAAAAAAAAAAAAAAAAAAAAAAAAAAAAAAAAAAAAAAAAAAAAAAAAAAAAAAAAAAAAAAAAAAAAAAAAAAAAAAAAAAAAAAAAAAAAAAAAAAAAAAAAAAAAAAAAAAAAAAAAAAAAAAAAAAAAAAAAAAAAAAAAAAAAAAAAAAAAAAAAAAAAAAAAAAAAAAAAAAAAAAAAAAAAAAAAAAAAAAAAAAAAAAAAAAAAAAAAAAAAAAAAAAAAAAAAAAAAAAAAAAAAAAAAAAAAAAAAAAAAAAAAAAAAAAAAAAAAAAAAAAAAAAAAAAAAAAAAAAAAAAAAAAAAAAAAAAAAAAAAAAAAAAAAAAAAAAAAAAAAAAAAAAAAAAAAAAAAAAAAAAAAAAAAAAAAAAAAAAAAAAAAAAAAAAAAAAAAAAAAAAAAAAAAAAAAAAAAAAAAAAAAAAAAAAAAAAAAAAAAAAAAAAAAAAAAAAAAAAAAAAAAAAAAAAAAAAAAAAAAAAAAAAAAAAAAAAAAAAAAAAAAAAAAAAAAAAAAAAAAAAAAAAAAAAAAAAAAAAAAAAAAAAAAAAAAAAAAAAAAAAAAAAAAAAAAAAAAAAAAAAAAAAAAAAAAAAAAAAAAAAAAAAAAAAAAAAAAAAAAAAAAAAAAAAAAAAAAAAAAAAAAAAAAAAAAAAAAAAAAAAAAAAAAAAAAAAAAAAAAAAAAAAAALDk7xcZB9z0mSUPKt/cYPpXCDjHQWjk+FCVtW8V0Wj736qhknFR4PpIdbLahR5U+H+FBjHaXsT5XYn1ACZTLPnQRjRZlguQ+0KNWhj7w/D6G2uWHImETP0r17xccpig/0aCBpUrJPT/a6OnfqhtRP/uABzUtsWI/viPNW9Rvcz9mKcgFlT+DP1SbJnqvKpI/i/37lYpaoD+/NrpDVxusPwsG8Ks3FLc/+3xvgHogwj+DzzF5LUXLPy4H6zJHrNM/FJmfApxE2z8AVHXexzDiP7RUeYXKauc/DB4F0pkq7T/WEqX2wKDxP99FEndUv/Q/FcMxpLvZ9z/TLBz6f9n6Pw+3n0wXpv0/1AKpnXQQAEA+X7NhkREBQIvKTYIrwAFA4lQKWrEHAkDWVGEoGdwBQH92avsIQQFA1wmJpkZOAECYkv6gqV3+P2FX8fd7M/w/0gtMJbeL+j/x77PODLj5PyY+Lyhg2Pk/1RpNpLvS+j/yUcG+wVz8P2+TnRwnFP4/vdKBYuCd/z+4ubkZSGAAQKmYlMgRuABAY7U1vS/jAEBiuVmsGfYAQHlHlKws/wBAZF1YVPD8AEDNJ4OQv9wAQCS6WhZZggBAqiWTN5ap/z9tFOuu15X9P78b94wi5Po/V5er7Q7Z9z+VMqrtrdH0P/g3txA0K/I/AAe8vN0s8D9zEHJCTPbtP3fUeqeOLu0/D+0syifT7T/L1MCXyKPvPzQBX+C3N/E/t3KagQQU8z8Jb8zr8HD1Pw92LphdX/g/A8E26hLm+z8c8ApfJvH/P7STKHM0JAJAbOrSCpxIBEAXCHb+8S0GQFCc63NrnAdABTRLkrZnCECMWU1URXgIQH4Y3xV10AdAdTkijtaMBkCYdr+27d8EQNa9Ngl0CgNAoS/Cr5FRAUBLn63jj+n/Pyr+T1LMSv4/QsjxsFsC/j8Zw/IuKSL/PxDLg/TmywBAsCEcYE2bAkD7U3za8eAEQPnXJm6+eQdAiF5GiWw+CkDPMa/WWQINQIhOAN7nkg9A92tbmuLcEEBB1POel6ERQKsZetSKAxJAKhAZiRD5EUDkT77sfIURQLoxB1WcuBBAGG+o9sBVD0A4/qYz3e4MQEeOUkwebApAxZL6nfrtB0CpS120foMFQKJRHI3jLQNAe9f4OLXnAED99cL5llj9P0gKu23H+fg/vEltDVrE9D95cil4X9XwP0asx0rKneo/w15XDIKh5D9I8EYyqcvfP/cwaSZmCNk/dtJLL+r51D8GBuXxzG/TP17XzDTsDtQ/gzOdEjld1j/o+UQWItPZP0dXykzR8N0/MYL+/yUp4T+O4OBcnF3jP51k/g0AiuU/EFb0k4yr5z+vuV8/f7rpP5zWz7TTnes/kFSy+6Un7T8E3g6a/h3uPyXN0VU0Tu4//NTAia6j7T+od2jyfjjsP6r7PhNZWOo/oFXCmutz6D8a7RQ41wjnP11MH/x8huY/KYHxOAM45z9xX1bXqDjpP/V9c1zTcuw/KRH2G1JT8D/z52X/67nyP3PJVVcZMvU/Lv2HzSp79z+j7gTyUlX5PxgBoHrVifo/LS6+WJL0+j/LvbEEL436P3bRUHpKbfk/Myw47lHR9z+a8NNDnBL2P54pyG7tmvQ/5mj0dO7S8z87WuMKTQ70P7d8frgVefU/DwsTL2QK+D9fbbwfY4D7P4rv6c9PaP8/2AkZxk2ZAUDRnIIt5icDQM1dY7PHJwRAk4CQWPV8BEDBc9HrwC0EQBCamLWlYANAUm2eOl1SAkBQUF3c1kYBQKBebX8OeQBAUNQzRvANAEDuPTjBjg0AQN18NtwtZABAx3WSJnHqAEAPlcw87XEBQN4b0DEi0gFAvRgdEwnyAUBa4zHB58sBQAs6RT9nawFAafTKP+HnAEBlLFEmoF0AQP9tHGBr0P8/j6fAbm49/z/H7+9RGCP/PyaOWM5Rkv8/P2QL4HhFAEA7uYimRP4AQN7uIL/05AFAyjapn47nAkCu0sZREvQDQIO83zMF+wRAg5RJnkjwBUDLIEOuL8oGQNRv7Y+efwdAAZlwfl0GCEA29iKmilIIQAuj3R9yVwhAdklbNnEJCEAyBZutNmAHQEYOIXu4WAZATSy/k3D2BEDAnq9esEMDQFnCXs4IUQFAi/+Lr9Jn/j95CrTocgn6P/4NiNqRufU/ZMTVr+qo8T+Mo9zFIQfsP5iI1dyP3uU/j7ugsHAV4T+xAq+ZwrPbP6ssUAzYkdg/5LaZtQfV2D9LP2XpE1bcP3y6jKbBU+E/TlM4tX+F5T/brMVU8DnqP79Bae7yzu4/mrnmejtO8T8kQmLGd4jyP+vRPI1q5vI/l7r06V5a8j8fdLubEvrwP9OMkpQR8O0/kdGKVSUu6T+4DguN+zfkP/N4pvOMBd8/xxYRZePA1j+m0atweu7PP6p6YT/CccU/wxkHL9CSuz8vbdnSiPiwP5fVRu2p/qM/7uLeIL+Jlj98lAaRYkqIP1juAxsZA3k/TmjpePGVaD9qKFWLaAxXPwf7hLu6lkQ//eu4CVKCMT8CePROyVMcP8n0B1++xwU/IUJOxvPP7z7nnsqUqw3WPkmxFctDAr0+D2jsZa0Xoj7P2+ssWECFPpSyCIbC2Gc+E93jt8F8SD4gff3kX8UoPg0AF6Pyswc+AAAAAAAAAAAAAAAAAAAAAAAAAAAAAAAAAAAAAAAAAAAAAAAAAAAAAAAAAAAAAAAAAAAAAAAAAAAAAAAAAAAAAAAAAAAAAAAAAAAAAAAAAAAAAAAAAAAAAAAAAAAAAAAAAAAAAAAAAAAAAAAAAAAAAAAAAAAAAAAAAAAAAAAAAAAAAAAAAAAAAAAAAAAAAAAAAAAAAAAAAAAAAAAAAAAAAAAAAAAAAAAAAAAAAAAAAAAAAAAAAAAAAAAAAAAAAAAAAAAAAAAAAAAAAAAAAAAAAAAAAAAAAAAAAAAAAAAAAAAAAAAAAAAAAAAAAAAAAAAAAAAAAAAAAAAAAAAAAAAAAAAAAAAAAAAAAAAAAAAAAAAAAAAAAAAAAAAAAAAAAAAAAAAAAAAAAAAAAAAAAAAAAAAAAAAAAAAAAAAAAAAAAAAAAAAAAAAAAAAAAAAAAAAAAAAAAAAAAAAAAAAAAAAAAAAAAAAAAAAAAAAAAAAAAAAAAAAAAAAAAAAAAAAAAAAAAAAAAAAAAAAAAAAAAAAAAAAAAAAAAAAAAAAAAAAAAADbsKRxm0kMPjAk08L0XC0+Gq+IotXUTD7peepN14prPka0i7X5Uog+fUrI7PdrpD4v9+Ax7jDAPuSlDRGHU9g+xJZn1oFS8T7HSyiaBWQHP+eKrfR89h0/Q/uzVAw3Mj93gzJiqQhFP3nx49HUFVc/2MlO9O8ZaD+kPB26HfV3P6cOgSunsoY/x8mDcuOElD/vy6LccbihP42ekzZqRq0/uUGSMFwotz/2HxpQOZDBP4yS5Nwcksk/wARwG1Hi0T+lNpTl+g3YP14tTPvQId8/aSuz+Dpl4z8iWa/vn0bnP9rdqsYO6eo/4Ee+6Y367T+l3W7wPxfwP7puFJywpPA/wpxs1keV8D/JZDNiCtLvPwNp4LTwYO0/4ySjJ5oU6j9cAkbrMT3mPy3FkJagMeI/PB8eOTeG3D9jaovCiGXVPy86H4MCrc4/moqsw738xD+7nby34GC7PwuewWEKBLE/WB5hrC0vpD/ga5N32haXPyO1NW7wsoo/atcUQ4xMgj8MoyyYxDyDP5IXyvIMZY4/mMfyjsLNmz/SOQTA6nupP03oA7LgdLY/GpHp9onZwj8keSzYARnOP6SbUgPI3NY/m05pVPaJ4D+L+zAqBtHmPzUJMxvFDu4/NNoj6xHw8j/Cz+pGTt72Px9OBAzPg/o/trk/chST/T9BKJmEpcn/P3nvtE7qewBAbTRJ8sGCAECELxfNevT/P/Nmgn364P0/rsxxXoIA+z8U2pFb5Z33P8jRGAjJEfQ/uAID+Ku38D8hIwVIPcLrP5UhmEEelOc/ARJSYWQi5T9dSK+TO23kP31UGi30QeU/4luRhMtP5z8TolVbnUHqPyqDF5G+1e0/LlEkptf28D/t9UBcpEjzP3H4+/EH8vU/k90qXWIH+T+TIaD/Q5H8P4QNmYVjPwBArbu0aqtOAkDJHQ6KC00EQCl6Y+SCBwZAbhj3rBdNB0C6g5Lwb/wHQDqN2hnQDghAZV5NXwKcB0CETHPYz9QGQBhb1D4z9QVA+3pxF8EyBUBGBD05WK0EQF0cs79JZwRAcQuIykBHBED4G21TpSIEQAMgjK59zANAowm/4tQjA0A+fimMcR0CQFR1g2CWxgBA+53DPJGB/j/gOGhnBnH7P7UPkLjJs/g/mlfvskCN9j/3w/UJkR/1P/fxF9ZwafQ/NQmOynFN9D/r675+Pp/0P+PrTfjAMfU/2l6vQGPh9T/S4k/UbJf2P/J017VJRvc/xZM10lfh9z+dx6bfqlT4P5wUTuNIgfg/gAH6WYBA+D/CY8oPym33P0c8FnOA8/U/TgyZeBrV8z/F0BPoYzLxPzU3qA8jhOw/9XSuPkKL5j9DdLR1/vXgP9yHeGZTQ9g/Nje+4viC0D96alkPb4DFP53YcRQ3V7s/40hEKgsMsj9ByJgeZkWsP7eeIBdO6q0/WZsQpvpVtD+b8YXerIW+P9uoRmTpAcc/hIf5SfzR0D+gbyLbEZzXP3D6n+HRvd8/H+Y/mz9w5D9A2PA3CDvpP0s74Cs04u0/+VlPsGn/8D/hLXK0bpjyP6z/JxVomPM/HLPrOZ7u8z9FWo4K6Z/zP12KMWPww/I/3IV2P/l98T+DlGMpmOfvP9IF2Jb0i+w/QSXCkBkY6T+rTqLMjqrlP2iWDHlEWeI/ArGPzKt13j/pCQl5ptjYP0YYtPRfItQ/X2LhB66b0D92eztPNv3MP8gnpJTvyss/fZz6ZoB8zT+qeNHmVMXQP2VbXsJpidM/9lL1c4J51j+SO3tL9PvYP963A9CIito/tPvMtBTN2j9XJHQX66rZP5rYnKO1Tdc/UUOBhfUU1D/33NN0uX7QPz85ezTFGso/ngnCGkJkxD9DJ6u184DAP6xRuHBsqr0/AxeM7mULvz/U5QiV7XvCP8LYsK2OZ8c/elT72jm+zT/eUVzOlmDSP2jhaZd8yNU/2TrQcaCp2D995YuNRLPaPzci9Irzy9s/7/O19P8k3D83mOmF+j7cPwp9G4yq2tw/+iYiWc3W3j8ZpZmv53/hP+t0TNF27eQ/YxPoA5C86T92yJLhfq/vP9/A7SwOI/M/Gyi5wJRp9j+UUkR14U/5P534Nnvtifs/PKISgLbr/D/HSIWoqnD9P6foJ4dZN/0/4UrZJyhz/D9f9wZrhFn7P5+o4zWVEfo/ui88+gas+D9tvA6SESX3P9SxeV3QbvU/Cr1sei9/8z/5K4er/VvxP10Bk6AbQu4/6Mom96r96T+A0E8l6GTmP83sYmNQ8+M/cUAHMGoL4z95VKET49/jPyrpC2p0ZOY/wgOU3ihK6j+uhPeXgAnvPx+Fqv1T/fE/4zKJJgo89D9uuTs9sAH2P66tgDu8MPc/CkjxmyXS9z/XLKHi+Q74P/+BY0nOIPg/F/wp58I++D9PtUr+AY74P61TkWjjGvk/JfBq3Avc+T8EqxDW47z6P/znhiZdqvs/4j7opOyc/D/ynHXvaZz9P8SxTh0Uvf4/gGVEXJ4LAEA5AWKdRN4AQMwEy48g1wFAmTiTNOjrAkCNZvbOyQcEQJO61L8hDwVAAKxR/57lBUC7M34uCnUGQHNo1mx6sgZAJ9tKvCCgBkDQoTzt80oGQEkL1CAQxQVAgTQd9fMeBUBw+U/PUWIEQAmgBPeekANAe5ZexwymAkCuQTvHv58BQKA3TxqqggBAVueEKRLA/j910DPlsar8P1L/IeWSDvs/OMSABksy+j+Yu+JA40b6P5NOncmCWfs/1l+DjtFN/T/MumG9TuL/P3NLeKZhXgFAz4BB2nu9AkDokEgzsuEDQMY05vo8qQRAttzy2VIBBUDoENzkUecEQC9W8dNLZwRAgT1DQWuYA0DbUeV805cCQNR8fWDdggFAI4nQC9txAEBFTcEjO+n+P5bUBXQvI/0/9sQmm1KP+z9mWOOxYiP6Pwadc3Dk1Pg/ls1e1c6e9z/qxT0XtoP2P8fKR/HUjPU/eF3Vh43H9D/F5vmpIEP0P9mAZjWHD/Q/4s/rsSQ99D8SGXGRKNz0P2JvOUdf+vU/88MHdgKf9z8Ux3T+dsX5P4bHQYo3Wfw/RMyZgLA1/z/nYSIHAhYBQJD48OpBhwJAtJ4vg2rfA0BnvkS8shwFQNO9W5kyTAZA7+2JB06FB0Aj4GG2at8IQPEF22fbZApATEuyL7wHDECGWzHImJ0NQPN6yVjI5A5AX/f/K/6SD0Bm4cvS82gPQAdNpKLORA5A4GCO8AMtDEDoq+1TDlAJQLiYK1Q9+QVA1Hcwq6h+AkA9sddHulz+P6o19/8Agfg/",
          "dtype": "f8"
         }
        }
       ],
       "layout": {
        "scene": {
         "xaxis": {
          "title": {
           "text": "E [eV]"
          }
         },
         "yaxis": {
          "title": {
           "text": "PDOS [1/eV]"
          }
         }
        },
        "template": {
         "layout": {
          "hovermode": "closest",
          "paper_bgcolor": "white",
          "plot_bgcolor": "white",
          "scene": {
           "xaxis": {
            "color": "black",
            "gridcolor": "#ccc",
            "gridwidth": 1,
            "linewidth": 1,
            "mirror": true,
            "showgrid": false,
            "showline": true,
            "ticklen": 5,
            "ticks": "outside",
            "ticksuffix": " ",
            "visible": true,
            "zeroline": false,
            "zerolinecolor": "#ccc",
            "zerolinewidth": 1
           },
           "yaxis": {
            "color": "black",
            "gridcolor": "#ccc",
            "gridwidth": 1,
            "linewidth": 1,
            "mirror": true,
            "showgrid": false,
            "showline": true,
            "ticklen": 5,
            "ticks": "outside",
            "ticksuffix": " ",
            "visible": true,
            "zeroline": false,
            "zerolinecolor": "#ccc",
            "zerolinewidth": 1
           },
           "zaxis": {
            "color": "black",
            "gridcolor": "#ccc",
            "gridwidth": 1,
            "linewidth": 1,
            "mirror": true,
            "showgrid": false,
            "showline": true,
            "ticklen": 5,
            "ticks": "outside",
            "ticksuffix": " ",
            "visible": true,
            "zeroline": false,
            "zerolinecolor": "#ccc",
            "zerolinewidth": 1
           }
          },
          "xaxis": {
           "color": "black",
           "gridcolor": "#ccc",
           "gridwidth": 1,
           "linewidth": 1,
           "mirror": true,
           "showgrid": false,
           "showline": true,
           "ticklen": 5,
           "ticks": "outside",
           "ticksuffix": " ",
           "visible": true,
           "zeroline": false,
           "zerolinecolor": "#ccc",
           "zerolinewidth": 1
          },
          "yaxis": {
           "color": "black",
           "gridcolor": "#ccc",
           "gridwidth": 1,
           "linewidth": 1,
           "mirror": true,
           "showgrid": false,
           "showline": true,
           "ticklen": 5,
           "ticks": "outside",
           "ticksuffix": " ",
           "visible": true,
           "zeroline": false,
           "zerolinecolor": "#ccc",
           "zerolinewidth": 1
          }
         }
        },
        "xaxis": {
         "title": {
          "text": "E [eV]"
         }
        },
        "yaxis": {
         "title": {
          "text": "PDOS [1/eV]"
         }
        }
       }
      }
     },
     "metadata": {},
     "output_type": "display_data"
    }
   ],
   "source": [
    "plot"
   ]
  },
  {
   "cell_type": "markdown",
   "metadata": {},
   "source": [
    "## PDOS groups\n",
    "\n",
    "There's a very important setting in the `PdosPlot`: `groups`. This setting expects a list of orbital groups, where each group is a dictionary that can specify \n",
    "- `species`\n",
    "- `atoms`\n",
    "- `orbitals` (the orbital name)\n",
    "- `n`, `l`, `m` (the quantum numbers)\n",
    "- `Z` (the Z shell of the orbital)\n",
    "- `spin`\n",
    "\n",
    "involved in the PDOS line that you want to draw. Apart from that, a group also accepts the `name`, `color`, `linewidth` and `dash` keys that manage the aesthetics of the line and `reduce`, which indicates the method to use for accumulating orbital contributions: `\"mean\"` averages over orbitals while `\"sum\"` simply accumulates all contributions. Finally, `scale` lets you multiply the DOS of the group by whatever factor you want.\n",
    "\n",
    "Here is an example of how to use the `groups` setting to create a line that displays the Oxygen 2p PDOS:"
   ]
  },
  {
   "cell_type": "code",
   "execution_count": 4,
   "metadata": {
    "execution": {
     "iopub.execute_input": "2025-09-23T10:48:22.163927Z",
     "iopub.status.busy": "2025-09-23T10:48:22.163744Z",
     "iopub.status.idle": "2025-09-23T10:48:22.229023Z",
     "shell.execute_reply": "2025-09-23T10:48:22.228547Z"
    }
   },
   "outputs": [
    {
     "name": "stderr",
     "output_type": "stream",
     "text": [
      "INFO\tTask(Task-3) nodify.node.139839192917024:node.py:get()- No need to evaluate\n"
     ]
    },
    {
     "name": "stderr",
     "output_type": "stream",
     "text": [
      "INFO\tTask(Task-3) nodify.node.139839192918752:node.py:get()- No need to evaluate\n"
     ]
    },
    {
     "name": "stderr",
     "output_type": "stream",
     "text": [
      "INFO\tTask(Task-3) nodify.node.139839192915824:node.py:get()- No need to evaluate\n"
     ]
    },
    {
     "name": "stderr",
     "output_type": "stream",
     "text": [
      "INFO\tTask(Task-3) nodify.node.139839192918656:node.py:get()- No need to evaluate\n"
     ]
    },
    {
     "name": "stderr",
     "output_type": "stream",
     "text": [
      "INFO\tTask(Task-3) nodify.node.139839192915584:node.py:get()- No need to evaluate\n"
     ]
    },
    {
     "name": "stderr",
     "output_type": "stream",
     "text": [
      "INFO\tTask(Task-3) nodify.node.139839192918944:node.py:get()- Evaluated because inputs changed.\n"
     ]
    },
    {
     "name": "stderr",
     "output_type": "stream",
     "text": [
      "INFO\tTask(Task-3) nodify.node.139839192918752:node.py:get()- No need to evaluate\n"
     ]
    },
    {
     "name": "stderr",
     "output_type": "stream",
     "text": [
      "INFO\tTask(Task-3) nodify.node.139839192915824:node.py:get()- No need to evaluate\n"
     ]
    },
    {
     "name": "stderr",
     "output_type": "stream",
     "text": [
      "INFO\tTask(Task-3) nodify.node.139839192913184:node.py:get()- No need to evaluate\n"
     ]
    },
    {
     "name": "stderr",
     "output_type": "stream",
     "text": [
      "INFO\tTask(Task-3) nodify.node.139839192915200:node.py:get()- Evaluated because inputs changed.\n"
     ]
    },
    {
     "name": "stderr",
     "output_type": "stream",
     "text": [
      "INFO\tTask(Task-3) nodify.node.139839192917408:node.py:get()- No need to evaluate\n"
     ]
    },
    {
     "name": "stderr",
     "output_type": "stream",
     "text": [
      "INFO\tTask(Task-3) nodify.node.139839192914528:node.py:get()- Evaluated because inputs changed.\n"
     ]
    },
    {
     "name": "stderr",
     "output_type": "stream",
     "text": [
      "INFO\tTask(Task-3) nodify.node.139839192918272:node.py:get()- No need to evaluate\n"
     ]
    },
    {
     "name": "stderr",
     "output_type": "stream",
     "text": [
      "INFO\tTask(Task-3) nodify.node.139839192919856:node.py:get()- No need to evaluate\n"
     ]
    },
    {
     "name": "stderr",
     "output_type": "stream",
     "text": [
      "INFO\tTask(Task-3) nodify.node.139839192920672:node.py:get()- No need to evaluate\n"
     ]
    },
    {
     "name": "stderr",
     "output_type": "stream",
     "text": [
      "INFO\tTask(Task-3) nodify.node.139839192918272:node.py:get()- No need to evaluate\n"
     ]
    },
    {
     "name": "stderr",
     "output_type": "stream",
     "text": [
      "INFO\tTask(Task-3) nodify.node.139839192921536:node.py:get()- No need to evaluate\n"
     ]
    },
    {
     "name": "stderr",
     "output_type": "stream",
     "text": [
      "INFO\tTask(Task-3) nodify.node.139839192920576:node.py:get()- No need to evaluate\n"
     ]
    },
    {
     "name": "stderr",
     "output_type": "stream",
     "text": [
      "INFO\tTask(Task-3) nodify.node.139839192917888:node.py:get()- No need to evaluate\n"
     ]
    },
    {
     "name": "stderr",
     "output_type": "stream",
     "text": [
      "INFO\tTask(Task-3) nodify.node.139839192918272:node.py:get()- No need to evaluate\n"
     ]
    },
    {
     "name": "stderr",
     "output_type": "stream",
     "text": [
      "INFO\tTask(Task-3) nodify.node.139839192920720:node.py:get()- No need to evaluate\n"
     ]
    },
    {
     "name": "stderr",
     "output_type": "stream",
     "text": [
      "INFO\tTask(Task-3) nodify.node.139839192914144:node.py:get()- Evaluated because inputs changed.\n"
     ]
    },
    {
     "name": "stderr",
     "output_type": "stream",
     "text": [
      "INFO\tTask(Task-3) nodify.node.139839192922496:node.py:get()- Evaluated because inputs changed.\n"
     ]
    },
    {
     "name": "stderr",
     "output_type": "stream",
     "text": [
      "INFO\tTask(Task-3) nodify.node.139839192922976:node.py:get()- Evaluated because inputs changed.\n"
     ]
    },
    {
     "data": {
      "application/vnd.plotly.v1+json": {
       "config": {
        "plotlyServerURL": "https://plot.ly"
       },
       "data": [
        {
         "line": {
          "width": 1.0
         },
         "meta": {},
         "mode": "lines",
         "name": "My first PDOS (Oxygen)",
         "type": "scatter",
         "x": {
          "bdata": "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",
          "dtype": "f8"
         },
         "y": {
          "bdata": "AAAAAAAAAAAAAAAAAAAAAAAAAAAAAAAAAAAAAAAAAAAAAAAAAAAAAAAAAAAAAAAAAAAAAAAAAAAAAAAAAAAAAAAAAAAAAAAAAAAAAAAAAAAAAAAAAAAAAAAAAAAAAAAAAAAAAAAAAAAAAAAAAAAAAAAAAAAAAAAAAAAAAAAAAAAAAAAAAAAAAAAAAAAAAAAAAAAAAAAAAAAAAAAAAAAAAAAAAAAAAAAAAAAAAAAAAAAAAAAAAAAAAAAAAAAAAAAAAAAAAAAAAAAAAAAAAAAAAAAAAAAAAAAAAAAAAAAAAAAAAAAAAAAAAAAAAAAAAAAAAAAAAAAAAAAAAAAAAAAAAAAAAAAAAAAAAAAAAAAAAAAAAAAAAAAAAAAAAAAAAAAAAAAAAAAAAAAAAAAAAAAAAAAAAAAAAAAAAAAAAAAAAAAAAAAAAAAAAAAAAAAAAAAAAAAAAAAAAAAAAAAAAAAAAAAAAAAAAAAAAAAAAAAAAAAAAAAAAAAAAAAAAAAAAAAAAAAAAAAAAAAAAAAAAAAAAAAAAAAAAAAAAAAAAAAAAAAAAAAAAAAAAAAAAAAAAAAAAAAAAAAAAAAAAAAAAAAAAAAAAAAAAAAAAAAAAAAAAAAAAAAAAAAAAAAAAAAAAAAAAAAAAAAAAAAAAAAAAAAAAAAAAAAAAAAAAAAAAAAAAAAAAAAAAAAAAAAAAAAAAAAAAAAAAAAAAAAAAAAAAAAAAAAAAAAAAAAAAAAAAAAAAAAAAAAAAAAAAAAAAAAAAAAAAAAAAAAAAAAAAAAAAAAAAAAAAAAAAAAAAAAAAAAAAAAAAAAAAAAAAAAAAAAAAAAAAAAAAAAAAAAAAAAAAAAAAAAAAAAAAAAAAAAAAAAAAAAAAAAAAAAAAAAAAAAAAAAAAAAAAAAAAAAAAAAAAAAAAAAAAAAAAAAAAAAAAAAAAAAAAAAAAAAAAAAAAAAAAAAAAAAAAAAAAAAAAAAAAAAAAAAAAAAAAAAAAAAAAAAAAAAAAAAAAAAAAAAAAAAAAAAAAAAAAAAAAAAAAAAAAAAAAAAAAAAAAAAAAAAAAAAAAAAAAAAAAAAAAAAAAAAAAAAAAAAAAAAAAAAAAAAAAAAAAAAAAAAAAAAAAAAAAAAAAAAAAAAAAAAAAAAAAAAAAAAAAAAAAAAAAAAAAAAAAAAAAAAAAAAAAAAAAAAAAAAAAAAAAAAAAAAAAAAAAAAAAAAAAAAAAAAAAAAAAAAAAAAAAAAAAAAAAAAAAAAAAAAAAAAAAAAAAAAAAAAAAAAAAAAAAAAAAAAAAAAAAAAAAAAAAAAAAAAAAAAAAAAAAAAAAAAAAAAAAAAAAAAAAAAAAAAAAAAAAAAAAAAAAAAAAAAAAAAAAAAAAAAAAAAAAAAAAAAAAAAAAAAAAAAAAAAAAAAAAAAAAAAAAAAAAAAAAAAAAAAAAAAAAAAAAAAAAAAAAAAAAAAAAAAAAAAAAAAAAAAAl2Le7kfK8j14X8pHHCwUPm2huF4sfDQ+Y2eIGktHVT5Mm3hyeo5zPoRC4IzyFpE+fOPj3lk7rD7qdvzl0RvGPgUaFkSebOA+ia+nV7gl9z5JcxU6VvYOP0rq9QeRqSM/9a8xACO5Nz+mT3fyaTRLP7vRmhAtq10/+bYrBiDKbj/DTdr4O21+P94dvZAwp4w/zr8on827mT/eMBDLlg+mP/1gbNvuEbI/fMZ9DopQvD/S3dMyrD7FP/hs9X84k84/HKjD59Mi1T8i/lPm2iDcP5S7GasGD+I/H7uHReNu5j/NfblB4ArrP1w+KGVfvO8/9FSyXGkv8j/xsmEvxmf0P+SqSZ7RdPY/rYOGdRhA+D/gyZNRka35P2X7kdyBnfo/T7qSvPHy+j+PAYIIp536P2wwzIJ7pPk/SlQyaKwr+D+LYu/vXHP2P8QElU3kzPQ/FY1pG+GI8z+39v+nIuPyPxdkXAz98vI/LnK2Fcel8z/KYSHCGcb0P3BbjUTeDfY/n8Ql1+089z8p5oDs0yv4Py+tmxZp0/g/s/0qmGZG+T/VJBPPFKD5P1R1O20g8Pk/xCRv0AQt+j8CiXxQfTP6P/QFNQNq0/k/tE9rhW7k+D+ED4UVPln3PzOUDxB3SfU/7mx5+V7u8j+frwMuYpTwP1hWEda2Du0/1/A2fbgB6j/uRVOyGzzoPxXoGxb1vuc/6yFB9SNj6D9fxYk2HvTpPzTT76UwSuw/JzmAT2xa7z/zPBanDZvxP5ggKqPG/PM/802DVELY9j+AntQphR36P8v5kVvrnv0/YonytluJAEAUXKttDw8CQPBv+R9WMwNA7fHou3vSA0C4hnia6NkDQGUMB1RMTANAQ9DkNsZBAkAwu5FSV+QAQIJvHqP50v4/LUtSpk4U/D+KS3cq9vT5P3F/86G3xfg/VkO4DDO3+D9h6Dc3+Nf5P013sfXoGPw/dPFgGGNV/z9yOr1Ruq0BQJvpAyVj+ANASz0mcoNpBkDuG0C3x9oIQM8JZCAWIAtAsBAlc48JDUDQtgE0FmkOQD4sUmNtGg9AaUd3/lcLD0CNG27nikAOQHupgpge1QxArTgqNiz0CkAac3ALg84IQMMAQprjjwZAUAm1yj9XBEDj2+jQIzQCQEqJq2pMKQBATEgZoBVl/D+8NU2Kc5b4PxQDSIzS5fQ/vfZojD9e8T9QIr2noinsPwl79c8SR+Y/k51c8e5G4T/qKBXPnp/aP0ggSgJe7dQ/5q/bl4x40T8uvwVdYBrQP19oe1fdiNA/NgXnRqRg0j++SCzscjPVP2ltgkmnmdg/5T3Ao5JC3D8twiU1qP3fP94I2Gm92+E/GFhriOW04z+BqmPUIILlP6lPLmpQLOc/WHkjTOmK6D8VtF/g7mvpP476tpWupOk/V1crpg0l6T/vAt72VQXoP6UsA6Y+iOY/tUFP8J4P5T/hc6IiggfkP6RCW6qzzuM/FPoN0fCj5D8bjwLtFpzmPzBD8hmcoek/yQh/UH967T8Eygk+fejwPyLJStlLHvM/8UESqMwl9T/6evfsHcf2P0A4w26P0vc/yxHeIhgp+D9BnwVlfsT3P/fhUFrgvPY/F8gVGm1J9T+5fyLSE7vzPwR/sdtEcfI/oa7nwynK8T/EednqwhDyP48XgZoibPM/5SW5LHjT9T9AitlJfwr5P9l6ybHDqPw/PJ2PmekVAED/8J2Wq4gBQD5j3cOXeQJA31Y+5iPPAkC2ksBg444CQBSy6Xuj2wFAKZsbF3rsAEA+YBObTP7/P8I3OLuzkv4/8xL2RW/Z/T+wvTMlFOH9P5fC0BlChf4/24l5qoh9/z/4CNU+PzoAQFuCdy7fjwBAYVFWMtWoAECICHefToAAQBwbqxy0IQBA3gF+y6xG/z+C9eyqIUD+P1Ya00HOY/0/AUZMuNnc/D9h8OApbsn8P9ysoHiIOP0/yUH2iTgp/j/aZaDAwYv/Pz8JDv6TogBASUrItGSaAUACQ1lPM50CQIhYMrs2nQNAud4aMYSPBEDdOB5+AmsFQOhTR4aVJgZA3IYyTJ23BkD/Iwe4nREHQMUsis9DJwdA4bBN1mPsBkD+FbT8QFgGQAcn40B7ZwVArrgbbjsdBEASJ96ec4MCQEmN7d44qgBA6DVsBLtM/T96t32HJB/5P2nEG1LR/PQ/M40vEh8V8T8OAGIfGSbrPxHlLY1WN+U/RZoGN7Sa4D8z6y6V7fzaP/I+OjnNANg/DqS1MFhT2D/4S9HHkNDbP/+wwRSNB+E/UCmTXNAq5T9Y6de+os7pPxf5R+bzU+4/5TjTRcgK8T94h+FjEULyP44cWXqnoPI/TXGhG80Y8j+5ugzFo7/wP0TVz/5Vje0/bwjH7BHf6D+uNlcl8fvjP9miqWYcr94/X4TUCeWF1j+9/iBbIaLPP13U8GTqQsU/gUGQUk9cuz9JoCTid9qwPxFO56k136M/8dO4IYtqlj8lDwNlCC2IP1iSH2fq6Hg/bbHZ88t/aD9j9rQLpfpWP/U+ed83iUQ/60EjP5N4MT8mWul0dEYcP8hXdJEYvwU/ZuPw7U/F7z6Ziso6dgfWPvE2YG9k+7w+QEfulxEUoj5hSmuubD2FPiWd2Sfy1Wc+spt+c4J8SD7jXfnkH8UoPounhGW1swc+AAAAAAAAAAAAAAAAAAAAAAAAAAAAAAAAAAAAAAAAAAAAAAAAAAAAAAAAAAAAAAAAAAAAAAAAAAAAAAAAAAAAAAAAAAAAAAAAAAAAAAAAAAAAAAAAAAAAAAAAAAAAAAAAAAAAAAAAAAAAAAAAAAAAAAAAAAAAAAAAAAAAAAAAAAAAAAAAAAAAAAAAAAAAAAAAAAAAAAAAAAAAAAAAAAAAAAAAAAAAAAAAAAAAAAAAAAAAAAAAAAAAAAAAAAAAAAAAAAAAAAAAAAAAAAAAAAAAAAAAAAAAAAAAAAAAAAAAAAAAAAAAAAAAAAAAAAAAAAAAAAAAAAAAAAAAAAAAAAAAAAAAAAAAAAAAAAAAAAAAAAAAAAAAAAAAAAAAAAAAAAAAAAAAAAAAAAAAAAAAAAAAAAAAAAAAAAAAAAAAAAAAAAAAAAAAAAAAAAAAAAAAAAAAAAAAAAAAAAAAAAAAAAAAAAAAAAAAAAAAAAAAAAAAAAAAAAAAAAAAAAAAAAAAAAAAAAAAAAAAAAAAAAAAAAAAAAAAAAAAAAAAAAAAAAAAAABU6Fo+EaPDPUS2ZVM2YuQ9KhDIw7cDBD6avnW+7WEjPhkIKgz1KEE+2de/RwvsXD6bhXHjegN3PtjeeSCaXJE+gbsyh0zZqD7lk8ubrt/APoRE4MNPwtU+nYAXmI+o6j5Bn5JnpA3/PtEeemKrNRE/5d8lwIcqIj+T4c9yZUcyP4DfaiiLjEE/4/Qm+WkXUD/zeQmIMjZcP8QvpHkVqmc/bK73XK4Ccz/6vgF6HUZ9P1ETaDW+nYU/n3fcgO+hjj9NDLMpK9aUP105XY8GOZs/Lp9K0XAVoT8u+ALt7ZqkP0CWxRTd46c/gM6qimCiqj/CyN8fk4+sPx1/OvsGd60/jM0Xu3Y/rT8ugfX6ze6rP1o23rDbqKk/sG+b+TKppj+svDbjozmjP2tnRMJmTp8/vmmSjjBvmD/EqlwBGkKSPw6GTX7uFoo/gEYLut3MgT/tb1c2Uix3P77yrS3lyWw/Y0JZiy4oYT//77gsRSlUP94F0PxQ+Ek/NL3EK3OARz9Cx6Jdq/tQPyati7vrRV8/V2an53HtbT/nLxE8Wsh7P48dzCyom4g/u+tksV26lD8SAwxD95mgP91DWe9kTak/CgUdZkldsj+VqrlS1Wu5P+QzoSC3zcA/sA2y5FtAxT8EOoYpWMLJP7YIYx6o+80//DjXnNDJ0D/9aeegOR7SP65AykkV3tI/d5l5ZEf50j98Z9/rMm7SP9ho2AVgStE/i0BjEx1Uzz+tGw3PWWzLP5SWHklhQMc/X3X+adk3wz/zx3dIrmG/P5eyT1P35bk/pVolB9VOtj81u/qPfq+0Pzb16cRB6LQ/hpYfFS29tj+jSY4w4vC5P6RM1aRaXL4/dmiorpT+wT9bMPTi2nrFP4ZBp8HUvsk/TGQRzBLizj/BvANNU3LSPwGmRps/ztU/yt69IPxU2T+IV79IJb3cP2ASuz3qrd8/AaywkZ7o4D/braSA0nThP3t1AUlUcuE/dfKD1lvx4D9c+lVcRhjgPz081Aw2M94/yFfyNwtN3D+PM72hdcTaP01BV6aFtNk/QjmjR2wL2T+UmEhx+ZXYP+zIH847E9g/z1QojJZJ1z9X0w1VMxfWP57tCwXyedQ/1sT5vteN0j9TF5mdo4PQPxMv70QBJs0/L2KPsffYyT+XnwyS013HP7ALRPf6xMU/vw2ocvTzxD+UQJKWbrHEPwyXCtQ6tsQ/gctejBm+xD9TSgNBQJTEP0CFVXlzGcQ/4NLst7NDwz/bu1NAPxnCP105qB6fqcA/pJq1u9cOvj/+xxzvDIm6P7aNt5ot4rY/+v7/oLI4sz9b3+4VulavP9UwkDGmsqg/eQLC/AK/oj9Mw+BMpVGbP3/3zkXoEZM/pTanO0+GiT+AB0lGm4aAP9qg8/ORaXU/hmJ2gER5bj/8axEqms1rP2eL85xxP3E/vva7JgekeT8wVBwxKPGDP+gH5/P2f44/VphN+IN5lj8SAhrDY7+fP9At3l7CeaU/PH0DNgPXqz9m/joIK06xP02P2Hb5prQ/U12YHJ2vtz+TG3e+ySS6P7o6n6KR0rs/CgsWoR6evD8x1O+nfYm8P/097r3xr7s/5chI2Qk8uj80kbeUSFu4P9Zb524uNLY/mqywejnisz+v/pJCf3ixP1Hpc1XhEK4/vDR4FmhRqT9y/Dn9+fCkP0qjLvWlO6E/FgRoLgf+nD9/D93FZfOZP8e0kK52lpk/Va7wahzQmz/WRV+vTxSgP8xY9cBP56I/7PI04rzYpT8T74V2wFaoP6a55qRJ4ak/1jsOYPQjqj84N9HNAAepP+CKCzbfsaY/tLg4bX1+oz/+DxwIh8OfP8ZHCcYjopg/XFxYcDtZkj9C5gHqDs6KP5KRq8dUCIQ/CStYzn9dgD9Ve47n3+x+P7n5CiBPyIA/Ws79sTStgz+f2qiiaXmHP5580kQjlYs/9Onk6xWhjz+GYnPKKtORPxcIw60SJZQ/zLNK55F7lz8GZUD+Q/ScP3Pwjm7XAKM/QmboprQbqj8qbyvQQT2yP54vAviSPrk/e/K/mJ3/wD+rbXNeYgzGP1ZHndLFaMs/yeCwLyFN0D+OwMxLYY/SP876R5q6Q9Q/RYlXGgJI1T8iP9AGL5XVP6EHmOOXPdU/88pgCX5k1D9gjdBjXTLTP3rnrYlnytE/Wg83FZ1E0D8U42IwclvNP3TD3XqAF8o/v95wrhPJxj8nYj0m6YbDP7vM2VvOeMA/yUgLEkGuuz+RszcNism3P+AjDDTeyrU/MemkxMUjtj+P3S9hJRe5P0C0/Xp0or4/YMYQjRY3wz8h9QbkQebHP6xo3MRL5sw/gvlhxMLY0D/mwgDzEejSP+oCQvsbedQ/ysTygpN/1T8CdxB3HArWP4AVp6MqOdY/nNHmYhIx1j97f/WU8gzWP+kd9FKU19U/omz4u4qM1T9wKpuAQiDVPyxNEE0Oi9Q/rYT/25XS0z/dPr5fPA7TPzDWtcwlZdI/9Cn4angG0j8Cra8F0R3SPwOuJYilxtI/lQqydrcB1D/O0whtt6/VP6Z7Bn6Fk9c/WhZg9sVc2T/CFL5x97jaP2b0tWWkZts/Hei2SuBE2z+1AmQF9FnaPxsMqQ//ztg/3otwXFfi1j/+s1hQ2tXUP6xGs1Gd39I/LM42b/Eh0T8kh2C2gFjPP+mbZgUkBc0/hEXq+GhOyz+9tYin0UPKP0rW/d6tA8o/8AHGjHi0yj8TBfnN5nfMP+2Nj5VxXc8/hnlFG2ys0T9i8eyhKh/UP0F6D3rr4dY/MR5bQ9zC2T+MwJMOHIfcP3F+dZgN8N4/qzr2409h4D+HR2OvHujgP5RiWKHn/+A/5LLINRCq4D9b4nID2OzfP2g0qKOLAN4/R7Jx7cPQ2z/92AxSLZvZP2vcqVpyjNc/6uNWcMG41T/m6b6C+hvUP8QBey7ZoNI/GxQISUAs0T99BGges1HPPzP74XVgH8w/JjV2OsTXyD9dSvU4jLLFP0tSgeqS/sI/9zTOHrYTwT/2o3W+A0TAP5QSh/ghzsA/+znlbsLRwj+4WRUn7UbGP/BEjQb1+co/kXA/d3lH0D8WAHJBpUfTPzcepPyNQNY/VIOBMQ0C2T8IfptleHXbP+xKoMhgo90/1jdV5pWu3z+KDgtmHuLgP9pgeeKrAuI/Oa8G+8044z9gcGR0D27kP6p4Y6/Dd+U/5piYp/Ag5j+dl2G2EznmP5MYDLHJouU/ixdhokld5D/yY2E3gYXiPxkaM5m0TuA/N/55QQbr2z8hPCnB3WPXP8hHYp7HWdM/",
          "dtype": "f8"
         }
        }
       ],
       "layout": {
        "scene": {
         "xaxis": {
          "title": {
           "text": "E [eV]"
          }
         },
         "yaxis": {
          "title": {
           "text": "PDOS [1/eV]"
          }
         }
        },
        "template": {
         "layout": {
          "hovermode": "closest",
          "paper_bgcolor": "white",
          "plot_bgcolor": "white",
          "scene": {
           "xaxis": {
            "color": "black",
            "gridcolor": "#ccc",
            "gridwidth": 1,
            "linewidth": 1,
            "mirror": true,
            "showgrid": false,
            "showline": true,
            "ticklen": 5,
            "ticks": "outside",
            "ticksuffix": " ",
            "visible": true,
            "zeroline": false,
            "zerolinecolor": "#ccc",
            "zerolinewidth": 1
           },
           "yaxis": {
            "color": "black",
            "gridcolor": "#ccc",
            "gridwidth": 1,
            "linewidth": 1,
            "mirror": true,
            "showgrid": false,
            "showline": true,
            "ticklen": 5,
            "ticks": "outside",
            "ticksuffix": " ",
            "visible": true,
            "zeroline": false,
            "zerolinecolor": "#ccc",
            "zerolinewidth": 1
           },
           "zaxis": {
            "color": "black",
            "gridcolor": "#ccc",
            "gridwidth": 1,
            "linewidth": 1,
            "mirror": true,
            "showgrid": false,
            "showline": true,
            "ticklen": 5,
            "ticks": "outside",
            "ticksuffix": " ",
            "visible": true,
            "zeroline": false,
            "zerolinecolor": "#ccc",
            "zerolinewidth": 1
           }
          },
          "xaxis": {
           "color": "black",
           "gridcolor": "#ccc",
           "gridwidth": 1,
           "linewidth": 1,
           "mirror": true,
           "showgrid": false,
           "showline": true,
           "ticklen": 5,
           "ticks": "outside",
           "ticksuffix": " ",
           "visible": true,
           "zeroline": false,
           "zerolinecolor": "#ccc",
           "zerolinewidth": 1
          },
          "yaxis": {
           "color": "black",
           "gridcolor": "#ccc",
           "gridwidth": 1,
           "linewidth": 1,
           "mirror": true,
           "showgrid": false,
           "showline": true,
           "ticklen": 5,
           "ticks": "outside",
           "ticksuffix": " ",
           "visible": true,
           "zeroline": false,
           "zerolinecolor": "#ccc",
           "zerolinewidth": 1
          }
         }
        },
        "xaxis": {
         "title": {
          "text": "E [eV]"
         }
        },
        "yaxis": {
         "title": {
          "text": "PDOS [1/eV]"
         }
        }
       }
      }
     },
     "metadata": {},
     "output_type": "display_data"
    }
   ],
   "source": [
    "plot.update_inputs(\n",
    "    groups=[{\"name\": \"My first PDOS (Oxygen)\", \"species\": [\"O\"], \"n\": 2, \"l\": 1}]\n",
    ")\n",
    "# or (it's equivalent)\n",
    "plot.update_inputs(\n",
    "    groups=[\n",
    "        {\n",
    "            \"name\": \"My first PDOS (Oxygen)\",\n",
    "            \"species\": [\"O\"],\n",
    "            \"orbitals\": [\"2pzZ1\", \"2pzZ2\", \"2pxZ1\", \"2pxZ2\", \"2pyZ1\", \"2pyZ2\"],\n",
    "        }\n",
    "    ]\n",
    ")"
   ]
  },
  {
   "cell_type": "markdown",
   "metadata": {},
   "source": [
    "And now we are going to create three lines, one for each species"
   ]
  },
  {
   "cell_type": "code",
   "execution_count": 5,
   "metadata": {
    "execution": {
     "iopub.execute_input": "2025-09-23T10:48:22.230785Z",
     "iopub.status.busy": "2025-09-23T10:48:22.230579Z",
     "iopub.status.idle": "2025-09-23T10:48:22.322107Z",
     "shell.execute_reply": "2025-09-23T10:48:22.321476Z"
    }
   },
   "outputs": [
    {
     "name": "stderr",
     "output_type": "stream",
     "text": [
      "INFO\tTask(Task-3) nodify.node.139839192917024:node.py:get()- No need to evaluate\n"
     ]
    },
    {
     "name": "stderr",
     "output_type": "stream",
     "text": [
      "INFO\tTask(Task-3) nodify.node.139839192918752:node.py:get()- No need to evaluate\n"
     ]
    },
    {
     "name": "stderr",
     "output_type": "stream",
     "text": [
      "INFO\tTask(Task-3) nodify.node.139839192915824:node.py:get()- No need to evaluate\n"
     ]
    },
    {
     "name": "stderr",
     "output_type": "stream",
     "text": [
      "INFO\tTask(Task-3) nodify.node.139839192918656:node.py:get()- Evaluated because inputs changed.\n"
     ]
    },
    {
     "name": "stderr",
     "output_type": "stream",
     "text": [
      "INFO\tTask(Task-3) nodify.node.139839192915584:node.py:get()- Evaluated because inputs changed.\n"
     ]
    },
    {
     "name": "stderr",
     "output_type": "stream",
     "text": [
      "INFO\tTask(Task-3) nodify.node.139839192918944:node.py:get()- Evaluated because inputs changed.\n"
     ]
    },
    {
     "name": "stderr",
     "output_type": "stream",
     "text": [
      "INFO\tTask(Task-3) nodify.node.139839192918752:node.py:get()- No need to evaluate\n"
     ]
    },
    {
     "name": "stderr",
     "output_type": "stream",
     "text": [
      "INFO\tTask(Task-3) nodify.node.139839192915824:node.py:get()- No need to evaluate\n"
     ]
    },
    {
     "name": "stderr",
     "output_type": "stream",
     "text": [
      "INFO\tTask(Task-3) nodify.node.139839192913184:node.py:get()- No need to evaluate\n"
     ]
    },
    {
     "name": "stderr",
     "output_type": "stream",
     "text": [
      "INFO\tTask(Task-3) nodify.node.139839192915200:node.py:get()- Evaluated because inputs changed.\n"
     ]
    },
    {
     "name": "stderr",
     "output_type": "stream",
     "text": [
      "INFO\tTask(Task-3) nodify.node.139839192917408:node.py:get()- No need to evaluate\n"
     ]
    },
    {
     "name": "stderr",
     "output_type": "stream",
     "text": [
      "INFO\tTask(Task-3) nodify.node.139839192914528:node.py:get()- Evaluated because inputs changed.\n"
     ]
    },
    {
     "name": "stderr",
     "output_type": "stream",
     "text": [
      "INFO\tTask(Task-3) nodify.node.139839192918272:node.py:get()- No need to evaluate\n"
     ]
    },
    {
     "name": "stderr",
     "output_type": "stream",
     "text": [
      "INFO\tTask(Task-3) nodify.node.139839192919856:node.py:get()- No need to evaluate\n"
     ]
    },
    {
     "name": "stderr",
     "output_type": "stream",
     "text": [
      "INFO\tTask(Task-3) nodify.node.139839192920672:node.py:get()- No need to evaluate\n"
     ]
    },
    {
     "name": "stderr",
     "output_type": "stream",
     "text": [
      "INFO\tTask(Task-3) nodify.node.139839192918272:node.py:get()- No need to evaluate\n"
     ]
    },
    {
     "name": "stderr",
     "output_type": "stream",
     "text": [
      "INFO\tTask(Task-3) nodify.node.139839192921536:node.py:get()- No need to evaluate\n"
     ]
    },
    {
     "name": "stderr",
     "output_type": "stream",
     "text": [
      "INFO\tTask(Task-3) nodify.node.139839192920576:node.py:get()- No need to evaluate\n"
     ]
    },
    {
     "name": "stderr",
     "output_type": "stream",
     "text": [
      "INFO\tTask(Task-3) nodify.node.139839192917888:node.py:get()- No need to evaluate\n"
     ]
    },
    {
     "name": "stderr",
     "output_type": "stream",
     "text": [
      "INFO\tTask(Task-3) nodify.node.139839192918272:node.py:get()- No need to evaluate\n"
     ]
    },
    {
     "name": "stderr",
     "output_type": "stream",
     "text": [
      "INFO\tTask(Task-3) nodify.node.139839192920720:node.py:get()- No need to evaluate\n"
     ]
    },
    {
     "name": "stderr",
     "output_type": "stream",
     "text": [
      "INFO\tTask(Task-3) nodify.node.139839192914144:node.py:get()- Evaluated because inputs changed.\n"
     ]
    },
    {
     "name": "stderr",
     "output_type": "stream",
     "text": [
      "INFO\tTask(Task-3) nodify.node.139839192922496:node.py:get()- Evaluated because inputs changed.\n"
     ]
    },
    {
     "name": "stderr",
     "output_type": "stream",
     "text": [
      "INFO\tTask(Task-3) nodify.node.139839192922976:node.py:get()- Evaluated because inputs changed.\n"
     ]
    },
    {
     "data": {
      "application/vnd.plotly.v1+json": {
       "config": {
        "plotlyServerURL": "https://plot.ly"
       },
       "data": [
        {
         "line": {
          "color": "darkred",
          "dash": "dash",
          "width": 1.0
         },
         "meta": {},
         "mode": "lines",
         "name": "Oxygen",
         "type": "scatter",
         "x": {
          "bdata": "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",
          "dtype": "f8"
         },
         "y": {
          "bdata": "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",
          "dtype": "f8"
         }
        },
        {
         "line": {
          "color": "gray",
          "width": 3
         },
         "meta": {},
         "mode": "lines",
         "name": "Titanium",
         "type": "scatter",
         "x": {
          "bdata": "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",
          "dtype": "f8"
         },
         "y": {
          "bdata": "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",
          "dtype": "f8"
         }
        },
        {
         "line": {
          "color": "green",
          "width": 1.0
         },
         "meta": {},
         "mode": "lines",
         "name": "Sr",
         "type": "scatter",
         "x": {
          "bdata": "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",
          "dtype": "f8"
         },
         "y": {
          "bdata": "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",
          "dtype": "f8"
         }
        }
       ],
       "layout": {
        "scene": {
         "xaxis": {
          "title": {
           "text": "E [eV]"
          }
         },
         "yaxis": {
          "title": {
           "text": "PDOS [1/eV]"
          }
         }
        },
        "template": {
         "layout": {
          "hovermode": "closest",
          "paper_bgcolor": "white",
          "plot_bgcolor": "white",
          "scene": {
           "xaxis": {
            "color": "black",
            "gridcolor": "#ccc",
            "gridwidth": 1,
            "linewidth": 1,
            "mirror": true,
            "showgrid": false,
            "showline": true,
            "ticklen": 5,
            "ticks": "outside",
            "ticksuffix": " ",
            "visible": true,
            "zeroline": false,
            "zerolinecolor": "#ccc",
            "zerolinewidth": 1
           },
           "yaxis": {
            "color": "black",
            "gridcolor": "#ccc",
            "gridwidth": 1,
            "linewidth": 1,
            "mirror": true,
            "showgrid": false,
            "showline": true,
            "ticklen": 5,
            "ticks": "outside",
            "ticksuffix": " ",
            "visible": true,
            "zeroline": false,
            "zerolinecolor": "#ccc",
            "zerolinewidth": 1
           },
           "zaxis": {
            "color": "black",
            "gridcolor": "#ccc",
            "gridwidth": 1,
            "linewidth": 1,
            "mirror": true,
            "showgrid": false,
            "showline": true,
            "ticklen": 5,
            "ticks": "outside",
            "ticksuffix": " ",
            "visible": true,
            "zeroline": false,
            "zerolinecolor": "#ccc",
            "zerolinewidth": 1
           }
          },
          "xaxis": {
           "color": "black",
           "gridcolor": "#ccc",
           "gridwidth": 1,
           "linewidth": 1,
           "mirror": true,
           "showgrid": false,
           "showline": true,
           "ticklen": 5,
           "ticks": "outside",
           "ticksuffix": " ",
           "visible": true,
           "zeroline": false,
           "zerolinecolor": "#ccc",
           "zerolinewidth": 1
          },
          "yaxis": {
           "color": "black",
           "gridcolor": "#ccc",
           "gridwidth": 1,
           "linewidth": 1,
           "mirror": true,
           "showgrid": false,
           "showline": true,
           "ticklen": 5,
           "ticks": "outside",
           "ticksuffix": " ",
           "visible": true,
           "zeroline": false,
           "zerolinecolor": "#ccc",
           "zerolinewidth": 1
          }
         }
        },
        "xaxis": {
         "title": {
          "text": "E [eV]"
         }
        },
        "yaxis": {
         "title": {
          "text": "PDOS [1/eV]"
         }
        }
       }
      }
     },
     "metadata": {},
     "output_type": "display_data"
    }
   ],
   "source": [
    "plot.update_inputs(\n",
    "    groups=[\n",
    "        {\n",
    "            \"name\": \"Oxygen\",\n",
    "            \"species\": [\"O\"],\n",
    "            \"color\": \"darkred\",\n",
    "            \"dash\": \"dash\",\n",
    "            \"reduce\": \"mean\",\n",
    "        },\n",
    "        {\n",
    "            \"name\": \"Titanium\",\n",
    "            \"species\": [\"Ti\"],\n",
    "            \"color\": \"gray\",\n",
    "            \"size\": 3,\n",
    "            \"reduce\": \"mean\",\n",
    "        },\n",
    "        {\"name\": \"Sr\", \"species\": [\"Sr\"], \"color\": \"green\", \"reduce\": \"mean\"},\n",
    "    ],\n",
    "    Erange=[-5, 5],\n",
    ")"
   ]
  },
  {
   "cell_type": "markdown",
   "metadata": {},
   "source": [
    "It's interesting to note that the `atoms` key of each group accepts the same possibilities as the `atoms` argument of the `Geometry` methods. Therefore, **you can use indices, categories, dictionaries, strings...**\n",
    "\n",
    "For example:"
   ]
  },
  {
   "cell_type": "code",
   "execution_count": 6,
   "metadata": {
    "execution": {
     "iopub.execute_input": "2025-09-23T10:48:22.323883Z",
     "iopub.status.busy": "2025-09-23T10:48:22.323708Z",
     "iopub.status.idle": "2025-09-23T10:48:22.419824Z",
     "shell.execute_reply": "2025-09-23T10:48:22.419217Z"
    }
   },
   "outputs": [
    {
     "name": "stderr",
     "output_type": "stream",
     "text": [
      "INFO\tTask(Task-3) nodify.node.139839192917024:node.py:get()- No need to evaluate\n"
     ]
    },
    {
     "name": "stderr",
     "output_type": "stream",
     "text": [
      "INFO\tTask(Task-3) nodify.node.139839192918752:node.py:get()- No need to evaluate\n"
     ]
    },
    {
     "name": "stderr",
     "output_type": "stream",
     "text": [
      "INFO\tTask(Task-3) nodify.node.139839192915824:node.py:get()- No need to evaluate\n"
     ]
    },
    {
     "name": "stderr",
     "output_type": "stream",
     "text": [
      "INFO\tTask(Task-3) nodify.node.139839192918656:node.py:get()- No need to evaluate\n"
     ]
    },
    {
     "name": "stderr",
     "output_type": "stream",
     "text": [
      "INFO\tTask(Task-3) nodify.node.139839192915584:node.py:get()- No need to evaluate\n"
     ]
    },
    {
     "name": "stderr",
     "output_type": "stream",
     "text": [
      "INFO\tTask(Task-3) nodify.node.139839192918944:node.py:get()- Evaluated because inputs changed.\n"
     ]
    },
    {
     "name": "stderr",
     "output_type": "stream",
     "text": [
      "INFO\tTask(Task-3) nodify.node.139839192918752:node.py:get()- No need to evaluate\n"
     ]
    },
    {
     "name": "stderr",
     "output_type": "stream",
     "text": [
      "INFO\tTask(Task-3) nodify.node.139839192915824:node.py:get()- No need to evaluate\n"
     ]
    },
    {
     "name": "stderr",
     "output_type": "stream",
     "text": [
      "INFO\tTask(Task-3) nodify.node.139839192913184:node.py:get()- No need to evaluate\n"
     ]
    },
    {
     "name": "stderr",
     "output_type": "stream",
     "text": [
      "INFO\tTask(Task-3) nodify.node.139839192915200:node.py:get()- Evaluated because inputs changed.\n"
     ]
    },
    {
     "name": "stderr",
     "output_type": "stream",
     "text": [
      "INFO\tTask(Task-3) nodify.node.139839192917408:node.py:get()- No need to evaluate\n"
     ]
    },
    {
     "name": "stderr",
     "output_type": "stream",
     "text": [
      "INFO\tTask(Task-3) nodify.node.139839192914528:node.py:get()- Evaluated because inputs changed.\n"
     ]
    },
    {
     "name": "stderr",
     "output_type": "stream",
     "text": [
      "INFO\tTask(Task-3) nodify.node.139839192918272:node.py:get()- No need to evaluate\n"
     ]
    },
    {
     "name": "stderr",
     "output_type": "stream",
     "text": [
      "INFO\tTask(Task-3) nodify.node.139839192919856:node.py:get()- No need to evaluate\n"
     ]
    },
    {
     "name": "stderr",
     "output_type": "stream",
     "text": [
      "INFO\tTask(Task-3) nodify.node.139839192920672:node.py:get()- No need to evaluate\n"
     ]
    },
    {
     "name": "stderr",
     "output_type": "stream",
     "text": [
      "INFO\tTask(Task-3) nodify.node.139839192918272:node.py:get()- No need to evaluate\n"
     ]
    },
    {
     "name": "stderr",
     "output_type": "stream",
     "text": [
      "INFO\tTask(Task-3) nodify.node.139839192921536:node.py:get()- No need to evaluate\n"
     ]
    },
    {
     "name": "stderr",
     "output_type": "stream",
     "text": [
      "INFO\tTask(Task-3) nodify.node.139839192920576:node.py:get()- No need to evaluate\n"
     ]
    },
    {
     "name": "stderr",
     "output_type": "stream",
     "text": [
      "INFO\tTask(Task-3) nodify.node.139839192917888:node.py:get()- No need to evaluate\n"
     ]
    },
    {
     "name": "stderr",
     "output_type": "stream",
     "text": [
      "INFO\tTask(Task-3) nodify.node.139839192918272:node.py:get()- No need to evaluate\n"
     ]
    },
    {
     "name": "stderr",
     "output_type": "stream",
     "text": [
      "INFO\tTask(Task-3) nodify.node.139839192920720:node.py:get()- No need to evaluate\n"
     ]
    },
    {
     "name": "stderr",
     "output_type": "stream",
     "text": [
      "INFO\tTask(Task-3) nodify.node.139839192914144:node.py:get()- Evaluated because inputs changed.\n"
     ]
    },
    {
     "name": "stderr",
     "output_type": "stream",
     "text": [
      "INFO\tTask(Task-3) nodify.node.139839192922496:node.py:get()- Evaluated because inputs changed.\n"
     ]
    },
    {
     "name": "stderr",
     "output_type": "stream",
     "text": [
      "INFO\tTask(Task-3) nodify.node.139839192922976:node.py:get()- Evaluated because inputs changed.\n"
     ]
    },
    {
     "data": {
      "application/vnd.plotly.v1+json": {
       "config": {
        "plotlyServerURL": "https://plot.ly"
       },
       "data": [
        {
         "line": {
          "width": 1.0
         },
         "meta": {},
         "mode": "lines",
         "name": "Atoms 0 and 1",
         "type": "scatter",
         "x": {
          "bdata": "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",
          "dtype": "f8"
         },
         "y": {
          "bdata": "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",
          "dtype": "f8"
         }
        },
        {
         "line": {
          "width": 1.0
         },
         "meta": {},
         "mode": "lines",
         "name": "Atoms with Z=8",
         "type": "scatter",
         "x": {
          "bdata": "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",
          "dtype": "f8"
         },
         "y": {
          "bdata": "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",
          "dtype": "f8"
         }
        },
        {
         "line": {
          "width": 1.0
         },
         "meta": {},
         "mode": "lines",
         "name": "Oxygens with even indices",
         "type": "scatter",
         "x": {
          "bdata": "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",
          "dtype": "f8"
         },
         "y": {
          "bdata": "gOJSpdFb4z/01dFR21LhP3ovZV0yJOA/c/iODm+h3z9eN6UakT7gP6OTt5L/SuE/37FowNDb4j88HFIs7unkP+KFzn7wgOc/O3mu0Zuz6j/3v+yJeYnuP9sXgWtgdvE/V9x5fAHQ8z/xMDyhKyD2PyuuWrQYKvg/EeG4glKx+T+zafBUM4b6PxIfP4gCkPo/aW9sQH3S+T900daXA274Pwg5GwTSmvY/+Qv7c3Gg9D8bAmo2+sryPz3jaqkOYPE/PollvpGV8D+MKe1N4YvwP1Pj5LuSTPE/X71jKmbN8j+7lmB1wvX0P3+/nAI5pPc/Wpj+59Wx+j/Rtw5ga/L9P8l7VU9+mQBAJggVhXMcAkBw7JAFQmIDQKcCxhY/TARAaVrktU7CBEDcoJ3bS7gEQDhADPtTMQRA+bBDIGk/A0AOPyAwMv8BQFqfv7YhkQBAetIfYpck/j/SJXWYfS77P9t0r/2aVPg/8zPZu5Ka9T8f+Sfp4PryP5E9mAhzb/A/jiX1tbfv6z/NS3GwRTfnP+cDQt320eI/g5VeDlrF3T8eff1U4hXXP42ilycRydE/+HHdK6v1yz8Kv//fD1jHP8vSm3lHhcU/oRzZ+1Maxj94w3D+X5LIP2qXQOMeWsw/RPig4phz0D/QkAPi+ebSP4/OLWLbZtU/yx0EiVfm1z98tAwVSGHaP3G97jGvzNw/Kg+YGnUJ3z/rcghtjnDgP5OnusA9COE/2B9E/BUv4T9IRmgbO9rgPxVVSpzrGeA/RclSkMM13j9P6ahUiD3cP3StyQhC3No/1YKOq2eR2j9gjh50h7HbPwdZT4QGWd4/dcEQsKc14T+alufyVc3jP0eoLCftueY/4AMKnxu16T8Hy5mcNXLsP7mcspjSpe4/6/GZOcYH8D8/u/01tkLwP1TVw0fq/u8/c67Y912c7j/EXiIH9qfsPxr64D2Pjuo/53bds5XQ6D/yxzmlz+znP1sWku5USOg/SAvBAQMY6j/9ieKZYlDtP7P2x9Fm0PA/Z8Gfmo8+8z8aBizYCpv1P4/PCjsujvc/MeS/MSrT+D/OjiDEaUf5P4rnDKsj8vg/JKKbU94B+D9fbInxdsD2P6+eA5XZgPU/gIlDJTyL9D/zgx9e9wz0P1Ezl04LEPQ/VOfp4T589D+KUMuaFyH1P8CwntxVxfU/A8qd6w839j8kIhvpolf2P2blMFONIPY/WE6cJBqh9T8phuqWPff0P8hDocAIR/Q/jq9vsWuz8z+jBS6ZXVnzPyfdOZUXTfM/NEMPrJyY8z+q/JbnOjv0P9TzMQBPKvU/maDNXqdT9j+KnwMYRqH3P0XpCsZs/fg/ommCCX9V+j9Hctj0u5r7P5Z3OnPawPw/dz7dd5m7/T8Rr5k+vnz+P/49LLyd8/4/f2l0SngO/z+vDIHtIb3+P345QTAN9P0/5SILDN6u/D8yKNsi+fH6P8Cu1iDXyvg/K8hxXCJP9j9rHDAy1JrzP/8C58iwzfA/WpigfTYR7D+bkeB/c9bmPyYswRJ1JOI/+k3+8DRZ3D8+0EGXjS7WP1/SjMRhBtI/PLv1QiII0D+tBaNnwT/QP/IUZsz6lNI/X83rykDB1j8UCiSqpkjcPxGs5O++PeE/On/Qjp1C5D87xsGrl8TmP60FF7f4Y+g/THtdSMrh6D8rB0PyxSvoP4pc2Gw6XuY/CYJ4/Fa74z8vdHlv1prgP5F9dxNlrto/2gq78TR71D8dD5LgiRDOP/CyCoBHHMU/6sCD1OVfvD/ZZZVwXkGyP4f7vkTLfKY/451oNkKDmj871YQGoeeNPzM7xTkAIIA/pDLo5widcD/eVeXZrlZgP4x65l3qpU4/qJFFZXRjOz/0x/gWxUwnP5K9vyWR2hI/e5045QcA/T7/+dII/i7lPiEnbpw7YM0+hE0q4M9Ssz6vqukxXhuYPp9RbjFyUnw+IWaWLH/IXz5pbnPRK1NAPvQ05kSVgyA+pdcS3Zia/z0AAAAAAAAAAAAAAAAAAAAAAAAAAAAAAAAAAAAAAAAAAAAAAAAAAAAAAAAAAAAAAAAAAAAAAAAAAAAAAAAAAAAAAAAAAAAAAAAAAAAAAAAAAAAAAAAAAAAAAAAAAAAAAAAAAAAAAAAAAAAAAAAAAAAAAAAAAAAAAAAAAAAAAAAAAAAAAAAAAAAAAAAAAAAAAAAAAAAAAAAAAAAAAAAAAAAAAAAAAAAAAAAAAAAAAAAAAAAAAAAAAAAAAAAAAAAAAAAAAAAAAAAAAAAAAAAAAAAAAAAAAAAAAAAAAAAAAAAAAAAAAAAAAAAAAAAAAAAAAAAAAAAAAAAAAAAAAAAAAAAAAAAAAAAAAAAAAAAAAAAAAAAAAAAAAAAAAAAAAAAAAAAAAAAAAAAAAAAAAAAAAAAAAAAAAAAAAAAAAAAAAAAAAAAAAAAAAAAAAAAAAAAAAAAAAAAAAAAAAAAAAAAAAAAAAAAAAAAAAAAAAAAAAAAAAAAAAAAAAAAAAAAAAAAAAAAAAAAAAAAAAAAAAAAAAAAAAAAAAAAAAAAAAAAAAAAAACWQpkS+mMA95e1PNEs64T25BXD8beoAPhsLUDUGVSA+vXsF3S3nPD4ZcYJ1GVZYPiirLgJjWXM+yWVTI8kqjT7YsYUFidmkPiKfnnLMR7w+EI9Ijx010j4QzSzEGUXmPvvTy1ld5Pk+M+RUCCajDD867vMENCgeP04hdDTSQy4/WQ2osWH5PD+FsSJfzXxKP22z0l5PJVc/EtF6lSJaYz9p0uvTz/1uP8xjuj8hyXc/WTaynaKCgT/tidfcgb6IP62wXOrgyZA/Kuz1O7zilT9cMn0ZBmubP+dsB2mggqA/PXSn7uIeoz88KCguwUylPxEJJNYn1KY/nVDUnIKLpz/DPQlUoF6nPwt7REr5UaY/yva5wcSBpD/mL4rcOB2iP3qT2RURvp4/6qMj8TsJmT8FQWJJYIuTP6H5kzaxNo0/fDERRvrfhD+n0DBL13x8Pw1oIJ82i3I/VsKzh5UIZz8PfHydNW1bP/DGWSK1ClA/2+xfJslSRD8Q+EqWQb1BP23nH4No1Ug/nFBwPpaUVj80pV5hO4hlP8bppEcj93M/jzw9EyasgT+Rc0lvU8GNP0OZmApc0Zc/OAIG76ojoj/y/KlCRlCqP46LfKwGM7I/1FvWsmUKuD9+fQsTp2C+P6bgsAGbZMI/Cqr3mwdjxT/0Q+W7dOzHP+XVVFbgyck/rKAqHNTSyj9F8YKCe/HKP/eJV8LNJMo/WslpvkyByD9I9TLQQzDGP9QnxdDMbMM/XhkqTOB9wD9roEEyHlu7P4ySpAaYfbY/8ZiVx0jIsj+DA4fKunOwPyDyfTpAFK8/JytKzcrfrz8KHM9oH3SxP4zLxNZL5LM/EBGCmxUetz8kE1vOQRq7P1WD60Bg7b8/0mm/uX/ewj8Wx1THW1XGPyKmUlCdXMo/zmxZyDnZzj+ioo5E9MXRP9eSkrltCdQ/MRUUwM771T8OexHx5GPXP5k6capFGdg/spOS0akQ2D+NtY/GF2HXPypsoxcpP9Y/90pqy0fv1D/XS8SpNLPTP5EWaY/xuNI/lWozfoEQ0j91oSLiQKvRPxvja1gqZNE/q0eMoJkN0T/vXWI36H/QP/bDbGZYSc8/guDxD+z3zD+TavNn3TXKPx6AorgeSsc/FVdhWteExD8ElOFW9SvCP5fqcerRbMA/d9IRY+Crvj+yPrhCY7K9P4mMerPVqL0/uXm43oU5vj/PGIN8HhK/P7HVMJOw8L8/gZgWr3NTwD80fdgniYrAP+gwmLjKkMA/U9W3PSBZwD+wmHKKoau/P23CjsUl970/rBGcBi6Nuz8TYoFC7X24P5mB9Fgn9LQ/MYgIf5wvsT+muze0Y/GqP0mdBSWRI6Q/4Qdb8IqtnD9/15lWe3qTP6d/mvNtdok/7OFMmx2DgD+ckvfSwSN3PxiCgUC2Y3Q/raHPkll0eD/OrrtNt9yBP8hQtyP1mos/aS2qsQYQlT9i2zV/LAOfP1x+eQd+5KU/B0h7nX6brT+7NjpLly+zP6hZ+h6K2bc/ynqmLHB3vD89gXW3EVXAP441zHWKC8I/jW10Y3M8wz94/B/EFtbDP3ZI9FT42cM/QIefqQJawz+qA8HVmnHCP+cAA8VQPcE/aZPJfPmovz8vJ/1IRo68P8h0uYy5QLk/Hq8mDL7WtT8Zl39BZHCyP/9LTTB4dq4/iV3WrZPdqD8RZZCFNYakP/RsPGTUyaE/+JHZHbfVoD8=",
          "dtype": "f8"
         }
        }
       ],
       "layout": {
        "scene": {
         "xaxis": {
          "title": {
           "text": "E [eV]"
          }
         },
         "yaxis": {
          "title": {
           "text": "PDOS [1/eV]"
          }
         }
        },
        "template": {
         "layout": {
          "hovermode": "closest",
          "paper_bgcolor": "white",
          "plot_bgcolor": "white",
          "scene": {
           "xaxis": {
            "color": "black",
            "gridcolor": "#ccc",
            "gridwidth": 1,
            "linewidth": 1,
            "mirror": true,
            "showgrid": false,
            "showline": true,
            "ticklen": 5,
            "ticks": "outside",
            "ticksuffix": " ",
            "visible": true,
            "zeroline": false,
            "zerolinecolor": "#ccc",
            "zerolinewidth": 1
           },
           "yaxis": {
            "color": "black",
            "gridcolor": "#ccc",
            "gridwidth": 1,
            "linewidth": 1,
            "mirror": true,
            "showgrid": false,
            "showline": true,
            "ticklen": 5,
            "ticks": "outside",
            "ticksuffix": " ",
            "visible": true,
            "zeroline": false,
            "zerolinecolor": "#ccc",
            "zerolinewidth": 1
           },
           "zaxis": {
            "color": "black",
            "gridcolor": "#ccc",
            "gridwidth": 1,
            "linewidth": 1,
            "mirror": true,
            "showgrid": false,
            "showline": true,
            "ticklen": 5,
            "ticks": "outside",
            "ticksuffix": " ",
            "visible": true,
            "zeroline": false,
            "zerolinecolor": "#ccc",
            "zerolinewidth": 1
           }
          },
          "xaxis": {
           "color": "black",
           "gridcolor": "#ccc",
           "gridwidth": 1,
           "linewidth": 1,
           "mirror": true,
           "showgrid": false,
           "showline": true,
           "ticklen": 5,
           "ticks": "outside",
           "ticksuffix": " ",
           "visible": true,
           "zeroline": false,
           "zerolinecolor": "#ccc",
           "zerolinewidth": 1
          },
          "yaxis": {
           "color": "black",
           "gridcolor": "#ccc",
           "gridwidth": 1,
           "linewidth": 1,
           "mirror": true,
           "showgrid": false,
           "showline": true,
           "ticklen": 5,
           "ticks": "outside",
           "ticksuffix": " ",
           "visible": true,
           "zeroline": false,
           "zerolinecolor": "#ccc",
           "zerolinewidth": 1
          }
         }
        },
        "xaxis": {
         "title": {
          "text": "E [eV]"
         }
        },
        "yaxis": {
         "title": {
          "text": "PDOS [1/eV]"
         }
        }
       }
      }
     },
     "metadata": {},
     "output_type": "display_data"
    }
   ],
   "source": [
    "# Let's import the AtomZ and AtomOdd categories just to play with them\n",
    "from sisl.geom import AtomZ, AtomOdd\n",
    "\n",
    "plot.update_inputs(\n",
    "    groups=[\n",
    "        {\"atoms\": [0, 1], \"name\": \"Atoms 0 and 1\"},\n",
    "        {\"atoms\": {\"Z\": 8}, \"name\": \"Atoms with Z=8\"},\n",
    "        {\"atoms\": AtomZ(8) & ~AtomOdd(), \"name\": \"Oxygens with even indices\"},\n",
    "    ]\n",
    ")"
   ]
  },
  {
   "cell_type": "markdown",
   "metadata": {},
   "source": [
    "## Easy and fast DOS splitting\n",
    "\n",
    "As you might have noticed, sometimes it might be cumbersome to build all the groups you want. If your needs are simple and you don't need the flexibility of defining every parameter by yourself, there is a set of methods that will help you explore your PDOS data faster than ever before. These are: `split_DOS`, `split_groups`, `update_groups`, `remove_groups` and `add_groups`.\n",
    "\n",
    "Let's begin with `split_DOS`. As you can imagine, this method splits the density of states:"
   ]
  },
  {
   "cell_type": "code",
   "execution_count": 7,
   "metadata": {
    "execution": {
     "iopub.execute_input": "2025-09-23T10:48:22.421688Z",
     "iopub.status.busy": "2025-09-23T10:48:22.421381Z",
     "iopub.status.idle": "2025-09-23T10:48:22.512052Z",
     "shell.execute_reply": "2025-09-23T10:48:22.511425Z"
    }
   },
   "outputs": [
    {
     "name": "stderr",
     "output_type": "stream",
     "text": [
      "INFO\tTask(Task-3) nodify.node.139839192918752:node.py:get()- No need to evaluate\n"
     ]
    },
    {
     "name": "stderr",
     "output_type": "stream",
     "text": [
      "INFO\tTask(Task-3) nodify.node.139839192915824:node.py:get()- No need to evaluate\n"
     ]
    },
    {
     "name": "stderr",
     "output_type": "stream",
     "text": [
      "INFO\tTask(Task-3) nodify.node.139839192913184:node.py:get()- No need to evaluate\n"
     ]
    },
    {
     "name": "stderr",
     "output_type": "stream",
     "text": [
      "INFO\tTask(Task-3) nodify.node.139839192917024:node.py:get()- No need to evaluate\n"
     ]
    },
    {
     "name": "stderr",
     "output_type": "stream",
     "text": [
      "INFO\tTask(Task-3) nodify.node.139839192918752:node.py:get()- No need to evaluate\n"
     ]
    },
    {
     "name": "stderr",
     "output_type": "stream",
     "text": [
      "INFO\tTask(Task-3) nodify.node.139839192915824:node.py:get()- No need to evaluate\n"
     ]
    },
    {
     "name": "stderr",
     "output_type": "stream",
     "text": [
      "INFO\tTask(Task-3) nodify.node.139839192918656:node.py:get()- No need to evaluate\n"
     ]
    },
    {
     "name": "stderr",
     "output_type": "stream",
     "text": [
      "INFO\tTask(Task-3) nodify.node.139839192915584:node.py:get()- No need to evaluate\n"
     ]
    },
    {
     "name": "stderr",
     "output_type": "stream",
     "text": [
      "INFO\tTask(Task-3) nodify.node.139839192918944:node.py:get()- Evaluated because inputs changed.\n"
     ]
    },
    {
     "name": "stderr",
     "output_type": "stream",
     "text": [
      "INFO\tTask(Task-3) nodify.node.139839192918752:node.py:get()- No need to evaluate\n"
     ]
    },
    {
     "name": "stderr",
     "output_type": "stream",
     "text": [
      "INFO\tTask(Task-3) nodify.node.139839192915824:node.py:get()- No need to evaluate\n"
     ]
    },
    {
     "name": "stderr",
     "output_type": "stream",
     "text": [
      "INFO\tTask(Task-3) nodify.node.139839192913184:node.py:get()- No need to evaluate\n"
     ]
    },
    {
     "name": "stderr",
     "output_type": "stream",
     "text": [
      "INFO\tTask(Task-3) nodify.node.139839192915200:node.py:get()- Evaluated because inputs changed.\n"
     ]
    },
    {
     "name": "stderr",
     "output_type": "stream",
     "text": [
      "INFO\tTask(Task-3) nodify.node.139839192917408:node.py:get()- No need to evaluate\n"
     ]
    },
    {
     "name": "stderr",
     "output_type": "stream",
     "text": [
      "INFO\tTask(Task-3) nodify.node.139839192914528:node.py:get()- Evaluated because inputs changed.\n"
     ]
    },
    {
     "name": "stderr",
     "output_type": "stream",
     "text": [
      "INFO\tTask(Task-3) nodify.node.139839192918272:node.py:get()- No need to evaluate\n"
     ]
    },
    {
     "name": "stderr",
     "output_type": "stream",
     "text": [
      "INFO\tTask(Task-3) nodify.node.139839192919856:node.py:get()- No need to evaluate\n"
     ]
    },
    {
     "name": "stderr",
     "output_type": "stream",
     "text": [
      "INFO\tTask(Task-3) nodify.node.139839192920672:node.py:get()- No need to evaluate\n"
     ]
    },
    {
     "name": "stderr",
     "output_type": "stream",
     "text": [
      "INFO\tTask(Task-3) nodify.node.139839192918272:node.py:get()- No need to evaluate\n"
     ]
    },
    {
     "name": "stderr",
     "output_type": "stream",
     "text": [
      "INFO\tTask(Task-3) nodify.node.139839192921536:node.py:get()- No need to evaluate\n"
     ]
    },
    {
     "name": "stderr",
     "output_type": "stream",
     "text": [
      "INFO\tTask(Task-3) nodify.node.139839192920576:node.py:get()- No need to evaluate\n"
     ]
    },
    {
     "name": "stderr",
     "output_type": "stream",
     "text": [
      "INFO\tTask(Task-3) nodify.node.139839192917888:node.py:get()- No need to evaluate\n"
     ]
    },
    {
     "name": "stderr",
     "output_type": "stream",
     "text": [
      "INFO\tTask(Task-3) nodify.node.139839192918272:node.py:get()- No need to evaluate\n"
     ]
    },
    {
     "name": "stderr",
     "output_type": "stream",
     "text": [
      "INFO\tTask(Task-3) nodify.node.139839192920720:node.py:get()- No need to evaluate\n"
     ]
    },
    {
     "name": "stderr",
     "output_type": "stream",
     "text": [
      "INFO\tTask(Task-3) nodify.node.139839192914144:node.py:get()- Evaluated because inputs changed.\n"
     ]
    },
    {
     "name": "stderr",
     "output_type": "stream",
     "text": [
      "INFO\tTask(Task-3) nodify.node.139839192922496:node.py:get()- Evaluated because inputs changed.\n"
     ]
    },
    {
     "name": "stderr",
     "output_type": "stream",
     "text": [
      "INFO\tTask(Task-3) nodify.node.139839192922976:node.py:get()- Evaluated because inputs changed.\n"
     ]
    },
    {
     "data": {
      "application/vnd.plotly.v1+json": {
       "config": {
        "plotlyServerURL": "https://plot.ly"
       },
       "data": [
        {
         "line": {
          "width": 1.0
         },
         "meta": {},
         "mode": "lines",
         "name": " | species=Sr",
         "type": "scatter",
         "x": {
          "bdata": "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",
          "dtype": "f8"
         },
         "y": {
          "bdata": "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",
          "dtype": "f8"
         }
        },
        {
         "line": {
          "width": 1.0
         },
         "meta": {},
         "mode": "lines",
         "name": " | species=Ti",
         "type": "scatter",
         "x": {
          "bdata": "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",
          "dtype": "f8"
         },
         "y": {
          "bdata": "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",
          "dtype": "f8"
         }
        },
        {
         "line": {
          "width": 1.0
         },
         "meta": {},
         "mode": "lines",
         "name": " | species=O",
         "type": "scatter",
         "x": {
          "bdata": "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",
          "dtype": "f8"
         },
         "y": {
          "bdata": "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",
          "dtype": "f8"
         }
        }
       ],
       "layout": {
        "scene": {
         "xaxis": {
          "title": {
           "text": "E [eV]"
          }
         },
         "yaxis": {
          "title": {
           "text": "PDOS [1/eV]"
          }
         }
        },
        "template": {
         "layout": {
          "hovermode": "closest",
          "paper_bgcolor": "white",
          "plot_bgcolor": "white",
          "scene": {
           "xaxis": {
            "color": "black",
            "gridcolor": "#ccc",
            "gridwidth": 1,
            "linewidth": 1,
            "mirror": true,
            "showgrid": false,
            "showline": true,
            "ticklen": 5,
            "ticks": "outside",
            "ticksuffix": " ",
            "visible": true,
            "zeroline": false,
            "zerolinecolor": "#ccc",
            "zerolinewidth": 1
           },
           "yaxis": {
            "color": "black",
            "gridcolor": "#ccc",
            "gridwidth": 1,
            "linewidth": 1,
            "mirror": true,
            "showgrid": false,
            "showline": true,
            "ticklen": 5,
            "ticks": "outside",
            "ticksuffix": " ",
            "visible": true,
            "zeroline": false,
            "zerolinecolor": "#ccc",
            "zerolinewidth": 1
           },
           "zaxis": {
            "color": "black",
            "gridcolor": "#ccc",
            "gridwidth": 1,
            "linewidth": 1,
            "mirror": true,
            "showgrid": false,
            "showline": true,
            "ticklen": 5,
            "ticks": "outside",
            "ticksuffix": " ",
            "visible": true,
            "zeroline": false,
            "zerolinecolor": "#ccc",
            "zerolinewidth": 1
           }
          },
          "xaxis": {
           "color": "black",
           "gridcolor": "#ccc",
           "gridwidth": 1,
           "linewidth": 1,
           "mirror": true,
           "showgrid": false,
           "showline": true,
           "ticklen": 5,
           "ticks": "outside",
           "ticksuffix": " ",
           "visible": true,
           "zeroline": false,
           "zerolinecolor": "#ccc",
           "zerolinewidth": 1
          },
          "yaxis": {
           "color": "black",
           "gridcolor": "#ccc",
           "gridwidth": 1,
           "linewidth": 1,
           "mirror": true,
           "showgrid": false,
           "showline": true,
           "ticklen": 5,
           "ticks": "outside",
           "ticksuffix": " ",
           "visible": true,
           "zeroline": false,
           "zerolinecolor": "#ccc",
           "zerolinewidth": 1
          }
         }
        },
        "xaxis": {
         "title": {
          "text": "E [eV]"
         }
        },
        "yaxis": {
         "title": {
          "text": "PDOS [1/eV]"
         }
        }
       }
      }
     },
     "metadata": {},
     "output_type": "display_data"
    }
   ],
   "source": [
    "plot.split_DOS()"
   ]
  },
  {
   "cell_type": "markdown",
   "metadata": {},
   "source": [
    "By default, it splits on the different species, but you can use the `on` argument to change that."
   ]
  },
  {
   "cell_type": "code",
   "execution_count": 8,
   "metadata": {
    "execution": {
     "iopub.execute_input": "2025-09-23T10:48:22.513764Z",
     "iopub.status.busy": "2025-09-23T10:48:22.513590Z",
     "iopub.status.idle": "2025-09-23T10:48:22.629032Z",
     "shell.execute_reply": "2025-09-23T10:48:22.628536Z"
    }
   },
   "outputs": [
    {
     "name": "stderr",
     "output_type": "stream",
     "text": [
      "INFO\tTask(Task-3) nodify.node.139839192918752:node.py:get()- No need to evaluate\n"
     ]
    },
    {
     "name": "stderr",
     "output_type": "stream",
     "text": [
      "INFO\tTask(Task-3) nodify.node.139839192915824:node.py:get()- No need to evaluate\n"
     ]
    },
    {
     "name": "stderr",
     "output_type": "stream",
     "text": [
      "INFO\tTask(Task-3) nodify.node.139839192913184:node.py:get()- No need to evaluate\n"
     ]
    },
    {
     "name": "stderr",
     "output_type": "stream",
     "text": [
      "INFO\tTask(Task-3) nodify.node.139839192917024:node.py:get()- No need to evaluate\n"
     ]
    },
    {
     "name": "stderr",
     "output_type": "stream",
     "text": [
      "INFO\tTask(Task-3) nodify.node.139839192918752:node.py:get()- No need to evaluate\n"
     ]
    },
    {
     "name": "stderr",
     "output_type": "stream",
     "text": [
      "INFO\tTask(Task-3) nodify.node.139839192915824:node.py:get()- No need to evaluate\n"
     ]
    },
    {
     "name": "stderr",
     "output_type": "stream",
     "text": [
      "INFO\tTask(Task-3) nodify.node.139839192918656:node.py:get()- No need to evaluate\n"
     ]
    },
    {
     "name": "stderr",
     "output_type": "stream",
     "text": [
      "INFO\tTask(Task-3) nodify.node.139839192915584:node.py:get()- No need to evaluate\n"
     ]
    },
    {
     "name": "stderr",
     "output_type": "stream",
     "text": [
      "INFO\tTask(Task-3) nodify.node.139839192918944:node.py:get()- Evaluated because inputs changed.\n"
     ]
    },
    {
     "name": "stderr",
     "output_type": "stream",
     "text": [
      "INFO\tTask(Task-3) nodify.node.139839192918752:node.py:get()- No need to evaluate\n"
     ]
    },
    {
     "name": "stderr",
     "output_type": "stream",
     "text": [
      "INFO\tTask(Task-3) nodify.node.139839192915824:node.py:get()- No need to evaluate\n"
     ]
    },
    {
     "name": "stderr",
     "output_type": "stream",
     "text": [
      "INFO\tTask(Task-3) nodify.node.139839192913184:node.py:get()- No need to evaluate\n"
     ]
    },
    {
     "name": "stderr",
     "output_type": "stream",
     "text": [
      "INFO\tTask(Task-3) nodify.node.139839192915200:node.py:get()- Evaluated because inputs changed.\n"
     ]
    },
    {
     "name": "stderr",
     "output_type": "stream",
     "text": [
      "INFO\tTask(Task-3) nodify.node.139839192917408:node.py:get()- No need to evaluate\n"
     ]
    },
    {
     "name": "stderr",
     "output_type": "stream",
     "text": [
      "INFO\tTask(Task-3) nodify.node.139839192914528:node.py:get()- Evaluated because inputs changed.\n"
     ]
    },
    {
     "name": "stderr",
     "output_type": "stream",
     "text": [
      "INFO\tTask(Task-3) nodify.node.139839192918272:node.py:get()- No need to evaluate\n"
     ]
    },
    {
     "name": "stderr",
     "output_type": "stream",
     "text": [
      "INFO\tTask(Task-3) nodify.node.139839192919856:node.py:get()- No need to evaluate\n"
     ]
    },
    {
     "name": "stderr",
     "output_type": "stream",
     "text": [
      "INFO\tTask(Task-3) nodify.node.139839192920672:node.py:get()- No need to evaluate\n"
     ]
    },
    {
     "name": "stderr",
     "output_type": "stream",
     "text": [
      "INFO\tTask(Task-3) nodify.node.139839192918272:node.py:get()- No need to evaluate\n"
     ]
    },
    {
     "name": "stderr",
     "output_type": "stream",
     "text": [
      "INFO\tTask(Task-3) nodify.node.139839192921536:node.py:get()- No need to evaluate\n"
     ]
    },
    {
     "name": "stderr",
     "output_type": "stream",
     "text": [
      "INFO\tTask(Task-3) nodify.node.139839192920576:node.py:get()- No need to evaluate\n"
     ]
    },
    {
     "name": "stderr",
     "output_type": "stream",
     "text": [
      "INFO\tTask(Task-3) nodify.node.139839192917888:node.py:get()- No need to evaluate\n"
     ]
    },
    {
     "name": "stderr",
     "output_type": "stream",
     "text": [
      "INFO\tTask(Task-3) nodify.node.139839192918272:node.py:get()- No need to evaluate\n"
     ]
    },
    {
     "name": "stderr",
     "output_type": "stream",
     "text": [
      "INFO\tTask(Task-3) nodify.node.139839192920720:node.py:get()- No need to evaluate\n"
     ]
    },
    {
     "name": "stderr",
     "output_type": "stream",
     "text": [
      "INFO\tTask(Task-3) nodify.node.139839192914144:node.py:get()- Evaluated because inputs changed.\n"
     ]
    },
    {
     "name": "stderr",
     "output_type": "stream",
     "text": [
      "INFO\tTask(Task-3) nodify.node.139839192922496:node.py:get()- Evaluated because inputs changed.\n"
     ]
    },
    {
     "name": "stderr",
     "output_type": "stream",
     "text": [
      "INFO\tTask(Task-3) nodify.node.139839192922976:node.py:get()- Evaluated because inputs changed.\n"
     ]
    },
    {
     "data": {
      "application/vnd.plotly.v1+json": {
       "config": {
        "plotlyServerURL": "https://plot.ly"
       },
       "data": [
        {
         "line": {
          "width": 1.0
         },
         "meta": {},
         "mode": "lines",
         "name": " | atoms=0",
         "type": "scatter",
         "x": {
          "bdata": "jCgWje/2E8AMc8zDU90TwIq9gvq3wxPAgtTkMRyqE8AAH5togJATwPY1/Z/kdhPAdoCz1khdE8D2ymkNrUMTwOzhy0QRKhPAbCyCe3UQE8BiQ+Sy2fYSwOCNmuk93RLAYNhQIKLDEsBW77JXBqoSwNY5aY5qkBLAzFDLxc52EsBMm4H8Ml0SwMzlNzOXQxLAwvyZavspEsBAR1ChXxASwMCRBtjD9hHAtqhoDyjdEcA28x5GjMMRwCwKgX3wqRHArFQ3tFSQEcAqn+3quHYRwCK2TyIdXRHAoAAGWYFDEcCWF2iQ5SkRwBZiHsdJEBHAlqzU/a32EMCMwzY1Et0QwAoO7Wt2wxDAAiVPo9qpEMCAbwXaPpAQwAC6uxCjdhDA9tAdSAddEMB2G9R+a0MQwPZlirXPKRDA7Hzs7DMQEMDVjkVHMO0PwMO8Cbb4uQ/AwVF2I8GGD8C/5uKQiVMPwK0Up/9RIA/Aq6kTbRrtDsCX19fb4rkOwJdsREmrhg7AlQGxtnNTDsCDL3UlPCAOwIHE4ZIE7Q3AbfKlAc25DcBthxJvlYYNwGscf9xdUw3AV0pDSyYgDcBX36+47uwMwFV0HCa3uQzAQaLglH+GDMBBN00CSFMMwC1lEXEQIAzAK/p93tjsC8Arj+pLobkLwBe9rrpphgvAF1IbKDJTC8ADgN+W+h8LwAEVTATD7ArAAaq4cYu5CsDt13zgU4YKwOts6U0cUwrA2ZqtvOQfCsDXLxoqrewJwNXEhpd1uQnAw/JKBj6GCcDBh7dzBlMJwL8cJOHOHwnArUroT5fsCMCr31S9X7kIwJkNGSwohgjAl6KFmfBSCMCVN/IGuR8IwINltnWB7AfAgfoi40m5B8BtKOdREoYHwG29U7/aUgfAa1LALKMfB8BXgISba+wGwFcV8Qg0uQbAQ0O1d/yFBsBD2CHlxFIGwEFtjlKNHwbALZtSwVXsBcAtML8uHrkFwCvFK5zmhQXAF/PvCq9SBcAXiFx4dx8FwAO2IOc/7ATAAUuNVAi5BMAB4PnB0IUEwO0NvjCZUgTA66IqnmEfBMDZ0O4MKuwDwNdlW3ryuAPA1/rH57qFA8DDKIxWg1IDwMG9+MNLHwPAr+u8MhTsAsCtgCmg3LgCwKsVlg2lhQLAmUNafG1SAsCX2MbpNR8CwJVtM1f+6wHAg5v3xca4AcCBMGQzj4UBwG9eKKJXUgHAbfOUDyAfAcBriAF96OsAwFm2xeuwuADAV0syWXmFAMBDefbHQVIAwEMOYzUKHwDAgkafRaXX/79aoicjNnH/v1rMAP7GCv+/MiiJ21ek/r8uUmK26D3+vy58O5F51/2/BtjDbgpx/b8GAp1Jmwr9vwIsdiQspPy/2of+Ab09/L/asdfcTdf7v7INYLrecPu/rjc5lW8K+7+uYRJwAKT6v4a9mk2RPfq/gudzKCLX+b9eQ/wFs3D5v1pt1eBDCvm/Vpeuu9Sj+L8y8zaZZT34vy4dEHT21ve/CnmYUYdw978Go3EsGAr3vwLNSgepo/a/3ijT5Dk99r/aUqy/ytb1v9Z8hZpbcPW/stgNeOwJ9b+uAudSfaP0v4ZebzAOPfS/hohIC5/W87+CsiHmL3Dzv14OqsPACfO/WjiDnlGj8r8ylAt84jzyvzK+5FZz1vG/Lui9MQRw8b8GREYPlQnxvwZuH+olo/C/3smnx7Y88L+05wFFj6zvv7Q7tPqw3+6/ZPPEtdIS7r9cR3dr9EXtv1ybKSEWeey/DFM63Des678Mp+yRWd/qv7xe/Ux7Euq/tLKvAp1F6b+0BmK4vnjov2S+cnPgq+e/XBIlKQLf5r8UyjXkIxLmvwwe6JlFReW/BHKaT2d45L+8KasKiavjv7R9XcCq3uK/bDVue8wR4r9kiSAx7kThv1zd0uYPeOC/KCrHQ2NW378Y0iuvprzdvwh6kBrqIty/eOmxkC2J2r9okRb8cO/Yv8gAOHK0Vde/yKic3fe71b+4UAFJOyLUvyDAIr9+iNK/GGiHKsLu0L/wrlFBC6rOv+D+GhiSdsu/0E7k7hhDyL+QLSfbnw/Fv4B98LEm3MG/oLhmPFtRvb+AWPnpaOq2v0D4i5d2g7C/wGsj4Ag5pL8AriLtkKyNvwBUSKYBi4U/wJmGuKQwoj8AWmFdif6uP2DvKtY25rU/oE+YKClNvD/g14K9DVrBPxD5P9GGjcQ/MKl2+v/Axz9gyjMOefTKP3B6ajfyJ84/QJVQsLWt0D/gJS86ckfSP+h9ys4u4dM/gA6pWOt61T+IZkTtpxTXP5i+34Fkrtg/ME++CyFI2j84p1mg3eHbP0j/9DSae90/4I/TvlYV3z/0c7epiVfgP0C8pu5nJOE/SGj0OEbx4T9MFEKDJL7iP5hcMcgCi+M/oAh/EuFX5D/sUG5XvyTlP/D8u6Gd8eU/9KgJ7Hu+5j9E8fgwWovnP0idRns4WOg/lOU1wBYl6T+ckYMK9fHpP6A90VTTvuo/7IXAmbGL6z/wMQ7kj1jsP/jdWy5uJe0/RCZLc0zy7T9I0pi9Kr/uP5QaiAIJjO8/TuNqpnMs8D9QuZHL4pLwP3ZdCe5R+fA/ejMwE8Ff8T+g16c1MMbxP6KtzlqfLPI/poP1fw6T8j/MJ22iffnyP879k8fsX/M/9KEL6lvG8z/4dzIPyyz0P/pNWTQ6k/Q/IPLQVqn59D8iyPd7GGD1PyaeHqGHxvU/TEKWw/Ys9j9OGL3oZZP2P3a8NAvV+fY/eJJbMERg9z96aIJVs8b3P6AM+nciLfg/pOIgnZGT+D/Khpi/APr4P8xcv+RvYPk/0DLmCd/G+T/21l0sTi36P/ishFG9k/o/H1H8cyz6+j8hJyOZm2D7PyT9Sb4Kx/s/SqHB4Hkt/D9Nd+gF6ZP8P1BNDytY+vw/dvGGTcdg/T95x61yNsf9P59rJZWlLf4/okFMuhSU/j+lF3Pfg/r+P8u76gHzYP8/zpERJ2LH/z/6msSk6BYAQPwFWDcgSgBA/HDryVd9AEAQQydbj7AAQBGuuu3G4wBAJID2fv4WAUAm64kRNkoBQCdWHaRtfQFAOihZNaWwAUA8k+zH3OMBQD3+f1oUFwJAUNC760tKAkBSO09+g30CQGQNiw+7sAJAZngeovLjAkBo47E0KhcDQHq17cVhSgNAfCCBWJl9A0CP8rzp0LADQJBdUHwI5ANAksjjDkAXBEClmh+gd0oEQKYFszKvfQRAutfuw+awBEC7QoJWHuQEQLytFelVFwVA0H9Reo1KBUC5jsIMxX0FQFuJzJ78sAVA/YPWMDTkBUC32gLDaxcGQFnVDFWjSgZA+88W59p9BkCdyiB5ErEGQD/FKgtK5AZA4b80nYEXB0CEuj4vuUoHQCa1SMHwfQdAyK9SUyixB0CCBn/lX+QHQCQBiXeXFwhAxvuSCc9KCEBo9pybBn4IQArxpi0+sQhArOuwv3XkCEBO5rpRrRcJQPDgxOPkSglAktvOdRx+CUBMMvsHVLEJQO4sBZqL5AlAkCcPLMMXCkAyIhm++koKQNQcI1AyfgpAdhct4mmxCkAYEjd0oeQKQLoMQQbZFwtAXQdLmBBLC0AWXncqSH4LQLlYgbx/sQtAW1OLTrfkC0D9TZXg7hcMQJ9In3ImSwxAQUOpBF5+DEC3jL2WlbEMQPX2yijN5AxAM2HYugQYDUB7c+VMPEsNQK81895zfg1A7Z8AcauxDUArCg4D4+QNQGl0G5UaGA5AC28lJ1JLDkCuaS+5iX4OQFBkOUvBsQ5A8l5D3fjkDkCstW9vMBgPQE6weQFoSw9A8KqDk59+D0CSpY0l17EPQDSgl7cO5Q9Aa83QJCMMEEC8ytXtviUQQA3I2rZaPxBAXsXff/ZYEEC78PVIknIQQAzu+hEujBBAXev/2smlEECu6ASkZb8QQP/lCW0B2RBAUOMONp3yEECh4BP/OAwRQPLdGMjUJRFATwkvkXA/EUCgBjRaDFkRQPEDOSOochFAQgE+7EOMEUCU/kK136URQOT7R357vxFANvlMRxfZEUCH9lEQs/IRQNjzVtlODBJANB9touolEkCGHHJrhj8SQNcZdzQiWRJAKBd8/b1yEkB5FIHGWYwSQMoRho/1pRJAMmutWJG/EkA8VEshLdkSQL0JlerI8hJAPr/es2QME0BHqHx8ACYTQMhdxkWcPxNA0kZkDjhZE0BS/K3X03ITQNOx96BvjBNA3JqVaQumE0BdUN8yp78TQN4FKfxC2RNA5+7GxN7yE0A=",
          "dtype": "f8"
         },
         "y": {
          "bdata": "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",
          "dtype": "f8"
         }
        },
        {
         "line": {
          "width": 1.0
         },
         "meta": {},
         "mode": "lines",
         "name": " | atoms=1",
         "type": "scatter",
         "x": {
          "bdata": "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",
          "dtype": "f8"
         },
         "y": {
          "bdata": "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",
          "dtype": "f8"
         }
        },
        {
         "line": {
          "width": 1.0
         },
         "meta": {},
         "mode": "lines",
         "name": " | atoms=2",
         "type": "scatter",
         "x": {
          "bdata": "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",
          "dtype": "f8"
         },
         "y": {
          "bdata": "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",
          "dtype": "f8"
         }
        },
        {
         "line": {
          "width": 1.0
         },
         "meta": {},
         "mode": "lines",
         "name": " | atoms=3",
         "type": "scatter",
         "x": {
          "bdata": "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",
          "dtype": "f8"
         },
         "y": {
          "bdata": "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",
          "dtype": "f8"
         }
        },
        {
         "line": {
          "width": 1.0
         },
         "meta": {},
         "mode": "lines",
         "name": " | atoms=4",
         "type": "scatter",
         "x": {
          "bdata": "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",
          "dtype": "f8"
         },
         "y": {
          "bdata": "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",
          "dtype": "f8"
         }
        }
       ],
       "layout": {
        "scene": {
         "xaxis": {
          "title": {
           "text": "E [eV]"
          }
         },
         "yaxis": {
          "title": {
           "text": "PDOS [1/eV]"
          }
         }
        },
        "template": {
         "layout": {
          "hovermode": "closest",
          "paper_bgcolor": "white",
          "plot_bgcolor": "white",
          "scene": {
           "xaxis": {
            "color": "black",
            "gridcolor": "#ccc",
            "gridwidth": 1,
            "linewidth": 1,
            "mirror": true,
            "showgrid": false,
            "showline": true,
            "ticklen": 5,
            "ticks": "outside",
            "ticksuffix": " ",
            "visible": true,
            "zeroline": false,
            "zerolinecolor": "#ccc",
            "zerolinewidth": 1
           },
           "yaxis": {
            "color": "black",
            "gridcolor": "#ccc",
            "gridwidth": 1,
            "linewidth": 1,
            "mirror": true,
            "showgrid": false,
            "showline": true,
            "ticklen": 5,
            "ticks": "outside",
            "ticksuffix": " ",
            "visible": true,
            "zeroline": false,
            "zerolinecolor": "#ccc",
            "zerolinewidth": 1
           },
           "zaxis": {
            "color": "black",
            "gridcolor": "#ccc",
            "gridwidth": 1,
            "linewidth": 1,
            "mirror": true,
            "showgrid": false,
            "showline": true,
            "ticklen": 5,
            "ticks": "outside",
            "ticksuffix": " ",
            "visible": true,
            "zeroline": false,
            "zerolinecolor": "#ccc",
            "zerolinewidth": 1
           }
          },
          "xaxis": {
           "color": "black",
           "gridcolor": "#ccc",
           "gridwidth": 1,
           "linewidth": 1,
           "mirror": true,
           "showgrid": false,
           "showline": true,
           "ticklen": 5,
           "ticks": "outside",
           "ticksuffix": " ",
           "visible": true,
           "zeroline": false,
           "zerolinecolor": "#ccc",
           "zerolinewidth": 1
          },
          "yaxis": {
           "color": "black",
           "gridcolor": "#ccc",
           "gridwidth": 1,
           "linewidth": 1,
           "mirror": true,
           "showgrid": false,
           "showline": true,
           "ticklen": 5,
           "ticks": "outside",
           "ticksuffix": " ",
           "visible": true,
           "zeroline": false,
           "zerolinecolor": "#ccc",
           "zerolinewidth": 1
          }
         }
        },
        "xaxis": {
         "title": {
          "text": "E [eV]"
         }
        },
        "yaxis": {
         "title": {
          "text": "PDOS [1/eV]"
         }
        }
       }
      }
     },
     "metadata": {},
     "output_type": "display_data"
    }
   ],
   "source": [
    "plot.split_DOS(on=\"atoms\")"
   ]
  },
  {
   "cell_type": "markdown",
   "metadata": {},
   "source": [
    "Now we have the contribution of each atom.\n",
    "\n",
    "But here comes the powerful part: `split_DOS` accepts as keyword arguments all the keys that a group accepts. Then, it adds that extra constrain to the splitting by adding the value to each group. So, if we want to get the separate contributions of all oxygen atoms, **we can impose an extra constraint** on species:"
   ]
  },
  {
   "cell_type": "code",
   "execution_count": 9,
   "metadata": {
    "execution": {
     "iopub.execute_input": "2025-09-23T10:48:22.630699Z",
     "iopub.status.busy": "2025-09-23T10:48:22.630502Z",
     "iopub.status.idle": "2025-09-23T10:48:22.725259Z",
     "shell.execute_reply": "2025-09-23T10:48:22.724659Z"
    }
   },
   "outputs": [
    {
     "name": "stderr",
     "output_type": "stream",
     "text": [
      "INFO\tTask(Task-3) nodify.node.139839192918752:node.py:get()- No need to evaluate\n"
     ]
    },
    {
     "name": "stderr",
     "output_type": "stream",
     "text": [
      "INFO\tTask(Task-3) nodify.node.139839192915824:node.py:get()- No need to evaluate\n"
     ]
    },
    {
     "name": "stderr",
     "output_type": "stream",
     "text": [
      "INFO\tTask(Task-3) nodify.node.139839192913184:node.py:get()- No need to evaluate\n"
     ]
    },
    {
     "name": "stderr",
     "output_type": "stream",
     "text": [
      "INFO\tTask(Task-3) nodify.node.139839192917024:node.py:get()- No need to evaluate\n"
     ]
    },
    {
     "name": "stderr",
     "output_type": "stream",
     "text": [
      "INFO\tTask(Task-3) nodify.node.139839192918752:node.py:get()- No need to evaluate\n"
     ]
    },
    {
     "name": "stderr",
     "output_type": "stream",
     "text": [
      "INFO\tTask(Task-3) nodify.node.139839192915824:node.py:get()- No need to evaluate\n"
     ]
    },
    {
     "name": "stderr",
     "output_type": "stream",
     "text": [
      "INFO\tTask(Task-3) nodify.node.139839192918656:node.py:get()- No need to evaluate\n"
     ]
    },
    {
     "name": "stderr",
     "output_type": "stream",
     "text": [
      "INFO\tTask(Task-3) nodify.node.139839192915584:node.py:get()- No need to evaluate\n"
     ]
    },
    {
     "name": "stderr",
     "output_type": "stream",
     "text": [
      "INFO\tTask(Task-3) nodify.node.139839192918944:node.py:get()- Evaluated because inputs changed.\n"
     ]
    },
    {
     "name": "stderr",
     "output_type": "stream",
     "text": [
      "INFO\tTask(Task-3) nodify.node.139839192918752:node.py:get()- No need to evaluate\n"
     ]
    },
    {
     "name": "stderr",
     "output_type": "stream",
     "text": [
      "INFO\tTask(Task-3) nodify.node.139839192915824:node.py:get()- No need to evaluate\n"
     ]
    },
    {
     "name": "stderr",
     "output_type": "stream",
     "text": [
      "INFO\tTask(Task-3) nodify.node.139839192913184:node.py:get()- No need to evaluate\n"
     ]
    },
    {
     "name": "stderr",
     "output_type": "stream",
     "text": [
      "INFO\tTask(Task-3) nodify.node.139839192915200:node.py:get()- Evaluated because inputs changed.\n"
     ]
    },
    {
     "name": "stderr",
     "output_type": "stream",
     "text": [
      "INFO\tTask(Task-3) nodify.node.139839192917408:node.py:get()- No need to evaluate\n"
     ]
    },
    {
     "name": "stderr",
     "output_type": "stream",
     "text": [
      "INFO\tTask(Task-3) nodify.node.139839192914528:node.py:get()- Evaluated because inputs changed.\n"
     ]
    },
    {
     "name": "stderr",
     "output_type": "stream",
     "text": [
      "INFO\tTask(Task-3) nodify.node.139839192918272:node.py:get()- No need to evaluate\n"
     ]
    },
    {
     "name": "stderr",
     "output_type": "stream",
     "text": [
      "INFO\tTask(Task-3) nodify.node.139839192919856:node.py:get()- No need to evaluate\n"
     ]
    },
    {
     "name": "stderr",
     "output_type": "stream",
     "text": [
      "INFO\tTask(Task-3) nodify.node.139839192920672:node.py:get()- No need to evaluate\n"
     ]
    },
    {
     "name": "stderr",
     "output_type": "stream",
     "text": [
      "INFO\tTask(Task-3) nodify.node.139839192918272:node.py:get()- No need to evaluate\n"
     ]
    },
    {
     "name": "stderr",
     "output_type": "stream",
     "text": [
      "INFO\tTask(Task-3) nodify.node.139839192921536:node.py:get()- No need to evaluate\n"
     ]
    },
    {
     "name": "stderr",
     "output_type": "stream",
     "text": [
      "INFO\tTask(Task-3) nodify.node.139839192920576:node.py:get()- No need to evaluate\n"
     ]
    },
    {
     "name": "stderr",
     "output_type": "stream",
     "text": [
      "INFO\tTask(Task-3) nodify.node.139839192917888:node.py:get()- No need to evaluate\n"
     ]
    },
    {
     "name": "stderr",
     "output_type": "stream",
     "text": [
      "INFO\tTask(Task-3) nodify.node.139839192918272:node.py:get()- No need to evaluate\n"
     ]
    },
    {
     "name": "stderr",
     "output_type": "stream",
     "text": [
      "INFO\tTask(Task-3) nodify.node.139839192920720:node.py:get()- No need to evaluate\n"
     ]
    },
    {
     "name": "stderr",
     "output_type": "stream",
     "text": [
      "INFO\tTask(Task-3) nodify.node.139839192914144:node.py:get()- Evaluated because inputs changed.\n"
     ]
    },
    {
     "name": "stderr",
     "output_type": "stream",
     "text": [
      "INFO\tTask(Task-3) nodify.node.139839192922496:node.py:get()- Evaluated because inputs changed.\n"
     ]
    },
    {
     "name": "stderr",
     "output_type": "stream",
     "text": [
      "INFO\tTask(Task-3) nodify.node.139839192922976:node.py:get()- Evaluated because inputs changed.\n"
     ]
    },
    {
     "data": {
      "application/vnd.plotly.v1+json": {
       "config": {
        "plotlyServerURL": "https://plot.ly"
       },
       "data": [
        {
         "line": {
          "width": 1.0
         },
         "meta": {},
         "mode": "lines",
         "name": "Oxygen 2",
         "type": "scatter",
         "x": {
          "bdata": "jCgWje/2E8AMc8zDU90TwIq9gvq3wxPAgtTkMRyqE8AAH5togJATwPY1/Z/kdhPAdoCz1khdE8D2ymkNrUMTwOzhy0QRKhPAbCyCe3UQE8BiQ+Sy2fYSwOCNmuk93RLAYNhQIKLDEsBW77JXBqoSwNY5aY5qkBLAzFDLxc52EsBMm4H8Ml0SwMzlNzOXQxLAwvyZavspEsBAR1ChXxASwMCRBtjD9hHAtqhoDyjdEcA28x5GjMMRwCwKgX3wqRHArFQ3tFSQEcAqn+3quHYRwCK2TyIdXRHAoAAGWYFDEcCWF2iQ5SkRwBZiHsdJEBHAlqzU/a32EMCMwzY1Et0QwAoO7Wt2wxDAAiVPo9qpEMCAbwXaPpAQwAC6uxCjdhDA9tAdSAddEMB2G9R+a0MQwPZlirXPKRDA7Hzs7DMQEMDVjkVHMO0PwMO8Cbb4uQ/AwVF2I8GGD8C/5uKQiVMPwK0Up/9RIA/Aq6kTbRrtDsCX19fb4rkOwJdsREmrhg7AlQGxtnNTDsCDL3UlPCAOwIHE4ZIE7Q3AbfKlAc25DcBthxJvlYYNwGscf9xdUw3AV0pDSyYgDcBX36+47uwMwFV0HCa3uQzAQaLglH+GDMBBN00CSFMMwC1lEXEQIAzAK/p93tjsC8Arj+pLobkLwBe9rrpphgvAF1IbKDJTC8ADgN+W+h8LwAEVTATD7ArAAaq4cYu5CsDt13zgU4YKwOts6U0cUwrA2ZqtvOQfCsDXLxoqrewJwNXEhpd1uQnAw/JKBj6GCcDBh7dzBlMJwL8cJOHOHwnArUroT5fsCMCr31S9X7kIwJkNGSwohgjAl6KFmfBSCMCVN/IGuR8IwINltnWB7AfAgfoi40m5B8BtKOdREoYHwG29U7/aUgfAa1LALKMfB8BXgISba+wGwFcV8Qg0uQbAQ0O1d/yFBsBD2CHlxFIGwEFtjlKNHwbALZtSwVXsBcAtML8uHrkFwCvFK5zmhQXAF/PvCq9SBcAXiFx4dx8FwAO2IOc/7ATAAUuNVAi5BMAB4PnB0IUEwO0NvjCZUgTA66IqnmEfBMDZ0O4MKuwDwNdlW3ryuAPA1/rH57qFA8DDKIxWg1IDwMG9+MNLHwPAr+u8MhTsAsCtgCmg3LgCwKsVlg2lhQLAmUNafG1SAsCX2MbpNR8CwJVtM1f+6wHAg5v3xca4AcCBMGQzj4UBwG9eKKJXUgHAbfOUDyAfAcBriAF96OsAwFm2xeuwuADAV0syWXmFAMBDefbHQVIAwEMOYzUKHwDAgkafRaXX/79aoicjNnH/v1rMAP7GCv+/MiiJ21ek/r8uUmK26D3+vy58O5F51/2/BtjDbgpx/b8GAp1Jmwr9vwIsdiQspPy/2of+Ab09/L/asdfcTdf7v7INYLrecPu/rjc5lW8K+7+uYRJwAKT6v4a9mk2RPfq/gudzKCLX+b9eQ/wFs3D5v1pt1eBDCvm/Vpeuu9Sj+L8y8zaZZT34vy4dEHT21ve/CnmYUYdw978Go3EsGAr3vwLNSgepo/a/3ijT5Dk99r/aUqy/ytb1v9Z8hZpbcPW/stgNeOwJ9b+uAudSfaP0v4ZebzAOPfS/hohIC5/W87+CsiHmL3Dzv14OqsPACfO/WjiDnlGj8r8ylAt84jzyvzK+5FZz1vG/Lui9MQRw8b8GREYPlQnxvwZuH+olo/C/3smnx7Y88L+05wFFj6zvv7Q7tPqw3+6/ZPPEtdIS7r9cR3dr9EXtv1ybKSEWeey/DFM63Des678Mp+yRWd/qv7xe/Ux7Euq/tLKvAp1F6b+0BmK4vnjov2S+cnPgq+e/XBIlKQLf5r8UyjXkIxLmvwwe6JlFReW/BHKaT2d45L+8KasKiavjv7R9XcCq3uK/bDVue8wR4r9kiSAx7kThv1zd0uYPeOC/KCrHQ2NW378Y0iuvprzdvwh6kBrqIty/eOmxkC2J2r9okRb8cO/Yv8gAOHK0Vde/yKic3fe71b+4UAFJOyLUvyDAIr9+iNK/GGiHKsLu0L/wrlFBC6rOv+D+GhiSdsu/0E7k7hhDyL+QLSfbnw/Fv4B98LEm3MG/oLhmPFtRvb+AWPnpaOq2v0D4i5d2g7C/wGsj4Ag5pL8AriLtkKyNvwBUSKYBi4U/wJmGuKQwoj8AWmFdif6uP2DvKtY25rU/oE+YKClNvD/g14K9DVrBPxD5P9GGjcQ/MKl2+v/Axz9gyjMOefTKP3B6ajfyJ84/QJVQsLWt0D/gJS86ckfSP+h9ys4u4dM/gA6pWOt61T+IZkTtpxTXP5i+34Fkrtg/ME++CyFI2j84p1mg3eHbP0j/9DSae90/4I/TvlYV3z/0c7epiVfgP0C8pu5nJOE/SGj0OEbx4T9MFEKDJL7iP5hcMcgCi+M/oAh/EuFX5D/sUG5XvyTlP/D8u6Gd8eU/9KgJ7Hu+5j9E8fgwWovnP0idRns4WOg/lOU1wBYl6T+ckYMK9fHpP6A90VTTvuo/7IXAmbGL6z/wMQ7kj1jsP/jdWy5uJe0/RCZLc0zy7T9I0pi9Kr/uP5QaiAIJjO8/TuNqpnMs8D9QuZHL4pLwP3ZdCe5R+fA/ejMwE8Ff8T+g16c1MMbxP6KtzlqfLPI/poP1fw6T8j/MJ22iffnyP879k8fsX/M/9KEL6lvG8z/4dzIPyyz0P/pNWTQ6k/Q/IPLQVqn59D8iyPd7GGD1PyaeHqGHxvU/TEKWw/Ys9j9OGL3oZZP2P3a8NAvV+fY/eJJbMERg9z96aIJVs8b3P6AM+nciLfg/pOIgnZGT+D/Khpi/APr4P8xcv+RvYPk/0DLmCd/G+T/21l0sTi36P/ishFG9k/o/H1H8cyz6+j8hJyOZm2D7PyT9Sb4Kx/s/SqHB4Hkt/D9Nd+gF6ZP8P1BNDytY+vw/dvGGTcdg/T95x61yNsf9P59rJZWlLf4/okFMuhSU/j+lF3Pfg/r+P8u76gHzYP8/zpERJ2LH/z/6msSk6BYAQPwFWDcgSgBA/HDryVd9AEAQQydbj7AAQBGuuu3G4wBAJID2fv4WAUAm64kRNkoBQCdWHaRtfQFAOihZNaWwAUA8k+zH3OMBQD3+f1oUFwJAUNC760tKAkBSO09+g30CQGQNiw+7sAJAZngeovLjAkBo47E0KhcDQHq17cVhSgNAfCCBWJl9A0CP8rzp0LADQJBdUHwI5ANAksjjDkAXBEClmh+gd0oEQKYFszKvfQRAutfuw+awBEC7QoJWHuQEQLytFelVFwVA0H9Reo1KBUC5jsIMxX0FQFuJzJ78sAVA/YPWMDTkBUC32gLDaxcGQFnVDFWjSgZA+88W59p9BkCdyiB5ErEGQD/FKgtK5AZA4b80nYEXB0CEuj4vuUoHQCa1SMHwfQdAyK9SUyixB0CCBn/lX+QHQCQBiXeXFwhAxvuSCc9KCEBo9pybBn4IQArxpi0+sQhArOuwv3XkCEBO5rpRrRcJQPDgxOPkSglAktvOdRx+CUBMMvsHVLEJQO4sBZqL5AlAkCcPLMMXCkAyIhm++koKQNQcI1AyfgpAdhct4mmxCkAYEjd0oeQKQLoMQQbZFwtAXQdLmBBLC0AWXncqSH4LQLlYgbx/sQtAW1OLTrfkC0D9TZXg7hcMQJ9In3ImSwxAQUOpBF5+DEC3jL2WlbEMQPX2yijN5AxAM2HYugQYDUB7c+VMPEsNQK81895zfg1A7Z8AcauxDUArCg4D4+QNQGl0G5UaGA5AC28lJ1JLDkCuaS+5iX4OQFBkOUvBsQ5A8l5D3fjkDkCstW9vMBgPQE6weQFoSw9A8KqDk59+D0CSpY0l17EPQDSgl7cO5Q9Aa83QJCMMEEC8ytXtviUQQA3I2rZaPxBAXsXff/ZYEEC78PVIknIQQAzu+hEujBBAXev/2smlEECu6ASkZb8QQP/lCW0B2RBAUOMONp3yEECh4BP/OAwRQPLdGMjUJRFATwkvkXA/EUCgBjRaDFkRQPEDOSOochFAQgE+7EOMEUCU/kK136URQOT7R357vxFANvlMRxfZEUCH9lEQs/IRQNjzVtlODBJANB9touolEkCGHHJrhj8SQNcZdzQiWRJAKBd8/b1yEkB5FIHGWYwSQMoRho/1pRJAMmutWJG/EkA8VEshLdkSQL0JlerI8hJAPr/es2QME0BHqHx8ACYTQMhdxkWcPxNA0kZkDjhZE0BS/K3X03ITQNOx96BvjBNA3JqVaQumE0BdUN8yp78TQN4FKfxC2RNA5+7GxN7yE0A=",
          "dtype": "f8"
         },
         "y": {
          "bdata": "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",
          "dtype": "f8"
         }
        },
        {
         "line": {
          "width": 1.0
         },
         "meta": {},
         "mode": "lines",
         "name": "Oxygen 3",
         "type": "scatter",
         "x": {
          "bdata": "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",
          "dtype": "f8"
         },
         "y": {
          "bdata": "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",
          "dtype": "f8"
         }
        },
        {
         "line": {
          "width": 1.0
         },
         "meta": {},
         "mode": "lines",
         "name": "Oxygen 4",
         "type": "scatter",
         "x": {
          "bdata": "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",
          "dtype": "f8"
         },
         "y": {
          "bdata": "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",
          "dtype": "f8"
         }
        }
       ],
       "layout": {
        "scene": {
         "xaxis": {
          "title": {
           "text": "E [eV]"
          }
         },
         "yaxis": {
          "title": {
           "text": "PDOS [1/eV]"
          }
         }
        },
        "template": {
         "layout": {
          "hovermode": "closest",
          "paper_bgcolor": "white",
          "plot_bgcolor": "white",
          "scene": {
           "xaxis": {
            "color": "black",
            "gridcolor": "#ccc",
            "gridwidth": 1,
            "linewidth": 1,
            "mirror": true,
            "showgrid": false,
            "showline": true,
            "ticklen": 5,
            "ticks": "outside",
            "ticksuffix": " ",
            "visible": true,
            "zeroline": false,
            "zerolinecolor": "#ccc",
            "zerolinewidth": 1
           },
           "yaxis": {
            "color": "black",
            "gridcolor": "#ccc",
            "gridwidth": 1,
            "linewidth": 1,
            "mirror": true,
            "showgrid": false,
            "showline": true,
            "ticklen": 5,
            "ticks": "outside",
            "ticksuffix": " ",
            "visible": true,
            "zeroline": false,
            "zerolinecolor": "#ccc",
            "zerolinewidth": 1
           },
           "zaxis": {
            "color": "black",
            "gridcolor": "#ccc",
            "gridwidth": 1,
            "linewidth": 1,
            "mirror": true,
            "showgrid": false,
            "showline": true,
            "ticklen": 5,
            "ticks": "outside",
            "ticksuffix": " ",
            "visible": true,
            "zeroline": false,
            "zerolinecolor": "#ccc",
            "zerolinewidth": 1
           }
          },
          "xaxis": {
           "color": "black",
           "gridcolor": "#ccc",
           "gridwidth": 1,
           "linewidth": 1,
           "mirror": true,
           "showgrid": false,
           "showline": true,
           "ticklen": 5,
           "ticks": "outside",
           "ticksuffix": " ",
           "visible": true,
           "zeroline": false,
           "zerolinecolor": "#ccc",
           "zerolinewidth": 1
          },
          "yaxis": {
           "color": "black",
           "gridcolor": "#ccc",
           "gridwidth": 1,
           "linewidth": 1,
           "mirror": true,
           "showgrid": false,
           "showline": true,
           "ticklen": 5,
           "ticks": "outside",
           "ticksuffix": " ",
           "visible": true,
           "zeroline": false,
           "zerolinecolor": "#ccc",
           "zerolinewidth": 1
          }
         }
        },
        "xaxis": {
         "title": {
          "text": "E [eV]"
         }
        },
        "yaxis": {
         "title": {
          "text": "PDOS [1/eV]"
         }
        }
       }
      }
     },
     "metadata": {},
     "output_type": "display_data"
    }
   ],
   "source": [
    "plot.split_DOS(on=\"atoms\", species=[\"O\"], name=\"Oxygen $atoms\")"
   ]
  },
  {
   "cell_type": "markdown",
   "metadata": {},
   "source": [
    "and then we have only the oxygen atoms, which are all equivalent.\n",
    "\n",
    "Note that we also set a name for all groups, with the additional twist that we used the templating supported by `split_DOS`. If you are splitting on `parameter`, you can use `$parameter` inside your name and the method will replace it with the value for each group. In this case `parameter` was `atoms`, but it could be anything you are splitting the DOS on.\n",
    "\n",
    "You can also **exclude some values of the parameter you are splitting on**:"
   ]
  },
  {
   "cell_type": "code",
   "execution_count": 10,
   "metadata": {
    "execution": {
     "iopub.execute_input": "2025-09-23T10:48:22.727108Z",
     "iopub.status.busy": "2025-09-23T10:48:22.726912Z",
     "iopub.status.idle": "2025-09-23T10:48:22.816614Z",
     "shell.execute_reply": "2025-09-23T10:48:22.816119Z"
    }
   },
   "outputs": [
    {
     "name": "stderr",
     "output_type": "stream",
     "text": [
      "INFO\tTask(Task-3) nodify.node.139839192918752:node.py:get()- No need to evaluate\n"
     ]
    },
    {
     "name": "stderr",
     "output_type": "stream",
     "text": [
      "INFO\tTask(Task-3) nodify.node.139839192915824:node.py:get()- No need to evaluate\n"
     ]
    },
    {
     "name": "stderr",
     "output_type": "stream",
     "text": [
      "INFO\tTask(Task-3) nodify.node.139839192913184:node.py:get()- No need to evaluate\n"
     ]
    },
    {
     "name": "stderr",
     "output_type": "stream",
     "text": [
      "INFO\tTask(Task-3) nodify.node.139839192917024:node.py:get()- No need to evaluate\n"
     ]
    },
    {
     "name": "stderr",
     "output_type": "stream",
     "text": [
      "INFO\tTask(Task-3) nodify.node.139839192918752:node.py:get()- No need to evaluate\n"
     ]
    },
    {
     "name": "stderr",
     "output_type": "stream",
     "text": [
      "INFO\tTask(Task-3) nodify.node.139839192915824:node.py:get()- No need to evaluate\n"
     ]
    },
    {
     "name": "stderr",
     "output_type": "stream",
     "text": [
      "INFO\tTask(Task-3) nodify.node.139839192918656:node.py:get()- No need to evaluate\n"
     ]
    },
    {
     "name": "stderr",
     "output_type": "stream",
     "text": [
      "INFO\tTask(Task-3) nodify.node.139839192915584:node.py:get()- No need to evaluate\n"
     ]
    },
    {
     "name": "stderr",
     "output_type": "stream",
     "text": [
      "INFO\tTask(Task-3) nodify.node.139839192918944:node.py:get()- Evaluated because inputs changed.\n"
     ]
    },
    {
     "name": "stderr",
     "output_type": "stream",
     "text": [
      "INFO\tTask(Task-3) nodify.node.139839192918752:node.py:get()- No need to evaluate\n"
     ]
    },
    {
     "name": "stderr",
     "output_type": "stream",
     "text": [
      "INFO\tTask(Task-3) nodify.node.139839192915824:node.py:get()- No need to evaluate\n"
     ]
    },
    {
     "name": "stderr",
     "output_type": "stream",
     "text": [
      "INFO\tTask(Task-3) nodify.node.139839192913184:node.py:get()- No need to evaluate\n"
     ]
    },
    {
     "name": "stderr",
     "output_type": "stream",
     "text": [
      "INFO\tTask(Task-3) nodify.node.139839192915200:node.py:get()- Evaluated because inputs changed.\n"
     ]
    },
    {
     "name": "stderr",
     "output_type": "stream",
     "text": [
      "INFO\tTask(Task-3) nodify.node.139839192917408:node.py:get()- No need to evaluate\n"
     ]
    },
    {
     "name": "stderr",
     "output_type": "stream",
     "text": [
      "INFO\tTask(Task-3) nodify.node.139839192914528:node.py:get()- Evaluated because inputs changed.\n"
     ]
    },
    {
     "name": "stderr",
     "output_type": "stream",
     "text": [
      "INFO\tTask(Task-3) nodify.node.139839192918272:node.py:get()- No need to evaluate\n"
     ]
    },
    {
     "name": "stderr",
     "output_type": "stream",
     "text": [
      "INFO\tTask(Task-3) nodify.node.139839192919856:node.py:get()- No need to evaluate\n"
     ]
    },
    {
     "name": "stderr",
     "output_type": "stream",
     "text": [
      "INFO\tTask(Task-3) nodify.node.139839192920672:node.py:get()- No need to evaluate\n"
     ]
    },
    {
     "name": "stderr",
     "output_type": "stream",
     "text": [
      "INFO\tTask(Task-3) nodify.node.139839192918272:node.py:get()- No need to evaluate\n"
     ]
    },
    {
     "name": "stderr",
     "output_type": "stream",
     "text": [
      "INFO\tTask(Task-3) nodify.node.139839192921536:node.py:get()- No need to evaluate\n"
     ]
    },
    {
     "name": "stderr",
     "output_type": "stream",
     "text": [
      "INFO\tTask(Task-3) nodify.node.139839192920576:node.py:get()- No need to evaluate\n"
     ]
    },
    {
     "name": "stderr",
     "output_type": "stream",
     "text": [
      "INFO\tTask(Task-3) nodify.node.139839192917888:node.py:get()- No need to evaluate\n"
     ]
    },
    {
     "name": "stderr",
     "output_type": "stream",
     "text": [
      "INFO\tTask(Task-3) nodify.node.139839192918272:node.py:get()- No need to evaluate\n"
     ]
    },
    {
     "name": "stderr",
     "output_type": "stream",
     "text": [
      "INFO\tTask(Task-3) nodify.node.139839192920720:node.py:get()- No need to evaluate\n"
     ]
    },
    {
     "name": "stderr",
     "output_type": "stream",
     "text": [
      "INFO\tTask(Task-3) nodify.node.139839192914144:node.py:get()- Evaluated because inputs changed.\n"
     ]
    },
    {
     "name": "stderr",
     "output_type": "stream",
     "text": [
      "INFO\tTask(Task-3) nodify.node.139839192922496:node.py:get()- Evaluated because inputs changed.\n"
     ]
    },
    {
     "name": "stderr",
     "output_type": "stream",
     "text": [
      "INFO\tTask(Task-3) nodify.node.139839192922976:node.py:get()- Evaluated because inputs changed.\n"
     ]
    },
    {
     "data": {
      "application/vnd.plotly.v1+json": {
       "config": {
        "plotlyServerURL": "https://plot.ly"
       },
       "data": [
        {
         "line": {
          "width": 1.0
         },
         "meta": {},
         "mode": "lines",
         "name": " | atoms=0",
         "type": "scatter",
         "x": {
          "bdata": "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",
          "dtype": "f8"
         },
         "y": {
          "bdata": "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",
          "dtype": "f8"
         }
        },
        {
         "line": {
          "width": 1.0
         },
         "meta": {},
         "mode": "lines",
         "name": " | atoms=2",
         "type": "scatter",
         "x": {
          "bdata": "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",
          "dtype": "f8"
         },
         "y": {
          "bdata": "o8xlmdFb0z/g0qFI21LRPx9bn1YyJNA/Jnt8BG+hzz8Ghi0WkT7QP1H0Mo//StE/A/GDvdDb0j+lsF8p7unUP9U6Bn3wgNc/w0110puz2j/kNYKOeYneP7UXW3BgduE/g8chhQHQ4z9jPY+tKyDmPxCpu8MYKug/PY+7lFKx6T+/nEVoM4bqPxZ99poCkOo/C4cUUX3S6T+DfYGlA27oP+oY4w3SmuY/HfI9enGg5D+Gh4w5+sriP48+NqoOYOE/jhjLvZGV4D8+0lZN4YvgP3EnE7ySTOE/TxxwK2bN4j+RJsZ3wvXkP2K3aAY5pOc/v2UG7NWx6j93eD1ka/LtPyOFnVF+mfA/06sDh3Mc8j9fMyIHQmLzP/OEFhg/TPQ/wakYt07C9D9OdvrcS7j0P0RbZvxTMfQ/FJOwIWk/8z9tMNIxMv/xPz86FrkhkfA/T71UZ5ck7j9fi/CefS7rP3zprgWbVOg/U7jgxJKa5T/V0hnz4PriPxP0pBJzb+A/q34zybfv2z8o4TXCRTfXP40nv+v20dI/vX5nJlrFzT9tzaRn4hXHPz5JozQRycE/QIpiPav1uz9t1A/rD1i3Pz+H9X9HhbU/KGkS/1Matj+4kmv/X5K4P6eW/uEeWrw/dk9a4ZhzwD8F9MXf+ebCP6ibsl/bZsU/njbvhlfmxz/pQjQTSGHKP6x2aC+vzMw/42ZBGXUJzz+rD/RsjnDQP3aloME9CNE/d1/y/RUv0T9f8ZQcO9rQP/jm+p3rGdA/VV8jlMM1zj8mUDJbiD3MP4p0/w9C3Mo/HSq9tWeRyj8n9wmDh7HLPzUD7ZcGWc4/HwbuvKc10T89QY0CVs3TP0GCzDjtudY/TKn7sRu12T/IT8iuNXLcPy/ZxqjSpd4/WfbGP8YH4D/U1Xk6tkLgPyBK40zq/t8/Fohl+l2c3j/jyPcG9qfcPyH0nDyPjto/rV77sZXQ2D/fT8miz+zXP0ro+exUSNg/nL0RAQMY2j+woxGaYlDdP63e6dFm0OA/f2Bam48+4z8FbTHZCpvlP4bmjzwujuc/5ax3MyrT6D94EOzFaUfpPwPAXqwj8ug/cvlLVN4B6D9aqZDxdsDmP0kuVpTZgOU/oKfKIzyL5D8f7idc9wzkPzgMFkwLEOQ/9lYM3z585D/UupGXFyHlP5CfRNpVxeU/4tVX6Q835j//EIHnolfmP1cAnlKNIOY/PpprJBqh5T/Svt+XPffkP5WWZMIIR+Q/VWeWs2uz4z9E7gKcXVnjP8T1HZgXTeM/LbrZrpyY4z99horpOjvkP6WbdgFPKuU/qPYlX6dT5j+xIFcXRqHnPwUgCsVs/eg/HZocCH9V6j+LsHDzu5rrP7r2J3LawOw/zZTpdpm77T8rWQM+vnzuP0pG97ud8+4/tOpiSngO7z9nmyztIb3uP7G0IDAN9O0/W7DrC96u7D/JAEkj+fHqP5+XFyHXyug/H0tGXSJP5j8Xsygz1JrjP/w6OcqwzeA/UJhNgDYR3D9cTo2Cc9bWP248HhV1JNI/yq5E9DRZzD+bRc+ZjS7GPzhst8VhBsI/taGeQiIIwD95SeJlwT/AP/uRQ8n6lMI/7QeFxkDBxj/hTwqkpkjMP6IMXu2+PdE/Y2LVjJ1C1D9+48upl8TWPzGSrrX4Y9g/vICBR8rh2D/1rwLzxSvYPzuUHm46XtY/SIhC/la70z//fcVx1prQP//x/xdlrso/LK/F9TR7xD9Ai3nniRC+P4YBk4VHHLU/FIZy3OVfrD/ghNp1XkGiPyPnvUvLfJY/+Z6iP0KDij8W1EcRoed9P5+DAEAAIHA/f7Qf7gidYD/eRRngrlZQP1e66GjqpT4/Jiknb3RjKz/dqIUfxUwXP5h6UCyR2gI/lnaI7wcA7T5WFycQ/i7VPiqwv6Y7YL0+EELa5s9Soz5qbCY6XhuIPmyawjpyUmw+epsRN3/ITz447WXWK1MwPqni2EmVgxA+XTBE55ia7z0AAAAAAAAAAAAAAAAAAAAAAAAAAAAAAAAAAAAAAAAAAAAAAAAAAAAAAAAAAAAAAAAAAAAAAAAAAAAAAAAAAAAAAAAAAAAAAAAAAAAAAAAAAAAAAAAAAAAAAAAAAAAAAAAAAAAAAAAAAAAAAAAAAAAAAAAAAAAAAAAAAAAAAAAAAAAAAAAAAAAAAAAAAAAAAAAAAAAAAAAAAAAAAAAAAAAAAAAAAAAAAAAAAAAAAAAAAAAAAAAAAAAAAAAAAAAAAAAAAAAAAAAAAAAAAAAAAAAAAAAAAAAAAAAAAAAAAAAAAAAAAAAAAAAAAAAAAAAAAAAAAAAAAAAAAAAAAAAAAAAAAAAAAAAAAAAAAAAAAAAAAAAAAAAAAAAAAAAAAAAAAAAAAAAAAAAAAAAAAAAAAAAAAAAAAAAAAAAAAAAAAAAAAAAAAAAAAAAAAAAAAAAAAAAAAAAAAAAAAAAAAAAAAAAAAAAAAAAAAAAAAAAAAAAAAAAAAAAAAAAAAAAAAAAAAAAAAAAAAAAAAAAAAAAAAAAAAAAAAAAAAAAAAAAAAAAAAFvb3l6+mLA9QIvNT0s60T0JLZQXburwPYZAFE4GVRA+zM7sCC7nLD59mRCaGVZIPpefNx5jWWM+MC72TckqfT6FpNEjidmUPvxQrJrMR6w+ULgjqB01wj7E++fhGUXWPopnKntd5Ok+KPFNLCaj/D6etKQpNCgOP1EKq1bSQx4/3dUB0WH5LD9OX8B5zXw6PzoKxXRPJUc/EkrnpSJaUz/fCM/rz/1ePzkijFAhyWc/nl2KqKKCcT+sjK3qgb54P3jhXfLgyYA/BmvvRLzihT/NxvYiBmuLPwKOim2ggpA/+Orz8uIekz8SMswxwUyVP0ysBNkn1JY/S2uBnoKLlz/C45dUoF6XP9YJwUn5UZY/rjFswMSBlD/eUXHaOB2SP8pMmRARvo4/paCD6zsJiT9nJdRDYIuDP0jAFi2xNn0/5nN9PfrfdD9abl8913xsPz2fApU2i2I/7Te7eZUIVz+7VwGLNW1LP8zROxe1CkA/JOx0HMlSND844QOXQb0xP0d385Bo1Tg/bHRbT5aURj/AARxyO4hVPyYz5VYj92M/jwkEICascT+yzn+EU8F9P3O2lBpc0Yc/6DdB+qojkj/PrJ9RRlCaP82C/LUGM6I/FzjqvWUKqD9SKMYep2CuPzQ/iQebZLI/SK82oQdjtT9d6AbAdOy3P+uP2ljgybk/tc5QHdTSuj81bPyBe/G6P+waJMDNJLo/9ECqukyBuD/egoPMQzC2P1Vg6czMbLM/+oiBSOB9sD9aX5osHlurP2gdMQOYfaY/e+FAxkjIoj8dESLLunOgP11xTT9AFJ8/YKdD1crfnz/0LbVtH3ShP5FXoNxL5KM/b8WfoRUepz/CozDVQRqrP+lhM0lg7a8/xQgLv3/esj/6Y+LNW1W2P8XcKVidXLo/v8sG0TnZvj/6DuhI9MXBPyA3IL5tCcQ/qBdSxM77xT/B6Tn05GPHP3SF3KtFGcg/8ugc0akQyD/1hFzFF2HHP2BgJhUpP8Y/PnkhyUfvxD/WgGWnNLPDP4Mr5o3xuMI/sE0/fIEQwj9GwALhQKvBPxfXKVcqZME/smitn5kNwT99D6Y06H/AP+WJbWFYSb8/6qdeCuz3vD862m5h3TW6Py8Oy7EeSrc/L+TaUteEtD+gEdlN9SuyP7MVJd/RbLA/E7XdQOCrrj9/pc4NY7KtP5Wa1mDVqK0/79IEZYU5rj+ULxPVHRKvP+Vpj7uv8K8/xWjYL3NTsD8H0dadiIqwP1GS0zLKkLA/B3XqzR9ZsD9nIXn6oKuvP+L3mqAl960/8vEeUy6Nqz99ixT57X2oP9wbzGIo9KQ/t+eLt50voT9s3Rc3ZvGaP8XHDnmTI5Q//TFM5Y6tjD+pNiBwfnqDP67xMG9ydnk/NheskSCDcD8R9K5ExSNnPy/Reby3Y2Q/lKVTeVl0aD/RB4eRttxxP2EDVcPzmns/oGp0sQUQhT8BxmE5KwOPP+f7g0h95JU/C85V0X2bnT+gbpTpli+jP8eGNc+J2ac/qPE8/G93rD8JRGK2EVWwPzAp3JGKC7I/SSGgnHM8sz/oopsaF9azP3j0/8P42bM/NSytKgNasz9Nppdgm3GyPzFssVJRPbE/K7W9j/qorz9sUqJJR46sP3BqyHS6QKk/zwYw1r7WpT/9UW/rZHCiPweIIkN5dp4/eWLifpTdmD9wdSAZNoaUP0uWacHUyZE/wf2QT7fVkD8=",
          "dtype": "f8"
         }
        },
        {
         "line": {
          "width": 1.0
         },
         "meta": {},
         "mode": "lines",
         "name": " | atoms=4",
         "type": "scatter",
         "x": {
          "bdata": "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",
          "dtype": "f8"
         },
         "y": {
          "bdata": "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",
          "dtype": "f8"
         }
        }
       ],
       "layout": {
        "scene": {
         "xaxis": {
          "title": {
           "text": "E [eV]"
          }
         },
         "yaxis": {
          "title": {
           "text": "PDOS [1/eV]"
          }
         }
        },
        "template": {
         "layout": {
          "hovermode": "closest",
          "paper_bgcolor": "white",
          "plot_bgcolor": "white",
          "scene": {
           "xaxis": {
            "color": "black",
            "gridcolor": "#ccc",
            "gridwidth": 1,
            "linewidth": 1,
            "mirror": true,
            "showgrid": false,
            "showline": true,
            "ticklen": 5,
            "ticks": "outside",
            "ticksuffix": " ",
            "visible": true,
            "zeroline": false,
            "zerolinecolor": "#ccc",
            "zerolinewidth": 1
           },
           "yaxis": {
            "color": "black",
            "gridcolor": "#ccc",
            "gridwidth": 1,
            "linewidth": 1,
            "mirror": true,
            "showgrid": false,
            "showline": true,
            "ticklen": 5,
            "ticks": "outside",
            "ticksuffix": " ",
            "visible": true,
            "zeroline": false,
            "zerolinecolor": "#ccc",
            "zerolinewidth": 1
           },
           "zaxis": {
            "color": "black",
            "gridcolor": "#ccc",
            "gridwidth": 1,
            "linewidth": 1,
            "mirror": true,
            "showgrid": false,
            "showline": true,
            "ticklen": 5,
            "ticks": "outside",
            "ticksuffix": " ",
            "visible": true,
            "zeroline": false,
            "zerolinecolor": "#ccc",
            "zerolinewidth": 1
           }
          },
          "xaxis": {
           "color": "black",
           "gridcolor": "#ccc",
           "gridwidth": 1,
           "linewidth": 1,
           "mirror": true,
           "showgrid": false,
           "showline": true,
           "ticklen": 5,
           "ticks": "outside",
           "ticksuffix": " ",
           "visible": true,
           "zeroline": false,
           "zerolinecolor": "#ccc",
           "zerolinewidth": 1
          },
          "yaxis": {
           "color": "black",
           "gridcolor": "#ccc",
           "gridwidth": 1,
           "linewidth": 1,
           "mirror": true,
           "showgrid": false,
           "showline": true,
           "ticklen": 5,
           "ticks": "outside",
           "ticksuffix": " ",
           "visible": true,
           "zeroline": false,
           "zerolinecolor": "#ccc",
           "zerolinewidth": 1
          }
         }
        },
        "xaxis": {
         "title": {
          "text": "E [eV]"
         }
        },
        "yaxis": {
         "title": {
          "text": "PDOS [1/eV]"
         }
        }
       }
      }
     },
     "metadata": {},
     "output_type": "display_data"
    }
   ],
   "source": [
    "plot.split_DOS(on=\"atoms\", exclude=[1, 3])"
   ]
  },
  {
   "cell_type": "markdown",
   "metadata": {},
   "source": [
    "Or **indicate the only values that you want**:"
   ]
  },
  {
   "cell_type": "code",
   "execution_count": 11,
   "metadata": {
    "execution": {
     "iopub.execute_input": "2025-09-23T10:48:22.818318Z",
     "iopub.status.busy": "2025-09-23T10:48:22.818146Z",
     "iopub.status.idle": "2025-09-23T10:48:22.895137Z",
     "shell.execute_reply": "2025-09-23T10:48:22.894670Z"
    }
   },
   "outputs": [
    {
     "name": "stderr",
     "output_type": "stream",
     "text": [
      "INFO\tTask(Task-3) nodify.node.139839192918752:node.py:get()- No need to evaluate\n"
     ]
    },
    {
     "name": "stderr",
     "output_type": "stream",
     "text": [
      "INFO\tTask(Task-3) nodify.node.139839192915824:node.py:get()- No need to evaluate\n"
     ]
    },
    {
     "name": "stderr",
     "output_type": "stream",
     "text": [
      "INFO\tTask(Task-3) nodify.node.139839192913184:node.py:get()- No need to evaluate\n"
     ]
    },
    {
     "name": "stderr",
     "output_type": "stream",
     "text": [
      "INFO\tTask(Task-3) nodify.node.139839192917024:node.py:get()- No need to evaluate\n"
     ]
    },
    {
     "name": "stderr",
     "output_type": "stream",
     "text": [
      "INFO\tTask(Task-3) nodify.node.139839192918752:node.py:get()- No need to evaluate\n"
     ]
    },
    {
     "name": "stderr",
     "output_type": "stream",
     "text": [
      "INFO\tTask(Task-3) nodify.node.139839192915824:node.py:get()- No need to evaluate\n"
     ]
    },
    {
     "name": "stderr",
     "output_type": "stream",
     "text": [
      "INFO\tTask(Task-3) nodify.node.139839192918656:node.py:get()- No need to evaluate\n"
     ]
    },
    {
     "name": "stderr",
     "output_type": "stream",
     "text": [
      "INFO\tTask(Task-3) nodify.node.139839192915584:node.py:get()- No need to evaluate\n"
     ]
    },
    {
     "name": "stderr",
     "output_type": "stream",
     "text": [
      "INFO\tTask(Task-3) nodify.node.139839192918944:node.py:get()- Evaluated because inputs changed.\n"
     ]
    },
    {
     "name": "stderr",
     "output_type": "stream",
     "text": [
      "INFO\tTask(Task-3) nodify.node.139839192918752:node.py:get()- No need to evaluate\n"
     ]
    },
    {
     "name": "stderr",
     "output_type": "stream",
     "text": [
      "INFO\tTask(Task-3) nodify.node.139839192915824:node.py:get()- No need to evaluate\n"
     ]
    },
    {
     "name": "stderr",
     "output_type": "stream",
     "text": [
      "INFO\tTask(Task-3) nodify.node.139839192913184:node.py:get()- No need to evaluate\n"
     ]
    },
    {
     "name": "stderr",
     "output_type": "stream",
     "text": [
      "INFO\tTask(Task-3) nodify.node.139839192915200:node.py:get()- Evaluated because inputs changed.\n"
     ]
    },
    {
     "name": "stderr",
     "output_type": "stream",
     "text": [
      "INFO\tTask(Task-3) nodify.node.139839192917408:node.py:get()- No need to evaluate\n"
     ]
    },
    {
     "name": "stderr",
     "output_type": "stream",
     "text": [
      "INFO\tTask(Task-3) nodify.node.139839192914528:node.py:get()- Evaluated because inputs changed.\n"
     ]
    },
    {
     "name": "stderr",
     "output_type": "stream",
     "text": [
      "INFO\tTask(Task-3) nodify.node.139839192918272:node.py:get()- No need to evaluate\n"
     ]
    },
    {
     "name": "stderr",
     "output_type": "stream",
     "text": [
      "INFO\tTask(Task-3) nodify.node.139839192919856:node.py:get()- No need to evaluate\n"
     ]
    },
    {
     "name": "stderr",
     "output_type": "stream",
     "text": [
      "INFO\tTask(Task-3) nodify.node.139839192920672:node.py:get()- No need to evaluate\n"
     ]
    },
    {
     "name": "stderr",
     "output_type": "stream",
     "text": [
      "INFO\tTask(Task-3) nodify.node.139839192918272:node.py:get()- No need to evaluate\n"
     ]
    },
    {
     "name": "stderr",
     "output_type": "stream",
     "text": [
      "INFO\tTask(Task-3) nodify.node.139839192921536:node.py:get()- No need to evaluate\n"
     ]
    },
    {
     "name": "stderr",
     "output_type": "stream",
     "text": [
      "INFO\tTask(Task-3) nodify.node.139839192920576:node.py:get()- No need to evaluate\n"
     ]
    },
    {
     "name": "stderr",
     "output_type": "stream",
     "text": [
      "INFO\tTask(Task-3) nodify.node.139839192917888:node.py:get()- No need to evaluate\n"
     ]
    },
    {
     "name": "stderr",
     "output_type": "stream",
     "text": [
      "INFO\tTask(Task-3) nodify.node.139839192918272:node.py:get()- No need to evaluate\n"
     ]
    },
    {
     "name": "stderr",
     "output_type": "stream",
     "text": [
      "INFO\tTask(Task-3) nodify.node.139839192920720:node.py:get()- No need to evaluate\n"
     ]
    },
    {
     "name": "stderr",
     "output_type": "stream",
     "text": [
      "INFO\tTask(Task-3) nodify.node.139839192914144:node.py:get()- Evaluated because inputs changed.\n"
     ]
    },
    {
     "name": "stderr",
     "output_type": "stream",
     "text": [
      "INFO\tTask(Task-3) nodify.node.139839192922496:node.py:get()- Evaluated because inputs changed.\n"
     ]
    },
    {
     "name": "stderr",
     "output_type": "stream",
     "text": [
      "INFO\tTask(Task-3) nodify.node.139839192922976:node.py:get()- Evaluated because inputs changed.\n"
     ]
    },
    {
     "data": {
      "application/vnd.plotly.v1+json": {
       "config": {
        "plotlyServerURL": "https://plot.ly"
       },
       "data": [
        {
         "line": {
          "width": 1.0
         },
         "meta": {},
         "mode": "lines",
         "name": " | atoms=0",
         "type": "scatter",
         "x": {
          "bdata": "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",
          "dtype": "f8"
         },
         "y": {
          "bdata": "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",
          "dtype": "f8"
         }
        },
        {
         "line": {
          "width": 1.0
         },
         "meta": {},
         "mode": "lines",
         "name": " | atoms=2",
         "type": "scatter",
         "x": {
          "bdata": "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",
          "dtype": "f8"
         },
         "y": {
          "bdata": "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",
          "dtype": "f8"
         }
        }
       ],
       "layout": {
        "scene": {
         "xaxis": {
          "title": {
           "text": "E [eV]"
          }
         },
         "yaxis": {
          "title": {
           "text": "PDOS [1/eV]"
          }
         }
        },
        "template": {
         "layout": {
          "hovermode": "closest",
          "paper_bgcolor": "white",
          "plot_bgcolor": "white",
          "scene": {
           "xaxis": {
            "color": "black",
            "gridcolor": "#ccc",
            "gridwidth": 1,
            "linewidth": 1,
            "mirror": true,
            "showgrid": false,
            "showline": true,
            "ticklen": 5,
            "ticks": "outside",
            "ticksuffix": " ",
            "visible": true,
            "zeroline": false,
            "zerolinecolor": "#ccc",
            "zerolinewidth": 1
           },
           "yaxis": {
            "color": "black",
            "gridcolor": "#ccc",
            "gridwidth": 1,
            "linewidth": 1,
            "mirror": true,
            "showgrid": false,
            "showline": true,
            "ticklen": 5,
            "ticks": "outside",
            "ticksuffix": " ",
            "visible": true,
            "zeroline": false,
            "zerolinecolor": "#ccc",
            "zerolinewidth": 1
           },
           "zaxis": {
            "color": "black",
            "gridcolor": "#ccc",
            "gridwidth": 1,
            "linewidth": 1,
            "mirror": true,
            "showgrid": false,
            "showline": true,
            "ticklen": 5,
            "ticks": "outside",
            "ticksuffix": " ",
            "visible": true,
            "zeroline": false,
            "zerolinecolor": "#ccc",
            "zerolinewidth": 1
           }
          },
          "xaxis": {
           "color": "black",
           "gridcolor": "#ccc",
           "gridwidth": 1,
           "linewidth": 1,
           "mirror": true,
           "showgrid": false,
           "showline": true,
           "ticklen": 5,
           "ticks": "outside",
           "ticksuffix": " ",
           "visible": true,
           "zeroline": false,
           "zerolinecolor": "#ccc",
           "zerolinewidth": 1
          },
          "yaxis": {
           "color": "black",
           "gridcolor": "#ccc",
           "gridwidth": 1,
           "linewidth": 1,
           "mirror": true,
           "showgrid": false,
           "showline": true,
           "ticklen": 5,
           "ticks": "outside",
           "ticksuffix": " ",
           "visible": true,
           "zeroline": false,
           "zerolinecolor": "#ccc",
           "zerolinewidth": 1
          }
         }
        },
        "xaxis": {
         "title": {
          "text": "E [eV]"
         }
        },
        "yaxis": {
         "title": {
          "text": "PDOS [1/eV]"
         }
        }
       }
      }
     },
     "metadata": {},
     "output_type": "display_data"
    }
   ],
   "source": [
    "plot.split_DOS(on=\"atoms\", only=[0, 2])"
   ]
  },
  {
   "cell_type": "markdown",
   "metadata": {},
   "source": [
    "Finally, if you want to split on multiple parameters at the same time, you can use `+` between different parameters. For example, to get all the oxygen orbitals:"
   ]
  },
  {
   "cell_type": "code",
   "execution_count": 12,
   "metadata": {
    "execution": {
     "iopub.execute_input": "2025-09-23T10:48:22.896800Z",
     "iopub.status.busy": "2025-09-23T10:48:22.896629Z",
     "iopub.status.idle": "2025-09-23T10:48:23.081262Z",
     "shell.execute_reply": "2025-09-23T10:48:23.080760Z"
    }
   },
   "outputs": [
    {
     "name": "stderr",
     "output_type": "stream",
     "text": [
      "INFO\tTask(Task-3) nodify.node.139839192918752:node.py:get()- No need to evaluate\n"
     ]
    },
    {
     "name": "stderr",
     "output_type": "stream",
     "text": [
      "INFO\tTask(Task-3) nodify.node.139839192915824:node.py:get()- No need to evaluate\n"
     ]
    },
    {
     "name": "stderr",
     "output_type": "stream",
     "text": [
      "INFO\tTask(Task-3) nodify.node.139839192913184:node.py:get()- No need to evaluate\n"
     ]
    },
    {
     "name": "stderr",
     "output_type": "stream",
     "text": [
      "INFO\tTask(Task-3) nodify.node.139839192917024:node.py:get()- No need to evaluate\n"
     ]
    },
    {
     "name": "stderr",
     "output_type": "stream",
     "text": [
      "INFO\tTask(Task-3) nodify.node.139839192918752:node.py:get()- No need to evaluate\n"
     ]
    },
    {
     "name": "stderr",
     "output_type": "stream",
     "text": [
      "INFO\tTask(Task-3) nodify.node.139839192915824:node.py:get()- No need to evaluate\n"
     ]
    },
    {
     "name": "stderr",
     "output_type": "stream",
     "text": [
      "INFO\tTask(Task-3) nodify.node.139839192918656:node.py:get()- No need to evaluate\n"
     ]
    },
    {
     "name": "stderr",
     "output_type": "stream",
     "text": [
      "INFO\tTask(Task-3) nodify.node.139839192915584:node.py:get()- No need to evaluate\n"
     ]
    },
    {
     "name": "stderr",
     "output_type": "stream",
     "text": [
      "INFO\tTask(Task-3) nodify.node.139839192918944:node.py:get()- Evaluated because inputs changed.\n"
     ]
    },
    {
     "name": "stderr",
     "output_type": "stream",
     "text": [
      "INFO\tTask(Task-3) nodify.node.139839192918752:node.py:get()- No need to evaluate\n"
     ]
    },
    {
     "name": "stderr",
     "output_type": "stream",
     "text": [
      "INFO\tTask(Task-3) nodify.node.139839192915824:node.py:get()- No need to evaluate\n"
     ]
    },
    {
     "name": "stderr",
     "output_type": "stream",
     "text": [
      "INFO\tTask(Task-3) nodify.node.139839192913184:node.py:get()- No need to evaluate\n"
     ]
    },
    {
     "name": "stderr",
     "output_type": "stream",
     "text": [
      "INFO\tTask(Task-3) nodify.node.139839192915200:node.py:get()- Evaluated because inputs changed.\n"
     ]
    },
    {
     "name": "stderr",
     "output_type": "stream",
     "text": [
      "INFO\tTask(Task-3) nodify.node.139839192917408:node.py:get()- No need to evaluate\n"
     ]
    },
    {
     "name": "stderr",
     "output_type": "stream",
     "text": [
      "INFO\tTask(Task-3) nodify.node.139839192914528:node.py:get()- Evaluated because inputs changed.\n"
     ]
    },
    {
     "name": "stderr",
     "output_type": "stream",
     "text": [
      "INFO\tTask(Task-3) nodify.node.139839192918272:node.py:get()- No need to evaluate\n"
     ]
    },
    {
     "name": "stderr",
     "output_type": "stream",
     "text": [
      "INFO\tTask(Task-3) nodify.node.139839192919856:node.py:get()- No need to evaluate\n"
     ]
    },
    {
     "name": "stderr",
     "output_type": "stream",
     "text": [
      "INFO\tTask(Task-3) nodify.node.139839192920672:node.py:get()- No need to evaluate\n"
     ]
    },
    {
     "name": "stderr",
     "output_type": "stream",
     "text": [
      "INFO\tTask(Task-3) nodify.node.139839192918272:node.py:get()- No need to evaluate\n"
     ]
    },
    {
     "name": "stderr",
     "output_type": "stream",
     "text": [
      "INFO\tTask(Task-3) nodify.node.139839192921536:node.py:get()- No need to evaluate\n"
     ]
    },
    {
     "name": "stderr",
     "output_type": "stream",
     "text": [
      "INFO\tTask(Task-3) nodify.node.139839192920576:node.py:get()- No need to evaluate\n"
     ]
    },
    {
     "name": "stderr",
     "output_type": "stream",
     "text": [
      "INFO\tTask(Task-3) nodify.node.139839192917888:node.py:get()- No need to evaluate\n"
     ]
    },
    {
     "name": "stderr",
     "output_type": "stream",
     "text": [
      "INFO\tTask(Task-3) nodify.node.139839192918272:node.py:get()- No need to evaluate\n"
     ]
    },
    {
     "name": "stderr",
     "output_type": "stream",
     "text": [
      "INFO\tTask(Task-3) nodify.node.139839192920720:node.py:get()- No need to evaluate\n"
     ]
    },
    {
     "name": "stderr",
     "output_type": "stream",
     "text": [
      "INFO\tTask(Task-3) nodify.node.139839192914144:node.py:get()- Evaluated because inputs changed.\n"
     ]
    },
    {
     "name": "stderr",
     "output_type": "stream",
     "text": [
      "INFO\tTask(Task-3) nodify.node.139839192922496:node.py:get()- Evaluated because inputs changed.\n"
     ]
    },
    {
     "name": "stderr",
     "output_type": "stream",
     "text": [
      "INFO\tTask(Task-3) nodify.node.139839192922976:node.py:get()- Evaluated because inputs changed.\n"
     ]
    },
    {
     "data": {
      "application/vnd.plotly.v1+json": {
       "config": {
        "plotlyServerURL": "https://plot.ly"
       },
       "data": [
        {
         "line": {
          "width": 1.0
         },
         "meta": {},
         "mode": "lines",
         "name": "Oxygen | n=2, l=0, m=0",
         "type": "scatter",
         "x": {
          "bdata": "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",
          "dtype": "f8"
         },
         "y": {
          "bdata": "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",
          "dtype": "f8"
         }
        },
        {
         "line": {
          "width": 1.0
         },
         "meta": {},
         "mode": "lines",
         "name": "Oxygen | n=2, l=1, m=-1",
         "type": "scatter",
         "x": {
          "bdata": "jCgWje/2E8AMc8zDU90TwIq9gvq3wxPAgtTkMRyqE8AAH5togJATwPY1/Z/kdhPAdoCz1khdE8D2ymkNrUMTwOzhy0QRKhPAbCyCe3UQE8BiQ+Sy2fYSwOCNmuk93RLAYNhQIKLDEsBW77JXBqoSwNY5aY5qkBLAzFDLxc52EsBMm4H8Ml0SwMzlNzOXQxLAwvyZavspEsBAR1ChXxASwMCRBtjD9hHAtqhoDyjdEcA28x5GjMMRwCwKgX3wqRHArFQ3tFSQEcAqn+3quHYRwCK2TyIdXRHAoAAGWYFDEcCWF2iQ5SkRwBZiHsdJEBHAlqzU/a32EMCMwzY1Et0QwAoO7Wt2wxDAAiVPo9qpEMCAbwXaPpAQwAC6uxCjdhDA9tAdSAddEMB2G9R+a0MQwPZlirXPKRDA7Hzs7DMQEMDVjkVHMO0PwMO8Cbb4uQ/AwVF2I8GGD8C/5uKQiVMPwK0Up/9RIA/Aq6kTbRrtDsCX19fb4rkOwJdsREmrhg7AlQGxtnNTDsCDL3UlPCAOwIHE4ZIE7Q3AbfKlAc25DcBthxJvlYYNwGscf9xdUw3AV0pDSyYgDcBX36+47uwMwFV0HCa3uQzAQaLglH+GDMBBN00CSFMMwC1lEXEQIAzAK/p93tjsC8Arj+pLobkLwBe9rrpphgvAF1IbKDJTC8ADgN+W+h8LwAEVTATD7ArAAaq4cYu5CsDt13zgU4YKwOts6U0cUwrA2ZqtvOQfCsDXLxoqrewJwNXEhpd1uQnAw/JKBj6GCcDBh7dzBlMJwL8cJOHOHwnArUroT5fsCMCr31S9X7kIwJkNGSwohgjAl6KFmfBSCMCVN/IGuR8IwINltnWB7AfAgfoi40m5B8BtKOdREoYHwG29U7/aUgfAa1LALKMfB8BXgISba+wGwFcV8Qg0uQbAQ0O1d/yFBsBD2CHlxFIGwEFtjlKNHwbALZtSwVXsBcAtML8uHrkFwCvFK5zmhQXAF/PvCq9SBcAXiFx4dx8FwAO2IOc/7ATAAUuNVAi5BMAB4PnB0IUEwO0NvjCZUgTA66IqnmEfBMDZ0O4MKuwDwNdlW3ryuAPA1/rH57qFA8DDKIxWg1IDwMG9+MNLHwPAr+u8MhTsAsCtgCmg3LgCwKsVlg2lhQLAmUNafG1SAsCX2MbpNR8CwJVtM1f+6wHAg5v3xca4AcCBMGQzj4UBwG9eKKJXUgHAbfOUDyAfAcBriAF96OsAwFm2xeuwuADAV0syWXmFAMBDefbHQVIAwEMOYzUKHwDAgkafRaXX/79aoicjNnH/v1rMAP7GCv+/MiiJ21ek/r8uUmK26D3+vy58O5F51/2/BtjDbgpx/b8GAp1Jmwr9vwIsdiQspPy/2of+Ab09/L/asdfcTdf7v7INYLrecPu/rjc5lW8K+7+uYRJwAKT6v4a9mk2RPfq/gudzKCLX+b9eQ/wFs3D5v1pt1eBDCvm/Vpeuu9Sj+L8y8zaZZT34vy4dEHT21ve/CnmYUYdw978Go3EsGAr3vwLNSgepo/a/3ijT5Dk99r/aUqy/ytb1v9Z8hZpbcPW/stgNeOwJ9b+uAudSfaP0v4ZebzAOPfS/hohIC5/W87+CsiHmL3Dzv14OqsPACfO/WjiDnlGj8r8ylAt84jzyvzK+5FZz1vG/Lui9MQRw8b8GREYPlQnxvwZuH+olo/C/3smnx7Y88L+05wFFj6zvv7Q7tPqw3+6/ZPPEtdIS7r9cR3dr9EXtv1ybKSEWeey/DFM63Des678Mp+yRWd/qv7xe/Ux7Euq/tLKvAp1F6b+0BmK4vnjov2S+cnPgq+e/XBIlKQLf5r8UyjXkIxLmvwwe6JlFReW/BHKaT2d45L+8KasKiavjv7R9XcCq3uK/bDVue8wR4r9kiSAx7kThv1zd0uYPeOC/KCrHQ2NW378Y0iuvprzdvwh6kBrqIty/eOmxkC2J2r9okRb8cO/Yv8gAOHK0Vde/yKic3fe71b+4UAFJOyLUvyDAIr9+iNK/GGiHKsLu0L/wrlFBC6rOv+D+GhiSdsu/0E7k7hhDyL+QLSfbnw/Fv4B98LEm3MG/oLhmPFtRvb+AWPnpaOq2v0D4i5d2g7C/wGsj4Ag5pL8AriLtkKyNvwBUSKYBi4U/wJmGuKQwoj8AWmFdif6uP2DvKtY25rU/oE+YKClNvD/g14K9DVrBPxD5P9GGjcQ/MKl2+v/Axz9gyjMOefTKP3B6ajfyJ84/QJVQsLWt0D/gJS86ckfSP+h9ys4u4dM/gA6pWOt61T+IZkTtpxTXP5i+34Fkrtg/ME++CyFI2j84p1mg3eHbP0j/9DSae90/4I/TvlYV3z/0c7epiVfgP0C8pu5nJOE/SGj0OEbx4T9MFEKDJL7iP5hcMcgCi+M/oAh/EuFX5D/sUG5XvyTlP/D8u6Gd8eU/9KgJ7Hu+5j9E8fgwWovnP0idRns4WOg/lOU1wBYl6T+ckYMK9fHpP6A90VTTvuo/7IXAmbGL6z/wMQ7kj1jsP/jdWy5uJe0/RCZLc0zy7T9I0pi9Kr/uP5QaiAIJjO8/TuNqpnMs8D9QuZHL4pLwP3ZdCe5R+fA/ejMwE8Ff8T+g16c1MMbxP6KtzlqfLPI/poP1fw6T8j/MJ22iffnyP879k8fsX/M/9KEL6lvG8z/4dzIPyyz0P/pNWTQ6k/Q/IPLQVqn59D8iyPd7GGD1PyaeHqGHxvU/TEKWw/Ys9j9OGL3oZZP2P3a8NAvV+fY/eJJbMERg9z96aIJVs8b3P6AM+nciLfg/pOIgnZGT+D/Khpi/APr4P8xcv+RvYPk/0DLmCd/G+T/21l0sTi36P/ishFG9k/o/H1H8cyz6+j8hJyOZm2D7PyT9Sb4Kx/s/SqHB4Hkt/D9Nd+gF6ZP8P1BNDytY+vw/dvGGTcdg/T95x61yNsf9P59rJZWlLf4/okFMuhSU/j+lF3Pfg/r+P8u76gHzYP8/zpERJ2LH/z/6msSk6BYAQPwFWDcgSgBA/HDryVd9AEAQQydbj7AAQBGuuu3G4wBAJID2fv4WAUAm64kRNkoBQCdWHaRtfQFAOihZNaWwAUA8k+zH3OMBQD3+f1oUFwJAUNC760tKAkBSO09+g30CQGQNiw+7sAJAZngeovLjAkBo47E0KhcDQHq17cVhSgNAfCCBWJl9A0CP8rzp0LADQJBdUHwI5ANAksjjDkAXBEClmh+gd0oEQKYFszKvfQRAutfuw+awBEC7QoJWHuQEQLytFelVFwVA0H9Reo1KBUC5jsIMxX0FQFuJzJ78sAVA/YPWMDTkBUC32gLDaxcGQFnVDFWjSgZA+88W59p9BkCdyiB5ErEGQD/FKgtK5AZA4b80nYEXB0CEuj4vuUoHQCa1SMHwfQdAyK9SUyixB0CCBn/lX+QHQCQBiXeXFwhAxvuSCc9KCEBo9pybBn4IQArxpi0+sQhArOuwv3XkCEBO5rpRrRcJQPDgxOPkSglAktvOdRx+CUBMMvsHVLEJQO4sBZqL5AlAkCcPLMMXCkAyIhm++koKQNQcI1AyfgpAdhct4mmxCkAYEjd0oeQKQLoMQQbZFwtAXQdLmBBLC0AWXncqSH4LQLlYgbx/sQtAW1OLTrfkC0D9TZXg7hcMQJ9In3ImSwxAQUOpBF5+DEC3jL2WlbEMQPX2yijN5AxAM2HYugQYDUB7c+VMPEsNQK81895zfg1A7Z8AcauxDUArCg4D4+QNQGl0G5UaGA5AC28lJ1JLDkCuaS+5iX4OQFBkOUvBsQ5A8l5D3fjkDkCstW9vMBgPQE6weQFoSw9A8KqDk59+D0CSpY0l17EPQDSgl7cO5Q9Aa83QJCMMEEC8ytXtviUQQA3I2rZaPxBAXsXff/ZYEEC78PVIknIQQAzu+hEujBBAXev/2smlEECu6ASkZb8QQP/lCW0B2RBAUOMONp3yEECh4BP/OAwRQPLdGMjUJRFATwkvkXA/EUCgBjRaDFkRQPEDOSOochFAQgE+7EOMEUCU/kK136URQOT7R357vxFANvlMRxfZEUCH9lEQs/IRQNjzVtlODBJANB9touolEkCGHHJrhj8SQNcZdzQiWRJAKBd8/b1yEkB5FIHGWYwSQMoRho/1pRJAMmutWJG/EkA8VEshLdkSQL0JlerI8hJAPr/es2QME0BHqHx8ACYTQMhdxkWcPxNA0kZkDjhZE0BS/K3X03ITQNOx96BvjBNA3JqVaQumE0BdUN8yp78TQN4FKfxC2RNA5+7GxN7yE0A=",
          "dtype": "f8"
         },
         "y": {
          "bdata": "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",
          "dtype": "f8"
         }
        },
        {
         "line": {
          "width": 1.0
         },
         "meta": {},
         "mode": "lines",
         "name": "Oxygen | n=2, l=1, m=0",
         "type": "scatter",
         "x": {
          "bdata": "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",
          "dtype": "f8"
         },
         "y": {
          "bdata": "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",
          "dtype": "f8"
         }
        },
        {
         "line": {
          "width": 1.0
         },
         "meta": {},
         "mode": "lines",
         "name": "Oxygen | n=2, l=1, m=1",
         "type": "scatter",
         "x": {
          "bdata": "jCgWje/2E8AMc8zDU90TwIq9gvq3wxPAgtTkMRyqE8AAH5togJATwPY1/Z/kdhPAdoCz1khdE8D2ymkNrUMTwOzhy0QRKhPAbCyCe3UQE8BiQ+Sy2fYSwOCNmuk93RLAYNhQIKLDEsBW77JXBqoSwNY5aY5qkBLAzFDLxc52EsBMm4H8Ml0SwMzlNzOXQxLAwvyZavspEsBAR1ChXxASwMCRBtjD9hHAtqhoDyjdEcA28x5GjMMRwCwKgX3wqRHArFQ3tFSQEcAqn+3quHYRwCK2TyIdXRHAoAAGWYFDEcCWF2iQ5SkRwBZiHsdJEBHAlqzU/a32EMCMwzY1Et0QwAoO7Wt2wxDAAiVPo9qpEMCAbwXaPpAQwAC6uxCjdhDA9tAdSAddEMB2G9R+a0MQwPZlirXPKRDA7Hzs7DMQEMDVjkVHMO0PwMO8Cbb4uQ/AwVF2I8GGD8C/5uKQiVMPwK0Up/9RIA/Aq6kTbRrtDsCX19fb4rkOwJdsREmrhg7AlQGxtnNTDsCDL3UlPCAOwIHE4ZIE7Q3AbfKlAc25DcBthxJvlYYNwGscf9xdUw3AV0pDSyYgDcBX36+47uwMwFV0HCa3uQzAQaLglH+GDMBBN00CSFMMwC1lEXEQIAzAK/p93tjsC8Arj+pLobkLwBe9rrpphgvAF1IbKDJTC8ADgN+W+h8LwAEVTATD7ArAAaq4cYu5CsDt13zgU4YKwOts6U0cUwrA2ZqtvOQfCsDXLxoqrewJwNXEhpd1uQnAw/JKBj6GCcDBh7dzBlMJwL8cJOHOHwnArUroT5fsCMCr31S9X7kIwJkNGSwohgjAl6KFmfBSCMCVN/IGuR8IwINltnWB7AfAgfoi40m5B8BtKOdREoYHwG29U7/aUgfAa1LALKMfB8BXgISba+wGwFcV8Qg0uQbAQ0O1d/yFBsBD2CHlxFIGwEFtjlKNHwbALZtSwVXsBcAtML8uHrkFwCvFK5zmhQXAF/PvCq9SBcAXiFx4dx8FwAO2IOc/7ATAAUuNVAi5BMAB4PnB0IUEwO0NvjCZUgTA66IqnmEfBMDZ0O4MKuwDwNdlW3ryuAPA1/rH57qFA8DDKIxWg1IDwMG9+MNLHwPAr+u8MhTsAsCtgCmg3LgCwKsVlg2lhQLAmUNafG1SAsCX2MbpNR8CwJVtM1f+6wHAg5v3xca4AcCBMGQzj4UBwG9eKKJXUgHAbfOUDyAfAcBriAF96OsAwFm2xeuwuADAV0syWXmFAMBDefbHQVIAwEMOYzUKHwDAgkafRaXX/79aoicjNnH/v1rMAP7GCv+/MiiJ21ek/r8uUmK26D3+vy58O5F51/2/BtjDbgpx/b8GAp1Jmwr9vwIsdiQspPy/2of+Ab09/L/asdfcTdf7v7INYLrecPu/rjc5lW8K+7+uYRJwAKT6v4a9mk2RPfq/gudzKCLX+b9eQ/wFs3D5v1pt1eBDCvm/Vpeuu9Sj+L8y8zaZZT34vy4dEHT21ve/CnmYUYdw978Go3EsGAr3vwLNSgepo/a/3ijT5Dk99r/aUqy/ytb1v9Z8hZpbcPW/stgNeOwJ9b+uAudSfaP0v4ZebzAOPfS/hohIC5/W87+CsiHmL3Dzv14OqsPACfO/WjiDnlGj8r8ylAt84jzyvzK+5FZz1vG/Lui9MQRw8b8GREYPlQnxvwZuH+olo/C/3smnx7Y88L+05wFFj6zvv7Q7tPqw3+6/ZPPEtdIS7r9cR3dr9EXtv1ybKSEWeey/DFM63Des678Mp+yRWd/qv7xe/Ux7Euq/tLKvAp1F6b+0BmK4vnjov2S+cnPgq+e/XBIlKQLf5r8UyjXkIxLmvwwe6JlFReW/BHKaT2d45L+8KasKiavjv7R9XcCq3uK/bDVue8wR4r9kiSAx7kThv1zd0uYPeOC/KCrHQ2NW378Y0iuvprzdvwh6kBrqIty/eOmxkC2J2r9okRb8cO/Yv8gAOHK0Vde/yKic3fe71b+4UAFJOyLUvyDAIr9+iNK/GGiHKsLu0L/wrlFBC6rOv+D+GhiSdsu/0E7k7hhDyL+QLSfbnw/Fv4B98LEm3MG/oLhmPFtRvb+AWPnpaOq2v0D4i5d2g7C/wGsj4Ag5pL8AriLtkKyNvwBUSKYBi4U/wJmGuKQwoj8AWmFdif6uP2DvKtY25rU/oE+YKClNvD/g14K9DVrBPxD5P9GGjcQ/MKl2+v/Axz9gyjMOefTKP3B6ajfyJ84/QJVQsLWt0D/gJS86ckfSP+h9ys4u4dM/gA6pWOt61T+IZkTtpxTXP5i+34Fkrtg/ME++CyFI2j84p1mg3eHbP0j/9DSae90/4I/TvlYV3z/0c7epiVfgP0C8pu5nJOE/SGj0OEbx4T9MFEKDJL7iP5hcMcgCi+M/oAh/EuFX5D/sUG5XvyTlP/D8u6Gd8eU/9KgJ7Hu+5j9E8fgwWovnP0idRns4WOg/lOU1wBYl6T+ckYMK9fHpP6A90VTTvuo/7IXAmbGL6z/wMQ7kj1jsP/jdWy5uJe0/RCZLc0zy7T9I0pi9Kr/uP5QaiAIJjO8/TuNqpnMs8D9QuZHL4pLwP3ZdCe5R+fA/ejMwE8Ff8T+g16c1MMbxP6KtzlqfLPI/poP1fw6T8j/MJ22iffnyP879k8fsX/M/9KEL6lvG8z/4dzIPyyz0P/pNWTQ6k/Q/IPLQVqn59D8iyPd7GGD1PyaeHqGHxvU/TEKWw/Ys9j9OGL3oZZP2P3a8NAvV+fY/eJJbMERg9z96aIJVs8b3P6AM+nciLfg/pOIgnZGT+D/Khpi/APr4P8xcv+RvYPk/0DLmCd/G+T/21l0sTi36P/ishFG9k/o/H1H8cyz6+j8hJyOZm2D7PyT9Sb4Kx/s/SqHB4Hkt/D9Nd+gF6ZP8P1BNDytY+vw/dvGGTcdg/T95x61yNsf9P59rJZWlLf4/okFMuhSU/j+lF3Pfg/r+P8u76gHzYP8/zpERJ2LH/z/6msSk6BYAQPwFWDcgSgBA/HDryVd9AEAQQydbj7AAQBGuuu3G4wBAJID2fv4WAUAm64kRNkoBQCdWHaRtfQFAOihZNaWwAUA8k+zH3OMBQD3+f1oUFwJAUNC760tKAkBSO09+g30CQGQNiw+7sAJAZngeovLjAkBo47E0KhcDQHq17cVhSgNAfCCBWJl9A0CP8rzp0LADQJBdUHwI5ANAksjjDkAXBEClmh+gd0oEQKYFszKvfQRAutfuw+awBEC7QoJWHuQEQLytFelVFwVA0H9Reo1KBUC5jsIMxX0FQFuJzJ78sAVA/YPWMDTkBUC32gLDaxcGQFnVDFWjSgZA+88W59p9BkCdyiB5ErEGQD/FKgtK5AZA4b80nYEXB0CEuj4vuUoHQCa1SMHwfQdAyK9SUyixB0CCBn/lX+QHQCQBiXeXFwhAxvuSCc9KCEBo9pybBn4IQArxpi0+sQhArOuwv3XkCEBO5rpRrRcJQPDgxOPkSglAktvOdRx+CUBMMvsHVLEJQO4sBZqL5AlAkCcPLMMXCkAyIhm++koKQNQcI1AyfgpAdhct4mmxCkAYEjd0oeQKQLoMQQbZFwtAXQdLmBBLC0AWXncqSH4LQLlYgbx/sQtAW1OLTrfkC0D9TZXg7hcMQJ9In3ImSwxAQUOpBF5+DEC3jL2WlbEMQPX2yijN5AxAM2HYugQYDUB7c+VMPEsNQK81895zfg1A7Z8AcauxDUArCg4D4+QNQGl0G5UaGA5AC28lJ1JLDkCuaS+5iX4OQFBkOUvBsQ5A8l5D3fjkDkCstW9vMBgPQE6weQFoSw9A8KqDk59+D0CSpY0l17EPQDSgl7cO5Q9Aa83QJCMMEEC8ytXtviUQQA3I2rZaPxBAXsXff/ZYEEC78PVIknIQQAzu+hEujBBAXev/2smlEECu6ASkZb8QQP/lCW0B2RBAUOMONp3yEECh4BP/OAwRQPLdGMjUJRFATwkvkXA/EUCgBjRaDFkRQPEDOSOochFAQgE+7EOMEUCU/kK136URQOT7R357vxFANvlMRxfZEUCH9lEQs/IRQNjzVtlODBJANB9touolEkCGHHJrhj8SQNcZdzQiWRJAKBd8/b1yEkB5FIHGWYwSQMoRho/1pRJAMmutWJG/EkA8VEshLdkSQL0JlerI8hJAPr/es2QME0BHqHx8ACYTQMhdxkWcPxNA0kZkDjhZE0BS/K3X03ITQNOx96BvjBNA3JqVaQumE0BdUN8yp78TQN4FKfxC2RNA5+7GxN7yE0A=",
          "dtype": "f8"
         },
         "y": {
          "bdata": "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",
          "dtype": "f8"
         }
        },
        {
         "line": {
          "width": 1.0
         },
         "meta": {},
         "mode": "lines",
         "name": "Oxygen | n=3, l=2, m=-2",
         "type": "scatter",
         "x": {
          "bdata": "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",
          "dtype": "f8"
         },
         "y": {
          "bdata": "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",
          "dtype": "f8"
         }
        },
        {
         "line": {
          "width": 1.0
         },
         "meta": {},
         "mode": "lines",
         "name": "Oxygen | n=3, l=2, m=-1",
         "type": "scatter",
         "x": {
          "bdata": "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",
          "dtype": "f8"
         },
         "y": {
          "bdata": "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",
          "dtype": "f8"
         }
        },
        {
         "line": {
          "width": 1.0
         },
         "meta": {},
         "mode": "lines",
         "name": "Oxygen | n=3, l=2, m=0",
         "type": "scatter",
         "x": {
          "bdata": "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",
          "dtype": "f8"
         },
         "y": {
          "bdata": "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",
          "dtype": "f8"
         }
        },
        {
         "line": {
          "width": 1.0
         },
         "meta": {},
         "mode": "lines",
         "name": "Oxygen | n=3, l=2, m=1",
         "type": "scatter",
         "x": {
          "bdata": "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",
          "dtype": "f8"
         },
         "y": {
          "bdata": "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",
          "dtype": "f8"
         }
        },
        {
         "line": {
          "width": 1.0
         },
         "meta": {},
         "mode": "lines",
         "name": "Oxygen | n=3, l=2, m=2",
         "type": "scatter",
         "x": {
          "bdata": "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",
          "dtype": "f8"
         },
         "y": {
          "bdata": "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",
          "dtype": "f8"
         }
        }
       ],
       "layout": {
        "scene": {
         "xaxis": {
          "title": {
           "text": "E [eV]"
          }
         },
         "yaxis": {
          "title": {
           "text": "PDOS [1/eV]"
          }
         }
        },
        "template": {
         "layout": {
          "hovermode": "closest",
          "paper_bgcolor": "white",
          "plot_bgcolor": "white",
          "scene": {
           "xaxis": {
            "color": "black",
            "gridcolor": "#ccc",
            "gridwidth": 1,
            "linewidth": 1,
            "mirror": true,
            "showgrid": false,
            "showline": true,
            "ticklen": 5,
            "ticks": "outside",
            "ticksuffix": " ",
            "visible": true,
            "zeroline": false,
            "zerolinecolor": "#ccc",
            "zerolinewidth": 1
           },
           "yaxis": {
            "color": "black",
            "gridcolor": "#ccc",
            "gridwidth": 1,
            "linewidth": 1,
            "mirror": true,
            "showgrid": false,
            "showline": true,
            "ticklen": 5,
            "ticks": "outside",
            "ticksuffix": " ",
            "visible": true,
            "zeroline": false,
            "zerolinecolor": "#ccc",
            "zerolinewidth": 1
           },
           "zaxis": {
            "color": "black",
            "gridcolor": "#ccc",
            "gridwidth": 1,
            "linewidth": 1,
            "mirror": true,
            "showgrid": false,
            "showline": true,
            "ticklen": 5,
            "ticks": "outside",
            "ticksuffix": " ",
            "visible": true,
            "zeroline": false,
            "zerolinecolor": "#ccc",
            "zerolinewidth": 1
           }
          },
          "xaxis": {
           "color": "black",
           "gridcolor": "#ccc",
           "gridwidth": 1,
           "linewidth": 1,
           "mirror": true,
           "showgrid": false,
           "showline": true,
           "ticklen": 5,
           "ticks": "outside",
           "ticksuffix": " ",
           "visible": true,
           "zeroline": false,
           "zerolinecolor": "#ccc",
           "zerolinewidth": 1
          },
          "yaxis": {
           "color": "black",
           "gridcolor": "#ccc",
           "gridwidth": 1,
           "linewidth": 1,
           "mirror": true,
           "showgrid": false,
           "showline": true,
           "ticklen": 5,
           "ticks": "outside",
           "ticksuffix": " ",
           "visible": true,
           "zeroline": false,
           "zerolinecolor": "#ccc",
           "zerolinewidth": 1
          }
         }
        },
        "xaxis": {
         "title": {
          "text": "E [eV]"
         }
        },
        "yaxis": {
         "title": {
          "text": "PDOS [1/eV]"
         }
        }
       }
      }
     },
     "metadata": {},
     "output_type": "display_data"
    }
   ],
   "source": [
    "plot.split_DOS(on=\"n+l+m\", species=[\"O\"], name=\"Oxygen\")"
   ]
  },
  {
   "cell_type": "markdown",
   "metadata": {},
   "source": [
    "## Managing existing groups\n",
    "\n",
    "Not only you can create groups easily with `split_DOS`, but it's also easy to manage the groups that you have created. \n",
    "\n",
    "The methods that help you accomplish this are `split_groups`, `update_groups`, `remove_groups`. All three methods accept an undefined number of arguments that are used to select the groups you want to act on. You can refer to groups by their name (using a `str`) or their position (using an `int`). It's very easy to understand with examples. Then, keyword arguments depend on the functionality of each method.\n",
    "\n",
    "For example, let's say that we have splitted the DOS on species"
   ]
  },
  {
   "cell_type": "code",
   "execution_count": 13,
   "metadata": {
    "execution": {
     "iopub.execute_input": "2025-09-23T10:48:23.083007Z",
     "iopub.status.busy": "2025-09-23T10:48:23.082817Z",
     "iopub.status.idle": "2025-09-23T10:48:23.256180Z",
     "shell.execute_reply": "2025-09-23T10:48:23.255710Z"
    }
   },
   "outputs": [
    {
     "name": "stderr",
     "output_type": "stream",
     "text": [
      "INFO\tTask(Task-3) nodify.node.139839192918752:node.py:get()- No need to evaluate\n"
     ]
    },
    {
     "name": "stderr",
     "output_type": "stream",
     "text": [
      "INFO\tTask(Task-3) nodify.node.139839192915824:node.py:get()- No need to evaluate\n"
     ]
    },
    {
     "name": "stderr",
     "output_type": "stream",
     "text": [
      "INFO\tTask(Task-3) nodify.node.139839192913184:node.py:get()- No need to evaluate\n"
     ]
    },
    {
     "name": "stderr",
     "output_type": "stream",
     "text": [
      "INFO\tTask(Task-3) nodify.node.139839192917024:node.py:get()- No need to evaluate\n"
     ]
    },
    {
     "name": "stderr",
     "output_type": "stream",
     "text": [
      "INFO\tTask(Task-3) nodify.node.139839192918752:node.py:get()- No need to evaluate\n"
     ]
    },
    {
     "name": "stderr",
     "output_type": "stream",
     "text": [
      "INFO\tTask(Task-3) nodify.node.139839192915824:node.py:get()- No need to evaluate\n"
     ]
    },
    {
     "name": "stderr",
     "output_type": "stream",
     "text": [
      "INFO\tTask(Task-3) nodify.node.139839192918656:node.py:get()- No need to evaluate\n"
     ]
    },
    {
     "name": "stderr",
     "output_type": "stream",
     "text": [
      "INFO\tTask(Task-3) nodify.node.139839192915584:node.py:get()- No need to evaluate\n"
     ]
    },
    {
     "name": "stderr",
     "output_type": "stream",
     "text": [
      "INFO\tTask(Task-3) nodify.node.139839192918944:node.py:get()- Evaluated because inputs changed.\n"
     ]
    },
    {
     "name": "stderr",
     "output_type": "stream",
     "text": [
      "INFO\tTask(Task-3) nodify.node.139839192918752:node.py:get()- No need to evaluate\n"
     ]
    },
    {
     "name": "stderr",
     "output_type": "stream",
     "text": [
      "INFO\tTask(Task-3) nodify.node.139839192915824:node.py:get()- No need to evaluate\n"
     ]
    },
    {
     "name": "stderr",
     "output_type": "stream",
     "text": [
      "INFO\tTask(Task-3) nodify.node.139839192913184:node.py:get()- No need to evaluate\n"
     ]
    },
    {
     "name": "stderr",
     "output_type": "stream",
     "text": [
      "INFO\tTask(Task-3) nodify.node.139839192915200:node.py:get()- Evaluated because inputs changed.\n"
     ]
    },
    {
     "name": "stderr",
     "output_type": "stream",
     "text": [
      "INFO\tTask(Task-3) nodify.node.139839192917408:node.py:get()- No need to evaluate\n"
     ]
    },
    {
     "name": "stderr",
     "output_type": "stream",
     "text": [
      "INFO\tTask(Task-3) nodify.node.139839192914528:node.py:get()- Evaluated because inputs changed.\n"
     ]
    },
    {
     "name": "stderr",
     "output_type": "stream",
     "text": [
      "INFO\tTask(Task-3) nodify.node.139839192918272:node.py:get()- No need to evaluate\n"
     ]
    },
    {
     "name": "stderr",
     "output_type": "stream",
     "text": [
      "INFO\tTask(Task-3) nodify.node.139839192919856:node.py:get()- No need to evaluate\n"
     ]
    },
    {
     "name": "stderr",
     "output_type": "stream",
     "text": [
      "INFO\tTask(Task-3) nodify.node.139839192920672:node.py:get()- No need to evaluate\n"
     ]
    },
    {
     "name": "stderr",
     "output_type": "stream",
     "text": [
      "INFO\tTask(Task-3) nodify.node.139839192918272:node.py:get()- No need to evaluate\n"
     ]
    },
    {
     "name": "stderr",
     "output_type": "stream",
     "text": [
      "INFO\tTask(Task-3) nodify.node.139839192921536:node.py:get()- No need to evaluate\n"
     ]
    },
    {
     "name": "stderr",
     "output_type": "stream",
     "text": [
      "INFO\tTask(Task-3) nodify.node.139839192920576:node.py:get()- No need to evaluate\n"
     ]
    },
    {
     "name": "stderr",
     "output_type": "stream",
     "text": [
      "INFO\tTask(Task-3) nodify.node.139839192917888:node.py:get()- No need to evaluate\n"
     ]
    },
    {
     "name": "stderr",
     "output_type": "stream",
     "text": [
      "INFO\tTask(Task-3) nodify.node.139839192918272:node.py:get()- No need to evaluate\n"
     ]
    },
    {
     "name": "stderr",
     "output_type": "stream",
     "text": [
      "INFO\tTask(Task-3) nodify.node.139839192920720:node.py:get()- No need to evaluate\n"
     ]
    },
    {
     "name": "stderr",
     "output_type": "stream",
     "text": [
      "INFO\tTask(Task-3) nodify.node.139839192914144:node.py:get()- Evaluated because inputs changed.\n"
     ]
    },
    {
     "name": "stderr",
     "output_type": "stream",
     "text": [
      "INFO\tTask(Task-3) nodify.node.139839192922496:node.py:get()- Evaluated because inputs changed.\n"
     ]
    },
    {
     "name": "stderr",
     "output_type": "stream",
     "text": [
      "INFO\tTask(Task-3) nodify.node.139839192922976:node.py:get()- Evaluated because inputs changed.\n"
     ]
    },
    {
     "data": {
      "application/vnd.plotly.v1+json": {
       "config": {
        "plotlyServerURL": "https://plot.ly"
       },
       "data": [
        {
         "line": {
          "width": 1.0
         },
         "meta": {},
         "mode": "lines",
         "name": "Sr",
         "type": "scatter",
         "x": {
          "bdata": "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",
          "dtype": "f8"
         },
         "y": {
          "bdata": "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",
          "dtype": "f8"
         }
        },
        {
         "line": {
          "width": 1.0
         },
         "meta": {},
         "mode": "lines",
         "name": "Ti",
         "type": "scatter",
         "x": {
          "bdata": "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",
          "dtype": "f8"
         },
         "y": {
          "bdata": "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",
          "dtype": "f8"
         }
        },
        {
         "line": {
          "width": 1.0
         },
         "meta": {},
         "mode": "lines",
         "name": "O",
         "type": "scatter",
         "x": {
          "bdata": "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",
          "dtype": "f8"
         },
         "y": {
          "bdata": "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",
          "dtype": "f8"
         }
        }
       ],
       "layout": {
        "scene": {
         "xaxis": {
          "title": {
           "text": "E [eV]"
          }
         },
         "yaxis": {
          "title": {
           "text": "PDOS [1/eV]"
          }
         }
        },
        "template": {
         "layout": {
          "hovermode": "closest",
          "paper_bgcolor": "white",
          "plot_bgcolor": "white",
          "scene": {
           "xaxis": {
            "color": "black",
            "gridcolor": "#ccc",
            "gridwidth": 1,
            "linewidth": 1,
            "mirror": true,
            "showgrid": false,
            "showline": true,
            "ticklen": 5,
            "ticks": "outside",
            "ticksuffix": " ",
            "visible": true,
            "zeroline": false,
            "zerolinecolor": "#ccc",
            "zerolinewidth": 1
           },
           "yaxis": {
            "color": "black",
            "gridcolor": "#ccc",
            "gridwidth": 1,
            "linewidth": 1,
            "mirror": true,
            "showgrid": false,
            "showline": true,
            "ticklen": 5,
            "ticks": "outside",
            "ticksuffix": " ",
            "visible": true,
            "zeroline": false,
            "zerolinecolor": "#ccc",
            "zerolinewidth": 1
           },
           "zaxis": {
            "color": "black",
            "gridcolor": "#ccc",
            "gridwidth": 1,
            "linewidth": 1,
            "mirror": true,
            "showgrid": false,
            "showline": true,
            "ticklen": 5,
            "ticks": "outside",
            "ticksuffix": " ",
            "visible": true,
            "zeroline": false,
            "zerolinecolor": "#ccc",
            "zerolinewidth": 1
           }
          },
          "xaxis": {
           "color": "black",
           "gridcolor": "#ccc",
           "gridwidth": 1,
           "linewidth": 1,
           "mirror": true,
           "showgrid": false,
           "showline": true,
           "ticklen": 5,
           "ticks": "outside",
           "ticksuffix": " ",
           "visible": true,
           "zeroline": false,
           "zerolinecolor": "#ccc",
           "zerolinewidth": 1
          },
          "yaxis": {
           "color": "black",
           "gridcolor": "#ccc",
           "gridwidth": 1,
           "linewidth": 1,
           "mirror": true,
           "showgrid": false,
           "showline": true,
           "ticklen": 5,
           "ticks": "outside",
           "ticksuffix": " ",
           "visible": true,
           "zeroline": false,
           "zerolinecolor": "#ccc",
           "zerolinewidth": 1
          }
         }
        },
        "xaxis": {
         "title": {
          "text": "E [eV]"
         }
        },
        "yaxis": {
         "title": {
          "text": "PDOS [1/eV]"
         }
        }
       }
      }
     },
     "metadata": {},
     "output_type": "display_data"
    }
   ],
   "source": [
    "plot.split_DOS(name=\"$species\")"
   ]
  },
  {
   "cell_type": "markdown",
   "metadata": {},
   "source": [
    "and we want to remove the Sr and O lines. That's easy:"
   ]
  },
  {
   "cell_type": "code",
   "execution_count": 14,
   "metadata": {
    "execution": {
     "iopub.execute_input": "2025-09-23T10:48:23.257868Z",
     "iopub.status.busy": "2025-09-23T10:48:23.257699Z",
     "iopub.status.idle": "2025-09-23T10:48:23.315896Z",
     "shell.execute_reply": "2025-09-23T10:48:23.315411Z"
    }
   },
   "outputs": [
    {
     "name": "stderr",
     "output_type": "stream",
     "text": [
      "INFO\tTask(Task-3) nodify.node.139839192917024:node.py:get()- No need to evaluate\n"
     ]
    },
    {
     "name": "stderr",
     "output_type": "stream",
     "text": [
      "INFO\tTask(Task-3) nodify.node.139839192918752:node.py:get()- No need to evaluate\n"
     ]
    },
    {
     "name": "stderr",
     "output_type": "stream",
     "text": [
      "INFO\tTask(Task-3) nodify.node.139839192915824:node.py:get()- No need to evaluate\n"
     ]
    },
    {
     "name": "stderr",
     "output_type": "stream",
     "text": [
      "INFO\tTask(Task-3) nodify.node.139839192918656:node.py:get()- No need to evaluate\n"
     ]
    },
    {
     "name": "stderr",
     "output_type": "stream",
     "text": [
      "INFO\tTask(Task-3) nodify.node.139839192915584:node.py:get()- No need to evaluate\n"
     ]
    },
    {
     "name": "stderr",
     "output_type": "stream",
     "text": [
      "INFO\tTask(Task-3) nodify.node.139839192918944:node.py:get()- Evaluated because inputs changed.\n"
     ]
    },
    {
     "name": "stderr",
     "output_type": "stream",
     "text": [
      "INFO\tTask(Task-3) nodify.node.139839192918752:node.py:get()- No need to evaluate\n"
     ]
    },
    {
     "name": "stderr",
     "output_type": "stream",
     "text": [
      "INFO\tTask(Task-3) nodify.node.139839192915824:node.py:get()- No need to evaluate\n"
     ]
    },
    {
     "name": "stderr",
     "output_type": "stream",
     "text": [
      "INFO\tTask(Task-3) nodify.node.139839192913184:node.py:get()- No need to evaluate\n"
     ]
    },
    {
     "name": "stderr",
     "output_type": "stream",
     "text": [
      "INFO\tTask(Task-3) nodify.node.139839192915200:node.py:get()- Evaluated because inputs changed.\n"
     ]
    },
    {
     "name": "stderr",
     "output_type": "stream",
     "text": [
      "INFO\tTask(Task-3) nodify.node.139839192917408:node.py:get()- No need to evaluate\n"
     ]
    },
    {
     "name": "stderr",
     "output_type": "stream",
     "text": [
      "INFO\tTask(Task-3) nodify.node.139839192914528:node.py:get()- Evaluated because inputs changed.\n"
     ]
    },
    {
     "name": "stderr",
     "output_type": "stream",
     "text": [
      "INFO\tTask(Task-3) nodify.node.139839192918272:node.py:get()- No need to evaluate\n"
     ]
    },
    {
     "name": "stderr",
     "output_type": "stream",
     "text": [
      "INFO\tTask(Task-3) nodify.node.139839192919856:node.py:get()- No need to evaluate\n"
     ]
    },
    {
     "name": "stderr",
     "output_type": "stream",
     "text": [
      "INFO\tTask(Task-3) nodify.node.139839192920672:node.py:get()- No need to evaluate\n"
     ]
    },
    {
     "name": "stderr",
     "output_type": "stream",
     "text": [
      "INFO\tTask(Task-3) nodify.node.139839192918272:node.py:get()- No need to evaluate\n"
     ]
    },
    {
     "name": "stderr",
     "output_type": "stream",
     "text": [
      "INFO\tTask(Task-3) nodify.node.139839192921536:node.py:get()- No need to evaluate\n"
     ]
    },
    {
     "name": "stderr",
     "output_type": "stream",
     "text": [
      "INFO\tTask(Task-3) nodify.node.139839192920576:node.py:get()- No need to evaluate\n"
     ]
    },
    {
     "name": "stderr",
     "output_type": "stream",
     "text": [
      "INFO\tTask(Task-3) nodify.node.139839192917888:node.py:get()- No need to evaluate\n"
     ]
    },
    {
     "name": "stderr",
     "output_type": "stream",
     "text": [
      "INFO\tTask(Task-3) nodify.node.139839192918272:node.py:get()- No need to evaluate\n"
     ]
    },
    {
     "name": "stderr",
     "output_type": "stream",
     "text": [
      "INFO\tTask(Task-3) nodify.node.139839192920720:node.py:get()- No need to evaluate\n"
     ]
    },
    {
     "name": "stderr",
     "output_type": "stream",
     "text": [
      "INFO\tTask(Task-3) nodify.node.139839192914144:node.py:get()- Evaluated because inputs changed.\n"
     ]
    },
    {
     "name": "stderr",
     "output_type": "stream",
     "text": [
      "INFO\tTask(Task-3) nodify.node.139839192922496:node.py:get()- Evaluated because inputs changed.\n"
     ]
    },
    {
     "name": "stderr",
     "output_type": "stream",
     "text": [
      "INFO\tTask(Task-3) nodify.node.139839192922976:node.py:get()- Evaluated because inputs changed.\n"
     ]
    },
    {
     "data": {
      "application/vnd.plotly.v1+json": {
       "config": {
        "plotlyServerURL": "https://plot.ly"
       },
       "data": [
        {
         "line": {
          "width": 1.0
         },
         "meta": {},
         "mode": "lines",
         "name": "Ti",
         "type": "scatter",
         "x": {
          "bdata": "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",
          "dtype": "f8"
         },
         "y": {
          "bdata": "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",
          "dtype": "f8"
         }
        }
       ],
       "layout": {
        "scene": {
         "xaxis": {
          "title": {
           "text": "E [eV]"
          }
         },
         "yaxis": {
          "title": {
           "text": "PDOS [1/eV]"
          }
         }
        },
        "template": {
         "layout": {
          "hovermode": "closest",
          "paper_bgcolor": "white",
          "plot_bgcolor": "white",
          "scene": {
           "xaxis": {
            "color": "black",
            "gridcolor": "#ccc",
            "gridwidth": 1,
            "linewidth": 1,
            "mirror": true,
            "showgrid": false,
            "showline": true,
            "ticklen": 5,
            "ticks": "outside",
            "ticksuffix": " ",
            "visible": true,
            "zeroline": false,
            "zerolinecolor": "#ccc",
            "zerolinewidth": 1
           },
           "yaxis": {
            "color": "black",
            "gridcolor": "#ccc",
            "gridwidth": 1,
            "linewidth": 1,
            "mirror": true,
            "showgrid": false,
            "showline": true,
            "ticklen": 5,
            "ticks": "outside",
            "ticksuffix": " ",
            "visible": true,
            "zeroline": false,
            "zerolinecolor": "#ccc",
            "zerolinewidth": 1
           },
           "zaxis": {
            "color": "black",
            "gridcolor": "#ccc",
            "gridwidth": 1,
            "linewidth": 1,
            "mirror": true,
            "showgrid": false,
            "showline": true,
            "ticklen": 5,
            "ticks": "outside",
            "ticksuffix": " ",
            "visible": true,
            "zeroline": false,
            "zerolinecolor": "#ccc",
            "zerolinewidth": 1
           }
          },
          "xaxis": {
           "color": "black",
           "gridcolor": "#ccc",
           "gridwidth": 1,
           "linewidth": 1,
           "mirror": true,
           "showgrid": false,
           "showline": true,
           "ticklen": 5,
           "ticks": "outside",
           "ticksuffix": " ",
           "visible": true,
           "zeroline": false,
           "zerolinecolor": "#ccc",
           "zerolinewidth": 1
          },
          "yaxis": {
           "color": "black",
           "gridcolor": "#ccc",
           "gridwidth": 1,
           "linewidth": 1,
           "mirror": true,
           "showgrid": false,
           "showline": true,
           "ticklen": 5,
           "ticks": "outside",
           "ticksuffix": " ",
           "visible": true,
           "zeroline": false,
           "zerolinecolor": "#ccc",
           "zerolinewidth": 1
          }
         }
        },
        "xaxis": {
         "title": {
          "text": "E [eV]"
         }
        },
        "yaxis": {
         "title": {
          "text": "PDOS [1/eV]"
         }
        }
       }
      }
     },
     "metadata": {},
     "output_type": "display_data"
    }
   ],
   "source": [
    "plot.remove_groups(\"Sr\", 2)"
   ]
  },
  {
   "cell_type": "markdown",
   "metadata": {},
   "source": [
    "We have indicated that we wanted to remove the group with name `\"Sr\"` and the 3rd group (Python has 0-based indexing). Simple, isn't it?\n",
    "\n",
    "Now that we know how to indicate the groups that we want to act on, let's use it to get the total `Sr` contribution, and then the `Ti` and `O` contributions splitted by `n` and `l`.\n",
    "\n",
    "It sounds difficult, but it's actually not. Just split the DOS on species:"
   ]
  },
  {
   "cell_type": "code",
   "execution_count": 15,
   "metadata": {
    "execution": {
     "iopub.execute_input": "2025-09-23T10:48:23.317490Z",
     "iopub.status.busy": "2025-09-23T10:48:23.317321Z",
     "iopub.status.idle": "2025-09-23T10:48:23.411086Z",
     "shell.execute_reply": "2025-09-23T10:48:23.410485Z"
    }
   },
   "outputs": [
    {
     "name": "stderr",
     "output_type": "stream",
     "text": [
      "INFO\tTask(Task-3) nodify.node.139839192918752:node.py:get()- No need to evaluate\n"
     ]
    },
    {
     "name": "stderr",
     "output_type": "stream",
     "text": [
      "INFO\tTask(Task-3) nodify.node.139839192915824:node.py:get()- No need to evaluate\n"
     ]
    },
    {
     "name": "stderr",
     "output_type": "stream",
     "text": [
      "INFO\tTask(Task-3) nodify.node.139839192913184:node.py:get()- No need to evaluate\n"
     ]
    },
    {
     "name": "stderr",
     "output_type": "stream",
     "text": [
      "INFO\tTask(Task-3) nodify.node.139839192917024:node.py:get()- No need to evaluate\n"
     ]
    },
    {
     "name": "stderr",
     "output_type": "stream",
     "text": [
      "INFO\tTask(Task-3) nodify.node.139839192918752:node.py:get()- No need to evaluate\n"
     ]
    },
    {
     "name": "stderr",
     "output_type": "stream",
     "text": [
      "INFO\tTask(Task-3) nodify.node.139839192915824:node.py:get()- No need to evaluate\n"
     ]
    },
    {
     "name": "stderr",
     "output_type": "stream",
     "text": [
      "INFO\tTask(Task-3) nodify.node.139839192918656:node.py:get()- No need to evaluate\n"
     ]
    },
    {
     "name": "stderr",
     "output_type": "stream",
     "text": [
      "INFO\tTask(Task-3) nodify.node.139839192915584:node.py:get()- No need to evaluate\n"
     ]
    },
    {
     "name": "stderr",
     "output_type": "stream",
     "text": [
      "INFO\tTask(Task-3) nodify.node.139839192918944:node.py:get()- Evaluated because inputs changed.\n"
     ]
    },
    {
     "name": "stderr",
     "output_type": "stream",
     "text": [
      "INFO\tTask(Task-3) nodify.node.139839192918752:node.py:get()- No need to evaluate\n"
     ]
    },
    {
     "name": "stderr",
     "output_type": "stream",
     "text": [
      "INFO\tTask(Task-3) nodify.node.139839192915824:node.py:get()- No need to evaluate\n"
     ]
    },
    {
     "name": "stderr",
     "output_type": "stream",
     "text": [
      "INFO\tTask(Task-3) nodify.node.139839192913184:node.py:get()- No need to evaluate\n"
     ]
    },
    {
     "name": "stderr",
     "output_type": "stream",
     "text": [
      "INFO\tTask(Task-3) nodify.node.139839192915200:node.py:get()- Evaluated because inputs changed.\n"
     ]
    },
    {
     "name": "stderr",
     "output_type": "stream",
     "text": [
      "INFO\tTask(Task-3) nodify.node.139839192917408:node.py:get()- No need to evaluate\n"
     ]
    },
    {
     "name": "stderr",
     "output_type": "stream",
     "text": [
      "INFO\tTask(Task-3) nodify.node.139839192914528:node.py:get()- Evaluated because inputs changed.\n"
     ]
    },
    {
     "name": "stderr",
     "output_type": "stream",
     "text": [
      "INFO\tTask(Task-3) nodify.node.139839192918272:node.py:get()- No need to evaluate\n"
     ]
    },
    {
     "name": "stderr",
     "output_type": "stream",
     "text": [
      "INFO\tTask(Task-3) nodify.node.139839192919856:node.py:get()- No need to evaluate\n"
     ]
    },
    {
     "name": "stderr",
     "output_type": "stream",
     "text": [
      "INFO\tTask(Task-3) nodify.node.139839192920672:node.py:get()- No need to evaluate\n"
     ]
    },
    {
     "name": "stderr",
     "output_type": "stream",
     "text": [
      "INFO\tTask(Task-3) nodify.node.139839192918272:node.py:get()- No need to evaluate\n"
     ]
    },
    {
     "name": "stderr",
     "output_type": "stream",
     "text": [
      "INFO\tTask(Task-3) nodify.node.139839192921536:node.py:get()- No need to evaluate\n"
     ]
    },
    {
     "name": "stderr",
     "output_type": "stream",
     "text": [
      "INFO\tTask(Task-3) nodify.node.139839192920576:node.py:get()- No need to evaluate\n"
     ]
    },
    {
     "name": "stderr",
     "output_type": "stream",
     "text": [
      "INFO\tTask(Task-3) nodify.node.139839192917888:node.py:get()- No need to evaluate\n"
     ]
    },
    {
     "name": "stderr",
     "output_type": "stream",
     "text": [
      "INFO\tTask(Task-3) nodify.node.139839192918272:node.py:get()- No need to evaluate\n"
     ]
    },
    {
     "name": "stderr",
     "output_type": "stream",
     "text": [
      "INFO\tTask(Task-3) nodify.node.139839192920720:node.py:get()- No need to evaluate\n"
     ]
    },
    {
     "name": "stderr",
     "output_type": "stream",
     "text": [
      "INFO\tTask(Task-3) nodify.node.139839192914144:node.py:get()- Evaluated because inputs changed.\n"
     ]
    },
    {
     "name": "stderr",
     "output_type": "stream",
     "text": [
      "INFO\tTask(Task-3) nodify.node.139839192922496:node.py:get()- Evaluated because inputs changed.\n"
     ]
    },
    {
     "name": "stderr",
     "output_type": "stream",
     "text": [
      "INFO\tTask(Task-3) nodify.node.139839192922976:node.py:get()- Evaluated because inputs changed.\n"
     ]
    },
    {
     "data": {
      "application/vnd.plotly.v1+json": {
       "config": {
        "plotlyServerURL": "https://plot.ly"
       },
       "data": [
        {
         "line": {
          "width": 1.0
         },
         "meta": {},
         "mode": "lines",
         "name": "Sr",
         "type": "scatter",
         "x": {
          "bdata": "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",
          "dtype": "f8"
         },
         "y": {
          "bdata": "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",
          "dtype": "f8"
         }
        },
        {
         "line": {
          "width": 1.0
         },
         "meta": {},
         "mode": "lines",
         "name": "Ti",
         "type": "scatter",
         "x": {
          "bdata": "jCgWje/2E8AMc8zDU90TwIq9gvq3wxPAgtTkMRyqE8AAH5togJATwPY1/Z/kdhPAdoCz1khdE8D2ymkNrUMTwOzhy0QRKhPAbCyCe3UQE8BiQ+Sy2fYSwOCNmuk93RLAYNhQIKLDEsBW77JXBqoSwNY5aY5qkBLAzFDLxc52EsBMm4H8Ml0SwMzlNzOXQxLAwvyZavspEsBAR1ChXxASwMCRBtjD9hHAtqhoDyjdEcA28x5GjMMRwCwKgX3wqRHArFQ3tFSQEcAqn+3quHYRwCK2TyIdXRHAoAAGWYFDEcCWF2iQ5SkRwBZiHsdJEBHAlqzU/a32EMCMwzY1Et0QwAoO7Wt2wxDAAiVPo9qpEMCAbwXaPpAQwAC6uxCjdhDA9tAdSAddEMB2G9R+a0MQwPZlirXPKRDA7Hzs7DMQEMDVjkVHMO0PwMO8Cbb4uQ/AwVF2I8GGD8C/5uKQiVMPwK0Up/9RIA/Aq6kTbRrtDsCX19fb4rkOwJdsREmrhg7AlQGxtnNTDsCDL3UlPCAOwIHE4ZIE7Q3AbfKlAc25DcBthxJvlYYNwGscf9xdUw3AV0pDSyYgDcBX36+47uwMwFV0HCa3uQzAQaLglH+GDMBBN00CSFMMwC1lEXEQIAzAK/p93tjsC8Arj+pLobkLwBe9rrpphgvAF1IbKDJTC8ADgN+W+h8LwAEVTATD7ArAAaq4cYu5CsDt13zgU4YKwOts6U0cUwrA2ZqtvOQfCsDXLxoqrewJwNXEhpd1uQnAw/JKBj6GCcDBh7dzBlMJwL8cJOHOHwnArUroT5fsCMCr31S9X7kIwJkNGSwohgjAl6KFmfBSCMCVN/IGuR8IwINltnWB7AfAgfoi40m5B8BtKOdREoYHwG29U7/aUgfAa1LALKMfB8BXgISba+wGwFcV8Qg0uQbAQ0O1d/yFBsBD2CHlxFIGwEFtjlKNHwbALZtSwVXsBcAtML8uHrkFwCvFK5zmhQXAF/PvCq9SBcAXiFx4dx8FwAO2IOc/7ATAAUuNVAi5BMAB4PnB0IUEwO0NvjCZUgTA66IqnmEfBMDZ0O4MKuwDwNdlW3ryuAPA1/rH57qFA8DDKIxWg1IDwMG9+MNLHwPAr+u8MhTsAsCtgCmg3LgCwKsVlg2lhQLAmUNafG1SAsCX2MbpNR8CwJVtM1f+6wHAg5v3xca4AcCBMGQzj4UBwG9eKKJXUgHAbfOUDyAfAcBriAF96OsAwFm2xeuwuADAV0syWXmFAMBDefbHQVIAwEMOYzUKHwDAgkafRaXX/79aoicjNnH/v1rMAP7GCv+/MiiJ21ek/r8uUmK26D3+vy58O5F51/2/BtjDbgpx/b8GAp1Jmwr9vwIsdiQspPy/2of+Ab09/L/asdfcTdf7v7INYLrecPu/rjc5lW8K+7+uYRJwAKT6v4a9mk2RPfq/gudzKCLX+b9eQ/wFs3D5v1pt1eBDCvm/Vpeuu9Sj+L8y8zaZZT34vy4dEHT21ve/CnmYUYdw978Go3EsGAr3vwLNSgepo/a/3ijT5Dk99r/aUqy/ytb1v9Z8hZpbcPW/stgNeOwJ9b+uAudSfaP0v4ZebzAOPfS/hohIC5/W87+CsiHmL3Dzv14OqsPACfO/WjiDnlGj8r8ylAt84jzyvzK+5FZz1vG/Lui9MQRw8b8GREYPlQnxvwZuH+olo/C/3smnx7Y88L+05wFFj6zvv7Q7tPqw3+6/ZPPEtdIS7r9cR3dr9EXtv1ybKSEWeey/DFM63Des678Mp+yRWd/qv7xe/Ux7Euq/tLKvAp1F6b+0BmK4vnjov2S+cnPgq+e/XBIlKQLf5r8UyjXkIxLmvwwe6JlFReW/BHKaT2d45L+8KasKiavjv7R9XcCq3uK/bDVue8wR4r9kiSAx7kThv1zd0uYPeOC/KCrHQ2NW378Y0iuvprzdvwh6kBrqIty/eOmxkC2J2r9okRb8cO/Yv8gAOHK0Vde/yKic3fe71b+4UAFJOyLUvyDAIr9+iNK/GGiHKsLu0L/wrlFBC6rOv+D+GhiSdsu/0E7k7hhDyL+QLSfbnw/Fv4B98LEm3MG/oLhmPFtRvb+AWPnpaOq2v0D4i5d2g7C/wGsj4Ag5pL8AriLtkKyNvwBUSKYBi4U/wJmGuKQwoj8AWmFdif6uP2DvKtY25rU/oE+YKClNvD/g14K9DVrBPxD5P9GGjcQ/MKl2+v/Axz9gyjMOefTKP3B6ajfyJ84/QJVQsLWt0D/gJS86ckfSP+h9ys4u4dM/gA6pWOt61T+IZkTtpxTXP5i+34Fkrtg/ME++CyFI2j84p1mg3eHbP0j/9DSae90/4I/TvlYV3z/0c7epiVfgP0C8pu5nJOE/SGj0OEbx4T9MFEKDJL7iP5hcMcgCi+M/oAh/EuFX5D/sUG5XvyTlP/D8u6Gd8eU/9KgJ7Hu+5j9E8fgwWovnP0idRns4WOg/lOU1wBYl6T+ckYMK9fHpP6A90VTTvuo/7IXAmbGL6z/wMQ7kj1jsP/jdWy5uJe0/RCZLc0zy7T9I0pi9Kr/uP5QaiAIJjO8/TuNqpnMs8D9QuZHL4pLwP3ZdCe5R+fA/ejMwE8Ff8T+g16c1MMbxP6KtzlqfLPI/poP1fw6T8j/MJ22iffnyP879k8fsX/M/9KEL6lvG8z/4dzIPyyz0P/pNWTQ6k/Q/IPLQVqn59D8iyPd7GGD1PyaeHqGHxvU/TEKWw/Ys9j9OGL3oZZP2P3a8NAvV+fY/eJJbMERg9z96aIJVs8b3P6AM+nciLfg/pOIgnZGT+D/Khpi/APr4P8xcv+RvYPk/0DLmCd/G+T/21l0sTi36P/ishFG9k/o/H1H8cyz6+j8hJyOZm2D7PyT9Sb4Kx/s/SqHB4Hkt/D9Nd+gF6ZP8P1BNDytY+vw/dvGGTcdg/T95x61yNsf9P59rJZWlLf4/okFMuhSU/j+lF3Pfg/r+P8u76gHzYP8/zpERJ2LH/z/6msSk6BYAQPwFWDcgSgBA/HDryVd9AEAQQydbj7AAQBGuuu3G4wBAJID2fv4WAUAm64kRNkoBQCdWHaRtfQFAOihZNaWwAUA8k+zH3OMBQD3+f1oUFwJAUNC760tKAkBSO09+g30CQGQNiw+7sAJAZngeovLjAkBo47E0KhcDQHq17cVhSgNAfCCBWJl9A0CP8rzp0LADQJBdUHwI5ANAksjjDkAXBEClmh+gd0oEQKYFszKvfQRAutfuw+awBEC7QoJWHuQEQLytFelVFwVA0H9Reo1KBUC5jsIMxX0FQFuJzJ78sAVA/YPWMDTkBUC32gLDaxcGQFnVDFWjSgZA+88W59p9BkCdyiB5ErEGQD/FKgtK5AZA4b80nYEXB0CEuj4vuUoHQCa1SMHwfQdAyK9SUyixB0CCBn/lX+QHQCQBiXeXFwhAxvuSCc9KCEBo9pybBn4IQArxpi0+sQhArOuwv3XkCEBO5rpRrRcJQPDgxOPkSglAktvOdRx+CUBMMvsHVLEJQO4sBZqL5AlAkCcPLMMXCkAyIhm++koKQNQcI1AyfgpAdhct4mmxCkAYEjd0oeQKQLoMQQbZFwtAXQdLmBBLC0AWXncqSH4LQLlYgbx/sQtAW1OLTrfkC0D9TZXg7hcMQJ9In3ImSwxAQUOpBF5+DEC3jL2WlbEMQPX2yijN5AxAM2HYugQYDUB7c+VMPEsNQK81895zfg1A7Z8AcauxDUArCg4D4+QNQGl0G5UaGA5AC28lJ1JLDkCuaS+5iX4OQFBkOUvBsQ5A8l5D3fjkDkCstW9vMBgPQE6weQFoSw9A8KqDk59+D0CSpY0l17EPQDSgl7cO5Q9Aa83QJCMMEEC8ytXtviUQQA3I2rZaPxBAXsXff/ZYEEC78PVIknIQQAzu+hEujBBAXev/2smlEECu6ASkZb8QQP/lCW0B2RBAUOMONp3yEECh4BP/OAwRQPLdGMjUJRFATwkvkXA/EUCgBjRaDFkRQPEDOSOochFAQgE+7EOMEUCU/kK136URQOT7R357vxFANvlMRxfZEUCH9lEQs/IRQNjzVtlODBJANB9touolEkCGHHJrhj8SQNcZdzQiWRJAKBd8/b1yEkB5FIHGWYwSQMoRho/1pRJAMmutWJG/EkA8VEshLdkSQL0JlerI8hJAPr/es2QME0BHqHx8ACYTQMhdxkWcPxNA0kZkDjhZE0BS/K3X03ITQNOx96BvjBNA3JqVaQumE0BdUN8yp78TQN4FKfxC2RNA5+7GxN7yE0A=",
          "dtype": "f8"
         },
         "y": {
          "bdata": "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",
          "dtype": "f8"
         }
        },
        {
         "line": {
          "width": 1.0
         },
         "meta": {},
         "mode": "lines",
         "name": "O",
         "type": "scatter",
         "x": {
          "bdata": "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",
          "dtype": "f8"
         },
         "y": {
          "bdata": "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",
          "dtype": "f8"
         }
        }
       ],
       "layout": {
        "scene": {
         "xaxis": {
          "title": {
           "text": "E [eV]"
          }
         },
         "yaxis": {
          "title": {
           "text": "PDOS [1/eV]"
          }
         }
        },
        "template": {
         "layout": {
          "hovermode": "closest",
          "paper_bgcolor": "white",
          "plot_bgcolor": "white",
          "scene": {
           "xaxis": {
            "color": "black",
            "gridcolor": "#ccc",
            "gridwidth": 1,
            "linewidth": 1,
            "mirror": true,
            "showgrid": false,
            "showline": true,
            "ticklen": 5,
            "ticks": "outside",
            "ticksuffix": " ",
            "visible": true,
            "zeroline": false,
            "zerolinecolor": "#ccc",
            "zerolinewidth": 1
           },
           "yaxis": {
            "color": "black",
            "gridcolor": "#ccc",
            "gridwidth": 1,
            "linewidth": 1,
            "mirror": true,
            "showgrid": false,
            "showline": true,
            "ticklen": 5,
            "ticks": "outside",
            "ticksuffix": " ",
            "visible": true,
            "zeroline": false,
            "zerolinecolor": "#ccc",
            "zerolinewidth": 1
           },
           "zaxis": {
            "color": "black",
            "gridcolor": "#ccc",
            "gridwidth": 1,
            "linewidth": 1,
            "mirror": true,
            "showgrid": false,
            "showline": true,
            "ticklen": 5,
            "ticks": "outside",
            "ticksuffix": " ",
            "visible": true,
            "zeroline": false,
            "zerolinecolor": "#ccc",
            "zerolinewidth": 1
           }
          },
          "xaxis": {
           "color": "black",
           "gridcolor": "#ccc",
           "gridwidth": 1,
           "linewidth": 1,
           "mirror": true,
           "showgrid": false,
           "showline": true,
           "ticklen": 5,
           "ticks": "outside",
           "ticksuffix": " ",
           "visible": true,
           "zeroline": false,
           "zerolinecolor": "#ccc",
           "zerolinewidth": 1
          },
          "yaxis": {
           "color": "black",
           "gridcolor": "#ccc",
           "gridwidth": 1,
           "linewidth": 1,
           "mirror": true,
           "showgrid": false,
           "showline": true,
           "ticklen": 5,
           "ticks": "outside",
           "ticksuffix": " ",
           "visible": true,
           "zeroline": false,
           "zerolinecolor": "#ccc",
           "zerolinewidth": 1
          }
         }
        },
        "xaxis": {
         "title": {
          "text": "E [eV]"
         }
        },
        "yaxis": {
         "title": {
          "text": "PDOS [1/eV]"
         }
        }
       }
      }
     },
     "metadata": {},
     "output_type": "display_data"
    }
   ],
   "source": [
    "plot.split_DOS(name=\"$species\", reduce=\"mean\")"
   ]
  },
  {
   "cell_type": "markdown",
   "metadata": {},
   "source": [
    "And then use `split_groups` to split only the groups that we want to split:"
   ]
  },
  {
   "cell_type": "code",
   "execution_count": 16,
   "metadata": {
    "execution": {
     "iopub.execute_input": "2025-09-23T10:48:23.412881Z",
     "iopub.status.busy": "2025-09-23T10:48:23.412699Z",
     "iopub.status.idle": "2025-09-23T10:48:25.104143Z",
     "shell.execute_reply": "2025-09-23T10:48:25.103552Z"
    },
    "tags": [
     "nbsphinx-thumbnail"
    ]
   },
   "outputs": [
    {
     "name": "stderr",
     "output_type": "stream",
     "text": [
      "INFO\tTask(Task-3) nodify.node.139839192918752:node.py:get()- No need to evaluate\n"
     ]
    },
    {
     "name": "stderr",
     "output_type": "stream",
     "text": [
      "INFO\tTask(Task-3) nodify.node.139839192915824:node.py:get()- No need to evaluate\n"
     ]
    },
    {
     "name": "stderr",
     "output_type": "stream",
     "text": [
      "INFO\tTask(Task-3) nodify.node.139839192913184:node.py:get()- No need to evaluate\n"
     ]
    },
    {
     "name": "stderr",
     "output_type": "stream",
     "text": [
      "INFO\tTask(Task-3) nodify.node.139839192917024:node.py:get()- No need to evaluate\n"
     ]
    },
    {
     "name": "stderr",
     "output_type": "stream",
     "text": [
      "INFO\tTask(Task-3) nodify.node.139839192918752:node.py:get()- No need to evaluate\n"
     ]
    },
    {
     "name": "stderr",
     "output_type": "stream",
     "text": [
      "INFO\tTask(Task-3) nodify.node.139839192915824:node.py:get()- No need to evaluate\n"
     ]
    },
    {
     "name": "stderr",
     "output_type": "stream",
     "text": [
      "INFO\tTask(Task-3) nodify.node.139839192918656:node.py:get()- No need to evaluate\n"
     ]
    },
    {
     "name": "stderr",
     "output_type": "stream",
     "text": [
      "INFO\tTask(Task-3) nodify.node.139839192915584:node.py:get()- No need to evaluate\n"
     ]
    },
    {
     "name": "stderr",
     "output_type": "stream",
     "text": [
      "INFO\tTask(Task-3) nodify.node.139839192918944:node.py:get()- Evaluated because inputs changed.\n"
     ]
    },
    {
     "name": "stderr",
     "output_type": "stream",
     "text": [
      "INFO\tTask(Task-3) nodify.node.139839192918752:node.py:get()- No need to evaluate\n"
     ]
    },
    {
     "name": "stderr",
     "output_type": "stream",
     "text": [
      "INFO\tTask(Task-3) nodify.node.139839192915824:node.py:get()- No need to evaluate\n"
     ]
    },
    {
     "name": "stderr",
     "output_type": "stream",
     "text": [
      "INFO\tTask(Task-3) nodify.node.139839192913184:node.py:get()- No need to evaluate\n"
     ]
    },
    {
     "name": "stderr",
     "output_type": "stream",
     "text": [
      "INFO\tTask(Task-3) nodify.node.139839192915200:node.py:get()- Evaluated because inputs changed.\n"
     ]
    },
    {
     "name": "stderr",
     "output_type": "stream",
     "text": [
      "INFO\tTask(Task-3) nodify.node.139839192917408:node.py:get()- No need to evaluate\n"
     ]
    },
    {
     "name": "stderr",
     "output_type": "stream",
     "text": [
      "INFO\tTask(Task-3) nodify.node.139839192914528:node.py:get()- Evaluated because inputs changed.\n"
     ]
    },
    {
     "name": "stderr",
     "output_type": "stream",
     "text": [
      "INFO\tTask(Task-3) nodify.node.139839192918272:node.py:get()- No need to evaluate\n"
     ]
    },
    {
     "name": "stderr",
     "output_type": "stream",
     "text": [
      "INFO\tTask(Task-3) nodify.node.139839192919856:node.py:get()- No need to evaluate\n"
     ]
    },
    {
     "name": "stderr",
     "output_type": "stream",
     "text": [
      "INFO\tTask(Task-3) nodify.node.139839192920672:node.py:get()- No need to evaluate\n"
     ]
    },
    {
     "name": "stderr",
     "output_type": "stream",
     "text": [
      "INFO\tTask(Task-3) nodify.node.139839192918272:node.py:get()- No need to evaluate\n"
     ]
    },
    {
     "name": "stderr",
     "output_type": "stream",
     "text": [
      "INFO\tTask(Task-3) nodify.node.139839192921536:node.py:get()- No need to evaluate\n"
     ]
    },
    {
     "name": "stderr",
     "output_type": "stream",
     "text": [
      "INFO\tTask(Task-3) nodify.node.139839192920576:node.py:get()- No need to evaluate\n"
     ]
    },
    {
     "name": "stderr",
     "output_type": "stream",
     "text": [
      "INFO\tTask(Task-3) nodify.node.139839192917888:node.py:get()- No need to evaluate\n"
     ]
    },
    {
     "name": "stderr",
     "output_type": "stream",
     "text": [
      "INFO\tTask(Task-3) nodify.node.139839192918272:node.py:get()- No need to evaluate\n"
     ]
    },
    {
     "name": "stderr",
     "output_type": "stream",
     "text": [
      "INFO\tTask(Task-3) nodify.node.139839192920720:node.py:get()- No need to evaluate\n"
     ]
    },
    {
     "name": "stderr",
     "output_type": "stream",
     "text": [
      "INFO\tTask(Task-3) nodify.node.139839192914144:node.py:get()- Evaluated because inputs changed.\n"
     ]
    },
    {
     "name": "stderr",
     "output_type": "stream",
     "text": [
      "INFO\tTask(Task-3) nodify.node.139839192922496:node.py:get()- Evaluated because inputs changed.\n"
     ]
    },
    {
     "name": "stderr",
     "output_type": "stream",
     "text": [
      "INFO\tTask(Task-3) nodify.node.139839192922976:node.py:get()- Evaluated because inputs changed.\n"
     ]
    },
    {
     "data": {
      "image/png": "[encoded data removed]"
     },
     "metadata": {},
     "output_type": "display_data"
    }
   ],
   "source": [
    "plot.split_groups(\"Sr\", 2, on=\"n+l\", dash=\"dot\").show(\"png\")"
   ]
  },
  {
   "cell_type": "markdown",
   "metadata": {},
   "source": [
    "Notice how we've also set `dash` for all the groups that `split_groups` has generated. We can do this because `split_groups` works exactly as `split_DOS`, with the only difference that splits specific groups.\n",
    "\n",
    "Just as a last thing, we will let you figure out how `update_groups` works:"
   ]
  },
  {
   "cell_type": "code",
   "execution_count": 17,
   "metadata": {
    "execution": {
     "iopub.execute_input": "2025-09-23T10:48:25.106038Z",
     "iopub.status.busy": "2025-09-23T10:48:25.105860Z",
     "iopub.status.idle": "2025-09-23T10:48:25.285809Z",
     "shell.execute_reply": "2025-09-23T10:48:25.285315Z"
    }
   },
   "outputs": [
    {
     "name": "stderr",
     "output_type": "stream",
     "text": [
      "INFO\tTask(Task-3) nodify.node.139839192917024:node.py:get()- No need to evaluate\n"
     ]
    },
    {
     "name": "stderr",
     "output_type": "stream",
     "text": [
      "INFO\tTask(Task-3) nodify.node.139839192918752:node.py:get()- No need to evaluate\n"
     ]
    },
    {
     "name": "stderr",
     "output_type": "stream",
     "text": [
      "INFO\tTask(Task-3) nodify.node.139839192915824:node.py:get()- No need to evaluate\n"
     ]
    },
    {
     "name": "stderr",
     "output_type": "stream",
     "text": [
      "INFO\tTask(Task-3) nodify.node.139839192918656:node.py:get()- No need to evaluate\n"
     ]
    },
    {
     "name": "stderr",
     "output_type": "stream",
     "text": [
      "INFO\tTask(Task-3) nodify.node.139839192915584:node.py:get()- No need to evaluate\n"
     ]
    },
    {
     "name": "stderr",
     "output_type": "stream",
     "text": [
      "INFO\tTask(Task-3) nodify.node.139839192918944:node.py:get()- Evaluated because inputs changed.\n"
     ]
    },
    {
     "name": "stderr",
     "output_type": "stream",
     "text": [
      "INFO\tTask(Task-3) nodify.node.139839192918752:node.py:get()- No need to evaluate\n"
     ]
    },
    {
     "name": "stderr",
     "output_type": "stream",
     "text": [
      "INFO\tTask(Task-3) nodify.node.139839192915824:node.py:get()- No need to evaluate\n"
     ]
    },
    {
     "name": "stderr",
     "output_type": "stream",
     "text": [
      "INFO\tTask(Task-3) nodify.node.139839192913184:node.py:get()- No need to evaluate\n"
     ]
    },
    {
     "name": "stderr",
     "output_type": "stream",
     "text": [
      "INFO\tTask(Task-3) nodify.node.139839192915200:node.py:get()- Evaluated because inputs changed.\n"
     ]
    },
    {
     "name": "stderr",
     "output_type": "stream",
     "text": [
      "INFO\tTask(Task-3) nodify.node.139839192917408:node.py:get()- No need to evaluate\n"
     ]
    },
    {
     "name": "stderr",
     "output_type": "stream",
     "text": [
      "INFO\tTask(Task-3) nodify.node.139839192914528:node.py:get()- Evaluated because inputs changed.\n"
     ]
    },
    {
     "name": "stderr",
     "output_type": "stream",
     "text": [
      "INFO\tTask(Task-3) nodify.node.139839192918272:node.py:get()- No need to evaluate\n"
     ]
    },
    {
     "name": "stderr",
     "output_type": "stream",
     "text": [
      "INFO\tTask(Task-3) nodify.node.139839192919856:node.py:get()- No need to evaluate\n"
     ]
    },
    {
     "name": "stderr",
     "output_type": "stream",
     "text": [
      "INFO\tTask(Task-3) nodify.node.139839192920672:node.py:get()- No need to evaluate\n"
     ]
    },
    {
     "name": "stderr",
     "output_type": "stream",
     "text": [
      "INFO\tTask(Task-3) nodify.node.139839192918272:node.py:get()- No need to evaluate\n"
     ]
    },
    {
     "name": "stderr",
     "output_type": "stream",
     "text": [
      "INFO\tTask(Task-3) nodify.node.139839192921536:node.py:get()- No need to evaluate\n"
     ]
    },
    {
     "name": "stderr",
     "output_type": "stream",
     "text": [
      "INFO\tTask(Task-3) nodify.node.139839192920576:node.py:get()- No need to evaluate\n"
     ]
    },
    {
     "name": "stderr",
     "output_type": "stream",
     "text": [
      "INFO\tTask(Task-3) nodify.node.139839192917888:node.py:get()- No need to evaluate\n"
     ]
    },
    {
     "name": "stderr",
     "output_type": "stream",
     "text": [
      "INFO\tTask(Task-3) nodify.node.139839192918272:node.py:get()- No need to evaluate\n"
     ]
    },
    {
     "name": "stderr",
     "output_type": "stream",
     "text": [
      "INFO\tTask(Task-3) nodify.node.139839192920720:node.py:get()- No need to evaluate\n"
     ]
    },
    {
     "name": "stderr",
     "output_type": "stream",
     "text": [
      "INFO\tTask(Task-3) nodify.node.139839192914144:node.py:get()- Evaluated because inputs changed.\n"
     ]
    },
    {
     "name": "stderr",
     "output_type": "stream",
     "text": [
      "INFO\tTask(Task-3) nodify.node.139839192922496:node.py:get()- Evaluated because inputs changed.\n"
     ]
    },
    {
     "name": "stderr",
     "output_type": "stream",
     "text": [
      "INFO\tTask(Task-3) nodify.node.139839192922976:node.py:get()- Evaluated because inputs changed.\n"
     ]
    },
    {
     "data": {
      "application/vnd.plotly.v1+json": {
       "config": {
        "plotlyServerURL": "https://plot.ly"
       },
       "data": [
        {
         "line": {
          "color": "red",
          "width": 4
         },
         "meta": {},
         "mode": "lines",
         "name": "Ti",
         "type": "scatter",
         "x": {
          "bdata": "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",
          "dtype": "f8"
         },
         "y": {
          "bdata": "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",
          "dtype": "f8"
         }
        },
        {
         "line": {
          "dash": "dot",
          "width": 1.0
         },
         "meta": {},
         "mode": "lines",
         "name": "Sr | n=4, l=0",
         "type": "scatter",
         "x": {
          "bdata": "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",
          "dtype": "f8"
         },
         "y": {
          "bdata": "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",
          "dtype": "f8"
         }
        },
        {
         "line": {
          "dash": "dot",
          "width": 1.0
         },
         "meta": {},
         "mode": "lines",
         "name": "Sr | n=5, l=0",
         "type": "scatter",
         "x": {
          "bdata": "jCgWje/2E8AMc8zDU90TwIq9gvq3wxPAgtTkMRyqE8AAH5togJATwPY1/Z/kdhPAdoCz1khdE8D2ymkNrUMTwOzhy0QRKhPAbCyCe3UQE8BiQ+Sy2fYSwOCNmuk93RLAYNhQIKLDEsBW77JXBqoSwNY5aY5qkBLAzFDLxc52EsBMm4H8Ml0SwMzlNzOXQxLAwvyZavspEsBAR1ChXxASwMCRBtjD9hHAtqhoDyjdEcA28x5GjMMRwCwKgX3wqRHArFQ3tFSQEcAqn+3quHYRwCK2TyIdXRHAoAAGWYFDEcCWF2iQ5SkRwBZiHsdJEBHAlqzU/a32EMCMwzY1Et0QwAoO7Wt2wxDAAiVPo9qpEMCAbwXaPpAQwAC6uxCjdhDA9tAdSAddEMB2G9R+a0MQwPZlirXPKRDA7Hzs7DMQEMDVjkVHMO0PwMO8Cbb4uQ/AwVF2I8GGD8C/5uKQiVMPwK0Up/9RIA/Aq6kTbRrtDsCX19fb4rkOwJdsREmrhg7AlQGxtnNTDsCDL3UlPCAOwIHE4ZIE7Q3AbfKlAc25DcBthxJvlYYNwGscf9xdUw3AV0pDSyYgDcBX36+47uwMwFV0HCa3uQzAQaLglH+GDMBBN00CSFMMwC1lEXEQIAzAK/p93tjsC8Arj+pLobkLwBe9rrpphgvAF1IbKDJTC8ADgN+W+h8LwAEVTATD7ArAAaq4cYu5CsDt13zgU4YKwOts6U0cUwrA2ZqtvOQfCsDXLxoqrewJwNXEhpd1uQnAw/JKBj6GCcDBh7dzBlMJwL8cJOHOHwnArUroT5fsCMCr31S9X7kIwJkNGSwohgjAl6KFmfBSCMCVN/IGuR8IwINltnWB7AfAgfoi40m5B8BtKOdREoYHwG29U7/aUgfAa1LALKMfB8BXgISba+wGwFcV8Qg0uQbAQ0O1d/yFBsBD2CHlxFIGwEFtjlKNHwbALZtSwVXsBcAtML8uHrkFwCvFK5zmhQXAF/PvCq9SBcAXiFx4dx8FwAO2IOc/7ATAAUuNVAi5BMAB4PnB0IUEwO0NvjCZUgTA66IqnmEfBMDZ0O4MKuwDwNdlW3ryuAPA1/rH57qFA8DDKIxWg1IDwMG9+MNLHwPAr+u8MhTsAsCtgCmg3LgCwKsVlg2lhQLAmUNafG1SAsCX2MbpNR8CwJVtM1f+6wHAg5v3xca4AcCBMGQzj4UBwG9eKKJXUgHAbfOUDyAfAcBriAF96OsAwFm2xeuwuADAV0syWXmFAMBDefbHQVIAwEMOYzUKHwDAgkafRaXX/79aoicjNnH/v1rMAP7GCv+/MiiJ21ek/r8uUmK26D3+vy58O5F51/2/BtjDbgpx/b8GAp1Jmwr9vwIsdiQspPy/2of+Ab09/L/asdfcTdf7v7INYLrecPu/rjc5lW8K+7+uYRJwAKT6v4a9mk2RPfq/gudzKCLX+b9eQ/wFs3D5v1pt1eBDCvm/Vpeuu9Sj+L8y8zaZZT34vy4dEHT21ve/CnmYUYdw978Go3EsGAr3vwLNSgepo/a/3ijT5Dk99r/aUqy/ytb1v9Z8hZpbcPW/stgNeOwJ9b+uAudSfaP0v4ZebzAOPfS/hohIC5/W87+CsiHmL3Dzv14OqsPACfO/WjiDnlGj8r8ylAt84jzyvzK+5FZz1vG/Lui9MQRw8b8GREYPlQnxvwZuH+olo/C/3smnx7Y88L+05wFFj6zvv7Q7tPqw3+6/ZPPEtdIS7r9cR3dr9EXtv1ybKSEWeey/DFM63Des678Mp+yRWd/qv7xe/Ux7Euq/tLKvAp1F6b+0BmK4vnjov2S+cnPgq+e/XBIlKQLf5r8UyjXkIxLmvwwe6JlFReW/BHKaT2d45L+8KasKiavjv7R9XcCq3uK/bDVue8wR4r9kiSAx7kThv1zd0uYPeOC/KCrHQ2NW378Y0iuvprzdvwh6kBrqIty/eOmxkC2J2r9okRb8cO/Yv8gAOHK0Vde/yKic3fe71b+4UAFJOyLUvyDAIr9+iNK/GGiHKsLu0L/wrlFBC6rOv+D+GhiSdsu/0E7k7hhDyL+QLSfbnw/Fv4B98LEm3MG/oLhmPFtRvb+AWPnpaOq2v0D4i5d2g7C/wGsj4Ag5pL8AriLtkKyNvwBUSKYBi4U/wJmGuKQwoj8AWmFdif6uP2DvKtY25rU/oE+YKClNvD/g14K9DVrBPxD5P9GGjcQ/MKl2+v/Axz9gyjMOefTKP3B6ajfyJ84/QJVQsLWt0D/gJS86ckfSP+h9ys4u4dM/gA6pWOt61T+IZkTtpxTXP5i+34Fkrtg/ME++CyFI2j84p1mg3eHbP0j/9DSae90/4I/TvlYV3z/0c7epiVfgP0C8pu5nJOE/SGj0OEbx4T9MFEKDJL7iP5hcMcgCi+M/oAh/EuFX5D/sUG5XvyTlP/D8u6Gd8eU/9KgJ7Hu+5j9E8fgwWovnP0idRns4WOg/lOU1wBYl6T+ckYMK9fHpP6A90VTTvuo/7IXAmbGL6z/wMQ7kj1jsP/jdWy5uJe0/RCZLc0zy7T9I0pi9Kr/uP5QaiAIJjO8/TuNqpnMs8D9QuZHL4pLwP3ZdCe5R+fA/ejMwE8Ff8T+g16c1MMbxP6KtzlqfLPI/poP1fw6T8j/MJ22iffnyP879k8fsX/M/9KEL6lvG8z/4dzIPyyz0P/pNWTQ6k/Q/IPLQVqn59D8iyPd7GGD1PyaeHqGHxvU/TEKWw/Ys9j9OGL3oZZP2P3a8NAvV+fY/eJJbMERg9z96aIJVs8b3P6AM+nciLfg/pOIgnZGT+D/Khpi/APr4P8xcv+RvYPk/0DLmCd/G+T/21l0sTi36P/ishFG9k/o/H1H8cyz6+j8hJyOZm2D7PyT9Sb4Kx/s/SqHB4Hkt/D9Nd+gF6ZP8P1BNDytY+vw/dvGGTcdg/T95x61yNsf9P59rJZWlLf4/okFMuhSU/j+lF3Pfg/r+P8u76gHzYP8/zpERJ2LH/z/6msSk6BYAQPwFWDcgSgBA/HDryVd9AEAQQydbj7AAQBGuuu3G4wBAJID2fv4WAUAm64kRNkoBQCdWHaRtfQFAOihZNaWwAUA8k+zH3OMBQD3+f1oUFwJAUNC760tKAkBSO09+g30CQGQNiw+7sAJAZngeovLjAkBo47E0KhcDQHq17cVhSgNAfCCBWJl9A0CP8rzp0LADQJBdUHwI5ANAksjjDkAXBEClmh+gd0oEQKYFszKvfQRAutfuw+awBEC7QoJWHuQEQLytFelVFwVA0H9Reo1KBUC5jsIMxX0FQFuJzJ78sAVA/YPWMDTkBUC32gLDaxcGQFnVDFWjSgZA+88W59p9BkCdyiB5ErEGQD/FKgtK5AZA4b80nYEXB0CEuj4vuUoHQCa1SMHwfQdAyK9SUyixB0CCBn/lX+QHQCQBiXeXFwhAxvuSCc9KCEBo9pybBn4IQArxpi0+sQhArOuwv3XkCEBO5rpRrRcJQPDgxOPkSglAktvOdRx+CUBMMvsHVLEJQO4sBZqL5AlAkCcPLMMXCkAyIhm++koKQNQcI1AyfgpAdhct4mmxCkAYEjd0oeQKQLoMQQbZFwtAXQdLmBBLC0AWXncqSH4LQLlYgbx/sQtAW1OLTrfkC0D9TZXg7hcMQJ9In3ImSwxAQUOpBF5+DEC3jL2WlbEMQPX2yijN5AxAM2HYugQYDUB7c+VMPEsNQK81895zfg1A7Z8AcauxDUArCg4D4+QNQGl0G5UaGA5AC28lJ1JLDkCuaS+5iX4OQFBkOUvBsQ5A8l5D3fjkDkCstW9vMBgPQE6weQFoSw9A8KqDk59+D0CSpY0l17EPQDSgl7cO5Q9Aa83QJCMMEEC8ytXtviUQQA3I2rZaPxBAXsXff/ZYEEC78PVIknIQQAzu+hEujBBAXev/2smlEECu6ASkZb8QQP/lCW0B2RBAUOMONp3yEECh4BP/OAwRQPLdGMjUJRFATwkvkXA/EUCgBjRaDFkRQPEDOSOochFAQgE+7EOMEUCU/kK136URQOT7R357vxFANvlMRxfZEUCH9lEQs/IRQNjzVtlODBJANB9touolEkCGHHJrhj8SQNcZdzQiWRJAKBd8/b1yEkB5FIHGWYwSQMoRho/1pRJAMmutWJG/EkA8VEshLdkSQL0JlerI8hJAPr/es2QME0BHqHx8ACYTQMhdxkWcPxNA0kZkDjhZE0BS/K3X03ITQNOx96BvjBNA3JqVaQumE0BdUN8yp78TQN4FKfxC2RNA5+7GxN7yE0A=",
          "dtype": "f8"
         },
         "y": {
          "bdata": "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",
          "dtype": "f8"
         }
        },
        {
         "line": {
          "dash": "dot",
          "width": 1.0
         },
         "meta": {},
         "mode": "lines",
         "name": "Sr | n=4, l=1",
         "type": "scatter",
         "x": {
          "bdata": "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",
          "dtype": "f8"
         },
         "y": {
          "bdata": "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",
          "dtype": "f8"
         }
        },
        {
         "line": {
          "dash": "dot",
          "width": 1.0
         },
         "meta": {},
         "mode": "lines",
         "name": "Sr | n=5, l=1",
         "type": "scatter",
         "x": {
          "bdata": "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",
          "dtype": "f8"
         },
         "y": {
          "bdata": "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",
          "dtype": "f8"
         }
        },
        {
         "line": {
          "dash": "dot",
          "width": 1.0
         },
         "meta": {},
         "mode": "lines",
         "name": "Sr | n=4, l=2",
         "type": "scatter",
         "x": {
          "bdata": "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",
          "dtype": "f8"
         },
         "y": {
          "bdata": "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",
          "dtype": "f8"
         }
        },
        {
         "line": {
          "dash": "dot",
          "width": 1.0
         },
         "meta": {},
         "mode": "lines",
         "name": "O | n=2, l=0",
         "type": "scatter",
         "x": {
          "bdata": "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",
          "dtype": "f8"
         },
         "y": {
          "bdata": "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",
          "dtype": "f8"
         }
        },
        {
         "line": {
          "dash": "dot",
          "width": 1.0
         },
         "meta": {},
         "mode": "lines",
         "name": "O | n=2, l=1",
         "type": "scatter",
         "x": {
          "bdata": "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",
          "dtype": "f8"
         },
         "y": {
          "bdata": "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",
          "dtype": "f8"
         }
        },
        {
         "line": {
          "dash": "dot",
          "width": 1.0
         },
         "meta": {},
         "mode": "lines",
         "name": "O | n=3, l=2",
         "type": "scatter",
         "x": {
          "bdata": "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",
          "dtype": "f8"
         },
         "y": {
          "bdata": "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",
          "dtype": "f8"
         }
        }
       ],
       "layout": {
        "scene": {
         "xaxis": {
          "title": {
           "text": "E [eV]"
          }
         },
         "yaxis": {
          "title": {
           "text": "PDOS [1/eV]"
          }
         }
        },
        "template": {
         "layout": {
          "hovermode": "closest",
          "paper_bgcolor": "white",
          "plot_bgcolor": "white",
          "scene": {
           "xaxis": {
            "color": "black",
            "gridcolor": "#ccc",
            "gridwidth": 1,
            "linewidth": 1,
            "mirror": true,
            "showgrid": false,
            "showline": true,
            "ticklen": 5,
            "ticks": "outside",
            "ticksuffix": " ",
            "visible": true,
            "zeroline": false,
            "zerolinecolor": "#ccc",
            "zerolinewidth": 1
           },
           "yaxis": {
            "color": "black",
            "gridcolor": "#ccc",
            "gridwidth": 1,
            "linewidth": 1,
            "mirror": true,
            "showgrid": false,
            "showline": true,
            "ticklen": 5,
            "ticks": "outside",
            "ticksuffix": " ",
            "visible": true,
            "zeroline": false,
            "zerolinecolor": "#ccc",
            "zerolinewidth": 1
           },
           "zaxis": {
            "color": "black",
            "gridcolor": "#ccc",
            "gridwidth": 1,
            "linewidth": 1,
            "mirror": true,
            "showgrid": false,
            "showline": true,
            "ticklen": 5,
            "ticks": "outside",
            "ticksuffix": " ",
            "visible": true,
            "zeroline": false,
            "zerolinecolor": "#ccc",
            "zerolinewidth": 1
           }
          },
          "xaxis": {
           "color": "black",
           "gridcolor": "#ccc",
           "gridwidth": 1,
           "linewidth": 1,
           "mirror": true,
           "showgrid": false,
           "showline": true,
           "ticklen": 5,
           "ticks": "outside",
           "ticksuffix": " ",
           "visible": true,
           "zeroline": false,
           "zerolinecolor": "#ccc",
           "zerolinewidth": 1
          },
          "yaxis": {
           "color": "black",
           "gridcolor": "#ccc",
           "gridwidth": 1,
           "linewidth": 1,
           "mirror": true,
           "showgrid": false,
           "showline": true,
           "ticklen": 5,
           "ticks": "outside",
           "ticksuffix": " ",
           "visible": true,
           "zeroline": false,
           "zerolinecolor": "#ccc",
           "zerolinewidth": 1
          }
         }
        },
        "xaxis": {
         "title": {
          "text": "E [eV]"
         }
        },
        "yaxis": {
         "title": {
          "text": "PDOS [1/eV]"
         }
        }
       }
      }
     },
     "metadata": {},
     "output_type": "display_data"
    }
   ],
   "source": [
    "plot.update_groups(\"Ti\", color=\"red\", size=4)"
   ]
  },
  {
   "cell_type": "markdown",
   "metadata": {
    "tags": [
     "notebook-end"
    ]
   },
   "source": [
    "We hope you enjoyed what you learned!"
   ]
  }
 ],
 "metadata": {
  "kernelspec": {
   "display_name": "Python 3 (ipykernel)",
   "language": "python",
   "name": "python3"
  },
  "language_info": {
   "codemirror_mode": {
    "name": "ipython",
    "version": 3
   },
   "file_extension": ".py",
   "mimetype": "text/x-python",
   "name": "python",
   "nbconvert_exporter": "python",
   "pygments_lexer": "ipython3",
   "version": "3.12.11"
  }
 },
 "nbformat": 4,
 "nbformat_minor": 4
}
