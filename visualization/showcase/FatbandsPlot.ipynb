{
 "cells": [
  {
   "cell_type": "markdown",
   "metadata": {
    "tags": [
     "notebook-header"
    ]
   },
   "source": [
    "[![GitHub issues by-label](https://img.shields.io/github/issues-raw/pfebrer/sisl/FatbandsPlot?style=for-the-badge)](https://github.com/pfebrer/sisl/labels/FatbandsPlot)"
   ]
  },
  {
   "cell_type": "markdown",
   "metadata": {},
   "source": [
    "    \n",
    "    \n",
    "FatbandsPlot\n",
    "========="
   ]
  },
  {
   "cell_type": "code",
   "execution_count": 1,
   "metadata": {
    "execution": {
     "iopub.execute_input": "2025-10-08T11:39:04.781323Z",
     "iopub.status.busy": "2025-10-08T11:39:04.781147Z",
     "iopub.status.idle": "2025-10-08T11:39:05.651493Z",
     "shell.execute_reply": "2025-10-08T11:39:05.650894Z"
    }
   },
   "outputs": [],
   "source": [
    "import sisl"
   ]
  },
  {
   "cell_type": "markdown",
   "metadata": {},
   "source": [
    "For this notebook we will create a toy \"Boron nitride\" tight binding:"
   ]
  },
  {
   "cell_type": "code",
   "execution_count": 2,
   "metadata": {
    "execution": {
     "iopub.execute_input": "2025-10-08T11:39:05.653642Z",
     "iopub.status.busy": "2025-10-08T11:39:05.653339Z",
     "iopub.status.idle": "2025-10-08T11:39:05.667046Z",
     "shell.execute_reply": "2025-10-08T11:39:05.666531Z"
    }
   },
   "outputs": [],
   "source": [
    "# First, we create the geometry\n",
    "BN = sisl.geom.graphene(atoms=[\"B\", \"N\"])\n",
    "\n",
    "# Create a hamiltonian with different on-site terms\n",
    "H = sisl.Hamiltonian(BN)\n",
    "\n",
    "H[0, 0] = 2\n",
    "H[1, 1] = -2\n",
    "\n",
    "H[0, 1] = -2.7\n",
    "H[1, 0] = -2.7\n",
    "\n",
    "H[0, 1, (-1, 0)] = -2.7\n",
    "H[0, 1, (0, -1)] = -2.7\n",
    "H[1, 0, (1, 0)] = -2.7\n",
    "H[1, 0, (0, 1)] = -2.7"
   ]
  },
  {
   "cell_type": "markdown",
   "metadata": {},
   "source": [
    "Note that we could have obtained this hamiltonian from any other source. Then we generate a path for the band structure:"
   ]
  },
  {
   "cell_type": "code",
   "execution_count": 3,
   "metadata": {
    "execution": {
     "iopub.execute_input": "2025-10-08T11:39:05.668843Z",
     "iopub.status.busy": "2025-10-08T11:39:05.668588Z",
     "iopub.status.idle": "2025-10-08T11:39:05.672044Z",
     "shell.execute_reply": "2025-10-08T11:39:05.671566Z"
    }
   },
   "outputs": [],
   "source": [
    "band = sisl.BandStructure(\n",
    "    H,\n",
    "    [[0.0, 0.0], [2.0 / 3, 1.0 / 3], [1.0 / 2, 1.0 / 2], [1.0, 1.0]],\n",
    "    301,\n",
    "    [r\"Gamma\", \"K\", \"M\", r\"Gamma\"],\n",
    ")"
   ]
  },
  {
   "cell_type": "markdown",
   "metadata": {},
   "source": [
    "And finally we just ask for the fatbands plot:"
   ]
  },
  {
   "cell_type": "code",
   "execution_count": 4,
   "metadata": {
    "execution": {
     "iopub.execute_input": "2025-10-08T11:39:05.673573Z",
     "iopub.status.busy": "2025-10-08T11:39:05.673415Z",
     "iopub.status.idle": "2025-10-08T11:39:06.952343Z",
     "shell.execute_reply": "2025-10-08T11:39:06.951769Z"
    }
   },
   "outputs": [
    {
     "data": {
      "text/html": [
       "<iframe\n",
       "    scrolling=\"no\"\n",
       "    width=\"100%\"\n",
       "    height=\"545px\"\n",
       "    src=\"iframe_figures/figure_4.html\"\n",
       "    frameborder=\"0\"\n",
       "    allowfullscreen\n",
       "></iframe>\n"
      ]
     },
     "metadata": {},
     "output_type": "display_data"
    }
   ],
   "source": [
    "fatbands = band.plot.fatbands()\n",
    "fatbands"
   ]
  },
  {
   "cell_type": "markdown",
   "metadata": {},
   "source": [
    "We only see the bands here, but this is a fatbands plot, and it is ready to accept your requests on what to draw!"
   ]
  },
  {
   "cell_type": "markdown",
   "metadata": {},
   "source": [
    "## Requesting specific weights\n",
    "\n",
    "The fatbands that the plot draws are controlled by the `groups` setting. This setting works exactly like the `groups` setting in `PdosPlot`, which is documented [here](./PdosPlot.ipynb). Therefore we won't give an extended description of it, but just quickly show that you can autogenerate the groups:"
   ]
  },
  {
   "cell_type": "code",
   "execution_count": 5,
   "metadata": {
    "execution": {
     "iopub.execute_input": "2025-10-08T11:39:06.954322Z",
     "iopub.status.busy": "2025-10-08T11:39:06.954130Z",
     "iopub.status.idle": "2025-10-08T11:39:07.263530Z",
     "shell.execute_reply": "2025-10-08T11:39:07.262966Z"
    }
   },
   "outputs": [
    {
     "name": "stderr",
     "output_type": "stream",
     "text": [
      "INFO\tTask(Task-3) nodify.node.139628491371104:node.py:get()- No need to evaluate\n"
     ]
    },
    {
     "name": "stderr",
     "output_type": "stream",
     "text": [
      "INFO\tTask(Task-3) nodify.node.139628489596208:node.py:get()- No need to evaluate\n"
     ]
    },
    {
     "name": "stderr",
     "output_type": "stream",
     "text": [
      "INFO\tTask(Task-3) nodify.node.139628489591168:node.py:get()- No need to evaluate\n"
     ]
    },
    {
     "name": "stderr",
     "output_type": "stream",
     "text": [
      "INFO\tTask(Task-3) nodify.node.139628489555312:node.py:get()- No need to evaluate\n"
     ]
    },
    {
     "name": "stderr",
     "output_type": "stream",
     "text": [
      "INFO\tTask(Task-3) nodify.node.139628489592944:node.py:get()- No need to evaluate\n"
     ]
    },
    {
     "name": "stderr",
     "output_type": "stream",
     "text": [
      "INFO\tTask(Task-3) nodify.node.139628491371104:node.py:get()- No need to evaluate\n"
     ]
    },
    {
     "name": "stderr",
     "output_type": "stream",
     "text": [
      "INFO\tTask(Task-3) nodify.node.139628489596208:node.py:get()- No need to evaluate\n"
     ]
    },
    {
     "name": "stderr",
     "output_type": "stream",
     "text": [
      "INFO\tTask(Task-3) nodify.node.139628491373072:node.py:get()- No need to evaluate\n"
     ]
    },
    {
     "name": "stderr",
     "output_type": "stream",
     "text": [
      "INFO\tTask(Task-3) nodify.node.139628491366832:node.py:get()- No need to evaluate\n"
     ]
    },
    {
     "name": "stderr",
     "output_type": "stream",
     "text": [
      "INFO\tTask(Task-3) nodify.node.139628489554880:node.py:get()- No need to evaluate\n"
     ]
    },
    {
     "name": "stderr",
     "output_type": "stream",
     "text": [
      "INFO\tTask(Task-3) nodify.node.139628489552528:node.py:get()- No need to evaluate\n"
     ]
    },
    {
     "name": "stderr",
     "output_type": "stream",
     "text": [
      "INFO\tTask(Task-3) nodify.node.139628489546384:node.py:get()- No need to evaluate\n"
     ]
    },
    {
     "name": "stderr",
     "output_type": "stream",
     "text": [
      "INFO\tTask(Task-3) nodify.node.139628489589584:node.py:get()- Evaluated because inputs changed.\n"
     ]
    },
    {
     "name": "stderr",
     "output_type": "stream",
     "text": [
      "INFO\tTask(Task-3) nodify.node.139628491371104:node.py:get()- No need to evaluate\n"
     ]
    },
    {
     "name": "stderr",
     "output_type": "stream",
     "text": [
      "INFO\tTask(Task-3) nodify.node.139628489596208:node.py:get()- No need to evaluate\n"
     ]
    },
    {
     "name": "stderr",
     "output_type": "stream",
     "text": [
      "INFO\tTask(Task-3) nodify.node.139628489591168:node.py:get()- No need to evaluate\n"
     ]
    },
    {
     "name": "stderr",
     "output_type": "stream",
     "text": [
      "INFO\tTask(Task-3) nodify.node.139628489555312:node.py:get()- No need to evaluate\n"
     ]
    },
    {
     "name": "stderr",
     "output_type": "stream",
     "text": [
      "INFO\tTask(Task-3) nodify.node.139628489589152:node.py:get()- Evaluated because inputs changed.\n"
     ]
    },
    {
     "name": "stderr",
     "output_type": "stream",
     "text": [
      "INFO\tTask(Task-3) nodify.node.139628489591600:node.py:get()- No need to evaluate\n"
     ]
    },
    {
     "name": "stderr",
     "output_type": "stream",
     "text": [
      "INFO\tTask(Task-3) nodify.node.139628489599376:node.py:get()- No need to evaluate\n"
     ]
    },
    {
     "name": "stderr",
     "output_type": "stream",
     "text": [
      "INFO\tTask(Task-3) nodify.node.139628489596688:node.py:get()- Evaluated because inputs changed.\n"
     ]
    },
    {
     "name": "stderr",
     "output_type": "stream",
     "text": [
      "INFO\tTask(Task-3) nodify.node.139628491362608:node.py:get()- No need to evaluate\n"
     ]
    },
    {
     "name": "stderr",
     "output_type": "stream",
     "text": [
      "INFO\tTask(Task-3) nodify.node.139628489591456:node.py:get()- No need to evaluate\n"
     ]
    },
    {
     "name": "stderr",
     "output_type": "stream",
     "text": [
      "INFO\tTask(Task-3) nodify.node.139628489554832:node.py:get()- No need to evaluate\n"
     ]
    },
    {
     "name": "stderr",
     "output_type": "stream",
     "text": [
      "INFO\tTask(Task-3) nodify.node.139628491362608:node.py:get()- No need to evaluate\n"
     ]
    },
    {
     "name": "stderr",
     "output_type": "stream",
     "text": [
      "INFO\tTask(Task-3) nodify.node.139628489419584:node.py:get()- No need to evaluate\n"
     ]
    },
    {
     "name": "stderr",
     "output_type": "stream",
     "text": [
      "INFO\tTask(Task-3) nodify.node.139628489595728:node.py:get()- No need to evaluate\n"
     ]
    },
    {
     "name": "stderr",
     "output_type": "stream",
     "text": [
      "INFO\tTask(Task-3) nodify.node.139628489591600:node.py:get()- No need to evaluate\n"
     ]
    },
    {
     "name": "stderr",
     "output_type": "stream",
     "text": [
      "INFO\tTask(Task-3) nodify.node.139628489589584:node.py:get()- No need to evaluate\n"
     ]
    },
    {
     "name": "stderr",
     "output_type": "stream",
     "text": [
      "INFO\tTask(Task-3) nodify.node.139628489412576:node.py:get()- Evaluated because inputs changed.\n"
     ]
    },
    {
     "name": "stderr",
     "output_type": "stream",
     "text": [
      "INFO\tTask(Task-3) nodify.node.139628489591120:node.py:get()- Evaluated because inputs changed.\n"
     ]
    },
    {
     "name": "stderr",
     "output_type": "stream",
     "text": [
      "INFO\tTask(Task-3) nodify.node.139628489419968:node.py:get()- Evaluated because inputs changed.\n"
     ]
    },
    {
     "name": "stderr",
     "output_type": "stream",
     "text": [
      "INFO\tTask(Task-3) nodify.node.139628491362608:node.py:get()- No need to evaluate\n"
     ]
    },
    {
     "name": "stderr",
     "output_type": "stream",
     "text": [
      "INFO\tTask(Task-3) nodify.node.139628489554160:node.py:get()- Evaluated because inputs changed.\n"
     ]
    },
    {
     "name": "stderr",
     "output_type": "stream",
     "text": [
      "INFO\tTask(Task-3) nodify.node.139628489422944:node.py:get()- Evaluated because inputs changed.\n"
     ]
    },
    {
     "name": "stderr",
     "output_type": "stream",
     "text": [
      "INFO\tTask(Task-3) nodify.node.139628491371104:node.py:get()- No need to evaluate\n"
     ]
    },
    {
     "name": "stderr",
     "output_type": "stream",
     "text": [
      "INFO\tTask(Task-3) nodify.node.139628489596208:node.py:get()- No need to evaluate\n"
     ]
    },
    {
     "name": "stderr",
     "output_type": "stream",
     "text": [
      "INFO\tTask(Task-3) nodify.node.139628491373072:node.py:get()- No need to evaluate\n"
     ]
    },
    {
     "name": "stderr",
     "output_type": "stream",
     "text": [
      "INFO\tTask(Task-3) nodify.node.139628491366832:node.py:get()- No need to evaluate\n"
     ]
    },
    {
     "name": "stderr",
     "output_type": "stream",
     "text": [
      "INFO\tTask(Task-3) nodify.node.139628489554880:node.py:get()- No need to evaluate\n"
     ]
    },
    {
     "name": "stderr",
     "output_type": "stream",
     "text": [
      "INFO\tTask(Task-3) nodify.node.139628489552528:node.py:get()- No need to evaluate\n"
     ]
    },
    {
     "name": "stderr",
     "output_type": "stream",
     "text": [
      "INFO\tTask(Task-3) nodify.node.139628489546384:node.py:get()- No need to evaluate\n"
     ]
    },
    {
     "name": "stderr",
     "output_type": "stream",
     "text": [
      "INFO\tTask(Task-3) nodify.node.139628489547200:node.py:get()- No need to evaluate\n"
     ]
    },
    {
     "name": "stderr",
     "output_type": "stream",
     "text": [
      "INFO\tTask(Task-3) nodify.node.139628489541776:node.py:get()- No need to evaluate\n"
     ]
    },
    {
     "name": "stderr",
     "output_type": "stream",
     "text": [
      "INFO\tTask(Task-3) nodify.node.139628489603792:node.py:get()- No need to evaluate\n"
     ]
    },
    {
     "name": "stderr",
     "output_type": "stream",
     "text": [
      "INFO\tTask(Task-3) nodify.node.139628489595776:node.py:get()- No need to evaluate\n"
     ]
    },
    {
     "name": "stderr",
     "output_type": "stream",
     "text": [
      "INFO\tTask(Task-3) nodify.node.139628491362608:node.py:get()- No need to evaluate\n"
     ]
    },
    {
     "name": "stderr",
     "output_type": "stream",
     "text": [
      "INFO\tTask(Task-3) nodify.node.139628489591456:node.py:get()- No need to evaluate\n"
     ]
    },
    {
     "name": "stderr",
     "output_type": "stream",
     "text": [
      "INFO\tTask(Task-3) nodify.node.139628489554832:node.py:get()- No need to evaluate\n"
     ]
    },
    {
     "name": "stderr",
     "output_type": "stream",
     "text": [
      "INFO\tTask(Task-3) nodify.node.139628491362608:node.py:get()- No need to evaluate\n"
     ]
    },
    {
     "name": "stderr",
     "output_type": "stream",
     "text": [
      "INFO\tTask(Task-3) nodify.node.139628489419584:node.py:get()- No need to evaluate\n"
     ]
    },
    {
     "name": "stderr",
     "output_type": "stream",
     "text": [
      "INFO\tTask(Task-3) nodify.node.139628489595728:node.py:get()- No need to evaluate\n"
     ]
    },
    {
     "name": "stderr",
     "output_type": "stream",
     "text": [
      "INFO\tTask(Task-3) nodify.node.139628489589488:node.py:get()- No need to evaluate\n"
     ]
    },
    {
     "name": "stderr",
     "output_type": "stream",
     "text": [
      "INFO\tTask(Task-3) nodify.node.139628491362608:node.py:get()- No need to evaluate\n"
     ]
    },
    {
     "name": "stderr",
     "output_type": "stream",
     "text": [
      "INFO\tTask(Task-3) nodify.node.139628489555888:node.py:get()- No need to evaluate\n"
     ]
    },
    {
     "name": "stderr",
     "output_type": "stream",
     "text": [
      "INFO\tTask(Task-3) nodify.node.139628489603792:node.py:get()- No need to evaluate\n"
     ]
    },
    {
     "name": "stderr",
     "output_type": "stream",
     "text": [
      "INFO\tTask(Task-3) nodify.node.139628489553296:node.py:get()- No need to evaluate\n"
     ]
    },
    {
     "name": "stderr",
     "output_type": "stream",
     "text": [
      "INFO\tTask(Task-3) nodify.node.139628491371104:node.py:get()- No need to evaluate\n"
     ]
    },
    {
     "name": "stderr",
     "output_type": "stream",
     "text": [
      "INFO\tTask(Task-3) nodify.node.139628489596208:node.py:get()- No need to evaluate\n"
     ]
    },
    {
     "name": "stderr",
     "output_type": "stream",
     "text": [
      "INFO\tTask(Task-3) nodify.node.139628489544176:node.py:get()- No need to evaluate\n"
     ]
    },
    {
     "name": "stderr",
     "output_type": "stream",
     "text": [
      "INFO\tTask(Task-3) nodify.node.139628491371104:node.py:get()- No need to evaluate\n"
     ]
    },
    {
     "name": "stderr",
     "output_type": "stream",
     "text": [
      "INFO\tTask(Task-3) nodify.node.139628489596208:node.py:get()- No need to evaluate\n"
     ]
    },
    {
     "name": "stderr",
     "output_type": "stream",
     "text": [
      "INFO\tTask(Task-3) nodify.node.139628491373072:node.py:get()- No need to evaluate\n"
     ]
    },
    {
     "name": "stderr",
     "output_type": "stream",
     "text": [
      "INFO\tTask(Task-3) nodify.node.139628491366832:node.py:get()- No need to evaluate\n"
     ]
    },
    {
     "name": "stderr",
     "output_type": "stream",
     "text": [
      "INFO\tTask(Task-3) nodify.node.139628489554880:node.py:get()- No need to evaluate\n"
     ]
    },
    {
     "name": "stderr",
     "output_type": "stream",
     "text": [
      "INFO\tTask(Task-3) nodify.node.139628489552528:node.py:get()- No need to evaluate\n"
     ]
    },
    {
     "name": "stderr",
     "output_type": "stream",
     "text": [
      "INFO\tTask(Task-3) nodify.node.139628489546384:node.py:get()- No need to evaluate\n"
     ]
    },
    {
     "name": "stderr",
     "output_type": "stream",
     "text": [
      "INFO\tTask(Task-3) nodify.node.139628489552816:node.py:get()- No need to evaluate\n"
     ]
    },
    {
     "name": "stderr",
     "output_type": "stream",
     "text": [
      "INFO\tTask(Task-3) nodify.node.139628489550464:node.py:get()- No need to evaluate\n"
     ]
    },
    {
     "name": "stderr",
     "output_type": "stream",
     "text": [
      "INFO\tTask(Task-3) nodify.node.139628489551280:node.py:get()- No need to evaluate\n"
     ]
    },
    {
     "name": "stderr",
     "output_type": "stream",
     "text": [
      "INFO\tTask(Task-3) nodify.node.139628489546816:node.py:get()- No need to evaluate\n"
     ]
    },
    {
     "name": "stderr",
     "output_type": "stream",
     "text": [
      "INFO\tTask(Task-3) nodify.node.139628489552096:node.py:get()- No need to evaluate\n"
     ]
    },
    {
     "name": "stderr",
     "output_type": "stream",
     "text": [
      "INFO\tTask(Task-3) nodify.node.139628489598128:node.py:get()- No need to evaluate\n"
     ]
    },
    {
     "name": "stderr",
     "output_type": "stream",
     "text": [
      "INFO\tTask(Task-3) nodify.node.139628491362608:node.py:get()- No need to evaluate\n"
     ]
    },
    {
     "name": "stderr",
     "output_type": "stream",
     "text": [
      "INFO\tTask(Task-3) nodify.node.139628489555504:node.py:get()- No need to evaluate\n"
     ]
    },
    {
     "name": "stderr",
     "output_type": "stream",
     "text": [
      "INFO\tTask(Task-3) nodify.node.139628489552672:node.py:get()- Evaluated because inputs changed.\n"
     ]
    },
    {
     "name": "stderr",
     "output_type": "stream",
     "text": [
      "INFO\tTask(Task-3) nodify.node.139628492250128:node.py:get()- Evaluated because inputs changed.\n"
     ]
    },
    {
     "name": "stderr",
     "output_type": "stream",
     "text": [
      "INFO\tTask(Task-3) nodify.node.139628489592848:node.py:get()- Evaluated because inputs changed.\n"
     ]
    },
    {
     "data": {
      "text/html": [
       "<iframe\n",
       "    scrolling=\"no\"\n",
       "    width=\"100%\"\n",
       "    height=\"545px\"\n",
       "    src=\"iframe_figures/figure_5.html\"\n",
       "    frameborder=\"0\"\n",
       "    allowfullscreen\n",
       "></iframe>\n"
      ]
     },
     "metadata": {},
     "output_type": "display_data"
    }
   ],
   "source": [
    "fatbands.split_orbs(on=\"species\", name=\"$species\")"
   ]
  },
  {
   "cell_type": "markdown",
   "metadata": {},
   "source": [
    "Or write them yourself if you want the maximum flexibility:"
   ]
  },
  {
   "cell_type": "code",
   "execution_count": 6,
   "metadata": {
    "execution": {
     "iopub.execute_input": "2025-10-08T11:39:07.265476Z",
     "iopub.status.busy": "2025-10-08T11:39:07.265292Z",
     "iopub.status.idle": "2025-10-08T11:39:07.571594Z",
     "shell.execute_reply": "2025-10-08T11:39:07.571111Z"
    }
   },
   "outputs": [
    {
     "name": "stderr",
     "output_type": "stream",
     "text": [
      "INFO\tTask(Task-3) nodify.node.139628489592944:node.py:get()- No need to evaluate\n"
     ]
    },
    {
     "name": "stderr",
     "output_type": "stream",
     "text": [
      "INFO\tTask(Task-3) nodify.node.139628491371104:node.py:get()- No need to evaluate\n"
     ]
    },
    {
     "name": "stderr",
     "output_type": "stream",
     "text": [
      "INFO\tTask(Task-3) nodify.node.139628489596208:node.py:get()- No need to evaluate\n"
     ]
    },
    {
     "name": "stderr",
     "output_type": "stream",
     "text": [
      "INFO\tTask(Task-3) nodify.node.139628491373072:node.py:get()- No need to evaluate\n"
     ]
    },
    {
     "name": "stderr",
     "output_type": "stream",
     "text": [
      "INFO\tTask(Task-3) nodify.node.139628491366832:node.py:get()- No need to evaluate\n"
     ]
    },
    {
     "name": "stderr",
     "output_type": "stream",
     "text": [
      "INFO\tTask(Task-3) nodify.node.139628489554880:node.py:get()- No need to evaluate\n"
     ]
    },
    {
     "name": "stderr",
     "output_type": "stream",
     "text": [
      "INFO\tTask(Task-3) nodify.node.139628489552528:node.py:get()- No need to evaluate\n"
     ]
    },
    {
     "name": "stderr",
     "output_type": "stream",
     "text": [
      "INFO\tTask(Task-3) nodify.node.139628489546384:node.py:get()- No need to evaluate\n"
     ]
    },
    {
     "name": "stderr",
     "output_type": "stream",
     "text": [
      "INFO\tTask(Task-3) nodify.node.139628489589584:node.py:get()- Evaluated because inputs changed.\n"
     ]
    },
    {
     "name": "stderr",
     "output_type": "stream",
     "text": [
      "INFO\tTask(Task-3) nodify.node.139628491371104:node.py:get()- No need to evaluate\n"
     ]
    },
    {
     "name": "stderr",
     "output_type": "stream",
     "text": [
      "INFO\tTask(Task-3) nodify.node.139628489596208:node.py:get()- No need to evaluate\n"
     ]
    },
    {
     "name": "stderr",
     "output_type": "stream",
     "text": [
      "INFO\tTask(Task-3) nodify.node.139628489591168:node.py:get()- No need to evaluate\n"
     ]
    },
    {
     "name": "stderr",
     "output_type": "stream",
     "text": [
      "INFO\tTask(Task-3) nodify.node.139628489555312:node.py:get()- No need to evaluate\n"
     ]
    },
    {
     "name": "stderr",
     "output_type": "stream",
     "text": [
      "INFO\tTask(Task-3) nodify.node.139628489589152:node.py:get()- Evaluated because inputs changed.\n"
     ]
    },
    {
     "name": "stderr",
     "output_type": "stream",
     "text": [
      "INFO\tTask(Task-3) nodify.node.139628489591600:node.py:get()- No need to evaluate\n"
     ]
    },
    {
     "name": "stderr",
     "output_type": "stream",
     "text": [
      "INFO\tTask(Task-3) nodify.node.139628489599376:node.py:get()- No need to evaluate\n"
     ]
    },
    {
     "name": "stderr",
     "output_type": "stream",
     "text": [
      "INFO\tTask(Task-3) nodify.node.139628489596688:node.py:get()- Evaluated because inputs changed.\n"
     ]
    },
    {
     "name": "stderr",
     "output_type": "stream",
     "text": [
      "INFO\tTask(Task-3) nodify.node.139628491362608:node.py:get()- No need to evaluate\n"
     ]
    },
    {
     "name": "stderr",
     "output_type": "stream",
     "text": [
      "INFO\tTask(Task-3) nodify.node.139628489591456:node.py:get()- No need to evaluate\n"
     ]
    },
    {
     "name": "stderr",
     "output_type": "stream",
     "text": [
      "INFO\tTask(Task-3) nodify.node.139628489554832:node.py:get()- No need to evaluate\n"
     ]
    },
    {
     "name": "stderr",
     "output_type": "stream",
     "text": [
      "INFO\tTask(Task-3) nodify.node.139628491362608:node.py:get()- No need to evaluate\n"
     ]
    },
    {
     "name": "stderr",
     "output_type": "stream",
     "text": [
      "INFO\tTask(Task-3) nodify.node.139628489419584:node.py:get()- No need to evaluate\n"
     ]
    },
    {
     "name": "stderr",
     "output_type": "stream",
     "text": [
      "INFO\tTask(Task-3) nodify.node.139628489595728:node.py:get()- No need to evaluate\n"
     ]
    },
    {
     "name": "stderr",
     "output_type": "stream",
     "text": [
      "INFO\tTask(Task-3) nodify.node.139628489591600:node.py:get()- No need to evaluate\n"
     ]
    },
    {
     "name": "stderr",
     "output_type": "stream",
     "text": [
      "INFO\tTask(Task-3) nodify.node.139628489589584:node.py:get()- No need to evaluate\n"
     ]
    },
    {
     "name": "stderr",
     "output_type": "stream",
     "text": [
      "INFO\tTask(Task-3) nodify.node.139628489412576:node.py:get()- Evaluated because inputs changed.\n"
     ]
    },
    {
     "name": "stderr",
     "output_type": "stream",
     "text": [
      "INFO\tTask(Task-3) nodify.node.139628489591120:node.py:get()- No need to evaluate\n"
     ]
    },
    {
     "name": "stderr",
     "output_type": "stream",
     "text": [
      "INFO\tTask(Task-3) nodify.node.139628489419968:node.py:get()- Evaluated because inputs changed.\n"
     ]
    },
    {
     "name": "stderr",
     "output_type": "stream",
     "text": [
      "INFO\tTask(Task-3) nodify.node.139628491362608:node.py:get()- No need to evaluate\n"
     ]
    },
    {
     "name": "stderr",
     "output_type": "stream",
     "text": [
      "INFO\tTask(Task-3) nodify.node.139628489554160:node.py:get()- Evaluated because inputs changed.\n"
     ]
    },
    {
     "name": "stderr",
     "output_type": "stream",
     "text": [
      "INFO\tTask(Task-3) nodify.node.139628489422944:node.py:get()- Evaluated because inputs changed.\n"
     ]
    },
    {
     "name": "stderr",
     "output_type": "stream",
     "text": [
      "INFO\tTask(Task-3) nodify.node.139628491371104:node.py:get()- No need to evaluate\n"
     ]
    },
    {
     "name": "stderr",
     "output_type": "stream",
     "text": [
      "INFO\tTask(Task-3) nodify.node.139628489596208:node.py:get()- No need to evaluate\n"
     ]
    },
    {
     "name": "stderr",
     "output_type": "stream",
     "text": [
      "INFO\tTask(Task-3) nodify.node.139628491373072:node.py:get()- No need to evaluate\n"
     ]
    },
    {
     "name": "stderr",
     "output_type": "stream",
     "text": [
      "INFO\tTask(Task-3) nodify.node.139628491366832:node.py:get()- No need to evaluate\n"
     ]
    },
    {
     "name": "stderr",
     "output_type": "stream",
     "text": [
      "INFO\tTask(Task-3) nodify.node.139628489554880:node.py:get()- No need to evaluate\n"
     ]
    },
    {
     "name": "stderr",
     "output_type": "stream",
     "text": [
      "INFO\tTask(Task-3) nodify.node.139628489552528:node.py:get()- No need to evaluate\n"
     ]
    },
    {
     "name": "stderr",
     "output_type": "stream",
     "text": [
      "INFO\tTask(Task-3) nodify.node.139628489546384:node.py:get()- No need to evaluate\n"
     ]
    },
    {
     "name": "stderr",
     "output_type": "stream",
     "text": [
      "INFO\tTask(Task-3) nodify.node.139628489547200:node.py:get()- No need to evaluate\n"
     ]
    },
    {
     "name": "stderr",
     "output_type": "stream",
     "text": [
      "INFO\tTask(Task-3) nodify.node.139628489541776:node.py:get()- No need to evaluate\n"
     ]
    },
    {
     "name": "stderr",
     "output_type": "stream",
     "text": [
      "INFO\tTask(Task-3) nodify.node.139628489603792:node.py:get()- No need to evaluate\n"
     ]
    },
    {
     "name": "stderr",
     "output_type": "stream",
     "text": [
      "INFO\tTask(Task-3) nodify.node.139628489595776:node.py:get()- No need to evaluate\n"
     ]
    },
    {
     "name": "stderr",
     "output_type": "stream",
     "text": [
      "INFO\tTask(Task-3) nodify.node.139628491362608:node.py:get()- No need to evaluate\n"
     ]
    },
    {
     "name": "stderr",
     "output_type": "stream",
     "text": [
      "INFO\tTask(Task-3) nodify.node.139628489591456:node.py:get()- No need to evaluate\n"
     ]
    },
    {
     "name": "stderr",
     "output_type": "stream",
     "text": [
      "INFO\tTask(Task-3) nodify.node.139628489554832:node.py:get()- No need to evaluate\n"
     ]
    },
    {
     "name": "stderr",
     "output_type": "stream",
     "text": [
      "INFO\tTask(Task-3) nodify.node.139628491362608:node.py:get()- No need to evaluate\n"
     ]
    },
    {
     "name": "stderr",
     "output_type": "stream",
     "text": [
      "INFO\tTask(Task-3) nodify.node.139628489419584:node.py:get()- No need to evaluate\n"
     ]
    },
    {
     "name": "stderr",
     "output_type": "stream",
     "text": [
      "INFO\tTask(Task-3) nodify.node.139628489595728:node.py:get()- No need to evaluate\n"
     ]
    },
    {
     "name": "stderr",
     "output_type": "stream",
     "text": [
      "INFO\tTask(Task-3) nodify.node.139628489589488:node.py:get()- No need to evaluate\n"
     ]
    },
    {
     "name": "stderr",
     "output_type": "stream",
     "text": [
      "INFO\tTask(Task-3) nodify.node.139628491362608:node.py:get()- No need to evaluate\n"
     ]
    },
    {
     "name": "stderr",
     "output_type": "stream",
     "text": [
      "INFO\tTask(Task-3) nodify.node.139628489555888:node.py:get()- No need to evaluate\n"
     ]
    },
    {
     "name": "stderr",
     "output_type": "stream",
     "text": [
      "INFO\tTask(Task-3) nodify.node.139628489603792:node.py:get()- No need to evaluate\n"
     ]
    },
    {
     "name": "stderr",
     "output_type": "stream",
     "text": [
      "INFO\tTask(Task-3) nodify.node.139628489553296:node.py:get()- No need to evaluate\n"
     ]
    },
    {
     "name": "stderr",
     "output_type": "stream",
     "text": [
      "INFO\tTask(Task-3) nodify.node.139628491371104:node.py:get()- No need to evaluate\n"
     ]
    },
    {
     "name": "stderr",
     "output_type": "stream",
     "text": [
      "INFO\tTask(Task-3) nodify.node.139628489596208:node.py:get()- No need to evaluate\n"
     ]
    },
    {
     "name": "stderr",
     "output_type": "stream",
     "text": [
      "INFO\tTask(Task-3) nodify.node.139628489544176:node.py:get()- No need to evaluate\n"
     ]
    },
    {
     "name": "stderr",
     "output_type": "stream",
     "text": [
      "INFO\tTask(Task-3) nodify.node.139628491371104:node.py:get()- No need to evaluate\n"
     ]
    },
    {
     "name": "stderr",
     "output_type": "stream",
     "text": [
      "INFO\tTask(Task-3) nodify.node.139628489596208:node.py:get()- No need to evaluate\n"
     ]
    },
    {
     "name": "stderr",
     "output_type": "stream",
     "text": [
      "INFO\tTask(Task-3) nodify.node.139628491373072:node.py:get()- No need to evaluate\n"
     ]
    },
    {
     "name": "stderr",
     "output_type": "stream",
     "text": [
      "INFO\tTask(Task-3) nodify.node.139628491366832:node.py:get()- No need to evaluate\n"
     ]
    },
    {
     "name": "stderr",
     "output_type": "stream",
     "text": [
      "INFO\tTask(Task-3) nodify.node.139628489554880:node.py:get()- No need to evaluate\n"
     ]
    },
    {
     "name": "stderr",
     "output_type": "stream",
     "text": [
      "INFO\tTask(Task-3) nodify.node.139628489552528:node.py:get()- No need to evaluate\n"
     ]
    },
    {
     "name": "stderr",
     "output_type": "stream",
     "text": [
      "INFO\tTask(Task-3) nodify.node.139628489546384:node.py:get()- No need to evaluate\n"
     ]
    },
    {
     "name": "stderr",
     "output_type": "stream",
     "text": [
      "INFO\tTask(Task-3) nodify.node.139628489552816:node.py:get()- No need to evaluate\n"
     ]
    },
    {
     "name": "stderr",
     "output_type": "stream",
     "text": [
      "INFO\tTask(Task-3) nodify.node.139628489550464:node.py:get()- No need to evaluate\n"
     ]
    },
    {
     "name": "stderr",
     "output_type": "stream",
     "text": [
      "INFO\tTask(Task-3) nodify.node.139628489551280:node.py:get()- No need to evaluate\n"
     ]
    },
    {
     "name": "stderr",
     "output_type": "stream",
     "text": [
      "INFO\tTask(Task-3) nodify.node.139628489546816:node.py:get()- No need to evaluate\n"
     ]
    },
    {
     "name": "stderr",
     "output_type": "stream",
     "text": [
      "INFO\tTask(Task-3) nodify.node.139628489552096:node.py:get()- No need to evaluate\n"
     ]
    },
    {
     "name": "stderr",
     "output_type": "stream",
     "text": [
      "INFO\tTask(Task-3) nodify.node.139628489598128:node.py:get()- No need to evaluate\n"
     ]
    },
    {
     "name": "stderr",
     "output_type": "stream",
     "text": [
      "INFO\tTask(Task-3) nodify.node.139628491362608:node.py:get()- No need to evaluate\n"
     ]
    },
    {
     "name": "stderr",
     "output_type": "stream",
     "text": [
      "INFO\tTask(Task-3) nodify.node.139628489555504:node.py:get()- No need to evaluate\n"
     ]
    },
    {
     "name": "stderr",
     "output_type": "stream",
     "text": [
      "INFO\tTask(Task-3) nodify.node.139628489552672:node.py:get()- Evaluated because inputs changed.\n"
     ]
    },
    {
     "name": "stderr",
     "output_type": "stream",
     "text": [
      "INFO\tTask(Task-3) nodify.node.139628492250128:node.py:get()- Evaluated because inputs changed.\n"
     ]
    },
    {
     "name": "stderr",
     "output_type": "stream",
     "text": [
      "INFO\tTask(Task-3) nodify.node.139628489592848:node.py:get()- Evaluated because inputs changed.\n"
     ]
    },
    {
     "data": {
      "text/html": [
       "<iframe\n",
       "    scrolling=\"no\"\n",
       "    width=\"100%\"\n",
       "    height=\"545px\"\n",
       "    src=\"iframe_figures/figure_6.html\"\n",
       "    frameborder=\"0\"\n",
       "    allowfullscreen\n",
       "></iframe>\n"
      ]
     },
     "metadata": {},
     "output_type": "display_data"
    }
   ],
   "source": [
    "fatbands.update_inputs(\n",
    "    groups=[\n",
    "        {\"species\": \"N\", \"color\": \"blue\", \"name\": \"Nitrogen\"},\n",
    "        {\"species\": \"B\", \"color\": \"red\", \"name\": \"Boron\"},\n",
    "    ]\n",
    ")"
   ]
  },
  {
   "cell_type": "markdown",
   "metadata": {},
   "source": [
    "## Scaling fatbands\n",
    "\n",
    "The visual appeal of fatbands depends a lot on the size of your plot, therefore there's one global `scale` setting that scales all fatbands at the same time:"
   ]
  },
  {
   "cell_type": "code",
   "execution_count": 7,
   "metadata": {
    "execution": {
     "iopub.execute_input": "2025-10-08T11:39:07.573442Z",
     "iopub.status.busy": "2025-10-08T11:39:07.573265Z",
     "iopub.status.idle": "2025-10-08T11:39:09.403413Z",
     "shell.execute_reply": "2025-10-08T11:39:09.402869Z"
    },
    "tags": [
     "nbsphinx-thumbnail"
    ]
   },
   "outputs": [
    {
     "name": "stderr",
     "output_type": "stream",
     "text": [
      "INFO\tTask(Task-3) nodify.node.139628489592944:node.py:get()- No need to evaluate\n"
     ]
    },
    {
     "name": "stderr",
     "output_type": "stream",
     "text": [
      "INFO\tTask(Task-3) nodify.node.139628491371104:node.py:get()- No need to evaluate\n"
     ]
    },
    {
     "name": "stderr",
     "output_type": "stream",
     "text": [
      "INFO\tTask(Task-3) nodify.node.139628489596208:node.py:get()- No need to evaluate\n"
     ]
    },
    {
     "name": "stderr",
     "output_type": "stream",
     "text": [
      "INFO\tTask(Task-3) nodify.node.139628491373072:node.py:get()- No need to evaluate\n"
     ]
    },
    {
     "name": "stderr",
     "output_type": "stream",
     "text": [
      "INFO\tTask(Task-3) nodify.node.139628491366832:node.py:get()- No need to evaluate\n"
     ]
    },
    {
     "name": "stderr",
     "output_type": "stream",
     "text": [
      "INFO\tTask(Task-3) nodify.node.139628489554880:node.py:get()- No need to evaluate\n"
     ]
    },
    {
     "name": "stderr",
     "output_type": "stream",
     "text": [
      "INFO\tTask(Task-3) nodify.node.139628489552528:node.py:get()- No need to evaluate\n"
     ]
    },
    {
     "name": "stderr",
     "output_type": "stream",
     "text": [
      "INFO\tTask(Task-3) nodify.node.139628489546384:node.py:get()- No need to evaluate\n"
     ]
    },
    {
     "name": "stderr",
     "output_type": "stream",
     "text": [
      "INFO\tTask(Task-3) nodify.node.139628489589584:node.py:get()- No need to evaluate\n"
     ]
    },
    {
     "name": "stderr",
     "output_type": "stream",
     "text": [
      "INFO\tTask(Task-3) nodify.node.139628491371104:node.py:get()- No need to evaluate\n"
     ]
    },
    {
     "name": "stderr",
     "output_type": "stream",
     "text": [
      "INFO\tTask(Task-3) nodify.node.139628489596208:node.py:get()- No need to evaluate\n"
     ]
    },
    {
     "name": "stderr",
     "output_type": "stream",
     "text": [
      "INFO\tTask(Task-3) nodify.node.139628489591168:node.py:get()- No need to evaluate\n"
     ]
    },
    {
     "name": "stderr",
     "output_type": "stream",
     "text": [
      "INFO\tTask(Task-3) nodify.node.139628489555312:node.py:get()- No need to evaluate\n"
     ]
    },
    {
     "name": "stderr",
     "output_type": "stream",
     "text": [
      "INFO\tTask(Task-3) nodify.node.139628489589152:node.py:get()- No need to evaluate\n"
     ]
    },
    {
     "name": "stderr",
     "output_type": "stream",
     "text": [
      "INFO\tTask(Task-3) nodify.node.139628489591600:node.py:get()- No need to evaluate\n"
     ]
    },
    {
     "name": "stderr",
     "output_type": "stream",
     "text": [
      "INFO\tTask(Task-3) nodify.node.139628489599376:node.py:get()- Evaluated because inputs changed.\n"
     ]
    },
    {
     "name": "stderr",
     "output_type": "stream",
     "text": [
      "INFO\tTask(Task-3) nodify.node.139628489596688:node.py:get()- Evaluated because inputs changed.\n"
     ]
    },
    {
     "name": "stderr",
     "output_type": "stream",
     "text": [
      "INFO\tTask(Task-3) nodify.node.139628491362608:node.py:get()- No need to evaluate\n"
     ]
    },
    {
     "name": "stderr",
     "output_type": "stream",
     "text": [
      "INFO\tTask(Task-3) nodify.node.139628489591456:node.py:get()- No need to evaluate\n"
     ]
    },
    {
     "name": "stderr",
     "output_type": "stream",
     "text": [
      "INFO\tTask(Task-3) nodify.node.139628489554832:node.py:get()- No need to evaluate\n"
     ]
    },
    {
     "name": "stderr",
     "output_type": "stream",
     "text": [
      "INFO\tTask(Task-3) nodify.node.139628491362608:node.py:get()- No need to evaluate\n"
     ]
    },
    {
     "name": "stderr",
     "output_type": "stream",
     "text": [
      "INFO\tTask(Task-3) nodify.node.139628489419584:node.py:get()- No need to evaluate\n"
     ]
    },
    {
     "name": "stderr",
     "output_type": "stream",
     "text": [
      "INFO\tTask(Task-3) nodify.node.139628489595728:node.py:get()- No need to evaluate\n"
     ]
    },
    {
     "name": "stderr",
     "output_type": "stream",
     "text": [
      "INFO\tTask(Task-3) nodify.node.139628489591600:node.py:get()- No need to evaluate\n"
     ]
    },
    {
     "name": "stderr",
     "output_type": "stream",
     "text": [
      "INFO\tTask(Task-3) nodify.node.139628489589584:node.py:get()- No need to evaluate\n"
     ]
    },
    {
     "name": "stderr",
     "output_type": "stream",
     "text": [
      "INFO\tTask(Task-3) nodify.node.139628489412576:node.py:get()- No need to evaluate\n"
     ]
    },
    {
     "name": "stderr",
     "output_type": "stream",
     "text": [
      "INFO\tTask(Task-3) nodify.node.139628489591120:node.py:get()- No need to evaluate\n"
     ]
    },
    {
     "name": "stderr",
     "output_type": "stream",
     "text": [
      "INFO\tTask(Task-3) nodify.node.139628489419968:node.py:get()- No need to evaluate\n"
     ]
    },
    {
     "name": "stderr",
     "output_type": "stream",
     "text": [
      "INFO\tTask(Task-3) nodify.node.139628491362608:node.py:get()- No need to evaluate\n"
     ]
    },
    {
     "name": "stderr",
     "output_type": "stream",
     "text": [
      "INFO\tTask(Task-3) nodify.node.139628489554160:node.py:get()- Evaluated because inputs changed.\n"
     ]
    },
    {
     "name": "stderr",
     "output_type": "stream",
     "text": [
      "INFO\tTask(Task-3) nodify.node.139628489422944:node.py:get()- Evaluated because inputs changed.\n"
     ]
    },
    {
     "name": "stderr",
     "output_type": "stream",
     "text": [
      "INFO\tTask(Task-3) nodify.node.139628491371104:node.py:get()- No need to evaluate\n"
     ]
    },
    {
     "name": "stderr",
     "output_type": "stream",
     "text": [
      "INFO\tTask(Task-3) nodify.node.139628489596208:node.py:get()- No need to evaluate\n"
     ]
    },
    {
     "name": "stderr",
     "output_type": "stream",
     "text": [
      "INFO\tTask(Task-3) nodify.node.139628491373072:node.py:get()- No need to evaluate\n"
     ]
    },
    {
     "name": "stderr",
     "output_type": "stream",
     "text": [
      "INFO\tTask(Task-3) nodify.node.139628491366832:node.py:get()- No need to evaluate\n"
     ]
    },
    {
     "name": "stderr",
     "output_type": "stream",
     "text": [
      "INFO\tTask(Task-3) nodify.node.139628489554880:node.py:get()- No need to evaluate\n"
     ]
    },
    {
     "name": "stderr",
     "output_type": "stream",
     "text": [
      "INFO\tTask(Task-3) nodify.node.139628489552528:node.py:get()- No need to evaluate\n"
     ]
    },
    {
     "name": "stderr",
     "output_type": "stream",
     "text": [
      "INFO\tTask(Task-3) nodify.node.139628489546384:node.py:get()- No need to evaluate\n"
     ]
    },
    {
     "name": "stderr",
     "output_type": "stream",
     "text": [
      "INFO\tTask(Task-3) nodify.node.139628489547200:node.py:get()- No need to evaluate\n"
     ]
    },
    {
     "name": "stderr",
     "output_type": "stream",
     "text": [
      "INFO\tTask(Task-3) nodify.node.139628489541776:node.py:get()- No need to evaluate\n"
     ]
    },
    {
     "name": "stderr",
     "output_type": "stream",
     "text": [
      "INFO\tTask(Task-3) nodify.node.139628489603792:node.py:get()- No need to evaluate\n"
     ]
    },
    {
     "name": "stderr",
     "output_type": "stream",
     "text": [
      "INFO\tTask(Task-3) nodify.node.139628489595776:node.py:get()- No need to evaluate\n"
     ]
    },
    {
     "name": "stderr",
     "output_type": "stream",
     "text": [
      "INFO\tTask(Task-3) nodify.node.139628491362608:node.py:get()- No need to evaluate\n"
     ]
    },
    {
     "name": "stderr",
     "output_type": "stream",
     "text": [
      "INFO\tTask(Task-3) nodify.node.139628489591456:node.py:get()- No need to evaluate\n"
     ]
    },
    {
     "name": "stderr",
     "output_type": "stream",
     "text": [
      "INFO\tTask(Task-3) nodify.node.139628489554832:node.py:get()- No need to evaluate\n"
     ]
    },
    {
     "name": "stderr",
     "output_type": "stream",
     "text": [
      "INFO\tTask(Task-3) nodify.node.139628491362608:node.py:get()- No need to evaluate\n"
     ]
    },
    {
     "name": "stderr",
     "output_type": "stream",
     "text": [
      "INFO\tTask(Task-3) nodify.node.139628489419584:node.py:get()- No need to evaluate\n"
     ]
    },
    {
     "name": "stderr",
     "output_type": "stream",
     "text": [
      "INFO\tTask(Task-3) nodify.node.139628489595728:node.py:get()- No need to evaluate\n"
     ]
    },
    {
     "name": "stderr",
     "output_type": "stream",
     "text": [
      "INFO\tTask(Task-3) nodify.node.139628489589488:node.py:get()- No need to evaluate\n"
     ]
    },
    {
     "name": "stderr",
     "output_type": "stream",
     "text": [
      "INFO\tTask(Task-3) nodify.node.139628491362608:node.py:get()- No need to evaluate\n"
     ]
    },
    {
     "name": "stderr",
     "output_type": "stream",
     "text": [
      "INFO\tTask(Task-3) nodify.node.139628489555888:node.py:get()- No need to evaluate\n"
     ]
    },
    {
     "name": "stderr",
     "output_type": "stream",
     "text": [
      "INFO\tTask(Task-3) nodify.node.139628489603792:node.py:get()- No need to evaluate\n"
     ]
    },
    {
     "name": "stderr",
     "output_type": "stream",
     "text": [
      "INFO\tTask(Task-3) nodify.node.139628489553296:node.py:get()- No need to evaluate\n"
     ]
    },
    {
     "name": "stderr",
     "output_type": "stream",
     "text": [
      "INFO\tTask(Task-3) nodify.node.139628491371104:node.py:get()- No need to evaluate\n"
     ]
    },
    {
     "name": "stderr",
     "output_type": "stream",
     "text": [
      "INFO\tTask(Task-3) nodify.node.139628489596208:node.py:get()- No need to evaluate\n"
     ]
    },
    {
     "name": "stderr",
     "output_type": "stream",
     "text": [
      "INFO\tTask(Task-3) nodify.node.139628489544176:node.py:get()- No need to evaluate\n"
     ]
    },
    {
     "name": "stderr",
     "output_type": "stream",
     "text": [
      "INFO\tTask(Task-3) nodify.node.139628491371104:node.py:get()- No need to evaluate\n"
     ]
    },
    {
     "name": "stderr",
     "output_type": "stream",
     "text": [
      "INFO\tTask(Task-3) nodify.node.139628489596208:node.py:get()- No need to evaluate\n"
     ]
    },
    {
     "name": "stderr",
     "output_type": "stream",
     "text": [
      "INFO\tTask(Task-3) nodify.node.139628491373072:node.py:get()- No need to evaluate\n"
     ]
    },
    {
     "name": "stderr",
     "output_type": "stream",
     "text": [
      "INFO\tTask(Task-3) nodify.node.139628491366832:node.py:get()- No need to evaluate\n"
     ]
    },
    {
     "name": "stderr",
     "output_type": "stream",
     "text": [
      "INFO\tTask(Task-3) nodify.node.139628489554880:node.py:get()- No need to evaluate\n"
     ]
    },
    {
     "name": "stderr",
     "output_type": "stream",
     "text": [
      "INFO\tTask(Task-3) nodify.node.139628489552528:node.py:get()- No need to evaluate\n"
     ]
    },
    {
     "name": "stderr",
     "output_type": "stream",
     "text": [
      "INFO\tTask(Task-3) nodify.node.139628489546384:node.py:get()- No need to evaluate\n"
     ]
    },
    {
     "name": "stderr",
     "output_type": "stream",
     "text": [
      "INFO\tTask(Task-3) nodify.node.139628489552816:node.py:get()- No need to evaluate\n"
     ]
    },
    {
     "name": "stderr",
     "output_type": "stream",
     "text": [
      "INFO\tTask(Task-3) nodify.node.139628489550464:node.py:get()- No need to evaluate\n"
     ]
    },
    {
     "name": "stderr",
     "output_type": "stream",
     "text": [
      "INFO\tTask(Task-3) nodify.node.139628489551280:node.py:get()- No need to evaluate\n"
     ]
    },
    {
     "name": "stderr",
     "output_type": "stream",
     "text": [
      "INFO\tTask(Task-3) nodify.node.139628489546816:node.py:get()- No need to evaluate\n"
     ]
    },
    {
     "name": "stderr",
     "output_type": "stream",
     "text": [
      "INFO\tTask(Task-3) nodify.node.139628489552096:node.py:get()- No need to evaluate\n"
     ]
    },
    {
     "name": "stderr",
     "output_type": "stream",
     "text": [
      "INFO\tTask(Task-3) nodify.node.139628489598128:node.py:get()- No need to evaluate\n"
     ]
    },
    {
     "name": "stderr",
     "output_type": "stream",
     "text": [
      "INFO\tTask(Task-3) nodify.node.139628491362608:node.py:get()- No need to evaluate\n"
     ]
    },
    {
     "name": "stderr",
     "output_type": "stream",
     "text": [
      "INFO\tTask(Task-3) nodify.node.139628489555504:node.py:get()- No need to evaluate\n"
     ]
    },
    {
     "name": "stderr",
     "output_type": "stream",
     "text": [
      "INFO\tTask(Task-3) nodify.node.139628489552672:node.py:get()- Evaluated because inputs changed.\n"
     ]
    },
    {
     "name": "stderr",
     "output_type": "stream",
     "text": [
      "INFO\tTask(Task-3) nodify.node.139628492250128:node.py:get()- Evaluated because inputs changed.\n"
     ]
    },
    {
     "name": "stderr",
     "output_type": "stream",
     "text": [
      "INFO\tTask(Task-3) nodify.node.139628489592848:node.py:get()- Evaluated because inputs changed.\n"
     ]
    },
    {
     "data": {
      "image/png": "[encoded data removed]"
     },
     "metadata": {},
     "output_type": "display_data"
    }
   ],
   "source": [
    "fatbands.update_inputs(fatbands_scale=2).show(\"png\")"
   ]
  },
  {
   "cell_type": "markdown",
   "metadata": {},
   "source": [
    "## Use BandsPlot settings\n",
    "\n",
    "All settings of `BandsPlot` work as well for `FatbandsPlot`."
   ]
  }
 ],
 "metadata": {
  "kernelspec": {
   "display_name": "Python 3 (ipykernel)",
   "language": "python",
   "name": "python3"
  },
  "language_info": {
   "codemirror_mode": {
    "name": "ipython",
    "version": 3
   },
   "file_extension": ".py",
   "mimetype": "text/x-python",
   "name": "python",
   "nbconvert_exporter": "python",
   "pygments_lexer": "ipython3",
   "version": "3.12.11"
  }
 },
 "nbformat": 4,
 "nbformat_minor": 4
}
