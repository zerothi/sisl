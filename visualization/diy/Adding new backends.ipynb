{
 "cells": [
  {
   "cell_type": "markdown",
   "id": "b8465167",
   "metadata": {},
   "source": [
    "# Adding new backends\n",
    "\n",
    "This notebook displays how to integrate a new plotting backend to `sisl.viz`.\n",
    "\n",
    "Let's create a toy graphene band structure to illustrate the conceps throughout this notebook:"
   ]
  },
  {
   "cell_type": "code",
   "execution_count": 1,
   "id": "392448ab",
   "metadata": {
    "execution": {
     "iopub.execute_input": "2025-10-08T12:09:18.527510Z",
     "iopub.status.busy": "2025-10-08T12:09:18.527334Z",
     "iopub.status.idle": "2025-10-08T12:09:19.418653Z",
     "shell.execute_reply": "2025-10-08T12:09:19.418004Z"
    }
   },
   "outputs": [],
   "source": [
    "import sisl\n",
    "\n",
    "geom = sisl.geom.graphene(orthogonal=True)\n",
    "H = sisl.Hamiltonian(geom)\n",
    "H.construct(\n",
    "    [(0.1, 1.44), (0, -2.7)],\n",
    ")\n",
    "\n",
    "band_struct = sisl.BandStructure(H, [[0, 0, 0], [0.5, 0, 0]], 10, [\"Gamma\", \"X\"])"
   ]
  },
  {
   "cell_type": "markdown",
   "id": "df72db95",
   "metadata": {},
   "source": [
    "The final display in the visualization module is controlled by the `Figure` class."
   ]
  },
  {
   "cell_type": "code",
   "execution_count": 2,
   "id": "739c2e2f-ef7f-48dc-a757-10a92be82f4e",
   "metadata": {
    "execution": {
     "iopub.execute_input": "2025-10-08T12:09:19.420949Z",
     "iopub.status.busy": "2025-10-08T12:09:19.420627Z",
     "iopub.status.idle": "2025-10-08T12:09:20.061376Z",
     "shell.execute_reply": "2025-10-08T12:09:20.060771Z"
    }
   },
   "outputs": [],
   "source": [
    "from sisl.viz import Figure"
   ]
  },
  {
   "cell_type": "markdown",
   "id": "11089ee9-431f-484d-8b83-ceddd5b0b00d",
   "metadata": {},
   "source": [
    "And backends are stored in `sisl.viz.figure.BACKENDS`. It is just a dictionary containing extensions of the `Figure` class for particular plotting frameworks."
   ]
  },
  {
   "cell_type": "code",
   "execution_count": 3,
   "id": "c16cebe2-faec-491b-89b8-12ef74d6c504",
   "metadata": {
    "execution": {
     "iopub.execute_input": "2025-10-08T12:09:20.063336Z",
     "iopub.status.busy": "2025-10-08T12:09:20.063162Z",
     "iopub.status.idle": "2025-10-08T12:09:20.068940Z",
     "shell.execute_reply": "2025-10-08T12:09:20.068320Z"
    }
   },
   "outputs": [
    {
     "data": {
      "text/plain": [
       "{'plotly': sisl.viz.figure.plotly.PlotlyFigure,\n",
       " 'matplotlib': sisl.viz.figure.matplotlib.MatplotlibFigure,\n",
       " 'py3dmol': sisl.viz.figure.Py3DmolFigure,\n",
       " 'blender': sisl.viz.figure.BlenderFigure}"
      ]
     },
     "execution_count": 3,
     "metadata": {},
     "output_type": "execute_result"
    }
   ],
   "source": [
    "from sisl.viz.figure import BACKENDS\n",
    "\n",
    "BACKENDS"
   ]
  },
  {
   "cell_type": "markdown",
   "id": "fe8e1f24-a3f6-4b01-b980-7d4dce7cb74f",
   "metadata": {},
   "source": [
    "Therefore, to add a new backend we must follow two steps:\n",
    "1. **Subclass `Figure`**, adding backend specific functionality.\n",
    "2. **Register** the backend.\n",
    "\n",
    "The documentation of the `Figure` class explains what you should do to extend it:"
   ]
  },
  {
   "cell_type": "code",
   "execution_count": 4,
   "id": "ae3dcf66-fd10-47bb-a706-b24b4bb2ba40",
   "metadata": {
    "execution": {
     "iopub.execute_input": "2025-10-08T12:09:20.070684Z",
     "iopub.status.busy": "2025-10-08T12:09:20.070505Z",
     "iopub.status.idle": "2025-10-08T12:09:20.077872Z",
     "shell.execute_reply": "2025-10-08T12:09:20.077261Z"
    }
   },
   "outputs": [
    {
     "name": "stdout",
     "output_type": "stream",
     "text": [
      "Help on class Figure in module sisl.viz.figure.figure:\n",
      "\n",
      "class Figure(builtins.object)\n",
      " |  Figure(plot_actions, *args, **kwargs)\n",
      " |\n",
      " |  Base figure class that all backends should inherit from.\n",
      " |\n",
      " |  It contains all the plotting actions that should be supported by a figure.\n",
      " |\n",
      " |  A subclass for a specific backend should implement as many methods as possible\n",
      " |  from the ones where Figure returns NotImplementedError.\n",
      " |  Other methods are optional because Figure contains a default implementation\n",
      " |  using other methods, which should work for most backends.\n",
      " |\n",
      " |  To create a new backend, one might take the PlotlyFigure as a template.\n",
      " |\n",
      " |  Methods defined here:\n",
      " |\n",
      " |  __init__(self, plot_actions, *args, **kwargs)\n",
      " |      Initialize self.  See help(type(self)) for accurate signature.\n",
      " |\n",
      " |  clear(self)\n",
      " |      Clears the figure so that we can draw again.\n",
      " |\n",
      " |  draw_area_line(self, x, y, name=None, line={}, text=None, dependent_axis=None, row=None, col=None, **kwargs)\n",
      " |      Same as draw line, but to draw a line with an area. This is for example used to draw fatbands.\n",
      " |\n",
      " |      Parameters\n",
      " |      -----------\n",
      " |      x: array-like\n",
      " |          the coordinates of the points along the X axis.\n",
      " |      y: array-like\n",
      " |          the coordinates of the points along the Y axis.\n",
      " |      name: str, optional\n",
      " |          the name of the scatter\n",
      " |      line: dict, optional\n",
      " |          specifications for the line style, following plotly standards. The backend\n",
      " |          should at least be able to implement `line[\"color\"]` and `line[\"width\"]`, but\n",
      " |          it is very advisable that it supports also `line[\"opacity\"]`.\n",
      " |      text: str, optional\n",
      " |          contains the text asigned to each marker. On plotly this is seen on hover,\n",
      " |          other options could be annotating. However, it is not necessary that this\n",
      " |          argument is supported.\n",
      " |      dependent_axis: str, optional\n",
      " |          The axis that contains the dependent variable. This is important because\n",
      " |          the area is drawn in parallel to that axis.\n",
      " |      row: int, optional\n",
      " |          If the figure contains subplots, the row where to draw.\n",
      " |      col: int, optional\n",
      " |          If the figure contains subplots, the column where to draw.\n",
      " |      **kwargs:\n",
      " |          should allow other keyword arguments to be passed directly to the creation of\n",
      " |          the scatter. This will of course be framework specific\n",
      " |\n",
      " |  draw_arrows(self, x, y, dxy, arrowhead_scale=0.2, arrowhead_angle=20, scale: 'float' = 1, annotate: 'bool' = False, row=None, col=None, **kwargs)\n",
      " |      Draws multiple arrows using the generic draw_line method.\n",
      " |\n",
      " |      Parameters\n",
      " |      -----------\n",
      " |      xy: np.ndarray of shape (n_arrows, 2)\n",
      " |          the positions where the atoms start.\n",
      " |      dxy: np.ndarray of shape (n_arrows, 2)\n",
      " |          the arrow vector.\n",
      " |      arrow_head_scale: float, optional\n",
      " |          how big is the arrow head in comparison to the arrow vector.\n",
      " |      arrowhead_angle: angle\n",
      " |          the angle that the arrow head forms with the direction of the arrow (in degrees).\n",
      " |      scale: float, optional\n",
      " |          multiplying factor to display the arrows. It does not affect the underlying data,\n",
      " |          therefore if the data is somehow displayed it should be without the scale factor.\n",
      " |      annotate:\n",
      " |          whether to annotate the arrows with the vector they represent.\n",
      " |      row: int, optional\n",
      " |          If the figure contains subplots, the row where to draw.\n",
      " |      col: int, optional\n",
      " |          If the figure contains subplots, the column where to draw.\n",
      " |\n",
      " |  draw_arrows_3D(self, x, y, z, dxyz, arrowhead_scale=0.3, arrowhead_angle=15, scale: 'float' = 1, row=None, col=None, **kwargs)\n",
      " |      Draws multiple 3D arrows using the generic draw_line_3D method.\n",
      " |\n",
      " |      Parameters\n",
      " |      -----------\n",
      " |      x: np.ndarray of shape (n_arrows, )\n",
      " |          the X coordinates of the arrow's origin.\n",
      " |      y: np.ndarray of shape (n_arrows, )\n",
      " |          the Y coordinates of the arrow's origin.\n",
      " |      z: np.ndarray of shape (n_arrows, )\n",
      " |          the Z coordinates of the arrow's origin.\n",
      " |      dxyz: np.ndarray of shape (n_arrows, 2)\n",
      " |          the arrow vector.\n",
      " |      arrow_head_scale: float, optional\n",
      " |          how big is the arrow head in comparison to the arrow vector.\n",
      " |      arrowhead_angle: angle\n",
      " |          the angle that the arrow head forms with the direction of the arrow (in degrees).\n",
      " |      scale: float, optional\n",
      " |          multiplying factor to display the arrows. It does not affect the underlying data,\n",
      " |          therefore if the data is somehow displayed it should be without the scale factor.\n",
      " |      row: int, optional\n",
      " |          If the figure contains subplots, the row where to draw.\n",
      " |      col: int, optional\n",
      " |          If the figure contains subplots, the column where to draw.\n",
      " |\n",
      " |  draw_balls_3D(self, x, y, z, name=None, markers={}, row=None, col=None, **kwargs)\n",
      " |      Draws points as 3D spheres.\n",
      " |\n",
      " |  draw_heatmap(self, values, x=None, y=None, name=None, zsmooth=False, coloraxis=None, opacity=None, textformat=None, textfont={}, row=None, col=None, **kwargs)\n",
      " |      Draws a heatmap following the specifications.\n",
      " |\n",
      " |  draw_line(self, x, y, name=None, line={}, marker={}, text=None, row=None, col=None, **kwargs)\n",
      " |      Draws a line satisfying the specifications\n",
      " |\n",
      " |      Parameters\n",
      " |      -----------\n",
      " |      x: array-like\n",
      " |          the coordinates of the points along the X axis.\n",
      " |      y: array-like\n",
      " |          the coordinates of the points along the Y axis.\n",
      " |      name: str, optional\n",
      " |          the name of the line\n",
      " |      line: dict, optional\n",
      " |          specifications for the line style, following plotly standards. The backend\n",
      " |          should at least be able to implement `line[\"color\"]` and `line[\"width\"]`\n",
      " |      marker: dict, optional\n",
      " |          specifications for the markers style, following plotly standards. The backend\n",
      " |          should at least be able to implement `marker[\"color\"]` and `marker[\"size\"]`\n",
      " |      text: str, optional\n",
      " |          contains the text asigned to each marker. On plotly this is seen on hover,\n",
      " |          other options could be annotating. However, it is not necessary that this\n",
      " |          argument is supported.\n",
      " |      row: int, optional\n",
      " |          If the figure contains subplots, the row where to draw.\n",
      " |      col: int, optional\n",
      " |          If the figure contains subplots, the column where to draw.\n",
      " |      **kwargs:\n",
      " |          should allow other keyword arguments to be passed directly to the creation of\n",
      " |          the line. This will of course be framework specific\n",
      " |\n",
      " |  draw_line_3D(self, x, y, z, name=None, line={}, marker={}, text=None, row=None, col=None, **kwargs)\n",
      " |      Draws a 3D line satisfying the specifications.\n",
      " |\n",
      " |      Parameters\n",
      " |      -----------\n",
      " |      x: array-like\n",
      " |          the coordinates of the points along the X axis.\n",
      " |      y: array-like\n",
      " |          the coordinates of the points along the Y axis.\n",
      " |      z: array-like\n",
      " |          the coordinates of the points along the Z axis.\n",
      " |      name: str, optional\n",
      " |          the name of the line\n",
      " |      line: dict, optional\n",
      " |          specifications for the line style, following plotly standards. The backend\n",
      " |          should at least be able to implement `line[\"color\"]` and `line[\"width\"]`\n",
      " |      marker: dict, optional\n",
      " |          specifications for the markers style, following plotly standards. The backend\n",
      " |          should at least be able to implement `marker[\"color\"]` and `marker[\"size\"]`\n",
      " |      text: str, optional\n",
      " |          contains the text asigned to each marker. On plotly this is seen on hover,\n",
      " |          other options could be annotating. However, it is not necessary that this\n",
      " |          argument is supported.\n",
      " |      row: int, optional\n",
      " |          If the figure contains subplots, the row where to draw.\n",
      " |      col: int, optional\n",
      " |          If the figure contains subplots, the column where to draw.\n",
      " |      **kwargs:\n",
      " |          should allow other keyword arguments to be passed directly to the creation of\n",
      " |          the line. This will of course be framework specific\n",
      " |\n",
      " |  draw_mesh_3D(self, vertices, faces, color=None, opacity=None, name=None, row=None, col=None, **kwargs)\n",
      " |      Draws a 3D mesh following the specifications.\n",
      " |\n",
      " |  draw_multicolor_area_line(self, x, y, name=None, line={}, text=None, dependent_axis=None, row=None, col=None, **kwargs)\n",
      " |      Draw a line with an area with multiple colours.\n",
      " |\n",
      " |      Parameters\n",
      " |      -----------\n",
      " |      x: array-like\n",
      " |          the coordinates of the points along the X axis.\n",
      " |      y: array-like\n",
      " |          the coordinates of the points along the Y axis.\n",
      " |      name: str, optional\n",
      " |          the name of the scatter\n",
      " |      line: dict, optional\n",
      " |          specifications for the line style, following plotly standards. The backend\n",
      " |          should at least be able to implement `line[\"color\"]` and `line[\"width\"]`, but\n",
      " |          it is very advisable that it supports also `line[\"opacity\"]`.\n",
      " |      text: str, optional\n",
      " |          contains the text asigned to each marker. On plotly this is seen on hover,\n",
      " |          other options could be annotating. However, it is not necessary that this\n",
      " |          argument is supported.\n",
      " |      dependent_axis: str, optional\n",
      " |          The axis that contains the dependent variable. This is important because\n",
      " |          the area is drawn in parallel to that axis.\n",
      " |      row: int, optional\n",
      " |          If the figure contains subplots, the row where to draw.\n",
      " |      col: int, optional\n",
      " |          If the figure contains subplots, the column where to draw.\n",
      " |      **kwargs:\n",
      " |          should allow other keyword arguments to be passed directly to the creation of\n",
      " |          the scatter. This will of course be framework specific\n",
      " |\n",
      " |  draw_multicolor_balls_3D(self, x, y, z, name=None, marker={}, row=None, col=None, **kwargs)\n",
      " |      Draws points as 3D spheres with different colours.\n",
      " |\n",
      " |      If marker_color is an array of numbers, a coloraxis is created and values are converted to rgb.\n",
      " |\n",
      " |  draw_multicolor_line(self, *args, line={}, row=None, col=None, **kwargs)\n",
      " |      By default, multicoloured lines are drawn simply by drawing scatter points.\n",
      " |\n",
      " |  draw_multicolor_line_3D(self, *args, **kwargs)\n",
      " |      Draws a multicoloured 3D line.\n",
      " |\n",
      " |  draw_multicolor_scatter(self, *args, **kwargs)\n",
      " |      Draws a multicoloured scatter.\n",
      " |\n",
      " |      Usually the normal scatter can already support this.\n",
      " |\n",
      " |  draw_multicolor_scatter_3D(self, *args, **kwargs)\n",
      " |      Draws a multicoloured 3D scatter.\n",
      " |\n",
      " |      Usually the normal 3D scatter can already support this.\n",
      " |\n",
      " |  draw_multisize_area_line(self, x, y, name=None, line={}, text=None, dependent_axis=None, row=None, col=None, **kwargs)\n",
      " |      Draw a line with an area with multiple colours.\n",
      " |\n",
      " |      This is already usually supported by the normal draw_area_line.\n",
      " |\n",
      " |      Parameters\n",
      " |      -----------\n",
      " |      x: array-like\n",
      " |          the coordinates of the points along the X axis.\n",
      " |      y: array-like\n",
      " |          the coordinates of the points along the Y axis.\n",
      " |      name: str, optional\n",
      " |          the name of the scatter\n",
      " |      line: dict, optional\n",
      " |          specifications for the line style, following plotly standards. The backend\n",
      " |          should at least be able to implement `line[\"color\"]` and `line[\"width\"]`, but\n",
      " |          it is very advisable that it supports also `line[\"opacity\"]`.\n",
      " |      text: str, optional\n",
      " |          contains the text asigned to each marker. On plotly this is seen on hover,\n",
      " |          other options could be annotating. However, it is not necessary that this\n",
      " |          argument is supported.\n",
      " |      dependent_axis: str, optional\n",
      " |          The axis that contains the dependent variable. This is important because\n",
      " |          the area is drawn in parallel to that axis.\n",
      " |      row: int, optional\n",
      " |          If the figure contains subplots, the row where to draw.\n",
      " |      col: int, optional\n",
      " |          If the figure contains subplots, the column where to draw.\n",
      " |      **kwargs:\n",
      " |          should allow other keyword arguments to be passed directly to the creation of\n",
      " |          the scatter. This will of course be framework specific\n",
      " |\n",
      " |  draw_multisize_balls_3D(self, x, y, z, name=None, marker={}, row=None, col=None, **kwargs)\n",
      " |      Draws points as 3D spheres with different sizes.\n",
      " |\n",
      " |      Usually supported by the normal draw_balls_3D\n",
      " |\n",
      " |  draw_multisize_line(self, *args, line={}, row=None, col=None, **kwargs)\n",
      " |      By default, multisized lines are drawn simple by drawing scatter points.\n",
      " |\n",
      " |  draw_multisize_line_3D(self, *args, **kwargs)\n",
      " |      Draws a multisized 3D line.\n",
      " |\n",
      " |  draw_multisize_scatter(self, *args, **kwargs)\n",
      " |      Draws a multisized scatter.\n",
      " |\n",
      " |      Usually the normal scatter can already support this.\n",
      " |\n",
      " |  draw_multisize_scatter_3D(self, *args, **kwargs)\n",
      " |      Draws a multisized 3D scatter.\n",
      " |\n",
      " |      Usually the normal 3D scatter can already support this.\n",
      " |\n",
      " |  draw_scatter(self, x, y, name=None, marker={}, text=None, row=None, col=None, **kwargs)\n",
      " |      Draws a scatter satisfying the specifications\n",
      " |\n",
      " |      Parameters\n",
      " |      -----------\n",
      " |      x: array-like\n",
      " |          the coordinates of the points along the X axis.\n",
      " |      y: array-like\n",
      " |          the coordinates of the points along the Y axis.\n",
      " |      name: str, optional\n",
      " |          the name of the scatter\n",
      " |      marker: dict, optional\n",
      " |          specifications for the markers style, following plotly standards. The backend\n",
      " |          should at least be able to implement `marker[\"color\"]` and `marker[\"size\"]`, but\n",
      " |          it is very advisable that it supports also `marker[\"opacity\"]` and `marker[\"colorscale\"]`\n",
      " |      text: str, optional\n",
      " |          contains the text asigned to each marker. On plotly this is seen on hover,\n",
      " |          other options could be annotating. However, it is not necessary that this\n",
      " |          argument is supported.\n",
      " |      row: int, optional\n",
      " |          If the figure contains subplots, the row where to draw.\n",
      " |      col: int, optional\n",
      " |          If the figure contains subplots, the column where to draw.\n",
      " |      **kwargs:\n",
      " |          should allow other keyword arguments to be passed directly to the creation of\n",
      " |          the scatter. This will of course be framework specific\n",
      " |\n",
      " |  draw_scatter_3D(self, x, y, z, name=None, marker={}, text=None, row=None, col=None, **kwargs)\n",
      " |      Draws a 3D scatter satisfying the specifications\n",
      " |\n",
      " |      Parameters\n",
      " |      -----------\n",
      " |      x: array-like\n",
      " |          the coordinates of the points along the X axis.\n",
      " |      y: array-like\n",
      " |          the coordinates of the points along the Y axis.\n",
      " |      z: array-like\n",
      " |          the coordinates of the points along the Z axis.\n",
      " |      name: str, optional\n",
      " |          the name of the scatter\n",
      " |      marker: dict, optional\n",
      " |          specifications for the markers style, following plotly standards. The backend\n",
      " |          should at least be able to implement `marker[\"color\"]` and `marker[\"size\"]`\n",
      " |      text: str, optional\n",
      " |          contains the text asigned to each marker. On plotly this is seen on hover,\n",
      " |          other options could be annotating. However, it is not necessary that this\n",
      " |          argument is supported.\n",
      " |      row: int, optional\n",
      " |          If the figure contains subplots, the row where to draw.\n",
      " |      col: int, optional\n",
      " |          If the figure contains subplots, the column where to draw.\n",
      " |      **kwargs:\n",
      " |          should allow other keyword arguments to be passed directly to the creation of\n",
      " |          the scatter. This will of course be framework specific\n",
      " |\n",
      " |  init_3D(self)\n",
      " |      Called if functions that draw in 3D are going to be called.\n",
      " |\n",
      " |  init_coloraxis(self, name, cmin=None, cmax=None, cmid=None, colorscale=None, showscale=True, **kwargs)\n",
      " |      Initializes a color axis to be used by the drawing functions\n",
      " |\n",
      " |  init_figure(self, composite_method: \"Literal[None, 'same_axes', 'multiple', 'multiple_x', 'multiple_y', 'subplots', 'animation']\" = None, plot_actions=(), init_kwargs: 'dict[str, Any]' = {})\n",
      " |\n",
      " |  set_axes_equal(self)\n",
      " |      Sets the axes equal.\n",
      " |\n",
      " |  set_axis(self, **kwargs)\n",
      " |      Sets the axis parameters.\n",
      " |\n",
      " |      The specification for the axes is exactly the plotly one. This is to have a good\n",
      " |      reference for consistency. Other frameworks should translate the calls to their\n",
      " |      functionality.\n",
      " |\n",
      " |  show(self)\n",
      " |\n",
      " |  to(self, key: 'str')\n",
      " |      Converts the figure to another backend.\n",
      " |\n",
      " |      Parameters\n",
      " |      -----------\n",
      " |      key: str\n",
      " |          the backend to convert to.\n",
      " |\n",
      " |  ----------------------------------------------------------------------\n",
      " |  Class methods defined here:\n",
      " |\n",
      " |  fig_has_attr(key: 'str') -> 'bool'\n",
      " |      Whether the figure that this class generates has a given attribute.\n",
      " |\n",
      " |      Parameters\n",
      " |      -----------\n",
      " |      key\n",
      " |          the attribute to check for.\n",
      " |\n",
      " |  ----------------------------------------------------------------------\n",
      " |  Data descriptors defined here:\n",
      " |\n",
      " |  __dict__\n",
      " |      dictionary for instance variables\n",
      " |\n",
      " |  __weakref__\n",
      " |      list of weak references to the object\n",
      " |\n",
      " |  ----------------------------------------------------------------------\n",
      " |  Data and other attributes defined here:\n",
      " |\n",
      " |  __annotations__ = {'_coloraxes': 'dict', '_cols': 'Optional[int]', '_m...\n",
      " |\n",
      " |  plot_actions = []\n",
      "\n"
     ]
    }
   ],
   "source": [
    "help(Figure)"
   ]
  },
  {
   "cell_type": "markdown",
   "id": "33aabd81-749e-468f-9f3b-fd19cf8704aa",
   "metadata": {},
   "source": [
    "Therefore, we need to implement some of the methods of the `Figure` class. The more we implement, the more we will support `sisl.viz`.\n",
    "\n",
    "Here's an example of a very simple backend that just writes text:"
   ]
  },
  {
   "cell_type": "code",
   "execution_count": 5,
   "id": "b61046a2-d4a9-4e49-b1a7-3fbf11d2eee7",
   "metadata": {
    "execution": {
     "iopub.execute_input": "2025-10-08T12:09:20.079543Z",
     "iopub.status.busy": "2025-10-08T12:09:20.079371Z",
     "iopub.status.idle": "2025-10-08T12:09:20.083210Z",
     "shell.execute_reply": "2025-10-08T12:09:20.082737Z"
    }
   },
   "outputs": [],
   "source": [
    "import numpy as np\n",
    "\n",
    "\n",
    "class TextFigure(Figure):\n",
    "    def _init_figure(self, *args, **kwargs):\n",
    "        self.text = \"\"\n",
    "\n",
    "    def clear(self):\n",
    "        self.text = \"\"\n",
    "\n",
    "    def draw_line(self, x, y, name, **kwargs):\n",
    "        self.text += f\"\\nLINE: {name}\\n{np.array(x)}\\n{np.array(y)}\"\n",
    "\n",
    "    def draw_scatter(self, x, y, name, **kwargs):\n",
    "        self.text += f\"\\nSCATTER: {name}\\n{np.array(x)}\\n{np.array(y)}\"\n",
    "\n",
    "    def show(self):\n",
    "        print(self.text)\n",
    "\n",
    "    def _ipython_display_(self):\n",
    "        self.show()"
   ]
  },
  {
   "cell_type": "markdown",
   "id": "946c792e-5152-4d09-a5eb-2ff5d1f2e422",
   "metadata": {},
   "source": [
    "And all that is left now is to register the backend by simply adding it to the `BACKENDS` dictionary."
   ]
  },
  {
   "cell_type": "code",
   "execution_count": 6,
   "id": "d1986892-98c0-4b9c-b8fe-735f00de30c2",
   "metadata": {
    "execution": {
     "iopub.execute_input": "2025-10-08T12:09:20.084747Z",
     "iopub.status.busy": "2025-10-08T12:09:20.084570Z",
     "iopub.status.idle": "2025-10-08T12:09:20.087243Z",
     "shell.execute_reply": "2025-10-08T12:09:20.086644Z"
    }
   },
   "outputs": [],
   "source": [
    "BACKENDS[\"text\"] = TextFigure"
   ]
  },
  {
   "cell_type": "markdown",
   "id": "5a7054c9-06ba-467a-9b40-f83a3612160d",
   "metadata": {},
   "source": [
    "Let's plot the bands to check that it works."
   ]
  },
  {
   "cell_type": "code",
   "execution_count": 7,
   "id": "0af709ce-2b96-4a45-8264-7dcc87968b26",
   "metadata": {
    "execution": {
     "iopub.execute_input": "2025-10-08T12:09:20.088802Z",
     "iopub.status.busy": "2025-10-08T12:09:20.088626Z",
     "iopub.status.idle": "2025-10-08T12:09:20.465515Z",
     "shell.execute_reply": "2025-10-08T12:09:20.464895Z"
    }
   },
   "outputs": [
    {
     "data": {
      "text/html": [
       "        <script type=\"text/javascript\">\n",
       "        window.PlotlyConfig = {MathJaxConfig: 'local'};\n",
       "        if (window.MathJax && window.MathJax.Hub && window.MathJax.Hub.Config) {window.MathJax.Hub.Config({SVG: {font: \"STIX-Web\"}});}\n",
       "        </script>\n",
       "        <script type=\"module\">import \"https://cdn.plot.ly/plotly-3.1.1.min\"</script>\n",
       "        "
      ]
     },
     "metadata": {},
     "output_type": "display_data"
    },
    {
     "data": {
      "text/html": [
       "<div>            <script src=\"https://cdnjs.cloudflare.com/ajax/libs/mathjax/2.7.5/MathJax.js?config=TeX-AMS-MML_SVG\"></script><script type=\"text/javascript\">if (window.MathJax && window.MathJax.Hub && window.MathJax.Hub.Config) {window.MathJax.Hub.Config({SVG: {font: \"STIX-Web\"}});}</script>                <script type=\"text/javascript\">window.PlotlyConfig = {MathJaxConfig: 'local'};</script>\n",
       "        <script charset=\"utf-8\" src=\"https://cdn.plot.ly/plotly-3.1.1.min.js\" integrity=\"sha256-HUEFyfiTnZJxCxur99FjbKYTvKSzwDaD3/x5TqHpFu4=\" crossorigin=\"anonymous\"></script>                <div id=\"5e0b511d-7f8c-41e6-854a-5dd8afe88b31\" class=\"plotly-graph-div\" style=\"height:525px; width:100%;\"></div>            <script type=\"text/javascript\">                window.PLOTLYENV=window.PLOTLYENV || {};                                if (document.getElementById(\"5e0b511d-7f8c-41e6-854a-5dd8afe88b31\")) {                    Plotly.newPlot(                        \"5e0b511d-7f8c-41e6-854a-5dd8afe88b31\",                        [{\"legendgroup\":\"Bands\",\"line\":{\"color\":\"black\",\"dash\":\"solid\",\"width\":1},\"meta\":{},\"mode\":\"lines\",\"name\":\"Bands\",\"opacity\":1,\"x\":{\"dtype\":\"f8\",\"bdata\":\"AAAAAAAAAAAt1InKCvq0Py3UicoK+sQ\\u002fRL7OLxB3zz8t1InKCvrUPzlJLH2NONo\\u002fRL7OLxB33z+omThxyVriPy3UicoK+uQ\\u002fsw7bI0yZ5z8=\"},\"y\":{\"dtype\":\"f8\",\"bdata\":\"KTMzMzMzIMB1sQ3ULCUgwNw91oZ89h\\u002fA1DIfGKtrH8DUHJz1VqsewAhr2BiMtx3AXzZDJfmSHMDwcUMC\\u002fUAbwNtL4eK8xRnAqPDZ3kcmGMA=\"},\"type\":\"scatter\"},{\"legendgroup\":\"Bands\",\"line\":{\"color\":\"black\",\"dash\":\"solid\",\"width\":1},\"meta\":{},\"mode\":\"lines\",\"name\":\"Bands\",\"opacity\":1,\"showlegend\":false,\"x\":{\"dtype\":\"f8\",\"bdata\":\"AAAAAAAAAAAt1InKCvq0Py3UicoK+sQ\\u002fRL7OLxB3zz8t1InKCvrUPzlJLH2NONo\\u002fRL7OLxB33z+omThxyVriPy3UicoK+uQ\\u002fsw7bI0yZ5z8=\"},\"y\":{\"dtype\":\"f8\",\"bdata\":\"lJmZmZmZBcA46a7lIj8GwJiHZM6NEAjAmEJ3rejECsA4WvpPiw0OwFjhxlbg1BDAgwCiKca0EsAaPCNCC5UUwEXt7qDQaBbAqPDZ3kcmGMA=\"},\"type\":\"scatter\"},{\"legendgroup\":\"Bands\",\"line\":{\"color\":\"black\",\"dash\":\"solid\",\"width\":1},\"meta\":{},\"mode\":\"lines\",\"name\":\"Bands\",\"opacity\":1,\"showlegend\":false,\"x\":{\"dtype\":\"f8\",\"bdata\":\"AAAAAAAAAAAt1InKCvq0Py3UicoK+sQ\\u002fRL7OLxB3zz8t1InKCvrUPzlJLH2NONo\\u002fRL7OLxB33z+omThxyVriPy3UicoK+uQ\\u002fsw7bI0yZ5z8=\"},\"y\":{\"dtype\":\"f8\",\"bdata\":\"tJmZmZmZBUBg6a7lIj8GQL6HZM6NEAhAskJ3rejECkBQWvpPiw0OQGThxlbg1BBAlACiKca0EkAjPCNCC5UUQEjt7qDQaBZAsPDZ3kcmGEA=\"},\"type\":\"scatter\"},{\"legendgroup\":\"Bands\",\"line\":{\"color\":\"black\",\"dash\":\"solid\",\"width\":1},\"meta\":{},\"mode\":\"lines\",\"name\":\"Bands\",\"opacity\":1,\"showlegend\":false,\"x\":{\"dtype\":\"f8\",\"bdata\":\"AAAAAAAAAAAt1InKCvq0Py3UicoK+sQ\\u002fRL7OLxB3zz8t1InKCvrUPzlJLH2NONo\\u002fRL7OLxB33z+omThxyVriPy3UicoK+uQ\\u002fsw7bI0yZ5z8=\"},\"y\":{\"dtype\":\"f8\",\"bdata\":\"NDMzMzMzIEB\\u002fsQ3ULCUgQPI91oZ89h9A7DIfGKtrH0DmHJz1VqseQBlr2BiMtx1AbzZDJfmSHED9cUMC\\u002fUAbQOJL4eK8xRlAsPDZ3kcmGEA=\"},\"type\":\"scatter\"}],                        {\"template\":{\"layout\":{\"hovermode\":\"closest\",\"paper_bgcolor\":\"white\",\"plot_bgcolor\":\"white\",\"scene\":{\"xaxis\":{\"color\":\"black\",\"gridcolor\":\"#ccc\",\"gridwidth\":1,\"linewidth\":1,\"mirror\":true,\"showgrid\":false,\"showline\":true,\"ticklen\":5,\"ticks\":\"outside\",\"ticksuffix\":\" \",\"visible\":true,\"zeroline\":false,\"zerolinecolor\":\"#ccc\",\"zerolinewidth\":1},\"yaxis\":{\"color\":\"black\",\"gridcolor\":\"#ccc\",\"gridwidth\":1,\"linewidth\":1,\"mirror\":true,\"showgrid\":false,\"showline\":true,\"ticklen\":5,\"ticks\":\"outside\",\"ticksuffix\":\" \",\"visible\":true,\"zeroline\":false,\"zerolinecolor\":\"#ccc\",\"zerolinewidth\":1},\"zaxis\":{\"color\":\"black\",\"gridcolor\":\"#ccc\",\"gridwidth\":1,\"linewidth\":1,\"mirror\":true,\"showgrid\":false,\"showline\":true,\"ticklen\":5,\"ticks\":\"outside\",\"ticksuffix\":\" \",\"visible\":true,\"zeroline\":false,\"zerolinecolor\":\"#ccc\",\"zerolinewidth\":1}},\"xaxis\":{\"color\":\"black\",\"gridcolor\":\"#ccc\",\"gridwidth\":1,\"linewidth\":1,\"mirror\":true,\"showgrid\":false,\"showline\":true,\"ticklen\":5,\"ticks\":\"outside\",\"ticksuffix\":\" \",\"visible\":true,\"zeroline\":false,\"zerolinecolor\":\"#ccc\",\"zerolinewidth\":1},\"yaxis\":{\"color\":\"black\",\"gridcolor\":\"#ccc\",\"gridwidth\":1,\"linewidth\":1,\"mirror\":true,\"showgrid\":false,\"showline\":true,\"ticklen\":5,\"ticks\":\"outside\",\"ticksuffix\":\" \",\"visible\":true,\"zeroline\":false,\"zerolinecolor\":\"#ccc\",\"zerolinewidth\":1}}},\"scene\":{\"xaxis\":{\"title\":{\"text\":\"k [1\\u002fAng]\"},\"range\":[0.0,0.7374630642229562],\"showgrid\":true,\"tickvals\":{\"dtype\":\"f8\",\"bdata\":\"AAAAAAAAAACzDtsjTJnnPw==\"},\"ticktext\":[\"Gamma\",\"X\"]},\"yaxis\":{\"title\":{\"text\":\"E [eV]\"},\"range\":[-8.099999999999982,8.100000000000001]}},\"xaxis\":{\"title\":{\"text\":\"k [1\\u002fAng]\"},\"range\":[0.0,0.7374630642229562],\"showgrid\":true,\"tickvals\":{\"dtype\":\"f8\",\"bdata\":\"AAAAAAAAAACzDtsjTJnnPw==\"},\"ticktext\":[\"Gamma\",\"X\"]},\"yaxis\":{\"title\":{\"text\":\"E [eV]\"},\"range\":[-8.099999999999982,8.100000000000001]}},                        {\"responsive\": true}                    ).then(function(){\n",
       "                            \n",
       "var gd = document.getElementById('5e0b511d-7f8c-41e6-854a-5dd8afe88b31');\n",
       "var x = new MutationObserver(function (mutations, observer) {{\n",
       "        var display = window.getComputedStyle(gd).display;\n",
       "        if (!display || display === 'none') {{\n",
       "            console.log([gd, 'removed!']);\n",
       "            Plotly.purge(gd);\n",
       "            observer.disconnect();\n",
       "        }}\n",
       "}});\n",
       "\n",
       "// Listen for the removal of the full notebook cells\n",
       "var notebookContainer = gd.closest('#notebook-container');\n",
       "if (notebookContainer) {{\n",
       "    x.observe(notebookContainer, {childList: true});\n",
       "}}\n",
       "\n",
       "// Listen for the clearing of the current output cell\n",
       "var outputEl = gd.closest('.output');\n",
       "if (outputEl) {{\n",
       "    x.observe(outputEl, {childList: true});\n",
       "}}\n",
       "\n",
       "                        })                };            </script>        </div>"
      ]
     },
     "metadata": {},
     "output_type": "display_data"
    }
   ],
   "source": [
    "plot = band_struct.plot()\n",
    "plot"
   ]
  },
  {
   "cell_type": "markdown",
   "id": "c9ffe0d9-6ee8-4a61-996d-f30bd2ef2391",
   "metadata": {},
   "source": [
    "The default backend has been used, let's now change it to our new `\"text\"` backend."
   ]
  },
  {
   "cell_type": "code",
   "execution_count": 8,
   "id": "df588bab-8bd0-4dd0-b7e8-9c354dcb4b65",
   "metadata": {
    "execution": {
     "iopub.execute_input": "2025-10-08T12:09:20.467525Z",
     "iopub.status.busy": "2025-10-08T12:09:20.467318Z",
     "iopub.status.idle": "2025-10-08T12:09:20.544440Z",
     "shell.execute_reply": "2025-10-08T12:09:20.543980Z"
    }
   },
   "outputs": [
    {
     "name": "stderr",
     "output_type": "stream",
     "text": [
      "INFO\tTask(Task-2) nodify.node.140405134137088:node.py:get()- Evaluated because inputs changed.\n"
     ]
    },
    {
     "name": "stderr",
     "output_type": "stream",
     "text": [
      "INFO\tTask(Task-2) nodify.node.140405135842608:node.py:get()- No need to evaluate\n"
     ]
    },
    {
     "name": "stderr",
     "output_type": "stream",
     "text": [
      "INFO\tTask(Task-2) nodify.node.140405134045360:node.py:get()- No need to evaluate\n"
     ]
    },
    {
     "name": "stderr",
     "output_type": "stream",
     "text": [
      "INFO\tTask(Task-2) nodify.node.140405135843328:node.py:get()- No need to evaluate\n"
     ]
    },
    {
     "name": "stderr",
     "output_type": "stream",
     "text": [
      "INFO\tTask(Task-2) nodify.node.140405135842944:node.py:get()- No need to evaluate\n"
     ]
    },
    {
     "name": "stderr",
     "output_type": "stream",
     "text": [
      "INFO\tTask(Task-2) nodify.node.140405134044688:node.py:get()- No need to evaluate\n"
     ]
    },
    {
     "name": "stderr",
     "output_type": "stream",
     "text": [
      "INFO\tTask(Task-2) nodify.node.140405134039168:node.py:get()- No need to evaluate\n"
     ]
    },
    {
     "name": "stderr",
     "output_type": "stream",
     "text": [
      "INFO\tTask(Task-2) nodify.node.140405134138528:node.py:get()- No need to evaluate\n"
     ]
    },
    {
     "name": "stderr",
     "output_type": "stream",
     "text": [
      "INFO\tTask(Task-2) nodify.node.140405134043920:node.py:get()- No need to evaluate\n"
     ]
    },
    {
     "name": "stderr",
     "output_type": "stream",
     "text": [
      "INFO\tTask(Task-2) nodify.node.140405134048768:node.py:get()- No need to evaluate\n"
     ]
    },
    {
     "name": "stderr",
     "output_type": "stream",
     "text": [
      "INFO\tTask(Task-2) nodify.node.140405134136752:node.py:get()- No need to evaluate\n"
     ]
    },
    {
     "name": "stderr",
     "output_type": "stream",
     "text": [
      "INFO\tTask(Task-2) nodify.node.140405134133152:node.py:get()- No need to evaluate\n"
     ]
    },
    {
     "name": "stderr",
     "output_type": "stream",
     "text": [
      "INFO\tTask(Task-2) nodify.node.140405137354304:node.py:get()- No need to evaluate\n"
     ]
    },
    {
     "name": "stderr",
     "output_type": "stream",
     "text": [
      "INFO\tTask(Task-2) nodify.node.140405134139392:node.py:get()- No need to evaluate\n"
     ]
    },
    {
     "name": "stderr",
     "output_type": "stream",
     "text": [
      "INFO\tTask(Task-2) nodify.node.140405134034944:node.py:get()- No need to evaluate\n"
     ]
    },
    {
     "name": "stderr",
     "output_type": "stream",
     "text": [
      "INFO\tTask(Task-2) nodify.node.140405137354304:node.py:get()- No need to evaluate\n"
     ]
    },
    {
     "name": "stderr",
     "output_type": "stream",
     "text": [
      "INFO\tTask(Task-2) nodify.node.140405134139824:node.py:get()- No need to evaluate\n"
     ]
    },
    {
     "name": "stderr",
     "output_type": "stream",
     "text": [
      "INFO\tTask(Task-2) nodify.node.140405134139200:node.py:get()- No need to evaluate\n"
     ]
    },
    {
     "name": "stderr",
     "output_type": "stream",
     "text": [
      "INFO\tTask(Task-2) nodify.node.140405134046512:node.py:get()- No need to evaluate\n"
     ]
    },
    {
     "name": "stderr",
     "output_type": "stream",
     "text": [
      "INFO\tTask(Task-2) nodify.node.140405134135792:node.py:get()- No need to evaluate\n"
     ]
    },
    {
     "name": "stderr",
     "output_type": "stream",
     "text": [
      "INFO\tTask(Task-2) nodify.node.140405137354304:node.py:get()- No need to evaluate\n"
     ]
    },
    {
     "name": "stderr",
     "output_type": "stream",
     "text": [
      "INFO\tTask(Task-2) nodify.node.140405134139008:node.py:get()- No need to evaluate\n"
     ]
    },
    {
     "name": "stderr",
     "output_type": "stream",
     "text": [
      "INFO\tTask(Task-2) nodify.node.140405134136752:node.py:get()- No need to evaluate\n"
     ]
    },
    {
     "name": "stderr",
     "output_type": "stream",
     "text": [
      "INFO\tTask(Task-2) nodify.node.140405134140496:node.py:get()- No need to evaluate\n"
     ]
    },
    {
     "name": "stderr",
     "output_type": "stream",
     "text": [
      "INFO\tTask(Task-2) nodify.node.140405135842608:node.py:get()- No need to evaluate\n"
     ]
    },
    {
     "name": "stderr",
     "output_type": "stream",
     "text": [
      "INFO\tTask(Task-2) nodify.node.140405134045360:node.py:get()- No need to evaluate\n"
     ]
    },
    {
     "name": "stderr",
     "output_type": "stream",
     "text": [
      "INFO\tTask(Task-2) nodify.node.140405134035184:node.py:get()- No need to evaluate\n"
     ]
    },
    {
     "name": "stderr",
     "output_type": "stream",
     "text": [
      "INFO\tTask(Task-2) nodify.node.140405135842608:node.py:get()- No need to evaluate\n"
     ]
    },
    {
     "name": "stderr",
     "output_type": "stream",
     "text": [
      "INFO\tTask(Task-2) nodify.node.140405134045360:node.py:get()- No need to evaluate\n"
     ]
    },
    {
     "name": "stderr",
     "output_type": "stream",
     "text": [
      "INFO\tTask(Task-2) nodify.node.140405135843328:node.py:get()- No need to evaluate\n"
     ]
    },
    {
     "name": "stderr",
     "output_type": "stream",
     "text": [
      "INFO\tTask(Task-2) nodify.node.140405135842944:node.py:get()- No need to evaluate\n"
     ]
    },
    {
     "name": "stderr",
     "output_type": "stream",
     "text": [
      "INFO\tTask(Task-2) nodify.node.140405134044688:node.py:get()- No need to evaluate\n"
     ]
    },
    {
     "name": "stderr",
     "output_type": "stream",
     "text": [
      "INFO\tTask(Task-2) nodify.node.140405134039168:node.py:get()- No need to evaluate\n"
     ]
    },
    {
     "name": "stderr",
     "output_type": "stream",
     "text": [
      "INFO\tTask(Task-2) nodify.node.140405134138528:node.py:get()- No need to evaluate\n"
     ]
    },
    {
     "name": "stderr",
     "output_type": "stream",
     "text": [
      "INFO\tTask(Task-2) nodify.node.140405135841648:node.py:get()- No need to evaluate\n"
     ]
    },
    {
     "name": "stderr",
     "output_type": "stream",
     "text": [
      "INFO\tTask(Task-2) nodify.node.140405134046944:node.py:get()- No need to evaluate\n"
     ]
    },
    {
     "name": "stderr",
     "output_type": "stream",
     "text": [
      "INFO\tTask(Task-2) nodify.node.140405134036768:node.py:get()- No need to evaluate\n"
     ]
    },
    {
     "name": "stderr",
     "output_type": "stream",
     "text": [
      "INFO\tTask(Task-2) nodify.node.140405134134976:node.py:get()- No need to evaluate\n"
     ]
    },
    {
     "name": "stderr",
     "output_type": "stream",
     "text": [
      "INFO\tTask(Task-2) nodify.node.140405134134064:node.py:get()- No need to evaluate\n"
     ]
    },
    {
     "name": "stderr",
     "output_type": "stream",
     "text": [
      "INFO\tTask(Task-2) nodify.node.140405134132384:node.py:get()- No need to evaluate\n"
     ]
    },
    {
     "name": "stderr",
     "output_type": "stream",
     "text": [
      "INFO\tTask(Task-2) nodify.node.140405137354304:node.py:get()- No need to evaluate\n"
     ]
    },
    {
     "name": "stderr",
     "output_type": "stream",
     "text": [
      "INFO\tTask(Task-2) nodify.node.140405134141168:node.py:get()- No need to evaluate\n"
     ]
    },
    {
     "name": "stderr",
     "output_type": "stream",
     "text": [
      "INFO\tTask(Task-2) nodify.node.140405134140832:node.py:get()- No need to evaluate\n"
     ]
    },
    {
     "name": "stderr",
     "output_type": "stream",
     "text": [
      "INFO\tTask(Task-2) nodify.node.140405134132336:node.py:get()- Evaluated because inputs changed.\n"
     ]
    },
    {
     "name": "stderr",
     "output_type": "stream",
     "text": [
      "INFO\tTask(Task-2) nodify.node.140405134141888:node.py:get()- Evaluated because inputs changed.\n"
     ]
    },
    {
     "name": "stdout",
     "output_type": "stream",
     "text": [
      "\n",
      "LINE: Bands\n",
      "[0.         0.08194034 0.16388068 0.24582102 0.32776136 0.4097017\n",
      " 0.49164204 0.57358238 0.65552272 0.73746306]\n",
      "[-8.1        -8.07260764 -7.99070941 -7.85514486 -7.66732391 -7.42924537\n",
      " -7.14352854 -6.81346515 -6.44310336 -6.03738354]\n",
      "LINE: Bands\n",
      "[0.         0.08194034 0.16388068 0.24582102 0.32776136 0.4097017\n",
      " 0.49164204 0.57358238 0.65552272 0.73746306]\n",
      "[-2.7        -2.78082828 -3.00808297 -3.34614692 -3.75661337 -4.20788704\n",
      " -4.67653718 -5.14555076 -5.60235836 -6.03738354]\n",
      "LINE: Bands\n",
      "[0.         0.08194034 0.16388068 0.24582102 0.32776136 0.4097017\n",
      " 0.49164204 0.57358238 0.65552272 0.73746306]\n",
      "[2.7        2.78082828 3.00808297 3.34614692 3.75661337 4.20788704\n",
      " 4.67653718 5.14555076 5.60235836 6.03738354]\n",
      "LINE: Bands\n",
      "[0.         0.08194034 0.16388068 0.24582102 0.32776136 0.4097017\n",
      " 0.49164204 0.57358238 0.65552272 0.73746306]\n",
      "[8.1        8.07260764 7.99070941 7.85514486 7.66732391 7.42924537\n",
      " 7.14352854 6.81346515 6.44310336 6.03738354]\n"
     ]
    }
   ],
   "source": [
    "plot.update_inputs(backend=\"text\")"
   ]
  },
  {
   "cell_type": "markdown",
   "id": "0f2397d3",
   "metadata": {},
   "source": [
    "Not a very visually appealing backend, but it serves the purpose of demonstrating how it is done. Now it is your turn!\n",
    "\n",
    "<div class=\"alert alert-info\">\n",
    "    \n",
    "Note\n",
    "    \n",
    "For a complex framework you might take inspiration from the already implemented backends in `sisl.viz.figure.*`.\n",
    "    \n",
    "</div>"
   ]
  },
  {
   "cell_type": "code",
   "execution_count": null,
   "id": "543c11eb-c0ed-43bf-88bb-df1b7d7e982d",
   "metadata": {},
   "outputs": [],
   "source": []
  }
 ],
 "metadata": {
  "kernelspec": {
   "display_name": "Python 3 (ipykernel)",
   "language": "python",
   "name": "python3"
  },
  "language_info": {
   "codemirror_mode": {
    "name": "ipython",
    "version": 3
   },
   "file_extension": ".py",
   "mimetype": "text/x-python",
   "name": "python",
   "nbconvert_exporter": "python",
   "pygments_lexer": "ipython3",
   "version": "3.12.11"
  }
 },
 "nbformat": 4,
 "nbformat_minor": 5
}
