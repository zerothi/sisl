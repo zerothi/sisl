{
 "cells": [
  {
   "cell_type": "markdown",
   "id": "f9b46d2f-1ea1-4308-b4dc-1f3dd818fda9",
   "metadata": {},
   "source": [
    "# Creating common geometries\n",
    "## Importing sisl\n",
    "\n",
    "Import the `sisl` package and start working with it.  \n",
    "To ensure there is no clashes with other packages we encourage users to stick with the same short-hand name. The `sisl`-developers recommends using `si`. In all of `sisl` documentation it is assumed that `si` refers to `sisl`.\n",
    "\n",
    "An important aspect of `sisl` is the units used:\n",
    "\n",
    "- Ångstrøm [Ang]\n",
    "- Electron volt [eV]"
   ]
  },
  {
   "cell_type": "code",
   "execution_count": 1,
   "id": "a9f8c081-1548-4247-83d9-82d01f355808",
   "metadata": {
    "execution": {
     "iopub.execute_input": "2025-10-08T12:07:11.277559Z",
     "iopub.status.busy": "2025-10-08T12:07:11.277303Z",
     "iopub.status.idle": "2025-10-08T12:07:12.154395Z",
     "shell.execute_reply": "2025-10-08T12:07:12.153852Z"
    }
   },
   "outputs": [],
   "source": [
    "import sisl as si\n",
    "import numpy as np"
   ]
  },
  {
   "cell_type": "markdown",
   "id": "1cb92c41-a795-4cf6-93b3-f9e7431a944e",
   "metadata": {},
   "source": [
    "## Creating a geometry\n",
    "\n",
    "`sisl` provides a broad set of methods to create [default geometries](../../api/geom/building.rst). There are `fcc`, `bcc`, `sc`, `graphene` and many other default geometries available.  \n",
    "The default geometry creations are found in the [sisl.geom](../../api/geom/building.rst) module, (for additional details check out ``help(si.geom)``).\n",
    "\n",
    "------\n",
    "\n",
    "Our focus here will be to create an FCC lattice of iron."
   ]
  },
  {
   "cell_type": "code",
   "execution_count": 2,
   "id": "00a3fd65-a0a1-407f-8a69-50a3f53b38b2",
   "metadata": {
    "execution": {
     "iopub.execute_input": "2025-10-08T12:07:12.156456Z",
     "iopub.status.busy": "2025-10-08T12:07:12.156167Z",
     "iopub.status.idle": "2025-10-08T12:07:12.166295Z",
     "shell.execute_reply": "2025-10-08T12:07:12.165839Z"
    }
   },
   "outputs": [],
   "source": [
    "iron = si.geom.fcc(2.4, si.Atom(\"Fe\"))"
   ]
  },
  {
   "cell_type": "markdown",
   "id": "f582b010-df90-45b4-a765-65ed0ad11c9c",
   "metadata": {},
   "source": [
    "There is lots of information one can retrieve from the geometry, such as:\n",
    "\n",
    "- lattice vectors\n",
    "- number of atoms and orbitals\n",
    "- atomic species\n",
    "\n",
    "Try and extract the above information:"
   ]
  },
  {
   "cell_type": "code",
   "execution_count": 3,
   "id": "de0dd680-8c54-4b54-85ce-a9e638a9fc4c",
   "metadata": {
    "execution": {
     "iopub.execute_input": "2025-10-08T12:07:12.167959Z",
     "iopub.status.busy": "2025-10-08T12:07:12.167703Z",
     "iopub.status.idle": "2025-10-08T12:07:12.172055Z",
     "shell.execute_reply": "2025-10-08T12:07:12.171544Z"
    }
   },
   "outputs": [
    {
     "name": "stdout",
     "output_type": "stream",
     "text": [
      "All lattice vectors:\n",
      "[[0.  1.2 1.2]\n",
      " [1.2 0.  1.2]\n",
      " [1.2 1.2 0. ]]\n",
      "lattice vector c = [1.2 1.2 0. ]\n",
      "iron has 1 atoms and 1 orbitals\n",
      "iron's only atom has the atomic number 26\n"
     ]
    }
   ],
   "source": [
    "print(\"All lattice vectors:\")\n",
    "print(iron.lattice.cell)\n",
    "c = iron.lattice.cell[2]\n",
    "print(f\"lattice vector c = {c}\")\n",
    "print(f\"iron has {iron.na} atoms and {iron.no} orbitals\")\n",
    "print(f\"iron's only atom has the atomic number {iron.atoms[0].Z}\")"
   ]
  },
  {
   "cell_type": "markdown",
   "id": "97dd3c7a-fdc2-4098-8200-b4a0f3ccb063",
   "metadata": {},
   "source": [
    "Let us print out the geometry and see for additional information:"
   ]
  },
  {
   "cell_type": "code",
   "execution_count": 4,
   "id": "db3f3e59-bbed-4004-8d7f-b8f71b136dbd",
   "metadata": {
    "execution": {
     "iopub.execute_input": "2025-10-08T12:07:12.173592Z",
     "iopub.status.busy": "2025-10-08T12:07:12.173414Z",
     "iopub.status.idle": "2025-10-08T12:07:12.176648Z",
     "shell.execute_reply": "2025-10-08T12:07:12.176076Z"
    }
   },
   "outputs": [
    {
     "name": "stdout",
     "output_type": "stream",
     "text": [
      "Geometry{na: 1, no: 1,\n",
      " Atoms{species: 1,\n",
      "  Atom{Fe, Z: 26, mass(au): 55.84500, maxR: -1.00000,\n",
      "   Orbital{R: -1.00000, q0: 0.0}\n",
      "  }: 1,\n",
      " },\n",
      " maxR: -1.00000,\n",
      " Lattice{nsc: [3 3 3],\n",
      "  origin=[0.0000, 0.0000, 0.0000],\n",
      "  A=[0.0000, 1.2000, 1.2000],\n",
      "  B=[1.2000, 0.0000, 1.2000],\n",
      "  C=[1.2000, 1.2000, 0.0000],\n",
      "  bc=[Periodic,\n",
      "      Periodic,\n",
      "      Periodic]\n",
      " }\n",
      "}\n"
     ]
    }
   ],
   "source": [
    "print(iron)"
   ]
  },
  {
   "cell_type": "markdown",
   "id": "65e15a95-ea3d-4a6f-bce6-539b1f660a7d",
   "metadata": {},
   "source": [
    "This shows a greater detail of the geometry.\n",
    "- it shows there is 1 atom (`na: 1`), and 1 orbital (`no: 1`)\n",
    "- a complete list of atoms (`Atoms{...}`), their atomic number, mass and associated orbitals\n",
    "- the associated `Lattice` object describes the lattice vectors, and which lattice vectors uses periodicity\n",
    "\n",
    "----\n",
    "\n",
    "The geometry also has associated coordinates of the atomic structure, these can be accessed through the `.xyz` attribute:"
   ]
  },
  {
   "cell_type": "code",
   "execution_count": 5,
   "id": "cde448b3-e410-4a75-b223-6a3a1e3d04f9",
   "metadata": {
    "execution": {
     "iopub.execute_input": "2025-10-08T12:07:12.178386Z",
     "iopub.status.busy": "2025-10-08T12:07:12.178220Z",
     "iopub.status.idle": "2025-10-08T12:07:12.183557Z",
     "shell.execute_reply": "2025-10-08T12:07:12.183113Z"
    }
   },
   "outputs": [
    {
     "data": {
      "text/plain": [
       "array([[0., 0., 0.]])"
      ]
     },
     "execution_count": 5,
     "metadata": {},
     "output_type": "execute_result"
    }
   ],
   "source": [
    "iron.xyz"
   ]
  },
  {
   "cell_type": "markdown",
   "id": "e8e31626-67f7-4f70-a2a4-1668bc1a3114",
   "metadata": {},
   "source": [
    "In this case there is only 1 atom, and its position is at the origin.\n",
    "\n",
    "Let us try and do a little more complicated structure, say graphene."
   ]
  },
  {
   "cell_type": "code",
   "execution_count": 6,
   "id": "b2a42f9d-ee08-4fab-b6d0-c3b460eefb01",
   "metadata": {
    "execution": {
     "iopub.execute_input": "2025-10-08T12:07:12.185119Z",
     "iopub.status.busy": "2025-10-08T12:07:12.184954Z",
     "iopub.status.idle": "2025-10-08T12:07:12.189697Z",
     "shell.execute_reply": "2025-10-08T12:07:12.189220Z"
    }
   },
   "outputs": [
    {
     "name": "stdout",
     "output_type": "stream",
     "text": [
      "Geometry{na: 2, no: 2,\n",
      " Atoms{species: 1,\n",
      "  Atom{C, Z: 6, mass(au): 12.01070, maxR: 1.43420,\n",
      "   Orbital{R: 1.43420, q0: 0.0}\n",
      "  }: 2,\n",
      " },\n",
      " maxR: 1.43420,\n",
      " Lattice{nsc: [3 3 1],\n",
      "  origin=[0.0000, 0.0000, 0.0000],\n",
      "  A=[2.1300, -1.2298, 0.0000],\n",
      "  B=[2.1300, 1.2298, 0.0000],\n",
      "  C=[0.0000, 0.0000, 20.0000],\n",
      "  bc=[Periodic,\n",
      "      Periodic,\n",
      "      Unknown]\n",
      " }\n",
      "}\n"
     ]
    }
   ],
   "source": [
    "graphene = si.geom.graphene()\n",
    "print(graphene)"
   ]
  },
  {
   "cell_type": "code",
   "execution_count": 7,
   "id": "186d274a-67b4-406b-a4f5-9f58a9ecc2e5",
   "metadata": {
    "execution": {
     "iopub.execute_input": "2025-10-08T12:07:12.191272Z",
     "iopub.status.busy": "2025-10-08T12:07:12.191108Z",
     "iopub.status.idle": "2025-10-08T12:07:12.194749Z",
     "shell.execute_reply": "2025-10-08T12:07:12.194169Z"
    }
   },
   "outputs": [
    {
     "data": {
      "text/plain": [
       "array([[0.  , 0.  , 0.  ],\n",
       "       [1.42, 0.  , 0.  ]])"
      ]
     },
     "execution_count": 7,
     "metadata": {},
     "output_type": "execute_result"
    }
   ],
   "source": [
    "graphene.xyz"
   ]
  },
  {
   "cell_type": "markdown",
   "id": "ba9e548d-96be-4ea9-9e4f-919932a567da",
   "metadata": {},
   "source": [
    "Note how the changed output looks, we now have 2 atoms, but the atom is not duplicated, instead we share a reference (to minimize memory requirement).\n",
    "\n",
    "The atomic coordinates here signals the two positions, and it is obvious that the default bond-length for graphene is defined to be $1.42$."
   ]
  },
  {
   "cell_type": "markdown",
   "id": "9aeab656-1f81-44f2-98c9-7cfa4b51391b",
   "metadata": {},
   "source": [
    "#### Other default geometries\n",
    "\n",
    "There are many other implicit geometries available in `sisl` which can be found [here](../../api/geom/building.rst).\n",
    "These can be used to generalize and construct geometries on the fly, in a simply and efficient manner."
   ]
  },
  {
   "cell_type": "markdown",
   "id": "49443b5d-a17b-4643-ba20-f0121c64f773",
   "metadata": {},
   "source": [
    "### Defining atoms\n",
    "\n",
    "The geometries will accept an argument `atoms=` where you can define the atoms in the geometry.\n",
    "We already did this in the `fcc` system where we defined the atom `si.Atom(\"Fe\")`.  \n",
    "Lets delve into the [Atom](../../api/generated/sisl.Atom.rst) object."
   ]
  },
  {
   "cell_type": "code",
   "execution_count": 8,
   "id": "27d9caa7-81c2-4acf-b3a8-ffc93143999b",
   "metadata": {
    "execution": {
     "iopub.execute_input": "2025-10-08T12:07:12.196466Z",
     "iopub.status.busy": "2025-10-08T12:07:12.196303Z",
     "iopub.status.idle": "2025-10-08T12:07:12.201626Z",
     "shell.execute_reply": "2025-10-08T12:07:12.201139Z"
    }
   },
   "outputs": [
    {
     "name": "stdout",
     "output_type": "stream",
     "text": [
      "Help on class Atom in module sisl:\n",
      "\n",
      "class Atom(sisl._dispatch_class._Dispatchs)\n",
      " |  Atom(*args, **kwargs)\n",
      " |\n",
      " |  Atomic information for a single atomic species\n",
      " |\n",
      " |  An atomic object retaining information about a single atomic species.\n",
      " |  It describes the atomic number (integer), the mass of the atom, and\n",
      " |  holds a list of atomic centered orbitals. It also allows one\n",
      " |  to tag the atom to distinguish it from other atoms of the same species.\n",
      " |\n",
      " |  Parameters\n",
      " |  ----------\n",
      " |  Z :\n",
      " |      determine species for the atomic species.\n",
      " |  orbitals : list of Orbital or float, optional\n",
      " |      orbitals associated with this atom. See `Orbital` for details on\n",
      " |      how to define orbitals.\n",
      " |      Defaults to one orbital.\n",
      " |  mass :\n",
      " |      the atomic mass, defaults to the mass found in `PeriodicTable`.\n",
      " |  tag :\n",
      " |      arbitrary designation for user handling similar atoms with\n",
      " |      different settings (defaults to the label of the atom)\n",
      " |\n",
      " |\n",
      " |  Examples\n",
      " |  --------\n",
      " |  >>> Carbon = Atom(6)\n",
      " |  >>> Carbon = Atom(\"C\")\n",
      " |  >>> Carbon = Atom(\"Carbon\")\n",
      " |\n",
      " |  Add a tag to be able to distinguish it from other atoms\n",
      " |\n",
      " |  >>> tagged_Carbon = Atom(\"Carbon\", tag=\"siteA\")\n",
      " |\n",
      " |  Create deuterium\n",
      " |\n",
      " |  >>> D = Atom(\"H\", mass=2.014)\n",
      " |\n",
      " |  Define an atom with 3 orbitals, each with a range of 2 Angstroem\n",
      " |\n",
      " |  >>> C3 = Atom(\"C\", orbitals=[2, 2, 2])\n",
      " |\n",
      " |  Define an atom outside of the periodic table (negative will yield an\n",
      " |  AtomGhost object)\n",
      " |\n",
      " |  >>> ghost_C = Atom(-6)\n",
      " |\n",
      " |  Define an unknown atom (basically anything can do)\n",
      " |\n",
      " |  >>> unknown_atom = Atom(1000)\n",
      " |\n",
      " |  Notes\n",
      " |  -----\n",
      " |  One can define atoms outside of the periodic table. They will generally\n",
      " |  be handled in this order:\n",
      " |\n",
      " |  * negative numbers will be converted into positive ones, and the returned\n",
      " |    object will be an `AtomGhost`\n",
      " |  * any other number (or name) not found in the periodic table will be returned\n",
      " |    in an AtomUnknown object\n",
      " |\n",
      " |  The mass for atoms outside the periodic table will default to 1e40 amu.\n",
      " |\n",
      " |  See Also\n",
      " |  --------\n",
      " |  Orbital : define an orbital\n",
      " |  Atoms : an efficient collection of Atom objects\n",
      " |\n",
      " |  Method resolution order:\n",
      " |      Atom\n",
      " |      sisl._dispatch_class._Dispatchs\n",
      " |      builtins.object\n",
      " |\n",
      " |  Methods defined here:\n",
      " |\n",
      " |  __eq__(self, b) from sisl._core.atom.Atom\n",
      " |      Return true if the saved quantities are the same\n",
      " |\n",
      " |  __getattr__(self, attr) from sisl._core.atom.Atom\n",
      " |      Pass attribute calls to the orbital classes and return lists/array\n",
      " |\n",
      " |      Parameters\n",
      " |      ----------\n",
      " |      attr : str\n",
      " |\n",
      " |  __getitem__(self, key) from sisl._core.atom.Atom\n",
      " |      The orbital corresponding to index `key`\n",
      " |\n",
      " |  __getstate__(self) from sisl._core.atom.Atom\n",
      " |      Return the state of this object\n",
      " |\n",
      " |  __hash__(self) from sisl._core.atom.Atom\n",
      " |      Return hash(self).\n",
      " |\n",
      " |  __init__(self, Z: 'Union[str, int]', orbitals=None, mass: 'Optional[float]' = None, tag: 'Optional[str]' = None, **kwargs) from sisl._core.atom.Atom\n",
      " |      Initialize self.  See help(type(self)) for accurate signature.\n",
      " |\n",
      " |  __iter__(self) from sisl._core.atom.Atom\n",
      " |      Loop on all orbitals in this atom\n",
      " |\n",
      " |  __len__(self) from sisl._core.atom.Atom\n",
      " |      Return number of orbitals in this atom\n",
      " |\n",
      " |  __ne__(self, b) from sisl._core.atom.Atom\n",
      " |      Return self!=value.\n",
      " |\n",
      " |  __repr__(self) from sisl._core.atom.Atom\n",
      " |      Return repr(self).\n",
      " |\n",
      " |  __setstate__(self, d) from sisl._core.atom.Atom\n",
      " |      Re-create the state of this object\n",
      " |\n",
      " |  __str__(self) from sisl._core.atom.Atom\n",
      " |      Return str(self).\n",
      " |\n",
      " |  copy(atom: 'Atom', Z: 'Optional[Union[int, str]]' = None, orbitals=None, mass: 'Optional[float]' = None, tag: 'Optional[str]' = None) -> 'Atom' from sisl\n",
      " |      Return copy of this object\n",
      " |\n",
      " |  equal(self, other, R: 'bool' = True, psi: 'bool' = False) from sisl._core.atom.Atom\n",
      " |      True if `other` is the same as this atomic species\n",
      " |\n",
      " |      Parameters\n",
      " |      ----------\n",
      " |      other : Atom\n",
      " |         the other object to check againts\n",
      " |      R : bool, optional\n",
      " |         if True the equality check also checks the orbital radius, else they are not compared\n",
      " |      psi : bool, optional\n",
      " |         if True, also check the wave-function component of the orbitals, see `Orbital.psi`\n",
      " |\n",
      " |  index(self, orbital) from sisl._core.atom.Atom\n",
      " |      Return the index of the orbital in the atom object\n",
      " |\n",
      " |  iter(self, group: 'bool' = False) from sisl._core.atom.Atom\n",
      " |      Loop on all orbitals in this atom\n",
      " |\n",
      " |      Parameters\n",
      " |      ----------\n",
      " |      group : bool, optional\n",
      " |         if two orbitals share the same radius\n",
      " |         one may be able to group two orbitals together\n",
      " |\n",
      " |      Returns\n",
      " |      -------\n",
      " |      Orbital\n",
      " |          current orbital, if `group` is ``True`` this is a list of orbitals,\n",
      " |          otherwise a single orbital is returned\n",
      " |\n",
      " |  maxR(self) from sisl._core.atom.Atom\n",
      " |      Return the maximum range of orbitals.\n",
      " |\n",
      " |  radius(self, method: \"Literal['calc', 'empirical', 'vdw']\" = 'calc') from sisl._core.atom.Atom\n",
      " |      Return the atomic radius of the atom (in Ang)\n",
      " |\n",
      " |      See `PeriodicTable.radius` for details on the argument.\n",
      " |\n",
      " |  remove(atom: 'Atom', orbitals: 'SimpleIndex') -> 'Atom' from sisl\n",
      " |      Return the same atom without a specific set of orbitals\n",
      " |\n",
      " |      Parameters\n",
      " |      ----------\n",
      " |      orbitals :\n",
      " |         indices of the orbitals to remove\n",
      " |\n",
      " |      Returns\n",
      " |      -------\n",
      " |      Atom\n",
      " |          without the specified orbitals\n",
      " |\n",
      " |      See Also\n",
      " |      --------\n",
      " |      Atom.sub : retain a selected set of orbitals\n",
      " |\n",
      " |  scale(atom: 'Atom', scale: 'float') -> 'Atom' from sisl\n",
      " |      Scale the atomic radii and return an equivalent atom.\n",
      " |\n",
      " |      Parameters\n",
      " |      ----------\n",
      " |      scale :\n",
      " |         the scale factor for the atomic radii\n",
      " |\n",
      " |  sub(atom: 'Atom', orbitals: 'SimpleIndex') -> 'Atom' from sisl\n",
      " |      Return the same atom with only a subset of the orbitals present\n",
      " |\n",
      " |      Parameters\n",
      " |      ----------\n",
      " |      orbitals :\n",
      " |         indices of the orbitals to retain\n",
      " |\n",
      " |      Returns\n",
      " |      -------\n",
      " |      Atom\n",
      " |          with only the subset of orbitals\n",
      " |\n",
      " |      Raises\n",
      " |      ------\n",
      " |      ValueError\n",
      " |         if the number of orbitals removed is too large or some indices are outside the allowed range\n",
      " |\n",
      " |  to = ClassDispatcher(...)\n",
      " |\n",
      " |  toSphere(self, center=None) from sisl._core.atom.Atom\n",
      " |      Return a sphere with the maximum orbital radius equal\n",
      " |\n",
      " |      Returns\n",
      " |      -------\n",
      " |      ~sisl.shape.Sphere\n",
      " |           a sphere with radius equal to the maximum radius of the orbitals\n",
      " |\n",
      " |  ----------------------------------------------------------------------\n",
      " |  Static methods defined here:\n",
      " |\n",
      " |  __new__(cls, *args, **kwargs) from sisl._core.atom.Atom\n",
      " |      Figure out which class to actually use\n",
      " |\n",
      " |  ----------------------------------------------------------------------\n",
      " |  Readonly properties defined here:\n",
      " |\n",
      " |  Z\n",
      " |      Atomic number\n",
      " |\n",
      " |  column\n",
      " |      The column of the atom in the periodic table.\n",
      " |\n",
      " |      May return `NotImplemented` if the element isn't found\n",
      " |      in the periodic table.\n",
      " |\n",
      " |      Only covers up to Z=118.\n",
      " |\n",
      " |      See Also\n",
      " |      --------\n",
      " |      row : for getting the periodic table row\n",
      " |      PeriodicTable.Z_row : used to extract the periodic table row of an atomic number\n",
      " |      PeriodicTable.Z_column : used to extract the periodic table column of an atomic number\n",
      " |\n",
      " |  mass\n",
      " |      Atomic mass\n",
      " |\n",
      " |  no\n",
      " |      Number of orbitals on this atom\n",
      " |\n",
      " |  orbitals\n",
      " |      List of orbitals\n",
      " |\n",
      " |  row\n",
      " |      The row of the atom in the periodic table.\n",
      " |\n",
      " |      May return `NotImplemented` if the element isn't found\n",
      " |      in the periodic table.\n",
      " |\n",
      " |      Only covers up to Z=118.\n",
      " |\n",
      " |      See Also\n",
      " |      --------\n",
      " |      column : for getting the periodic table column\n",
      " |      PeriodicTable.Z_row : used to extract the periodic table row of an atomic number\n",
      " |      PeriodicTable.Z_column : used to extract the periodic table column of an atomic number\n",
      " |\n",
      " |  symbol\n",
      " |      Return short atomic name (Au==79).\n",
      " |\n",
      " |  tag\n",
      " |      Tag for atom\n",
      " |\n",
      " |  ----------------------------------------------------------------------\n",
      " |  Class methods inherited from sisl._dispatch_class._Dispatchs:\n",
      " |\n",
      " |  __init_subclass__(dispatchs: 'Optional[Union[str, Sequence[Any]]]' = None, when_subclassing: 'Optional[str]' = None, **kwargs)\n",
      " |      This method is called when a class is subclassed.\n",
      " |\n",
      " |      The default implementation does nothing. It may be\n",
      " |      overridden to extend subclasses.\n",
      " |\n",
      " |  ----------------------------------------------------------------------\n",
      " |  Data descriptors inherited from sisl._dispatch_class._Dispatchs:\n",
      " |\n",
      " |  __dict__\n",
      " |      dictionary for instance variables\n",
      " |\n",
      " |  __weakref__\n",
      " |      list of weak references to the object\n",
      "\n"
     ]
    }
   ],
   "source": [
    "help(si.Atom)"
   ]
  },
  {
   "cell_type": "markdown",
   "id": "3539103b-20d6-4ead-8db3-63ddf9044487",
   "metadata": {},
   "source": [
    "Here we create an `fcc` lattice made up of Deuterium atoms"
   ]
  },
  {
   "cell_type": "code",
   "execution_count": 9,
   "id": "b3330504-5a71-4609-a8ca-55d70cc0770a",
   "metadata": {
    "execution": {
     "iopub.execute_input": "2025-10-08T12:07:12.203224Z",
     "iopub.status.busy": "2025-10-08T12:07:12.203059Z",
     "iopub.status.idle": "2025-10-08T12:07:12.206805Z",
     "shell.execute_reply": "2025-10-08T12:07:12.206328Z"
    }
   },
   "outputs": [
    {
     "name": "stdout",
     "output_type": "stream",
     "text": [
      "Geometry{na: 1, no: 1,\n",
      " Atoms{species: 1,\n",
      "  Atom{H, Z: 1, mass(au): 2.01400, maxR: -1.00000,\n",
      "   Orbital{R: -1.00000, q0: 0.0}\n",
      "  }: 1,\n",
      " },\n",
      " maxR: -1.00000,\n",
      " Lattice{nsc: [3 3 3],\n",
      "  origin=[0.0000, 0.0000, 0.0000],\n",
      "  A=[0.0000, 0.7100, 0.7100],\n",
      "  B=[0.7100, 0.0000, 0.7100],\n",
      "  C=[0.7100, 0.7100, 0.0000],\n",
      "  bc=[Periodic,\n",
      "      Periodic,\n",
      "      Periodic]\n",
      " }\n",
      "}\n"
     ]
    }
   ],
   "source": [
    "D = si.Atom(1, mass=2.014)\n",
    "fcc_D = si.geom.fcc(1.42, atoms=D)\n",
    "print(fcc_D)"
   ]
  },
  {
   "cell_type": "markdown",
   "id": "244c95e7-e4a3-4d5d-9de6-dda2ec6708b7",
   "metadata": {},
   "source": [
    "Another example would be to create a bilayer structure with 2 different atoms (say graphene below hBN)"
   ]
  },
  {
   "cell_type": "code",
   "execution_count": 10,
   "id": "7cb48c7a-51b7-459c-9627-a03edf2b71d8",
   "metadata": {
    "execution": {
     "iopub.execute_input": "2025-10-08T12:07:12.208392Z",
     "iopub.status.busy": "2025-10-08T12:07:12.208228Z",
     "iopub.status.idle": "2025-10-08T12:07:12.214952Z",
     "shell.execute_reply": "2025-10-08T12:07:12.214469Z"
    }
   },
   "outputs": [
    {
     "name": "stdout",
     "output_type": "stream",
     "text": [
      "Geometry{na: 4, no: 4,\n",
      " Atoms{species: 3,\n",
      "  Atom{C, Z: 6, mass(au): 12.01070, maxR: -1.00000,\n",
      "   Orbital{R: -1.00000, q0: 0.0}\n",
      "  }: 2,\n",
      "  Atom{B, Z: 5, mass(au): 10.81100, maxR: -1.00000,\n",
      "   Orbital{R: -1.00000, q0: 0.0}\n",
      "  }: 1,\n",
      "  Atom{N, Z: 7, mass(au): 14.00670, maxR: -1.00000,\n",
      "   Orbital{R: -1.00000, q0: 0.0}\n",
      "  }: 1,\n",
      " },\n",
      " maxR: -1.00000,\n",
      " Lattice{nsc: [3 3 1],\n",
      "  origin=[0.0000, 0.0000, 0.0000],\n",
      "  A=[2.1750, -1.2557, 0.0000],\n",
      "  B=[2.1750, 1.2557, 0.0000],\n",
      "  C=[0.0000, 0.0000, 23.3500],\n",
      "  bc=[Periodic,\n",
      "      Periodic,\n",
      "      Unknown]\n",
      " }\n",
      "}\n"
     ]
    }
   ],
   "source": [
    "C = si.Atom(\"C\")\n",
    "B = si.Atom(\"B\")\n",
    "N = si.Atom(\"N\")\n",
    "hBN = si.geom.bilayer(1.45, bottom_atoms=C, top_atoms=[B, N])\n",
    "print(hBN)"
   ]
  },
  {
   "cell_type": "markdown",
   "id": "ca3fdf01-537a-4d4a-8a14-cea0f3b12799",
   "metadata": {},
   "source": [
    "This concludes a quick tutorial on how to create a predefined geometry and how to define the atoms in it."
   ]
  }
 ],
 "metadata": {
  "kernelspec": {
   "display_name": "Python 3 (ipykernel)",
   "language": "python",
   "name": "python3"
  },
  "language_info": {
   "codemirror_mode": {
    "name": "ipython",
    "version": 3
   },
   "file_extension": ".py",
   "mimetype": "text/x-python",
   "name": "python",
   "nbconvert_exporter": "python",
   "pygments_lexer": "ipython3",
   "version": "3.12.11"
  }
 },
 "nbformat": 4,
 "nbformat_minor": 5
}
