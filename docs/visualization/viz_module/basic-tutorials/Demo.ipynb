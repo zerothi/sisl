{
 "cells": [
  {
   "cell_type": "markdown",
   "metadata": {},
   "source": [
    "# Demo notebook"
   ]
  },
  {
   "cell_type": "code",
   "execution_count": null,
   "metadata": {},
   "outputs": [],
   "source": [
    "# This is just for convenience to retreive files\n",
    "import sisl\n",
    "siesta_files = sisl._environ.get_environ_variable(\"SISL_FILES_TESTS\") / \"sisl\" / \"io\" / \"siesta\""
   ]
  },
  {
   "cell_type": "markdown",
   "metadata": {},
   "source": [
    "## The basics\n",
    "\n",
    "The first thing you will need to do in order to use plots is to import them from the `sisl.viz.plotly` module:"
   ]
  },
  {
   "cell_type": "code",
   "execution_count": null,
   "metadata": {},
   "outputs": [],
   "source": [
    "from sisl.viz.plotly import Plot"
   ]
  },
  {
   "cell_type": "markdown",
   "metadata": {},
   "source": [
    "*Let's start plotting!*\n",
    "\n",
    "**Why can't I just tell the computer to plot the file?!** This is the question milions of students around the world ask themselves when they get introduced to computational physics. Then time passes, and you learn to deal with it. You might even build your own scripts in an attempt to mitigate the pain. But hey:"
   ]
  },
  {
   "cell_type": "code",
   "execution_count": null,
   "metadata": {
    "scrolled": false
   },
   "outputs": [],
   "source": [
    "Plot(siesta_files / \"SrTiO3.bands\")"
   ]
  },
  {
   "cell_type": "code",
   "execution_count": null,
   "metadata": {},
   "outputs": [],
   "source": [
    "Plot(siesta_files / \"SrTiO3.RHO\", axes=[0,1], nsc=[2,1,1], zsmooth='best')"
   ]
  },
  {
   "cell_type": "markdown",
   "metadata": {},
   "source": [
    "See what we did there? We passed some extra arguments (`axes` and `nsc`) to get the exact plot that we want.\n",
    "\n",
    "> But how do you know which words to use?\n",
    "\n",
    "Be patient, we will get there.\n",
    "\n",
    "> Ok, but still, you only have different scripts that plot different things. And you use this fancy `Plot()` stuff to catch our attention.\n",
    "\n",
    "Not really. In fact, what `Plot()` does is to initialize a plot instance. If you store it into a variable you can check for yourself."
   ]
  },
  {
   "cell_type": "code",
   "execution_count": null,
   "metadata": {},
   "outputs": [],
   "source": [
    "plot = Plot(siesta_files / \"SrTiO3.RHO\", axes=[0,1], nsc=[2,1,1], zsmooth=\"best\")\n",
    "plot.__class__"
   ]
  },
  {
   "cell_type": "code",
   "execution_count": null,
   "metadata": {
    "tags": [
     "nbsphinx-thumbnail"
    ]
   },
   "outputs": [],
   "source": [
    "plot.show(\"png\")"
   ]
  },
  {
   "cell_type": "markdown",
   "metadata": {},
   "source": [
    "Note also that it's not exactly a `Plot`, but a `GridPlot`. This means that it will have **settings and methods that are specific** to this kind of plot. Settings may be found by printing the variable.\n",
    "\n",
    "*You can `print(plot)` to see how they look like if you really can't wait. Here's a cell for you, we won't know:*"
   ]
  },
  {
   "cell_type": "code",
   "execution_count": null,
   "metadata": {},
   "outputs": [],
   "source": []
  },
  {
   "cell_type": "markdown",
   "metadata": {},
   "source": [
    "Are you done? Good. Now if you want to make a better use of that cell do `help(plot)` instead. You will see a list of the mehods that are available to you in this plot. Actually we are more interested in the specific methods that this plot has, so when you reach the line:\n",
    "\n",
    "`Methods inherited from sisl.viz.plotly.Plot:`\n",
    "\n",
    "you can stop reading.\n",
    "\n",
    "*Let's try one of those!*"
   ]
  },
  {
   "cell_type": "code",
   "execution_count": null,
   "metadata": {},
   "outputs": [],
   "source": [
    "# We already have a plot stored\n",
    "plot.scan(steps=15)"
   ]
  },
  {
   "cell_type": "markdown",
   "metadata": {},
   "source": [
    "<span class=\"user\">Ok, now it starts to make sense... but looking at the help message is a bit tedious, don't you think?</span>\n",
    "\n",
    "Yes, I agree. The plan is to have an individual notebook to showcase the abilities of each plot, because, you know, we came here to visualize. But we're not quite there yet, sorry.\n",
    "\n",
    "<span class=\"user\">Btw... why did an animation come out of nowhere?</span>\n",
    "\n",
    "Magic doesn't exist, so of course someone has developed it.\n",
    "\n",
    "<span class=\"user\">I'm sure it's complicated as hell to use. This is why you've been hiding it from us...</span>\n",
    "\n",
    "Well, you can judge for yourself."
   ]
  },
  {
   "cell_type": "code",
   "execution_count": null,
   "metadata": {
    "scrolled": false
   },
   "outputs": [],
   "source": [
    "from sisl.viz.plotly import Animation, BandsPlot\n",
    "\n",
    "bands_file = siesta_files / \"SrTiO3.bands\"\n",
    "\n",
    "# There are two main ways to build an animation for yourself\n",
    "\n",
    "# You can either provide already initialized plots to Animation\n",
    "plots = [ Plot(bands_file, bands_color=color) for color in (\"green\", \"orange\", \"red\")]\n",
    "\n",
    "from_animation = Animation(plots=plots)\n",
    "\n",
    "# Or use the animated class method\n",
    "from_animated = BandsPlot.animated(\n",
    "    \"bands_color\", (\"green\", \"orange\", \"red\"), # Animate the bands_color setting with this values\n",
    "    fixed = {\"bands_file\": bands_file}, # Keep this settings fixed for all frames\n",
    ")\n",
    "\n",
    "# Show them both\n",
    "from_animation.show()\n",
    "from_animated.show()"
   ]
  },
  {
   "cell_type": "markdown",
   "metadata": {},
   "source": [
    "So, you basically get the same animation in both cases. But is it really the same?"
   ]
  },
  {
   "cell_type": "code",
   "execution_count": null,
   "metadata": {},
   "outputs": [],
   "source": [
    "# Let's save them\n",
    "from_animation.save(\"From_animation.plot\")\n",
    "from_animated.save(\"From_animated.plot\")"
   ]
  },
  {
   "cell_type": "markdown",
   "metadata": {},
   "source": [
    "If you go to the directory where this tutorials are and you run the command `ll -h` you will see the following (moreless):\n",
    "- *From_animated.plot* weights **679 KB**\n",
    "- *From_animation.plot* weights **855 KB**\n",
    "\n",
    "I'll give you a moment to solve the mistery...\n",
    "\n",
    "That's right! Animation has detected that some data can be shared between plots and it is doing so.\n",
    "\n",
    "<span class=\"user\">But how?!</span>\n",
    "\n",
    "Again, settings. It's always about settings.\n",
    "\n",
    "But you must know that this is a crucial feature for plots with larger data, like the charge density scan we saw previously. In that case, your computer might not even be able to sustain such HUGE quantities of data. Therefore, there is a `template_plot` keyword that you can provide to both `animated` and `Animation` to explicitly set the plot that will share data.\n",
    "\n",
    "By the way, here's a cell for you to check that I'm not lying, try checking the `shared` attribute of the plot that came from the `animated` method."
   ]
  },
  {
   "cell_type": "code",
   "execution_count": null,
   "metadata": {},
   "outputs": [],
   "source": []
  },
  {
   "cell_type": "markdown",
   "metadata": {},
   "source": [
    "<span class=\"user\">Ok, I see. Can you tell us how to load the plots that you saved there?</span>\n",
    "\n",
    "Sure:"
   ]
  },
  {
   "cell_type": "code",
   "execution_count": null,
   "metadata": {},
   "outputs": [],
   "source": [
    "from sisl.viz.plotly import load\n",
    "#load(\"I know you have an intuition of what to put here\")"
   ]
  },
  {
   "cell_type": "markdown",
   "metadata": {},
   "source": [
    "<span class=\"user\">Thanks, but what's the point of saving them anyway?</span>\n",
    "\n",
    "Well, you can:\n",
    "- Open them later and they will already contain all the data.\n",
    "- Share it with other people easily.\n",
    "\n",
    "However, if you just want to share the plot and not the data, you have beter and more lightweight options:\n",
    "- Save it as a picture (you probably already saw the picture icon that appears when you hover the plot at the top-right corner)\n",
    "- Save it as html using the `.html()` method: Great for keeping functionality and vital for animations.\n",
    "- Take the `figure` attribute and save it however you want.\n",
    "\n",
    "This last point brings me to a breakpoint in our relation. I have to make a confession: *I haven't developed the figures themselves, these are [plotly](https://plotly.com/) figures.*\n",
    "\n",
    "<span class=\"user\">Aha! I knew there was something you were hiding.</span>\n",
    "\n",
    "Yes, indeed. I was hiding that, since `Plot` is an extension of plotly `Figure`, all plotly methods are available to you to postprocess the plot that you obtained as you wish:"
   ]
  },
  {
   "cell_type": "code",
   "execution_count": null,
   "metadata": {},
   "outputs": [],
   "source": [
    "# Let's build a plot\n",
    "plot = Plot(siesta_files / \"SrTiO3.RHO\", axes=[0,1], nsc=[2,1,1], zsmooth=\"best\", title=\"The importance of the green line\")\n",
    "\n",
    "# And now let's draw a line a line indicating something super important\n",
    "# using the plotly add_scatter method on our figure\n",
    "plot.add_scatter(x=[0,4], y=[1,3],line_width=5, line_color=\"lightgreen\", showlegend=False)"
   ]
  },
  {
   "cell_type": "markdown",
   "metadata": {},
   "source": [
    "*Now you got a taste of the basic things that you should expect from sisl's visualization module. We hope that you liked what you saw :)*\n",
    "\n",
    "If you are willing to know more, please keep on reading the notebook. **We appreciate your interest and we are definitely willing to show more**. And we honestly think you won't regret it. \n",
    "\n",
    "## Let's talk about settings"
   ]
  },
  {
   "cell_type": "markdown",
   "metadata": {},
   "source": [
    "<span class=\"user\">Finally!</span>\n",
    "\n",
    "*Life is unpredictable.*\n",
    "\n",
    "And that's why needing to define all the parameters of your plot on initialization seems like too much to ask. That's why, we've separated the work of our plots into three main processes:\n",
    "\n",
    "- Reading the data.\n",
    "- Processing the data.\n",
    "- Displaying the figure.\n",
    "\n",
    "At this point, you probably already see that there is clearly at least one step that you don't want to be doing all the time: *Reading your 300MB file.*\n",
    "\n",
    "<span class=\"user\">I get it, I can run different steps to update my plot as I need. But how would I know, if it was not me that developed the plot? Do I have to look into the code of each plot?!</span>\n",
    "\n",
    "No, that's the point of settings. Plots have settings (*as you have previously discovered, I know what you did in that cell...*). And plots know which settings are run in each step of the process. So, when you update a setting, don't worry, they will know what to do.\n",
    "\n",
    "<span class=\"user\">And how do I \"update a setting\"?</span>"
   ]
  },
  {
   "cell_type": "code",
   "execution_count": null,
   "metadata": {},
   "outputs": [],
   "source": [
    "# Get the bands plot\n",
    "plot = Plot(siesta_files / \"SrTiO3.bands\")\n",
    "\n",
    "# If you don't know what are the settings that you can change, print the plot\n",
    "# print(plot)\n",
    "\n",
    "# But I already know, so I will update them using the update_settings method\n",
    "plot.update_settings(Erange=[-5,5], gap=True)"
   ]
  },
  {
   "cell_type": "markdown",
   "metadata": {},
   "source": [
    "<span class=\"user\">And what if I messed up the plot with the new settings?</span>"
   ]
  },
  {
   "cell_type": "code",
   "execution_count": null,
   "metadata": {
    "scrolled": false
   },
   "outputs": [],
   "source": [
    "plot.undo_settings()"
   ]
  },
  {
   "cell_type": "markdown",
   "metadata": {},
   "source": [
    "The `undo_settings()` method even has a `nsteps` keyword that will allow you to go way back. No one will ever know about your \"little experiments\"."
   ]
  },
  {
   "cell_type": "markdown",
   "metadata": {},
   "source": [
    "## Monitoring changes"
   ]
  },
  {
   "cell_type": "markdown",
   "metadata": {},
   "source": [
    "Plots can keep track of the files that they read.\n",
    "\n",
    "Using this, you can check if there are updates available for a given plot very easily. "
   ]
  },
  {
   "cell_type": "code",
   "execution_count": null,
   "metadata": {},
   "outputs": [],
   "source": [
    "plot = Plot(siesta_files / \"SrTiO3.bands\")\n",
    "plot.updates_available()"
   ]
  },
  {
   "cell_type": "markdown",
   "metadata": {},
   "source": [
    "<span class=\"user\">Of course there are no available updates, you just read the file...</span>\n",
    "\n",
    "Yeah, thanks.\n",
    "\n",
    "<span class=\"user\">Do I have to be checking for updates until there is one? That's pointless.<span>\n",
    "    \n",
    "Well, you can, sure, if you want. But of course there is a method already there for you.\n",
    "\n",
    "Let's build a different plot that makes sense tracking."
   ]
  },
  {
   "cell_type": "code",
   "execution_count": null,
   "metadata": {},
   "outputs": [],
   "source": [
    "from sisl.viz.plotly import ForcesPlot\n",
    "forces = ForcesPlot(out_file=\"../files/water/water.out\")"
   ]
  },
  {
   "cell_type": "markdown",
   "metadata": {},
   "source": [
    "<span class=\"user\">Oops! Seems that these plots are not that great after all.<span>\n",
    "\n",
    "We are trying to make a plot out of a file that doesn't even exist. So, the error is fair enough.\n",
    "    \n",
    "Although it does not yet exist, Lets make the plot listen for updates:"
   ]
  },
  {
   "cell_type": "code",
   "execution_count": null,
   "metadata": {
    "scrolled": false
   },
   "outputs": [],
   "source": [
    "forces.listen()"
   ]
  },
  {
   "cell_type": "markdown",
   "metadata": {},
   "source": [
    "<span class=\"user\">Wow, impressive. Seems like it didn't do much...</span>\n",
    "    \n",
    "Well, that's the point of the `listen` method. It runs *asyncronously*. This means that it does not block the execution of other code. It basically means that, while this plot is listening for updates, **you can continue doing things on the notebook**.\n",
    "\n",
    "But enough talk, let's see it working. Go to the `files/water` folder and execute siesta so that it sends the output to a file called `water.out`:\n",
    "\n",
    "`\n",
    "siesta < water.fdf > water.out\n",
    "`\n",
    "\n",
    "Let's see what happens...\n",
    "\n",
    "Did you see how the plot was changing? The plot does not know when to stop listening. Who knows, maybe an update will come sometime. Let's take a moment to stop it."
   ]
  },
  {
   "cell_type": "code",
   "execution_count": null,
   "metadata": {},
   "outputs": [],
   "source": [
    "forces.stop_listening()"
   ]
  },
  {
   "cell_type": "markdown",
   "metadata": {},
   "source": [
    "You probably saw that the updating process didn't look great. That is because we need to clear the output and plot the figure again each time.\n",
    "\n",
    "<span class=\"user\"> So classy... </span>\n",
    "\n",
    "Well, the plot is only doing that because it does not find the appropiate jupyter notebook widgets. Check which widgets are you missing:"
   ]
  },
  {
   "cell_type": "code",
   "execution_count": null,
   "metadata": {},
   "outputs": [],
   "source": [
    "forces._widgets"
   ]
  },
  {
   "cell_type": "markdown",
   "metadata": {},
   "source": [
    "If you have plotly available but it indicates an error, it is probably because, although you are in your environment's kernel, you are running `jupyter notebook` from a different environment.\n",
    "\n",
    "Just run the notebook from your environment, or uncomment this cell and run it (don't remove the !) to install plotly also in the environment that you are running the notebook."
   ]
  },
  {
   "cell_type": "code",
   "execution_count": null,
   "metadata": {},
   "outputs": [],
   "source": [
    "#!pip3 install plotly"
   ]
  },
  {
   "cell_type": "markdown",
   "metadata": {},
   "source": [
    "Then close and open the jupyter server again with `jupyter notebook` or however you do it (**restarting the kernel is not enough**).\n",
    "\n",
    "Regarding `events`, it is a widget that will provide you with the ability to **use keyboard shortcuts on the plots**. It can be very handy, but if you don't want it, that's fine.\n",
    "\n",
    "If you want to have it:"
   ]
  },
  {
   "cell_type": "code",
   "execution_count": null,
   "metadata": {},
   "outputs": [],
   "source": [
    "#!pip3 install ipyevents\n",
    "#!jupyter nbextension enable --py --user ipyevents"
   ]
  },
  {
   "cell_type": "markdown",
   "metadata": {},
   "source": [
    "Or with conda:"
   ]
  },
  {
   "cell_type": "code",
   "execution_count": null,
   "metadata": {},
   "outputs": [],
   "source": [
    "#!conda install -c conda-forge ipyevents"
   ]
  },
  {
   "cell_type": "markdown",
   "metadata": {},
   "source": [
    "If you installed event, let's take a moment to see if it works.\n",
    "\n",
    "Close the server and open it again with `jupyter notebook` or however you like to do it (**restarting the kernel is probably not enough**)."
   ]
  },
  {
   "cell_type": "code",
   "execution_count": null,
   "metadata": {},
   "outputs": [],
   "source": [
    "plot = Plot(siesta_files / \"SrTiO3.RHO\")\n",
    "plot.show()"
   ]
  },
  {
   "cell_type": "markdown",
   "metadata": {},
   "source": [
    "Try to play with it and see if it works.\n",
    "\n",
    "Place your mouse on top of the plot and press any key. You should see it logged in the left-down corner.\n",
    "\n",
    "Then press `shift+?` to see all the available shortcuts for this plot. Try to use them. If you've gotten here, there should be no problem now :)\n",
    "\n",
    "Fun part is that you don't need to stick to the shortcuts that are provided by default, you can build your own so that it fits perfectly your requirements. More on this in upcoming tutorials. But feel free to add a little pressure so that we do it faster, we will appreciate your enthusiasm for sure."
   ]
  }
 ],
 "metadata": {
  "kernelspec": {
   "display_name": "Python 3",
   "language": "python",
   "name": "python3"
  },
  "language_info": {
   "codemirror_mode": {
    "name": "ipython",
    "version": 3
   },
   "file_extension": ".py",
   "mimetype": "text/x-python",
   "name": "python",
   "nbconvert_exporter": "python",
   "pygments_lexer": "ipython3",
   "version": "3.8.5"
  }
 },
 "nbformat": 4,
 "nbformat_minor": 2
}
