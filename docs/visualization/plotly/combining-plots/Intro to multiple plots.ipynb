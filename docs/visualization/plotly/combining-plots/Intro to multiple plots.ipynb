{
 "cells": [
  {
   "cell_type": "markdown",
   "metadata": {},
   "source": [
    "Intro to multiple plots\n",
    "=====================\n",
    "\n",
    "In this notebook you will learn what multiple plots can do for you and what is the best way to create them."
   ]
  },
  {
   "cell_type": "markdown",
   "metadata": {},
   "source": [
    "## Multiple better than individual\n",
    "\n",
    "The power of multiple plots is threefold:\n",
    "\n",
    "- Multiple plot is just a coordinator. It doesn't hold any data related to it's childplots, which are full instances of `Plot` themselves. This allows you to **grab the separate child plots whenever you want**, as well as modifying only some of its child plots very easily.\n",
    "- It will **create the layout for you** without requiring any effort on your side.\n",
    "- If all your plots inside a multiple plot need to read from the same data, the plot will coordinate all plots so that they can share the data. Therefore, **data will be read only once, saving both time and memory**."
   ]
  },
  {
   "cell_type": "markdown",
   "metadata": {},
   "source": [
    "## Types of multiple plots\n",
    "\n",
    "There are three ways of combining your plots in the visualization framework, each with its associated class:\n",
    "\n",
    "- In the same plot (`MultiplePlot`): it's the most basic one. It just takes the traces from all plots and displays them in the same plot.\n",
    "- As subplots (`SubPlots`): Creates a grid of subplots, where each item of the grid contains a plot. Uses [plotly's subplots capabilities](https://plotly.com/python/subplots/).\n",
    "- As frames of an animation (`Animation`): Creates an animation where each child plot is represented in a frame. [plotly's animation capabilities](https://plotly.com/python/animations/)."
   ]
  },
  {
   "cell_type": "code",
   "execution_count": null,
   "metadata": {},
   "outputs": [],
   "source": [
    "from sisl.viz import MultiplePlot, Animation, SubPlots"
   ]
  },
  {
   "cell_type": "markdown",
   "metadata": {},
   "source": [
    "Let's create a simple tight-binding model for the plots in this notebook."
   ]
  },
  {
   "cell_type": "code",
   "execution_count": null,
   "metadata": {},
   "outputs": [],
   "source": [
    "import sisl\n",
    "import numpy as np\n",
    "\n",
    "r = np.linspace(0, 3.5, 50)\n",
    "f = np.exp(-r)\n",
    "\n",
    "orb = sisl.AtomicOrbital('2pzZ', (r, f))\n",
    "geom = sisl.geom.graphene(orthogonal=True, atoms=sisl.Atom(6, orb))\n",
    "geom = geom.move([0, 0, 5])\n",
    "H = sisl.Hamiltonian(geom)\n",
    "H.construct([(0.1, 1.44), (0, -2.7)], )"
   ]
  },
  {
   "cell_type": "markdown",
   "metadata": {},
   "source": [
    "## Merging existing plots\n",
    "\n",
    "This is the most simple way of creating a multiple plot: you just build your plots, and then pass them to the multiple plot constructor.\n",
    "\n",
    "However, this will miss one key feature of multiple plots. Since you've created each plot separately, **each plot has its own data**, even if they would be able to share it.\n",
    "\n",
    "Therefore, this is only recommended **when the plots are independent from each other**.\n",
    "\n",
    "As an example, from the hamiltonian that we constructed, let's build a wavefunction plot and a pdos plot:"
   ]
  },
  {
   "cell_type": "code",
   "execution_count": null,
   "metadata": {},
   "outputs": [],
   "source": [
    "wf_plot = H.plot.wavefunction(i=1, axes=[0,1], transforms=[\"square\"], zsmooth=\"best\")\n",
    "pdos_plot = H.plot.pdos(Erange=[-10,10])\n",
    "\n",
    "plots = [wf_plot, pdos_plot]"
   ]
  },
  {
   "cell_type": "markdown",
   "metadata": {},
   "source": [
    "And now, we will merge them. There are two main ways to do the merge:\n",
    "\n",
    "- Calling the multiple plot class that we want to use (`MultiplePlot`, `Animation` or `Subplots`):"
   ]
  },
  {
   "cell_type": "code",
   "execution_count": null,
   "metadata": {
    "scrolled": false
   },
   "outputs": [],
   "source": [
    "# You just pass the plots and then any extra arguments for the plot class (see help(SubPlots))\n",
    "SubPlots(plots=plots, cols=2)"
   ]
  },
  {
   "cell_type": "markdown",
   "metadata": {},
   "source": [
    "- Using the `merge` method that all plots have."
   ]
  },
  {
   "cell_type": "code",
   "execution_count": null,
   "metadata": {},
   "outputs": [],
   "source": [
    "plots[0].merge(plots[1:], to=\"subplots\", cols=2)"
   ]
  },
  {
   "cell_type": "markdown",
   "metadata": {},
   "source": [
    "Both are exactly equivalent, but this second one is probably better since you don't need to import the class.\n",
    "\n",
    "You do need to specify somehow how to merge the plots though! As you may have noticed, there's a `to` argument that lets you specify how you want the plots to be merged.\n",
    "\n",
    "Here are the docs for `Plot.merge`:"
   ]
  },
  {
   "cell_type": "code",
   "execution_count": null,
   "metadata": {},
   "outputs": [],
   "source": [
    "help(plots[0].merge)"
   ]
  },
  {
   "cell_type": "markdown",
   "metadata": {},
   "source": [
    "## Let `MultiplePlot` handle plot creation\n",
    "\n",
    "As already mentioned, creating your plots beforehand is only a good strategy if plots are independent from each other, in the sense that they can not share data.\n",
    "\n",
    "In cases where plots can share data, just let `MultiplePlot` create your plots. It is so easy that you will end up doing it in this way all the time, even in cases where it doesn't have efficiency benefits :)\n",
    "\n",
    "Everytime you create a plot, there are three special keyword arguments that you can pass: `varying`, `animate` and `subplots`. These keywords let you easily initialize `MultiplePlot`, `Animation` and `Subplots` instances, respectively. \n",
    "\n",
    "They can be used in two ways:\n",
    "\n",
    "- You can pass a dictionary with the keys of the settings that you want to vary and the value for each \"step\"."
   ]
  },
  {
   "cell_type": "code",
   "execution_count": null,
   "metadata": {},
   "outputs": [],
   "source": [
    "H.plot.wavefunction(axes=[0,1], transforms=[\"square\"], animate={\"i\":[1,2], \"zsmooth\": [\"best\", False]})"
   ]
  },
  {
   "cell_type": "markdown",
   "metadata": {},
   "source": [
    "In this case we animated the wavefunction plot to see the squares of wavefunctions 1 and 2. The second one, for some reason, we wanted it to display \"a bit\" pixelated.\n",
    "\n",
    "- You can also pass the list of values as regular settings and then inform the multiple plot keyword (in this case `subplots`) which settings to vary."
   ]
  },
  {
   "cell_type": "code",
   "execution_count": null,
   "metadata": {},
   "outputs": [],
   "source": [
    "H.plot.wavefunction(\n",
    "    colorscale=[\"temps\", \"portland\", \"peach\", \"viridis\"], i=[0,1,2,3], axes=[0,1], transforms=[\"square\"], zsmooth=\"best\", \n",
    "    subplots=[\"colorscale\", \"i\"], rows=2\n",
    ") "
   ]
  },
  {
   "cell_type": "markdown",
   "metadata": {},
   "source": [
    "There you go, four wavefunctions, each one displayed in a different colorscale :)\n",
    "\n",
    "Remember that these subplots are all sharing the same data, so the eigenstates of the hamiltonian have only been stored once!"
   ]
  },
  {
   "cell_type": "markdown",
   "metadata": {},
   "source": [
    "------------------------------------------\n",
    "This next cell is just to create a thumbnail"
   ]
  },
  {
   "cell_type": "code",
   "execution_count": null,
   "metadata": {
    "tags": [
     "nbsphinx-thumbnail"
    ]
   },
   "outputs": [],
   "source": [
    "_.show(\"png\")"
   ]
  }
 ],
 "metadata": {
  "kernelspec": {
   "display_name": "sislGUIv2",
   "language": "python",
   "name": "sislguiv2"
  },
  "language_info": {
   "codemirror_mode": {
    "name": "ipython",
    "version": 3
   },
   "file_extension": ".py",
   "mimetype": "text/x-python",
   "name": "python",
   "nbconvert_exporter": "python",
   "pygments_lexer": "ipython3",
   "version": "3.6.9"
  }
 },
 "nbformat": 4,
 "nbformat_minor": 2
}