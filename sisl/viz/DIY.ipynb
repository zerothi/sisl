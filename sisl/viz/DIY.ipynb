{
 "cells": [
  {
   "cell_type": "markdown",
   "metadata": {},
   "source": [
    "Why should I read this notebook?\n",
    "------\n",
    "This notebook will show you how to quickly develop python classes that will give you (and whoever you want to share it with) **the power to analyze results incredibly fast**.\n",
    "\n",
    "What do I need to follow this notebook?\n",
    "------\n",
    "*Nothing...*\n",
    "\n",
    "Well, of course, if you want to run the code you need the required packages, so **you should [install sisl](http://zerothi.github.io/sisl/docs/latest/installation.html)**. The most reasonable thing to do is to install it in a virtual environment so that it doesn't mess with your other python installations:\n",
    "\n",
    "Build a venv: `pip3 install venv && python3 -m venv <nameForYourEnvironment>`\n",
    "\n",
    "You also would need to [add the virtual environment to jupyter](https://anbasile.github.io/programming/2017/06/25/jupyter-venv/) so that it can use it.\n",
    "\n",
    "However, if you just want to get a glimpse of how everything works to decide whether you want to do it or not, **you really need nothing**, just keep on reading!"
   ]
  },
  {
   "cell_type": "code",
   "execution_count": null,
   "metadata": {},
   "outputs": [],
   "source": []
  }
 ],
 "metadata": {
  "kernelspec": {
   "display_name": "sislGUI",
   "language": "python",
   "name": "sislgui"
  },
  "language_info": {
   "codemirror_mode": {
    "name": "ipython",
    "version": 3
   },
   "file_extension": ".py",
   "mimetype": "text/x-python",
   "name": "python",
   "nbconvert_exporter": "python",
   "pygments_lexer": "ipython3",
   "version": "3.6.9"
  }
 },
 "nbformat": 4,
 "nbformat_minor": 2
}
