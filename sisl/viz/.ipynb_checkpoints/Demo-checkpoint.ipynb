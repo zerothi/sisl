{
 "cells": [
  {
   "cell_type": "markdown",
   "metadata": {},
   "source": [
    "Hi! Welcome to the starter guide on how to use the sisl visualization module.\n",
    "\n",
    "We are very glad that you are here, and we hope that once you are done with this notebook you will be convinced that **using sisl can make your data analysis much faster**.\n",
    "\n",
    "## Why should I read this notebook?\n",
    "\n",
    "This notebook will show you how to make use of the python classes present in the sisl visualization module to **analyze your results incredibly fast**.\n",
    "\n",
    "Here we will show you how to use the classes programatically, but **if your analysis flow is not extremely complex**, you will probably be **all good with the [graphical interface](https://github.com/pfebrer96/sisl-GUI)**, which will use them for you allow you to visually manage your plots.\n",
    "\n",
    "## What do I need to follow this notebook?\n",
    "\n",
    "*Nothing...*\n",
    "\n",
    "Well, of course, if you want to run the code you need the required packages, so **you should [install sisl](http://zerothi.github.io/sisl/docs/latest/installation.html)**. The most reasonable thing to do is to install it in a virtual environment so that it doesn't mess with your other python installations:\n",
    "\n",
    "Build a virtual environment: `sudo apt-get install python3-venv && python3 -m venv <pathForYourEnvironment>`\n",
    "\n",
    "You also would need to [add the virtual environment to jupyter](https://anbasile.github.io/programming/2017/06/25/jupyter-venv/) so that it can use it.\n",
    "\n",
    "Finally, if you want to see the plots in the notebook you should install *nbformat* in your environment: `pip install nbformat`\n",
    "\n",
    "However, if you just want to get a glimpse of how everything works to decide whether you want to do it or not, **you really need nothing**, just keep on reading!\n",
    "\n",
    "How can I create new plots?\n",
    "-----------\n",
    "\n",
    "This notebook is meant to show you how use plots. Although some comments may be done on the classes' structure to help you understand their behavior, it will not go in depth on how this classes should be built.\n",
    "\n",
    "However, if your purpose is to develop new plots, it is your lucky day! We have a [guide on how to develop plots](DIY.ipynb) and you are highly encouraged to read it :)\n",
    "\n",
    "*Let's begin with the demo!*"
   ]
  },
  {
   "cell_type": "code",
   "execution_count": 1,
   "metadata": {},
   "outputs": [],
   "source": [
    "from sisl.viz import BandsPlot, PdosPlot"
   ]
  },
  {
   "cell_type": "markdown",
   "metadata": {},
   "source": [
    "You can initialize a plot without any settings `your_plot = PlotClass()`, and you will get the defaults:\n",
    "\n",
    "One can always check the current settings either by looking at `your_plot.settings` or by printing the plot instance: `print(your_plot)`. "
   ]
  },
  {
   "cell_type": "code",
   "execution_count": 2,
   "metadata": {},
   "outputs": [
    {
     "name": "stdout",
     "output_type": "stream",
     "text": [
      "The plot has been initialized correctly, but the current settings were not enough to generate the figure.\n",
      " (Error: Could not read or generate data for BandsPlot from any of the possible sources.\n",
      "\n",
      " Here are the errors for each source:\n",
      "\n",
      " \t- guiOut: KeyError.'guiOut'\n",
      "\t- siesOut: AttributeError.'BandsPlot' object has no attribute 'requiredFiles'\n",
      "\t- fromH: AttributeError.'BandsPlot' object has no attribute 'fdfSile'  )\n",
      "\n",
      "    Plot class: BandsPlot    Plot type: Bands\n",
      "        \n",
      "    Settings: \n",
      "    \t- bandsFile: None\n",
      "\t- Erange: [-2, 4]\n",
      "\t- path: 0,0,0/100/0.5,0,0\n",
      "\t- ticks: A,B\n",
      "\t- bandsWidth: 1\n",
      "\t- spinUpColor: black\n",
      "\t- spinDownColor: blue\n",
      "\t- readingOrder: ('guiOut', 'siesOut', 'fromH')\n",
      "\t- rootFdf: None\n",
      "\t- resultsPath: .\n",
      "\t- title: \n",
      "\t- showlegend: True\n",
      "\t- paper_bgcolor: white\n",
      "\t- plot_bgcolor: white\n",
      "\t- xaxis_title: K\n",
      "\t- xaxis_type: -\n",
      "\t- xaxis_visible: True\n",
      "\t- xaxis_color: black\n",
      "\t- xaxis_showgrid: False\n",
      "\t- xaxis_gridcolor: #ccc\n",
      "\t- xaxis_showline: False\n",
      "\t- xaxis_linewidth: 1\n",
      "\t- xaxis_linecolor: black\n",
      "\t- xaxis_zeroline: False\n",
      "\t- xaxis_zerolinecolor: #ccc\n",
      "\t- xaxis_ticks: outside\n",
      "\t- xaxis_tickcolor: white\n",
      "\t- xaxis_ticklen: 5\n",
      "\t- yaxis_title: Energy (eV)\n",
      "\t- yaxis_type: -\n",
      "\t- yaxis_visible: True\n",
      "\t- yaxis_color: black\n",
      "\t- yaxis_showgrid: False\n",
      "\t- yaxis_gridcolor: #ccc\n",
      "\t- yaxis_showline: False\n",
      "\t- yaxis_linewidth: 1\n",
      "\t- yaxis_linecolor: black\n",
      "\t- yaxis_zeroline: True\n",
      "\t- yaxis_zerolinecolor: #ccc\n",
      "\t- yaxis_ticks: outside\n",
      "\t- yaxis_tickcolor: white\n",
      "\t- yaxis_ticklen: 5\n",
      "        \n",
      "        \n"
     ]
    }
   ],
   "source": [
    "bp = BandsPlot()\n",
    "print(bp)"
   ]
  },
  {
   "cell_type": "markdown",
   "metadata": {},
   "source": [
    "Then, you could provide an fdf file and read the data from it. Note that **at any point** (also on initialization) **you can pass any setting to the methods** and the settings will get updated before executing the method."
   ]
  },
  {
   "cell_type": "code",
   "execution_count": 3,
   "metadata": {},
   "outputs": [
    {
     "ename": "FileNotFoundError",
     "evalue": "[Errno 2] No such file or directory: '/path/to/fdf'",
     "output_type": "error",
     "traceback": [
      "\u001b[0;31m---------------------------------------------------------------------------\u001b[0m",
      "\u001b[0;31mFileNotFoundError\u001b[0m                         Traceback (most recent call last)",
      "\u001b[0;32m<ipython-input-3-19ff952e2e07>\u001b[0m in \u001b[0;36m<module>\u001b[0;34m\u001b[0m\n\u001b[0;32m----> 1\u001b[0;31m \u001b[0mbp\u001b[0m\u001b[0;34m.\u001b[0m\u001b[0msetFiles\u001b[0m\u001b[0;34m(\u001b[0m\u001b[0mrootFdf\u001b[0m \u001b[0;34m=\u001b[0m \u001b[0;34m\"/path/to/fdf\"\u001b[0m\u001b[0;34m)\u001b[0m\u001b[0;34m\u001b[0m\u001b[0;34m\u001b[0m\u001b[0m\n\u001b[0m",
      "\u001b[0;32m~/webDevelopement/sislGUI/sisl/sisl/viz/configurable.py\u001b[0m in \u001b[0;36mupdateAndExecute\u001b[0;34m(obj, *args, **kwargs)\u001b[0m\n\u001b[1;32m    124\u001b[0m         \u001b[0mobj\u001b[0m\u001b[0;34m.\u001b[0m\u001b[0mupdateSettings\u001b[0m\u001b[0;34m(\u001b[0m\u001b[0;34m**\u001b[0m\u001b[0mkwargs\u001b[0m\u001b[0;34m,\u001b[0m \u001b[0mexFromDecorator\u001b[0m \u001b[0;34m=\u001b[0m \u001b[0;32mTrue\u001b[0m\u001b[0;34m)\u001b[0m\u001b[0;34m\u001b[0m\u001b[0;34m\u001b[0m\u001b[0m\n\u001b[1;32m    125\u001b[0m \u001b[0;34m\u001b[0m\u001b[0m\n\u001b[0;32m--> 126\u001b[0;31m         \u001b[0;32mreturn\u001b[0m \u001b[0mmethod\u001b[0m\u001b[0;34m(\u001b[0m\u001b[0mobj\u001b[0m\u001b[0;34m,\u001b[0m \u001b[0;34m*\u001b[0m\u001b[0margs\u001b[0m\u001b[0;34m,\u001b[0m \u001b[0;34m**\u001b[0m\u001b[0mkwargs\u001b[0m\u001b[0;34m)\u001b[0m\u001b[0;34m\u001b[0m\u001b[0;34m\u001b[0m\u001b[0m\n\u001b[0m\u001b[1;32m    127\u001b[0m \u001b[0;34m\u001b[0m\u001b[0m\n\u001b[1;32m    128\u001b[0m     \u001b[0;32mreturn\u001b[0m \u001b[0mupdateAndExecute\u001b[0m\u001b[0;34m\u001b[0m\u001b[0;34m\u001b[0m\u001b[0m\n",
      "\u001b[0;32m~/webDevelopement/sislGUI/sisl/sisl/viz/plot.py\u001b[0m in \u001b[0;36msetFiles\u001b[0;34m(self, **kwargs)\u001b[0m\n\u001b[1;32m    509\u001b[0m         \u001b[0mself\u001b[0m\u001b[0;34m.\u001b[0m\u001b[0mwdir\u001b[0m \u001b[0;34m=\u001b[0m \u001b[0mos\u001b[0m\u001b[0;34m.\u001b[0m\u001b[0mpath\u001b[0m\u001b[0;34m.\u001b[0m\u001b[0mjoin\u001b[0m\u001b[0;34m(\u001b[0m\u001b[0mself\u001b[0m\u001b[0;34m.\u001b[0m\u001b[0mrootDir\u001b[0m\u001b[0;34m,\u001b[0m \u001b[0mself\u001b[0m\u001b[0;34m.\u001b[0m\u001b[0msettings\u001b[0m\u001b[0;34m[\u001b[0m\u001b[0;34m\"resultsPath\"\u001b[0m\u001b[0;34m]\u001b[0m\u001b[0;34m)\u001b[0m\u001b[0;34m\u001b[0m\u001b[0;34m\u001b[0m\u001b[0m\n\u001b[1;32m    510\u001b[0m         \u001b[0mself\u001b[0m\u001b[0;34m.\u001b[0m\u001b[0mfdfSile\u001b[0m \u001b[0;34m=\u001b[0m \u001b[0msisl\u001b[0m\u001b[0;34m.\u001b[0m\u001b[0mget_sile\u001b[0m\u001b[0;34m(\u001b[0m\u001b[0mrootFdf\u001b[0m\u001b[0;34m)\u001b[0m\u001b[0;34m\u001b[0m\u001b[0;34m\u001b[0m\u001b[0m\n\u001b[0;32m--> 511\u001b[0;31m         \u001b[0mself\u001b[0m\u001b[0;34m.\u001b[0m\u001b[0mstruct\u001b[0m \u001b[0;34m=\u001b[0m \u001b[0mself\u001b[0m\u001b[0;34m.\u001b[0m\u001b[0mfdfSile\u001b[0m\u001b[0;34m.\u001b[0m\u001b[0mget\u001b[0m\u001b[0;34m(\u001b[0m\u001b[0;34m\"SystemLabel\"\u001b[0m\u001b[0;34m,\u001b[0m \u001b[0;34m\"\"\u001b[0m\u001b[0;34m)\u001b[0m\u001b[0;34m\u001b[0m\u001b[0;34m\u001b[0m\u001b[0m\n\u001b[0m\u001b[1;32m    512\u001b[0m \u001b[0;34m\u001b[0m\u001b[0m\n\u001b[1;32m    513\u001b[0m         \u001b[0;31m#Update the title\u001b[0m\u001b[0;34m\u001b[0m\u001b[0;34m\u001b[0m\u001b[0;34m\u001b[0m\u001b[0m\n",
      "\u001b[0;32m~/webDevelopement/sislGUI/sisl/sisl/io/sile.py\u001b[0m in \u001b[0;36mpre_open\u001b[0;34m(self, *args, **kwargs)\u001b[0m\n\u001b[1;32m    486\u001b[0m                 \u001b[0;32mif\u001b[0m \u001b[0mhasattr\u001b[0m\u001b[0;34m(\u001b[0m\u001b[0mself\u001b[0m\u001b[0;34m,\u001b[0m \u001b[0;34m\"fh\"\u001b[0m\u001b[0;34m)\u001b[0m\u001b[0;34m:\u001b[0m\u001b[0;34m\u001b[0m\u001b[0;34m\u001b[0m\u001b[0m\n\u001b[1;32m    487\u001b[0m                     \u001b[0;32mreturn\u001b[0m \u001b[0mfunc\u001b[0m\u001b[0;34m(\u001b[0m\u001b[0mself\u001b[0m\u001b[0;34m,\u001b[0m \u001b[0;34m*\u001b[0m\u001b[0margs\u001b[0m\u001b[0;34m,\u001b[0m \u001b[0;34m**\u001b[0m\u001b[0mkwargs\u001b[0m\u001b[0;34m)\u001b[0m\u001b[0;34m\u001b[0m\u001b[0;34m\u001b[0m\u001b[0m\n\u001b[0;32m--> 488\u001b[0;31m                 \u001b[0;32mwith\u001b[0m \u001b[0mself\u001b[0m\u001b[0;34m:\u001b[0m\u001b[0;34m\u001b[0m\u001b[0;34m\u001b[0m\u001b[0m\n\u001b[0m\u001b[1;32m    489\u001b[0m                     \u001b[0;32mreturn\u001b[0m \u001b[0mfunc\u001b[0m\u001b[0;34m(\u001b[0m\u001b[0mself\u001b[0m\u001b[0;34m,\u001b[0m \u001b[0;34m*\u001b[0m\u001b[0margs\u001b[0m\u001b[0;34m,\u001b[0m \u001b[0;34m**\u001b[0m\u001b[0mkwargs\u001b[0m\u001b[0;34m)\u001b[0m\u001b[0;34m\u001b[0m\u001b[0;34m\u001b[0m\u001b[0m\n\u001b[1;32m    490\u001b[0m             \u001b[0;32mreturn\u001b[0m \u001b[0mpre_open\u001b[0m\u001b[0;34m\u001b[0m\u001b[0;34m\u001b[0m\u001b[0m\n",
      "\u001b[0;32m~/webDevelopement/sislGUI/sisl/sisl/io/sile.py\u001b[0m in \u001b[0;36m__enter__\u001b[0;34m(self)\u001b[0m\n\u001b[1;32m    522\u001b[0m     \u001b[0;32mdef\u001b[0m \u001b[0m__enter__\u001b[0m\u001b[0;34m(\u001b[0m\u001b[0mself\u001b[0m\u001b[0;34m)\u001b[0m\u001b[0;34m:\u001b[0m\u001b[0;34m\u001b[0m\u001b[0;34m\u001b[0m\u001b[0m\n\u001b[1;32m    523\u001b[0m         \u001b[0;34m\"\"\" Opens the output file and returns it self \"\"\"\u001b[0m\u001b[0;34m\u001b[0m\u001b[0;34m\u001b[0m\u001b[0m\n\u001b[0;32m--> 524\u001b[0;31m         \u001b[0mself\u001b[0m\u001b[0;34m.\u001b[0m\u001b[0m_open\u001b[0m\u001b[0;34m(\u001b[0m\u001b[0;34m)\u001b[0m\u001b[0;34m\u001b[0m\u001b[0;34m\u001b[0m\u001b[0m\n\u001b[0m\u001b[1;32m    525\u001b[0m         \u001b[0;32mreturn\u001b[0m \u001b[0mself\u001b[0m\u001b[0;34m\u001b[0m\u001b[0;34m\u001b[0m\u001b[0m\n\u001b[1;32m    526\u001b[0m \u001b[0;34m\u001b[0m\u001b[0m\n",
      "\u001b[0;32m~/webDevelopement/sislGUI/sisl/sisl/io/sile.py\u001b[0m in \u001b[0;36m_open\u001b[0;34m(self)\u001b[0m\n\u001b[1;32m    517\u001b[0m             \u001b[0mself\u001b[0m\u001b[0;34m.\u001b[0m\u001b[0mfh\u001b[0m \u001b[0;34m=\u001b[0m \u001b[0mgzip\u001b[0m\u001b[0;34m.\u001b[0m\u001b[0mopen\u001b[0m\u001b[0;34m(\u001b[0m\u001b[0mself\u001b[0m\u001b[0;34m.\u001b[0m\u001b[0mfile\u001b[0m\u001b[0;34m)\u001b[0m\u001b[0;34m\u001b[0m\u001b[0;34m\u001b[0m\u001b[0m\n\u001b[1;32m    518\u001b[0m         \u001b[0;32melse\u001b[0m\u001b[0;34m:\u001b[0m\u001b[0;34m\u001b[0m\u001b[0;34m\u001b[0m\u001b[0m\n\u001b[0;32m--> 519\u001b[0;31m             \u001b[0mself\u001b[0m\u001b[0;34m.\u001b[0m\u001b[0mfh\u001b[0m \u001b[0;34m=\u001b[0m \u001b[0mopen\u001b[0m\u001b[0;34m(\u001b[0m\u001b[0mself\u001b[0m\u001b[0;34m.\u001b[0m\u001b[0mfile\u001b[0m\u001b[0;34m,\u001b[0m \u001b[0mself\u001b[0m\u001b[0;34m.\u001b[0m\u001b[0m_mode\u001b[0m\u001b[0;34m)\u001b[0m\u001b[0;34m\u001b[0m\u001b[0;34m\u001b[0m\u001b[0m\n\u001b[0m\u001b[1;32m    520\u001b[0m         \u001b[0mself\u001b[0m\u001b[0;34m.\u001b[0m\u001b[0m_line\u001b[0m \u001b[0;34m=\u001b[0m \u001b[0;36m0\u001b[0m\u001b[0;34m\u001b[0m\u001b[0;34m\u001b[0m\u001b[0m\n\u001b[1;32m    521\u001b[0m \u001b[0;34m\u001b[0m\u001b[0m\n",
      "\u001b[0;31mFileNotFoundError\u001b[0m: [Errno 2] No such file or directory: '/path/to/fdf'"
     ]
    }
   ],
   "source": [
    "bp.setFiles(rootFdf = \"/path/to/fdf\")"
   ]
  },
  {
   "cell_type": "markdown",
   "metadata": {},
   "source": [
    "The `readData()`, `setData()` and `getFigure()` methods are the three main methods of a plot class. They are meant to be called in that order during the analysis flow. By default, if you call `readData()` or `setData()` the changes will propagate forward, but you could always stop that from happening by passing the `updateFig = false` argument."
   ]
  },
  {
   "cell_type": "code",
   "execution_count": null,
   "metadata": {},
   "outputs": [],
   "source": [
    "bp.readData(lineColors = [\"green\", \"yellow\"])\n",
    "bp.show()"
   ]
  },
  {
   "cell_type": "code",
   "execution_count": null,
   "metadata": {},
   "outputs": [],
   "source": [
    "bp.setData(lineColors=[\"red\", \"black\"], updateFig = False)\n",
    "bp.show()"
   ]
  },
  {
   "cell_type": "code",
   "execution_count": null,
   "metadata": {
    "scrolled": false
   },
   "outputs": [],
   "source": [
    "bp.getFigure()"
   ]
  },
  {
   "cell_type": "markdown",
   "metadata": {},
   "source": [
    "Alternatively, if you don't know which method should you run and you just want to see your plot updated, you can use the very convenient method `updateSettings()`. It automatically **knows exactly which methods need to be run** in order to get the plot updated. Cool, isn't it?  "
   ]
  },
  {
   "cell_type": "code",
   "execution_count": null,
   "metadata": {},
   "outputs": [],
   "source": [
    "bp.updateSettings(lineColors = [\"orange\"]).show()"
   ]
  },
  {
   "cell_type": "markdown",
   "metadata": {},
   "source": [
    "Because life is to stressful already, we don't want you to feel pressure when updating your plot's settings. Whenever you feel like you've made your plot worse, **you can always go back to the previous settings** by using the `undoSettings()` method, which also updates the figure.\n",
    "\n",
    "Note: you can pass the `nsteps` keyword if you feel nostalgic and want to go waaay back."
   ]
  },
  {
   "cell_type": "code",
   "execution_count": null,
   "metadata": {},
   "outputs": [],
   "source": [
    "bp.undoSettings().show()"
   ]
  },
  {
   "cell_type": "markdown",
   "metadata": {},
   "source": [
    "If you feel lost after all your changes, **you can get the history of a given setting** (this is useful to know how many steps you need to go back, for example)."
   ]
  },
  {
   "cell_type": "code",
   "execution_count": null,
   "metadata": {},
   "outputs": [],
   "source": [
    "#Go back to the first time the plot was green\n",
    "lineColorsHist = bp.getSettingHistory(\"lineColors\")\n",
    "\n",
    "for i, lineColors in enumerate(lineColorsHist):\n",
    "    \n",
    "    if \"green\" in lineColors:\n",
    "        bp.undoSettings(nsteps = len(lineColorsHist) - (i+1) )\n",
    "        break\n",
    "        \n",
    "bp.show()"
   ]
  },
  {
   "cell_type": "markdown",
   "metadata": {},
   "source": [
    "Are you struggling to compare two plots? Well, you are in luck! You can take profit of the merge method of the `Plot` class to **merge as much plots as you wish**. At the current moment, however, you will neet to apply all the settings you need before merging, as afterwards you won't be able to set settings for each plot separately. "
   ]
  },
  {
   "cell_type": "code",
   "execution_count": null,
   "metadata": {},
   "outputs": [],
   "source": [
    "bp1 = BandsPlot(rootFdf = \"/path/to/first/fdf\",\n",
    "               lineColors = [\"black\"])\n",
    "bp2 = BandsPlot(rootFdf = \"/path/to/second/fdf\",\n",
    "               lineColors = [\"red\"])\n",
    "bp3 = BandsPlot(rootFdf = \"/path/to/third/fdf\",\n",
    "                lineColors = [\"green\"])"
   ]
  },
  {
   "cell_type": "code",
   "execution_count": null,
   "metadata": {},
   "outputs": [],
   "source": [
    "bp1.merge([bp2, bp3]).show()"
   ]
  }
 ],
 "metadata": {
  "kernelspec": {
   "display_name": "sislGUI",
   "language": "python",
   "name": "sislgui"
  },
  "language_info": {
   "codemirror_mode": {
    "name": "ipython",
    "version": 3
   },
   "file_extension": ".py",
   "mimetype": "text/x-python",
   "name": "python",
   "nbconvert_exporter": "python",
   "pygments_lexer": "ipython3",
   "version": "3.6.8"
  }
 },
 "nbformat": 4,
 "nbformat_minor": 2
}
