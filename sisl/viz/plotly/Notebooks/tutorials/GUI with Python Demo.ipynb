{
 "cells": [
  {
   "cell_type": "markdown",
   "metadata": {},
   "source": [
    "<div style=\"background: #f5e8e6; padding:20px; border-radius: 10px; margin: 10px 0px; font-weight: bold; text-align: center\">\n",
    "    Hi! Welcome to the starter guide on how to interact with the graphical interface in python.\n",
    "</div>\n",
    "\n",
    "<div style=\"background: aliceblue; padding:20px; border-radius: 10px\">\n",
    "\n",
    "## Should I read any other notebook before this one?\n",
    "    \n",
    "**Probably yes**. In this notebook we will assume that you already know how the basic stuff in the sisl visualization module works. Therefore, if you haven't done so yet, we advice you to read the [Demo Notebook](./Demo.ipynb) first.\n",
    "    \n",
    "If you have done so, great! You will be able to benefit much more from this notebook.\n",
    "\n",
    "## Why should I read this notebook?\n",
    "\n",
    "This notebook will show you how you can benefit from knowing how to interact with the [graphical interface](https://github.com/pfebrer96/sisl/tree/GUI/sisl/viz/GUI). Some things just make no sense to do with just clicks, but having a dashboard to visualize and layout your automatically-generated plots is great. However there are some things that the GUI can already help you do automatically. **You will be a true master in the moment you know how to use sisl plots in pyton, how to use the GUI and how to make the two worlds interact**.\n",
    "    \n",
    "But don't worry, it is not that difficult really to become a true master :)\n",
    "    \n",
    "You will also understand that you can build your own custom sessions to adapt to your needs, **boost your productivity and save you hours of work**.\n",
    "\n",
    "## What do I need to follow this notebook?\n",
    "\n",
    "*Nothing...*\n",
    "\n",
    "Well, of course, if you want to run the code you need the required packages, so **you should install sisl**. The most reasonable thing to do is to install it in a virtual environment so that it doesn't mess with your other python installations:\n",
    "\n",
    "**Virtual environment with venv:**\n",
    "\n",
    "`\n",
    "python3 -m venv <pathForYourEnvironment>\n",
    "`\n",
    "\n",
    "You also would need to [add the virtual environment to jupyter](https://anbasile.github.io/programming/2017/06/25/jupyter-venv/) so that it can use it.\n",
    "\n",
    "**Virtual environment with conda:**\n",
    "\n",
    "`\n",
    "conda create -n <name of your environment> python=3.6\n",
    "`\n",
    "\n",
    "*More info on environment management with conda:* https://docs.conda.io/projects/conda/en/4.6.0/_downloads/52a95608c49671267e40c689e0bc00ca/conda-cheatsheet.pdf)\n",
    "\n",
    "**Install sisl from the GUI branch (currently in developement):**\n",
    "\n",
    "```\n",
    "git clone -b GUI https://github.com/pfebrer96/sisl.git\n",
    "cd sisl\n",
    "pip install -e .\n",
    "```\n",
    "\n",
    "In this way, you will install sisl in *developement mode*, which basically means that you can `git pull` at any time and python will use the updated version of the package.\n",
    "\n",
    "\n",
    "\n",
    "\n",
    "\n",
    "Finally, if you want to see the plots in the notebook you should install *nbformat* in your environment: `pip install nbformat`\n",
    "\n",
    "However, if you just want to get a glimpse of how everything works to decide whether you want to use it or not, **you really need nothing**, just keep on reading!\n",
    "\n",
    "How can I create new plots?\n",
    "-----------\n",
    "\n",
    "This notebook is meant to show you how to make the GUI and python interact.\n",
    "    \n",
    "If you want to know how to develop new plots, we have a [guide on how to do so](DIY.ipynb) and you are highly encouraged to read it :)\n",
    "\n",
    "*Let's begin with the demo!*\n",
    "</div>"
   ]
  },
  {
   "cell_type": "markdown",
   "metadata": {},
   "source": [
    "**Disclaimer**: *This notebook will be very simple and straightforward.*"
   ]
  },
  {
   "cell_type": "code",
   "execution_count": null,
   "metadata": {},
   "outputs": [],
   "source": [
    "%%html\n",
    "<! RUN ME PLEASEEEEEE>\n",
    "<style>\n",
    ".user {\n",
    "    background:aliceblue;\n",
    "    padding:5px 10px;\n",
    "    margin 0px 10px;\n",
    "    border-radius: 3px;\n",
    "    color: darkblue;\n",
    "    font-style:italic\n",
    "}\n",
    "</style>"
   ]
  },
  {
   "cell_type": "markdown",
   "metadata": {},
   "source": [
    "## 1. LAUNCHING THE GUI"
   ]
  },
  {
   "cell_type": "code",
   "execution_count": null,
   "metadata": {},
   "outputs": [],
   "source": [
    "from sisl.viz import GUI \n",
    "\n",
    "GUI.launch()"
   ]
  },
  {
   "cell_type": "markdown",
   "metadata": {},
   "source": [
    "A browser tab should have opened. Do you see it?\n",
    "\n",
    "<span class=\"user\">Nope...</span>\n",
    "\n",
    "Ok, in that case you can check the server's adress and open it in your favourite browser:"
   ]
  },
  {
   "cell_type": "code",
   "execution_count": null,
   "metadata": {},
   "outputs": [],
   "source": [
    "GUI.server.SERVER_ADRESS"
   ]
  },
  {
   "cell_type": "markdown",
   "metadata": {},
   "source": [
    "## 2. UNDERSTANDING HOW THE GUI WORKS"
   ]
  },
  {
   "cell_type": "markdown",
   "metadata": {},
   "source": [
    "Well, it's not magic. It uses a structure that you will probably be familiar with already.\n",
    "\n",
    "There is a session. This session contains tabs. Tabs contain plots."
   ]
  },
  {
   "cell_type": "markdown",
   "metadata": {},
   "source": [
    "<span class=\"user\">How can I see that session?</span>"
   ]
  },
  {
   "cell_type": "code",
   "execution_count": null,
   "metadata": {},
   "outputs": [],
   "source": [
    "GUI.session"
   ]
  },
  {
   "cell_type": "markdown",
   "metadata": {},
   "source": [
    "<span class=\"user\">What can I do with it?</span>\n",
    "\n",
    "Use half screen for the GUI and another half for this notebook and I will show you. Or, you know, use two monitors in case you are living a fancy life."
   ]
  },
  {
   "cell_type": "code",
   "execution_count": null,
   "metadata": {},
   "outputs": [],
   "source": [
    "# Let's write the session to a new variable for convenience\n",
    "session = GUI.session\n",
    "\n",
    "# Then add a new tab ( run help(session) to see all the available methods )\n",
    "session.add_tab(\"Tab added from jupyter\")"
   ]
  },
  {
   "cell_type": "markdown",
   "metadata": {},
   "source": [
    "Do you see the magic?\n",
    "\n",
    "<span class=\"user\">No.</span>\n",
    "\n",
    "Yeah me neither. You have added a new tab, but the GUI still doesn't know about it. One way of solving this is to refresh the browser with F5.\n",
    "\n",
    "<span class=\"user\">Lame.</span>\n",
    "\n",
    "I know. That's why there are better ways. You can either emit the changes when you are ready:"
   ]
  },
  {
   "cell_type": "code",
   "execution_count": null,
   "metadata": {},
   "outputs": [],
   "source": [
    "session.emit()"
   ]
  },
  {
   "cell_type": "markdown",
   "metadata": {},
   "source": [
    "Or use the magic of autosync:"
   ]
  },
  {
   "cell_type": "code",
   "execution_count": null,
   "metadata": {},
   "outputs": [],
   "source": [
    "session.autosync.add_tab(\"This is syncing!\")"
   ]
  },
  {
   "cell_type": "markdown",
   "metadata": {},
   "source": [
    "<span class=\"user\">That's cool, but do I have to write autosync each time?.</span>\n",
    "\n",
    "No, the autosync property basically returns your session with autosyncing super-powers. So, you can store that and then run your methods happily:"
   ]
  },
  {
   "cell_type": "code",
   "execution_count": null,
   "metadata": {},
   "outputs": [],
   "source": [
    "# From now on we are going to just the autosynced version of the\n",
    "# session. We could keep the other one, but we just don't care\n",
    "# so we will overwrite it\n",
    "session = session.autosync\n",
    "\n",
    "# Just delete our useless tabs\n",
    "session.remove_tab('This is syncing!')\n",
    "session.remove_tab('Tab added from jupyter')"
   ]
  },
  {
   "cell_type": "markdown",
   "metadata": {},
   "source": [
    "We can now start to add plots."
   ]
  },
  {
   "cell_type": "code",
   "execution_count": null,
   "metadata": {},
   "outputs": [],
   "source": [
    "from sisl.viz import Plot\n",
    "\n",
    "# Let's start a PDOS plot\n",
    "plot = Plot(\"../files/SrTiO3.PDOS\")\n",
    "\n",
    "session.add_plot(plot, \"First tab\")"
   ]
  },
  {
   "cell_type": "markdown",
   "metadata": {},
   "source": [
    "Can you see it?\n",
    "\n",
    "<span class=\"user\">No.</span>\n",
    "\n",
    "Maybe you don't have the tab open in the GUI.\n",
    "\n",
    "Now, you should be able to interact as you wish with it. Since the reference is kept, you are able to run the methods on your notebook variable directly. Like so:"
   ]
  },
  {
   "cell_type": "code",
   "execution_count": null,
   "metadata": {},
   "outputs": [],
   "source": [
    "plot.autosync.split_DOS(on=\"species\")\n",
    "# Yes, plots can also autosync after they have been bound to a session"
   ]
  },
  {
   "cell_type": "markdown",
   "metadata": {},
   "source": [
    "Let's add two more plots to this tab."
   ]
  },
  {
   "cell_type": "code",
   "execution_count": null,
   "metadata": {},
   "outputs": [],
   "source": [
    "bands = Plot(\"../files/SrTiO3.bands\")\n",
    "rho = Plot(\"../files/SrTiO3.RHO\")\n",
    "\n",
    "for pt in (rho, bands):\n",
    "    session.add_plot(pt, \"First tab\")"
   ]
  },
  {
   "cell_type": "markdown",
   "metadata": {},
   "source": [
    "## 3. CHANGING THE GUI'S LAYOUT"
   ]
  },
  {
   "cell_type": "markdown",
   "metadata": {},
   "source": [
    "Each tab has a `layouts` attribute:"
   ]
  },
  {
   "cell_type": "code",
   "execution_count": null,
   "metadata": {},
   "outputs": [],
   "source": [
    "session.tab(\"First tab\")"
   ]
  },
  {
   "cell_type": "markdown",
   "metadata": {},
   "source": [
    "This `layouts` attribute is a dictionary stating how plots should be displayed in different screen sizes (e.g. `lg` is the largest and `xxs` is the smallest). You can change this very easily using the GUI by resizing and dragging your plots, but if you need the same layout every time it is definitely not ideal.\n",
    "\n",
    "The `layouts` structure seems a bit complicated. But don't worry, usually you just need to set the `lg` size, because this is how you see it in a computer. Just ignore the other sizes. \n",
    "\n",
    "As you can see, the `lg` size is a list of dicts, each dict contains:\n",
    "- `w`: The width of the plot in columns out of a total of { lg: 12, sm: 6, xs: 4, xxs: 2 } columns.\n",
    "- `h`: The height of the plot. I don't really know the scale of this honestly. Just try to see what fits best for you.\n",
    "- `x`: The position along the x axis of the left side of the plot (in columns).\n",
    "- `y`: The position along the y axis of the top part of the plot.\n",
    "- `id`: The ID of the plot to which this properties apply. It is available under `plot.id`\n",
    "- `moved`: Whether the plot has been moved.\n",
    "- `static`: Whether the GUI should prevent users from resizing/dragging this plot.\n",
    "\n",
    "I'd say the best strategy is probably to **set the layout in the GUI and then copy it to build your automatic layouts**. In my case, I like how this one looks:\n",
    "\n",
    "[{'w': 6,\n",
    "    'h': 28,\n",
    "    'x': 0,\n",
    "    'y': 0,\n",
    "    'i': '26c94e23-9f6b-4bce-b0a4-3363e69f0fd3',\n",
    "    'moved': False,\n",
    "    'static': False},\n",
    "   {'w': 12,\n",
    "    'h': 14,\n",
    "    'x': 0,\n",
    "    'y': 28,\n",
    "    'i': '0a2f9502-3fbb-4c06-a402-8d46518d3bc3',\n",
    "    'moved': False,\n",
    "    'static': False},\n",
    "   {'w': 6,\n",
    "    'h': 28,\n",
    "    'x': 6,\n",
    "    'y': 0,\n",
    "    'i': 'f6ae7c4a-38c6-4d36-81cb-04c73a794555',\n",
    "    'moved': False,\n",
    "    'static': False}]\n",
    "    \n",
    "So I'm just going to use it automating the ID stuff:"
   ]
  },
  {
   "cell_type": "code",
   "execution_count": null,
   "metadata": {},
   "outputs": [],
   "source": [
    "struct = \"SrTiO3\"\n",
    "tab_name = \"Layout attempt\"\n",
    "\n",
    "session.add_tab(tab_name)\n",
    "\n",
    "# Get all the plots\n",
    "plots = [Plot(f'../files/{struct}.{ext}') for ext in (\"PDOS\", \"RHO\", \"bands\")]\n",
    "\n",
    "for plot in plots:\n",
    "    session.add_plot(plot, tab_name)\n",
    "    \n",
    "# This is how you update tab parameters\n",
    "# (in this case, we want to update the layouts parameter)\n",
    "session.update_tab(\n",
    "    tab_name, \n",
    "    layouts = {'lg': [\n",
    "        {'w': 6, 'h': 28, 'x': 0, 'y': 0, 'i': plots[0].id, 'static': False},\n",
    "        {'w': 12, 'h': 14, 'x': 0, 'y': 28, 'i': plots[1].id, 'static': False},\n",
    "        {'w': 6, 'h': 28, 'x': 6, 'y': 0, 'i': plots[2].id, 'static': False}\n",
    "    ]}\n",
    ")\n",
    "\n",
    "# And also I'd like the PDOS to be splitted on species\n",
    "plots[0].split_DOS(on=\"species\").update_settings(Erange=[-10,10]).emit()\n",
    "# And the bands to show the gap\n",
    "plots[2].update_settings(gap=True, Erange=[-10,10]).emit()"
   ]
  },
  {
   "cell_type": "markdown",
   "metadata": {},
   "source": [
    "You can check the \"Layout attempt\" tab to see that we really achieved what we wanted."
   ]
  },
  {
   "cell_type": "markdown",
   "metadata": {},
   "source": [
    "## 4. BUILDING YOUR OWN CUSTOM SESSIONS"
   ]
  },
  {
   "cell_type": "markdown",
   "metadata": {},
   "source": [
    "Well, at this point there is not much mistery to it. Specially if you have gone through the [guide on how to build plots](./DIY.ipynb) You just need to extend the `Session` class. `Session`, as `Plot`, inherits from `Configurable`, so you have exactly the same management of settings.\n",
    "\n",
    "**If you have not read the guide for plots, don't worry**. The basics to build a session class are very simple.\n",
    "\n",
    "Let's build a session using what we wrote in the previous section. We really just need to change the `session` variable for `self` and we have a method!"
   ]
  },
  {
   "cell_type": "code",
   "execution_count": null,
   "metadata": {},
   "outputs": [],
   "source": [
    "# Import the parent class\n",
    "from sisl.viz import Session\n",
    "import os\n",
    "\n",
    "# Start building our session\n",
    "class VeryCoolSession(Session):\n",
    "    \n",
    "    # Add the method to see PDOS, bands and RHO of a structure\n",
    "    def see_results(self, struct, wdir='../files', tab_name=None):\n",
    "        \n",
    "        if tab_name is None:\n",
    "            tab_name = struct\n",
    "            \n",
    "        self.add_tab(tab_name)\n",
    "\n",
    "        plots = [Plot(os.path.join(wdir, f'{struct}.{ext}')) for ext in (\"PDOS\", \"RHO\", \"bands\")]\n",
    "\n",
    "        for plot in plots:\n",
    "            self.add_plot(plot, tab_name)\n",
    "\n",
    "        # This is how you update tab parameters\n",
    "        self.update_tab(\n",
    "            tab_name, \n",
    "            layouts = {'lg': [\n",
    "                {'w': 6, 'h': 28, 'x': 0, 'y': 0, 'i': plots[0].id, 'static': False},\n",
    "                {'w': 12, 'h': 14, 'x': 0, 'y': 28, 'i': plots[1].id, 'static': False},\n",
    "                {'w': 6, 'h': 28, 'x': 6, 'y': 0, 'i': plots[2].id, 'static': False}\n",
    "            ]}\n",
    "        )\n",
    "\n",
    "        # And also I'd like the PDOS to be splitted ¿on species\n",
    "        plots[0].split_DOS(on=\"species\").update_settings(Erange=[-10,10])\n",
    "        # And the bands to show the gap\n",
    "        plots[2].update_settings(gap=True, Erange=[-10,10])\n"
   ]
  },
  {
   "cell_type": "markdown",
   "metadata": {},
   "source": [
    "And that's basically it.\n",
    "\n",
    "<span class=\"user\">Yeah nice but how do I use this session now</span>\n",
    "\n",
    "You just need to set the session of the GUI:"
   ]
  },
  {
   "cell_type": "code",
   "execution_count": null,
   "metadata": {},
   "outputs": [],
   "source": [
    "# Maybe you want to save the existing one?\n",
    "# session.save(\"My first try.session\")\n",
    "\n",
    "# We initialize the session\n",
    "new_session = VeryCoolSession()\n",
    "# And then we just tell the GUI to use it\n",
    "GUI.api.set_session(new_session)"
   ]
  },
  {
   "cell_type": "markdown",
   "metadata": {},
   "source": [
    "Now, let's see if this works:"
   ]
  },
  {
   "cell_type": "code",
   "execution_count": null,
   "metadata": {},
   "outputs": [],
   "source": [
    "new_session.autosync.see_results(\"SrTiO3\")"
   ]
  },
  {
   "cell_type": "markdown",
   "metadata": {},
   "source": [
    "Just take a moment now to admire the simplicity of the previous line and the beauty and usefulness that it can bring to your research.\n",
    "\n",
    "With this, we end this short but intense tutorial. I hope that I have been able to convince you of the power this gives to you, but if not, thanks for the read anyway :)\n",
    "\n",
    "Just as a last thing, notice that you can add parameters to the session and they can be tweaked from the GUI. Give a glimpse at the [notebook where plot building is explained](./DIY.ipynb) if you are further interested, there's a section where parameters are introduced, close to the beggining.\n",
    "\n",
    "Oh, and by the way, you can load saved sessions just as we did with plots in the [Demo Notebook](./Demo.ipynb)\n",
    "\n",
    "If there is a request for further tutorials on sessions, we will extend more on the topic, so don't hesitate to ask.\n",
    "\n",
    "Cheers!"
   ]
  },
  {
   "cell_type": "code",
   "execution_count": null,
   "metadata": {},
   "outputs": [],
   "source": []
  }
 ],
 "metadata": {
  "kernelspec": {
   "display_name": "sislGUIv2",
   "language": "python",
   "name": "sislguiv2"
  },
  "language_info": {
   "codemirror_mode": {
    "name": "ipython",
    "version": 3
   },
   "file_extension": ".py",
   "mimetype": "text/x-python",
   "name": "python",
   "nbconvert_exporter": "python",
   "pygments_lexer": "ipython3",
   "version": "3.6.9"
  }
 },
 "nbformat": 4,
 "nbformat_minor": 2
}
