{
 "cells": [
  {
   "cell_type": "markdown",
   "metadata": {},
   "source": [
    "<div style=\"background: #f5e8e6; padding:20px; border-radius: 10px; margin: 10px 0px; font-weight: bold; text-align: center\">\n",
    "    Welcome to the showcase notebook for the <$plotclass$> class!\n",
    "</div>\n",
    "\n",
    "<div style=\"background: aliceblue; padding:20px; border-radius: 10px\">\n",
    "\n",
    "In this notebook, we will show you how the powers of <$plotclass$> so that you don't need to spend hours trying to figure it out.\n",
    "    \n",
    "### Why is this <$plotclass$> useful?\n",
    "    \n",
    "<$plotclass$> will help you quickly visualize...\n",
    "    \n",
    "### What's the current state of <$plotclass$>\n",
    "\n",
    "Follow https://github.com/pfebrer96/sisl/labels/<$plotclass$> to track all the issues, future features or discussion about this plot.\n",
    "    \n",
    "</div>"
   ]
  },
  {
   "cell_type": "markdown",
   "metadata": {},
   "source": [
    "# Basic usage\n",
    "\n",
    "Here you are going to learn the most straightforward things that <$plotclass$> can do for you."
   ]
  },
  {
   "cell_type": "code",
   "execution_count": null,
   "metadata": {},
   "outputs": [],
   "source": []
  },
  {
   "cell_type": "markdown",
   "metadata": {},
   "source": [
    "# Let's get technical\n",
    "\n",
    "Sometimes, basic is not enough, therefore we will show you here how to get the most out of <$plotclass$> if you need to do some fancy stuff. However, do not limit yourself to this! After going through this section, you should be able to do your own \"experiments\". "
   ]
  },
  {
   "cell_type": "code",
   "execution_count": null,
   "metadata": {},
   "outputs": [],
   "source": []
  }
 ],
 "metadata": {
  "kernelspec": {
   "display_name": "Python 3",
   "language": "python",
   "name": "python3"
  },
  "language_info": {
   "codemirror_mode": {
    "name": "ipython",
    "version": 3
   },
   "file_extension": ".py",
   "mimetype": "text/x-python",
   "name": "python",
   "nbconvert_exporter": "python",
   "pygments_lexer": "ipython3",
   "version": "3.6.9"
  }
 },
 "nbformat": 4,
 "nbformat_minor": 2
}
