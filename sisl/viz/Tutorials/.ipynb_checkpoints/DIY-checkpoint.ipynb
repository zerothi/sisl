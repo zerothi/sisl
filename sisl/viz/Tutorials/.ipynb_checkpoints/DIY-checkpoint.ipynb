{
 "cells": [
  {
   "cell_type": "markdown",
   "metadata": {},
   "source": [
    "Hi! Welcome to the starter guide to develop highly interactive plots using the sisl framework.\n",
    "\n",
    "We are very glad that you are here, and we hope that once you are done with this notebook you will be convinced that **using sisl can make your data analysis much faster**.\n",
    "\n",
    "## Why should I read this notebook?\n",
    "\n",
    "This notebook will show you how to quickly develop python classes that will give you (and whoever you want to share it with) **the power to analyze results incredibly fast**.\n",
    "\n",
    "## What do I need to follow this notebook?\n",
    "\n",
    "*Nothing...*\n",
    "\n",
    "Well, of course, if you want to run the code you need the required packages, so **you should [install sisl](http://zerothi.github.io/sisl/docs/latest/installation.html)**. The most reasonable thing to do is to install it in a virtual environment so that it doesn't mess with your other python installations:\n",
    "\n",
    "Build a venv: `sudo apt-get install python3-venv && python3 -m venv <pathForYourEnvironment>`\n",
    "\n",
    "You also would need to [add the virtual environment to jupyter](https://anbasile.github.io/programming/2017/06/25/jupyter-venv/) so that it can use it.\n",
    "\n",
    "Finally, if you want to see the plots in the notebook you should install *nbformat* in your environment: `pip install nbformat`\n",
    "\n",
    "However, if you just want to get a glimpse of how everything works to decide whether you want to do it or not, **you really need nothing**, just keep on reading!\n",
    "\n",
    "How will my plots look?\n",
    "-----------\n",
    "\n",
    "This notebook is meant to show you how to develop plots, therefore you will not see a full display of the capabilities.\n",
    "\n",
    "We encourage you to **take a look at the [demo notebook](Demo.ipynb)** before reading this notebook to understand what you will get in exchange for your developing efforts :)"
   ]
  },
  {
   "cell_type": "markdown",
   "metadata": {},
   "source": [
    "*Well, enough talking... let's get started!*\n",
    "\n",
    "First, we will import sisl so that we can use it through all the notebook:"
   ]
  },
  {
   "cell_type": "code",
   "execution_count": 1,
   "metadata": {},
   "outputs": [],
   "source": [
    "import sisl"
   ]
  },
  {
   "cell_type": "markdown",
   "metadata": {},
   "source": [
    "## The framework\n",
    "\n",
    "Before starting to show you how to build things, we might as well show you **what is it that will support your plots**.\n",
    "\n",
    "**Your developed plot will be a python class**, but it will not be alone doing the job. Let us introduce the two main classes that will have you covered during your development journey: \n",
    "\n",
    "-  `Configurable`, *giving you the power to tweak parameters*: \n",
    "\n",
    "    Although you will probably not need to ever write this class' name in your code, it is good to know that every plot class you build automatically inherits from it. This will **make your plots automatically tunable** and it will provide them with some useful methods to **safely tweak parameters, keep a settings history**, etc...\n",
    "\n",
    "    That's all you need to know for now, you will see more about the details along this notebook.\n",
    "    \n",
    "        \n",
    "- `Plot(Configurable)`, *the parent class of all plots*:\n",
    "\n",
    "    We all have things in common, and so do plots. For this reason, we have put all the repetitive stuff in this class so that **you can focus on what makes your plot special**.\n",
    "    \n",
    "    But wait, there's more to this class. It will **control the flow of your plots** for you so that you don't need to think about it:\n",
    "    \n",
    "    *As an example, let's say you have developed a plot that reads data from a 20GB file and takes some bits of it to plot them. Now, 10 days later, another user, which is excited about the plot they got with almost no effort, wants to add a new line to the plot using the information already read. It would be a pity if the plot had to be reset and it took 5 more minutes to read the file again, right? This won't happen thanks to the `Plot` class, because it automatically knows which methods to run in order to waste as little time as possible.*\n",
    "    \n",
    "    This control of the flow will also **make the behaviour of all the plots consistent**, so that you can confidently use a plot developed by another user because it will be familiar to you.\n",
    "    \n",
    "    This class is meant to **make your job as simple as possible**, so we encourage you to get familiar with it and understand all its possibilities. *You don't have to do it now though! Keep reading the notebook and you will get a glimpse at the important things.*\n",
    "    \n",
    "    **Quick note:** *`MultiplePlot` and `Animation` are classes that mostly work like `Plot` but are adapted to particular use cases (and support multiprocessing to keep things fast). More on that during the course of the notebook.*\n",
    "    \n",
    "    \n",
    "- `Session(Configurable)`, *when one plot is not enough*:\n",
    "\n",
    "    Just as `Plot` is the parent of all plots, this class is the parent of all sessions. **Sessions store plots and allow you to organize them into tabs.** They are specially useful for the [graphical user interface](https://github.com/pfebrer96/sisl-GUI), where the users can easily see all their plots at the same time and easily modify them as they wish.\n",
    "    \n",
    "    However, clicking things to create your plots may be slow and specially annoying if you have to repeat the same process multiple times. That's why you have the possibility to **create custom sessions that will do all the repetitive work with very little input**, so that all the user needs to do is enjoy the beauty of their automatically created plots in the GUI.\n",
    "    \n",
    "    \n",
    "    \n",
    "You can find these classes under sisl's visualization module: "
   ]
  },
  {
   "cell_type": "code",
   "execution_count": 1,
   "metadata": {},
   "outputs": [],
   "source": [
    "from sisl.viz import Configurable, Plot, MultiplePlot, Animation, Session"
   ]
  },
  {
   "cell_type": "markdown",
   "metadata": {},
   "source": [
    "*Now to the fun part...*\n",
    "\n",
    "Building new plot classes\n",
    "-------------------\n",
    "\n",
    "**Following this guide**, you will not only **build a very flexible plot class** that you will be able to use in a wide range of cases , but also your class will be automatically recognized by the [graphical interface](https://github.com/pfebrer96/sisl-GUI). Therefore, **you will get visual interactivity for free**.\n",
    "\n",
    "### 1. Class definition:\n",
    "\n",
    "*Things that don't start in the right way are likely to not end well.*\n",
    "\n",
    "Therefore, make sure that **all plot classes that you develop inherit from the parent class `Plot`**. \n",
    "    \n",
    "That is, if you were to define a new class to plot, let's say, the happiness you feel for having found this notebook, you would define it as `class HappinessPlot(Plot):`. \n",
    "    \n",
    "In this way, they can profit from all the generic methods and processes that are implemented there. The `Plot` class is meant for you to write as little code as possible while still getting a powerful and dynamic representation. \n",
    "    \n",
    "More info on class inheritance:  [written explanation](https://www.w3schools.com/python/python_inheritance.asp), [Youtube video](https://www.youtube.com/watch?v=Cn7AkDb4pIU).\n",
    "\n",
    "**Quick note**: Yes, you can also do `class HappinessPlot(MultiplePlot):` or `class HappinessPlot(Animation):` depending on the kind of representation you want, well guessed!\n",
    "\n",
    "*Let's do it!*"
   ]
  },
  {
   "cell_type": "code",
   "execution_count": 2,
   "metadata": {},
   "outputs": [],
   "source": [
    "class HappinessPlot(Plot):\n",
    "    pass"
   ]
  },
  {
   "cell_type": "markdown",
   "metadata": {},
   "source": [
    "*And just like that, you have your first plot class. Let's play with it:*"
   ]
  },
  {
   "cell_type": "code",
   "execution_count": 3,
   "metadata": {},
   "outputs": [
    {
     "name": "stdout",
     "output_type": "stream",
     "text": [
      "The plot has been initialized correctly, but the current settings were not enough to generate the figure.\n",
      " (Error: Could not read or generate data for HappinessPlot from any of the possible sources.\n",
      "\n",
      " Here are the errors for each source:\n",
      "\n",
      " \t- guiOut: KeyError.'guiOut'\n",
      "\t- siesOut: AttributeError.The attribute '_readSiesOut' was not found either in the plot, its figure, or in shared attributes.\n",
      "\t- fromH: AttributeError.The attribute '_readfromH' was not found either in the plot, its figure, or in shared attributes.\n",
      "\t- noSource: AttributeError.The attribute '_readNoSource' was not found either in the plot, its figure, or in shared attributes.  )\n"
     ]
    }
   ],
   "source": [
    "plt = HappinessPlot()"
   ]
  },
  {
   "cell_type": "markdown",
   "metadata": {},
   "source": [
    "*Well, that seems reasonable. Our plot has no data because our class does not know how to get it yet.*\n",
    "\n",
    "*However, we can already do all the general things a plot is expected to do:*"
   ]
  },
  {
   "cell_type": "code",
   "execution_count": 4,
   "metadata": {},
   "outputs": [
    {
     "name": "stdout",
     "output_type": "stream",
     "text": [
      "Plot class: HappinessPlot    Plot type: None\n",
      "\n",
      "Settings:\n",
      "\t- readingOrder: ('guiOut', 'siesOut', 'fromH', 'noSource')\n",
      "\t- rootFdf: None\n",
      "\t- resultsPath: \n",
      "\t- title:  HappinessPlot\n",
      "\t- showlegend: True\n",
      "\t- paper_bgcolor: white\n",
      "\t- plot_bgcolor: white\n",
      "\t- xaxis_title: None\n",
      "\t- xaxis_type: -\n",
      "\t- xaxis_visible: True\n",
      "\t- xaxis_color: black\n",
      "\t- xaxis_showgrid: False\n",
      "\t- xaxis_gridcolor: #ccc\n",
      "\t- xaxis_showline: True\n",
      "\t- xaxis_linewidth: 1\n",
      "\t- xaxis_linecolor: black\n",
      "\t- xaxis_zeroline: False\n",
      "\t- xaxis_zerolinecolor: #ccc\n",
      "\t- xaxis_ticks: outside\n",
      "\t- xaxis_tickcolor: white\n",
      "\t- xaxis_ticklen: 5\n",
      "\t- xaxis_mirror: False\n",
      "\t- xaxis_scaleanchor: None\n",
      "\t- xaxis_scaleratio: 1\n",
      "\t- yaxis_title: None\n",
      "\t- yaxis_type: -\n",
      "\t- yaxis_visible: True\n",
      "\t- yaxis_color: black\n",
      "\t- yaxis_showgrid: False\n",
      "\t- yaxis_gridcolor: #ccc\n",
      "\t- yaxis_showline: True\n",
      "\t- yaxis_linewidth: 1\n",
      "\t- yaxis_linecolor: black\n",
      "\t- yaxis_zeroline: True\n",
      "\t- yaxis_zerolinecolor: #ccc\n",
      "\t- yaxis_ticks: outside\n",
      "\t- yaxis_tickcolor: white\n",
      "\t- yaxis_ticklen: 5\n",
      "\t- yaxis_mirror: False\n",
      "\t- yaxis_scaleanchor: None\n",
      "\t- yaxis_scaleratio: 1\n"
     ]
    }
   ],
   "source": [
    "print(plt)"
   ]
  },
  {
   "cell_type": "code",
   "execution_count": 5,
   "metadata": {},
   "outputs": [
    {
     "data": {
      "application/vnd.jupyter.widget-view+json": {
       "model_id": "36a4f81974814b318b4e28a9468a6400",
       "version_major": 2,
       "version_minor": 0
      },
      "text/plain": [
       "FigureWidget({\n",
       "    'data': [], 'layout': {'template': '...'}\n",
       "})"
      ]
     },
     "metadata": {},
     "output_type": "display_data"
    },
    {
     "data": {
      "application/vnd.jupyter.widget-view+json": {
       "model_id": "98efcbf2fa684e1fbde60a810743e8a9",
       "version_major": 2,
       "version_minor": 0
      },
      "text/plain": [
       "HTML(value='')"
      ]
     },
     "metadata": {},
     "output_type": "display_data"
    },
    {
     "data": {
      "application/vnd.jupyter.widget-view+json": {
       "model_id": "13edb57564cc41b18bf2038a59c1ca0a",
       "version_major": 2,
       "version_minor": 0
      },
      "text/plain": [
       "HTML(value='')"
      ]
     },
     "metadata": {},
     "output_type": "display_data"
    },
    {
     "data": {
      "application/vnd.jupyter.widget-view+json": {
       "model_id": "fab433f485c9413baaab8e01a6f54522",
       "version_major": 2,
       "version_minor": 0
      },
      "text/plain": [
       "HTML(value='<style>.ipyevents-watched:focus {outline: none}</style>')"
      ]
     },
     "metadata": {},
     "output_type": "display_data"
    },
    {
     "data": {
      "application/vnd.jupyter.widget-view+json": {
       "model_id": "8bc63017aec243839138625629f45bcb",
       "version_major": 2,
       "version_minor": 0
      },
      "text/plain": [
       "Output()"
      ]
     },
     "metadata": {},
     "output_type": "display_data"
    }
   ],
   "source": [
    "plt.show()"
   ]
  },
  {
   "cell_type": "code",
   "execution_count": 9,
   "metadata": {},
   "outputs": [
    {
     "data": {
      "application/vnd.jupyter.widget-view+json": {
       "model_id": "52aa40db2dc64ab893bb2ff6bdabf04e",
       "version_major": 2,
       "version_minor": 0
      },
      "text/plain": [
       "FigureWidget({\n",
       "    'data': [],\n",
       "    'layout': {'hovermode': 'closest',\n",
       "               'paper_bgcolor': 'white',…"
      ]
     },
     "metadata": {},
     "output_type": "display_data"
    },
    {
     "data": {
      "application/vnd.jupyter.widget-view+json": {
       "model_id": "38d2958f7b0e4650a10e6a1d625207d9",
       "version_major": 2,
       "version_minor": 0
      },
      "text/plain": [
       "HTML(value='')"
      ]
     },
     "metadata": {},
     "output_type": "display_data"
    },
    {
     "data": {
      "application/vnd.jupyter.widget-view+json": {
       "model_id": "53daa40622ab4b27bee112862f31489a",
       "version_major": 2,
       "version_minor": 0
      },
      "text/plain": [
       "HTML(value='')"
      ]
     },
     "metadata": {},
     "output_type": "display_data"
    },
    {
     "data": {
      "application/vnd.jupyter.widget-view+json": {
       "model_id": "c403852fb1f24c6a8c5a482a79e4dd96",
       "version_major": 2,
       "version_minor": 0
      },
      "text/plain": [
       "HTML(value='<style>.ipyevents-watched:focus {outline: none}</style>')"
      ]
     },
     "metadata": {},
     "output_type": "display_data"
    },
    {
     "data": {
      "application/vnd.jupyter.widget-view+json": {
       "model_id": "ac9385b3b3e74a238fd7f7c9d47837be",
       "version_major": 2,
       "version_minor": 0
      },
      "text/plain": [
       "Output()"
      ]
     },
     "metadata": {},
     "output_type": "display_data"
    }
   ],
   "source": [
    "plt.getFigure(xaxis_title = \"Meaningless axis (eV)\", xaxis_showgrid = True, xaxis_gridcolor = \"red\").show()"
   ]
  },
  {
   "cell_type": "code",
   "execution_count": 10,
   "metadata": {},
   "outputs": [
    {
     "data": {
      "application/vnd.jupyter.widget-view+json": {
       "model_id": "92b8e142f8f741ef8596afbd89764fae",
       "version_major": 2,
       "version_minor": 0
      },
      "text/plain": [
       "FigureWidget({\n",
       "    'data': [],\n",
       "    'layout': {'hovermode': 'closest',\n",
       "               'paper_bgcolor': 'white',…"
      ]
     },
     "metadata": {},
     "output_type": "display_data"
    },
    {
     "data": {
      "application/vnd.jupyter.widget-view+json": {
       "model_id": "993e831d4b5e4b0c8bf843476af2de4b",
       "version_major": 2,
       "version_minor": 0
      },
      "text/plain": [
       "HTML(value='')"
      ]
     },
     "metadata": {},
     "output_type": "display_data"
    },
    {
     "data": {
      "application/vnd.jupyter.widget-view+json": {
       "model_id": "43ccf98197324a0f9100569e1fc1edd2",
       "version_major": 2,
       "version_minor": 0
      },
      "text/plain": [
       "HTML(value='')"
      ]
     },
     "metadata": {},
     "output_type": "display_data"
    },
    {
     "data": {
      "application/vnd.jupyter.widget-view+json": {
       "model_id": "273083356bb74cc8861421b85dd9027a",
       "version_major": 2,
       "version_minor": 0
      },
      "text/plain": [
       "HTML(value='<style>.ipyevents-watched:focus {outline: none}</style>')"
      ]
     },
     "metadata": {},
     "output_type": "display_data"
    },
    {
     "data": {
      "application/vnd.jupyter.widget-view+json": {
       "model_id": "58a85395ebee4e93b1d7b3d036f48906",
       "version_major": 2,
       "version_minor": 0
      },
      "text/plain": [
       "Output()"
      ]
     },
     "metadata": {},
     "output_type": "display_data"
    }
   ],
   "source": [
    "plt.undoSettings().show()"
   ]
  },
  {
   "cell_type": "markdown",
   "metadata": {},
   "source": [
    "*If you are done generating and playing with useless plot classes, let's continue our way to usefulness...*\n",
    "\n",
    "### 2. Class variables:\n",
    "\n",
    "*It is only when you define something that it begins to exist.*\n",
    "\n",
    "Before starting to write methods for our new class, we will **write the parameters that define it** and that will be used by all the plot instances. We will store them as **class variables**, which are not bound to an individual plot but to the class itself ([more on this concept](https://syntaxdb.com/ref/python/class-variables)). \n",
    "\n",
    "These are the class variables that your plot class needs in order to work properly:\n",
    "\n",
    "- **_plotType** (str), *the type of plot*: this will appear at the dropdown menu where you select the desired plot. You can set it to whatever you want, but a clear name would help other users quickly understand what to expect from your class.\n",
    "\n",
    "\n",
    "- **_parameters** (tuple of InputFields), *the tweakables of your plot*: This is an extremely important variable, as it contains all the parameters that the user can (or is expected to) tweak in your analysis. Each parameter, or setting should use an input field object (see the cell below to see types of input fields that you can use). Why do we need to do it like this? Well, this has three main purposes: \n",
    "    - If you use an input field, the graphical interface already knows how to display it.\n",
    "    - It will make documentation very consistent in the long term.\n",
    "    - You will be able to access their values very easily at any point in the plot's methods\n",
    "\n",
    "*Let's begin populating our HappinessPlot class:*"
   ]
  },
  {
   "cell_type": "code",
   "execution_count": 13,
   "metadata": {},
   "outputs": [],
   "source": [
    "# This are some input fields that are available to you. The names are quite self-explanatory\n",
    "from sisl.viz.inputFields import TextInput, SwitchInput, ColorPicker, DropdownInput, IntegerInput, FloatInput, RangeSlider, QueriesInput, ProgramaticInput\n",
    "\n",
    "class HappinessPlot(Plot):\n",
    "    \n",
    "    _plotType = \"Happiness Plot\"\n",
    "    \n",
    "    _parameters = (\n",
    "        \n",
    "        #This is our first parameter\n",
    "        FloatInput(\n",
    "            # \"key\" will allow you to identify the parameter during your data processing\n",
    "            # (be patient, we are getting there)\n",
    "            key=\"initHappiness\",\n",
    "            # \"name\" is the name that will be displayed (because, you know, initHappiness is not a beautiful name)  \n",
    "            name=\"Initial happiness level\",\n",
    "            # \"default\" is the default value for the parameter\n",
    "            default=0,\n",
    "            # \"help\" is a helper message that will be displayed to the user when\n",
    "            # they don't know what the parameter means\n",
    "            help=\"This is your level of happiness before reading the DIY notebook.\",\n",
    "        ),\n",
    "        \n",
    "        #This is our second parameter\n",
    "        SwitchInput(\n",
    "            key=\"readNotebook\",\n",
    "            name=\"Notebook has been read?\",\n",
    "            default=False,\n",
    "            help=\"Whether you have read the DIY notebook yet.\",\n",
    "        )\n",
    "        \n",
    "    )"
   ]
  },
  {
   "cell_type": "markdown",
   "metadata": {},
   "source": [
    "*Now we have something! Let's check if it works:*"
   ]
  },
  {
   "cell_type": "code",
   "execution_count": 14,
   "metadata": {},
   "outputs": [
    {
     "name": "stdout",
     "output_type": "stream",
     "text": [
      "The plot has been initialized correctly, but the current settings were not enough to generate the figure.\n",
      " (Error: Could not read or generate data for HappinessPlot from any of the possible sources.\n",
      "\n",
      " Here are the errors for each source:\n",
      "\n",
      " \t- guiOut: KeyError.'guiOut'\n",
      "\t- siesOut: AttributeError.The attribute '_readSiesOut' was not found either in the plot, its figure, or in shared attributes.\n",
      "\t- fromH: AttributeError.The attribute '_readfromH' was not found either in the plot, its figure, or in shared attributes.\n",
      "\t- noSource: AttributeError.The attribute '_readNoSource' was not found either in the plot, its figure, or in shared attributes.  )\n"
     ]
    }
   ],
   "source": [
    "plt = HappinessPlot( initHappiness = 3 )"
   ]
  },
  {
   "cell_type": "code",
   "execution_count": 15,
   "metadata": {
    "scrolled": true
   },
   "outputs": [
    {
     "name": "stdout",
     "output_type": "stream",
     "text": [
      "Plot class: Happiness Plot    Plot type: Happiness Plot\n",
      "\n",
      "Settings:\n",
      "\t- initHappiness: 3\n",
      "\t- readNotebook: False\n",
      "\t- readingOrder: ('guiOut', 'siesOut', 'fromH', 'noSource')\n",
      "\t- rootFdf: None\n",
      "\t- resultsPath: \n",
      "\t- title:  Happiness Plot\n",
      "\t- showlegend: True\n",
      "\t- paper_bgcolor: white\n",
      "\t- plot_bgcolor: white\n",
      "\t- xaxis_title: None\n",
      "\t- xaxis_type: -\n",
      "\t- xaxis_visible: True\n",
      "\t- xaxis_color: black\n",
      "\t- xaxis_showgrid: False\n",
      "\t- xaxis_gridcolor: #ccc\n",
      "\t- xaxis_showline: True\n",
      "\t- xaxis_linewidth: 1\n",
      "\t- xaxis_linecolor: black\n",
      "\t- xaxis_zeroline: False\n",
      "\t- xaxis_zerolinecolor: #ccc\n",
      "\t- xaxis_ticks: outside\n",
      "\t- xaxis_tickcolor: white\n",
      "\t- xaxis_ticklen: 5\n",
      "\t- xaxis_mirror: False\n",
      "\t- xaxis_scaleanchor: None\n",
      "\t- xaxis_scaleratio: 1\n",
      "\t- yaxis_title: None\n",
      "\t- yaxis_type: -\n",
      "\t- yaxis_visible: True\n",
      "\t- yaxis_color: black\n",
      "\t- yaxis_showgrid: False\n",
      "\t- yaxis_gridcolor: #ccc\n",
      "\t- yaxis_showline: True\n",
      "\t- yaxis_linewidth: 1\n",
      "\t- yaxis_linecolor: black\n",
      "\t- yaxis_zeroline: True\n",
      "\t- yaxis_zerolinecolor: #ccc\n",
      "\t- yaxis_ticks: outside\n",
      "\t- yaxis_tickcolor: white\n",
      "\t- yaxis_ticklen: 5\n",
      "\t- yaxis_mirror: False\n",
      "\t- yaxis_scaleanchor: None\n",
      "\t- yaxis_scaleratio: 1\n"
     ]
    }
   ],
   "source": [
    "print(plt)"
   ]
  },
  {
   "cell_type": "markdown",
   "metadata": {},
   "source": [
    "*You can see that our settings have appeared, but they are still meaningless, let's continue.*"
   ]
  },
  {
   "cell_type": "markdown",
   "metadata": {},
   "source": [
    "### 3. Methods:\n",
    "\n",
    "*Is this class just a poser or does it actually do something?*\n",
    "\n",
    "After defining the parameters that our analysis will depend on and that the user will be able to tweak, we can proceed to actually using them to **read, process and show data**.\n",
    "\n",
    "As mentioned previously, the `Plot` class will control the flow of our plot and will be in charge of managing how it needs to behave at each situation. Because `Plot` is an experienced class that has seen many child classes fail, it knows all the things that can go wrong and what is the best way to do things. Therefore, **all the methods called by the user** will actually be **methods of `Plot`**, not our class. Well, at least for the main plotting process. Then you can add as much public methods as you wish to make the usage of your class much more convenient.\n",
    "\n",
    "However, `Plot` is of course not omniscient, so it needs the help of your class to do the particular analysis that you need. During the workflow, **there are many points where Plot will try to use methods of your class**, and that is where you can do the processing required for your plots. At first, this might seem annoying and limiting, but the flexibility provided is very high and in this way you can be 100% sure that your code is ran in the right moments without having to thing much about it.\n",
    "\n",
    "The flow of the `Plot` class is quite simple. There are three main steps represented by three different methods: `readData()`, `setData()` and `getFigure()`. The names can already give you a first idea of what each step does, but let's get to the details of each method and show you where you will be able to do your magic:\n",
    "\n",
    "*You will find advice of what to do at each point of the workflow. But really, do whatever you need to do, don't feel limited by our advice.* \n",
    "\n",
    "- **`.__init__()`**, *the party starter*:\n",
    "\n",
    "    Of course, before ever thinking of doing things with your plot, we need to initialize it. On initialization, your plot will inherit everything from the parent classes, and all the parameters under the `_parameters` variable (both in your class and in `Plot`) will be transferred to `self.settings`, a dictionary that will contain all the current values for each parameter. You will also get a full copy of `_parameters` under `self.params`, in case you need to check something at any point. <ins>Please don't ever use directly `_parameters`, as you would have the risk of changing the parameters for the whole class</ins>, not only your plot.\n",
    "    \n",
    "    You should let `Plot.__init__()` do its thing, but after it is done, you have the first place where you can act. If your class has an `._afterInit()` method, it will be ran at this point. This is a good place to overwrite default settings of the `Plot` class. For instance, the axes titles are set to None by default, so you can set your own \"defaults\" by updating these settings here:\n",
    "    \n",
    "    `self.updateSettings(updateFig = False, xaxis_title = \"X axis (m)\", ...<your own defaults> )`\n",
    "    \n",
    "    If you do this, you will be profiting from all the parameters that are already defined in the `Plot` class and effectively setting a particular default for your own class (or even specifically for the object that is being initiated).\n",
    "    \n",
    "\n",
    "- **`.readData()`**, *the heavy lifter*:\n",
    "\n",
    "    This method will probably be **the most time and resource consuming** of your class, therefore we need to make sure that we **store all the important things inside our object** so that we don't have to use it frequently, only if there is a change in the reading method or the files that must be read.\n",
    "    \n",
    "    Our advice is that, at the end of this method, you end up with a [pandas dataframe](https://www.learnpython.org/en/Pandas%20Basics), [xarray Dataarray or Dataset](http://xarray.pydata.org/en/stable/) or whatever other form of ordered way to store the data read, so that later operations that need to be run more frequently and will query bits of this data can be performed in a quick and efficient manner.\n",
    "    \n",
    "    `.readData()` is a polite method, so it will let you do something first if you need to by using the `_beforeRead()` method. We have not thinked of something that would be good to do here yet, but you may need it, so there you have it...\n",
    "    \n",
    "    After that, it will attempt to **read from different possible sources following the order specified by** `self.settings[\"readingOrder\"]`. For example, if your plot can read data from siesta outputs, you will implement that under `._readSiesOut()`, or if your plot can produce the data using the hamiltonian: `._readFromH()`. Of course you can implement both and if one fails, the plot will try to use the next one. (Remember that you can change the default value of the \"readingOrder\" parameter for your class to try whichever you want first).\n",
    "    \n",
    "    When a method succeeds in reading the data, you will get the source of the data under `self.source` for if you need to know it further in your processing. Then `Plot` will let you have one last word with the `._afterRead()` method, before moving to the next step. This is a good point to update `self.params` or `self.settings` **according to the data you have read**. For instance, in a PDOS plot the available orbitals, atomic species and atoms depend on the data that you read, which there is no way to know beforehand.\n",
    "    \n",
    "    **Quick note**: you can check the available sources and their corresponding functions under `sisl.viz.plot.PLOTS_CONSTANTS[\"readFuncs\"]`."
   ]
  },
  {
   "cell_type": "code",
   "execution_count": 17,
   "metadata": {},
   "outputs": [
    {
     "name": "stdout",
     "output_type": "stream",
     "text": [
      "        \"fromH\": lambda obj: obj._readfromH, \n",
      "\n",
      "        \"siesOut\": lambda obj: obj._readSiesOut,\n",
      "\n",
      "        \"noSource\": lambda obj: obj._readNoSource\n",
      "\n"
     ]
    }
   ],
   "source": [
    "import inspect\n",
    "for key, fun in sisl.viz.plot.PLOTS_CONSTANTS[\"readFuncs\"].items():\n",
    "    print(inspect.getsource(fun))"
   ]
  },
  {
   "cell_type": "markdown",
   "metadata": {},
   "source": [
    "- **`.setData()`**, *the picky one*:\n",
    "\n",
    "    Great! You have all the data in the world now stored in your plot object, but you sure enough don't want to plot it all. And even if you did, you probably don't want to display just all the numbers on the screen. In this step you should pick the data that you need from `self.df` (or whatever place you have stored your data), and organize it in plot elements (i.e. lines, scatter points, bars, pies...).\n",
    "    \n",
    "    At the end of this method, `self.data` should contain the **data array ready to be passed directly** to the data attribute of a [plotly figure](https://plot.ly/python/). There are multiple ways to get this array: you can build a list of dictionaries (one for each element), you can build a list of plotly objects (such as go.Scatter()), you can build a prebuilt figure with plotly express and then get the data out of it... just get familiar with plotly and do it in your favourite way. \n",
    "    \n",
    "    You are kind of alone in this step, as `Plot` will only ensure that the basics are there and execute your `._setData()` method.\n",
    "    \n",
    "    \n",
    "- **`.getFigure()`**, *the beautifier*:\n",
    "    \n",
    "    You can rest now, all the work is done and `Plot` will build a figure with the plot elements that you have provided and display a layout following the settings of the plot. The figure will be stored under `self.figure`.\n",
    "    \n",
    "    But hey, you still get the chance to give a final touch to your work with `._afterGetFigure()`, which is executed after the figure is built and before showing it to the world. You may want to add annotations, lines that highlight facts about your plot or whatever other thing here, so that you keep it separate from the actual processing of your data. You can do that by [applying methods to the plotly figure](https://plot.ly/python/creating-and-updating-figures/#updating-figures), such as `self.figure.add_scatter(...)`. **Hint**: run `help(self.figure)` or `help(plotly.graph_objects.Figure())` in a Jupyter Notebook to see all the available methods.\n",
    "    \n",
    "    *This method is meant to take out work from you, but if you know what you are doing with plotly figures and you want to do it your own way, you can always overwrite the method by defining it in your class. Just make sure that you end up with the figure that you want to display under `self.figure`. You can also suggest enhancements to the method so that everybody can profit from them :)*\n",
    "    \n",
    "*Wow, that was long...* \n",
    "\n",
    "*It might seem intimidating but be sure that your life will be extremely easy after this. Let's see an example of how to apply the knowledge that we acquired to our class:*\n",
    "\n",
    "**One last thing to keep in mind**: When you need to access a setting, there are two ways to do it:\n",
    "- `self.settings[\"your_setting\"]`\n",
    "- `self.setting(\"your_setting\")`\n",
    "\n",
    "When developing, you should use the second one. It logs where the setting has been used in run time. Then, your plot will know what to run when this plot is updated through `plot.updateSettings()`. Otherwise, it will have no idea."
   ]
  },
  {
   "cell_type": "code",
   "execution_count": 21,
   "metadata": {},
   "outputs": [],
   "source": [
    "class HappinessPlot(Plot):\n",
    "    \n",
    "    _plotType = \"Happiness Plot\"\n",
    "    \n",
    "    _parameters = (\n",
    "        \n",
    "        FloatInput(\n",
    "            key=\"initHappiness\",  \n",
    "            name=\"Initial happiness level\",\n",
    "            default=0,\n",
    "            help=\"This is your level of happiness before reading the DIY notebook.\",\n",
    "        ),\n",
    "        \n",
    "        SwitchInput(\n",
    "            key=\"readNotebook\",\n",
    "            name=\"Notebook has been read?\",\n",
    "            default=False,\n",
    "            help=\"Whether you have read the DIY notebook yet.\",\n",
    "        )\n",
    "        \n",
    "    )\n",
    "    \n",
    "    \n",
    "    def _afterInit(self):\n",
    "        #The _afterInit method is a good place to overwrite default settings \n",
    "        \n",
    "        #Let's help the users understand what they are seeing with axes titles\n",
    "        self.updateSettings(updateFig = False, yaxis_title = \"Happiness level\", xaxis_title = \"Time\")\n",
    "    \n",
    "    \n",
    "    def _readNoSource(self):\n",
    "        #We don't need any source of results, so we will use _readNoSource() to read\n",
    "        # (self.source will be set to \"noSource\")\n",
    "    \n",
    "        #We don't really need to read anything or generate any data, so we will just pass.\n",
    "        #However, Plot needs to find a reading method and succeed executing it, that's why we are\n",
    "        #defining it here\n",
    "        pass\n",
    "    \n",
    "    def _setData(self):\n",
    "        #The _setData method must build an array of data and store it under self.data.\n",
    "        #This array is passed directly to the data attribute of a plotly figure \n",
    "        \n",
    "        initHappiness = self.setting(\"initHappiness\")\n",
    "        \n",
    "        #Calculate the final happiness based on the settings values\n",
    "        if self.setting(\"readNotebook\"):\n",
    "            finalHappiness = (initHappiness + 1) * 100\n",
    "        else:\n",
    "            finalHappiness = initHappiness\n",
    "        \n",
    "        #Define a line that goes from the initial happiness to the final happiness\n",
    "        self.data = [\n",
    "            \n",
    "            #This is a dictionary defining a plot element for plotly\n",
    "            {\n",
    "                #The type of element\n",
    "                'type': 'scatter',\n",
    "                #Draw a line\n",
    "                'mode': 'lines+markers',\n",
    "                #The values for Y (X will be automatic, we don't care now)\n",
    "                'y': [initHappiness, finalHappiness],\n",
    "                #Name that shows in the legend\n",
    "                'name': 'Happiness evolution',\n",
    "                #Other plotly fancy stuff that we don't really need\n",
    "                'hovertemplate': 'Happiness level: %{y}',\n",
    "                'line': {\"color\": \"red\" if finalHappiness <= initHappiness else \"green\"}\n",
    "                \n",
    "            }\n",
    "        \n",
    "        ]"
   ]
  },
  {
   "cell_type": "markdown",
   "metadata": {},
   "source": [
    "*And just like this, we have our first \"meaningful\" plot!*"
   ]
  },
  {
   "cell_type": "code",
   "execution_count": 22,
   "metadata": {},
   "outputs": [
    {
     "data": {
      "application/vnd.jupyter.widget-view+json": {
       "model_id": "0187fe99cb8948f7a6aaf0ba37e69972",
       "version_major": 2,
       "version_minor": 0
      },
      "text/plain": [
       "FigureWidget({\n",
       "    'data': [{'hovertemplate': 'Happiness level: %{y}',\n",
       "              'line': {'color': 'red'},…"
      ]
     },
     "metadata": {},
     "output_type": "display_data"
    },
    {
     "data": {
      "application/vnd.jupyter.widget-view+json": {
       "model_id": "145616051f574c22bb3448f4d89fe574",
       "version_major": 2,
       "version_minor": 0
      },
      "text/plain": [
       "HTML(value='')"
      ]
     },
     "metadata": {},
     "output_type": "display_data"
    },
    {
     "data": {
      "application/vnd.jupyter.widget-view+json": {
       "model_id": "3718dd70458140b4b8250605e31c1444",
       "version_major": 2,
       "version_minor": 0
      },
      "text/plain": [
       "HTML(value='')"
      ]
     },
     "metadata": {},
     "output_type": "display_data"
    },
    {
     "data": {
      "application/vnd.jupyter.widget-view+json": {
       "model_id": "c01edf8d4a294b0b92e85bcbb9d196c4",
       "version_major": 2,
       "version_minor": 0
      },
      "text/plain": [
       "HTML(value='<style>.ipyevents-watched:focus {outline: none}</style>')"
      ]
     },
     "metadata": {},
     "output_type": "display_data"
    },
    {
     "data": {
      "application/vnd.jupyter.widget-view+json": {
       "model_id": "48ee6019582f401cb5aa0fde15365558",
       "version_major": 2,
       "version_minor": 0
      },
      "text/plain": [
       "Output()"
      ]
     },
     "metadata": {},
     "output_type": "display_data"
    }
   ],
   "source": [
    "plt = HappinessPlot()\n",
    "plt.show()"
   ]
  },
  {
   "cell_type": "code",
   "execution_count": 24,
   "metadata": {},
   "outputs": [
    {
     "data": {
      "application/vnd.jupyter.widget-view+json": {
       "model_id": "011e1887426747c28705abda178dcfef",
       "version_major": 2,
       "version_minor": 0
      },
      "text/plain": [
       "FigureWidget({\n",
       "    'data': [{'hovertemplate': 'Happiness level: %{y}',\n",
       "              'line': {'color': 'green'…"
      ]
     },
     "metadata": {},
     "output_type": "display_data"
    },
    {
     "data": {
      "application/vnd.jupyter.widget-view+json": {
       "model_id": "882d44bb3ad0462da6ca7c80a32d103d",
       "version_major": 2,
       "version_minor": 0
      },
      "text/plain": [
       "HTML(value='')"
      ]
     },
     "metadata": {},
     "output_type": "display_data"
    },
    {
     "data": {
      "application/vnd.jupyter.widget-view+json": {
       "model_id": "cf833c28b7d84d6885a692b66c1c2b2a",
       "version_major": 2,
       "version_minor": 0
      },
      "text/plain": [
       "HTML(value='')"
      ]
     },
     "metadata": {},
     "output_type": "display_data"
    },
    {
     "data": {
      "application/vnd.jupyter.widget-view+json": {
       "model_id": "bdaf090bb13147eb9213de27d765e88f",
       "version_major": 2,
       "version_minor": 0
      },
      "text/plain": [
       "HTML(value='<style>.ipyevents-watched:focus {outline: none}</style>')"
      ]
     },
     "metadata": {},
     "output_type": "display_data"
    },
    {
     "data": {
      "application/vnd.jupyter.widget-view+json": {
       "model_id": "24534ed076624c40807941b2de498840",
       "version_major": 2,
       "version_minor": 0
      },
      "text/plain": [
       "Output()"
      ]
     },
     "metadata": {},
     "output_type": "display_data"
    }
   ],
   "source": [
    "plt.updateSettings(readNotebook = True).show()"
   ]
  },
  {
   "cell_type": "markdown",
   "metadata": {},
   "source": [
    "By the way, if you have the events widget (see last part of the [Demo Notebook](./Demo.ipynb), you should already see that your plot has shortcuts enabled. We will see how to add them.\n",
    "\n",
    "*Simplicity is great, but that is too simple... let's add more things to our plot!*"
   ]
  },
  {
   "cell_type": "markdown",
   "metadata": {},
   "source": [
    "### 4. Additional methods\n",
    "\n",
    "You might feel like you are always at the mercy of the `Plot` class, but that's not completely true.`Plot` expects your class to have certain methods and automatically provides your class with useful plot manipulation methods, but **you can always add methods that you think will be helpful for users that will use your particular plot**.\n",
    "\n",
    "**Quick note:** If you believe that a method can be useful for plots other than yours, consider contributing it to the `Plot` class :)\n",
    "\n",
    "*Let's see how this could work with our happiness plot...*"
   ]
  },
  {
   "cell_type": "code",
   "execution_count": 29,
   "metadata": {},
   "outputs": [],
   "source": [
    "class HappinessPlot(Plot):\n",
    "    \n",
    "    _plotType = \"Happiness Plot\"\n",
    "    \n",
    "    _parameters = (\n",
    "        \n",
    "        FloatInput(\n",
    "            key=\"initHappiness\",  \n",
    "            name=\"Initial happiness level\",\n",
    "            default=0,\n",
    "            help=\"This is your level of happiness before reading the DIY notebook.\",\n",
    "        ),\n",
    "        \n",
    "        SwitchInput(\n",
    "            key=\"readNotebook\",\n",
    "            name=\"Notebook has been read?\",\n",
    "            default=False,\n",
    "            help=\"Whether you have read the DIY notebook yet.\",\n",
    "        )\n",
    "        \n",
    "    )\n",
    "    \n",
    "    \n",
    "    def _afterInit(self):\n",
    "\n",
    "        self.updateSettings(updateFig = False, yaxis_title = \"Happiness level\", xaxis_title = \"Time\")\n",
    "    \n",
    "    \n",
    "    def _readNoSource(self):\n",
    "        pass\n",
    "    \n",
    "    def _setData(self):\n",
    "        \n",
    "        initHappiness = self.setting(\"initHappiness\")\n",
    "        \n",
    "        if self.setting(\"readNotebook\"):\n",
    "            finalHappiness = (initHappiness + 1) * 100\n",
    "        else:\n",
    "            finalHappiness = initHappiness\n",
    "        \n",
    "        self.data = [{\n",
    "                'type': 'scatter',\n",
    "                'mode': 'lines+markers',\n",
    "                'y': [initHappiness, finalHappiness],\n",
    "                'name': 'Happiness evolution',\n",
    "                'hovertemplate': 'Happiness level: %{y}',\n",
    "                'line': {\"color\": \"red\" if finalHappiness <= initHappiness else \"green\"}    \n",
    "        }]\n",
    "        \n",
    "    def readNotebook(self, location = \"your computer\"):\n",
    "        #This method will \"read the notebook\"\n",
    "        import time\n",
    "        \n",
    "        #Let's do a little show though\n",
    "        print(\"Reading the notebook in {}...\".format(location))\n",
    "        time.sleep(3)\n",
    "        self.updateSettings(readNotebook = True)\n",
    "        print(\"Read\")\n",
    "        \n",
    "        return self"
   ]
  },
  {
   "cell_type": "code",
   "execution_count": 30,
   "metadata": {},
   "outputs": [
    {
     "data": {
      "application/vnd.jupyter.widget-view+json": {
       "model_id": "fff1fab710114478940f9ec2d5f8be7a",
       "version_major": 2,
       "version_minor": 0
      },
      "text/plain": [
       "FigureWidget({\n",
       "    'data': [{'hovertemplate': 'Happiness level: %{y}',\n",
       "              'line': {'color': 'red'},…"
      ]
     },
     "metadata": {},
     "output_type": "display_data"
    },
    {
     "data": {
      "application/vnd.jupyter.widget-view+json": {
       "model_id": "0dfb7520fb144befac2ae5063fc53f24",
       "version_major": 2,
       "version_minor": 0
      },
      "text/plain": [
       "HTML(value='')"
      ]
     },
     "metadata": {},
     "output_type": "display_data"
    },
    {
     "data": {
      "application/vnd.jupyter.widget-view+json": {
       "model_id": "e86ffffeb1cb43648bb470d7e47c3a20",
       "version_major": 2,
       "version_minor": 0
      },
      "text/plain": [
       "HTML(value='')"
      ]
     },
     "metadata": {},
     "output_type": "display_data"
    },
    {
     "data": {
      "application/vnd.jupyter.widget-view+json": {
       "model_id": "c4d763021cca4a1ab6df3ebe399c043b",
       "version_major": 2,
       "version_minor": 0
      },
      "text/plain": [
       "HTML(value='<style>.ipyevents-watched:focus {outline: none}</style>')"
      ]
     },
     "metadata": {},
     "output_type": "display_data"
    },
    {
     "data": {
      "application/vnd.jupyter.widget-view+json": {
       "model_id": "ff911208f14d4a968b63adece080edf2",
       "version_major": 2,
       "version_minor": 0
      },
      "text/plain": [
       "Output()"
      ]
     },
     "metadata": {},
     "output_type": "display_data"
    },
    {
     "name": "stdout",
     "output_type": "stream",
     "text": [
      "Reading the notebook in your computer...\n",
      "Read\n"
     ]
    },
    {
     "data": {
      "application/vnd.jupyter.widget-view+json": {
       "model_id": "2ca9a9fb13db42ebb9f1fbc936153f33",
       "version_major": 2,
       "version_minor": 0
      },
      "text/plain": [
       "FigureWidget({\n",
       "    'data': [{'hovertemplate': 'Happiness level: %{y}',\n",
       "              'line': {'color': 'green'…"
      ]
     },
     "metadata": {},
     "output_type": "display_data"
    },
    {
     "data": {
      "application/vnd.jupyter.widget-view+json": {
       "model_id": "51864a9640614a5bbb16bdc17e32a564",
       "version_major": 2,
       "version_minor": 0
      },
      "text/plain": [
       "HTML(value='')"
      ]
     },
     "metadata": {},
     "output_type": "display_data"
    },
    {
     "data": {
      "application/vnd.jupyter.widget-view+json": {
       "model_id": "3c2d26ed9b93484ab0162788b84ffec1",
       "version_major": 2,
       "version_minor": 0
      },
      "text/plain": [
       "HTML(value='')"
      ]
     },
     "metadata": {},
     "output_type": "display_data"
    },
    {
     "data": {
      "application/vnd.jupyter.widget-view+json": {
       "model_id": "f1f6887374b14221a8893fff386309e6",
       "version_major": 2,
       "version_minor": 0
      },
      "text/plain": [
       "HTML(value='<style>.ipyevents-watched:focus {outline: none}</style>')"
      ]
     },
     "metadata": {},
     "output_type": "display_data"
    },
    {
     "data": {
      "application/vnd.jupyter.widget-view+json": {
       "model_id": "480443f898db4a999d84aeed9ab5b62a",
       "version_major": 2,
       "version_minor": 0
      },
      "text/plain": [
       "Output()"
      ]
     },
     "metadata": {},
     "output_type": "display_data"
    }
   ],
   "source": [
    "plt = HappinessPlot()\n",
    "plt.show()\n",
    "plt.readNotebook().show()"
   ]
  },
  {
   "cell_type": "markdown",
   "metadata": {},
   "source": [
    "## Congratulations, you know everything now!"
   ]
  },
  {
   "cell_type": "markdown",
   "metadata": {},
   "source": [
    "*Well, not really, because you only learned how to build single plots and using the sisl visualization module you have the power to do more complex stuff.*\n",
    "\n",
    "*But yeah, you know some things...*\n",
    "\n",
    "*Just kidding, this is more than enough to get you started! Try to build your own plots and come back for more tutorials when you feel like it. We'll be waiting for you.*\n",
    "\n",
    "*Also, feel free to ask for specific tutorials if you need them, we will be more thatn willing to provide them.*\n",
    "\n",
    "*Cheers!*"
   ]
  }
 ],
 "metadata": {
  "kernelspec": {
   "display_name": "sislGUIv2",
   "language": "python",
   "name": "sislguiv2"
  },
  "language_info": {
   "codemirror_mode": {
    "name": "ipython",
    "version": 3
   },
   "file_extension": ".py",
   "mimetype": "text/x-python",
   "name": "python",
   "nbconvert_exporter": "python",
   "pygments_lexer": "ipython3",
   "version": "3.6.8"
  }
 },
 "nbformat": 4,
 "nbformat_minor": 2
}
