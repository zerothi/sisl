{
 "cells": [
  {
   "cell_type": "code",
   "execution_count": 1,
   "metadata": {
    "execution": {
     "iopub.execute_input": "2025-10-08T12:08:41.830531Z",
     "iopub.status.busy": "2025-10-08T12:08:41.830347Z",
     "iopub.status.idle": "2025-10-08T12:08:42.972403Z",
     "shell.execute_reply": "2025-10-08T12:08:42.971739Z"
    }
   },
   "outputs": [],
   "source": [
    "import numpy as np\n",
    "import sisl as si\n",
    "import matplotlib.pyplot as plt\n",
    "\n",
    "%matplotlib inline"
   ]
  },
  {
   "cell_type": "markdown",
   "metadata": {},
   "source": [
    "# Anomalous Hall conductivity (AHC) for graphene\n",
    "\n",
    "This tutorial will describe a complete walk-through of how to calculate the anomalous Hall conductivity for graphene.\n",
    "\n",
    "<div class=\"alert alert-block alert-info\"> <p class=\"admonition-title\">Warning</p>\n",
    "    <p>\n",
    "        This tutorial is not meant for publication ready results.  \n",
    "        Numbers, such as the $k$-point sampling should always be converged before publication is made. The number of $k$-points used here are too small! \n",
    "</p> </div>\n",
    "\n",
    "## Creating the geometry to investigate\n",
    "\n",
    "Our system of interest will be the pristine graphene system, from a DFT (SIESTA) calculation."
   ]
  },
  {
   "cell_type": "code",
   "execution_count": 2,
   "metadata": {
    "execution": {
     "iopub.execute_input": "2025-10-08T12:08:42.974804Z",
     "iopub.status.busy": "2025-10-08T12:08:42.974473Z",
     "iopub.status.idle": "2025-10-08T12:08:42.994211Z",
     "shell.execute_reply": "2025-10-08T12:08:42.993670Z"
    }
   },
   "outputs": [],
   "source": [
    "H = si.get_sile(\"siesta_2/RUN.fdf\").read_hamiltonian()"
   ]
  },
  {
   "cell_type": "markdown",
   "metadata": {},
   "source": [
    "The anomalous Hall conductivity (AHC) requires a rather dense $k$ grid. It is related to the Berry curvature defined as:\n",
    "$$\n",
    "    \\boldsymbol\\Omega_{i,\\alpha\\beta} = 2i\\hbar^2\\sum_{j\\neq i}\n",
    "                \\frac{\\hat v^{\\alpha}_{ij} \\hat v^\\beta_{ji}}\n",
    "                     {[\\epsilon_j - \\epsilon_i]^2 + i\\eta^2}\n",
    "$$\n",
    "where $\\hat v$ is the velocity operator. One can determine that the units of this quantity is $\\mathrm{Ang}^2$.\n",
    "The AHC can then be calculated via:\n",
    "$$\n",
    "    \\sigma_{\\alpha\\beta} = \\frac{-e^2}{\\hbar}\\int\\,\\mathrm d\\mathbf k\\sum_i f_i\\Omega_{i,\\alpha\\beta}(\\mathbf k).\n",
    "$$\n",
    "This method is implemented in `sisl.physics.electron.ahc`.\n",
    "The units of AHC is $\\mathrm S / \\mathrm{Ang}^{2 - D}$ which for 2D systems is just $\\mathrm S$.  \n",
    "Its API looks like, hold on, there's a lot to grasp:"
   ]
  },
  {
   "cell_type": "code",
   "execution_count": 3,
   "metadata": {
    "execution": {
     "iopub.execute_input": "2025-10-08T12:08:42.995799Z",
     "iopub.status.busy": "2025-10-08T12:08:42.995634Z",
     "iopub.status.idle": "2025-10-08T12:08:42.998791Z",
     "shell.execute_reply": "2025-10-08T12:08:42.998336Z"
    }
   },
   "outputs": [
    {
     "name": "stdout",
     "output_type": "stream",
     "text": [
      "Help on function ahc in module sisl.physics.electron:\n",
      "\n",
      "ahc(bz: 'BrillouinZone', k_average: 'bool' = True, *, distribution: 'DistributionType' = 'step', eigenstate_kwargs={}, apply_kwargs={}, **berry_kwargs) -> 'np.ndarray'\n",
      "    Electronic anomalous Hall conductivity for a given `BrillouinZone` integral\n",
      "\n",
      "    .. math::\n",
      "       \\sigma_{\\alpha\\beta} = \\frac{-e^2}{\\hbar}\\int\\,\\mathrm d\\mathbf k\\sum_i f_i\\Omega_{i,\\alpha\\beta}(\\mathbf k)\n",
      "\n",
      "    where :math:`\\Omega_{i,\\alpha\\beta}` and :math:`f_i` is the Berry curvature and occupation\n",
      "    for state :math:`i`.\n",
      "\n",
      "    The conductivity will be averaged by volume of the periodic unit cell.\n",
      "    Hence the unit of `ahc` depends on the periodic unit cell.\n",
      "    See `~sisl.Lattice.volumef` for details.\n",
      "\n",
      "    See :cite:`Wang2006` for details on the implementation.\n",
      "\n",
      "    Parameters\n",
      "    ----------\n",
      "    bz :\n",
      "        containing the integration grid and has the ``bz.parent`` as an instance of Hamiltonian.\n",
      "    k_average :\n",
      "        if `True`, the returned quantity is averaged over `bz`, else all k-point\n",
      "        contributions will be collected (in the 1st dimension).\n",
      "        Note, for large `bz` integrations this may explode the memory usage.\n",
      "    distribution :\n",
      "        An optional distribution enabling one to automatically sum states\n",
      "        across occupied/unoccupied states.\n",
      "    eigenstate_kwargs :\n",
      "       keyword arguments passed directly to the ``contour.eigenstate`` method.\n",
      "       One should *not* pass a ``k`` or a ``wrap`` keyword argument as they are\n",
      "       already used.\n",
      "    apply_kwargs :\n",
      "       keyword arguments passed directly to ``bz.apply.renew(**apply_kwargs)``.\n",
      "    **berry_kwargs :\n",
      "        arguments passed directly to the `berry_curvature` method.\n",
      "\n",
      "        Here one can pass `derivative_kwargs` to pass flags to the\n",
      "        `derivative` method. In particular ``axes`` can be used\n",
      "        to speedup the calculation (by omitting certain directions).\n",
      "\n",
      "    Examples\n",
      "    --------\n",
      "\n",
      "    To calculate the AHC for a range of energy-points.\n",
      "    First create ``E`` which is the energy grid.\n",
      "    In order for the internal algorithm to be able\n",
      "    to broadcast arrays correctly, we have to allow the eigenvalue\n",
      "    spectrum to be appended by reshaping.\n",
      "\n",
      "    >>> E = np.linspace(-2, 2, 51)\n",
      "    >>> dist = get_distribution(\"step\", x0=E.reshape(-1, 1))\n",
      "    >>> ahc_cond = ahc(bz, dist)\n",
      "    >>> assert ahc_cond.shape == (3, 3, len(E))\n",
      "\n",
      "    Sometimes one wishes to see the k-resolved AHC.\n",
      "    Be aware that AHC requires a dense k-grid, and hence it might\n",
      "    require a lot of memory.\n",
      "    Here it is calculated at :math:`E=0` (default energy reference).\n",
      "\n",
      "    >>> ahc_cond = ahc(bz, k_average=False)\n",
      "    >>> assert ahc_cond.shape == (len(bz), 3, 3)\n",
      "\n",
      "    See Also\n",
      "    --------\n",
      "    ~sisl.physics.derivative: method for calculating the exact derivatives\n",
      "    ~sisl.physics.berry_curvature: method used to calculate the Berry curvature for calculating the conductivity\n",
      "    ~sisl.Lattice.volumef: volume calculation of the lattice\n",
      "    shc: spin Hall conductivity\n",
      "\n",
      "    Returns\n",
      "    -------\n",
      "    ahc:\n",
      "        Anomalous Hall conductivity returned in certain dimensions ``ahc[:, :]``.\n",
      "        If `sum` is False, it will be at least a 3D array with the 3rd dimension\n",
      "        having the contribution from state `i`.\n",
      "        If `k_average` is False, it will have a dimension prepended with\n",
      "        k-point resolved AHC.\n",
      "        If one passes `axes` to the `derivative_kwargs` argument one will get\n",
      "        dimensions according to the number of axes requested, by default all\n",
      "        axes will be used (even if they are non-periodic).\n",
      "        The dtype will be imaginary.\n",
      "        When :math:`D` is the dimensionality of the system we find the unit to be\n",
      "        :math:`\\mathrm S/\\mathrm{Ang}^{D-2}`.\n",
      "\n"
     ]
    }
   ],
   "source": [
    "help(si.physics.electron.ahc)"
   ]
  },
  {
   "cell_type": "markdown",
   "metadata": {},
   "source": [
    "-----\n",
    "\n",
    "We will be interested in calculating the `ahc` for a set of different energies (equivalent to different chemical potentials).\n",
    "So we need to define an energy-range, and a distribution function, here the simple step-function is used."
   ]
  },
  {
   "cell_type": "code",
   "execution_count": 4,
   "metadata": {
    "execution": {
     "iopub.execute_input": "2025-10-08T12:08:43.000332Z",
     "iopub.status.busy": "2025-10-08T12:08:43.000170Z",
     "iopub.status.idle": "2025-10-08T12:08:43.003541Z",
     "shell.execute_reply": "2025-10-08T12:08:43.002950Z"
    }
   },
   "outputs": [],
   "source": [
    "E = np.linspace(-5, 2, 51)\n",
    "# When calculating for a variety of energy-points, we have to have an available axis for the eigenvalue distribution\n",
    "# calculation.\n",
    "dist = si.get_distribution(\"step\", x0=E.reshape(-1, 1))\n",
    "# Generally you want a *very* dense k-point grid\n",
    "bz = si.MonkhorstPack(H, [15, 15, 1], trs=False)"
   ]
  },
  {
   "cell_type": "markdown",
   "metadata": {},
   "source": [
    "Since we are only interested in the $xy$ plane (there is no periodicity along $z$, hence superfluous calculation), we will try and reduce the computation by specifying which axes we want to calculate the AHC along.\n",
    "Additionally, we can speed up the calculation for matrices that are small, by explicitly specifying them to be calculated in the `numpy.ndarray` format, as opposed to the default `scipy.sparse.csr_matrix` format (slower, but much less memory consuming).\n",
    "When dealing with these conductivities it can also be instructive to view the $k$-resolved conductivities at certain energies.\n",
    "\n",
    "\n",
    "Lastly, `eta=True` specifies we want to show the progressbar.\n",
    "\n"
   ]
  },
  {
   "cell_type": "code",
   "execution_count": 5,
   "metadata": {
    "execution": {
     "iopub.execute_input": "2025-10-08T12:08:43.005314Z",
     "iopub.status.busy": "2025-10-08T12:08:43.005149Z",
     "iopub.status.idle": "2025-10-08T12:08:44.245313Z",
     "shell.execute_reply": "2025-10-08T12:08:44.244702Z"
    }
   },
   "outputs": [
    {
     "data": {
      "application/vnd.jupyter.widget-view+json": {
       "model_id": "a15e832f783a458dbce6cb1bf2d637d6",
       "version_major": 2,
       "version_minor": 0
      },
      "text/plain": [
       "MonkhorstPack.ndarray:   0%|          | 0/225 [00:00<?, ?k/s]"
      ]
     },
     "metadata": {},
     "output_type": "display_data"
    }
   ],
   "source": [
    "ahc = si.physics.electron.ahc(\n",
    "    bz,\n",
    "    # yield a k-resolved AHC array\n",
    "    k_average=False,\n",
    "    distribution=dist,\n",
    "    # Speed up by format='array'\n",
    "    eigenstate_kwargs={\"format\": \"array\", \"dtype\": np.complex128, \"eta\": True},\n",
    "    # Speed up by only calculating the xx, xy, yx, yy contributions\n",
    "    derivative_kwargs={\"axes\": \"xy\"},\n",
    ").real  # we don't need the imaginary part."
   ]
  },
  {
   "cell_type": "markdown",
   "metadata": {},
   "source": [
    "Now we have a `(len(bz), 2, 2, len(E))` AHC array."
   ]
  },
  {
   "cell_type": "code",
   "execution_count": 6,
   "metadata": {
    "execution": {
     "iopub.execute_input": "2025-10-08T12:08:44.247333Z",
     "iopub.status.busy": "2025-10-08T12:08:44.247138Z",
     "iopub.status.idle": "2025-10-08T12:08:44.489554Z",
     "shell.execute_reply": "2025-10-08T12:08:44.489055Z"
    }
   },
   "outputs": [
    {
     "data": {
      "image/png": "[encoded data removed]",
      "text/plain": [
       "<Figure size 640x480 with 1 Axes>"
      ]
     },
     "metadata": {},
     "output_type": "display_data"
    }
   ],
   "source": [
    "plt.plot(E, ahc.sum(0)[0, 1], label=r\"$\\sigma_{xy}$\")\n",
    "plt.plot(E, ahc.sum(0)[1, 0], label=r\"$\\sigma_{yx}$\")\n",
    "plt.xlabel(\"Energy [eV]\")\n",
    "plt.ylabel(r\"$\\sigma$ [Ang^2]\")\n",
    "plt.legend();"
   ]
  },
  {
   "cell_type": "markdown",
   "metadata": {},
   "source": [
    "As we can see there are some contributions near $E_F$, and at the lower bands.  \n",
    "The numbers though are not converged, and likely requires more scrutiny (outside the scope of this tutorial).\n",
    "\n",
    "We can now plot the $k$-resolved AHC values at $E_F$:"
   ]
  },
  {
   "cell_type": "code",
   "execution_count": 7,
   "metadata": {
    "execution": {
     "iopub.execute_input": "2025-10-08T12:08:44.491305Z",
     "iopub.status.busy": "2025-10-08T12:08:44.491132Z",
     "iopub.status.idle": "2025-10-08T12:08:44.635435Z",
     "shell.execute_reply": "2025-10-08T12:08:44.634836Z"
    }
   },
   "outputs": [
    {
     "data": {
      "image/png": "[encoded data removed]",
      "text/plain": [
       "<Figure size 640x480 with 2 Axes>"
      ]
     },
     "metadata": {},
     "output_type": "display_data"
    }
   ],
   "source": [
    "E0 = np.argmin(np.fabs(E))\n",
    "kx = np.unique(bz.k[:, 0])\n",
    "ky = np.unique(bz.k[:, 1])\n",
    "plt.contourf(\n",
    "    # unique values along x, y\n",
    "    kx,\n",
    "    ky,\n",
    "    ahc[:, 0, 1, E0].reshape(len(kx), len(ky)),\n",
    ")\n",
    "plt.colorbar();"
   ]
  },
  {
   "cell_type": "markdown",
   "metadata": {},
   "source": [
    "This concludes a simple tutorial on how to calculate the AHC for a given  system, and also how to calculate the $k$-resolved AHC."
   ]
  }
 ],
 "metadata": {
  "kernelspec": {
   "display_name": "Python 3 (ipykernel)",
   "language": "python",
   "name": "python3"
  },
  "language_info": {
   "codemirror_mode": {
    "name": "ipython",
    "version": 3
   },
   "file_extension": ".py",
   "mimetype": "text/x-python",
   "name": "python",
   "nbconvert_exporter": "python",
   "pygments_lexer": "ipython3",
   "version": "3.12.11"
  },
  "widgets": {
   "application/vnd.jupyter.widget-state+json": {
    "state": {
     "0d86313c0e0c4c42b3ffee1d9c94f4ae": {
      "model_module": "@jupyter-widgets/base",
      "model_module_version": "2.0.0",
      "model_name": "LayoutModel",
      "state": {
       "_model_module": "@jupyter-widgets/base",
       "_model_module_version": "2.0.0",
       "_model_name": "LayoutModel",
       "_view_count": null,
       "_view_module": "@jupyter-widgets/base",
       "_view_module_version": "2.0.0",
       "_view_name": "LayoutView",
       "align_content": null,
       "align_items": null,
       "align_self": null,
       "border_bottom": null,
       "border_left": null,
       "border_right": null,
       "border_top": null,
       "bottom": null,
       "display": null,
       "flex": null,
       "flex_flow": null,
       "grid_area": null,
       "grid_auto_columns": null,
       "grid_auto_flow": null,
       "grid_auto_rows": null,
       "grid_column": null,
       "grid_gap": null,
       "grid_row": null,
       "grid_template_areas": null,
       "grid_template_columns": null,
       "grid_template_rows": null,
       "height": null,
       "justify_content": null,
       "justify_items": null,
       "left": null,
       "margin": null,
       "max_height": null,
       "max_width": null,
       "min_height": null,
       "min_width": null,
       "object_fit": null,
       "object_position": null,
       "order": null,
       "overflow": null,
       "padding": null,
       "right": null,
       "top": null,
       "visibility": null,
       "width": null
      }
     },
     "2ec2316e5e2a4557ac60b37d0e8b895d": {
      "model_module": "@jupyter-widgets/controls",
      "model_module_version": "2.0.0",
      "model_name": "ProgressStyleModel",
      "state": {
       "_model_module": "@jupyter-widgets/controls",
       "_model_module_version": "2.0.0",
       "_model_name": "ProgressStyleModel",
       "_view_count": null,
       "_view_module": "@jupyter-widgets/base",
       "_view_module_version": "2.0.0",
       "_view_name": "StyleView",
       "bar_color": null,
       "description_width": ""
      }
     },
     "43e7b7e86cc24d09a0f699c136d7b809": {
      "model_module": "@jupyter-widgets/base",
      "model_module_version": "2.0.0",
      "model_name": "LayoutModel",
      "state": {
       "_model_module": "@jupyter-widgets/base",
       "_model_module_version": "2.0.0",
       "_model_name": "LayoutModel",
       "_view_count": null,
       "_view_module": "@jupyter-widgets/base",
       "_view_module_version": "2.0.0",
       "_view_name": "LayoutView",
       "align_content": null,
       "align_items": null,
       "align_self": null,
       "border_bottom": null,
       "border_left": null,
       "border_right": null,
       "border_top": null,
       "bottom": null,
       "display": null,
       "flex": null,
       "flex_flow": null,
       "grid_area": null,
       "grid_auto_columns": null,
       "grid_auto_flow": null,
       "grid_auto_rows": null,
       "grid_column": null,
       "grid_gap": null,
       "grid_row": null,
       "grid_template_areas": null,
       "grid_template_columns": null,
       "grid_template_rows": null,
       "height": null,
       "justify_content": null,
       "justify_items": null,
       "left": null,
       "margin": null,
       "max_height": null,
       "max_width": null,
       "min_height": null,
       "min_width": null,
       "object_fit": null,
       "object_position": null,
       "order": null,
       "overflow": null,
       "padding": null,
       "right": null,
       "top": null,
       "visibility": null,
       "width": null
      }
     },
     "440539e356c942bd8550473ba4120773": {
      "model_module": "@jupyter-widgets/controls",
      "model_module_version": "2.0.0",
      "model_name": "HTMLStyleModel",
      "state": {
       "_model_module": "@jupyter-widgets/controls",
       "_model_module_version": "2.0.0",
       "_model_name": "HTMLStyleModel",
       "_view_count": null,
       "_view_module": "@jupyter-widgets/base",
       "_view_module_version": "2.0.0",
       "_view_name": "StyleView",
       "background": null,
       "description_width": "",
       "font_size": null,
       "text_color": null
      }
     },
     "4510d99a6c5f4b639a74a9c755c3dfd5": {
      "model_module": "@jupyter-widgets/controls",
      "model_module_version": "2.0.0",
      "model_name": "FloatProgressModel",
      "state": {
       "_dom_classes": [],
       "_model_module": "@jupyter-widgets/controls",
       "_model_module_version": "2.0.0",
       "_model_name": "FloatProgressModel",
       "_view_count": null,
       "_view_module": "@jupyter-widgets/controls",
       "_view_module_version": "2.0.0",
       "_view_name": "ProgressView",
       "bar_style": "success",
       "description": "",
       "description_allow_html": false,
       "layout": "IPY_MODEL_90b76caced9e4c3aa16b80c33eef786d",
       "max": 225.0,
       "min": 0.0,
       "orientation": "horizontal",
       "style": "IPY_MODEL_2ec2316e5e2a4557ac60b37d0e8b895d",
       "tabbable": null,
       "tooltip": null,
       "value": 225.0
      }
     },
     "60cc4668b24a4ec481ccb400ebeeb8a5": {
      "model_module": "@jupyter-widgets/controls",
      "model_module_version": "2.0.0",
      "model_name": "HTMLModel",
      "state": {
       "_dom_classes": [],
       "_model_module": "@jupyter-widgets/controls",
       "_model_module_version": "2.0.0",
       "_model_name": "HTMLModel",
       "_view_count": null,
       "_view_module": "@jupyter-widgets/controls",
       "_view_module_version": "2.0.0",
       "_view_name": "HTMLView",
       "description": "",
       "description_allow_html": false,
       "layout": "IPY_MODEL_0d86313c0e0c4c42b3ffee1d9c94f4ae",
       "placeholder": "​",
       "style": "IPY_MODEL_908fabf24381414caba966c757914148",
       "tabbable": null,
       "tooltip": null,
       "value": " 225/225 [00:01&lt;00:00, 217.56k/s]"
      }
     },
     "908fabf24381414caba966c757914148": {
      "model_module": "@jupyter-widgets/controls",
      "model_module_version": "2.0.0",
      "model_name": "HTMLStyleModel",
      "state": {
       "_model_module": "@jupyter-widgets/controls",
       "_model_module_version": "2.0.0",
       "_model_name": "HTMLStyleModel",
       "_view_count": null,
       "_view_module": "@jupyter-widgets/base",
       "_view_module_version": "2.0.0",
       "_view_name": "StyleView",
       "background": null,
       "description_width": "",
       "font_size": null,
       "text_color": null
      }
     },
     "90b76caced9e4c3aa16b80c33eef786d": {
      "model_module": "@jupyter-widgets/base",
      "model_module_version": "2.0.0",
      "model_name": "LayoutModel",
      "state": {
       "_model_module": "@jupyter-widgets/base",
       "_model_module_version": "2.0.0",
       "_model_name": "LayoutModel",
       "_view_count": null,
       "_view_module": "@jupyter-widgets/base",
       "_view_module_version": "2.0.0",
       "_view_name": "LayoutView",
       "align_content": null,
       "align_items": null,
       "align_self": null,
       "border_bottom": null,
       "border_left": null,
       "border_right": null,
       "border_top": null,
       "bottom": null,
       "display": null,
       "flex": null,
       "flex_flow": null,
       "grid_area": null,
       "grid_auto_columns": null,
       "grid_auto_flow": null,
       "grid_auto_rows": null,
       "grid_column": null,
       "grid_gap": null,
       "grid_row": null,
       "grid_template_areas": null,
       "grid_template_columns": null,
       "grid_template_rows": null,
       "height": null,
       "justify_content": null,
       "justify_items": null,
       "left": null,
       "margin": null,
       "max_height": null,
       "max_width": null,
       "min_height": null,
       "min_width": null,
       "object_fit": null,
       "object_position": null,
       "order": null,
       "overflow": null,
       "padding": null,
       "right": null,
       "top": null,
       "visibility": null,
       "width": null
      }
     },
     "a15e832f783a458dbce6cb1bf2d637d6": {
      "model_module": "@jupyter-widgets/controls",
      "model_module_version": "2.0.0",
      "model_name": "HBoxModel",
      "state": {
       "_dom_classes": [],
       "_model_module": "@jupyter-widgets/controls",
       "_model_module_version": "2.0.0",
       "_model_name": "HBoxModel",
       "_view_count": null,
       "_view_module": "@jupyter-widgets/controls",
       "_view_module_version": "2.0.0",
       "_view_name": "HBoxView",
       "box_style": "",
       "children": [
        "IPY_MODEL_b565e6dc7d834e90be27c3792f401e32",
        "IPY_MODEL_4510d99a6c5f4b639a74a9c755c3dfd5",
        "IPY_MODEL_60cc4668b24a4ec481ccb400ebeeb8a5"
       ],
       "layout": "IPY_MODEL_a7a1a93f6a534bf9bd8c5097cc6ac440",
       "tabbable": null,
       "tooltip": null
      }
     },
     "a7a1a93f6a534bf9bd8c5097cc6ac440": {
      "model_module": "@jupyter-widgets/base",
      "model_module_version": "2.0.0",
      "model_name": "LayoutModel",
      "state": {
       "_model_module": "@jupyter-widgets/base",
       "_model_module_version": "2.0.0",
       "_model_name": "LayoutModel",
       "_view_count": null,
       "_view_module": "@jupyter-widgets/base",
       "_view_module_version": "2.0.0",
       "_view_name": "LayoutView",
       "align_content": null,
       "align_items": null,
       "align_self": null,
       "border_bottom": null,
       "border_left": null,
       "border_right": null,
       "border_top": null,
       "bottom": null,
       "display": null,
       "flex": null,
       "flex_flow": null,
       "grid_area": null,
       "grid_auto_columns": null,
       "grid_auto_flow": null,
       "grid_auto_rows": null,
       "grid_column": null,
       "grid_gap": null,
       "grid_row": null,
       "grid_template_areas": null,
       "grid_template_columns": null,
       "grid_template_rows": null,
       "height": null,
       "justify_content": null,
       "justify_items": null,
       "left": null,
       "margin": null,
       "max_height": null,
       "max_width": null,
       "min_height": null,
       "min_width": null,
       "object_fit": null,
       "object_position": null,
       "order": null,
       "overflow": null,
       "padding": null,
       "right": null,
       "top": null,
       "visibility": null,
       "width": null
      }
     },
     "b565e6dc7d834e90be27c3792f401e32": {
      "model_module": "@jupyter-widgets/controls",
      "model_module_version": "2.0.0",
      "model_name": "HTMLModel",
      "state": {
       "_dom_classes": [],
       "_model_module": "@jupyter-widgets/controls",
       "_model_module_version": "2.0.0",
       "_model_name": "HTMLModel",
       "_view_count": null,
       "_view_module": "@jupyter-widgets/controls",
       "_view_module_version": "2.0.0",
       "_view_name": "HTMLView",
       "description": "",
       "description_allow_html": false,
       "layout": "IPY_MODEL_43e7b7e86cc24d09a0f699c136d7b809",
       "placeholder": "​",
       "style": "IPY_MODEL_440539e356c942bd8550473ba4120773",
       "tabbable": null,
       "tooltip": null,
       "value": "MonkhorstPack.ndarray: 100%"
      }
     }
    },
    "version_major": 2,
    "version_minor": 0
   }
  }
 },
 "nbformat": 4,
 "nbformat_minor": 4
}
